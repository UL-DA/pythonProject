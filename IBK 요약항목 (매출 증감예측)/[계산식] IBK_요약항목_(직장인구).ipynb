{
 "cells": [
  {
   "cell_type": "code",
   "execution_count": 1,
   "id": "3c6025de-e027-4a12-b23e-324d9f36554f",
   "metadata": {},
   "outputs": [],
   "source": [
    "import psycopg2\n",
    "import numpy as np\n",
    "import pandas as pd"
   ]
  },
  {
   "cell_type": "code",
   "execution_count": null,
   "id": "c71d9775-4f8f-457b-8b4f-569313ffbfb2",
   "metadata": {},
   "outputs": [],
   "source": [
    "df_xy = pd.read_csv('c:/oasis/KT_data/dp_frc_bldg_basexy_m_sum_202205.csv',sep='|')"
   ]
  },
  {
   "cell_type": "code",
   "execution_count": 2,
   "id": "03737da7-81c2-4e7e-836b-6f2c3f3764d2",
   "metadata": {},
   "outputs": [],
   "source": [
    "# DB Connect\n",
    "conn = psycopg2.connect(\n",
    "    host='redshift-cluster-1.ctvbwnnvbdkl.ap-northeast-2.redshift.amazonaws.com',\n",
    "    port=5439,\n",
    "    dbname='dev',\n",
    "    user='awsuser',\n",
    "    password='cremaoAdmin1234qwer!!'\n",
    ")\n",
    "cursor = conn.cursor()"
   ]
  },
  {
   "cell_type": "code",
   "execution_count": null,
   "id": "0a1652d1-b50b-4877-9572-78cc071eebbc",
   "metadata": {},
   "outputs": [],
   "source": [
    "query = 'select wpop,w_male,w_female,w_pop_10,w_pop_20,w_pop_30,w_pop_40,w_pop_50,w_pop_60o,w_pop_10_m,w_pop_20_m,w_pop_30_m,w_pop_40_m,w_pop_50_m,w_pop_60o_m,w_pop_10_f,w_pop_20_f,w_pop_30_f,w_pop_40_f,w_pop_50_f,w_pop_60o_f from m1.kt_bldg_xy_info'\n",
    "cursor.execute(query)\n",
    "wpop = cursor.fetchall()\n",
    "wpop.to_csv('./m1.kt_bldg_xy_info_wpop.csv', index=False, encoding='utf-8-sig')"
   ]
  }
 ],
 "metadata": {
  "kernelspec": {
   "display_name": "oasis",
   "language": "python",
   "name": "oasis"
  },
  "language_info": {
   "codemirror_mode": {
    "name": "ipython",
    "version": 3
   },
   "file_extension": ".py",
   "mimetype": "text/x-python",
   "name": "python",
   "nbconvert_exporter": "python",
   "pygments_lexer": "ipython3",
   "version": "3.8.13"
  }
 },
 "nbformat": 4,
 "nbformat_minor": 5
}
