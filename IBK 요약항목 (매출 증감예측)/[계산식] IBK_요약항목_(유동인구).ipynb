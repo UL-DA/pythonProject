{
 "cells": [
  {
   "cell_type": "markdown",
   "id": "aff4e88b-388f-441f-9966-e1dfc40b85ad",
   "metadata": {},
   "source": [
    "### DB DATA to DataFrame"
   ]
  },
  {
   "cell_type": "code",
   "execution_count": 1,
   "id": "3c6025de-e027-4a12-b23e-324d9f36554f",
   "metadata": {},
   "outputs": [],
   "source": [
    "import psycopg2\n",
    "import numpy as np\n",
    "import pandas as pd"
   ]
  },
  {
   "cell_type": "code",
   "execution_count": 2,
   "id": "03737da7-81c2-4e7e-836b-6f2c3f3764d2",
   "metadata": {},
   "outputs": [],
   "source": [
    "# DB Connect\n",
    "conn = psycopg2.connect(\n",
    "    host='redshift-cluster-1.ctvbwnnvbdkl.ap-northeast-2.redshift.amazonaws.com',\n",
    "    port=5439,\n",
    "    dbname='dev',\n",
    "    user='awsuser',\n",
    "    password='cremaoAdmin1234qwer!!'\n",
    ")\n",
    "cursor = conn.cursor()"
   ]
  },
  {
   "cell_type": "code",
   "execution_count": 3,
   "id": "73ef94a8-7175-464e-be75-547c83ca816c",
   "metadata": {},
   "outputs": [],
   "source": [
    "# get data from DB\n",
    "query = 'select f_tot,f_m,f_f,f_time_0005,f_time_0610,f_time_1113,f_time_1417,f_time_1820,f_time_2123,f_mon_avg,f_tue_avg,f_wed_avg,f_thu_avg,f_fri_avg,f_sat_avg,f_sun_avg,f_age_0019,f_age_2029,f_age_3039,f_age_4049,f_age_5059,f_age_6069,f_age_7000 from m1.kt_bldg_xy_info'\n",
    "cursor.execute(query)\n",
    "df_f_tot = cursor.fetchall()"
   ]
  },
  {
   "cell_type": "code",
   "execution_count": null,
   "id": "2a2af6d9-07d0-4bd6-bedb-3cbec8ca8630",
   "metadata": {
    "tags": []
   },
   "outputs": [],
   "source": [
    "# data to dataframe\n",
    "f_tot = pd.DataFrame()\n",
    "\n",
    "for i in range(len(df_f_tot)):\n",
    "    df = pd.DataFrame(df_f_tot[i]).T\n",
    "    f_tot = f_tot.append(df)\n",
    "\n",
    "# 컬럼명 변경\n",
    "f_tot.columns = ['f_tot','f_m','f_f','f_time_0005','f_time_0610','f_time_1113','f_time_1417','f_time_1820','f_time_2123','f_mon_avg','f_tue_avg','f_wed_avg'\n",
    "                 ,'f_thu_avg','f_fri_avg','f_sat_avg','f_sun_avg','f_age_0019','f_age_2029','f_age_3039','f_age_4049','f_age_5059','f_age_6069','f_age_7000']"
   ]
  },
  {
   "cell_type": "code",
   "execution_count": null,
   "id": "750d683c-0f3c-430f-87b8-c1adc34875e9",
   "metadata": {},
   "outputs": [],
   "source": [
    "# save to csv \n",
    "f_tot.to_csv('./m1.kt_bldg_xy_info (f_tot).csv', index=False, encoding='utf-8-sig')"
   ]
  }
 ],
 "metadata": {
  "kernelspec": {
   "display_name": "oasis",
   "language": "python",
   "name": "oasis"
  },
  "language_info": {
   "codemirror_mode": {
    "name": "ipython",
    "version": 3
   },
   "file_extension": ".py",
   "mimetype": "text/x-python",
   "name": "python",
   "nbconvert_exporter": "python",
   "pygments_lexer": "ipython3",
   "version": "3.8.13"
  }
 },
 "nbformat": 4,
 "nbformat_minor": 5
}
