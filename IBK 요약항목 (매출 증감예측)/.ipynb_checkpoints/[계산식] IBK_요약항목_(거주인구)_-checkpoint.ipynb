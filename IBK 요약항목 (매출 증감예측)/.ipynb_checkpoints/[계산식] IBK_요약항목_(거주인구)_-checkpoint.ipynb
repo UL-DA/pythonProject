{
 "cells": [
  {
   "cell_type": "code",
   "execution_count": 2,
   "id": "3c6025de-e027-4a12-b23e-324d9f36554f",
   "metadata": {},
   "outputs": [],
   "source": [
    "import psycopg2\n",
    "import numpy as np\n",
    "import pandas as pd"
   ]
  },
  {
   "cell_type": "code",
   "execution_count": 2,
   "id": "c71d9775-4f8f-457b-8b4f-569313ffbfb2",
   "metadata": {},
   "outputs": [],
   "source": [
    "df_xy = pd.read_csv('c:/oasis/KT_data/dp_frc_bldg_basexy_m_sum_202205.csv',sep='|')"
   ]
  },
  {
   "cell_type": "code",
   "execution_count": 3,
   "id": "03737da7-81c2-4e7e-836b-6f2c3f3764d2",
   "metadata": {},
   "outputs": [],
   "source": [
    "# DB Connect\n",
    "conn = psycopg2.connect(\n",
    "    host='redshift-cluster-1.ctvbwnnvbdkl.ap-northeast-2.redshift.amazonaws.com',\n",
    "    port=5439,\n",
    "    dbname='dev',\n",
    "    user='awsuser',\n",
    "    password='cremaoAdmin1234qwer!!'\n",
    ")\n",
    "cursor = conn.cursor()"
   ]
  },
  {
   "cell_type": "code",
   "execution_count": null,
   "id": "fbad55c6-1047-45d6-971c-a2716c213190",
   "metadata": {},
   "outputs": [],
   "source": [
    "query = 'select pop,pop_00,pop_10,pop_20,pop_30,pop_40,pop_50,pop_60,pop_70,pop_80,pop_90,pop_m,pop_m_10_under,pop_m_10,pop_m_20,pop_m_30,pop_m_40,pop_m_50,pop_m_60,pop_m_70,pop_m_80,pop_m_90_over,pop_w,pop_w_10_under,pop_w_10,pop_w_20,pop_w_30,pop_w_40,pop_w_50,pop_w_60,pop_w_70,pop_w_80,pop_w_90_over from m1.kt_bldg_xy_info'\n",
    "df_pop = cursor.execute(query)\n",
    "df_pop.to_csv('./m1.kt_bldg_xy_info_pop.csv', index=False, encoding='utf-8-sig')"
   ]
  },
  {
   "cell_type": "code",
   "execution_count": null,
   "id": "cfcd66b7-1ce9-4225-aa58-d9cd91ee7a77",
   "metadata": {},
   "outputs": [],
   "source": [
    "df_pop"
   ]
  }
 ],
 "metadata": {
  "kernelspec": {
   "display_name": "oasis",
   "language": "python",
   "name": "oasis"
  },
  "language_info": {
   "codemirror_mode": {
    "name": "ipython",
    "version": 3
   },
   "file_extension": ".py",
   "mimetype": "text/x-python",
   "name": "python",
   "nbconvert_exporter": "python",
   "pygments_lexer": "ipython3",
   "version": "3.8.13"
  }
 },
 "nbformat": 4,
 "nbformat_minor": 5
}
