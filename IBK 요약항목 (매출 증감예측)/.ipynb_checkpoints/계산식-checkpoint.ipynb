{
 "cells": [
  {
   "cell_type": "code",
   "execution_count": 56,
   "id": "af3c84f3-3ba8-4bef-a388-17cc23afb649",
   "metadata": {},
   "outputs": [],
   "source": [
    "import psycopg2\n",
    "import numpy as np\n",
    "import pandas as pd\n",
    "\n",
    "# float 자리수 설정\n",
    "pd.options.display.float_format = '{:.0f}'.format"
   ]
  },
  {
   "cell_type": "code",
   "execution_count": 2,
   "id": "e4226ec6-eac3-4c7d-9ed5-af1f716a162a",
   "metadata": {},
   "outputs": [],
   "source": [
    "# DB Connect\n",
    "conn = psycopg2.connect(\n",
    "    host='redshift-cluster-1.ctvbwnnvbdkl.ap-northeast-2.redshift.amazonaws.com',\n",
    "    port=5439,\n",
    "    dbname='dev',\n",
    "    user='awsuser',\n",
    "    password='cremaoAdmin1234qwer!!'\n",
    ")\n",
    "cursor = conn.cursor()"
   ]
  },
  {
   "cell_type": "markdown",
   "id": "eb32e07b-c8db-4257-874c-4ec53364c32e",
   "metadata": {
    "jp-MarkdownHeadingCollapsed": true,
    "tags": []
   },
   "source": [
    "### 1. 연별 합계 sum"
   ]
  },
  {
   "cell_type": "code",
   "execution_count": 52,
   "id": "de30f35f-88f7-41e0-9747-2fa8c36b969c",
   "metadata": {},
   "outputs": [],
   "source": [
    "# 유동인구\n",
    "# 2020\n",
    "query = 'select sum(f_tot) from m1.kt_bldg_xy_info where base_ym between 202001 and 202012' # 쿼리문\n",
    "cursor.execute(query) # 실행\n",
    "f_tot_2020 = cursor.fetchall() # 출력\n",
    "f_tot_2020 = f_tot_2020[0][0] # 값 꺼내기\n",
    "\n",
    "# 2021\n",
    "query = 'select sum(f_tot) from m1.kt_bldg_xy_info where base_ym between 202101 and 202112'\n",
    "cursor.execute(query)\n",
    "f_tot_2021 = cursor.fetchall()\n",
    "f_tot_2021 = f_tot_2021[0][0]\n",
    "\n",
    "# 2022\n",
    "query = 'select sum(f_tot) from m1.kt_bldg_xy_info where base_ym between 202201 and 202212'\n",
    "cursor.execute(query)\n",
    "f_tot_2022 = cursor.fetchall()\n",
    "f_tot_2022 = f_tot_2022[0][0]"
   ]
  },
  {
   "cell_type": "code",
   "execution_count": 53,
   "id": "9000f840-2b36-4db6-9780-4443696331a7",
   "metadata": {},
   "outputs": [],
   "source": [
    "# 거주인구\n",
    "# 2020\n",
    "query = 'select sum(pop) from m1.kt_bldg_xy_info where base_ym between 202001 and 202012'\n",
    "cursor.execute(query)\n",
    "pop_2020 = cursor.fetchall()\n",
    "pop_2020 = pop_2020[0][0]\n",
    "\n",
    "# 2021\n",
    "query = 'select sum(pop) from m1.kt_bldg_xy_info where base_ym between 202101 and 202112'\n",
    "cursor.execute(query)\n",
    "pop_2021 = cursor.fetchall()\n",
    "pop_2021 = pop_2021[0][0]\n",
    "\n",
    "\n",
    "# 2022\n",
    "query = 'select sum(pop) from m1.kt_bldg_xy_info where base_ym between 202201 and 202212'\n",
    "cursor.execute(query)\n",
    "pop_2022 = cursor.fetchall()\n",
    "pop_2022 = pop_2022[0][0]"
   ]
  },
  {
   "cell_type": "code",
   "execution_count": 54,
   "id": "7d290bef-d86d-49f0-a121-91632ff62dbf",
   "metadata": {},
   "outputs": [],
   "source": [
    "# 직장인구\n",
    "# 2020\n",
    "query = 'select sum(wpop) from m1.kt_bldg_xy_info where base_ym between 202001 and 202012'\n",
    "cursor.execute(query)\n",
    "wpop_2020 = cursor.fetchall()\n",
    "wpop_2020 = wpop_2020[0][0]\n",
    "\n",
    "# 2021\n",
    "query = 'select sum(wpop) from m1.kt_bldg_xy_info where base_ym between 202101 and 202112'\n",
    "cursor.execute(query)\n",
    "wpop_2021 = cursor.fetchall()\n",
    "wpop_2021 = wpop_2021[0][0]\n",
    "\n",
    "# 2022\n",
    "query = 'select sum(wpop) from m1.kt_bldg_xy_info where base_ym between 202201 and 202212'\n",
    "cursor.execute(query)\n",
    "wpop_2022 = cursor.fetchall()\n",
    "wpop_2022 = wpop_2022[0][0]"
   ]
  },
  {
   "cell_type": "markdown",
   "id": "c268a48f-41a9-4df2-9799-3ad2308234d2",
   "metadata": {},
   "source": [
    "### 월별 합계 (sum)"
   ]
  },
  {
   "cell_type": "code",
   "execution_count": 34,
   "id": "12c8558b-df54-43de-afdb-addd0c44f73d",
   "metadata": {
    "tags": []
   },
   "outputs": [],
   "source": [
    "# 월별 합(sum)\n",
    "def getData(col, df):\n",
    "    year_list  = pd.date_range(start='2020', end='2022', freq='YS').strftime('%Y')\n",
    "    month_list = pd.date_range(start='2021.01', end='2021.12', freq='MS').strftime('%m')\n",
    "\n",
    "    for year in year_list:\n",
    "\n",
    "        for month in month_list:\n",
    "\n",
    "            query = f'select sum({col}) from m1.kt_bldg_xy_info where base_ym = {year}{month}'\n",
    "            cursor.execute(query)\n",
    "            data = cursor.fetchall()\n",
    "            df_sub = pd.DataFrame([data[0][0]], columns=[year+month]).T\n",
    "            df = df.append(df_sub)\n",
    "\n",
    "    return df\n",
    "\n",
    "# 함수 실행\n",
    "f_tot = pd.DataFrame(getData('f_tot', f_tot)) # 유동인구\n",
    "pop = pd.DataFrame(getData('pop',pop)) # 거주인구\n",
    "wpop = pd.DataFrame(getData('wpop',wpop)) # 직장인구"
   ]
  },
  {
   "cell_type": "code",
   "execution_count": 57,
   "id": "baf58919-c21e-4e92-8782-c702ca32fdbf",
   "metadata": {},
   "outputs": [
    {
     "data": {
      "text/plain": [
       "0   4170826475981\n",
       "Name: 202001, dtype: float64"
      ]
     },
     "execution_count": 57,
     "metadata": {},
     "output_type": "execute_result"
    }
   ],
   "source": [
    "f_tot.loc['202001']"
   ]
  },
  {
   "cell_type": "markdown",
   "id": "73e4e716-acf6-40e2-8938-5dcf108d1473",
   "metadata": {},
   "source": [
    "### 2. 전년대비 증감율"
   ]
  },
  {
   "cell_type": "code",
   "execution_count": null,
   "id": "b87def0c-2a49-4108-ad49-85d381ab3d4d",
   "metadata": {},
   "outputs": [],
   "source": [
    "# 결과 데이터레임 생성\n",
    "DF = f_tot['f_tot']"
   ]
  },
  {
   "cell_type": "code",
   "execution_count": 58,
   "id": "12450197-2779-4539-bb09-76be8d53cf7d",
   "metadata": {},
   "outputs": [],
   "source": [
    "# 전년 대비 증감율 \n",
    "def perYearIncrease(df_prior, df_current, df, col): # df_prior=전기, df_current=당기, df=전기 데이터프레임, col=추가할 컬럼명\n",
    "    if (df_prior/df_current)*100 >= 120: # 120% 이상: 1\n",
    "        df[col] = 1\n",
    "    elif (df_prior/df_current)*100 < 120: # 120% 미만: 0\n",
    "        df[col] = 0"
   ]
  },
  {
   "cell_type": "code",
   "execution_count": null,
   "id": "b424fb3e-51cd-4a59-ab1f-a483c9b10766",
   "metadata": {},
   "outputs": [],
   "source": [
    "# 전년 대비 증감율 \n",
    "def perYearIncrease(df_prior, df_current, df, col): # df_prior=전기, df_current=당기, df=전기 데이터프레임, col=추가할 컬럼명\n",
    "    \n",
    "    df[col] = 0\n",
    "    for i in range(len(df)):\n",
    "\n",
    "        if (df_prior/df_current)*100 >= 120: # 120% 이상: 1\n",
    "            df[col][i] = 1\n",
    "        else: # 120% 미만: 0\n",
    "            df[col][i] = 0"
   ]
  },
  {
   "cell_type": "code",
   "execution_count": 66,
   "id": "bdb0d728-a239-41a6-a431-148923abbb84",
   "metadata": {},
   "outputs": [
    {
     "data": {
      "text/plain": [
       "92.54235668331245"
      ]
     },
     "execution_count": 66,
     "metadata": {},
     "output_type": "execute_result"
    }
   ],
   "source": [
    "(f_tot_2020/f_tot_2021)*100"
   ]
  },
  {
   "cell_type": "code",
   "execution_count": 63,
   "id": "6497b6ae-51c5-4412-86d7-a651ddfc8ce4",
   "metadata": {},
   "outputs": [],
   "source": [
    "# 실행\n",
    "# 유동인구\n",
    "perYearIncrease(f_tot_2020, f_tot_2021, DF, 'f_tot') # 2021년도 증감율\n",
    "perYearIncrease(f_tot_2021, f_tot_2022, DF, 'f_tot') # 2022년도 증감율\n",
    "\n",
    "# 거주인구\n",
    "perYearIncrease(pop_2020, pop_2021, DF, 'pop') # 2021년도 증감율\n",
    "perYearIncrease(pop_2021, pop_2022, DF, 'pop') # 2022년도 증감율\n",
    "\n",
    "# 직장인구\n",
    "perYearIncrease(wpop_2020, wpop_2021, DF, 'wpop') # 2021년도 증감율\n",
    "perYearIncrease(wpop_2021, wpop_2022, DF, 'wpop') # 2022년도 증감율"
   ]
  },
  {
   "cell_type": "code",
   "execution_count": 11,
   "id": "72b21275-1e86-4bd0-9159-de8dd692602a",
   "metadata": {},
   "outputs": [
    {
     "data": {
      "text/html": [
       "<div>\n",
       "<style scoped>\n",
       "    .dataframe tbody tr th:only-of-type {\n",
       "        vertical-align: middle;\n",
       "    }\n",
       "\n",
       "    .dataframe tbody tr th {\n",
       "        vertical-align: top;\n",
       "    }\n",
       "\n",
       "    .dataframe thead th {\n",
       "        text-align: right;\n",
       "    }\n",
       "</style>\n",
       "<table border=\"1\" class=\"dataframe\">\n",
       "  <thead>\n",
       "    <tr style=\"text-align: right;\">\n",
       "      <th></th>\n",
       "      <th>f_tot</th>\n",
       "    </tr>\n",
       "  </thead>\n",
       "  <tbody>\n",
       "  </tbody>\n",
       "</table>\n",
       "</div>"
      ],
      "text/plain": [
       "Empty DataFrame\n",
       "Columns: [f_tot]\n",
       "Index: []"
      ]
     },
     "execution_count": 11,
     "metadata": {},
     "output_type": "execute_result"
    }
   ],
   "source": [
    "# 비율 파악 (0 대비 1의 비율)\n",
    "# 유동인구\n",
    "len(df[df['f_tot']==1]) / len(df[df['f_tot']==0])*100\n",
    "\n",
    "# 거주인구\n",
    "len(df[df['pop']==1]) / len(df[df['pop']==0])*100\n",
    "\n",
    "# 직장인구\n",
    "len(df[df['wpop']==1]) / len(df[df['wpop']==0])*100"
   ]
  }
 ],
 "metadata": {
  "kernelspec": {
   "display_name": "oasis",
   "language": "python",
   "name": "oasis"
  },
  "language_info": {
   "codemirror_mode": {
    "name": "ipython",
    "version": 3
   },
   "file_extension": ".py",
   "mimetype": "text/x-python",
   "name": "python",
   "nbconvert_exporter": "python",
   "pygments_lexer": "ipython3",
   "version": "3.8.13"
  }
 },
 "nbformat": 4,
 "nbformat_minor": 5
}
