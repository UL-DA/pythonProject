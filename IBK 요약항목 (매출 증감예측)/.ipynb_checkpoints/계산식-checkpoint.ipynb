{
 "cells": [
  {
   "cell_type": "code",
   "execution_count": 11,
   "id": "af3c84f3-3ba8-4bef-a388-17cc23afb649",
   "metadata": {},
   "outputs": [],
   "source": [
    "import psycopg2\n",
    "import numpy as np\n",
    "import pandas as pd\n",
    "\n",
    "# 경고 처리\n",
    "import warnings\n",
    "warnings.filterwarnings('ignore')\n",
    "\n",
    "# float 자리수 설정\n",
    "pd.options.display.float_format = '{:.2f}'.format\n",
    "\n",
    "# DB Connect\n",
    "conn = psycopg2.connect(\n",
    "    host='redshift-cluster-1.ctvbwnnvbdkl.ap-northeast-2.redshift.amazonaws.com',\n",
    "    port=5439,\n",
    "    dbname='dev',\n",
    "    user='awsuser',\n",
    "    password='cremaoAdmin1234qwer!!'\n",
    ")\n",
    "cursor = conn.cursor()"
   ]
  },
  {
   "cell_type": "markdown",
   "id": "eb32e07b-c8db-4257-874c-4ec53364c32e",
   "metadata": {
    "jp-MarkdownHeadingCollapsed": true,
    "tags": []
   },
   "source": [
    "### 1. 연별 합계 sum"
   ]
  },
  {
   "cell_type": "code",
   "execution_count": 52,
   "id": "de30f35f-88f7-41e0-9747-2fa8c36b969c",
   "metadata": {},
   "outputs": [],
   "source": [
    "# 유동인구\n",
    "# 2020\n",
    "query = 'select sum(f_tot) from m1.kt_bldg_xy_info where base_ym between 202001 and 202012' # 쿼리문\n",
    "cursor.execute(query) # 실행\n",
    "f_tot_2020 = cursor.fetchall() # 출력\n",
    "f_tot_2020 = f_tot_2020[0][0] # 값 꺼내기\n",
    "\n",
    "# 2021\n",
    "query = 'select sum(f_tot) from m1.kt_bldg_xy_info where base_ym between 202101 and 202112'\n",
    "cursor.execute(query)\n",
    "f_tot_2021 = cursor.fetchall()\n",
    "f_tot_2021 = f_tot_2021[0][0]\n",
    "\n",
    "# 2022\n",
    "query = 'select sum(f_tot) from m1.kt_bldg_xy_info where base_ym between 202201 and 202212'\n",
    "cursor.execute(query)\n",
    "f_tot_2022 = cursor.fetchall()\n",
    "f_tot_2022 = f_tot_2022[0][0]"
   ]
  },
  {
   "cell_type": "code",
   "execution_count": 53,
   "id": "9000f840-2b36-4db6-9780-4443696331a7",
   "metadata": {},
   "outputs": [],
   "source": [
    "# 거주인구\n",
    "# 2020\n",
    "query = 'select sum(pop) from m1.kt_bldg_xy_info where base_ym between 202001 and 202012'\n",
    "cursor.execute(query)\n",
    "pop_2020 = cursor.fetchall()\n",
    "pop_2020 = pop_2020[0][0]\n",
    "\n",
    "# 2021\n",
    "query = 'select sum(pop) from m1.kt_bldg_xy_info where base_ym between 202101 and 202112'\n",
    "cursor.execute(query)\n",
    "pop_2021 = cursor.fetchall()\n",
    "pop_2021 = pop_2021[0][0]\n",
    "\n",
    "\n",
    "# 2022\n",
    "query = 'select sum(pop) from m1.kt_bldg_xy_info where base_ym between 202201 and 202212'\n",
    "cursor.execute(query)\n",
    "pop_2022 = cursor.fetchall()\n",
    "pop_2022 = pop_2022[0][0]"
   ]
  },
  {
   "cell_type": "code",
   "execution_count": 54,
   "id": "7d290bef-d86d-49f0-a121-91632ff62dbf",
   "metadata": {},
   "outputs": [],
   "source": [
    "# 직장인구\n",
    "# 2020\n",
    "query = 'select sum(wpop) from m1.kt_bldg_xy_info where base_ym between 202001 and 202012'\n",
    "cursor.execute(query)\n",
    "wpop_2020 = cursor.fetchall()\n",
    "wpop_2020 = wpop_2020[0][0]\n",
    "\n",
    "# 2021\n",
    "query = 'select sum(wpop) from m1.kt_bldg_xy_info where base_ym between 202101 and 202112'\n",
    "cursor.execute(query)\n",
    "wpop_2021 = cursor.fetchall()\n",
    "wpop_2021 = wpop_2021[0][0]\n",
    "\n",
    "# 2022\n",
    "query = 'select sum(wpop) from m1.kt_bldg_xy_info where base_ym between 202201 and 202212'\n",
    "cursor.execute(query)\n",
    "wpop_2022 = cursor.fetchall()\n",
    "wpop_2022 = wpop_2022[0][0]"
   ]
  },
  {
   "cell_type": "markdown",
   "id": "c268a48f-41a9-4df2-9799-3ad2308234d2",
   "metadata": {
    "jp-MarkdownHeadingCollapsed": true,
    "tags": []
   },
   "source": [
    "### 1. 월별 합계 (sum)"
   ]
  },
  {
   "cell_type": "code",
   "execution_count": 2,
   "id": "12c8558b-df54-43de-afdb-addd0c44f73d",
   "metadata": {
    "tags": []
   },
   "outputs": [],
   "source": [
    "# 월별 합(sum)\n",
    "def getData(col, df):\n",
    "    \n",
    "    year_list  = pd.date_range(start='2020', end='2022', freq='YS').strftime('%Y')\n",
    "    month_list = pd.date_range(start='2021.01', end='2021.12', freq='MS').strftime('%m')\n",
    "\n",
    "    for year in year_list:\n",
    "\n",
    "        for month in month_list:\n",
    "\n",
    "            query = f'select sum({col}) from m1.kt_bldg_xy_info where base_ym = {year}{month}'\n",
    "            cursor.execute(query)\n",
    "            data = cursor.fetchall()\n",
    "            df_sub = pd.DataFrame([data[0][0]], columns=[year+month]).T\n",
    "            df = df.append(df_sub)\n",
    "\n",
    "    return df\n",
    "\n",
    "# base 데이터프레임 생성\n",
    "pop = pd.DataFrame() # 거주인구\n",
    "wpop = pd.DataFrame() # 직장인구\n",
    "f_tot = pd.DataFrame() # 유동인구\n",
    "\n",
    "# 월별 합 데이터프레임화\n",
    "pop = getData('pop',pop) # 거주인구\n",
    "wpop = getData('wpop',wpop) # 직장인구\n",
    "f_tot = getData('f_tot', f_tot) # 유동인구\n",
    "\n",
    "# 직장인구만 Nonetype으로 들어가서 따로 NaN 처리\n",
    "wpop[wpop[0].isnull()] = np.nan"
   ]
  },
  {
   "cell_type": "code",
   "execution_count": 3,
   "id": "2a18e906-7554-407b-8896-363798f85437",
   "metadata": {},
   "outputs": [
    {
     "data": {
      "text/html": [
       "<div>\n",
       "<style scoped>\n",
       "    .dataframe tbody tr th:only-of-type {\n",
       "        vertical-align: middle;\n",
       "    }\n",
       "\n",
       "    .dataframe tbody tr th {\n",
       "        vertical-align: top;\n",
       "    }\n",
       "\n",
       "    .dataframe thead th {\n",
       "        text-align: right;\n",
       "    }\n",
       "</style>\n",
       "<table border=\"1\" class=\"dataframe\">\n",
       "  <thead>\n",
       "    <tr style=\"text-align: right;\">\n",
       "      <th></th>\n",
       "      <th>0</th>\n",
       "    </tr>\n",
       "  </thead>\n",
       "  <tbody>\n",
       "    <tr>\n",
       "      <th>count</th>\n",
       "      <td>32</td>\n",
       "    </tr>\n",
       "    <tr>\n",
       "      <th>mean</th>\n",
       "      <td>4382727171089</td>\n",
       "    </tr>\n",
       "    <tr>\n",
       "      <th>std</th>\n",
       "      <td>367832846661</td>\n",
       "    </tr>\n",
       "    <tr>\n",
       "      <th>min</th>\n",
       "      <td>3618135717697</td>\n",
       "    </tr>\n",
       "    <tr>\n",
       "      <th>25%</th>\n",
       "      <td>4199154591963</td>\n",
       "    </tr>\n",
       "    <tr>\n",
       "      <th>50%</th>\n",
       "      <td>4498697527770</td>\n",
       "    </tr>\n",
       "    <tr>\n",
       "      <th>75%</th>\n",
       "      <td>4633358084166</td>\n",
       "    </tr>\n",
       "    <tr>\n",
       "      <th>max</th>\n",
       "      <td>4949080181901</td>\n",
       "    </tr>\n",
       "  </tbody>\n",
       "</table>\n",
       "</div>"
      ],
      "text/plain": [
       "                  0\n",
       "count            32\n",
       "mean  4382727171089\n",
       "std    367832846661\n",
       "min   3618135717697\n",
       "25%   4199154591963\n",
       "50%   4498697527770\n",
       "75%   4633358084166\n",
       "max   4949080181901"
      ]
     },
     "execution_count": 3,
     "metadata": {},
     "output_type": "execute_result"
    }
   ],
   "source": [
    "# 데이터 분포 확인\n",
    "f_tot.describe()"
   ]
  },
  {
   "cell_type": "markdown",
   "id": "ade0e097-8ef1-4995-9def-5f1ce5295b0a",
   "metadata": {},
   "source": [
    "### 1. pnu별 연별합"
   ]
  },
  {
   "cell_type": "code",
   "execution_count": 23,
   "id": "a626fae7-b9b6-474c-b6f3-b7f6b8504118",
   "metadata": {},
   "outputs": [],
   "source": [
    "# 월별 합(sum)\n",
    "def getData(year, col, df):\n",
    "    \n",
    "    query = f'''select substring(bd_mgt_sn, 19), sum({col})\n",
    "                from   m1.kt_bldg_xy_info \n",
    "                where  base_ym between {year}01 and {year}12\n",
    "                group  by substring(bd_mgt_sn, 19)'''\n",
    "    cursor.execute(query)\n",
    "    data = cursor.fetchall()\n",
    "    df = pd.DataFrame(data)\n",
    "\n",
    "    return df\n",
    "\n",
    "# base 데이터프레임 생성\n",
    "pop = pd.DataFrame() # 거주인구\n",
    "# wpop = pd.DataFrame() # 직장인구\n",
    "# f_tot = pd.DataFrame() # 유동인구\n",
    "\n",
    "# 월별 합 데이터프레임화\n",
    "pop = getData('2020','pop',pop) # 거주인구\n",
    "# wpop = getData('wpop',wpop) # 직장인구\n",
    "# f_tot = getData('f_tot', f_tot) # 유동인구\n",
    "\n",
    "# 직장인구만 Nonetype으로 들어가서 따로 NaN 처리\n",
    "# wpop[wpop[0].isnull()] = np.nan\n",
    "\n",
    "# 컬럼명 설정\n",
    "pop.columns = ['PNU','SUM_2020']\n",
    "# wpop.columns = ['PNU','SUM']\n",
    "# f_tot.columns = ['PNU','SUM']"
   ]
  },
  {
   "cell_type": "code",
   "execution_count": 24,
   "id": "65cc7508-ccc2-48b1-a5dd-db1ca4fefab4",
   "metadata": {},
   "outputs": [
    {
     "data": {
      "text/html": [
       "<div>\n",
       "<style scoped>\n",
       "    .dataframe tbody tr th:only-of-type {\n",
       "        vertical-align: middle;\n",
       "    }\n",
       "\n",
       "    .dataframe tbody tr th {\n",
       "        vertical-align: top;\n",
       "    }\n",
       "\n",
       "    .dataframe thead th {\n",
       "        text-align: right;\n",
       "    }\n",
       "</style>\n",
       "<table border=\"1\" class=\"dataframe\">\n",
       "  <thead>\n",
       "    <tr style=\"text-align: right;\">\n",
       "      <th></th>\n",
       "      <th>PNU</th>\n",
       "      <th>SUM_2020</th>\n",
       "    </tr>\n",
       "  </thead>\n",
       "  <tbody>\n",
       "    <tr>\n",
       "      <th>0</th>\n",
       "      <td>0030844</td>\n",
       "      <td>452245.09</td>\n",
       "    </tr>\n",
       "    <tr>\n",
       "      <th>1</th>\n",
       "      <td>0031264</td>\n",
       "      <td>57279.61</td>\n",
       "    </tr>\n",
       "    <tr>\n",
       "      <th>2</th>\n",
       "      <td>4031181</td>\n",
       "      <td>100059.24</td>\n",
       "    </tr>\n",
       "    <tr>\n",
       "      <th>3</th>\n",
       "      <td>9031457</td>\n",
       "      <td>35712.92</td>\n",
       "    </tr>\n",
       "    <tr>\n",
       "      <th>4</th>\n",
       "      <td>0031036</td>\n",
       "      <td>554426.40</td>\n",
       "    </tr>\n",
       "    <tr>\n",
       "      <th>...</th>\n",
       "      <td>...</td>\n",
       "      <td>...</td>\n",
       "    </tr>\n",
       "    <tr>\n",
       "      <th>539869</th>\n",
       "      <td>8013960</td>\n",
       "      <td>39834.84</td>\n",
       "    </tr>\n",
       "    <tr>\n",
       "      <th>539870</th>\n",
       "      <td>4029367</td>\n",
       "      <td>82.24</td>\n",
       "    </tr>\n",
       "    <tr>\n",
       "      <th>539871</th>\n",
       "      <td>5083575</td>\n",
       "      <td>22.52</td>\n",
       "    </tr>\n",
       "    <tr>\n",
       "      <th>539872</th>\n",
       "      <td>1755670</td>\n",
       "      <td>2783.13</td>\n",
       "    </tr>\n",
       "    <tr>\n",
       "      <th>539873</th>\n",
       "      <td>7000197</td>\n",
       "      <td>24477.22</td>\n",
       "    </tr>\n",
       "  </tbody>\n",
       "</table>\n",
       "<p>539874 rows × 2 columns</p>\n",
       "</div>"
      ],
      "text/plain": [
       "            PNU  SUM_2020\n",
       "0       0030844 452245.09\n",
       "1       0031264  57279.61\n",
       "2       4031181 100059.24\n",
       "3       9031457  35712.92\n",
       "4       0031036 554426.40\n",
       "...         ...       ...\n",
       "539869  8013960  39834.84\n",
       "539870  4029367     82.24\n",
       "539871  5083575     22.52\n",
       "539872  1755670   2783.13\n",
       "539873  7000197  24477.22\n",
       "\n",
       "[539874 rows x 2 columns]"
      ]
     },
     "execution_count": 24,
     "metadata": {},
     "output_type": "execute_result"
    }
   ],
   "source": [
    "pop"
   ]
  },
  {
   "cell_type": "markdown",
   "id": "73e4e716-acf6-40e2-8938-5dcf108d1473",
   "metadata": {},
   "source": [
    "### 2. 전년대비 증감율"
   ]
  },
  {
   "cell_type": "code",
   "execution_count": 129,
   "id": "1e79f822-45e0-42fe-9546-f9f70cd05d9e",
   "metadata": {
    "tags": []
   },
   "outputs": [],
   "source": [
    "# 전년 대비 증감율 \n",
    "def perYearIncrease(col, df, num):\n",
    "    \n",
    "    # 변수 생성\n",
    "    df[col] = 0 # 비율 컬럼\n",
    "    year_list  = pd.date_range(start='2020', end='2022', freq='YS').strftime('%Y')\n",
    "    month_list = pd.date_range(start='2021.01', end='2021.12', freq='MS').strftime('%m')\n",
    "\n",
    "    # 전년 대비 값 비교\n",
    "    for month in month_list:\n",
    "\n",
    "        for i in range(len(df)):\n",
    "            \n",
    "            # 비교 날짜 값 설정\n",
    "            val_2020 = (df.loc[year_list[0]+month,0])\n",
    "            val_2021 = (df.loc[year_list[1]+month,0])\n",
    "            val_2022 = (df.loc[year_list[2]+month,0])\n",
    "\n",
    "            # 2020년 대비 2021년\n",
    "            if (round((val_2021 - val_2020)/val_2020*100,2) >= num) == True:\n",
    "                df.loc[year_list[1]+month,col] = 1\n",
    "            else:\n",
    "                df.loc[year_list[1]+month,col] = 0\n",
    "                \n",
    "            # 2021년 대비 2022년\n",
    "            if (round((val_2022 - val_2021)/val_2021*100,2) >= num) == True:\n",
    "                df.loc[year_list[2]+month,col] = 1\n",
    "            else:\n",
    "                df.loc[year_list[2]+month,col] = 0\n",
    "    return df\n",
    "\n",
    "# 실행\n",
    "pop = perYearIncrease('pop', pop, 4.3) # 거주인구 : 4.3%\n",
    "wpop = perYearIncrease('wpop', wpop, 2.9) # 직장인구 : 2.9%\n",
    "f_tot = perYearIncrease('f_tot', f_tot, 17) # 유동인구 : 17%"
   ]
  },
  {
   "cell_type": "code",
   "execution_count": 130,
   "id": "17cd3d1f-6ebe-4656-bf0e-f04b1fcb449c",
   "metadata": {},
   "outputs": [
    {
     "data": {
      "text/plain": [
       "9.09"
      ]
     },
     "execution_count": 130,
     "metadata": {},
     "output_type": "execute_result"
    }
   ],
   "source": [
    "# 비율 파악 (0 대비 1의 비율)\n",
    "# 거주인구\n",
    "round(len(pop[pop['pop']==1]) / len(pop[pop['pop']==0])*100,2)"
   ]
  },
  {
   "cell_type": "code",
   "execution_count": 131,
   "id": "64b6198c-3b2d-4cec-95cd-75282ce1b28f",
   "metadata": {},
   "outputs": [
    {
     "data": {
      "text/plain": [
       "9.09"
      ]
     },
     "execution_count": 131,
     "metadata": {},
     "output_type": "execute_result"
    }
   ],
   "source": [
    "# 직장인구\n",
    "round(len(wpop[wpop['wpop']==1]) / len(wpop[wpop['wpop']==0])*100,2)"
   ]
  },
  {
   "cell_type": "code",
   "execution_count": 132,
   "id": "bd8102a3-834e-48d1-910f-94f8e93c1452",
   "metadata": {},
   "outputs": [
    {
     "data": {
      "text/plain": [
       "12.5"
      ]
     },
     "execution_count": 132,
     "metadata": {},
     "output_type": "execute_result"
    }
   ],
   "source": [
    "# 유동인구\n",
    "round(len(f_tot[f_tot['f_tot']==1]) / len(f_tot[f_tot['f_tot']==0])*100,2)"
   ]
  },
  {
   "cell_type": "code",
   "execution_count": 133,
   "id": "4bc8a628-cbdf-4334-8315-2a15f8ef64b4",
   "metadata": {},
   "outputs": [],
   "source": [
    "# NaN 처리\n",
    "pop   = pop.drop(pop[pop[0].isnull()].index, axis=0) # 거주인구\n",
    "wpop  = wpop.drop(wpop[wpop[0].isnull()].index, axis=0) # 직장인구\n",
    "f_tot = f_tot.drop(f_tot[f_tot[0].isnull()].index, axis=0) # 유동인구\n",
    "\n",
    "# 2020 데이터 삭제 (계산식에만 쓰임)\n",
    "pop = pop.drop(pop[pop.index.str.contains('2020')].index, axis=0) # 거주인구\n",
    "wpop  = wpop.drop(wpop[wpop.index.str.contains('2020')].index, axis=0) # 직장인구\n",
    "f_tot = f_tot.drop(f_tot[f_tot.index.str.contains('2020')].index, axis=0) # 유동인구"
   ]
  }
 ],
 "metadata": {
  "kernelspec": {
   "display_name": "oasis",
   "language": "python",
   "name": "oasis"
  },
  "language_info": {
   "codemirror_mode": {
    "name": "ipython",
    "version": 3
   },
   "file_extension": ".py",
   "mimetype": "text/x-python",
   "name": "python",
   "nbconvert_exporter": "python",
   "pygments_lexer": "ipython3",
   "version": "3.8.13"
  }
 },
 "nbformat": 4,
 "nbformat_minor": 5
}
