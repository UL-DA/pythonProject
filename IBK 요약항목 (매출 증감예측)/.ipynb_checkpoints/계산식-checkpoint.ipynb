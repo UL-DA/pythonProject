{
 "cells": [
  {
   "cell_type": "code",
   "execution_count": 1,
   "id": "af3c84f3-3ba8-4bef-a388-17cc23afb649",
   "metadata": {},
   "outputs": [],
   "source": [
    "import psycopg2\n",
    "import numpy as np\n",
    "import pandas as pd\n",
    "\n",
    "# 경고 처리\n",
    "import warnings\n",
    "warnings.filterwarnings('ignore')\n",
    "\n",
    "# float 자리수 설정\n",
    "pd.options.display.float_format = '{:.2f}'.format\n",
    "\n",
    "# DB Connect\n",
    "conn = psycopg2.connect(\n",
    "    host='redshift-cluster-1.ctvbwnnvbdkl.ap-northeast-2.redshift.amazonaws.com',\n",
    "    port=5439,\n",
    "    dbname='dev',\n",
    "    user='awsuser',\n",
    "    password='cremaoAdmin1234qwer!!'\n",
    ")\n",
    "cursor = conn.cursor()"
   ]
  },
  {
   "cell_type": "markdown",
   "id": "eb32e07b-c8db-4257-874c-4ec53364c32e",
   "metadata": {
    "jp-MarkdownHeadingCollapsed": true,
    "tags": []
   },
   "source": [
    "### 1. 연별 합계 sum"
   ]
  },
  {
   "cell_type": "code",
   "execution_count": 52,
   "id": "de30f35f-88f7-41e0-9747-2fa8c36b969c",
   "metadata": {},
   "outputs": [],
   "source": [
    "# 유동인구\n",
    "# 2020\n",
    "query = 'select sum(f_tot) from m1.kt_bldg_xy_info where base_ym between 202001 and 202012' # 쿼리문\n",
    "cursor.execute(query) # 실행\n",
    "f_tot_2020 = cursor.fetchall() # 출력\n",
    "f_tot_2020 = f_tot_2020[0][0] # 값 꺼내기\n",
    "\n",
    "# 2021\n",
    "query = 'select sum(f_tot) from m1.kt_bldg_xy_info where base_ym between 202101 and 202112'\n",
    "cursor.execute(query)\n",
    "f_tot_2021 = cursor.fetchall()\n",
    "f_tot_2021 = f_tot_2021[0][0]\n",
    "\n",
    "# 2022\n",
    "query = 'select sum(f_tot) from m1.kt_bldg_xy_info where base_ym between 202201 and 202212'\n",
    "cursor.execute(query)\n",
    "f_tot_2022 = cursor.fetchall()\n",
    "f_tot_2022 = f_tot_2022[0][0]"
   ]
  },
  {
   "cell_type": "code",
   "execution_count": 53,
   "id": "9000f840-2b36-4db6-9780-4443696331a7",
   "metadata": {},
   "outputs": [],
   "source": [
    "# 거주인구\n",
    "# 2020\n",
    "query = 'select sum(pop) from m1.kt_bldg_xy_info where base_ym between 202001 and 202012'\n",
    "cursor.execute(query)\n",
    "pop_2020 = cursor.fetchall()\n",
    "pop_2020 = pop_2020[0][0]\n",
    "\n",
    "# 2021\n",
    "query = 'select sum(pop) from m1.kt_bldg_xy_info where base_ym between 202101 and 202112'\n",
    "cursor.execute(query)\n",
    "pop_2021 = cursor.fetchall()\n",
    "pop_2021 = pop_2021[0][0]\n",
    "\n",
    "\n",
    "# 2022\n",
    "query = 'select sum(pop) from m1.kt_bldg_xy_info where base_ym between 202201 and 202212'\n",
    "cursor.execute(query)\n",
    "pop_2022 = cursor.fetchall()\n",
    "pop_2022 = pop_2022[0][0]"
   ]
  },
  {
   "cell_type": "code",
   "execution_count": 54,
   "id": "7d290bef-d86d-49f0-a121-91632ff62dbf",
   "metadata": {},
   "outputs": [],
   "source": [
    "# 직장인구\n",
    "# 2020\n",
    "query = 'select sum(wpop) from m1.kt_bldg_xy_info where base_ym between 202001 and 202012'\n",
    "cursor.execute(query)\n",
    "wpop_2020 = cursor.fetchall()\n",
    "wpop_2020 = wpop_2020[0][0]\n",
    "\n",
    "# 2021\n",
    "query = 'select sum(wpop) from m1.kt_bldg_xy_info where base_ym between 202101 and 202112'\n",
    "cursor.execute(query)\n",
    "wpop_2021 = cursor.fetchall()\n",
    "wpop_2021 = wpop_2021[0][0]\n",
    "\n",
    "# 2022\n",
    "query = 'select sum(wpop) from m1.kt_bldg_xy_info where base_ym between 202201 and 202212'\n",
    "cursor.execute(query)\n",
    "wpop_2022 = cursor.fetchall()\n",
    "wpop_2022 = wpop_2022[0][0]"
   ]
  },
  {
   "cell_type": "markdown",
   "id": "c268a48f-41a9-4df2-9799-3ad2308234d2",
   "metadata": {
    "jp-MarkdownHeadingCollapsed": true,
    "tags": []
   },
   "source": [
    "### 1. 월별 합계 (sum)"
   ]
  },
  {
   "cell_type": "code",
   "execution_count": 2,
   "id": "12c8558b-df54-43de-afdb-addd0c44f73d",
   "metadata": {
    "tags": []
   },
   "outputs": [],
   "source": [
    "# 월별 합(sum)\n",
    "def getData(col, df):\n",
    "    \n",
    "    year_list  = pd.date_range(start='2020', end='2022', freq='YS').strftime('%Y')\n",
    "    month_list = pd.date_range(start='2021.01', end='2021.12', freq='MS').strftime('%m')\n",
    "\n",
    "    for year in year_list:\n",
    "\n",
    "        for month in month_list:\n",
    "\n",
    "            query = f'select sum({col}) from m1.kt_bldg_xy_info where base_ym = {year}{month}'\n",
    "            cursor.execute(query)\n",
    "            data = cursor.fetchall()\n",
    "            df_sub = pd.DataFrame([data[0][0]], columns=[year+month]).T\n",
    "            df = df.append(df_sub)\n",
    "\n",
    "    return df\n",
    "\n",
    "# base 데이터프레임 생성\n",
    "pop = pd.DataFrame() # 거주인구\n",
    "wpop = pd.DataFrame() # 직장인구\n",
    "f_tot = pd.DataFrame() # 유동인구\n",
    "\n",
    "# 월별 합 데이터프레임화\n",
    "pop = getData('pop',pop) # 거주인구\n",
    "wpop = getData('wpop',wpop) # 직장인구\n",
    "f_tot = getData('f_tot', f_tot) # 유동인구\n",
    "\n",
    "# 직장인구만 Nonetype으로 들어가서 따로 NaN 처리\n",
    "wpop[wpop[0].isnull()] = np.nan"
   ]
  },
  {
   "cell_type": "code",
   "execution_count": 3,
   "id": "2a18e906-7554-407b-8896-363798f85437",
   "metadata": {},
   "outputs": [
    {
     "data": {
      "text/html": [
       "<div>\n",
       "<style scoped>\n",
       "    .dataframe tbody tr th:only-of-type {\n",
       "        vertical-align: middle;\n",
       "    }\n",
       "\n",
       "    .dataframe tbody tr th {\n",
       "        vertical-align: top;\n",
       "    }\n",
       "\n",
       "    .dataframe thead th {\n",
       "        text-align: right;\n",
       "    }\n",
       "</style>\n",
       "<table border=\"1\" class=\"dataframe\">\n",
       "  <thead>\n",
       "    <tr style=\"text-align: right;\">\n",
       "      <th></th>\n",
       "      <th>0</th>\n",
       "    </tr>\n",
       "  </thead>\n",
       "  <tbody>\n",
       "    <tr>\n",
       "      <th>count</th>\n",
       "      <td>32</td>\n",
       "    </tr>\n",
       "    <tr>\n",
       "      <th>mean</th>\n",
       "      <td>4382727171089</td>\n",
       "    </tr>\n",
       "    <tr>\n",
       "      <th>std</th>\n",
       "      <td>367832846661</td>\n",
       "    </tr>\n",
       "    <tr>\n",
       "      <th>min</th>\n",
       "      <td>3618135717697</td>\n",
       "    </tr>\n",
       "    <tr>\n",
       "      <th>25%</th>\n",
       "      <td>4199154591963</td>\n",
       "    </tr>\n",
       "    <tr>\n",
       "      <th>50%</th>\n",
       "      <td>4498697527770</td>\n",
       "    </tr>\n",
       "    <tr>\n",
       "      <th>75%</th>\n",
       "      <td>4633358084166</td>\n",
       "    </tr>\n",
       "    <tr>\n",
       "      <th>max</th>\n",
       "      <td>4949080181901</td>\n",
       "    </tr>\n",
       "  </tbody>\n",
       "</table>\n",
       "</div>"
      ],
      "text/plain": [
       "                  0\n",
       "count            32\n",
       "mean  4382727171089\n",
       "std    367832846661\n",
       "min   3618135717697\n",
       "25%   4199154591963\n",
       "50%   4498697527770\n",
       "75%   4633358084166\n",
       "max   4949080181901"
      ]
     },
     "execution_count": 3,
     "metadata": {},
     "output_type": "execute_result"
    }
   ],
   "source": [
    "# 데이터 분포 확인\n",
    "f_tot.describe()"
   ]
  },
  {
   "cell_type": "markdown",
   "id": "ade0e097-8ef1-4995-9def-5f1ce5295b0a",
   "metadata": {},
   "source": [
    "### 1. pnu별 연별합"
   ]
  },
  {
   "cell_type": "markdown",
   "id": "3dc0903c-22ff-4754-8983-bd1bb6d86d19",
   "metadata": {
    "jp-MarkdownHeadingCollapsed": true,
    "tags": []
   },
   "source": [
    "###### ver1"
   ]
  },
  {
   "cell_type": "code",
   "execution_count": 23,
   "id": "a626fae7-b9b6-474c-b6f3-b7f6b8504118",
   "metadata": {},
   "outputs": [],
   "source": [
    "# 월별 합(sum)\n",
    "def getData(year, col, df):\n",
    "    \n",
    "    query = f'''select substring(bd_mgt_sn, 19), sum({col})\n",
    "                from   m1.kt_bldg_xy_info \n",
    "                where  base_ym between {year}01 and {year}12\n",
    "                group  by substring(bd_mgt_sn, 19)'''\n",
    "    cursor.execute(query)\n",
    "    data = cursor.fetchall()\n",
    "    df = pd.DataFrame(data)\n",
    "\n",
    "    return df\n",
    "\n",
    "# base 데이터프레임 생성\n",
    "pop = pd.DataFrame() # 거주인구\n",
    "wpop = pd.DataFrame() # 직장인구\n",
    "f_tot = pd.DataFrame() # 유동인구\n",
    "\n",
    "# 월별 합 데이터프레임화\n",
    "pop_2020 = getData('2020','pop',pop) # 거주인구\n",
    "wpop = getData('wpop',wpop) # 직장인구\n",
    "f_tot = getData('f_tot', f_tot) # 유동인구\n",
    "\n",
    "# 직장인구만 Nonetype으로 들어가서 따로 NaN 처리\n",
    "wpop[wpop[0].isnull()] = np.nan\n",
    "\n",
    "# 컬럼명 설정\n",
    "pop.columns = ['PNU','SUM_2020']\n",
    "wpop.columns = ['PNU','SUM']\n",
    "f_tot.columns = ['PNU','SUM']"
   ]
  },
  {
   "cell_type": "markdown",
   "id": "ffdc9e01-d562-48d0-8e88-9e46e083d06a",
   "metadata": {
    "jp-MarkdownHeadingCollapsed": true,
    "tags": []
   },
   "source": [
    "###### ver2"
   ]
  },
  {
   "cell_type": "code",
   "execution_count": null,
   "id": "1c468ac2-a8cd-49c2-98fa-d6fb91e7b9cd",
   "metadata": {},
   "outputs": [],
   "source": [
    "# 월별 합(sum)\n",
    "def getData(year, col, df):\n",
    "    \n",
    "    query = f'''select substring(bd_mgt_sn, 19), sum({col})\n",
    "                from   m1.kt_bldg_xy_info \n",
    "                where  base_ym between {year}01 and {year}12\n",
    "                group  by substring(bd_mgt_sn, 19)'''\n",
    "    cursor.execute(query)\n",
    "    data = cursor.fetchall()\n",
    "    df = pd.DataFrame(data)\n",
    "\n",
    "    return df\n",
    "\n",
    "# 월별 합 데이터프레임화\n",
    "df = pd.DataFrame() # 거주인구\n",
    "df2 = pd.DataFrame()\n",
    "df3 = pd.DataFrame()\n",
    "pop_2020 = getData('2020','pop',pop)\n",
    "pop_2021 = getData('2021','pop',pop1)\n",
    "pop_2022 = getData('2022','pop',pop2)\n",
    "DF = pd.concat([pop_2020,pop_2021,pop_2022])\n",
    "\n",
    "# 컬럼명 설정\n",
    "DF.columns = ['PNU','SUM_2020']"
   ]
  },
  {
   "cell_type": "markdown",
   "id": "5bc538b3-1853-4722-bd53-f3a4a499816c",
   "metadata": {},
   "source": [
    "###### ver3"
   ]
  },
  {
   "cell_type": "code",
   "execution_count": 2,
   "id": "65cc7508-ccc2-48b1-a5dd-db1ca4fefab4",
   "metadata": {
    "tags": []
   },
   "outputs": [],
   "source": [
    "# 연별 합(sum)\n",
    "def getData(year, col, df):\n",
    "    \n",
    "    query = f'''select substring(bd_mgt_sn, 19), sum({col})\n",
    "                from   m1.kt_bldg_xy_info \n",
    "                where  base_ym between {year}01 and {year}12\n",
    "                group  by substring(bd_mgt_sn, 19)'''\n",
    "    cursor.execute(query)\n",
    "    data = cursor.fetchall()\n",
    "    df_sub = pd.DataFrame(data)\n",
    "    df = df.append(df_sub)\n",
    "\n",
    "    return df\n",
    "\n",
    "# 월별 합 데이터프레임화\n",
    "def toDataframe(col):\n",
    "    \n",
    "    DF = pd.DataFrame()\n",
    "    year_list  = pd.date_range(start='2020', end='2022', freq='YS').strftime('%Y')\n",
    "    \n",
    "    for year in year_list:\n",
    "        \n",
    "        df = pd.DataFrame()\n",
    "        df = getData(year,col,df)\n",
    "        DF = pd.concat([DF,df], axis=1)\n",
    "\n",
    "    # 컬럼명 설정\n",
    "    # DF.columns = ['PNU',col]\n",
    "    \n",
    "    return DF"
   ]
  },
  {
   "cell_type": "code",
   "execution_count": 3,
   "id": "6059e4b5-de63-4b3f-88cb-eb558506fa74",
   "metadata": {},
   "outputs": [
    {
     "data": {
      "text/html": [
       "<div>\n",
       "<style scoped>\n",
       "    .dataframe tbody tr th:only-of-type {\n",
       "        vertical-align: middle;\n",
       "    }\n",
       "\n",
       "    .dataframe tbody tr th {\n",
       "        vertical-align: top;\n",
       "    }\n",
       "\n",
       "    .dataframe thead th {\n",
       "        text-align: right;\n",
       "    }\n",
       "</style>\n",
       "<table border=\"1\" class=\"dataframe\">\n",
       "  <thead>\n",
       "    <tr style=\"text-align: right;\">\n",
       "      <th></th>\n",
       "      <th>0</th>\n",
       "      <th>1</th>\n",
       "      <th>0</th>\n",
       "      <th>1</th>\n",
       "      <th>0</th>\n",
       "      <th>1</th>\n",
       "    </tr>\n",
       "  </thead>\n",
       "  <tbody>\n",
       "    <tr>\n",
       "      <th>0</th>\n",
       "      <td>6031458</td>\n",
       "      <td>29170.22</td>\n",
       "      <td>0030843</td>\n",
       "      <td>421833.93</td>\n",
       "      <td>5030970</td>\n",
       "      <td>21423.34</td>\n",
       "    </tr>\n",
       "    <tr>\n",
       "      <th>1</th>\n",
       "      <td>0031119</td>\n",
       "      <td>319245.37</td>\n",
       "      <td>0031529</td>\n",
       "      <td>288760.32</td>\n",
       "      <td>4031526</td>\n",
       "      <td>124138.45</td>\n",
       "    </tr>\n",
       "    <tr>\n",
       "      <th>2</th>\n",
       "      <td>0032722</td>\n",
       "      <td>167366.11</td>\n",
       "      <td>4031042</td>\n",
       "      <td>210622.06</td>\n",
       "      <td>3000001</td>\n",
       "      <td>871556346.16</td>\n",
       "    </tr>\n",
       "    <tr>\n",
       "      <th>3</th>\n",
       "      <td>3031253</td>\n",
       "      <td>48169.79</td>\n",
       "      <td>3031356</td>\n",
       "      <td>32929.20</td>\n",
       "      <td>6031445</td>\n",
       "      <td>23359.75</td>\n",
       "    </tr>\n",
       "    <tr>\n",
       "      <th>4</th>\n",
       "      <td>5030922</td>\n",
       "      <td>52982.77</td>\n",
       "      <td>8030857</td>\n",
       "      <td>99330.66</td>\n",
       "      <td>1031315</td>\n",
       "      <td>114166.54</td>\n",
       "    </tr>\n",
       "    <tr>\n",
       "      <th>...</th>\n",
       "      <td>...</td>\n",
       "      <td>...</td>\n",
       "      <td>...</td>\n",
       "      <td>...</td>\n",
       "      <td>...</td>\n",
       "      <td>...</td>\n",
       "    </tr>\n",
       "    <tr>\n",
       "      <th>539869</th>\n",
       "      <td>5207677</td>\n",
       "      <td>179.85</td>\n",
       "      <td>NaN</td>\n",
       "      <td>NaN</td>\n",
       "      <td>NaN</td>\n",
       "      <td>NaN</td>\n",
       "    </tr>\n",
       "    <tr>\n",
       "      <th>539870</th>\n",
       "      <td>1070011</td>\n",
       "      <td>2201.36</td>\n",
       "      <td>NaN</td>\n",
       "      <td>NaN</td>\n",
       "      <td>NaN</td>\n",
       "      <td>NaN</td>\n",
       "    </tr>\n",
       "    <tr>\n",
       "      <th>539871</th>\n",
       "      <td>9402925</td>\n",
       "      <td>1668.13</td>\n",
       "      <td>NaN</td>\n",
       "      <td>NaN</td>\n",
       "      <td>NaN</td>\n",
       "      <td>NaN</td>\n",
       "    </tr>\n",
       "    <tr>\n",
       "      <th>539872</th>\n",
       "      <td>7024277</td>\n",
       "      <td>12010.46</td>\n",
       "      <td>NaN</td>\n",
       "      <td>NaN</td>\n",
       "      <td>NaN</td>\n",
       "      <td>NaN</td>\n",
       "    </tr>\n",
       "    <tr>\n",
       "      <th>539873</th>\n",
       "      <td>6002633</td>\n",
       "      <td>10586.49</td>\n",
       "      <td>NaN</td>\n",
       "      <td>NaN</td>\n",
       "      <td>NaN</td>\n",
       "      <td>NaN</td>\n",
       "    </tr>\n",
       "  </tbody>\n",
       "</table>\n",
       "<p>539874 rows × 6 columns</p>\n",
       "</div>"
      ],
      "text/plain": [
       "              0         1        0         1        0            1\n",
       "0       6031458  29170.22  0030843 421833.93  5030970     21423.34\n",
       "1       0031119 319245.37  0031529 288760.32  4031526    124138.45\n",
       "2       0032722 167366.11  4031042 210622.06  3000001 871556346.16\n",
       "3       3031253  48169.79  3031356  32929.20  6031445     23359.75\n",
       "4       5030922  52982.77  8030857  99330.66  1031315    114166.54\n",
       "...         ...       ...      ...       ...      ...          ...\n",
       "539869  5207677    179.85      NaN       NaN      NaN          NaN\n",
       "539870  1070011   2201.36      NaN       NaN      NaN          NaN\n",
       "539871  9402925   1668.13      NaN       NaN      NaN          NaN\n",
       "539872  7024277  12010.46      NaN       NaN      NaN          NaN\n",
       "539873  6002633  10586.49      NaN       NaN      NaN          NaN\n",
       "\n",
       "[539874 rows x 6 columns]"
      ]
     },
     "execution_count": 3,
     "metadata": {},
     "output_type": "execute_result"
    }
   ],
   "source": [
    "toDataframe('f_tot')"
   ]
  },
  {
   "cell_type": "code",
   "execution_count": 7,
   "id": "4f871677-e079-4c4d-8d79-046ddde7a271",
   "metadata": {},
   "outputs": [
    {
     "ename": "NameError",
     "evalue": "name 'pop' is not defined",
     "output_type": "error",
     "traceback": [
      "\u001b[1;31m---------------------------------------------------------------------------\u001b[0m",
      "\u001b[1;31mNameError\u001b[0m                                 Traceback (most recent call last)",
      "Input \u001b[1;32mIn [7]\u001b[0m, in \u001b[0;36m<cell line: 1>\u001b[1;34m()\u001b[0m\n\u001b[1;32m----> 1\u001b[0m \u001b[43mpop\u001b[49m\n",
      "\u001b[1;31mNameError\u001b[0m: name 'pop' is not defined"
     ]
    }
   ],
   "source": [
    "pop"
   ]
  },
  {
   "cell_type": "markdown",
   "id": "73e4e716-acf6-40e2-8938-5dcf108d1473",
   "metadata": {},
   "source": [
    "### 2. 전년대비 증감율"
   ]
  },
  {
   "cell_type": "code",
   "execution_count": 129,
   "id": "1e79f822-45e0-42fe-9546-f9f70cd05d9e",
   "metadata": {
    "tags": []
   },
   "outputs": [],
   "source": [
    "# 전년 대비 증감율 \n",
    "def perYearIncrease(col, df, num):\n",
    "    \n",
    "    # 변수 생성\n",
    "    df[col] = 0 # 비율 컬럼\n",
    "    year_list  = pd.date_range(start='2020', end='2022', freq='YS').strftime('%Y')\n",
    "    month_list = pd.date_range(start='2021.01', end='2021.12', freq='MS').strftime('%m')\n",
    "\n",
    "    # 전년 대비 값 비교\n",
    "    for month in month_list:\n",
    "\n",
    "        for i in range(len(df)):\n",
    "            \n",
    "            # 비교 날짜 값 설정\n",
    "            val_2020 = (df.loc[year_list[0]+month,0])\n",
    "            val_2021 = (df.loc[year_list[1]+month,0])\n",
    "            val_2022 = (df.loc[year_list[2]+month,0])\n",
    "\n",
    "            # 2020년 대비 2021년\n",
    "            if (round((val_2021 - val_2020)/val_2020*100,2) >= num) == True:\n",
    "                df.loc[year_list[1]+month,col] = 1\n",
    "            else:\n",
    "                df.loc[year_list[1]+month,col] = 0\n",
    "                \n",
    "            # 2021년 대비 2022년\n",
    "            if (round((val_2022 - val_2021)/val_2021*100,2) >= num) == True:\n",
    "                df.loc[year_list[2]+month,col] = 1\n",
    "            else:\n",
    "                df.loc[year_list[2]+month,col] = 0\n",
    "    return df\n",
    "\n",
    "# 실행\n",
    "pop = perYearIncrease('pop', pop, 4.3) # 거주인구 : 4.3%\n",
    "wpop = perYearIncrease('wpop', wpop, 2.9) # 직장인구 : 2.9%\n",
    "f_tot = perYearIncrease('f_tot', f_tot, 17) # 유동인구 : 17%"
   ]
  },
  {
   "cell_type": "code",
   "execution_count": 130,
   "id": "17cd3d1f-6ebe-4656-bf0e-f04b1fcb449c",
   "metadata": {},
   "outputs": [
    {
     "data": {
      "text/plain": [
       "9.09"
      ]
     },
     "execution_count": 130,
     "metadata": {},
     "output_type": "execute_result"
    }
   ],
   "source": [
    "# 비율 파악 (0 대비 1의 비율)\n",
    "# 거주인구\n",
    "round(len(pop[pop['pop']==1]) / len(pop[pop['pop']==0])*100,2)"
   ]
  },
  {
   "cell_type": "code",
   "execution_count": 131,
   "id": "64b6198c-3b2d-4cec-95cd-75282ce1b28f",
   "metadata": {},
   "outputs": [
    {
     "data": {
      "text/plain": [
       "9.09"
      ]
     },
     "execution_count": 131,
     "metadata": {},
     "output_type": "execute_result"
    }
   ],
   "source": [
    "# 직장인구\n",
    "round(len(wpop[wpop['wpop']==1]) / len(wpop[wpop['wpop']==0])*100,2)"
   ]
  },
  {
   "cell_type": "code",
   "execution_count": 132,
   "id": "bd8102a3-834e-48d1-910f-94f8e93c1452",
   "metadata": {},
   "outputs": [
    {
     "data": {
      "text/plain": [
       "12.5"
      ]
     },
     "execution_count": 132,
     "metadata": {},
     "output_type": "execute_result"
    }
   ],
   "source": [
    "# 유동인구\n",
    "round(len(f_tot[f_tot['f_tot']==1]) / len(f_tot[f_tot['f_tot']==0])*100,2)"
   ]
  },
  {
   "cell_type": "code",
   "execution_count": 133,
   "id": "4bc8a628-cbdf-4334-8315-2a15f8ef64b4",
   "metadata": {},
   "outputs": [],
   "source": [
    "# NaN 처리\n",
    "pop   = pop.drop(pop[pop[0].isnull()].index, axis=0) # 거주인구\n",
    "wpop  = wpop.drop(wpop[wpop[0].isnull()].index, axis=0) # 직장인구\n",
    "f_tot = f_tot.drop(f_tot[f_tot[0].isnull()].index, axis=0) # 유동인구\n",
    "\n",
    "# 2020 데이터 삭제 (계산식에만 쓰임)\n",
    "pop = pop.drop(pop[pop.index.str.contains('2020')].index, axis=0) # 거주인구\n",
    "wpop  = wpop.drop(wpop[wpop.index.str.contains('2020')].index, axis=0) # 직장인구\n",
    "f_tot = f_tot.drop(f_tot[f_tot.index.str.contains('2020')].index, axis=0) # 유동인구"
   ]
  }
 ],
 "metadata": {
  "kernelspec": {
   "display_name": "oasis",
   "language": "python",
   "name": "oasis"
  },
  "language_info": {
   "codemirror_mode": {
    "name": "ipython",
    "version": 3
   },
   "file_extension": ".py",
   "mimetype": "text/x-python",
   "name": "python",
   "nbconvert_exporter": "python",
   "pygments_lexer": "ipython3",
   "version": "3.8.13"
  }
 },
 "nbformat": 4,
 "nbformat_minor": 5
}
