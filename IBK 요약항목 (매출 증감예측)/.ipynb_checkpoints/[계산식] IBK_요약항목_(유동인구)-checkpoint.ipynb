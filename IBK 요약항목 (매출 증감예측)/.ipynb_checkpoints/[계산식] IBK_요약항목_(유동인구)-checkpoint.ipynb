{
 "cells": [
  {
   "cell_type": "code",
   "execution_count": 1,
   "id": "3c6025de-e027-4a12-b23e-324d9f36554f",
   "metadata": {},
   "outputs": [],
   "source": [
    "import psycopg2\n",
    "import numpy as np\n",
    "import pandas as pd"
   ]
  },
  {
   "cell_type": "code",
   "execution_count": 2,
   "id": "c71d9775-4f8f-457b-8b4f-569313ffbfb2",
   "metadata": {},
   "outputs": [],
   "source": [
    "df_xy = pd.read_csv('c:/oasis/KT_data/dp_frc_bldg_basexy_m_sum_202205.csv',sep='|')"
   ]
  },
  {
   "cell_type": "code",
   "execution_count": 2,
   "id": "03737da7-81c2-4e7e-836b-6f2c3f3764d2",
   "metadata": {},
   "outputs": [],
   "source": [
    "# DB Connect\n",
    "conn = psycopg2.connect(\n",
    "    host='redshift-cluster-1.ctvbwnnvbdkl.ap-northeast-2.redshift.amazonaws.com',\n",
    "    port=5439,\n",
    "    dbname='dev',\n",
    "    user='awsuser',\n",
    "    password='cremaoAdmin1234qwer!!'\n",
    ")\n",
    "cursor = conn.cursor()"
   ]
  },
  {
   "cell_type": "code",
   "execution_count": null,
   "id": "fbad55c6-1047-45d6-971c-a2716c213190",
   "metadata": {},
   "outputs": [],
   "source": [
    "query = 'select f_tot,f_m,f_f,f_time_0005,f_time_0610,f_time_1113,f_time_1417,f_time_1820,f_time_2123,f_mon_avg,f_tue_avg,f_wed_avg,f_thu_avg,f_fri_avg,f_sat_avg,f_sun_avg,f_age_0019,f_age_2029,f_age_3039,f_age_4049,f_age_5059,f_age_6069,f_age_7000 from m1.kt_bldg_xy_info'\n",
    "df_f_tot = cursor.execute(query)\n",
    "df_f_tot.to_csv('./m1.kt_bldg_xy_info_f_tot.csv', index=False, encoding='utf-8-sig')"
   ]
  },
  {
   "cell_type": "code",
   "execution_count": null,
   "id": "cfcd66b7-1ce9-4225-aa58-d9cd91ee7a77",
   "metadata": {},
   "outputs": [],
   "source": [
    "df_f_tot"
   ]
  }
 ],
 "metadata": {
  "kernelspec": {
   "display_name": "oasis",
   "language": "python",
   "name": "oasis"
  },
  "language_info": {
   "codemirror_mode": {
    "name": "ipython",
    "version": 3
   },
   "file_extension": ".py",
   "mimetype": "text/x-python",
   "name": "python",
   "nbconvert_exporter": "python",
   "pygments_lexer": "ipython3",
   "version": "3.8.13"
  }
 },
 "nbformat": 4,
 "nbformat_minor": 5
}
