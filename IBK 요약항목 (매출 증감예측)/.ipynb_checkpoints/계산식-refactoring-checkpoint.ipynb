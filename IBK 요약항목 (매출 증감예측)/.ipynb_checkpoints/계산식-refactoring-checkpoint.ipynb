{
 "cells": [
  {
   "cell_type": "code",
   "execution_count": 1,
   "id": "af3c84f3-3ba8-4bef-a388-17cc23afb649",
   "metadata": {},
   "outputs": [],
   "source": [
    "import psycopg2\n",
    "import numpy as np\n",
    "import pandas as pd"
   ]
  },
  {
   "cell_type": "code",
   "execution_count": 2,
   "id": "e4226ec6-eac3-4c7d-9ed5-af1f716a162a",
   "metadata": {},
   "outputs": [],
   "source": [
    "# DB Connect\n",
    "conn = psycopg2.connect(\n",
    "    host='redshift-cluster-1.ctvbwnnvbdkl.ap-northeast-2.redshift.amazonaws.com',\n",
    "    port=5439,\n",
    "    dbname='dev',\n",
    "    user='awsuser',\n",
    "    password='cremaoAdmin1234qwer!!'\n",
    ")\n",
    "cursor = conn.cursor()"
   ]
  },
  {
   "cell_type": "markdown",
   "id": "eb32e07b-c8db-4257-874c-4ec53364c32e",
   "metadata": {},
   "source": [
    "### 1. 연별 합계 (sum)"
   ]
  },
  {
   "cell_type": "code",
   "execution_count": 41,
   "id": "44e9a41e-afba-473a-bbab-1fbd0b453e48",
   "metadata": {
    "collapsed": true,
    "jupyter": {
     "outputs_hidden": true
    },
    "tags": []
   },
   "outputs": [
    {
     "name": "stdout",
     "output_type": "stream",
     "text": [
      "f_tot:f_tot_2020\n",
      "f_tot:f_tot_2021\n",
      "f_tot:f_tot_2022\n",
      "pop:pop_2020\n",
      "pop:pop_2021\n",
      "pop:pop_2022\n",
      "wpop:wpop_2020\n",
      "wpop:wpop_2021\n",
      "wpop:wpop_2022\n"
     ]
    }
   ],
   "source": [
    "# get data from DB\n",
    "def get_data(col, date, df):\n",
    "    query = f'select sum({col}) from m1.kt_bldg_xy_info where base_ym between {date}01 and {date}12' # 쿼리문\n",
    "    cursor.execute(query) # 실행\n",
    "    df = cursor.fetchall() # 출력\n",
    "    df = df[0][0] # 값 꺼내기\n",
    "\n",
    "# sum\n",
    "def getSum(colName):\n",
    "    for i in range(3):\n",
    "        dfName = f'{colName}_202{i}'\n",
    "        get_data('f_tot', '2020', dfName)\n",
    "        print(colName + ':' + dfName)\n",
    "\n",
    "\n",
    "\n",
    "getSum('f_tot') # 유동인구\n",
    "getSum('pop') # 거주인구\n",
    "getSum('wpop') # 직장인구"
   ]
  },
  {
   "cell_type": "markdown",
   "id": "73e4e716-acf6-40e2-8938-5dcf108d1473",
   "metadata": {},
   "source": [
    "### 2. 전년대비 증감율"
   ]
  },
  {
   "cell_type": "code",
   "execution_count": null,
   "id": "b87def0c-2a49-4108-ad49-85d381ab3d4d",
   "metadata": {},
   "outputs": [],
   "source": [
    "# 결과 데이터레임 생성\n",
    "DF = f_tot['f_tot']"
   ]
  },
  {
   "cell_type": "code",
   "execution_count": 7,
   "id": "12450197-2779-4539-bb09-76be8d53cf7d",
   "metadata": {},
   "outputs": [],
   "source": [
    "# 전년 대비 증감율 \n",
    "def perYearIncrease(df_prior, df_current, df, col): # df_prior=전기, df_current=당기, df=전기 데이터프레임, col=추가할 컬럼명\n",
    "    if (df_prior/df_current)*100 >= 120: # 120% 이상: 1\n",
    "        df[col] = 1\n",
    "    elif (df_prior/df_current)*100 < 120: # 120% 미만: 0\n",
    "        df[col] = 0"
   ]
  },
  {
   "cell_type": "code",
   "execution_count": 10,
   "id": "6497b6ae-51c5-4412-86d7-a651ddfc8ce4",
   "metadata": {},
   "outputs": [],
   "source": [
    "# 실행\n",
    "# 유동인구\n",
    "perYearIncrease(f_tot_2020, f_tot_2021, DF, 'f_tot') # 2021년도 증감율\n",
    "perYearIncrease(f_tot_2021, f_tot_2022, DF, 'f_tot') # 2022년도 증감율\n",
    "\n",
    "# 거주인구\n",
    "perYearIncrease(pop_2020, pop_2021, DF, 'pop') # 2021년도 증감율\n",
    "perYearIncrease(pop_2021, pop_2022, DF, 'pop') # 2022년도 증감율\n",
    "\n",
    "# 직장인구\n",
    "perYearIncrease(wpop_2020, wpop_2021, DF, 'wpop') # 2021년도 증감율\n",
    "perYearIncrease(wpop_2021, wpop_2022, DF, 'wpop') # 2022년도 증감율"
   ]
  },
  {
   "cell_type": "code",
   "execution_count": null,
   "id": "486ca50f-3ec2-4ede-a3a8-00142717c234",
   "metadata": {},
   "outputs": [],
   "source": [
    "# 비율 파악 (0 대비 1의 비율)\n",
    "# 유동인구\n",
    "len(df[df['f_tot']==1]) / len(df[df['f_tot']==0])*100\n",
    "\n",
    "# 거주인구\n",
    "len(df[df['pop']==1]) / len(df[df['pop']==0])*100\n",
    "\n",
    "# 직장인구\n",
    "len(df[df['wpop']==1]) / len(df[df['wpop']==0])*100"
   ]
  }
 ],
 "metadata": {
  "kernelspec": {
   "display_name": "oasis",
   "language": "python",
   "name": "oasis"
  },
  "language_info": {
   "codemirror_mode": {
    "name": "ipython",
    "version": 3
   },
   "file_extension": ".py",
   "mimetype": "text/x-python",
   "name": "python",
   "nbconvert_exporter": "python",
   "pygments_lexer": "ipython3",
   "version": "3.8.13"
  }
 },
 "nbformat": 4,
 "nbformat_minor": 5
}
