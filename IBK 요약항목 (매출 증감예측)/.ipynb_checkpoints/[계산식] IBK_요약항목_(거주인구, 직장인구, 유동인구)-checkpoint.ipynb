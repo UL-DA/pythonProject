{
 "cells": [
  {
   "cell_type": "code",
   "execution_count": 1,
   "id": "af3c84f3-3ba8-4bef-a388-17cc23afb649",
   "metadata": {},
   "outputs": [],
   "source": [
    "import psycopg2\n",
    "import numpy as np\n",
    "import pandas as pd\n",
    "\n",
    "# 경고 처리\n",
    "import warnings\n",
    "warnings.filterwarnings('ignore')\n",
    "\n",
    "# float 자리수 설정\n",
    "pd.options.display.float_format = '{:.0f}'.format\n",
    "\n",
    "# DB Connect\n",
    "conn = psycopg2.connect(\n",
    "    host='redshift-cluster-1.ctvbwnnvbdkl.ap-northeast-2.redshift.amazonaws.com',\n",
    "    port=5439,\n",
    "    dbname='dev',\n",
    "    user='awsuser',\n",
    "    password='cremaoAdmin1234qwer!!'\n",
    ")\n",
    "cursor = conn.cursor()"
   ]
  },
  {
   "cell_type": "markdown",
   "id": "c268a48f-41a9-4df2-9799-3ad2308234d2",
   "metadata": {},
   "source": [
    "### 1. 월별 합계 (sum)"
   ]
  },
  {
   "cell_type": "code",
   "execution_count": 2,
   "id": "12c8558b-df54-43de-afdb-addd0c44f73d",
   "metadata": {
    "tags": []
   },
   "outputs": [],
   "source": [
    "# 월별 합(sum)\n",
    "def getData(col, df):\n",
    "    \n",
    "    year_list  = pd.date_range(start='2020', end='2022', freq='YS').strftime('%Y')\n",
    "    month_list = pd.date_range(start='2021.01', end='2021.12', freq='MS').strftime('%m')\n",
    "\n",
    "    for year in year_list:\n",
    "\n",
    "        for month in month_list:\n",
    "\n",
    "            query = f'select sum({col}) from m1.kt_bldg_xy_info where base_ym = {year}{month}'\n",
    "            cursor.execute(query)\n",
    "            data = cursor.fetchall()\n",
    "            df_sub = pd.DataFrame([data[0][0]], columns=[year+month]).T\n",
    "            df = df.append(df_sub)\n",
    "\n",
    "    return df\n",
    "\n",
    "# base 데이터프레임 생성\n",
    "pop = pd.DataFrame() # 거주인구\n",
    "wpop = pd.DataFrame() # 직장인구\n",
    "f_tot = pd.DataFrame() # 유동인구\n",
    "\n",
    "# 월별 합 데이터프레임화\n",
    "pop = getData('pop',pop) # 거주인구\n",
    "wpop = getData('wpop',wpop) # 직장인구\n",
    "f_tot = getData('f_tot', f_tot) # 유동인구\n",
    "\n",
    "# 직장인구만 Nonetype으로 들어가서 따로 NaN 처리\n",
    "wpop[wpop[0].isnull()] = np.nan"
   ]
  },
  {
   "cell_type": "code",
   "execution_count": 3,
   "id": "2a18e906-7554-407b-8896-363798f85437",
   "metadata": {},
   "outputs": [
    {
     "data": {
      "text/html": [
       "<div>\n",
       "<style scoped>\n",
       "    .dataframe tbody tr th:only-of-type {\n",
       "        vertical-align: middle;\n",
       "    }\n",
       "\n",
       "    .dataframe tbody tr th {\n",
       "        vertical-align: top;\n",
       "    }\n",
       "\n",
       "    .dataframe thead th {\n",
       "        text-align: right;\n",
       "    }\n",
       "</style>\n",
       "<table border=\"1\" class=\"dataframe\">\n",
       "  <thead>\n",
       "    <tr style=\"text-align: right;\">\n",
       "      <th></th>\n",
       "      <th>0</th>\n",
       "    </tr>\n",
       "  </thead>\n",
       "  <tbody>\n",
       "    <tr>\n",
       "      <th>count</th>\n",
       "      <td>32</td>\n",
       "    </tr>\n",
       "    <tr>\n",
       "      <th>mean</th>\n",
       "      <td>4382727171089</td>\n",
       "    </tr>\n",
       "    <tr>\n",
       "      <th>std</th>\n",
       "      <td>367832846661</td>\n",
       "    </tr>\n",
       "    <tr>\n",
       "      <th>min</th>\n",
       "      <td>3618135717697</td>\n",
       "    </tr>\n",
       "    <tr>\n",
       "      <th>25%</th>\n",
       "      <td>4199154591963</td>\n",
       "    </tr>\n",
       "    <tr>\n",
       "      <th>50%</th>\n",
       "      <td>4498697527770</td>\n",
       "    </tr>\n",
       "    <tr>\n",
       "      <th>75%</th>\n",
       "      <td>4633358084166</td>\n",
       "    </tr>\n",
       "    <tr>\n",
       "      <th>max</th>\n",
       "      <td>4949080181901</td>\n",
       "    </tr>\n",
       "  </tbody>\n",
       "</table>\n",
       "</div>"
      ],
      "text/plain": [
       "                  0\n",
       "count            32\n",
       "mean  4382727171089\n",
       "std    367832846661\n",
       "min   3618135717697\n",
       "25%   4199154591963\n",
       "50%   4498697527770\n",
       "75%   4633358084166\n",
       "max   4949080181901"
      ]
     },
     "execution_count": 3,
     "metadata": {},
     "output_type": "execute_result"
    }
   ],
   "source": [
    "# 데이터 분포 확인\n",
    "f_tot.describe()"
   ]
  },
  {
   "cell_type": "markdown",
   "id": "73e4e716-acf6-40e2-8938-5dcf108d1473",
   "metadata": {},
   "source": [
    "### 2. 전년대비 증감율"
   ]
  },
  {
   "cell_type": "code",
   "execution_count": 4,
   "id": "1e79f822-45e0-42fe-9546-f9f70cd05d9e",
   "metadata": {
    "tags": []
   },
   "outputs": [],
   "source": [
    "# 전년 대비 증감율 \n",
    "def perYearIncrease(col, df, num):\n",
    "    \n",
    "    # 변수 생성\n",
    "    df[col] = 0 # 비율 컬럼\n",
    "    year_list  = pd.date_range(start='2020', end='2022', freq='YS').strftime('%Y')\n",
    "    month_list = pd.date_range(start='2021.01', end='2021.12', freq='MS').strftime('%m')\n",
    "\n",
    "    # 전년 대비 값 비교\n",
    "    for month in month_list:\n",
    "\n",
    "        for i in range(len(df)):\n",
    "            \n",
    "            # 비교 날짜 값 설정\n",
    "            val_2020 = (df.loc[year_list[0]+month,0])\n",
    "            val_2021 = (df.loc[year_list[1]+month,0])\n",
    "            val_2022 = (df.loc[year_list[2]+month,0])\n",
    "\n",
    "            # 2020년 대비 2021년\n",
    "            if (round((val_2021 - val_2020)/val_2020*100,2) >= num) == True:\n",
    "                df.loc[year_list[1]+month,col] = 1\n",
    "            else:\n",
    "                df.loc[year_list[1]+month,col] = 0\n",
    "                \n",
    "            # 2021년 대비 2022년\n",
    "            if (round((val_2022 - val_2021)/val_2021*100,2) >= num) == True:\n",
    "                df.loc[year_list[2]+month,col] = 1\n",
    "            else:\n",
    "                df.loc[year_list[2]+month,col] = 0\n",
    "    return df\n",
    "\n",
    "# 실행\n",
    "pop = perYearIncrease('pop', pop, 4.3) # 거주인구 : 4.3%\n",
    "wpop = perYearIncrease('wpop', wpop, 2.9) # 직장인구 : 2.9%\n",
    "f_tot = perYearIncrease('f_tot', f_tot, 17) # 유동인구 : 17%"
   ]
  },
  {
   "cell_type": "code",
   "execution_count": 5,
   "id": "17cd3d1f-6ebe-4656-bf0e-f04b1fcb449c",
   "metadata": {},
   "outputs": [
    {
     "data": {
      "text/plain": [
       "9.09"
      ]
     },
     "execution_count": 5,
     "metadata": {},
     "output_type": "execute_result"
    }
   ],
   "source": [
    "# 비율 파악 (0 대비 1의 비율)\n",
    "# 거주인구\n",
    "round(len(pop[pop['pop']==1]) / len(pop[pop['pop']==0])*100,2)"
   ]
  },
  {
   "cell_type": "code",
   "execution_count": 6,
   "id": "64b6198c-3b2d-4cec-95cd-75282ce1b28f",
   "metadata": {},
   "outputs": [
    {
     "data": {
      "text/plain": [
       "9.09"
      ]
     },
     "execution_count": 6,
     "metadata": {},
     "output_type": "execute_result"
    }
   ],
   "source": [
    "# 직장인구\n",
    "round(len(wpop[wpop['wpop']==1]) / len(wpop[wpop['wpop']==0])*100,2)"
   ]
  },
  {
   "cell_type": "code",
   "execution_count": 7,
   "id": "bd8102a3-834e-48d1-910f-94f8e93c1452",
   "metadata": {},
   "outputs": [
    {
     "data": {
      "text/plain": [
       "12.5"
      ]
     },
     "execution_count": 7,
     "metadata": {},
     "output_type": "execute_result"
    }
   ],
   "source": [
    "# 유동인구\n",
    "round(len(f_tot[f_tot['f_tot']==1]) / len(f_tot[f_tot['f_tot']==0])*100,2)"
   ]
  },
  {
   "cell_type": "code",
   "execution_count": 8,
   "id": "4bc8a628-cbdf-4334-8315-2a15f8ef64b4",
   "metadata": {},
   "outputs": [],
   "source": [
    "# NaN 처리\n",
    "pop   = pop.drop(pop[pop[0].isnull()].index, axis=0) # 거주인구\n",
    "wpop  = wpop.drop(wpop[wpop[0].isnull()].index, axis=0) # 직장인구\n",
    "f_tot = f_tot.drop(f_tot[f_tot[0].isnull()].index, axis=0) # 유동인구\n",
    "\n",
    "# 2020 데이터 삭제 (계산식에만 쓰임)\n",
    "pop = pop.drop(pop[pop.index.str.contains('2020')].index, axis=0) # 거주인구\n",
    "wpop  = wpop.drop(wpop[wpop.index.str.contains('2020')].index, axis=0) # 직장인구\n",
    "f_tot = f_tot.drop(f_tot[f_tot.index.str.contains('2020')].index, axis=0) # 유동인구"
   ]
  },
  {
   "cell_type": "code",
   "execution_count": 9,
   "id": "a5fe9b39-f085-4aff-93ed-ee2028a218e7",
   "metadata": {},
   "outputs": [
    {
     "data": {
      "text/html": [
       "<div>\n",
       "<style scoped>\n",
       "    .dataframe tbody tr th:only-of-type {\n",
       "        vertical-align: middle;\n",
       "    }\n",
       "\n",
       "    .dataframe tbody tr th {\n",
       "        vertical-align: top;\n",
       "    }\n",
       "\n",
       "    .dataframe thead th {\n",
       "        text-align: right;\n",
       "    }\n",
       "</style>\n",
       "<table border=\"1\" class=\"dataframe\">\n",
       "  <thead>\n",
       "    <tr style=\"text-align: right;\">\n",
       "      <th></th>\n",
       "      <th>0</th>\n",
       "      <th>pop</th>\n",
       "    </tr>\n",
       "  </thead>\n",
       "  <tbody>\n",
       "    <tr>\n",
       "      <th>202101</th>\n",
       "      <td>8990272812</td>\n",
       "      <td>1</td>\n",
       "    </tr>\n",
       "    <tr>\n",
       "      <th>202102</th>\n",
       "      <td>8986751326</td>\n",
       "      <td>0</td>\n",
       "    </tr>\n",
       "    <tr>\n",
       "      <th>202103</th>\n",
       "      <td>9000477239</td>\n",
       "      <td>0</td>\n",
       "    </tr>\n",
       "    <tr>\n",
       "      <th>202104</th>\n",
       "      <td>9111072157</td>\n",
       "      <td>0</td>\n",
       "    </tr>\n",
       "    <tr>\n",
       "      <th>202105</th>\n",
       "      <td>9204989289</td>\n",
       "      <td>0</td>\n",
       "    </tr>\n",
       "    <tr>\n",
       "      <th>202106</th>\n",
       "      <td>9331525165</td>\n",
       "      <td>1</td>\n",
       "    </tr>\n",
       "    <tr>\n",
       "      <th>202107</th>\n",
       "      <td>9358403081</td>\n",
       "      <td>1</td>\n",
       "    </tr>\n",
       "    <tr>\n",
       "      <th>202108</th>\n",
       "      <td>9245336406</td>\n",
       "      <td>0</td>\n",
       "    </tr>\n",
       "    <tr>\n",
       "      <th>202109</th>\n",
       "      <td>8294912677</td>\n",
       "      <td>0</td>\n",
       "    </tr>\n",
       "    <tr>\n",
       "      <th>202110</th>\n",
       "      <td>8385121184</td>\n",
       "      <td>0</td>\n",
       "    </tr>\n",
       "    <tr>\n",
       "      <th>202111</th>\n",
       "      <td>8401534963</td>\n",
       "      <td>0</td>\n",
       "    </tr>\n",
       "    <tr>\n",
       "      <th>202112</th>\n",
       "      <td>8364122036</td>\n",
       "      <td>0</td>\n",
       "    </tr>\n",
       "    <tr>\n",
       "      <th>202201</th>\n",
       "      <td>8341121349</td>\n",
       "      <td>0</td>\n",
       "    </tr>\n",
       "    <tr>\n",
       "      <th>202202</th>\n",
       "      <td>8354060420</td>\n",
       "      <td>0</td>\n",
       "    </tr>\n",
       "    <tr>\n",
       "      <th>202203</th>\n",
       "      <td>8307602047</td>\n",
       "      <td>0</td>\n",
       "    </tr>\n",
       "    <tr>\n",
       "      <th>202204</th>\n",
       "      <td>8347086493</td>\n",
       "      <td>0</td>\n",
       "    </tr>\n",
       "    <tr>\n",
       "      <th>202205</th>\n",
       "      <td>8428195180</td>\n",
       "      <td>0</td>\n",
       "    </tr>\n",
       "    <tr>\n",
       "      <th>202206</th>\n",
       "      <td>8513786557</td>\n",
       "      <td>0</td>\n",
       "    </tr>\n",
       "    <tr>\n",
       "      <th>202207</th>\n",
       "      <td>8491816677</td>\n",
       "      <td>0</td>\n",
       "    </tr>\n",
       "    <tr>\n",
       "      <th>202208</th>\n",
       "      <td>8472401816</td>\n",
       "      <td>0</td>\n",
       "    </tr>\n",
       "  </tbody>\n",
       "</table>\n",
       "</div>"
      ],
      "text/plain": [
       "                0  pop\n",
       "202101 8990272812    1\n",
       "202102 8986751326    0\n",
       "202103 9000477239    0\n",
       "202104 9111072157    0\n",
       "202105 9204989289    0\n",
       "202106 9331525165    1\n",
       "202107 9358403081    1\n",
       "202108 9245336406    0\n",
       "202109 8294912677    0\n",
       "202110 8385121184    0\n",
       "202111 8401534963    0\n",
       "202112 8364122036    0\n",
       "202201 8341121349    0\n",
       "202202 8354060420    0\n",
       "202203 8307602047    0\n",
       "202204 8347086493    0\n",
       "202205 8428195180    0\n",
       "202206 8513786557    0\n",
       "202207 8491816677    0\n",
       "202208 8472401816    0"
      ]
     },
     "execution_count": 9,
     "metadata": {},
     "output_type": "execute_result"
    }
   ],
   "source": [
    "pop"
   ]
  }
 ],
 "metadata": {
  "kernelspec": {
   "display_name": "oasis",
   "language": "python",
   "name": "oasis"
  },
  "language_info": {
   "codemirror_mode": {
    "name": "ipython",
    "version": 3
   },
   "file_extension": ".py",
   "mimetype": "text/x-python",
   "name": "python",
   "nbconvert_exporter": "python",
   "pygments_lexer": "ipython3",
   "version": "3.8.13"
  }
 },
 "nbformat": 4,
 "nbformat_minor": 5
}
