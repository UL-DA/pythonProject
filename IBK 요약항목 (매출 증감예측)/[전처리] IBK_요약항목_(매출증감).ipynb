{
 "cells": [
  {
   "cell_type": "code",
   "execution_count": 1,
   "id": "c1c19ea4-79d4-4d9c-87a7-81bbc5334834",
   "metadata": {},
   "outputs": [],
   "source": [
    "import psycopg2\n",
    "import numpy  as np\n",
    "import pandas as pd"
   ]
  },
  {
   "cell_type": "markdown",
   "id": "f2b9834f-3058-4c91-8119-f0cd6149eb1d",
   "metadata": {},
   "source": [
    "### DW 데이터 가져오기"
   ]
  },
  {
   "cell_type": "code",
   "execution_count": 2,
   "id": "2720bc1e-0b09-4172-a116-6b7340a7d5a2",
   "metadata": {},
   "outputs": [],
   "source": [
    "table = 'm1.kt_bldg_sales'"
   ]
  },
  {
   "cell_type": "code",
   "execution_count": 3,
   "id": "e4306597-de42-4233-89f4-2320c18f0d1d",
   "metadata": {},
   "outputs": [],
   "source": [
    "# DB Connect\n",
    "conn = psycopg2.connect(\n",
    "    host='redshift-cluster-1.ctvbwnnvbdkl.ap-northeast-2.redshift.amazonaws.com',\n",
    "    port=5439,\n",
    "    dbname='dev',\n",
    "    user='awsuser',\n",
    "    password='cremaoAdmin1234qwer!!'\n",
    ")"
   ]
  },
  {
   "cell_type": "code",
   "execution_count": 4,
   "id": "ab7432fe-7300-44db-9a1a-5282606c055c",
   "metadata": {},
   "outputs": [],
   "source": [
    "cursor = conn.cursor()"
   ]
  },
  {
   "cell_type": "code",
   "execution_count": 5,
   "id": "fb3291ad-9581-4386-98f3-5a97a2f23379",
   "metadata": {},
   "outputs": [],
   "source": [
    "query = 'select * from m1.kt_bldg_sales where base_ym between 202001 and 202012'"
   ]
  },
  {
   "cell_type": "code",
   "execution_count": null,
   "id": "c431e6dc-c149-4d69-b447-cbddc7db1c8b",
   "metadata": {},
   "outputs": [],
   "source": [
    "df_2020 = cursor.execute(query)"
   ]
  },
  {
   "cell_type": "code",
   "execution_count": null,
   "id": "c16b5b3b-de03-4d37-b531-e3dbf04be610",
   "metadata": {},
   "outputs": [],
   "source": [
    "df_2020"
   ]
  },
  {
   "cell_type": "code",
   "execution_count": null,
   "id": "4ba135b1-d095-487e-942d-e9532c1b79de",
   "metadata": {},
   "outputs": [],
   "source": [
    "df_2020.to_csv('./m1.kt_bldg_sales_2020.csv', index=False, encoding='utf-8-sig')"
   ]
  },
  {
   "cell_type": "code",
   "execution_count": null,
   "id": "10a8b6c0-d675-4d6e-8bd7-55c3714059f5",
   "metadata": {},
   "outputs": [],
   "source": [
    "cursor.close()"
   ]
  }
 ],
 "metadata": {
  "kernelspec": {
   "display_name": "oasis",
   "language": "python",
   "name": "oasis"
  },
  "language_info": {
   "codemirror_mode": {
    "name": "ipython",
    "version": 3
   },
   "file_extension": ".py",
   "mimetype": "text/x-python",
   "name": "python",
   "nbconvert_exporter": "python",
   "pygments_lexer": "ipython3",
   "version": "3.8.13"
  }
 },
 "nbformat": 4,
 "nbformat_minor": 5
}
