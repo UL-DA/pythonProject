{
 "cells": [
  {
   "cell_type": "markdown",
   "id": "9f752754-4e48-4647-a3b5-ff2044a25af3",
   "metadata": {
    "tags": []
   },
   "source": [
    "### 최종"
   ]
  },
  {
   "cell_type": "code",
   "execution_count": null,
   "id": "bae3d547-3910-4de8-bd3b-b3a4a7b64617",
   "metadata": {},
   "outputs": [
    {
     "name": "stderr",
     "output_type": "stream",
     "text": [
      "  0%|                                                                                                                    | 0/20293 [00:00<?, ?it/s]"
     ]
    }
   ],
   "source": [
    "# 임포트\n",
    "import json\n",
    "import time\n",
    "import random\n",
    "import requests\n",
    "import psycopg2\n",
    "import datetime\n",
    "import numpy  as np\n",
    "import pandas as pd\n",
    "from tqdm import tqdm\n",
    "from fake_useragent import UserAgent\n",
    "\n",
    "ua = UserAgent()\n",
    "\n",
    "\n",
    "### 1. 법정동 API\n",
    "lawd_cd_df = pd.DataFrame()\n",
    "lawd_cd_list = []\n",
    "lawd_cd_unique = []\n",
    "\n",
    "for i in range(1, 22):\n",
    "    \n",
    "    url = 'http://apis.data.go.kr/1741000/StanReginCd/getStanReginCdList'\n",
    "    serviceKey = 'C94PKnigawlH2iISVWz1Itw9tVzyuOCbOvKgzCrGOUZWvs3XqrkhH+/ntypJ7kK2P2g16vLYCJif3TNfO1i1KA=='\n",
    "    params = {\n",
    "        'serviceKey' : serviceKey,\n",
    "        'pageNo' : str(i),\n",
    "        'numOfRows' : '1000',\n",
    "        'type' : 'json'\n",
    "    }\n",
    "    response = requests.get(url, params=params)\n",
    "    content = response.text\n",
    "    \n",
    "    # Json List 변환\n",
    "    lawd_cd_df = pd.DataFrame(pd.json_normalize(data = json.loads(content), record_path = 'StanReginCd')['row'][1])\n",
    "    lawd_cd_list = list(lawd_cd_df['locatjumin_cd'].str[:10])\n",
    "    \n",
    "    # 시군구코드 unique하게 남기기\n",
    "    for x in lawd_cd_list:\n",
    "        if x not in lawd_cd_unique:\n",
    "            lawd_cd_unique.append(x)\n",
    "\n",
    "# 시군구 단위 삭제 (법정동 단위만 남김 : 총 20,293개)\n",
    "matching = [s for s in lawd_cd_unique if \"00000\" in s]\n",
    "for s in lawd_cd_unique:\n",
    "    if s in matching:\n",
    "        lawd_cd_unique.remove(s)\n",
    "\n",
    "\n",
    "### 2. 전월세 호가 수집\n",
    "# 변수 생성\n",
    "fails = [] # 호가 데이터 없는 법정동\n",
    "noColIdx = [] # 컬럼명 다른 지역 따로 처리\n",
    "\n",
    "# json to dataframe\n",
    "for i in tqdm(range(len(lawd_cd_unique))):\n",
    "    \n",
    "    # 초기화\n",
    "    info_df = pd.DataFrame()\n",
    "\n",
    "    # 전체 페이지 수집\n",
    "    for page in range(0,100):\n",
    "\n",
    "        # url 호출\n",
    "        url = 'https://m.land.naver.com/cluster/ajax/articleList?itemId=&mapKey=&lgeo=&showR0=&rletTpCd=SG&tradTpCd=A1%3AB1%3AB2&z=14&totCnt=402&cortarNo={}&sort=rank&page={}'.format(lawd_cd_unique[i],str(page+1))\n",
    "        headers = {'user-agent' : ua.ie,'referer' : 'https://m.land.naver.com/'}\n",
    "        time.sleep(random.randrange(3,7))\n",
    "        response = requests.get(url, headers = headers)\n",
    "\n",
    "        # body 태그 선택\n",
    "        items = response.json()['body']\n",
    "\n",
    "        # 다음 페이지 존재 여부 확인\n",
    "        if (len(items) > 0):\n",
    "            try:\n",
    "                # 데이터프레임화\n",
    "                df = pd.DataFrame(items)\n",
    "                info_df = info_df.append(df)\n",
    "            except:\n",
    "                fails.append([i])\n",
    "        else:\n",
    "            break\n",
    "\n",
    "    # 받은 데이터 바로 적재 (언제 막힐지 모르니까 바로바로 적재)\n",
    "    if len(info_df) > 0:\n",
    "        \n",
    "        # 컬럼명 다른 지역이 있음 (따로 처리)\n",
    "        try:\n",
    "            # 컬럼 정리\n",
    "            info_df = info_df[['atclNo','cortarNo','atclNm','atclStatCd','rletTpCd','uprRletTpCd','rletTpNm','tradTpCd','tradTpNm','vrfcTpCd','flrInfo','prc','rentPrc','spc1','spc2','direction','atclCfmYmd','lat','lng','atclFetrDesc','cpid','cpNm','rltrNm']]\n",
    "            # NaN 처리\n",
    "            info_df = info_df.fillna(np.nan)\n",
    "            \n",
    "            ### 3. DB INSERT\n",
    "            df = info_df\n",
    "            table = 'm1.asking_price'\n",
    "\n",
    "            # execute_mogrify\n",
    "            def execute_mogrify(conn, df, table, val):\n",
    "                # Create a list of tuples from the dataframe values\n",
    "                tuples = [tuple(x) for x in df.to_numpy()]\n",
    "                # Comma-separated dataframe columns\n",
    "                cols = ','.join(list(df.columns))\n",
    "                # SQL query to execute\n",
    "                cursor = conn.cursor()\n",
    "                values = [cursor.mogrify(val, tup).decode('utf8') for tup in\n",
    "                          tuples]\n",
    "                query = \"INSERT INTO %s(%s) VALUES \" % (table, cols) + \",\".join(values)\n",
    "\n",
    "                try:\n",
    "                    cursor.execute(query, tuples)\n",
    "                    conn.commit()\n",
    "                except (Exception, psycopg2.DatabaseError) as error:\n",
    "                    print(\"Error: %s\" % error)\n",
    "                    conn.rollback()\n",
    "                    cursor.close()\n",
    "                    return 1\n",
    "                cursor.close()\n",
    "\n",
    "            # values 설정\n",
    "            val = '(' + ('%s,' * len(df.columns))[:-1] + ')'\n",
    "\n",
    "            # insert\n",
    "            for j in range(0, len(df), 10000):\n",
    "\n",
    "                # DB Connect\n",
    "                conn = psycopg2.connect(\n",
    "                    host='redshift-cluster-1.ctvbwnnvbdkl.ap-northeast-2.redshift.amazonaws.com',\n",
    "                    port=5439,\n",
    "                    dbname='dev',\n",
    "                    user='awsuser',\n",
    "                    password='cremaoAdmin1234qwer!!'\n",
    "                )\n",
    "\n",
    "                # 10000개 단위로 나누기\n",
    "                tmp = df[j:j + 10000]\n",
    "\n",
    "                # insert\n",
    "                execute_mogrify(conn, tmp, table, val)\n",
    "                print(datetime.datetime.now(), ' : ', j)\n",
    "                tmp = pd.DataFrame()\n",
    "\n",
    "            # row count\n",
    "            print(len(df))\n",
    "            \n",
    "        except:\n",
    "            noColIdx.append(i)"
   ]
  },
  {
   "cell_type": "markdown",
   "id": "08301073-9538-4786-b1a2-39c5de8afba0",
   "metadata": {
    "jp-MarkdownHeadingCollapsed": true,
    "tags": []
   },
   "source": [
    "### ver1 (csv불러오기)"
   ]
  },
  {
   "cell_type": "code",
   "execution_count": null,
   "id": "8b193ff1-0521-4ede-95a7-07f1cf99c823",
   "metadata": {},
   "outputs": [],
   "source": [
    "# 임포트\n",
    "import json\n",
    "import time\n",
    "import random\n",
    "import requests\n",
    "import psycopg2\n",
    "import datetime\n",
    "import numpy  as np\n",
    "import pandas as pd\n",
    "from tqdm import tqdm\n",
    "from fake_useragent import UserAgent\n",
    "\n",
    "ua = UserAgent()\n",
    "\n",
    "### 1. 깃에서 법정동 CSV 파일 불러오기 (법정동코드 10자리)\n",
    "cortar = pd.read_csv('C:\\\\oasis\\\\oasisbusiness-ds\\\\oasisbusiness-ds\\\\1_데이터수집\\\\법정동코드전체.csv')\n",
    "cortar = cortar[cortar['폐지여부\\r\\n']=='존재\\r\\n'] # 존재하는 지역만 남기기\n",
    "lawd_cd_unique = cortar.drop_duplicates('법정동코드')['법정동코드'] # 법정동 코드만 담기 (총 20551개)\n",
    "\n",
    "### 2. 전월세 호가 수집\n",
    "# 변수 생성\n",
    "fails = [] # 수집 안 된 법정동\n",
    "info_df = pd.DataFrame() # 최종 데이터프레임\n",
    "\n",
    "# json to dataframe (법정동 단위 수집)\n",
    "for i in tqdm(range(0,5000)):\n",
    "    \n",
    "    # url 설정\n",
    "    url = 'https://m.land.naver.com/cluster/ajax/articleList?itemId=&mapKey=&lgeo=&showR0=&rletTpCd=SG&tradTpCd=A1%3AB1%3AB2&z=14&totCnt=402&cortarNo={}&sort=rank'.format(lawd_cd_unique[i])\n",
    "      \n",
    "    try:\n",
    "        # url 호출\n",
    "        headers = {'user-agent' : ua.ie,'referer' : 'https://m.land.naver.com/'}\n",
    "        time.sleep(random.randrange(3,7))\n",
    "        response = requests.get(url, headers = headers)\n",
    "\n",
    "        # body 태그 선택\n",
    "        items = response.json()['body']\n",
    "\n",
    "        # 데이터프레임화\n",
    "        df = pd.DataFrame(items)\n",
    "        info_df = info_df.append(df)\n",
    "        time.sleep(random.randrange(1,7))\n",
    "\n",
    "    except:\n",
    "        fails.append([i])\n",
    "    \n",
    "    # 받아온 바로 적재 (언제 막힐지 모르니까 바로바로 적재함)\n",
    "    if len(info_df) > 0:\n",
    "        \n",
    "        # 컬럼 정리\n",
    "        info_df = info_df[['atclNo','cortarNo','atclNm','atclStatCd','rletTpCd','uprRletTpCd','rletTpNm','tradTpCd','tradTpNm','vrfcTpCd','flrInfo','prc','rentPrc','spc1','spc2','direction','atclCfmYmd','lat','lng','atclFetrDesc','cpid','cpNm','rltrNm']]\n",
    "        # NaN 처리\n",
    "        info_df = info_df.fillna(np.nan)\n",
    "\n",
    "        ### 3. DB INSERT\n",
    "        df = info_df\n",
    "        table = 'm1.asking_price'\n",
    "\n",
    "        # execute_mogrify\n",
    "        def execute_mogrify(conn, df, table, val):\n",
    "            # Create a list of tuples from the dataframe values\n",
    "            tuples = [tuple(x) for x in df.to_numpy()]\n",
    "            # Comma-separated dataframe columns\n",
    "            cols = ','.join(list(df.columns))\n",
    "            # SQL query to execute\n",
    "            cursor = conn.cursor()\n",
    "            values = [cursor.mogrify(val, tup).decode('utf8') for tup in\n",
    "                      tuples]\n",
    "            query = \"INSERT INTO %s(%s) VALUES \" % (table, cols) + \",\".join(values)\n",
    "\n",
    "            try:\n",
    "                cursor.execute(query, tuples)\n",
    "                conn.commit()\n",
    "            except (Exception, psycopg2.DatabaseError) as error:\n",
    "                print(\"Error: %s\" % error)\n",
    "                conn.rollback()\n",
    "                cursor.close()\n",
    "                return 1\n",
    "            cursor.close()\n",
    "\n",
    "        # values 설정\n",
    "        val = '(' + ('%s,' * len(df.columns))[:-1] + ')'\n",
    "\n",
    "        # insert\n",
    "        for j in range(0, len(df), 10000):\n",
    "\n",
    "            # DB Connect\n",
    "            conn = psycopg2.connect(\n",
    "                host='redshift-cluster-1.ctvbwnnvbdkl.ap-northeast-2.redshift.amazonaws.com',\n",
    "                port=5439,\n",
    "                dbname='dev',\n",
    "                user='awsuser',\n",
    "                password='cremaoAdmin1234qwer!!'\n",
    "            )\n",
    "\n",
    "            # 10000개 단위로 나누기\n",
    "            tmp = df[j:j + 10000]\n",
    "\n",
    "            # insert\n",
    "            execute_mogrify(conn, tmp, table, val)\n",
    "            print(datetime.datetime.now(), ' : ', j)\n",
    "            tmp = pd.DataFrame()\n",
    "\n",
    "        # row count\n",
    "        print(len(df))"
   ]
  },
  {
   "cell_type": "markdown",
   "id": "3ead5270-ff24-4cf5-8235-29aa062ee12b",
   "metadata": {
    "jp-MarkdownHeadingCollapsed": true,
    "tags": []
   },
   "source": [
    "### ver2 (법정동 API)"
   ]
  },
  {
   "cell_type": "code",
   "execution_count": null,
   "id": "19bb4832-bd81-4944-9bbe-b16cb1ce51f9",
   "metadata": {
    "collapsed": true,
    "jupyter": {
     "outputs_hidden": true
    },
    "tags": []
   },
   "outputs": [
    {
     "name": "stderr",
     "output_type": "stream",
     "text": [
      "  0%|                                                                                                                     | 0/1000 [00:00<?, ?it/s]"
     ]
    },
    {
     "name": "stdout",
     "output_type": "stream",
     "text": [
      "<Response [307]> 5ms 1/3\n",
      "<Response [307]> 4ms 2/3\n"
     ]
    },
    {
     "name": "stderr",
     "output_type": "stream",
     "text": [
      "  0%|                                                                                                           | 1/1000 [00:14<3:58:12, 14.31s/it]"
     ]
    },
    {
     "name": "stdout",
     "output_type": "stream",
     "text": [
      "<Response [307]> 4ms 1/3\n",
      "<Response [307]> 6ms 2/3\n"
     ]
    },
    {
     "name": "stderr",
     "output_type": "stream",
     "text": [
      "  0%|▏                                                                                                          | 2/1000 [00:28<3:59:00, 14.37s/it]"
     ]
    },
    {
     "name": "stdout",
     "output_type": "stream",
     "text": [
      "<Response [307]> 4ms 3/3\n",
      "<Response [307]> 6ms 1/3\n",
      "<Response [307]> 5ms 2/3\n"
     ]
    },
    {
     "name": "stderr",
     "output_type": "stream",
     "text": [
      "  0%|▎                                                                                                          | 3/1000 [00:44<4:06:20, 14.83s/it]"
     ]
    },
    {
     "name": "stdout",
     "output_type": "stream",
     "text": [
      "<Response [307]> 4ms 3/3\n",
      "<Response [307]> 3ms 1/3\n",
      "<Response [307]> 5ms 2/3\n"
     ]
    },
    {
     "name": "stderr",
     "output_type": "stream",
     "text": [
      "  0%|▍                                                                                                          | 4/1000 [00:57<3:56:41, 14.26s/it]"
     ]
    },
    {
     "name": "stdout",
     "output_type": "stream",
     "text": [
      "<Response [307]> 5ms 3/3\n",
      "<Response [307]> 4ms 1/3\n",
      "<Response [307]> 6ms 2/3\n"
     ]
    },
    {
     "name": "stderr",
     "output_type": "stream",
     "text": [
      "  0%|▌                                                                                                          | 5/1000 [01:12<3:58:28, 14.38s/it]"
     ]
    },
    {
     "name": "stdout",
     "output_type": "stream",
     "text": [
      "<Response [307]> 4ms 3/3\n",
      "<Response [307]> 3ms 1/3\n",
      "<Response [307]> 6ms 2/3\n"
     ]
    },
    {
     "name": "stderr",
     "output_type": "stream",
     "text": [
      "  1%|▋                                                                                                          | 6/1000 [01:27<4:03:53, 14.72s/it]"
     ]
    },
    {
     "name": "stdout",
     "output_type": "stream",
     "text": [
      "<Response [307]> 6ms 3/3\n",
      "<Response [307]> 3ms 1/3\n",
      "<Response [307]> 5ms 2/3\n"
     ]
    },
    {
     "name": "stderr",
     "output_type": "stream",
     "text": [
      "  1%|▋                                                                                                          | 7/1000 [01:41<4:02:05, 14.63s/it]"
     ]
    },
    {
     "name": "stdout",
     "output_type": "stream",
     "text": [
      "<Response [307]> 6ms 3/3\n",
      "<Response [307]> 4ms 1/3\n",
      "<Response [307]> 4ms 2/3\n"
     ]
    },
    {
     "name": "stderr",
     "output_type": "stream",
     "text": [
      "  1%|▊                                                                                                          | 8/1000 [01:54<3:50:02, 13.91s/it]"
     ]
    },
    {
     "name": "stdout",
     "output_type": "stream",
     "text": [
      "<Response [307]> 4ms 3/3\n",
      "<Response [307]> 5ms 1/3\n",
      "<Response [307]> 4ms 2/3\n"
     ]
    },
    {
     "name": "stderr",
     "output_type": "stream",
     "text": [
      "  1%|▉                                                                                                          | 9/1000 [02:09<3:57:47, 14.40s/it]"
     ]
    },
    {
     "name": "stdout",
     "output_type": "stream",
     "text": [
      "<Response [307]> 6ms 3/3\n",
      "<Response [307]> 3ms 1/3\n",
      "<Response [307]> 5ms 2/3\n"
     ]
    },
    {
     "name": "stderr",
     "output_type": "stream",
     "text": [
      "  1%|█                                                                                                         | 10/1000 [02:21<3:42:30, 13.49s/it]"
     ]
    },
    {
     "name": "stdout",
     "output_type": "stream",
     "text": [
      "<Response [307]> 3ms 3/3\n",
      "<Response [307]> 5ms 1/3\n",
      "<Response [307]> 6ms 2/3\n"
     ]
    },
    {
     "name": "stderr",
     "output_type": "stream",
     "text": [
      "  1%|█▏                                                                                                        | 11/1000 [02:36<3:52:03, 14.08s/it]"
     ]
    },
    {
     "name": "stdout",
     "output_type": "stream",
     "text": [
      "<Response [307]> 4ms 3/3\n"
     ]
    }
   ],
   "source": [
    "# 임포트\n",
    "import json\n",
    "import time\n",
    "import random\n",
    "import requests\n",
    "import pandas as pd\n",
    "from tqdm import tqdm\n",
    "from fake_useragent import UserAgent\n",
    "\n",
    "ua = UserAgent()\n",
    "\n",
    "### 1. 법정동 API\n",
    "lawd_cd_df = pd.DataFrame()\n",
    "lawd_cd_list = []\n",
    "lawd_cd_unique = []\n",
    "\n",
    "for i in range(1, 22):\n",
    "    \n",
    "    url = 'http://apis.data.go.kr/1741000/StanReginCd/getStanReginCdList'\n",
    "    serviceKey = 'C94PKnigawlH2iISVWz1Itw9tVzyuOCbOvKgzCrGOUZWvs3XqrkhH+/ntypJ7kK2P2g16vLYCJif3TNfO1i1KA=='\n",
    "    params = {\n",
    "        'serviceKey' : serviceKey,\n",
    "        'pageNo' : str(i),\n",
    "        'numOfRows' : '1000',\n",
    "        'type' : 'json'\n",
    "    }\n",
    "    response = requests.get(url, params=params)\n",
    "    content = response.text\n",
    "    \n",
    "    # Json List 변환\n",
    "    lawd_cd_df = pd.DataFrame(pd.json_normalize(data = json.loads(content), record_path = 'StanReginCd')['row'][1])\n",
    "    lawd_cd_list = list(lawd_cd_df['locatjumin_cd'].str[:10])\n",
    "    \n",
    "    # 시군구코드 unique하게 남기기\n",
    "    for x in lawd_cd_list:\n",
    "        if x not in lawd_cd_unique:\n",
    "            lawd_cd_unique.append(x)\n",
    "            \n",
    "            \n",
    "fails = []\n",
    "info_df = pd.DataFrame()\n",
    "\n",
    "for i in tqdm(range(0,1000)):\n",
    "    cortar_url = 'https://m.land.naver.com/cluster/ajax/articleList?itemId=&mapKey=&lgeo=&showR0=&rletTpCd=SG&tradTpCd=A1%3AB1%3AB2&z=14&totCnt=402&cortarNo={}&sort=rank'.format(lawd_cd_unique[i])\n",
    "    count = 0\n",
    "    \n",
    "    for num in range(1,4):\n",
    "        \n",
    "        try:\n",
    "            count += 1\n",
    "            start = time.time() \n",
    "            url = cortar_url + str(num)\n",
    "            headers = {'user-agent' : ua.ie,'referer' : 'https://m.land.naver.com/'}\n",
    "            time.sleep(random.randrange(3,7))\n",
    "            response = requests.get(url, headers = headers)\n",
    "            print(response,str(int(time.time()-start)) + 'ms', str(count) +'/3')\n",
    "            items = response.json()['body']\n",
    "            df = pd.DataFrame(items)\n",
    "            info_df = info_df.append(df)\n",
    "        except:\n",
    "            fails.append([i,num])\n",
    "            \n",
    "    if i % 100 == 0:\n",
    "        info_df.to_csv('./네이버부동산_'+str(i+2)+'.csv',index=False,encoding='utf-8-sig')\n",
    "\n",
    "info_df.to_csv('./네이버부동산_'+str(i+1)+'.csv',index=False,encoding='utf-8-sig')        "
   ]
  },
  {
   "cell_type": "markdown",
   "id": "3f5edb77-c234-45a2-8bcd-6e17b7f7a8ff",
   "metadata": {
    "jp-MarkdownHeadingCollapsed": true,
    "tags": []
   },
   "source": [
    "### ver3"
   ]
  },
  {
   "cell_type": "code",
   "execution_count": null,
   "id": "6a501f18-9b1e-4386-961f-fae28b824fd6",
   "metadata": {},
   "outputs": [],
   "source": [
    "# 임포트\n",
    "import json\n",
    "import time\n",
    "import random\n",
    "import requests\n",
    "import psycopg2\n",
    "import numpy  as np\n",
    "import pandas as pd\n",
    "from tqdm import tqdm\n",
    "from fake_useragent import UserAgent\n",
    "\n",
    "ua = UserAgent()\n",
    "\n",
    "\n",
    "### 1. 법정동 API\n",
    "lawd_cd_df = pd.DataFrame()\n",
    "lawd_cd_list = []\n",
    "lawd_cd_unique = []\n",
    "\n",
    "for i in range(1, 22):\n",
    "    \n",
    "    url = 'http://apis.data.go.kr/1741000/StanReginCd/getStanReginCdList'\n",
    "    serviceKey = 'C94PKnigawlH2iISVWz1Itw9tVzyuOCbOvKgzCrGOUZWvs3XqrkhH+/ntypJ7kK2P2g16vLYCJif3TNfO1i1KA=='\n",
    "    params = {\n",
    "        'serviceKey' : serviceKey,\n",
    "        'pageNo' : str(i),\n",
    "        'numOfRows' : '1000',\n",
    "        'type' : 'json'\n",
    "    }\n",
    "    response = requests.get(url, params=params)\n",
    "    content = response.text\n",
    "    \n",
    "    # Json List 변환\n",
    "    lawd_cd_df = pd.DataFrame(pd.json_normalize(data = json.loads(content), record_path = 'StanReginCd')['row'][1])\n",
    "    lawd_cd_list = list(lawd_cd_df['locatjumin_cd'].str[:10])\n",
    "    \n",
    "    # 시군구코드 unique하게 남기기\n",
    "    for x in lawd_cd_list:\n",
    "        if x not in lawd_cd_unique:\n",
    "            lawd_cd_unique.append(x)\n",
    "\n",
    "\n",
    "### 2. 전월세 호가 수집\n",
    "# 변수 생성\n",
    "fails = [] # 수집 안 된 법정동\n",
    "info_df = pd.DataFrame() # 최종 데이터프레임\n",
    "\n",
    "# json to dataframe (법정동 단위 수집)\n",
    "for i in tqdm(range(0,2)):\n",
    "    \n",
    "    # url 설정\n",
    "    url = 'https://m.land.naver.com/cluster/ajax/articleList?itemId=&mapKey=&lgeo=&showR0=&rletTpCd=SG&tradTpCd=A1%3AB1%3AB2&z=14&totCnt=402&cortarNo={}&sort=rank'.format(lawd_cd_unique[i])\n",
    "      \n",
    "    try:\n",
    "        # url 호출\n",
    "        headers = {'user-agent' : ua.ie,'referer' : 'https://m.land.naver.com/'}\n",
    "        time.sleep(random.randrange(3,7))\n",
    "        response = requests.get(url, headers = headers)\n",
    "\n",
    "        # body 태그 선택\n",
    "        items = response.json()['body']\n",
    "\n",
    "        # 데이터프레임화\n",
    "        df = pd.DataFrame(items)\n",
    "        info_df = info_df.append(df)\n",
    "        time.sleep(random.randrange(1,7))\n",
    "\n",
    "    except:\n",
    "        fails.append([i])\n",
    "    \n",
    "    # 받아온 바로 적재 (언제 막힐지 모르니까 바로바로 적재함)\n",
    "    if len(info_df) > 0:\n",
    "        \n",
    "        # 컬럼 정리\n",
    "        info_df = info_df[['atclNo','cortarNo','atclNm','atclStatCd','rletTpCd','uprRletTpCd','rletTpNm','tradTpCd','tradTpNm','vrfcTpCd','flrInfo','prc','rentPrc','spc1','spc2','direction','atclCfmYmd','lat','lng','atclFetrDesc','cpid','cpNm','rltrNm']]\n",
    "        # NaN 처리\n",
    "        info_df = info_df.fillna(np.nan)\n",
    "\n",
    "        ### 3. DB INSERT\n",
    "        df = info_df\n",
    "        table = 'm1.asking_price'\n",
    "\n",
    "        # execute_mogrify\n",
    "        def execute_mogrify(conn, df, table, val):\n",
    "            # Create a list of tuples from the dataframe values\n",
    "            tuples = [tuple(x) for x in df.to_numpy()]\n",
    "            # Comma-separated dataframe columns\n",
    "            cols = ','.join(list(df.columns))\n",
    "            # SQL query to execute\n",
    "            cursor = conn.cursor()\n",
    "            values = [cursor.mogrify(val, tup).decode('utf8') for tup in\n",
    "                      tuples]\n",
    "            query = \"INSERT INTO %s(%s) VALUES \" % (table, cols) + \",\".join(values)\n",
    "\n",
    "            try:\n",
    "                cursor.execute(query, tuples)\n",
    "                conn.commit()\n",
    "            except (Exception, psycopg2.DatabaseError) as error:\n",
    "                print(\"Error: %s\" % error)\n",
    "                conn.rollback()\n",
    "                cursor.close()\n",
    "                return 1\n",
    "            cursor.close()\n",
    "\n",
    "        # values 설정\n",
    "        val = '(' + ('%s,' * len(df.columns))[:-1] + ')'\n",
    "\n",
    "        # insert\n",
    "        for j in range(0, len(df), 10000):\n",
    "\n",
    "            # DB Connect\n",
    "            conn = psycopg2.connect(\n",
    "                host='redshift-cluster-1.ctvbwnnvbdkl.ap-northeast-2.redshift.amazonaws.com',\n",
    "                port=5439,\n",
    "                dbname='dev',\n",
    "                user='awsuser',\n",
    "                password='cremaoAdmin1234qwer!!'\n",
    "            )\n",
    "\n",
    "            # 10000개 단위로 나누기\n",
    "            tmp = df[j:j + 10000]\n",
    "\n",
    "            # insert\n",
    "            execute_mogrify(conn, tmp, table, val)\n",
    "            print(datetime.datetime.now(), ' : ', j)\n",
    "            tmp = pd.DataFrame()\n",
    "\n",
    "        # row count\n",
    "        print(len(df))"
   ]
  },
  {
   "cell_type": "code",
   "execution_count": 1,
   "id": "06c86d19-43e2-44c2-aa87-5ae95055d15e",
   "metadata": {
    "tags": []
   },
   "outputs": [],
   "source": [
    "# 임포트\n",
    "import json\n",
    "import time\n",
    "import random\n",
    "import requests\n",
    "import psycopg2\n",
    "import datetime\n",
    "import numpy  as np\n",
    "import pandas as pd\n",
    "from tqdm import tqdm\n",
    "from fake_useragent import UserAgent\n",
    "\n",
    "ua = UserAgent()\n",
    "\n",
    "### 1. 깃에서 법정동 CSV 파일 불러오기 (법정동코드 10자리)\n",
    "cortar = pd.read_csv('C:\\\\oasis\\\\oasisbusiness-ds\\\\oasisbusiness-ds\\\\1_데이터수집\\\\법정동코드전체.csv')\n",
    "cortar = cortar[cortar['폐지여부\\r\\n']=='존재\\r\\n'] # 존재하는 지역만 남기기\n",
    "lawd_cd_unique = cortar.drop_duplicates('법정동코드')['법정동코드'] # 법정동 코드만 담기 (총 20551개)"
   ]
  },
  {
   "cell_type": "code",
   "execution_count": 49,
   "id": "7cf92d75-25d3-4415-8541-4282d437449e",
   "metadata": {
    "tags": []
   },
   "outputs": [
    {
     "name": "stderr",
     "output_type": "stream",
     "text": [
      "100%|████████████████████████████████████████████████████████████████████████████████████████████████████████████████| 2/2 [00:10<00:00,  5.30s/it]"
     ]
    },
    {
     "name": "stdout",
     "output_type": "stream",
     "text": [
      "2022-10-06 18:37:47.183221  :  0\n",
      "20\n"
     ]
    },
    {
     "name": "stderr",
     "output_type": "stream",
     "text": [
      "\n"
     ]
    }
   ],
   "source": [
    "### 2. 전월세 호가 수집\n",
    "# 변수 생성\n",
    "fails = [] # 수집 안 된 법정동\n",
    "info_df = pd.DataFrame() # 최종 데이터프레임\n",
    "\n",
    "# json to dataframe (법정동 단위 수집)\n",
    "for i in tqdm(range(0,2)):\n",
    "    \n",
    "    # url 설정\n",
    "    url = 'https://m.land.naver.com/cluster/ajax/articleList?itemId=&mapKey=&lgeo=&showR0=&rletTpCd=SG&tradTpCd=A1%3AB1%3AB2&z=14&totCnt=402&cortarNo={}&sort=rank'.format(lawd_cd_unique[i])\n",
    "      \n",
    "    try:\n",
    "        # url 호출\n",
    "        headers = {'user-agent' : ua.ie,'referer' : 'https://m.land.naver.com/'}\n",
    "        time.sleep(random.randrange(3,7))\n",
    "        response = requests.get(url, headers = headers)\n",
    "\n",
    "        # body 태그 선택\n",
    "        items = response.json()['body']\n",
    "\n",
    "        # 데이터프레임화\n",
    "        df = pd.DataFrame(items)\n",
    "        info_df = info_df.append(df)\n",
    "        time.sleep(random.randrange(1,7))\n",
    "\n",
    "    except:\n",
    "        fails.append([i])\n",
    "    \n",
    "    # 받아온 바로 적재 (언제 막힐지 모르니까 바로바로 적재함)\n",
    "    if len(info_df) > 0:\n",
    "        \n",
    "        # 컬럼 정리\n",
    "        info_df = info_df[['atclNo','cortarNo','atclNm','atclStatCd','rletTpCd','uprRletTpCd','rletTpNm','tradTpCd','tradTpNm','vrfcTpCd','flrInfo','prc','rentPrc','spc1','spc2','direction','atclCfmYmd','lat','lng','atclFetrDesc','cpid','cpNm','rltrNm']]\n",
    "        # NaN 처리\n",
    "        info_df = info_df.fillna(np.nan)\n",
    "\n",
    "        ### 3. DB INSERT\n",
    "        df = info_df\n",
    "        table = 'm1.asking_price'\n",
    "\n",
    "        # execute_mogrify\n",
    "        def execute_mogrify(conn, df, table, val):\n",
    "            # Create a list of tuples from the dataframe values\n",
    "            tuples = [tuple(x) for x in df.to_numpy()]\n",
    "            # Comma-separated dataframe columns\n",
    "            cols = ','.join(list(df.columns))\n",
    "            # SQL query to execute\n",
    "            cursor = conn.cursor()\n",
    "            values = [cursor.mogrify(val, tup).decode('utf8') for tup in\n",
    "                      tuples]\n",
    "            query = \"INSERT INTO %s(%s) VALUES \" % (table, cols) + \",\".join(values)\n",
    "\n",
    "            try:\n",
    "                cursor.execute(query, tuples)\n",
    "                conn.commit()\n",
    "            except (Exception, psycopg2.DatabaseError) as error:\n",
    "                print(\"Error: %s\" % error)\n",
    "                conn.rollback()\n",
    "                cursor.close()\n",
    "                return 1\n",
    "            cursor.close()\n",
    "\n",
    "        # values 설정\n",
    "        val = '(' + ('%s,' * len(df.columns))[:-1] + ')'\n",
    "\n",
    "        # insert\n",
    "        for j in range(0, len(df), 10000):\n",
    "\n",
    "            # DB Connect\n",
    "            conn = psycopg2.connect(\n",
    "                host='redshift-cluster-1.ctvbwnnvbdkl.ap-northeast-2.redshift.amazonaws.com',\n",
    "                port=5439,\n",
    "                dbname='dev',\n",
    "                user='awsuser',\n",
    "                password='cremaoAdmin1234qwer!!'\n",
    "            )\n",
    "\n",
    "            # 10000개 단위로 나누기\n",
    "            tmp = df[j:j + 10000]\n",
    "\n",
    "            # insert\n",
    "            execute_mogrify(conn, tmp, table, val)\n",
    "            print(datetime.datetime.now(), ' : ', j)\n",
    "            tmp = pd.DataFrame()\n",
    "\n",
    "        # row count\n",
    "        print(len(df))"
   ]
  },
  {
   "cell_type": "code",
   "execution_count": null,
   "id": "724bb20f-13e2-465a-b69c-9041ed795e22",
   "metadata": {},
   "outputs": [],
   "source": [
    "# 컬럼 정리\n",
    "info_df = info_df[['atclNo','cortarNo','atclNm','atclStatCd','rletTpCd','uprRletTpCd','rletTpNm','tradTpCd','tradTpNm','vrfcTpCd','flrInfo','prc','rentPrc','spc1','spc2','direction','atclCfmYmd','lat','lng','atclFetrDesc','cpid','cpNm','rltrNm']]\n",
    "# NaN 처리\n",
    "info_df = info_df.fillna(np.nan)"
   ]
  },
  {
   "cell_type": "code",
   "execution_count": 8,
   "id": "7bacd883-d3d5-4620-b4b0-3b88772c861d",
   "metadata": {},
   "outputs": [],
   "source": [
    "# list to str\n",
    "info_df = info_df.reset_index(drop=True)\n",
    "for i in info_df.index:\n",
    "    info_df.loc[i]['tagList'] = ' '.join(info_df['tagList'][i])"
   ]
  },
  {
   "cell_type": "code",
   "execution_count": null,
   "id": "e81219ca-a8fb-4909-8d87-4d4eb4e3052e",
   "metadata": {},
   "outputs": [],
   "source": [
    "# 컬럼 정리\n",
    "info_df = info_df[['atclNo','cortarNo','atclNm','atclStatCd','rletTpCd','uprRletTpCd','rletTpNm','tradTpCd','tradTpNm','vrfcTpCd','flrInfo','prc','rentPrc','hanPrc','spc1','spc2','direction','atclCfmYmd','lat','lng','atclFetrDesc','tagList','bildNm','minute','sameAddrCnt','sameAddrDirectCnt','cpid','cpNm','cpCnt','rltrNm','directTradYn','minMviFee','maxMviFee','etRoomCnt','tradePriceHan','tradeRentPrice','tradeCheckedByOwner','cpLinkVO','dtlAddrYn','dtlAddr']]\n",
    "# info_df = info_df.reset_index(drop=True)\n",
    "\n",
    "# 매물정보(cpLinkVO) 데이터 타입 변경 (dict to list)\n",
    "for i in range(len(info_df.index)):\n",
    "    for key, value in info_df['cpLinkVO'].iteritems():\n",
    "        tmp = [value]\n",
    "        info_df['cpLinkVO'][i] = tmp"
   ]
  },
  {
   "cell_type": "code",
   "execution_count": 38,
   "id": "462928dc-0a06-43bb-88a5-aeeabba9ec8d",
   "metadata": {
    "tags": []
   },
   "outputs": [
    {
     "name": "stdout",
     "output_type": "stream",
     "text": [
      "2022-10-06 18:33:21.595011  :  0\n",
      "20\n"
     ]
    }
   ],
   "source": [
    "### 3. DB INSERT\n",
    "df = info_df\n",
    "table = 'm1.asking_price'\n",
    "\n",
    "# execute_mogrify\n",
    "def execute_mogrify(conn, df, table, val):\n",
    "    # Create a list of tuples from the dataframe values\n",
    "    tuples = [tuple(x) for x in df.to_numpy()]\n",
    "    # Comma-separated dataframe columns\n",
    "    cols = ','.join(list(df.columns))\n",
    "    # SQL query to execute\n",
    "    cursor = conn.cursor()\n",
    "    values = [cursor.mogrify(val, tup).decode('utf8') for tup in\n",
    "              tuples]\n",
    "    query = \"INSERT INTO %s(%s) VALUES \" % (table, cols) + \",\".join(values)\n",
    "\n",
    "    try:\n",
    "        cursor.execute(query, tuples)\n",
    "        conn.commit()\n",
    "    except (Exception, psycopg2.DatabaseError) as error:\n",
    "        print(\"Error: %s\" % error)\n",
    "        conn.rollback()\n",
    "        cursor.close()\n",
    "        return 1\n",
    "    cursor.close()\n",
    "\n",
    "# values 설정\n",
    "val = '(' + ('%s,' * len(df.columns))[:-1] + ')'\n",
    "\n",
    "# insert\n",
    "for j in range(0, len(df), 10000):\n",
    "\n",
    "    # DB Connect\n",
    "    conn = psycopg2.connect(\n",
    "        host='redshift-cluster-1.ctvbwnnvbdkl.ap-northeast-2.redshift.amazonaws.com',\n",
    "        port=5439,\n",
    "        dbname='dev',\n",
    "        user='awsuser',\n",
    "        password='cremaoAdmin1234qwer!!'\n",
    "    )\n",
    "\n",
    "    # 10000개 단위로 나누기\n",
    "    tmp = df[j:j + 10000]\n",
    "\n",
    "    # insert\n",
    "    execute_mogrify(conn, tmp, table, val)\n",
    "    print(datetime.datetime.now(), ' : ', j)\n",
    "    tmp = pd.DataFrame()\n",
    "\n",
    "# row count\n",
    "print(len(df))"
   ]
  },
  {
   "cell_type": "markdown",
   "id": "63ea5663-a049-403f-bf73-b4b4be511ee8",
   "metadata": {
    "jp-MarkdownHeadingCollapsed": true,
    "tags": []
   },
   "source": [
    "### ver4"
   ]
  },
  {
   "cell_type": "code",
   "execution_count": null,
   "id": "cad094f7-0895-4ea6-b0d8-bf241b16e35b",
   "metadata": {},
   "outputs": [],
   "source": [
    "# 임포트\n",
    "import json\n",
    "import time\n",
    "import random\n",
    "import requests\n",
    "import psycopg2\n",
    "import datetime\n",
    "import numpy  as np\n",
    "import pandas as pd\n",
    "from tqdm import tqdm\n",
    "from fake_useragent import UserAgent\n",
    "\n",
    "ua = UserAgent()\n",
    "\n",
    "\n",
    "### 1. 법정동 API\n",
    "lawd_cd_df = pd.DataFrame()\n",
    "lawd_cd_list = []\n",
    "lawd_cd_unique = []\n",
    "\n",
    "for i in range(1, 22):\n",
    "    \n",
    "    url = 'http://apis.data.go.kr/1741000/StanReginCd/getStanReginCdList'\n",
    "    serviceKey = 'C94PKnigawlH2iISVWz1Itw9tVzyuOCbOvKgzCrGOUZWvs3XqrkhH+/ntypJ7kK2P2g16vLYCJif3TNfO1i1KA=='\n",
    "    params = {\n",
    "        'serviceKey' : serviceKey,\n",
    "        'pageNo' : str(i),\n",
    "        'numOfRows' : '1000',\n",
    "        'type' : 'json'\n",
    "    }\n",
    "    response = requests.get(url, params=params)\n",
    "    content = response.text\n",
    "    \n",
    "    # Json List 변환\n",
    "    lawd_cd_df = pd.DataFrame(pd.json_normalize(data = json.loads(content), record_path = 'StanReginCd')['row'][1])\n",
    "    lawd_cd_list = list(lawd_cd_df['locatjumin_cd'].str[:10])\n",
    "    \n",
    "    # 시군구코드 unique하게 남기기\n",
    "    for x in lawd_cd_list:\n",
    "        if x not in lawd_cd_unique:\n",
    "            lawd_cd_unique.append(x)\n",
    "\n",
    "# 시군구 단위 삭제\n",
    "matching = [s for s in lawd_cd_unique if \"00000\" in s]\n",
    "for s in lawd_cd_unique:\n",
    "    if s in matching:\n",
    "        lawd_cd_unique.remove(s)\n",
    "\n",
    "\n",
    "### 2. 전월세 호가 수집\n",
    "# 변수 생성\n",
    "fails = [] # 호가 데이터 없는 법정동\n",
    "\n",
    "# json to dataframe\n",
    "for i in tqdm(range(len(lawd_cd_unique))):\n",
    "    \n",
    "    # 초기화\n",
    "    info_df = pd.DataFrame()\n",
    "\n",
    "    # 다음 페이지 존재 여부 확인\n",
    "    for page in tqdm(range(0,10000)): # 진행상황 확인하고 tqdm 지우기\n",
    "\n",
    "        # url 호출\n",
    "        url = 'https://m.land.naver.com/cluster/ajax/articleList?itemId=&mapKey=&lgeo=&showR0=&rletTpCd=SG&tradTpCd=A1%3AB1%3AB2&z=14&totCnt=402&cortarNo={}&sort=rank&page={}'.format(lawd_cd_unique[i],str(page+1))\n",
    "        headers = {'user-agent' : ua.ie,'referer' : 'https://m.land.naver.com/'}\n",
    "        time.sleep(random.randrange(3,7))\n",
    "        response = requests.get(url, headers = headers)\n",
    "\n",
    "        # body 태그 선택\n",
    "        items = response.json()['body']\n",
    "\n",
    "        # 다음 페이지 존재 여부 확인\n",
    "        if (response.json()['more'] == True):\n",
    "\n",
    "            try:\n",
    "                # 데이터프레임화\n",
    "                df = pd.DataFrame(items)\n",
    "                info_df = info_df.append(df)\n",
    "            except:\n",
    "                fails.append([i])\n",
    "                \n",
    "        else:\n",
    "            break\n",
    "\n",
    "    # 받은 데이터 바로 적재 (언제 막힐지 모르니까 바로바로 적재함)\n",
    "    if len(info_df) > 0:\n",
    "        \n",
    "        # 컬럼 정리\n",
    "        info_df = info_df[['atclNo','cortarNo','atclNm','atclStatCd','rletTpCd','uprRletTpCd','rletTpNm','tradTpCd','tradTpNm','vrfcTpCd','flrInfo','prc','rentPrc','spc1','spc2','direction','atclCfmYmd','lat','lng','atclFetrDesc','cpid','cpNm','rltrNm']]\n",
    "        # NaN 처리\n",
    "        info_df = info_df.fillna(np.nan)\n",
    "\n",
    "        ### 3. DB INSERT\n",
    "        df = info_df\n",
    "        table = 'm1.asking_price'\n",
    "\n",
    "        # execute_mogrify\n",
    "        def execute_mogrify(conn, df, table, val):\n",
    "            # Create a list of tuples from the dataframe values\n",
    "            tuples = [tuple(x) for x in df.to_numpy()]\n",
    "            # Comma-separated dataframe columns\n",
    "            cols = ','.join(list(df.columns))\n",
    "            # SQL query to execute\n",
    "            cursor = conn.cursor()\n",
    "            values = [cursor.mogrify(val, tup).decode('utf8') for tup in\n",
    "                      tuples]\n",
    "            query = \"INSERT INTO %s(%s) VALUES \" % (table, cols) + \",\".join(values)\n",
    "\n",
    "            try:\n",
    "                cursor.execute(query, tuples)\n",
    "                conn.commit()\n",
    "            except (Exception, psycopg2.DatabaseError) as error:\n",
    "                print(\"Error: %s\" % error)\n",
    "                conn.rollback()\n",
    "                cursor.close()\n",
    "                return 1\n",
    "            cursor.close()\n",
    "\n",
    "        # values 설정\n",
    "        val = '(' + ('%s,' * len(df.columns))[:-1] + ')'\n",
    "\n",
    "        # insert\n",
    "        for j in range(0, len(df), 10000):\n",
    "\n",
    "            # DB Connect\n",
    "            conn = psycopg2.connect(\n",
    "                host='redshift-cluster-1.ctvbwnnvbdkl.ap-northeast-2.redshift.amazonaws.com',\n",
    "                port=5439,\n",
    "                dbname='dev',\n",
    "                user='awsuser',\n",
    "                password='cremaoAdmin1234qwer!!'\n",
    "            )\n",
    "\n",
    "            # 10000개 단위로 나누기\n",
    "            tmp = df[j:j + 10000]\n",
    "\n",
    "            # insert\n",
    "            execute_mogrify(conn, tmp, table, val)\n",
    "            print(datetime.datetime.now(), ' : ', j)\n",
    "            tmp = pd.DataFrame()\n",
    "\n",
    "        # row count\n",
    "        print(len(df))"
   ]
  },
  {
   "cell_type": "code",
   "execution_count": 34,
   "id": "22c4bde5-a434-4cb6-ba25-ae678a9055bb",
   "metadata": {},
   "outputs": [],
   "source": [
    "# 임포트\n",
    "import json\n",
    "import time\n",
    "import random\n",
    "import requests\n",
    "import psycopg2\n",
    "import datetime\n",
    "import numpy  as np\n",
    "import pandas as pd\n",
    "from tqdm import tqdm\n",
    "from fake_useragent import UserAgent\n",
    "\n",
    "ua = UserAgent()\n",
    "\n",
    "### 1. 깃에서 법정동 CSV 파일 불러오기 (법정동코드 10자리)\n",
    "cortar = pd.read_csv('C:\\\\oasis\\\\oasisbusiness-ds\\\\oasisbusiness-ds\\\\1_데이터수집\\\\법정동코드전체.csv')\n",
    "cortar = cortar[cortar['폐지여부\\r\\n']=='존재\\r\\n'] # 존재하는 지역만 남기기\n",
    "lawd_cd_unique = cortar.drop_duplicates('법정동코드')['법정동코드'] # 법정동 코드만 담기 (총 20551개)"
   ]
  },
  {
   "cell_type": "code",
   "execution_count": 66,
   "id": "3e833192-cc1b-4da7-81cd-0a151a3edd83",
   "metadata": {},
   "outputs": [],
   "source": [
    "### 1. 법정동 API\n",
    "lawd_cd_df = pd.DataFrame()\n",
    "lawd_cd_list = []\n",
    "lawd_cd_unique = []\n",
    "\n",
    "for i in range(1, 22):\n",
    "    \n",
    "    url = 'http://apis.data.go.kr/1741000/StanReginCd/getStanReginCdList'\n",
    "    serviceKey = 'C94PKnigawlH2iISVWz1Itw9tVzyuOCbOvKgzCrGOUZWvs3XqrkhH+/ntypJ7kK2P2g16vLYCJif3TNfO1i1KA=='\n",
    "    params = {\n",
    "        'serviceKey' : serviceKey,\n",
    "        'pageNo' : str(i),\n",
    "        'numOfRows' : '1000',\n",
    "        'type' : 'json'\n",
    "    }\n",
    "    response = requests.get(url, params=params)\n",
    "    content = response.text\n",
    "    \n",
    "    # Json List 변환\n",
    "    lawd_cd_df = pd.DataFrame(pd.json_normalize(data = json.loads(content), record_path = 'StanReginCd')['row'][1])\n",
    "    lawd_cd_list = list(lawd_cd_df['locatjumin_cd'].str[:10])\n",
    "    \n",
    "    # 시군구코드 unique하게 남기기\n",
    "    for x in lawd_cd_list:\n",
    "        if x not in lawd_cd_unique:\n",
    "            lawd_cd_unique.append(x)\n",
    "\n",
    "# 시군구 단위 삭제\n",
    "matching = [s for s in lawd_cd_unique if \"00000\" in s]\n",
    "for s in lawd_cd_unique:\n",
    "    if s in matching:\n",
    "        lawd_cd_unique.remove(s)"
   ]
  },
  {
   "cell_type": "code",
   "execution_count": 87,
   "id": "f1449912-9c19-4b80-888a-f17973cea022",
   "metadata": {
    "tags": []
   },
   "outputs": [
    {
     "name": "stderr",
     "output_type": "stream",
     "text": [
      "  0%|                                                                                                                        | 0/2 [00:00<?, ?it/s]\n",
      "  0%|                                                                                                                       | 0/50 [00:00<?, ?it/s]\u001b[A\n",
      "  2%|██▏                                                                                                            | 1/50 [00:05<04:10,  5.11s/it]\u001b[A\n",
      "  4%|████▍                                                                                                          | 2/50 [00:09<03:36,  4.51s/it]\u001b[A\n",
      "  6%|██████▋                                                                                                        | 3/50 [00:13<03:23,  4.32s/it]\u001b[A\n",
      "  8%|████████▉                                                                                                      | 4/50 [00:17<03:14,  4.23s/it]\u001b[A\n",
      " 10%|███████████                                                                                                    | 5/50 [00:20<02:51,  3.82s/it]\u001b[A\n",
      " 12%|█████████████▎                                                                                                 | 6/50 [00:23<02:37,  3.58s/it]\u001b[A\n",
      " 14%|███████████████▌                                                                                               | 7/50 [00:27<02:41,  3.75s/it]\u001b[A\n",
      " 16%|█████████████████▊                                                                                             | 8/50 [00:30<02:28,  3.53s/it]\u001b[A\n",
      " 18%|███████████████████▉                                                                                           | 9/50 [00:34<02:32,  3.71s/it]\u001b[A\n",
      " 20%|██████████████████████                                                                                        | 10/50 [00:37<02:20,  3.52s/it]\u001b[A\n",
      " 22%|████████████████████████▏                                                                                     | 11/50 [00:42<02:24,  3.70s/it]\u001b[A\n",
      " 24%|██████████████████████████▍                                                                                   | 12/50 [00:45<02:13,  3.51s/it]\u001b[A\n",
      " 26%|████████████████████████████▌                                                                                 | 13/50 [00:51<02:39,  4.30s/it]\u001b[A\n",
      " 28%|██████████████████████████████▊                                                                               | 14/50 [00:56<02:43,  4.54s/it]\u001b[A\n",
      " 30%|█████████████████████████████████                                                                             | 15/50 [00:59<02:23,  4.10s/it]\u001b[A\n",
      " 32%|███████████████████████████████████▏                                                                          | 16/50 [01:03<02:19,  4.11s/it]\u001b[A\n",
      " 34%|█████████████████████████████████████▍                                                                        | 17/50 [01:09<02:35,  4.70s/it]\u001b[A\n",
      " 36%|███████████████████████████████████████▌                                                                      | 18/50 [01:14<02:34,  4.82s/it]\u001b[A\n",
      " 38%|█████████████████████████████████████████▊                                                                    | 19/50 [01:17<02:13,  4.31s/it]\u001b[A\n",
      " 40%|████████████████████████████████████████████                                                                  | 20/50 [01:20<01:58,  3.94s/it]\u001b[A\n",
      " 42%|██████████████████████████████████████████████▏                                                               | 21/50 [01:26<02:04,  4.29s/it]\u001b[A\n",
      " 44%|████████████████████████████████████████████████▍                                                             | 22/50 [01:31<02:07,  4.54s/it]\u001b[A\n",
      " 46%|██████████████████████████████████████████████████▌                                                           | 23/50 [01:34<01:50,  4.11s/it]\u001b[A\n",
      " 48%|████████████████████████████████████████████████████▊                                                         | 24/50 [01:39<01:54,  4.40s/it]\u001b[A\n",
      " 50%|███████████████████████████████████████████████████████                                                       | 25/50 [01:44<01:55,  4.61s/it]\u001b[A\n",
      " 52%|█████████████████████████████████████████████████████████▏                                                    | 26/50 [01:49<01:54,  4.76s/it]\u001b[A\n",
      " 54%|███████████████████████████████████████████████████████████▍                                                  | 27/50 [01:55<01:58,  5.16s/it]\u001b[A\n",
      " 56%|█████████████████████████████████████████████████████████████▌                                                | 28/50 [01:59<01:46,  4.84s/it]\u001b[A\n",
      " 58%|███████████████████████████████████████████████████████████████▊                                              | 29/50 [02:02<01:30,  4.32s/it]\u001b[A\n",
      " 60%|██████████████████████████████████████████████████████████████████                                            | 30/50 [02:05<01:19,  3.95s/it]\u001b[A\n",
      " 62%|████████████████████████████████████████████████████████████████████▏                                         | 31/50 [02:10<01:16,  4.00s/it]\u001b[A\n",
      " 64%|██████████████████████████████████████████████████████████████████████▍                                       | 32/50 [02:13<01:07,  3.74s/it]\u001b[A\n",
      " 66%|████████████████████████████████████████████████████████████████████████▌                                     | 33/50 [02:16<01:00,  3.55s/it]\u001b[A\n",
      " 68%|██████████████████████████████████████████████████████████████████████████▊                                   | 34/50 [02:20<00:59,  3.71s/it]\u001b[A\n",
      " 70%|█████████████████████████████████████████████████████████████████████████████                                 | 35/50 [02:26<01:06,  4.43s/it]\u001b[A\n",
      " 72%|███████████████████████████████████████████████████████████████████████████████▏                              | 36/50 [02:31<01:04,  4.63s/it]\u001b[A\n",
      " 74%|█████████████████████████████████████████████████████████████████████████████████▍                            | 37/50 [02:35<00:58,  4.47s/it]\u001b[A\n",
      " 76%|███████████████████████████████████████████████████████████████████████████████████▌                          | 38/50 [02:39<00:52,  4.36s/it]\u001b[A\n",
      " 78%|█████████████████████████████████████████████████████████████████████████████████████▊                        | 39/50 [02:42<00:43,  3.99s/it]\u001b[A\n",
      " 80%|████████████████████████████████████████████████████████████████████████████████████████                      | 40/50 [02:47<00:43,  4.32s/it]\u001b[A\n",
      " 82%|██████████████████████████████████████████████████████████████████████████████████████████▏                   | 41/50 [02:51<00:35,  3.95s/it]\u001b[A\n",
      " 84%|████████████████████████████████████████████████████████████████████████████████████████████▍                 | 42/50 [02:55<00:32,  4.00s/it]\u001b[A\n",
      " 86%|██████████████████████████████████████████████████████████████████████████████████████████████▌               | 43/50 [03:01<00:32,  4.63s/it]\u001b[A\n",
      " 88%|████████████████████████████████████████████████████████████████████████████████████████████████▊             | 44/50 [03:04<00:25,  4.17s/it]\u001b[A\n",
      " 90%|███████████████████████████████████████████████████████████████████████████████████████████████████           | 45/50 [03:08<00:20,  4.15s/it]\u001b[A\n",
      " 92%|█████████████████████████████████████████████████████████████████████████████████████████████████████▏        | 46/50 [03:12<00:16,  4.13s/it]\u001b[A\n",
      " 94%|███████████████████████████████████████████████████████████████████████████████████████████████████████▍      | 47/50 [03:17<00:13,  4.43s/it]\u001b[A\n",
      " 96%|█████████████████████████████████████████████████████████████████████████████████████████████████████████▌    | 48/50 [03:21<00:08,  4.33s/it]\u001b[A\n",
      " 98%|███████████████████████████████████████████████████████████████████████████████████████████████████████████▊  | 49/50 [03:26<00:04,  4.56s/it]\u001b[A\n",
      "100%|██████████████████████████████████████████████████████████████████████████████████████████████████████████████| 50/50 [03:33<00:00,  4.26s/it]\u001b[A\n",
      " 50%|███████████████████████████████████████████████████████▌                                                       | 1/2 [03:33<03:33, 213.04s/it]\n",
      "  0%|                                                                                                                       | 0/50 [00:03<?, ?it/s]\u001b[A\n",
      "100%|███████████████████████████████████████████████████████████████████████████████████████████████████████████████| 2/2 [03:36<00:00, 108.06s/it]\n"
     ]
    }
   ],
   "source": [
    "### 2. 전월세 호가 수집\n",
    "# 변수 생성\n",
    "fails = [] # 호가 데이터 없는 법정동\n",
    "info_df = pd.DataFrame()\n",
    "\n",
    "# json to dataframe\n",
    "for i in tqdm(range(0,2)):\n",
    "    \n",
    "    # 다음 페이지 존재 여부 확인\n",
    "    for page in tqdm(range(0,1000)): # 진행상황 확인하고 tqdm 지우기\n",
    "\n",
    "        # url 호출\n",
    "        url = 'https://m.land.naver.com/cluster/ajax/articleList?itemId=&mapKey=&lgeo=&showR0=&rletTpCd=SG&tradTpCd=A1%3AB1%3AB2&z=14&totCnt=402&cortarNo={}&sort=rank&page={}'.format(lawd_cd_unique[i],str(i+1))\n",
    "        headers = {'user-agent' : ua.ie,'referer' : 'https://m.land.naver.com/'}\n",
    "        time.sleep(random.randrange(3,7))\n",
    "        response = requests.get(url, headers = headers)\n",
    "\n",
    "        # body 태그 선택\n",
    "        items = response.json()['body']\n",
    "\n",
    "        # 다음 페이지 존재 여부 확인\n",
    "        if (response.json()['more'] == True):\n",
    "\n",
    "            try:\n",
    "                # 데이터프레임화\n",
    "                df = pd.DataFrame(items)\n",
    "                info_df = info_df.append(df)\n",
    "\n",
    "            except:\n",
    "                fails.append([i])\n",
    "\n",
    "        else:\n",
    "            break"
   ]
  },
  {
   "cell_type": "code",
   "execution_count": null,
   "id": "47a4c719-c107-4f50-bf95-d4ebce8785de",
   "metadata": {},
   "outputs": [],
   "source": [
    "# 중복값 제거\n",
    "if (len(info_df) != len(info_df.drop_duplicates('atclNo'))):\n",
    "    info_df = info_df.drop_duplicates(drop=True)"
   ]
  },
  {
   "cell_type": "markdown",
   "id": "4407e258-bc4c-40ca-9634-43355204f7d6",
   "metadata": {},
   "source": [
    "### 돌려놓기 (최종)"
   ]
  },
  {
   "cell_type": "markdown",
   "id": "6d8ad6b3-4e45-45b0-8fec-cfd3838808ca",
   "metadata": {},
   "source": [
    "* csv ver"
   ]
  },
  {
   "cell_type": "code",
   "execution_count": 1,
   "id": "26618a45-cf82-4e50-8512-f95a2bba1d27",
   "metadata": {},
   "outputs": [],
   "source": [
    "# 임포트\n",
    "import json\n",
    "import time\n",
    "import random\n",
    "import requests\n",
    "import psycopg2\n",
    "import datetime\n",
    "import numpy  as np\n",
    "import pandas as pd\n",
    "from tqdm import tqdm\n",
    "from fake_useragent import UserAgent\n",
    "\n",
    "ua = UserAgent()\n",
    "\n",
    "\n",
    "### 1. 법정동 API\n",
    "lawd_cd_df = pd.DataFrame()\n",
    "lawd_cd_list = []\n",
    "lawd_cd_unique = []\n",
    "\n",
    "for i in range(1, 22):\n",
    "    \n",
    "    url = 'http://apis.data.go.kr/1741000/StanReginCd/getStanReginCdList'\n",
    "    serviceKey = 'C94PKnigawlH2iISVWz1Itw9tVzyuOCbOvKgzCrGOUZWvs3XqrkhH+/ntypJ7kK2P2g16vLYCJif3TNfO1i1KA=='\n",
    "    params = {\n",
    "        'serviceKey' : serviceKey,\n",
    "        'pageNo' : str(i),\n",
    "        'numOfRows' : '1000',\n",
    "        'type' : 'json'\n",
    "    }\n",
    "    response = requests.get(url, params=params)\n",
    "    content = response.text\n",
    "    \n",
    "    # Json List 변환\n",
    "    lawd_cd_df = pd.DataFrame(pd.json_normalize(data = json.loads(content), record_path = 'StanReginCd')['row'][1])\n",
    "    lawd_cd_list = list(lawd_cd_df['locatjumin_cd'].str[:10])\n",
    "    \n",
    "    # 시군구코드 unique하게 남기기\n",
    "    for x in lawd_cd_list:\n",
    "        if x not in lawd_cd_unique:\n",
    "            lawd_cd_unique.append(x)\n",
    "\n",
    "# 시군구 단위 삭제 (법정동 단위만 남김 : 총 20,293개)\n",
    "matching = [s for s in lawd_cd_unique if \"00000\" in s]\n",
    "for s in lawd_cd_unique:\n",
    "    if s in matching:\n",
    "        lawd_cd_unique.remove(s)"
   ]
  },
  {
   "cell_type": "code",
   "execution_count": 26,
   "id": "fef70b25-5d57-4229-93d8-b8fcdd0eacc5",
   "metadata": {
    "collapsed": true,
    "jupyter": {
     "outputs_hidden": true
    },
    "tags": []
   },
   "outputs": [
    {
     "name": "stderr",
     "output_type": "stream",
     "text": [
      "  0%|                                                                                                                     | 0/6465 [00:00<?, ?it/s]\n",
      "  0%|                                                                                                                      | 0/100 [00:06<?, ?it/s]\u001b[A\n",
      "  0%|                                                                                                          | 1/6465 [00:06<10:54:04,  6.07s/it]\n",
      "  0%|                                                                                                                      | 0/100 [00:04<?, ?it/s]\u001b[A\n",
      "  0%|                                                                                                           | 2/6465 [00:10<8:48:14,  4.90s/it]\n",
      "  0%|                                                                                                                      | 0/100 [00:04<?, ?it/s]\u001b[A\n",
      "  0%|                                                                                                           | 3/6465 [00:14<8:08:01,  4.53s/it]\n",
      "  0%|                                                                                                                      | 0/100 [00:03<?, ?it/s]\u001b[A\n",
      "  0%|                                                                                                           | 4/6465 [00:17<7:06:46,  3.96s/it]\n",
      "  0%|                                                                                                                      | 0/100 [00:04<?, ?it/s]\u001b[A\n",
      "  0%|                                                                                                           | 5/6465 [00:21<7:10:16,  4.00s/it]\n",
      "  0%|                                                                                                                      | 0/100 [00:05<?, ?it/s]\u001b[A\n",
      "  0%|                                                                                                           | 6/6465 [00:26<7:50:33,  4.37s/it]\n",
      "  0%|                                                                                                                      | 0/100 [00:06<?, ?it/s]\u001b[A\n",
      "  0%|                                                                                                           | 7/6465 [00:32<8:51:58,  4.94s/it]\n",
      "  0%|                                                                                                                      | 0/100 [00:06<?, ?it/s]\u001b[A\n",
      "  0%|▏                                                                                                          | 8/6465 [00:38<9:32:16,  5.32s/it]\n",
      "  0%|                                                                                                                      | 0/100 [00:06<?, ?it/s]\u001b[A\n",
      "  0%|▏                                                                                                          | 9/6465 [00:44<9:58:15,  5.56s/it]\n",
      "  0%|                                                                                                                      | 0/100 [00:03<?, ?it/s]\u001b[A\n",
      "  0%|▏                                                                                                         | 10/6465 [00:47<8:35:13,  4.79s/it]\n",
      "  0%|                                                                                                                      | 0/100 [00:04<?, ?it/s]\u001b[A\n",
      "  0%|▏                                                                                                         | 11/6465 [00:51<8:11:40,  4.57s/it]\n",
      "  0%|                                                                                                                      | 0/100 [00:05<?, ?it/s]\u001b[A\n",
      "  0%|▏                                                                                                         | 12/6465 [00:57<8:27:56,  4.72s/it]\n",
      "  0%|                                                                                                                      | 0/100 [00:06<?, ?it/s]\u001b[A\n",
      "  0%|▏                                                                                                        | 13/6465 [01:45<32:00:52, 17.86s/it]\n",
      "  0%|                                                                                                                      | 0/100 [00:00<?, ?it/s]\u001b[A\n",
      "  1%|█                                                                                                             | 1/100 [00:07<11:51,  7.19s/it]\u001b[A\n",
      "  0%|▏                                                                                                        | 14/6465 [01:53<26:52:49, 15.00s/it]"
     ]
    },
    {
     "name": "stdout",
     "output_type": "stream",
     "text": [
      "2022-10-13 08:44:47.063857  :  0\n",
      "5\n"
     ]
    },
    {
     "name": "stderr",
     "output_type": "stream",
     "text": [
      "\n",
      "  0%|                                                                                                                      | 0/100 [00:00<?, ?it/s]\u001b[A\n",
      "  1%|█                                                                                                             | 1/100 [00:08<13:25,  8.14s/it]\u001b[A\n",
      "  0%|▏                                                                                                        | 15/6465 [02:02<23:41:17, 13.22s/it]"
     ]
    },
    {
     "name": "stdout",
     "output_type": "stream",
     "text": [
      "2022-10-13 08:44:56.161555  :  0\n",
      "1\n"
     ]
    },
    {
     "name": "stderr",
     "output_type": "stream",
     "text": [
      "\n",
      "  0%|                                                                                                                      | 0/100 [00:05<?, ?it/s]\u001b[A\n",
      "  0%|▎                                                                                                        | 16/6465 [02:07<19:18:16, 10.78s/it]\n",
      "  0%|                                                                                                                      | 0/100 [00:04<?, ?it/s]\u001b[A\n",
      "  0%|▎                                                                                                        | 17/6465 [02:11<15:41:49,  8.76s/it]\n",
      "  0%|                                                                                                                      | 0/100 [00:06<?, ?it/s]\u001b[A\n",
      "  0%|▎                                                                                                        | 18/6465 [02:17<14:16:10,  7.97s/it]\n",
      "  0%|                                                                                                                      | 0/100 [00:00<?, ?it/s]\u001b[A\n",
      "  1%|█                                                                                                             | 1/100 [00:09<15:09,  9.19s/it]\u001b[A\n",
      "  0%|▎                                                                                                        | 19/6465 [02:28<15:31:40,  8.67s/it]"
     ]
    },
    {
     "name": "stdout",
     "output_type": "stream",
     "text": [
      "2022-10-13 08:45:21.771717  :  0\n",
      "1\n"
     ]
    },
    {
     "name": "stderr",
     "output_type": "stream",
     "text": [
      "\n",
      "  0%|                                                                                                                      | 0/100 [00:03<?, ?it/s]\u001b[A\n",
      "  0%|▎                                                                                                        | 20/6465 [02:31<12:32:18,  7.00s/it]\n",
      "  0%|                                                                                                                      | 0/100 [00:06<?, ?it/s]\u001b[A\n",
      "  0%|▎                                                                                                        | 21/6465 [02:37<12:02:40,  6.73s/it]\n",
      "  0%|                                                                                                                      | 0/100 [00:06<?, ?it/s]\u001b[A\n",
      "  0%|▎                                                                                                        | 22/6465 [02:43<11:41:52,  6.54s/it]\n",
      "  0%|                                                                                                                      | 0/100 [00:06<?, ?it/s]\u001b[A\n",
      "  0%|▎                                                                                                        | 23/6465 [02:49<11:28:06,  6.41s/it]\n",
      "  0%|                                                                                                                      | 0/100 [00:03<?, ?it/s]\u001b[A\n",
      "  0%|▍                                                                                                         | 24/6465 [02:52<9:41:31,  5.42s/it]\n",
      "  0%|                                                                                                                      | 0/100 [00:04<?, ?it/s]\u001b[A\n",
      "  0%|▍                                                                                                         | 25/6465 [02:56<8:58:21,  5.02s/it]\n",
      "  0%|                                                                                                                      | 0/100 [00:03<?, ?it/s]\u001b[A\n",
      "  0%|▍                                                                                                         | 26/6465 [02:59<7:56:04,  4.44s/it]\n",
      "  0%|                                                                                                                      | 0/100 [00:05<?, ?it/s]\u001b[A\n",
      "  0%|▍                                                                                                         | 27/6465 [03:04<8:16:58,  4.63s/it]\n",
      "  0%|                                                                                                                      | 0/100 [00:03<?, ?it/s]\u001b[A\n",
      "  0%|▍                                                                                                         | 28/6465 [03:08<7:28:06,  4.18s/it]\n",
      "  0%|                                                                                                                      | 0/100 [00:00<?, ?it/s]\u001b[A\n",
      "  1%|█                                                                                                             | 1/100 [00:04<06:44,  4.09s/it]\u001b[A\n",
      "  2%|██▏                                                                                                           | 2/100 [00:10<08:22,  5.12s/it]\u001b[A\n",
      "  0%|▍                                                                                                        | 29/6465 [03:19<11:31:29,  6.45s/it]"
     ]
    },
    {
     "name": "stdout",
     "output_type": "stream",
     "text": [
      "2022-10-13 08:46:13.386248  :  0\n",
      "22\n"
     ]
    },
    {
     "name": "stderr",
     "output_type": "stream",
     "text": [
      "\n",
      "  0%|                                                                                                                      | 0/100 [00:03<?, ?it/s]\u001b[A\n",
      "  0%|▍                                                                                                         | 30/6465 [03:22<9:43:42,  5.44s/it]\n",
      "  0%|                                                                                                                      | 0/100 [00:03<?, ?it/s]\u001b[A\n",
      "  0%|▌                                                                                                         | 31/6465 [03:26<8:28:54,  4.75s/it]\n",
      "  0%|                                                                                                                      | 0/100 [00:03<?, ?it/s]\u001b[A\n",
      "  0%|▌                                                                                                         | 32/6465 [03:29<7:35:26,  4.25s/it]\n",
      "  0%|                                                                                                                      | 0/100 [00:04<?, ?it/s]\u001b[A\n",
      "  1%|▌                                                                                                        | 33/6465 [04:23<34:17:09, 19.19s/it]\n",
      "  0%|                                                                                                                      | 0/100 [00:04<?, ?it/s]\u001b[A\n",
      "  1%|▌                                                                                                        | 34/6465 [04:27<26:10:52, 14.66s/it]\n",
      "  0%|                                                                                                                      | 0/100 [00:07<?, ?it/s]\u001b[A\n",
      "  1%|▌                                                                                                        | 35/6465 [04:34<22:15:51, 12.47s/it]\n",
      "  0%|                                                                                                                      | 0/100 [00:06<?, ?it/s]\u001b[A\n",
      "  1%|▌                                                                                                        | 36/6465 [04:40<18:50:10, 10.55s/it]\n",
      "  0%|                                                                                                                      | 0/100 [00:04<?, ?it/s]\u001b[A\n",
      "  1%|▌                                                                                                        | 37/6465 [04:44<15:21:57,  8.61s/it]\n",
      "  0%|                                                                                                                      | 0/100 [00:03<?, ?it/s]\u001b[A\n",
      "  1%|▌                                                                                                        | 38/6465 [04:47<12:24:08,  6.95s/it]\n",
      "  0%|                                                                                                                      | 0/100 [00:04<?, ?it/s]\u001b[A\n",
      "  1%|▋                                                                                                        | 39/6465 [04:51<10:51:33,  6.08s/it]\n",
      "  0%|                                                                                                                      | 0/100 [00:00<?, ?it/s]\u001b[A\n",
      "  1%|█                                                                                                             | 1/100 [00:06<10:11,  6.18s/it]\u001b[A\n",
      "  1%|▋                                                                                                        | 40/6465 [04:59<11:32:07,  6.46s/it]"
     ]
    },
    {
     "name": "stdout",
     "output_type": "stream",
     "text": [
      "2022-10-13 08:47:52.820619  :  0\n",
      "8\n"
     ]
    },
    {
     "name": "stderr",
     "output_type": "stream",
     "text": [
      "\n",
      "  0%|                                                                                                                      | 0/100 [00:00<?, ?it/s]\u001b[A\n",
      "  1%|█                                                                                                             | 1/100 [00:12<20:07, 12.20s/it]\u001b[A\n",
      "  1%|▋                                                                                                        | 41/6465 [05:12<15:15:11,  8.55s/it]"
     ]
    },
    {
     "name": "stdout",
     "output_type": "stream",
     "text": [
      "2022-10-13 08:48:06.231982  :  0\n",
      "3\n"
     ]
    },
    {
     "name": "stderr",
     "output_type": "stream",
     "text": [
      "\n",
      "  0%|                                                                                                                      | 0/100 [00:00<?, ?it/s]\u001b[A\n",
      "  1%|█                                                                                                             | 1/100 [00:11<18:25, 11.16s/it]\u001b[A\n",
      "  1%|▋                                                                                                        | 42/6465 [05:25<17:16:44,  9.68s/it]"
     ]
    },
    {
     "name": "stdout",
     "output_type": "stream",
     "text": [
      "2022-10-13 08:48:18.569060  :  0\n",
      "1\n"
     ]
    },
    {
     "name": "stderr",
     "output_type": "stream",
     "text": [
      "\n",
      "  0%|                                                                                                                      | 0/100 [00:06<?, ?it/s]\u001b[A\n",
      "  1%|▋                                                                                                        | 43/6465 [05:31<15:20:36,  8.60s/it]\n",
      "  0%|                                                                                                                      | 0/100 [00:00<?, ?it/s]\u001b[A\n",
      "  1%|█                                                                                                             | 1/100 [00:08<13:32,  8.20s/it]\u001b[A\n",
      "  1%|▋                                                                                                        | 44/6465 [05:40<15:46:19,  8.84s/it]"
     ]
    },
    {
     "name": "stdout",
     "output_type": "stream",
     "text": [
      "2022-10-13 08:48:34.048508  :  0\n",
      "1\n"
     ]
    },
    {
     "name": "stderr",
     "output_type": "stream",
     "text": [
      "\n",
      "  0%|                                                                                                                      | 0/100 [00:04<?, ?it/s]\u001b[A\n",
      "  1%|▋                                                                                                        | 45/6465 [05:44<13:13:57,  7.42s/it]\n",
      "  0%|                                                                                                                      | 0/100 [00:06<?, ?it/s]\u001b[A\n",
      "  1%|▋                                                                                                        | 46/6465 [05:50<12:32:37,  7.04s/it]\n",
      "  0%|                                                                                                                      | 0/100 [00:06<?, ?it/s]\u001b[A\n",
      "  1%|▊                                                                                                        | 47/6465 [05:56<12:02:25,  6.75s/it]\n",
      "  0%|                                                                                                                      | 0/100 [00:06<?, ?it/s]\u001b[A\n",
      "  1%|▊                                                                                                        | 48/6465 [06:02<11:40:45,  6.55s/it]\n",
      "  0%|                                                                                                                      | 0/100 [00:03<?, ?it/s]\u001b[A\n",
      "  1%|▊                                                                                                         | 49/6465 [06:06<9:49:34,  5.51s/it]\n",
      "  0%|                                                                                                                      | 0/100 [00:03<?, ?it/s]\u001b[A\n",
      "  1%|▊                                                                                                         | 50/6465 [06:09<8:31:19,  4.78s/it]\n",
      "  0%|                                                                                                                      | 0/100 [00:05<?, ?it/s]\u001b[A\n",
      "  1%|▊                                                                                                         | 51/6465 [06:14<8:40:12,  4.87s/it]\n",
      "  0%|                                                                                                                      | 0/100 [00:06<?, ?it/s]\u001b[A\n",
      "  1%|▊                                                                                                         | 52/6465 [06:20<9:18:54,  5.23s/it]\n",
      "  0%|                                                                                                                      | 0/100 [00:00<?, ?it/s]\u001b[A\n",
      "  1%|█                                                                                                             | 1/100 [00:11<18:46, 11.37s/it]\u001b[A\n",
      "  1%|▊                                                                                                        | 53/6465 [07:31<44:43:12, 25.11s/it]"
     ]
    },
    {
     "name": "stdout",
     "output_type": "stream",
     "text": [
      "2022-10-13 08:50:25.245768  :  0\n",
      "7\n"
     ]
    },
    {
     "name": "stderr",
     "output_type": "stream",
     "text": [
      "\n",
      "  0%|                                                                                                                      | 0/100 [00:06<?, ?it/s]\u001b[A\n",
      "  1%|▉                                                                                                        | 54/6465 [07:37<34:33:09, 19.40s/it]\n",
      "  0%|                                                                                                                      | 0/100 [00:03<?, ?it/s]\u001b[A\n",
      "  1%|▉                                                                                                        | 55/6465 [07:40<25:49:40, 14.51s/it]\n",
      "  0%|                                                                                                                      | 0/100 [00:06<?, ?it/s]\u001b[A\n",
      "  1%|▉                                                                                                        | 56/6465 [07:46<21:19:31, 11.98s/it]\n",
      "  0%|                                                                                                                      | 0/100 [00:04<?, ?it/s]\u001b[A\n",
      "  1%|▉                                                                                                        | 57/6465 [07:51<17:06:22,  9.61s/it]\n",
      "  0%|                                                                                                                      | 0/100 [00:03<?, ?it/s]\u001b[A\n",
      "  1%|▉                                                                                                        | 58/6465 [07:54<13:36:44,  7.65s/it]\n",
      "  0%|                                                                                                                      | 0/100 [00:06<?, ?it/s]\u001b[A\n",
      "  1%|▉                                                                                                        | 59/6465 [08:00<12:46:21,  7.18s/it]\n",
      "  0%|                                                                                                                      | 0/100 [00:00<?, ?it/s]\u001b[A\n",
      "  1%|█                                                                                                             | 1/100 [00:10<16:46, 10.16s/it]\u001b[A\n",
      "  1%|▉                                                                                                        | 60/6465 [08:11<14:55:24,  8.39s/it]"
     ]
    },
    {
     "name": "stdout",
     "output_type": "stream",
     "text": [
      "2022-10-13 08:51:04.957832  :  0\n",
      "11\n"
     ]
    },
    {
     "name": "stderr",
     "output_type": "stream",
     "text": [
      "\n",
      "  0%|                                                                                                                      | 0/100 [00:05<?, ?it/s]\u001b[A\n",
      "  1%|▉                                                                                                        | 61/6465 [08:16<13:09:18,  7.40s/it]\n",
      "  0%|                                                                                                                      | 0/100 [00:06<?, ?it/s]\u001b[A\n",
      "  1%|█                                                                                                        | 62/6465 [08:22<12:27:06,  7.00s/it]\n",
      "  0%|                                                                                                                      | 0/100 [00:04<?, ?it/s]\u001b[A\n",
      "  1%|█                                                                                                        | 63/6465 [08:26<10:53:17,  6.12s/it]\n",
      "  0%|                                                                                                                      | 0/100 [00:06<?, ?it/s]\u001b[A\n",
      "  1%|█                                                                                                        | 64/6465 [08:32<10:52:10,  6.11s/it]\n",
      "  0%|                                                                                                                      | 0/100 [00:03<?, ?it/s]\u001b[A\n",
      "  1%|█                                                                                                         | 65/6465 [08:35<9:13:46,  5.19s/it]\n",
      "  0%|                                                                                                                      | 0/100 [00:03<?, ?it/s]\u001b[A\n",
      "  1%|█                                                                                                         | 66/6465 [08:38<8:06:41,  4.56s/it]\n",
      "  0%|                                                                                                                      | 0/100 [00:06<?, ?it/s]\u001b[A\n",
      "  1%|█                                                                                                         | 67/6465 [08:44<8:55:40,  5.02s/it]\n",
      "  0%|                                                                                                                      | 0/100 [00:06<?, ?it/s]\u001b[A\n",
      "  1%|█                                                                                                         | 68/6465 [08:51<9:30:23,  5.35s/it]\n",
      "  0%|                                                                                                                      | 0/100 [00:03<?, ?it/s]\u001b[A\n",
      "  1%|█▏                                                                                                        | 69/6465 [08:54<8:17:53,  4.67s/it]\n",
      "  0%|                                                                                                                      | 0/100 [00:03<?, ?it/s]\u001b[A\n",
      "  1%|█▏                                                                                                        | 70/6465 [08:57<7:28:04,  4.20s/it]\n",
      "  0%|                                                                                                                      | 0/100 [00:05<?, ?it/s]\u001b[A\n",
      "  1%|█▏                                                                                                        | 71/6465 [09:02<7:56:27,  4.47s/it]\n",
      "  0%|                                                                                                                      | 0/100 [00:04<?, ?it/s]\u001b[A\n",
      "  1%|█▏                                                                                                        | 72/6465 [09:06<7:44:12,  4.36s/it]\n",
      "  0%|                                                                                                                      | 0/100 [00:06<?, ?it/s]\u001b[A\n",
      "  1%|█▏                                                                                                       | 73/6465 [09:59<33:41:47, 18.98s/it]\n",
      "  0%|                                                                                                                      | 0/100 [00:05<?, ?it/s]\u001b[A\n",
      "  1%|█▏                                                                                                       | 74/6465 [10:04<26:17:20, 14.81s/it]\n",
      "  0%|                                                                                                                      | 0/100 [00:04<?, ?it/s]\u001b[A\n",
      "  1%|█▏                                                                                                       | 75/6465 [10:08<20:33:47, 11.58s/it]\n",
      "  0%|                                                                                                                      | 0/100 [00:04<?, ?it/s]\u001b[A\n",
      "  1%|█▏                                                                                                       | 76/6465 [10:12<16:33:58,  9.33s/it]\n",
      "  0%|                                                                                                                      | 0/100 [00:03<?, ?it/s]\u001b[A\n",
      "  1%|█▎                                                                                                       | 77/6465 [10:15<13:13:24,  7.45s/it]\n",
      "  0%|                                                                                                                      | 0/100 [00:05<?, ?it/s]\u001b[A\n",
      "  1%|█▎                                                                                                       | 78/6465 [10:20<11:57:46,  6.74s/it]\n",
      "  0%|                                                                                                                      | 0/100 [00:04<?, ?it/s]\u001b[A\n",
      "  1%|█▎                                                                                                       | 79/6465 [10:24<10:31:07,  5.93s/it]\n",
      "  0%|                                                                                                                      | 0/100 [00:04<?, ?it/s]\u001b[A\n",
      "  1%|█▎                                                                                                        | 80/6465 [10:29<9:32:53,  5.38s/it]\n",
      "  0%|                                                                                                                      | 0/100 [00:05<?, ?it/s]\u001b[A\n",
      "  1%|█▎                                                                                                        | 81/6465 [10:34<9:23:08,  5.29s/it]\n",
      "  0%|                                                                                                                      | 0/100 [00:06<?, ?it/s]\u001b[A\n",
      "  1%|█▎                                                                                                        | 82/6465 [10:40<9:48:02,  5.53s/it]\n",
      "  0%|                                                                                                                      | 0/100 [00:04<?, ?it/s]\u001b[A\n",
      "  1%|█▎                                                                                                        | 83/6465 [10:44<9:02:45,  5.10s/it]\n",
      "  0%|                                                                                                                      | 0/100 [00:05<?, ?it/s]\u001b[A\n",
      "  1%|█▍                                                                                                        | 84/6465 [10:49<9:02:17,  5.10s/it]\n",
      "  0%|                                                                                                                      | 0/100 [00:00<?, ?it/s]\u001b[A\n",
      "  1%|█                                                                                                             | 1/100 [00:09<15:03,  9.13s/it]\u001b[A\n",
      "  1%|█▍                                                                                                       | 85/6465 [10:58<11:11:09,  6.31s/it]\n",
      "  0%|                                                                                                                      | 0/100 [00:05<?, ?it/s]\u001b[A\n",
      "  1%|█▍                                                                                                       | 86/6465 [11:03<10:32:26,  5.95s/it]\n",
      "  0%|                                                                                                                      | 0/100 [00:06<?, ?it/s]\u001b[A\n",
      "  1%|█▍                                                                                                       | 87/6465 [11:09<10:36:28,  5.99s/it]\n",
      "  0%|                                                                                                                      | 0/100 [00:05<?, ?it/s]\u001b[A\n",
      "  1%|█▍                                                                                                       | 88/6465 [11:14<10:07:58,  5.72s/it]\n",
      "  0%|                                                                                                                      | 0/100 [00:03<?, ?it/s]\u001b[A\n",
      "  1%|█▍                                                                                                        | 89/6465 [11:17<8:42:47,  4.92s/it]\n",
      "  0%|                                                                                                                      | 0/100 [00:06<?, ?it/s]\u001b[A\n",
      "  1%|█▍                                                                                                        | 90/6465 [11:23<9:19:34,  5.27s/it]\n",
      "  0%|                                                                                                                      | 0/100 [00:03<?, ?it/s]\u001b[A\n",
      "  1%|█▍                                                                                                        | 91/6465 [11:27<8:09:33,  4.61s/it]\n",
      "  0%|                                                                                                                      | 0/100 [00:03<?, ?it/s]\u001b[A\n",
      "  1%|█▌                                                                                                        | 92/6465 [11:30<7:20:23,  4.15s/it]\n",
      "  0%|                                                                                                                      | 0/100 [00:03<?, ?it/s]\u001b[A\n",
      "  1%|█▌                                                                                                       | 93/6465 [12:29<36:31:14, 20.63s/it]\n",
      "  0%|                                                                                                                      | 0/100 [00:05<?, ?it/s]\u001b[A\n",
      "  1%|█▌                                                                                                       | 94/6465 [12:34<28:15:38, 15.97s/it]\n",
      "  0%|                                                                                                                      | 0/100 [00:05<?, ?it/s]\u001b[A\n",
      "  1%|█▌                                                                                                       | 95/6465 [12:39<22:28:44, 12.70s/it]\n",
      "  0%|                                                                                                                      | 0/100 [00:04<?, ?it/s]\u001b[A\n",
      "  1%|█▌                                                                                                       | 96/6465 [12:43<17:54:05, 10.12s/it]\n",
      "  0%|                                                                                                                      | 0/100 [00:03<?, ?it/s]\u001b[A\n",
      "  2%|█▌                                                                                                       | 97/6465 [12:46<14:10:40,  8.02s/it]\n",
      "  0%|                                                                                                                      | 0/100 [00:06<?, ?it/s]\u001b[A\n",
      "  2%|█▌                                                                                                       | 98/6465 [12:52<13:11:50,  7.46s/it]\n",
      "  0%|                                                                                                                      | 0/100 [00:05<?, ?it/s]\u001b[A\n",
      "  2%|█▌                                                                                                       | 99/6465 [12:58<12:02:33,  6.81s/it]\n",
      "  0%|                                                                                                                      | 0/100 [00:06<?, ?it/s]\u001b[A\n",
      "  2%|█▌                                                                                                      | 100/6465 [13:04<11:40:16,  6.60s/it]\n",
      "  0%|                                                                                                                      | 0/100 [00:06<?, ?it/s]\u001b[A\n",
      "  2%|█▌                                                                                                      | 101/6465 [13:10<11:23:34,  6.44s/it]\n",
      "  0%|                                                                                                                      | 0/100 [00:05<?, ?it/s]\u001b[A\n",
      "  2%|█▋                                                                                                      | 102/6465 [13:15<10:40:17,  6.04s/it]\n",
      "  0%|                                                                                                                      | 0/100 [00:06<?, ?it/s]\u001b[A\n",
      "  2%|█▋                                                                                                      | 103/6465 [13:21<10:43:31,  6.07s/it]\n",
      "  0%|                                                                                                                      | 0/100 [00:03<?, ?it/s]\u001b[A\n",
      "  2%|█▋                                                                                                       | 104/6465 [13:24<9:08:32,  5.17s/it]\n",
      "  0%|                                                                                                                      | 0/100 [00:05<?, ?it/s]\u001b[A\n",
      "  2%|█▋                                                                                                       | 105/6465 [13:29<9:06:33,  5.16s/it]\n",
      "  0%|                                                                                                                      | 0/100 [00:04<?, ?it/s]\u001b[A\n",
      "  2%|█▋                                                                                                       | 106/6465 [13:33<8:32:52,  4.84s/it]\n",
      "  0%|                                                                                                                      | 0/100 [00:03<?, ?it/s]\u001b[A\n",
      "  2%|█▋                                                                                                       | 107/6465 [13:37<7:44:20,  4.38s/it]\n",
      "  0%|                                                                                                                      | 0/100 [00:03<?, ?it/s]\u001b[A\n",
      "  2%|█▊                                                                                                       | 108/6465 [13:40<7:02:46,  3.99s/it]\n",
      "  0%|                                                                                                                      | 0/100 [00:04<?, ?it/s]\u001b[A\n",
      "  2%|█▊                                                                                                       | 109/6465 [13:44<7:05:37,  4.02s/it]\n",
      "  0%|                                                                                                                      | 0/100 [00:06<?, ?it/s]\u001b[A\n",
      "  2%|█▊                                                                                                       | 110/6465 [13:50<8:11:44,  4.64s/it]\n",
      "  0%|                                                                                                                      | 0/100 [00:06<?, ?it/s]\u001b[A\n",
      "  2%|█▊                                                                                                       | 111/6465 [13:56<8:57:59,  5.08s/it]\n",
      "  0%|                                                                                                                      | 0/100 [00:06<?, ?it/s]\u001b[A\n",
      "  2%|█▊                                                                                                       | 112/6465 [14:02<9:30:18,  5.39s/it]\n",
      "  0%|                                                                                                                      | 0/100 [00:03<?, ?it/s]\u001b[A\n",
      "  2%|█▊                                                                                                      | 113/6465 [15:13<44:17:03, 25.10s/it]\n",
      "  0%|                                                                                                                      | 0/100 [00:06<?, ?it/s]\u001b[A\n",
      "  2%|█▊                                                                                                      | 114/6465 [15:19<34:12:34, 19.39s/it]\n",
      "  0%|                                                                                                                      | 0/100 [00:05<?, ?it/s]\u001b[A\n",
      "  2%|█▊                                                                                                      | 115/6465 [15:24<26:38:18, 15.10s/it]\n",
      "  0%|                                                                                                                      | 0/100 [00:04<?, ?it/s]\u001b[A\n",
      "  2%|█▊                                                                                                      | 116/6465 [15:28<20:48:18, 11.80s/it]\n",
      "  0%|                                                                                                                      | 0/100 [00:06<?, ?it/s]\u001b[A\n",
      "  2%|█▉                                                                                                      | 117/6465 [15:34<17:46:28, 10.08s/it]\n",
      "  0%|                                                                                                                      | 0/100 [00:03<?, ?it/s]\u001b[A\n",
      "  2%|█▉                                                                                                      | 118/6465 [15:38<14:05:14,  7.99s/it]\n",
      "  0%|                                                                                                                      | 0/100 [00:03<?, ?it/s]\u001b[A\n",
      "  2%|█▉                                                                                                      | 119/6465 [15:41<11:29:01,  6.51s/it]\n",
      "  0%|                                                                                                                      | 0/100 [00:04<?, ?it/s]\u001b[A\n",
      "  2%|█▉                                                                                                      | 120/6465 [15:45<10:11:07,  5.78s/it]\n",
      "  0%|                                                                                                                      | 0/100 [00:06<?, ?it/s]\u001b[A\n",
      "  2%|█▉                                                                                                      | 121/6465 [15:51<10:21:29,  5.88s/it]\n",
      "  0%|                                                                                                                      | 0/100 [00:04<?, ?it/s]\u001b[A\n",
      "  2%|█▉                                                                                                       | 122/6465 [15:55<9:24:50,  5.34s/it]\n",
      "  0%|                                                                                                                      | 0/100 [00:06<?, ?it/s]\u001b[A\n",
      "  2%|█▉                                                                                                       | 123/6465 [16:01<9:49:09,  5.57s/it]\n",
      "  0%|                                                                                                                      | 0/100 [00:03<?, ?it/s]\u001b[A\n",
      "  2%|██                                                                                                       | 124/6465 [16:04<8:30:33,  4.83s/it]\n",
      "  0%|                                                                                                                      | 0/100 [00:04<?, ?it/s]\u001b[A\n",
      "  2%|██                                                                                                       | 125/6465 [16:08<8:06:22,  4.60s/it]\n",
      "  0%|                                                                                                                      | 0/100 [00:03<?, ?it/s]\u001b[A\n",
      "  2%|██                                                                                                       | 126/6465 [16:11<7:18:07,  4.15s/it]\n",
      "  0%|                                                                                                                      | 0/100 [00:05<?, ?it/s]\u001b[A\n",
      "  2%|██                                                                                                       | 127/6465 [16:16<7:47:49,  4.43s/it]\n",
      "  0%|                                                                                                                      | 0/100 [00:05<?, ?it/s]\u001b[A\n",
      "  2%|██                                                                                                       | 128/6465 [16:21<8:08:50,  4.63s/it]\n",
      "  0%|                                                                                                                      | 0/100 [00:05<?, ?it/s]\u001b[A\n",
      "  2%|██                                                                                                       | 129/6465 [16:27<8:22:53,  4.76s/it]\n",
      "  0%|                                                                                                                      | 0/100 [00:04<?, ?it/s]\u001b[A\n",
      "  2%|██                                                                                                       | 130/6465 [16:31<8:01:29,  4.56s/it]\n",
      "  0%|                                                                                                                      | 0/100 [00:05<?, ?it/s]\u001b[A\n",
      "  2%|██▏                                                                                                      | 131/6465 [16:36<8:18:01,  4.72s/it]\n",
      "  0%|                                                                                                                      | 0/100 [00:00<?, ?it/s]\u001b[A\n",
      "  1%|█                                                                                                             | 1/100 [00:10<16:47, 10.18s/it]\u001b[A\n",
      "  2%|██                                                                                                      | 132/6465 [16:47<11:45:03,  6.68s/it]"
     ]
    },
    {
     "name": "stdout",
     "output_type": "stream",
     "text": [
      "2022-10-13 08:59:41.020899  :  0\n",
      "2\n"
     ]
    },
    {
     "name": "stderr",
     "output_type": "stream",
     "text": [
      "\n",
      "  0%|                                                                                                                      | 0/100 [00:00<?, ?it/s]\u001b[A\n",
      "  1%|█                                                                                                             | 1/100 [00:12<20:06, 12.19s/it]\u001b[A\n",
      "  2%|██▏                                                                                                     | 133/6465 [17:51<42:06:20, 23.94s/it]"
     ]
    },
    {
     "name": "stdout",
     "output_type": "stream",
     "text": [
      "2022-10-13 09:00:45.230631  :  0\n",
      "1\n"
     ]
    },
    {
     "name": "stderr",
     "output_type": "stream",
     "text": [
      "\n",
      "  0%|                                                                                                                      | 0/100 [00:06<?, ?it/s]\u001b[A\n",
      "  2%|██▏                                                                                                     | 134/6465 [17:57<32:39:58, 18.57s/it]\n",
      "  0%|                                                                                                                      | 0/100 [00:00<?, ?it/s]\u001b[A\n",
      "  1%|█                                                                                                             | 1/100 [00:10<16:47, 10.18s/it]\u001b[A\n",
      "  2%|██▏                                                                                                     | 135/6465 [18:09<28:55:37, 16.45s/it]"
     ]
    },
    {
     "name": "stdout",
     "output_type": "stream",
     "text": [
      "2022-10-13 09:01:02.785371  :  0\n",
      "2\n"
     ]
    },
    {
     "name": "stderr",
     "output_type": "stream",
     "text": [
      "\n",
      "  0%|                                                                                                                      | 0/100 [00:05<?, ?it/s]\u001b[A\n",
      "  2%|██▏                                                                                                     | 136/6465 [18:14<22:56:21, 13.05s/it]\n",
      "  0%|                                                                                                                      | 0/100 [00:00<?, ?it/s]\u001b[A\n",
      "  1%|█                                                                                                             | 1/100 [00:12<20:02, 12.15s/it]\u001b[A\n",
      "  2%|██▏                                                                                                     | 137/6465 [18:27<23:03:27, 13.12s/it]"
     ]
    },
    {
     "name": "stdout",
     "output_type": "stream",
     "text": [
      "2022-10-13 09:01:21.160999  :  0\n",
      "2\n"
     ]
    },
    {
     "name": "stderr",
     "output_type": "stream",
     "text": [
      "\n",
      "  0%|                                                                                                                      | 0/100 [00:03<?, ?it/s]\u001b[A\n",
      "  2%|██▏                                                                                                     | 138/6465 [18:30<17:46:00, 10.11s/it]\n",
      "  0%|                                                                                                                      | 0/100 [00:04<?, ?it/s]\u001b[A\n",
      "  2%|██▏                                                                                                     | 139/6465 [18:34<14:35:43,  8.31s/it]\n",
      "  0%|                                                                                                                      | 0/100 [00:04<?, ?it/s]\u001b[A\n",
      "  2%|██▎                                                                                                     | 140/6465 [18:38<12:24:18,  7.06s/it]\n",
      "  0%|                                                                                                                      | 0/100 [00:04<?, ?it/s]\u001b[A\n",
      "  2%|██▎                                                                                                     | 141/6465 [18:43<10:50:53,  6.18s/it]\n",
      "  0%|                                                                                                                      | 0/100 [00:04<?, ?it/s]\u001b[A\n",
      "  2%|██▎                                                                                                      | 142/6465 [18:47<9:44:18,  5.54s/it]\n",
      "  0%|                                                                                                                      | 0/100 [00:00<?, ?it/s]\u001b[A\n",
      "  1%|█                                                                                                             | 1/100 [00:10<16:46, 10.17s/it]\u001b[A\n",
      "  2%|██▎                                                                                                     | 143/6465 [18:58<12:51:00,  7.32s/it]"
     ]
    },
    {
     "name": "stdout",
     "output_type": "stream",
     "text": [
      "2022-10-13 09:01:52.150957  :  0\n",
      "1\n"
     ]
    },
    {
     "name": "stderr",
     "output_type": "stream",
     "text": [
      "\n",
      "  0%|                                                                                                                      | 0/100 [00:06<?, ?it/s]\u001b[A\n",
      "  2%|██▎                                                                                                     | 144/6465 [19:04<12:11:42,  6.95s/it]\n",
      "  0%|                                                                                                                      | 0/100 [00:00<?, ?it/s]\u001b[A\n",
      "  1%|█                                                                                                             | 1/100 [00:06<10:10,  6.17s/it]\u001b[A\n",
      "  2%|██▎                                                                                                     | 145/6465 [19:12<12:26:17,  7.09s/it]"
     ]
    },
    {
     "name": "stdout",
     "output_type": "stream",
     "text": [
      "2022-10-13 09:02:05.640746  :  0\n",
      "7\n"
     ]
    },
    {
     "name": "stderr",
     "output_type": "stream",
     "text": [
      "\n",
      "  0%|                                                                                                                      | 0/100 [00:00<?, ?it/s]\u001b[A\n",
      "  1%|█                                                                                                             | 1/100 [00:10<16:49, 10.20s/it]\u001b[A\n",
      "  2%|██▎                                                                                                     | 146/6465 [19:23<14:37:14,  8.33s/it]"
     ]
    },
    {
     "name": "stdout",
     "output_type": "stream",
     "text": [
      "2022-10-13 09:02:16.872248  :  0\n",
      "2\n"
     ]
    },
    {
     "name": "stderr",
     "output_type": "stream",
     "text": [
      "\n",
      "  0%|                                                                                                                      | 0/100 [00:05<?, ?it/s]\u001b[A\n",
      "  2%|██▎                                                                                                     | 147/6465 [19:28<12:53:37,  7.35s/it]\n",
      "  0%|                                                                                                                      | 0/100 [00:00<?, ?it/s]\u001b[A\n",
      "  1%|█                                                                                                             | 1/100 [00:11<18:23, 11.15s/it]\u001b[A\n",
      "  2%|██▍                                                                                                     | 148/6465 [19:41<15:40:20,  8.93s/it]"
     ]
    },
    {
     "name": "stdout",
     "output_type": "stream",
     "text": [
      "2022-10-13 09:02:34.557082  :  0\n",
      "2\n"
     ]
    },
    {
     "name": "stderr",
     "output_type": "stream",
     "text": [
      "\n",
      "  0%|                                                                                                                      | 0/100 [00:00<?, ?it/s]\u001b[A\n",
      "  1%|█                                                                                                             | 1/100 [00:11<18:21, 11.13s/it]\u001b[A\n",
      "  2%|██▍                                                                                                     | 149/6465 [19:53<17:24:55,  9.93s/it]"
     ]
    },
    {
     "name": "stdout",
     "output_type": "stream",
     "text": [
      "2022-10-13 09:02:46.803302  :  0\n",
      "8\n"
     ]
    },
    {
     "name": "stderr",
     "output_type": "stream",
     "text": [
      "\n",
      "  0%|                                                                                                                      | 0/100 [00:00<?, ?it/s]\u001b[A\n",
      "  1%|█                                                                                                             | 1/100 [00:09<15:07,  9.17s/it]\u001b[A\n",
      "  2%|██▍                                                                                                     | 150/6465 [20:03<17:37:15, 10.05s/it]"
     ]
    },
    {
     "name": "stdout",
     "output_type": "stream",
     "text": [
      "2022-10-13 09:02:57.127597  :  0\n",
      "8\n"
     ]
    },
    {
     "name": "stderr",
     "output_type": "stream",
     "text": [
      "\n",
      "  0%|                                                                                                                      | 0/100 [00:00<?, ?it/s]\u001b[A\n",
      "  1%|█                                                                                                             | 1/100 [00:05<08:29,  5.15s/it]\u001b[A\n",
      "  2%|██▏                                                                                                           | 2/100 [00:16<13:17,  8.14s/it]\u001b[A\n",
      "  2%|██▍                                                                                                     | 151/6465 [20:21<21:32:15, 12.28s/it]"
     ]
    },
    {
     "name": "stdout",
     "output_type": "stream",
     "text": [
      "2022-10-13 09:03:14.621848  :  0\n",
      "23\n"
     ]
    },
    {
     "name": "stderr",
     "output_type": "stream",
     "text": [
      "\n",
      "  0%|                                                                                                                      | 0/100 [00:00<?, ?it/s]\u001b[A\n",
      "  1%|█                                                                                                             | 1/100 [00:11<18:22, 11.14s/it]\u001b[A\n",
      "  2%|██▍                                                                                                     | 152/6465 [20:33<21:32:30, 12.28s/it]"
     ]
    },
    {
     "name": "stdout",
     "output_type": "stream",
     "text": [
      "2022-10-13 09:03:26.916067  :  0\n",
      "3\n"
     ]
    },
    {
     "name": "stderr",
     "output_type": "stream",
     "text": [
      "\n",
      "  0%|                                                                                                                      | 0/100 [00:04<?, ?it/s]\u001b[A\n",
      "  2%|██▍                                                                                                     | 153/6465 [21:27<43:31:31, 24.82s/it]\n",
      "  0%|                                                                                                                      | 0/100 [00:00<?, ?it/s]\u001b[A\n",
      "  1%|█                                                                                                             | 1/100 [00:09<15:07,  9.17s/it]\u001b[A\n",
      "  2%|██▍                                                                                                     | 154/6465 [21:37<35:53:39, 20.48s/it]"
     ]
    },
    {
     "name": "stdout",
     "output_type": "stream",
     "text": [
      "2022-10-13 09:04:31.328147  :  0\n",
      "6\n"
     ]
    },
    {
     "name": "stderr",
     "output_type": "stream",
     "text": [
      "\n",
      "  0%|                                                                                                                      | 0/100 [00:06<?, ?it/s]\u001b[A\n",
      "  2%|██▍                                                                                                     | 155/6465 [21:43<28:19:16, 16.16s/it]\n",
      "  0%|                                                                                                                      | 0/100 [00:04<?, ?it/s]\u001b[A\n",
      "  2%|██▌                                                                                                     | 156/6465 [21:47<21:57:42, 12.53s/it]\n",
      "  0%|                                                                                                                      | 0/100 [00:03<?, ?it/s]\u001b[A\n",
      "  2%|██▌                                                                                                     | 157/6465 [21:51<16:59:33,  9.70s/it]\n",
      "  0%|                                                                                                                      | 0/100 [00:05<?, ?it/s]\u001b[A\n",
      "  2%|██▌                                                                                                     | 158/6465 [21:56<14:33:45,  8.31s/it]\n",
      "  0%|                                                                                                                      | 0/100 [00:06<?, ?it/s]\u001b[A\n",
      "  2%|██▌                                                                                                     | 159/6465 [22:02<13:23:23,  7.64s/it]\n",
      "  0%|                                                                                                                      | 0/100 [00:06<?, ?it/s]\u001b[A\n",
      "  2%|██▌                                                                                                     | 160/6465 [22:08<12:33:32,  7.17s/it]\n",
      "  0%|                                                                                                                      | 0/100 [00:06<?, ?it/s]\u001b[A\n",
      "  2%|██▌                                                                                                     | 161/6465 [22:14<11:59:34,  6.85s/it]\n",
      "  0%|                                                                                                                      | 0/100 [00:04<?, ?it/s]\u001b[A\n",
      "  3%|██▌                                                                                                     | 162/6465 [22:18<10:32:29,  6.02s/it]\n",
      "  0%|                                                                                                                      | 0/100 [00:03<?, ?it/s]\u001b[A\n",
      "  3%|██▋                                                                                                      | 163/6465 [22:21<9:00:09,  5.14s/it]\n",
      "  0%|                                                                                                                      | 0/100 [00:03<?, ?it/s]\u001b[A\n",
      "  3%|██▋                                                                                                      | 164/6465 [22:24<7:55:12,  4.53s/it]\n",
      "  0%|                                                                                                                      | 0/100 [00:04<?, ?it/s]\u001b[A\n",
      "  3%|██▋                                                                                                      | 165/6465 [22:28<7:40:47,  4.39s/it]\n",
      "  0%|                                                                                                                      | 0/100 [00:06<?, ?it/s]\u001b[A\n",
      "  3%|██▋                                                                                                      | 166/6465 [22:34<8:34:05,  4.90s/it]\n",
      "  0%|                                                                                                                      | 0/100 [00:04<?, ?it/s]\u001b[A\n",
      "  3%|██▋                                                                                                      | 167/6465 [22:38<8:09:39,  4.66s/it]\n",
      "  0%|                                                                                                                      | 0/100 [00:03<?, ?it/s]\u001b[A\n",
      "  3%|██▋                                                                                                      | 168/6465 [22:41<7:19:23,  4.19s/it]\n",
      "  0%|                                                                                                                      | 0/100 [00:05<?, ?it/s]\u001b[A\n",
      "  3%|██▋                                                                                                      | 169/6465 [22:47<7:47:43,  4.46s/it]\n",
      "  0%|                                                                                                                      | 0/100 [00:06<?, ?it/s]\u001b[A\n",
      "  3%|██▊                                                                                                      | 170/6465 [22:53<8:38:49,  4.95s/it]\n",
      "  0%|                                                                                                                      | 0/100 [00:03<?, ?it/s]\u001b[A\n",
      "  3%|██▊                                                                                                      | 171/6465 [22:56<7:39:32,  4.38s/it]\n",
      "  0%|                                                                                                                      | 0/100 [00:03<?, ?it/s]\u001b[A\n",
      "  3%|██▊                                                                                                      | 172/6465 [22:59<6:58:44,  3.99s/it]\n",
      "  0%|                                                                                                                      | 0/100 [00:06<?, ?it/s]\u001b[A\n",
      "  3%|██▊                                                                                                     | 173/6465 [24:13<43:43:28, 25.02s/it]\n",
      "  0%|                                                                                                                      | 0/100 [00:05<?, ?it/s]\u001b[A\n",
      "  3%|██▊                                                                                                     | 174/6465 [24:18<33:15:58, 19.04s/it]\n",
      "  0%|                                                                                                                      | 0/100 [00:05<?, ?it/s]\u001b[A\n",
      "  3%|██▊                                                                                                     | 175/6465 [24:23<25:55:29, 14.84s/it]\n",
      "  0%|                                                                                                                      | 0/100 [00:04<?, ?it/s]\u001b[A\n",
      "  3%|██▊                                                                                                     | 176/6465 [24:27<20:17:06, 11.61s/it]\n",
      "  0%|                                                                                                                      | 0/100 [00:04<?, ?it/s]\u001b[A\n",
      "  3%|██▊                                                                                                     | 177/6465 [24:31<16:20:08,  9.35s/it]\n",
      "  0%|                                                                                                                      | 0/100 [00:05<?, ?it/s]\u001b[A\n",
      "  3%|██▊                                                                                                     | 178/6465 [24:36<14:06:58,  8.08s/it]\n",
      "  0%|                                                                                                                      | 0/100 [00:04<?, ?it/s]\u001b[A\n",
      "  3%|██▉                                                                                                     | 179/6465 [24:40<12:01:18,  6.88s/it]\n",
      "  0%|                                                                                                                      | 0/100 [00:04<?, ?it/s]\u001b[A\n",
      "  3%|██▉                                                                                                     | 180/6465 [24:44<10:32:53,  6.04s/it]\n",
      "  0%|                                                                                                                      | 0/100 [00:04<?, ?it/s]\u001b[A\n",
      "  3%|██▉                                                                                                      | 181/6465 [24:49<9:30:58,  5.45s/it]\n",
      "  0%|                                                                                                                      | 0/100 [00:05<?, ?it/s]\u001b[A\n",
      "  3%|██▉                                                                                                      | 182/6465 [24:54<9:19:06,  5.34s/it]\n",
      "  0%|                                                                                                                      | 0/100 [00:03<?, ?it/s]\u001b[A\n",
      "  3%|██▉                                                                                                      | 183/6465 [24:57<8:08:20,  4.66s/it]\n",
      "  0%|                                                                                                                      | 0/100 [00:05<?, ?it/s]\u001b[A\n",
      "  3%|██▉                                                                                                      | 184/6465 [25:02<8:21:18,  4.79s/it]\n",
      "  0%|                                                                                                                      | 0/100 [00:03<?, ?it/s]\u001b[A\n",
      "  3%|███                                                                                                      | 185/6465 [25:05<7:27:13,  4.27s/it]\n",
      "  0%|                                                                                                                      | 0/100 [00:06<?, ?it/s]\u001b[A\n",
      "  3%|███                                                                                                      | 186/6465 [25:11<8:24:23,  4.82s/it]\n",
      "  0%|                                                                                                                      | 0/100 [00:05<?, ?it/s]\u001b[A\n",
      "  3%|███                                                                                                      | 187/6465 [25:16<8:31:29,  4.89s/it]\n",
      "  0%|                                                                                                                      | 0/100 [00:05<?, ?it/s]\u001b[A\n",
      "  3%|███                                                                                                      | 188/6465 [25:21<8:36:57,  4.94s/it]\n",
      "  0%|                                                                                                                      | 0/100 [00:05<?, ?it/s]\u001b[A\n",
      "  3%|███                                                                                                      | 189/6465 [25:26<8:41:41,  4.99s/it]\n",
      "  0%|                                                                                                                      | 0/100 [00:04<?, ?it/s]\u001b[A\n",
      "  3%|███                                                                                                      | 190/6465 [25:30<8:12:22,  4.71s/it]\n",
      "  0%|                                                                                                                      | 0/100 [00:03<?, ?it/s]\u001b[A\n",
      "  3%|███                                                                                                      | 191/6465 [25:33<7:21:48,  4.23s/it]\n",
      "  0%|                                                                                                                      | 0/100 [00:06<?, ?it/s]\u001b[A\n",
      "  3%|███                                                                                                      | 192/6465 [25:39<8:19:55,  4.78s/it]\n",
      "  0%|                                                                                                                      | 0/100 [00:04<?, ?it/s]\u001b[A\n",
      "  3%|███                                                                                                     | 193/6465 [26:27<30:58:00, 17.77s/it]\n",
      "  0%|                                                                                                                      | 0/100 [00:06<?, ?it/s]\u001b[A\n",
      "  3%|███                                                                                                     | 194/6465 [26:34<24:51:33, 14.27s/it]\n",
      "  0%|                                                                                                                      | 0/100 [00:03<?, ?it/s]\u001b[A\n",
      "  3%|███▏                                                                                                    | 195/6465 [26:37<19:00:14, 10.91s/it]\n",
      "  0%|                                                                                                                      | 0/100 [00:06<?, ?it/s]\u001b[A\n",
      "  3%|███▏                                                                                                    | 196/6465 [26:43<16:28:51,  9.46s/it]\n",
      "  0%|                                                                                                                      | 0/100 [00:03<?, ?it/s]\u001b[A\n",
      "  3%|███▏                                                                                                    | 197/6465 [26:46<13:07:49,  7.54s/it]\n",
      "  0%|                                                                                                                      | 0/100 [00:05<?, ?it/s]\u001b[A\n",
      "  3%|███▏                                                                                                    | 198/6465 [26:51<11:51:06,  6.81s/it]\n",
      "  0%|                                                                                                                      | 0/100 [00:04<?, ?it/s]\u001b[A\n",
      "  3%|███▏                                                                                                    | 199/6465 [26:55<10:24:29,  5.98s/it]\n",
      "  0%|                                                                                                                      | 0/100 [00:05<?, ?it/s]\u001b[A\n",
      "  3%|███▏                                                                                                     | 200/6465 [27:00<9:56:58,  5.72s/it]\n",
      "  0%|                                                                                                                      | 0/100 [00:03<?, ?it/s]\u001b[A\n",
      "  3%|███▎                                                                                                     | 201/6465 [27:03<8:34:15,  4.93s/it]\n",
      "  0%|                                                                                                                      | 0/100 [00:06<?, ?it/s]\u001b[A\n",
      "  3%|███▎                                                                                                     | 202/6465 [27:09<9:10:43,  5.28s/it]\n",
      "  0%|                                                                                                                      | 0/100 [00:06<?, ?it/s]\u001b[A\n",
      "  3%|███▎                                                                                                     | 203/6465 [27:15<9:36:02,  5.52s/it]\n",
      "  0%|                                                                                                                      | 0/100 [00:04<?, ?it/s]\u001b[A\n",
      "  3%|███▎                                                                                                     | 204/6465 [27:19<8:51:04,  5.09s/it]\n",
      "  0%|                                                                                                                      | 0/100 [00:05<?, ?it/s]\u001b[A\n",
      "  3%|███▎                                                                                                     | 205/6465 [27:24<8:50:04,  5.08s/it]\n",
      "  0%|                                                                                                                      | 0/100 [00:04<?, ?it/s]\u001b[A\n",
      "  3%|███▎                                                                                                     | 206/6465 [27:28<8:18:25,  4.78s/it]\n",
      "  0%|                                                                                                                      | 0/100 [00:05<?, ?it/s]\u001b[A\n",
      "  3%|███▎                                                                                                     | 207/6465 [27:34<8:27:27,  4.87s/it]\n",
      "  0%|                                                                                                                      | 0/100 [00:06<?, ?it/s]\u001b[A\n",
      "  3%|███▍                                                                                                     | 208/6465 [27:40<9:05:38,  5.23s/it]\n",
      "  0%|                                                                                                                      | 0/100 [00:06<?, ?it/s]\u001b[A\n",
      "  3%|███▍                                                                                                     | 209/6465 [27:46<9:31:59,  5.49s/it]\n",
      "  0%|                                                                                                                      | 0/100 [00:04<?, ?it/s]\u001b[A\n",
      "  3%|███▍                                                                                                     | 210/6465 [27:50<8:48:33,  5.07s/it]\n",
      "  0%|                                                                                                                      | 0/100 [00:05<?, ?it/s]\u001b[A\n",
      "  3%|███▍                                                                                                     | 211/6465 [27:55<8:49:04,  5.08s/it]\n",
      "  0%|                                                                                                                      | 0/100 [00:05<?, ?it/s]\u001b[A\n",
      "  3%|███▍                                                                                                     | 212/6465 [28:00<8:49:33,  5.08s/it]\n",
      "  0%|                                                                                                                      | 0/100 [00:05<?, ?it/s]\u001b[A\n",
      "  3%|███▍                                                                                                    | 213/6465 [29:12<43:45:24, 25.20s/it]\n",
      "  0%|                                                                                                                      | 0/100 [00:04<?, ?it/s]\u001b[A\n",
      "  3%|███▍                                                                                                    | 214/6465 [29:16<32:44:59, 18.86s/it]\n",
      "  0%|                                                                                                                      | 0/100 [00:04<?, ?it/s]\u001b[A\n",
      "  3%|███▍                                                                                                    | 215/6465 [29:20<25:02:43, 14.43s/it]\n",
      "  0%|                                                                                                                      | 0/100 [00:06<?, ?it/s]\u001b[A\n",
      "  3%|███▍                                                                                                    | 216/6465 [29:26<20:42:12, 11.93s/it]\n",
      "  0%|                                                                                                                      | 0/100 [00:05<?, ?it/s]\u001b[A\n",
      "  3%|███▍                                                                                                    | 217/6465 [29:32<17:08:52,  9.88s/it]\n",
      "  0%|                                                                                                                      | 0/100 [00:00<?, ?it/s]\u001b[A\n",
      "  1%|█                                                                                                             | 1/100 [00:08<13:25,  8.14s/it]\u001b[A\n",
      "  3%|███▌                                                                                                    | 218/6465 [29:41<16:51:51,  9.72s/it]"
     ]
    },
    {
     "name": "stdout",
     "output_type": "stream",
     "text": [
      "2022-10-13 09:12:34.883928  :  0\n",
      "1\n"
     ]
    },
    {
     "name": "stderr",
     "output_type": "stream",
     "text": [
      "\n",
      "  0%|                                                                                                                      | 0/100 [00:04<?, ?it/s]\u001b[A\n",
      "  3%|███▌                                                                                                    | 219/6465 [29:45<13:55:31,  8.03s/it]\n",
      "  0%|                                                                                                                      | 0/100 [00:05<?, ?it/s]\u001b[A\n",
      "  3%|███▌                                                                                                    | 220/6465 [29:50<12:23:42,  7.15s/it]\n",
      "  0%|                                                                                                                      | 0/100 [00:05<?, ?it/s]\u001b[A\n",
      "  3%|███▌                                                                                                    | 221/6465 [29:55<11:18:57,  6.52s/it]\n",
      "  0%|                                                                                                                      | 0/100 [00:04<?, ?it/s]\u001b[A\n",
      "  3%|███▌                                                                                                    | 222/6465 [29:59<10:04:28,  5.81s/it]\n",
      "  0%|                                                                                                                      | 0/100 [00:04<?, ?it/s]\u001b[A\n",
      "  3%|███▌                                                                                                     | 223/6465 [30:03<9:10:44,  5.29s/it]\n",
      "  0%|                                                                                                                      | 0/100 [00:05<?, ?it/s]\u001b[A\n",
      "  3%|███▋                                                                                                     | 224/6465 [30:08<9:04:46,  5.24s/it]\n",
      "  0%|                                                                                                                      | 0/100 [00:03<?, ?it/s]\u001b[A\n",
      "  3%|███▋                                                                                                     | 225/6465 [30:11<7:57:18,  4.59s/it]\n",
      "  0%|                                                                                                                      | 0/100 [00:06<?, ?it/s]\u001b[A\n",
      "  3%|███▋                                                                                                     | 226/6465 [30:18<8:43:40,  5.04s/it]\n",
      "  0%|                                                                                                                      | 0/100 [00:04<?, ?it/s]\u001b[A\n",
      "  4%|███▋                                                                                                     | 227/6465 [30:22<8:13:36,  4.75s/it]\n",
      "  0%|                                                                                                                      | 0/100 [00:04<?, ?it/s]\u001b[A\n",
      "  4%|███▋                                                                                                     | 228/6465 [30:26<7:53:01,  4.55s/it]\n",
      "  0%|                                                                                                                      | 0/100 [00:05<?, ?it/s]\u001b[A\n",
      "  4%|███▋                                                                                                     | 229/6465 [30:31<8:09:30,  4.71s/it]\n",
      "  0%|                                                                                                                      | 0/100 [00:03<?, ?it/s]\u001b[A\n",
      "  4%|███▋                                                                                                     | 230/6465 [30:34<7:18:12,  4.22s/it]\n",
      "  0%|                                                                                                                      | 0/100 [00:03<?, ?it/s]\u001b[A\n",
      "  4%|███▊                                                                                                     | 231/6465 [30:37<6:42:26,  3.87s/it]\n",
      "  0%|                                                                                                                      | 0/100 [00:03<?, ?it/s]\u001b[A\n",
      "  4%|███▊                                                                                                     | 232/6465 [30:40<6:17:46,  3.64s/it]\n",
      "  0%|                                                                                                                      | 0/100 [00:05<?, ?it/s]\u001b[A\n",
      "  4%|███▋                                                                                                    | 233/6465 [31:49<40:17:37, 23.28s/it]\n",
      "  0%|                                                                                                                      | 0/100 [00:03<?, ?it/s]\u001b[A\n",
      "  4%|███▊                                                                                                    | 234/6465 [31:52<29:47:16, 17.21s/it]\n",
      "  0%|                                                                                                                      | 0/100 [00:05<?, ?it/s]\u001b[A\n",
      "  4%|███▊                                                                                                    | 235/6465 [31:57<23:29:10, 13.57s/it]\n",
      "  0%|                                                                                                                      | 0/100 [00:06<?, ?it/s]\u001b[A\n",
      "  4%|███▊                                                                                                    | 236/6465 [32:03<19:35:09, 11.32s/it]\n",
      "  0%|                                                                                                                      | 0/100 [00:04<?, ?it/s]\u001b[A\n",
      "  4%|███▊                                                                                                    | 237/6465 [32:07<15:50:00,  9.15s/it]\n",
      "  0%|                                                                                                                      | 0/100 [00:03<?, ?it/s]\u001b[A\n",
      "  4%|███▊                                                                                                    | 238/6465 [32:11<12:40:40,  7.33s/it]\n",
      "  0%|                                                                                                                      | 0/100 [00:04<?, ?it/s]\u001b[A\n",
      "  4%|███▊                                                                                                    | 239/6465 [32:15<10:59:40,  6.36s/it]\n",
      "  0%|                                                                                                                      | 0/100 [00:03<?, ?it/s]\u001b[A\n",
      "  4%|███▉                                                                                                     | 240/6465 [32:18<9:17:50,  5.38s/it]\n",
      "  0%|                                                                                                                      | 0/100 [00:04<?, ?it/s]\u001b[A\n",
      "  4%|███▉                                                                                                     | 241/6465 [32:22<8:38:02,  4.99s/it]\n",
      "  0%|                                                                                                                      | 0/100 [00:05<?, ?it/s]\u001b[A\n",
      "  4%|███▉                                                                                                     | 242/6465 [32:27<8:41:14,  5.03s/it]\n",
      "  0%|                                                                                                                      | 0/100 [00:04<?, ?it/s]\u001b[A\n",
      "  4%|███▉                                                                                                     | 243/6465 [32:31<8:11:53,  4.74s/it]\n",
      "  0%|                                                                                                                      | 0/100 [00:06<?, ?it/s]\u001b[A\n",
      "  4%|███▉                                                                                                     | 244/6465 [32:37<8:53:48,  5.15s/it]\n",
      "  0%|                                                                                                                      | 0/100 [00:03<?, ?it/s]\u001b[A\n",
      "  4%|███▉                                                                                                     | 245/6465 [32:40<7:49:16,  4.53s/it]\n",
      "  0%|                                                                                                                      | 0/100 [00:06<?, ?it/s]\u001b[A\n",
      "  4%|███▉                                                                                                     | 246/6465 [32:46<8:37:57,  5.00s/it]\n",
      "  0%|                                                                                                                      | 0/100 [00:06<?, ?it/s]\u001b[A\n",
      "  4%|████                                                                                                     | 247/6465 [32:52<9:11:40,  5.32s/it]\n",
      "  0%|                                                                                                                      | 0/100 [00:06<?, ?it/s]\u001b[A\n",
      "  4%|████                                                                                                     | 248/6465 [32:58<9:34:42,  5.55s/it]\n",
      "  0%|                                                                                                                      | 0/100 [00:04<?, ?it/s]\u001b[A\n",
      "  4%|████                                                                                                     | 249/6465 [33:02<8:49:20,  5.11s/it]\n",
      "  0%|                                                                                                                      | 0/100 [00:05<?, ?it/s]\u001b[A\n",
      "  4%|████                                                                                                     | 250/6465 [33:08<8:47:41,  5.09s/it]\n",
      "  0%|                                                                                                                      | 0/100 [00:05<?, ?it/s]\u001b[A\n",
      "  4%|████                                                                                                     | 251/6465 [33:13<8:46:37,  5.08s/it]\n",
      "  0%|                                                                                                                      | 0/100 [00:05<?, ?it/s]\u001b[A\n",
      "  4%|████                                                                                                     | 252/6465 [33:18<8:46:45,  5.09s/it]\n",
      "  0%|                                                                                                                      | 0/100 [00:06<?, ?it/s]\u001b[A\n",
      "  4%|████                                                                                                    | 253/6465 [34:23<39:52:22, 23.11s/it]\n",
      "  0%|                                                                                                                      | 0/100 [00:04<?, ?it/s]\u001b[A\n",
      "  4%|████                                                                                                    | 254/6465 [34:27<30:00:16, 17.39s/it]\n",
      "  0%|                                                                                                                      | 0/100 [00:04<?, ?it/s]\u001b[A\n",
      "  4%|████                                                                                                    | 255/6465 [34:31<23:07:05, 13.40s/it]\n",
      "  0%|                                                                                                                      | 0/100 [00:03<?, ?it/s]\u001b[A\n",
      "  4%|████                                                                                                    | 256/6465 [34:34<17:45:55, 10.30s/it]\n",
      "  0%|                                                                                                                      | 0/100 [00:05<?, ?it/s]\u001b[A\n",
      "  4%|████▏                                                                                                   | 257/6465 [34:39<15:04:13,  8.74s/it]\n",
      "  0%|                                                                                                                      | 0/100 [00:03<?, ?it/s]\u001b[A\n",
      "  4%|████▏                                                                                                   | 258/6465 [34:42<12:08:00,  7.04s/it]\n",
      "  0%|                                                                                                                      | 0/100 [00:04<?, ?it/s]\u001b[A\n",
      "  4%|████▏                                                                                                   | 259/6465 [34:46<10:37:20,  6.16s/it]\n",
      "  0%|                                                                                                                      | 0/100 [00:06<?, ?it/s]\u001b[A\n",
      "  4%|████▏                                                                                                   | 260/6465 [34:52<10:34:37,  6.14s/it]\n",
      "  0%|                                                                                                                      | 0/100 [00:04<?, ?it/s]\u001b[A\n",
      "  4%|████▏                                                                                                    | 261/6465 [34:57<9:30:56,  5.52s/it]\n",
      "  0%|                                                                                                                      | 0/100 [00:04<?, ?it/s]\u001b[A\n",
      "  4%|████▎                                                                                                    | 262/6465 [35:01<8:46:51,  5.10s/it]\n",
      "  0%|                                                                                                                      | 0/100 [00:03<?, ?it/s]\u001b[A\n",
      "  4%|████▎                                                                                                    | 263/6465 [35:04<7:44:25,  4.49s/it]\n",
      "  0%|                                                                                                                      | 0/100 [00:04<?, ?it/s]\u001b[A\n",
      "  4%|████▎                                                                                                    | 264/6465 [35:08<7:31:52,  4.37s/it]\n",
      "  0%|                                                                                                                      | 0/100 [00:04<?, ?it/s]\u001b[A\n",
      "  4%|████▎                                                                                                    | 265/6465 [35:12<7:23:12,  4.29s/it]\n",
      "  0%|                                                                                                                      | 0/100 [00:03<?, ?it/s]\u001b[A\n",
      "  4%|████▎                                                                                                    | 266/6465 [35:15<6:45:58,  3.93s/it]\n",
      "  0%|                                                                                                                      | 0/100 [00:03<?, ?it/s]\u001b[A\n",
      "  4%|████▎                                                                                                    | 267/6465 [35:18<6:20:29,  3.68s/it]\n",
      "  0%|                                                                                                                      | 0/100 [00:06<?, ?it/s]\u001b[A\n",
      "  4%|████▎                                                                                                    | 268/6465 [35:24<7:35:18,  4.41s/it]\n",
      "  0%|                                                                                                                      | 0/100 [00:04<?, ?it/s]\u001b[A\n",
      "  4%|████▎                                                                                                    | 269/6465 [35:28<7:25:20,  4.31s/it]\n",
      "  0%|                                                                                                                      | 0/100 [00:03<?, ?it/s]\u001b[A\n",
      "  4%|████▍                                                                                                    | 270/6465 [35:31<6:47:55,  3.95s/it]\n",
      "  0%|                                                                                                                      | 0/100 [00:05<?, ?it/s]\u001b[A\n",
      "  4%|████▍                                                                                                    | 271/6465 [35:36<7:23:29,  4.30s/it]\n",
      "  0%|                                                                                                                      | 0/100 [00:04<?, ?it/s]\u001b[A\n",
      "  4%|████▍                                                                                                    | 272/6465 [35:41<7:16:33,  4.23s/it]\n",
      "  0%|                                                                                                                      | 0/100 [00:03<?, ?it/s]\u001b[A\n",
      "  4%|████▍                                                                                                   | 273/6465 [36:33<31:59:31, 18.60s/it]\n",
      "  0%|                                                                                                                      | 0/100 [00:03<?, ?it/s]\u001b[A\n",
      "  4%|████▍                                                                                                   | 274/6465 [36:36<23:58:38, 13.94s/it]\n",
      "  0%|                                                                                                                      | 0/100 [00:06<?, ?it/s]\u001b[A\n",
      "  4%|████▍                                                                                                   | 275/6465 [36:42<19:56:22, 11.60s/it]\n",
      "  0%|                                                                                                                      | 0/100 [00:04<?, ?it/s]\u001b[A\n",
      "  4%|████▍                                                                                                   | 276/6465 [36:46<16:03:05,  9.34s/it]\n",
      "  0%|                                                                                                                      | 0/100 [00:03<?, ?it/s]\u001b[A\n",
      "  4%|████▍                                                                                                   | 277/6465 [36:49<12:49:47,  7.46s/it]\n",
      "  0%|                                                                                                                      | 0/100 [00:00<?, ?it/s]\u001b[A\n",
      "  1%|█                                                                                                             | 1/100 [00:07<11:49,  7.16s/it]\u001b[A\n",
      "  4%|████▍                                                                                                   | 278/6465 [36:57<13:16:12,  7.72s/it]"
     ]
    },
    {
     "name": "stdout",
     "output_type": "stream",
     "text": [
      "2022-10-13 09:19:51.416077  :  0\n",
      "1\n"
     ]
    },
    {
     "name": "stderr",
     "output_type": "stream",
     "text": [
      "\n",
      "  0%|                                                                                                                      | 0/100 [00:00<?, ?it/s]\u001b[A\n",
      "  1%|█                                                                                                             | 1/100 [00:12<20:04, 12.17s/it]\u001b[A\n",
      "  4%|████▍                                                                                                   | 279/6465 [37:11<16:33:44,  9.64s/it]"
     ]
    },
    {
     "name": "stdout",
     "output_type": "stream",
     "text": [
      "2022-10-13 09:20:05.527844  :  0\n",
      "3\n"
     ]
    },
    {
     "name": "stderr",
     "output_type": "stream",
     "text": [
      "\n",
      "  0%|                                                                                                                      | 0/100 [00:00<?, ?it/s]\u001b[A\n",
      "  1%|█                                                                                                             | 1/100 [00:07<11:51,  7.19s/it]\u001b[A\n",
      "  4%|████▌                                                                                                   | 280/6465 [37:20<15:52:19,  9.24s/it]"
     ]
    },
    {
     "name": "stdout",
     "output_type": "stream",
     "text": [
      "2022-10-13 09:20:13.832453  :  0\n",
      "4\n"
     ]
    },
    {
     "name": "stderr",
     "output_type": "stream",
     "text": [
      "\n",
      "  0%|                                                                                                                      | 0/100 [00:00<?, ?it/s]\u001b[A\n",
      "  1%|█                                                                                                             | 1/100 [00:11<18:23, 11.15s/it]\u001b[A\n",
      "  4%|████▌                                                                                                   | 281/6465 [37:32<17:30:24, 10.19s/it]"
     ]
    },
    {
     "name": "stdout",
     "output_type": "stream",
     "text": [
      "2022-10-13 09:20:26.247845  :  0\n",
      "3\n"
     ]
    },
    {
     "name": "stderr",
     "output_type": "stream",
     "text": [
      "\n",
      "  0%|                                                                                                                      | 0/100 [00:06<?, ?it/s]\u001b[A\n",
      "  4%|████▌                                                                                                   | 282/6465 [37:38<15:24:21,  8.97s/it]\n",
      "  0%|                                                                                                                      | 0/100 [00:03<?, ?it/s]\u001b[A\n",
      "  4%|████▌                                                                                                   | 283/6465 [37:41<12:22:15,  7.20s/it]\n",
      "  0%|                                                                                                                      | 0/100 [00:04<?, ?it/s]\u001b[A\n",
      "  4%|████▌                                                                                                   | 284/6465 [37:46<10:46:20,  6.27s/it]\n",
      "  0%|                                                                                                                      | 0/100 [00:05<?, ?it/s]\u001b[A\n",
      "  4%|████▌                                                                                                   | 285/6465 [37:51<10:11:32,  5.94s/it]\n",
      "  0%|                                                                                                                      | 0/100 [00:00<?, ?it/s]\u001b[A\n",
      "  1%|█                                                                                                             | 1/100 [00:09<15:15,  9.24s/it]\u001b[A\n",
      "  4%|████▌                                                                                                   | 286/6465 [38:02<12:44:11,  7.42s/it]"
     ]
    },
    {
     "name": "stdout",
     "output_type": "stream",
     "text": [
      "2022-10-13 09:20:55.588625  :  0\n",
      "1\n"
     ]
    },
    {
     "name": "stderr",
     "output_type": "stream",
     "text": [
      "\n",
      "  0%|                                                                                                                      | 0/100 [00:05<?, ?it/s]\u001b[A\n",
      "  4%|████▌                                                                                                   | 287/6465 [38:07<11:32:37,  6.73s/it]\n",
      "  0%|                                                                                                                      | 0/100 [00:04<?, ?it/s]\u001b[A\n",
      "  4%|████▋                                                                                                   | 288/6465 [38:11<10:12:05,  5.95s/it]\n",
      "  0%|                                                                                                                      | 0/100 [00:03<?, ?it/s]\u001b[A\n",
      "  4%|████▋                                                                                                    | 289/6465 [38:14<8:49:14,  5.14s/it]\n",
      "  0%|                                                                                                                      | 0/100 [00:06<?, ?it/s]\u001b[A\n",
      "  4%|████▋                                                                                                    | 290/6465 [38:20<9:20:09,  5.44s/it]\n",
      "  0%|                                                                                                                      | 0/100 [00:06<?, ?it/s]\u001b[A\n",
      "  5%|████▋                                                                                                    | 291/6465 [38:26<9:39:23,  5.63s/it]\n",
      "  0%|                                                                                                                      | 0/100 [00:04<?, ?it/s]\u001b[A\n",
      "  5%|████▋                                                                                                    | 292/6465 [38:30<8:51:45,  5.17s/it]\n",
      "  0%|                                                                                                                      | 0/100 [00:03<?, ?it/s]\u001b[A\n",
      "  5%|████▋                                                                                                   | 293/6465 [39:20<31:57:45, 18.64s/it]\n",
      "  0%|                                                                                                                      | 0/100 [00:05<?, ?it/s]\u001b[A\n",
      "  5%|████▋                                                                                                   | 294/6465 [39:26<24:59:09, 14.58s/it]\n",
      "  0%|                                                                                                                      | 0/100 [00:00<?, ?it/s]\u001b[A\n",
      "  1%|█                                                                                                             | 1/100 [00:10<16:48, 10.18s/it]\u001b[A\n",
      "  5%|████▋                                                                                                   | 295/6465 [39:37<23:24:43, 13.66s/it]"
     ]
    },
    {
     "name": "stdout",
     "output_type": "stream",
     "text": [
      "2022-10-13 09:22:31.083234  :  0\n",
      "2\n"
     ]
    },
    {
     "name": "stderr",
     "output_type": "stream",
     "text": [
      "\n",
      "  0%|                                                                                                                      | 0/100 [00:00<?, ?it/s]\u001b[A\n",
      "  1%|█                                                                                                             | 1/100 [00:09<15:08,  9.18s/it]\u001b[A\n",
      "  5%|████▊                                                                                                   | 296/6465 [39:48<21:50:24, 12.75s/it]"
     ]
    },
    {
     "name": "stdout",
     "output_type": "stream",
     "text": [
      "2022-10-13 09:22:41.677404  :  0\n",
      "12\n"
     ]
    },
    {
     "name": "stderr",
     "output_type": "stream",
     "text": [
      "\n",
      "  0%|                                                                                                                      | 0/100 [00:00<?, ?it/s]\u001b[A\n",
      "  1%|█                                                                                                             | 1/100 [00:06<10:19,  6.25s/it]\u001b[A\n",
      "  5%|████▊                                                                                                   | 297/6465 [39:55<19:11:22, 11.20s/it]"
     ]
    },
    {
     "name": "stdout",
     "output_type": "stream",
     "text": [
      "2022-10-13 09:22:49.287976  :  0\n",
      "3\n"
     ]
    },
    {
     "name": "stderr",
     "output_type": "stream",
     "text": [
      "\n",
      "  0%|                                                                                                                      | 0/100 [00:00<?, ?it/s]\u001b[A\n",
      "  1%|█                                                                                                             | 1/100 [00:11<18:33, 11.25s/it]\u001b[A\n",
      "  5%|████▊                                                                                                   | 298/6465 [40:08<19:51:03, 11.59s/it]"
     ]
    },
    {
     "name": "stdout",
     "output_type": "stream",
     "text": [
      "2022-10-13 09:23:01.781160  :  0\n",
      "4\n"
     ]
    },
    {
     "name": "stderr",
     "output_type": "stream",
     "text": [
      "\n",
      "  0%|                                                                                                                      | 0/100 [00:04<?, ?it/s]\u001b[A\n",
      "  5%|████▊                                                                                                   | 299/6465 [40:12<16:00:38,  9.35s/it]\n",
      "  0%|                                                                                                                      | 0/100 [00:06<?, ?it/s]\u001b[A\n",
      "  5%|████▊                                                                                                   | 300/6465 [40:18<14:19:06,  8.36s/it]\n",
      "  0%|                                                                                                                      | 0/100 [00:04<?, ?it/s]\u001b[A\n",
      "  5%|████▊                                                                                                   | 301/6465 [40:22<12:08:00,  7.09s/it]\n",
      "  0%|                                                                                                                      | 0/100 [00:00<?, ?it/s]\u001b[A\n",
      "  1%|█                                                                                                             | 1/100 [00:07<11:46,  7.14s/it]\u001b[A\n",
      "  5%|████▊                                                                                                   | 302/6465 [40:33<14:21:26,  8.39s/it]"
     ]
    },
    {
     "name": "stdout",
     "output_type": "stream",
     "text": [
      "2022-10-13 09:23:27.492026  :  0\n",
      "1\n"
     ]
    },
    {
     "name": "stderr",
     "output_type": "stream",
     "text": [
      "\n",
      "  0%|                                                                                                                      | 0/100 [00:00<?, ?it/s]\u001b[A\n",
      "  1%|█                                                                                                             | 1/100 [00:08<14:04,  8.53s/it]\u001b[A\n",
      "  5%|████▊                                                                                                   | 303/6465 [40:43<15:01:55,  8.78s/it]"
     ]
    },
    {
     "name": "stdout",
     "output_type": "stream",
     "text": [
      "2022-10-13 09:23:37.196469  :  0\n",
      "2\n"
     ]
    },
    {
     "name": "stderr",
     "output_type": "stream",
     "text": [
      "\n",
      "  0%|                                                                                                                      | 0/100 [00:06<?, ?it/s]\u001b[A\n",
      "  5%|████▉                                                                                                   | 304/6465 [40:49<13:38:20,  7.97s/it]\n",
      "  0%|                                                                                                                      | 0/100 [00:00<?, ?it/s]\u001b[A\n",
      "  1%|█                                                                                                             | 1/100 [00:09<15:11,  9.20s/it]\u001b[A\n",
      "  5%|████▉                                                                                                   | 305/6465 [41:00<14:50:28,  8.67s/it]"
     ]
    },
    {
     "name": "stdout",
     "output_type": "stream",
     "text": [
      "2022-10-13 09:23:53.587715  :  0\n",
      "1\n"
     ]
    },
    {
     "name": "stderr",
     "output_type": "stream",
     "text": [
      "\n",
      "  0%|                                                                                                                      | 0/100 [00:00<?, ?it/s]\u001b[A\n",
      "  1%|█                                                                                                             | 1/100 [00:11<18:22, 11.13s/it]\u001b[A\n",
      "  5%|████▉                                                                                                   | 306/6465 [41:12<16:38:23,  9.73s/it]"
     ]
    },
    {
     "name": "stdout",
     "output_type": "stream",
     "text": [
      "2022-10-13 09:24:05.770350  :  0\n",
      "2\n"
     ]
    },
    {
     "name": "stderr",
     "output_type": "stream",
     "text": [
      "\n",
      "  0%|                                                                                                                      | 0/100 [00:05<?, ?it/s]\u001b[A\n",
      "  5%|████▉                                                                                                   | 307/6465 [41:17<14:15:25,  8.33s/it]\n",
      "  0%|                                                                                                                      | 0/100 [00:04<?, ?it/s]\u001b[A\n",
      "  5%|████▉                                                                                                   | 308/6465 [41:21<12:14:09,  7.15s/it]\n",
      "  0%|                                                                                                                      | 0/100 [00:04<?, ?it/s]\u001b[A\n",
      "  5%|████▉                                                                                                   | 309/6465 [41:25<10:39:42,  6.24s/it]\n",
      "  0%|                                                                                                                      | 0/100 [00:05<?, ?it/s]\u001b[A\n",
      "  5%|████▉                                                                                                   | 310/6465 [41:30<10:04:23,  5.89s/it]\n",
      "  0%|                                                                                                                      | 0/100 [00:05<?, ?it/s]\u001b[A\n",
      "  5%|█████                                                                                                    | 311/6465 [41:35<9:38:59,  5.65s/it]\n",
      "  0%|                                                                                                                      | 0/100 [00:05<?, ?it/s]\u001b[A\n",
      "  5%|█████                                                                                                    | 312/6465 [41:41<9:22:08,  5.48s/it]\n",
      "  0%|                                                                                                                      | 0/100 [00:04<?, ?it/s]\u001b[A\n",
      "  5%|█████                                                                                                   | 313/6465 [42:50<42:00:15, 24.58s/it]\n",
      "  0%|                                                                                                                      | 0/100 [00:03<?, ?it/s]\u001b[A\n",
      "  5%|█████                                                                                                   | 314/6465 [42:53<30:59:32, 18.14s/it]\n",
      "  0%|                                                                                                                      | 0/100 [00:04<?, ?it/s]\u001b[A\n",
      "  5%|█████                                                                                                   | 315/6465 [42:57<23:46:37, 13.92s/it]\n",
      "  0%|                                                                                                                      | 0/100 [00:00<?, ?it/s]\u001b[A\n",
      "  1%|█                                                                                                             | 1/100 [00:08<13:30,  8.19s/it]\u001b[A\n",
      "  5%|█████                                                                                                   | 316/6465 [43:06<21:27:07, 12.56s/it]"
     ]
    },
    {
     "name": "stdout",
     "output_type": "stream",
     "text": [
      "2022-10-13 09:26:00.319559  :  0\n",
      "1\n"
     ]
    },
    {
     "name": "stderr",
     "output_type": "stream",
     "text": [
      "\n",
      "  0%|                                                                                                                      | 0/100 [00:00<?, ?it/s]\u001b[A\n",
      "  1%|█                                                                                                             | 1/100 [00:11<18:28, 11.19s/it]\u001b[A\n",
      "  5%|█████                                                                                                   | 317/6465 [43:19<21:33:08, 12.62s/it]"
     ]
    },
    {
     "name": "stdout",
     "output_type": "stream",
     "text": [
      "2022-10-13 09:26:13.081355  :  0\n",
      "1\n"
     ]
    },
    {
     "name": "stderr",
     "output_type": "stream",
     "text": [
      "\n",
      "  0%|                                                                                                                      | 0/100 [00:03<?, ?it/s]\u001b[A\n",
      "  5%|█████                                                                                                   | 318/6465 [43:22<16:40:19,  9.76s/it]\n",
      "  0%|                                                                                                                      | 0/100 [00:04<?, ?it/s]\u001b[A\n",
      "  5%|█████▏                                                                                                  | 319/6465 [43:26<13:45:11,  8.06s/it]\n",
      "  0%|                                                                                                                      | 0/100 [00:03<?, ?it/s]\u001b[A\n",
      "  5%|█████▏                                                                                                  | 320/6465 [43:29<11:12:10,  6.56s/it]\n",
      "  0%|                                                                                                                      | 0/100 [00:05<?, ?it/s]\u001b[A\n",
      "  5%|█████▏                                                                                                  | 321/6465 [43:34<10:26:40,  6.12s/it]\n",
      "  0%|                                                                                                                      | 0/100 [00:05<?, ?it/s]\u001b[A\n",
      "  5%|█████▏                                                                                                   | 322/6465 [43:39<9:54:42,  5.81s/it]\n",
      "  0%|                                                                                                                      | 0/100 [00:05<?, ?it/s]\u001b[A\n",
      "  5%|█████▏                                                                                                   | 323/6465 [43:45<9:32:14,  5.59s/it]\n",
      "  0%|                                                                                                                      | 0/100 [00:05<?, ?it/s]\u001b[A\n",
      "  5%|█████▎                                                                                                   | 324/6465 [43:50<9:17:34,  5.45s/it]\n",
      "  0%|                                                                                                                      | 0/100 [00:04<?, ?it/s]\u001b[A\n",
      "  5%|█████▎                                                                                                   | 325/6465 [43:54<8:34:53,  5.03s/it]\n",
      "  0%|                                                                                                                      | 0/100 [00:03<?, ?it/s]\u001b[A\n",
      "  5%|█████▎                                                                                                   | 326/6465 [43:57<7:35:02,  4.45s/it]\n",
      "  0%|                                                                                                                      | 0/100 [00:00<?, ?it/s]\u001b[A\n",
      "  1%|█                                                                                                             | 1/100 [00:09<15:06,  9.16s/it]\u001b[A\n",
      "  5%|█████▎                                                                                                  | 327/6465 [44:07<10:39:20,  6.25s/it]"
     ]
    },
    {
     "name": "stdout",
     "output_type": "stream",
     "text": [
      "2022-10-13 09:27:01.294172  :  0\n",
      "2\n"
     ]
    },
    {
     "name": "stderr",
     "output_type": "stream",
     "text": [
      "\n",
      "  0%|                                                                                                                      | 0/100 [00:06<?, ?it/s]\u001b[A\n",
      "  5%|█████▎                                                                                                  | 328/6465 [44:13<10:34:04,  6.20s/it]\n",
      "  0%|                                                                                                                      | 0/100 [00:04<?, ?it/s]\u001b[A\n",
      "  5%|█████▎                                                                                                   | 329/6465 [44:17<9:30:39,  5.58s/it]\n",
      "  0%|                                                                                                                      | 0/100 [00:03<?, ?it/s]\u001b[A\n",
      "  5%|█████▎                                                                                                   | 330/6465 [44:21<8:14:11,  4.83s/it]\n",
      "  0%|                                                                                                                      | 0/100 [00:05<?, ?it/s]\u001b[A\n",
      "  5%|█████▍                                                                                                   | 331/6465 [44:26<8:21:32,  4.91s/it]\n",
      "  0%|                                                                                                                      | 0/100 [00:05<?, ?it/s]\u001b[A\n",
      "  5%|█████▍                                                                                                   | 332/6465 [44:31<8:27:38,  4.97s/it]\n",
      "  0%|                                                                                                                      | 0/100 [00:03<?, ?it/s]\u001b[A\n",
      "  5%|█████▎                                                                                                  | 333/6465 [45:22<32:00:52, 18.80s/it]\n",
      "  0%|                                                                                                                      | 0/100 [00:06<?, ?it/s]\u001b[A\n",
      "  5%|█████▎                                                                                                  | 334/6465 [45:28<25:30:27, 14.98s/it]\n",
      "  0%|                                                                                                                      | 0/100 [00:04<?, ?it/s]\u001b[A\n",
      "  5%|█████▍                                                                                                  | 335/6465 [45:32<19:55:57, 11.71s/it]\n",
      "  0%|                                                                                                                      | 0/100 [00:05<?, ?it/s]\u001b[A\n",
      "  5%|█████▍                                                                                                  | 336/6465 [45:37<16:32:23,  9.72s/it]\n",
      "  0%|                                                                                                                      | 0/100 [00:03<?, ?it/s]\u001b[A\n",
      "  5%|█████▍                                                                                                  | 337/6465 [45:40<13:09:18,  7.73s/it]\n",
      "  0%|                                                                                                                      | 0/100 [00:05<?, ?it/s]\u001b[A\n",
      "  5%|█████▍                                                                                                  | 338/6465 [45:45<11:48:18,  6.94s/it]\n",
      "  0%|                                                                                                                      | 0/100 [00:05<?, ?it/s]\u001b[A\n",
      "  5%|█████▍                                                                                                  | 339/6465 [45:50<10:51:13,  6.38s/it]\n",
      "  0%|                                                                                                                      | 0/100 [00:04<?, ?it/s]\u001b[A\n",
      "  5%|█████▌                                                                                                   | 340/6465 [45:54<9:40:55,  5.69s/it]\n",
      "  0%|                                                                                                                      | 0/100 [00:03<?, ?it/s]\u001b[A\n",
      "  5%|█████▌                                                                                                   | 341/6465 [45:57<8:21:11,  4.91s/it]\n",
      "  0%|                                                                                                                      | 0/100 [00:03<?, ?it/s]\u001b[A\n",
      "  5%|█████▌                                                                                                   | 342/6465 [46:01<7:24:27,  4.36s/it]\n",
      "  0%|                                                                                                                      | 0/100 [00:00<?, ?it/s]\u001b[A\n",
      "  1%|█                                                                                                             | 1/100 [00:09<15:06,  9.16s/it]\u001b[A\n",
      "  5%|█████▌                                                                                                  | 343/6465 [46:11<10:33:52,  6.21s/it]"
     ]
    },
    {
     "name": "stdout",
     "output_type": "stream",
     "text": [
      "2022-10-13 09:29:05.098149  :  0\n",
      "1\n"
     ]
    },
    {
     "name": "stderr",
     "output_type": "stream",
     "text": [
      "\n",
      "  0%|                                                                                                                      | 0/100 [00:03<?, ?it/s]\u001b[A\n",
      "  5%|█████▌                                                                                                   | 344/6465 [46:14<8:57:53,  5.27s/it]\n",
      "  0%|                                                                                                                      | 0/100 [00:06<?, ?it/s]\u001b[A\n",
      "  5%|█████▌                                                                                                   | 345/6465 [46:20<9:22:25,  5.51s/it]\n",
      "  0%|                                                                                                                      | 0/100 [00:03<?, ?it/s]\u001b[A\n",
      "  5%|█████▌                                                                                                   | 346/6465 [46:23<8:07:40,  4.78s/it]\n",
      "  0%|                                                                                                                      | 0/100 [00:04<?, ?it/s]\u001b[A\n",
      "  5%|█████▋                                                                                                   | 347/6465 [46:27<7:46:00,  4.57s/it]\n",
      "  0%|                                                                                                                      | 0/100 [00:05<?, ?it/s]\u001b[A\n",
      "  5%|█████▋                                                                                                   | 348/6465 [46:32<8:01:33,  4.72s/it]\n",
      "  0%|                                                                                                                      | 0/100 [00:04<?, ?it/s]\u001b[A\n",
      "  5%|█████▋                                                                                                   | 349/6465 [46:36<7:40:55,  4.52s/it]\n",
      "  0%|                                                                                                                      | 0/100 [00:05<?, ?it/s]\u001b[A\n",
      "  5%|█████▋                                                                                                   | 350/6465 [46:42<7:57:53,  4.69s/it]\n",
      "  0%|                                                                                                                      | 0/100 [00:05<?, ?it/s]\u001b[A\n",
      "  5%|█████▋                                                                                                   | 351/6465 [46:47<8:09:02,  4.80s/it]\n",
      "  0%|                                                                                                                      | 0/100 [00:04<?, ?it/s]\u001b[A\n",
      "  5%|█████▋                                                                                                   | 352/6465 [46:51<7:46:04,  4.57s/it]\n",
      "  0%|                                                                                                                      | 0/100 [00:06<?, ?it/s]\u001b[A\n",
      "  5%|█████▋                                                                                                  | 353/6465 [47:40<30:26:40, 17.93s/it]\n",
      "  0%|                                                                                                                      | 0/100 [00:03<?, ?it/s]\u001b[A\n",
      "  5%|█████▋                                                                                                  | 354/6465 [47:43<22:52:55, 13.48s/it]\n",
      "  0%|                                                                                                                      | 0/100 [00:00<?, ?it/s]\u001b[A\n",
      "  1%|█                                                                                                             | 1/100 [00:10<16:47, 10.18s/it]\u001b[A\n",
      "  5%|█████▋                                                                                                  | 355/6465 [47:54<21:49:01, 12.85s/it]"
     ]
    },
    {
     "name": "stdout",
     "output_type": "stream",
     "text": [
      "2022-10-13 09:30:48.309450  :  0\n",
      "7\n"
     ]
    },
    {
     "name": "stderr",
     "output_type": "stream",
     "text": [
      "\n",
      "  0%|                                                                                                                      | 0/100 [00:04<?, ?it/s]\u001b[A\n",
      "  6%|█████▋                                                                                                  | 356/6465 [47:58<17:21:18, 10.23s/it]\n",
      "  0%|                                                                                                                      | 0/100 [00:03<?, ?it/s]\u001b[A\n",
      "  6%|█████▋                                                                                                  | 357/6465 [48:01<13:43:14,  8.09s/it]\n",
      "  0%|                                                                                                                      | 0/100 [00:03<?, ?it/s]\u001b[A\n",
      "  6%|█████▊                                                                                                  | 358/6465 [48:05<11:11:02,  6.59s/it]\n",
      "  0%|                                                                                                                      | 0/100 [00:05<?, ?it/s]\u001b[A\n",
      "  6%|█████▊                                                                                                  | 359/6465 [48:10<10:24:18,  6.13s/it]\n",
      "  0%|                                                                                                                      | 0/100 [00:03<?, ?it/s]\u001b[A\n",
      "  6%|█████▊                                                                                                   | 360/6465 [48:13<8:50:37,  5.21s/it]\n",
      "  0%|                                                                                                                      | 0/100 [00:05<?, ?it/s]\u001b[A\n",
      "  6%|█████▊                                                                                                   | 361/6465 [48:18<8:46:32,  5.18s/it]\n",
      "  0%|                                                                                                                      | 0/100 [00:05<?, ?it/s]\u001b[A\n",
      "  6%|█████▉                                                                                                   | 362/6465 [48:23<8:43:28,  5.15s/it]\n",
      "  0%|                                                                                                                      | 0/100 [00:04<?, ?it/s]\u001b[A\n",
      "  6%|█████▉                                                                                                   | 363/6465 [48:27<8:11:00,  4.83s/it]\n",
      "  0%|                                                                                                                      | 0/100 [00:03<?, ?it/s]\u001b[A\n",
      "  6%|█████▉                                                                                                   | 364/6465 [48:30<7:17:34,  4.30s/it]\n",
      "  0%|                                                                                                                      | 0/100 [00:05<?, ?it/s]\u001b[A\n",
      "  6%|█████▉                                                                                                   | 365/6465 [48:35<7:40:58,  4.53s/it]\n",
      "  0%|                                                                                                                      | 0/100 [00:03<?, ?it/s]\u001b[A\n",
      "  6%|█████▉                                                                                                   | 366/6465 [48:38<6:56:02,  4.09s/it]\n",
      "  0%|                                                                                                                      | 0/100 [00:03<?, ?it/s]\u001b[A\n",
      "  6%|█████▉                                                                                                   | 367/6465 [48:41<6:25:25,  3.79s/it]\n",
      "  0%|                                                                                                                      | 0/100 [00:05<?, ?it/s]\u001b[A\n",
      "  6%|█████▉                                                                                                   | 368/6465 [48:46<7:04:29,  4.18s/it]\n",
      "  0%|                                                                                                                      | 0/100 [00:03<?, ?it/s]\u001b[A\n",
      "  6%|█████▉                                                                                                   | 369/6465 [48:49<6:30:50,  3.85s/it]\n",
      "  0%|                                                                                                                      | 0/100 [00:06<?, ?it/s]\u001b[A\n",
      "  6%|██████                                                                                                   | 370/6465 [48:55<7:38:56,  4.52s/it]\n",
      "  0%|                                                                                                                      | 0/100 [00:06<?, ?it/s]\u001b[A\n",
      "  6%|██████                                                                                                   | 371/6465 [49:02<8:26:58,  4.99s/it]\n",
      "  0%|                                                                                                                      | 0/100 [00:06<?, ?it/s]\u001b[A\n",
      "  6%|██████                                                                                                   | 372/6465 [49:08<9:00:30,  5.32s/it]\n",
      "  0%|                                                                                                                      | 0/100 [00:00<?, ?it/s]\u001b[A\n",
      "  1%|█                                                                                                             | 1/100 [00:12<20:02, 12.15s/it]\u001b[A\n",
      "  6%|██████                                                                                                  | 373/6465 [50:21<43:28:57, 25.70s/it]"
     ]
    },
    {
     "name": "stdout",
     "output_type": "stream",
     "text": [
      "2022-10-13 09:33:14.953454  :  0\n",
      "1\n"
     ]
    },
    {
     "name": "stderr",
     "output_type": "stream",
     "text": [
      "\n",
      "  0%|                                                                                                                      | 0/100 [00:06<?, ?it/s]\u001b[A\n",
      "  6%|██████                                                                                                  | 374/6465 [50:27<33:31:14, 19.81s/it]\n",
      "  0%|                                                                                                                      | 0/100 [00:03<?, ?it/s]\u001b[A\n",
      "  6%|██████                                                                                                  | 375/6465 [50:30<25:02:04, 14.80s/it]\n",
      "  0%|                                                                                                                      | 0/100 [00:05<?, ?it/s]\u001b[A\n",
      "  6%|██████                                                                                                  | 376/6465 [50:35<20:05:44, 11.88s/it]\n",
      "  0%|                                                                                                                      | 0/100 [00:03<?, ?it/s]\u001b[A\n",
      "  6%|██████                                                                                                  | 377/6465 [50:38<15:37:53,  9.24s/it]\n",
      "  0%|                                                                                                                      | 0/100 [00:04<?, ?it/s]\u001b[A\n",
      "  6%|██████                                                                                                  | 378/6465 [50:42<13:01:31,  7.70s/it]\n",
      "  0%|                                                                                                                      | 0/100 [00:05<?, ?it/s]\u001b[A\n",
      "  6%|██████                                                                                                  | 379/6465 [50:47<11:41:17,  6.91s/it]\n",
      "  0%|                                                                                                                      | 0/100 [00:06<?, ?it/s]\u001b[A\n",
      "  6%|██████                                                                                                  | 380/6465 [50:54<11:15:53,  6.66s/it]\n",
      "  0%|                                                                                                                      | 0/100 [00:05<?, ?it/s]\u001b[A\n",
      "  6%|██████▏                                                                                                 | 381/6465 [50:59<10:29:06,  6.20s/it]\n",
      "  0%|                                                                                                                      | 0/100 [00:03<?, ?it/s]\u001b[A\n",
      "  6%|██████▏                                                                                                  | 382/6465 [51:02<8:53:44,  5.26s/it]\n",
      "  0%|                                                                                                                      | 0/100 [00:06<?, ?it/s]\u001b[A\n",
      "  6%|██████▏                                                                                                  | 383/6465 [51:08<9:19:36,  5.52s/it]\n",
      "  0%|                                                                                                                      | 0/100 [00:05<?, ?it/s]\u001b[A\n",
      "  6%|██████▏                                                                                                  | 384/6465 [51:13<9:06:01,  5.39s/it]\n",
      "  0%|                                                                                                                      | 0/100 [00:04<?, ?it/s]\u001b[A\n",
      "  6%|██████▎                                                                                                  | 385/6465 [51:17<8:26:02,  4.99s/it]\n",
      "  0%|                                                                                                                      | 0/100 [00:04<?, ?it/s]\u001b[A\n",
      "  6%|██████▎                                                                                                  | 386/6465 [51:21<7:58:51,  4.73s/it]\n",
      "  0%|                                                                                                                      | 0/100 [00:06<?, ?it/s]\u001b[A\n",
      "  6%|██████▎                                                                                                  | 387/6465 [51:27<8:40:15,  5.14s/it]\n",
      "  0%|                                                                                                                      | 0/100 [00:04<?, ?it/s]\u001b[A\n",
      "  6%|██████▎                                                                                                  | 388/6465 [51:31<8:07:34,  4.81s/it]\n",
      "  0%|                                                                                                                      | 0/100 [00:04<?, ?it/s]\u001b[A\n",
      "  6%|██████▎                                                                                                  | 389/6465 [51:35<7:45:37,  4.60s/it]\n",
      "  0%|                                                                                                                      | 0/100 [00:06<?, ?it/s]\u001b[A\n",
      "  6%|██████▎                                                                                                  | 390/6465 [51:41<8:31:19,  5.05s/it]\n",
      "  0%|                                                                                                                      | 0/100 [00:04<?, ?it/s]\u001b[A\n",
      "  6%|██████▎                                                                                                  | 391/6465 [51:46<8:01:41,  4.76s/it]\n",
      "  0%|                                                                                                                      | 0/100 [00:03<?, ?it/s]\u001b[A\n",
      "  6%|██████▎                                                                                                  | 392/6465 [51:49<7:09:59,  4.25s/it]\n",
      "  0%|                                                                                                                      | 0/100 [00:04<?, ?it/s]\u001b[A\n",
      "  6%|██████▎                                                                                                 | 393/6465 [52:57<39:28:20, 23.40s/it]\n",
      "  0%|                                                                                                                      | 0/100 [00:06<?, ?it/s]\u001b[A\n",
      "  6%|██████▎                                                                                                 | 394/6465 [53:03<30:41:59, 18.20s/it]\n",
      "  0%|                                                                                                                      | 0/100 [00:06<?, ?it/s]\u001b[A\n",
      "  6%|██████▎                                                                                                 | 395/6465 [53:09<24:34:41, 14.58s/it]\n",
      "  0%|                                                                                                                      | 0/100 [00:06<?, ?it/s]\u001b[A\n",
      "  6%|██████▎                                                                                                 | 396/6465 [53:15<20:16:13, 12.02s/it]\n",
      "  0%|                                                                                                                      | 0/100 [00:03<?, ?it/s]\u001b[A\n",
      "  6%|██████▍                                                                                                 | 397/6465 [53:18<15:44:17,  9.34s/it]\n",
      "  0%|                                                                                                                      | 0/100 [00:04<?, ?it/s]\u001b[A\n",
      "  6%|██████▍                                                                                                 | 398/6465 [53:22<13:05:24,  7.77s/it]\n",
      "  0%|                                                                                                                      | 0/100 [00:03<?, ?it/s]\u001b[A\n",
      "  6%|██████▍                                                                                                 | 399/6465 [53:25<10:42:41,  6.36s/it]\n",
      "  0%|                                                                                                                      | 0/100 [00:03<?, ?it/s]\u001b[A\n",
      "  6%|██████▍                                                                                                  | 400/6465 [53:28<9:03:11,  5.37s/it]\n",
      "  0%|                                                                                                                      | 0/100 [00:06<?, ?it/s]\u001b[A\n",
      "  6%|██████▌                                                                                                  | 401/6465 [53:34<9:24:29,  5.59s/it]\n",
      "  0%|                                                                                                                      | 0/100 [00:03<?, ?it/s]\u001b[A\n",
      "  6%|██████▌                                                                                                  | 402/6465 [53:37<8:08:13,  4.83s/it]\n",
      "  0%|                                                                                                                      | 0/100 [00:04<?, ?it/s]\u001b[A\n",
      "  6%|██████▌                                                                                                  | 403/6465 [53:41<7:44:57,  4.60s/it]\n",
      "  0%|                                                                                                                      | 0/100 [00:04<?, ?it/s]\u001b[A\n",
      "  6%|██████▌                                                                                                  | 404/6465 [53:46<7:29:08,  4.45s/it]\n",
      "  0%|                                                                                                                      | 0/100 [00:03<?, ?it/s]\u001b[A\n",
      "  6%|██████▌                                                                                                  | 405/6465 [53:49<6:47:30,  4.03s/it]\n",
      "  0%|                                                                                                                      | 0/100 [00:04<?, ?it/s]\u001b[A\n",
      "  6%|██████▌                                                                                                  | 406/6465 [53:53<6:48:45,  4.05s/it]\n",
      "  0%|                                                                                                                      | 0/100 [00:06<?, ?it/s]\u001b[A\n",
      "  6%|██████▌                                                                                                  | 407/6465 [53:59<7:50:19,  4.66s/it]\n",
      "  0%|                                                                                                                      | 0/100 [00:04<?, ?it/s]\u001b[A\n",
      "  6%|██████▋                                                                                                  | 408/6465 [54:03<7:32:04,  4.48s/it]\n",
      "  0%|                                                                                                                      | 0/100 [00:06<?, ?it/s]\u001b[A\n",
      "  6%|██████▋                                                                                                  | 409/6465 [54:09<8:20:11,  4.96s/it]\n",
      "  0%|                                                                                                                      | 0/100 [00:03<?, ?it/s]\u001b[A\n",
      "  6%|██████▋                                                                                                  | 410/6465 [54:12<7:23:09,  4.39s/it]\n",
      "  0%|                                                                                                                      | 0/100 [00:05<?, ?it/s]\u001b[A\n",
      "  6%|██████▋                                                                                                  | 411/6465 [54:17<7:44:36,  4.60s/it]\n",
      "  0%|                                                                                                                      | 0/100 [00:06<?, ?it/s]\u001b[A\n",
      "  6%|██████▋                                                                                                  | 412/6465 [54:23<8:28:13,  5.04s/it]\n",
      "  0%|                                                                                                                      | 0/100 [00:04<?, ?it/s]\u001b[A\n",
      "  6%|██████▋                                                                                                 | 413/6465 [55:26<37:44:36, 22.45s/it]\n",
      "  0%|                                                                                                                      | 0/100 [00:06<?, ?it/s]\u001b[A\n",
      "  6%|██████▋                                                                                                 | 414/6465 [55:32<29:28:53, 17.54s/it]\n",
      "  0%|                                                                                                                      | 0/100 [00:03<?, ?it/s]\u001b[A\n",
      "  6%|██████▋                                                                                                 | 415/6465 [55:35<22:10:59, 13.20s/it]\n",
      "  0%|                                                                                                                      | 0/100 [00:05<?, ?it/s]\u001b[A\n",
      "  6%|██████▋                                                                                                 | 416/6465 [55:40<18:05:34, 10.77s/it]\n",
      "  0%|                                                                                                                      | 0/100 [00:05<?, ?it/s]\u001b[A\n",
      "  6%|██████▋                                                                                                 | 417/6465 [55:46<15:12:38,  9.05s/it]\n",
      "  0%|                                                                                                                      | 0/100 [00:06<?, ?it/s]\u001b[A\n",
      "  6%|██████▋                                                                                                 | 418/6465 [55:52<13:43:26,  8.17s/it]\n",
      "  0%|                                                                                                                      | 0/100 [00:03<?, ?it/s]\u001b[A\n",
      "  6%|██████▋                                                                                                 | 419/6465 [55:55<11:08:57,  6.64s/it]\n",
      "  0%|                                                                                                                      | 0/100 [00:04<?, ?it/s]\u001b[A\n",
      "  6%|██████▊                                                                                                  | 420/6465 [55:59<9:51:35,  5.87s/it]\n",
      "  0%|                                                                                                                      | 0/100 [00:05<?, ?it/s]\u001b[A\n",
      "  7%|██████▊                                                                                                  | 421/6465 [56:04<9:27:50,  5.64s/it]\n",
      "  0%|                                                                                                                      | 0/100 [00:03<?, ?it/s]\u001b[A\n",
      "  7%|██████▊                                                                                                  | 422/6465 [56:07<8:10:00,  4.87s/it]\n",
      "  0%|                                                                                                                      | 0/100 [00:00<?, ?it/s]\u001b[A\n",
      "  1%|█                                                                                                             | 1/100 [00:10<16:46, 10.17s/it]\u001b[A\n",
      "  7%|██████▊                                                                                                 | 423/6465 [56:18<11:27:24,  6.83s/it]"
     ]
    },
    {
     "name": "stdout",
     "output_type": "stream",
     "text": [
      "2022-10-13 09:39:12.382783  :  0\n",
      "2\n"
     ]
    },
    {
     "name": "stderr",
     "output_type": "stream",
     "text": [
      "\n",
      "  0%|                                                                                                                      | 0/100 [00:03<?, ?it/s]\u001b[A\n",
      "  7%|██████▉                                                                                                  | 424/6465 [56:21<9:34:12,  5.70s/it]\n",
      "  0%|                                                                                                                      | 0/100 [00:05<?, ?it/s]\u001b[A\n",
      "  7%|██████▉                                                                                                  | 425/6465 [56:26<9:14:36,  5.51s/it]\n",
      "  0%|                                                                                                                      | 0/100 [00:03<?, ?it/s]\u001b[A\n",
      "  7%|██████▉                                                                                                  | 426/6465 [56:30<8:01:19,  4.78s/it]\n",
      "  0%|                                                                                                                      | 0/100 [00:06<?, ?it/s]\u001b[A\n",
      "  7%|██████▉                                                                                                  | 427/6465 [56:36<8:40:18,  5.17s/it]\n",
      "  0%|                                                                                                                      | 0/100 [00:06<?, ?it/s]\u001b[A\n",
      "  7%|██████▉                                                                                                  | 428/6465 [56:42<9:07:27,  5.44s/it]\n",
      "  0%|                                                                                                                      | 0/100 [00:04<?, ?it/s]\u001b[A\n",
      "  7%|██████▉                                                                                                  | 429/6465 [56:46<8:26:03,  5.03s/it]\n",
      "  0%|                                                                                                                      | 0/100 [00:03<?, ?it/s]\u001b[A\n",
      "  7%|██████▉                                                                                                  | 430/6465 [56:49<7:26:36,  4.44s/it]\n",
      "  0%|                                                                                                                      | 0/100 [00:06<?, ?it/s]\u001b[A\n",
      "  7%|███████                                                                                                  | 431/6465 [56:55<8:15:50,  4.93s/it]\n",
      "  0%|                                                                                                                      | 0/100 [00:06<?, ?it/s]\u001b[A\n",
      "  7%|███████                                                                                                  | 432/6465 [57:01<8:50:23,  5.27s/it]\n",
      "  0%|                                                                                                                      | 0/100 [00:04<?, ?it/s]\u001b[A\n",
      "  7%|██████▉                                                                                                 | 433/6465 [57:47<29:21:49, 17.52s/it]\n",
      "  0%|                                                                                                                      | 0/100 [00:06<?, ?it/s]\u001b[A\n",
      "  7%|██████▉                                                                                                 | 434/6465 [57:53<23:36:00, 14.09s/it]\n",
      "  0%|                                                                                                                      | 0/100 [00:05<?, ?it/s]\u001b[A\n",
      "  7%|██████▉                                                                                                 | 435/6465 [57:58<19:04:00, 11.38s/it]\n",
      "  0%|                                                                                                                      | 0/100 [00:04<?, ?it/s]\u001b[A\n",
      "  7%|███████                                                                                                 | 436/6465 [58:02<15:23:46,  9.19s/it]\n",
      "  0%|                                                                                                                      | 0/100 [00:04<?, ?it/s]\u001b[A\n",
      "  7%|███████                                                                                                 | 437/6465 [58:06<12:49:37,  7.66s/it]\n",
      "  0%|                                                                                                                      | 0/100 [00:05<?, ?it/s]\u001b[A\n",
      "  7%|███████                                                                                                 | 438/6465 [58:12<11:32:05,  6.89s/it]\n",
      "  0%|                                                                                                                      | 0/100 [00:05<?, ?it/s]\u001b[A\n",
      "  7%|███████                                                                                                 | 439/6465 [58:17<10:37:01,  6.34s/it]\n",
      "  0%|                                                                                                                      | 0/100 [00:06<?, ?it/s]\u001b[A\n",
      "  7%|███████                                                                                                 | 440/6465 [58:23<10:29:21,  6.27s/it]\n",
      "  0%|                                                                                                                      | 0/100 [00:04<?, ?it/s]\u001b[A\n",
      "  7%|███████▏                                                                                                 | 441/6465 [58:27<9:23:11,  5.61s/it]\n",
      "  0%|                                                                                                                      | 0/100 [00:06<?, ?it/s]\u001b[A\n",
      "  7%|███████▏                                                                                                 | 442/6465 [58:33<9:37:07,  5.75s/it]\n",
      "  0%|                                                                                                                      | 0/100 [00:03<?, ?it/s]\u001b[A\n",
      "  7%|███████▏                                                                                                 | 443/6465 [58:36<8:16:27,  4.95s/it]\n",
      "  0%|                                                                                                                      | 0/100 [00:05<?, ?it/s]\u001b[A\n",
      "  7%|███████▏                                                                                                 | 444/6465 [58:41<8:19:56,  4.98s/it]\n",
      "  0%|                                                                                                                      | 0/100 [00:06<?, ?it/s]\u001b[A\n",
      "  7%|███████▏                                                                                                 | 445/6465 [58:47<8:52:50,  5.31s/it]\n",
      "  0%|                                                                                                                      | 0/100 [00:00<?, ?it/s]\u001b[A\n",
      "  1%|█                                                                                                             | 1/100 [00:11<18:24, 11.16s/it]\u001b[A\n",
      "  7%|███████▏                                                                                                | 446/6465 [58:58<11:48:48,  7.07s/it]\n",
      "  0%|                                                                                                                      | 0/100 [00:03<?, ?it/s]\u001b[A\n",
      "  7%|███████▎                                                                                                 | 447/6465 [59:01<9:48:04,  5.86s/it]\n",
      "  0%|                                                                                                                      | 0/100 [00:05<?, ?it/s]\u001b[A\n",
      "  7%|███████▎                                                                                                 | 448/6465 [59:06<9:23:29,  5.62s/it]\n",
      "  0%|                                                                                                                      | 0/100 [00:04<?, ?it/s]\u001b[A\n",
      "  7%|███████▎                                                                                                 | 449/6465 [59:10<8:36:31,  5.15s/it]\n",
      "  0%|                                                                                                                      | 0/100 [00:06<?, ?it/s]\u001b[A\n",
      "  7%|███████▎                                                                                                 | 450/6465 [59:16<9:04:44,  5.43s/it]\n",
      "  0%|                                                                                                                      | 0/100 [00:03<?, ?it/s]\u001b[A\n",
      "  7%|███████▎                                                                                                 | 451/6465 [59:20<7:53:46,  4.73s/it]\n",
      "  0%|                                                                                                                      | 0/100 [00:03<?, ?it/s]\u001b[A\n",
      "  7%|███████▎                                                                                                 | 452/6465 [59:23<7:03:54,  4.23s/it]\n",
      "  0%|                                                                                                                      | 0/100 [00:04<?, ?it/s]\u001b[A\n",
      "  7%|███████▏                                                                                              | 453/6465 [1:00:24<35:32:56, 21.29s/it]\n",
      "  0%|                                                                                                                      | 0/100 [00:04<?, ?it/s]\u001b[A\n",
      "  7%|███████▏                                                                                              | 454/6465 [1:00:28<26:54:51, 16.12s/it]\n",
      "  0%|                                                                                                                      | 0/100 [00:05<?, ?it/s]\u001b[A\n",
      "  7%|███████▏                                                                                              | 455/6465 [1:00:33<21:23:04, 12.81s/it]\n",
      "  0%|                                                                                                                      | 0/100 [00:05<?, ?it/s]\u001b[A\n",
      "  7%|███████▏                                                                                              | 456/6465 [1:00:38<17:30:41, 10.49s/it]\n",
      "  0%|                                                                                                                      | 0/100 [00:05<?, ?it/s]\u001b[A\n",
      "  7%|███████▏                                                                                              | 457/6465 [1:00:43<14:47:57,  8.87s/it]\n",
      "  0%|                                                                                                                      | 0/100 [00:06<?, ?it/s]\u001b[A\n",
      "  7%|███████▏                                                                                              | 458/6465 [1:00:49<13:23:18,  8.02s/it]\n",
      "  0%|                                                                                                                      | 0/100 [00:06<?, ?it/s]\u001b[A\n",
      "  7%|███████▏                                                                                              | 459/6465 [1:00:55<12:24:48,  7.44s/it]\n",
      "  0%|                                                                                                                      | 0/100 [00:00<?, ?it/s]\u001b[A\n",
      "  1%|█                                                                                                             | 1/100 [00:10<16:46, 10.16s/it]\u001b[A\n",
      "  7%|███████▎                                                                                              | 460/6465 [1:01:07<14:27:01,  8.66s/it]"
     ]
    },
    {
     "name": "stdout",
     "output_type": "stream",
     "text": [
      "2022-10-13 09:44:00.689116  :  0\n",
      "3\n"
     ]
    },
    {
     "name": "stderr",
     "output_type": "stream",
     "text": [
      "\n",
      "  0%|                                                                                                                      | 0/100 [00:00<?, ?it/s]\u001b[A\n",
      "  1%|█                                                                                                             | 1/100 [00:10<16:46, 10.16s/it]\u001b[A\n",
      "  7%|███████▎                                                                                              | 461/6465 [1:01:18<15:46:10,  9.46s/it]"
     ]
    },
    {
     "name": "stdout",
     "output_type": "stream",
     "text": [
      "2022-10-13 09:44:11.983453  :  0\n",
      "5\n"
     ]
    },
    {
     "name": "stderr",
     "output_type": "stream",
     "text": [
      "\n",
      "  0%|                                                                                                                      | 0/100 [00:00<?, ?it/s]\u001b[A\n",
      "  1%|█                                                                                                             | 1/100 [00:09<15:06,  9.16s/it]\u001b[A\n",
      "  7%|███████▎                                                                                              | 462/6465 [1:01:28<16:12:12,  9.72s/it]"
     ]
    },
    {
     "name": "stdout",
     "output_type": "stream",
     "text": [
      "2022-10-13 09:44:22.321568  :  0\n",
      "6\n"
     ]
    },
    {
     "name": "stderr",
     "output_type": "stream",
     "text": [
      "\n",
      "  0%|                                                                                                                      | 0/100 [00:00<?, ?it/s]\u001b[A\n",
      "  1%|█                                                                                                             | 1/100 [00:08<13:29,  8.17s/it]\u001b[A\n",
      "  7%|███████▎                                                                                              | 463/6465 [1:01:38<15:58:14,  9.58s/it]"
     ]
    },
    {
     "name": "stdout",
     "output_type": "stream",
     "text": [
      "2022-10-13 09:44:31.578745  :  0\n",
      "11\n"
     ]
    },
    {
     "name": "stderr",
     "output_type": "stream",
     "text": [
      "\n",
      "  0%|                                                                                                                      | 0/100 [00:03<?, ?it/s]\u001b[A\n",
      "  7%|███████▎                                                                                              | 464/6465 [1:01:41<12:43:27,  7.63s/it]\n",
      "  0%|                                                                                                                      | 0/100 [00:00<?, ?it/s]\u001b[A\n",
      "  1%|█                                                                                                             | 1/100 [00:07<11:47,  7.15s/it]\u001b[A\n",
      "  7%|███████▎                                                                                              | 465/6465 [1:01:49<13:02:44,  7.83s/it]"
     ]
    },
    {
     "name": "stdout",
     "output_type": "stream",
     "text": [
      "2022-10-13 09:44:42.951693  :  0\n",
      "2\n"
     ]
    },
    {
     "name": "stderr",
     "output_type": "stream",
     "text": [
      "\n",
      "  0%|                                                                                                                      | 0/100 [00:00<?, ?it/s]\u001b[A\n",
      "  1%|█                                                                                                             | 1/100 [00:03<05:06,  3.09s/it]\u001b[A\n",
      "  2%|██▏                                                                                                           | 2/100 [00:15<12:27,  7.62s/it]\u001b[A\n",
      "  7%|███████▎                                                                                              | 466/6465 [1:02:05<17:14:08, 10.34s/it]"
     ]
    },
    {
     "name": "stdout",
     "output_type": "stream",
     "text": [
      "2022-10-13 09:44:59.164840  :  0\n",
      "39\n"
     ]
    },
    {
     "name": "stderr",
     "output_type": "stream",
     "text": [
      "\n",
      "  0%|                                                                                                                      | 0/100 [00:00<?, ?it/s]\u001b[A\n",
      "  1%|█                                                                                                             | 1/100 [00:10<16:39, 10.10s/it]\u001b[A\n",
      "  7%|███████▎                                                                                              | 467/6465 [1:02:16<17:42:14, 10.63s/it]"
     ]
    },
    {
     "name": "stdout",
     "output_type": "stream",
     "text": [
      "2022-10-13 09:45:10.450798  :  0\n",
      "3\n"
     ]
    },
    {
     "name": "stderr",
     "output_type": "stream",
     "text": [
      "\n",
      "  0%|                                                                                                                      | 0/100 [00:00<?, ?it/s]\u001b[A\n",
      "  1%|█                                                                                                             | 1/100 [00:09<15:05,  9.14s/it]\u001b[A\n",
      "  7%|███████▍                                                                                              | 468/6465 [1:02:27<17:38:46, 10.59s/it]"
     ]
    },
    {
     "name": "stdout",
     "output_type": "stream",
     "text": [
      "2022-10-13 09:45:20.967184  :  0\n",
      "1\n"
     ]
    },
    {
     "name": "stderr",
     "output_type": "stream",
     "text": [
      "\n",
      "  0%|                                                                                                                      | 0/100 [00:04<?, ?it/s]\u001b[A\n",
      "  7%|███████▍                                                                                              | 469/6465 [1:02:31<14:23:10,  8.64s/it]\n",
      "  0%|                                                                                                                      | 0/100 [00:06<?, ?it/s]\u001b[A\n",
      "  7%|███████▍                                                                                              | 470/6465 [1:02:37<13:06:57,  7.88s/it]\n",
      "  0%|                                                                                                                      | 0/100 [00:03<?, ?it/s]\u001b[A\n",
      "  7%|███████▍                                                                                              | 471/6465 [1:02:40<10:43:01,  6.44s/it]\n",
      "  0%|                                                                                                                      | 0/100 [00:00<?, ?it/s]\u001b[A\n",
      "  1%|█                                                                                                             | 1/100 [00:10<16:44, 10.15s/it]\u001b[A\n",
      "  7%|███████▍                                                                                              | 472/6465 [1:02:52<13:12:42,  7.94s/it]"
     ]
    },
    {
     "name": "stdout",
     "output_type": "stream",
     "text": [
      "2022-10-13 09:45:45.654797  :  0\n",
      "4\n"
     ]
    },
    {
     "name": "stderr",
     "output_type": "stream",
     "text": [
      "\n",
      "  0%|                                                                                                                      | 0/100 [00:00<?, ?it/s]\u001b[A\n",
      "  1%|█                                                                                                             | 1/100 [00:09<16:23,  9.93s/it]\u001b[A\n",
      "  7%|███████▍                                                                                              | 473/6465 [1:03:58<42:17:12, 25.41s/it]"
     ]
    },
    {
     "name": "stdout",
     "output_type": "stream",
     "text": [
      "2022-10-13 09:46:51.823262  :  0\n",
      "2\n"
     ]
    },
    {
     "name": "stderr",
     "output_type": "stream",
     "text": [
      "\n",
      "  0%|                                                                                                                      | 0/100 [00:00<?, ?it/s]\u001b[A\n",
      "  1%|█                                                                                                             | 1/100 [00:10<16:50, 10.21s/it]\u001b[A\n",
      "  7%|███████▍                                                                                              | 474/6465 [1:04:09<35:17:52, 21.21s/it]"
     ]
    },
    {
     "name": "stdout",
     "output_type": "stream",
     "text": [
      "2022-10-13 09:47:03.244469  :  0\n",
      "7\n"
     ]
    },
    {
     "name": "stderr",
     "output_type": "stream",
     "text": [
      "\n",
      "  0%|                                                                                                                      | 0/100 [00:05<?, ?it/s]\u001b[A\n",
      "  7%|███████▍                                                                                              | 475/6465 [1:04:14<27:14:31, 16.37s/it]\n",
      "  0%|                                                                                                                      | 0/100 [00:03<?, ?it/s]\u001b[A\n",
      "  7%|███████▌                                                                                              | 476/6465 [1:04:17<20:36:15, 12.39s/it]\n",
      "  0%|                                                                                                                      | 0/100 [00:00<?, ?it/s]\u001b[A\n",
      "  1%|█                                                                                                             | 1/100 [00:09<15:03,  9.13s/it]\u001b[A\n",
      "  7%|███████▌                                                                                              | 477/6465 [1:04:28<19:31:02, 11.73s/it]"
     ]
    },
    {
     "name": "stdout",
     "output_type": "stream",
     "text": [
      "2022-10-13 09:47:21.623944  :  0\n",
      "1\n"
     ]
    },
    {
     "name": "stderr",
     "output_type": "stream",
     "text": [
      "\n",
      "  0%|                                                                                                                      | 0/100 [00:00<?, ?it/s]\u001b[A\n",
      "  1%|█                                                                                                             | 1/100 [00:06<10:02,  6.08s/it]\u001b[A\n",
      "  2%|██▏                                                                                                           | 2/100 [00:12<09:57,  6.10s/it]\u001b[A\n",
      "  3%|███▎                                                                                                          | 3/100 [00:15<07:39,  4.73s/it]\u001b[A\n",
      "  4%|████▍                                                                                                         | 4/100 [00:18<06:32,  4.08s/it]\u001b[A\n",
      "  5%|█████▌                                                                                                        | 5/100 [00:23<07:03,  4.46s/it]\u001b[A\n",
      "  6%|██████▌                                                                                                       | 6/100 [00:26<06:15,  3.99s/it]\u001b[A\n",
      "  7%|███████▋                                                                                                      | 7/100 [00:29<05:44,  3.70s/it]\u001b[A\n",
      "  8%|████████▊                                                                                                     | 8/100 [00:39<07:38,  4.98s/it]\u001b[A\n",
      "  7%|███████▌                                                                                              | 478/6465 [1:05:09<34:07:02, 20.51s/it]"
     ]
    },
    {
     "name": "stdout",
     "output_type": "stream",
     "text": [
      "2022-10-13 09:48:02.627919  :  0\n",
      "160\n"
     ]
    },
    {
     "name": "stderr",
     "output_type": "stream",
     "text": [
      "\n",
      "  0%|                                                                                                                      | 0/100 [00:00<?, ?it/s]\u001b[A\n",
      "  1%|█                                                                                                             | 1/100 [00:08<13:28,  8.17s/it]\u001b[A\n",
      "  7%|███████▌                                                                                              | 479/6465 [1:05:18<28:31:45, 17.16s/it]"
     ]
    },
    {
     "name": "stdout",
     "output_type": "stream",
     "text": [
      "2022-10-13 09:48:11.951780  :  0\n",
      "5\n"
     ]
    },
    {
     "name": "stderr",
     "output_type": "stream",
     "text": [
      "\n",
      "  0%|                                                                                                                      | 0/100 [00:05<?, ?it/s]\u001b[A\n",
      "  7%|███████▌                                                                                              | 480/6465 [1:05:23<22:29:51, 13.53s/it]\n",
      "  0%|                                                                                                                      | 0/100 [00:06<?, ?it/s]\u001b[A\n",
      "  7%|███████▌                                                                                              | 481/6465 [1:05:29<18:47:06, 11.30s/it]\n",
      "  0%|                                                                                                                      | 0/100 [00:03<?, ?it/s]\u001b[A\n",
      "  7%|███████▌                                                                                              | 482/6465 [1:05:32<14:40:37,  8.83s/it]\n",
      "  0%|                                                                                                                      | 0/100 [00:03<?, ?it/s]\u001b[A\n",
      "  7%|███████▌                                                                                              | 483/6465 [1:05:35<11:48:26,  7.11s/it]\n",
      "  0%|                                                                                                                      | 0/100 [00:06<?, ?it/s]\u001b[A\n",
      "  7%|███████▋                                                                                              | 484/6465 [1:05:41<11:18:02,  6.80s/it]\n",
      "  0%|                                                                                                                      | 0/100 [00:05<?, ?it/s]\u001b[A\n",
      "  8%|███████▋                                                                                              | 485/6465 [1:05:46<10:26:07,  6.28s/it]\n",
      "  0%|                                                                                                                      | 0/100 [00:04<?, ?it/s]\u001b[A\n",
      "  8%|███████▋                                                                                               | 486/6465 [1:05:50<9:19:04,  5.61s/it]\n",
      "  0%|                                                                                                                      | 0/100 [00:06<?, ?it/s]\u001b[A\n",
      "  8%|███████▊                                                                                               | 487/6465 [1:05:57<9:33:01,  5.75s/it]\n",
      "  0%|                                                                                                                      | 0/100 [00:03<?, ?it/s]\u001b[A\n",
      "  8%|███████▊                                                                                               | 488/6465 [1:06:00<8:12:23,  4.94s/it]\n",
      "  0%|                                                                                                                      | 0/100 [00:06<?, ?it/s]\u001b[A\n",
      "  8%|███████▊                                                                                               | 489/6465 [1:06:06<8:46:31,  5.29s/it]\n",
      "  0%|                                                                                                                      | 0/100 [00:00<?, ?it/s]\u001b[A\n",
      "  1%|█                                                                                                             | 1/100 [00:08<13:22,  8.11s/it]\u001b[A\n",
      "  8%|███████▋                                                                                              | 490/6465 [1:06:15<10:42:16,  6.45s/it]"
     ]
    },
    {
     "name": "stdout",
     "output_type": "stream",
     "text": [
      "2022-10-13 09:49:08.862245  :  0\n",
      "1\n"
     ]
    },
    {
     "name": "stderr",
     "output_type": "stream",
     "text": [
      "\n",
      "  0%|                                                                                                                      | 0/100 [00:04<?, ?it/s]\u001b[A\n",
      "  8%|███████▊                                                                                               | 491/6465 [1:06:19<9:30:41,  5.73s/it]\n",
      "  0%|                                                                                                                      | 0/100 [00:04<?, ?it/s]\u001b[A\n",
      "  8%|███████▊                                                                                               | 492/6465 [1:06:23<8:41:23,  5.24s/it]\n",
      "  0%|                                                                                                                      | 0/100 [00:04<?, ?it/s]\u001b[A\n",
      "  8%|███████▊                                                                                              | 493/6465 [1:07:28<38:27:36, 23.18s/it]\n",
      "  0%|                                                                                                                      | 0/100 [00:05<?, ?it/s]\u001b[A\n",
      "  8%|███████▊                                                                                              | 494/6465 [1:07:33<29:26:23, 17.75s/it]\n",
      "  0%|                                                                                                                      | 0/100 [00:06<?, ?it/s]\u001b[A\n",
      "  8%|███████▊                                                                                              | 495/6465 [1:07:39<23:37:46, 14.25s/it]\n",
      "  0%|                                                                                                                      | 0/100 [00:05<?, ?it/s]\u001b[A\n",
      "  8%|███████▊                                                                                              | 496/6465 [1:07:44<19:03:59, 11.50s/it]\n",
      "  0%|                                                                                                                      | 0/100 [00:05<?, ?it/s]\u001b[A\n",
      "  8%|███████▊                                                                                              | 497/6465 [1:07:49<15:51:35,  9.57s/it]\n",
      "  0%|                                                                                                                      | 0/100 [00:00<?, ?it/s]\u001b[A\n",
      "  1%|█                                                                                                             | 1/100 [00:08<13:45,  8.34s/it]\u001b[A\n",
      "  8%|███████▊                                                                                              | 498/6465 [1:07:59<15:56:51,  9.62s/it]"
     ]
    },
    {
     "name": "stdout",
     "output_type": "stream",
     "text": [
      "2022-10-13 09:50:53.103369  :  0\n",
      "5\n"
     ]
    },
    {
     "name": "stderr",
     "output_type": "stream",
     "text": [
      "\n",
      "  0%|                                                                                                                      | 0/100 [00:03<?, ?it/s]\u001b[A\n",
      "  8%|███████▊                                                                                              | 499/6465 [1:08:02<12:41:51,  7.66s/it]\n",
      "  0%|                                                                                                                      | 0/100 [00:05<?, ?it/s]\u001b[A\n",
      "  8%|███████▉                                                                                              | 500/6465 [1:08:07<11:25:15,  6.89s/it]\n",
      "  0%|                                                                                                                      | 0/100 [00:05<?, ?it/s]\u001b[A\n",
      "  8%|███████▉                                                                                              | 501/6465 [1:08:12<10:31:42,  6.36s/it]\n",
      "  0%|                                                                                                                      | 0/100 [00:05<?, ?it/s]\u001b[A\n",
      "  8%|███████▉                                                                                               | 502/6465 [1:08:17<9:53:12,  5.97s/it]\n",
      "  0%|                                                                                                                      | 0/100 [00:05<?, ?it/s]\u001b[A\n",
      "  8%|████████                                                                                               | 503/6465 [1:08:22<9:26:27,  5.70s/it]\n",
      "  0%|                                                                                                                      | 0/100 [00:04<?, ?it/s]\u001b[A\n",
      "  8%|████████                                                                                               | 504/6465 [1:08:27<8:38:26,  5.22s/it]\n",
      "  0%|                                                                                                                      | 0/100 [00:06<?, ?it/s]\u001b[A\n",
      "  8%|████████                                                                                               | 505/6465 [1:08:33<9:04:41,  5.48s/it]\n",
      "  0%|                                                                                                                      | 0/100 [00:06<?, ?it/s]\u001b[A\n",
      "  8%|████████                                                                                               | 506/6465 [1:08:39<9:22:57,  5.67s/it]\n",
      "  0%|                                                                                                                      | 0/100 [00:05<?, ?it/s]\u001b[A\n",
      "  8%|████████                                                                                               | 507/6465 [1:08:44<9:05:59,  5.50s/it]\n",
      "  0%|                                                                                                                      | 0/100 [00:05<?, ?it/s]\u001b[A\n",
      "  8%|████████                                                                                               | 508/6465 [1:08:49<8:54:54,  5.39s/it]\n",
      "  0%|                                                                                                                      | 0/100 [00:05<?, ?it/s]\u001b[A\n",
      "  8%|████████                                                                                               | 509/6465 [1:08:54<8:45:45,  5.30s/it]\n",
      "  0%|                                                                                                                      | 0/100 [00:03<?, ?it/s]\u001b[A\n",
      "  8%|████████▏                                                                                              | 510/6465 [1:08:57<7:38:56,  4.62s/it]\n",
      "  0%|                                                                                                                      | 0/100 [00:05<?, ?it/s]\u001b[A\n",
      "  8%|████████▏                                                                                              | 511/6465 [1:09:02<7:51:56,  4.76s/it]\n",
      "  0%|                                                                                                                      | 0/100 [00:06<?, ?it/s]\u001b[A\n",
      "  8%|████████                                                                                              | 512/6465 [1:10:01<13:34:14,  8.21s/it]\n"
     ]
    },
    {
     "ename": "KeyboardInterrupt",
     "evalue": "",
     "output_type": "error",
     "traceback": [
      "\u001b[1;31m---------------------------------------------------------------------------\u001b[0m",
      "\u001b[1;31mKeyboardInterrupt\u001b[0m                         Traceback (most recent call last)",
      "Input \u001b[1;32mIn [26]\u001b[0m, in \u001b[0;36m<cell line: 7>\u001b[1;34m()\u001b[0m\n\u001b[0;32m      7\u001b[0m \u001b[38;5;28;01mfor\u001b[39;00m i \u001b[38;5;129;01min\u001b[39;00m tqdm(\u001b[38;5;28mrange\u001b[39m(\u001b[38;5;241m13828\u001b[39m,\u001b[38;5;241m20293\u001b[39m)):\n\u001b[0;32m      8\u001b[0m     \n\u001b[0;32m      9\u001b[0m     \u001b[38;5;66;03m# 36번째에서 막힘\u001b[39;00m\n\u001b[0;32m     10\u001b[0m     \u001b[38;5;28;01mif\u001b[39;00m i \u001b[38;5;241m%\u001b[39m \u001b[38;5;241m20\u001b[39m \u001b[38;5;241m==\u001b[39m \u001b[38;5;241m0\u001b[39m:\n\u001b[1;32m---> 11\u001b[0m         \u001b[43mtime\u001b[49m\u001b[38;5;241;43m.\u001b[39;49m\u001b[43msleep\u001b[49m\u001b[43m(\u001b[49m\u001b[43mrandom\u001b[49m\u001b[38;5;241;43m.\u001b[39;49m\u001b[43mrandrange\u001b[49m\u001b[43m(\u001b[49m\u001b[38;5;241;43m40\u001b[39;49m\u001b[43m,\u001b[49m\u001b[38;5;241;43m70\u001b[39;49m\u001b[43m)\u001b[49m\u001b[43m)\u001b[49m\n\u001b[0;32m     13\u001b[0m     \u001b[38;5;66;03m# 초기화\u001b[39;00m\n\u001b[0;32m     14\u001b[0m     info_df \u001b[38;5;241m=\u001b[39m pd\u001b[38;5;241m.\u001b[39mDataFrame()\n",
      "\u001b[1;31mKeyboardInterrupt\u001b[0m: "
     ]
    }
   ],
   "source": [
    "### 2. 전월세 호가 수집\n",
    "# 변수 생성\n",
    "fails = [] # 호가 데이터 없는 법정동\n",
    "noColIdx = [] # 컬럼명 다른 지역 따로 처리\n",
    "\n",
    "# json to dataframe\n",
    "for i in tqdm(range(14195,20293)):\n",
    "    \n",
    "    # 36번째에서 막힘\n",
    "    if i % 20 == 0:\n",
    "        time.sleep(random.randrange(40,70))\n",
    "    \n",
    "    # 초기화\n",
    "    info_df = pd.DataFrame()\n",
    "\n",
    "    # 전체 페이지 수집\n",
    "    for page in tqdm(range(0,100)):\n",
    "\n",
    "        # url 호출\n",
    "        url = 'https://m.land.naver.com/cluster/ajax/articleList?itemId=&mapKey=&lgeo=&showR0=&rletTpCd=SG&tradTpCd=A1%3AB1%3AB2&z=14&totCnt=402&cortarNo={}&sort=rank&page={}'.format(lawd_cd_unique[i],str(page+1))\n",
    "        headers = {'user-agent' : ua.ie,'referer' : 'https://m.land.naver.com/'}\n",
    "        time.sleep(random.randrange(3,7))\n",
    "        response = requests.get(url, headers = headers)\n",
    "\n",
    "        # body 태그 선택\n",
    "        items = response.json()['body']\n",
    "\n",
    "        # 다음 페이지 존재 여부 확인\n",
    "        if (len(items) > 0):\n",
    "            try:\n",
    "                # 데이터프레임화\n",
    "                df = pd.DataFrame(items)\n",
    "                info_df = info_df.append(df)\n",
    "            except:\n",
    "                fails.append([i])\n",
    "        else:\n",
    "            break\n",
    "\n",
    "    # 받은 데이터 바로 적재 (언제 막힐지 모르니까 바로바로 적재)\n",
    "    if len(info_df) > 0:\n",
    "        \n",
    "        try:\n",
    "            # 컬럼 정리\n",
    "            info_df = info_df[['atclNo','cortarNo','atclNm','atclStatCd','rletTpCd','uprRletTpCd','rletTpNm','tradTpCd','tradTpNm','vrfcTpCd','flrInfo','prc','rentPrc','spc1','spc2','direction','atclCfmYmd','lat','lng','atclFetrDesc','cpid','cpNm','rltrNm']]\n",
    "            # NaN 처리\n",
    "            info_df = info_df.fillna(np.nan)\n",
    "            \n",
    "            ### 3. DB INSERT\n",
    "            df = info_df\n",
    "            table = 'm1.asking_price'\n",
    "\n",
    "            # execute_mogrify\n",
    "            def execute_mogrify(conn, df, table, val):\n",
    "                # Create a list of tuples from the dataframe values\n",
    "                tuples = [tuple(x) for x in df.to_numpy()]\n",
    "                # Comma-separated dataframe columns\n",
    "                cols = ','.join(list(df.columns))\n",
    "                # SQL query to execute\n",
    "                cursor = conn.cursor()\n",
    "                values = [cursor.mogrify(val, tup).decode('utf8') for tup in\n",
    "                          tuples]\n",
    "                query = \"INSERT INTO %s(%s) VALUES \" % (table, cols) + \",\".join(values)\n",
    "\n",
    "                try:\n",
    "                    cursor.execute(query, tuples)\n",
    "                    conn.commit()\n",
    "                except (Exception, psycopg2.DatabaseError) as error:\n",
    "                    print(\"Error: %s\" % error)\n",
    "                    conn.rollback()\n",
    "                    cursor.close()\n",
    "                    return 1\n",
    "                cursor.close()\n",
    "\n",
    "            # values 설정\n",
    "            val = '(' + ('%s,' * len(df.columns))[:-1] + ')'\n",
    "\n",
    "            # insert\n",
    "            for j in range(0, len(df), 10000):\n",
    "\n",
    "                # DB Connect\n",
    "                conn = psycopg2.connect(\n",
    "                    host='redshift-cluster-1.ctvbwnnvbdkl.ap-northeast-2.redshift.amazonaws.com',\n",
    "                    port=5439,\n",
    "                    dbname='dev',\n",
    "                    user='awsuser',\n",
    "                    password='cremaoAdmin1234qwer!!'\n",
    "                )\n",
    "\n",
    "                # 10000개 단위로 나누기\n",
    "                tmp = df[j:j + 10000]\n",
    "\n",
    "                # insert\n",
    "                execute_mogrify(conn, tmp, table, val)\n",
    "                print(datetime.datetime.now(), ' : ', j)\n",
    "                tmp = pd.DataFrame()\n",
    "\n",
    "            # row count\n",
    "            print(len(df))\n",
    "            \n",
    "        except:\n",
    "            noColIdx.append(i)"
   ]
  }
 ],
 "metadata": {
  "kernelspec": {
   "display_name": "oasis",
   "language": "python",
   "name": "oasis"
  },
  "language_info": {
   "codemirror_mode": {
    "name": "ipython",
    "version": 3
   },
   "file_extension": ".py",
   "mimetype": "text/x-python",
   "name": "python",
   "nbconvert_exporter": "python",
   "pygments_lexer": "ipython3",
   "version": "3.8.13"
  }
 },
 "nbformat": 4,
 "nbformat_minor": 5
}
