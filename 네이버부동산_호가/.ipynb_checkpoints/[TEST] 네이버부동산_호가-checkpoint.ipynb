{
 "cells": [
  {
   "cell_type": "code",
   "execution_count": null,
   "id": "1a035ce9-efbd-4005-901c-7bd70b6afe48",
   "metadata": {},
   "outputs": [],
   "source": [
    "# C:\\\\oasis\\driver\\driver.exe"
   ]
  },
  {
   "cell_type": "code",
   "execution_count": null,
   "id": "ec7fa862-8732-4a11-96b8-30ba9260c00f",
   "metadata": {},
   "outputs": [],
   "source": []
  }
 ],
 "metadata": {
  "kernelspec": {
   "display_name": "oasis",
   "language": "python",
   "name": "oasis"
  },
  "language_info": {
   "codemirror_mode": {
    "name": "ipython",
    "version": 3
   },
   "file_extension": ".py",
   "mimetype": "text/x-python",
   "name": "python",
   "nbconvert_exporter": "python",
   "pygments_lexer": "ipython3",
   "version": "3.8.13"
  }
 },
 "nbformat": 4,
 "nbformat_minor": 5
}
