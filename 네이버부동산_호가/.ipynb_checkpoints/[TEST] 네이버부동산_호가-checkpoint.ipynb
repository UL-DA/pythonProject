{
 "cells": [
  {
   "cell_type": "markdown",
   "id": "9f752754-4e48-4647-a3b5-ff2044a25af3",
   "metadata": {
    "tags": []
   },
   "source": [
    "### 최종"
   ]
  },
  {
   "cell_type": "code",
   "execution_count": null,
   "id": "bae3d547-3910-4de8-bd3b-b3a4a7b64617",
   "metadata": {},
   "outputs": [
    {
     "name": "stderr",
     "output_type": "stream",
     "text": [
      "  0%|                                                                                                                    | 0/20293 [00:00<?, ?it/s]"
     ]
    }
   ],
   "source": [
    "# 임포트\n",
    "import json\n",
    "import time\n",
    "import random\n",
    "import requests\n",
    "import psycopg2\n",
    "import datetime\n",
    "import numpy  as np\n",
    "import pandas as pd\n",
    "from tqdm import tqdm\n",
    "from fake_useragent import UserAgent\n",
    "\n",
    "ua = UserAgent()\n",
    "\n",
    "\n",
    "### 1. 법정동 API\n",
    "lawd_cd_df = pd.DataFrame()\n",
    "lawd_cd_list = []\n",
    "lawd_cd_unique = []\n",
    "\n",
    "for i in range(1, 22):\n",
    "    \n",
    "    url = 'http://apis.data.go.kr/1741000/StanReginCd/getStanReginCdList'\n",
    "    serviceKey = 'C94PKnigawlH2iISVWz1Itw9tVzyuOCbOvKgzCrGOUZWvs3XqrkhH+/ntypJ7kK2P2g16vLYCJif3TNfO1i1KA=='\n",
    "    params = {\n",
    "        'serviceKey' : serviceKey,\n",
    "        'pageNo' : str(i),\n",
    "        'numOfRows' : '1000',\n",
    "        'type' : 'json'\n",
    "    }\n",
    "    response = requests.get(url, params=params)\n",
    "    content = response.text\n",
    "    \n",
    "    # Json List 변환\n",
    "    lawd_cd_df = pd.DataFrame(pd.json_normalize(data = json.loads(content), record_path = 'StanReginCd')['row'][1])\n",
    "    lawd_cd_list = list(lawd_cd_df['locatjumin_cd'].str[:10])\n",
    "    \n",
    "    # 시군구코드 unique하게 남기기\n",
    "    for x in lawd_cd_list:\n",
    "        if x not in lawd_cd_unique:\n",
    "            lawd_cd_unique.append(x)\n",
    "\n",
    "# 시군구 단위 삭제 (법정동 단위만 남김 : 총 20,293개)\n",
    "matching = [s for s in lawd_cd_unique if \"00000\" in s]\n",
    "for s in lawd_cd_unique:\n",
    "    if s in matching:\n",
    "        lawd_cd_unique.remove(s)\n",
    "\n",
    "\n",
    "### 2. 전월세 호가 수집\n",
    "# 변수 생성\n",
    "fails = [] # 호가 데이터 없는 법정동\n",
    "noColIdx = [] # 컬럼명 다른 지역 따로 처리\n",
    "\n",
    "# json to dataframe\n",
    "for i in tqdm(range(len(lawd_cd_unique))):\n",
    "    \n",
    "    # 초기화\n",
    "    info_df = pd.DataFrame()\n",
    "\n",
    "    # 전체 페이지 수집\n",
    "    for page in range(0,100):\n",
    "\n",
    "        # url 호출\n",
    "        url = 'https://m.land.naver.com/cluster/ajax/articleList?itemId=&mapKey=&lgeo=&showR0=&rletTpCd=SG&tradTpCd=A1%3AB1%3AB2&z=14&totCnt=402&cortarNo={}&sort=rank&page={}'.format(lawd_cd_unique[i],str(page+1))\n",
    "        headers = {'user-agent' : ua.ie,'referer' : 'https://m.land.naver.com/'}\n",
    "        time.sleep(random.randrange(3,7))\n",
    "        response = requests.get(url, headers = headers)\n",
    "\n",
    "        # body 태그 선택\n",
    "        items = response.json()['body']\n",
    "\n",
    "        # 다음 페이지 존재 여부 확인\n",
    "        if (len(items) > 0):\n",
    "            try:\n",
    "                # 데이터프레임화\n",
    "                df = pd.DataFrame(items)\n",
    "                info_df = info_df.append(df)\n",
    "            except:\n",
    "                fails.append([i])\n",
    "        else:\n",
    "            break\n",
    "\n",
    "    # 받은 데이터 바로 적재 (언제 막힐지 모르니까 바로바로 적재)\n",
    "    if len(info_df) > 0:\n",
    "        \n",
    "        # 컬럼명 다른 지역이 있음 (따로 처리)\n",
    "        try:\n",
    "            # 컬럼 정리\n",
    "            info_df = info_df[['atclNo','cortarNo','atclNm','atclStatCd','rletTpCd','uprRletTpCd','rletTpNm','tradTpCd','tradTpNm','vrfcTpCd','flrInfo','prc','rentPrc','spc1','spc2','direction','atclCfmYmd','lat','lng','atclFetrDesc','cpid','cpNm','rltrNm']]\n",
    "            # NaN 처리\n",
    "            info_df = info_df.fillna(np.nan)\n",
    "            \n",
    "            ### 3. DB INSERT\n",
    "            df = info_df\n",
    "            table = 'm1.asking_price'\n",
    "\n",
    "            # execute_mogrify\n",
    "            def execute_mogrify(conn, df, table, val):\n",
    "                # Create a list of tuples from the dataframe values\n",
    "                tuples = [tuple(x) for x in df.to_numpy()]\n",
    "                # Comma-separated dataframe columns\n",
    "                cols = ','.join(list(df.columns))\n",
    "                # SQL query to execute\n",
    "                cursor = conn.cursor()\n",
    "                values = [cursor.mogrify(val, tup).decode('utf8') for tup in\n",
    "                          tuples]\n",
    "                query = \"INSERT INTO %s(%s) VALUES \" % (table, cols) + \",\".join(values)\n",
    "\n",
    "                try:\n",
    "                    cursor.execute(query, tuples)\n",
    "                    conn.commit()\n",
    "                except (Exception, psycopg2.DatabaseError) as error:\n",
    "                    print(\"Error: %s\" % error)\n",
    "                    conn.rollback()\n",
    "                    cursor.close()\n",
    "                    return 1\n",
    "                cursor.close()\n",
    "\n",
    "            # values 설정\n",
    "            val = '(' + ('%s,' * len(df.columns))[:-1] + ')'\n",
    "\n",
    "            # insert\n",
    "            for j in range(0, len(df), 10000):\n",
    "\n",
    "                # DB Connect\n",
    "                conn = psycopg2.connect(\n",
    "                    host='redshift-cluster-1.ctvbwnnvbdkl.ap-northeast-2.redshift.amazonaws.com',\n",
    "                    port=5439,\n",
    "                    dbname='dev',\n",
    "                    user='awsuser',\n",
    "                    password='cremaoAdmin1234qwer!!'\n",
    "                )\n",
    "\n",
    "                # 10000개 단위로 나누기\n",
    "                tmp = df[j:j + 10000]\n",
    "\n",
    "                # insert\n",
    "                execute_mogrify(conn, tmp, table, val)\n",
    "                print(datetime.datetime.now(), ' : ', j)\n",
    "                tmp = pd.DataFrame()\n",
    "\n",
    "            # row count\n",
    "            print(len(df))\n",
    "            \n",
    "        except:\n",
    "            noColIdx.append(i)"
   ]
  },
  {
   "cell_type": "markdown",
   "id": "08301073-9538-4786-b1a2-39c5de8afba0",
   "metadata": {
    "jp-MarkdownHeadingCollapsed": true,
    "tags": []
   },
   "source": [
    "### ver1 (csv불러오기)"
   ]
  },
  {
   "cell_type": "code",
   "execution_count": null,
   "id": "8b193ff1-0521-4ede-95a7-07f1cf99c823",
   "metadata": {},
   "outputs": [],
   "source": [
    "# 임포트\n",
    "import json\n",
    "import time\n",
    "import random\n",
    "import requests\n",
    "import psycopg2\n",
    "import datetime\n",
    "import numpy  as np\n",
    "import pandas as pd\n",
    "from tqdm import tqdm\n",
    "from fake_useragent import UserAgent\n",
    "\n",
    "ua = UserAgent()\n",
    "\n",
    "### 1. 깃에서 법정동 CSV 파일 불러오기 (법정동코드 10자리)\n",
    "cortar = pd.read_csv('C:\\\\oasis\\\\oasisbusiness-ds\\\\oasisbusiness-ds\\\\1_데이터수집\\\\법정동코드전체.csv')\n",
    "cortar = cortar[cortar['폐지여부\\r\\n']=='존재\\r\\n'] # 존재하는 지역만 남기기\n",
    "lawd_cd_unique = cortar.drop_duplicates('법정동코드')['법정동코드'] # 법정동 코드만 담기 (총 20551개)\n",
    "\n",
    "### 2. 전월세 호가 수집\n",
    "# 변수 생성\n",
    "fails = [] # 수집 안 된 법정동\n",
    "info_df = pd.DataFrame() # 최종 데이터프레임\n",
    "\n",
    "# json to dataframe (법정동 단위 수집)\n",
    "for i in tqdm(range(0,5000)):\n",
    "    \n",
    "    # url 설정\n",
    "    url = 'https://m.land.naver.com/cluster/ajax/articleList?itemId=&mapKey=&lgeo=&showR0=&rletTpCd=SG&tradTpCd=A1%3AB1%3AB2&z=14&totCnt=402&cortarNo={}&sort=rank'.format(lawd_cd_unique[i])\n",
    "      \n",
    "    try:\n",
    "        # url 호출\n",
    "        headers = {'user-agent' : ua.ie,'referer' : 'https://m.land.naver.com/'}\n",
    "        time.sleep(random.randrange(3,7))\n",
    "        response = requests.get(url, headers = headers)\n",
    "\n",
    "        # body 태그 선택\n",
    "        items = response.json()['body']\n",
    "\n",
    "        # 데이터프레임화\n",
    "        df = pd.DataFrame(items)\n",
    "        info_df = info_df.append(df)\n",
    "        time.sleep(random.randrange(1,7))\n",
    "\n",
    "    except:\n",
    "        fails.append([i])\n",
    "    \n",
    "    # 받아온 바로 적재 (언제 막힐지 모르니까 바로바로 적재함)\n",
    "    if len(info_df) > 0:\n",
    "        \n",
    "        # 컬럼 정리\n",
    "        info_df = info_df[['atclNo','cortarNo','atclNm','atclStatCd','rletTpCd','uprRletTpCd','rletTpNm','tradTpCd','tradTpNm','vrfcTpCd','flrInfo','prc','rentPrc','spc1','spc2','direction','atclCfmYmd','lat','lng','atclFetrDesc','cpid','cpNm','rltrNm']]\n",
    "        # NaN 처리\n",
    "        info_df = info_df.fillna(np.nan)\n",
    "\n",
    "        ### 3. DB INSERT\n",
    "        df = info_df\n",
    "        table = 'm1.asking_price'\n",
    "\n",
    "        # execute_mogrify\n",
    "        def execute_mogrify(conn, df, table, val):\n",
    "            # Create a list of tuples from the dataframe values\n",
    "            tuples = [tuple(x) for x in df.to_numpy()]\n",
    "            # Comma-separated dataframe columns\n",
    "            cols = ','.join(list(df.columns))\n",
    "            # SQL query to execute\n",
    "            cursor = conn.cursor()\n",
    "            values = [cursor.mogrify(val, tup).decode('utf8') for tup in\n",
    "                      tuples]\n",
    "            query = \"INSERT INTO %s(%s) VALUES \" % (table, cols) + \",\".join(values)\n",
    "\n",
    "            try:\n",
    "                cursor.execute(query, tuples)\n",
    "                conn.commit()\n",
    "            except (Exception, psycopg2.DatabaseError) as error:\n",
    "                print(\"Error: %s\" % error)\n",
    "                conn.rollback()\n",
    "                cursor.close()\n",
    "                return 1\n",
    "            cursor.close()\n",
    "\n",
    "        # values 설정\n",
    "        val = '(' + ('%s,' * len(df.columns))[:-1] + ')'\n",
    "\n",
    "        # insert\n",
    "        for j in range(0, len(df), 10000):\n",
    "\n",
    "            # DB Connect\n",
    "            conn = psycopg2.connect(\n",
    "                host='redshift-cluster-1.ctvbwnnvbdkl.ap-northeast-2.redshift.amazonaws.com',\n",
    "                port=5439,\n",
    "                dbname='dev',\n",
    "                user='awsuser',\n",
    "                password='cremaoAdmin1234qwer!!'\n",
    "            )\n",
    "\n",
    "            # 10000개 단위로 나누기\n",
    "            tmp = df[j:j + 10000]\n",
    "\n",
    "            # insert\n",
    "            execute_mogrify(conn, tmp, table, val)\n",
    "            print(datetime.datetime.now(), ' : ', j)\n",
    "            tmp = pd.DataFrame()\n",
    "\n",
    "        # row count\n",
    "        print(len(df))"
   ]
  },
  {
   "cell_type": "markdown",
   "id": "3ead5270-ff24-4cf5-8235-29aa062ee12b",
   "metadata": {
    "jp-MarkdownHeadingCollapsed": true,
    "tags": []
   },
   "source": [
    "### ver2 (법정동 API)"
   ]
  },
  {
   "cell_type": "code",
   "execution_count": null,
   "id": "19bb4832-bd81-4944-9bbe-b16cb1ce51f9",
   "metadata": {
    "collapsed": true,
    "jupyter": {
     "outputs_hidden": true
    },
    "tags": []
   },
   "outputs": [
    {
     "name": "stderr",
     "output_type": "stream",
     "text": [
      "  0%|                                                                                                                     | 0/1000 [00:00<?, ?it/s]"
     ]
    },
    {
     "name": "stdout",
     "output_type": "stream",
     "text": [
      "<Response [307]> 5ms 1/3\n",
      "<Response [307]> 4ms 2/3\n"
     ]
    },
    {
     "name": "stderr",
     "output_type": "stream",
     "text": [
      "  0%|                                                                                                           | 1/1000 [00:14<3:58:12, 14.31s/it]"
     ]
    },
    {
     "name": "stdout",
     "output_type": "stream",
     "text": [
      "<Response [307]> 4ms 1/3\n",
      "<Response [307]> 6ms 2/3\n"
     ]
    },
    {
     "name": "stderr",
     "output_type": "stream",
     "text": [
      "  0%|▏                                                                                                          | 2/1000 [00:28<3:59:00, 14.37s/it]"
     ]
    },
    {
     "name": "stdout",
     "output_type": "stream",
     "text": [
      "<Response [307]> 4ms 3/3\n",
      "<Response [307]> 6ms 1/3\n",
      "<Response [307]> 5ms 2/3\n"
     ]
    },
    {
     "name": "stderr",
     "output_type": "stream",
     "text": [
      "  0%|▎                                                                                                          | 3/1000 [00:44<4:06:20, 14.83s/it]"
     ]
    },
    {
     "name": "stdout",
     "output_type": "stream",
     "text": [
      "<Response [307]> 4ms 3/3\n",
      "<Response [307]> 3ms 1/3\n",
      "<Response [307]> 5ms 2/3\n"
     ]
    },
    {
     "name": "stderr",
     "output_type": "stream",
     "text": [
      "  0%|▍                                                                                                          | 4/1000 [00:57<3:56:41, 14.26s/it]"
     ]
    },
    {
     "name": "stdout",
     "output_type": "stream",
     "text": [
      "<Response [307]> 5ms 3/3\n",
      "<Response [307]> 4ms 1/3\n",
      "<Response [307]> 6ms 2/3\n"
     ]
    },
    {
     "name": "stderr",
     "output_type": "stream",
     "text": [
      "  0%|▌                                                                                                          | 5/1000 [01:12<3:58:28, 14.38s/it]"
     ]
    },
    {
     "name": "stdout",
     "output_type": "stream",
     "text": [
      "<Response [307]> 4ms 3/3\n",
      "<Response [307]> 3ms 1/3\n",
      "<Response [307]> 6ms 2/3\n"
     ]
    },
    {
     "name": "stderr",
     "output_type": "stream",
     "text": [
      "  1%|▋                                                                                                          | 6/1000 [01:27<4:03:53, 14.72s/it]"
     ]
    },
    {
     "name": "stdout",
     "output_type": "stream",
     "text": [
      "<Response [307]> 6ms 3/3\n",
      "<Response [307]> 3ms 1/3\n",
      "<Response [307]> 5ms 2/3\n"
     ]
    },
    {
     "name": "stderr",
     "output_type": "stream",
     "text": [
      "  1%|▋                                                                                                          | 7/1000 [01:41<4:02:05, 14.63s/it]"
     ]
    },
    {
     "name": "stdout",
     "output_type": "stream",
     "text": [
      "<Response [307]> 6ms 3/3\n",
      "<Response [307]> 4ms 1/3\n",
      "<Response [307]> 4ms 2/3\n"
     ]
    },
    {
     "name": "stderr",
     "output_type": "stream",
     "text": [
      "  1%|▊                                                                                                          | 8/1000 [01:54<3:50:02, 13.91s/it]"
     ]
    },
    {
     "name": "stdout",
     "output_type": "stream",
     "text": [
      "<Response [307]> 4ms 3/3\n",
      "<Response [307]> 5ms 1/3\n",
      "<Response [307]> 4ms 2/3\n"
     ]
    },
    {
     "name": "stderr",
     "output_type": "stream",
     "text": [
      "  1%|▉                                                                                                          | 9/1000 [02:09<3:57:47, 14.40s/it]"
     ]
    },
    {
     "name": "stdout",
     "output_type": "stream",
     "text": [
      "<Response [307]> 6ms 3/3\n",
      "<Response [307]> 3ms 1/3\n",
      "<Response [307]> 5ms 2/3\n"
     ]
    },
    {
     "name": "stderr",
     "output_type": "stream",
     "text": [
      "  1%|█                                                                                                         | 10/1000 [02:21<3:42:30, 13.49s/it]"
     ]
    },
    {
     "name": "stdout",
     "output_type": "stream",
     "text": [
      "<Response [307]> 3ms 3/3\n",
      "<Response [307]> 5ms 1/3\n",
      "<Response [307]> 6ms 2/3\n"
     ]
    },
    {
     "name": "stderr",
     "output_type": "stream",
     "text": [
      "  1%|█▏                                                                                                        | 11/1000 [02:36<3:52:03, 14.08s/it]"
     ]
    },
    {
     "name": "stdout",
     "output_type": "stream",
     "text": [
      "<Response [307]> 4ms 3/3\n"
     ]
    }
   ],
   "source": [
    "# 임포트\n",
    "import json\n",
    "import time\n",
    "import random\n",
    "import requests\n",
    "import pandas as pd\n",
    "from tqdm import tqdm\n",
    "from fake_useragent import UserAgent\n",
    "\n",
    "ua = UserAgent()\n",
    "\n",
    "### 1. 법정동 API\n",
    "lawd_cd_df = pd.DataFrame()\n",
    "lawd_cd_list = []\n",
    "lawd_cd_unique = []\n",
    "\n",
    "for i in range(1, 22):\n",
    "    \n",
    "    url = 'http://apis.data.go.kr/1741000/StanReginCd/getStanReginCdList'\n",
    "    serviceKey = 'C94PKnigawlH2iISVWz1Itw9tVzyuOCbOvKgzCrGOUZWvs3XqrkhH+/ntypJ7kK2P2g16vLYCJif3TNfO1i1KA=='\n",
    "    params = {\n",
    "        'serviceKey' : serviceKey,\n",
    "        'pageNo' : str(i),\n",
    "        'numOfRows' : '1000',\n",
    "        'type' : 'json'\n",
    "    }\n",
    "    response = requests.get(url, params=params)\n",
    "    content = response.text\n",
    "    \n",
    "    # Json List 변환\n",
    "    lawd_cd_df = pd.DataFrame(pd.json_normalize(data = json.loads(content), record_path = 'StanReginCd')['row'][1])\n",
    "    lawd_cd_list = list(lawd_cd_df['locatjumin_cd'].str[:10])\n",
    "    \n",
    "    # 시군구코드 unique하게 남기기\n",
    "    for x in lawd_cd_list:\n",
    "        if x not in lawd_cd_unique:\n",
    "            lawd_cd_unique.append(x)\n",
    "            \n",
    "            \n",
    "fails = []\n",
    "info_df = pd.DataFrame()\n",
    "\n",
    "for i in tqdm(range(0,1000)):\n",
    "    cortar_url = 'https://m.land.naver.com/cluster/ajax/articleList?itemId=&mapKey=&lgeo=&showR0=&rletTpCd=SG&tradTpCd=A1%3AB1%3AB2&z=14&totCnt=402&cortarNo={}&sort=rank'.format(lawd_cd_unique[i])\n",
    "    count = 0\n",
    "    \n",
    "    for num in range(1,4):\n",
    "        \n",
    "        try:\n",
    "            count += 1\n",
    "            start = time.time() \n",
    "            url = cortar_url + str(num)\n",
    "            headers = {'user-agent' : ua.ie,'referer' : 'https://m.land.naver.com/'}\n",
    "            time.sleep(random.randrange(3,7))\n",
    "            response = requests.get(url, headers = headers)\n",
    "            print(response,str(int(time.time()-start)) + 'ms', str(count) +'/3')\n",
    "            items = response.json()['body']\n",
    "            df = pd.DataFrame(items)\n",
    "            info_df = info_df.append(df)\n",
    "        except:\n",
    "            fails.append([i,num])\n",
    "            \n",
    "    if i % 100 == 0:\n",
    "        info_df.to_csv('./네이버부동산_'+str(i+2)+'.csv',index=False,encoding='utf-8-sig')\n",
    "\n",
    "info_df.to_csv('./네이버부동산_'+str(i+1)+'.csv',index=False,encoding='utf-8-sig')        "
   ]
  },
  {
   "cell_type": "markdown",
   "id": "3f5edb77-c234-45a2-8bcd-6e17b7f7a8ff",
   "metadata": {
    "jp-MarkdownHeadingCollapsed": true,
    "tags": []
   },
   "source": [
    "### ver3"
   ]
  },
  {
   "cell_type": "code",
   "execution_count": null,
   "id": "6a501f18-9b1e-4386-961f-fae28b824fd6",
   "metadata": {},
   "outputs": [],
   "source": [
    "# 임포트\n",
    "import json\n",
    "import time\n",
    "import random\n",
    "import requests\n",
    "import psycopg2\n",
    "import numpy  as np\n",
    "import pandas as pd\n",
    "from tqdm import tqdm\n",
    "from fake_useragent import UserAgent\n",
    "\n",
    "ua = UserAgent()\n",
    "\n",
    "\n",
    "### 1. 법정동 API\n",
    "lawd_cd_df = pd.DataFrame()\n",
    "lawd_cd_list = []\n",
    "lawd_cd_unique = []\n",
    "\n",
    "for i in range(1, 22):\n",
    "    \n",
    "    url = 'http://apis.data.go.kr/1741000/StanReginCd/getStanReginCdList'\n",
    "    serviceKey = 'C94PKnigawlH2iISVWz1Itw9tVzyuOCbOvKgzCrGOUZWvs3XqrkhH+/ntypJ7kK2P2g16vLYCJif3TNfO1i1KA=='\n",
    "    params = {\n",
    "        'serviceKey' : serviceKey,\n",
    "        'pageNo' : str(i),\n",
    "        'numOfRows' : '1000',\n",
    "        'type' : 'json'\n",
    "    }\n",
    "    response = requests.get(url, params=params)\n",
    "    content = response.text\n",
    "    \n",
    "    # Json List 변환\n",
    "    lawd_cd_df = pd.DataFrame(pd.json_normalize(data = json.loads(content), record_path = 'StanReginCd')['row'][1])\n",
    "    lawd_cd_list = list(lawd_cd_df['locatjumin_cd'].str[:10])\n",
    "    \n",
    "    # 시군구코드 unique하게 남기기\n",
    "    for x in lawd_cd_list:\n",
    "        if x not in lawd_cd_unique:\n",
    "            lawd_cd_unique.append(x)\n",
    "\n",
    "\n",
    "### 2. 전월세 호가 수집\n",
    "# 변수 생성\n",
    "fails = [] # 수집 안 된 법정동\n",
    "info_df = pd.DataFrame() # 최종 데이터프레임\n",
    "\n",
    "# json to dataframe (법정동 단위 수집)\n",
    "for i in tqdm(range(0,2)):\n",
    "    \n",
    "    # url 설정\n",
    "    url = 'https://m.land.naver.com/cluster/ajax/articleList?itemId=&mapKey=&lgeo=&showR0=&rletTpCd=SG&tradTpCd=A1%3AB1%3AB2&z=14&totCnt=402&cortarNo={}&sort=rank'.format(lawd_cd_unique[i])\n",
    "      \n",
    "    try:\n",
    "        # url 호출\n",
    "        headers = {'user-agent' : ua.ie,'referer' : 'https://m.land.naver.com/'}\n",
    "        time.sleep(random.randrange(3,7))\n",
    "        response = requests.get(url, headers = headers)\n",
    "\n",
    "        # body 태그 선택\n",
    "        items = response.json()['body']\n",
    "\n",
    "        # 데이터프레임화\n",
    "        df = pd.DataFrame(items)\n",
    "        info_df = info_df.append(df)\n",
    "        time.sleep(random.randrange(1,7))\n",
    "\n",
    "    except:\n",
    "        fails.append([i])\n",
    "    \n",
    "    # 받아온 바로 적재 (언제 막힐지 모르니까 바로바로 적재함)\n",
    "    if len(info_df) > 0:\n",
    "        \n",
    "        # 컬럼 정리\n",
    "        info_df = info_df[['atclNo','cortarNo','atclNm','atclStatCd','rletTpCd','uprRletTpCd','rletTpNm','tradTpCd','tradTpNm','vrfcTpCd','flrInfo','prc','rentPrc','spc1','spc2','direction','atclCfmYmd','lat','lng','atclFetrDesc','cpid','cpNm','rltrNm']]\n",
    "        # NaN 처리\n",
    "        info_df = info_df.fillna(np.nan)\n",
    "\n",
    "        ### 3. DB INSERT\n",
    "        df = info_df\n",
    "        table = 'm1.asking_price'\n",
    "\n",
    "        # execute_mogrify\n",
    "        def execute_mogrify(conn, df, table, val):\n",
    "            # Create a list of tuples from the dataframe values\n",
    "            tuples = [tuple(x) for x in df.to_numpy()]\n",
    "            # Comma-separated dataframe columns\n",
    "            cols = ','.join(list(df.columns))\n",
    "            # SQL query to execute\n",
    "            cursor = conn.cursor()\n",
    "            values = [cursor.mogrify(val, tup).decode('utf8') for tup in\n",
    "                      tuples]\n",
    "            query = \"INSERT INTO %s(%s) VALUES \" % (table, cols) + \",\".join(values)\n",
    "\n",
    "            try:\n",
    "                cursor.execute(query, tuples)\n",
    "                conn.commit()\n",
    "            except (Exception, psycopg2.DatabaseError) as error:\n",
    "                print(\"Error: %s\" % error)\n",
    "                conn.rollback()\n",
    "                cursor.close()\n",
    "                return 1\n",
    "            cursor.close()\n",
    "\n",
    "        # values 설정\n",
    "        val = '(' + ('%s,' * len(df.columns))[:-1] + ')'\n",
    "\n",
    "        # insert\n",
    "        for j in range(0, len(df), 10000):\n",
    "\n",
    "            # DB Connect\n",
    "            conn = psycopg2.connect(\n",
    "                host='redshift-cluster-1.ctvbwnnvbdkl.ap-northeast-2.redshift.amazonaws.com',\n",
    "                port=5439,\n",
    "                dbname='dev',\n",
    "                user='awsuser',\n",
    "                password='cremaoAdmin1234qwer!!'\n",
    "            )\n",
    "\n",
    "            # 10000개 단위로 나누기\n",
    "            tmp = df[j:j + 10000]\n",
    "\n",
    "            # insert\n",
    "            execute_mogrify(conn, tmp, table, val)\n",
    "            print(datetime.datetime.now(), ' : ', j)\n",
    "            tmp = pd.DataFrame()\n",
    "\n",
    "        # row count\n",
    "        print(len(df))"
   ]
  },
  {
   "cell_type": "code",
   "execution_count": 1,
   "id": "06c86d19-43e2-44c2-aa87-5ae95055d15e",
   "metadata": {
    "tags": []
   },
   "outputs": [],
   "source": [
    "# 임포트\n",
    "import json\n",
    "import time\n",
    "import random\n",
    "import requests\n",
    "import psycopg2\n",
    "import datetime\n",
    "import numpy  as np\n",
    "import pandas as pd\n",
    "from tqdm import tqdm\n",
    "from fake_useragent import UserAgent\n",
    "\n",
    "ua = UserAgent()\n",
    "\n",
    "### 1. 깃에서 법정동 CSV 파일 불러오기 (법정동코드 10자리)\n",
    "cortar = pd.read_csv('C:\\\\oasis\\\\oasisbusiness-ds\\\\oasisbusiness-ds\\\\1_데이터수집\\\\법정동코드전체.csv')\n",
    "cortar = cortar[cortar['폐지여부\\r\\n']=='존재\\r\\n'] # 존재하는 지역만 남기기\n",
    "lawd_cd_unique = cortar.drop_duplicates('법정동코드')['법정동코드'] # 법정동 코드만 담기 (총 20551개)"
   ]
  },
  {
   "cell_type": "code",
   "execution_count": 49,
   "id": "7cf92d75-25d3-4415-8541-4282d437449e",
   "metadata": {
    "tags": []
   },
   "outputs": [
    {
     "name": "stderr",
     "output_type": "stream",
     "text": [
      "100%|████████████████████████████████████████████████████████████████████████████████████████████████████████████████| 2/2 [00:10<00:00,  5.30s/it]"
     ]
    },
    {
     "name": "stdout",
     "output_type": "stream",
     "text": [
      "2022-10-06 18:37:47.183221  :  0\n",
      "20\n"
     ]
    },
    {
     "name": "stderr",
     "output_type": "stream",
     "text": [
      "\n"
     ]
    }
   ],
   "source": [
    "### 2. 전월세 호가 수집\n",
    "# 변수 생성\n",
    "fails = [] # 수집 안 된 법정동\n",
    "info_df = pd.DataFrame() # 최종 데이터프레임\n",
    "\n",
    "# json to dataframe (법정동 단위 수집)\n",
    "for i in tqdm(range(0,2)):\n",
    "    \n",
    "    # url 설정\n",
    "    url = 'https://m.land.naver.com/cluster/ajax/articleList?itemId=&mapKey=&lgeo=&showR0=&rletTpCd=SG&tradTpCd=A1%3AB1%3AB2&z=14&totCnt=402&cortarNo={}&sort=rank'.format(lawd_cd_unique[i])\n",
    "      \n",
    "    try:\n",
    "        # url 호출\n",
    "        headers = {'user-agent' : ua.ie,'referer' : 'https://m.land.naver.com/'}\n",
    "        time.sleep(random.randrange(3,7))\n",
    "        response = requests.get(url, headers = headers)\n",
    "\n",
    "        # body 태그 선택\n",
    "        items = response.json()['body']\n",
    "\n",
    "        # 데이터프레임화\n",
    "        df = pd.DataFrame(items)\n",
    "        info_df = info_df.append(df)\n",
    "        time.sleep(random.randrange(1,7))\n",
    "\n",
    "    except:\n",
    "        fails.append([i])\n",
    "    \n",
    "    # 받아온 바로 적재 (언제 막힐지 모르니까 바로바로 적재함)\n",
    "    if len(info_df) > 0:\n",
    "        \n",
    "        # 컬럼 정리\n",
    "        info_df = info_df[['atclNo','cortarNo','atclNm','atclStatCd','rletTpCd','uprRletTpCd','rletTpNm','tradTpCd','tradTpNm','vrfcTpCd','flrInfo','prc','rentPrc','spc1','spc2','direction','atclCfmYmd','lat','lng','atclFetrDesc','cpid','cpNm','rltrNm']]\n",
    "        # NaN 처리\n",
    "        info_df = info_df.fillna(np.nan)\n",
    "\n",
    "        ### 3. DB INSERT\n",
    "        df = info_df\n",
    "        table = 'm1.asking_price'\n",
    "\n",
    "        # execute_mogrify\n",
    "        def execute_mogrify(conn, df, table, val):\n",
    "            # Create a list of tuples from the dataframe values\n",
    "            tuples = [tuple(x) for x in df.to_numpy()]\n",
    "            # Comma-separated dataframe columns\n",
    "            cols = ','.join(list(df.columns))\n",
    "            # SQL query to execute\n",
    "            cursor = conn.cursor()\n",
    "            values = [cursor.mogrify(val, tup).decode('utf8') for tup in\n",
    "                      tuples]\n",
    "            query = \"INSERT INTO %s(%s) VALUES \" % (table, cols) + \",\".join(values)\n",
    "\n",
    "            try:\n",
    "                cursor.execute(query, tuples)\n",
    "                conn.commit()\n",
    "            except (Exception, psycopg2.DatabaseError) as error:\n",
    "                print(\"Error: %s\" % error)\n",
    "                conn.rollback()\n",
    "                cursor.close()\n",
    "                return 1\n",
    "            cursor.close()\n",
    "\n",
    "        # values 설정\n",
    "        val = '(' + ('%s,' * len(df.columns))[:-1] + ')'\n",
    "\n",
    "        # insert\n",
    "        for j in range(0, len(df), 10000):\n",
    "\n",
    "            # DB Connect\n",
    "            conn = psycopg2.connect(\n",
    "                host='redshift-cluster-1.ctvbwnnvbdkl.ap-northeast-2.redshift.amazonaws.com',\n",
    "                port=5439,\n",
    "                dbname='dev',\n",
    "                user='awsuser',\n",
    "                password='cremaoAdmin1234qwer!!'\n",
    "            )\n",
    "\n",
    "            # 10000개 단위로 나누기\n",
    "            tmp = df[j:j + 10000]\n",
    "\n",
    "            # insert\n",
    "            execute_mogrify(conn, tmp, table, val)\n",
    "            print(datetime.datetime.now(), ' : ', j)\n",
    "            tmp = pd.DataFrame()\n",
    "\n",
    "        # row count\n",
    "        print(len(df))"
   ]
  },
  {
   "cell_type": "code",
   "execution_count": null,
   "id": "724bb20f-13e2-465a-b69c-9041ed795e22",
   "metadata": {},
   "outputs": [],
   "source": [
    "# 컬럼 정리\n",
    "info_df = info_df[['atclNo','cortarNo','atclNm','atclStatCd','rletTpCd','uprRletTpCd','rletTpNm','tradTpCd','tradTpNm','vrfcTpCd','flrInfo','prc','rentPrc','spc1','spc2','direction','atclCfmYmd','lat','lng','atclFetrDesc','cpid','cpNm','rltrNm']]\n",
    "# NaN 처리\n",
    "info_df = info_df.fillna(np.nan)"
   ]
  },
  {
   "cell_type": "code",
   "execution_count": 8,
   "id": "7bacd883-d3d5-4620-b4b0-3b88772c861d",
   "metadata": {},
   "outputs": [],
   "source": [
    "# list to str\n",
    "info_df = info_df.reset_index(drop=True)\n",
    "for i in info_df.index:\n",
    "    info_df.loc[i]['tagList'] = ' '.join(info_df['tagList'][i])"
   ]
  },
  {
   "cell_type": "code",
   "execution_count": null,
   "id": "e81219ca-a8fb-4909-8d87-4d4eb4e3052e",
   "metadata": {},
   "outputs": [],
   "source": [
    "# 컬럼 정리\n",
    "info_df = info_df[['atclNo','cortarNo','atclNm','atclStatCd','rletTpCd','uprRletTpCd','rletTpNm','tradTpCd','tradTpNm','vrfcTpCd','flrInfo','prc','rentPrc','hanPrc','spc1','spc2','direction','atclCfmYmd','lat','lng','atclFetrDesc','tagList','bildNm','minute','sameAddrCnt','sameAddrDirectCnt','cpid','cpNm','cpCnt','rltrNm','directTradYn','minMviFee','maxMviFee','etRoomCnt','tradePriceHan','tradeRentPrice','tradeCheckedByOwner','cpLinkVO','dtlAddrYn','dtlAddr']]\n",
    "# info_df = info_df.reset_index(drop=True)\n",
    "\n",
    "# 매물정보(cpLinkVO) 데이터 타입 변경 (dict to list)\n",
    "for i in range(len(info_df.index)):\n",
    "    for key, value in info_df['cpLinkVO'].iteritems():\n",
    "        tmp = [value]\n",
    "        info_df['cpLinkVO'][i] = tmp"
   ]
  },
  {
   "cell_type": "code",
   "execution_count": 38,
   "id": "462928dc-0a06-43bb-88a5-aeeabba9ec8d",
   "metadata": {
    "tags": []
   },
   "outputs": [
    {
     "name": "stdout",
     "output_type": "stream",
     "text": [
      "2022-10-06 18:33:21.595011  :  0\n",
      "20\n"
     ]
    }
   ],
   "source": [
    "### 3. DB INSERT\n",
    "df = info_df\n",
    "table = 'm1.asking_price'\n",
    "\n",
    "# execute_mogrify\n",
    "def execute_mogrify(conn, df, table, val):\n",
    "    # Create a list of tuples from the dataframe values\n",
    "    tuples = [tuple(x) for x in df.to_numpy()]\n",
    "    # Comma-separated dataframe columns\n",
    "    cols = ','.join(list(df.columns))\n",
    "    # SQL query to execute\n",
    "    cursor = conn.cursor()\n",
    "    values = [cursor.mogrify(val, tup).decode('utf8') for tup in\n",
    "              tuples]\n",
    "    query = \"INSERT INTO %s(%s) VALUES \" % (table, cols) + \",\".join(values)\n",
    "\n",
    "    try:\n",
    "        cursor.execute(query, tuples)\n",
    "        conn.commit()\n",
    "    except (Exception, psycopg2.DatabaseError) as error:\n",
    "        print(\"Error: %s\" % error)\n",
    "        conn.rollback()\n",
    "        cursor.close()\n",
    "        return 1\n",
    "    cursor.close()\n",
    "\n",
    "# values 설정\n",
    "val = '(' + ('%s,' * len(df.columns))[:-1] + ')'\n",
    "\n",
    "# insert\n",
    "for j in range(0, len(df), 10000):\n",
    "\n",
    "    # DB Connect\n",
    "    conn = psycopg2.connect(\n",
    "        host='redshift-cluster-1.ctvbwnnvbdkl.ap-northeast-2.redshift.amazonaws.com',\n",
    "        port=5439,\n",
    "        dbname='dev',\n",
    "        user='awsuser',\n",
    "        password='cremaoAdmin1234qwer!!'\n",
    "    )\n",
    "\n",
    "    # 10000개 단위로 나누기\n",
    "    tmp = df[j:j + 10000]\n",
    "\n",
    "    # insert\n",
    "    execute_mogrify(conn, tmp, table, val)\n",
    "    print(datetime.datetime.now(), ' : ', j)\n",
    "    tmp = pd.DataFrame()\n",
    "\n",
    "# row count\n",
    "print(len(df))"
   ]
  },
  {
   "cell_type": "markdown",
   "id": "63ea5663-a049-403f-bf73-b4b4be511ee8",
   "metadata": {
    "jp-MarkdownHeadingCollapsed": true,
    "tags": []
   },
   "source": [
    "### ver4"
   ]
  },
  {
   "cell_type": "code",
   "execution_count": null,
   "id": "cad094f7-0895-4ea6-b0d8-bf241b16e35b",
   "metadata": {},
   "outputs": [],
   "source": [
    "# 임포트\n",
    "import json\n",
    "import time\n",
    "import random\n",
    "import requests\n",
    "import psycopg2\n",
    "import datetime\n",
    "import numpy  as np\n",
    "import pandas as pd\n",
    "from tqdm import tqdm\n",
    "from fake_useragent import UserAgent\n",
    "\n",
    "ua = UserAgent()\n",
    "\n",
    "\n",
    "### 1. 법정동 API\n",
    "lawd_cd_df = pd.DataFrame()\n",
    "lawd_cd_list = []\n",
    "lawd_cd_unique = []\n",
    "\n",
    "for i in range(1, 22):\n",
    "    \n",
    "    url = 'http://apis.data.go.kr/1741000/StanReginCd/getStanReginCdList'\n",
    "    serviceKey = 'C94PKnigawlH2iISVWz1Itw9tVzyuOCbOvKgzCrGOUZWvs3XqrkhH+/ntypJ7kK2P2g16vLYCJif3TNfO1i1KA=='\n",
    "    params = {\n",
    "        'serviceKey' : serviceKey,\n",
    "        'pageNo' : str(i),\n",
    "        'numOfRows' : '1000',\n",
    "        'type' : 'json'\n",
    "    }\n",
    "    response = requests.get(url, params=params)\n",
    "    content = response.text\n",
    "    \n",
    "    # Json List 변환\n",
    "    lawd_cd_df = pd.DataFrame(pd.json_normalize(data = json.loads(content), record_path = 'StanReginCd')['row'][1])\n",
    "    lawd_cd_list = list(lawd_cd_df['locatjumin_cd'].str[:10])\n",
    "    \n",
    "    # 시군구코드 unique하게 남기기\n",
    "    for x in lawd_cd_list:\n",
    "        if x not in lawd_cd_unique:\n",
    "            lawd_cd_unique.append(x)\n",
    "\n",
    "# 시군구 단위 삭제\n",
    "matching = [s for s in lawd_cd_unique if \"00000\" in s]\n",
    "for s in lawd_cd_unique:\n",
    "    if s in matching:\n",
    "        lawd_cd_unique.remove(s)\n",
    "\n",
    "\n",
    "### 2. 전월세 호가 수집\n",
    "# 변수 생성\n",
    "fails = [] # 호가 데이터 없는 법정동\n",
    "\n",
    "# json to dataframe\n",
    "for i in tqdm(range(len(lawd_cd_unique))):\n",
    "    \n",
    "    # 초기화\n",
    "    info_df = pd.DataFrame()\n",
    "\n",
    "    # 다음 페이지 존재 여부 확인\n",
    "    for page in tqdm(range(0,10000)): # 진행상황 확인하고 tqdm 지우기\n",
    "\n",
    "        # url 호출\n",
    "        url = 'https://m.land.naver.com/cluster/ajax/articleList?itemId=&mapKey=&lgeo=&showR0=&rletTpCd=SG&tradTpCd=A1%3AB1%3AB2&z=14&totCnt=402&cortarNo={}&sort=rank&page={}'.format(lawd_cd_unique[i],str(page+1))\n",
    "        headers = {'user-agent' : ua.ie,'referer' : 'https://m.land.naver.com/'}\n",
    "        time.sleep(random.randrange(3,7))\n",
    "        response = requests.get(url, headers = headers)\n",
    "\n",
    "        # body 태그 선택\n",
    "        items = response.json()['body']\n",
    "\n",
    "        # 다음 페이지 존재 여부 확인\n",
    "        if (response.json()['more'] == True):\n",
    "\n",
    "            try:\n",
    "                # 데이터프레임화\n",
    "                df = pd.DataFrame(items)\n",
    "                info_df = info_df.append(df)\n",
    "            except:\n",
    "                fails.append([i])\n",
    "                \n",
    "        else:\n",
    "            break\n",
    "\n",
    "    # 받은 데이터 바로 적재 (언제 막힐지 모르니까 바로바로 적재함)\n",
    "    if len(info_df) > 0:\n",
    "        \n",
    "        # 컬럼 정리\n",
    "        info_df = info_df[['atclNo','cortarNo','atclNm','atclStatCd','rletTpCd','uprRletTpCd','rletTpNm','tradTpCd','tradTpNm','vrfcTpCd','flrInfo','prc','rentPrc','spc1','spc2','direction','atclCfmYmd','lat','lng','atclFetrDesc','cpid','cpNm','rltrNm']]\n",
    "        # NaN 처리\n",
    "        info_df = info_df.fillna(np.nan)\n",
    "\n",
    "        ### 3. DB INSERT\n",
    "        df = info_df\n",
    "        table = 'm1.asking_price'\n",
    "\n",
    "        # execute_mogrify\n",
    "        def execute_mogrify(conn, df, table, val):\n",
    "            # Create a list of tuples from the dataframe values\n",
    "            tuples = [tuple(x) for x in df.to_numpy()]\n",
    "            # Comma-separated dataframe columns\n",
    "            cols = ','.join(list(df.columns))\n",
    "            # SQL query to execute\n",
    "            cursor = conn.cursor()\n",
    "            values = [cursor.mogrify(val, tup).decode('utf8') for tup in\n",
    "                      tuples]\n",
    "            query = \"INSERT INTO %s(%s) VALUES \" % (table, cols) + \",\".join(values)\n",
    "\n",
    "            try:\n",
    "                cursor.execute(query, tuples)\n",
    "                conn.commit()\n",
    "            except (Exception, psycopg2.DatabaseError) as error:\n",
    "                print(\"Error: %s\" % error)\n",
    "                conn.rollback()\n",
    "                cursor.close()\n",
    "                return 1\n",
    "            cursor.close()\n",
    "\n",
    "        # values 설정\n",
    "        val = '(' + ('%s,' * len(df.columns))[:-1] + ')'\n",
    "\n",
    "        # insert\n",
    "        for j in range(0, len(df), 10000):\n",
    "\n",
    "            # DB Connect\n",
    "            conn = psycopg2.connect(\n",
    "                host='redshift-cluster-1.ctvbwnnvbdkl.ap-northeast-2.redshift.amazonaws.com',\n",
    "                port=5439,\n",
    "                dbname='dev',\n",
    "                user='awsuser',\n",
    "                password='cremaoAdmin1234qwer!!'\n",
    "            )\n",
    "\n",
    "            # 10000개 단위로 나누기\n",
    "            tmp = df[j:j + 10000]\n",
    "\n",
    "            # insert\n",
    "            execute_mogrify(conn, tmp, table, val)\n",
    "            print(datetime.datetime.now(), ' : ', j)\n",
    "            tmp = pd.DataFrame()\n",
    "\n",
    "        # row count\n",
    "        print(len(df))"
   ]
  },
  {
   "cell_type": "code",
   "execution_count": 34,
   "id": "22c4bde5-a434-4cb6-ba25-ae678a9055bb",
   "metadata": {},
   "outputs": [],
   "source": [
    "# 임포트\n",
    "import json\n",
    "import time\n",
    "import random\n",
    "import requests\n",
    "import psycopg2\n",
    "import datetime\n",
    "import numpy  as np\n",
    "import pandas as pd\n",
    "from tqdm import tqdm\n",
    "from fake_useragent import UserAgent\n",
    "\n",
    "ua = UserAgent()\n",
    "\n",
    "### 1. 깃에서 법정동 CSV 파일 불러오기 (법정동코드 10자리)\n",
    "cortar = pd.read_csv('C:\\\\oasis\\\\oasisbusiness-ds\\\\oasisbusiness-ds\\\\1_데이터수집\\\\법정동코드전체.csv')\n",
    "cortar = cortar[cortar['폐지여부\\r\\n']=='존재\\r\\n'] # 존재하는 지역만 남기기\n",
    "lawd_cd_unique = cortar.drop_duplicates('법정동코드')['법정동코드'] # 법정동 코드만 담기 (총 20551개)"
   ]
  },
  {
   "cell_type": "code",
   "execution_count": 66,
   "id": "3e833192-cc1b-4da7-81cd-0a151a3edd83",
   "metadata": {},
   "outputs": [],
   "source": [
    "### 1. 법정동 API\n",
    "lawd_cd_df = pd.DataFrame()\n",
    "lawd_cd_list = []\n",
    "lawd_cd_unique = []\n",
    "\n",
    "for i in range(1, 22):\n",
    "    \n",
    "    url = 'http://apis.data.go.kr/1741000/StanReginCd/getStanReginCdList'\n",
    "    serviceKey = 'C94PKnigawlH2iISVWz1Itw9tVzyuOCbOvKgzCrGOUZWvs3XqrkhH+/ntypJ7kK2P2g16vLYCJif3TNfO1i1KA=='\n",
    "    params = {\n",
    "        'serviceKey' : serviceKey,\n",
    "        'pageNo' : str(i),\n",
    "        'numOfRows' : '1000',\n",
    "        'type' : 'json'\n",
    "    }\n",
    "    response = requests.get(url, params=params)\n",
    "    content = response.text\n",
    "    \n",
    "    # Json List 변환\n",
    "    lawd_cd_df = pd.DataFrame(pd.json_normalize(data = json.loads(content), record_path = 'StanReginCd')['row'][1])\n",
    "    lawd_cd_list = list(lawd_cd_df['locatjumin_cd'].str[:10])\n",
    "    \n",
    "    # 시군구코드 unique하게 남기기\n",
    "    for x in lawd_cd_list:\n",
    "        if x not in lawd_cd_unique:\n",
    "            lawd_cd_unique.append(x)\n",
    "\n",
    "# 시군구 단위 삭제\n",
    "matching = [s for s in lawd_cd_unique if \"00000\" in s]\n",
    "for s in lawd_cd_unique:\n",
    "    if s in matching:\n",
    "        lawd_cd_unique.remove(s)"
   ]
  },
  {
   "cell_type": "code",
   "execution_count": 87,
   "id": "f1449912-9c19-4b80-888a-f17973cea022",
   "metadata": {
    "tags": []
   },
   "outputs": [
    {
     "name": "stderr",
     "output_type": "stream",
     "text": [
      "  0%|                                                                                                                        | 0/2 [00:00<?, ?it/s]\n",
      "  0%|                                                                                                                       | 0/50 [00:00<?, ?it/s]\u001b[A\n",
      "  2%|██▏                                                                                                            | 1/50 [00:05<04:10,  5.11s/it]\u001b[A\n",
      "  4%|████▍                                                                                                          | 2/50 [00:09<03:36,  4.51s/it]\u001b[A\n",
      "  6%|██████▋                                                                                                        | 3/50 [00:13<03:23,  4.32s/it]\u001b[A\n",
      "  8%|████████▉                                                                                                      | 4/50 [00:17<03:14,  4.23s/it]\u001b[A\n",
      " 10%|███████████                                                                                                    | 5/50 [00:20<02:51,  3.82s/it]\u001b[A\n",
      " 12%|█████████████▎                                                                                                 | 6/50 [00:23<02:37,  3.58s/it]\u001b[A\n",
      " 14%|███████████████▌                                                                                               | 7/50 [00:27<02:41,  3.75s/it]\u001b[A\n",
      " 16%|█████████████████▊                                                                                             | 8/50 [00:30<02:28,  3.53s/it]\u001b[A\n",
      " 18%|███████████████████▉                                                                                           | 9/50 [00:34<02:32,  3.71s/it]\u001b[A\n",
      " 20%|██████████████████████                                                                                        | 10/50 [00:37<02:20,  3.52s/it]\u001b[A\n",
      " 22%|████████████████████████▏                                                                                     | 11/50 [00:42<02:24,  3.70s/it]\u001b[A\n",
      " 24%|██████████████████████████▍                                                                                   | 12/50 [00:45<02:13,  3.51s/it]\u001b[A\n",
      " 26%|████████████████████████████▌                                                                                 | 13/50 [00:51<02:39,  4.30s/it]\u001b[A\n",
      " 28%|██████████████████████████████▊                                                                               | 14/50 [00:56<02:43,  4.54s/it]\u001b[A\n",
      " 30%|█████████████████████████████████                                                                             | 15/50 [00:59<02:23,  4.10s/it]\u001b[A\n",
      " 32%|███████████████████████████████████▏                                                                          | 16/50 [01:03<02:19,  4.11s/it]\u001b[A\n",
      " 34%|█████████████████████████████████████▍                                                                        | 17/50 [01:09<02:35,  4.70s/it]\u001b[A\n",
      " 36%|███████████████████████████████████████▌                                                                      | 18/50 [01:14<02:34,  4.82s/it]\u001b[A\n",
      " 38%|█████████████████████████████████████████▊                                                                    | 19/50 [01:17<02:13,  4.31s/it]\u001b[A\n",
      " 40%|████████████████████████████████████████████                                                                  | 20/50 [01:20<01:58,  3.94s/it]\u001b[A\n",
      " 42%|██████████████████████████████████████████████▏                                                               | 21/50 [01:26<02:04,  4.29s/it]\u001b[A\n",
      " 44%|████████████████████████████████████████████████▍                                                             | 22/50 [01:31<02:07,  4.54s/it]\u001b[A\n",
      " 46%|██████████████████████████████████████████████████▌                                                           | 23/50 [01:34<01:50,  4.11s/it]\u001b[A\n",
      " 48%|████████████████████████████████████████████████████▊                                                         | 24/50 [01:39<01:54,  4.40s/it]\u001b[A\n",
      " 50%|███████████████████████████████████████████████████████                                                       | 25/50 [01:44<01:55,  4.61s/it]\u001b[A\n",
      " 52%|█████████████████████████████████████████████████████████▏                                                    | 26/50 [01:49<01:54,  4.76s/it]\u001b[A\n",
      " 54%|███████████████████████████████████████████████████████████▍                                                  | 27/50 [01:55<01:58,  5.16s/it]\u001b[A\n",
      " 56%|█████████████████████████████████████████████████████████████▌                                                | 28/50 [01:59<01:46,  4.84s/it]\u001b[A\n",
      " 58%|███████████████████████████████████████████████████████████████▊                                              | 29/50 [02:02<01:30,  4.32s/it]\u001b[A\n",
      " 60%|██████████████████████████████████████████████████████████████████                                            | 30/50 [02:05<01:19,  3.95s/it]\u001b[A\n",
      " 62%|████████████████████████████████████████████████████████████████████▏                                         | 31/50 [02:10<01:16,  4.00s/it]\u001b[A\n",
      " 64%|██████████████████████████████████████████████████████████████████████▍                                       | 32/50 [02:13<01:07,  3.74s/it]\u001b[A\n",
      " 66%|████████████████████████████████████████████████████████████████████████▌                                     | 33/50 [02:16<01:00,  3.55s/it]\u001b[A\n",
      " 68%|██████████████████████████████████████████████████████████████████████████▊                                   | 34/50 [02:20<00:59,  3.71s/it]\u001b[A\n",
      " 70%|█████████████████████████████████████████████████████████████████████████████                                 | 35/50 [02:26<01:06,  4.43s/it]\u001b[A\n",
      " 72%|███████████████████████████████████████████████████████████████████████████████▏                              | 36/50 [02:31<01:04,  4.63s/it]\u001b[A\n",
      " 74%|█████████████████████████████████████████████████████████████████████████████████▍                            | 37/50 [02:35<00:58,  4.47s/it]\u001b[A\n",
      " 76%|███████████████████████████████████████████████████████████████████████████████████▌                          | 38/50 [02:39<00:52,  4.36s/it]\u001b[A\n",
      " 78%|█████████████████████████████████████████████████████████████████████████████████████▊                        | 39/50 [02:42<00:43,  3.99s/it]\u001b[A\n",
      " 80%|████████████████████████████████████████████████████████████████████████████████████████                      | 40/50 [02:47<00:43,  4.32s/it]\u001b[A\n",
      " 82%|██████████████████████████████████████████████████████████████████████████████████████████▏                   | 41/50 [02:51<00:35,  3.95s/it]\u001b[A\n",
      " 84%|████████████████████████████████████████████████████████████████████████████████████████████▍                 | 42/50 [02:55<00:32,  4.00s/it]\u001b[A\n",
      " 86%|██████████████████████████████████████████████████████████████████████████████████████████████▌               | 43/50 [03:01<00:32,  4.63s/it]\u001b[A\n",
      " 88%|████████████████████████████████████████████████████████████████████████████████████████████████▊             | 44/50 [03:04<00:25,  4.17s/it]\u001b[A\n",
      " 90%|███████████████████████████████████████████████████████████████████████████████████████████████████           | 45/50 [03:08<00:20,  4.15s/it]\u001b[A\n",
      " 92%|█████████████████████████████████████████████████████████████████████████████████████████████████████▏        | 46/50 [03:12<00:16,  4.13s/it]\u001b[A\n",
      " 94%|███████████████████████████████████████████████████████████████████████████████████████████████████████▍      | 47/50 [03:17<00:13,  4.43s/it]\u001b[A\n",
      " 96%|█████████████████████████████████████████████████████████████████████████████████████████████████████████▌    | 48/50 [03:21<00:08,  4.33s/it]\u001b[A\n",
      " 98%|███████████████████████████████████████████████████████████████████████████████████████████████████████████▊  | 49/50 [03:26<00:04,  4.56s/it]\u001b[A\n",
      "100%|██████████████████████████████████████████████████████████████████████████████████████████████████████████████| 50/50 [03:33<00:00,  4.26s/it]\u001b[A\n",
      " 50%|███████████████████████████████████████████████████████▌                                                       | 1/2 [03:33<03:33, 213.04s/it]\n",
      "  0%|                                                                                                                       | 0/50 [00:03<?, ?it/s]\u001b[A\n",
      "100%|███████████████████████████████████████████████████████████████████████████████████████████████████████████████| 2/2 [03:36<00:00, 108.06s/it]\n"
     ]
    }
   ],
   "source": [
    "### 2. 전월세 호가 수집\n",
    "# 변수 생성\n",
    "fails = [] # 호가 데이터 없는 법정동\n",
    "info_df = pd.DataFrame()\n",
    "\n",
    "# json to dataframe\n",
    "for i in tqdm(range(0,2)):\n",
    "    \n",
    "    # 다음 페이지 존재 여부 확인\n",
    "    for page in tqdm(range(0,1000)): # 진행상황 확인하고 tqdm 지우기\n",
    "\n",
    "        # url 호출\n",
    "        url = 'https://m.land.naver.com/cluster/ajax/articleList?itemId=&mapKey=&lgeo=&showR0=&rletTpCd=SG&tradTpCd=A1%3AB1%3AB2&z=14&totCnt=402&cortarNo={}&sort=rank&page={}'.format(lawd_cd_unique[i],str(i+1))\n",
    "        headers = {'user-agent' : ua.ie,'referer' : 'https://m.land.naver.com/'}\n",
    "        time.sleep(random.randrange(3,7))\n",
    "        response = requests.get(url, headers = headers)\n",
    "\n",
    "        # body 태그 선택\n",
    "        items = response.json()['body']\n",
    "\n",
    "        # 다음 페이지 존재 여부 확인\n",
    "        if (response.json()['more'] == True):\n",
    "\n",
    "            try:\n",
    "                # 데이터프레임화\n",
    "                df = pd.DataFrame(items)\n",
    "                info_df = info_df.append(df)\n",
    "\n",
    "            except:\n",
    "                fails.append([i])\n",
    "\n",
    "        else:\n",
    "            break"
   ]
  },
  {
   "cell_type": "code",
   "execution_count": null,
   "id": "47a4c719-c107-4f50-bf95-d4ebce8785de",
   "metadata": {},
   "outputs": [],
   "source": [
    "# 중복값 제거\n",
    "if (len(info_df) != len(info_df.drop_duplicates('atclNo'))):\n",
    "    info_df = info_df.drop_duplicates(drop=True)"
   ]
  },
  {
   "cell_type": "markdown",
   "id": "4407e258-bc4c-40ca-9634-43355204f7d6",
   "metadata": {},
   "source": [
    "### 돌려놓기 (최종)"
   ]
  },
  {
   "cell_type": "markdown",
   "id": "6d8ad6b3-4e45-45b0-8fec-cfd3838808ca",
   "metadata": {},
   "source": [
    "* csv ver"
   ]
  },
  {
   "cell_type": "code",
   "execution_count": 2,
   "id": "26618a45-cf82-4e50-8512-f95a2bba1d27",
   "metadata": {},
   "outputs": [],
   "source": [
    "# 임포트\n",
    "import json\n",
    "import time\n",
    "import random\n",
    "import requests\n",
    "import psycopg2\n",
    "import datetime\n",
    "import numpy  as np\n",
    "import pandas as pd\n",
    "from tqdm import tqdm\n",
    "from fake_useragent import UserAgent\n",
    "\n",
    "ua = UserAgent()\n",
    "\n",
    "\n",
    "### 1. 법정동 API\n",
    "lawd_cd_df = pd.DataFrame()\n",
    "lawd_cd_list = []\n",
    "lawd_cd_unique = []\n",
    "\n",
    "for i in range(1, 22):\n",
    "    \n",
    "    url = 'http://apis.data.go.kr/1741000/StanReginCd/getStanReginCdList'\n",
    "    serviceKey = 'C94PKnigawlH2iISVWz1Itw9tVzyuOCbOvKgzCrGOUZWvs3XqrkhH+/ntypJ7kK2P2g16vLYCJif3TNfO1i1KA=='\n",
    "    params = {\n",
    "        'serviceKey' : serviceKey,\n",
    "        'pageNo' : str(i),\n",
    "        'numOfRows' : '1000',\n",
    "        'type' : 'json'\n",
    "    }\n",
    "    response = requests.get(url, params=params)\n",
    "    content = response.text\n",
    "    \n",
    "    # Json List 변환\n",
    "    lawd_cd_df = pd.DataFrame(pd.json_normalize(data = json.loads(content), record_path = 'StanReginCd')['row'][1])\n",
    "    lawd_cd_list = list(lawd_cd_df['locatjumin_cd'].str[:10])\n",
    "    \n",
    "    # 시군구코드 unique하게 남기기\n",
    "    for x in lawd_cd_list:\n",
    "        if x not in lawd_cd_unique:\n",
    "            lawd_cd_unique.append(x)\n",
    "\n",
    "# 시군구 단위 삭제 (법정동 단위만 남김 : 총 20,293개)\n",
    "matching = [s for s in lawd_cd_unique if \"00000\" in s]\n",
    "for s in lawd_cd_unique:\n",
    "    if s in matching:\n",
    "        lawd_cd_unique.remove(s)"
   ]
  },
  {
   "cell_type": "code",
   "execution_count": 35,
   "id": "fef70b25-5d57-4229-93d8-b8fcdd0eacc5",
   "metadata": {
    "collapsed": true,
    "jupyter": {
     "outputs_hidden": true
    },
    "tags": []
   },
   "outputs": [
    {
     "name": "stderr",
     "output_type": "stream",
     "text": [
      "  0%|                                                                                                                    | 0/19657 [00:00<?, ?it/s]\n",
      "  0%|                                                                                                                      | 0/100 [00:00<?, ?it/s]\u001b[A\n",
      "  1%|█                                                                                                             | 1/100 [00:05<08:24,  5.10s/it]\u001b[A\n",
      "  2%|██▏                                                                                                           | 2/100 [00:10<08:19,  5.10s/it]\u001b[A\n",
      "  3%|███▎                                                                                                          | 3/100 [00:16<08:58,  5.55s/it]\u001b[A\n",
      "  4%|████▍                                                                                                         | 4/100 [00:19<07:20,  4.59s/it]\u001b[A\n",
      "  5%|█████▌                                                                                                        | 5/100 [00:22<06:25,  4.06s/it]\u001b[A\n",
      "  6%|██████▌                                                                                                       | 6/100 [00:25<05:50,  3.73s/it]\u001b[A\n",
      "  7%|███████▋                                                                                                      | 7/100 [00:28<05:27,  3.52s/it]\u001b[A\n",
      "  8%|████████▊                                                                                                     | 8/100 [00:32<05:41,  3.71s/it]\u001b[A\n",
      "  9%|█████████▉                                                                                                    | 9/100 [00:36<05:48,  3.83s/it]\u001b[A\n",
      " 10%|██████████▉                                                                                                  | 10/100 [00:41<05:52,  3.92s/it]\u001b[A\n",
      " 11%|███████████▉                                                                                                 | 11/100 [00:46<06:21,  4.28s/it]\u001b[A\n",
      " 12%|█████████████                                                                                                | 12/100 [00:51<06:39,  4.54s/it]\u001b[A\n",
      " 13%|██████████████▏                                                                                              | 13/100 [00:54<05:56,  4.10s/it]\u001b[A\n",
      " 14%|███████████████▎                                                                                             | 14/100 [00:58<05:53,  4.11s/it]\u001b[A\n",
      " 15%|████████████████▎                                                                                            | 15/100 [01:06<06:17,  4.44s/it]\u001b[A\n",
      "  0%|                                                                                                        | 1/19657 [01:08<372:18:46, 68.19s/it]"
     ]
    },
    {
     "name": "stdout",
     "output_type": "stream",
     "text": [
      "2022-10-07 17:13:10.645641  :  0\n",
      "283\n"
     ]
    },
    {
     "name": "stderr",
     "output_type": "stream",
     "text": [
      "\n",
      "  0%|                                                                                                                      | 0/100 [00:00<?, ?it/s]\u001b[A\n",
      "  1%|█                                                                                                             | 1/100 [00:12<20:04, 12.16s/it]\u001b[A\n",
      "  0%|                                                                                                        | 2/19657 [01:21<196:12:47, 35.94s/it]"
     ]
    },
    {
     "name": "stdout",
     "output_type": "stream",
     "text": [
      "2022-10-07 17:13:24.009370  :  0\n",
      "3\n"
     ]
    },
    {
     "name": "stderr",
     "output_type": "stream",
     "text": [
      "\n",
      "  0%|                                                                                                                      | 0/100 [00:00<?, ?it/s]\u001b[A\n",
      "  1%|█                                                                                                             | 1/100 [00:08<13:26,  8.15s/it]\u001b[A\n",
      "  0%|                                                                                                        | 3/19657 [01:30<129:48:03, 23.78s/it]"
     ]
    },
    {
     "name": "stdout",
     "output_type": "stream",
     "text": [
      "2022-10-07 17:13:33.311155  :  0\n",
      "20\n"
     ]
    },
    {
     "name": "stderr",
     "output_type": "stream",
     "text": [
      "\n",
      "  0%|                                                                                                                      | 0/100 [00:00<?, ?it/s]\u001b[A\n",
      "  1%|█                                                                                                             | 1/100 [00:10<16:45, 10.16s/it]\u001b[A\n",
      "  0%|                                                                                                        | 4/19657 [01:42<102:50:41, 18.84s/it]"
     ]
    },
    {
     "name": "stdout",
     "output_type": "stream",
     "text": [
      "2022-10-07 17:13:44.582379  :  0\n",
      "1\n"
     ]
    },
    {
     "name": "stderr",
     "output_type": "stream",
     "text": [
      "\n",
      "  0%|                                                                                                                      | 0/100 [00:00<?, ?it/s]\u001b[A\n",
      "  1%|█                                                                                                             | 1/100 [00:05<08:22,  5.08s/it]\u001b[A\n",
      "  2%|██▏                                                                                                           | 2/100 [00:08<06:23,  3.92s/it]\u001b[A\n",
      "  3%|███▎                                                                                                          | 3/100 [00:18<09:53,  6.12s/it]\u001b[A\n",
      "  0%|                                                                                                        | 5/19657 [02:01<104:08:35, 19.08s/it]"
     ]
    },
    {
     "name": "stdout",
     "output_type": "stream",
     "text": [
      "2022-10-07 17:14:04.083477  :  0\n",
      "45\n"
     ]
    },
    {
     "name": "stderr",
     "output_type": "stream",
     "text": [
      "\n",
      "  0%|                                                                                                                      | 0/100 [00:00<?, ?it/s]\u001b[A\n",
      "  1%|█                                                                                                             | 1/100 [00:06<10:04,  6.11s/it]\u001b[A\n",
      "  2%|██▏                                                                                                           | 2/100 [00:10<08:03,  4.94s/it]\u001b[A\n",
      "  3%|███▎                                                                                                          | 3/100 [00:15<08:07,  5.02s/it]\u001b[A\n",
      "  4%|████▍                                                                                                         | 4/100 [00:21<08:44,  5.46s/it]\u001b[A\n",
      "  5%|█████▌                                                                                                        | 5/100 [00:24<07:18,  4.61s/it]\u001b[A\n",
      "  6%|██████▌                                                                                                       | 6/100 [00:30<08:01,  5.12s/it]\u001b[A\n",
      "  7%|███████▋                                                                                                      | 7/100 [00:34<07:26,  4.80s/it]\u001b[A\n",
      "  8%|████████▊                                                                                                     | 8/100 [00:40<08:00,  5.22s/it]\u001b[A\n",
      "  9%|█████████▉                                                                                                    | 9/100 [00:44<06:55,  4.57s/it]\u001b[A\n",
      " 10%|██████████▉                                                                                                  | 10/100 [00:50<07:34,  5.05s/it]\u001b[A\n",
      " 11%|███████████▉                                                                                                 | 11/100 [00:56<07:58,  5.38s/it]\u001b[A\n",
      " 12%|█████████████                                                                                                | 12/100 [00:59<06:52,  4.69s/it]\u001b[A\n",
      " 13%|██████████████▏                                                                                              | 13/100 [01:02<06:06,  4.21s/it]\u001b[A\n",
      " 14%|███████████████▎                                                                                             | 14/100 [01:05<05:33,  3.88s/it]\u001b[A\n",
      " 15%|████████████████▎                                                                                            | 15/100 [01:11<06:27,  4.56s/it]\u001b[A\n",
      " 16%|█████████████████▍                                                                                           | 16/100 [01:15<06:12,  4.44s/it]\u001b[A\n",
      " 17%|██████████████████▌                                                                                          | 17/100 [01:21<06:25,  4.64s/it]\u001b[A\n",
      " 18%|███████████████████▌                                                                                         | 18/100 [01:27<06:57,  5.09s/it]\u001b[A\n",
      " 19%|████████████████████▋                                                                                        | 19/100 [01:33<07:17,  5.40s/it]\u001b[A\n",
      " 20%|█████████████████████▊                                                                                       | 20/100 [01:39<07:29,  5.61s/it]\u001b[A\n",
      " 21%|██████████████████████▉                                                                                      | 21/100 [01:42<06:24,  4.87s/it]\u001b[A\n",
      " 22%|███████████████████████▉                                                                                     | 22/100 [01:47<06:25,  4.95s/it]\u001b[A\n",
      " 23%|█████████████████████████                                                                                    | 23/100 [01:51<06:01,  4.69s/it]\u001b[A\n",
      " 24%|██████████████████████████▏                                                                                  | 24/100 [01:57<06:29,  5.13s/it]\u001b[A\n",
      " 25%|███████████████████████████▎                                                                                 | 25/100 [02:03<06:24,  5.13s/it]\u001b[A\n",
      " 26%|████████████████████████████▎                                                                                | 26/100 [02:09<06:41,  5.43s/it]\u001b[A\n",
      " 27%|█████████████████████████████▍                                                                               | 27/100 [02:13<06:07,  5.04s/it]\u001b[A\n",
      " 28%|██████████████████████████████▌                                                                              | 28/100 [02:16<05:21,  4.46s/it]\u001b[A\n",
      " 29%|███████████████████████████████▌                                                                             | 29/100 [02:19<04:48,  4.06s/it]\u001b[A\n",
      " 30%|████████████████████████████████▋                                                                            | 30/100 [02:23<04:45,  4.08s/it]\u001b[A\n",
      " 31%|█████████████████████████████████▊                                                                           | 31/100 [02:29<05:24,  4.70s/it]\u001b[A\n",
      " 32%|██████████████████████████████████▉                                                                          | 32/100 [02:34<05:13,  4.60s/it]\u001b[A\n",
      " 33%|███████████████████████████████████▉                                                                         | 33/100 [02:38<04:58,  4.46s/it]\u001b[A\n",
      " 34%|█████████████████████████████████████                                                                        | 34/100 [02:42<04:47,  4.36s/it]\u001b[A\n",
      " 35%|██████████████████████████████████████▏                                                                      | 35/100 [02:46<04:38,  4.29s/it]\u001b[A\n",
      " 36%|███████████████████████████████████████▏                                                                     | 36/100 [02:49<04:11,  3.93s/it]\u001b[A\n",
      " 37%|████████████████████████████████████████▎                                                                    | 37/100 [02:54<04:30,  4.29s/it]\u001b[A\n",
      " 38%|█████████████████████████████████████████▍                                                                   | 38/100 [02:57<04:04,  3.94s/it]\u001b[A\n",
      " 39%|██████████████████████████████████████████▌                                                                  | 39/100 [03:01<03:45,  3.70s/it]\u001b[A\n",
      " 40%|███████████████████████████████████████████▌                                                                 | 40/100 [03:05<03:49,  3.83s/it]\u001b[A\n",
      " 41%|████████████████████████████████████████████▋                                                                | 41/100 [03:08<03:33,  3.62s/it]\u001b[A\n",
      " 42%|█████████████████████████████████████████████▊                                                               | 42/100 [03:13<03:56,  4.07s/it]\u001b[A\n",
      " 43%|██████████████████████████████████████████████▊                                                              | 43/100 [03:17<03:52,  4.09s/it]\u001b[A\n",
      " 44%|███████████████████████████████████████████████▉                                                             | 44/100 [03:21<03:49,  4.09s/it]\u001b[A\n",
      " 45%|█████████████████████████████████████████████████                                                            | 45/100 [03:24<03:28,  3.80s/it]\u001b[A\n",
      " 46%|██████████████████████████████████████████████████▏                                                          | 46/100 [03:30<04:02,  4.50s/it]\u001b[A\n",
      " 47%|███████████████████████████████████████████████████▏                                                         | 47/100 [03:34<03:36,  4.08s/it]\u001b[A\n",
      " 48%|████████████████████████████████████████████████████▎                                                        | 48/100 [03:38<03:32,  4.09s/it]\u001b[A\n",
      " 49%|█████████████████████████████████████████████████████▍                                                       | 49/100 [03:43<03:44,  4.40s/it]\u001b[A\n",
      " 50%|██████████████████████████████████████████████████████▌                                                      | 50/100 [03:46<03:20,  4.02s/it]\u001b[A\n",
      " 51%|███████████████████████████████████████████████████████▌                                                     | 51/100 [03:52<03:47,  4.65s/it]\u001b[A\n",
      " 52%|████████████████████████████████████████████████████████▋                                                    | 52/100 [03:56<03:35,  4.49s/it]\u001b[A\n",
      " 53%|█████████████████████████████████████████████████████████▊                                                   | 53/100 [04:00<03:25,  4.38s/it]\u001b[A\n",
      " 54%|██████████████████████████████████████████████████████████▊                                                  | 54/100 [04:06<03:45,  4.90s/it]\u001b[A\n",
      " 55%|███████████████████████████████████████████████████████████▉                                                 | 55/100 [04:12<03:43,  4.97s/it]\u001b[A\n",
      " 56%|█████████████████████████████████████████████████████████████                                                | 56/100 [04:17<03:40,  5.01s/it]\u001b[A\n",
      " 57%|██████████████████████████████████████████████████████████████▏                                              | 57/100 [04:23<03:49,  5.34s/it]\u001b[A\n",
      " 58%|███████████████████████████████████████████████████████████████▏                                             | 58/100 [04:29<03:54,  5.58s/it]\u001b[A\n",
      " 59%|████████████████████████████████████████████████████████████████▎                                            | 59/100 [04:32<03:18,  4.84s/it]\u001b[A\n",
      " 60%|█████████████████████████████████████████████████████████████████▍                                           | 60/100 [04:35<02:52,  4.32s/it]\u001b[A\n",
      " 61%|██████████████████████████████████████████████████████████████████▍                                          | 61/100 [04:40<02:58,  4.57s/it]\u001b[A\n",
      " 62%|███████████████████████████████████████████████████████████████████▌                                         | 62/100 [04:52<02:59,  4.72s/it]\u001b[A\n",
      "  0%|                                                                                                       | 6/19657 [06:55<614:58:47, 112.66s/it]"
     ]
    },
    {
     "name": "stdout",
     "output_type": "stream",
     "text": [
      "2022-10-07 17:18:58.409396  :  0\n",
      "1234\n"
     ]
    },
    {
     "name": "stderr",
     "output_type": "stream",
     "text": [
      "\n",
      "  0%|                                                                                                                      | 0/100 [00:00<?, ?it/s]\u001b[A\n",
      "  1%|█                                                                                                             | 1/100 [00:04<06:45,  4.09s/it]\u001b[A\n",
      "  2%|██▏                                                                                                           | 2/100 [00:09<07:40,  4.69s/it]\u001b[A\n",
      "  3%|███▎                                                                                                          | 3/100 [00:16<08:48,  5.45s/it]\u001b[A\n",
      "  0%|                                                                                                        | 7/19657 [07:13<445:05:25, 81.54s/it]"
     ]
    },
    {
     "name": "stdout",
     "output_type": "stream",
     "text": [
      "2022-10-07 17:19:15.884247  :  0\n",
      "45\n"
     ]
    },
    {
     "name": "stderr",
     "output_type": "stream",
     "text": [
      "\n",
      "  0%|                                                                                                                      | 0/100 [00:04<?, ?it/s]\u001b[A\n",
      "  0%|                                                                                                        | 8/19657 [07:17<310:27:33, 56.88s/it]\n",
      "  0%|                                                                                                                      | 0/100 [00:06<?, ?it/s]\u001b[A\n",
      "  0%|                                                                                                        | 9/19657 [07:23<223:45:28, 41.00s/it]\n",
      "  0%|                                                                                                                      | 0/100 [00:00<?, ?it/s]\u001b[A\n",
      "  1%|█                                                                                                             | 1/100 [00:12<20:01, 12.14s/it]\u001b[A\n",
      "  0%|                                                                                                       | 10/19657 [07:36<176:53:01, 32.41s/it]"
     ]
    },
    {
     "name": "stdout",
     "output_type": "stream",
     "text": [
      "2022-10-07 17:19:39.216773  :  0\n",
      "1\n"
     ]
    },
    {
     "name": "stderr",
     "output_type": "stream",
     "text": [
      "\n",
      "  0%|                                                                                                                      | 0/100 [00:00<?, ?it/s]\u001b[A\n",
      "  1%|█                                                                                                             | 1/100 [00:03<05:09,  3.13s/it]\u001b[A\n",
      "  2%|██▏                                                                                                           | 2/100 [00:08<07:01,  4.30s/it]\u001b[A\n",
      "  3%|███▎                                                                                                          | 3/100 [00:11<06:04,  3.76s/it]\u001b[A\n",
      "  4%|████▍                                                                                                         | 4/100 [00:16<06:56,  4.34s/it]\u001b[A\n",
      "  5%|█████▌                                                                                                        | 5/100 [00:21<07:18,  4.62s/it]\u001b[A\n",
      "  6%|██████▌                                                                                                       | 6/100 [00:25<07:01,  4.49s/it]\u001b[A\n",
      "  7%|███████▋                                                                                                      | 7/100 [00:29<06:16,  4.04s/it]\u001b[A\n",
      "  8%|████████▊                                                                                                     | 8/100 [00:33<06:14,  4.07s/it]\u001b[A\n",
      "  9%|█████████▉                                                                                                    | 9/100 [00:39<07:08,  4.71s/it]\u001b[A\n",
      " 10%|██████████▉                                                                                                  | 10/100 [00:45<07:43,  5.15s/it]\u001b[A\n",
      " 11%|███████████▉                                                                                                 | 11/100 [00:48<06:42,  4.53s/it]\u001b[A\n",
      " 12%|█████████████                                                                                                | 12/100 [00:54<07:20,  5.01s/it]\u001b[A\n",
      " 13%|██████████████▏                                                                                              | 13/100 [00:58<06:53,  4.75s/it]\u001b[A\n",
      " 14%|███████████████▎                                                                                             | 14/100 [01:03<06:57,  4.86s/it]\u001b[A\n",
      " 15%|████████████████▎                                                                                            | 15/100 [01:10<07:25,  5.24s/it]\u001b[A\n",
      " 16%|█████████████████▍                                                                                           | 16/100 [01:15<07:16,  5.20s/it]\u001b[A\n",
      " 17%|██████████████████▌                                                                                          | 17/100 [01:20<07:10,  5.19s/it]\u001b[A\n",
      " 18%|███████████████████▌                                                                                         | 18/100 [01:26<07:28,  5.46s/it]\u001b[A\n",
      " 19%|████████████████████▋                                                                                        | 19/100 [01:31<07:14,  5.36s/it]\u001b[A\n",
      " 20%|█████████████████████▊                                                                                       | 20/100 [01:34<06:15,  4.69s/it]\u001b[A\n",
      " 21%|██████████████████████▉                                                                                      | 21/100 [01:37<05:33,  4.23s/it]\u001b[A\n",
      " 22%|███████████████████████▉                                                                                     | 22/100 [01:42<05:50,  4.50s/it]\u001b[A\n",
      " 23%|█████████████████████████                                                                                    | 23/100 [01:49<06:23,  4.98s/it]\u001b[A\n",
      " 24%|██████████████████████████▏                                                                                  | 24/100 [01:54<06:21,  5.03s/it]\u001b[A\n",
      " 25%|███████████████████████████▎                                                                                 | 25/100 [01:57<05:34,  4.46s/it]\u001b[A\n",
      " 26%|████████████████████████████▎                                                                                | 26/100 [02:01<05:22,  4.35s/it]\u001b[A\n",
      " 27%|█████████████████████████████▍                                                                               | 27/100 [02:06<05:34,  4.59s/it]\u001b[A\n",
      " 28%|██████████████████████████████▌                                                                              | 28/100 [02:11<05:41,  4.75s/it]\u001b[A\n",
      " 29%|███████████████████████████████▌                                                                             | 29/100 [02:17<06:06,  5.16s/it]\u001b[A\n",
      " 30%|████████████████████████████████▋                                                                            | 30/100 [02:21<05:40,  4.86s/it]\u001b[A\n",
      " 31%|█████████████████████████████████▊                                                                           | 31/100 [02:28<06:01,  5.23s/it]\u001b[A\n",
      " 32%|██████████████████████████████████▉                                                                          | 32/100 [02:33<05:53,  5.20s/it]\u001b[A\n",
      " 33%|███████████████████████████████████▉                                                                         | 33/100 [02:37<05:27,  4.88s/it]\u001b[A\n",
      " 34%|█████████████████████████████████████                                                                        | 34/100 [02:41<05:07,  4.66s/it]\u001b[A\n",
      " 35%|██████████████████████████████████████▏                                                                      | 35/100 [02:47<05:31,  5.10s/it]\u001b[A\n",
      " 36%|███████████████████████████████████████▏                                                                     | 36/100 [02:51<05:07,  4.80s/it]\u001b[A\n",
      " 37%|████████████████████████████████████████▎                                                                    | 37/100 [02:56<05:09,  4.91s/it]\u001b[A\n",
      " 38%|█████████████████████████████████████████▍                                                                   | 38/100 [03:03<05:26,  5.27s/it]\u001b[A\n",
      " 39%|██████████████████████████████████████████▌                                                                  | 39/100 [03:07<05:00,  4.93s/it]\u001b[A\n",
      " 40%|███████████████████████████████████████████▌                                                                 | 40/100 [03:13<05:17,  5.29s/it]\u001b[A\n",
      " 41%|████████████████████████████████████████████▋                                                                | 41/100 [03:19<05:26,  5.54s/it]\u001b[A\n",
      " 42%|█████████████████████████████████████████████▊                                                               | 42/100 [03:24<05:14,  5.42s/it]\u001b[A\n",
      " 43%|██████████████████████████████████████████████▊                                                              | 43/100 [03:29<05:03,  5.33s/it]\u001b[A\n",
      " 44%|███████████████████████████████████████████████▉                                                             | 44/100 [03:32<04:21,  4.67s/it]\u001b[A\n",
      " 45%|█████████████████████████████████████████████████                                                            | 45/100 [03:36<04:08,  4.52s/it]\u001b[A\n",
      " 46%|██████████████████████████████████████████████████▏                                                          | 46/100 [03:43<04:29,  5.00s/it]\u001b[A\n",
      " 47%|███████████████████████████████████████████████████▏                                                         | 47/100 [03:48<04:26,  5.04s/it]\u001b[A\n",
      " 48%|████████████████████████████████████████████████████▎                                                        | 48/100 [03:52<04:07,  4.76s/it]\u001b[A\n",
      " 49%|█████████████████████████████████████████████████████▍                                                       | 49/100 [03:57<04:08,  4.87s/it]\u001b[A\n",
      " 50%|██████████████████████████████████████████████████████▌                                                      | 50/100 [04:02<04:07,  4.94s/it]\u001b[A\n",
      " 51%|███████████████████████████████████████████████████████▌                                                     | 51/100 [04:06<03:50,  4.70s/it]\u001b[A\n",
      " 52%|████████████████████████████████████████████████████████▋                                                    | 52/100 [04:09<03:23,  4.23s/it]\u001b[A\n",
      " 53%|█████████████████████████████████████████████████████████▊                                                   | 53/100 [04:15<03:45,  4.80s/it]\u001b[A\n",
      " 54%|██████████████████████████████████████████████████████████▊                                                  | 54/100 [04:20<03:31,  4.60s/it]\u001b[A\n",
      " 55%|███████████████████████████████████████████████████████████▉                                                 | 55/100 [04:25<03:33,  4.75s/it]\u001b[A\n",
      " 56%|█████████████████████████████████████████████████████████████                                                | 56/100 [04:29<03:20,  4.56s/it]\u001b[A\n",
      " 57%|██████████████████████████████████████████████████████████████▏                                              | 57/100 [04:35<03:36,  5.04s/it]\u001b[A\n",
      " 58%|███████████████████████████████████████████████████████████████▏                                             | 58/100 [04:38<03:07,  4.46s/it]\u001b[A\n",
      " 59%|████████████████████████████████████████████████████████████████▎                                            | 59/100 [04:43<03:11,  4.66s/it]\u001b[A\n",
      " 60%|█████████████████████████████████████████████████████████████████▍                                           | 60/100 [04:47<03:00,  4.50s/it]\u001b[A\n",
      " 61%|██████████████████████████████████████████████████████████████████▍                                          | 61/100 [04:52<03:02,  4.69s/it]\u001b[A\n",
      " 62%|███████████████████████████████████████████████████████████████████▌                                         | 62/100 [04:57<02:51,  4.52s/it]\u001b[A\n",
      " 63%|████████████████████████████████████████████████████████████████████▋                                        | 63/100 [05:01<02:43,  4.41s/it]\u001b[A\n",
      " 64%|█████████████████████████████████████████████████████████████████████▊                                       | 64/100 [05:06<02:46,  4.63s/it]\u001b[A\n",
      " 65%|██████████████████████████████████████████████████████████████████████▊                                      | 65/100 [05:11<02:47,  4.78s/it]\u001b[A\n",
      " 66%|███████████████████████████████████████████████████████████████████████▉                                     | 66/100 [05:16<02:46,  4.90s/it]\u001b[A\n",
      " 67%|█████████████████████████████████████████████████████████████████████████                                    | 67/100 [05:22<02:53,  5.27s/it]\u001b[A\n",
      " 68%|██████████████████████████████████████████████████████████████████████████                                   | 68/100 [05:28<02:56,  5.53s/it]\u001b[A\n",
      " 69%|███████████████████████████████████████████████████████████████████████████▏                                 | 69/100 [05:32<02:29,  4.81s/it]\u001b[A\n",
      " 70%|████████████████████████████████████████████████████████████████████████████▎                                | 70/100 [05:36<02:18,  4.61s/it]\u001b[A\n",
      " 71%|█████████████████████████████████████████████████████████████████████████████▍                               | 71/100 [05:42<02:26,  5.07s/it]\u001b[A\n",
      " 72%|██████████████████████████████████████████████████████████████████████████████▍                              | 72/100 [05:47<02:22,  5.09s/it]\u001b[A\n",
      " 73%|███████████████████████████████████████████████████████████████████████████████▌                             | 73/100 [05:50<02:01,  4.52s/it]\u001b[A\n",
      " 74%|████████████████████████████████████████████████████████████████████████████████▋                            | 74/100 [05:56<02:10,  5.00s/it]\u001b[A\n",
      " 75%|█████████████████████████████████████████████████████████████████████████████████▊                           | 75/100 [06:00<01:58,  4.74s/it]\u001b[A\n",
      " 76%|██████████████████████████████████████████████████████████████████████████████████▊                          | 76/100 [06:06<01:56,  4.86s/it]\u001b[A\n",
      " 77%|███████████████████████████████████████████████████████████████████████████████████▉                         | 77/100 [06:09<01:39,  4.34s/it]\u001b[A\n",
      " 78%|█████████████████████████████████████████████████████████████████████████████████████                        | 78/100 [06:14<01:40,  4.58s/it]\u001b[A\n",
      " 79%|██████████████████████████████████████████████████████████████████████████████████████                       | 79/100 [06:20<01:45,  5.05s/it]\u001b[A\n",
      " 80%|███████████████████████████████████████████████████████████████████████████████████████▏                     | 80/100 [06:26<01:47,  5.37s/it]\u001b[A\n",
      " 81%|████████████████████████████████████████████████████████████████████████████████████████▎                    | 81/100 [06:32<01:46,  5.60s/it]\u001b[A\n",
      " 82%|█████████████████████████████████████████████████████████████████████████████████████████▍                   | 82/100 [06:35<01:27,  4.86s/it]\u001b[A\n",
      " 83%|██████████████████████████████████████████████████████████████████████████████████████████▍                  | 83/100 [06:42<01:29,  5.25s/it]\u001b[A\n",
      " 84%|███████████████████████████████████████████████████████████████████████████████████████████▌                 | 84/100 [06:46<01:18,  4.92s/it]\u001b[A\n",
      " 85%|████████████████████████████████████████████████████████████████████████████████████████████▋                | 85/100 [06:50<01:10,  4.68s/it]\u001b[A\n",
      " 86%|█████████████████████████████████████████████████████████████████████████████████████████████▋               | 86/100 [06:55<01:07,  4.82s/it]\u001b[A\n",
      " 87%|██████████████████████████████████████████████████████████████████████████████████████████████▊              | 87/100 [07:07<01:03,  4.92s/it]\u001b[A\n",
      "  0%|                                                                                                      | 11/19657 [14:44<837:25:53, 153.45s/it]"
     ]
    },
    {
     "name": "stdout",
     "output_type": "stream",
     "text": [
      "Error: unsupported format character ''' (0x27) at index %Id\n",
      "2022-10-07 17:26:47.125456  :  0\n",
      "1721\n"
     ]
    },
    {
     "name": "stderr",
     "output_type": "stream",
     "text": [
      "\n",
      "  0%|                                                                                                                      | 0/100 [00:00<?, ?it/s]\u001b[A\n",
      "  1%|█                                                                                                             | 1/100 [00:05<08:22,  5.08s/it]\u001b[A\n",
      "  2%|██▏                                                                                                           | 2/100 [00:09<07:21,  4.51s/it]\u001b[A\n",
      "  3%|███▎                                                                                                          | 3/100 [00:15<08:28,  5.24s/it]\u001b[A\n",
      "  4%|████▍                                                                                                         | 4/100 [00:21<08:55,  5.58s/it]\u001b[A\n",
      "  5%|█████▌                                                                                                        | 5/100 [00:24<07:25,  4.69s/it]\u001b[A\n",
      "  6%|██████▌                                                                                                       | 6/100 [00:28<07:01,  4.49s/it]\u001b[A\n",
      "  7%|███████▋                                                                                                      | 7/100 [00:32<06:45,  4.36s/it]\u001b[A\n",
      "  8%|████████▊                                                                                                     | 8/100 [00:36<06:34,  4.28s/it]\u001b[A\n",
      "  9%|█████████▉                                                                                                    | 9/100 [00:44<07:24,  4.89s/it]\u001b[A\n",
      "  0%|                                                                                                      | 12/19657 [15:29<657:32:55, 120.50s/it]"
     ]
    },
    {
     "name": "stdout",
     "output_type": "stream",
     "text": [
      "2022-10-07 17:27:32.243597  :  0\n",
      "176\n"
     ]
    },
    {
     "name": "stderr",
     "output_type": "stream",
     "text": [
      "\n",
      "  0%|                                                                                                                      | 0/100 [00:00<?, ?it/s]\u001b[A\n",
      "  1%|█                                                                                                             | 1/100 [00:05<08:25,  5.11s/it]\u001b[A\n",
      "  2%|██▏                                                                                                           | 2/100 [00:11<09:20,  5.72s/it]\u001b[A\n",
      "  3%|███▎                                                                                                          | 3/100 [00:16<08:47,  5.43s/it]\u001b[A\n",
      "  4%|████▍                                                                                                         | 4/100 [00:22<09:06,  5.70s/it]\u001b[A\n",
      "  5%|█████▌                                                                                                        | 5/100 [00:25<07:32,  4.76s/it]\u001b[A\n",
      "  6%|██████▌                                                                                                       | 6/100 [00:31<08:10,  5.21s/it]\u001b[A\n",
      "  7%|███████▋                                                                                                      | 7/100 [00:34<07:01,  4.53s/it]\u001b[A\n",
      "  8%|████████▊                                                                                                     | 8/100 [00:39<07:13,  4.72s/it]\u001b[A\n",
      "  9%|█████████▉                                                                                                    | 9/100 [00:42<06:23,  4.21s/it]\u001b[A\n",
      " 10%|██████████▉                                                                                                  | 10/100 [00:49<07:11,  4.80s/it]\u001b[A\n",
      " 11%|███████████▉                                                                                                 | 11/100 [01:00<08:07,  5.48s/it]\u001b[A\n",
      "  0%|                                                                                                      | 13/19657 [16:31<559:51:01, 102.60s/it]"
     ]
    },
    {
     "name": "stdout",
     "output_type": "stream",
     "text": [
      "2022-10-07 17:28:33.660544  :  0\n",
      "205\n"
     ]
    },
    {
     "name": "stderr",
     "output_type": "stream",
     "text": [
      "\n",
      "  0%|                                                                                                                      | 0/100 [00:00<?, ?it/s]\u001b[A\n",
      "  1%|█                                                                                                             | 1/100 [00:05<08:24,  5.10s/it]\u001b[A\n",
      "  2%|██▏                                                                                                           | 2/100 [00:10<08:20,  5.11s/it]\u001b[A\n",
      "  3%|███▎                                                                                                          | 3/100 [00:14<07:35,  4.69s/it]\u001b[A\n",
      "  4%|████▍                                                                                                         | 4/100 [00:17<06:29,  4.06s/it]\u001b[A\n",
      "  5%|█████▌                                                                                                        | 5/100 [00:21<06:27,  4.08s/it]\u001b[A\n",
      "  6%|██████▌                                                                                                       | 6/100 [00:27<07:27,  4.76s/it]\u001b[A\n",
      "  7%|███████▋                                                                                                      | 7/100 [00:33<08:03,  5.20s/it]\u001b[A\n",
      "  8%|████████▊                                                                                                     | 8/100 [00:45<08:48,  5.75s/it]\u001b[A\n",
      "  0%|                                                                                                       | 14/19657 [17:18<468:19:53, 85.83s/it]"
     ]
    },
    {
     "name": "stdout",
     "output_type": "stream",
     "text": [
      "2022-10-07 17:29:20.741019  :  0\n",
      "150\n"
     ]
    },
    {
     "name": "stderr",
     "output_type": "stream",
     "text": [
      "\n",
      "  0%|                                                                                                                      | 0/100 [00:00<?, ?it/s]\u001b[A\n",
      "  1%|█                                                                                                             | 1/100 [00:05<08:25,  5.10s/it]\u001b[A\n",
      "  2%|██▏                                                                                                           | 2/100 [00:08<06:25,  3.93s/it]\u001b[A\n",
      "  3%|███▎                                                                                                          | 3/100 [00:13<07:12,  4.46s/it]\u001b[A\n",
      "  4%|████▍                                                                                                         | 4/100 [00:19<08:10,  5.11s/it]\u001b[A\n",
      "  5%|█████▌                                                                                                        | 5/100 [00:22<06:56,  4.39s/it]\u001b[A\n",
      "  6%|██████▌                                                                                                       | 6/100 [00:27<07:15,  4.63s/it]\u001b[A\n",
      "  7%|███████▋                                                                                                      | 7/100 [00:31<06:55,  4.46s/it]\u001b[A\n",
      "  8%|████████▊                                                                                                     | 8/100 [00:34<06:13,  4.06s/it]\u001b[A\n",
      "  9%|█████████▉                                                                                                    | 9/100 [00:39<06:10,  4.07s/it]\u001b[A\n",
      " 10%|██████████▉                                                                                                  | 10/100 [00:42<05:39,  3.78s/it]\u001b[A\n",
      " 11%|███████████▉                                                                                                 | 11/100 [00:46<05:45,  3.88s/it]\u001b[A\n",
      " 12%|█████████████                                                                                                | 12/100 [00:51<06:13,  4.25s/it]\u001b[A\n",
      " 13%|██████████████▏                                                                                              | 13/100 [00:57<06:58,  4.81s/it]\u001b[A\n",
      " 14%|███████████████▎                                                                                             | 14/100 [01:08<07:01,  4.90s/it]\u001b[A\n",
      "  0%|                                                                                                       | 15/19657 [18:28<441:51:39, 80.98s/it]"
     ]
    },
    {
     "name": "stdout",
     "output_type": "stream",
     "text": [
      "2022-10-07 17:30:30.482602  :  0\n",
      "273\n"
     ]
    },
    {
     "name": "stderr",
     "output_type": "stream",
     "text": [
      "\n",
      "  0%|                                                                                                                      | 0/100 [00:00<?, ?it/s]\u001b[A\n",
      "  1%|█                                                                                                             | 1/100 [00:05<08:25,  5.11s/it]\u001b[A\n",
      "  2%|██▏                                                                                                           | 2/100 [00:08<06:25,  3.94s/it]\u001b[A\n",
      "  3%|███▎                                                                                                          | 3/100 [00:14<07:57,  4.92s/it]\u001b[A\n",
      "  4%|████▍                                                                                                         | 4/100 [00:20<08:37,  5.39s/it]\u001b[A\n",
      "  5%|█████▌                                                                                                        | 5/100 [00:23<07:14,  4.57s/it]\u001b[A\n",
      "  6%|██████▌                                                                                                       | 6/100 [00:28<07:26,  4.75s/it]\u001b[A\n",
      "  7%|███████▋                                                                                                      | 7/100 [00:31<06:32,  4.22s/it]\u001b[A\n",
      "  8%|████████▊                                                                                                     | 8/100 [00:37<07:23,  4.82s/it]\u001b[A\n",
      "  9%|█████████▉                                                                                                    | 9/100 [00:40<06:29,  4.28s/it]\u001b[A\n",
      " 10%|██████████▉                                                                                                  | 10/100 [00:45<06:20,  4.23s/it]\u001b[A\n",
      " 11%|███████████▉                                                                                                 | 11/100 [00:49<06:13,  4.19s/it]\u001b[A\n",
      " 12%|█████████████                                                                                                | 12/100 [00:54<06:33,  4.47s/it]\u001b[A\n",
      " 13%|██████████████▏                                                                                              | 13/100 [00:59<06:46,  4.67s/it]\u001b[A\n",
      " 14%|███████████████▎                                                                                             | 14/100 [01:05<07:19,  5.10s/it]\u001b[A\n",
      " 15%|████████████████▎                                                                                            | 15/100 [01:11<07:39,  5.40s/it]\u001b[A\n",
      " 16%|█████████████████▍                                                                                           | 16/100 [01:18<06:53,  4.93s/it]\u001b[A\n",
      "  0%|                                                                                                       | 16/19657 [19:48<440:25:15, 80.72s/it]"
     ]
    },
    {
     "name": "stdout",
     "output_type": "stream",
     "text": [
      "2022-10-07 17:31:50.619722  :  0\n",
      "312\n"
     ]
    },
    {
     "name": "stderr",
     "output_type": "stream",
     "text": [
      "\n",
      "  0%|                                                                                                                      | 0/100 [00:00<?, ?it/s]\u001b[A\n",
      "  1%|█                                                                                                             | 1/100 [00:03<05:08,  3.12s/it]\u001b[A\n",
      "  2%|██▏                                                                                                           | 2/100 [00:06<05:04,  3.11s/it]\u001b[A\n",
      "  3%|███▎                                                                                                          | 3/100 [00:11<06:30,  4.02s/it]\u001b[A\n",
      "  4%|████▍                                                                                                         | 4/100 [00:15<06:31,  4.08s/it]\u001b[A\n",
      "  5%|█████▌                                                                                                        | 5/100 [00:18<05:53,  3.72s/it]\u001b[A\n",
      "  6%|██████▌                                                                                                       | 6/100 [00:22<06:02,  3.86s/it]\u001b[A\n",
      "  7%|███████▋                                                                                                      | 7/100 [00:28<07:07,  4.59s/it]\u001b[A\n",
      "  8%|████████▊                                                                                                     | 8/100 [00:34<07:47,  5.08s/it]\u001b[A\n",
      "  9%|█████████▉                                                                                                    | 9/100 [00:38<06:45,  4.46s/it]\u001b[A\n",
      " 10%|██████████▉                                                                                                  | 10/100 [00:44<07:27,  4.97s/it]\u001b[A\n",
      " 11%|███████████▉                                                                                                 | 11/100 [00:50<07:53,  5.32s/it]\u001b[A\n",
      " 12%|█████████████                                                                                                | 12/100 [00:53<06:48,  4.64s/it]\u001b[A\n",
      " 13%|██████████████▏                                                                                              | 13/100 [00:56<06:03,  4.18s/it]\u001b[A\n",
      " 14%|███████████████▎                                                                                             | 14/100 [00:59<05:31,  3.85s/it]\u001b[A\n",
      " 15%|████████████████▎                                                                                            | 15/100 [01:02<05:08,  3.63s/it]\u001b[A\n",
      " 16%|█████████████████▍                                                                                           | 16/100 [01:13<06:27,  4.62s/it]\u001b[A\n",
      "  0%|                                                                                                       | 17/19657 [21:02<429:22:57, 78.71s/it]"
     ]
    },
    {
     "name": "stdout",
     "output_type": "stream",
     "text": [
      "Error: unsupported format character ''' (0x27) at index %Id\n",
      "2022-10-07 17:33:04.629387  :  0\n",
      "313\n"
     ]
    },
    {
     "name": "stderr",
     "output_type": "stream",
     "text": [
      "\n",
      "  0%|                                                                                                                      | 0/100 [00:00<?, ?it/s]\u001b[A\n",
      "  1%|█                                                                                                             | 1/100 [00:03<05:07,  3.10s/it]\u001b[A\n",
      "  2%|██▏                                                                                                           | 2/100 [00:06<05:04,  3.11s/it]\u001b[A\n",
      "  3%|███▎                                                                                                          | 3/100 [00:15<08:19,  5.15s/it]\u001b[A\n",
      "  0%|                                                                                                       | 18/19657 [21:18<327:18:41, 60.00s/it]"
     ]
    },
    {
     "name": "stdout",
     "output_type": "stream",
     "text": [
      "2022-10-07 17:33:21.081487  :  0\n",
      "41\n"
     ]
    },
    {
     "name": "stderr",
     "output_type": "stream",
     "text": [
      "\n",
      "  0%|                                                                                                                      | 0/100 [00:00<?, ?it/s]\u001b[A\n",
      "  1%|█                                                                                                             | 1/100 [00:08<13:25,  8.13s/it]\u001b[A\n",
      "  0%|                                                                                                       | 19/19657 [21:27<244:01:31, 44.73s/it]"
     ]
    },
    {
     "name": "stdout",
     "output_type": "stream",
     "text": [
      "2022-10-07 17:33:30.255835  :  0\n",
      "5\n"
     ]
    },
    {
     "name": "stderr",
     "output_type": "stream",
     "text": [
      "\n",
      "  0%|                                                                                                                      | 0/100 [00:00<?, ?it/s]\u001b[A\n",
      "  1%|█                                                                                                             | 1/100 [00:06<10:03,  6.09s/it]\u001b[A\n",
      "  2%|██▏                                                                                                           | 2/100 [00:09<07:03,  4.32s/it]\u001b[A\n",
      "  3%|███▎                                                                                                          | 3/100 [00:15<08:18,  5.14s/it]\u001b[A\n",
      "  4%|████▍                                                                                                         | 4/100 [00:21<08:49,  5.51s/it]\u001b[A\n",
      "  5%|█████▌                                                                                                        | 5/100 [00:24<07:21,  4.65s/it]\u001b[A\n",
      "  6%|██████▌                                                                                                       | 6/100 [00:29<07:31,  4.80s/it]\u001b[A\n",
      "  7%|███████▋                                                                                                      | 7/100 [00:39<08:48,  5.68s/it]\u001b[A\n",
      "  0%|                                                                                                       | 20/19657 [22:08<237:38:05, 43.56s/it]"
     ]
    },
    {
     "name": "stdout",
     "output_type": "stream",
     "text": [
      "2022-10-07 17:34:11.095598  :  0\n",
      "138\n"
     ]
    },
    {
     "name": "stderr",
     "output_type": "stream",
     "text": [
      "\n",
      "  0%|                                                                                                                      | 0/100 [00:00<?, ?it/s]\u001b[A\n",
      "  1%|█                                                                                                             | 1/100 [00:05<08:24,  5.10s/it]\u001b[A\n",
      "  2%|██▏                                                                                                           | 2/100 [00:10<08:24,  5.14s/it]\u001b[A\n",
      "  3%|███▎                                                                                                          | 3/100 [00:14<07:33,  4.67s/it]\u001b[A\n",
      "  4%|████▍                                                                                                         | 4/100 [00:17<06:29,  4.06s/it]\u001b[A\n",
      "  5%|█████▌                                                                                                        | 5/100 [00:22<07:01,  4.43s/it]\u001b[A\n",
      "  6%|██████▌                                                                                                       | 6/100 [00:27<07:18,  4.66s/it]\u001b[A\n",
      "  7%|███████▋                                                                                                      | 7/100 [00:30<06:25,  4.15s/it]\u001b[A\n",
      "  8%|████████▊                                                                                                     | 8/100 [00:36<07:18,  4.77s/it]\u001b[A\n",
      "  9%|█████████▉                                                                                                    | 9/100 [00:42<07:51,  5.19s/it]\u001b[A\n",
      " 10%|██████████▉                                                                                                  | 10/100 [00:47<07:16,  4.86s/it]\u001b[A\n",
      " 11%|███████████▉                                                                                                 | 11/100 [00:50<06:24,  4.32s/it]\u001b[A\n",
      " 12%|█████████████                                                                                                | 12/100 [00:53<05:47,  3.94s/it]\u001b[A\n",
      " 13%|██████████████▏                                                                                              | 13/100 [00:59<06:40,  4.60s/it]\u001b[A\n",
      " 14%|███████████████▎                                                                                             | 14/100 [01:02<05:56,  4.14s/it]\u001b[A\n",
      " 15%|████████████████▎                                                                                            | 15/100 [01:05<05:25,  3.83s/it]\u001b[A\n",
      " 16%|█████████████████▍                                                                                           | 16/100 [01:08<05:03,  3.61s/it]\u001b[A\n",
      " 17%|██████████████████▌                                                                                          | 17/100 [01:12<05:12,  3.76s/it]\u001b[A\n",
      " 18%|███████████████████▌                                                                                         | 18/100 [01:16<05:17,  3.88s/it]\u001b[A\n",
      " 19%|████████████████████▋                                                                                        | 19/100 [01:23<06:08,  4.54s/it]\u001b[A\n",
      " 20%|█████████████████████▊                                                                                       | 20/100 [01:29<06:41,  5.01s/it]\u001b[A\n",
      " 21%|██████████████████████▉                                                                                      | 21/100 [01:33<06:14,  4.73s/it]\u001b[A\n",
      " 22%|███████████████████████▉                                                                                     | 22/100 [01:37<05:55,  4.55s/it]\u001b[A\n",
      " 23%|█████████████████████████                                                                                    | 23/100 [01:44<05:50,  4.55s/it]\u001b[A\n",
      "  0%|                                                                                                       | 21/19657 [23:54<339:25:11, 62.23s/it]"
     ]
    },
    {
     "name": "stdout",
     "output_type": "stream",
     "text": [
      "2022-10-07 17:35:56.836303  :  0\n",
      "446\n"
     ]
    },
    {
     "name": "stderr",
     "output_type": "stream",
     "text": [
      "\n",
      "  0%|                                                                                                                      | 0/100 [00:00<?, ?it/s]\u001b[A\n",
      "  1%|█                                                                                                             | 1/100 [00:05<08:25,  5.10s/it]\u001b[A\n",
      "  2%|██▏                                                                                                           | 2/100 [00:08<06:23,  3.91s/it]\u001b[A\n",
      "  3%|███▎                                                                                                          | 3/100 [00:14<07:57,  4.92s/it]\u001b[A\n",
      "  4%|████▍                                                                                                         | 4/100 [00:19<07:59,  4.99s/it]\u001b[A\n",
      "  5%|█████▌                                                                                                        | 5/100 [00:24<07:58,  5.04s/it]\u001b[A\n",
      "  6%|██████▌                                                                                                       | 6/100 [00:27<06:51,  4.38s/it]\u001b[A\n",
      "  7%|███████▋                                                                                                      | 7/100 [00:33<07:40,  4.95s/it]\u001b[A\n",
      "  8%|████████▊                                                                                                     | 8/100 [00:38<07:39,  4.99s/it]\u001b[A\n",
      "  9%|█████████▉                                                                                                    | 9/100 [00:43<07:36,  5.02s/it]\u001b[A\n",
      " 10%|██████████▉                                                                                                  | 10/100 [00:47<06:39,  4.43s/it]\u001b[A\n",
      " 11%|███████████▉                                                                                                 | 11/100 [00:52<06:52,  4.64s/it]\u001b[A\n",
      " 12%|█████████████                                                                                                | 12/100 [00:57<07:00,  4.78s/it]\u001b[A\n",
      " 13%|██████████████▏                                                                                              | 13/100 [01:07<07:31,  5.18s/it]\u001b[A\n",
      "  0%|                                                                                                       | 22/19657 [25:03<349:57:25, 64.16s/it]"
     ]
    },
    {
     "name": "stdout",
     "output_type": "stream",
     "text": [
      "2022-10-07 17:37:05.511300  :  0\n",
      "250\n"
     ]
    },
    {
     "name": "stderr",
     "output_type": "stream",
     "text": [
      "\n",
      "  0%|                                                                                                                      | 0/100 [00:00<?, ?it/s]\u001b[A\n",
      "  1%|█                                                                                                             | 1/100 [00:09<15:06,  9.16s/it]\u001b[A\n",
      "  0%|                                                                                                       | 23/19657 [25:13<261:30:35, 47.95s/it]"
     ]
    },
    {
     "name": "stdout",
     "output_type": "stream",
     "text": [
      "2022-10-07 17:37:15.642666  :  0\n",
      "17\n"
     ]
    },
    {
     "name": "stderr",
     "output_type": "stream",
     "text": [
      "\n",
      "  0%|                                                                                                                      | 0/100 [00:00<?, ?it/s]\u001b[A\n",
      "  1%|█                                                                                                             | 1/100 [00:06<10:01,  6.08s/it]\u001b[A\n",
      "  2%|██▏                                                                                                           | 2/100 [00:10<08:02,  4.93s/it]\u001b[A\n",
      "  3%|███▎                                                                                                          | 3/100 [00:21<11:30,  7.12s/it]\u001b[A\n",
      "  0%|▏                                                                                                      | 24/19657 [25:35<219:42:20, 40.29s/it]"
     ]
    },
    {
     "name": "stdout",
     "output_type": "stream",
     "text": [
      "2022-10-07 17:37:38.054625  :  0\n",
      "57\n"
     ]
    },
    {
     "name": "stderr",
     "output_type": "stream",
     "text": [
      "\n",
      "  0%|                                                                                                                      | 0/100 [00:00<?, ?it/s]\u001b[A\n",
      "  1%|█                                                                                                             | 1/100 [00:05<08:31,  5.16s/it]\u001b[A\n",
      "  2%|██▏                                                                                                           | 2/100 [00:11<09:21,  5.73s/it]\u001b[A\n",
      "  3%|███▎                                                                                                          | 3/100 [00:15<08:02,  4.97s/it]\u001b[A\n",
      "  4%|████▍                                                                                                         | 4/100 [00:19<07:24,  4.63s/it]\u001b[A\n",
      "  5%|█████▌                                                                                                        | 5/100 [00:29<09:23,  5.93s/it]\u001b[A\n",
      "  0%|▏                                                                                                      | 25/19657 [26:06<204:00:01, 37.41s/it]"
     ]
    },
    {
     "name": "stdout",
     "output_type": "stream",
     "text": [
      "2022-10-07 17:38:08.749326  :  0\n",
      "93\n"
     ]
    },
    {
     "name": "stderr",
     "output_type": "stream",
     "text": [
      "\n",
      "  0%|                                                                                                                      | 0/100 [00:00<?, ?it/s]\u001b[A\n",
      "  1%|█                                                                                                             | 1/100 [00:09<15:07,  9.17s/it]\u001b[A\n",
      "  0%|▏                                                                                                      | 26/19657 [26:16<159:28:39, 29.25s/it]"
     ]
    },
    {
     "name": "stdout",
     "output_type": "stream",
     "text": [
      "2022-10-07 17:38:18.950701  :  0\n",
      "12\n"
     ]
    },
    {
     "name": "stderr",
     "output_type": "stream",
     "text": [
      "\n",
      "  0%|                                                                                                                      | 0/100 [00:00<?, ?it/s]\u001b[A\n",
      "  1%|█                                                                                                             | 1/100 [00:10<16:45, 10.15s/it]\u001b[A\n",
      "  0%|▏                                                                                                      | 27/19657 [26:27<129:45:00, 23.80s/it]"
     ]
    },
    {
     "name": "stdout",
     "output_type": "stream",
     "text": [
      "2022-10-07 17:38:30.029712  :  0\n",
      "1\n"
     ]
    },
    {
     "name": "stderr",
     "output_type": "stream",
     "text": [
      "\n",
      "  0%|                                                                                                                      | 0/100 [00:00<?, ?it/s]\u001b[A\n",
      "  1%|█                                                                                                             | 1/100 [00:08<13:27,  8.16s/it]\u001b[A\n",
      "  0%|▏                                                                                                      | 28/19657 [26:36<105:50:45, 19.41s/it]"
     ]
    },
    {
     "name": "stdout",
     "output_type": "stream",
     "text": [
      "2022-10-07 17:38:39.216186  :  0\n",
      "17\n"
     ]
    },
    {
     "name": "stderr",
     "output_type": "stream",
     "text": [
      "\n",
      "  0%|                                                                                                                      | 0/100 [00:00<?, ?it/s]\u001b[A\n",
      "  1%|█                                                                                                             | 1/100 [00:04<06:45,  4.09s/it]\u001b[A\n",
      "  2%|██▏                                                                                                           | 2/100 [00:07<05:42,  3.50s/it]\u001b[A\n",
      "  3%|███▎                                                                                                          | 3/100 [00:11<06:09,  3.81s/it]\u001b[A\n",
      "  4%|████▍                                                                                                         | 4/100 [00:14<05:39,  3.54s/it]\u001b[A\n",
      "  5%|█████▌                                                                                                        | 5/100 [00:18<05:55,  3.74s/it]\u001b[A\n",
      "  6%|██████▌                                                                                                       | 6/100 [00:30<08:01,  5.12s/it]\u001b[A\n",
      "  0%|▏                                                                                                      | 29/19657 [27:08<126:00:35, 23.11s/it]"
     ]
    },
    {
     "name": "stdout",
     "output_type": "stream",
     "text": [
      "2022-10-07 17:39:10.958970  :  0\n",
      "108\n"
     ]
    },
    {
     "name": "stderr",
     "output_type": "stream",
     "text": [
      "\n",
      "  0%|                                                                                                                      | 0/100 [00:00<?, ?it/s]\u001b[A\n",
      "  1%|█                                                                                                             | 1/100 [00:04<06:44,  4.08s/it]\u001b[A\n",
      "  2%|██▏                                                                                                           | 2/100 [00:15<12:26,  7.62s/it]\u001b[A\n",
      "  0%|▏                                                                                                      | 30/19657 [27:24<114:45:03, 21.05s/it]"
     ]
    },
    {
     "name": "stdout",
     "output_type": "stream",
     "text": [
      "2022-10-07 17:39:27.190025  :  0\n",
      "27\n"
     ]
    },
    {
     "name": "stderr",
     "output_type": "stream",
     "text": [
      "\n",
      "  0%|                                                                                                                      | 0/100 [00:00<?, ?it/s]\u001b[A\n",
      "  1%|█                                                                                                             | 1/100 [00:08<13:25,  8.14s/it]\u001b[A\n",
      "  0%|▏                                                                                                       | 31/19657 [27:33<95:02:50, 17.43s/it]"
     ]
    },
    {
     "name": "stdout",
     "output_type": "stream",
     "text": [
      "2022-10-07 17:39:36.192893  :  0\n",
      "1\n"
     ]
    },
    {
     "name": "stderr",
     "output_type": "stream",
     "text": [
      "\n",
      "  0%|                                                                                                                      | 0/100 [00:03<?, ?it/s]\u001b[A\n",
      "  0%|▏                                                                                                       | 32/19657 [27:36<71:33:35, 13.13s/it]\n",
      "  0%|                                                                                                                      | 0/100 [00:04<?, ?it/s]\u001b[A\n",
      "  0%|▏                                                                                                       | 33/19657 [27:40<56:45:21, 10.41s/it]\n",
      "  0%|                                                                                                                      | 0/100 [00:05<?, ?it/s]\u001b[A\n",
      "  0%|▏                                                                                                       | 34/19657 [27:45<48:02:45,  8.81s/it]\n",
      "  0%|                                                                                                                      | 0/100 [00:00<?, ?it/s]\u001b[A\n",
      "  1%|█                                                                                                             | 1/100 [00:08<13:37,  8.26s/it]\u001b[A\n",
      "  0%|▏                                                                                                       | 35/19657 [27:55<49:04:40,  9.00s/it]"
     ]
    },
    {
     "name": "stdout",
     "output_type": "stream",
     "text": [
      "2022-10-07 17:39:57.881736  :  0\n",
      "2\n"
     ]
    },
    {
     "name": "stderr",
     "output_type": "stream",
     "text": [
      "\n",
      "  0%|                                                                                                                      | 0/100 [00:00<?, ?it/s]\u001b[A\n",
      "  1%|█                                                                                                             | 1/100 [00:10<16:43, 10.14s/it]\u001b[A\n",
      "  0%|▏                                                                                                       | 36/19657 [28:06<52:25:26,  9.62s/it]"
     ]
    },
    {
     "name": "stdout",
     "output_type": "stream",
     "text": [
      "2022-10-07 17:40:08.933910  :  0\n",
      "1\n"
     ]
    },
    {
     "name": "stderr",
     "output_type": "stream",
     "text": [
      "\n",
      "  0%|                                                                                                                      | 0/100 [00:00<?, ?it/s]\u001b[A\n",
      "  1%|█                                                                                                             | 1/100 [00:08<13:24,  8.13s/it]\u001b[A\n",
      "  0%|▏                                                                                                       | 37/19657 [28:15<51:35:21,  9.47s/it]"
     ]
    },
    {
     "name": "stdout",
     "output_type": "stream",
     "text": [
      "2022-10-07 17:40:18.043725  :  0\n",
      "4\n"
     ]
    },
    {
     "name": "stderr",
     "output_type": "stream",
     "text": [
      "\n",
      "  0%|                                                                                                                      | 0/100 [00:04<?, ?it/s]\u001b[A\n",
      "  0%|▏                                                                                                       | 38/19657 [28:19<42:47:28,  7.85s/it]\n",
      "  0%|                                                                                                                      | 0/100 [00:04<?, ?it/s]\u001b[A\n",
      "  0%|▏                                                                                                       | 39/19657 [28:23<36:37:56,  6.72s/it]\n",
      "  0%|                                                                                                                      | 0/100 [00:04<?, ?it/s]\u001b[A\n",
      "  0%|▏                                                                                                       | 40/19657 [28:27<32:17:57,  5.93s/it]\n",
      "  0%|                                                                                                                      | 0/100 [00:00<?, ?it/s]\u001b[A\n",
      "  1%|█                                                                                                             | 1/100 [00:06<10:04,  6.11s/it]\u001b[A\n",
      "  0%|▏                                                                                                       | 41/19657 [28:34<34:12:38,  6.28s/it]"
     ]
    },
    {
     "name": "stdout",
     "output_type": "stream",
     "text": [
      "2022-10-07 17:40:37.386366  :  0\n",
      "4\n"
     ]
    },
    {
     "name": "stderr",
     "output_type": "stream",
     "text": [
      "\n",
      "  0%|                                                                                                                      | 0/100 [00:00<?, ?it/s]\u001b[A\n",
      "  1%|█                                                                                                             | 1/100 [00:10<16:46, 10.17s/it]\u001b[A\n",
      "  0%|▏                                                                                                       | 42/19657 [28:46<42:15:28,  7.76s/it]"
     ]
    },
    {
     "name": "stdout",
     "output_type": "stream",
     "text": [
      "2022-10-07 17:40:48.589036  :  0\n",
      "7\n"
     ]
    },
    {
     "name": "stderr",
     "output_type": "stream",
     "text": [
      "\n",
      "  0%|                                                                                                                      | 0/100 [00:00<?, ?it/s]\u001b[A\n",
      "  1%|█                                                                                                             | 1/100 [00:10<16:41, 10.12s/it]\u001b[A\n",
      "  0%|▏                                                                                                       | 43/19657 [28:57<47:43:05,  8.76s/it]"
     ]
    },
    {
     "name": "stdout",
     "output_type": "stream",
     "text": [
      "2022-10-07 17:40:59.684690  :  0\n",
      "4\n"
     ]
    },
    {
     "name": "stderr",
     "output_type": "stream",
     "text": [
      "\n",
      "  0%|                                                                                                                      | 0/100 [00:04<?, ?it/s]\u001b[A\n",
      "  0%|▏                                                                                                       | 44/19657 [29:01<40:05:46,  7.36s/it]\n",
      "  0%|                                                                                                                      | 0/100 [00:00<?, ?it/s]\u001b[A\n",
      "  1%|█                                                                                                             | 1/100 [00:04<06:44,  4.09s/it]\u001b[A\n",
      "  2%|██▏                                                                                                           | 2/100 [00:11<09:09,  5.61s/it]\u001b[A\n",
      "  0%|▏                                                                                                      | 44/19657 [29:12<216:59:58, 39.83s/it]\n"
     ]
    },
    {
     "ename": "KeyboardInterrupt",
     "evalue": "",
     "output_type": "error",
     "traceback": [
      "\u001b[1;31m---------------------------------------------------------------------------\u001b[0m",
      "\u001b[1;31mKeyboardInterrupt\u001b[0m                         Traceback (most recent call last)",
      "Input \u001b[1;32mIn [35]\u001b[0m, in \u001b[0;36m<cell line: 7>\u001b[1;34m()\u001b[0m\n\u001b[0;32m     16\u001b[0m url \u001b[38;5;241m=\u001b[39m \u001b[38;5;124m'\u001b[39m\u001b[38;5;124mhttps://m.land.naver.com/cluster/ajax/articleList?itemId=&mapKey=&lgeo=&showR0=&rletTpCd=SG&tradTpCd=A1\u001b[39m\u001b[38;5;124m%\u001b[39m\u001b[38;5;124m3AB1\u001b[39m\u001b[38;5;124m%\u001b[39m\u001b[38;5;124m3AB2&z=14&totCnt=402&cortarNo=\u001b[39m\u001b[38;5;132;01m{}\u001b[39;00m\u001b[38;5;124m&sort=rank&page=\u001b[39m\u001b[38;5;132;01m{}\u001b[39;00m\u001b[38;5;124m'\u001b[39m\u001b[38;5;241m.\u001b[39mformat(lawd_cd_unique[i],\u001b[38;5;28mstr\u001b[39m(page\u001b[38;5;241m+\u001b[39m\u001b[38;5;241m1\u001b[39m))\n\u001b[0;32m     17\u001b[0m headers \u001b[38;5;241m=\u001b[39m {\u001b[38;5;124m'\u001b[39m\u001b[38;5;124muser-agent\u001b[39m\u001b[38;5;124m'\u001b[39m : ua\u001b[38;5;241m.\u001b[39mie,\u001b[38;5;124m'\u001b[39m\u001b[38;5;124mreferer\u001b[39m\u001b[38;5;124m'\u001b[39m : \u001b[38;5;124m'\u001b[39m\u001b[38;5;124mhttps://m.land.naver.com/\u001b[39m\u001b[38;5;124m'\u001b[39m}\n\u001b[1;32m---> 18\u001b[0m \u001b[43mtime\u001b[49m\u001b[38;5;241;43m.\u001b[39;49m\u001b[43msleep\u001b[49m\u001b[43m(\u001b[49m\u001b[43mrandom\u001b[49m\u001b[38;5;241;43m.\u001b[39;49m\u001b[43mrandrange\u001b[49m\u001b[43m(\u001b[49m\u001b[38;5;241;43m3\u001b[39;49m\u001b[43m,\u001b[49m\u001b[38;5;241;43m7\u001b[39;49m\u001b[43m)\u001b[49m\u001b[43m)\u001b[49m\n\u001b[0;32m     19\u001b[0m response \u001b[38;5;241m=\u001b[39m requests\u001b[38;5;241m.\u001b[39mget(url, headers \u001b[38;5;241m=\u001b[39m headers)\n\u001b[0;32m     21\u001b[0m \u001b[38;5;66;03m# body 태그 선택\u001b[39;00m\n",
      "\u001b[1;31mKeyboardInterrupt\u001b[0m: "
     ]
    }
   ],
   "source": [
    "### 2. 전월세 호가 수집\n",
    "# 변수 생성\n",
    "fails = [] # 호가 데이터 없는 법정동\n",
    "noColIdx = [] # 컬럼명 다른 지역 따로 처리\n",
    "\n",
    "# json to dataframe\n",
    "for i in tqdm(range(672,20293)):\n",
    "    \n",
    "    # 36번째에서 막힘\n",
    "    if i % 30 == 0:\n",
    "        time.sleep(random.randrange(40,70))\n",
    "    \n",
    "    # 초기화\n",
    "    info_df = pd.DataFrame()\n",
    "\n",
    "    # 전체 페이지 수집\n",
    "    for page in tqdm(range(0,100)):\n",
    "\n",
    "        # url 호출\n",
    "        url = 'https://m.land.naver.com/cluster/ajax/articleList?itemId=&mapKey=&lgeo=&showR0=&rletTpCd=SG&tradTpCd=A1%3AB1%3AB2&z=14&totCnt=402&cortarNo={}&sort=rank&page={}'.format(lawd_cd_unique[i],str(page+1))\n",
    "        headers = {'user-agent' : ua.ie,'referer' : 'https://m.land.naver.com/'}\n",
    "        time.sleep(random.randrange(3,7))\n",
    "        response = requests.get(url, headers = headers)\n",
    "\n",
    "        # body 태그 선택\n",
    "        items = response.json()['body']\n",
    "\n",
    "        # 다음 페이지 존재 여부 확인\n",
    "        if (len(items) > 0):\n",
    "            try:\n",
    "                # 데이터프레임화\n",
    "                df = pd.DataFrame(items)\n",
    "                info_df = info_df.append(df)\n",
    "            except:\n",
    "                fails.append([i])\n",
    "        else:\n",
    "            break\n",
    "\n",
    "    # 받은 데이터 바로 적재 (언제 막힐지 모르니까 바로바로 적재)\n",
    "    if len(info_df) > 0:\n",
    "        \n",
    "        try:\n",
    "            # 컬럼 정리\n",
    "            info_df = info_df[['atclNo','cortarNo','atclNm','atclStatCd','rletTpCd','uprRletTpCd','rletTpNm','tradTpCd','tradTpNm','vrfcTpCd','flrInfo','prc','rentPrc','spc1','spc2','direction','atclCfmYmd','lat','lng','atclFetrDesc','cpid','cpNm','rltrNm']]\n",
    "            # NaN 처리\n",
    "            info_df = info_df.fillna(np.nan)\n",
    "            \n",
    "            ### 3. DB INSERT\n",
    "            df = info_df\n",
    "            table = 'm1.asking_price'\n",
    "\n",
    "            # execute_mogrify\n",
    "            def execute_mogrify(conn, df, table, val):\n",
    "                # Create a list of tuples from the dataframe values\n",
    "                tuples = [tuple(x) for x in df.to_numpy()]\n",
    "                # Comma-separated dataframe columns\n",
    "                cols = ','.join(list(df.columns))\n",
    "                # SQL query to execute\n",
    "                cursor = conn.cursor()\n",
    "                values = [cursor.mogrify(val, tup).decode('utf8') for tup in\n",
    "                          tuples]\n",
    "                query = \"INSERT INTO %s(%s) VALUES \" % (table, cols) + \",\".join(values)\n",
    "\n",
    "                try:\n",
    "                    cursor.execute(query, tuples)\n",
    "                    conn.commit()\n",
    "                except (Exception, psycopg2.DatabaseError) as error:\n",
    "                    print(\"Error: %s\" % error)\n",
    "                    conn.rollback()\n",
    "                    cursor.close()\n",
    "                    return 1\n",
    "                cursor.close()\n",
    "\n",
    "            # values 설정\n",
    "            val = '(' + ('%s,' * len(df.columns))[:-1] + ')'\n",
    "\n",
    "            # insert\n",
    "            for j in range(0, len(df), 10000):\n",
    "\n",
    "                # DB Connect\n",
    "                conn = psycopg2.connect(\n",
    "                    host='redshift-cluster-1.ctvbwnnvbdkl.ap-northeast-2.redshift.amazonaws.com',\n",
    "                    port=5439,\n",
    "                    dbname='dev',\n",
    "                    user='awsuser',\n",
    "                    password='cremaoAdmin1234qwer!!'\n",
    "                )\n",
    "\n",
    "                # 10000개 단위로 나누기\n",
    "                tmp = df[j:j + 10000]\n",
    "\n",
    "                # insert\n",
    "                execute_mogrify(conn, tmp, table, val)\n",
    "                print(datetime.datetime.now(), ' : ', j)\n",
    "                tmp = pd.DataFrame()\n",
    "\n",
    "            # row count\n",
    "            print(len(df))\n",
    "            \n",
    "        except:\n",
    "            noColIdx.append(i)"
   ]
  }
 ],
 "metadata": {
  "kernelspec": {
   "display_name": "oasis",
   "language": "python",
   "name": "oasis"
  },
  "language_info": {
   "codemirror_mode": {
    "name": "ipython",
    "version": 3
   },
   "file_extension": ".py",
   "mimetype": "text/x-python",
   "name": "python",
   "nbconvert_exporter": "python",
   "pygments_lexer": "ipython3",
   "version": "3.8.13"
  }
 },
 "nbformat": 4,
 "nbformat_minor": 5
}
