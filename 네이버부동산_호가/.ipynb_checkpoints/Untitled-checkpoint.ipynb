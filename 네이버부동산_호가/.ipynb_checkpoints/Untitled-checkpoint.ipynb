{
 "cells": [
  {
   "cell_type": "markdown",
   "id": "7c3df926-f1e6-4a5b-85ad-8e97da333d01",
   "metadata": {},
   "source": [
    "* csv ver"
   ]
  },
  {
   "cell_type": "code",
   "execution_count": 1,
   "id": "df3495c1-c604-446d-ab14-c12bcbba4ec9",
   "metadata": {
    "tags": []
   },
   "outputs": [],
   "source": [
    "# 임포트\n",
    "import json\n",
    "import time\n",
    "import random\n",
    "import requests\n",
    "import psycopg2\n",
    "import datetime\n",
    "import numpy  as np\n",
    "import pandas as pd\n",
    "from tqdm import tqdm\n",
    "from fake_useragent import UserAgent\n",
    "\n",
    "ua = UserAgent()\n",
    "\n",
    "### 1. 깃에서 법정동 CSV 파일 불러오기 (법정동코드 10자리)\n",
    "cortar = pd.read_csv('C:\\\\oasis\\\\oasisbusiness-ds\\\\oasisbusiness-ds\\\\1_데이터수집\\\\법정동코드전체.csv')\n",
    "cortar = cortar[cortar['폐지여부\\r\\n']=='존재\\r\\n'] # 존재하는 지역만 남기기\n",
    "lawd_cd_unique = cortar.drop_duplicates('법정동코드')['법정동코드'] # 법정동 코드만 담기 (총 20551개)"
   ]
  },
  {
   "cell_type": "code",
   "execution_count": null,
   "id": "c810607c-fcc2-495c-ba28-352b814ae6e9",
   "metadata": {
    "tags": []
   },
   "outputs": [
    {
     "name": "stderr",
     "output_type": "stream",
     "text": [
      "  0%|                                                                                                          | 2/5000 [00:17<12:16:36,  8.84s/it]"
     ]
    },
    {
     "name": "stdout",
     "output_type": "stream",
     "text": [
      "2022-10-06 18:55:44.312252  :  0\n",
      "20\n"
     ]
    },
    {
     "name": "stderr",
     "output_type": "stream",
     "text": [
      "  0%|                                                                                                          | 3/5000 [00:25<11:53:18,  8.56s/it]"
     ]
    },
    {
     "name": "stdout",
     "output_type": "stream",
     "text": [
      "2022-10-06 18:55:52.561799  :  0\n",
      "24\n"
     ]
    },
    {
     "name": "stderr",
     "output_type": "stream",
     "text": [
      "  0%|                                                                                                          | 4/5000 [00:35<12:49:24,  9.24s/it]"
     ]
    },
    {
     "name": "stdout",
     "output_type": "stream",
     "text": [
      "2022-10-06 18:56:02.837451  :  0\n",
      "24\n"
     ]
    },
    {
     "name": "stderr",
     "output_type": "stream",
     "text": [
      "  0%|                                                                                                          | 5/5000 [00:46<13:21:11,  9.62s/it]"
     ]
    },
    {
     "name": "stdout",
     "output_type": "stream",
     "text": [
      "2022-10-06 18:56:13.141571  :  0\n",
      "24\n"
     ]
    },
    {
     "name": "stderr",
     "output_type": "stream",
     "text": [
      "  0%|▏                                                                                                         | 6/5000 [00:55<13:10:24,  9.50s/it]"
     ]
    },
    {
     "name": "stdout",
     "output_type": "stream",
     "text": [
      "2022-10-06 18:56:22.389978  :  0\n",
      "24\n"
     ]
    },
    {
     "name": "stderr",
     "output_type": "stream",
     "text": [
      "  0%|▏                                                                                                         | 7/5000 [01:04<13:03:28,  9.41s/it]"
     ]
    },
    {
     "name": "stdout",
     "output_type": "stream",
     "text": [
      "2022-10-06 18:56:31.637186  :  0\n",
      "24\n"
     ]
    },
    {
     "name": "stderr",
     "output_type": "stream",
     "text": [
      "  0%|▏                                                                                                         | 8/5000 [01:10<11:37:29,  8.38s/it]"
     ]
    },
    {
     "name": "stdout",
     "output_type": "stream",
     "text": [
      "2022-10-06 18:56:37.812081  :  0\n",
      "25\n"
     ]
    },
    {
     "name": "stderr",
     "output_type": "stream",
     "text": [
      "  0%|▏                                                                                                         | 9/5000 [01:22<12:52:51,  9.29s/it]"
     ]
    },
    {
     "name": "stdout",
     "output_type": "stream",
     "text": [
      "2022-10-06 18:56:49.098872  :  0\n",
      "45\n"
     ]
    },
    {
     "name": "stderr",
     "output_type": "stream",
     "text": [
      "  0%|▏                                                                                                        | 10/5000 [01:35<14:37:28, 10.55s/it]"
     ]
    },
    {
     "name": "stdout",
     "output_type": "stream",
     "text": [
      "2022-10-06 18:57:02.470384  :  0\n",
      "54\n"
     ]
    },
    {
     "name": "stderr",
     "output_type": "stream",
     "text": [
      "  0%|▏                                                                                                        | 11/5000 [01:45<14:29:52, 10.46s/it]"
     ]
    },
    {
     "name": "stdout",
     "output_type": "stream",
     "text": [
      "2022-10-06 18:57:12.729266  :  0\n",
      "54\n"
     ]
    },
    {
     "name": "stderr",
     "output_type": "stream",
     "text": [
      "  0%|▎                                                                                                        | 12/5000 [01:53<13:09:19,  9.49s/it]"
     ]
    },
    {
     "name": "stdout",
     "output_type": "stream",
     "text": [
      "2022-10-06 18:57:20.013011  :  0\n",
      "63\n"
     ]
    },
    {
     "name": "stderr",
     "output_type": "stream",
     "text": [
      "  0%|▎                                                                                                        | 13/5000 [02:01<12:39:41,  9.14s/it]"
     ]
    },
    {
     "name": "stdout",
     "output_type": "stream",
     "text": [
      "2022-10-06 18:57:28.337155  :  0\n",
      "66\n"
     ]
    },
    {
     "name": "stderr",
     "output_type": "stream",
     "text": [
      "  0%|▎                                                                                                        | 14/5000 [02:08<11:52:02,  8.57s/it]"
     ]
    },
    {
     "name": "stdout",
     "output_type": "stream",
     "text": [
      "2022-10-06 18:57:35.583407  :  0\n",
      "76\n"
     ]
    },
    {
     "name": "stderr",
     "output_type": "stream",
     "text": [
      "  0%|▎                                                                                                        | 15/5000 [02:17<11:45:53,  8.50s/it]"
     ]
    },
    {
     "name": "stdout",
     "output_type": "stream",
     "text": [
      "2022-10-06 18:57:43.911057  :  0\n",
      "80\n"
     ]
    },
    {
     "name": "stderr",
     "output_type": "stream",
     "text": [
      "  0%|▎                                                                                                        | 16/5000 [02:23<10:44:46,  7.76s/it]"
     ]
    },
    {
     "name": "stdout",
     "output_type": "stream",
     "text": [
      "2022-10-06 18:57:49.970680  :  0\n",
      "87\n"
     ]
    },
    {
     "name": "stderr",
     "output_type": "stream",
     "text": [
      "  0%|▎                                                                                                        | 17/5000 [02:35<12:37:21,  9.12s/it]"
     ]
    },
    {
     "name": "stdout",
     "output_type": "stream",
     "text": [
      "2022-10-06 18:58:02.246361  :  0\n",
      "95\n"
     ]
    },
    {
     "name": "stderr",
     "output_type": "stream",
     "text": [
      "  0%|▍                                                                                                        | 18/5000 [02:46<13:32:21,  9.78s/it]"
     ]
    },
    {
     "name": "stdout",
     "output_type": "stream",
     "text": [
      "2022-10-06 18:58:13.575339  :  0\n",
      "115\n"
     ]
    },
    {
     "name": "stderr",
     "output_type": "stream",
     "text": [
      "  0%|▍                                                                                                        | 19/5000 [02:54<12:53:28,  9.32s/it]"
     ]
    },
    {
     "name": "stdout",
     "output_type": "stream",
     "text": [
      "2022-10-06 18:58:21.806575  :  0\n",
      "135\n"
     ]
    },
    {
     "name": "stderr",
     "output_type": "stream",
     "text": [
      "  0%|▍                                                                                                        | 20/5000 [03:00<11:08:15,  8.05s/it]"
     ]
    },
    {
     "name": "stdout",
     "output_type": "stream",
     "text": [
      "2022-10-06 18:58:26.907637  :  0\n",
      "155\n"
     ]
    },
    {
     "name": "stderr",
     "output_type": "stream",
     "text": [
      "  0%|▍                                                                                                        | 21/5000 [03:08<11:14:33,  8.13s/it]"
     ]
    },
    {
     "name": "stdout",
     "output_type": "stream",
     "text": [
      "2022-10-06 18:58:35.217727  :  0\n",
      "155\n"
     ]
    },
    {
     "name": "stderr",
     "output_type": "stream",
     "text": [
      "  0%|▍                                                                                                        | 22/5000 [03:17<11:41:34,  8.46s/it]"
     ]
    },
    {
     "name": "stdout",
     "output_type": "stream",
     "text": [
      "2022-10-06 18:58:44.435693  :  0\n",
      "175\n"
     ]
    },
    {
     "name": "stderr",
     "output_type": "stream",
     "text": [
      "  0%|▍                                                                                                        | 23/5000 [03:29<13:20:16,  9.65s/it]"
     ]
    },
    {
     "name": "stdout",
     "output_type": "stream",
     "text": [
      "2022-10-06 18:58:56.862883  :  0\n",
      "191\n"
     ]
    },
    {
     "name": "stderr",
     "output_type": "stream",
     "text": [
      "  0%|▌                                                                                                        | 24/5000 [03:40<13:36:13,  9.84s/it]"
     ]
    },
    {
     "name": "stdout",
     "output_type": "stream",
     "text": [
      "2022-10-06 18:59:07.158128  :  0\n",
      "211\n"
     ]
    },
    {
     "name": "stderr",
     "output_type": "stream",
     "text": [
      "  0%|▌                                                                                                        | 25/5000 [03:48<12:57:12,  9.37s/it]"
     ]
    },
    {
     "name": "stdout",
     "output_type": "stream",
     "text": [
      "2022-10-06 18:59:15.438099  :  0\n",
      "217\n"
     ]
    },
    {
     "name": "stderr",
     "output_type": "stream",
     "text": [
      "  1%|▌                                                                                                        | 26/5000 [03:58<13:21:47,  9.67s/it]"
     ]
    },
    {
     "name": "stdout",
     "output_type": "stream",
     "text": [
      "2022-10-06 18:59:25.807277  :  0\n",
      "237\n"
     ]
    },
    {
     "name": "stderr",
     "output_type": "stream",
     "text": [
      "  1%|▌                                                                                                        | 27/5000 [04:07<12:46:17,  9.25s/it]"
     ]
    },
    {
     "name": "stdout",
     "output_type": "stream",
     "text": [
      "2022-10-06 18:59:34.056243  :  0\n",
      "240\n"
     ]
    },
    {
     "name": "stderr",
     "output_type": "stream",
     "text": [
      "  1%|▌                                                                                                        | 28/5000 [04:19<14:01:17, 10.15s/it]"
     ]
    },
    {
     "name": "stdout",
     "output_type": "stream",
     "text": [
      "2022-10-06 18:59:46.325331  :  0\n",
      "260\n"
     ]
    },
    {
     "name": "stderr",
     "output_type": "stream",
     "text": [
      "  1%|▌                                                                                                        | 29/5000 [04:31<14:55:21, 10.81s/it]"
     ]
    },
    {
     "name": "stdout",
     "output_type": "stream",
     "text": [
      "2022-10-06 18:59:58.659660  :  0\n",
      "261\n"
     ]
    },
    {
     "name": "stderr",
     "output_type": "stream",
     "text": [
      "  1%|▋                                                                                                        | 30/5000 [04:41<14:25:38, 10.45s/it]"
     ]
    },
    {
     "name": "stdout",
     "output_type": "stream",
     "text": [
      "2022-10-06 19:00:08.279206  :  0\n",
      "281\n"
     ]
    },
    {
     "name": "stderr",
     "output_type": "stream",
     "text": [
      "  1%|▋                                                                                                        | 31/5000 [04:54<15:43:35, 11.39s/it]"
     ]
    },
    {
     "name": "stdout",
     "output_type": "stream",
     "text": [
      "2022-10-06 19:00:21.873725  :  0\n",
      "287\n"
     ]
    },
    {
     "name": "stderr",
     "output_type": "stream",
     "text": [
      "  1%|▋                                                                                                        | 32/5000 [05:04<15:01:42, 10.89s/it]"
     ]
    },
    {
     "name": "stdout",
     "output_type": "stream",
     "text": [
      "2022-10-06 19:00:31.587957  :  0\n",
      "292\n"
     ]
    },
    {
     "name": "stderr",
     "output_type": "stream",
     "text": [
      "  1%|▋                                                                                                        | 33/5000 [05:17<15:42:05, 11.38s/it]"
     ]
    },
    {
     "name": "stdout",
     "output_type": "stream",
     "text": [
      "2022-10-06 19:00:44.097082  :  0\n",
      "295\n"
     ]
    },
    {
     "name": "stderr",
     "output_type": "stream",
     "text": [
      "  1%|▋                                                                                                        | 34/5000 [05:26<14:53:18, 10.79s/it]"
     ]
    },
    {
     "name": "stdout",
     "output_type": "stream",
     "text": [
      "2022-10-06 19:00:53.534974  :  0\n",
      "302\n"
     ]
    },
    {
     "name": "stderr",
     "output_type": "stream",
     "text": [
      "  1%|▋                                                                                                        | 35/5000 [05:39<15:32:19, 11.27s/it]"
     ]
    },
    {
     "name": "stdout",
     "output_type": "stream",
     "text": [
      "2022-10-06 19:01:05.907768  :  0\n",
      "322\n"
     ]
    },
    {
     "name": "stderr",
     "output_type": "stream",
     "text": [
      "  1%|▊                                                                                                        | 36/5000 [05:47<14:25:34, 10.46s/it]"
     ]
    },
    {
     "name": "stdout",
     "output_type": "stream",
     "text": [
      "2022-10-06 19:01:14.492961  :  0\n",
      "327\n"
     ]
    },
    {
     "name": "stderr",
     "output_type": "stream",
     "text": [
      "  1%|▊                                                                                                        | 37/5000 [05:53<12:39:36,  9.18s/it]"
     ]
    },
    {
     "name": "stdout",
     "output_type": "stream",
     "text": [
      "2022-10-06 19:01:20.690988  :  0\n",
      "347\n"
     ]
    }
   ],
   "source": [
    "### 2. 전월세 호가 수집\n",
    "# 변수 생성\n",
    "fails = [] # 수집 안 된 법정동\n",
    "info_df = pd.DataFrame() # 최종 데이터프레임\n",
    "\n",
    "# json to dataframe (법정동 단위 수집)\n",
    "for i in tqdm(range(0,5000)):\n",
    "    \n",
    "    # url 설정\n",
    "    url = 'https://m.land.naver.com/cluster/ajax/articleList?itemId=&mapKey=&lgeo=&showR0=&rletTpCd=SG&tradTpCd=A1%3AB1%3AB2&z=14&totCnt=402&cortarNo={}&sort=rank'.format(lawd_cd_unique[i])\n",
    "      \n",
    "    try:\n",
    "        # url 호출\n",
    "        headers = {'user-agent' : ua.ie,'referer' : 'https://m.land.naver.com/'}\n",
    "        time.sleep(random.randrange(3,7))\n",
    "        response = requests.get(url, headers = headers)\n",
    "\n",
    "        # body 태그 선택\n",
    "        items = response.json()['body']\n",
    "\n",
    "        # 데이터프레임화\n",
    "        df = pd.DataFrame(items)\n",
    "        info_df = info_df.append(df)\n",
    "\n",
    "    except:\n",
    "        fails.append([i])\n",
    "    \n",
    "    # 받아온 바로 적재 (언제 막힐지 모르니까 바로바로 적재함)\n",
    "    if len(info_df) > 0:\n",
    "        \n",
    "        # 컬럼 정리\n",
    "        info_df = info_df[['atclNo','cortarNo','atclNm','atclStatCd','rletTpCd','uprRletTpCd','rletTpNm','tradTpCd','tradTpNm','vrfcTpCd','flrInfo','prc','rentPrc','spc1','spc2','direction','atclCfmYmd','lat','lng','atclFetrDesc','cpid','cpNm','rltrNm']]\n",
    "        # NaN 처리\n",
    "        info_df = info_df.fillna(np.nan)\n",
    "\n",
    "        ### 3. DB INSERT\n",
    "        df = info_df\n",
    "        table = 'm1.asking_price'\n",
    "\n",
    "        # execute_mogrify\n",
    "        def execute_mogrify(conn, df, table, val):\n",
    "            # Create a list of tuples from the dataframe values\n",
    "            tuples = [tuple(x) for x in df.to_numpy()]\n",
    "            # Comma-separated dataframe columns\n",
    "            cols = ','.join(list(df.columns))\n",
    "            # SQL query to execute\n",
    "            cursor = conn.cursor()\n",
    "            values = [cursor.mogrify(val, tup).decode('utf8') for tup in\n",
    "                      tuples]\n",
    "            query = \"INSERT INTO %s(%s) VALUES \" % (table, cols) + \",\".join(values)\n",
    "\n",
    "            try:\n",
    "                cursor.execute(query, tuples)\n",
    "                conn.commit()\n",
    "            except (Exception, psycopg2.DatabaseError) as error:\n",
    "                print(\"Error: %s\" % error)\n",
    "                conn.rollback()\n",
    "                cursor.close()\n",
    "                return 1\n",
    "            cursor.close()\n",
    "\n",
    "        # values 설정\n",
    "        val = '(' + ('%s,' * len(df.columns))[:-1] + ')'\n",
    "\n",
    "        # insert\n",
    "        for j in range(0, len(df), 10000):\n",
    "\n",
    "            # DB Connect\n",
    "            conn = psycopg2.connect(\n",
    "                host='redshift-cluster-1.ctvbwnnvbdkl.ap-northeast-2.redshift.amazonaws.com',\n",
    "                port=5439,\n",
    "                dbname='dev',\n",
    "                user='awsuser',\n",
    "                password='cremaoAdmin1234qwer!!'\n",
    "            )\n",
    "\n",
    "            # 10000개 단위로 나누기\n",
    "            tmp = df[j:j + 10000]\n",
    "\n",
    "            # insert\n",
    "            execute_mogrify(conn, tmp, table, val)\n",
    "            print(datetime.datetime.now(), ' : ', j)\n",
    "            tmp = pd.DataFrame()\n",
    "\n",
    "        # row count\n",
    "        print(len(df))"
   ]
  }
 ],
 "metadata": {
  "kernelspec": {
   "display_name": "oasis",
   "language": "python",
   "name": "oasis"
  },
  "language_info": {
   "codemirror_mode": {
    "name": "ipython",
    "version": 3
   },
   "file_extension": ".py",
   "mimetype": "text/x-python",
   "name": "python",
   "nbconvert_exporter": "python",
   "pygments_lexer": "ipython3",
   "version": "3.8.13"
  }
 },
 "nbformat": 4,
 "nbformat_minor": 5
}
