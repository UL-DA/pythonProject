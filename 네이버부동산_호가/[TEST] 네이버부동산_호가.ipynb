{
 "cells": [
  {
   "cell_type": "markdown",
   "id": "9f752754-4e48-4647-a3b5-ff2044a25af3",
   "metadata": {
    "tags": []
   },
   "source": [
    "### 최종"
   ]
  },
  {
   "cell_type": "code",
   "execution_count": null,
   "id": "bae3d547-3910-4de8-bd3b-b3a4a7b64617",
   "metadata": {},
   "outputs": [
    {
     "name": "stderr",
     "output_type": "stream",
     "text": [
      "  0%|                                                                                                                    | 0/20293 [00:00<?, ?it/s]"
     ]
    }
   ],
   "source": [
    "# 임포트\n",
    "import json\n",
    "import time\n",
    "import random\n",
    "import requests\n",
    "import psycopg2\n",
    "import datetime\n",
    "import numpy  as np\n",
    "import pandas as pd\n",
    "from tqdm import tqdm\n",
    "from fake_useragent import UserAgent\n",
    "\n",
    "ua = UserAgent()\n",
    "\n",
    "\n",
    "### 1. 법정동 API\n",
    "lawd_cd_df = pd.DataFrame()\n",
    "lawd_cd_list = []\n",
    "lawd_cd_unique = []\n",
    "\n",
    "for i in range(1, 22):\n",
    "    \n",
    "    url = 'http://apis.data.go.kr/1741000/StanReginCd/getStanReginCdList'\n",
    "    serviceKey = 'C94PKnigawlH2iISVWz1Itw9tVzyuOCbOvKgzCrGOUZWvs3XqrkhH+/ntypJ7kK2P2g16vLYCJif3TNfO1i1KA=='\n",
    "    params = {\n",
    "        'serviceKey' : serviceKey,\n",
    "        'pageNo' : str(i),\n",
    "        'numOfRows' : '1000',\n",
    "        'type' : 'json'\n",
    "    }\n",
    "    response = requests.get(url, params=params)\n",
    "    content = response.text\n",
    "    \n",
    "    # Json List 변환\n",
    "    lawd_cd_df = pd.DataFrame(pd.json_normalize(data = json.loads(content), record_path = 'StanReginCd')['row'][1])\n",
    "    lawd_cd_list = list(lawd_cd_df['locatjumin_cd'].str[:10])\n",
    "    \n",
    "    # 시군구코드 unique하게 남기기\n",
    "    for x in lawd_cd_list:\n",
    "        if x not in lawd_cd_unique:\n",
    "            lawd_cd_unique.append(x)\n",
    "\n",
    "# 시군구 단위 삭제 (법정동 단위만 남김 : 총 20,293개)\n",
    "matching = [s for s in lawd_cd_unique if \"00000\" in s]\n",
    "for s in lawd_cd_unique:\n",
    "    if s in matching:\n",
    "        lawd_cd_unique.remove(s)\n",
    "\n",
    "\n",
    "### 2. 전월세 호가 수집\n",
    "# 변수 생성\n",
    "fails = [] # 호가 데이터 없는 법정동\n",
    "noColIdx = [] # 컬럼명 다른 지역 따로 처리 (DB 저장은 됨)\n",
    "\n",
    "# json to dataframe\n",
    "for i in tqdm(range(len(lawd_cd_unique))):\n",
    "    \n",
    "    # 초기화\n",
    "    info_df = pd.DataFrame()\n",
    "\n",
    "    # 전체 페이지 수집\n",
    "    for page in range(0,100):\n",
    "\n",
    "        # url 호출\n",
    "        url = 'https://m.land.naver.com/cluster/ajax/articleList?itemId=&mapKey=&lgeo=&showR0=&rletTpCd=SG&tradTpCd=A1%3AB1%3AB2&z=14&totCnt=402&cortarNo={}&sort=rank&page={}'.format(lawd_cd_unique[i],str(page+1))\n",
    "        headers = {'user-agent' : ua.ie,'referer' : 'https://m.land.naver.com/'}\n",
    "        time.sleep(random.randrange(3,7))\n",
    "        response = requests.get(url, headers = headers)\n",
    "\n",
    "        # body 태그 선택\n",
    "        items = response.json()['body']\n",
    "\n",
    "        # 다음 페이지 존재 여부 확인\n",
    "        if (len(items) > 0):\n",
    "            try:\n",
    "                # 데이터프레임화\n",
    "                df = pd.DataFrame(items)\n",
    "                info_df = info_df.append(df)\n",
    "            except:\n",
    "                fails.append([i])\n",
    "        else:\n",
    "            break\n",
    "\n",
    "    # 받은 데이터 바로 적재 (언제 막힐지 모르니까 바로바로 적재)\n",
    "    if len(info_df) > 0:\n",
    "        \n",
    "        try:\n",
    "            # 컬럼 정리\n",
    "            info_df = info_df[['atclNo','cortarNo','atclNm','atclStatCd','rletTpCd','uprRletTpCd','rletTpNm','tradTpCd','tradTpNm','vrfcTpCd','flrInfo','prc','rentPrc','spc1','spc2','direction','atclCfmYmd','lat','lng','atclFetrDesc','cpid','cpNm','rltrNm']]\n",
    "            # NaN 처리\n",
    "            info_df = info_df.fillna(np.nan)\n",
    "            \n",
    "        except:\n",
    "            noColIdx.append(i)\n",
    "\n",
    "        ### 3. DB INSERT\n",
    "        df = info_df\n",
    "        table = 'm1.asking_price'\n",
    "\n",
    "        # execute_mogrify\n",
    "        def execute_mogrify(conn, df, table, val):\n",
    "            # Create a list of tuples from the dataframe values\n",
    "            tuples = [tuple(x) for x in df.to_numpy()]\n",
    "            # Comma-separated dataframe columns\n",
    "            cols = ','.join(list(df.columns))\n",
    "            # SQL query to execute\n",
    "            cursor = conn.cursor()\n",
    "            values = [cursor.mogrify(val, tup).decode('utf8') for tup in\n",
    "                      tuples]\n",
    "            query = \"INSERT INTO %s(%s) VALUES \" % (table, cols) + \",\".join(values)\n",
    "\n",
    "            try:\n",
    "                cursor.execute(query, tuples)\n",
    "                conn.commit()\n",
    "            except (Exception, psycopg2.DatabaseError) as error:\n",
    "                print(\"Error: %s\" % error)\n",
    "                conn.rollback()\n",
    "                cursor.close()\n",
    "                return 1\n",
    "            cursor.close()\n",
    "\n",
    "        # values 설정\n",
    "        val = '(' + ('%s,' * len(df.columns))[:-1] + ')'\n",
    "\n",
    "        # insert\n",
    "        for j in range(0, len(df), 10000):\n",
    "\n",
    "            # DB Connect\n",
    "            conn = psycopg2.connect(\n",
    "                host='redshift-cluster-1.ctvbwnnvbdkl.ap-northeast-2.redshift.amazonaws.com',\n",
    "                port=5439,\n",
    "                dbname='dev',\n",
    "                user='awsuser',\n",
    "                password='cremaoAdmin1234qwer!!'\n",
    "            )\n",
    "\n",
    "            # 10000개 단위로 나누기\n",
    "            tmp = df[j:j + 10000]\n",
    "\n",
    "            # insert\n",
    "            execute_mogrify(conn, tmp, table, val)\n",
    "            print(datetime.datetime.now(), ' : ', j)\n",
    "            tmp = pd.DataFrame()\n",
    "\n",
    "        # row count\n",
    "        print(len(df))"
   ]
  },
  {
   "cell_type": "markdown",
   "id": "08301073-9538-4786-b1a2-39c5de8afba0",
   "metadata": {
    "jp-MarkdownHeadingCollapsed": true,
    "tags": []
   },
   "source": [
    "### ver1 (csv불러오기)"
   ]
  },
  {
   "cell_type": "code",
   "execution_count": null,
   "id": "8b193ff1-0521-4ede-95a7-07f1cf99c823",
   "metadata": {},
   "outputs": [],
   "source": [
    "# 임포트\n",
    "import json\n",
    "import time\n",
    "import random\n",
    "import requests\n",
    "import psycopg2\n",
    "import datetime\n",
    "import numpy  as np\n",
    "import pandas as pd\n",
    "from tqdm import tqdm\n",
    "from fake_useragent import UserAgent\n",
    "\n",
    "ua = UserAgent()\n",
    "\n",
    "### 1. 깃에서 법정동 CSV 파일 불러오기 (법정동코드 10자리)\n",
    "cortar = pd.read_csv('C:\\\\oasis\\\\oasisbusiness-ds\\\\oasisbusiness-ds\\\\1_데이터수집\\\\법정동코드전체.csv')\n",
    "cortar = cortar[cortar['폐지여부\\r\\n']=='존재\\r\\n'] # 존재하는 지역만 남기기\n",
    "lawd_cd_unique = cortar.drop_duplicates('법정동코드')['법정동코드'] # 법정동 코드만 담기 (총 20551개)\n",
    "\n",
    "### 2. 전월세 호가 수집\n",
    "# 변수 생성\n",
    "fails = [] # 수집 안 된 법정동\n",
    "info_df = pd.DataFrame() # 최종 데이터프레임\n",
    "\n",
    "# json to dataframe (법정동 단위 수집)\n",
    "for i in tqdm(range(0,5000)):\n",
    "    \n",
    "    # url 설정\n",
    "    url = 'https://m.land.naver.com/cluster/ajax/articleList?itemId=&mapKey=&lgeo=&showR0=&rletTpCd=SG&tradTpCd=A1%3AB1%3AB2&z=14&totCnt=402&cortarNo={}&sort=rank'.format(lawd_cd_unique[i])\n",
    "      \n",
    "    try:\n",
    "        # url 호출\n",
    "        headers = {'user-agent' : ua.ie,'referer' : 'https://m.land.naver.com/'}\n",
    "        time.sleep(random.randrange(3,7))\n",
    "        response = requests.get(url, headers = headers)\n",
    "\n",
    "        # body 태그 선택\n",
    "        items = response.json()['body']\n",
    "\n",
    "        # 데이터프레임화\n",
    "        df = pd.DataFrame(items)\n",
    "        info_df = info_df.append(df)\n",
    "        time.sleep(random.randrange(1,7))\n",
    "\n",
    "    except:\n",
    "        fails.append([i])\n",
    "    \n",
    "    # 받아온 바로 적재 (언제 막힐지 모르니까 바로바로 적재함)\n",
    "    if len(info_df) > 0:\n",
    "        \n",
    "        # 컬럼 정리\n",
    "        info_df = info_df[['atclNo','cortarNo','atclNm','atclStatCd','rletTpCd','uprRletTpCd','rletTpNm','tradTpCd','tradTpNm','vrfcTpCd','flrInfo','prc','rentPrc','spc1','spc2','direction','atclCfmYmd','lat','lng','atclFetrDesc','cpid','cpNm','rltrNm']]\n",
    "        # NaN 처리\n",
    "        info_df = info_df.fillna(np.nan)\n",
    "\n",
    "        ### 3. DB INSERT\n",
    "        df = info_df\n",
    "        table = 'm1.asking_price'\n",
    "\n",
    "        # execute_mogrify\n",
    "        def execute_mogrify(conn, df, table, val):\n",
    "            # Create a list of tuples from the dataframe values\n",
    "            tuples = [tuple(x) for x in df.to_numpy()]\n",
    "            # Comma-separated dataframe columns\n",
    "            cols = ','.join(list(df.columns))\n",
    "            # SQL query to execute\n",
    "            cursor = conn.cursor()\n",
    "            values = [cursor.mogrify(val, tup).decode('utf8') for tup in\n",
    "                      tuples]\n",
    "            query = \"INSERT INTO %s(%s) VALUES \" % (table, cols) + \",\".join(values)\n",
    "\n",
    "            try:\n",
    "                cursor.execute(query, tuples)\n",
    "                conn.commit()\n",
    "            except (Exception, psycopg2.DatabaseError) as error:\n",
    "                print(\"Error: %s\" % error)\n",
    "                conn.rollback()\n",
    "                cursor.close()\n",
    "                return 1\n",
    "            cursor.close()\n",
    "\n",
    "        # values 설정\n",
    "        val = '(' + ('%s,' * len(df.columns))[:-1] + ')'\n",
    "\n",
    "        # insert\n",
    "        for j in range(0, len(df), 10000):\n",
    "\n",
    "            # DB Connect\n",
    "            conn = psycopg2.connect(\n",
    "                host='redshift-cluster-1.ctvbwnnvbdkl.ap-northeast-2.redshift.amazonaws.com',\n",
    "                port=5439,\n",
    "                dbname='dev',\n",
    "                user='awsuser',\n",
    "                password='cremaoAdmin1234qwer!!'\n",
    "            )\n",
    "\n",
    "            # 10000개 단위로 나누기\n",
    "            tmp = df[j:j + 10000]\n",
    "\n",
    "            # insert\n",
    "            execute_mogrify(conn, tmp, table, val)\n",
    "            print(datetime.datetime.now(), ' : ', j)\n",
    "            tmp = pd.DataFrame()\n",
    "\n",
    "        # row count\n",
    "        print(len(df))"
   ]
  },
  {
   "cell_type": "markdown",
   "id": "3ead5270-ff24-4cf5-8235-29aa062ee12b",
   "metadata": {
    "jp-MarkdownHeadingCollapsed": true,
    "tags": []
   },
   "source": [
    "### ver2 (법정동 API)"
   ]
  },
  {
   "cell_type": "code",
   "execution_count": null,
   "id": "19bb4832-bd81-4944-9bbe-b16cb1ce51f9",
   "metadata": {
    "collapsed": true,
    "jupyter": {
     "outputs_hidden": true
    },
    "tags": []
   },
   "outputs": [
    {
     "name": "stderr",
     "output_type": "stream",
     "text": [
      "  0%|                                                                                                                     | 0/1000 [00:00<?, ?it/s]"
     ]
    },
    {
     "name": "stdout",
     "output_type": "stream",
     "text": [
      "<Response [307]> 5ms 1/3\n",
      "<Response [307]> 4ms 2/3\n"
     ]
    },
    {
     "name": "stderr",
     "output_type": "stream",
     "text": [
      "  0%|                                                                                                           | 1/1000 [00:14<3:58:12, 14.31s/it]"
     ]
    },
    {
     "name": "stdout",
     "output_type": "stream",
     "text": [
      "<Response [307]> 4ms 1/3\n",
      "<Response [307]> 6ms 2/3\n"
     ]
    },
    {
     "name": "stderr",
     "output_type": "stream",
     "text": [
      "  0%|▏                                                                                                          | 2/1000 [00:28<3:59:00, 14.37s/it]"
     ]
    },
    {
     "name": "stdout",
     "output_type": "stream",
     "text": [
      "<Response [307]> 4ms 3/3\n",
      "<Response [307]> 6ms 1/3\n",
      "<Response [307]> 5ms 2/3\n"
     ]
    },
    {
     "name": "stderr",
     "output_type": "stream",
     "text": [
      "  0%|▎                                                                                                          | 3/1000 [00:44<4:06:20, 14.83s/it]"
     ]
    },
    {
     "name": "stdout",
     "output_type": "stream",
     "text": [
      "<Response [307]> 4ms 3/3\n",
      "<Response [307]> 3ms 1/3\n",
      "<Response [307]> 5ms 2/3\n"
     ]
    },
    {
     "name": "stderr",
     "output_type": "stream",
     "text": [
      "  0%|▍                                                                                                          | 4/1000 [00:57<3:56:41, 14.26s/it]"
     ]
    },
    {
     "name": "stdout",
     "output_type": "stream",
     "text": [
      "<Response [307]> 5ms 3/3\n",
      "<Response [307]> 4ms 1/3\n",
      "<Response [307]> 6ms 2/3\n"
     ]
    },
    {
     "name": "stderr",
     "output_type": "stream",
     "text": [
      "  0%|▌                                                                                                          | 5/1000 [01:12<3:58:28, 14.38s/it]"
     ]
    },
    {
     "name": "stdout",
     "output_type": "stream",
     "text": [
      "<Response [307]> 4ms 3/3\n",
      "<Response [307]> 3ms 1/3\n",
      "<Response [307]> 6ms 2/3\n"
     ]
    },
    {
     "name": "stderr",
     "output_type": "stream",
     "text": [
      "  1%|▋                                                                                                          | 6/1000 [01:27<4:03:53, 14.72s/it]"
     ]
    },
    {
     "name": "stdout",
     "output_type": "stream",
     "text": [
      "<Response [307]> 6ms 3/3\n",
      "<Response [307]> 3ms 1/3\n",
      "<Response [307]> 5ms 2/3\n"
     ]
    },
    {
     "name": "stderr",
     "output_type": "stream",
     "text": [
      "  1%|▋                                                                                                          | 7/1000 [01:41<4:02:05, 14.63s/it]"
     ]
    },
    {
     "name": "stdout",
     "output_type": "stream",
     "text": [
      "<Response [307]> 6ms 3/3\n",
      "<Response [307]> 4ms 1/3\n",
      "<Response [307]> 4ms 2/3\n"
     ]
    },
    {
     "name": "stderr",
     "output_type": "stream",
     "text": [
      "  1%|▊                                                                                                          | 8/1000 [01:54<3:50:02, 13.91s/it]"
     ]
    },
    {
     "name": "stdout",
     "output_type": "stream",
     "text": [
      "<Response [307]> 4ms 3/3\n",
      "<Response [307]> 5ms 1/3\n",
      "<Response [307]> 4ms 2/3\n"
     ]
    },
    {
     "name": "stderr",
     "output_type": "stream",
     "text": [
      "  1%|▉                                                                                                          | 9/1000 [02:09<3:57:47, 14.40s/it]"
     ]
    },
    {
     "name": "stdout",
     "output_type": "stream",
     "text": [
      "<Response [307]> 6ms 3/3\n",
      "<Response [307]> 3ms 1/3\n",
      "<Response [307]> 5ms 2/3\n"
     ]
    },
    {
     "name": "stderr",
     "output_type": "stream",
     "text": [
      "  1%|█                                                                                                         | 10/1000 [02:21<3:42:30, 13.49s/it]"
     ]
    },
    {
     "name": "stdout",
     "output_type": "stream",
     "text": [
      "<Response [307]> 3ms 3/3\n",
      "<Response [307]> 5ms 1/3\n",
      "<Response [307]> 6ms 2/3\n"
     ]
    },
    {
     "name": "stderr",
     "output_type": "stream",
     "text": [
      "  1%|█▏                                                                                                        | 11/1000 [02:36<3:52:03, 14.08s/it]"
     ]
    },
    {
     "name": "stdout",
     "output_type": "stream",
     "text": [
      "<Response [307]> 4ms 3/3\n"
     ]
    }
   ],
   "source": [
    "# 임포트\n",
    "import json\n",
    "import time\n",
    "import random\n",
    "import requests\n",
    "import pandas as pd\n",
    "from tqdm import tqdm\n",
    "from fake_useragent import UserAgent\n",
    "\n",
    "ua = UserAgent()\n",
    "\n",
    "### 1. 법정동 API\n",
    "lawd_cd_df = pd.DataFrame()\n",
    "lawd_cd_list = []\n",
    "lawd_cd_unique = []\n",
    "\n",
    "for i in range(1, 22):\n",
    "    \n",
    "    url = 'http://apis.data.go.kr/1741000/StanReginCd/getStanReginCdList'\n",
    "    serviceKey = 'C94PKnigawlH2iISVWz1Itw9tVzyuOCbOvKgzCrGOUZWvs3XqrkhH+/ntypJ7kK2P2g16vLYCJif3TNfO1i1KA=='\n",
    "    params = {\n",
    "        'serviceKey' : serviceKey,\n",
    "        'pageNo' : str(i),\n",
    "        'numOfRows' : '1000',\n",
    "        'type' : 'json'\n",
    "    }\n",
    "    response = requests.get(url, params=params)\n",
    "    content = response.text\n",
    "    \n",
    "    # Json List 변환\n",
    "    lawd_cd_df = pd.DataFrame(pd.json_normalize(data = json.loads(content), record_path = 'StanReginCd')['row'][1])\n",
    "    lawd_cd_list = list(lawd_cd_df['locatjumin_cd'].str[:10])\n",
    "    \n",
    "    # 시군구코드 unique하게 남기기\n",
    "    for x in lawd_cd_list:\n",
    "        if x not in lawd_cd_unique:\n",
    "            lawd_cd_unique.append(x)\n",
    "            \n",
    "            \n",
    "fails = []\n",
    "info_df = pd.DataFrame()\n",
    "\n",
    "for i in tqdm(range(0,1000)):\n",
    "    cortar_url = 'https://m.land.naver.com/cluster/ajax/articleList?itemId=&mapKey=&lgeo=&showR0=&rletTpCd=SG&tradTpCd=A1%3AB1%3AB2&z=14&totCnt=402&cortarNo={}&sort=rank'.format(lawd_cd_unique[i])\n",
    "    count = 0\n",
    "    \n",
    "    for num in range(1,4):\n",
    "        \n",
    "        try:\n",
    "            count += 1\n",
    "            start = time.time() \n",
    "            url = cortar_url + str(num)\n",
    "            headers = {'user-agent' : ua.ie,'referer' : 'https://m.land.naver.com/'}\n",
    "            time.sleep(random.randrange(3,7))\n",
    "            response = requests.get(url, headers = headers)\n",
    "            print(response,str(int(time.time()-start)) + 'ms', str(count) +'/3')\n",
    "            items = response.json()['body']\n",
    "            df = pd.DataFrame(items)\n",
    "            info_df = info_df.append(df)\n",
    "        except:\n",
    "            fails.append([i,num])\n",
    "            \n",
    "    if i % 100 == 0:\n",
    "        info_df.to_csv('./네이버부동산_'+str(i+2)+'.csv',index=False,encoding='utf-8-sig')\n",
    "\n",
    "info_df.to_csv('./네이버부동산_'+str(i+1)+'.csv',index=False,encoding='utf-8-sig')        "
   ]
  },
  {
   "cell_type": "markdown",
   "id": "3f5edb77-c234-45a2-8bcd-6e17b7f7a8ff",
   "metadata": {
    "jp-MarkdownHeadingCollapsed": true,
    "tags": []
   },
   "source": [
    "### ver3"
   ]
  },
  {
   "cell_type": "code",
   "execution_count": null,
   "id": "6a501f18-9b1e-4386-961f-fae28b824fd6",
   "metadata": {},
   "outputs": [],
   "source": [
    "# 임포트\n",
    "import json\n",
    "import time\n",
    "import random\n",
    "import requests\n",
    "import psycopg2\n",
    "import numpy  as np\n",
    "import pandas as pd\n",
    "from tqdm import tqdm\n",
    "from fake_useragent import UserAgent\n",
    "\n",
    "ua = UserAgent()\n",
    "\n",
    "\n",
    "### 1. 법정동 API\n",
    "lawd_cd_df = pd.DataFrame()\n",
    "lawd_cd_list = []\n",
    "lawd_cd_unique = []\n",
    "\n",
    "for i in range(1, 22):\n",
    "    \n",
    "    url = 'http://apis.data.go.kr/1741000/StanReginCd/getStanReginCdList'\n",
    "    serviceKey = 'C94PKnigawlH2iISVWz1Itw9tVzyuOCbOvKgzCrGOUZWvs3XqrkhH+/ntypJ7kK2P2g16vLYCJif3TNfO1i1KA=='\n",
    "    params = {\n",
    "        'serviceKey' : serviceKey,\n",
    "        'pageNo' : str(i),\n",
    "        'numOfRows' : '1000',\n",
    "        'type' : 'json'\n",
    "    }\n",
    "    response = requests.get(url, params=params)\n",
    "    content = response.text\n",
    "    \n",
    "    # Json List 변환\n",
    "    lawd_cd_df = pd.DataFrame(pd.json_normalize(data = json.loads(content), record_path = 'StanReginCd')['row'][1])\n",
    "    lawd_cd_list = list(lawd_cd_df['locatjumin_cd'].str[:10])\n",
    "    \n",
    "    # 시군구코드 unique하게 남기기\n",
    "    for x in lawd_cd_list:\n",
    "        if x not in lawd_cd_unique:\n",
    "            lawd_cd_unique.append(x)\n",
    "\n",
    "\n",
    "### 2. 전월세 호가 수집\n",
    "# 변수 생성\n",
    "fails = [] # 수집 안 된 법정동\n",
    "info_df = pd.DataFrame() # 최종 데이터프레임\n",
    "\n",
    "# json to dataframe (법정동 단위 수집)\n",
    "for i in tqdm(range(0,2)):\n",
    "    \n",
    "    # url 설정\n",
    "    url = 'https://m.land.naver.com/cluster/ajax/articleList?itemId=&mapKey=&lgeo=&showR0=&rletTpCd=SG&tradTpCd=A1%3AB1%3AB2&z=14&totCnt=402&cortarNo={}&sort=rank'.format(lawd_cd_unique[i])\n",
    "      \n",
    "    try:\n",
    "        # url 호출\n",
    "        headers = {'user-agent' : ua.ie,'referer' : 'https://m.land.naver.com/'}\n",
    "        time.sleep(random.randrange(3,7))\n",
    "        response = requests.get(url, headers = headers)\n",
    "\n",
    "        # body 태그 선택\n",
    "        items = response.json()['body']\n",
    "\n",
    "        # 데이터프레임화\n",
    "        df = pd.DataFrame(items)\n",
    "        info_df = info_df.append(df)\n",
    "        time.sleep(random.randrange(1,7))\n",
    "\n",
    "    except:\n",
    "        fails.append([i])\n",
    "    \n",
    "    # 받아온 바로 적재 (언제 막힐지 모르니까 바로바로 적재함)\n",
    "    if len(info_df) > 0:\n",
    "        \n",
    "        # 컬럼 정리\n",
    "        info_df = info_df[['atclNo','cortarNo','atclNm','atclStatCd','rletTpCd','uprRletTpCd','rletTpNm','tradTpCd','tradTpNm','vrfcTpCd','flrInfo','prc','rentPrc','spc1','spc2','direction','atclCfmYmd','lat','lng','atclFetrDesc','cpid','cpNm','rltrNm']]\n",
    "        # NaN 처리\n",
    "        info_df = info_df.fillna(np.nan)\n",
    "\n",
    "        ### 3. DB INSERT\n",
    "        df = info_df\n",
    "        table = 'm1.asking_price'\n",
    "\n",
    "        # execute_mogrify\n",
    "        def execute_mogrify(conn, df, table, val):\n",
    "            # Create a list of tuples from the dataframe values\n",
    "            tuples = [tuple(x) for x in df.to_numpy()]\n",
    "            # Comma-separated dataframe columns\n",
    "            cols = ','.join(list(df.columns))\n",
    "            # SQL query to execute\n",
    "            cursor = conn.cursor()\n",
    "            values = [cursor.mogrify(val, tup).decode('utf8') for tup in\n",
    "                      tuples]\n",
    "            query = \"INSERT INTO %s(%s) VALUES \" % (table, cols) + \",\".join(values)\n",
    "\n",
    "            try:\n",
    "                cursor.execute(query, tuples)\n",
    "                conn.commit()\n",
    "            except (Exception, psycopg2.DatabaseError) as error:\n",
    "                print(\"Error: %s\" % error)\n",
    "                conn.rollback()\n",
    "                cursor.close()\n",
    "                return 1\n",
    "            cursor.close()\n",
    "\n",
    "        # values 설정\n",
    "        val = '(' + ('%s,' * len(df.columns))[:-1] + ')'\n",
    "\n",
    "        # insert\n",
    "        for j in range(0, len(df), 10000):\n",
    "\n",
    "            # DB Connect\n",
    "            conn = psycopg2.connect(\n",
    "                host='redshift-cluster-1.ctvbwnnvbdkl.ap-northeast-2.redshift.amazonaws.com',\n",
    "                port=5439,\n",
    "                dbname='dev',\n",
    "                user='awsuser',\n",
    "                password='cremaoAdmin1234qwer!!'\n",
    "            )\n",
    "\n",
    "            # 10000개 단위로 나누기\n",
    "            tmp = df[j:j + 10000]\n",
    "\n",
    "            # insert\n",
    "            execute_mogrify(conn, tmp, table, val)\n",
    "            print(datetime.datetime.now(), ' : ', j)\n",
    "            tmp = pd.DataFrame()\n",
    "\n",
    "        # row count\n",
    "        print(len(df))"
   ]
  },
  {
   "cell_type": "code",
   "execution_count": 1,
   "id": "06c86d19-43e2-44c2-aa87-5ae95055d15e",
   "metadata": {
    "tags": []
   },
   "outputs": [],
   "source": [
    "# 임포트\n",
    "import json\n",
    "import time\n",
    "import random\n",
    "import requests\n",
    "import psycopg2\n",
    "import datetime\n",
    "import numpy  as np\n",
    "import pandas as pd\n",
    "from tqdm import tqdm\n",
    "from fake_useragent import UserAgent\n",
    "\n",
    "ua = UserAgent()\n",
    "\n",
    "### 1. 깃에서 법정동 CSV 파일 불러오기 (법정동코드 10자리)\n",
    "cortar = pd.read_csv('C:\\\\oasis\\\\oasisbusiness-ds\\\\oasisbusiness-ds\\\\1_데이터수집\\\\법정동코드전체.csv')\n",
    "cortar = cortar[cortar['폐지여부\\r\\n']=='존재\\r\\n'] # 존재하는 지역만 남기기\n",
    "lawd_cd_unique = cortar.drop_duplicates('법정동코드')['법정동코드'] # 법정동 코드만 담기 (총 20551개)"
   ]
  },
  {
   "cell_type": "code",
   "execution_count": 49,
   "id": "7cf92d75-25d3-4415-8541-4282d437449e",
   "metadata": {
    "tags": []
   },
   "outputs": [
    {
     "name": "stderr",
     "output_type": "stream",
     "text": [
      "100%|████████████████████████████████████████████████████████████████████████████████████████████████████████████████| 2/2 [00:10<00:00,  5.30s/it]"
     ]
    },
    {
     "name": "stdout",
     "output_type": "stream",
     "text": [
      "2022-10-06 18:37:47.183221  :  0\n",
      "20\n"
     ]
    },
    {
     "name": "stderr",
     "output_type": "stream",
     "text": [
      "\n"
     ]
    }
   ],
   "source": [
    "### 2. 전월세 호가 수집\n",
    "# 변수 생성\n",
    "fails = [] # 수집 안 된 법정동\n",
    "info_df = pd.DataFrame() # 최종 데이터프레임\n",
    "\n",
    "# json to dataframe (법정동 단위 수집)\n",
    "for i in tqdm(range(0,2)):\n",
    "    \n",
    "    # url 설정\n",
    "    url = 'https://m.land.naver.com/cluster/ajax/articleList?itemId=&mapKey=&lgeo=&showR0=&rletTpCd=SG&tradTpCd=A1%3AB1%3AB2&z=14&totCnt=402&cortarNo={}&sort=rank'.format(lawd_cd_unique[i])\n",
    "      \n",
    "    try:\n",
    "        # url 호출\n",
    "        headers = {'user-agent' : ua.ie,'referer' : 'https://m.land.naver.com/'}\n",
    "        time.sleep(random.randrange(3,7))\n",
    "        response = requests.get(url, headers = headers)\n",
    "\n",
    "        # body 태그 선택\n",
    "        items = response.json()['body']\n",
    "\n",
    "        # 데이터프레임화\n",
    "        df = pd.DataFrame(items)\n",
    "        info_df = info_df.append(df)\n",
    "        time.sleep(random.randrange(1,7))\n",
    "\n",
    "    except:\n",
    "        fails.append([i])\n",
    "    \n",
    "    # 받아온 바로 적재 (언제 막힐지 모르니까 바로바로 적재함)\n",
    "    if len(info_df) > 0:\n",
    "        \n",
    "        # 컬럼 정리\n",
    "        info_df = info_df[['atclNo','cortarNo','atclNm','atclStatCd','rletTpCd','uprRletTpCd','rletTpNm','tradTpCd','tradTpNm','vrfcTpCd','flrInfo','prc','rentPrc','spc1','spc2','direction','atclCfmYmd','lat','lng','atclFetrDesc','cpid','cpNm','rltrNm']]\n",
    "        # NaN 처리\n",
    "        info_df = info_df.fillna(np.nan)\n",
    "\n",
    "        ### 3. DB INSERT\n",
    "        df = info_df\n",
    "        table = 'm1.asking_price'\n",
    "\n",
    "        # execute_mogrify\n",
    "        def execute_mogrify(conn, df, table, val):\n",
    "            # Create a list of tuples from the dataframe values\n",
    "            tuples = [tuple(x) for x in df.to_numpy()]\n",
    "            # Comma-separated dataframe columns\n",
    "            cols = ','.join(list(df.columns))\n",
    "            # SQL query to execute\n",
    "            cursor = conn.cursor()\n",
    "            values = [cursor.mogrify(val, tup).decode('utf8') for tup in\n",
    "                      tuples]\n",
    "            query = \"INSERT INTO %s(%s) VALUES \" % (table, cols) + \",\".join(values)\n",
    "\n",
    "            try:\n",
    "                cursor.execute(query, tuples)\n",
    "                conn.commit()\n",
    "            except (Exception, psycopg2.DatabaseError) as error:\n",
    "                print(\"Error: %s\" % error)\n",
    "                conn.rollback()\n",
    "                cursor.close()\n",
    "                return 1\n",
    "            cursor.close()\n",
    "\n",
    "        # values 설정\n",
    "        val = '(' + ('%s,' * len(df.columns))[:-1] + ')'\n",
    "\n",
    "        # insert\n",
    "        for j in range(0, len(df), 10000):\n",
    "\n",
    "            # DB Connect\n",
    "            conn = psycopg2.connect(\n",
    "                host='redshift-cluster-1.ctvbwnnvbdkl.ap-northeast-2.redshift.amazonaws.com',\n",
    "                port=5439,\n",
    "                dbname='dev',\n",
    "                user='awsuser',\n",
    "                password='cremaoAdmin1234qwer!!'\n",
    "            )\n",
    "\n",
    "            # 10000개 단위로 나누기\n",
    "            tmp = df[j:j + 10000]\n",
    "\n",
    "            # insert\n",
    "            execute_mogrify(conn, tmp, table, val)\n",
    "            print(datetime.datetime.now(), ' : ', j)\n",
    "            tmp = pd.DataFrame()\n",
    "\n",
    "        # row count\n",
    "        print(len(df))"
   ]
  },
  {
   "cell_type": "code",
   "execution_count": null,
   "id": "724bb20f-13e2-465a-b69c-9041ed795e22",
   "metadata": {},
   "outputs": [],
   "source": [
    "# 컬럼 정리\n",
    "info_df = info_df[['atclNo','cortarNo','atclNm','atclStatCd','rletTpCd','uprRletTpCd','rletTpNm','tradTpCd','tradTpNm','vrfcTpCd','flrInfo','prc','rentPrc','spc1','spc2','direction','atclCfmYmd','lat','lng','atclFetrDesc','cpid','cpNm','rltrNm']]\n",
    "# NaN 처리\n",
    "info_df = info_df.fillna(np.nan)"
   ]
  },
  {
   "cell_type": "code",
   "execution_count": 8,
   "id": "7bacd883-d3d5-4620-b4b0-3b88772c861d",
   "metadata": {},
   "outputs": [],
   "source": [
    "# list to str\n",
    "info_df = info_df.reset_index(drop=True)\n",
    "for i in info_df.index:\n",
    "    info_df.loc[i]['tagList'] = ' '.join(info_df['tagList'][i])"
   ]
  },
  {
   "cell_type": "code",
   "execution_count": null,
   "id": "e81219ca-a8fb-4909-8d87-4d4eb4e3052e",
   "metadata": {},
   "outputs": [],
   "source": [
    "# 컬럼 정리\n",
    "info_df = info_df[['atclNo','cortarNo','atclNm','atclStatCd','rletTpCd','uprRletTpCd','rletTpNm','tradTpCd','tradTpNm','vrfcTpCd','flrInfo','prc','rentPrc','hanPrc','spc1','spc2','direction','atclCfmYmd','lat','lng','atclFetrDesc','tagList','bildNm','minute','sameAddrCnt','sameAddrDirectCnt','cpid','cpNm','cpCnt','rltrNm','directTradYn','minMviFee','maxMviFee','etRoomCnt','tradePriceHan','tradeRentPrice','tradeCheckedByOwner','cpLinkVO','dtlAddrYn','dtlAddr']]\n",
    "# info_df = info_df.reset_index(drop=True)\n",
    "\n",
    "# 매물정보(cpLinkVO) 데이터 타입 변경 (dict to list)\n",
    "for i in range(len(info_df.index)):\n",
    "    for key, value in info_df['cpLinkVO'].iteritems():\n",
    "        tmp = [value]\n",
    "        info_df['cpLinkVO'][i] = tmp"
   ]
  },
  {
   "cell_type": "code",
   "execution_count": 38,
   "id": "462928dc-0a06-43bb-88a5-aeeabba9ec8d",
   "metadata": {
    "tags": []
   },
   "outputs": [
    {
     "name": "stdout",
     "output_type": "stream",
     "text": [
      "2022-10-06 18:33:21.595011  :  0\n",
      "20\n"
     ]
    }
   ],
   "source": [
    "### 3. DB INSERT\n",
    "df = info_df\n",
    "table = 'm1.asking_price'\n",
    "\n",
    "# execute_mogrify\n",
    "def execute_mogrify(conn, df, table, val):\n",
    "    # Create a list of tuples from the dataframe values\n",
    "    tuples = [tuple(x) for x in df.to_numpy()]\n",
    "    # Comma-separated dataframe columns\n",
    "    cols = ','.join(list(df.columns))\n",
    "    # SQL query to execute\n",
    "    cursor = conn.cursor()\n",
    "    values = [cursor.mogrify(val, tup).decode('utf8') for tup in\n",
    "              tuples]\n",
    "    query = \"INSERT INTO %s(%s) VALUES \" % (table, cols) + \",\".join(values)\n",
    "\n",
    "    try:\n",
    "        cursor.execute(query, tuples)\n",
    "        conn.commit()\n",
    "    except (Exception, psycopg2.DatabaseError) as error:\n",
    "        print(\"Error: %s\" % error)\n",
    "        conn.rollback()\n",
    "        cursor.close()\n",
    "        return 1\n",
    "    cursor.close()\n",
    "\n",
    "# values 설정\n",
    "val = '(' + ('%s,' * len(df.columns))[:-1] + ')'\n",
    "\n",
    "# insert\n",
    "for j in range(0, len(df), 10000):\n",
    "\n",
    "    # DB Connect\n",
    "    conn = psycopg2.connect(\n",
    "        host='redshift-cluster-1.ctvbwnnvbdkl.ap-northeast-2.redshift.amazonaws.com',\n",
    "        port=5439,\n",
    "        dbname='dev',\n",
    "        user='awsuser',\n",
    "        password='cremaoAdmin1234qwer!!'\n",
    "    )\n",
    "\n",
    "    # 10000개 단위로 나누기\n",
    "    tmp = df[j:j + 10000]\n",
    "\n",
    "    # insert\n",
    "    execute_mogrify(conn, tmp, table, val)\n",
    "    print(datetime.datetime.now(), ' : ', j)\n",
    "    tmp = pd.DataFrame()\n",
    "\n",
    "# row count\n",
    "print(len(df))"
   ]
  },
  {
   "cell_type": "markdown",
   "id": "63ea5663-a049-403f-bf73-b4b4be511ee8",
   "metadata": {
    "jp-MarkdownHeadingCollapsed": true,
    "tags": []
   },
   "source": [
    "### ver4"
   ]
  },
  {
   "cell_type": "code",
   "execution_count": null,
   "id": "cad094f7-0895-4ea6-b0d8-bf241b16e35b",
   "metadata": {},
   "outputs": [],
   "source": [
    "# 임포트\n",
    "import json\n",
    "import time\n",
    "import random\n",
    "import requests\n",
    "import psycopg2\n",
    "import datetime\n",
    "import numpy  as np\n",
    "import pandas as pd\n",
    "from tqdm import tqdm\n",
    "from fake_useragent import UserAgent\n",
    "\n",
    "ua = UserAgent()\n",
    "\n",
    "\n",
    "### 1. 법정동 API\n",
    "lawd_cd_df = pd.DataFrame()\n",
    "lawd_cd_list = []\n",
    "lawd_cd_unique = []\n",
    "\n",
    "for i in range(1, 22):\n",
    "    \n",
    "    url = 'http://apis.data.go.kr/1741000/StanReginCd/getStanReginCdList'\n",
    "    serviceKey = 'C94PKnigawlH2iISVWz1Itw9tVzyuOCbOvKgzCrGOUZWvs3XqrkhH+/ntypJ7kK2P2g16vLYCJif3TNfO1i1KA=='\n",
    "    params = {\n",
    "        'serviceKey' : serviceKey,\n",
    "        'pageNo' : str(i),\n",
    "        'numOfRows' : '1000',\n",
    "        'type' : 'json'\n",
    "    }\n",
    "    response = requests.get(url, params=params)\n",
    "    content = response.text\n",
    "    \n",
    "    # Json List 변환\n",
    "    lawd_cd_df = pd.DataFrame(pd.json_normalize(data = json.loads(content), record_path = 'StanReginCd')['row'][1])\n",
    "    lawd_cd_list = list(lawd_cd_df['locatjumin_cd'].str[:10])\n",
    "    \n",
    "    # 시군구코드 unique하게 남기기\n",
    "    for x in lawd_cd_list:\n",
    "        if x not in lawd_cd_unique:\n",
    "            lawd_cd_unique.append(x)\n",
    "\n",
    "# 시군구 단위 삭제\n",
    "matching = [s for s in lawd_cd_unique if \"00000\" in s]\n",
    "for s in lawd_cd_unique:\n",
    "    if s in matching:\n",
    "        lawd_cd_unique.remove(s)\n",
    "\n",
    "\n",
    "### 2. 전월세 호가 수집\n",
    "# 변수 생성\n",
    "fails = [] # 호가 데이터 없는 법정동\n",
    "\n",
    "# json to dataframe\n",
    "for i in tqdm(range(len(lawd_cd_unique))):\n",
    "    \n",
    "    # 초기화\n",
    "    info_df = pd.DataFrame()\n",
    "\n",
    "    # 다음 페이지 존재 여부 확인\n",
    "    for page in tqdm(range(0,10000)): # 진행상황 확인하고 tqdm 지우기\n",
    "\n",
    "        # url 호출\n",
    "        url = 'https://m.land.naver.com/cluster/ajax/articleList?itemId=&mapKey=&lgeo=&showR0=&rletTpCd=SG&tradTpCd=A1%3AB1%3AB2&z=14&totCnt=402&cortarNo={}&sort=rank&page={}'.format(lawd_cd_unique[i],str(page+1))\n",
    "        headers = {'user-agent' : ua.ie,'referer' : 'https://m.land.naver.com/'}\n",
    "        time.sleep(random.randrange(3,7))\n",
    "        response = requests.get(url, headers = headers)\n",
    "\n",
    "        # body 태그 선택\n",
    "        items = response.json()['body']\n",
    "\n",
    "        # 다음 페이지 존재 여부 확인\n",
    "        if (response.json()['more'] == True):\n",
    "\n",
    "            try:\n",
    "                # 데이터프레임화\n",
    "                df = pd.DataFrame(items)\n",
    "                info_df = info_df.append(df)\n",
    "            except:\n",
    "                fails.append([i])\n",
    "                \n",
    "        else:\n",
    "            break\n",
    "\n",
    "    # 받은 데이터 바로 적재 (언제 막힐지 모르니까 바로바로 적재함)\n",
    "    if len(info_df) > 0:\n",
    "        \n",
    "        # 컬럼 정리\n",
    "        info_df = info_df[['atclNo','cortarNo','atclNm','atclStatCd','rletTpCd','uprRletTpCd','rletTpNm','tradTpCd','tradTpNm','vrfcTpCd','flrInfo','prc','rentPrc','spc1','spc2','direction','atclCfmYmd','lat','lng','atclFetrDesc','cpid','cpNm','rltrNm']]\n",
    "        # NaN 처리\n",
    "        info_df = info_df.fillna(np.nan)\n",
    "\n",
    "        ### 3. DB INSERT\n",
    "        df = info_df\n",
    "        table = 'm1.asking_price'\n",
    "\n",
    "        # execute_mogrify\n",
    "        def execute_mogrify(conn, df, table, val):\n",
    "            # Create a list of tuples from the dataframe values\n",
    "            tuples = [tuple(x) for x in df.to_numpy()]\n",
    "            # Comma-separated dataframe columns\n",
    "            cols = ','.join(list(df.columns))\n",
    "            # SQL query to execute\n",
    "            cursor = conn.cursor()\n",
    "            values = [cursor.mogrify(val, tup).decode('utf8') for tup in\n",
    "                      tuples]\n",
    "            query = \"INSERT INTO %s(%s) VALUES \" % (table, cols) + \",\".join(values)\n",
    "\n",
    "            try:\n",
    "                cursor.execute(query, tuples)\n",
    "                conn.commit()\n",
    "            except (Exception, psycopg2.DatabaseError) as error:\n",
    "                print(\"Error: %s\" % error)\n",
    "                conn.rollback()\n",
    "                cursor.close()\n",
    "                return 1\n",
    "            cursor.close()\n",
    "\n",
    "        # values 설정\n",
    "        val = '(' + ('%s,' * len(df.columns))[:-1] + ')'\n",
    "\n",
    "        # insert\n",
    "        for j in range(0, len(df), 10000):\n",
    "\n",
    "            # DB Connect\n",
    "            conn = psycopg2.connect(\n",
    "                host='redshift-cluster-1.ctvbwnnvbdkl.ap-northeast-2.redshift.amazonaws.com',\n",
    "                port=5439,\n",
    "                dbname='dev',\n",
    "                user='awsuser',\n",
    "                password='cremaoAdmin1234qwer!!'\n",
    "            )\n",
    "\n",
    "            # 10000개 단위로 나누기\n",
    "            tmp = df[j:j + 10000]\n",
    "\n",
    "            # insert\n",
    "            execute_mogrify(conn, tmp, table, val)\n",
    "            print(datetime.datetime.now(), ' : ', j)\n",
    "            tmp = pd.DataFrame()\n",
    "\n",
    "        # row count\n",
    "        print(len(df))"
   ]
  },
  {
   "cell_type": "code",
   "execution_count": 34,
   "id": "22c4bde5-a434-4cb6-ba25-ae678a9055bb",
   "metadata": {},
   "outputs": [],
   "source": [
    "# 임포트\n",
    "import json\n",
    "import time\n",
    "import random\n",
    "import requests\n",
    "import psycopg2\n",
    "import datetime\n",
    "import numpy  as np\n",
    "import pandas as pd\n",
    "from tqdm import tqdm\n",
    "from fake_useragent import UserAgent\n",
    "\n",
    "ua = UserAgent()\n",
    "\n",
    "### 1. 깃에서 법정동 CSV 파일 불러오기 (법정동코드 10자리)\n",
    "cortar = pd.read_csv('C:\\\\oasis\\\\oasisbusiness-ds\\\\oasisbusiness-ds\\\\1_데이터수집\\\\법정동코드전체.csv')\n",
    "cortar = cortar[cortar['폐지여부\\r\\n']=='존재\\r\\n'] # 존재하는 지역만 남기기\n",
    "lawd_cd_unique = cortar.drop_duplicates('법정동코드')['법정동코드'] # 법정동 코드만 담기 (총 20551개)"
   ]
  },
  {
   "cell_type": "code",
   "execution_count": 66,
   "id": "3e833192-cc1b-4da7-81cd-0a151a3edd83",
   "metadata": {},
   "outputs": [],
   "source": [
    "### 1. 법정동 API\n",
    "lawd_cd_df = pd.DataFrame()\n",
    "lawd_cd_list = []\n",
    "lawd_cd_unique = []\n",
    "\n",
    "for i in range(1, 22):\n",
    "    \n",
    "    url = 'http://apis.data.go.kr/1741000/StanReginCd/getStanReginCdList'\n",
    "    serviceKey = 'C94PKnigawlH2iISVWz1Itw9tVzyuOCbOvKgzCrGOUZWvs3XqrkhH+/ntypJ7kK2P2g16vLYCJif3TNfO1i1KA=='\n",
    "    params = {\n",
    "        'serviceKey' : serviceKey,\n",
    "        'pageNo' : str(i),\n",
    "        'numOfRows' : '1000',\n",
    "        'type' : 'json'\n",
    "    }\n",
    "    response = requests.get(url, params=params)\n",
    "    content = response.text\n",
    "    \n",
    "    # Json List 변환\n",
    "    lawd_cd_df = pd.DataFrame(pd.json_normalize(data = json.loads(content), record_path = 'StanReginCd')['row'][1])\n",
    "    lawd_cd_list = list(lawd_cd_df['locatjumin_cd'].str[:10])\n",
    "    \n",
    "    # 시군구코드 unique하게 남기기\n",
    "    for x in lawd_cd_list:\n",
    "        if x not in lawd_cd_unique:\n",
    "            lawd_cd_unique.append(x)\n",
    "\n",
    "# 시군구 단위 삭제\n",
    "matching = [s for s in lawd_cd_unique if \"00000\" in s]\n",
    "for s in lawd_cd_unique:\n",
    "    if s in matching:\n",
    "        lawd_cd_unique.remove(s)"
   ]
  },
  {
   "cell_type": "code",
   "execution_count": 87,
   "id": "f1449912-9c19-4b80-888a-f17973cea022",
   "metadata": {
    "tags": []
   },
   "outputs": [
    {
     "name": "stderr",
     "output_type": "stream",
     "text": [
      "  0%|                                                                                                                        | 0/2 [00:00<?, ?it/s]\n",
      "  0%|                                                                                                                       | 0/50 [00:00<?, ?it/s]\u001b[A\n",
      "  2%|██▏                                                                                                            | 1/50 [00:05<04:10,  5.11s/it]\u001b[A\n",
      "  4%|████▍                                                                                                          | 2/50 [00:09<03:36,  4.51s/it]\u001b[A\n",
      "  6%|██████▋                                                                                                        | 3/50 [00:13<03:23,  4.32s/it]\u001b[A\n",
      "  8%|████████▉                                                                                                      | 4/50 [00:17<03:14,  4.23s/it]\u001b[A\n",
      " 10%|███████████                                                                                                    | 5/50 [00:20<02:51,  3.82s/it]\u001b[A\n",
      " 12%|█████████████▎                                                                                                 | 6/50 [00:23<02:37,  3.58s/it]\u001b[A\n",
      " 14%|███████████████▌                                                                                               | 7/50 [00:27<02:41,  3.75s/it]\u001b[A\n",
      " 16%|█████████████████▊                                                                                             | 8/50 [00:30<02:28,  3.53s/it]\u001b[A\n",
      " 18%|███████████████████▉                                                                                           | 9/50 [00:34<02:32,  3.71s/it]\u001b[A\n",
      " 20%|██████████████████████                                                                                        | 10/50 [00:37<02:20,  3.52s/it]\u001b[A\n",
      " 22%|████████████████████████▏                                                                                     | 11/50 [00:42<02:24,  3.70s/it]\u001b[A\n",
      " 24%|██████████████████████████▍                                                                                   | 12/50 [00:45<02:13,  3.51s/it]\u001b[A\n",
      " 26%|████████████████████████████▌                                                                                 | 13/50 [00:51<02:39,  4.30s/it]\u001b[A\n",
      " 28%|██████████████████████████████▊                                                                               | 14/50 [00:56<02:43,  4.54s/it]\u001b[A\n",
      " 30%|█████████████████████████████████                                                                             | 15/50 [00:59<02:23,  4.10s/it]\u001b[A\n",
      " 32%|███████████████████████████████████▏                                                                          | 16/50 [01:03<02:19,  4.11s/it]\u001b[A\n",
      " 34%|█████████████████████████████████████▍                                                                        | 17/50 [01:09<02:35,  4.70s/it]\u001b[A\n",
      " 36%|███████████████████████████████████████▌                                                                      | 18/50 [01:14<02:34,  4.82s/it]\u001b[A\n",
      " 38%|█████████████████████████████████████████▊                                                                    | 19/50 [01:17<02:13,  4.31s/it]\u001b[A\n",
      " 40%|████████████████████████████████████████████                                                                  | 20/50 [01:20<01:58,  3.94s/it]\u001b[A\n",
      " 42%|██████████████████████████████████████████████▏                                                               | 21/50 [01:26<02:04,  4.29s/it]\u001b[A\n",
      " 44%|████████████████████████████████████████████████▍                                                             | 22/50 [01:31<02:07,  4.54s/it]\u001b[A\n",
      " 46%|██████████████████████████████████████████████████▌                                                           | 23/50 [01:34<01:50,  4.11s/it]\u001b[A\n",
      " 48%|████████████████████████████████████████████████████▊                                                         | 24/50 [01:39<01:54,  4.40s/it]\u001b[A\n",
      " 50%|███████████████████████████████████████████████████████                                                       | 25/50 [01:44<01:55,  4.61s/it]\u001b[A\n",
      " 52%|█████████████████████████████████████████████████████████▏                                                    | 26/50 [01:49<01:54,  4.76s/it]\u001b[A\n",
      " 54%|███████████████████████████████████████████████████████████▍                                                  | 27/50 [01:55<01:58,  5.16s/it]\u001b[A\n",
      " 56%|█████████████████████████████████████████████████████████████▌                                                | 28/50 [01:59<01:46,  4.84s/it]\u001b[A\n",
      " 58%|███████████████████████████████████████████████████████████████▊                                              | 29/50 [02:02<01:30,  4.32s/it]\u001b[A\n",
      " 60%|██████████████████████████████████████████████████████████████████                                            | 30/50 [02:05<01:19,  3.95s/it]\u001b[A\n",
      " 62%|████████████████████████████████████████████████████████████████████▏                                         | 31/50 [02:10<01:16,  4.00s/it]\u001b[A\n",
      " 64%|██████████████████████████████████████████████████████████████████████▍                                       | 32/50 [02:13<01:07,  3.74s/it]\u001b[A\n",
      " 66%|████████████████████████████████████████████████████████████████████████▌                                     | 33/50 [02:16<01:00,  3.55s/it]\u001b[A\n",
      " 68%|██████████████████████████████████████████████████████████████████████████▊                                   | 34/50 [02:20<00:59,  3.71s/it]\u001b[A\n",
      " 70%|█████████████████████████████████████████████████████████████████████████████                                 | 35/50 [02:26<01:06,  4.43s/it]\u001b[A\n",
      " 72%|███████████████████████████████████████████████████████████████████████████████▏                              | 36/50 [02:31<01:04,  4.63s/it]\u001b[A\n",
      " 74%|█████████████████████████████████████████████████████████████████████████████████▍                            | 37/50 [02:35<00:58,  4.47s/it]\u001b[A\n",
      " 76%|███████████████████████████████████████████████████████████████████████████████████▌                          | 38/50 [02:39<00:52,  4.36s/it]\u001b[A\n",
      " 78%|█████████████████████████████████████████████████████████████████████████████████████▊                        | 39/50 [02:42<00:43,  3.99s/it]\u001b[A\n",
      " 80%|████████████████████████████████████████████████████████████████████████████████████████                      | 40/50 [02:47<00:43,  4.32s/it]\u001b[A\n",
      " 82%|██████████████████████████████████████████████████████████████████████████████████████████▏                   | 41/50 [02:51<00:35,  3.95s/it]\u001b[A\n",
      " 84%|████████████████████████████████████████████████████████████████████████████████████████████▍                 | 42/50 [02:55<00:32,  4.00s/it]\u001b[A\n",
      " 86%|██████████████████████████████████████████████████████████████████████████████████████████████▌               | 43/50 [03:01<00:32,  4.63s/it]\u001b[A\n",
      " 88%|████████████████████████████████████████████████████████████████████████████████████████████████▊             | 44/50 [03:04<00:25,  4.17s/it]\u001b[A\n",
      " 90%|███████████████████████████████████████████████████████████████████████████████████████████████████           | 45/50 [03:08<00:20,  4.15s/it]\u001b[A\n",
      " 92%|█████████████████████████████████████████████████████████████████████████████████████████████████████▏        | 46/50 [03:12<00:16,  4.13s/it]\u001b[A\n",
      " 94%|███████████████████████████████████████████████████████████████████████████████████████████████████████▍      | 47/50 [03:17<00:13,  4.43s/it]\u001b[A\n",
      " 96%|█████████████████████████████████████████████████████████████████████████████████████████████████████████▌    | 48/50 [03:21<00:08,  4.33s/it]\u001b[A\n",
      " 98%|███████████████████████████████████████████████████████████████████████████████████████████████████████████▊  | 49/50 [03:26<00:04,  4.56s/it]\u001b[A\n",
      "100%|██████████████████████████████████████████████████████████████████████████████████████████████████████████████| 50/50 [03:33<00:00,  4.26s/it]\u001b[A\n",
      " 50%|███████████████████████████████████████████████████████▌                                                       | 1/2 [03:33<03:33, 213.04s/it]\n",
      "  0%|                                                                                                                       | 0/50 [00:03<?, ?it/s]\u001b[A\n",
      "100%|███████████████████████████████████████████████████████████████████████████████████████████████████████████████| 2/2 [03:36<00:00, 108.06s/it]\n"
     ]
    }
   ],
   "source": [
    "### 2. 전월세 호가 수집\n",
    "# 변수 생성\n",
    "fails = [] # 호가 데이터 없는 법정동\n",
    "info_df = pd.DataFrame()\n",
    "\n",
    "# json to dataframe\n",
    "for i in tqdm(range(0,2)):\n",
    "    \n",
    "    # 다음 페이지 존재 여부 확인\n",
    "    for page in tqdm(range(0,1000)): # 진행상황 확인하고 tqdm 지우기\n",
    "\n",
    "        # url 호출\n",
    "        url = 'https://m.land.naver.com/cluster/ajax/articleList?itemId=&mapKey=&lgeo=&showR0=&rletTpCd=SG&tradTpCd=A1%3AB1%3AB2&z=14&totCnt=402&cortarNo={}&sort=rank&page={}'.format(lawd_cd_unique[i],str(i+1))\n",
    "        headers = {'user-agent' : ua.ie,'referer' : 'https://m.land.naver.com/'}\n",
    "        time.sleep(random.randrange(3,7))\n",
    "        response = requests.get(url, headers = headers)\n",
    "\n",
    "        # body 태그 선택\n",
    "        items = response.json()['body']\n",
    "\n",
    "        # 다음 페이지 존재 여부 확인\n",
    "        if (response.json()['more'] == True):\n",
    "\n",
    "            try:\n",
    "                # 데이터프레임화\n",
    "                df = pd.DataFrame(items)\n",
    "                info_df = info_df.append(df)\n",
    "\n",
    "            except:\n",
    "                fails.append([i])\n",
    "\n",
    "        else:\n",
    "            break"
   ]
  },
  {
   "cell_type": "code",
   "execution_count": null,
   "id": "47a4c719-c107-4f50-bf95-d4ebce8785de",
   "metadata": {},
   "outputs": [],
   "source": [
    "# 중복값 제거\n",
    "if (len(info_df) != len(info_df.drop_duplicates('atclNo'))):\n",
    "    info_df = info_df.drop_duplicates(drop=True)"
   ]
  },
  {
   "cell_type": "markdown",
   "id": "4407e258-bc4c-40ca-9634-43355204f7d6",
   "metadata": {},
   "source": [
    "### 돌려놓기 (최종)"
   ]
  },
  {
   "cell_type": "markdown",
   "id": "6d8ad6b3-4e45-45b0-8fec-cfd3838808ca",
   "metadata": {},
   "source": [
    "* csv ver"
   ]
  },
  {
   "cell_type": "code",
   "execution_count": 2,
   "id": "26618a45-cf82-4e50-8512-f95a2bba1d27",
   "metadata": {},
   "outputs": [],
   "source": [
    "# 임포트\n",
    "import json\n",
    "import time\n",
    "import random\n",
    "import requests\n",
    "import psycopg2\n",
    "import datetime\n",
    "import numpy  as np\n",
    "import pandas as pd\n",
    "from tqdm import tqdm\n",
    "from fake_useragent import UserAgent\n",
    "\n",
    "ua = UserAgent()\n",
    "\n",
    "\n",
    "### 1. 법정동 API\n",
    "lawd_cd_df = pd.DataFrame()\n",
    "lawd_cd_list = []\n",
    "lawd_cd_unique = []\n",
    "\n",
    "for i in range(1, 22):\n",
    "    \n",
    "    url = 'http://apis.data.go.kr/1741000/StanReginCd/getStanReginCdList'\n",
    "    serviceKey = 'C94PKnigawlH2iISVWz1Itw9tVzyuOCbOvKgzCrGOUZWvs3XqrkhH+/ntypJ7kK2P2g16vLYCJif3TNfO1i1KA=='\n",
    "    params = {\n",
    "        'serviceKey' : serviceKey,\n",
    "        'pageNo' : str(i),\n",
    "        'numOfRows' : '1000',\n",
    "        'type' : 'json'\n",
    "    }\n",
    "    response = requests.get(url, params=params)\n",
    "    content = response.text\n",
    "    \n",
    "    # Json List 변환\n",
    "    lawd_cd_df = pd.DataFrame(pd.json_normalize(data = json.loads(content), record_path = 'StanReginCd')['row'][1])\n",
    "    lawd_cd_list = list(lawd_cd_df['locatjumin_cd'].str[:10])\n",
    "    \n",
    "    # 시군구코드 unique하게 남기기\n",
    "    for x in lawd_cd_list:\n",
    "        if x not in lawd_cd_unique:\n",
    "            lawd_cd_unique.append(x)\n",
    "\n",
    "# 시군구 단위 삭제 (법정동 단위만 남김 : 총 20,293개)\n",
    "matching = [s for s in lawd_cd_unique if \"00000\" in s]\n",
    "for s in lawd_cd_unique:\n",
    "    if s in matching:\n",
    "        lawd_cd_unique.remove(s)"
   ]
  },
  {
   "cell_type": "code",
   "execution_count": 7,
   "id": "fef70b25-5d57-4229-93d8-b8fcdd0eacc5",
   "metadata": {
    "tags": []
   },
   "outputs": [
    {
     "name": "stderr",
     "output_type": "stream",
     "text": [
      "  0%|                                                                                                                    | 0/20293 [00:00<?, ?it/s]\n",
      "  0%|                                                                                                                      | 0/100 [00:00<?, ?it/s]\u001b[A\n",
      "  1%|█                                                                                                             | 1/100 [00:06<10:02,  6.09s/it]\u001b[A\n",
      "  2%|██▏                                                                                                           | 2/100 [00:15<12:28,  7.63s/it]\u001b[A\n",
      "  0%|                                                                                                         | 1/20293 [00:16<93:17:36, 16.55s/it]"
     ]
    },
    {
     "name": "stdout",
     "output_type": "stream",
     "text": [
      "2022-10-07 07:02:26.216258  :  0\n",
      "25\n"
     ]
    },
    {
     "name": "stderr",
     "output_type": "stream",
     "text": [
      "\n",
      "  0%|                                                                                                                      | 0/100 [00:00<?, ?it/s]\u001b[A\n",
      "  1%|█                                                                                                             | 1/100 [00:10<16:46, 10.16s/it]\u001b[A\n",
      "  0%|                                                                                                         | 2/20293 [00:27<75:57:17, 13.48s/it]"
     ]
    },
    {
     "name": "stdout",
     "output_type": "stream",
     "text": [
      "2022-10-07 07:02:37.539266  :  0\n",
      "17\n"
     ]
    },
    {
     "name": "stderr",
     "output_type": "stream",
     "text": [
      "\n",
      "  0%|                                                                                                                      | 0/100 [00:00<?, ?it/s]\u001b[A\n",
      "  1%|█                                                                                                             | 1/100 [00:11<18:25, 11.16s/it]\u001b[A\n",
      "  0%|                                                                                                         | 3/20293 [00:40<72:32:23, 12.87s/it]"
     ]
    },
    {
     "name": "stdout",
     "output_type": "stream",
     "text": [
      "2022-10-07 07:02:49.688448  :  0\n",
      "3\n"
     ]
    },
    {
     "name": "stderr",
     "output_type": "stream",
     "text": [
      "\n",
      "  0%|                                                                                                                      | 0/100 [00:00<?, ?it/s]\u001b[A\n",
      "  1%|█                                                                                                             | 1/100 [00:10<16:44, 10.14s/it]\u001b[A\n",
      "  0%|                                                                                                         | 4/20293 [00:51<69:02:13, 12.25s/it]"
     ]
    },
    {
     "name": "stdout",
     "output_type": "stream",
     "text": [
      "2022-10-07 07:03:00.984025  :  0\n",
      "12\n"
     ]
    },
    {
     "name": "stderr",
     "output_type": "stream",
     "text": [
      "\n",
      "  0%|                                                                                                                      | 0/100 [00:00<?, ?it/s]\u001b[A\n",
      "  1%|█                                                                                                             | 1/100 [00:09<15:06,  9.15s/it]\u001b[A\n",
      "  0%|                                                                                                         | 5/20293 [01:01<64:51:30, 11.51s/it]"
     ]
    },
    {
     "name": "stdout",
     "output_type": "stream",
     "text": [
      "2022-10-07 07:03:11.182566  :  0\n",
      "1\n"
     ]
    },
    {
     "name": "stderr",
     "output_type": "stream",
     "text": [
      "\n",
      "  0%|                                                                                                                      | 0/100 [00:00<?, ?it/s]\u001b[A\n",
      "  1%|█                                                                                                             | 1/100 [00:03<05:05,  3.09s/it]\u001b[A\n",
      "  2%|██▏                                                                                                           | 2/100 [00:06<05:02,  3.09s/it]\u001b[A\n",
      "  3%|███▎                                                                                                          | 3/100 [00:12<07:13,  4.47s/it]\u001b[A\n",
      "  4%|████▍                                                                                                         | 4/100 [00:16<06:54,  4.32s/it]\u001b[A\n",
      "  5%|█████▌                                                                                                        | 5/100 [00:25<08:05,  5.11s/it]\u001b[A\n",
      "  0%|                                                                                                         | 6/20293 [01:28<93:51:43, 16.66s/it]"
     ]
    },
    {
     "name": "stdout",
     "output_type": "stream",
     "text": [
      "2022-10-07 07:03:37.830683  :  0\n",
      "81\n"
     ]
    },
    {
     "name": "stderr",
     "output_type": "stream",
     "text": [
      "\n",
      "  0%|                                                                                                                      | 0/100 [00:00<?, ?it/s]\u001b[A\n",
      "  1%|█                                                                                                             | 1/100 [00:05<08:21,  5.07s/it]\u001b[A\n",
      "  2%|██▏                                                                                                           | 2/100 [00:11<09:10,  5.62s/it]\u001b[A\n",
      "  0%|                                                                                                         | 7/20293 [01:40<86:05:53, 15.28s/it]"
     ]
    },
    {
     "name": "stdout",
     "output_type": "stream",
     "text": [
      "2022-10-07 07:03:50.274877  :  0\n",
      "25\n"
     ]
    },
    {
     "name": "stderr",
     "output_type": "stream",
     "text": [
      "\n",
      "  0%|                                                                                                                      | 0/100 [00:00<?, ?it/s]\u001b[A\n",
      "  1%|█                                                                                                             | 1/100 [00:05<08:23,  5.08s/it]\u001b[A\n",
      "  2%|██▏                                                                                                           | 2/100 [00:09<07:20,  4.50s/it]\u001b[A\n",
      "  3%|███▎                                                                                                          | 3/100 [00:14<07:43,  4.78s/it]\u001b[A\n",
      "  4%|████▍                                                                                                         | 4/100 [00:20<08:28,  5.30s/it]\u001b[A\n",
      "  5%|█████▌                                                                                                        | 5/100 [00:26<08:51,  5.59s/it]\u001b[A\n",
      "  6%|██████▌                                                                                                       | 6/100 [00:30<07:57,  5.08s/it]\u001b[A\n",
      "  7%|███████▋                                                                                                      | 7/100 [00:42<09:28,  6.11s/it]\u001b[A\n",
      "  0%|                                                                                                        | 8/20293 [02:24<137:25:57, 24.39s/it]"
     ]
    },
    {
     "name": "stdout",
     "output_type": "stream",
     "text": [
      "2022-10-07 07:04:34.173690  :  0\n",
      "124\n"
     ]
    },
    {
     "name": "stderr",
     "output_type": "stream",
     "text": [
      "\n",
      "  0%|                                                                                                                      | 0/100 [00:00<?, ?it/s]\u001b[A\n",
      "  1%|█                                                                                                             | 1/100 [00:04<06:44,  4.09s/it]\u001b[A\n",
      "  2%|██▏                                                                                                           | 2/100 [00:10<08:36,  5.28s/it]\u001b[A\n",
      "  3%|███▎                                                                                                          | 3/100 [00:15<08:24,  5.20s/it]\u001b[A\n",
      "  4%|████▍                                                                                                         | 4/100 [00:18<06:59,  4.37s/it]\u001b[A\n",
      "  5%|█████▌                                                                                                        | 5/100 [00:23<07:20,  4.64s/it]\u001b[A\n",
      "  6%|██████▌                                                                                                       | 6/100 [00:28<07:30,  4.80s/it]\u001b[A\n",
      "  7%|███████▋                                                                                                      | 7/100 [00:34<08:05,  5.22s/it]\u001b[A\n",
      "  8%|████████▊                                                                                                     | 8/100 [00:38<07:27,  4.86s/it]\u001b[A\n",
      "  9%|█████████▉                                                                                                    | 9/100 [00:42<07:01,  4.63s/it]\u001b[A\n",
      " 10%|██████████▉                                                                                                  | 10/100 [00:46<06:14,  4.16s/it]\u001b[A\n",
      " 11%|███████████▉                                                                                                 | 11/100 [00:49<05:40,  3.83s/it]\u001b[A\n",
      " 12%|█████████████                                                                                                | 12/100 [01:01<07:29,  5.11s/it]\u001b[A\n",
      "  0%|                                                                                                        | 9/20293 [03:26<204:29:40, 36.29s/it]"
     ]
    },
    {
     "name": "stdout",
     "output_type": "stream",
     "text": [
      "2022-10-07 07:05:36.640759  :  0\n",
      "238\n"
     ]
    },
    {
     "name": "stderr",
     "output_type": "stream",
     "text": [
      "\n",
      "  0%|                                                                                                                      | 0/100 [00:00<?, ?it/s]\u001b[A\n",
      "  1%|█                                                                                                             | 1/100 [00:05<08:24,  5.10s/it]\u001b[A\n",
      "  2%|██▏                                                                                                           | 2/100 [00:11<09:17,  5.69s/it]\u001b[A\n",
      "  3%|███▎                                                                                                          | 3/100 [00:14<07:16,  4.50s/it]\u001b[A\n",
      "  4%|████▍                                                                                                         | 4/100 [00:19<07:35,  4.74s/it]\u001b[A\n",
      "  5%|█████▌                                                                                                        | 5/100 [00:25<08:16,  5.23s/it]\u001b[A\n",
      "  6%|██████▌                                                                                                       | 6/100 [00:30<08:07,  5.19s/it]\u001b[A\n",
      "  7%|███████▋                                                                                                      | 7/100 [00:36<08:29,  5.48s/it]\u001b[A\n",
      "  8%|████████▊                                                                                                     | 8/100 [00:42<08:42,  5.68s/it]\u001b[A\n",
      "  9%|█████████▉                                                                                                    | 9/100 [00:48<08:49,  5.81s/it]\u001b[A\n",
      " 10%|██████████▉                                                                                                  | 10/100 [00:55<08:51,  5.91s/it]\u001b[A\n",
      " 11%|███████████▉                                                                                                 | 11/100 [01:00<08:23,  5.66s/it]\u001b[A\n",
      " 12%|█████████████                                                                                                | 12/100 [01:12<08:50,  6.03s/it]\u001b[A\n",
      "  0%|                                                                                                       | 10/20293 [04:40<269:13:14, 47.78s/it]"
     ]
    },
    {
     "name": "stdout",
     "output_type": "stream",
     "text": [
      "2022-10-07 07:06:50.145747  :  0\n",
      "240\n"
     ]
    },
    {
     "name": "stderr",
     "output_type": "stream",
     "text": [
      "\n",
      "  0%|                                                                                                                      | 0/100 [00:00<?, ?it/s]\u001b[A\n",
      "  1%|█                                                                                                             | 1/100 [00:11<18:22, 11.14s/it]\u001b[A\n",
      "  0%|                                                                                                       | 11/20293 [04:52<207:53:42, 36.90s/it]"
     ]
    },
    {
     "name": "stdout",
     "output_type": "stream",
     "text": [
      "2022-10-07 07:07:02.377232  :  0\n",
      "5\n"
     ]
    },
    {
     "name": "stderr",
     "output_type": "stream",
     "text": [
      "\n",
      "  0%|                                                                                                                      | 0/100 [00:05<?, ?it/s]\u001b[A\n",
      "  0%|                                                                                                       | 12/20293 [04:57<153:23:23, 27.23s/it]\n",
      "  0%|                                                                                                                      | 0/100 [00:00<?, ?it/s]\u001b[A\n",
      "  1%|█                                                                                                             | 1/100 [00:05<08:23,  5.09s/it]\u001b[A\n",
      "  2%|██▏                                                                                                           | 2/100 [00:09<07:21,  4.50s/it]\u001b[A\n",
      "  3%|███▎                                                                                                          | 3/100 [00:13<06:58,  4.32s/it]\u001b[A\n",
      "  4%|████▍                                                                                                         | 4/100 [00:16<06:07,  3.83s/it]\u001b[A\n",
      "  5%|█████▌                                                                                                        | 5/100 [00:19<05:38,  3.57s/it]\u001b[A\n",
      "  6%|██████▌                                                                                                       | 6/100 [00:27<07:13,  4.61s/it]\u001b[A\n",
      "  0%|                                                                                                       | 13/20293 [05:26<156:00:29, 27.69s/it]"
     ]
    },
    {
     "name": "stdout",
     "output_type": "stream",
     "text": [
      "2022-10-07 07:07:36.246751  :  0\n",
      "108\n"
     ]
    },
    {
     "name": "stderr",
     "output_type": "stream",
     "text": [
      "\n",
      "  0%|                                                                                                                      | 0/100 [00:00<?, ?it/s]\u001b[A\n",
      "  1%|█                                                                                                             | 1/100 [00:04<06:51,  4.16s/it]\u001b[A\n",
      "  2%|██▏                                                                                                           | 2/100 [00:10<08:38,  5.29s/it]\u001b[A\n",
      "  3%|███▎                                                                                                          | 3/100 [00:16<09:08,  5.65s/it]\u001b[A\n",
      "  4%|████▍                                                                                                         | 4/100 [00:22<09:20,  5.83s/it]\u001b[A\n",
      "  5%|█████▌                                                                                                        | 5/100 [00:26<08:14,  5.21s/it]\u001b[A\n",
      "  6%|██████▌                                                                                                       | 6/100 [00:30<07:33,  4.83s/it]\u001b[A\n",
      "  7%|███████▋                                                                                                      | 7/100 [00:35<07:37,  4.92s/it]\u001b[A\n",
      "  8%|████████▊                                                                                                     | 8/100 [00:41<08:07,  5.30s/it]\u001b[A\n",
      "  9%|█████████▉                                                                                                    | 9/100 [00:46<07:56,  5.23s/it]\u001b[A\n",
      " 10%|██████████▉                                                                                                  | 10/100 [00:51<07:19,  4.89s/it]\u001b[A\n",
      " 11%|███████████▉                                                                                                 | 11/100 [00:56<07:20,  4.95s/it]\u001b[A\n",
      " 12%|█████████████                                                                                                | 12/100 [00:59<06:26,  4.39s/it]\u001b[A\n",
      " 13%|██████████████▏                                                                                              | 13/100 [01:02<05:47,  3.99s/it]\u001b[A\n",
      " 14%|███████████████▎                                                                                             | 14/100 [01:08<06:38,  4.63s/it]\u001b[A\n",
      " 15%|████████████████▎                                                                                            | 15/100 [01:13<06:45,  4.77s/it]\u001b[A\n",
      " 16%|█████████████████▍                                                                                           | 16/100 [01:23<07:19,  5.23s/it]\u001b[A\n",
      "  0%|                                                                                                       | 14/20293 [06:51<253:34:42, 45.02s/it]"
     ]
    },
    {
     "name": "stdout",
     "output_type": "stream",
     "text": [
      "2022-10-07 07:09:01.290179  :  0\n",
      "307\n"
     ]
    },
    {
     "name": "stderr",
     "output_type": "stream",
     "text": [
      "\n",
      "  0%|                                                                                                                      | 0/100 [00:00<?, ?it/s]\u001b[A\n",
      "  1%|█                                                                                                             | 1/100 [00:08<13:27,  8.16s/it]\u001b[A\n",
      "  0%|                                                                                                       | 15/20293 [07:00<192:44:42, 34.22s/it]"
     ]
    },
    {
     "name": "stdout",
     "output_type": "stream",
     "text": [
      "2022-10-07 07:09:10.485076  :  0\n",
      "13\n"
     ]
    },
    {
     "name": "stderr",
     "output_type": "stream",
     "text": [
      "\n",
      "  0%|                                                                                                                      | 0/100 [00:00<?, ?it/s]\u001b[A\n",
      "  1%|█                                                                                                             | 1/100 [00:10<16:44, 10.14s/it]\u001b[A\n",
      "  0%|                                                                                                       | 16/20293 [07:12<153:43:34, 27.29s/it]"
     ]
    },
    {
     "name": "stdout",
     "output_type": "stream",
     "text": [
      "2022-10-07 07:09:21.694308  :  0\n",
      "2\n"
     ]
    },
    {
     "name": "stderr",
     "output_type": "stream",
     "text": [
      "\n",
      "  0%|                                                                                                                      | 0/100 [00:00<?, ?it/s]\u001b[A\n",
      "  1%|█                                                                                                             | 1/100 [00:10<16:44, 10.14s/it]\u001b[A\n",
      "  0%|                                                                                                       | 17/20293 [07:23<126:25:29, 22.45s/it]"
     ]
    },
    {
     "name": "stdout",
     "output_type": "stream",
     "text": [
      "2022-10-07 07:09:32.855609  :  0\n",
      "3\n"
     ]
    },
    {
     "name": "stderr",
     "output_type": "stream",
     "text": [
      "\n",
      "  0%|                                                                                                                      | 0/100 [00:00<?, ?it/s]\u001b[A\n",
      "  1%|█                                                                                                             | 1/100 [00:11<18:20, 11.12s/it]\u001b[A\n",
      "  0%|                                                                                                       | 18/20293 [07:35<109:01:30, 19.36s/it]"
     ]
    },
    {
     "name": "stdout",
     "output_type": "stream",
     "text": [
      "2022-10-07 07:09:45.040237  :  0\n",
      "3\n"
     ]
    },
    {
     "name": "stderr",
     "output_type": "stream",
     "text": [
      "\n",
      "  0%|                                                                                                                      | 0/100 [00:00<?, ?it/s]\u001b[A\n",
      "  1%|█                                                                                                             | 1/100 [00:06<10:07,  6.14s/it]\u001b[A\n",
      "  0%|                                                                                                        | 19/20293 [07:42<88:13:43, 15.67s/it]"
     ]
    },
    {
     "name": "stdout",
     "output_type": "stream",
     "text": [
      "2022-10-07 07:09:52.106511  :  0\n",
      "6\n"
     ]
    },
    {
     "name": "stderr",
     "output_type": "stream",
     "text": [
      "\n",
      "  0%|                                                                                                                      | 0/100 [00:00<?, ?it/s]\u001b[A\n",
      "  1%|█                                                                                                             | 1/100 [00:08<13:26,  8.14s/it]\u001b[A\n",
      "  0%|                                                                                                        | 20/20293 [07:51<77:20:44, 13.73s/it]"
     ]
    },
    {
     "name": "stdout",
     "output_type": "stream",
     "text": [
      "2022-10-07 07:10:01.338903  :  0\n",
      "5\n"
     ]
    },
    {
     "name": "stderr",
     "output_type": "stream",
     "text": [
      "\n",
      "  0%|                                                                                                                      | 0/100 [00:00<?, ?it/s]\u001b[A\n",
      "  1%|█                                                                                                             | 1/100 [00:06<10:02,  6.09s/it]\u001b[A\n",
      "  2%|██▏                                                                                                           | 2/100 [00:12<09:57,  6.10s/it]\u001b[A\n",
      "  3%|███▎                                                                                                          | 3/100 [00:24<13:08,  8.12s/it]\u001b[A\n",
      "  0%|                                                                                                        | 21/20293 [08:17<97:14:58, 17.27s/it]"
     ]
    },
    {
     "name": "stdout",
     "output_type": "stream",
     "text": [
      "2022-10-07 07:10:26.851424  :  0\n",
      "54\n"
     ]
    },
    {
     "name": "stderr",
     "output_type": "stream",
     "text": [
      "\n",
      "  0%|                                                                                                                      | 0/100 [00:03<?, ?it/s]\u001b[A\n",
      "  0%|                                                                                                        | 22/20293 [08:20<73:14:33, 13.01s/it]\n",
      "  0%|                                                                                                                      | 0/100 [00:00<?, ?it/s]\u001b[A\n",
      "  1%|█                                                                                                             | 1/100 [00:08<13:27,  8.16s/it]\u001b[A\n",
      "  0%|                                                                                                        | 23/20293 [08:29<67:02:44, 11.91s/it]"
     ]
    },
    {
     "name": "stdout",
     "output_type": "stream",
     "text": [
      "2022-10-07 07:10:39.260188  :  0\n",
      "3\n"
     ]
    },
    {
     "name": "stderr",
     "output_type": "stream",
     "text": [
      "\n",
      "  0%|                                                                                                                      | 0/100 [00:05<?, ?it/s]\u001b[A\n",
      "  0%|                                                                                                        | 24/20293 [08:34<55:31:17,  9.86s/it]\n",
      "  0%|                                                                                                                      | 0/100 [00:00<?, ?it/s]\u001b[A\n",
      "  1%|█                                                                                                             | 1/100 [00:09<15:06,  9.15s/it]\u001b[A\n",
      "  0%|▏                                                                                                       | 25/20293 [08:44<56:15:01,  9.99s/it]"
     ]
    },
    {
     "name": "stdout",
     "output_type": "stream",
     "text": [
      "2022-10-07 07:10:54.642529  :  0\n",
      "3\n"
     ]
    },
    {
     "name": "stderr",
     "output_type": "stream",
     "text": [
      "\n",
      "  0%|                                                                                                                      | 0/100 [00:00<?, ?it/s]\u001b[A\n",
      "  1%|█                                                                                                             | 1/100 [00:09<15:05,  9.15s/it]\u001b[A\n",
      "  0%|▏                                                                                                       | 26/20293 [08:55<56:43:12, 10.08s/it]"
     ]
    },
    {
     "name": "stdout",
     "output_type": "stream",
     "text": [
      "2022-10-07 07:11:04.908836  :  0\n",
      "3\n"
     ]
    },
    {
     "name": "stderr",
     "output_type": "stream",
     "text": [
      "\n",
      "  0%|                                                                                                                      | 0/100 [00:06<?, ?it/s]\u001b[A\n",
      "  0%|▏                                                                                                       | 27/20293 [09:01<49:58:45,  8.88s/it]\n",
      "  0%|                                                                                                                      | 0/100 [00:05<?, ?it/s]\u001b[A\n",
      "  0%|▏                                                                                                       | 28/20293 [09:06<43:35:24,  7.74s/it]\n",
      "  0%|                                                                                                                      | 0/100 [00:00<?, ?it/s]\u001b[A\n",
      "  1%|█                                                                                                             | 1/100 [00:09<15:06,  9.16s/it]\u001b[A\n",
      "  0%|▏                                                                                                       | 29/20293 [09:16<47:51:16,  8.50s/it]"
     ]
    },
    {
     "name": "stdout",
     "output_type": "stream",
     "text": [
      "2022-10-07 07:11:26.361643  :  0\n",
      "5\n"
     ]
    },
    {
     "name": "stderr",
     "output_type": "stream",
     "text": [
      "\n",
      "  0%|                                                                                                                      | 0/100 [00:00<?, ?it/s]\u001b[A\n",
      "  1%|█                                                                                                             | 1/100 [00:07<11:47,  7.14s/it]\u001b[A\n",
      "  0%|▏                                                                                                       | 30/20293 [09:24<47:26:44,  8.43s/it]"
     ]
    },
    {
     "name": "stdout",
     "output_type": "stream",
     "text": [
      "2022-10-07 07:11:34.624478  :  0\n",
      "3\n"
     ]
    },
    {
     "name": "stderr",
     "output_type": "stream",
     "text": [
      "\n",
      "  0%|                                                                                                                      | 0/100 [00:00<?, ?it/s]\u001b[A\n",
      "  1%|█                                                                                                             | 1/100 [00:09<15:07,  9.17s/it]\u001b[A\n",
      "  0%|▏                                                                                                       | 31/20293 [09:35<50:28:02,  8.97s/it]"
     ]
    },
    {
     "name": "stdout",
     "output_type": "stream",
     "text": [
      "2022-10-07 07:11:44.846836  :  0\n",
      "9\n"
     ]
    },
    {
     "name": "stderr",
     "output_type": "stream",
     "text": [
      "\n",
      "  0%|                                                                                                                      | 0/100 [00:00<?, ?it/s]\u001b[A\n",
      "  1%|█                                                                                                             | 1/100 [00:09<15:06,  9.16s/it]\u001b[A\n",
      "  0%|▏                                                                                                       | 32/20293 [09:45<52:46:11,  9.38s/it]"
     ]
    },
    {
     "name": "stdout",
     "output_type": "stream",
     "text": [
      "2022-10-07 07:11:55.178619  :  0\n",
      "3\n"
     ]
    },
    {
     "name": "stderr",
     "output_type": "stream",
     "text": [
      "\n",
      "  0%|                                                                                                                      | 0/100 [00:00<?, ?it/s]\u001b[A\n",
      "  1%|█                                                                                                             | 1/100 [00:10<16:50, 10.20s/it]\u001b[A\n",
      "  0%|▏                                                                                                       | 33/20293 [09:57<56:20:29, 10.01s/it]"
     ]
    },
    {
     "name": "stdout",
     "output_type": "stream",
     "text": [
      "2022-10-07 07:12:06.666190  :  0\n",
      "6\n"
     ]
    },
    {
     "name": "stderr",
     "output_type": "stream",
     "text": [
      "\n",
      "  0%|                                                                                                                      | 0/100 [00:00<?, ?it/s]\u001b[A\n",
      "  1%|█                                                                                                             | 1/100 [00:09<15:05,  9.14s/it]\u001b[A\n",
      "  0%|▏                                                                                                       | 34/20293 [10:07<56:54:45, 10.11s/it]"
     ]
    },
    {
     "name": "stdout",
     "output_type": "stream",
     "text": [
      "2022-10-07 07:12:17.023114  :  0\n",
      "7\n"
     ]
    },
    {
     "name": "stderr",
     "output_type": "stream",
     "text": [
      "\n",
      "  0%|                                                                                                                      | 0/100 [00:00<?, ?it/s]\u001b[A\n",
      "  1%|█                                                                                                             | 1/100 [00:08<13:27,  8.16s/it]\u001b[A\n",
      "  0%|▏                                                                                                       | 35/20293 [10:16<55:26:12,  9.85s/it]"
     ]
    },
    {
     "name": "stdout",
     "output_type": "stream",
     "text": [
      "2022-10-07 07:12:26.263882  :  0\n",
      "3\n"
     ]
    },
    {
     "name": "stderr",
     "output_type": "stream",
     "text": [
      "\n",
      "  0%|                                                                                                                      | 0/100 [00:00<?, ?it/s]\u001b[A\n",
      "  1%|█                                                                                                             | 1/100 [00:06<10:09,  6.15s/it]\u001b[A\n",
      "  0%|▏                                                                                                       | 36/20293 [10:23<51:00:42,  9.07s/it]"
     ]
    },
    {
     "name": "stdout",
     "output_type": "stream",
     "text": [
      "2022-10-07 07:12:33.495749  :  0\n",
      "2\n"
     ]
    },
    {
     "name": "stderr",
     "output_type": "stream",
     "text": [
      "\n",
      "  0%|                                                                                                                      | 0/100 [00:00<?, ?it/s]\u001b[A\n",
      "  1%|█                                                                                                             | 1/100 [00:08<13:27,  8.16s/it]\u001b[A\n",
      "  0%|▏                                                                                                       | 37/20293 [10:33<51:26:21,  9.14s/it]"
     ]
    },
    {
     "name": "stdout",
     "output_type": "stream",
     "text": [
      "2022-10-07 07:12:42.816043  :  0\n",
      "16\n"
     ]
    },
    {
     "name": "stderr",
     "output_type": "stream",
     "text": [
      "\n",
      "  0%|                                                                                                                      | 0/100 [00:00<?, ?it/s]\u001b[A\n",
      "  1%|█                                                                                                             | 1/100 [00:11<18:22, 11.13s/it]\u001b[A\n",
      "  0%|▏                                                                                                       | 38/20293 [10:45<56:37:43, 10.06s/it]"
     ]
    },
    {
     "name": "stdout",
     "output_type": "stream",
     "text": [
      "2022-10-07 07:12:55.034160  :  0\n",
      "8\n"
     ]
    },
    {
     "name": "stderr",
     "output_type": "stream",
     "text": [
      "\n",
      "  0%|                                                                                                                      | 0/100 [00:00<?, ?it/s]\u001b[A\n",
      "  1%|█                                                                                                             | 1/100 [00:09<15:06,  9.16s/it]\u001b[A\n",
      "  0%|▏                                                                                                       | 39/20293 [10:55<57:01:19, 10.14s/it]"
     ]
    },
    {
     "name": "stdout",
     "output_type": "stream",
     "text": [
      "2022-10-07 07:13:05.333679  :  0\n",
      "1\n"
     ]
    },
    {
     "name": "stderr",
     "output_type": "stream",
     "text": [
      "\n",
      "  0%|                                                                                                                      | 0/100 [00:00<?, ?it/s]\u001b[A\n",
      "  1%|█                                                                                                             | 1/100 [00:06<10:22,  6.29s/it]\u001b[A\n",
      "  0%|▏                                                                                                       | 40/20293 [11:03<52:24:43,  9.32s/it]"
     ]
    },
    {
     "name": "stdout",
     "output_type": "stream",
     "text": [
      "2022-10-07 07:13:12.739106  :  0\n",
      "16\n"
     ]
    },
    {
     "name": "stderr",
     "output_type": "stream",
     "text": [
      "\n",
      "  0%|                                                                                                                      | 0/100 [00:00<?, ?it/s]\u001b[A\n",
      "  1%|█                                                                                                             | 1/100 [00:06<10:04,  6.10s/it]\u001b[A\n",
      "  2%|██▏                                                                                                           | 2/100 [00:15<12:27,  7.63s/it]\u001b[A\n",
      "  0%|▏                                                                                                       | 41/20293 [11:19<64:20:59, 11.44s/it]"
     ]
    },
    {
     "name": "stdout",
     "output_type": "stream",
     "text": [
      "2022-10-07 07:13:29.130494  :  0\n",
      "31\n"
     ]
    },
    {
     "name": "stderr",
     "output_type": "stream",
     "text": [
      "\n",
      "  0%|                                                                                                                      | 0/100 [00:00<?, ?it/s]\u001b[A\n",
      "  1%|█                                                                                                             | 1/100 [00:09<15:06,  9.16s/it]\u001b[A\n",
      "  0%|▏                                                                                                       | 42/20293 [11:29<62:20:45, 11.08s/it]"
     ]
    },
    {
     "name": "stdout",
     "output_type": "stream",
     "text": [
      "2022-10-07 07:13:39.383866  :  0\n",
      "12\n"
     ]
    },
    {
     "name": "stderr",
     "output_type": "stream",
     "text": [
      "\n",
      "  0%|                                                                                                                      | 0/100 [00:00<?, ?it/s]\u001b[A\n",
      "  1%|█                                                                                                             | 1/100 [00:09<15:06,  9.16s/it]\u001b[A\n",
      "  0%|▏                                                                                                       | 43/20293 [11:40<61:11:04, 10.88s/it]"
     ]
    },
    {
     "name": "stdout",
     "output_type": "stream",
     "text": [
      "2022-10-07 07:13:49.779525  :  0\n",
      "11\n"
     ]
    },
    {
     "name": "stderr",
     "output_type": "stream",
     "text": [
      "\n",
      "  0%|                                                                                                                      | 0/100 [00:00<?, ?it/s]\u001b[A\n",
      "  1%|█                                                                                                             | 1/100 [00:11<18:24, 11.16s/it]\u001b[A\n",
      "  0%|▏                                                                                                       | 44/20293 [11:52<63:28:12, 11.28s/it]"
     ]
    },
    {
     "name": "stdout",
     "output_type": "stream",
     "text": [
      "2022-10-07 07:14:02.014174  :  0\n",
      "2\n"
     ]
    },
    {
     "name": "stderr",
     "output_type": "stream",
     "text": [
      "\n",
      "  0%|                                                                                                                      | 0/100 [00:00<?, ?it/s]\u001b[A\n",
      "  1%|█                                                                                                             | 1/100 [00:11<18:23, 11.14s/it]\u001b[A\n",
      "  0%|▏                                                                                                       | 45/20293 [12:04<65:09:42, 11.59s/it]"
     ]
    },
    {
     "name": "stdout",
     "output_type": "stream",
     "text": [
      "2022-10-07 07:14:14.302752  :  0\n",
      "3\n"
     ]
    },
    {
     "name": "stderr",
     "output_type": "stream",
     "text": [
      "\n",
      "  0%|                                                                                                                      | 0/100 [00:03<?, ?it/s]\u001b[A\n",
      "  0%|▏                                                                                                       | 46/20293 [12:07<50:52:20,  9.05s/it]\n",
      "  0%|                                                                                                                      | 0/100 [00:00<?, ?it/s]\u001b[A\n",
      "  1%|█                                                                                                             | 1/100 [00:09<15:05,  9.14s/it]\u001b[A\n",
      "  0%|▏                                                                                                       | 46/20293 [12:16<90:05:57, 16.02s/it]\n"
     ]
    },
    {
     "ename": "KeyError",
     "evalue": "\"['atclFetrDesc'] not in index\"",
     "output_type": "error",
     "traceback": [
      "\u001b[1;31m---------------------------------------------------------------------------\u001b[0m",
      "\u001b[1;31mKeyError\u001b[0m                                  Traceback (most recent call last)",
      "Input \u001b[1;32mIn [7]\u001b[0m, in \u001b[0;36m<cell line: 6>\u001b[1;34m()\u001b[0m\n\u001b[0;32m     34\u001b[0m \u001b[38;5;66;03m# 받은 데이터 바로 적재 (언제 막힐지 모르니까 바로바로 적재)\u001b[39;00m\n\u001b[0;32m     35\u001b[0m \u001b[38;5;28;01mif\u001b[39;00m \u001b[38;5;28mlen\u001b[39m(info_df) \u001b[38;5;241m>\u001b[39m \u001b[38;5;241m0\u001b[39m:\n\u001b[0;32m     36\u001b[0m     \n\u001b[0;32m     37\u001b[0m     \u001b[38;5;66;03m# 컬럼 정리\u001b[39;00m\n\u001b[1;32m---> 38\u001b[0m     info_df \u001b[38;5;241m=\u001b[39m \u001b[43minfo_df\u001b[49m\u001b[43m[\u001b[49m\u001b[43m[\u001b[49m\u001b[38;5;124;43m'\u001b[39;49m\u001b[38;5;124;43matclNo\u001b[39;49m\u001b[38;5;124;43m'\u001b[39;49m\u001b[43m,\u001b[49m\u001b[38;5;124;43m'\u001b[39;49m\u001b[38;5;124;43mcortarNo\u001b[39;49m\u001b[38;5;124;43m'\u001b[39;49m\u001b[43m,\u001b[49m\u001b[38;5;124;43m'\u001b[39;49m\u001b[38;5;124;43matclNm\u001b[39;49m\u001b[38;5;124;43m'\u001b[39;49m\u001b[43m,\u001b[49m\u001b[38;5;124;43m'\u001b[39;49m\u001b[38;5;124;43matclStatCd\u001b[39;49m\u001b[38;5;124;43m'\u001b[39;49m\u001b[43m,\u001b[49m\u001b[38;5;124;43m'\u001b[39;49m\u001b[38;5;124;43mrletTpCd\u001b[39;49m\u001b[38;5;124;43m'\u001b[39;49m\u001b[43m,\u001b[49m\u001b[38;5;124;43m'\u001b[39;49m\u001b[38;5;124;43muprRletTpCd\u001b[39;49m\u001b[38;5;124;43m'\u001b[39;49m\u001b[43m,\u001b[49m\u001b[38;5;124;43m'\u001b[39;49m\u001b[38;5;124;43mrletTpNm\u001b[39;49m\u001b[38;5;124;43m'\u001b[39;49m\u001b[43m,\u001b[49m\u001b[38;5;124;43m'\u001b[39;49m\u001b[38;5;124;43mtradTpCd\u001b[39;49m\u001b[38;5;124;43m'\u001b[39;49m\u001b[43m,\u001b[49m\u001b[38;5;124;43m'\u001b[39;49m\u001b[38;5;124;43mtradTpNm\u001b[39;49m\u001b[38;5;124;43m'\u001b[39;49m\u001b[43m,\u001b[49m\u001b[38;5;124;43m'\u001b[39;49m\u001b[38;5;124;43mvrfcTpCd\u001b[39;49m\u001b[38;5;124;43m'\u001b[39;49m\u001b[43m,\u001b[49m\u001b[38;5;124;43m'\u001b[39;49m\u001b[38;5;124;43mflrInfo\u001b[39;49m\u001b[38;5;124;43m'\u001b[39;49m\u001b[43m,\u001b[49m\u001b[38;5;124;43m'\u001b[39;49m\u001b[38;5;124;43mprc\u001b[39;49m\u001b[38;5;124;43m'\u001b[39;49m\u001b[43m,\u001b[49m\u001b[38;5;124;43m'\u001b[39;49m\u001b[38;5;124;43mrentPrc\u001b[39;49m\u001b[38;5;124;43m'\u001b[39;49m\u001b[43m,\u001b[49m\u001b[38;5;124;43m'\u001b[39;49m\u001b[38;5;124;43mspc1\u001b[39;49m\u001b[38;5;124;43m'\u001b[39;49m\u001b[43m,\u001b[49m\u001b[38;5;124;43m'\u001b[39;49m\u001b[38;5;124;43mspc2\u001b[39;49m\u001b[38;5;124;43m'\u001b[39;49m\u001b[43m,\u001b[49m\u001b[38;5;124;43m'\u001b[39;49m\u001b[38;5;124;43mdirection\u001b[39;49m\u001b[38;5;124;43m'\u001b[39;49m\u001b[43m,\u001b[49m\u001b[38;5;124;43m'\u001b[39;49m\u001b[38;5;124;43matclCfmYmd\u001b[39;49m\u001b[38;5;124;43m'\u001b[39;49m\u001b[43m,\u001b[49m\u001b[38;5;124;43m'\u001b[39;49m\u001b[38;5;124;43mlat\u001b[39;49m\u001b[38;5;124;43m'\u001b[39;49m\u001b[43m,\u001b[49m\u001b[38;5;124;43m'\u001b[39;49m\u001b[38;5;124;43mlng\u001b[39;49m\u001b[38;5;124;43m'\u001b[39;49m\u001b[43m,\u001b[49m\u001b[38;5;124;43m'\u001b[39;49m\u001b[38;5;124;43matclFetrDesc\u001b[39;49m\u001b[38;5;124;43m'\u001b[39;49m\u001b[43m,\u001b[49m\u001b[38;5;124;43m'\u001b[39;49m\u001b[38;5;124;43mcpid\u001b[39;49m\u001b[38;5;124;43m'\u001b[39;49m\u001b[43m,\u001b[49m\u001b[38;5;124;43m'\u001b[39;49m\u001b[38;5;124;43mcpNm\u001b[39;49m\u001b[38;5;124;43m'\u001b[39;49m\u001b[43m,\u001b[49m\u001b[38;5;124;43m'\u001b[39;49m\u001b[38;5;124;43mrltrNm\u001b[39;49m\u001b[38;5;124;43m'\u001b[39;49m\u001b[43m]\u001b[49m\u001b[43m]\u001b[49m\n\u001b[0;32m     39\u001b[0m     \u001b[38;5;66;03m# NaN 처리\u001b[39;00m\n\u001b[0;32m     40\u001b[0m     info_df \u001b[38;5;241m=\u001b[39m info_df\u001b[38;5;241m.\u001b[39mfillna(np\u001b[38;5;241m.\u001b[39mnan)\n",
      "File \u001b[1;32m~\\Anaconda3\\envs\\oasis\\lib\\site-packages\\pandas\\core\\frame.py:3030\u001b[0m, in \u001b[0;36mDataFrame.__getitem__\u001b[1;34m(self, key)\u001b[0m\n\u001b[0;32m   3028\u001b[0m     \u001b[38;5;28;01mif\u001b[39;00m is_iterator(key):\n\u001b[0;32m   3029\u001b[0m         key \u001b[38;5;241m=\u001b[39m \u001b[38;5;28mlist\u001b[39m(key)\n\u001b[1;32m-> 3030\u001b[0m     indexer \u001b[38;5;241m=\u001b[39m \u001b[38;5;28;43mself\u001b[39;49m\u001b[38;5;241;43m.\u001b[39;49m\u001b[43mloc\u001b[49m\u001b[38;5;241;43m.\u001b[39;49m\u001b[43m_get_listlike_indexer\u001b[49m\u001b[43m(\u001b[49m\u001b[43mkey\u001b[49m\u001b[43m,\u001b[49m\u001b[43m \u001b[49m\u001b[43maxis\u001b[49m\u001b[38;5;241;43m=\u001b[39;49m\u001b[38;5;241;43m1\u001b[39;49m\u001b[43m,\u001b[49m\u001b[43m \u001b[49m\u001b[43mraise_missing\u001b[49m\u001b[38;5;241;43m=\u001b[39;49m\u001b[38;5;28;43;01mTrue\u001b[39;49;00m\u001b[43m)\u001b[49m[\u001b[38;5;241m1\u001b[39m]\n\u001b[0;32m   3032\u001b[0m \u001b[38;5;66;03m# take() does not accept boolean indexers\u001b[39;00m\n\u001b[0;32m   3033\u001b[0m \u001b[38;5;28;01mif\u001b[39;00m \u001b[38;5;28mgetattr\u001b[39m(indexer, \u001b[38;5;124m\"\u001b[39m\u001b[38;5;124mdtype\u001b[39m\u001b[38;5;124m\"\u001b[39m, \u001b[38;5;28;01mNone\u001b[39;00m) \u001b[38;5;241m==\u001b[39m \u001b[38;5;28mbool\u001b[39m:\n",
      "File \u001b[1;32m~\\Anaconda3\\envs\\oasis\\lib\\site-packages\\pandas\\core\\indexing.py:1266\u001b[0m, in \u001b[0;36m_LocIndexer._get_listlike_indexer\u001b[1;34m(self, key, axis, raise_missing)\u001b[0m\n\u001b[0;32m   1263\u001b[0m \u001b[38;5;28;01melse\u001b[39;00m:\n\u001b[0;32m   1264\u001b[0m     keyarr, indexer, new_indexer \u001b[38;5;241m=\u001b[39m ax\u001b[38;5;241m.\u001b[39m_reindex_non_unique(keyarr)\n\u001b[1;32m-> 1266\u001b[0m \u001b[38;5;28;43mself\u001b[39;49m\u001b[38;5;241;43m.\u001b[39;49m\u001b[43m_validate_read_indexer\u001b[49m\u001b[43m(\u001b[49m\u001b[43mkeyarr\u001b[49m\u001b[43m,\u001b[49m\u001b[43m \u001b[49m\u001b[43mindexer\u001b[49m\u001b[43m,\u001b[49m\u001b[43m \u001b[49m\u001b[43maxis\u001b[49m\u001b[43m,\u001b[49m\u001b[43m \u001b[49m\u001b[43mraise_missing\u001b[49m\u001b[38;5;241;43m=\u001b[39;49m\u001b[43mraise_missing\u001b[49m\u001b[43m)\u001b[49m\n\u001b[0;32m   1267\u001b[0m \u001b[38;5;28;01mreturn\u001b[39;00m keyarr, indexer\n",
      "File \u001b[1;32m~\\Anaconda3\\envs\\oasis\\lib\\site-packages\\pandas\\core\\indexing.py:1316\u001b[0m, in \u001b[0;36m_LocIndexer._validate_read_indexer\u001b[1;34m(self, key, indexer, axis, raise_missing)\u001b[0m\n\u001b[0;32m   1314\u001b[0m \u001b[38;5;28;01mif\u001b[39;00m raise_missing:\n\u001b[0;32m   1315\u001b[0m     not_found \u001b[38;5;241m=\u001b[39m \u001b[38;5;28mlist\u001b[39m(\u001b[38;5;28mset\u001b[39m(key) \u001b[38;5;241m-\u001b[39m \u001b[38;5;28mset\u001b[39m(ax))\n\u001b[1;32m-> 1316\u001b[0m     \u001b[38;5;28;01mraise\u001b[39;00m \u001b[38;5;167;01mKeyError\u001b[39;00m(\u001b[38;5;124mf\u001b[39m\u001b[38;5;124m\"\u001b[39m\u001b[38;5;132;01m{\u001b[39;00mnot_found\u001b[38;5;132;01m}\u001b[39;00m\u001b[38;5;124m not in index\u001b[39m\u001b[38;5;124m\"\u001b[39m)\n\u001b[0;32m   1318\u001b[0m not_found \u001b[38;5;241m=\u001b[39m key[missing_mask]\n\u001b[0;32m   1320\u001b[0m \u001b[38;5;28;01mwith\u001b[39;00m option_context(\u001b[38;5;124m\"\u001b[39m\u001b[38;5;124mdisplay.max_seq_items\u001b[39m\u001b[38;5;124m\"\u001b[39m, \u001b[38;5;241m10\u001b[39m, \u001b[38;5;124m\"\u001b[39m\u001b[38;5;124mdisplay.width\u001b[39m\u001b[38;5;124m\"\u001b[39m, \u001b[38;5;241m80\u001b[39m):\n",
      "\u001b[1;31mKeyError\u001b[0m: \"['atclFetrDesc'] not in index\""
     ]
    }
   ],
   "source": [
    "### 2. 전월세 호가 수집\n",
    "# 변수 생성\n",
    "fails = [] # 호가 데이터 없는 법정동\n",
    "noColIdx = [] # 컬럼명 다른 지역 따로 처리 (DB 저장은 됨)\n",
    "\n",
    "# json to dataframe\n",
    "for i in tqdm(range(len(lawd_cd_unique))):\n",
    "    \n",
    "    # 초기화\n",
    "    info_df = pd.DataFrame()\n",
    "\n",
    "    # 전체 페이지 수집\n",
    "    for page in tqdm(range(0,100)):\n",
    "\n",
    "        # url 호출\n",
    "        url = 'https://m.land.naver.com/cluster/ajax/articleList?itemId=&mapKey=&lgeo=&showR0=&rletTpCd=SG&tradTpCd=A1%3AB1%3AB2&z=14&totCnt=402&cortarNo={}&sort=rank&page={}'.format(lawd_cd_unique[i],str(page+1))\n",
    "        headers = {'user-agent' : ua.ie,'referer' : 'https://m.land.naver.com/'}\n",
    "        time.sleep(random.randrange(3,7))\n",
    "        response = requests.get(url, headers = headers)\n",
    "\n",
    "        # body 태그 선택\n",
    "        items = response.json()['body']\n",
    "\n",
    "        # 다음 페이지 존재 여부 확인\n",
    "        if (len(items) > 0):\n",
    "            try:\n",
    "                # 데이터프레임화\n",
    "                df = pd.DataFrame(items)\n",
    "                info_df = info_df.append(df)\n",
    "            except:\n",
    "                fails.append([i])\n",
    "        else:\n",
    "            break\n",
    "\n",
    "    # 받은 데이터 바로 적재 (언제 막힐지 모르니까 바로바로 적재)\n",
    "    if len(info_df) > 0:\n",
    "        \n",
    "        try:\n",
    "            # 컬럼 정리\n",
    "            info_df = info_df[['atclNo','cortarNo','atclNm','atclStatCd','rletTpCd','uprRletTpCd','rletTpNm','tradTpCd','tradTpNm','vrfcTpCd','flrInfo','prc','rentPrc','spc1','spc2','direction','atclCfmYmd','lat','lng','atclFetrDesc','cpid','cpNm','rltrNm']]\n",
    "            # NaN 처리\n",
    "            info_df = info_df.fillna(np.nan)\n",
    "            \n",
    "        except:\n",
    "            noColIdx.append(i)\n",
    "            \n",
    "        ### 3. DB INSERT\n",
    "        df = info_df\n",
    "        table = 'm1.asking_price'\n",
    "\n",
    "        # execute_mogrify\n",
    "        def execute_mogrify(conn, df, table, val):\n",
    "            # Create a list of tuples from the dataframe values\n",
    "            tuples = [tuple(x) for x in df.to_numpy()]\n",
    "            # Comma-separated dataframe columns\n",
    "            cols = ','.join(list(df.columns))\n",
    "            # SQL query to execute\n",
    "            cursor = conn.cursor()\n",
    "            values = [cursor.mogrify(val, tup).decode('utf8') for tup in\n",
    "                      tuples]\n",
    "            query = \"INSERT INTO %s(%s) VALUES \" % (table, cols) + \",\".join(values)\n",
    "\n",
    "            try:\n",
    "                cursor.execute(query, tuples)\n",
    "                conn.commit()\n",
    "            except (Exception, psycopg2.DatabaseError) as error:\n",
    "                print(\"Error: %s\" % error)\n",
    "                conn.rollback()\n",
    "                cursor.close()\n",
    "                return 1\n",
    "            cursor.close()\n",
    "\n",
    "        # values 설정\n",
    "        val = '(' + ('%s,' * len(df.columns))[:-1] + ')'\n",
    "\n",
    "        # insert\n",
    "        for j in range(0, len(df), 10000):\n",
    "\n",
    "            # DB Connect\n",
    "            conn = psycopg2.connect(\n",
    "                host='redshift-cluster-1.ctvbwnnvbdkl.ap-northeast-2.redshift.amazonaws.com',\n",
    "                port=5439,\n",
    "                dbname='dev',\n",
    "                user='awsuser',\n",
    "                password='cremaoAdmin1234qwer!!'\n",
    "            )\n",
    "\n",
    "            # 10000개 단위로 나누기\n",
    "            tmp = df[j:j + 10000]\n",
    "\n",
    "            # insert\n",
    "            execute_mogrify(conn, tmp, table, val)\n",
    "            print(datetime.datetime.now(), ' : ', j)\n",
    "            tmp = pd.DataFrame()\n",
    "\n",
    "        # row count\n",
    "        print(len(df))"
   ]
  }
 ],
 "metadata": {
  "kernelspec": {
   "display_name": "oasis",
   "language": "python",
   "name": "oasis"
  },
  "language_info": {
   "codemirror_mode": {
    "name": "ipython",
    "version": 3
   },
   "file_extension": ".py",
   "mimetype": "text/x-python",
   "name": "python",
   "nbconvert_exporter": "python",
   "pygments_lexer": "ipython3",
   "version": "3.8.13"
  }
 },
 "nbformat": 4,
 "nbformat_minor": 5
}
