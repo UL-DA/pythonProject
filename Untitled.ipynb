{
 "cells": [
  {
   "cell_type": "code",
   "execution_count": 1,
   "id": "fb30d635-d777-423a-b152-2940b58dd875",
   "metadata": {},
   "outputs": [],
   "source": [
    "# 데이터 프레임 관련\n",
    "import numpy  as np\n",
    "import pandas as pd\n",
    "\n",
    "# XML 관련\n",
    "import bs4\n",
    "from os import name\n",
    "\n",
    "# API 호출 관련\n",
    "import json\n",
    "import requests\n",
    "\n",
    "# 기타\n",
    "import time\n",
    "from tqdm import tqdm\n",
    "\n",
    "# db connect\n",
    "import psycopg2"
   ]
  },
  {
   "cell_type": "code",
   "execution_count": 2,
   "id": "59be7a0d-d6b7-4b1b-807a-76fa14f357e3",
   "metadata": {},
   "outputs": [],
   "source": [
    "# pnu 추출\n",
    "df_pnu = pd.read_csv('./0.pnu.csv')"
   ]
  },
  {
   "cell_type": "code",
   "execution_count": 16,
   "id": "0a338db8-1a6c-4411-8a72-930a377f5f69",
   "metadata": {},
   "outputs": [],
   "source": [
    "df_pnu = df_pnu.drop_duplicates().reset_index(drop=True)"
   ]
  },
  {
   "cell_type": "code",
   "execution_count": 17,
   "id": "fe72baaf-9d6e-48e8-889f-1f7131b408ed",
   "metadata": {},
   "outputs": [],
   "source": [
    "df_pnu.to_csv('./0.pnu.csv', index=False, encoding='utf-8')"
   ]
  },
  {
   "cell_type": "code",
   "execution_count": 28,
   "id": "fb604ddb-ded6-43bc-a256-f706831e86df",
   "metadata": {},
   "outputs": [
    {
     "data": {
      "text/html": [
       "<div>\n",
       "<style scoped>\n",
       "    .dataframe tbody tr th:only-of-type {\n",
       "        vertical-align: middle;\n",
       "    }\n",
       "\n",
       "    .dataframe tbody tr th {\n",
       "        vertical-align: top;\n",
       "    }\n",
       "\n",
       "    .dataframe thead th {\n",
       "        text-align: right;\n",
       "    }\n",
       "</style>\n",
       "<table border=\"1\" class=\"dataframe\">\n",
       "  <thead>\n",
       "    <tr style=\"text-align: right;\">\n",
       "      <th></th>\n",
       "      <th>pnu</th>\n",
       "    </tr>\n",
       "  </thead>\n",
       "  <tbody>\n",
       "    <tr>\n",
       "      <th>9</th>\n",
       "      <td>1111015800102690002</td>\n",
       "    </tr>\n",
       "  </tbody>\n",
       "</table>\n",
       "</div>"
      ],
      "text/plain": [
       "                   pnu\n",
       "9  1111015800102690002"
      ]
     },
     "execution_count": 28,
     "metadata": {},
     "output_type": "execute_result"
    }
   ],
   "source": [
    "df_pnu[df_pnu['pnu']=='1111015800102690002']"
   ]
  },
  {
   "cell_type": "code",
   "execution_count": 26,
   "id": "477fdd1b-1567-4fa7-9510-991cfb496a12",
   "metadata": {},
   "outputs": [],
   "source": [
    "cnt_bf = 0\n",
    "cnt_af = 10"
   ]
  },
  {
   "cell_type": "code",
   "execution_count": 31,
   "id": "b87bf7ab-ff7e-4525-995b-8d9d6b81b9d1",
   "metadata": {},
   "outputs": [
    {
     "data": {
      "text/plain": [
       "'1132010800106370111'"
      ]
     },
     "execution_count": 31,
     "metadata": {},
     "output_type": "execute_result"
    }
   ],
   "source": [
    "df_pnu['pnu'][748063]"
   ]
  },
  {
   "cell_type": "code",
   "execution_count": 20,
   "id": "7d9ecd0e-7a00-4d3b-ab3f-92bf08aba4bd",
   "metadata": {
    "collapsed": true,
    "jupyter": {
     "outputs_hidden": true
    },
    "tags": []
   },
   "outputs": [
    {
     "name": "stderr",
     "output_type": "stream",
     "text": [
      "C:\\Users\\duPar\\Anaconda3\\envs\\oasis\\lib\\site-packages\\pandas\\core\\internals\\construction.py:576: VisibleDeprecationWarning: Creating an ndarray from ragged nested sequences (which is a list-or-tuple of lists-or-tuples-or ndarrays with different lengths or shapes) is deprecated. If you meant to do this, you must specify 'dtype=object' when creating the ndarray.\n",
      "  values = np.array([convert(v) for v in values])\n",
      "100%|███████████████████████████████████████████████████████████████████████████████████| 1/1 [00:00<00:00, 132.27it/s]\n",
      "C:\\Users\\duPar\\Anaconda3\\envs\\oasis\\lib\\site-packages\\pandas\\core\\internals\\construction.py:576: VisibleDeprecationWarning: Creating an ndarray from ragged nested sequences (which is a list-or-tuple of lists-or-tuples-or ndarrays with different lengths or shapes) is deprecated. If you meant to do this, you must specify 'dtype=object' when creating the ndarray.\n",
      "  values = np.array([convert(v) for v in values])\n",
      "100%|████████████████████████████████████████████████████████████████████████████████████| 1/1 [00:00<00:00, 73.46it/s]\n",
      "C:\\Users\\duPar\\Anaconda3\\envs\\oasis\\lib\\site-packages\\pandas\\core\\internals\\construction.py:576: VisibleDeprecationWarning: Creating an ndarray from ragged nested sequences (which is a list-or-tuple of lists-or-tuples-or ndarrays with different lengths or shapes) is deprecated. If you meant to do this, you must specify 'dtype=object' when creating the ndarray.\n",
      "  values = np.array([convert(v) for v in values])\n",
      "100%|███████████████████████████████████████████████████████████████████████████████████| 1/1 [00:00<00:00, 219.46it/s]\n",
      "C:\\Users\\duPar\\Anaconda3\\envs\\oasis\\lib\\site-packages\\pandas\\core\\internals\\construction.py:576: VisibleDeprecationWarning: Creating an ndarray from ragged nested sequences (which is a list-or-tuple of lists-or-tuples-or ndarrays with different lengths or shapes) is deprecated. If you meant to do this, you must specify 'dtype=object' when creating the ndarray.\n",
      "  values = np.array([convert(v) for v in values])\n",
      "100%|███████████████████████████████████████████████████████████████████████████████████| 1/1 [00:00<00:00, 406.31it/s]\n",
      "C:\\Users\\duPar\\Anaconda3\\envs\\oasis\\lib\\site-packages\\pandas\\core\\internals\\construction.py:576: VisibleDeprecationWarning: Creating an ndarray from ragged nested sequences (which is a list-or-tuple of lists-or-tuples-or ndarrays with different lengths or shapes) is deprecated. If you meant to do this, you must specify 'dtype=object' when creating the ndarray.\n",
      "  values = np.array([convert(v) for v in values])\n",
      "100%|███████████████████████████████████████████████████████████████████████████████████| 1/1 [00:00<00:00, 460.31it/s]\n",
      "0it [00:00, ?it/s]\n",
      "C:\\Users\\duPar\\Anaconda3\\envs\\oasis\\lib\\site-packages\\pandas\\core\\internals\\construction.py:576: VisibleDeprecationWarning: Creating an ndarray from ragged nested sequences (which is a list-or-tuple of lists-or-tuples-or ndarrays with different lengths or shapes) is deprecated. If you meant to do this, you must specify 'dtype=object' when creating the ndarray.\n",
      "  values = np.array([convert(v) for v in values])\n",
      "100%|████████████████████████████████████████████████████████████████████████████████████| 1/1 [00:00<00:00, 60.44it/s]\n",
      "C:\\Users\\duPar\\Anaconda3\\envs\\oasis\\lib\\site-packages\\pandas\\core\\internals\\construction.py:576: VisibleDeprecationWarning: Creating an ndarray from ragged nested sequences (which is a list-or-tuple of lists-or-tuples-or ndarrays with different lengths or shapes) is deprecated. If you meant to do this, you must specify 'dtype=object' when creating the ndarray.\n",
      "  values = np.array([convert(v) for v in values])\n",
      "100%|████████████████████████████████████████████████████████████████████████████████████| 1/1 [00:00<00:00, 57.92it/s]\n",
      "C:\\Users\\duPar\\Anaconda3\\envs\\oasis\\lib\\site-packages\\pandas\\core\\internals\\construction.py:576: VisibleDeprecationWarning: Creating an ndarray from ragged nested sequences (which is a list-or-tuple of lists-or-tuples-or ndarrays with different lengths or shapes) is deprecated. If you meant to do this, you must specify 'dtype=object' when creating the ndarray.\n",
      "  values = np.array([convert(v) for v in values])\n",
      "100%|███████████████████████████████████████████████████████████████████████████████████| 1/1 [00:00<00:00, 443.94it/s]\n",
      "C:\\Users\\duPar\\Anaconda3\\envs\\oasis\\lib\\site-packages\\pandas\\core\\internals\\construction.py:576: VisibleDeprecationWarning: Creating an ndarray from ragged nested sequences (which is a list-or-tuple of lists-or-tuples-or ndarrays with different lengths or shapes) is deprecated. If you meant to do this, you must specify 'dtype=object' when creating the ndarray.\n",
      "  values = np.array([convert(v) for v in values])\n",
      "100%|███████████████████████████████████████████████████████████████████████████████████| 1/1 [00:00<00:00, 221.60it/s]\n"
     ]
    }
   ],
   "source": [
    "# 리스트에 값 담기\n",
    "row_list   = [] # 행 값\n",
    "name_list  = [] # 열이름 값\n",
    "value_list = [] # 데이터 값\n",
    "df = pd.DataFrame() # 최종 값\n",
    "\n",
    "# API 호출\n",
    "srsName = 'EPSG:5179'\n",
    "serviceKey = 'sJuqUegKT1Q0R4IRDqoJklMK8xDxru%2BrNu%2BK5JXRh1mbeH4tFTWwQYWVK3xdbbJCCe14u5bQyl43S28%2F5TtfrA%3D%3D'\n",
    "\n",
    "# 잘라서 담기\n",
    "cnt_bf = 0\n",
    "cnt_af = 10\n",
    "# pnu_list = range(0, len(df_pnu['pnu'][cnt_bf:cnt_af]))\n",
    "for pnu in pnu_list:\n",
    "    pnu_list = df_pnu['pnu'][cnt_bf:cnt_af]\n",
    "    cnt_bf = cnt_af\n",
    "    cnt_af = cnt_af + 10\n",
    "    url = f'http://apis.data.go.kr/1611000/nsdi/IndvdLandPriceService/wfs/getIndvdLandPriceWFS?pnu={pnu}&serviceKey={serviceKey}'\n",
    "    response = requests.get(url)\n",
    "    content  = response.text\n",
    "\n",
    "    # item 태그 분리\n",
    "    xml_obj = bs4.BeautifulSoup(content,'xml')\n",
    "    DF = pd.DataFrame(xml_obj)\n",
    "    DF = DF.transpose().drop_duplicates()\n",
    "    DF = DF.drop([0],axis=0).reset_index(drop=True)\n",
    "\n",
    "    # 데이터 수집\n",
    "    for i in range(1,len(DF)):\n",
    "        columns = DF[0][i].find_all()\n",
    "        for j in range(0,len(columns)):\n",
    "            name_list.append(columns[j].name)\n",
    "            value_list.append(columns[j].text)\n",
    "        \n",
    "        row_list = value_list\n",
    "        df_each  = pd.DataFrame([row_list], columns=name_list)\n",
    "        try:\n",
    "            df = pd.concat([df, df_each])\n",
    "            df = df.reset_index(drop=True)\n",
    "        except:\n",
    "            print(i)\n",
    "            pass\n",
    "\n",
    "        # 초기화\n",
    "        name_list  = []\n",
    "        value_list = []\n",
    "\n",
    "# nan처리\n",
    "df = df.replace(' ', np.nan)\n",
    "df = df.replace('', np.nan)\n",
    "df = df.drop(columns=['F166','MultiSurface','surfaceMember','LinearRing','Polygon','exterior','posList'])\n",
    "\n",
    "# xlsx로 저장\n",
    "df.to_excel('./test_pnu.xlsx', index=False, encoding='utf-8')\n",
    "\n",
    "# execute\n",
    "table = 'm1.land_price_wfs'\n",
    "# execute_mogrify(conn, df, table, val)"
   ]
  },
  {
   "cell_type": "code",
   "execution_count": 21,
   "id": "d8bbdab5-375c-46d6-b913-bc564fc185d9",
   "metadata": {},
   "outputs": [
    {
     "data": {
      "text/html": [
       "<div>\n",
       "<style scoped>\n",
       "    .dataframe tbody tr th:only-of-type {\n",
       "        vertical-align: middle;\n",
       "    }\n",
       "\n",
       "    .dataframe tbody tr th {\n",
       "        vertical-align: top;\n",
       "    }\n",
       "\n",
       "    .dataframe thead th {\n",
       "        text-align: right;\n",
       "    }\n",
       "</style>\n",
       "<table border=\"1\" class=\"dataframe\">\n",
       "  <thead>\n",
       "    <tr style=\"text-align: right;\">\n",
       "      <th></th>\n",
       "      <th>SHAPE</th>\n",
       "      <th>PNU</th>\n",
       "      <th>LD_CPSG_CODE</th>\n",
       "      <th>LD_EMD_LI_CODE</th>\n",
       "      <th>REGSTR_SE_CODE</th>\n",
       "      <th>MNNM</th>\n",
       "      <th>SLNO</th>\n",
       "      <th>LNM_LNDCGR_SMBOL</th>\n",
       "      <th>ISSU_CONFM_CODE</th>\n",
       "      <th>SRC_OBJECTID</th>\n",
       "      <th>...</th>\n",
       "      <th>STD_LAND_AT</th>\n",
       "      <th>STD_LAND_SN</th>\n",
       "      <th>LNDCGR_CODE</th>\n",
       "      <th>LNDPCL_AR</th>\n",
       "      <th>PRPOS_AREA</th>\n",
       "      <th>LAD_USE_SITTN</th>\n",
       "      <th>LAD_USE_SITTN_ETC</th>\n",
       "      <th>TPGRPH_FRM_CODE</th>\n",
       "      <th>ROAD_SIDE_CODE</th>\n",
       "      <th>FRST_REGIST_DT</th>\n",
       "    </tr>\n",
       "  </thead>\n",
       "  <tbody>\n",
       "    <tr>\n",
       "      <th>0</th>\n",
       "      <td>236452.8990000002 401017.2427999992 236432.932...</td>\n",
       "      <td>4146135025102240002</td>\n",
       "      <td>41461</td>\n",
       "      <td>35025</td>\n",
       "      <td>1</td>\n",
       "      <td>0224</td>\n",
       "      <td>0002</td>\n",
       "      <td>224-2장</td>\n",
       "      <td>1</td>\n",
       "      <td>1964728</td>\n",
       "      <td>...</td>\n",
       "      <td>0</td>\n",
       "      <td>0</td>\n",
       "      <td>NaN</td>\n",
       "      <td>0.0</td>\n",
       "      <td>NaN</td>\n",
       "      <td>NaN</td>\n",
       "      <td>NaN</td>\n",
       "      <td>NaN</td>\n",
       "      <td>NaN</td>\n",
       "      <td>2022-08-04T18:33:42</td>\n",
       "    </tr>\n",
       "    <tr>\n",
       "      <th>1</th>\n",
       "      <td>200226.6840000004 412205.3259999994 200224.449...</td>\n",
       "      <td>4159012500101920234</td>\n",
       "      <td>41590</td>\n",
       "      <td>12500</td>\n",
       "      <td>1</td>\n",
       "      <td>0192</td>\n",
       "      <td>0234</td>\n",
       "      <td>192-234 전</td>\n",
       "      <td>1</td>\n",
       "      <td>3584601</td>\n",
       "      <td>...</td>\n",
       "      <td>NaN</td>\n",
       "      <td>0</td>\n",
       "      <td>NaN</td>\n",
       "      <td>0.0</td>\n",
       "      <td>NaN</td>\n",
       "      <td>NaN</td>\n",
       "      <td>NaN</td>\n",
       "      <td>NaN</td>\n",
       "      <td>NaN</td>\n",
       "      <td>2022-08-04T18:33:42</td>\n",
       "    </tr>\n",
       "    <tr>\n",
       "      <th>2</th>\n",
       "      <td>194745.9699999997 396338.5850000009 194862.508...</td>\n",
       "      <td>4159040026100750033</td>\n",
       "      <td>41590</td>\n",
       "      <td>40026</td>\n",
       "      <td>1</td>\n",
       "      <td>0075</td>\n",
       "      <td>0033</td>\n",
       "      <td>75-33 도</td>\n",
       "      <td>1</td>\n",
       "      <td>2267248</td>\n",
       "      <td>...</td>\n",
       "      <td>0</td>\n",
       "      <td>0</td>\n",
       "      <td>NaN</td>\n",
       "      <td>0.0</td>\n",
       "      <td>NaN</td>\n",
       "      <td>NaN</td>\n",
       "      <td>NaN</td>\n",
       "      <td>NaN</td>\n",
       "      <td>NaN</td>\n",
       "      <td>2022-08-04T18:33:42</td>\n",
       "    </tr>\n",
       "    <tr>\n",
       "      <th>3</th>\n",
       "      <td>180471.1929000001 481667.4134999998 180448.812...</td>\n",
       "      <td>4148025029116440000</td>\n",
       "      <td>41480</td>\n",
       "      <td>25029</td>\n",
       "      <td>1</td>\n",
       "      <td>1644</td>\n",
       "      <td>0000</td>\n",
       "      <td>1644 도</td>\n",
       "      <td>1</td>\n",
       "      <td>284793</td>\n",
       "      <td>...</td>\n",
       "      <td>0</td>\n",
       "      <td>0</td>\n",
       "      <td>NaN</td>\n",
       "      <td>0.0</td>\n",
       "      <td>NaN</td>\n",
       "      <td>NaN</td>\n",
       "      <td>NaN</td>\n",
       "      <td>NaN</td>\n",
       "      <td>NaN</td>\n",
       "      <td>2022-08-04T18:33:42</td>\n",
       "    </tr>\n",
       "    <tr>\n",
       "      <th>4</th>\n",
       "      <td>190889.8600000003 440600 190914.9349999996 440...</td>\n",
       "      <td>1154510200110800002</td>\n",
       "      <td>11545</td>\n",
       "      <td>10200</td>\n",
       "      <td>1</td>\n",
       "      <td>1080</td>\n",
       "      <td>0002</td>\n",
       "      <td>1080-2도</td>\n",
       "      <td>1</td>\n",
       "      <td>66770</td>\n",
       "      <td>...</td>\n",
       "      <td>0</td>\n",
       "      <td>0</td>\n",
       "      <td>NaN</td>\n",
       "      <td>0.0</td>\n",
       "      <td>NaN</td>\n",
       "      <td>NaN</td>\n",
       "      <td>NaN</td>\n",
       "      <td>NaN</td>\n",
       "      <td>NaN</td>\n",
       "      <td>2022-08-04T18:05:51</td>\n",
       "    </tr>\n",
       "    <tr>\n",
       "      <th>5</th>\n",
       "      <td>190361.4570000004 435600.3350000009 190355.001...</td>\n",
       "      <td>4121010600100490008</td>\n",
       "      <td>41210</td>\n",
       "      <td>10600</td>\n",
       "      <td>1</td>\n",
       "      <td>0049</td>\n",
       "      <td>0008</td>\n",
       "      <td>49-8임</td>\n",
       "      <td>1</td>\n",
       "      <td>293081</td>\n",
       "      <td>...</td>\n",
       "      <td>NaN</td>\n",
       "      <td>0</td>\n",
       "      <td>NaN</td>\n",
       "      <td>0.0</td>\n",
       "      <td>NaN</td>\n",
       "      <td>NaN</td>\n",
       "      <td>NaN</td>\n",
       "      <td>NaN</td>\n",
       "      <td>NaN</td>\n",
       "      <td>2022-08-04T18:33:42</td>\n",
       "    </tr>\n",
       "    <tr>\n",
       "      <th>6</th>\n",
       "      <td>181788.0820000004 444788.9069999997 181776.342...</td>\n",
       "      <td>4119010300101010003</td>\n",
       "      <td>41190</td>\n",
       "      <td>10300</td>\n",
       "      <td>1</td>\n",
       "      <td>0101</td>\n",
       "      <td>0003</td>\n",
       "      <td>101-3도</td>\n",
       "      <td>1</td>\n",
       "      <td>720248</td>\n",
       "      <td>...</td>\n",
       "      <td>0</td>\n",
       "      <td>0</td>\n",
       "      <td>NaN</td>\n",
       "      <td>0.0</td>\n",
       "      <td>NaN</td>\n",
       "      <td>NaN</td>\n",
       "      <td>NaN</td>\n",
       "      <td>NaN</td>\n",
       "      <td>NaN</td>\n",
       "      <td>2022-08-04T18:33:42</td>\n",
       "    </tr>\n",
       "    <tr>\n",
       "      <th>7</th>\n",
       "      <td>204717.1858999999 482271.6576000005 204704.845...</td>\n",
       "      <td>4163011700100960000</td>\n",
       "      <td>41630</td>\n",
       "      <td>11700</td>\n",
       "      <td>1</td>\n",
       "      <td>0096</td>\n",
       "      <td>0000</td>\n",
       "      <td>96대</td>\n",
       "      <td>1</td>\n",
       "      <td>301727</td>\n",
       "      <td>...</td>\n",
       "      <td>0</td>\n",
       "      <td>0</td>\n",
       "      <td>NaN</td>\n",
       "      <td>0.0</td>\n",
       "      <td>NaN</td>\n",
       "      <td>NaN</td>\n",
       "      <td>NaN</td>\n",
       "      <td>NaN</td>\n",
       "      <td>NaN</td>\n",
       "      <td>2022-08-04T18:33:42</td>\n",
       "    </tr>\n",
       "    <tr>\n",
       "      <th>8</th>\n",
       "      <td>203842.6299999999 463650 203882.9400000004 463...</td>\n",
       "      <td>1132010800106370111</td>\n",
       "      <td>11320</td>\n",
       "      <td>10800</td>\n",
       "      <td>1</td>\n",
       "      <td>0637</td>\n",
       "      <td>0111</td>\n",
       "      <td>637-111 도</td>\n",
       "      <td>1</td>\n",
       "      <td>75856</td>\n",
       "      <td>...</td>\n",
       "      <td>0</td>\n",
       "      <td>0</td>\n",
       "      <td>NaN</td>\n",
       "      <td>0.0</td>\n",
       "      <td>NaN</td>\n",
       "      <td>NaN</td>\n",
       "      <td>NaN</td>\n",
       "      <td>NaN</td>\n",
       "      <td>NaN</td>\n",
       "      <td>2022-08-04T18:05:51</td>\n",
       "    </tr>\n",
       "  </tbody>\n",
       "</table>\n",
       "<p>9 rows × 28 columns</p>\n",
       "</div>"
      ],
      "text/plain": [
       "                                               SHAPE                  PNU  \\\n",
       "0  236452.8990000002 401017.2427999992 236432.932...  4146135025102240002   \n",
       "1  200226.6840000004 412205.3259999994 200224.449...  4159012500101920234   \n",
       "2  194745.9699999997 396338.5850000009 194862.508...  4159040026100750033   \n",
       "3  180471.1929000001 481667.4134999998 180448.812...  4148025029116440000   \n",
       "4  190889.8600000003 440600 190914.9349999996 440...  1154510200110800002   \n",
       "5  190361.4570000004 435600.3350000009 190355.001...  4121010600100490008   \n",
       "6  181788.0820000004 444788.9069999997 181776.342...  4119010300101010003   \n",
       "7  204717.1858999999 482271.6576000005 204704.845...  4163011700100960000   \n",
       "8  203842.6299999999 463650 203882.9400000004 463...  1132010800106370111   \n",
       "\n",
       "  LD_CPSG_CODE LD_EMD_LI_CODE REGSTR_SE_CODE  MNNM  SLNO LNM_LNDCGR_SMBOL  \\\n",
       "0        41461          35025              1  0224  0002           224-2장   \n",
       "1        41590          12500              1  0192  0234        192-234 전   \n",
       "2        41590          40026              1  0075  0033          75-33 도   \n",
       "3        41480          25029              1  1644  0000           1644 도   \n",
       "4        11545          10200              1  1080  0002          1080-2도   \n",
       "5        41210          10600              1  0049  0008            49-8임   \n",
       "6        41190          10300              1  0101  0003           101-3도   \n",
       "7        41630          11700              1  0096  0000              96대   \n",
       "8        11320          10800              1  0637  0111        637-111 도   \n",
       "\n",
       "  ISSU_CONFM_CODE SRC_OBJECTID  ... STD_LAND_AT STD_LAND_SN LNDCGR_CODE  \\\n",
       "0               1      1964728  ...           0           0         NaN   \n",
       "1               1      3584601  ...         NaN           0         NaN   \n",
       "2               1      2267248  ...           0           0         NaN   \n",
       "3               1       284793  ...           0           0         NaN   \n",
       "4               1        66770  ...           0           0         NaN   \n",
       "5               1       293081  ...         NaN           0         NaN   \n",
       "6               1       720248  ...           0           0         NaN   \n",
       "7               1       301727  ...           0           0         NaN   \n",
       "8               1        75856  ...           0           0         NaN   \n",
       "\n",
       "  LNDPCL_AR PRPOS_AREA LAD_USE_SITTN LAD_USE_SITTN_ETC TPGRPH_FRM_CODE  \\\n",
       "0       0.0        NaN           NaN               NaN             NaN   \n",
       "1       0.0        NaN           NaN               NaN             NaN   \n",
       "2       0.0        NaN           NaN               NaN             NaN   \n",
       "3       0.0        NaN           NaN               NaN             NaN   \n",
       "4       0.0        NaN           NaN               NaN             NaN   \n",
       "5       0.0        NaN           NaN               NaN             NaN   \n",
       "6       0.0        NaN           NaN               NaN             NaN   \n",
       "7       0.0        NaN           NaN               NaN             NaN   \n",
       "8       0.0        NaN           NaN               NaN             NaN   \n",
       "\n",
       "  ROAD_SIDE_CODE       FRST_REGIST_DT  \n",
       "0            NaN  2022-08-04T18:33:42  \n",
       "1            NaN  2022-08-04T18:33:42  \n",
       "2            NaN  2022-08-04T18:33:42  \n",
       "3            NaN  2022-08-04T18:33:42  \n",
       "4            NaN  2022-08-04T18:05:51  \n",
       "5            NaN  2022-08-04T18:33:42  \n",
       "6            NaN  2022-08-04T18:33:42  \n",
       "7            NaN  2022-08-04T18:33:42  \n",
       "8            NaN  2022-08-04T18:05:51  \n",
       "\n",
       "[9 rows x 28 columns]"
      ]
     },
     "execution_count": 21,
     "metadata": {},
     "output_type": "execute_result"
    }
   ],
   "source": [
    "df"
   ]
  },
  {
   "cell_type": "code",
   "execution_count": 22,
   "id": "7d2708b7-ca24-4c68-a871-dea9786e728d",
   "metadata": {},
   "outputs": [
    {
     "data": {
      "text/html": [
       "<div>\n",
       "<style scoped>\n",
       "    .dataframe tbody tr th:only-of-type {\n",
       "        vertical-align: middle;\n",
       "    }\n",
       "\n",
       "    .dataframe tbody tr th {\n",
       "        vertical-align: top;\n",
       "    }\n",
       "\n",
       "    .dataframe thead th {\n",
       "        text-align: right;\n",
       "    }\n",
       "</style>\n",
       "<table border=\"1\" class=\"dataframe\">\n",
       "  <thead>\n",
       "    <tr style=\"text-align: right;\">\n",
       "      <th></th>\n",
       "      <th>pnu</th>\n",
       "    </tr>\n",
       "  </thead>\n",
       "  <tbody>\n",
       "    <tr>\n",
       "      <th>748063</th>\n",
       "      <td>1132010800106370111</td>\n",
       "    </tr>\n",
       "  </tbody>\n",
       "</table>\n",
       "</div>"
      ],
      "text/plain": [
       "                        pnu\n",
       "748063  1132010800106370111"
      ]
     },
     "execution_count": 22,
     "metadata": {},
     "output_type": "execute_result"
    }
   ],
   "source": [
    "df_pnu[df_pnu['pnu']=='1132010800106370111']"
   ]
  },
  {
   "cell_type": "code",
   "execution_count": 23,
   "id": "d890a5c3-5b8b-423d-8343-edc041672295",
   "metadata": {},
   "outputs": [
    {
     "data": {
      "text/html": [
       "<div>\n",
       "<style scoped>\n",
       "    .dataframe tbody tr th:only-of-type {\n",
       "        vertical-align: middle;\n",
       "    }\n",
       "\n",
       "    .dataframe tbody tr th {\n",
       "        vertical-align: top;\n",
       "    }\n",
       "\n",
       "    .dataframe thead th {\n",
       "        text-align: right;\n",
       "    }\n",
       "</style>\n",
       "<table border=\"1\" class=\"dataframe\">\n",
       "  <thead>\n",
       "    <tr style=\"text-align: right;\">\n",
       "      <th></th>\n",
       "      <th>pnu</th>\n",
       "    </tr>\n",
       "  </thead>\n",
       "  <tbody>\n",
       "    <tr>\n",
       "      <th>0</th>\n",
       "      <td>1111012000101630000</td>\n",
       "    </tr>\n",
       "    <tr>\n",
       "      <th>1</th>\n",
       "      <td>1111017500101920000</td>\n",
       "    </tr>\n",
       "    <tr>\n",
       "      <th>2</th>\n",
       "      <td>1111015800101870002</td>\n",
       "    </tr>\n",
       "    <tr>\n",
       "      <th>3</th>\n",
       "      <td>1111014700100250004</td>\n",
       "    </tr>\n",
       "    <tr>\n",
       "      <th>4</th>\n",
       "      <td>1117013100106830047</td>\n",
       "    </tr>\n",
       "    <tr>\n",
       "      <th>...</th>\n",
       "      <td>...</td>\n",
       "    </tr>\n",
       "    <tr>\n",
       "      <th>748059</th>\n",
       "      <td>1117013100100020000</td>\n",
       "    </tr>\n",
       "    <tr>\n",
       "      <th>748060</th>\n",
       "      <td>4121010600100490008</td>\n",
       "    </tr>\n",
       "    <tr>\n",
       "      <th>748061</th>\n",
       "      <td>4119010300101010003</td>\n",
       "    </tr>\n",
       "    <tr>\n",
       "      <th>748062</th>\n",
       "      <td>4163011700100960000</td>\n",
       "    </tr>\n",
       "    <tr>\n",
       "      <th>748063</th>\n",
       "      <td>1132010800106370111</td>\n",
       "    </tr>\n",
       "  </tbody>\n",
       "</table>\n",
       "<p>748064 rows × 1 columns</p>\n",
       "</div>"
      ],
      "text/plain": [
       "                        pnu\n",
       "0       1111012000101630000\n",
       "1       1111017500101920000\n",
       "2       1111015800101870002\n",
       "3       1111014700100250004\n",
       "4       1117013100106830047\n",
       "...                     ...\n",
       "748059  1117013100100020000\n",
       "748060  4121010600100490008\n",
       "748061  4119010300101010003\n",
       "748062  4163011700100960000\n",
       "748063  1132010800106370111\n",
       "\n",
       "[748064 rows x 1 columns]"
      ]
     },
     "execution_count": 23,
     "metadata": {},
     "output_type": "execute_result"
    }
   ],
   "source": [
    "df_pnu"
   ]
  },
  {
   "cell_type": "code",
   "execution_count": null,
   "id": "48c2c690-90ed-428c-a7e3-d20f4f84cea2",
   "metadata": {},
   "outputs": [],
   "source": [
    "# API 호출\n",
    "srsName = 'EPSG:5179'\n",
    "serviceKey = 'sJuqUegKT1Q0R4IRDqoJklMK8xDxru%2BrNu%2BK5JXRh1mbeH4tFTWwQYWVK3xdbbJCCe14u5bQyl43S28%2F5TtfrA%3D%3D'\n",
    "url = f'http://apis.data.go.kr/1611000/nsdi/IndvdLandPriceService/wfs/getIndvdLandPriceWFS?serviceKey={serviceKey}'\n",
    "response = requests.get(url)\n",
    "content  = response.text\n",
    "\n",
    "# item 태그 분리\n",
    "xml_obj = bs4.BeautifulSoup(content,'xml')\n",
    "DF = pd.DataFrame(xml_obj)\n",
    "DF = DF.transpose().drop_duplicates()\n",
    "DF = DF.drop([0],axis=0).reset_index(drop=True)\n",
    "\n",
    "# 리스트에 값 담기\n",
    "row_list   = [] # 행 값\n",
    "name_list  = [] # 열이름 값\n",
    "value_list = [] # 데이터 값\n",
    "df = pd.DataFrame() # 최종 값\n",
    "\n",
    "# 데이터 수집\n",
    "for i in tqdm(range(1,len(DF))):\n",
    "    columns = DF[0][i].find_all()\n",
    "\n",
    "    for j in range(0,len(columns)):\n",
    "        name_list.append(columns[j].name)\n",
    "        value_list.append(columns[j].text)\n",
    "\n",
    "    row_list = value_list\n",
    "    df_each  = pd.DataFrame([row_list], columns=name_list)\n",
    "    try:\n",
    "        df = pd.concat([df, df_each])\n",
    "        df = df.reset_index(drop=True)\n",
    "    except:\n",
    "        print(i)\n",
    "        pass\n",
    "\n",
    "    # 초기화\n",
    "    name_list  = []\n",
    "    value_list = []\n",
    "\n",
    "# nan처리\n",
    "df = df.replace(' ', np.nan)\n",
    "df = df.replace('', np.nan)\n",
    "\n",
    "# xlsx로 저장\n",
    "df.to_excel('./test.xlsx', index=False, encoding='utf-8')\n",
    "\n",
    "# execute\n",
    "table = 'm1.land_price_wfs'\n",
    "# execute_mogrify(conn, df, table, val)"
   ]
  },
  {
   "cell_type": "markdown",
   "id": "c7405bb1-d67b-4601-8d8c-ee6f7bd0b8af",
   "metadata": {},
   "source": [
    "###### 시도"
   ]
  },
  {
   "cell_type": "code",
   "execution_count": 87,
   "id": "245d3da5-3a8e-421d-b6cc-b42e32ea127b",
   "metadata": {},
   "outputs": [],
   "source": [
    "lawd_cd_unique = []\n",
    "\n",
    "for i in range(1, 22):\n",
    "    \n",
    "    url = 'http://apis.data.go.kr/1741000/StanReginCd/getStanReginCdList'\n",
    "    serviceKey = 'C94PKnigawlH2iISVWz1Itw9tVzyuOCbOvKgzCrGOUZWvs3XqrkhH+/ntypJ7kK2P2g16vLYCJif3TNfO1i1KA=='\n",
    "    params = {\n",
    "        'serviceKey' : serviceKey,\n",
    "        'pageNo' : str(i),\n",
    "        'numOfRows' : '1000',\n",
    "        'type' : 'json'\n",
    "    }\n",
    "    response = requests.get(url, params=params)\n",
    "    content = response.text\n",
    "    \n",
    "    # Json List 변환\n",
    "    lawd_cd_df = pd.DataFrame(pd.json_normalize(data = json.loads(content), record_path = 'StanReginCd')['row'][1])\n",
    "    lawd_cd_list = list(lawd_cd_df['locatjumin_cd'].str[:8])\n",
    "    \n",
    "    # 시군구코드 unique하게 남기기\n",
    "    for x in lawd_cd_list:\n",
    "        if x not in lawd_cd_unique:\n",
    "            lawd_cd_unique.append(x)"
   ]
  },
  {
   "cell_type": "code",
   "execution_count": 88,
   "id": "7f611100-a118-4a87-a2f2-9e46fb4a845a",
   "metadata": {
    "tags": []
   },
   "outputs": [
    {
     "data": {
      "text/plain": [
       "5337"
      ]
     },
     "execution_count": 88,
     "metadata": {},
     "output_type": "execute_result"
    }
   ],
   "source": [
    "len(lawd_cd_unique)"
   ]
  },
  {
   "cell_type": "code",
   "execution_count": 89,
   "id": "fd618b8f-9282-41aa-9305-39e50c042d81",
   "metadata": {
    "collapsed": true,
    "jupyter": {
     "outputs_hidden": true
    },
    "tags": []
   },
   "outputs": [
    {
     "data": {
      "text/plain": [
       "['27170109',\n",
       " '27200000',\n",
       " '27170107',\n",
       " '27170108',\n",
       " '30200152',\n",
       " '27170104',\n",
       " '27170105',\n",
       " '27170106',\n",
       " '27170102',\n",
       " '27170103',\n",
       " '27170000',\n",
       " '27170101',\n",
       " '27140143',\n",
       " '27140144',\n",
       " '27140145',\n",
       " '26000000',\n",
       " '26110000',\n",
       " '26110101',\n",
       " '26110102',\n",
       " '26110103',\n",
       " '26110104',\n",
       " '26110105',\n",
       " '26110106',\n",
       " '26110107',\n",
       " '26110108',\n",
       " '26110109',\n",
       " '26110110',\n",
       " '26110111',\n",
       " '26110112',\n",
       " '27140140',\n",
       " '27140141',\n",
       " '27140142',\n",
       " '26110113',\n",
       " '26110114',\n",
       " '26110115',\n",
       " '26110116',\n",
       " '26110117',\n",
       " '26110118',\n",
       " '26110119',\n",
       " '26110120',\n",
       " '26110121',\n",
       " '26110122',\n",
       " '26110123',\n",
       " '26110124',\n",
       " '26110125',\n",
       " '26110126',\n",
       " '26110127',\n",
       " '26110128',\n",
       " '26110129',\n",
       " '26110130',\n",
       " '26110131',\n",
       " '26110132',\n",
       " '26110133',\n",
       " '26110134',\n",
       " '26110135',\n",
       " '26110136',\n",
       " '26110137',\n",
       " '26110138',\n",
       " '26110139',\n",
       " '26110140',\n",
       " '26110141',\n",
       " '26140000',\n",
       " '26140101',\n",
       " '26140102',\n",
       " '26140103',\n",
       " '26140104',\n",
       " '26140105',\n",
       " '26140106',\n",
       " '26140107',\n",
       " '26140108',\n",
       " '26140109',\n",
       " '26140110',\n",
       " '26140111',\n",
       " '26140112',\n",
       " '26140113',\n",
       " '26140114',\n",
       " '26140115',\n",
       " '26140116',\n",
       " '26140117',\n",
       " '26140118',\n",
       " '26140119',\n",
       " '26140120',\n",
       " '26140121',\n",
       " '26140122',\n",
       " '26140123',\n",
       " '26140124',\n",
       " '26170000',\n",
       " '26170101',\n",
       " '26170102',\n",
       " '26170103',\n",
       " '26170104',\n",
       " '26200000',\n",
       " '26200101',\n",
       " '26200102',\n",
       " '26200103',\n",
       " '26200104',\n",
       " '26200105',\n",
       " '26200106',\n",
       " '26200107',\n",
       " '26200108',\n",
       " '26200109',\n",
       " '27140137',\n",
       " '27140138',\n",
       " '27140139',\n",
       " '26200110',\n",
       " '26200111',\n",
       " '26200112',\n",
       " '26200113',\n",
       " '26200114',\n",
       " '26200115',\n",
       " '26200116',\n",
       " '26200117',\n",
       " '26200118',\n",
       " '26200119',\n",
       " '26200120',\n",
       " '26200121',\n",
       " '26230000',\n",
       " '26230101',\n",
       " '26230102',\n",
       " '26230103',\n",
       " '26230104',\n",
       " '26230105',\n",
       " '26230106',\n",
       " '26230107',\n",
       " '26230108',\n",
       " '26230109',\n",
       " '26230110',\n",
       " '26230111',\n",
       " '26260000',\n",
       " '26260101',\n",
       " '26260102',\n",
       " '26260103',\n",
       " '26260104',\n",
       " '26260105',\n",
       " '26260106',\n",
       " '26260107',\n",
       " '26260108',\n",
       " '26260109',\n",
       " '26290000',\n",
       " '26290106',\n",
       " '26290107',\n",
       " '26290108',\n",
       " '26290109',\n",
       " '26290110',\n",
       " '26290111',\n",
       " '26320000',\n",
       " '26320101',\n",
       " '26320102',\n",
       " '26320103',\n",
       " '26320104',\n",
       " '26320105',\n",
       " '26350000',\n",
       " '26350101',\n",
       " '26350102',\n",
       " '26350103',\n",
       " '26350104',\n",
       " '26350105',\n",
       " '27140134',\n",
       " '27140135',\n",
       " '27140136',\n",
       " '26350106',\n",
       " '26350107',\n",
       " '26350108',\n",
       " '26380000',\n",
       " '26380101',\n",
       " '26380102',\n",
       " '26380103',\n",
       " '26380104',\n",
       " '26380105',\n",
       " '26380106',\n",
       " '26380107',\n",
       " '26380108',\n",
       " '26410000',\n",
       " '26410101',\n",
       " '26410102',\n",
       " '26410103',\n",
       " '26410104',\n",
       " '26410105',\n",
       " '26410106',\n",
       " '26410107',\n",
       " '26410108',\n",
       " '26410109',\n",
       " '26410110',\n",
       " '26410111',\n",
       " '26410112',\n",
       " '26410113',\n",
       " '26440000',\n",
       " '26440101',\n",
       " '26440102',\n",
       " '26440103',\n",
       " '26440104',\n",
       " '26440105',\n",
       " '26440106',\n",
       " '26440107',\n",
       " '26440108',\n",
       " '26440109',\n",
       " '26440110',\n",
       " '26440111',\n",
       " '26440112',\n",
       " '26440113',\n",
       " '26440114',\n",
       " '26440115',\n",
       " '26440116',\n",
       " '26440117',\n",
       " '26440118',\n",
       " '26440119',\n",
       " '26440120',\n",
       " '26440121',\n",
       " '26440122',\n",
       " '26470000',\n",
       " '26470101',\n",
       " '26470102',\n",
       " '26500000',\n",
       " '26500101',\n",
       " '26500102',\n",
       " '26500103',\n",
       " '26500104',\n",
       " '26500105',\n",
       " '26530000',\n",
       " '26530101',\n",
       " '26530102',\n",
       " '26530103',\n",
       " '26530104',\n",
       " '26530105',\n",
       " '26530106',\n",
       " '26530107',\n",
       " '26530108',\n",
       " '26710000',\n",
       " '26710250',\n",
       " '27140133',\n",
       " '30200150',\n",
       " '30200151',\n",
       " '26710253',\n",
       " '26710256',\n",
       " '26710330',\n",
       " '30200148',\n",
       " '30200149',\n",
       " '27000000',\n",
       " '27110000',\n",
       " '27110101',\n",
       " '27110102',\n",
       " '27110103',\n",
       " '27110104',\n",
       " '27110105',\n",
       " '27110106',\n",
       " '27110107',\n",
       " '27110108',\n",
       " '27110109',\n",
       " '27110110',\n",
       " '27110111',\n",
       " '27110112',\n",
       " '27110113',\n",
       " '27110114',\n",
       " '27110115',\n",
       " '27110116',\n",
       " '27110117',\n",
       " '27110118',\n",
       " '27110119',\n",
       " '27110120',\n",
       " '27110121',\n",
       " '27110122',\n",
       " '27110123',\n",
       " '27110124',\n",
       " '27110125',\n",
       " '27110126',\n",
       " '27110127',\n",
       " '27110128',\n",
       " '27110129',\n",
       " '27110130',\n",
       " '27110131',\n",
       " '27110132',\n",
       " '27110133',\n",
       " '27110134',\n",
       " '27110135',\n",
       " '27110136',\n",
       " '27110137',\n",
       " '27110138',\n",
       " '27110139',\n",
       " '27110140',\n",
       " '27110141',\n",
       " '27110142',\n",
       " '27110143',\n",
       " '27110144',\n",
       " '27110145',\n",
       " '27110146',\n",
       " '27110147',\n",
       " '27110148',\n",
       " '27110149',\n",
       " '27110150',\n",
       " '27110151',\n",
       " '27110152',\n",
       " '27110153',\n",
       " '27110154',\n",
       " '27110155',\n",
       " '27110156',\n",
       " '27110157',\n",
       " '27140000',\n",
       " '30200145',\n",
       " '30200146',\n",
       " '30200147',\n",
       " '27140101',\n",
       " '27140102',\n",
       " '27140103',\n",
       " '27140104',\n",
       " '27140105',\n",
       " '27140106',\n",
       " '27140107',\n",
       " '27140108',\n",
       " '27140109',\n",
       " '27140110',\n",
       " '27140111',\n",
       " '27140112',\n",
       " '27140113',\n",
       " '27140114',\n",
       " '27140115',\n",
       " '27140116',\n",
       " '27140117',\n",
       " '27140118',\n",
       " '27140119',\n",
       " '27140120',\n",
       " '27140121',\n",
       " '27140122',\n",
       " '27140123',\n",
       " '27140124',\n",
       " '27140125',\n",
       " '27140126',\n",
       " '27140127',\n",
       " '27140128',\n",
       " '27200101',\n",
       " '27200102',\n",
       " '27200103',\n",
       " '27230000',\n",
       " '27230101',\n",
       " '27230102',\n",
       " '27230103',\n",
       " '27230104',\n",
       " '27230105',\n",
       " '27230106',\n",
       " '27230107',\n",
       " '27230108',\n",
       " '27230109',\n",
       " '27230110',\n",
       " '27230111',\n",
       " '27230112',\n",
       " '27230113',\n",
       " '27230114',\n",
       " '27230115',\n",
       " '27230116',\n",
       " '27230117',\n",
       " '27230118',\n",
       " '27230119',\n",
       " '27230120',\n",
       " '27230121',\n",
       " '27230122',\n",
       " '27230123',\n",
       " '27230124',\n",
       " '27230125',\n",
       " '27230126',\n",
       " '27230127',\n",
       " '27230128',\n",
       " '27230129',\n",
       " '27230130',\n",
       " '27230131',\n",
       " '27260000',\n",
       " '27260101',\n",
       " '27260102',\n",
       " '27260103',\n",
       " '27260104',\n",
       " '27260105',\n",
       " '27260106',\n",
       " '27260107',\n",
       " '30200142',\n",
       " '30200143',\n",
       " '30200144',\n",
       " '27260108',\n",
       " '27260109',\n",
       " '27260110',\n",
       " '27260111',\n",
       " '27260112',\n",
       " '27260113',\n",
       " '27260114',\n",
       " '27260115',\n",
       " '27260116',\n",
       " '27260117',\n",
       " '27260118',\n",
       " '27260119',\n",
       " '27260120',\n",
       " '27260122',\n",
       " '27260123',\n",
       " '27260124',\n",
       " '27260125',\n",
       " '27260126',\n",
       " '27260127',\n",
       " '27290000',\n",
       " '27290101',\n",
       " '27290102',\n",
       " '27290104',\n",
       " '27290105',\n",
       " '27290106',\n",
       " '27290107',\n",
       " '27290108',\n",
       " '27290109',\n",
       " '27290110',\n",
       " '27290111',\n",
       " '27290112',\n",
       " '27290113',\n",
       " '27290114',\n",
       " '27290115',\n",
       " '27290116',\n",
       " '27290117',\n",
       " '27290118',\n",
       " '27290119',\n",
       " '27290120',\n",
       " '27290121',\n",
       " '27290122',\n",
       " '27290123',\n",
       " '27290124',\n",
       " '27290125',\n",
       " '27710000',\n",
       " '27710250',\n",
       " '27710253',\n",
       " '27710256',\n",
       " '30200139',\n",
       " '30200140',\n",
       " '30200141',\n",
       " '27710259',\n",
       " '27710262',\n",
       " '27710265',\n",
       " '27710310',\n",
       " '30200137',\n",
       " '30200138',\n",
       " '27710330',\n",
       " '27710380',\n",
       " '30200134',\n",
       " '30200135',\n",
       " '30200136',\n",
       " '28000000',\n",
       " '28110000',\n",
       " '28110101',\n",
       " '28110102',\n",
       " '28110103',\n",
       " '28110104',\n",
       " '28110105',\n",
       " '28110106',\n",
       " '28110107',\n",
       " '28110108',\n",
       " '28110109',\n",
       " '28110110',\n",
       " '28110111',\n",
       " '28110112',\n",
       " '28110113',\n",
       " '28110114',\n",
       " '28110115',\n",
       " '28110116',\n",
       " '28110117',\n",
       " '28110118',\n",
       " '28110119',\n",
       " '28110120',\n",
       " '28110121',\n",
       " '28110122',\n",
       " '28110123',\n",
       " '28110124',\n",
       " '28110125',\n",
       " '28110126',\n",
       " '28110127',\n",
       " '28110128',\n",
       " '28110129',\n",
       " '28110130',\n",
       " '28110131',\n",
       " '28110132',\n",
       " '28110133',\n",
       " '28110134',\n",
       " '28110135',\n",
       " '28110136',\n",
       " '28110137',\n",
       " '28110138',\n",
       " '28110139',\n",
       " '28110140',\n",
       " '28110141',\n",
       " '28110142',\n",
       " '28110143',\n",
       " '28110144',\n",
       " '28110145',\n",
       " '28110146',\n",
       " '28110147',\n",
       " '28110148',\n",
       " '28110149',\n",
       " '28110150',\n",
       " '28110151',\n",
       " '28110152',\n",
       " '28140000',\n",
       " '28140101',\n",
       " '28140102',\n",
       " '28140103',\n",
       " '28140104',\n",
       " '30200131',\n",
       " '30200132',\n",
       " '30200133',\n",
       " '28140105',\n",
       " '28140106',\n",
       " '28140107',\n",
       " '28177000',\n",
       " '28177101',\n",
       " '28177102',\n",
       " '28177103',\n",
       " '28177104',\n",
       " '28177105',\n",
       " '28177106',\n",
       " '28177107',\n",
       " '28185000',\n",
       " '28185101',\n",
       " '28185102',\n",
       " '28185103',\n",
       " '28185104',\n",
       " '28185105',\n",
       " '28185106',\n",
       " '28200000',\n",
       " '28200101',\n",
       " '28200102',\n",
       " '28200103',\n",
       " '28200104',\n",
       " '28200105',\n",
       " '28200106',\n",
       " '28200107',\n",
       " '28200108',\n",
       " '28200109',\n",
       " '28200110',\n",
       " '28200111',\n",
       " '30200128',\n",
       " '30200129',\n",
       " '30200130',\n",
       " '28237000',\n",
       " '28237101',\n",
       " '28237102',\n",
       " '28237103',\n",
       " '28237104',\n",
       " '28237105',\n",
       " '28237106',\n",
       " '28237107',\n",
       " '28237108',\n",
       " '28237109',\n",
       " '28245000',\n",
       " '28245101',\n",
       " '28245102',\n",
       " '28245103',\n",
       " '28245104',\n",
       " '28245105',\n",
       " '28245106',\n",
       " '28245107',\n",
       " '28245108',\n",
       " '28245109',\n",
       " '28245110',\n",
       " '28245111',\n",
       " '28245112',\n",
       " '28245113',\n",
       " '28245114',\n",
       " '28245115',\n",
       " '28245116',\n",
       " '28245117',\n",
       " '28245118',\n",
       " '28245119',\n",
       " '28245120',\n",
       " '28245121',\n",
       " '28245122',\n",
       " '28245123',\n",
       " '28260000',\n",
       " '28260101',\n",
       " '28260102',\n",
       " '28260103',\n",
       " '28260104',\n",
       " '28260105',\n",
       " '28260106',\n",
       " '28260107',\n",
       " '28260108',\n",
       " '28260109',\n",
       " '28260110',\n",
       " '28260111',\n",
       " '28260112',\n",
       " '28260113',\n",
       " '28260114',\n",
       " '28260115',\n",
       " '28260117',\n",
       " '28260118',\n",
       " '30200127',\n",
       " '28260119',\n",
       " '28260120',\n",
       " '28260121',\n",
       " '28260122',\n",
       " '28710000',\n",
       " '28710250',\n",
       " '28710310',\n",
       " '28710320',\n",
       " '28710330',\n",
       " '28710340',\n",
       " '28710350',\n",
       " '28710360',\n",
       " '28710370',\n",
       " '28710380',\n",
       " '28710390',\n",
       " '28710400',\n",
       " '28710410',\n",
       " '28710420',\n",
       " '28720000',\n",
       " '28720310',\n",
       " '28720330',\n",
       " '28720340',\n",
       " '28720350',\n",
       " '28720360',\n",
       " '28720370',\n",
       " '28720380',\n",
       " '29000000',\n",
       " '29110000',\n",
       " '29110101',\n",
       " '29110102',\n",
       " '29110103',\n",
       " '29110104',\n",
       " '29110105',\n",
       " '29110106',\n",
       " '29110107',\n",
       " '29110108',\n",
       " '29110109',\n",
       " '29110110',\n",
       " '29110111',\n",
       " '29110112',\n",
       " '29110113',\n",
       " '29110114',\n",
       " '29110115',\n",
       " '29110116',\n",
       " '29110117',\n",
       " '29110118',\n",
       " '29110119',\n",
       " '29110120',\n",
       " '29110121',\n",
       " '29110122',\n",
       " '29110123',\n",
       " '29110124',\n",
       " '29110125',\n",
       " '29110126',\n",
       " '29110127',\n",
       " '29110128',\n",
       " '29110129',\n",
       " '29110130',\n",
       " '29110131',\n",
       " '29110132',\n",
       " '29110133',\n",
       " '29110134',\n",
       " '29140000',\n",
       " '29140104',\n",
       " '29140106',\n",
       " '29140115',\n",
       " '29140116',\n",
       " '29140117',\n",
       " '29140118',\n",
       " '29140119',\n",
       " '29140120',\n",
       " '29140121',\n",
       " '29140125',\n",
       " '29140126',\n",
       " '29140127',\n",
       " '29140128',\n",
       " '29140129',\n",
       " '29140130',\n",
       " '29140131',\n",
       " '29140132',\n",
       " '29140133',\n",
       " '29155000',\n",
       " '29155101',\n",
       " '29155102',\n",
       " '29155103',\n",
       " '29155104',\n",
       " '29155105',\n",
       " '29155106',\n",
       " '29155107',\n",
       " '29155108',\n",
       " '29155109',\n",
       " '29155110',\n",
       " '29155111',\n",
       " '29155112',\n",
       " '29155113',\n",
       " '29155114',\n",
       " '29155115',\n",
       " '29155116',\n",
       " '29155117',\n",
       " '29155118',\n",
       " '29155119',\n",
       " '29155120',\n",
       " '29155121',\n",
       " '29155122',\n",
       " '29155123',\n",
       " '29155124',\n",
       " '29155125',\n",
       " '29155126',\n",
       " '29155127',\n",
       " '29155128',\n",
       " '29155129',\n",
       " '29155130',\n",
       " '29170000',\n",
       " '29170101',\n",
       " '29170102',\n",
       " '29170103',\n",
       " '29170104',\n",
       " '29170105',\n",
       " '29170106',\n",
       " '29170107',\n",
       " '29170108',\n",
       " '29170109',\n",
       " '29170110',\n",
       " '29170111',\n",
       " '29170112',\n",
       " '29170113',\n",
       " '29170114',\n",
       " '29170115',\n",
       " '29170116',\n",
       " '29170117',\n",
       " '29170118',\n",
       " '29170119',\n",
       " '29170120',\n",
       " '29170121',\n",
       " '29170122',\n",
       " '29170123',\n",
       " '29170124',\n",
       " '29170125',\n",
       " '29170126',\n",
       " '29170127',\n",
       " '29170128',\n",
       " '29170129',\n",
       " '29170130',\n",
       " '29170131',\n",
       " '29170132',\n",
       " '29170133',\n",
       " '29170134',\n",
       " '29170135',\n",
       " '29170136',\n",
       " '29170137',\n",
       " '29170138',\n",
       " '29170139',\n",
       " '29170140',\n",
       " '29170141',\n",
       " '29200000',\n",
       " '29200101',\n",
       " '29200102',\n",
       " '29200103',\n",
       " '29200104',\n",
       " '29200105',\n",
       " '29200106',\n",
       " '29200107',\n",
       " '29200108',\n",
       " '29200109',\n",
       " '29200110',\n",
       " '29200111',\n",
       " '29200112',\n",
       " '29200113',\n",
       " '29200114',\n",
       " '29200115',\n",
       " '29200116',\n",
       " '29200117',\n",
       " '29200118',\n",
       " '29200119',\n",
       " '29200120',\n",
       " '29200121',\n",
       " '29200122',\n",
       " '29200123',\n",
       " '29200124',\n",
       " '29200125',\n",
       " '29200126',\n",
       " '29200127',\n",
       " '29200128',\n",
       " '29200129',\n",
       " '29200130',\n",
       " '29200131',\n",
       " '29200132',\n",
       " '29200133',\n",
       " '29200134',\n",
       " '29200135',\n",
       " '29200136',\n",
       " '29200137',\n",
       " '29200138',\n",
       " '29200139',\n",
       " '29200140',\n",
       " '29200141',\n",
       " '29200142',\n",
       " '29200143',\n",
       " '29200144',\n",
       " '29200145',\n",
       " '29200146',\n",
       " '29200147',\n",
       " '29200148',\n",
       " '29200149',\n",
       " '29200150',\n",
       " '29200151',\n",
       " '29200152',\n",
       " '29200153',\n",
       " '29200154',\n",
       " '29200155',\n",
       " '29200156',\n",
       " '29200157',\n",
       " '29200158',\n",
       " '29200159',\n",
       " '29200160',\n",
       " '29200161',\n",
       " '29200162',\n",
       " '29200163',\n",
       " '29200164',\n",
       " '29200165',\n",
       " '29200166',\n",
       " '29200167',\n",
       " '29200168',\n",
       " '29200169',\n",
       " '29200170',\n",
       " '29200171',\n",
       " '29200172',\n",
       " '29200173',\n",
       " '29200174',\n",
       " '29200175',\n",
       " '29200176',\n",
       " '29200177',\n",
       " '29200178',\n",
       " '29200202',\n",
       " '30000000',\n",
       " '30110000',\n",
       " '30110101',\n",
       " '30110102',\n",
       " '30110103',\n",
       " '30110104',\n",
       " '30110105',\n",
       " '30110106',\n",
       " '30110107',\n",
       " '30110108',\n",
       " '30110109',\n",
       " '30110110',\n",
       " '30110111',\n",
       " '30110112',\n",
       " '30110113',\n",
       " '30110114',\n",
       " '30110115',\n",
       " '30110116',\n",
       " '30110117',\n",
       " '30110118',\n",
       " '30110119',\n",
       " '30110120',\n",
       " '30110121',\n",
       " '30110122',\n",
       " '30110123',\n",
       " '30110124',\n",
       " '30110125',\n",
       " '30110126',\n",
       " '30110127',\n",
       " '30110128',\n",
       " '30110129',\n",
       " '30110130',\n",
       " '30110131',\n",
       " '30110132',\n",
       " '30110133',\n",
       " '30110134',\n",
       " '30110135',\n",
       " '30110136',\n",
       " '30110137',\n",
       " '30110138',\n",
       " '30110139',\n",
       " '30110140',\n",
       " '30110141',\n",
       " '30110142',\n",
       " '30110143',\n",
       " '30110144',\n",
       " '30110145',\n",
       " '30140000',\n",
       " '30140101',\n",
       " '30140102',\n",
       " '30140103',\n",
       " '30140104',\n",
       " '30140105',\n",
       " '30140106',\n",
       " '30140107',\n",
       " '30140108',\n",
       " '30140109',\n",
       " '30140110',\n",
       " '30140111',\n",
       " '30140112',\n",
       " '30140113',\n",
       " '30140114',\n",
       " '30140115',\n",
       " '30140116',\n",
       " '30140117',\n",
       " '30140118',\n",
       " '30140119',\n",
       " '30140120',\n",
       " '30140121',\n",
       " '30140122',\n",
       " '30140123',\n",
       " '30140124',\n",
       " '30140125',\n",
       " '30140126',\n",
       " '30170000',\n",
       " '30170101',\n",
       " '30170102',\n",
       " '30170103',\n",
       " '30170104',\n",
       " '30170105',\n",
       " '30170106',\n",
       " '30170108',\n",
       " '30170109',\n",
       " '30170110',\n",
       " '30170111',\n",
       " '30170112',\n",
       " '30170113',\n",
       " '30170114',\n",
       " '30170115',\n",
       " '30170116',\n",
       " '30170117',\n",
       " '30170118',\n",
       " '30170119',\n",
       " '30170120',\n",
       " '30170121',\n",
       " '30170122',\n",
       " '30170123',\n",
       " '30170124',\n",
       " '30170125',\n",
       " '30170126',\n",
       " '30170127',\n",
       " '30170128',\n",
       " '30200000',\n",
       " '30200101',\n",
       " '30200102',\n",
       " '30200103',\n",
       " '30200104',\n",
       " '30200105',\n",
       " '30200106',\n",
       " '30200107',\n",
       " '30200108',\n",
       " '30200109',\n",
       " '30200110',\n",
       " '30200111',\n",
       " '30200112',\n",
       " '30200113',\n",
       " '30200114',\n",
       " '30200115',\n",
       " '30200116',\n",
       " '30200117',\n",
       " '30200118',\n",
       " '30200119',\n",
       " '30200120',\n",
       " '30200121',\n",
       " '30200122',\n",
       " '30200123',\n",
       " '30200124',\n",
       " '30200125',\n",
       " '30200126',\n",
       " '30200153',\n",
       " '30230000',\n",
       " '30230101',\n",
       " '30230102',\n",
       " '30230103',\n",
       " '30230104',\n",
       " '30230105',\n",
       " '30230106',\n",
       " '30230107',\n",
       " '30230108',\n",
       " '30230109',\n",
       " '30230110',\n",
       " '30230111',\n",
       " '30230112',\n",
       " '30230113',\n",
       " '30230114',\n",
       " '30230115',\n",
       " '30230116',\n",
       " '30230117',\n",
       " '30230118',\n",
       " '30230119',\n",
       " '30230120',\n",
       " '30230121',\n",
       " '30230122',\n",
       " '30230123',\n",
       " '30230124',\n",
       " '41450120',\n",
       " '30230125',\n",
       " '30230126',\n",
       " '31000000',\n",
       " '31110000',\n",
       " '31110101',\n",
       " '31110102',\n",
       " '31110103',\n",
       " '31110104',\n",
       " '31110105',\n",
       " '31110106',\n",
       " '31110107',\n",
       " '31110108',\n",
       " '31110109',\n",
       " '31110110',\n",
       " '31110111',\n",
       " '31110112',\n",
       " '31110113',\n",
       " '31110114',\n",
       " '31110115',\n",
       " '31110116',\n",
       " '31110117',\n",
       " '31110118',\n",
       " '31140000',\n",
       " '31140101',\n",
       " '31140102',\n",
       " '31140103',\n",
       " ...]"
      ]
     },
     "execution_count": 89,
     "metadata": {},
     "output_type": "execute_result"
    }
   ],
   "source": [
    "lawd_cd_unique"
   ]
  },
  {
   "cell_type": "code",
   "execution_count": 67,
   "id": "6eb7f1c8-0fd7-40f4-af5a-6a537f9a76ef",
   "metadata": {
    "tags": []
   },
   "outputs": [],
   "source": [
    "code_df = pd.DataFrame(lawd_cd_unique)"
   ]
  },
  {
   "cell_type": "code",
   "execution_count": 59,
   "id": "01c1ae88-4c4a-40e9-8cf7-7c1262b1e166",
   "metadata": {},
   "outputs": [],
   "source": [
    "code_df = code_df[0].sort_values()"
   ]
  },
  {
   "cell_type": "code",
   "execution_count": null,
   "id": "c9842a1f-d1ec-48e0-9db9-d40862bbeb08",
   "metadata": {},
   "outputs": [],
   "source": [
    "code_list = code_df.str[:2]"
   ]
  },
  {
   "cell_type": "code",
   "execution_count": 68,
   "id": "92e0e6e2-9445-4c25-83b6-cd5e71202cb4",
   "metadata": {},
   "outputs": [],
   "source": [
    "code_df = pd.DataFrame(lawd_cd_unique)"
   ]
  },
  {
   "cell_type": "code",
   "execution_count": 78,
   "id": "835758bc-7624-441e-9fc3-93fab7c6b7d7",
   "metadata": {},
   "outputs": [
    {
     "data": {
      "text/html": [
       "<div>\n",
       "<style scoped>\n",
       "    .dataframe tbody tr th:only-of-type {\n",
       "        vertical-align: middle;\n",
       "    }\n",
       "\n",
       "    .dataframe tbody tr th {\n",
       "        vertical-align: top;\n",
       "    }\n",
       "\n",
       "    .dataframe thead th {\n",
       "        text-align: right;\n",
       "    }\n",
       "</style>\n",
       "<table border=\"1\" class=\"dataframe\">\n",
       "  <thead>\n",
       "    <tr style=\"text-align: right;\">\n",
       "      <th></th>\n",
       "      <th>0</th>\n",
       "    </tr>\n",
       "  </thead>\n",
       "  <tbody>\n",
       "    <tr>\n",
       "      <th>16</th>\n",
       "      <td>2611000000</td>\n",
       "    </tr>\n",
       "    <tr>\n",
       "      <th>17</th>\n",
       "      <td>2611010100</td>\n",
       "    </tr>\n",
       "    <tr>\n",
       "      <th>18</th>\n",
       "      <td>2611010200</td>\n",
       "    </tr>\n",
       "    <tr>\n",
       "      <th>19</th>\n",
       "      <td>2611010300</td>\n",
       "    </tr>\n",
       "    <tr>\n",
       "      <th>20</th>\n",
       "      <td>2611010400</td>\n",
       "    </tr>\n",
       "    <tr>\n",
       "      <th>...</th>\n",
       "      <td>...</td>\n",
       "    </tr>\n",
       "    <tr>\n",
       "      <th>20546</th>\n",
       "      <td>3611011900</td>\n",
       "    </tr>\n",
       "    <tr>\n",
       "      <th>20547</th>\n",
       "      <td>3611012000</td>\n",
       "    </tr>\n",
       "    <tr>\n",
       "      <th>20548</th>\n",
       "      <td>3611012100</td>\n",
       "    </tr>\n",
       "    <tr>\n",
       "      <th>20549</th>\n",
       "      <td>3611012200</td>\n",
       "    </tr>\n",
       "    <tr>\n",
       "      <th>20550</th>\n",
       "      <td>3611012300</td>\n",
       "    </tr>\n",
       "  </tbody>\n",
       "</table>\n",
       "<p>2834 rows × 1 columns</p>\n",
       "</div>"
      ],
      "text/plain": [
       "                0\n",
       "16     2611000000\n",
       "17     2611010100\n",
       "18     2611010200\n",
       "19     2611010300\n",
       "20     2611010400\n",
       "...           ...\n",
       "20546  3611011900\n",
       "20547  3611012000\n",
       "20548  3611012100\n",
       "20549  3611012200\n",
       "20550  3611012300\n",
       "\n",
       "[2834 rows x 1 columns]"
      ]
     },
     "execution_count": 78,
     "metadata": {},
     "output_type": "execute_result"
    }
   ],
   "source": [
    "code_df[code_df[0].str.contains('11')]"
   ]
  },
  {
   "cell_type": "code",
   "execution_count": 84,
   "id": "d2dd0919-2508-417e-9535-385ea88df0e6",
   "metadata": {},
   "outputs": [
    {
     "data": {
      "text/plain": [
       "0    493\n",
       "dtype: int64"
      ]
     },
     "execution_count": 84,
     "metadata": {},
     "output_type": "execute_result"
    }
   ],
   "source": [
    "code_df.loc[code_df[0].str[:2]=='11'].count()"
   ]
  },
  {
   "cell_type": "code",
   "execution_count": 66,
   "id": "5411830d-4399-44a6-b230-2455f10f150b",
   "metadata": {},
   "outputs": [],
   "source": [
    "code_list = code_df.str[:2]"
   ]
  },
  {
   "cell_type": "code",
   "execution_count": 28,
   "id": "6ddaecd4-f0e8-4c93-87b0-1d3fba34b529",
   "metadata": {},
   "outputs": [
    {
     "data": {
      "text/plain": [
       "0        1100000000\n",
       "1        1111000000\n",
       "2        1111010100\n",
       "3        1111010200\n",
       "4        1111010300\n",
       "            ...    \n",
       "20546    5013032022\n",
       "20547    5013032023\n",
       "20548    5013032024\n",
       "20549    5013032025\n",
       "20550    5013032026\n",
       "Name: 법정동코드, Length: 20551, dtype: int64"
      ]
     },
     "execution_count": 28,
     "metadata": {},
     "output_type": "execute_result"
    }
   ],
   "source": [
    "emd_cd['법정동코드']"
   ]
  },
  {
   "cell_type": "code",
   "execution_count": 29,
   "id": "f39985b3-2c0a-42da-a6c9-375133264aa9",
   "metadata": {},
   "outputs": [],
   "source": [
    "# 법정동 코드 추출\n",
    "emd_cd = pd.read_csv('./0.emd_cd.csv')"
   ]
  },
  {
   "cell_type": "code",
   "execution_count": 31,
   "id": "417c1053-8e19-442b-9043-bd05310f236d",
   "metadata": {},
   "outputs": [],
   "source": [
    "df = pd.read_excel('./ReferLandPriceWFS(20220823).xlsx')"
   ]
  },
  {
   "cell_type": "code",
   "execution_count": 35,
   "id": "c0849fa0-8ccc-4993-8742-b96e11a3b2ee",
   "metadata": {},
   "outputs": [
    {
     "data": {
      "text/plain": [
       "0       2717010900109680003\n",
       "1       2717010900109900004\n",
       "2       2717010900109900007\n",
       "3       2717010900109900010\n",
       "4       2717010900109900011\n",
       "               ...         \n",
       "4186    2717010300104340005\n",
       "4187    2717010300104340007\n",
       "4188    2717010300104340008\n",
       "4189    2717010300104340009\n",
       "4190    2717010300104340011\n",
       "Name: PNU, Length: 4191, dtype: int64"
      ]
     },
     "execution_count": 35,
     "metadata": {},
     "output_type": "execute_result"
    }
   ],
   "source": [
    "df['PNU']"
   ]
  },
  {
   "cell_type": "markdown",
   "id": "2e96e0df-0488-4fa4-8074-3574e88957c5",
   "metadata": {
    "tags": []
   },
   "source": [
    "### 최종"
   ]
  },
  {
   "cell_type": "code",
   "execution_count": 92,
   "id": "1ed77b76-ee23-444f-a401-42b5be91c61d",
   "metadata": {
    "tags": []
   },
   "outputs": [],
   "source": [
    "# 법정동 코드 8자리 추출\n",
    "lawd_cd_unique = []\n",
    "for i in range(1, 22):\n",
    "    url = 'http://apis.data.go.kr/1741000/StanReginCd/getStanReginCdList'\n",
    "    serviceKey = 'C94PKnigawlH2iISVWz1Itw9tVzyuOCbOvKgzCrGOUZWvs3XqrkhH+/ntypJ7kK2P2g16vLYCJif3TNfO1i1KA=='\n",
    "    params = {\n",
    "        'serviceKey' : serviceKey,\n",
    "        'pageNo' : str(i),\n",
    "        'numOfRows' : '1000',\n",
    "        'type' : 'json'\n",
    "    }\n",
    "    response = requests.get(url, params=params)\n",
    "    content = response.text\n",
    "    \n",
    "    # Json List 변환\n",
    "    lawd_cd_df = pd.DataFrame(pd.json_normalize(data = json.loads(content), record_path = 'StanReginCd')['row'][1])\n",
    "    lawd_cd_list = list(lawd_cd_df['locatjumin_cd'].str[:8])\n",
    "    \n",
    "    # 시군구코드 unique하게 남기기\n",
    "    for x in lawd_cd_list:\n",
    "        if x not in lawd_cd_unique:\n",
    "            lawd_cd_unique.append(x)"
   ]
  },
  {
   "cell_type": "code",
   "execution_count": 90,
   "id": "2e4d9fcf-5223-4c77-818e-5785486e1afd",
   "metadata": {
    "collapsed": true,
    "jupyter": {
     "outputs_hidden": true
    },
    "tags": []
   },
   "outputs": [
    {
     "name": "stderr",
     "output_type": "stream",
     "text": [
      "  0%|                                                                                         | 0/5337 [00:00<?, ?it/s]C:\\Users\\duPar\\Anaconda3\\envs\\oasis\\lib\\site-packages\\pandas\\core\\internals\\construction.py:576: VisibleDeprecationWarning: Creating an ndarray from ragged nested sequences (which is a list-or-tuple of lists-or-tuples-or ndarrays with different lengths or shapes) is deprecated. If you meant to do this, you must specify 'dtype=object' when creating the ndarray.\n",
      "  values = np.array([convert(v) for v in values])\n"
     ]
    },
    {
     "name": "stdout",
     "output_type": "stream",
     "text": [
      "222\n"
     ]
    },
    {
     "name": "stderr",
     "output_type": "stream",
     "text": [
      "  0%|                                                                               | 2/5337 [00:03<2:20:15,  1.58s/it]C:\\Users\\duPar\\Anaconda3\\envs\\oasis\\lib\\site-packages\\pandas\\core\\internals\\construction.py:576: VisibleDeprecationWarning: Creating an ndarray from ragged nested sequences (which is a list-or-tuple of lists-or-tuples-or ndarrays with different lengths or shapes) is deprecated. If you meant to do this, you must specify 'dtype=object' when creating the ndarray.\n",
      "  values = np.array([convert(v) for v in values])\n"
     ]
    },
    {
     "name": "stdout",
     "output_type": "stream",
     "text": [
      "282\n",
      "284\n"
     ]
    },
    {
     "name": "stderr",
     "output_type": "stream",
     "text": [
      "  0%|                                                                               | 3/5337 [00:06<3:24:48,  2.30s/it]C:\\Users\\duPar\\Anaconda3\\envs\\oasis\\lib\\site-packages\\pandas\\core\\internals\\construction.py:576: VisibleDeprecationWarning: Creating an ndarray from ragged nested sequences (which is a list-or-tuple of lists-or-tuples-or ndarrays with different lengths or shapes) is deprecated. If you meant to do this, you must specify 'dtype=object' when creating the ndarray.\n",
      "  values = np.array([convert(v) for v in values])\n",
      "  0%|                                                                               | 4/5337 [00:08<3:17:38,  2.22s/it]"
     ]
    },
    {
     "name": "stdout",
     "output_type": "stream",
     "text": [
      "199\n"
     ]
    },
    {
     "name": "stderr",
     "output_type": "stream",
     "text": [
      "C:\\Users\\duPar\\Anaconda3\\envs\\oasis\\lib\\site-packages\\pandas\\core\\internals\\construction.py:576: VisibleDeprecationWarning: Creating an ndarray from ragged nested sequences (which is a list-or-tuple of lists-or-tuples-or ndarrays with different lengths or shapes) is deprecated. If you meant to do this, you must specify 'dtype=object' when creating the ndarray.\n",
      "  values = np.array([convert(v) for v in values])\n",
      "  0%|                                                                               | 5/5337 [00:12<3:59:05,  2.69s/it]C:\\Users\\duPar\\Anaconda3\\envs\\oasis\\lib\\site-packages\\pandas\\core\\internals\\construction.py:576: VisibleDeprecationWarning: Creating an ndarray from ragged nested sequences (which is a list-or-tuple of lists-or-tuples-or ndarrays with different lengths or shapes) is deprecated. If you meant to do this, you must specify 'dtype=object' when creating the ndarray.\n",
      "  values = np.array([convert(v) for v in values])\n",
      "  0%|                                                                               | 6/5337 [00:16<4:28:28,  3.02s/it]C:\\Users\\duPar\\Anaconda3\\envs\\oasis\\lib\\site-packages\\pandas\\core\\internals\\construction.py:576: VisibleDeprecationWarning: Creating an ndarray from ragged nested sequences (which is a list-or-tuple of lists-or-tuples-or ndarrays with different lengths or shapes) is deprecated. If you meant to do this, you must specify 'dtype=object' when creating the ndarray.\n",
      "  values = np.array([convert(v) for v in values])\n"
     ]
    },
    {
     "name": "stdout",
     "output_type": "stream",
     "text": [
      "370\n"
     ]
    },
    {
     "name": "stderr",
     "output_type": "stream",
     "text": [
      "  0%|                                                                               | 7/5337 [00:20<4:57:17,  3.35s/it]C:\\Users\\duPar\\Anaconda3\\envs\\oasis\\lib\\site-packages\\pandas\\core\\internals\\construction.py:576: VisibleDeprecationWarning: Creating an ndarray from ragged nested sequences (which is a list-or-tuple of lists-or-tuples-or ndarrays with different lengths or shapes) is deprecated. If you meant to do this, you must specify 'dtype=object' when creating the ndarray.\n",
      "  values = np.array([convert(v) for v in values])\n"
     ]
    },
    {
     "name": "stdout",
     "output_type": "stream",
     "text": [
      "355\n",
      "376\n"
     ]
    },
    {
     "name": "stderr",
     "output_type": "stream",
     "text": [
      "  0%|                                                                               | 8/5337 [00:24<5:16:47,  3.57s/it]"
     ]
    },
    {
     "name": "stdout",
     "output_type": "stream",
     "text": [
      "490\n"
     ]
    },
    {
     "name": "stderr",
     "output_type": "stream",
     "text": [
      "C:\\Users\\duPar\\Anaconda3\\envs\\oasis\\lib\\site-packages\\pandas\\core\\internals\\construction.py:576: VisibleDeprecationWarning: Creating an ndarray from ragged nested sequences (which is a list-or-tuple of lists-or-tuples-or ndarrays with different lengths or shapes) is deprecated. If you meant to do this, you must specify 'dtype=object' when creating the ndarray.\n",
      "  values = np.array([convert(v) for v in values])\n",
      "  0%|▏                                                                              | 9/5337 [00:28<5:41:19,  3.84s/it]C:\\Users\\duPar\\Anaconda3\\envs\\oasis\\lib\\site-packages\\pandas\\core\\internals\\construction.py:576: VisibleDeprecationWarning: Creating an ndarray from ragged nested sequences (which is a list-or-tuple of lists-or-tuples-or ndarrays with different lengths or shapes) is deprecated. If you meant to do this, you must specify 'dtype=object' when creating the ndarray.\n",
      "  values = np.array([convert(v) for v in values])\n",
      "  0%|▏                                                                             | 11/5337 [00:33<4:13:41,  2.86s/it]C:\\Users\\duPar\\Anaconda3\\envs\\oasis\\lib\\site-packages\\pandas\\core\\internals\\construction.py:576: VisibleDeprecationWarning: Creating an ndarray from ragged nested sequences (which is a list-or-tuple of lists-or-tuples-or ndarrays with different lengths or shapes) is deprecated. If you meant to do this, you must specify 'dtype=object' when creating the ndarray.\n",
      "  values = np.array([convert(v) for v in values])\n"
     ]
    },
    {
     "name": "stdout",
     "output_type": "stream",
     "text": [
      "88\n"
     ]
    },
    {
     "name": "stderr",
     "output_type": "stream",
     "text": [
      "  0%|▏                                                                             | 12/5337 [00:38<5:09:01,  3.48s/it]C:\\Users\\duPar\\Anaconda3\\envs\\oasis\\lib\\site-packages\\pandas\\core\\internals\\construction.py:576: VisibleDeprecationWarning: Creating an ndarray from ragged nested sequences (which is a list-or-tuple of lists-or-tuples-or ndarrays with different lengths or shapes) is deprecated. If you meant to do this, you must specify 'dtype=object' when creating the ndarray.\n",
      "  values = np.array([convert(v) for v in values])\n",
      "  0%|▏                                                                             | 13/5337 [00:43<5:52:54,  3.98s/it]"
     ]
    },
    {
     "name": "stdout",
     "output_type": "stream",
     "text": [
      "463\n"
     ]
    },
    {
     "name": "stderr",
     "output_type": "stream",
     "text": [
      "C:\\Users\\duPar\\Anaconda3\\envs\\oasis\\lib\\site-packages\\pandas\\core\\internals\\construction.py:576: VisibleDeprecationWarning: Creating an ndarray from ragged nested sequences (which is a list-or-tuple of lists-or-tuples-or ndarrays with different lengths or shapes) is deprecated. If you meant to do this, you must specify 'dtype=object' when creating the ndarray.\n",
      "  values = np.array([convert(v) for v in values])\n"
     ]
    },
    {
     "name": "stdout",
     "output_type": "stream",
     "text": [
      "78\n",
      "283\n",
      "434\n"
     ]
    },
    {
     "name": "stderr",
     "output_type": "stream",
     "text": [
      "  0%|▏                                                                             | 14/5337 [00:48<6:22:52,  4.32s/it]C:\\Users\\duPar\\Anaconda3\\envs\\oasis\\lib\\site-packages\\pandas\\core\\internals\\construction.py:576: VisibleDeprecationWarning: Creating an ndarray from ragged nested sequences (which is a list-or-tuple of lists-or-tuples-or ndarrays with different lengths or shapes) is deprecated. If you meant to do this, you must specify 'dtype=object' when creating the ndarray.\n",
      "  values = np.array([convert(v) for v in values])\n"
     ]
    },
    {
     "name": "stdout",
     "output_type": "stream",
     "text": [
      "142\n",
      "164\n",
      "166\n"
     ]
    },
    {
     "name": "stderr",
     "output_type": "stream",
     "text": [
      "  0%|▏                                                                             | 17/5337 [00:55<3:55:27,  2.66s/it]C:\\Users\\duPar\\Anaconda3\\envs\\oasis\\lib\\site-packages\\pandas\\core\\internals\\construction.py:576: VisibleDeprecationWarning: Creating an ndarray from ragged nested sequences (which is a list-or-tuple of lists-or-tuples-or ndarrays with different lengths or shapes) is deprecated. If you meant to do this, you must specify 'dtype=object' when creating the ndarray.\n",
      "  values = np.array([convert(v) for v in values])\n"
     ]
    },
    {
     "name": "stdout",
     "output_type": "stream",
     "text": [
      "5\n",
      "38\n",
      "152\n",
      "378\n",
      "440\n"
     ]
    },
    {
     "name": "stderr",
     "output_type": "stream",
     "text": [
      "  0%|▎                                                                             | 18/5337 [01:01<5:08:29,  3.48s/it]C:\\Users\\duPar\\Anaconda3\\envs\\oasis\\lib\\site-packages\\pandas\\core\\internals\\construction.py:576: VisibleDeprecationWarning: Creating an ndarray from ragged nested sequences (which is a list-or-tuple of lists-or-tuples-or ndarrays with different lengths or shapes) is deprecated. If you meant to do this, you must specify 'dtype=object' when creating the ndarray.\n",
      "  values = np.array([convert(v) for v in values])\n",
      "  0%|▎                                                                             | 19/5337 [01:02<4:13:03,  2.86s/it]C:\\Users\\duPar\\Anaconda3\\envs\\oasis\\lib\\site-packages\\pandas\\core\\internals\\construction.py:576: VisibleDeprecationWarning: Creating an ndarray from ragged nested sequences (which is a list-or-tuple of lists-or-tuples-or ndarrays with different lengths or shapes) is deprecated. If you meant to do this, you must specify 'dtype=object' when creating the ndarray.\n",
      "  values = np.array([convert(v) for v in values])\n",
      "  0%|▎                                                                             | 20/5337 [01:03<3:34:05,  2.42s/it]C:\\Users\\duPar\\Anaconda3\\envs\\oasis\\lib\\site-packages\\pandas\\core\\internals\\construction.py:576: VisibleDeprecationWarning: Creating an ndarray from ragged nested sequences (which is a list-or-tuple of lists-or-tuples-or ndarrays with different lengths or shapes) is deprecated. If you meant to do this, you must specify 'dtype=object' when creating the ndarray.\n",
      "  values = np.array([convert(v) for v in values])\n",
      "  0%|▎                                                                             | 21/5337 [01:05<3:11:03,  2.16s/it]"
     ]
    },
    {
     "name": "stdout",
     "output_type": "stream",
     "text": [
      "76\n"
     ]
    },
    {
     "name": "stderr",
     "output_type": "stream",
     "text": [
      "C:\\Users\\duPar\\Anaconda3\\envs\\oasis\\lib\\site-packages\\pandas\\core\\internals\\construction.py:576: VisibleDeprecationWarning: Creating an ndarray from ragged nested sequences (which is a list-or-tuple of lists-or-tuples-or ndarrays with different lengths or shapes) is deprecated. If you meant to do this, you must specify 'dtype=object' when creating the ndarray.\n",
      "  values = np.array([convert(v) for v in values])\n",
      "  0%|▎                                                                             | 22/5337 [01:07<3:09:05,  2.13s/it]"
     ]
    },
    {
     "name": "stdout",
     "output_type": "stream",
     "text": [
      "117\n"
     ]
    },
    {
     "name": "stderr",
     "output_type": "stream",
     "text": [
      "C:\\Users\\duPar\\Anaconda3\\envs\\oasis\\lib\\site-packages\\pandas\\core\\internals\\construction.py:576: VisibleDeprecationWarning: Creating an ndarray from ragged nested sequences (which is a list-or-tuple of lists-or-tuples-or ndarrays with different lengths or shapes) is deprecated. If you meant to do this, you must specify 'dtype=object' when creating the ndarray.\n",
      "  values = np.array([convert(v) for v in values])\n",
      "  0%|▎                                                                             | 23/5337 [01:08<2:42:00,  1.83s/it]"
     ]
    },
    {
     "name": "stdout",
     "output_type": "stream",
     "text": [
      "76\n"
     ]
    },
    {
     "name": "stderr",
     "output_type": "stream",
     "text": [
      "C:\\Users\\duPar\\Anaconda3\\envs\\oasis\\lib\\site-packages\\pandas\\core\\internals\\construction.py:576: VisibleDeprecationWarning: Creating an ndarray from ragged nested sequences (which is a list-or-tuple of lists-or-tuples-or ndarrays with different lengths or shapes) is deprecated. If you meant to do this, you must specify 'dtype=object' when creating the ndarray.\n",
      "  values = np.array([convert(v) for v in values])\n"
     ]
    },
    {
     "name": "stdout",
     "output_type": "stream",
     "text": [
      "33\n"
     ]
    },
    {
     "name": "stderr",
     "output_type": "stream",
     "text": [
      "  0%|▎                                                                            | 24/5337 [01:30<11:25:13,  7.74s/it]"
     ]
    },
    {
     "name": "stdout",
     "output_type": "stream",
     "text": [
      "448\n"
     ]
    },
    {
     "name": "stderr",
     "output_type": "stream",
     "text": [
      "C:\\Users\\duPar\\Anaconda3\\envs\\oasis\\lib\\site-packages\\pandas\\core\\internals\\construction.py:576: VisibleDeprecationWarning: Creating an ndarray from ragged nested sequences (which is a list-or-tuple of lists-or-tuples-or ndarrays with different lengths or shapes) is deprecated. If you meant to do this, you must specify 'dtype=object' when creating the ndarray.\n",
      "  values = np.array([convert(v) for v in values])\n"
     ]
    },
    {
     "name": "stdout",
     "output_type": "stream",
     "text": [
      "18\n",
      "28\n"
     ]
    },
    {
     "name": "stderr",
     "output_type": "stream",
     "text": [
      "  0%|▎                                                                             | 25/5337 [01:31<8:46:49,  5.95s/it]C:\\Users\\duPar\\Anaconda3\\envs\\oasis\\lib\\site-packages\\pandas\\core\\internals\\construction.py:576: VisibleDeprecationWarning: Creating an ndarray from ragged nested sequences (which is a list-or-tuple of lists-or-tuples-or ndarrays with different lengths or shapes) is deprecated. If you meant to do this, you must specify 'dtype=object' when creating the ndarray.\n",
      "  values = np.array([convert(v) for v in values])\n"
     ]
    },
    {
     "name": "stdout",
     "output_type": "stream",
     "text": [
      "12\n",
      "21\n",
      "63\n"
     ]
    },
    {
     "name": "stderr",
     "output_type": "stream",
     "text": [
      "  0%|▍                                                                             | 26/5337 [01:33<7:02:19,  4.77s/it]C:\\Users\\duPar\\Anaconda3\\envs\\oasis\\lib\\site-packages\\pandas\\core\\internals\\construction.py:576: VisibleDeprecationWarning: Creating an ndarray from ragged nested sequences (which is a list-or-tuple of lists-or-tuples-or ndarrays with different lengths or shapes) is deprecated. If you meant to do this, you must specify 'dtype=object' when creating the ndarray.\n",
      "  values = np.array([convert(v) for v in values])\n",
      "  1%|▍                                                                             | 27/5337 [01:35<5:24:20,  3.66s/it]C:\\Users\\duPar\\Anaconda3\\envs\\oasis\\lib\\site-packages\\pandas\\core\\internals\\construction.py:576: VisibleDeprecationWarning: Creating an ndarray from ragged nested sequences (which is a list-or-tuple of lists-or-tuples-or ndarrays with different lengths or shapes) is deprecated. If you meant to do this, you must specify 'dtype=object' when creating the ndarray.\n",
      "  values = np.array([convert(v) for v in values])\n",
      "  1%|▍                                                                             | 28/5337 [01:35<4:12:36,  2.85s/it]"
     ]
    },
    {
     "name": "stdout",
     "output_type": "stream",
     "text": [
      "31\n",
      "59\n"
     ]
    },
    {
     "name": "stderr",
     "output_type": "stream",
     "text": [
      "C:\\Users\\duPar\\Anaconda3\\envs\\oasis\\lib\\site-packages\\pandas\\core\\internals\\construction.py:576: VisibleDeprecationWarning: Creating an ndarray from ragged nested sequences (which is a list-or-tuple of lists-or-tuples-or ndarrays with different lengths or shapes) is deprecated. If you meant to do this, you must specify 'dtype=object' when creating the ndarray.\n",
      "  values = np.array([convert(v) for v in values])\n",
      "  1%|▍                                                                             | 29/5337 [01:37<3:42:26,  2.51s/it]"
     ]
    },
    {
     "name": "stdout",
     "output_type": "stream",
     "text": [
      "81\n",
      "108\n"
     ]
    },
    {
     "name": "stderr",
     "output_type": "stream",
     "text": [
      "C:\\Users\\duPar\\Anaconda3\\envs\\oasis\\lib\\site-packages\\pandas\\core\\internals\\construction.py:576: VisibleDeprecationWarning: Creating an ndarray from ragged nested sequences (which is a list-or-tuple of lists-or-tuples-or ndarrays with different lengths or shapes) is deprecated. If you meant to do this, you must specify 'dtype=object' when creating the ndarray.\n",
      "  values = np.array([convert(v) for v in values])\n",
      "  1%|▍                                                                             | 30/5337 [01:44<5:24:53,  3.67s/it]C:\\Users\\duPar\\Anaconda3\\envs\\oasis\\lib\\site-packages\\pandas\\core\\internals\\construction.py:576: VisibleDeprecationWarning: Creating an ndarray from ragged nested sequences (which is a list-or-tuple of lists-or-tuples-or ndarrays with different lengths or shapes) is deprecated. If you meant to do this, you must specify 'dtype=object' when creating the ndarray.\n",
      "  values = np.array([convert(v) for v in values])\n",
      "  1%|▍                                                                             | 31/5337 [01:50<6:39:59,  4.52s/it]C:\\Users\\duPar\\Anaconda3\\envs\\oasis\\lib\\site-packages\\pandas\\core\\internals\\construction.py:576: VisibleDeprecationWarning: Creating an ndarray from ragged nested sequences (which is a list-or-tuple of lists-or-tuples-or ndarrays with different lengths or shapes) is deprecated. If you meant to do this, you must specify 'dtype=object' when creating the ndarray.\n",
      "  values = np.array([convert(v) for v in values])\n"
     ]
    },
    {
     "name": "stdout",
     "output_type": "stream",
     "text": [
      "58\n",
      "82\n",
      "132\n"
     ]
    },
    {
     "name": "stderr",
     "output_type": "stream",
     "text": [
      "  1%|▍                                                                             | 32/5337 [01:57<7:42:21,  5.23s/it]C:\\Users\\duPar\\Anaconda3\\envs\\oasis\\lib\\site-packages\\pandas\\core\\internals\\construction.py:576: VisibleDeprecationWarning: Creating an ndarray from ragged nested sequences (which is a list-or-tuple of lists-or-tuples-or ndarrays with different lengths or shapes) is deprecated. If you meant to do this, you must specify 'dtype=object' when creating the ndarray.\n",
      "  values = np.array([convert(v) for v in values])\n",
      "  1%|▍                                                                             | 33/5337 [01:59<6:13:56,  4.23s/it]"
     ]
    },
    {
     "name": "stdout",
     "output_type": "stream",
     "text": [
      "104\n"
     ]
    },
    {
     "name": "stderr",
     "output_type": "stream",
     "text": [
      "C:\\Users\\duPar\\Anaconda3\\envs\\oasis\\lib\\site-packages\\pandas\\core\\internals\\construction.py:576: VisibleDeprecationWarning: Creating an ndarray from ragged nested sequences (which is a list-or-tuple of lists-or-tuples-or ndarrays with different lengths or shapes) is deprecated. If you meant to do this, you must specify 'dtype=object' when creating the ndarray.\n",
      "  values = np.array([convert(v) for v in values])\n",
      "  1%|▍                                                                             | 34/5337 [02:00<4:56:10,  3.35s/it]"
     ]
    },
    {
     "name": "stdout",
     "output_type": "stream",
     "text": [
      "69\n"
     ]
    },
    {
     "name": "stderr",
     "output_type": "stream",
     "text": [
      "C:\\Users\\duPar\\Anaconda3\\envs\\oasis\\lib\\site-packages\\pandas\\core\\internals\\construction.py:576: VisibleDeprecationWarning: Creating an ndarray from ragged nested sequences (which is a list-or-tuple of lists-or-tuples-or ndarrays with different lengths or shapes) is deprecated. If you meant to do this, you must specify 'dtype=object' when creating the ndarray.\n",
      "  values = np.array([convert(v) for v in values])\n"
     ]
    },
    {
     "name": "stdout",
     "output_type": "stream",
     "text": [
      "75\n",
      "124\n",
      "359\n"
     ]
    },
    {
     "name": "stderr",
     "output_type": "stream",
     "text": [
      "  1%|▌                                                                             | 35/5337 [02:08<6:43:42,  4.57s/it]"
     ]
    },
    {
     "name": "stdout",
     "output_type": "stream",
     "text": [
      "497\n"
     ]
    },
    {
     "name": "stderr",
     "output_type": "stream",
     "text": [
      "C:\\Users\\duPar\\Anaconda3\\envs\\oasis\\lib\\site-packages\\pandas\\core\\internals\\construction.py:576: VisibleDeprecationWarning: Creating an ndarray from ragged nested sequences (which is a list-or-tuple of lists-or-tuples-or ndarrays with different lengths or shapes) is deprecated. If you meant to do this, you must specify 'dtype=object' when creating the ndarray.\n",
      "  values = np.array([convert(v) for v in values])\n"
     ]
    },
    {
     "name": "stdout",
     "output_type": "stream",
     "text": [
      "343\n"
     ]
    },
    {
     "name": "stderr",
     "output_type": "stream",
     "text": [
      "  1%|▌                                                                             | 36/5337 [02:13<7:16:25,  4.94s/it]"
     ]
    },
    {
     "name": "stdout",
     "output_type": "stream",
     "text": [
      "380\n"
     ]
    },
    {
     "name": "stderr",
     "output_type": "stream",
     "text": [
      "C:\\Users\\duPar\\Anaconda3\\envs\\oasis\\lib\\site-packages\\pandas\\core\\internals\\construction.py:576: VisibleDeprecationWarning: Creating an ndarray from ragged nested sequences (which is a list-or-tuple of lists-or-tuples-or ndarrays with different lengths or shapes) is deprecated. If you meant to do this, you must specify 'dtype=object' when creating the ndarray.\n",
      "  values = np.array([convert(v) for v in values])\n",
      "  1%|▌                                                                             | 37/5337 [02:17<6:36:01,  4.48s/it]"
     ]
    },
    {
     "name": "stdout",
     "output_type": "stream",
     "text": [
      "230\n"
     ]
    },
    {
     "name": "stderr",
     "output_type": "stream",
     "text": [
      "C:\\Users\\duPar\\Anaconda3\\envs\\oasis\\lib\\site-packages\\pandas\\core\\internals\\construction.py:576: VisibleDeprecationWarning: Creating an ndarray from ragged nested sequences (which is a list-or-tuple of lists-or-tuples-or ndarrays with different lengths or shapes) is deprecated. If you meant to do this, you must specify 'dtype=object' when creating the ndarray.\n",
      "  values = np.array([convert(v) for v in values])\n"
     ]
    },
    {
     "name": "stdout",
     "output_type": "stream",
     "text": [
      "39\n"
     ]
    },
    {
     "name": "stderr",
     "output_type": "stream",
     "text": [
      "  1%|▌                                                                             | 38/5337 [02:19<5:24:10,  3.67s/it]C:\\Users\\duPar\\Anaconda3\\envs\\oasis\\lib\\site-packages\\pandas\\core\\internals\\construction.py:576: VisibleDeprecationWarning: Creating an ndarray from ragged nested sequences (which is a list-or-tuple of lists-or-tuples-or ndarrays with different lengths or shapes) is deprecated. If you meant to do this, you must specify 'dtype=object' when creating the ndarray.\n",
      "  values = np.array([convert(v) for v in values])\n"
     ]
    },
    {
     "name": "stdout",
     "output_type": "stream",
     "text": [
      "192\n"
     ]
    },
    {
     "name": "stderr",
     "output_type": "stream",
     "text": [
      "  1%|▌                                                                             | 39/5337 [02:26<6:56:21,  4.72s/it]C:\\Users\\duPar\\Anaconda3\\envs\\oasis\\lib\\site-packages\\pandas\\core\\internals\\construction.py:576: VisibleDeprecationWarning: Creating an ndarray from ragged nested sequences (which is a list-or-tuple of lists-or-tuples-or ndarrays with different lengths or shapes) is deprecated. If you meant to do this, you must specify 'dtype=object' when creating the ndarray.\n",
      "  values = np.array([convert(v) for v in values])\n"
     ]
    },
    {
     "name": "stdout",
     "output_type": "stream",
     "text": [
      "24\n",
      "42\n",
      "386\n"
     ]
    },
    {
     "name": "stderr",
     "output_type": "stream",
     "text": [
      "  1%|▌                                                                             | 40/5337 [02:33<8:16:04,  5.62s/it]C:\\Users\\duPar\\Anaconda3\\envs\\oasis\\lib\\site-packages\\pandas\\core\\internals\\construction.py:576: VisibleDeprecationWarning: Creating an ndarray from ragged nested sequences (which is a list-or-tuple of lists-or-tuples-or ndarrays with different lengths or shapes) is deprecated. If you meant to do this, you must specify 'dtype=object' when creating the ndarray.\n",
      "  values = np.array([convert(v) for v in values])\n",
      "  1%|▌                                                                             | 41/5337 [02:40<8:45:50,  5.96s/it]"
     ]
    },
    {
     "name": "stdout",
     "output_type": "stream",
     "text": [
      "432\n"
     ]
    },
    {
     "name": "stderr",
     "output_type": "stream",
     "text": [
      "C:\\Users\\duPar\\Anaconda3\\envs\\oasis\\lib\\site-packages\\pandas\\core\\internals\\construction.py:576: VisibleDeprecationWarning: Creating an ndarray from ragged nested sequences (which is a list-or-tuple of lists-or-tuples-or ndarrays with different lengths or shapes) is deprecated. If you meant to do this, you must specify 'dtype=object' when creating the ndarray.\n",
      "  values = np.array([convert(v) for v in values])\n",
      "  1%|▌                                                                             | 42/5337 [02:46<8:36:48,  5.86s/it]"
     ]
    },
    {
     "name": "stdout",
     "output_type": "stream",
     "text": [
      "320\n"
     ]
    },
    {
     "name": "stderr",
     "output_type": "stream",
     "text": [
      "C:\\Users\\duPar\\Anaconda3\\envs\\oasis\\lib\\site-packages\\pandas\\core\\internals\\construction.py:576: VisibleDeprecationWarning: Creating an ndarray from ragged nested sequences (which is a list-or-tuple of lists-or-tuples-or ndarrays with different lengths or shapes) is deprecated. If you meant to do this, you must specify 'dtype=object' when creating the ndarray.\n",
      "  values = np.array([convert(v) for v in values])\n"
     ]
    },
    {
     "name": "stdout",
     "output_type": "stream",
     "text": [
      "370\n",
      "433\n"
     ]
    },
    {
     "name": "stderr",
     "output_type": "stream",
     "text": [
      "  1%|▋                                                                             | 43/5337 [02:54<9:32:14,  6.49s/it]C:\\Users\\duPar\\Anaconda3\\envs\\oasis\\lib\\site-packages\\pandas\\core\\internals\\construction.py:576: VisibleDeprecationWarning: Creating an ndarray from ragged nested sequences (which is a list-or-tuple of lists-or-tuples-or ndarrays with different lengths or shapes) is deprecated. If you meant to do this, you must specify 'dtype=object' when creating the ndarray.\n",
      "  values = np.array([convert(v) for v in values])\n",
      "  1%|▋                                                                            | 44/5337 [03:01<10:03:04,  6.84s/it]"
     ]
    },
    {
     "name": "stdout",
     "output_type": "stream",
     "text": [
      "461\n"
     ]
    },
    {
     "name": "stderr",
     "output_type": "stream",
     "text": [
      "C:\\Users\\duPar\\Anaconda3\\envs\\oasis\\lib\\site-packages\\pandas\\core\\internals\\construction.py:576: VisibleDeprecationWarning: Creating an ndarray from ragged nested sequences (which is a list-or-tuple of lists-or-tuples-or ndarrays with different lengths or shapes) is deprecated. If you meant to do this, you must specify 'dtype=object' when creating the ndarray.\n",
      "  values = np.array([convert(v) for v in values])\n"
     ]
    },
    {
     "name": "stdout",
     "output_type": "stream",
     "text": [
      "61\n",
      "67\n"
     ]
    },
    {
     "name": "stderr",
     "output_type": "stream",
     "text": [
      "  1%|▋                                                                             | 45/5337 [03:07<9:38:19,  6.56s/it]"
     ]
    },
    {
     "name": "stdout",
     "output_type": "stream",
     "text": [
      "328\n"
     ]
    },
    {
     "name": "stderr",
     "output_type": "stream",
     "text": [
      "C:\\Users\\duPar\\Anaconda3\\envs\\oasis\\lib\\site-packages\\pandas\\core\\internals\\construction.py:576: VisibleDeprecationWarning: Creating an ndarray from ragged nested sequences (which is a list-or-tuple of lists-or-tuples-or ndarrays with different lengths or shapes) is deprecated. If you meant to do this, you must specify 'dtype=object' when creating the ndarray.\n",
      "  values = np.array([convert(v) for v in values])\n"
     ]
    },
    {
     "name": "stdout",
     "output_type": "stream",
     "text": [
      "104\n"
     ]
    },
    {
     "name": "stderr",
     "output_type": "stream",
     "text": [
      "  1%|▋                                                                             | 46/5337 [03:14<9:33:11,  6.50s/it]"
     ]
    },
    {
     "name": "stdout",
     "output_type": "stream",
     "text": [
      "361\n"
     ]
    },
    {
     "name": "stderr",
     "output_type": "stream",
     "text": [
      "C:\\Users\\duPar\\Anaconda3\\envs\\oasis\\lib\\site-packages\\pandas\\core\\internals\\construction.py:576: VisibleDeprecationWarning: Creating an ndarray from ragged nested sequences (which is a list-or-tuple of lists-or-tuples-or ndarrays with different lengths or shapes) is deprecated. If you meant to do this, you must specify 'dtype=object' when creating the ndarray.\n",
      "  values = np.array([convert(v) for v in values])\n",
      "  1%|▋                                                                             | 47/5337 [03:16<7:50:02,  5.33s/it]"
     ]
    },
    {
     "name": "stdout",
     "output_type": "stream",
     "text": [
      "130\n"
     ]
    },
    {
     "name": "stderr",
     "output_type": "stream",
     "text": [
      "C:\\Users\\duPar\\Anaconda3\\envs\\oasis\\lib\\site-packages\\pandas\\core\\internals\\construction.py:576: VisibleDeprecationWarning: Creating an ndarray from ragged nested sequences (which is a list-or-tuple of lists-or-tuples-or ndarrays with different lengths or shapes) is deprecated. If you meant to do this, you must specify 'dtype=object' when creating the ndarray.\n",
      "  values = np.array([convert(v) for v in values])\n",
      "  1%|▋                                                                             | 48/5337 [03:20<7:07:43,  4.85s/it]"
     ]
    },
    {
     "name": "stdout",
     "output_type": "stream",
     "text": [
      "189\n"
     ]
    },
    {
     "name": "stderr",
     "output_type": "stream",
     "text": [
      "C:\\Users\\duPar\\Anaconda3\\envs\\oasis\\lib\\site-packages\\pandas\\core\\internals\\construction.py:576: VisibleDeprecationWarning: Creating an ndarray from ragged nested sequences (which is a list-or-tuple of lists-or-tuples-or ndarrays with different lengths or shapes) is deprecated. If you meant to do this, you must specify 'dtype=object' when creating the ndarray.\n",
      "  values = np.array([convert(v) for v in values])\n",
      "  1%|▋                                                                             | 49/5337 [03:23<6:12:30,  4.23s/it]C:\\Users\\duPar\\Anaconda3\\envs\\oasis\\lib\\site-packages\\pandas\\core\\internals\\construction.py:576: VisibleDeprecationWarning: Creating an ndarray from ragged nested sequences (which is a list-or-tuple of lists-or-tuples-or ndarrays with different lengths or shapes) is deprecated. If you meant to do this, you must specify 'dtype=object' when creating the ndarray.\n",
      "  values = np.array([convert(v) for v in values])\n"
     ]
    },
    {
     "name": "stdout",
     "output_type": "stream",
     "text": [
      "55\n",
      "68\n"
     ]
    },
    {
     "name": "stderr",
     "output_type": "stream",
     "text": [
      "  1%|▋                                                                             | 50/5337 [03:25<5:20:49,  3.64s/it]"
     ]
    },
    {
     "name": "stdout",
     "output_type": "stream",
     "text": [
      "94\n"
     ]
    },
    {
     "name": "stderr",
     "output_type": "stream",
     "text": [
      "C:\\Users\\duPar\\Anaconda3\\envs\\oasis\\lib\\site-packages\\pandas\\core\\internals\\construction.py:576: VisibleDeprecationWarning: Creating an ndarray from ragged nested sequences (which is a list-or-tuple of lists-or-tuples-or ndarrays with different lengths or shapes) is deprecated. If you meant to do this, you must specify 'dtype=object' when creating the ndarray.\n",
      "  values = np.array([convert(v) for v in values])\n",
      "  1%|▋                                                                             | 51/5337 [03:28<4:52:57,  3.33s/it]"
     ]
    },
    {
     "name": "stdout",
     "output_type": "stream",
     "text": [
      "110\n"
     ]
    },
    {
     "name": "stderr",
     "output_type": "stream",
     "text": [
      "C:\\Users\\duPar\\Anaconda3\\envs\\oasis\\lib\\site-packages\\pandas\\core\\internals\\construction.py:576: VisibleDeprecationWarning: Creating an ndarray from ragged nested sequences (which is a list-or-tuple of lists-or-tuples-or ndarrays with different lengths or shapes) is deprecated. If you meant to do this, you must specify 'dtype=object' when creating the ndarray.\n",
      "  values = np.array([convert(v) for v in values])\n"
     ]
    },
    {
     "name": "stdout",
     "output_type": "stream",
     "text": [
      "216\n"
     ]
    },
    {
     "name": "stderr",
     "output_type": "stream",
     "text": [
      "  1%|▊                                                                             | 52/5337 [03:33<5:55:32,  4.04s/it]C:\\Users\\duPar\\Anaconda3\\envs\\oasis\\lib\\site-packages\\pandas\\core\\internals\\construction.py:576: VisibleDeprecationWarning: Creating an ndarray from ragged nested sequences (which is a list-or-tuple of lists-or-tuples-or ndarrays with different lengths or shapes) is deprecated. If you meant to do this, you must specify 'dtype=object' when creating the ndarray.\n",
      "  values = np.array([convert(v) for v in values])\n",
      "  1%|▊                                                                             | 53/5337 [03:36<5:23:33,  3.67s/it]"
     ]
    },
    {
     "name": "stdout",
     "output_type": "stream",
     "text": [
      "131\n"
     ]
    },
    {
     "name": "stderr",
     "output_type": "stream",
     "text": [
      "C:\\Users\\duPar\\Anaconda3\\envs\\oasis\\lib\\site-packages\\pandas\\core\\internals\\construction.py:576: VisibleDeprecationWarning: Creating an ndarray from ragged nested sequences (which is a list-or-tuple of lists-or-tuples-or ndarrays with different lengths or shapes) is deprecated. If you meant to do this, you must specify 'dtype=object' when creating the ndarray.\n",
      "  values = np.array([convert(v) for v in values])\n",
      "  1%|▊                                                                             | 54/5337 [03:40<5:18:16,  3.61s/it]"
     ]
    },
    {
     "name": "stdout",
     "output_type": "stream",
     "text": [
      "168\n"
     ]
    },
    {
     "name": "stderr",
     "output_type": "stream",
     "text": [
      "C:\\Users\\duPar\\Anaconda3\\envs\\oasis\\lib\\site-packages\\pandas\\core\\internals\\construction.py:576: VisibleDeprecationWarning: Creating an ndarray from ragged nested sequences (which is a list-or-tuple of lists-or-tuples-or ndarrays with different lengths or shapes) is deprecated. If you meant to do this, you must specify 'dtype=object' when creating the ndarray.\n",
      "  values = np.array([convert(v) for v in values])\n",
      "  1%|▊                                                                             | 55/5337 [03:42<4:52:55,  3.33s/it]C:\\Users\\duPar\\Anaconda3\\envs\\oasis\\lib\\site-packages\\pandas\\core\\internals\\construction.py:576: VisibleDeprecationWarning: Creating an ndarray from ragged nested sequences (which is a list-or-tuple of lists-or-tuples-or ndarrays with different lengths or shapes) is deprecated. If you meant to do this, you must specify 'dtype=object' when creating the ndarray.\n",
      "  values = np.array([convert(v) for v in values])\n"
     ]
    },
    {
     "name": "stdout",
     "output_type": "stream",
     "text": [
      "167\n"
     ]
    },
    {
     "name": "stderr",
     "output_type": "stream",
     "text": [
      "  1%|▊                                                                             | 56/5337 [03:46<5:07:28,  3.49s/it]C:\\Users\\duPar\\Anaconda3\\envs\\oasis\\lib\\site-packages\\pandas\\core\\internals\\construction.py:576: VisibleDeprecationWarning: Creating an ndarray from ragged nested sequences (which is a list-or-tuple of lists-or-tuples-or ndarrays with different lengths or shapes) is deprecated. If you meant to do this, you must specify 'dtype=object' when creating the ndarray.\n",
      "  values = np.array([convert(v) for v in values])\n",
      "  1%|▊                                                                             | 57/5337 [03:50<5:02:36,  3.44s/it]"
     ]
    },
    {
     "name": "stdout",
     "output_type": "stream",
     "text": [
      "133\n"
     ]
    },
    {
     "name": "stderr",
     "output_type": "stream",
     "text": [
      "C:\\Users\\duPar\\Anaconda3\\envs\\oasis\\lib\\site-packages\\pandas\\core\\internals\\construction.py:576: VisibleDeprecationWarning: Creating an ndarray from ragged nested sequences (which is a list-or-tuple of lists-or-tuples-or ndarrays with different lengths or shapes) is deprecated. If you meant to do this, you must specify 'dtype=object' when creating the ndarray.\n",
      "  values = np.array([convert(v) for v in values])\n",
      "  1%|▊                                                                             | 58/5337 [03:51<4:16:13,  2.91s/it]C:\\Users\\duPar\\Anaconda3\\envs\\oasis\\lib\\site-packages\\pandas\\core\\internals\\construction.py:576: VisibleDeprecationWarning: Creating an ndarray from ragged nested sequences (which is a list-or-tuple of lists-or-tuples-or ndarrays with different lengths or shapes) is deprecated. If you meant to do this, you must specify 'dtype=object' when creating the ndarray.\n",
      "  values = np.array([convert(v) for v in values])\n"
     ]
    },
    {
     "name": "stdout",
     "output_type": "stream",
     "text": [
      "116\n"
     ]
    },
    {
     "name": "stderr",
     "output_type": "stream",
     "text": [
      "  1%|▊                                                                             | 59/5337 [03:55<4:49:38,  3.29s/it]C:\\Users\\duPar\\Anaconda3\\envs\\oasis\\lib\\site-packages\\pandas\\core\\internals\\construction.py:576: VisibleDeprecationWarning: Creating an ndarray from ragged nested sequences (which is a list-or-tuple of lists-or-tuples-or ndarrays with different lengths or shapes) is deprecated. If you meant to do this, you must specify 'dtype=object' when creating the ndarray.\n",
      "  values = np.array([convert(v) for v in values])\n"
     ]
    },
    {
     "name": "stdout",
     "output_type": "stream",
     "text": [
      "56\n",
      "165\n"
     ]
    },
    {
     "name": "stderr",
     "output_type": "stream",
     "text": [
      "  1%|▉                                                                             | 60/5337 [04:00<5:22:36,  3.67s/it]C:\\Users\\duPar\\Anaconda3\\envs\\oasis\\lib\\site-packages\\pandas\\core\\internals\\construction.py:576: VisibleDeprecationWarning: Creating an ndarray from ragged nested sequences (which is a list-or-tuple of lists-or-tuples-or ndarrays with different lengths or shapes) is deprecated. If you meant to do this, you must specify 'dtype=object' when creating the ndarray.\n",
      "  values = np.array([convert(v) for v in values])\n",
      "  1%|▉                                                                             | 61/5337 [04:04<5:27:28,  3.72s/it]"
     ]
    },
    {
     "name": "stdout",
     "output_type": "stream",
     "text": [
      "168\n"
     ]
    },
    {
     "name": "stderr",
     "output_type": "stream",
     "text": [
      "  1%|▉                                                                             | 62/5337 [04:04<4:04:04,  2.78s/it]C:\\Users\\duPar\\Anaconda3\\envs\\oasis\\lib\\site-packages\\pandas\\core\\internals\\construction.py:576: VisibleDeprecationWarning: Creating an ndarray from ragged nested sequences (which is a list-or-tuple of lists-or-tuples-or ndarrays with different lengths or shapes) is deprecated. If you meant to do this, you must specify 'dtype=object' when creating the ndarray.\n",
      "  values = np.array([convert(v) for v in values])\n"
     ]
    },
    {
     "name": "stdout",
     "output_type": "stream",
     "text": [
      "118\n",
      "207\n",
      "299\n"
     ]
    },
    {
     "name": "stderr",
     "output_type": "stream",
     "text": [
      "  1%|▉                                                                             | 63/5337 [04:15<7:32:14,  5.14s/it]C:\\Users\\duPar\\Anaconda3\\envs\\oasis\\lib\\site-packages\\pandas\\core\\internals\\construction.py:576: VisibleDeprecationWarning: Creating an ndarray from ragged nested sequences (which is a list-or-tuple of lists-or-tuples-or ndarrays with different lengths or shapes) is deprecated. If you meant to do this, you must specify 'dtype=object' when creating the ndarray.\n",
      "  values = np.array([convert(v) for v in values])\n"
     ]
    },
    {
     "name": "stdout",
     "output_type": "stream",
     "text": [
      "63\n",
      "151\n"
     ]
    },
    {
     "name": "stderr",
     "output_type": "stream",
     "text": [
      "  1%|▉                                                                             | 64/5337 [04:26<9:55:09,  6.77s/it]C:\\Users\\duPar\\Anaconda3\\envs\\oasis\\lib\\site-packages\\pandas\\core\\internals\\construction.py:576: VisibleDeprecationWarning: Creating an ndarray from ragged nested sequences (which is a list-or-tuple of lists-or-tuples-or ndarrays with different lengths or shapes) is deprecated. If you meant to do this, you must specify 'dtype=object' when creating the ndarray.\n",
      "  values = np.array([convert(v) for v in values])\n"
     ]
    },
    {
     "name": "stdout",
     "output_type": "stream",
     "text": [
      "1\n",
      "24\n",
      "73\n",
      "359\n"
     ]
    },
    {
     "name": "stderr",
     "output_type": "stream",
     "text": [
      "  1%|▉                                                                            | 65/5337 [04:36<11:43:48,  8.01s/it]C:\\Users\\duPar\\Anaconda3\\envs\\oasis\\lib\\site-packages\\pandas\\core\\internals\\construction.py:576: VisibleDeprecationWarning: Creating an ndarray from ragged nested sequences (which is a list-or-tuple of lists-or-tuples-or ndarrays with different lengths or shapes) is deprecated. If you meant to do this, you must specify 'dtype=object' when creating the ndarray.\n",
      "  values = np.array([convert(v) for v in values])\n"
     ]
    },
    {
     "name": "stdout",
     "output_type": "stream",
     "text": [
      "17\n",
      "166\n"
     ]
    },
    {
     "name": "stderr",
     "output_type": "stream",
     "text": [
      "  1%|▉                                                                            | 66/5337 [04:48<13:14:51,  9.05s/it]C:\\Users\\duPar\\Anaconda3\\envs\\oasis\\lib\\site-packages\\pandas\\core\\internals\\construction.py:576: VisibleDeprecationWarning: Creating an ndarray from ragged nested sequences (which is a list-or-tuple of lists-or-tuples-or ndarrays with different lengths or shapes) is deprecated. If you meant to do this, you must specify 'dtype=object' when creating the ndarray.\n",
      "  values = np.array([convert(v) for v in values])\n",
      "  1%|▉                                                                            | 67/5337 [05:00<14:30:10,  9.91s/it]C:\\Users\\duPar\\Anaconda3\\envs\\oasis\\lib\\site-packages\\pandas\\core\\internals\\construction.py:576: VisibleDeprecationWarning: Creating an ndarray from ragged nested sequences (which is a list-or-tuple of lists-or-tuples-or ndarrays with different lengths or shapes) is deprecated. If you meant to do this, you must specify 'dtype=object' when creating the ndarray.\n",
      "  values = np.array([convert(v) for v in values])\n"
     ]
    },
    {
     "name": "stdout",
     "output_type": "stream",
     "text": [
      "278\n",
      "483\n"
     ]
    },
    {
     "name": "stderr",
     "output_type": "stream",
     "text": [
      "  1%|▉                                                                            | 68/5337 [05:12<15:17:13, 10.44s/it]C:\\Users\\duPar\\Anaconda3\\envs\\oasis\\lib\\site-packages\\pandas\\core\\internals\\construction.py:576: VisibleDeprecationWarning: Creating an ndarray from ragged nested sequences (which is a list-or-tuple of lists-or-tuples-or ndarrays with different lengths or shapes) is deprecated. If you meant to do this, you must specify 'dtype=object' when creating the ndarray.\n",
      "  values = np.array([convert(v) for v in values])\n",
      "  1%|▉                                                                            | 69/5337 [05:17<13:01:00,  8.90s/it]"
     ]
    },
    {
     "name": "stdout",
     "output_type": "stream",
     "text": [
      "208\n"
     ]
    },
    {
     "name": "stderr",
     "output_type": "stream",
     "text": [
      "C:\\Users\\duPar\\Anaconda3\\envs\\oasis\\lib\\site-packages\\pandas\\core\\internals\\construction.py:576: VisibleDeprecationWarning: Creating an ndarray from ragged nested sequences (which is a list-or-tuple of lists-or-tuples-or ndarrays with different lengths or shapes) is deprecated. If you meant to do this, you must specify 'dtype=object' when creating the ndarray.\n",
      "  values = np.array([convert(v) for v in values])\n",
      "  1%|█                                                                            | 70/5337 [05:29<14:16:40,  9.76s/it]C:\\Users\\duPar\\Anaconda3\\envs\\oasis\\lib\\site-packages\\pandas\\core\\internals\\construction.py:576: VisibleDeprecationWarning: Creating an ndarray from ragged nested sequences (which is a list-or-tuple of lists-or-tuples-or ndarrays with different lengths or shapes) is deprecated. If you meant to do this, you must specify 'dtype=object' when creating the ndarray.\n",
      "  values = np.array([convert(v) for v in values])\n"
     ]
    },
    {
     "name": "stdout",
     "output_type": "stream",
     "text": [
      "138\n",
      "192\n"
     ]
    },
    {
     "name": "stderr",
     "output_type": "stream",
     "text": [
      "  1%|█                                                                            | 71/5337 [05:34<12:10:37,  8.32s/it]C:\\Users\\duPar\\Anaconda3\\envs\\oasis\\lib\\site-packages\\pandas\\core\\internals\\construction.py:576: VisibleDeprecationWarning: Creating an ndarray from ragged nested sequences (which is a list-or-tuple of lists-or-tuples-or ndarrays with different lengths or shapes) is deprecated. If you meant to do this, you must specify 'dtype=object' when creating the ndarray.\n",
      "  values = np.array([convert(v) for v in values])\n",
      "  1%|█                                                                             | 72/5337 [05:36<9:43:55,  6.65s/it]"
     ]
    },
    {
     "name": "stdout",
     "output_type": "stream",
     "text": [
      "95\n"
     ]
    },
    {
     "name": "stderr",
     "output_type": "stream",
     "text": [
      "C:\\Users\\duPar\\Anaconda3\\envs\\oasis\\lib\\site-packages\\pandas\\core\\internals\\construction.py:576: VisibleDeprecationWarning: Creating an ndarray from ragged nested sequences (which is a list-or-tuple of lists-or-tuples-or ndarrays with different lengths or shapes) is deprecated. If you meant to do this, you must specify 'dtype=object' when creating the ndarray.\n",
      "  values = np.array([convert(v) for v in values])\n"
     ]
    },
    {
     "name": "stdout",
     "output_type": "stream",
     "text": [
      "394\n"
     ]
    },
    {
     "name": "stderr",
     "output_type": "stream",
     "text": [
      "  1%|█                                                                            | 73/5337 [05:49<12:11:22,  8.34s/it]C:\\Users\\duPar\\Anaconda3\\envs\\oasis\\lib\\site-packages\\pandas\\core\\internals\\construction.py:576: VisibleDeprecationWarning: Creating an ndarray from ragged nested sequences (which is a list-or-tuple of lists-or-tuples-or ndarrays with different lengths or shapes) is deprecated. If you meant to do this, you must specify 'dtype=object' when creating the ndarray.\n",
      "  values = np.array([convert(v) for v in values])\n"
     ]
    },
    {
     "name": "stdout",
     "output_type": "stream",
     "text": [
      "63\n"
     ]
    },
    {
     "name": "stderr",
     "output_type": "stream",
     "text": [
      "  1%|█                                                                            | 74/5337 [05:55<11:25:12,  7.81s/it]"
     ]
    },
    {
     "name": "stdout",
     "output_type": "stream",
     "text": [
      "236\n"
     ]
    },
    {
     "name": "stderr",
     "output_type": "stream",
     "text": [
      "C:\\Users\\duPar\\Anaconda3\\envs\\oasis\\lib\\site-packages\\pandas\\core\\internals\\construction.py:576: VisibleDeprecationWarning: Creating an ndarray from ragged nested sequences (which is a list-or-tuple of lists-or-tuples-or ndarrays with different lengths or shapes) is deprecated. If you meant to do this, you must specify 'dtype=object' when creating the ndarray.\n",
      "  values = np.array([convert(v) for v in values])\n"
     ]
    },
    {
     "name": "stdout",
     "output_type": "stream",
     "text": [
      "24\n",
      "192\n"
     ]
    },
    {
     "name": "stderr",
     "output_type": "stream",
     "text": [
      "  1%|█                                                                            | 75/5337 [06:01<10:31:24,  7.20s/it]"
     ]
    },
    {
     "name": "stdout",
     "output_type": "stream",
     "text": [
      "222\n"
     ]
    },
    {
     "name": "stderr",
     "output_type": "stream",
     "text": [
      "C:\\Users\\duPar\\Anaconda3\\envs\\oasis\\lib\\site-packages\\pandas\\core\\internals\\construction.py:576: VisibleDeprecationWarning: Creating an ndarray from ragged nested sequences (which is a list-or-tuple of lists-or-tuples-or ndarrays with different lengths or shapes) is deprecated. If you meant to do this, you must specify 'dtype=object' when creating the ndarray.\n",
      "  values = np.array([convert(v) for v in values])\n"
     ]
    },
    {
     "name": "stdout",
     "output_type": "stream",
     "text": [
      "77\n",
      "141\n"
     ]
    },
    {
     "name": "stderr",
     "output_type": "stream",
     "text": [
      "  1%|█                                                                             | 76/5337 [06:06<9:32:36,  6.53s/it]C:\\Users\\duPar\\Anaconda3\\envs\\oasis\\lib\\site-packages\\pandas\\core\\internals\\construction.py:576: VisibleDeprecationWarning: Creating an ndarray from ragged nested sequences (which is a list-or-tuple of lists-or-tuples-or ndarrays with different lengths or shapes) is deprecated. If you meant to do this, you must specify 'dtype=object' when creating the ndarray.\n",
      "  values = np.array([convert(v) for v in values])\n",
      "  1%|█▏                                                                            | 77/5337 [06:09<8:03:23,  5.51s/it]"
     ]
    },
    {
     "name": "stdout",
     "output_type": "stream",
     "text": [
      "111\n"
     ]
    },
    {
     "name": "stderr",
     "output_type": "stream",
     "text": [
      "C:\\Users\\duPar\\Anaconda3\\envs\\oasis\\lib\\site-packages\\pandas\\core\\internals\\construction.py:576: VisibleDeprecationWarning: Creating an ndarray from ragged nested sequences (which is a list-or-tuple of lists-or-tuples-or ndarrays with different lengths or shapes) is deprecated. If you meant to do this, you must specify 'dtype=object' when creating the ndarray.\n",
      "  values = np.array([convert(v) for v in values])\n"
     ]
    },
    {
     "name": "stdout",
     "output_type": "stream",
     "text": [
      "327\n"
     ]
    },
    {
     "name": "stderr",
     "output_type": "stream",
     "text": [
      "  1%|█▏                                                                           | 78/5337 [06:22<11:29:53,  7.87s/it]C:\\Users\\duPar\\Anaconda3\\envs\\oasis\\lib\\site-packages\\pandas\\core\\internals\\construction.py:576: VisibleDeprecationWarning: Creating an ndarray from ragged nested sequences (which is a list-or-tuple of lists-or-tuples-or ndarrays with different lengths or shapes) is deprecated. If you meant to do this, you must specify 'dtype=object' when creating the ndarray.\n",
      "  values = np.array([convert(v) for v in values])\n",
      "  1%|█▏                                                                            | 79/5337 [06:25<9:16:37,  6.35s/it]"
     ]
    },
    {
     "name": "stdout",
     "output_type": "stream",
     "text": [
      "98\n"
     ]
    },
    {
     "name": "stderr",
     "output_type": "stream",
     "text": [
      "C:\\Users\\duPar\\Anaconda3\\envs\\oasis\\lib\\site-packages\\pandas\\core\\internals\\construction.py:576: VisibleDeprecationWarning: Creating an ndarray from ragged nested sequences (which is a list-or-tuple of lists-or-tuples-or ndarrays with different lengths or shapes) is deprecated. If you meant to do this, you must specify 'dtype=object' when creating the ndarray.\n",
      "  values = np.array([convert(v) for v in values])\n",
      "  1%|█▏                                                                            | 80/5337 [06:33<9:42:17,  6.65s/it]"
     ]
    },
    {
     "name": "stdout",
     "output_type": "stream",
     "text": [
      "256\n"
     ]
    },
    {
     "name": "stderr",
     "output_type": "stream",
     "text": [
      "C:\\Users\\duPar\\Anaconda3\\envs\\oasis\\lib\\site-packages\\pandas\\core\\internals\\construction.py:576: VisibleDeprecationWarning: Creating an ndarray from ragged nested sequences (which is a list-or-tuple of lists-or-tuples-or ndarrays with different lengths or shapes) is deprecated. If you meant to do this, you must specify 'dtype=object' when creating the ndarray.\n",
      "  values = np.array([convert(v) for v in values])\n"
     ]
    },
    {
     "name": "stdout",
     "output_type": "stream",
     "text": [
      "309\n",
      "422\n",
      "463\n",
      "489\n"
     ]
    },
    {
     "name": "stderr",
     "output_type": "stream",
     "text": [
      "  2%|█▏                                                                           | 81/5337 [06:46<12:34:26,  8.61s/it]C:\\Users\\duPar\\Anaconda3\\envs\\oasis\\lib\\site-packages\\pandas\\core\\internals\\construction.py:576: VisibleDeprecationWarning: Creating an ndarray from ragged nested sequences (which is a list-or-tuple of lists-or-tuples-or ndarrays with different lengths or shapes) is deprecated. If you meant to do this, you must specify 'dtype=object' when creating the ndarray.\n",
      "  values = np.array([convert(v) for v in values])\n"
     ]
    },
    {
     "name": "stdout",
     "output_type": "stream",
     "text": [
      "18\n"
     ]
    },
    {
     "name": "stderr",
     "output_type": "stream",
     "text": [
      "  2%|█▏                                                                           | 82/5337 [06:59<14:47:44, 10.14s/it]C:\\Users\\duPar\\Anaconda3\\envs\\oasis\\lib\\site-packages\\pandas\\core\\internals\\construction.py:576: VisibleDeprecationWarning: Creating an ndarray from ragged nested sequences (which is a list-or-tuple of lists-or-tuples-or ndarrays with different lengths or shapes) is deprecated. If you meant to do this, you must specify 'dtype=object' when creating the ndarray.\n",
      "  values = np.array([convert(v) for v in values])\n",
      "  2%|█▏                                                                           | 83/5337 [07:07<13:47:22,  9.45s/it]"
     ]
    },
    {
     "name": "stdout",
     "output_type": "stream",
     "text": [
      "252\n"
     ]
    },
    {
     "name": "stderr",
     "output_type": "stream",
     "text": [
      "C:\\Users\\duPar\\Anaconda3\\envs\\oasis\\lib\\site-packages\\pandas\\core\\internals\\construction.py:576: VisibleDeprecationWarning: Creating an ndarray from ragged nested sequences (which is a list-or-tuple of lists-or-tuples-or ndarrays with different lengths or shapes) is deprecated. If you meant to do this, you must specify 'dtype=object' when creating the ndarray.\n",
      "  values = np.array([convert(v) for v in values])\n",
      "  2%|█▏                                                                           | 84/5337 [07:16<13:22:10,  9.16s/it]"
     ]
    },
    {
     "name": "stdout",
     "output_type": "stream",
     "text": [
      "291\n"
     ]
    },
    {
     "name": "stderr",
     "output_type": "stream",
     "text": [
      "C:\\Users\\duPar\\Anaconda3\\envs\\oasis\\lib\\site-packages\\pandas\\core\\internals\\construction.py:576: VisibleDeprecationWarning: Creating an ndarray from ragged nested sequences (which is a list-or-tuple of lists-or-tuples-or ndarrays with different lengths or shapes) is deprecated. If you meant to do this, you must specify 'dtype=object' when creating the ndarray.\n",
      "  values = np.array([convert(v) for v in values])\n"
     ]
    },
    {
     "name": "stdout",
     "output_type": "stream",
     "text": [
      "364\n"
     ]
    },
    {
     "name": "stderr",
     "output_type": "stream",
     "text": [
      "  2%|█▏                                                                           | 85/5337 [07:30<15:46:19, 10.81s/it]C:\\Users\\duPar\\Anaconda3\\envs\\oasis\\lib\\site-packages\\pandas\\core\\internals\\construction.py:576: VisibleDeprecationWarning: Creating an ndarray from ragged nested sequences (which is a list-or-tuple of lists-or-tuples-or ndarrays with different lengths or shapes) is deprecated. If you meant to do this, you must specify 'dtype=object' when creating the ndarray.\n",
      "  values = np.array([convert(v) for v in values])\n"
     ]
    },
    {
     "name": "stdout",
     "output_type": "stream",
     "text": [
      "18\n",
      "161\n",
      "415\n",
      "422\n"
     ]
    },
    {
     "name": "stderr",
     "output_type": "stream",
     "text": [
      "  2%|█▎                                                                           | 87/5337 [07:46<12:36:56,  8.65s/it]C:\\Users\\duPar\\Anaconda3\\envs\\oasis\\lib\\site-packages\\pandas\\core\\internals\\construction.py:576: VisibleDeprecationWarning: Creating an ndarray from ragged nested sequences (which is a list-or-tuple of lists-or-tuples-or ndarrays with different lengths or shapes) is deprecated. If you meant to do this, you must specify 'dtype=object' when creating the ndarray.\n",
      "  values = np.array([convert(v) for v in values])\n",
      "  2%|█▎                                                                           | 88/5337 [08:02<15:32:57, 10.66s/it]C:\\Users\\duPar\\Anaconda3\\envs\\oasis\\lib\\site-packages\\pandas\\core\\internals\\construction.py:576: VisibleDeprecationWarning: Creating an ndarray from ragged nested sequences (which is a list-or-tuple of lists-or-tuples-or ndarrays with different lengths or shapes) is deprecated. If you meant to do this, you must specify 'dtype=object' when creating the ndarray.\n",
      "  values = np.array([convert(v) for v in values])\n",
      "  2%|█▎                                                                           | 89/5337 [08:18<17:52:59, 12.27s/it]C:\\Users\\duPar\\Anaconda3\\envs\\oasis\\lib\\site-packages\\pandas\\core\\internals\\construction.py:576: VisibleDeprecationWarning: Creating an ndarray from ragged nested sequences (which is a list-or-tuple of lists-or-tuples-or ndarrays with different lengths or shapes) is deprecated. If you meant to do this, you must specify 'dtype=object' when creating the ndarray.\n",
      "  values = np.array([convert(v) for v in values])\n"
     ]
    },
    {
     "name": "stdout",
     "output_type": "stream",
     "text": [
      "333\n",
      "373\n"
     ]
    },
    {
     "name": "stderr",
     "output_type": "stream",
     "text": [
      "  2%|█▎                                                                           | 90/5337 [08:35<19:54:05, 13.65s/it]C:\\Users\\duPar\\Anaconda3\\envs\\oasis\\lib\\site-packages\\pandas\\core\\internals\\construction.py:576: VisibleDeprecationWarning: Creating an ndarray from ragged nested sequences (which is a list-or-tuple of lists-or-tuples-or ndarrays with different lengths or shapes) is deprecated. If you meant to do this, you must specify 'dtype=object' when creating the ndarray.\n",
      "  values = np.array([convert(v) for v in values])\n"
     ]
    },
    {
     "name": "stdout",
     "output_type": "stream",
     "text": [
      "144\n",
      "210\n",
      "334\n",
      "357\n"
     ]
    },
    {
     "name": "stderr",
     "output_type": "stream",
     "text": [
      "  2%|█▎                                                                           | 92/5337 [08:52<15:13:43, 10.45s/it]C:\\Users\\duPar\\Anaconda3\\envs\\oasis\\lib\\site-packages\\pandas\\core\\internals\\construction.py:576: VisibleDeprecationWarning: Creating an ndarray from ragged nested sequences (which is a list-or-tuple of lists-or-tuples-or ndarrays with different lengths or shapes) is deprecated. If you meant to do this, you must specify 'dtype=object' when creating the ndarray.\n",
      "  values = np.array([convert(v) for v in values])\n",
      "  2%|█▎                                                                           | 93/5337 [09:03<15:34:25, 10.69s/it]"
     ]
    },
    {
     "name": "stdout",
     "output_type": "stream",
     "text": [
      "328\n"
     ]
    },
    {
     "name": "stderr",
     "output_type": "stream",
     "text": [
      "C:\\Users\\duPar\\Anaconda3\\envs\\oasis\\lib\\site-packages\\pandas\\core\\internals\\construction.py:576: VisibleDeprecationWarning: Creating an ndarray from ragged nested sequences (which is a list-or-tuple of lists-or-tuples-or ndarrays with different lengths or shapes) is deprecated. If you meant to do this, you must specify 'dtype=object' when creating the ndarray.\n",
      "  values = np.array([convert(v) for v in values])\n"
     ]
    },
    {
     "name": "stdout",
     "output_type": "stream",
     "text": [
      "350\n"
     ]
    },
    {
     "name": "stderr",
     "output_type": "stream",
     "text": [
      "  2%|█▎                                                                           | 94/5337 [09:16<16:31:31, 11.35s/it]C:\\Users\\duPar\\Anaconda3\\envs\\oasis\\lib\\site-packages\\pandas\\core\\internals\\construction.py:576: VisibleDeprecationWarning: Creating an ndarray from ragged nested sequences (which is a list-or-tuple of lists-or-tuples-or ndarrays with different lengths or shapes) is deprecated. If you meant to do this, you must specify 'dtype=object' when creating the ndarray.\n",
      "  values = np.array([convert(v) for v in values])\n"
     ]
    },
    {
     "name": "stdout",
     "output_type": "stream",
     "text": [
      "477\n",
      "481\n"
     ]
    },
    {
     "name": "stderr",
     "output_type": "stream",
     "text": [
      "  2%|█▎                                                                           | 95/5337 [09:33<18:42:51, 12.85s/it]C:\\Users\\duPar\\Anaconda3\\envs\\oasis\\lib\\site-packages\\pandas\\core\\internals\\construction.py:576: VisibleDeprecationWarning: Creating an ndarray from ragged nested sequences (which is a list-or-tuple of lists-or-tuples-or ndarrays with different lengths or shapes) is deprecated. If you meant to do this, you must specify 'dtype=object' when creating the ndarray.\n",
      "  values = np.array([convert(v) for v in values])\n"
     ]
    },
    {
     "name": "stdout",
     "output_type": "stream",
     "text": [
      "75\n",
      "154\n"
     ]
    },
    {
     "name": "stderr",
     "output_type": "stream",
     "text": [
      "  2%|█▍                                                                           | 96/5337 [09:50<20:31:39, 14.10s/it]C:\\Users\\duPar\\Anaconda3\\envs\\oasis\\lib\\site-packages\\pandas\\core\\internals\\construction.py:576: VisibleDeprecationWarning: Creating an ndarray from ragged nested sequences (which is a list-or-tuple of lists-or-tuples-or ndarrays with different lengths or shapes) is deprecated. If you meant to do this, you must specify 'dtype=object' when creating the ndarray.\n",
      "  values = np.array([convert(v) for v in values])\n"
     ]
    },
    {
     "name": "stdout",
     "output_type": "stream",
     "text": [
      "100\n",
      "200\n"
     ]
    },
    {
     "name": "stderr",
     "output_type": "stream",
     "text": [
      "  2%|█▍                                                                           | 97/5337 [10:09<22:37:35, 15.54s/it]C:\\Users\\duPar\\Anaconda3\\envs\\oasis\\lib\\site-packages\\pandas\\core\\internals\\construction.py:576: VisibleDeprecationWarning: Creating an ndarray from ragged nested sequences (which is a list-or-tuple of lists-or-tuples-or ndarrays with different lengths or shapes) is deprecated. If you meant to do this, you must specify 'dtype=object' when creating the ndarray.\n",
      "  values = np.array([convert(v) for v in values])\n",
      "  2%|█▍                                                                           | 98/5337 [10:26<23:30:12, 16.15s/it]C:\\Users\\duPar\\Anaconda3\\envs\\oasis\\lib\\site-packages\\pandas\\core\\internals\\construction.py:576: VisibleDeprecationWarning: Creating an ndarray from ragged nested sequences (which is a list-or-tuple of lists-or-tuples-or ndarrays with different lengths or shapes) is deprecated. If you meant to do this, you must specify 'dtype=object' when creating the ndarray.\n",
      "  values = np.array([convert(v) for v in values])\n",
      "  2%|█▍                                                                           | 99/5337 [10:44<24:18:51, 16.71s/it]C:\\Users\\duPar\\Anaconda3\\envs\\oasis\\lib\\site-packages\\pandas\\core\\internals\\construction.py:576: VisibleDeprecationWarning: Creating an ndarray from ragged nested sequences (which is a list-or-tuple of lists-or-tuples-or ndarrays with different lengths or shapes) is deprecated. If you meant to do this, you must specify 'dtype=object' when creating the ndarray.\n",
      "  values = np.array([convert(v) for v in values])\n"
     ]
    },
    {
     "name": "stdout",
     "output_type": "stream",
     "text": [
      "371\n"
     ]
    },
    {
     "name": "stderr",
     "output_type": "stream",
     "text": [
      "  2%|█▍                                                                          | 100/5337 [11:00<23:46:01, 16.34s/it]C:\\Users\\duPar\\Anaconda3\\envs\\oasis\\lib\\site-packages\\pandas\\core\\internals\\construction.py:576: VisibleDeprecationWarning: Creating an ndarray from ragged nested sequences (which is a list-or-tuple of lists-or-tuples-or ndarrays with different lengths or shapes) is deprecated. If you meant to do this, you must specify 'dtype=object' when creating the ndarray.\n",
      "  values = np.array([convert(v) for v in values])\n"
     ]
    },
    {
     "name": "stdout",
     "output_type": "stream",
     "text": [
      "292\n",
      "452\n"
     ]
    },
    {
     "name": "stderr",
     "output_type": "stream",
     "text": [
      "  2%|█▍                                                                          | 101/5337 [11:18<24:25:33, 16.79s/it]C:\\Users\\duPar\\Anaconda3\\envs\\oasis\\lib\\site-packages\\pandas\\core\\internals\\construction.py:576: VisibleDeprecationWarning: Creating an ndarray from ragged nested sequences (which is a list-or-tuple of lists-or-tuples-or ndarrays with different lengths or shapes) is deprecated. If you meant to do this, you must specify 'dtype=object' when creating the ndarray.\n",
      "  values = np.array([convert(v) for v in values])\n"
     ]
    },
    {
     "name": "stdout",
     "output_type": "stream",
     "text": [
      "32\n",
      "68\n",
      "84\n"
     ]
    },
    {
     "name": "stderr",
     "output_type": "stream",
     "text": [
      "  2%|█▍                                                                          | 102/5337 [11:36<25:04:46, 17.25s/it]C:\\Users\\duPar\\Anaconda3\\envs\\oasis\\lib\\site-packages\\pandas\\core\\internals\\construction.py:576: VisibleDeprecationWarning: Creating an ndarray from ragged nested sequences (which is a list-or-tuple of lists-or-tuples-or ndarrays with different lengths or shapes) is deprecated. If you meant to do this, you must specify 'dtype=object' when creating the ndarray.\n",
      "  values = np.array([convert(v) for v in values])\n",
      "  2%|█▍                                                                          | 103/5337 [11:55<25:43:53, 17.70s/it]C:\\Users\\duPar\\Anaconda3\\envs\\oasis\\lib\\site-packages\\pandas\\core\\internals\\construction.py:576: VisibleDeprecationWarning: Creating an ndarray from ragged nested sequences (which is a list-or-tuple of lists-or-tuples-or ndarrays with different lengths or shapes) is deprecated. If you meant to do this, you must specify 'dtype=object' when creating the ndarray.\n",
      "  values = np.array([convert(v) for v in values])\n"
     ]
    },
    {
     "name": "stdout",
     "output_type": "stream",
     "text": [
      "137\n"
     ]
    },
    {
     "name": "stderr",
     "output_type": "stream",
     "text": [
      "  2%|█▍                                                                          | 104/5337 [12:13<26:09:42, 18.00s/it]C:\\Users\\duPar\\Anaconda3\\envs\\oasis\\lib\\site-packages\\pandas\\core\\internals\\construction.py:576: VisibleDeprecationWarning: Creating an ndarray from ragged nested sequences (which is a list-or-tuple of lists-or-tuples-or ndarrays with different lengths or shapes) is deprecated. If you meant to do this, you must specify 'dtype=object' when creating the ndarray.\n",
      "  values = np.array([convert(v) for v in values])\n",
      "  2%|█▍                                                                          | 105/5337 [12:33<26:44:52, 18.40s/it]C:\\Users\\duPar\\Anaconda3\\envs\\oasis\\lib\\site-packages\\pandas\\core\\internals\\construction.py:576: VisibleDeprecationWarning: Creating an ndarray from ragged nested sequences (which is a list-or-tuple of lists-or-tuples-or ndarrays with different lengths or shapes) is deprecated. If you meant to do this, you must specify 'dtype=object' when creating the ndarray.\n",
      "  values = np.array([convert(v) for v in values])\n"
     ]
    },
    {
     "name": "stdout",
     "output_type": "stream",
     "text": [
      "352\n"
     ]
    },
    {
     "name": "stderr",
     "output_type": "stream",
     "text": [
      "  2%|█▌                                                                          | 106/5337 [12:53<27:22:45, 18.84s/it]C:\\Users\\duPar\\Anaconda3\\envs\\oasis\\lib\\site-packages\\pandas\\core\\internals\\construction.py:576: VisibleDeprecationWarning: Creating an ndarray from ragged nested sequences (which is a list-or-tuple of lists-or-tuples-or ndarrays with different lengths or shapes) is deprecated. If you meant to do this, you must specify 'dtype=object' when creating the ndarray.\n",
      "  values = np.array([convert(v) for v in values])\n"
     ]
    },
    {
     "name": "stdout",
     "output_type": "stream",
     "text": [
      "355\n"
     ]
    },
    {
     "name": "stderr",
     "output_type": "stream",
     "text": [
      "  2%|█▌                                                                          | 107/5337 [13:12<27:41:04, 19.06s/it]C:\\Users\\duPar\\Anaconda3\\envs\\oasis\\lib\\site-packages\\pandas\\core\\internals\\construction.py:576: VisibleDeprecationWarning: Creating an ndarray from ragged nested sequences (which is a list-or-tuple of lists-or-tuples-or ndarrays with different lengths or shapes) is deprecated. If you meant to do this, you must specify 'dtype=object' when creating the ndarray.\n",
      "  values = np.array([convert(v) for v in values])\n"
     ]
    },
    {
     "name": "stdout",
     "output_type": "stream",
     "text": [
      "32\n",
      "87\n"
     ]
    },
    {
     "name": "stderr",
     "output_type": "stream",
     "text": [
      "  2%|█▌                                                                          | 108/5337 [13:33<28:22:46, 19.54s/it]C:\\Users\\duPar\\Anaconda3\\envs\\oasis\\lib\\site-packages\\pandas\\core\\internals\\construction.py:576: VisibleDeprecationWarning: Creating an ndarray from ragged nested sequences (which is a list-or-tuple of lists-or-tuples-or ndarrays with different lengths or shapes) is deprecated. If you meant to do this, you must specify 'dtype=object' when creating the ndarray.\n",
      "  values = np.array([convert(v) for v in values])\n"
     ]
    },
    {
     "name": "stdout",
     "output_type": "stream",
     "text": [
      "148\n"
     ]
    },
    {
     "name": "stderr",
     "output_type": "stream",
     "text": [
      "  2%|█▌                                                                          | 109/5337 [13:54<29:06:09, 20.04s/it]C:\\Users\\duPar\\Anaconda3\\envs\\oasis\\lib\\site-packages\\pandas\\core\\internals\\construction.py:576: VisibleDeprecationWarning: Creating an ndarray from ragged nested sequences (which is a list-or-tuple of lists-or-tuples-or ndarrays with different lengths or shapes) is deprecated. If you meant to do this, you must specify 'dtype=object' when creating the ndarray.\n",
      "  values = np.array([convert(v) for v in values])\n"
     ]
    },
    {
     "name": "stdout",
     "output_type": "stream",
     "text": [
      "49\n",
      "356\n",
      "384\n",
      "454\n"
     ]
    },
    {
     "name": "stderr",
     "output_type": "stream",
     "text": [
      "  2%|█▌                                                                          | 110/5337 [14:15<29:30:43, 20.33s/it]C:\\Users\\duPar\\Anaconda3\\envs\\oasis\\lib\\site-packages\\pandas\\core\\internals\\construction.py:576: VisibleDeprecationWarning: Creating an ndarray from ragged nested sequences (which is a list-or-tuple of lists-or-tuples-or ndarrays with different lengths or shapes) is deprecated. If you meant to do this, you must specify 'dtype=object' when creating the ndarray.\n",
      "  values = np.array([convert(v) for v in values])\n"
     ]
    },
    {
     "name": "stdout",
     "output_type": "stream",
     "text": [
      "480\n"
     ]
    },
    {
     "name": "stderr",
     "output_type": "stream",
     "text": [
      "  2%|█▌                                                                          | 111/5337 [14:36<29:58:25, 20.65s/it]C:\\Users\\duPar\\Anaconda3\\envs\\oasis\\lib\\site-packages\\pandas\\core\\internals\\construction.py:576: VisibleDeprecationWarning: Creating an ndarray from ragged nested sequences (which is a list-or-tuple of lists-or-tuples-or ndarrays with different lengths or shapes) is deprecated. If you meant to do this, you must specify 'dtype=object' when creating the ndarray.\n",
      "  values = np.array([convert(v) for v in values])\n",
      "  2%|█▌                                                                          | 112/5337 [14:58<30:17:30, 20.87s/it]C:\\Users\\duPar\\Anaconda3\\envs\\oasis\\lib\\site-packages\\pandas\\core\\internals\\construction.py:576: VisibleDeprecationWarning: Creating an ndarray from ragged nested sequences (which is a list-or-tuple of lists-or-tuples-or ndarrays with different lengths or shapes) is deprecated. If you meant to do this, you must specify 'dtype=object' when creating the ndarray.\n",
      "  values = np.array([convert(v) for v in values])\n"
     ]
    },
    {
     "name": "stdout",
     "output_type": "stream",
     "text": [
      "111\n",
      "224\n"
     ]
    },
    {
     "name": "stderr",
     "output_type": "stream",
     "text": [
      "  2%|█▌                                                                          | 113/5337 [15:19<30:22:39, 20.93s/it]C:\\Users\\duPar\\Anaconda3\\envs\\oasis\\lib\\site-packages\\pandas\\core\\internals\\construction.py:576: VisibleDeprecationWarning: Creating an ndarray from ragged nested sequences (which is a list-or-tuple of lists-or-tuples-or ndarrays with different lengths or shapes) is deprecated. If you meant to do this, you must specify 'dtype=object' when creating the ndarray.\n",
      "  values = np.array([convert(v) for v in values])\n"
     ]
    },
    {
     "name": "stdout",
     "output_type": "stream",
     "text": [
      "1\n",
      "148\n",
      "214\n",
      "270\n",
      "359\n",
      "371\n"
     ]
    },
    {
     "name": "stderr",
     "output_type": "stream",
     "text": [
      "  2%|█▌                                                                          | 114/5337 [15:40<30:32:52, 21.06s/it]C:\\Users\\duPar\\Anaconda3\\envs\\oasis\\lib\\site-packages\\pandas\\core\\internals\\construction.py:576: VisibleDeprecationWarning: Creating an ndarray from ragged nested sequences (which is a list-or-tuple of lists-or-tuples-or ndarrays with different lengths or shapes) is deprecated. If you meant to do this, you must specify 'dtype=object' when creating the ndarray.\n",
      "  values = np.array([convert(v) for v in values])\n"
     ]
    },
    {
     "name": "stdout",
     "output_type": "stream",
     "text": [
      "15\n",
      "222\n"
     ]
    },
    {
     "name": "stderr",
     "output_type": "stream",
     "text": [
      "  2%|█▋                                                                          | 115/5337 [16:02<30:57:13, 21.34s/it]C:\\Users\\duPar\\Anaconda3\\envs\\oasis\\lib\\site-packages\\pandas\\core\\internals\\construction.py:576: VisibleDeprecationWarning: Creating an ndarray from ragged nested sequences (which is a list-or-tuple of lists-or-tuples-or ndarrays with different lengths or shapes) is deprecated. If you meant to do this, you must specify 'dtype=object' when creating the ndarray.\n",
      "  values = np.array([convert(v) for v in values])\n"
     ]
    },
    {
     "name": "stdout",
     "output_type": "stream",
     "text": [
      "1\n"
     ]
    },
    {
     "name": "stderr",
     "output_type": "stream",
     "text": [
      "  2%|█▋                                                                          | 117/5337 [16:25<22:09:05, 15.28s/it]C:\\Users\\duPar\\Anaconda3\\envs\\oasis\\lib\\site-packages\\pandas\\core\\internals\\construction.py:576: VisibleDeprecationWarning: Creating an ndarray from ragged nested sequences (which is a list-or-tuple of lists-or-tuples-or ndarrays with different lengths or shapes) is deprecated. If you meant to do this, you must specify 'dtype=object' when creating the ndarray.\n",
      "  values = np.array([convert(v) for v in values])\n",
      "  2%|█▋                                                                          | 118/5337 [16:48<25:33:47, 17.63s/it]C:\\Users\\duPar\\Anaconda3\\envs\\oasis\\lib\\site-packages\\pandas\\core\\internals\\construction.py:576: VisibleDeprecationWarning: Creating an ndarray from ragged nested sequences (which is a list-or-tuple of lists-or-tuples-or ndarrays with different lengths or shapes) is deprecated. If you meant to do this, you must specify 'dtype=object' when creating the ndarray.\n",
      "  values = np.array([convert(v) for v in values])\n"
     ]
    },
    {
     "name": "stdout",
     "output_type": "stream",
     "text": [
      "124\n",
      "321\n"
     ]
    },
    {
     "name": "stderr",
     "output_type": "stream",
     "text": [
      "  2%|█▋                                                                          | 119/5337 [17:11<28:02:44, 19.35s/it]C:\\Users\\duPar\\Anaconda3\\envs\\oasis\\lib\\site-packages\\pandas\\core\\internals\\construction.py:576: VisibleDeprecationWarning: Creating an ndarray from ragged nested sequences (which is a list-or-tuple of lists-or-tuples-or ndarrays with different lengths or shapes) is deprecated. If you meant to do this, you must specify 'dtype=object' when creating the ndarray.\n",
      "  values = np.array([convert(v) for v in values])\n"
     ]
    },
    {
     "name": "stdout",
     "output_type": "stream",
     "text": [
      "358\n"
     ]
    },
    {
     "name": "stderr",
     "output_type": "stream",
     "text": [
      "  2%|█▋                                                                          | 120/5337 [17:35<29:44:22, 20.52s/it]C:\\Users\\duPar\\Anaconda3\\envs\\oasis\\lib\\site-packages\\pandas\\core\\internals\\construction.py:576: VisibleDeprecationWarning: Creating an ndarray from ragged nested sequences (which is a list-or-tuple of lists-or-tuples-or ndarrays with different lengths or shapes) is deprecated. If you meant to do this, you must specify 'dtype=object' when creating the ndarray.\n",
      "  values = np.array([convert(v) for v in values])\n"
     ]
    },
    {
     "name": "stdout",
     "output_type": "stream",
     "text": [
      "213\n"
     ]
    },
    {
     "name": "stderr",
     "output_type": "stream",
     "text": [
      "  2%|█▋                                                                          | 121/5337 [17:59<31:09:38, 21.51s/it]C:\\Users\\duPar\\Anaconda3\\envs\\oasis\\lib\\site-packages\\pandas\\core\\internals\\construction.py:576: VisibleDeprecationWarning: Creating an ndarray from ragged nested sequences (which is a list-or-tuple of lists-or-tuples-or ndarrays with different lengths or shapes) is deprecated. If you meant to do this, you must specify 'dtype=object' when creating the ndarray.\n",
      "  values = np.array([convert(v) for v in values])\n"
     ]
    },
    {
     "name": "stdout",
     "output_type": "stream",
     "text": [
      "31\n",
      "140\n",
      "448\n"
     ]
    },
    {
     "name": "stderr",
     "output_type": "stream",
     "text": [
      "  2%|█▋                                                                          | 122/5337 [18:22<32:00:46, 22.10s/it]C:\\Users\\duPar\\Anaconda3\\envs\\oasis\\lib\\site-packages\\pandas\\core\\internals\\construction.py:576: VisibleDeprecationWarning: Creating an ndarray from ragged nested sequences (which is a list-or-tuple of lists-or-tuples-or ndarrays with different lengths or shapes) is deprecated. If you meant to do this, you must specify 'dtype=object' when creating the ndarray.\n",
      "  values = np.array([convert(v) for v in values])\n",
      "  2%|█▊                                                                          | 123/5337 [18:46<32:54:10, 22.72s/it]C:\\Users\\duPar\\Anaconda3\\envs\\oasis\\lib\\site-packages\\pandas\\core\\internals\\construction.py:576: VisibleDeprecationWarning: Creating an ndarray from ragged nested sequences (which is a list-or-tuple of lists-or-tuples-or ndarrays with different lengths or shapes) is deprecated. If you meant to do this, you must specify 'dtype=object' when creating the ndarray.\n",
      "  values = np.array([convert(v) for v in values])\n",
      "  2%|█▊                                                                          | 124/5337 [19:10<33:24:38, 23.07s/it]C:\\Users\\duPar\\Anaconda3\\envs\\oasis\\lib\\site-packages\\pandas\\core\\internals\\construction.py:576: VisibleDeprecationWarning: Creating an ndarray from ragged nested sequences (which is a list-or-tuple of lists-or-tuples-or ndarrays with different lengths or shapes) is deprecated. If you meant to do this, you must specify 'dtype=object' when creating the ndarray.\n",
      "  values = np.array([convert(v) for v in values])\n"
     ]
    },
    {
     "name": "stdout",
     "output_type": "stream",
     "text": [
      "67\n"
     ]
    },
    {
     "name": "stderr",
     "output_type": "stream",
     "text": [
      "  2%|█▊                                                                          | 125/5337 [19:35<34:19:59, 23.71s/it]C:\\Users\\duPar\\Anaconda3\\envs\\oasis\\lib\\site-packages\\pandas\\core\\internals\\construction.py:576: VisibleDeprecationWarning: Creating an ndarray from ragged nested sequences (which is a list-or-tuple of lists-or-tuples-or ndarrays with different lengths or shapes) is deprecated. If you meant to do this, you must specify 'dtype=object' when creating the ndarray.\n",
      "  values = np.array([convert(v) for v in values])\n",
      "  2%|█▊                                                                          | 126/5337 [20:00<34:54:54, 24.12s/it]C:\\Users\\duPar\\Anaconda3\\envs\\oasis\\lib\\site-packages\\pandas\\core\\internals\\construction.py:576: VisibleDeprecationWarning: Creating an ndarray from ragged nested sequences (which is a list-or-tuple of lists-or-tuples-or ndarrays with different lengths or shapes) is deprecated. If you meant to do this, you must specify 'dtype=object' when creating the ndarray.\n",
      "  values = np.array([convert(v) for v in values])\n",
      "  2%|█▊                                                                          | 127/5337 [20:25<35:17:42, 24.39s/it]C:\\Users\\duPar\\Anaconda3\\envs\\oasis\\lib\\site-packages\\pandas\\core\\internals\\construction.py:576: VisibleDeprecationWarning: Creating an ndarray from ragged nested sequences (which is a list-or-tuple of lists-or-tuples-or ndarrays with different lengths or shapes) is deprecated. If you meant to do this, you must specify 'dtype=object' when creating the ndarray.\n",
      "  values = np.array([convert(v) for v in values])\n"
     ]
    },
    {
     "name": "stdout",
     "output_type": "stream",
     "text": [
      "446\n",
      "465\n"
     ]
    },
    {
     "name": "stderr",
     "output_type": "stream",
     "text": [
      "  2%|█▊                                                                          | 129/5337 [20:52<25:23:01, 17.55s/it]C:\\Users\\duPar\\Anaconda3\\envs\\oasis\\lib\\site-packages\\pandas\\core\\internals\\construction.py:576: VisibleDeprecationWarning: Creating an ndarray from ragged nested sequences (which is a list-or-tuple of lists-or-tuples-or ndarrays with different lengths or shapes) is deprecated. If you meant to do this, you must specify 'dtype=object' when creating the ndarray.\n",
      "  values = np.array([convert(v) for v in values])\n",
      "  2%|█▊                                                                          | 130/5337 [21:18<29:01:55, 20.07s/it]C:\\Users\\duPar\\Anaconda3\\envs\\oasis\\lib\\site-packages\\pandas\\core\\internals\\construction.py:576: VisibleDeprecationWarning: Creating an ndarray from ragged nested sequences (which is a list-or-tuple of lists-or-tuples-or ndarrays with different lengths or shapes) is deprecated. If you meant to do this, you must specify 'dtype=object' when creating the ndarray.\n",
      "  values = np.array([convert(v) for v in values])\n"
     ]
    },
    {
     "name": "stdout",
     "output_type": "stream",
     "text": [
      "4\n",
      "46\n",
      "191\n"
     ]
    },
    {
     "name": "stderr",
     "output_type": "stream",
     "text": [
      "  2%|█▊                                                                          | 131/5337 [21:44<31:50:51, 22.02s/it]C:\\Users\\duPar\\Anaconda3\\envs\\oasis\\lib\\site-packages\\pandas\\core\\internals\\construction.py:576: VisibleDeprecationWarning: Creating an ndarray from ragged nested sequences (which is a list-or-tuple of lists-or-tuples-or ndarrays with different lengths or shapes) is deprecated. If you meant to do this, you must specify 'dtype=object' when creating the ndarray.\n",
      "  values = np.array([convert(v) for v in values])\n",
      "  2%|█▉                                                                          | 132/5337 [22:12<34:16:36, 23.71s/it]C:\\Users\\duPar\\Anaconda3\\envs\\oasis\\lib\\site-packages\\pandas\\core\\internals\\construction.py:576: VisibleDeprecationWarning: Creating an ndarray from ragged nested sequences (which is a list-or-tuple of lists-or-tuples-or ndarrays with different lengths or shapes) is deprecated. If you meant to do this, you must specify 'dtype=object' when creating the ndarray.\n",
      "  values = np.array([convert(v) for v in values])\n"
     ]
    },
    {
     "name": "stdout",
     "output_type": "stream",
     "text": [
      "345\n",
      "353\n"
     ]
    },
    {
     "name": "stderr",
     "output_type": "stream",
     "text": [
      "  2%|█▉                                                                          | 133/5337 [22:39<35:37:50, 24.65s/it]C:\\Users\\duPar\\Anaconda3\\envs\\oasis\\lib\\site-packages\\pandas\\core\\internals\\construction.py:576: VisibleDeprecationWarning: Creating an ndarray from ragged nested sequences (which is a list-or-tuple of lists-or-tuples-or ndarrays with different lengths or shapes) is deprecated. If you meant to do this, you must specify 'dtype=object' when creating the ndarray.\n",
      "  values = np.array([convert(v) for v in values])\n"
     ]
    },
    {
     "name": "stdout",
     "output_type": "stream",
     "text": [
      "2\n",
      "18\n"
     ]
    },
    {
     "name": "stderr",
     "output_type": "stream",
     "text": [
      "  3%|█▉                                                                          | 134/5337 [23:07<37:01:25, 25.62s/it]C:\\Users\\duPar\\Anaconda3\\envs\\oasis\\lib\\site-packages\\pandas\\core\\internals\\construction.py:576: VisibleDeprecationWarning: Creating an ndarray from ragged nested sequences (which is a list-or-tuple of lists-or-tuples-or ndarrays with different lengths or shapes) is deprecated. If you meant to do this, you must specify 'dtype=object' when creating the ndarray.\n",
      "  values = np.array([convert(v) for v in values])\n"
     ]
    },
    {
     "name": "stdout",
     "output_type": "stream",
     "text": [
      "172\n"
     ]
    },
    {
     "name": "stderr",
     "output_type": "stream",
     "text": [
      "  3%|█▉                                                                          | 135/5337 [23:34<37:52:49, 26.21s/it]C:\\Users\\duPar\\Anaconda3\\envs\\oasis\\lib\\site-packages\\pandas\\core\\internals\\construction.py:576: VisibleDeprecationWarning: Creating an ndarray from ragged nested sequences (which is a list-or-tuple of lists-or-tuples-or ndarrays with different lengths or shapes) is deprecated. If you meant to do this, you must specify 'dtype=object' when creating the ndarray.\n",
      "  values = np.array([convert(v) for v in values])\n"
     ]
    },
    {
     "name": "stdout",
     "output_type": "stream",
     "text": [
      "474\n",
      "487\n"
     ]
    },
    {
     "name": "stderr",
     "output_type": "stream",
     "text": [
      "  3%|█▉                                                                          | 136/5337 [24:04<39:11:06, 27.12s/it]C:\\Users\\duPar\\Anaconda3\\envs\\oasis\\lib\\site-packages\\pandas\\core\\internals\\construction.py:576: VisibleDeprecationWarning: Creating an ndarray from ragged nested sequences (which is a list-or-tuple of lists-or-tuples-or ndarrays with different lengths or shapes) is deprecated. If you meant to do this, you must specify 'dtype=object' when creating the ndarray.\n",
      "  values = np.array([convert(v) for v in values])\n"
     ]
    },
    {
     "name": "stdout",
     "output_type": "stream",
     "text": [
      "6\n",
      "7\n"
     ]
    },
    {
     "name": "stderr",
     "output_type": "stream",
     "text": [
      "  3%|█▉                                                                          | 137/5337 [24:32<39:47:09, 27.54s/it]"
     ]
    },
    {
     "name": "stdout",
     "output_type": "stream",
     "text": [
      "499\n"
     ]
    },
    {
     "name": "stderr",
     "output_type": "stream",
     "text": [
      "C:\\Users\\duPar\\Anaconda3\\envs\\oasis\\lib\\site-packages\\pandas\\core\\internals\\construction.py:576: VisibleDeprecationWarning: Creating an ndarray from ragged nested sequences (which is a list-or-tuple of lists-or-tuples-or ndarrays with different lengths or shapes) is deprecated. If you meant to do this, you must specify 'dtype=object' when creating the ndarray.\n",
      "  values = np.array([convert(v) for v in values])\n",
      "  3%|█▉                                                                          | 139/5337 [25:02<28:41:12, 19.87s/it]C:\\Users\\duPar\\Anaconda3\\envs\\oasis\\lib\\site-packages\\pandas\\core\\internals\\construction.py:576: VisibleDeprecationWarning: Creating an ndarray from ragged nested sequences (which is a list-or-tuple of lists-or-tuples-or ndarrays with different lengths or shapes) is deprecated. If you meant to do this, you must specify 'dtype=object' when creating the ndarray.\n",
      "  values = np.array([convert(v) for v in values])\n",
      "  3%|█▉                                                                          | 140/5337 [25:31<32:37:01, 22.59s/it]C:\\Users\\duPar\\Anaconda3\\envs\\oasis\\lib\\site-packages\\pandas\\core\\internals\\construction.py:576: VisibleDeprecationWarning: Creating an ndarray from ragged nested sequences (which is a list-or-tuple of lists-or-tuples-or ndarrays with different lengths or shapes) is deprecated. If you meant to do this, you must specify 'dtype=object' when creating the ndarray.\n",
      "  values = np.array([convert(v) for v in values])\n",
      "  3%|██                                                                          | 141/5337 [26:00<35:25:02, 24.54s/it]C:\\Users\\duPar\\Anaconda3\\envs\\oasis\\lib\\site-packages\\pandas\\core\\internals\\construction.py:576: VisibleDeprecationWarning: Creating an ndarray from ragged nested sequences (which is a list-or-tuple of lists-or-tuples-or ndarrays with different lengths or shapes) is deprecated. If you meant to do this, you must specify 'dtype=object' when creating the ndarray.\n",
      "  values = np.array([convert(v) for v in values])\n"
     ]
    },
    {
     "name": "stdout",
     "output_type": "stream",
     "text": [
      "6\n",
      "21\n",
      "56\n",
      "85\n",
      "89\n",
      "413\n"
     ]
    },
    {
     "name": "stderr",
     "output_type": "stream",
     "text": [
      "  3%|██                                                                          | 142/5337 [26:30<37:36:23, 26.06s/it]"
     ]
    },
    {
     "name": "stdout",
     "output_type": "stream",
     "text": [
      "500\n"
     ]
    },
    {
     "name": "stderr",
     "output_type": "stream",
     "text": [
      "C:\\Users\\duPar\\Anaconda3\\envs\\oasis\\lib\\site-packages\\pandas\\core\\internals\\construction.py:576: VisibleDeprecationWarning: Creating an ndarray from ragged nested sequences (which is a list-or-tuple of lists-or-tuples-or ndarrays with different lengths or shapes) is deprecated. If you meant to do this, you must specify 'dtype=object' when creating the ndarray.\n",
      "  values = np.array([convert(v) for v in values])\n"
     ]
    },
    {
     "name": "stdout",
     "output_type": "stream",
     "text": [
      "474\n"
     ]
    },
    {
     "name": "stderr",
     "output_type": "stream",
     "text": [
      "  3%|██                                                                          | 143/5337 [27:00<39:13:07, 27.18s/it]C:\\Users\\duPar\\Anaconda3\\envs\\oasis\\lib\\site-packages\\pandas\\core\\internals\\construction.py:576: VisibleDeprecationWarning: Creating an ndarray from ragged nested sequences (which is a list-or-tuple of lists-or-tuples-or ndarrays with different lengths or shapes) is deprecated. If you meant to do this, you must specify 'dtype=object' when creating the ndarray.\n",
      "  values = np.array([convert(v) for v in values])\n"
     ]
    },
    {
     "name": "stdout",
     "output_type": "stream",
     "text": [
      "238\n",
      "311\n",
      "320\n"
     ]
    },
    {
     "name": "stderr",
     "output_type": "stream",
     "text": [
      "  3%|██                                                                          | 144/5337 [27:30<40:44:51, 28.25s/it]C:\\Users\\duPar\\Anaconda3\\envs\\oasis\\lib\\site-packages\\pandas\\core\\internals\\construction.py:576: VisibleDeprecationWarning: Creating an ndarray from ragged nested sequences (which is a list-or-tuple of lists-or-tuples-or ndarrays with different lengths or shapes) is deprecated. If you meant to do this, you must specify 'dtype=object' when creating the ndarray.\n",
      "  values = np.array([convert(v) for v in values])\n"
     ]
    },
    {
     "name": "stdout",
     "output_type": "stream",
     "text": [
      "62\n",
      "294\n"
     ]
    },
    {
     "name": "stderr",
     "output_type": "stream",
     "text": [
      "  3%|██                                                                          | 146/5337 [28:01<29:27:40, 20.43s/it]C:\\Users\\duPar\\Anaconda3\\envs\\oasis\\lib\\site-packages\\pandas\\core\\internals\\construction.py:576: VisibleDeprecationWarning: Creating an ndarray from ragged nested sequences (which is a list-or-tuple of lists-or-tuples-or ndarrays with different lengths or shapes) is deprecated. If you meant to do this, you must specify 'dtype=object' when creating the ndarray.\n",
      "  values = np.array([convert(v) for v in values])\n"
     ]
    },
    {
     "name": "stdout",
     "output_type": "stream",
     "text": [
      "96\n",
      "279\n"
     ]
    },
    {
     "name": "stderr",
     "output_type": "stream",
     "text": [
      "  3%|██                                                                          | 147/5337 [28:32<33:41:52, 23.37s/it]C:\\Users\\duPar\\Anaconda3\\envs\\oasis\\lib\\site-packages\\pandas\\core\\internals\\construction.py:576: VisibleDeprecationWarning: Creating an ndarray from ragged nested sequences (which is a list-or-tuple of lists-or-tuples-or ndarrays with different lengths or shapes) is deprecated. If you meant to do this, you must specify 'dtype=object' when creating the ndarray.\n",
      "  values = np.array([convert(v) for v in values])\n",
      "  3%|██                                                                          | 148/5337 [29:03<37:11:05, 25.80s/it]C:\\Users\\duPar\\Anaconda3\\envs\\oasis\\lib\\site-packages\\pandas\\core\\internals\\construction.py:576: VisibleDeprecationWarning: Creating an ndarray from ragged nested sequences (which is a list-or-tuple of lists-or-tuples-or ndarrays with different lengths or shapes) is deprecated. If you meant to do this, you must specify 'dtype=object' when creating the ndarray.\n",
      "  values = np.array([convert(v) for v in values])\n"
     ]
    },
    {
     "name": "stdout",
     "output_type": "stream",
     "text": [
      "483\n"
     ]
    },
    {
     "name": "stderr",
     "output_type": "stream",
     "text": [
      "  3%|██                                                                          | 149/5337 [29:35<39:45:13, 27.59s/it]C:\\Users\\duPar\\Anaconda3\\envs\\oasis\\lib\\site-packages\\pandas\\core\\internals\\construction.py:576: VisibleDeprecationWarning: Creating an ndarray from ragged nested sequences (which is a list-or-tuple of lists-or-tuples-or ndarrays with different lengths or shapes) is deprecated. If you meant to do this, you must specify 'dtype=object' when creating the ndarray.\n",
      "  values = np.array([convert(v) for v in values])\n",
      "  3%|██▏                                                                         | 150/5337 [30:08<42:17:37, 29.35s/it]C:\\Users\\duPar\\Anaconda3\\envs\\oasis\\lib\\site-packages\\pandas\\core\\internals\\construction.py:576: VisibleDeprecationWarning: Creating an ndarray from ragged nested sequences (which is a list-or-tuple of lists-or-tuples-or ndarrays with different lengths or shapes) is deprecated. If you meant to do this, you must specify 'dtype=object' when creating the ndarray.\n",
      "  values = np.array([convert(v) for v in values])\n"
     ]
    },
    {
     "name": "stdout",
     "output_type": "stream",
     "text": [
      "353\n",
      "487\n"
     ]
    },
    {
     "name": "stderr",
     "output_type": "stream",
     "text": [
      "  3%|██▏                                                                         | 152/5337 [30:41<30:40:52, 21.30s/it]C:\\Users\\duPar\\Anaconda3\\envs\\oasis\\lib\\site-packages\\pandas\\core\\internals\\construction.py:576: VisibleDeprecationWarning: Creating an ndarray from ragged nested sequences (which is a list-or-tuple of lists-or-tuples-or ndarrays with different lengths or shapes) is deprecated. If you meant to do this, you must specify 'dtype=object' when creating the ndarray.\n",
      "  values = np.array([convert(v) for v in values])\n",
      "  3%|██▏                                                                         | 153/5337 [31:14<35:36:41, 24.73s/it]C:\\Users\\duPar\\Anaconda3\\envs\\oasis\\lib\\site-packages\\pandas\\core\\internals\\construction.py:576: VisibleDeprecationWarning: Creating an ndarray from ragged nested sequences (which is a list-or-tuple of lists-or-tuples-or ndarrays with different lengths or shapes) is deprecated. If you meant to do this, you must specify 'dtype=object' when creating the ndarray.\n",
      "  values = np.array([convert(v) for v in values])\n"
     ]
    },
    {
     "name": "stdout",
     "output_type": "stream",
     "text": [
      "113\n",
      "116\n",
      "145\n",
      "469\n"
     ]
    },
    {
     "name": "stderr",
     "output_type": "stream",
     "text": [
      "  3%|██▏                                                                         | 154/5337 [31:46<38:42:03, 26.88s/it]C:\\Users\\duPar\\Anaconda3\\envs\\oasis\\lib\\site-packages\\pandas\\core\\internals\\construction.py:576: VisibleDeprecationWarning: Creating an ndarray from ragged nested sequences (which is a list-or-tuple of lists-or-tuples-or ndarrays with different lengths or shapes) is deprecated. If you meant to do this, you must specify 'dtype=object' when creating the ndarray.\n",
      "  values = np.array([convert(v) for v in values])\n"
     ]
    },
    {
     "name": "stdout",
     "output_type": "stream",
     "text": [
      "51\n",
      "291\n",
      "305\n",
      "315\n"
     ]
    },
    {
     "name": "stderr",
     "output_type": "stream",
     "text": [
      "  3%|██▏                                                                         | 155/5337 [32:19<41:24:31, 28.77s/it]C:\\Users\\duPar\\Anaconda3\\envs\\oasis\\lib\\site-packages\\pandas\\core\\internals\\construction.py:576: VisibleDeprecationWarning: Creating an ndarray from ragged nested sequences (which is a list-or-tuple of lists-or-tuples-or ndarrays with different lengths or shapes) is deprecated. If you meant to do this, you must specify 'dtype=object' when creating the ndarray.\n",
      "  values = np.array([convert(v) for v in values])\n"
     ]
    },
    {
     "name": "stdout",
     "output_type": "stream",
     "text": [
      "249\n",
      "319\n",
      "351\n"
     ]
    },
    {
     "name": "stderr",
     "output_type": "stream",
     "text": [
      "  3%|██▏                                                                         | 156/5337 [32:52<43:27:08, 30.19s/it]C:\\Users\\duPar\\Anaconda3\\envs\\oasis\\lib\\site-packages\\pandas\\core\\internals\\construction.py:576: VisibleDeprecationWarning: Creating an ndarray from ragged nested sequences (which is a list-or-tuple of lists-or-tuples-or ndarrays with different lengths or shapes) is deprecated. If you meant to do this, you must specify 'dtype=object' when creating the ndarray.\n",
      "  values = np.array([convert(v) for v in values])\n"
     ]
    },
    {
     "name": "stdout",
     "output_type": "stream",
     "text": [
      "90\n",
      "91\n"
     ]
    },
    {
     "name": "stderr",
     "output_type": "stream",
     "text": [
      "  3%|██▏                                                                         | 157/5337 [33:25<44:22:55, 30.84s/it]C:\\Users\\duPar\\Anaconda3\\envs\\oasis\\lib\\site-packages\\pandas\\core\\internals\\construction.py:576: VisibleDeprecationWarning: Creating an ndarray from ragged nested sequences (which is a list-or-tuple of lists-or-tuples-or ndarrays with different lengths or shapes) is deprecated. If you meant to do this, you must specify 'dtype=object' when creating the ndarray.\n",
      "  values = np.array([convert(v) for v in values])\n",
      "  3%|██▏                                                                         | 158/5337 [33:58<45:28:56, 31.62s/it]C:\\Users\\duPar\\Anaconda3\\envs\\oasis\\lib\\site-packages\\pandas\\core\\internals\\construction.py:576: VisibleDeprecationWarning: Creating an ndarray from ragged nested sequences (which is a list-or-tuple of lists-or-tuples-or ndarrays with different lengths or shapes) is deprecated. If you meant to do this, you must specify 'dtype=object' when creating the ndarray.\n",
      "  values = np.array([convert(v) for v in values])\n",
      "  3%|██▎                                                                         | 159/5337 [34:31<46:10:56, 32.11s/it]C:\\Users\\duPar\\Anaconda3\\envs\\oasis\\lib\\site-packages\\pandas\\core\\internals\\construction.py:576: VisibleDeprecationWarning: Creating an ndarray from ragged nested sequences (which is a list-or-tuple of lists-or-tuples-or ndarrays with different lengths or shapes) is deprecated. If you meant to do this, you must specify 'dtype=object' when creating the ndarray.\n",
      "  values = np.array([convert(v) for v in values])\n"
     ]
    },
    {
     "name": "stdout",
     "output_type": "stream",
     "text": [
      "292\n"
     ]
    },
    {
     "name": "stderr",
     "output_type": "stream",
     "text": [
      "  3%|██▎                                                                         | 160/5337 [35:05<46:53:58, 32.61s/it]C:\\Users\\duPar\\Anaconda3\\envs\\oasis\\lib\\site-packages\\pandas\\core\\internals\\construction.py:576: VisibleDeprecationWarning: Creating an ndarray from ragged nested sequences (which is a list-or-tuple of lists-or-tuples-or ndarrays with different lengths or shapes) is deprecated. If you meant to do this, you must specify 'dtype=object' when creating the ndarray.\n",
      "  values = np.array([convert(v) for v in values])\n"
     ]
    },
    {
     "name": "stdout",
     "output_type": "stream",
     "text": [
      "172\n"
     ]
    },
    {
     "name": "stderr",
     "output_type": "stream",
     "text": [
      "  3%|██▎                                                                         | 161/5337 [35:40<48:01:50, 33.41s/it]C:\\Users\\duPar\\Anaconda3\\envs\\oasis\\lib\\site-packages\\pandas\\core\\internals\\construction.py:576: VisibleDeprecationWarning: Creating an ndarray from ragged nested sequences (which is a list-or-tuple of lists-or-tuples-or ndarrays with different lengths or shapes) is deprecated. If you meant to do this, you must specify 'dtype=object' when creating the ndarray.\n",
      "  values = np.array([convert(v) for v in values])\n"
     ]
    },
    {
     "name": "stdout",
     "output_type": "stream",
     "text": [
      "25\n",
      "465\n",
      "476\n"
     ]
    },
    {
     "name": "stderr",
     "output_type": "stream",
     "text": [
      "  3%|██▎                                                                         | 162/5337 [36:15<48:32:38, 33.77s/it]C:\\Users\\duPar\\Anaconda3\\envs\\oasis\\lib\\site-packages\\pandas\\core\\internals\\construction.py:576: VisibleDeprecationWarning: Creating an ndarray from ragged nested sequences (which is a list-or-tuple of lists-or-tuples-or ndarrays with different lengths or shapes) is deprecated. If you meant to do this, you must specify 'dtype=object' when creating the ndarray.\n",
      "  values = np.array([convert(v) for v in values])\n"
     ]
    },
    {
     "name": "stdout",
     "output_type": "stream",
     "text": [
      "57\n"
     ]
    },
    {
     "name": "stderr",
     "output_type": "stream",
     "text": [
      "  3%|██▎                                                                         | 164/5337 [36:51<34:43:03, 24.16s/it]C:\\Users\\duPar\\Anaconda3\\envs\\oasis\\lib\\site-packages\\pandas\\core\\internals\\construction.py:576: VisibleDeprecationWarning: Creating an ndarray from ragged nested sequences (which is a list-or-tuple of lists-or-tuples-or ndarrays with different lengths or shapes) is deprecated. If you meant to do this, you must specify 'dtype=object' when creating the ndarray.\n",
      "  values = np.array([convert(v) for v in values])\n"
     ]
    },
    {
     "name": "stdout",
     "output_type": "stream",
     "text": [
      "58\n",
      "220\n",
      "237\n"
     ]
    },
    {
     "name": "stderr",
     "output_type": "stream",
     "text": [
      "  3%|██▎                                                                         | 165/5337 [37:27<39:53:56, 27.77s/it]C:\\Users\\duPar\\Anaconda3\\envs\\oasis\\lib\\site-packages\\pandas\\core\\internals\\construction.py:576: VisibleDeprecationWarning: Creating an ndarray from ragged nested sequences (which is a list-or-tuple of lists-or-tuples-or ndarrays with different lengths or shapes) is deprecated. If you meant to do this, you must specify 'dtype=object' when creating the ndarray.\n",
      "  values = np.array([convert(v) for v in values])\n"
     ]
    },
    {
     "name": "stdout",
     "output_type": "stream",
     "text": [
      "2\n"
     ]
    },
    {
     "name": "stderr",
     "output_type": "stream",
     "text": [
      "  3%|██▎                                                                         | 166/5337 [38:04<43:41:44, 30.42s/it]C:\\Users\\duPar\\Anaconda3\\envs\\oasis\\lib\\site-packages\\pandas\\core\\internals\\construction.py:576: VisibleDeprecationWarning: Creating an ndarray from ragged nested sequences (which is a list-or-tuple of lists-or-tuples-or ndarrays with different lengths or shapes) is deprecated. If you meant to do this, you must specify 'dtype=object' when creating the ndarray.\n",
      "  values = np.array([convert(v) for v in values])\n",
      "  3%|██▍                                                                         | 167/5337 [38:41<46:21:56, 32.29s/it]C:\\Users\\duPar\\Anaconda3\\envs\\oasis\\lib\\site-packages\\pandas\\core\\internals\\construction.py:576: VisibleDeprecationWarning: Creating an ndarray from ragged nested sequences (which is a list-or-tuple of lists-or-tuples-or ndarrays with different lengths or shapes) is deprecated. If you meant to do this, you must specify 'dtype=object' when creating the ndarray.\n",
      "  values = np.array([convert(v) for v in values])\n"
     ]
    },
    {
     "name": "stdout",
     "output_type": "stream",
     "text": [
      "43\n",
      "111\n",
      "333\n",
      "454\n"
     ]
    },
    {
     "name": "stderr",
     "output_type": "stream",
     "text": [
      "  3%|██▍                                                                         | 168/5337 [39:17<48:04:56, 33.49s/it]C:\\Users\\duPar\\Anaconda3\\envs\\oasis\\lib\\site-packages\\pandas\\core\\internals\\construction.py:576: VisibleDeprecationWarning: Creating an ndarray from ragged nested sequences (which is a list-or-tuple of lists-or-tuples-or ndarrays with different lengths or shapes) is deprecated. If you meant to do this, you must specify 'dtype=object' when creating the ndarray.\n",
      "  values = np.array([convert(v) for v in values])\n"
     ]
    },
    {
     "name": "stdout",
     "output_type": "stream",
     "text": [
      "15\n",
      "305\n",
      "464\n"
     ]
    },
    {
     "name": "stderr",
     "output_type": "stream",
     "text": [
      "  3%|██▍                                                                         | 169/5337 [39:55<49:54:36, 34.77s/it]C:\\Users\\duPar\\Anaconda3\\envs\\oasis\\lib\\site-packages\\pandas\\core\\internals\\construction.py:576: VisibleDeprecationWarning: Creating an ndarray from ragged nested sequences (which is a list-or-tuple of lists-or-tuples-or ndarrays with different lengths or shapes) is deprecated. If you meant to do this, you must specify 'dtype=object' when creating the ndarray.\n",
      "  values = np.array([convert(v) for v in values])\n"
     ]
    },
    {
     "name": "stdout",
     "output_type": "stream",
     "text": [
      "210\n",
      "253\n",
      "258\n",
      "263\n"
     ]
    },
    {
     "name": "stderr",
     "output_type": "stream",
     "text": [
      "  3%|██▍                                                                         | 170/5337 [40:32<50:51:38, 35.44s/it]C:\\Users\\duPar\\Anaconda3\\envs\\oasis\\lib\\site-packages\\pandas\\core\\internals\\construction.py:576: VisibleDeprecationWarning: Creating an ndarray from ragged nested sequences (which is a list-or-tuple of lists-or-tuples-or ndarrays with different lengths or shapes) is deprecated. If you meant to do this, you must specify 'dtype=object' when creating the ndarray.\n",
      "  values = np.array([convert(v) for v in values])\n"
     ]
    },
    {
     "name": "stdout",
     "output_type": "stream",
     "text": [
      "480\n"
     ]
    },
    {
     "name": "stderr",
     "output_type": "stream",
     "text": [
      "  3%|██▍                                                                         | 171/5337 [41:15<54:18:07, 37.84s/it]C:\\Users\\duPar\\Anaconda3\\envs\\oasis\\lib\\site-packages\\pandas\\core\\internals\\construction.py:576: VisibleDeprecationWarning: Creating an ndarray from ragged nested sequences (which is a list-or-tuple of lists-or-tuples-or ndarrays with different lengths or shapes) is deprecated. If you meant to do this, you must specify 'dtype=object' when creating the ndarray.\n",
      "  values = np.array([convert(v) for v in values])\n"
     ]
    },
    {
     "name": "stdout",
     "output_type": "stream",
     "text": [
      "70\n",
      "297\n"
     ]
    },
    {
     "name": "stderr",
     "output_type": "stream",
     "text": [
      "  3%|██▍                                                                         | 173/5337 [41:58<40:14:43, 28.06s/it]C:\\Users\\duPar\\Anaconda3\\envs\\oasis\\lib\\site-packages\\pandas\\core\\internals\\construction.py:576: VisibleDeprecationWarning: Creating an ndarray from ragged nested sequences (which is a list-or-tuple of lists-or-tuples-or ndarrays with different lengths or shapes) is deprecated. If you meant to do this, you must specify 'dtype=object' when creating the ndarray.\n",
      "  values = np.array([convert(v) for v in values])\n"
     ]
    },
    {
     "name": "stdout",
     "output_type": "stream",
     "text": [
      "14\n",
      "15\n"
     ]
    },
    {
     "name": "stderr",
     "output_type": "stream",
     "text": [
      "  3%|██▍                                                                         | 174/5337 [42:37<44:53:41, 31.30s/it]C:\\Users\\duPar\\Anaconda3\\envs\\oasis\\lib\\site-packages\\pandas\\core\\internals\\construction.py:576: VisibleDeprecationWarning: Creating an ndarray from ragged nested sequences (which is a list-or-tuple of lists-or-tuples-or ndarrays with different lengths or shapes) is deprecated. If you meant to do this, you must specify 'dtype=object' when creating the ndarray.\n",
      "  values = np.array([convert(v) for v in values])\n"
     ]
    },
    {
     "name": "stdout",
     "output_type": "stream",
     "text": [
      "196\n"
     ]
    },
    {
     "name": "stderr",
     "output_type": "stream",
     "text": [
      "  3%|██▍                                                                         | 175/5337 [43:16<48:09:00, 33.58s/it]C:\\Users\\duPar\\Anaconda3\\envs\\oasis\\lib\\site-packages\\pandas\\core\\internals\\construction.py:576: VisibleDeprecationWarning: Creating an ndarray from ragged nested sequences (which is a list-or-tuple of lists-or-tuples-or ndarrays with different lengths or shapes) is deprecated. If you meant to do this, you must specify 'dtype=object' when creating the ndarray.\n",
      "  values = np.array([convert(v) for v in values])\n"
     ]
    },
    {
     "name": "stdout",
     "output_type": "stream",
     "text": [
      "43\n",
      "388\n"
     ]
    },
    {
     "name": "stderr",
     "output_type": "stream",
     "text": [
      "  3%|██▌                                                                         | 176/5337 [43:57<51:37:39, 36.01s/it]C:\\Users\\duPar\\Anaconda3\\envs\\oasis\\lib\\site-packages\\pandas\\core\\internals\\construction.py:576: VisibleDeprecationWarning: Creating an ndarray from ragged nested sequences (which is a list-or-tuple of lists-or-tuples-or ndarrays with different lengths or shapes) is deprecated. If you meant to do this, you must specify 'dtype=object' when creating the ndarray.\n",
      "  values = np.array([convert(v) for v in values])\n"
     ]
    },
    {
     "name": "stdout",
     "output_type": "stream",
     "text": [
      "56\n"
     ]
    },
    {
     "name": "stderr",
     "output_type": "stream",
     "text": [
      "  3%|██▌                                                                         | 177/5337 [44:53<59:50:34, 41.75s/it]C:\\Users\\duPar\\Anaconda3\\envs\\oasis\\lib\\site-packages\\pandas\\core\\internals\\construction.py:576: VisibleDeprecationWarning: Creating an ndarray from ragged nested sequences (which is a list-or-tuple of lists-or-tuples-or ndarrays with different lengths or shapes) is deprecated. If you meant to do this, you must specify 'dtype=object' when creating the ndarray.\n",
      "  values = np.array([convert(v) for v in values])\n"
     ]
    },
    {
     "name": "stdout",
     "output_type": "stream",
     "text": [
      "182\n"
     ]
    },
    {
     "name": "stderr",
     "output_type": "stream",
     "text": [
      "  3%|██▌                                                                         | 178/5337 [45:33<59:13:48, 41.33s/it]C:\\Users\\duPar\\Anaconda3\\envs\\oasis\\lib\\site-packages\\pandas\\core\\internals\\construction.py:576: VisibleDeprecationWarning: Creating an ndarray from ragged nested sequences (which is a list-or-tuple of lists-or-tuples-or ndarrays with different lengths or shapes) is deprecated. If you meant to do this, you must specify 'dtype=object' when creating the ndarray.\n",
      "  values = np.array([convert(v) for v in values])\n"
     ]
    },
    {
     "name": "stdout",
     "output_type": "stream",
     "text": [
      "18\n",
      "104\n",
      "117\n",
      "179\n",
      "188\n",
      "220\n"
     ]
    },
    {
     "name": "stderr",
     "output_type": "stream",
     "text": [
      "  3%|██▌                                                                         | 179/5337 [46:15<59:34:29, 41.58s/it]C:\\Users\\duPar\\Anaconda3\\envs\\oasis\\lib\\site-packages\\pandas\\core\\internals\\construction.py:576: VisibleDeprecationWarning: Creating an ndarray from ragged nested sequences (which is a list-or-tuple of lists-or-tuples-or ndarrays with different lengths or shapes) is deprecated. If you meant to do this, you must specify 'dtype=object' when creating the ndarray.\n",
      "  values = np.array([convert(v) for v in values])\n"
     ]
    },
    {
     "name": "stdout",
     "output_type": "stream",
     "text": [
      "62\n",
      "190\n"
     ]
    },
    {
     "name": "stderr",
     "output_type": "stream",
     "text": [
      "  3%|██▌                                                                         | 180/5337 [46:59<60:31:58, 42.26s/it]C:\\Users\\duPar\\Anaconda3\\envs\\oasis\\lib\\site-packages\\pandas\\core\\internals\\construction.py:576: VisibleDeprecationWarning: Creating an ndarray from ragged nested sequences (which is a list-or-tuple of lists-or-tuples-or ndarrays with different lengths or shapes) is deprecated. If you meant to do this, you must specify 'dtype=object' when creating the ndarray.\n",
      "  values = np.array([convert(v) for v in values])\n"
     ]
    },
    {
     "name": "stdout",
     "output_type": "stream",
     "text": [
      "190\n"
     ]
    },
    {
     "name": "stderr",
     "output_type": "stream",
     "text": [
      "  3%|██▌                                                                         | 181/5337 [47:45<62:09:07, 43.40s/it]C:\\Users\\duPar\\Anaconda3\\envs\\oasis\\lib\\site-packages\\pandas\\core\\internals\\construction.py:576: VisibleDeprecationWarning: Creating an ndarray from ragged nested sequences (which is a list-or-tuple of lists-or-tuples-or ndarrays with different lengths or shapes) is deprecated. If you meant to do this, you must specify 'dtype=object' when creating the ndarray.\n",
      "  values = np.array([convert(v) for v in values])\n",
      "  3%|██▌                                                                         | 182/5337 [48:28<61:56:19, 43.26s/it]C:\\Users\\duPar\\Anaconda3\\envs\\oasis\\lib\\site-packages\\pandas\\core\\internals\\construction.py:576: VisibleDeprecationWarning: Creating an ndarray from ragged nested sequences (which is a list-or-tuple of lists-or-tuples-or ndarrays with different lengths or shapes) is deprecated. If you meant to do this, you must specify 'dtype=object' when creating the ndarray.\n",
      "  values = np.array([convert(v) for v in values])\n"
     ]
    },
    {
     "name": "stdout",
     "output_type": "stream",
     "text": [
      "53\n",
      "88\n",
      "350\n"
     ]
    },
    {
     "name": "stderr",
     "output_type": "stream",
     "text": [
      "  3%|██▌                                                                         | 183/5337 [49:16<63:53:13, 44.62s/it]C:\\Users\\duPar\\Anaconda3\\envs\\oasis\\lib\\site-packages\\pandas\\core\\internals\\construction.py:576: VisibleDeprecationWarning: Creating an ndarray from ragged nested sequences (which is a list-or-tuple of lists-or-tuples-or ndarrays with different lengths or shapes) is deprecated. If you meant to do this, you must specify 'dtype=object' when creating the ndarray.\n",
      "  values = np.array([convert(v) for v in values])\n",
      "  3%|██▌                                                                         | 184/5337 [50:10<68:02:27, 47.53s/it]C:\\Users\\duPar\\Anaconda3\\envs\\oasis\\lib\\site-packages\\pandas\\core\\internals\\construction.py:576: VisibleDeprecationWarning: Creating an ndarray from ragged nested sequences (which is a list-or-tuple of lists-or-tuples-or ndarrays with different lengths or shapes) is deprecated. If you meant to do this, you must specify 'dtype=object' when creating the ndarray.\n",
      "  values = np.array([convert(v) for v in values])\n"
     ]
    },
    {
     "name": "stdout",
     "output_type": "stream",
     "text": [
      "91\n",
      "180\n",
      "201\n",
      "277\n",
      "286\n",
      "439\n"
     ]
    },
    {
     "name": "stderr",
     "output_type": "stream",
     "text": [
      "  3%|██▋                                                                         | 185/5337 [50:55<66:52:57, 46.73s/it]C:\\Users\\duPar\\Anaconda3\\envs\\oasis\\lib\\site-packages\\pandas\\core\\internals\\construction.py:576: VisibleDeprecationWarning: Creating an ndarray from ragged nested sequences (which is a list-or-tuple of lists-or-tuples-or ndarrays with different lengths or shapes) is deprecated. If you meant to do this, you must specify 'dtype=object' when creating the ndarray.\n",
      "  values = np.array([convert(v) for v in values])\n"
     ]
    },
    {
     "name": "stdout",
     "output_type": "stream",
     "text": [
      "26\n",
      "64\n"
     ]
    },
    {
     "name": "stderr",
     "output_type": "stream",
     "text": [
      "  4%|██▋                                                                         | 187/5337 [51:46<48:25:23, 33.85s/it]C:\\Users\\duPar\\Anaconda3\\envs\\oasis\\lib\\site-packages\\pandas\\core\\internals\\construction.py:576: VisibleDeprecationWarning: Creating an ndarray from ragged nested sequences (which is a list-or-tuple of lists-or-tuples-or ndarrays with different lengths or shapes) is deprecated. If you meant to do this, you must specify 'dtype=object' when creating the ndarray.\n",
      "  values = np.array([convert(v) for v in values])\n"
     ]
    },
    {
     "name": "stdout",
     "output_type": "stream",
     "text": [
      "2\n"
     ]
    },
    {
     "name": "stderr",
     "output_type": "stream",
     "text": [
      "  4%|██▋                                                                         | 188/5337 [52:37<55:54:27, 39.09s/it]C:\\Users\\duPar\\Anaconda3\\envs\\oasis\\lib\\site-packages\\pandas\\core\\internals\\construction.py:576: VisibleDeprecationWarning: Creating an ndarray from ragged nested sequences (which is a list-or-tuple of lists-or-tuples-or ndarrays with different lengths or shapes) is deprecated. If you meant to do this, you must specify 'dtype=object' when creating the ndarray.\n",
      "  values = np.array([convert(v) for v in values])\n"
     ]
    },
    {
     "name": "stdout",
     "output_type": "stream",
     "text": [
      "2\n",
      "42\n",
      "45\n"
     ]
    },
    {
     "name": "stderr",
     "output_type": "stream",
     "text": [
      "  4%|██▋                                                                         | 189/5337 [53:28<60:40:09, 42.43s/it]C:\\Users\\duPar\\Anaconda3\\envs\\oasis\\lib\\site-packages\\pandas\\core\\internals\\construction.py:576: VisibleDeprecationWarning: Creating an ndarray from ragged nested sequences (which is a list-or-tuple of lists-or-tuples-or ndarrays with different lengths or shapes) is deprecated. If you meant to do this, you must specify 'dtype=object' when creating the ndarray.\n",
      "  values = np.array([convert(v) for v in values])\n",
      "  4%|██▋                                                                         | 190/5337 [54:14<62:20:15, 43.60s/it]C:\\Users\\duPar\\Anaconda3\\envs\\oasis\\lib\\site-packages\\pandas\\core\\internals\\construction.py:576: VisibleDeprecationWarning: Creating an ndarray from ragged nested sequences (which is a list-or-tuple of lists-or-tuples-or ndarrays with different lengths or shapes) is deprecated. If you meant to do this, you must specify 'dtype=object' when creating the ndarray.\n",
      "  values = np.array([convert(v) for v in values])\n",
      "  4%|██▋                                                                         | 191/5337 [55:05<65:22:25, 45.73s/it]C:\\Users\\duPar\\Anaconda3\\envs\\oasis\\lib\\site-packages\\pandas\\core\\internals\\construction.py:576: VisibleDeprecationWarning: Creating an ndarray from ragged nested sequences (which is a list-or-tuple of lists-or-tuples-or ndarrays with different lengths or shapes) is deprecated. If you meant to do this, you must specify 'dtype=object' when creating the ndarray.\n",
      "  values = np.array([convert(v) for v in values])\n"
     ]
    },
    {
     "name": "stdout",
     "output_type": "stream",
     "text": [
      "391\n"
     ]
    },
    {
     "name": "stderr",
     "output_type": "stream",
     "text": [
      "  4%|██▋                                                                         | 192/5337 [55:57<68:05:34, 47.65s/it]C:\\Users\\duPar\\Anaconda3\\envs\\oasis\\lib\\site-packages\\pandas\\core\\internals\\construction.py:576: VisibleDeprecationWarning: Creating an ndarray from ragged nested sequences (which is a list-or-tuple of lists-or-tuples-or ndarrays with different lengths or shapes) is deprecated. If you meant to do this, you must specify 'dtype=object' when creating the ndarray.\n",
      "  values = np.array([convert(v) for v in values])\n",
      "  4%|██▋                                                                         | 193/5337 [56:49<70:01:33, 49.01s/it]C:\\Users\\duPar\\Anaconda3\\envs\\oasis\\lib\\site-packages\\pandas\\core\\internals\\construction.py:576: VisibleDeprecationWarning: Creating an ndarray from ragged nested sequences (which is a list-or-tuple of lists-or-tuples-or ndarrays with different lengths or shapes) is deprecated. If you meant to do this, you must specify 'dtype=object' when creating the ndarray.\n",
      "  values = np.array([convert(v) for v in values])\n",
      "  4%|██▊                                                                         | 194/5337 [57:41<71:25:37, 50.00s/it]C:\\Users\\duPar\\Anaconda3\\envs\\oasis\\lib\\site-packages\\pandas\\core\\internals\\construction.py:576: VisibleDeprecationWarning: Creating an ndarray from ragged nested sequences (which is a list-or-tuple of lists-or-tuples-or ndarrays with different lengths or shapes) is deprecated. If you meant to do this, you must specify 'dtype=object' when creating the ndarray.\n",
      "  values = np.array([convert(v) for v in values])\n"
     ]
    },
    {
     "name": "stdout",
     "output_type": "stream",
     "text": [
      "490\n",
      "491\n"
     ]
    },
    {
     "name": "stderr",
     "output_type": "stream",
     "text": [
      "  4%|██▊                                                                         | 195/5337 [58:35<73:10:21, 51.23s/it]C:\\Users\\duPar\\Anaconda3\\envs\\oasis\\lib\\site-packages\\pandas\\core\\internals\\construction.py:576: VisibleDeprecationWarning: Creating an ndarray from ragged nested sequences (which is a list-or-tuple of lists-or-tuples-or ndarrays with different lengths or shapes) is deprecated. If you meant to do this, you must specify 'dtype=object' when creating the ndarray.\n",
      "  values = np.array([convert(v) for v in values])\n"
     ]
    },
    {
     "name": "stdout",
     "output_type": "stream",
     "text": [
      "28\n"
     ]
    },
    {
     "name": "stderr",
     "output_type": "stream",
     "text": [
      "  4%|██▊                                                                         | 196/5337 [59:28<73:58:33, 51.80s/it]C:\\Users\\duPar\\Anaconda3\\envs\\oasis\\lib\\site-packages\\pandas\\core\\internals\\construction.py:576: VisibleDeprecationWarning: Creating an ndarray from ragged nested sequences (which is a list-or-tuple of lists-or-tuples-or ndarrays with different lengths or shapes) is deprecated. If you meant to do this, you must specify 'dtype=object' when creating the ndarray.\n",
      "  values = np.array([convert(v) for v in values])\n"
     ]
    },
    {
     "name": "stdout",
     "output_type": "stream",
     "text": [
      "272\n",
      "339\n"
     ]
    },
    {
     "name": "stderr",
     "output_type": "stream",
     "text": [
      "  4%|██▋                                                                       | 197/5337 [1:00:23<75:01:23, 52.55s/it]C:\\Users\\duPar\\Anaconda3\\envs\\oasis\\lib\\site-packages\\pandas\\core\\internals\\construction.py:576: VisibleDeprecationWarning: Creating an ndarray from ragged nested sequences (which is a list-or-tuple of lists-or-tuples-or ndarrays with different lengths or shapes) is deprecated. If you meant to do this, you must specify 'dtype=object' when creating the ndarray.\n",
      "  values = np.array([convert(v) for v in values])\n",
      "  4%|██▋                                                                       | 198/5337 [1:01:18<76:00:43, 53.25s/it]C:\\Users\\duPar\\Anaconda3\\envs\\oasis\\lib\\site-packages\\pandas\\core\\internals\\construction.py:576: VisibleDeprecationWarning: Creating an ndarray from ragged nested sequences (which is a list-or-tuple of lists-or-tuples-or ndarrays with different lengths or shapes) is deprecated. If you meant to do this, you must specify 'dtype=object' when creating the ndarray.\n",
      "  values = np.array([convert(v) for v in values])\n"
     ]
    },
    {
     "name": "stdout",
     "output_type": "stream",
     "text": [
      "488\n",
      "491\n",
      "493\n"
     ]
    },
    {
     "name": "stderr",
     "output_type": "stream",
     "text": [
      "  4%|██▊                                                                       | 199/5337 [1:02:12<76:20:09, 53.49s/it]C:\\Users\\duPar\\Anaconda3\\envs\\oasis\\lib\\site-packages\\pandas\\core\\internals\\construction.py:576: VisibleDeprecationWarning: Creating an ndarray from ragged nested sequences (which is a list-or-tuple of lists-or-tuples-or ndarrays with different lengths or shapes) is deprecated. If you meant to do this, you must specify 'dtype=object' when creating the ndarray.\n",
      "  values = np.array([convert(v) for v in values])\n",
      "  4%|██▊                                                                       | 200/5337 [1:03:07<77:10:32, 54.08s/it]C:\\Users\\duPar\\Anaconda3\\envs\\oasis\\lib\\site-packages\\pandas\\core\\internals\\construction.py:576: VisibleDeprecationWarning: Creating an ndarray from ragged nested sequences (which is a list-or-tuple of lists-or-tuples-or ndarrays with different lengths or shapes) is deprecated. If you meant to do this, you must specify 'dtype=object' when creating the ndarray.\n",
      "  values = np.array([convert(v) for v in values])\n"
     ]
    },
    {
     "name": "stdout",
     "output_type": "stream",
     "text": [
      "9\n",
      "240\n"
     ]
    },
    {
     "name": "stderr",
     "output_type": "stream",
     "text": [
      "  4%|██▊                                                                       | 201/5337 [1:04:03<77:50:51, 54.57s/it]"
     ]
    },
    {
     "name": "stdout",
     "output_type": "stream",
     "text": [
      "497\n",
      "500\n"
     ]
    },
    {
     "name": "stderr",
     "output_type": "stream",
     "text": [
      "C:\\Users\\duPar\\Anaconda3\\envs\\oasis\\lib\\site-packages\\pandas\\core\\internals\\construction.py:576: VisibleDeprecationWarning: Creating an ndarray from ragged nested sequences (which is a list-or-tuple of lists-or-tuples-or ndarrays with different lengths or shapes) is deprecated. If you meant to do this, you must specify 'dtype=object' when creating the ndarray.\n",
      "  values = np.array([convert(v) for v in values])\n",
      "  4%|██▊                                                                       | 202/5337 [1:05:14<84:49:25, 59.47s/it]C:\\Users\\duPar\\Anaconda3\\envs\\oasis\\lib\\site-packages\\pandas\\core\\internals\\construction.py:576: VisibleDeprecationWarning: Creating an ndarray from ragged nested sequences (which is a list-or-tuple of lists-or-tuples-or ndarrays with different lengths or shapes) is deprecated. If you meant to do this, you must specify 'dtype=object' when creating the ndarray.\n",
      "  values = np.array([convert(v) for v in values])\n"
     ]
    },
    {
     "name": "stdout",
     "output_type": "stream",
     "text": [
      "344\n"
     ]
    },
    {
     "name": "stderr",
     "output_type": "stream",
     "text": [
      "  4%|██▊                                                                       | 203/5337 [1:06:13<84:31:23, 59.27s/it]C:\\Users\\duPar\\Anaconda3\\envs\\oasis\\lib\\site-packages\\pandas\\core\\internals\\construction.py:576: VisibleDeprecationWarning: Creating an ndarray from ragged nested sequences (which is a list-or-tuple of lists-or-tuples-or ndarrays with different lengths or shapes) is deprecated. If you meant to do this, you must specify 'dtype=object' when creating the ndarray.\n",
      "  values = np.array([convert(v) for v in values])\n"
     ]
    },
    {
     "name": "stdout",
     "output_type": "stream",
     "text": [
      "35\n"
     ]
    },
    {
     "name": "stderr",
     "output_type": "stream",
     "text": [
      "  4%|██▊                                                                       | 204/5337 [1:07:10<83:51:15, 58.81s/it]C:\\Users\\duPar\\Anaconda3\\envs\\oasis\\lib\\site-packages\\pandas\\core\\internals\\construction.py:576: VisibleDeprecationWarning: Creating an ndarray from ragged nested sequences (which is a list-or-tuple of lists-or-tuples-or ndarrays with different lengths or shapes) is deprecated. If you meant to do this, you must specify 'dtype=object' when creating the ndarray.\n",
      "  values = np.array([convert(v) for v in values])\n"
     ]
    },
    {
     "name": "stdout",
     "output_type": "stream",
     "text": [
      "29\n",
      "238\n"
     ]
    },
    {
     "name": "stderr",
     "output_type": "stream",
     "text": [
      "  4%|██▊                                                                       | 205/5337 [1:08:04<81:48:55, 57.39s/it]C:\\Users\\duPar\\Anaconda3\\envs\\oasis\\lib\\site-packages\\pandas\\core\\internals\\construction.py:576: VisibleDeprecationWarning: Creating an ndarray from ragged nested sequences (which is a list-or-tuple of lists-or-tuples-or ndarrays with different lengths or shapes) is deprecated. If you meant to do this, you must specify 'dtype=object' when creating the ndarray.\n",
      "  values = np.array([convert(v) for v in values])\n",
      "  4%|██▊                                                                       | 206/5337 [1:09:03<82:21:13, 57.78s/it]C:\\Users\\duPar\\Anaconda3\\envs\\oasis\\lib\\site-packages\\pandas\\core\\internals\\construction.py:576: VisibleDeprecationWarning: Creating an ndarray from ragged nested sequences (which is a list-or-tuple of lists-or-tuples-or ndarrays with different lengths or shapes) is deprecated. If you meant to do this, you must specify 'dtype=object' when creating the ndarray.\n",
      "  values = np.array([convert(v) for v in values])\n"
     ]
    },
    {
     "name": "stdout",
     "output_type": "stream",
     "text": [
      "302\n",
      "303\n",
      "390\n"
     ]
    },
    {
     "name": "stderr",
     "output_type": "stream",
     "text": [
      "  4%|██▊                                                                       | 207/5337 [1:09:57<80:40:56, 56.62s/it]C:\\Users\\duPar\\Anaconda3\\envs\\oasis\\lib\\site-packages\\pandas\\core\\internals\\construction.py:576: VisibleDeprecationWarning: Creating an ndarray from ragged nested sequences (which is a list-or-tuple of lists-or-tuples-or ndarrays with different lengths or shapes) is deprecated. If you meant to do this, you must specify 'dtype=object' when creating the ndarray.\n",
      "  values = np.array([convert(v) for v in values])\n"
     ]
    },
    {
     "name": "stdout",
     "output_type": "stream",
     "text": [
      "220\n"
     ]
    },
    {
     "name": "stderr",
     "output_type": "stream",
     "text": [
      "  4%|██▉                                                                       | 208/5337 [1:10:55<81:19:22, 57.08s/it]C:\\Users\\duPar\\Anaconda3\\envs\\oasis\\lib\\site-packages\\pandas\\core\\internals\\construction.py:576: VisibleDeprecationWarning: Creating an ndarray from ragged nested sequences (which is a list-or-tuple of lists-or-tuples-or ndarrays with different lengths or shapes) is deprecated. If you meant to do this, you must specify 'dtype=object' when creating the ndarray.\n",
      "  values = np.array([convert(v) for v in values])\n"
     ]
    },
    {
     "name": "stdout",
     "output_type": "stream",
     "text": [
      "323\n",
      "390\n"
     ]
    },
    {
     "name": "stderr",
     "output_type": "stream",
     "text": [
      "  4%|██▉                                                                       | 210/5337 [1:11:55<57:47:42, 40.58s/it]C:\\Users\\duPar\\Anaconda3\\envs\\oasis\\lib\\site-packages\\pandas\\core\\internals\\construction.py:576: VisibleDeprecationWarning: Creating an ndarray from ragged nested sequences (which is a list-or-tuple of lists-or-tuples-or ndarrays with different lengths or shapes) is deprecated. If you meant to do this, you must specify 'dtype=object' when creating the ndarray.\n",
      "  values = np.array([convert(v) for v in values])\n",
      "  4%|██▉                                                                       | 211/5337 [1:12:55<65:55:44, 46.30s/it]C:\\Users\\duPar\\Anaconda3\\envs\\oasis\\lib\\site-packages\\pandas\\core\\internals\\construction.py:576: VisibleDeprecationWarning: Creating an ndarray from ragged nested sequences (which is a list-or-tuple of lists-or-tuples-or ndarrays with different lengths or shapes) is deprecated. If you meant to do this, you must specify 'dtype=object' when creating the ndarray.\n",
      "  values = np.array([convert(v) for v in values])\n"
     ]
    },
    {
     "name": "stdout",
     "output_type": "stream",
     "text": [
      "28\n",
      "89\n"
     ]
    },
    {
     "name": "stderr",
     "output_type": "stream",
     "text": [
      "  4%|██▉                                                                       | 213/5337 [1:13:55<50:21:54, 35.39s/it]C:\\Users\\duPar\\Anaconda3\\envs\\oasis\\lib\\site-packages\\pandas\\core\\internals\\construction.py:576: VisibleDeprecationWarning: Creating an ndarray from ragged nested sequences (which is a list-or-tuple of lists-or-tuples-or ndarrays with different lengths or shapes) is deprecated. If you meant to do this, you must specify 'dtype=object' when creating the ndarray.\n",
      "  values = np.array([convert(v) for v in values])\n"
     ]
    },
    {
     "name": "stdout",
     "output_type": "stream",
     "text": [
      "45\n"
     ]
    },
    {
     "name": "stderr",
     "output_type": "stream",
     "text": [
      "  4%|██▉                                                                       | 214/5337 [1:14:57<61:53:39, 43.49s/it]C:\\Users\\duPar\\Anaconda3\\envs\\oasis\\lib\\site-packages\\pandas\\core\\internals\\construction.py:576: VisibleDeprecationWarning: Creating an ndarray from ragged nested sequences (which is a list-or-tuple of lists-or-tuples-or ndarrays with different lengths or shapes) is deprecated. If you meant to do this, you must specify 'dtype=object' when creating the ndarray.\n",
      "  values = np.array([convert(v) for v in values])\n"
     ]
    },
    {
     "name": "stdout",
     "output_type": "stream",
     "text": [
      "405\n",
      "407\n",
      "458\n"
     ]
    },
    {
     "name": "stderr",
     "output_type": "stream",
     "text": [
      "  4%|██▉                                                                       | 215/5337 [1:15:58<69:02:44, 48.53s/it]C:\\Users\\duPar\\Anaconda3\\envs\\oasis\\lib\\site-packages\\pandas\\core\\internals\\construction.py:576: VisibleDeprecationWarning: Creating an ndarray from ragged nested sequences (which is a list-or-tuple of lists-or-tuples-or ndarrays with different lengths or shapes) is deprecated. If you meant to do this, you must specify 'dtype=object' when creating the ndarray.\n",
      "  values = np.array([convert(v) for v in values])\n",
      "  4%|██▉                                                                       | 216/5337 [1:17:00<74:55:20, 52.67s/it]C:\\Users\\duPar\\Anaconda3\\envs\\oasis\\lib\\site-packages\\pandas\\core\\internals\\construction.py:576: VisibleDeprecationWarning: Creating an ndarray from ragged nested sequences (which is a list-or-tuple of lists-or-tuples-or ndarrays with different lengths or shapes) is deprecated. If you meant to do this, you must specify 'dtype=object' when creating the ndarray.\n",
      "  values = np.array([convert(v) for v in values])\n",
      "  4%|███                                                                       | 217/5337 [1:18:03<79:14:49, 55.72s/it]C:\\Users\\duPar\\Anaconda3\\envs\\oasis\\lib\\site-packages\\pandas\\core\\internals\\construction.py:576: VisibleDeprecationWarning: Creating an ndarray from ragged nested sequences (which is a list-or-tuple of lists-or-tuples-or ndarrays with different lengths or shapes) is deprecated. If you meant to do this, you must specify 'dtype=object' when creating the ndarray.\n",
      "  values = np.array([convert(v) for v in values])\n",
      "  4%|███                                                                       | 219/5337 [1:19:05<57:32:33, 40.48s/it]C:\\Users\\duPar\\Anaconda3\\envs\\oasis\\lib\\site-packages\\pandas\\core\\internals\\construction.py:576: VisibleDeprecationWarning: Creating an ndarray from ragged nested sequences (which is a list-or-tuple of lists-or-tuples-or ndarrays with different lengths or shapes) is deprecated. If you meant to do this, you must specify 'dtype=object' when creating the ndarray.\n",
      "  values = np.array([convert(v) for v in values])\n",
      "  4%|███                                                                       | 220/5337 [1:20:08<67:04:34, 47.19s/it]C:\\Users\\duPar\\Anaconda3\\envs\\oasis\\lib\\site-packages\\pandas\\core\\internals\\construction.py:576: VisibleDeprecationWarning: Creating an ndarray from ragged nested sequences (which is a list-or-tuple of lists-or-tuples-or ndarrays with different lengths or shapes) is deprecated. If you meant to do this, you must specify 'dtype=object' when creating the ndarray.\n",
      "  values = np.array([convert(v) for v in values])\n"
     ]
    },
    {
     "name": "stdout",
     "output_type": "stream",
     "text": [
      "97\n",
      "204\n"
     ]
    },
    {
     "name": "stderr",
     "output_type": "stream",
     "text": [
      "  4%|███                                                                       | 221/5337 [1:21:11<73:34:35, 51.77s/it]C:\\Users\\duPar\\Anaconda3\\envs\\oasis\\lib\\site-packages\\pandas\\core\\internals\\construction.py:576: VisibleDeprecationWarning: Creating an ndarray from ragged nested sequences (which is a list-or-tuple of lists-or-tuples-or ndarrays with different lengths or shapes) is deprecated. If you meant to do this, you must specify 'dtype=object' when creating the ndarray.\n",
      "  values = np.array([convert(v) for v in values])\n"
     ]
    },
    {
     "name": "stdout",
     "output_type": "stream",
     "text": [
      "187\n",
      "481\n"
     ]
    },
    {
     "name": "stderr",
     "output_type": "stream",
     "text": [
      "  4%|███                                                                       | 222/5337 [1:22:15<78:49:35, 55.48s/it]C:\\Users\\duPar\\Anaconda3\\envs\\oasis\\lib\\site-packages\\pandas\\core\\internals\\construction.py:576: VisibleDeprecationWarning: Creating an ndarray from ragged nested sequences (which is a list-or-tuple of lists-or-tuples-or ndarrays with different lengths or shapes) is deprecated. If you meant to do this, you must specify 'dtype=object' when creating the ndarray.\n",
      "  values = np.array([convert(v) for v in values])\n",
      "  4%|███                                                                       | 223/5337 [1:23:18<82:10:48, 57.85s/it]C:\\Users\\duPar\\Anaconda3\\envs\\oasis\\lib\\site-packages\\pandas\\core\\internals\\construction.py:576: VisibleDeprecationWarning: Creating an ndarray from ragged nested sequences (which is a list-or-tuple of lists-or-tuples-or ndarrays with different lengths or shapes) is deprecated. If you meant to do this, you must specify 'dtype=object' when creating the ndarray.\n",
      "  values = np.array([convert(v) for v in values])\n",
      "  4%|███                                                                       | 224/5337 [1:24:24<85:40:31, 60.32s/it]C:\\Users\\duPar\\Anaconda3\\envs\\oasis\\lib\\site-packages\\pandas\\core\\internals\\construction.py:576: VisibleDeprecationWarning: Creating an ndarray from ragged nested sequences (which is a list-or-tuple of lists-or-tuples-or ndarrays with different lengths or shapes) is deprecated. If you meant to do this, you must specify 'dtype=object' when creating the ndarray.\n",
      "  values = np.array([convert(v) for v in values])\n",
      "  4%|███                                                                       | 225/5337 [1:25:32<88:41:37, 62.46s/it]C:\\Users\\duPar\\Anaconda3\\envs\\oasis\\lib\\site-packages\\pandas\\core\\internals\\construction.py:576: VisibleDeprecationWarning: Creating an ndarray from ragged nested sequences (which is a list-or-tuple of lists-or-tuples-or ndarrays with different lengths or shapes) is deprecated. If you meant to do this, you must specify 'dtype=object' when creating the ndarray.\n",
      "  values = np.array([convert(v) for v in values])\n"
     ]
    },
    {
     "name": "stdout",
     "output_type": "stream",
     "text": [
      "315\n",
      "359\n"
     ]
    },
    {
     "name": "stderr",
     "output_type": "stream",
     "text": [
      "  4%|███▏                                                                      | 226/5337 [1:26:38<90:24:31, 63.68s/it]C:\\Users\\duPar\\Anaconda3\\envs\\oasis\\lib\\site-packages\\pandas\\core\\internals\\construction.py:576: VisibleDeprecationWarning: Creating an ndarray from ragged nested sequences (which is a list-or-tuple of lists-or-tuples-or ndarrays with different lengths or shapes) is deprecated. If you meant to do this, you must specify 'dtype=object' when creating the ndarray.\n",
      "  values = np.array([convert(v) for v in values])\n"
     ]
    },
    {
     "name": "stdout",
     "output_type": "stream",
     "text": [
      "109\n",
      "115\n"
     ]
    },
    {
     "name": "stderr",
     "output_type": "stream",
     "text": [
      "  4%|███▏                                                                      | 228/5337 [1:27:45<64:23:28, 45.37s/it]C:\\Users\\duPar\\Anaconda3\\envs\\oasis\\lib\\site-packages\\pandas\\core\\internals\\construction.py:576: VisibleDeprecationWarning: Creating an ndarray from ragged nested sequences (which is a list-or-tuple of lists-or-tuples-or ndarrays with different lengths or shapes) is deprecated. If you meant to do this, you must specify 'dtype=object' when creating the ndarray.\n",
      "  values = np.array([convert(v) for v in values])\n",
      "  4%|███▏                                                                      | 229/5337 [1:28:51<72:50:15, 51.33s/it]C:\\Users\\duPar\\Anaconda3\\envs\\oasis\\lib\\site-packages\\pandas\\core\\internals\\construction.py:576: VisibleDeprecationWarning: Creating an ndarray from ragged nested sequences (which is a list-or-tuple of lists-or-tuples-or ndarrays with different lengths or shapes) is deprecated. If you meant to do this, you must specify 'dtype=object' when creating the ndarray.\n",
      "  values = np.array([convert(v) for v in values])\n"
     ]
    },
    {
     "name": "stdout",
     "output_type": "stream",
     "text": [
      "246\n"
     ]
    },
    {
     "name": "stderr",
     "output_type": "stream",
     "text": [
      "  4%|███▏                                                                      | 230/5337 [1:29:58<79:31:25, 56.06s/it]C:\\Users\\duPar\\Anaconda3\\envs\\oasis\\lib\\site-packages\\pandas\\core\\internals\\construction.py:576: VisibleDeprecationWarning: Creating an ndarray from ragged nested sequences (which is a list-or-tuple of lists-or-tuples-or ndarrays with different lengths or shapes) is deprecated. If you meant to do this, you must specify 'dtype=object' when creating the ndarray.\n",
      "  values = np.array([convert(v) for v in values])\n",
      "  4%|███▏                                                                      | 231/5337 [1:31:04<83:46:02, 59.06s/it]C:\\Users\\duPar\\Anaconda3\\envs\\oasis\\lib\\site-packages\\pandas\\core\\internals\\construction.py:576: VisibleDeprecationWarning: Creating an ndarray from ragged nested sequences (which is a list-or-tuple of lists-or-tuples-or ndarrays with different lengths or shapes) is deprecated. If you meant to do this, you must specify 'dtype=object' when creating the ndarray.\n",
      "  values = np.array([convert(v) for v in values])\n"
     ]
    },
    {
     "name": "stdout",
     "output_type": "stream",
     "text": [
      "37\n",
      "262\n",
      "435\n",
      "439\n",
      "459\n",
      "492\n"
     ]
    },
    {
     "name": "stderr",
     "output_type": "stream",
     "text": [
      "  4%|███▏                                                                      | 232/5337 [1:32:10<86:46:30, 61.19s/it]"
     ]
    },
    {
     "name": "stdout",
     "output_type": "stream",
     "text": [
      "500\n"
     ]
    },
    {
     "name": "stderr",
     "output_type": "stream",
     "text": [
      "C:\\Users\\duPar\\Anaconda3\\envs\\oasis\\lib\\site-packages\\pandas\\core\\internals\\construction.py:576: VisibleDeprecationWarning: Creating an ndarray from ragged nested sequences (which is a list-or-tuple of lists-or-tuples-or ndarrays with different lengths or shapes) is deprecated. If you meant to do this, you must specify 'dtype=object' when creating the ndarray.\n",
      "  values = np.array([convert(v) for v in values])\n",
      "  4%|███▏                                                                      | 233/5337 [1:33:17<89:28:38, 63.11s/it]C:\\Users\\duPar\\Anaconda3\\envs\\oasis\\lib\\site-packages\\pandas\\core\\internals\\construction.py:576: VisibleDeprecationWarning: Creating an ndarray from ragged nested sequences (which is a list-or-tuple of lists-or-tuples-or ndarrays with different lengths or shapes) is deprecated. If you meant to do this, you must specify 'dtype=object' when creating the ndarray.\n",
      "  values = np.array([convert(v) for v in values])\n",
      "  4%|███▏                                                                      | 234/5337 [1:34:24<91:05:05, 64.26s/it]C:\\Users\\duPar\\Anaconda3\\envs\\oasis\\lib\\site-packages\\pandas\\core\\internals\\construction.py:576: VisibleDeprecationWarning: Creating an ndarray from ragged nested sequences (which is a list-or-tuple of lists-or-tuples-or ndarrays with different lengths or shapes) is deprecated. If you meant to do this, you must specify 'dtype=object' when creating the ndarray.\n",
      "  values = np.array([convert(v) for v in values])\n"
     ]
    },
    {
     "name": "stdout",
     "output_type": "stream",
     "text": [
      "442\n"
     ]
    },
    {
     "name": "stderr",
     "output_type": "stream",
     "text": [
      "  4%|███▎                                                                      | 235/5337 [1:35:32<92:29:19, 65.26s/it]C:\\Users\\duPar\\Anaconda3\\envs\\oasis\\lib\\site-packages\\pandas\\core\\internals\\construction.py:576: VisibleDeprecationWarning: Creating an ndarray from ragged nested sequences (which is a list-or-tuple of lists-or-tuples-or ndarrays with different lengths or shapes) is deprecated. If you meant to do this, you must specify 'dtype=object' when creating the ndarray.\n",
      "  values = np.array([convert(v) for v in values])\n"
     ]
    },
    {
     "name": "stdout",
     "output_type": "stream",
     "text": [
      "57\n"
     ]
    },
    {
     "name": "stderr",
     "output_type": "stream",
     "text": [
      "  4%|███▎                                                                      | 236/5337 [1:36:40<93:32:09, 66.01s/it]C:\\Users\\duPar\\Anaconda3\\envs\\oasis\\lib\\site-packages\\pandas\\core\\internals\\construction.py:576: VisibleDeprecationWarning: Creating an ndarray from ragged nested sequences (which is a list-or-tuple of lists-or-tuples-or ndarrays with different lengths or shapes) is deprecated. If you meant to do this, you must specify 'dtype=object' when creating the ndarray.\n",
      "  values = np.array([convert(v) for v in values])\n",
      "  4%|███▎                                                                      | 239/5337 [1:37:49<46:38:54, 32.94s/it]C:\\Users\\duPar\\Anaconda3\\envs\\oasis\\lib\\site-packages\\pandas\\core\\internals\\construction.py:576: VisibleDeprecationWarning: Creating an ndarray from ragged nested sequences (which is a list-or-tuple of lists-or-tuples-or ndarrays with different lengths or shapes) is deprecated. If you meant to do this, you must specify 'dtype=object' when creating the ndarray.\n",
      "  values = np.array([convert(v) for v in values])\n"
     ]
    },
    {
     "name": "stdout",
     "output_type": "stream",
     "text": [
      "125\n",
      "131\n"
     ]
    },
    {
     "name": "stderr",
     "output_type": "stream",
     "text": [
      "  4%|███▎                                                                      | 240/5337 [1:38:59<62:10:40, 43.92s/it]C:\\Users\\duPar\\Anaconda3\\envs\\oasis\\lib\\site-packages\\pandas\\core\\internals\\construction.py:576: VisibleDeprecationWarning: Creating an ndarray from ragged nested sequences (which is a list-or-tuple of lists-or-tuples-or ndarrays with different lengths or shapes) is deprecated. If you meant to do this, you must specify 'dtype=object' when creating the ndarray.\n",
      "  values = np.array([convert(v) for v in values])\n"
     ]
    },
    {
     "name": "stdout",
     "output_type": "stream",
     "text": [
      "227\n",
      "406\n"
     ]
    },
    {
     "name": "stderr",
     "output_type": "stream",
     "text": [
      "  5%|███▎                                                                      | 241/5337 [1:39:56<68:02:39, 48.07s/it]C:\\Users\\duPar\\Anaconda3\\envs\\oasis\\lib\\site-packages\\pandas\\core\\internals\\construction.py:576: VisibleDeprecationWarning: Creating an ndarray from ragged nested sequences (which is a list-or-tuple of lists-or-tuples-or ndarrays with different lengths or shapes) is deprecated. If you meant to do this, you must specify 'dtype=object' when creating the ndarray.\n",
      "  values = np.array([convert(v) for v in values])\n"
     ]
    },
    {
     "name": "stdout",
     "output_type": "stream",
     "text": [
      "119\n"
     ]
    },
    {
     "name": "stderr",
     "output_type": "stream",
     "text": [
      "  5%|███▎                                                                      | 242/5337 [1:41:06<77:07:37, 54.50s/it]C:\\Users\\duPar\\Anaconda3\\envs\\oasis\\lib\\site-packages\\pandas\\core\\internals\\construction.py:576: VisibleDeprecationWarning: Creating an ndarray from ragged nested sequences (which is a list-or-tuple of lists-or-tuples-or ndarrays with different lengths or shapes) is deprecated. If you meant to do this, you must specify 'dtype=object' when creating the ndarray.\n",
      "  values = np.array([convert(v) for v in values])\n",
      "  5%|███▎                                                                      | 243/5337 [1:42:15<83:16:54, 58.86s/it]C:\\Users\\duPar\\Anaconda3\\envs\\oasis\\lib\\site-packages\\pandas\\core\\internals\\construction.py:576: VisibleDeprecationWarning: Creating an ndarray from ragged nested sequences (which is a list-or-tuple of lists-or-tuples-or ndarrays with different lengths or shapes) is deprecated. If you meant to do this, you must specify 'dtype=object' when creating the ndarray.\n",
      "  values = np.array([convert(v) for v in values])\n"
     ]
    },
    {
     "name": "stdout",
     "output_type": "stream",
     "text": [
      "332\n",
      "492\n"
     ]
    },
    {
     "name": "stderr",
     "output_type": "stream",
     "text": [
      "  5%|███▍                                                                      | 244/5337 [1:43:24<87:37:32, 61.94s/it]C:\\Users\\duPar\\Anaconda3\\envs\\oasis\\lib\\site-packages\\pandas\\core\\internals\\construction.py:576: VisibleDeprecationWarning: Creating an ndarray from ragged nested sequences (which is a list-or-tuple of lists-or-tuples-or ndarrays with different lengths or shapes) is deprecated. If you meant to do this, you must specify 'dtype=object' when creating the ndarray.\n",
      "  values = np.array([convert(v) for v in values])\n"
     ]
    },
    {
     "name": "stdout",
     "output_type": "stream",
     "text": [
      "371\n"
     ]
    },
    {
     "name": "stderr",
     "output_type": "stream",
     "text": [
      "  5%|███▍                                                                      | 245/5337 [1:44:34<91:09:03, 64.44s/it]C:\\Users\\duPar\\Anaconda3\\envs\\oasis\\lib\\site-packages\\pandas\\core\\internals\\construction.py:576: VisibleDeprecationWarning: Creating an ndarray from ragged nested sequences (which is a list-or-tuple of lists-or-tuples-or ndarrays with different lengths or shapes) is deprecated. If you meant to do this, you must specify 'dtype=object' when creating the ndarray.\n",
      "  values = np.array([convert(v) for v in values])\n",
      "  5%|███▍                                                                      | 246/5337 [1:45:44<93:31:47, 66.14s/it]C:\\Users\\duPar\\Anaconda3\\envs\\oasis\\lib\\site-packages\\pandas\\core\\internals\\construction.py:576: VisibleDeprecationWarning: Creating an ndarray from ragged nested sequences (which is a list-or-tuple of lists-or-tuples-or ndarrays with different lengths or shapes) is deprecated. If you meant to do this, you must specify 'dtype=object' when creating the ndarray.\n",
      "  values = np.array([convert(v) for v in values])\n",
      "  5%|███▍                                                                      | 247/5337 [1:46:55<95:33:56, 67.59s/it]C:\\Users\\duPar\\Anaconda3\\envs\\oasis\\lib\\site-packages\\pandas\\core\\internals\\construction.py:576: VisibleDeprecationWarning: Creating an ndarray from ragged nested sequences (which is a list-or-tuple of lists-or-tuples-or ndarrays with different lengths or shapes) is deprecated. If you meant to do this, you must specify 'dtype=object' when creating the ndarray.\n",
      "  values = np.array([convert(v) for v in values])\n",
      "  5%|███▍                                                                      | 248/5337 [1:47:09<72:42:33, 51.44s/it]C:\\Users\\duPar\\Anaconda3\\envs\\oasis\\lib\\site-packages\\pandas\\core\\internals\\construction.py:576: VisibleDeprecationWarning: Creating an ndarray from ragged nested sequences (which is a list-or-tuple of lists-or-tuples-or ndarrays with different lengths or shapes) is deprecated. If you meant to do this, you must specify 'dtype=object' when creating the ndarray.\n",
      "  values = np.array([convert(v) for v in values])\n"
     ]
    },
    {
     "name": "stdout",
     "output_type": "stream",
     "text": [
      "40\n"
     ]
    },
    {
     "name": "stderr",
     "output_type": "stream",
     "text": [
      "  5%|███▍                                                                      | 249/5337 [1:47:16<53:56:02, 38.16s/it]C:\\Users\\duPar\\Anaconda3\\envs\\oasis\\lib\\site-packages\\pandas\\core\\internals\\construction.py:576: VisibleDeprecationWarning: Creating an ndarray from ragged nested sequences (which is a list-or-tuple of lists-or-tuples-or ndarrays with different lengths or shapes) is deprecated. If you meant to do this, you must specify 'dtype=object' when creating the ndarray.\n",
      "  values = np.array([convert(v) for v in values])\n",
      "  5%|███▍                                                                      | 250/5337 [1:47:37<46:19:19, 32.78s/it]C:\\Users\\duPar\\Anaconda3\\envs\\oasis\\lib\\site-packages\\pandas\\core\\internals\\construction.py:576: VisibleDeprecationWarning: Creating an ndarray from ragged nested sequences (which is a list-or-tuple of lists-or-tuples-or ndarrays with different lengths or shapes) is deprecated. If you meant to do this, you must specify 'dtype=object' when creating the ndarray.\n",
      "  values = np.array([convert(v) for v in values])\n"
     ]
    },
    {
     "name": "stdout",
     "output_type": "stream",
     "text": [
      "2\n",
      "14\n",
      "25\n",
      "32\n",
      "103\n"
     ]
    },
    {
     "name": "stderr",
     "output_type": "stream",
     "text": [
      "  5%|███▍                                                                      | 251/5337 [1:47:54<39:55:18, 28.26s/it]C:\\Users\\duPar\\Anaconda3\\envs\\oasis\\lib\\site-packages\\pandas\\core\\internals\\construction.py:576: VisibleDeprecationWarning: Creating an ndarray from ragged nested sequences (which is a list-or-tuple of lists-or-tuples-or ndarrays with different lengths or shapes) is deprecated. If you meant to do this, you must specify 'dtype=object' when creating the ndarray.\n",
      "  values = np.array([convert(v) for v in values])\n",
      "  5%|███▍                                                                      | 252/5337 [1:48:26<41:23:56, 29.31s/it]C:\\Users\\duPar\\Anaconda3\\envs\\oasis\\lib\\site-packages\\pandas\\core\\internals\\construction.py:576: VisibleDeprecationWarning: Creating an ndarray from ragged nested sequences (which is a list-or-tuple of lists-or-tuples-or ndarrays with different lengths or shapes) is deprecated. If you meant to do this, you must specify 'dtype=object' when creating the ndarray.\n",
      "  values = np.array([convert(v) for v in values])\n",
      "  5%|███▌                                                                      | 253/5337 [1:48:48<38:07:05, 26.99s/it]C:\\Users\\duPar\\Anaconda3\\envs\\oasis\\lib\\site-packages\\pandas\\core\\internals\\construction.py:576: VisibleDeprecationWarning: Creating an ndarray from ragged nested sequences (which is a list-or-tuple of lists-or-tuples-or ndarrays with different lengths or shapes) is deprecated. If you meant to do this, you must specify 'dtype=object' when creating the ndarray.\n",
      "  values = np.array([convert(v) for v in values])\n"
     ]
    },
    {
     "name": "stdout",
     "output_type": "stream",
     "text": [
      "18\n"
     ]
    },
    {
     "name": "stderr",
     "output_type": "stream",
     "text": [
      "  5%|███▌                                                                      | 254/5337 [1:49:01<32:32:36, 23.05s/it]C:\\Users\\duPar\\Anaconda3\\envs\\oasis\\lib\\site-packages\\pandas\\core\\internals\\construction.py:576: VisibleDeprecationWarning: Creating an ndarray from ragged nested sequences (which is a list-or-tuple of lists-or-tuples-or ndarrays with different lengths or shapes) is deprecated. If you meant to do this, you must specify 'dtype=object' when creating the ndarray.\n",
      "  values = np.array([convert(v) for v in values])\n",
      "  5%|███▌                                                                      | 255/5337 [1:49:11<26:59:19, 19.12s/it]C:\\Users\\duPar\\Anaconda3\\envs\\oasis\\lib\\site-packages\\pandas\\core\\internals\\construction.py:576: VisibleDeprecationWarning: Creating an ndarray from ragged nested sequences (which is a list-or-tuple of lists-or-tuples-or ndarrays with different lengths or shapes) is deprecated. If you meant to do this, you must specify 'dtype=object' when creating the ndarray.\n",
      "  values = np.array([convert(v) for v in values])\n"
     ]
    },
    {
     "name": "stdout",
     "output_type": "stream",
     "text": [
      "1\n"
     ]
    },
    {
     "name": "stderr",
     "output_type": "stream",
     "text": [
      "  5%|███▌                                                                      | 256/5337 [1:49:43<32:20:49, 22.92s/it]C:\\Users\\duPar\\Anaconda3\\envs\\oasis\\lib\\site-packages\\pandas\\core\\internals\\construction.py:576: VisibleDeprecationWarning: Creating an ndarray from ragged nested sequences (which is a list-or-tuple of lists-or-tuples-or ndarrays with different lengths or shapes) is deprecated. If you meant to do this, you must specify 'dtype=object' when creating the ndarray.\n",
      "  values = np.array([convert(v) for v in values])\n",
      "  5%|███▌                                                                      | 257/5337 [1:49:56<28:14:43, 20.02s/it]C:\\Users\\duPar\\Anaconda3\\envs\\oasis\\lib\\site-packages\\pandas\\core\\internals\\construction.py:576: VisibleDeprecationWarning: Creating an ndarray from ragged nested sequences (which is a list-or-tuple of lists-or-tuples-or ndarrays with different lengths or shapes) is deprecated. If you meant to do this, you must specify 'dtype=object' when creating the ndarray.\n",
      "  values = np.array([convert(v) for v in values])\n"
     ]
    },
    {
     "name": "stdout",
     "output_type": "stream",
     "text": [
      "1\n",
      "110\n"
     ]
    },
    {
     "name": "stderr",
     "output_type": "stream",
     "text": [
      "  5%|███▌                                                                      | 258/5337 [1:50:30<33:51:06, 23.99s/it]C:\\Users\\duPar\\Anaconda3\\envs\\oasis\\lib\\site-packages\\pandas\\core\\internals\\construction.py:576: VisibleDeprecationWarning: Creating an ndarray from ragged nested sequences (which is a list-or-tuple of lists-or-tuples-or ndarrays with different lengths or shapes) is deprecated. If you meant to do this, you must specify 'dtype=object' when creating the ndarray.\n",
      "  values = np.array([convert(v) for v in values])\n"
     ]
    },
    {
     "name": "stdout",
     "output_type": "stream",
     "text": [
      "261\n"
     ]
    },
    {
     "name": "stderr",
     "output_type": "stream",
     "text": [
      "  5%|███▌                                                                      | 259/5337 [1:51:09<40:09:36, 28.47s/it]C:\\Users\\duPar\\Anaconda3\\envs\\oasis\\lib\\site-packages\\pandas\\core\\internals\\construction.py:576: VisibleDeprecationWarning: Creating an ndarray from ragged nested sequences (which is a list-or-tuple of lists-or-tuples-or ndarrays with different lengths or shapes) is deprecated. If you meant to do this, you must specify 'dtype=object' when creating the ndarray.\n",
      "  values = np.array([convert(v) for v in values])\n",
      "  5%|███▌                                                                      | 260/5337 [1:51:33<38:28:05, 27.28s/it]C:\\Users\\duPar\\Anaconda3\\envs\\oasis\\lib\\site-packages\\pandas\\core\\internals\\construction.py:576: VisibleDeprecationWarning: Creating an ndarray from ragged nested sequences (which is a list-or-tuple of lists-or-tuples-or ndarrays with different lengths or shapes) is deprecated. If you meant to do this, you must specify 'dtype=object' when creating the ndarray.\n",
      "  values = np.array([convert(v) for v in values])\n"
     ]
    },
    {
     "name": "stdout",
     "output_type": "stream",
     "text": [
      "283\n",
      "347\n"
     ]
    },
    {
     "name": "stderr",
     "output_type": "stream",
     "text": [
      "  5%|███▌                                                                      | 261/5337 [1:52:23<48:12:25, 34.19s/it]C:\\Users\\duPar\\Anaconda3\\envs\\oasis\\lib\\site-packages\\pandas\\core\\internals\\construction.py:576: VisibleDeprecationWarning: Creating an ndarray from ragged nested sequences (which is a list-or-tuple of lists-or-tuples-or ndarrays with different lengths or shapes) is deprecated. If you meant to do this, you must specify 'dtype=object' when creating the ndarray.\n",
      "  values = np.array([convert(v) for v in values])\n",
      "  5%|███▋                                                                      | 262/5337 [1:53:15<55:19:57, 39.25s/it]C:\\Users\\duPar\\Anaconda3\\envs\\oasis\\lib\\site-packages\\pandas\\core\\internals\\construction.py:576: VisibleDeprecationWarning: Creating an ndarray from ragged nested sequences (which is a list-or-tuple of lists-or-tuples-or ndarrays with different lengths or shapes) is deprecated. If you meant to do this, you must specify 'dtype=object' when creating the ndarray.\n",
      "  values = np.array([convert(v) for v in values])\n"
     ]
    },
    {
     "name": "stdout",
     "output_type": "stream",
     "text": [
      "182\n"
     ]
    },
    {
     "name": "stderr",
     "output_type": "stream",
     "text": [
      "  5%|███▌                                                                    | 263/5337 [2:00:52<232:07:45, 164.70s/it]C:\\Users\\duPar\\Anaconda3\\envs\\oasis\\lib\\site-packages\\pandas\\core\\internals\\construction.py:576: VisibleDeprecationWarning: Creating an ndarray from ragged nested sequences (which is a list-or-tuple of lists-or-tuples-or ndarrays with different lengths or shapes) is deprecated. If you meant to do this, you must specify 'dtype=object' when creating the ndarray.\n",
      "  values = np.array([convert(v) for v in values])\n",
      "  5%|███▌                                                                    | 264/5337 [2:01:57<190:08:06, 134.93s/it]C:\\Users\\duPar\\Anaconda3\\envs\\oasis\\lib\\site-packages\\pandas\\core\\internals\\construction.py:576: VisibleDeprecationWarning: Creating an ndarray from ragged nested sequences (which is a list-or-tuple of lists-or-tuples-or ndarrays with different lengths or shapes) is deprecated. If you meant to do this, you must specify 'dtype=object' when creating the ndarray.\n",
      "  values = np.array([convert(v) for v in values])\n",
      "  5%|███▌                                                                     | 265/5337 [2:02:14<140:05:09, 99.43s/it]C:\\Users\\duPar\\Anaconda3\\envs\\oasis\\lib\\site-packages\\pandas\\core\\internals\\construction.py:576: VisibleDeprecationWarning: Creating an ndarray from ragged nested sequences (which is a list-or-tuple of lists-or-tuples-or ndarrays with different lengths or shapes) is deprecated. If you meant to do this, you must specify 'dtype=object' when creating the ndarray.\n",
      "  values = np.array([convert(v) for v in values])\n",
      "  5%|███▋                                                                     | 266/5337 [2:02:20<100:22:28, 71.26s/it]C:\\Users\\duPar\\Anaconda3\\envs\\oasis\\lib\\site-packages\\pandas\\core\\internals\\construction.py:576: VisibleDeprecationWarning: Creating an ndarray from ragged nested sequences (which is a list-or-tuple of lists-or-tuples-or ndarrays with different lengths or shapes) is deprecated. If you meant to do this, you must specify 'dtype=object' when creating the ndarray.\n",
      "  values = np.array([convert(v) for v in values])\n",
      "  5%|███▋                                                                      | 267/5337 [2:02:37<77:42:14, 55.17s/it]C:\\Users\\duPar\\Anaconda3\\envs\\oasis\\lib\\site-packages\\pandas\\core\\internals\\construction.py:576: VisibleDeprecationWarning: Creating an ndarray from ragged nested sequences (which is a list-or-tuple of lists-or-tuples-or ndarrays with different lengths or shapes) is deprecated. If you meant to do this, you must specify 'dtype=object' when creating the ndarray.\n",
      "  values = np.array([convert(v) for v in values])\n"
     ]
    },
    {
     "name": "stdout",
     "output_type": "stream",
     "text": [
      "27\n"
     ]
    },
    {
     "name": "stderr",
     "output_type": "stream",
     "text": [
      "  5%|███▋                                                                      | 268/5337 [2:02:59<63:29:00, 45.09s/it]C:\\Users\\duPar\\Anaconda3\\envs\\oasis\\lib\\site-packages\\pandas\\core\\internals\\construction.py:576: VisibleDeprecationWarning: Creating an ndarray from ragged nested sequences (which is a list-or-tuple of lists-or-tuples-or ndarrays with different lengths or shapes) is deprecated. If you meant to do this, you must specify 'dtype=object' when creating the ndarray.\n",
      "  values = np.array([convert(v) for v in values])\n"
     ]
    },
    {
     "name": "stdout",
     "output_type": "stream",
     "text": [
      "372\n"
     ]
    },
    {
     "name": "stderr",
     "output_type": "stream",
     "text": [
      "  5%|███▋                                                                      | 269/5337 [2:04:06<72:59:13, 51.85s/it]C:\\Users\\duPar\\Anaconda3\\envs\\oasis\\lib\\site-packages\\pandas\\core\\internals\\construction.py:576: VisibleDeprecationWarning: Creating an ndarray from ragged nested sequences (which is a list-or-tuple of lists-or-tuples-or ndarrays with different lengths or shapes) is deprecated. If you meant to do this, you must specify 'dtype=object' when creating the ndarray.\n",
      "  values = np.array([convert(v) for v in values])\n"
     ]
    },
    {
     "name": "stdout",
     "output_type": "stream",
     "text": [
      "388\n"
     ]
    },
    {
     "name": "stderr",
     "output_type": "stream",
     "text": [
      "  5%|███▋                                                                      | 270/5337 [2:05:18<81:21:33, 57.80s/it]C:\\Users\\duPar\\Anaconda3\\envs\\oasis\\lib\\site-packages\\pandas\\core\\internals\\construction.py:576: VisibleDeprecationWarning: Creating an ndarray from ragged nested sequences (which is a list-or-tuple of lists-or-tuples-or ndarrays with different lengths or shapes) is deprecated. If you meant to do this, you must specify 'dtype=object' when creating the ndarray.\n",
      "  values = np.array([convert(v) for v in values])\n",
      "  5%|███▊                                                                      | 271/5337 [2:06:21<83:20:56, 59.23s/it]C:\\Users\\duPar\\Anaconda3\\envs\\oasis\\lib\\site-packages\\pandas\\core\\internals\\construction.py:576: VisibleDeprecationWarning: Creating an ndarray from ragged nested sequences (which is a list-or-tuple of lists-or-tuples-or ndarrays with different lengths or shapes) is deprecated. If you meant to do this, you must specify 'dtype=object' when creating the ndarray.\n",
      "  values = np.array([convert(v) for v in values])\n"
     ]
    },
    {
     "name": "stdout",
     "output_type": "stream",
     "text": [
      "201\n"
     ]
    },
    {
     "name": "stderr",
     "output_type": "stream",
     "text": [
      "  5%|███▊                                                                      | 272/5337 [2:06:52<71:42:02, 50.96s/it]C:\\Users\\duPar\\Anaconda3\\envs\\oasis\\lib\\site-packages\\pandas\\core\\internals\\construction.py:576: VisibleDeprecationWarning: Creating an ndarray from ragged nested sequences (which is a list-or-tuple of lists-or-tuples-or ndarrays with different lengths or shapes) is deprecated. If you meant to do this, you must specify 'dtype=object' when creating the ndarray.\n",
      "  values = np.array([convert(v) for v in values])\n"
     ]
    },
    {
     "name": "stdout",
     "output_type": "stream",
     "text": [
      "114\n"
     ]
    },
    {
     "name": "stderr",
     "output_type": "stream",
     "text": [
      "  5%|███▊                                                                      | 273/5337 [2:07:27<65:02:28, 46.24s/it]C:\\Users\\duPar\\Anaconda3\\envs\\oasis\\lib\\site-packages\\pandas\\core\\internals\\construction.py:576: VisibleDeprecationWarning: Creating an ndarray from ragged nested sequences (which is a list-or-tuple of lists-or-tuples-or ndarrays with different lengths or shapes) is deprecated. If you meant to do this, you must specify 'dtype=object' when creating the ndarray.\n",
      "  values = np.array([convert(v) for v in values])\n",
      "  5%|███▊                                                                      | 274/5337 [2:08:05<61:32:00, 43.75s/it]C:\\Users\\duPar\\Anaconda3\\envs\\oasis\\lib\\site-packages\\pandas\\core\\internals\\construction.py:576: VisibleDeprecationWarning: Creating an ndarray from ragged nested sequences (which is a list-or-tuple of lists-or-tuples-or ndarrays with different lengths or shapes) is deprecated. If you meant to do this, you must specify 'dtype=object' when creating the ndarray.\n",
      "  values = np.array([convert(v) for v in values])\n",
      "  5%|███▊                                                                      | 275/5337 [2:08:12<45:51:30, 32.61s/it]C:\\Users\\duPar\\Anaconda3\\envs\\oasis\\lib\\site-packages\\pandas\\core\\internals\\construction.py:576: VisibleDeprecationWarning: Creating an ndarray from ragged nested sequences (which is a list-or-tuple of lists-or-tuples-or ndarrays with different lengths or shapes) is deprecated. If you meant to do this, you must specify 'dtype=object' when creating the ndarray.\n",
      "  values = np.array([convert(v) for v in values])\n"
     ]
    },
    {
     "name": "stdout",
     "output_type": "stream",
     "text": [
      "174\n"
     ]
    },
    {
     "name": "stderr",
     "output_type": "stream",
     "text": [
      "  5%|███▊                                                                      | 276/5337 [2:08:39<43:24:02, 30.87s/it]C:\\Users\\duPar\\Anaconda3\\envs\\oasis\\lib\\site-packages\\pandas\\core\\internals\\construction.py:576: VisibleDeprecationWarning: Creating an ndarray from ragged nested sequences (which is a list-or-tuple of lists-or-tuples-or ndarrays with different lengths or shapes) is deprecated. If you meant to do this, you must specify 'dtype=object' when creating the ndarray.\n",
      "  values = np.array([convert(v) for v in values])\n",
      "  5%|███▊                                                                      | 277/5337 [2:08:59<38:56:06, 27.70s/it]C:\\Users\\duPar\\Anaconda3\\envs\\oasis\\lib\\site-packages\\pandas\\core\\internals\\construction.py:576: VisibleDeprecationWarning: Creating an ndarray from ragged nested sequences (which is a list-or-tuple of lists-or-tuples-or ndarrays with different lengths or shapes) is deprecated. If you meant to do this, you must specify 'dtype=object' when creating the ndarray.\n",
      "  values = np.array([convert(v) for v in values])\n"
     ]
    },
    {
     "name": "stdout",
     "output_type": "stream",
     "text": [
      "216\n"
     ]
    },
    {
     "name": "stderr",
     "output_type": "stream",
     "text": [
      "  5%|███▊                                                                      | 278/5337 [2:09:34<42:01:57, 29.91s/it]C:\\Users\\duPar\\Anaconda3\\envs\\oasis\\lib\\site-packages\\pandas\\core\\internals\\construction.py:576: VisibleDeprecationWarning: Creating an ndarray from ragged nested sequences (which is a list-or-tuple of lists-or-tuples-or ndarrays with different lengths or shapes) is deprecated. If you meant to do this, you must specify 'dtype=object' when creating the ndarray.\n",
      "  values = np.array([convert(v) for v in values])\n"
     ]
    },
    {
     "name": "stdout",
     "output_type": "stream",
     "text": [
      "21\n",
      "105\n",
      "315\n",
      "365\n",
      "395\n",
      "429\n"
     ]
    },
    {
     "name": "stderr",
     "output_type": "stream",
     "text": [
      "  5%|███▊                                                                      | 279/5337 [2:10:49<60:42:58, 43.21s/it]C:\\Users\\duPar\\Anaconda3\\envs\\oasis\\lib\\site-packages\\pandas\\core\\internals\\construction.py:576: VisibleDeprecationWarning: Creating an ndarray from ragged nested sequences (which is a list-or-tuple of lists-or-tuples-or ndarrays with different lengths or shapes) is deprecated. If you meant to do this, you must specify 'dtype=object' when creating the ndarray.\n",
      "  values = np.array([convert(v) for v in values])\n"
     ]
    },
    {
     "name": "stdout",
     "output_type": "stream",
     "text": [
      "119\n"
     ]
    },
    {
     "name": "stderr",
     "output_type": "stream",
     "text": [
      "  5%|███▉                                                                      | 280/5337 [2:11:14<53:11:22, 37.86s/it]C:\\Users\\duPar\\Anaconda3\\envs\\oasis\\lib\\site-packages\\pandas\\core\\internals\\construction.py:576: VisibleDeprecationWarning: Creating an ndarray from ragged nested sequences (which is a list-or-tuple of lists-or-tuples-or ndarrays with different lengths or shapes) is deprecated. If you meant to do this, you must specify 'dtype=object' when creating the ndarray.\n",
      "  values = np.array([convert(v) for v in values])\n",
      "  5%|███▉                                                                      | 281/5337 [2:11:23<41:13:18, 29.35s/it]C:\\Users\\duPar\\Anaconda3\\envs\\oasis\\lib\\site-packages\\pandas\\core\\internals\\construction.py:576: VisibleDeprecationWarning: Creating an ndarray from ragged nested sequences (which is a list-or-tuple of lists-or-tuples-or ndarrays with different lengths or shapes) is deprecated. If you meant to do this, you must specify 'dtype=object' when creating the ndarray.\n",
      "  values = np.array([convert(v) for v in values])\n"
     ]
    },
    {
     "name": "stdout",
     "output_type": "stream",
     "text": [
      "22\n"
     ]
    },
    {
     "name": "stderr",
     "output_type": "stream",
     "text": [
      "  5%|███▉                                                                      | 282/5337 [2:11:48<39:05:47, 27.84s/it]C:\\Users\\duPar\\Anaconda3\\envs\\oasis\\lib\\site-packages\\pandas\\core\\internals\\construction.py:576: VisibleDeprecationWarning: Creating an ndarray from ragged nested sequences (which is a list-or-tuple of lists-or-tuples-or ndarrays with different lengths or shapes) is deprecated. If you meant to do this, you must specify 'dtype=object' when creating the ndarray.\n",
      "  values = np.array([convert(v) for v in values])\n",
      "  5%|███▉                                                                      | 283/5337 [2:12:15<38:59:47, 27.78s/it]C:\\Users\\duPar\\Anaconda3\\envs\\oasis\\lib\\site-packages\\pandas\\core\\internals\\construction.py:576: VisibleDeprecationWarning: Creating an ndarray from ragged nested sequences (which is a list-or-tuple of lists-or-tuples-or ndarrays with different lengths or shapes) is deprecated. If you meant to do this, you must specify 'dtype=object' when creating the ndarray.\n",
      "  values = np.array([convert(v) for v in values])\n",
      "  5%|███▉                                                                      | 284/5337 [2:12:33<34:39:02, 24.69s/it]C:\\Users\\duPar\\Anaconda3\\envs\\oasis\\lib\\site-packages\\pandas\\core\\internals\\construction.py:576: VisibleDeprecationWarning: Creating an ndarray from ragged nested sequences (which is a list-or-tuple of lists-or-tuples-or ndarrays with different lengths or shapes) is deprecated. If you meant to do this, you must specify 'dtype=object' when creating the ndarray.\n",
      "  values = np.array([convert(v) for v in values])\n",
      "  5%|███▉                                                                      | 285/5337 [2:13:05<37:47:47, 26.93s/it]"
     ]
    },
    {
     "name": "stdout",
     "output_type": "stream",
     "text": [
      "210\n"
     ]
    },
    {
     "name": "stderr",
     "output_type": "stream",
     "text": [
      "C:\\Users\\duPar\\Anaconda3\\envs\\oasis\\lib\\site-packages\\pandas\\core\\internals\\construction.py:576: VisibleDeprecationWarning: Creating an ndarray from ragged nested sequences (which is a list-or-tuple of lists-or-tuples-or ndarrays with different lengths or shapes) is deprecated. If you meant to do this, you must specify 'dtype=object' when creating the ndarray.\n",
      "  values = np.array([convert(v) for v in values])\n"
     ]
    },
    {
     "name": "stdout",
     "output_type": "stream",
     "text": [
      "232\n"
     ]
    },
    {
     "name": "stderr",
     "output_type": "stream",
     "text": [
      "  5%|███▉                                                                      | 286/5337 [2:13:42<41:52:25, 29.84s/it]C:\\Users\\duPar\\Anaconda3\\envs\\oasis\\lib\\site-packages\\pandas\\core\\internals\\construction.py:576: VisibleDeprecationWarning: Creating an ndarray from ragged nested sequences (which is a list-or-tuple of lists-or-tuples-or ndarrays with different lengths or shapes) is deprecated. If you meant to do this, you must specify 'dtype=object' when creating the ndarray.\n",
      "  values = np.array([convert(v) for v in values])\n",
      "  5%|███▉                                                                      | 287/5337 [2:14:01<37:34:03, 26.78s/it]C:\\Users\\duPar\\Anaconda3\\envs\\oasis\\lib\\site-packages\\pandas\\core\\internals\\construction.py:576: VisibleDeprecationWarning: Creating an ndarray from ragged nested sequences (which is a list-or-tuple of lists-or-tuples-or ndarrays with different lengths or shapes) is deprecated. If you meant to do this, you must specify 'dtype=object' when creating the ndarray.\n",
      "  values = np.array([convert(v) for v in values])\n"
     ]
    },
    {
     "name": "stdout",
     "output_type": "stream",
     "text": [
      "198\n"
     ]
    },
    {
     "name": "stderr",
     "output_type": "stream",
     "text": [
      "  5%|███▉                                                                      | 288/5337 [2:14:36<41:06:54, 29.32s/it]C:\\Users\\duPar\\Anaconda3\\envs\\oasis\\lib\\site-packages\\pandas\\core\\internals\\construction.py:576: VisibleDeprecationWarning: Creating an ndarray from ragged nested sequences (which is a list-or-tuple of lists-or-tuples-or ndarrays with different lengths or shapes) is deprecated. If you meant to do this, you must specify 'dtype=object' when creating the ndarray.\n",
      "  values = np.array([convert(v) for v in values])\n"
     ]
    },
    {
     "name": "stdout",
     "output_type": "stream",
     "text": [
      "292\n"
     ]
    },
    {
     "name": "stderr",
     "output_type": "stream",
     "text": [
      "  5%|████                                                                      | 289/5337 [2:15:22<47:55:33, 34.18s/it]C:\\Users\\duPar\\Anaconda3\\envs\\oasis\\lib\\site-packages\\pandas\\core\\internals\\construction.py:576: VisibleDeprecationWarning: Creating an ndarray from ragged nested sequences (which is a list-or-tuple of lists-or-tuples-or ndarrays with different lengths or shapes) is deprecated. If you meant to do this, you must specify 'dtype=object' when creating the ndarray.\n",
      "  values = np.array([convert(v) for v in values])\n"
     ]
    },
    {
     "name": "stdout",
     "output_type": "stream",
     "text": [
      "50\n"
     ]
    },
    {
     "name": "stderr",
     "output_type": "stream",
     "text": [
      "  5%|████                                                                      | 290/5337 [2:15:46<43:45:47, 31.22s/it]C:\\Users\\duPar\\Anaconda3\\envs\\oasis\\lib\\site-packages\\pandas\\core\\internals\\construction.py:576: VisibleDeprecationWarning: Creating an ndarray from ragged nested sequences (which is a list-or-tuple of lists-or-tuples-or ndarrays with different lengths or shapes) is deprecated. If you meant to do this, you must specify 'dtype=object' when creating the ndarray.\n",
      "  values = np.array([convert(v) for v in values])\n"
     ]
    },
    {
     "name": "stdout",
     "output_type": "stream",
     "text": [
      "141\n",
      "167\n"
     ]
    },
    {
     "name": "stderr",
     "output_type": "stream",
     "text": [
      "  5%|████                                                                      | 291/5337 [2:16:12<41:31:30, 29.63s/it]C:\\Users\\duPar\\Anaconda3\\envs\\oasis\\lib\\site-packages\\pandas\\core\\internals\\construction.py:576: VisibleDeprecationWarning: Creating an ndarray from ragged nested sequences (which is a list-or-tuple of lists-or-tuples-or ndarrays with different lengths or shapes) is deprecated. If you meant to do this, you must specify 'dtype=object' when creating the ndarray.\n",
      "  values = np.array([convert(v) for v in values])\n",
      "  5%|████                                                                      | 292/5337 [2:16:27<35:27:56, 25.31s/it]C:\\Users\\duPar\\Anaconda3\\envs\\oasis\\lib\\site-packages\\pandas\\core\\internals\\construction.py:576: VisibleDeprecationWarning: Creating an ndarray from ragged nested sequences (which is a list-or-tuple of lists-or-tuples-or ndarrays with different lengths or shapes) is deprecated. If you meant to do this, you must specify 'dtype=object' when creating the ndarray.\n",
      "  values = np.array([convert(v) for v in values])\n"
     ]
    },
    {
     "name": "stdout",
     "output_type": "stream",
     "text": [
      "263\n",
      "268\n",
      "473\n"
     ]
    },
    {
     "name": "stderr",
     "output_type": "stream",
     "text": [
      "  5%|████                                                                      | 293/5337 [2:17:42<56:20:57, 40.22s/it]C:\\Users\\duPar\\Anaconda3\\envs\\oasis\\lib\\site-packages\\pandas\\core\\internals\\construction.py:576: VisibleDeprecationWarning: Creating an ndarray from ragged nested sequences (which is a list-or-tuple of lists-or-tuples-or ndarrays with different lengths or shapes) is deprecated. If you meant to do this, you must specify 'dtype=object' when creating the ndarray.\n",
      "  values = np.array([convert(v) for v in values])\n"
     ]
    },
    {
     "name": "stdout",
     "output_type": "stream",
     "text": [
      "15\n"
     ]
    },
    {
     "name": "stderr",
     "output_type": "stream",
     "text": [
      "  6%|████                                                                      | 294/5337 [2:19:00<72:12:14, 51.54s/it]C:\\Users\\duPar\\Anaconda3\\envs\\oasis\\lib\\site-packages\\pandas\\core\\internals\\construction.py:576: VisibleDeprecationWarning: Creating an ndarray from ragged nested sequences (which is a list-or-tuple of lists-or-tuples-or ndarrays with different lengths or shapes) is deprecated. If you meant to do this, you must specify 'dtype=object' when creating the ndarray.\n",
      "  values = np.array([convert(v) for v in values])\n"
     ]
    },
    {
     "name": "stdout",
     "output_type": "stream",
     "text": [
      "42\n"
     ]
    },
    {
     "name": "stderr",
     "output_type": "stream",
     "text": [
      "  6%|████                                                                      | 295/5337 [2:20:18<83:03:04, 59.30s/it]C:\\Users\\duPar\\Anaconda3\\envs\\oasis\\lib\\site-packages\\pandas\\core\\internals\\construction.py:576: VisibleDeprecationWarning: Creating an ndarray from ragged nested sequences (which is a list-or-tuple of lists-or-tuples-or ndarrays with different lengths or shapes) is deprecated. If you meant to do this, you must specify 'dtype=object' when creating the ndarray.\n",
      "  values = np.array([convert(v) for v in values])\n"
     ]
    },
    {
     "name": "stdout",
     "output_type": "stream",
     "text": [
      "355\n",
      "481\n"
     ]
    },
    {
     "name": "stderr",
     "output_type": "stream",
     "text": [
      "  6%|████                                                                      | 297/5337 [2:21:36<63:41:27, 45.49s/it]C:\\Users\\duPar\\Anaconda3\\envs\\oasis\\lib\\site-packages\\pandas\\core\\internals\\construction.py:576: VisibleDeprecationWarning: Creating an ndarray from ragged nested sequences (which is a list-or-tuple of lists-or-tuples-or ndarrays with different lengths or shapes) is deprecated. If you meant to do this, you must specify 'dtype=object' when creating the ndarray.\n",
      "  values = np.array([convert(v) for v in values])\n",
      "  6%|████▏                                                                     | 298/5337 [2:22:54<77:23:06, 55.29s/it]C:\\Users\\duPar\\Anaconda3\\envs\\oasis\\lib\\site-packages\\pandas\\core\\internals\\construction.py:576: VisibleDeprecationWarning: Creating an ndarray from ragged nested sequences (which is a list-or-tuple of lists-or-tuples-or ndarrays with different lengths or shapes) is deprecated. If you meant to do this, you must specify 'dtype=object' when creating the ndarray.\n",
      "  values = np.array([convert(v) for v in values])\n"
     ]
    },
    {
     "name": "stdout",
     "output_type": "stream",
     "text": [
      "30\n"
     ]
    },
    {
     "name": "stderr",
     "output_type": "stream",
     "text": [
      "  6%|████▏                                                                     | 299/5337 [2:24:13<87:10:57, 62.30s/it]C:\\Users\\duPar\\Anaconda3\\envs\\oasis\\lib\\site-packages\\pandas\\core\\internals\\construction.py:576: VisibleDeprecationWarning: Creating an ndarray from ragged nested sequences (which is a list-or-tuple of lists-or-tuples-or ndarrays with different lengths or shapes) is deprecated. If you meant to do this, you must specify 'dtype=object' when creating the ndarray.\n",
      "  values = np.array([convert(v) for v in values])\n"
     ]
    },
    {
     "name": "stdout",
     "output_type": "stream",
     "text": [
      "95\n"
     ]
    },
    {
     "name": "stderr",
     "output_type": "stream",
     "text": [
      "  6%|████▏                                                                     | 300/5337 [2:25:31<93:58:19, 67.16s/it]C:\\Users\\duPar\\Anaconda3\\envs\\oasis\\lib\\site-packages\\pandas\\core\\internals\\construction.py:576: VisibleDeprecationWarning: Creating an ndarray from ragged nested sequences (which is a list-or-tuple of lists-or-tuples-or ndarrays with different lengths or shapes) is deprecated. If you meant to do this, you must specify 'dtype=object' when creating the ndarray.\n",
      "  values = np.array([convert(v) for v in values])\n"
     ]
    },
    {
     "name": "stdout",
     "output_type": "stream",
     "text": [
      "4\n"
     ]
    },
    {
     "name": "stderr",
     "output_type": "stream",
     "text": [
      "  6%|████▏                                                                     | 301/5337 [2:26:50<98:44:00, 70.58s/it]C:\\Users\\duPar\\Anaconda3\\envs\\oasis\\lib\\site-packages\\pandas\\core\\internals\\construction.py:576: VisibleDeprecationWarning: Creating an ndarray from ragged nested sequences (which is a list-or-tuple of lists-or-tuples-or ndarrays with different lengths or shapes) is deprecated. If you meant to do this, you must specify 'dtype=object' when creating the ndarray.\n",
      "  values = np.array([convert(v) for v in values])\n",
      "  6%|████▏                                                                    | 302/5337 [2:28:09<102:25:56, 73.24s/it]C:\\Users\\duPar\\Anaconda3\\envs\\oasis\\lib\\site-packages\\pandas\\core\\internals\\construction.py:576: VisibleDeprecationWarning: Creating an ndarray from ragged nested sequences (which is a list-or-tuple of lists-or-tuples-or ndarrays with different lengths or shapes) is deprecated. If you meant to do this, you must specify 'dtype=object' when creating the ndarray.\n",
      "  values = np.array([convert(v) for v in values])\n"
     ]
    },
    {
     "name": "stdout",
     "output_type": "stream",
     "text": [
      "136\n"
     ]
    },
    {
     "name": "stderr",
     "output_type": "stream",
     "text": [
      "  6%|████▏                                                                    | 303/5337 [2:29:29<105:07:42, 75.18s/it]C:\\Users\\duPar\\Anaconda3\\envs\\oasis\\lib\\site-packages\\pandas\\core\\internals\\construction.py:576: VisibleDeprecationWarning: Creating an ndarray from ragged nested sequences (which is a list-or-tuple of lists-or-tuples-or ndarrays with different lengths or shapes) is deprecated. If you meant to do this, you must specify 'dtype=object' when creating the ndarray.\n",
      "  values = np.array([convert(v) for v in values])\n"
     ]
    },
    {
     "name": "stdout",
     "output_type": "stream",
     "text": [
      "299\n"
     ]
    },
    {
     "name": "stderr",
     "output_type": "stream",
     "text": [
      "  6%|████▏                                                                    | 304/5337 [2:30:49<107:16:43, 76.73s/it]C:\\Users\\duPar\\Anaconda3\\envs\\oasis\\lib\\site-packages\\pandas\\core\\internals\\construction.py:576: VisibleDeprecationWarning: Creating an ndarray from ragged nested sequences (which is a list-or-tuple of lists-or-tuples-or ndarrays with different lengths or shapes) is deprecated. If you meant to do this, you must specify 'dtype=object' when creating the ndarray.\n",
      "  values = np.array([convert(v) for v in values])\n"
     ]
    },
    {
     "name": "stdout",
     "output_type": "stream",
     "text": [
      "194\n"
     ]
    },
    {
     "name": "stderr",
     "output_type": "stream",
     "text": [
      "  6%|████▏                                                                    | 305/5337 [2:32:10<108:50:08, 77.86s/it]C:\\Users\\duPar\\Anaconda3\\envs\\oasis\\lib\\site-packages\\pandas\\core\\internals\\construction.py:576: VisibleDeprecationWarning: Creating an ndarray from ragged nested sequences (which is a list-or-tuple of lists-or-tuples-or ndarrays with different lengths or shapes) is deprecated. If you meant to do this, you must specify 'dtype=object' when creating the ndarray.\n",
      "  values = np.array([convert(v) for v in values])\n",
      "  6%|████▏                                                                    | 306/5337 [2:33:32<110:40:53, 79.20s/it]C:\\Users\\duPar\\Anaconda3\\envs\\oasis\\lib\\site-packages\\pandas\\core\\internals\\construction.py:576: VisibleDeprecationWarning: Creating an ndarray from ragged nested sequences (which is a list-or-tuple of lists-or-tuples-or ndarrays with different lengths or shapes) is deprecated. If you meant to do this, you must specify 'dtype=object' when creating the ndarray.\n",
      "  values = np.array([convert(v) for v in values])\n"
     ]
    },
    {
     "name": "stdout",
     "output_type": "stream",
     "text": [
      "187\n"
     ]
    },
    {
     "name": "stderr",
     "output_type": "stream",
     "text": [
      "  6%|████▏                                                                    | 307/5337 [2:34:53<111:27:21, 79.77s/it]C:\\Users\\duPar\\Anaconda3\\envs\\oasis\\lib\\site-packages\\pandas\\core\\internals\\construction.py:576: VisibleDeprecationWarning: Creating an ndarray from ragged nested sequences (which is a list-or-tuple of lists-or-tuples-or ndarrays with different lengths or shapes) is deprecated. If you meant to do this, you must specify 'dtype=object' when creating the ndarray.\n",
      "  values = np.array([convert(v) for v in values])\n"
     ]
    },
    {
     "name": "stdout",
     "output_type": "stream",
     "text": [
      "410\n"
     ]
    },
    {
     "name": "stderr",
     "output_type": "stream",
     "text": [
      "  6%|████▏                                                                    | 308/5337 [2:36:14<111:57:39, 80.15s/it]C:\\Users\\duPar\\Anaconda3\\envs\\oasis\\lib\\site-packages\\pandas\\core\\internals\\construction.py:576: VisibleDeprecationWarning: Creating an ndarray from ragged nested sequences (which is a list-or-tuple of lists-or-tuples-or ndarrays with different lengths or shapes) is deprecated. If you meant to do this, you must specify 'dtype=object' when creating the ndarray.\n",
      "  values = np.array([convert(v) for v in values])\n"
     ]
    },
    {
     "name": "stdout",
     "output_type": "stream",
     "text": [
      "1\n",
      "4\n",
      "14\n",
      "31\n",
      "76\n",
      "296\n"
     ]
    },
    {
     "name": "stderr",
     "output_type": "stream",
     "text": [
      "  6%|████▏                                                                    | 309/5337 [2:37:36<112:50:29, 80.79s/it]C:\\Users\\duPar\\Anaconda3\\envs\\oasis\\lib\\site-packages\\pandas\\core\\internals\\construction.py:576: VisibleDeprecationWarning: Creating an ndarray from ragged nested sequences (which is a list-or-tuple of lists-or-tuples-or ndarrays with different lengths or shapes) is deprecated. If you meant to do this, you must specify 'dtype=object' when creating the ndarray.\n",
      "  values = np.array([convert(v) for v in values])\n"
     ]
    },
    {
     "name": "stdout",
     "output_type": "stream",
     "text": [
      "9\n",
      "30\n",
      "83\n"
     ]
    },
    {
     "name": "stderr",
     "output_type": "stream",
     "text": [
      "  6%|████▏                                                                    | 310/5337 [2:38:58<113:18:44, 81.15s/it]C:\\Users\\duPar\\Anaconda3\\envs\\oasis\\lib\\site-packages\\pandas\\core\\internals\\construction.py:576: VisibleDeprecationWarning: Creating an ndarray from ragged nested sequences (which is a list-or-tuple of lists-or-tuples-or ndarrays with different lengths or shapes) is deprecated. If you meant to do this, you must specify 'dtype=object' when creating the ndarray.\n",
      "  values = np.array([convert(v) for v in values])\n"
     ]
    },
    {
     "name": "stdout",
     "output_type": "stream",
     "text": [
      "51\n"
     ]
    },
    {
     "name": "stderr",
     "output_type": "stream",
     "text": [
      "  6%|████▎                                                                    | 311/5337 [2:40:21<114:04:39, 81.71s/it]C:\\Users\\duPar\\Anaconda3\\envs\\oasis\\lib\\site-packages\\pandas\\core\\internals\\construction.py:576: VisibleDeprecationWarning: Creating an ndarray from ragged nested sequences (which is a list-or-tuple of lists-or-tuples-or ndarrays with different lengths or shapes) is deprecated. If you meant to do this, you must specify 'dtype=object' when creating the ndarray.\n",
      "  values = np.array([convert(v) for v in values])\n",
      "  6%|████▎                                                                    | 312/5337 [2:41:44<114:28:41, 82.01s/it]C:\\Users\\duPar\\Anaconda3\\envs\\oasis\\lib\\site-packages\\pandas\\core\\internals\\construction.py:576: VisibleDeprecationWarning: Creating an ndarray from ragged nested sequences (which is a list-or-tuple of lists-or-tuples-or ndarrays with different lengths or shapes) is deprecated. If you meant to do this, you must specify 'dtype=object' when creating the ndarray.\n",
      "  values = np.array([convert(v) for v in values])\n"
     ]
    },
    {
     "name": "stdout",
     "output_type": "stream",
     "text": [
      "235\n"
     ]
    },
    {
     "name": "stderr",
     "output_type": "stream",
     "text": [
      "  6%|████▎                                                                    | 313/5337 [2:43:10<115:53:48, 83.05s/it]C:\\Users\\duPar\\Anaconda3\\envs\\oasis\\lib\\site-packages\\pandas\\core\\internals\\construction.py:576: VisibleDeprecationWarning: Creating an ndarray from ragged nested sequences (which is a list-or-tuple of lists-or-tuples-or ndarrays with different lengths or shapes) is deprecated. If you meant to do this, you must specify 'dtype=object' when creating the ndarray.\n",
      "  values = np.array([convert(v) for v in values])\n"
     ]
    },
    {
     "name": "stdout",
     "output_type": "stream",
     "text": [
      "36\n",
      "73\n",
      "157\n",
      "365\n"
     ]
    },
    {
     "name": "stderr",
     "output_type": "stream",
     "text": [
      "  6%|████▎                                                                    | 314/5337 [2:44:33<115:54:13, 83.07s/it]C:\\Users\\duPar\\Anaconda3\\envs\\oasis\\lib\\site-packages\\pandas\\core\\internals\\construction.py:576: VisibleDeprecationWarning: Creating an ndarray from ragged nested sequences (which is a list-or-tuple of lists-or-tuples-or ndarrays with different lengths or shapes) is deprecated. If you meant to do this, you must specify 'dtype=object' when creating the ndarray.\n",
      "  values = np.array([convert(v) for v in values])\n",
      "  6%|████▎                                                                    | 315/5337 [2:45:57<116:24:08, 83.44s/it]C:\\Users\\duPar\\Anaconda3\\envs\\oasis\\lib\\site-packages\\pandas\\core\\internals\\construction.py:576: VisibleDeprecationWarning: Creating an ndarray from ragged nested sequences (which is a list-or-tuple of lists-or-tuples-or ndarrays with different lengths or shapes) is deprecated. If you meant to do this, you must specify 'dtype=object' when creating the ndarray.\n",
      "  values = np.array([convert(v) for v in values])\n",
      "  6%|████▎                                                                    | 316/5337 [2:47:22<116:53:18, 83.81s/it]C:\\Users\\duPar\\Anaconda3\\envs\\oasis\\lib\\site-packages\\pandas\\core\\internals\\construction.py:576: VisibleDeprecationWarning: Creating an ndarray from ragged nested sequences (which is a list-or-tuple of lists-or-tuples-or ndarrays with different lengths or shapes) is deprecated. If you meant to do this, you must specify 'dtype=object' when creating the ndarray.\n",
      "  values = np.array([convert(v) for v in values])\n"
     ]
    },
    {
     "name": "stdout",
     "output_type": "stream",
     "text": [
      "341\n"
     ]
    },
    {
     "name": "stderr",
     "output_type": "stream",
     "text": [
      "  6%|████▎                                                                    | 317/5337 [2:48:47<117:23:52, 84.19s/it]C:\\Users\\duPar\\Anaconda3\\envs\\oasis\\lib\\site-packages\\pandas\\core\\internals\\construction.py:576: VisibleDeprecationWarning: Creating an ndarray from ragged nested sequences (which is a list-or-tuple of lists-or-tuples-or ndarrays with different lengths or shapes) is deprecated. If you meant to do this, you must specify 'dtype=object' when creating the ndarray.\n",
      "  values = np.array([convert(v) for v in values])\n"
     ]
    },
    {
     "name": "stdout",
     "output_type": "stream",
     "text": [
      "147\n"
     ]
    },
    {
     "name": "stderr",
     "output_type": "stream",
     "text": [
      "  6%|████▎                                                                    | 318/5337 [2:50:13<118:00:45, 84.65s/it]C:\\Users\\duPar\\Anaconda3\\envs\\oasis\\lib\\site-packages\\pandas\\core\\internals\\construction.py:576: VisibleDeprecationWarning: Creating an ndarray from ragged nested sequences (which is a list-or-tuple of lists-or-tuples-or ndarrays with different lengths or shapes) is deprecated. If you meant to do this, you must specify 'dtype=object' when creating the ndarray.\n",
      "  values = np.array([convert(v) for v in values])\n",
      "  6%|████▎                                                                    | 319/5337 [2:51:40<118:59:54, 85.37s/it]C:\\Users\\duPar\\Anaconda3\\envs\\oasis\\lib\\site-packages\\pandas\\core\\internals\\construction.py:576: VisibleDeprecationWarning: Creating an ndarray from ragged nested sequences (which is a list-or-tuple of lists-or-tuples-or ndarrays with different lengths or shapes) is deprecated. If you meant to do this, you must specify 'dtype=object' when creating the ndarray.\n",
      "  values = np.array([convert(v) for v in values])\n"
     ]
    },
    {
     "name": "stdout",
     "output_type": "stream",
     "text": [
      "47\n",
      "90\n",
      "440\n"
     ]
    },
    {
     "name": "stderr",
     "output_type": "stream",
     "text": [
      "  6%|████▍                                                                    | 320/5337 [2:53:05<118:54:57, 85.33s/it]C:\\Users\\duPar\\Anaconda3\\envs\\oasis\\lib\\site-packages\\pandas\\core\\internals\\construction.py:576: VisibleDeprecationWarning: Creating an ndarray from ragged nested sequences (which is a list-or-tuple of lists-or-tuples-or ndarrays with different lengths or shapes) is deprecated. If you meant to do this, you must specify 'dtype=object' when creating the ndarray.\n",
      "  values = np.array([convert(v) for v in values])\n"
     ]
    },
    {
     "name": "stdout",
     "output_type": "stream",
     "text": [
      "125\n",
      "365\n",
      "496\n"
     ]
    },
    {
     "name": "stderr",
     "output_type": "stream",
     "text": [
      "  6%|████▍                                                                    | 321/5337 [2:54:32<119:42:50, 85.92s/it]C:\\Users\\duPar\\Anaconda3\\envs\\oasis\\lib\\site-packages\\pandas\\core\\internals\\construction.py:576: VisibleDeprecationWarning: Creating an ndarray from ragged nested sequences (which is a list-or-tuple of lists-or-tuples-or ndarrays with different lengths or shapes) is deprecated. If you meant to do this, you must specify 'dtype=object' when creating the ndarray.\n",
      "  values = np.array([convert(v) for v in values])\n"
     ]
    },
    {
     "name": "stdout",
     "output_type": "stream",
     "text": [
      "194\n",
      "432\n",
      "446\n",
      "456\n",
      "463\n",
      "471\n",
      "491\n",
      "497\n"
     ]
    },
    {
     "name": "stderr",
     "output_type": "stream",
     "text": [
      "  6%|████▍                                                                    | 322/5337 [2:55:58<119:34:29, 85.84s/it]"
     ]
    },
    {
     "name": "stdout",
     "output_type": "stream",
     "text": [
      "500\n"
     ]
    },
    {
     "name": "stderr",
     "output_type": "stream",
     "text": [
      "C:\\Users\\duPar\\Anaconda3\\envs\\oasis\\lib\\site-packages\\pandas\\core\\internals\\construction.py:576: VisibleDeprecationWarning: Creating an ndarray from ragged nested sequences (which is a list-or-tuple of lists-or-tuples-or ndarrays with different lengths or shapes) is deprecated. If you meant to do this, you must specify 'dtype=object' when creating the ndarray.\n",
      "  values = np.array([convert(v) for v in values])\n"
     ]
    },
    {
     "name": "stdout",
     "output_type": "stream",
     "text": [
      "62\n"
     ]
    },
    {
     "name": "stderr",
     "output_type": "stream",
     "text": [
      "  6%|████▍                                                                    | 323/5337 [2:57:24<119:51:25, 86.06s/it]C:\\Users\\duPar\\Anaconda3\\envs\\oasis\\lib\\site-packages\\pandas\\core\\internals\\construction.py:576: VisibleDeprecationWarning: Creating an ndarray from ragged nested sequences (which is a list-or-tuple of lists-or-tuples-or ndarrays with different lengths or shapes) is deprecated. If you meant to do this, you must specify 'dtype=object' when creating the ndarray.\n",
      "  values = np.array([convert(v) for v in values])\n",
      "  6%|████▍                                                                    | 324/5337 [2:58:52<120:32:14, 86.56s/it]C:\\Users\\duPar\\Anaconda3\\envs\\oasis\\lib\\site-packages\\pandas\\core\\internals\\construction.py:576: VisibleDeprecationWarning: Creating an ndarray from ragged nested sequences (which is a list-or-tuple of lists-or-tuples-or ndarrays with different lengths or shapes) is deprecated. If you meant to do this, you must specify 'dtype=object' when creating the ndarray.\n",
      "  values = np.array([convert(v) for v in values])\n"
     ]
    },
    {
     "name": "stdout",
     "output_type": "stream",
     "text": [
      "220\n"
     ]
    },
    {
     "name": "stderr",
     "output_type": "stream",
     "text": [
      "  6%|████▍                                                                    | 325/5337 [2:59:47<107:18:42, 77.08s/it]C:\\Users\\duPar\\Anaconda3\\envs\\oasis\\lib\\site-packages\\pandas\\core\\internals\\construction.py:576: VisibleDeprecationWarning: Creating an ndarray from ragged nested sequences (which is a list-or-tuple of lists-or-tuples-or ndarrays with different lengths or shapes) is deprecated. If you meant to do this, you must specify 'dtype=object' when creating the ndarray.\n",
      "  values = np.array([convert(v) for v in values])\n"
     ]
    },
    {
     "name": "stdout",
     "output_type": "stream",
     "text": [
      "61\n",
      "80\n",
      "138\n",
      "166\n"
     ]
    },
    {
     "name": "stderr",
     "output_type": "stream",
     "text": [
      "  6%|████▍                                                                    | 326/5337 [3:01:14<111:30:23, 80.11s/it]C:\\Users\\duPar\\Anaconda3\\envs\\oasis\\lib\\site-packages\\pandas\\core\\internals\\construction.py:576: VisibleDeprecationWarning: Creating an ndarray from ragged nested sequences (which is a list-or-tuple of lists-or-tuples-or ndarrays with different lengths or shapes) is deprecated. If you meant to do this, you must specify 'dtype=object' when creating the ndarray.\n",
      "  values = np.array([convert(v) for v in values])\n"
     ]
    },
    {
     "name": "stdout",
     "output_type": "stream",
     "text": [
      "1\n"
     ]
    },
    {
     "name": "stderr",
     "output_type": "stream",
     "text": [
      "  6%|████▍                                                                    | 327/5337 [3:02:42<114:50:17, 82.52s/it]"
     ]
    },
    {
     "name": "stdout",
     "output_type": "stream",
     "text": [
      "500\n"
     ]
    },
    {
     "name": "stderr",
     "output_type": "stream",
     "text": [
      "C:\\Users\\duPar\\Anaconda3\\envs\\oasis\\lib\\site-packages\\pandas\\core\\internals\\construction.py:576: VisibleDeprecationWarning: Creating an ndarray from ragged nested sequences (which is a list-or-tuple of lists-or-tuples-or ndarrays with different lengths or shapes) is deprecated. If you meant to do this, you must specify 'dtype=object' when creating the ndarray.\n",
      "  values = np.array([convert(v) for v in values])\n"
     ]
    },
    {
     "name": "stdout",
     "output_type": "stream",
     "text": [
      "57\n",
      "115\n"
     ]
    },
    {
     "name": "stderr",
     "output_type": "stream",
     "text": [
      "  6%|████▍                                                                    | 328/5337 [3:04:11<117:18:00, 84.30s/it]C:\\Users\\duPar\\Anaconda3\\envs\\oasis\\lib\\site-packages\\pandas\\core\\internals\\construction.py:576: VisibleDeprecationWarning: Creating an ndarray from ragged nested sequences (which is a list-or-tuple of lists-or-tuples-or ndarrays with different lengths or shapes) is deprecated. If you meant to do this, you must specify 'dtype=object' when creating the ndarray.\n",
      "  values = np.array([convert(v) for v in values])\n"
     ]
    },
    {
     "name": "stdout",
     "output_type": "stream",
     "text": [
      "15\n",
      "354\n",
      "370\n",
      "371\n",
      "447\n"
     ]
    },
    {
     "name": "stderr",
     "output_type": "stream",
     "text": [
      "  6%|████▌                                                                    | 329/5337 [3:05:39<118:42:04, 85.33s/it]C:\\Users\\duPar\\Anaconda3\\envs\\oasis\\lib\\site-packages\\pandas\\core\\internals\\construction.py:576: VisibleDeprecationWarning: Creating an ndarray from ragged nested sequences (which is a list-or-tuple of lists-or-tuples-or ndarrays with different lengths or shapes) is deprecated. If you meant to do this, you must specify 'dtype=object' when creating the ndarray.\n",
      "  values = np.array([convert(v) for v in values])\n",
      "  6%|████▌                                                                    | 330/5337 [3:07:07<120:05:36, 86.35s/it]C:\\Users\\duPar\\Anaconda3\\envs\\oasis\\lib\\site-packages\\pandas\\core\\internals\\construction.py:576: VisibleDeprecationWarning: Creating an ndarray from ragged nested sequences (which is a list-or-tuple of lists-or-tuples-or ndarrays with different lengths or shapes) is deprecated. If you meant to do this, you must specify 'dtype=object' when creating the ndarray.\n",
      "  values = np.array([convert(v) for v in values])\n",
      "  6%|████▌                                                                     | 332/5337 [3:08:38<85:19:16, 61.37s/it]C:\\Users\\duPar\\Anaconda3\\envs\\oasis\\lib\\site-packages\\pandas\\core\\internals\\construction.py:576: VisibleDeprecationWarning: Creating an ndarray from ragged nested sequences (which is a list-or-tuple of lists-or-tuples-or ndarrays with different lengths or shapes) is deprecated. If you meant to do this, you must specify 'dtype=object' when creating the ndarray.\n",
      "  values = np.array([convert(v) for v in values])\n",
      "  6%|████▌                                                                     | 333/5337 [3:10:07<97:00:55, 69.80s/it]C:\\Users\\duPar\\Anaconda3\\envs\\oasis\\lib\\site-packages\\pandas\\core\\internals\\construction.py:576: VisibleDeprecationWarning: Creating an ndarray from ragged nested sequences (which is a list-or-tuple of lists-or-tuples-or ndarrays with different lengths or shapes) is deprecated. If you meant to do this, you must specify 'dtype=object' when creating the ndarray.\n",
      "  values = np.array([convert(v) for v in values])\n"
     ]
    },
    {
     "name": "stdout",
     "output_type": "stream",
     "text": [
      "17\n"
     ]
    },
    {
     "name": "stderr",
     "output_type": "stream",
     "text": [
      "  6%|████▌                                                                    | 334/5337 [3:11:37<105:23:57, 75.84s/it]C:\\Users\\duPar\\Anaconda3\\envs\\oasis\\lib\\site-packages\\pandas\\core\\internals\\construction.py:576: VisibleDeprecationWarning: Creating an ndarray from ragged nested sequences (which is a list-or-tuple of lists-or-tuples-or ndarrays with different lengths or shapes) is deprecated. If you meant to do this, you must specify 'dtype=object' when creating the ndarray.\n",
      "  values = np.array([convert(v) for v in values])\n",
      "  6%|████▌                                                                    | 335/5337 [3:13:08<111:25:31, 80.19s/it]C:\\Users\\duPar\\Anaconda3\\envs\\oasis\\lib\\site-packages\\pandas\\core\\internals\\construction.py:576: VisibleDeprecationWarning: Creating an ndarray from ragged nested sequences (which is a list-or-tuple of lists-or-tuples-or ndarrays with different lengths or shapes) is deprecated. If you meant to do this, you must specify 'dtype=object' when creating the ndarray.\n",
      "  values = np.array([convert(v) for v in values])\n"
     ]
    },
    {
     "name": "stdout",
     "output_type": "stream",
     "text": [
      "288\n"
     ]
    },
    {
     "name": "stderr",
     "output_type": "stream",
     "text": [
      "  6%|████▌                                                                    | 336/5337 [3:14:38<115:34:22, 83.20s/it]C:\\Users\\duPar\\Anaconda3\\envs\\oasis\\lib\\site-packages\\pandas\\core\\internals\\construction.py:576: VisibleDeprecationWarning: Creating an ndarray from ragged nested sequences (which is a list-or-tuple of lists-or-tuples-or ndarrays with different lengths or shapes) is deprecated. If you meant to do this, you must specify 'dtype=object' when creating the ndarray.\n",
      "  values = np.array([convert(v) for v in values])\n",
      "  6%|████▌                                                                    | 337/5337 [3:16:10<119:09:10, 85.79s/it]C:\\Users\\duPar\\Anaconda3\\envs\\oasis\\lib\\site-packages\\pandas\\core\\internals\\construction.py:576: VisibleDeprecationWarning: Creating an ndarray from ragged nested sequences (which is a list-or-tuple of lists-or-tuples-or ndarrays with different lengths or shapes) is deprecated. If you meant to do this, you must specify 'dtype=object' when creating the ndarray.\n",
      "  values = np.array([convert(v) for v in values])\n"
     ]
    },
    {
     "name": "stdout",
     "output_type": "stream",
     "text": [
      "14\n",
      "384\n"
     ]
    },
    {
     "name": "stderr",
     "output_type": "stream",
     "text": [
      "  6%|████▌                                                                    | 338/5337 [3:17:39<120:46:01, 86.97s/it]C:\\Users\\duPar\\Anaconda3\\envs\\oasis\\lib\\site-packages\\pandas\\core\\internals\\construction.py:576: VisibleDeprecationWarning: Creating an ndarray from ragged nested sequences (which is a list-or-tuple of lists-or-tuples-or ndarrays with different lengths or shapes) is deprecated. If you meant to do this, you must specify 'dtype=object' when creating the ndarray.\n",
      "  values = np.array([convert(v) for v in values])\n"
     ]
    },
    {
     "name": "stdout",
     "output_type": "stream",
     "text": [
      "177\n",
      "182\n"
     ]
    },
    {
     "name": "stderr",
     "output_type": "stream",
     "text": [
      "  6%|████▋                                                                    | 339/5337 [3:19:11<122:35:57, 88.31s/it]C:\\Users\\duPar\\Anaconda3\\envs\\oasis\\lib\\site-packages\\pandas\\core\\internals\\construction.py:576: VisibleDeprecationWarning: Creating an ndarray from ragged nested sequences (which is a list-or-tuple of lists-or-tuples-or ndarrays with different lengths or shapes) is deprecated. If you meant to do this, you must specify 'dtype=object' when creating the ndarray.\n",
      "  values = np.array([convert(v) for v in values])\n"
     ]
    },
    {
     "name": "stdout",
     "output_type": "stream",
     "text": [
      "1\n"
     ]
    },
    {
     "name": "stderr",
     "output_type": "stream",
     "text": [
      "  6%|████▋                                                                    | 340/5337 [3:20:58<130:36:32, 94.09s/it]C:\\Users\\duPar\\Anaconda3\\envs\\oasis\\lib\\site-packages\\pandas\\core\\internals\\construction.py:576: VisibleDeprecationWarning: Creating an ndarray from ragged nested sequences (which is a list-or-tuple of lists-or-tuples-or ndarrays with different lengths or shapes) is deprecated. If you meant to do this, you must specify 'dtype=object' when creating the ndarray.\n",
      "  values = np.array([convert(v) for v in values])\n"
     ]
    },
    {
     "name": "stdout",
     "output_type": "stream",
     "text": [
      "442\n"
     ]
    },
    {
     "name": "stderr",
     "output_type": "stream",
     "text": [
      "  6%|████▋                                                                    | 341/5337 [3:22:30<129:42:20, 93.46s/it]C:\\Users\\duPar\\Anaconda3\\envs\\oasis\\lib\\site-packages\\pandas\\core\\internals\\construction.py:576: VisibleDeprecationWarning: Creating an ndarray from ragged nested sequences (which is a list-or-tuple of lists-or-tuples-or ndarrays with different lengths or shapes) is deprecated. If you meant to do this, you must specify 'dtype=object' when creating the ndarray.\n",
      "  values = np.array([convert(v) for v in values])\n",
      "  6%|████▋                                                                    | 342/5337 [3:24:04<129:38:36, 93.44s/it]C:\\Users\\duPar\\Anaconda3\\envs\\oasis\\lib\\site-packages\\pandas\\core\\internals\\construction.py:576: VisibleDeprecationWarning: Creating an ndarray from ragged nested sequences (which is a list-or-tuple of lists-or-tuples-or ndarrays with different lengths or shapes) is deprecated. If you meant to do this, you must specify 'dtype=object' when creating the ndarray.\n",
      "  values = np.array([convert(v) for v in values])\n"
     ]
    },
    {
     "name": "stdout",
     "output_type": "stream",
     "text": [
      "174\n",
      "286\n"
     ]
    },
    {
     "name": "stderr",
     "output_type": "stream",
     "text": [
      "  6%|████▋                                                                    | 343/5337 [3:25:37<129:30:13, 93.35s/it]C:\\Users\\duPar\\Anaconda3\\envs\\oasis\\lib\\site-packages\\pandas\\core\\internals\\construction.py:576: VisibleDeprecationWarning: Creating an ndarray from ragged nested sequences (which is a list-or-tuple of lists-or-tuples-or ndarrays with different lengths or shapes) is deprecated. If you meant to do this, you must specify 'dtype=object' when creating the ndarray.\n",
      "  values = np.array([convert(v) for v in values])\n",
      "  6%|████▋                                                                    | 344/5337 [3:27:11<129:37:31, 93.46s/it]C:\\Users\\duPar\\Anaconda3\\envs\\oasis\\lib\\site-packages\\pandas\\core\\internals\\construction.py:576: VisibleDeprecationWarning: Creating an ndarray from ragged nested sequences (which is a list-or-tuple of lists-or-tuples-or ndarrays with different lengths or shapes) is deprecated. If you meant to do this, you must specify 'dtype=object' when creating the ndarray.\n",
      "  values = np.array([convert(v) for v in values])\n",
      "  6%|████▋                                                                    | 345/5337 [3:28:45<129:53:46, 93.68s/it]C:\\Users\\duPar\\Anaconda3\\envs\\oasis\\lib\\site-packages\\pandas\\core\\internals\\construction.py:576: VisibleDeprecationWarning: Creating an ndarray from ragged nested sequences (which is a list-or-tuple of lists-or-tuples-or ndarrays with different lengths or shapes) is deprecated. If you meant to do this, you must specify 'dtype=object' when creating the ndarray.\n",
      "  values = np.array([convert(v) for v in values])\n",
      "  6%|████▋                                                                    | 346/5337 [3:30:19<130:16:20, 93.97s/it]C:\\Users\\duPar\\Anaconda3\\envs\\oasis\\lib\\site-packages\\pandas\\core\\internals\\construction.py:576: VisibleDeprecationWarning: Creating an ndarray from ragged nested sequences (which is a list-or-tuple of lists-or-tuples-or ndarrays with different lengths or shapes) is deprecated. If you meant to do this, you must specify 'dtype=object' when creating the ndarray.\n",
      "  values = np.array([convert(v) for v in values])\n",
      "  7%|████▋                                                                    | 347/5337 [3:31:55<130:58:58, 94.50s/it]C:\\Users\\duPar\\Anaconda3\\envs\\oasis\\lib\\site-packages\\pandas\\core\\internals\\construction.py:576: VisibleDeprecationWarning: Creating an ndarray from ragged nested sequences (which is a list-or-tuple of lists-or-tuples-or ndarrays with different lengths or shapes) is deprecated. If you meant to do this, you must specify 'dtype=object' when creating the ndarray.\n",
      "  values = np.array([convert(v) for v in values])\n",
      "  7%|████▊                                                                    | 348/5337 [3:33:30<131:17:49, 94.74s/it]C:\\Users\\duPar\\Anaconda3\\envs\\oasis\\lib\\site-packages\\pandas\\core\\internals\\construction.py:576: VisibleDeprecationWarning: Creating an ndarray from ragged nested sequences (which is a list-or-tuple of lists-or-tuples-or ndarrays with different lengths or shapes) is deprecated. If you meant to do this, you must specify 'dtype=object' when creating the ndarray.\n",
      "  values = np.array([convert(v) for v in values])\n",
      "  7%|████▊                                                                    | 349/5337 [3:35:06<131:36:34, 94.99s/it]C:\\Users\\duPar\\Anaconda3\\envs\\oasis\\lib\\site-packages\\pandas\\core\\internals\\construction.py:576: VisibleDeprecationWarning: Creating an ndarray from ragged nested sequences (which is a list-or-tuple of lists-or-tuples-or ndarrays with different lengths or shapes) is deprecated. If you meant to do this, you must specify 'dtype=object' when creating the ndarray.\n",
      "  values = np.array([convert(v) for v in values])\n",
      "  7%|████▊                                                                    | 350/5337 [3:36:42<132:03:44, 95.33s/it]C:\\Users\\duPar\\Anaconda3\\envs\\oasis\\lib\\site-packages\\pandas\\core\\internals\\construction.py:576: VisibleDeprecationWarning: Creating an ndarray from ragged nested sequences (which is a list-or-tuple of lists-or-tuples-or ndarrays with different lengths or shapes) is deprecated. If you meant to do this, you must specify 'dtype=object' when creating the ndarray.\n",
      "  values = np.array([convert(v) for v in values])\n",
      "  7%|████▊                                                                    | 351/5337 [3:38:20<132:55:14, 95.97s/it]C:\\Users\\duPar\\Anaconda3\\envs\\oasis\\lib\\site-packages\\pandas\\core\\internals\\construction.py:576: VisibleDeprecationWarning: Creating an ndarray from ragged nested sequences (which is a list-or-tuple of lists-or-tuples-or ndarrays with different lengths or shapes) is deprecated. If you meant to do this, you must specify 'dtype=object' when creating the ndarray.\n",
      "  values = np.array([convert(v) for v in values])\n"
     ]
    },
    {
     "name": "stdout",
     "output_type": "stream",
     "text": [
      "445\n"
     ]
    },
    {
     "name": "stderr",
     "output_type": "stream",
     "text": [
      "  7%|████▊                                                                    | 352/5337 [3:39:56<133:01:34, 96.07s/it]C:\\Users\\duPar\\Anaconda3\\envs\\oasis\\lib\\site-packages\\pandas\\core\\internals\\construction.py:576: VisibleDeprecationWarning: Creating an ndarray from ragged nested sequences (which is a list-or-tuple of lists-or-tuples-or ndarrays with different lengths or shapes) is deprecated. If you meant to do this, you must specify 'dtype=object' when creating the ndarray.\n",
      "  values = np.array([convert(v) for v in values])\n",
      "  7%|████▊                                                                    | 353/5337 [3:41:33<133:25:07, 96.37s/it]C:\\Users\\duPar\\Anaconda3\\envs\\oasis\\lib\\site-packages\\pandas\\core\\internals\\construction.py:576: VisibleDeprecationWarning: Creating an ndarray from ragged nested sequences (which is a list-or-tuple of lists-or-tuples-or ndarrays with different lengths or shapes) is deprecated. If you meant to do this, you must specify 'dtype=object' when creating the ndarray.\n",
      "  values = np.array([convert(v) for v in values])\n"
     ]
    },
    {
     "name": "stdout",
     "output_type": "stream",
     "text": [
      "284\n"
     ]
    },
    {
     "name": "stderr",
     "output_type": "stream",
     "text": [
      "  7%|████▊                                                                    | 354/5337 [3:43:10<133:51:32, 96.71s/it]C:\\Users\\duPar\\Anaconda3\\envs\\oasis\\lib\\site-packages\\pandas\\core\\internals\\construction.py:576: VisibleDeprecationWarning: Creating an ndarray from ragged nested sequences (which is a list-or-tuple of lists-or-tuples-or ndarrays with different lengths or shapes) is deprecated. If you meant to do this, you must specify 'dtype=object' when creating the ndarray.\n",
      "  values = np.array([convert(v) for v in values])\n"
     ]
    },
    {
     "name": "stdout",
     "output_type": "stream",
     "text": [
      "489\n"
     ]
    },
    {
     "name": "stderr",
     "output_type": "stream",
     "text": [
      "  7%|████▊                                                                    | 355/5337 [3:44:49<134:28:38, 97.17s/it]C:\\Users\\duPar\\Anaconda3\\envs\\oasis\\lib\\site-packages\\pandas\\core\\internals\\construction.py:576: VisibleDeprecationWarning: Creating an ndarray from ragged nested sequences (which is a list-or-tuple of lists-or-tuples-or ndarrays with different lengths or shapes) is deprecated. If you meant to do this, you must specify 'dtype=object' when creating the ndarray.\n",
      "  values = np.array([convert(v) for v in values])\n",
      "  7%|████▊                                                                    | 356/5337 [3:46:30<135:57:40, 98.27s/it]C:\\Users\\duPar\\Anaconda3\\envs\\oasis\\lib\\site-packages\\pandas\\core\\internals\\construction.py:576: VisibleDeprecationWarning: Creating an ndarray from ragged nested sequences (which is a list-or-tuple of lists-or-tuples-or ndarrays with different lengths or shapes) is deprecated. If you meant to do this, you must specify 'dtype=object' when creating the ndarray.\n",
      "  values = np.array([convert(v) for v in values])\n",
      "  7%|████▉                                                                    | 357/5337 [3:48:08<135:55:41, 98.26s/it]C:\\Users\\duPar\\Anaconda3\\envs\\oasis\\lib\\site-packages\\pandas\\core\\internals\\construction.py:576: VisibleDeprecationWarning: Creating an ndarray from ragged nested sequences (which is a list-or-tuple of lists-or-tuples-or ndarrays with different lengths or shapes) is deprecated. If you meant to do this, you must specify 'dtype=object' when creating the ndarray.\n",
      "  values = np.array([convert(v) for v in values])\n"
     ]
    },
    {
     "name": "stdout",
     "output_type": "stream",
     "text": [
      "328\n",
      "404\n"
     ]
    },
    {
     "name": "stderr",
     "output_type": "stream",
     "text": [
      "  7%|████▉                                                                    | 358/5337 [3:49:47<136:08:18, 98.43s/it]C:\\Users\\duPar\\Anaconda3\\envs\\oasis\\lib\\site-packages\\pandas\\core\\internals\\construction.py:576: VisibleDeprecationWarning: Creating an ndarray from ragged nested sequences (which is a list-or-tuple of lists-or-tuples-or ndarrays with different lengths or shapes) is deprecated. If you meant to do this, you must specify 'dtype=object' when creating the ndarray.\n",
      "  values = np.array([convert(v) for v in values])\n",
      "  7%|████▉                                                                    | 359/5337 [3:51:26<136:33:12, 98.75s/it]C:\\Users\\duPar\\Anaconda3\\envs\\oasis\\lib\\site-packages\\pandas\\core\\internals\\construction.py:576: VisibleDeprecationWarning: Creating an ndarray from ragged nested sequences (which is a list-or-tuple of lists-or-tuples-or ndarrays with different lengths or shapes) is deprecated. If you meant to do this, you must specify 'dtype=object' when creating the ndarray.\n",
      "  values = np.array([convert(v) for v in values])\n",
      "  7%|████▉                                                                    | 360/5337 [3:53:06<136:54:52, 99.03s/it]C:\\Users\\duPar\\Anaconda3\\envs\\oasis\\lib\\site-packages\\pandas\\core\\internals\\construction.py:576: VisibleDeprecationWarning: Creating an ndarray from ragged nested sequences (which is a list-or-tuple of lists-or-tuples-or ndarrays with different lengths or shapes) is deprecated. If you meant to do this, you must specify 'dtype=object' when creating the ndarray.\n",
      "  values = np.array([convert(v) for v in values])\n"
     ]
    },
    {
     "name": "stdout",
     "output_type": "stream",
     "text": [
      "415\n"
     ]
    },
    {
     "name": "stderr",
     "output_type": "stream",
     "text": [
      "  7%|████▉                                                                    | 361/5337 [3:54:46<137:26:53, 99.44s/it]C:\\Users\\duPar\\Anaconda3\\envs\\oasis\\lib\\site-packages\\pandas\\core\\internals\\construction.py:576: VisibleDeprecationWarning: Creating an ndarray from ragged nested sequences (which is a list-or-tuple of lists-or-tuples-or ndarrays with different lengths or shapes) is deprecated. If you meant to do this, you must specify 'dtype=object' when creating the ndarray.\n",
      "  values = np.array([convert(v) for v in values])\n"
     ]
    },
    {
     "name": "stdout",
     "output_type": "stream",
     "text": [
      "139\n"
     ]
    },
    {
     "name": "stderr",
     "output_type": "stream",
     "text": [
      "  7%|████▉                                                                    | 362/5337 [3:56:26<137:30:11, 99.50s/it]C:\\Users\\duPar\\Anaconda3\\envs\\oasis\\lib\\site-packages\\pandas\\core\\internals\\construction.py:576: VisibleDeprecationWarning: Creating an ndarray from ragged nested sequences (which is a list-or-tuple of lists-or-tuples-or ndarrays with different lengths or shapes) is deprecated. If you meant to do this, you must specify 'dtype=object' when creating the ndarray.\n",
      "  values = np.array([convert(v) for v in values])\n",
      "  7%|█████                                                                     | 364/5337 [3:58:07<96:49:20, 70.09s/it]C:\\Users\\duPar\\Anaconda3\\envs\\oasis\\lib\\site-packages\\pandas\\core\\internals\\construction.py:576: VisibleDeprecationWarning: Creating an ndarray from ragged nested sequences (which is a list-or-tuple of lists-or-tuples-or ndarrays with different lengths or shapes) is deprecated. If you meant to do this, you must specify 'dtype=object' when creating the ndarray.\n",
      "  values = np.array([convert(v) for v in values])\n",
      "  7%|████▉                                                                    | 365/5337 [3:59:49<109:43:53, 79.45s/it]C:\\Users\\duPar\\Anaconda3\\envs\\oasis\\lib\\site-packages\\pandas\\core\\internals\\construction.py:576: VisibleDeprecationWarning: Creating an ndarray from ragged nested sequences (which is a list-or-tuple of lists-or-tuples-or ndarrays with different lengths or shapes) is deprecated. If you meant to do this, you must specify 'dtype=object' when creating the ndarray.\n",
      "  values = np.array([convert(v) for v in values])\n"
     ]
    },
    {
     "name": "stdout",
     "output_type": "stream",
     "text": [
      "210\n",
      "332\n"
     ]
    },
    {
     "name": "stderr",
     "output_type": "stream",
     "text": [
      "  7%|█████                                                                    | 366/5337 [4:01:29<118:33:49, 85.86s/it]C:\\Users\\duPar\\Anaconda3\\envs\\oasis\\lib\\site-packages\\pandas\\core\\internals\\construction.py:576: VisibleDeprecationWarning: Creating an ndarray from ragged nested sequences (which is a list-or-tuple of lists-or-tuples-or ndarrays with different lengths or shapes) is deprecated. If you meant to do this, you must specify 'dtype=object' when creating the ndarray.\n",
      "  values = np.array([convert(v) for v in values])\n"
     ]
    },
    {
     "name": "stdout",
     "output_type": "stream",
     "text": [
      "16\n",
      "83\n",
      "167\n"
     ]
    },
    {
     "name": "stderr",
     "output_type": "stream",
     "text": [
      "  7%|█████                                                                    | 367/5337 [4:03:10<124:40:34, 90.31s/it]C:\\Users\\duPar\\Anaconda3\\envs\\oasis\\lib\\site-packages\\pandas\\core\\internals\\construction.py:576: VisibleDeprecationWarning: Creating an ndarray from ragged nested sequences (which is a list-or-tuple of lists-or-tuples-or ndarrays with different lengths or shapes) is deprecated. If you meant to do this, you must specify 'dtype=object' when creating the ndarray.\n",
      "  values = np.array([convert(v) for v in values])\n",
      "  7%|█████                                                                    | 368/5337 [4:04:52<129:40:19, 93.95s/it]C:\\Users\\duPar\\Anaconda3\\envs\\oasis\\lib\\site-packages\\pandas\\core\\internals\\construction.py:576: VisibleDeprecationWarning: Creating an ndarray from ragged nested sequences (which is a list-or-tuple of lists-or-tuples-or ndarrays with different lengths or shapes) is deprecated. If you meant to do this, you must specify 'dtype=object' when creating the ndarray.\n",
      "  values = np.array([convert(v) for v in values])\n",
      "  7%|█████                                                                    | 369/5337 [4:06:35<133:02:10, 96.40s/it]C:\\Users\\duPar\\Anaconda3\\envs\\oasis\\lib\\site-packages\\pandas\\core\\internals\\construction.py:576: VisibleDeprecationWarning: Creating an ndarray from ragged nested sequences (which is a list-or-tuple of lists-or-tuples-or ndarrays with different lengths or shapes) is deprecated. If you meant to do this, you must specify 'dtype=object' when creating the ndarray.\n",
      "  values = np.array([convert(v) for v in values])\n"
     ]
    },
    {
     "name": "stdout",
     "output_type": "stream",
     "text": [
      "460\n"
     ]
    },
    {
     "name": "stderr",
     "output_type": "stream",
     "text": [
      "  7%|█████                                                                    | 370/5337 [4:08:17<135:34:38, 98.26s/it]C:\\Users\\duPar\\Anaconda3\\envs\\oasis\\lib\\site-packages\\pandas\\core\\internals\\construction.py:576: VisibleDeprecationWarning: Creating an ndarray from ragged nested sequences (which is a list-or-tuple of lists-or-tuples-or ndarrays with different lengths or shapes) is deprecated. If you meant to do this, you must specify 'dtype=object' when creating the ndarray.\n",
      "  values = np.array([convert(v) for v in values])\n"
     ]
    },
    {
     "name": "stdout",
     "output_type": "stream",
     "text": [
      "84\n"
     ]
    },
    {
     "name": "stderr",
     "output_type": "stream",
     "text": [
      "  7%|█████                                                                    | 371/5337 [4:10:00<137:36:37, 99.76s/it]C:\\Users\\duPar\\Anaconda3\\envs\\oasis\\lib\\site-packages\\pandas\\core\\internals\\construction.py:576: VisibleDeprecationWarning: Creating an ndarray from ragged nested sequences (which is a list-or-tuple of lists-or-tuples-or ndarrays with different lengths or shapes) is deprecated. If you meant to do this, you must specify 'dtype=object' when creating the ndarray.\n",
      "  values = np.array([convert(v) for v in values])\n"
     ]
    },
    {
     "name": "stdout",
     "output_type": "stream",
     "text": [
      "7\n",
      "376\n",
      "378\n",
      "404\n",
      "408\n",
      "409\n",
      "414\n"
     ]
    },
    {
     "name": "stderr",
     "output_type": "stream",
     "text": [
      "  7%|█████                                                                    | 372/5337 [4:11:28<132:38:54, 96.18s/it]C:\\Users\\duPar\\Anaconda3\\envs\\oasis\\lib\\site-packages\\pandas\\core\\internals\\construction.py:576: VisibleDeprecationWarning: Creating an ndarray from ragged nested sequences (which is a list-or-tuple of lists-or-tuples-or ndarrays with different lengths or shapes) is deprecated. If you meant to do this, you must specify 'dtype=object' when creating the ndarray.\n",
      "  values = np.array([convert(v) for v in values])\n"
     ]
    },
    {
     "name": "stdout",
     "output_type": "stream",
     "text": [
      "1\n",
      "247\n"
     ]
    },
    {
     "name": "stderr",
     "output_type": "stream",
     "text": [
      "  7%|█████                                                                    | 373/5337 [4:13:12<135:35:12, 98.33s/it]C:\\Users\\duPar\\Anaconda3\\envs\\oasis\\lib\\site-packages\\pandas\\core\\internals\\construction.py:576: VisibleDeprecationWarning: Creating an ndarray from ragged nested sequences (which is a list-or-tuple of lists-or-tuples-or ndarrays with different lengths or shapes) is deprecated. If you meant to do this, you must specify 'dtype=object' when creating the ndarray.\n",
      "  values = np.array([convert(v) for v in values])\n",
      "  7%|█████                                                                   | 374/5337 [4:14:56<138:08:00, 100.20s/it]C:\\Users\\duPar\\Anaconda3\\envs\\oasis\\lib\\site-packages\\pandas\\core\\internals\\construction.py:576: VisibleDeprecationWarning: Creating an ndarray from ragged nested sequences (which is a list-or-tuple of lists-or-tuples-or ndarrays with different lengths or shapes) is deprecated. If you meant to do this, you must specify 'dtype=object' when creating the ndarray.\n",
      "  values = np.array([convert(v) for v in values])\n",
      "  7%|█████                                                                   | 375/5337 [4:16:41<139:51:17, 101.47s/it]C:\\Users\\duPar\\Anaconda3\\envs\\oasis\\lib\\site-packages\\pandas\\core\\internals\\construction.py:576: VisibleDeprecationWarning: Creating an ndarray from ragged nested sequences (which is a list-or-tuple of lists-or-tuples-or ndarrays with different lengths or shapes) is deprecated. If you meant to do this, you must specify 'dtype=object' when creating the ndarray.\n",
      "  values = np.array([convert(v) for v in values])\n",
      "  7%|█████                                                                   | 376/5337 [4:18:24<140:47:30, 102.17s/it]C:\\Users\\duPar\\Anaconda3\\envs\\oasis\\lib\\site-packages\\pandas\\core\\internals\\construction.py:576: VisibleDeprecationWarning: Creating an ndarray from ragged nested sequences (which is a list-or-tuple of lists-or-tuples-or ndarrays with different lengths or shapes) is deprecated. If you meant to do this, you must specify 'dtype=object' when creating the ndarray.\n",
      "  values = np.array([convert(v) for v in values])\n"
     ]
    },
    {
     "name": "stdout",
     "output_type": "stream",
     "text": [
      "2\n",
      "100\n",
      "173\n"
     ]
    },
    {
     "name": "stderr",
     "output_type": "stream",
     "text": [
      "  7%|█████                                                                   | 377/5337 [4:20:16<144:30:07, 104.88s/it]C:\\Users\\duPar\\Anaconda3\\envs\\oasis\\lib\\site-packages\\pandas\\core\\internals\\construction.py:576: VisibleDeprecationWarning: Creating an ndarray from ragged nested sequences (which is a list-or-tuple of lists-or-tuples-or ndarrays with different lengths or shapes) is deprecated. If you meant to do this, you must specify 'dtype=object' when creating the ndarray.\n",
      "  values = np.array([convert(v) for v in values])\n",
      "  7%|█████                                                                   | 378/5337 [4:22:01<144:37:13, 104.99s/it]C:\\Users\\duPar\\Anaconda3\\envs\\oasis\\lib\\site-packages\\pandas\\core\\internals\\construction.py:576: VisibleDeprecationWarning: Creating an ndarray from ragged nested sequences (which is a list-or-tuple of lists-or-tuples-or ndarrays with different lengths or shapes) is deprecated. If you meant to do this, you must specify 'dtype=object' when creating the ndarray.\n",
      "  values = np.array([convert(v) for v in values])\n",
      "  7%|█████                                                                   | 379/5337 [4:23:47<145:00:33, 105.29s/it]C:\\Users\\duPar\\Anaconda3\\envs\\oasis\\lib\\site-packages\\pandas\\core\\internals\\construction.py:576: VisibleDeprecationWarning: Creating an ndarray from ragged nested sequences (which is a list-or-tuple of lists-or-tuples-or ndarrays with different lengths or shapes) is deprecated. If you meant to do this, you must specify 'dtype=object' when creating the ndarray.\n",
      "  values = np.array([convert(v) for v in values])\n",
      "  7%|█████▏                                                                  | 380/5337 [4:25:33<145:27:17, 105.64s/it]C:\\Users\\duPar\\Anaconda3\\envs\\oasis\\lib\\site-packages\\pandas\\core\\internals\\construction.py:576: VisibleDeprecationWarning: Creating an ndarray from ragged nested sequences (which is a list-or-tuple of lists-or-tuples-or ndarrays with different lengths or shapes) is deprecated. If you meant to do this, you must specify 'dtype=object' when creating the ndarray.\n",
      "  values = np.array([convert(v) for v in values])\n",
      "  7%|█████▏                                                                  | 381/5337 [4:27:19<145:36:59, 105.77s/it]C:\\Users\\duPar\\Anaconda3\\envs\\oasis\\lib\\site-packages\\pandas\\core\\internals\\construction.py:576: VisibleDeprecationWarning: Creating an ndarray from ragged nested sequences (which is a list-or-tuple of lists-or-tuples-or ndarrays with different lengths or shapes) is deprecated. If you meant to do this, you must specify 'dtype=object' when creating the ndarray.\n",
      "  values = np.array([convert(v) for v in values])\n"
     ]
    },
    {
     "name": "stdout",
     "output_type": "stream",
     "text": [
      "28\n"
     ]
    },
    {
     "name": "stderr",
     "output_type": "stream",
     "text": [
      "  7%|█████▏                                                                  | 382/5337 [4:29:06<145:58:54, 106.06s/it]C:\\Users\\duPar\\Anaconda3\\envs\\oasis\\lib\\site-packages\\pandas\\core\\internals\\construction.py:576: VisibleDeprecationWarning: Creating an ndarray from ragged nested sequences (which is a list-or-tuple of lists-or-tuples-or ndarrays with different lengths or shapes) is deprecated. If you meant to do this, you must specify 'dtype=object' when creating the ndarray.\n",
      "  values = np.array([convert(v) for v in values])\n"
     ]
    },
    {
     "name": "stdout",
     "output_type": "stream",
     "text": [
      "43\n",
      "57\n"
     ]
    },
    {
     "name": "stderr",
     "output_type": "stream",
     "text": [
      "  7%|█████▏                                                                  | 383/5337 [4:30:49<144:49:42, 105.24s/it]C:\\Users\\duPar\\Anaconda3\\envs\\oasis\\lib\\site-packages\\pandas\\core\\internals\\construction.py:576: VisibleDeprecationWarning: Creating an ndarray from ragged nested sequences (which is a list-or-tuple of lists-or-tuples-or ndarrays with different lengths or shapes) is deprecated. If you meant to do this, you must specify 'dtype=object' when creating the ndarray.\n",
      "  values = np.array([convert(v) for v in values])\n"
     ]
    },
    {
     "name": "stdout",
     "output_type": "stream",
     "text": [
      "68\n",
      "270\n"
     ]
    },
    {
     "name": "stderr",
     "output_type": "stream",
     "text": [
      "  7%|█████▏                                                                  | 384/5337 [4:32:38<146:05:04, 106.18s/it]C:\\Users\\duPar\\Anaconda3\\envs\\oasis\\lib\\site-packages\\pandas\\core\\internals\\construction.py:576: VisibleDeprecationWarning: Creating an ndarray from ragged nested sequences (which is a list-or-tuple of lists-or-tuples-or ndarrays with different lengths or shapes) is deprecated. If you meant to do this, you must specify 'dtype=object' when creating the ndarray.\n",
      "  values = np.array([convert(v) for v in values])\n"
     ]
    },
    {
     "name": "stdout",
     "output_type": "stream",
     "text": [
      "433\n"
     ]
    },
    {
     "name": "stderr",
     "output_type": "stream",
     "text": [
      "  7%|█████▏                                                                  | 385/5337 [4:34:26<146:42:01, 106.65s/it]C:\\Users\\duPar\\Anaconda3\\envs\\oasis\\lib\\site-packages\\pandas\\core\\internals\\construction.py:576: VisibleDeprecationWarning: Creating an ndarray from ragged nested sequences (which is a list-or-tuple of lists-or-tuples-or ndarrays with different lengths or shapes) is deprecated. If you meant to do this, you must specify 'dtype=object' when creating the ndarray.\n",
      "  values = np.array([convert(v) for v in values])\n",
      "  7%|█████▏                                                                  | 386/5337 [4:36:15<147:38:56, 107.36s/it]C:\\Users\\duPar\\Anaconda3\\envs\\oasis\\lib\\site-packages\\pandas\\core\\internals\\construction.py:576: VisibleDeprecationWarning: Creating an ndarray from ragged nested sequences (which is a list-or-tuple of lists-or-tuples-or ndarrays with different lengths or shapes) is deprecated. If you meant to do this, you must specify 'dtype=object' when creating the ndarray.\n",
      "  values = np.array([convert(v) for v in values])\n"
     ]
    },
    {
     "name": "stdout",
     "output_type": "stream",
     "text": [
      "113\n",
      "259\n"
     ]
    },
    {
     "name": "stderr",
     "output_type": "stream",
     "text": [
      "  7%|█████▏                                                                  | 387/5337 [4:38:03<147:56:58, 107.60s/it]C:\\Users\\duPar\\Anaconda3\\envs\\oasis\\lib\\site-packages\\pandas\\core\\internals\\construction.py:576: VisibleDeprecationWarning: Creating an ndarray from ragged nested sequences (which is a list-or-tuple of lists-or-tuples-or ndarrays with different lengths or shapes) is deprecated. If you meant to do this, you must specify 'dtype=object' when creating the ndarray.\n",
      "  values = np.array([convert(v) for v in values])\n",
      "  7%|█████▏                                                                  | 388/5337 [4:39:52<148:46:31, 108.22s/it]C:\\Users\\duPar\\Anaconda3\\envs\\oasis\\lib\\site-packages\\pandas\\core\\internals\\construction.py:576: VisibleDeprecationWarning: Creating an ndarray from ragged nested sequences (which is a list-or-tuple of lists-or-tuples-or ndarrays with different lengths or shapes) is deprecated. If you meant to do this, you must specify 'dtype=object' when creating the ndarray.\n",
      "  values = np.array([convert(v) for v in values])\n"
     ]
    },
    {
     "name": "stdout",
     "output_type": "stream",
     "text": [
      "143\n"
     ]
    },
    {
     "name": "stderr",
     "output_type": "stream",
     "text": [
      "  7%|█████▏                                                                  | 389/5337 [4:41:41<149:00:16, 108.41s/it]C:\\Users\\duPar\\Anaconda3\\envs\\oasis\\lib\\site-packages\\pandas\\core\\internals\\construction.py:576: VisibleDeprecationWarning: Creating an ndarray from ragged nested sequences (which is a list-or-tuple of lists-or-tuples-or ndarrays with different lengths or shapes) is deprecated. If you meant to do this, you must specify 'dtype=object' when creating the ndarray.\n",
      "  values = np.array([convert(v) for v in values])\n"
     ]
    },
    {
     "name": "stdout",
     "output_type": "stream",
     "text": [
      "106\n"
     ]
    },
    {
     "name": "stderr",
     "output_type": "stream",
     "text": [
      "  7%|█████▎                                                                  | 390/5337 [4:43:31<149:28:11, 108.77s/it]C:\\Users\\duPar\\Anaconda3\\envs\\oasis\\lib\\site-packages\\pandas\\core\\internals\\construction.py:576: VisibleDeprecationWarning: Creating an ndarray from ragged nested sequences (which is a list-or-tuple of lists-or-tuples-or ndarrays with different lengths or shapes) is deprecated. If you meant to do this, you must specify 'dtype=object' when creating the ndarray.\n",
      "  values = np.array([convert(v) for v in values])\n"
     ]
    },
    {
     "name": "stdout",
     "output_type": "stream",
     "text": [
      "33\n"
     ]
    },
    {
     "name": "stderr",
     "output_type": "stream",
     "text": [
      "  7%|█████▎                                                                  | 391/5337 [4:45:21<150:06:41, 109.26s/it]C:\\Users\\duPar\\Anaconda3\\envs\\oasis\\lib\\site-packages\\pandas\\core\\internals\\construction.py:576: VisibleDeprecationWarning: Creating an ndarray from ragged nested sequences (which is a list-or-tuple of lists-or-tuples-or ndarrays with different lengths or shapes) is deprecated. If you meant to do this, you must specify 'dtype=object' when creating the ndarray.\n",
      "  values = np.array([convert(v) for v in values])\n"
     ]
    },
    {
     "name": "stdout",
     "output_type": "stream",
     "text": [
      "1\n"
     ]
    },
    {
     "name": "stderr",
     "output_type": "stream",
     "text": [
      "  7%|█████▎                                                                  | 392/5337 [4:47:12<150:38:54, 109.67s/it]C:\\Users\\duPar\\Anaconda3\\envs\\oasis\\lib\\site-packages\\pandas\\core\\internals\\construction.py:576: VisibleDeprecationWarning: Creating an ndarray from ragged nested sequences (which is a list-or-tuple of lists-or-tuples-or ndarrays with different lengths or shapes) is deprecated. If you meant to do this, you must specify 'dtype=object' when creating the ndarray.\n",
      "  values = np.array([convert(v) for v in values])\n"
     ]
    },
    {
     "name": "stdout",
     "output_type": "stream",
     "text": [
      "445\n"
     ]
    },
    {
     "name": "stderr",
     "output_type": "stream",
     "text": [
      "  7%|█████▍                                                                   | 394/5337 [4:49:03<106:01:01, 77.21s/it]C:\\Users\\duPar\\Anaconda3\\envs\\oasis\\lib\\site-packages\\pandas\\core\\internals\\construction.py:576: VisibleDeprecationWarning: Creating an ndarray from ragged nested sequences (which is a list-or-tuple of lists-or-tuples-or ndarrays with different lengths or shapes) is deprecated. If you meant to do this, you must specify 'dtype=object' when creating the ndarray.\n",
      "  values = np.array([convert(v) for v in values])\n"
     ]
    },
    {
     "name": "stdout",
     "output_type": "stream",
     "text": [
      "375\n",
      "376\n"
     ]
    },
    {
     "name": "stderr",
     "output_type": "stream",
     "text": [
      "  7%|█████▍                                                                   | 395/5337 [4:50:54<119:54:16, 87.34s/it]C:\\Users\\duPar\\Anaconda3\\envs\\oasis\\lib\\site-packages\\pandas\\core\\internals\\construction.py:576: VisibleDeprecationWarning: Creating an ndarray from ragged nested sequences (which is a list-or-tuple of lists-or-tuples-or ndarrays with different lengths or shapes) is deprecated. If you meant to do this, you must specify 'dtype=object' when creating the ndarray.\n",
      "  values = np.array([convert(v) for v in values])\n",
      "  7%|█████▍                                                                   | 396/5337 [4:52:46<129:59:20, 94.71s/it]C:\\Users\\duPar\\Anaconda3\\envs\\oasis\\lib\\site-packages\\pandas\\core\\internals\\construction.py:576: VisibleDeprecationWarning: Creating an ndarray from ragged nested sequences (which is a list-or-tuple of lists-or-tuples-or ndarrays with different lengths or shapes) is deprecated. If you meant to do this, you must specify 'dtype=object' when creating the ndarray.\n",
      "  values = np.array([convert(v) for v in values])\n"
     ]
    },
    {
     "name": "stdout",
     "output_type": "stream",
     "text": [
      "13\n",
      "159\n",
      "240\n"
     ]
    },
    {
     "name": "stderr",
     "output_type": "stream",
     "text": [
      "  7%|█████▎                                                                  | 397/5337 [4:54:39<137:22:47, 100.11s/it]C:\\Users\\duPar\\Anaconda3\\envs\\oasis\\lib\\site-packages\\pandas\\core\\internals\\construction.py:576: VisibleDeprecationWarning: Creating an ndarray from ragged nested sequences (which is a list-or-tuple of lists-or-tuples-or ndarrays with different lengths or shapes) is deprecated. If you meant to do this, you must specify 'dtype=object' when creating the ndarray.\n",
      "  values = np.array([convert(v) for v in values])\n"
     ]
    },
    {
     "name": "stdout",
     "output_type": "stream",
     "text": [
      "293\n"
     ]
    },
    {
     "name": "stderr",
     "output_type": "stream",
     "text": [
      "  7%|█████▍                                                                   | 398/5337 [4:56:17<136:29:03, 99.48s/it]C:\\Users\\duPar\\Anaconda3\\envs\\oasis\\lib\\site-packages\\pandas\\core\\internals\\construction.py:576: VisibleDeprecationWarning: Creating an ndarray from ragged nested sequences (which is a list-or-tuple of lists-or-tuples-or ndarrays with different lengths or shapes) is deprecated. If you meant to do this, you must specify 'dtype=object' when creating the ndarray.\n",
      "  values = np.array([convert(v) for v in values])\n"
     ]
    },
    {
     "name": "stdout",
     "output_type": "stream",
     "text": [
      "367\n",
      "389\n",
      "483\n"
     ]
    },
    {
     "name": "stderr",
     "output_type": "stream",
     "text": [
      "  7%|█████▍                                                                  | 399/5337 [4:58:09<141:32:00, 103.18s/it]C:\\Users\\duPar\\Anaconda3\\envs\\oasis\\lib\\site-packages\\pandas\\core\\internals\\construction.py:576: VisibleDeprecationWarning: Creating an ndarray from ragged nested sequences (which is a list-or-tuple of lists-or-tuples-or ndarrays with different lengths or shapes) is deprecated. If you meant to do this, you must specify 'dtype=object' when creating the ndarray.\n",
      "  values = np.array([convert(v) for v in values])\n"
     ]
    },
    {
     "name": "stdout",
     "output_type": "stream",
     "text": [
      "101\n",
      "146\n"
     ]
    },
    {
     "name": "stderr",
     "output_type": "stream",
     "text": [
      "  7%|█████▍                                                                  | 400/5337 [5:00:01<145:08:16, 105.83s/it]C:\\Users\\duPar\\Anaconda3\\envs\\oasis\\lib\\site-packages\\pandas\\core\\internals\\construction.py:576: VisibleDeprecationWarning: Creating an ndarray from ragged nested sequences (which is a list-or-tuple of lists-or-tuples-or ndarrays with different lengths or shapes) is deprecated. If you meant to do this, you must specify 'dtype=object' when creating the ndarray.\n",
      "  values = np.array([convert(v) for v in values])\n"
     ]
    },
    {
     "name": "stdout",
     "output_type": "stream",
     "text": [
      "203\n",
      "254\n"
     ]
    },
    {
     "name": "stderr",
     "output_type": "stream",
     "text": [
      "  8%|█████▍                                                                  | 401/5337 [5:01:54<148:01:44, 107.96s/it]C:\\Users\\duPar\\Anaconda3\\envs\\oasis\\lib\\site-packages\\pandas\\core\\internals\\construction.py:576: VisibleDeprecationWarning: Creating an ndarray from ragged nested sequences (which is a list-or-tuple of lists-or-tuples-or ndarrays with different lengths or shapes) is deprecated. If you meant to do this, you must specify 'dtype=object' when creating the ndarray.\n",
      "  values = np.array([convert(v) for v in values])\n"
     ]
    },
    {
     "name": "stdout",
     "output_type": "stream",
     "text": [
      "417\n"
     ]
    },
    {
     "name": "stderr",
     "output_type": "stream",
     "text": [
      "  8%|█████▍                                                                  | 402/5337 [5:03:47<150:12:57, 109.58s/it]C:\\Users\\duPar\\Anaconda3\\envs\\oasis\\lib\\site-packages\\pandas\\core\\internals\\construction.py:576: VisibleDeprecationWarning: Creating an ndarray from ragged nested sequences (which is a list-or-tuple of lists-or-tuples-or ndarrays with different lengths or shapes) is deprecated. If you meant to do this, you must specify 'dtype=object' when creating the ndarray.\n",
      "  values = np.array([convert(v) for v in values])\n",
      "  8%|█████▍                                                                  | 403/5337 [5:05:40<151:40:56, 110.67s/it]C:\\Users\\duPar\\Anaconda3\\envs\\oasis\\lib\\site-packages\\pandas\\core\\internals\\construction.py:576: VisibleDeprecationWarning: Creating an ndarray from ragged nested sequences (which is a list-or-tuple of lists-or-tuples-or ndarrays with different lengths or shapes) is deprecated. If you meant to do this, you must specify 'dtype=object' when creating the ndarray.\n",
      "  values = np.array([convert(v) for v in values])\n",
      "  8%|█████▍                                                                  | 404/5337 [5:07:34<152:50:39, 111.54s/it]C:\\Users\\duPar\\Anaconda3\\envs\\oasis\\lib\\site-packages\\pandas\\core\\internals\\construction.py:576: VisibleDeprecationWarning: Creating an ndarray from ragged nested sequences (which is a list-or-tuple of lists-or-tuples-or ndarrays with different lengths or shapes) is deprecated. If you meant to do this, you must specify 'dtype=object' when creating the ndarray.\n",
      "  values = np.array([convert(v) for v in values])\n",
      "  8%|█████▍                                                                  | 405/5337 [5:09:28<153:59:17, 112.40s/it]C:\\Users\\duPar\\Anaconda3\\envs\\oasis\\lib\\site-packages\\pandas\\core\\internals\\construction.py:576: VisibleDeprecationWarning: Creating an ndarray from ragged nested sequences (which is a list-or-tuple of lists-or-tuples-or ndarrays with different lengths or shapes) is deprecated. If you meant to do this, you must specify 'dtype=object' when creating the ndarray.\n",
      "  values = np.array([convert(v) for v in values])\n",
      "  8%|█████▍                                                                  | 406/5337 [5:11:23<154:52:38, 113.07s/it]C:\\Users\\duPar\\Anaconda3\\envs\\oasis\\lib\\site-packages\\pandas\\core\\internals\\construction.py:576: VisibleDeprecationWarning: Creating an ndarray from ragged nested sequences (which is a list-or-tuple of lists-or-tuples-or ndarrays with different lengths or shapes) is deprecated. If you meant to do this, you must specify 'dtype=object' when creating the ndarray.\n",
      "  values = np.array([convert(v) for v in values])\n",
      "  8%|█████▍                                                                  | 407/5337 [5:13:19<156:02:40, 113.95s/it]C:\\Users\\duPar\\Anaconda3\\envs\\oasis\\lib\\site-packages\\pandas\\core\\internals\\construction.py:576: VisibleDeprecationWarning: Creating an ndarray from ragged nested sequences (which is a list-or-tuple of lists-or-tuples-or ndarrays with different lengths or shapes) is deprecated. If you meant to do this, you must specify 'dtype=object' when creating the ndarray.\n",
      "  values = np.array([convert(v) for v in values])\n"
     ]
    },
    {
     "name": "stdout",
     "output_type": "stream",
     "text": [
      "1\n"
     ]
    },
    {
     "name": "stderr",
     "output_type": "stream",
     "text": [
      "  8%|█████▌                                                                  | 408/5337 [5:15:15<156:40:30, 114.43s/it]C:\\Users\\duPar\\Anaconda3\\envs\\oasis\\lib\\site-packages\\pandas\\core\\internals\\construction.py:576: VisibleDeprecationWarning: Creating an ndarray from ragged nested sequences (which is a list-or-tuple of lists-or-tuples-or ndarrays with different lengths or shapes) is deprecated. If you meant to do this, you must specify 'dtype=object' when creating the ndarray.\n",
      "  values = np.array([convert(v) for v in values])\n"
     ]
    },
    {
     "name": "stdout",
     "output_type": "stream",
     "text": [
      "410\n"
     ]
    },
    {
     "name": "stderr",
     "output_type": "stream",
     "text": [
      "  8%|█████▌                                                                  | 409/5337 [5:17:10<157:02:47, 114.73s/it]C:\\Users\\duPar\\Anaconda3\\envs\\oasis\\lib\\site-packages\\pandas\\core\\internals\\construction.py:576: VisibleDeprecationWarning: Creating an ndarray from ragged nested sequences (which is a list-or-tuple of lists-or-tuples-or ndarrays with different lengths or shapes) is deprecated. If you meant to do this, you must specify 'dtype=object' when creating the ndarray.\n",
      "  values = np.array([convert(v) for v in values])\n",
      "  8%|█████▌                                                                  | 410/5337 [5:19:01<155:33:22, 113.66s/it]C:\\Users\\duPar\\Anaconda3\\envs\\oasis\\lib\\site-packages\\pandas\\core\\internals\\construction.py:576: VisibleDeprecationWarning: Creating an ndarray from ragged nested sequences (which is a list-or-tuple of lists-or-tuples-or ndarrays with different lengths or shapes) is deprecated. If you meant to do this, you must specify 'dtype=object' when creating the ndarray.\n",
      "  values = np.array([convert(v) for v in values])\n"
     ]
    },
    {
     "name": "stdout",
     "output_type": "stream",
     "text": [
      "21\n",
      "325\n"
     ]
    },
    {
     "name": "stderr",
     "output_type": "stream",
     "text": [
      "  8%|█████▌                                                                  | 411/5337 [5:20:56<156:06:49, 114.09s/it]C:\\Users\\duPar\\Anaconda3\\envs\\oasis\\lib\\site-packages\\pandas\\core\\internals\\construction.py:576: VisibleDeprecationWarning: Creating an ndarray from ragged nested sequences (which is a list-or-tuple of lists-or-tuples-or ndarrays with different lengths or shapes) is deprecated. If you meant to do this, you must specify 'dtype=object' when creating the ndarray.\n",
      "  values = np.array([convert(v) for v in values])\n",
      "  8%|█████▌                                                                  | 412/5337 [5:22:52<156:54:40, 114.70s/it]C:\\Users\\duPar\\Anaconda3\\envs\\oasis\\lib\\site-packages\\pandas\\core\\internals\\construction.py:576: VisibleDeprecationWarning: Creating an ndarray from ragged nested sequences (which is a list-or-tuple of lists-or-tuples-or ndarrays with different lengths or shapes) is deprecated. If you meant to do this, you must specify 'dtype=object' when creating the ndarray.\n",
      "  values = np.array([convert(v) for v in values])\n",
      "  8%|█████▌                                                                  | 413/5337 [5:24:50<157:55:40, 115.46s/it]C:\\Users\\duPar\\Anaconda3\\envs\\oasis\\lib\\site-packages\\pandas\\core\\internals\\construction.py:576: VisibleDeprecationWarning: Creating an ndarray from ragged nested sequences (which is a list-or-tuple of lists-or-tuples-or ndarrays with different lengths or shapes) is deprecated. If you meant to do this, you must specify 'dtype=object' when creating the ndarray.\n",
      "  values = np.array([convert(v) for v in values])\n"
     ]
    },
    {
     "name": "stdout",
     "output_type": "stream",
     "text": [
      "10\n",
      "22\n",
      "151\n"
     ]
    },
    {
     "name": "stderr",
     "output_type": "stream",
     "text": [
      "  8%|█████▌                                                                  | 414/5337 [5:26:48<159:01:45, 116.29s/it]C:\\Users\\duPar\\Anaconda3\\envs\\oasis\\lib\\site-packages\\pandas\\core\\internals\\construction.py:576: VisibleDeprecationWarning: Creating an ndarray from ragged nested sequences (which is a list-or-tuple of lists-or-tuples-or ndarrays with different lengths or shapes) is deprecated. If you meant to do this, you must specify 'dtype=object' when creating the ndarray.\n",
      "  values = np.array([convert(v) for v in values])\n",
      "  8%|█████▌                                                                  | 415/5337 [5:28:44<158:55:46, 116.24s/it]C:\\Users\\duPar\\Anaconda3\\envs\\oasis\\lib\\site-packages\\pandas\\core\\internals\\construction.py:576: VisibleDeprecationWarning: Creating an ndarray from ragged nested sequences (which is a list-or-tuple of lists-or-tuples-or ndarrays with different lengths or shapes) is deprecated. If you meant to do this, you must specify 'dtype=object' when creating the ndarray.\n",
      "  values = np.array([convert(v) for v in values])\n"
     ]
    },
    {
     "name": "stdout",
     "output_type": "stream",
     "text": [
      "52\n",
      "344\n"
     ]
    },
    {
     "name": "stderr",
     "output_type": "stream",
     "text": [
      "  8%|█████▌                                                                  | 416/5337 [5:30:40<158:43:00, 116.11s/it]C:\\Users\\duPar\\Anaconda3\\envs\\oasis\\lib\\site-packages\\pandas\\core\\internals\\construction.py:576: VisibleDeprecationWarning: Creating an ndarray from ragged nested sequences (which is a list-or-tuple of lists-or-tuples-or ndarrays with different lengths or shapes) is deprecated. If you meant to do this, you must specify 'dtype=object' when creating the ndarray.\n",
      "  values = np.array([convert(v) for v in values])\n",
      "  8%|█████▋                                                                  | 417/5337 [5:32:36<158:43:14, 116.14s/it]C:\\Users\\duPar\\Anaconda3\\envs\\oasis\\lib\\site-packages\\pandas\\core\\internals\\construction.py:576: VisibleDeprecationWarning: Creating an ndarray from ragged nested sequences (which is a list-or-tuple of lists-or-tuples-or ndarrays with different lengths or shapes) is deprecated. If you meant to do this, you must specify 'dtype=object' when creating the ndarray.\n",
      "  values = np.array([convert(v) for v in values])\n"
     ]
    },
    {
     "name": "stdout",
     "output_type": "stream",
     "text": [
      "6\n",
      "295\n"
     ]
    },
    {
     "name": "stderr",
     "output_type": "stream",
     "text": [
      "  8%|█████▋                                                                   | 419/5337 [5:34:33<111:18:42, 81.48s/it]C:\\Users\\duPar\\Anaconda3\\envs\\oasis\\lib\\site-packages\\pandas\\core\\internals\\construction.py:576: VisibleDeprecationWarning: Creating an ndarray from ragged nested sequences (which is a list-or-tuple of lists-or-tuples-or ndarrays with different lengths or shapes) is deprecated. If you meant to do this, you must specify 'dtype=object' when creating the ndarray.\n",
      "  values = np.array([convert(v) for v in values])\n"
     ]
    },
    {
     "name": "stdout",
     "output_type": "stream",
     "text": [
      "321\n"
     ]
    },
    {
     "name": "stderr",
     "output_type": "stream",
     "text": [
      "  8%|█████▋                                                                   | 420/5337 [5:36:29<125:34:14, 91.94s/it]C:\\Users\\duPar\\Anaconda3\\envs\\oasis\\lib\\site-packages\\pandas\\core\\internals\\construction.py:576: VisibleDeprecationWarning: Creating an ndarray from ragged nested sequences (which is a list-or-tuple of lists-or-tuples-or ndarrays with different lengths or shapes) is deprecated. If you meant to do this, you must specify 'dtype=object' when creating the ndarray.\n",
      "  values = np.array([convert(v) for v in values])\n"
     ]
    },
    {
     "name": "stdout",
     "output_type": "stream",
     "text": [
      "28\n"
     ]
    },
    {
     "name": "stderr",
     "output_type": "stream",
     "text": [
      "  8%|█████▊                                                                   | 421/5337 [5:38:26<135:46:48, 99.43s/it]C:\\Users\\duPar\\Anaconda3\\envs\\oasis\\lib\\site-packages\\pandas\\core\\internals\\construction.py:576: VisibleDeprecationWarning: Creating an ndarray from ragged nested sequences (which is a list-or-tuple of lists-or-tuples-or ndarrays with different lengths or shapes) is deprecated. If you meant to do this, you must specify 'dtype=object' when creating the ndarray.\n",
      "  values = np.array([convert(v) for v in values])\n",
      "  8%|█████▋                                                                  | 422/5337 [5:40:24<143:26:32, 105.06s/it]C:\\Users\\duPar\\Anaconda3\\envs\\oasis\\lib\\site-packages\\pandas\\core\\internals\\construction.py:576: VisibleDeprecationWarning: Creating an ndarray from ragged nested sequences (which is a list-or-tuple of lists-or-tuples-or ndarrays with different lengths or shapes) is deprecated. If you meant to do this, you must specify 'dtype=object' when creating the ndarray.\n",
      "  values = np.array([convert(v) for v in values])\n"
     ]
    },
    {
     "name": "stdout",
     "output_type": "stream",
     "text": [
      "119\n",
      "340\n",
      "380\n"
     ]
    },
    {
     "name": "stderr",
     "output_type": "stream",
     "text": [
      "  8%|█████▋                                                                  | 423/5337 [5:42:21<148:20:10, 108.67s/it]C:\\Users\\duPar\\Anaconda3\\envs\\oasis\\lib\\site-packages\\pandas\\core\\internals\\construction.py:576: VisibleDeprecationWarning: Creating an ndarray from ragged nested sequences (which is a list-or-tuple of lists-or-tuples-or ndarrays with different lengths or shapes) is deprecated. If you meant to do this, you must specify 'dtype=object' when creating the ndarray.\n",
      "  values = np.array([convert(v) for v in values])\n"
     ]
    },
    {
     "name": "stdout",
     "output_type": "stream",
     "text": [
      "47\n",
      "398\n",
      "418\n",
      "478\n"
     ]
    },
    {
     "name": "stderr",
     "output_type": "stream",
     "text": [
      "  8%|█████▋                                                                  | 424/5337 [5:44:16<150:49:35, 110.52s/it]C:\\Users\\duPar\\Anaconda3\\envs\\oasis\\lib\\site-packages\\pandas\\core\\internals\\construction.py:576: VisibleDeprecationWarning: Creating an ndarray from ragged nested sequences (which is a list-or-tuple of lists-or-tuples-or ndarrays with different lengths or shapes) is deprecated. If you meant to do this, you must specify 'dtype=object' when creating the ndarray.\n",
      "  values = np.array([convert(v) for v in values])\n",
      "  8%|█████▋                                                                  | 425/5337 [5:46:15<154:07:27, 112.96s/it]C:\\Users\\duPar\\Anaconda3\\envs\\oasis\\lib\\site-packages\\pandas\\core\\internals\\construction.py:576: VisibleDeprecationWarning: Creating an ndarray from ragged nested sequences (which is a list-or-tuple of lists-or-tuples-or ndarrays with different lengths or shapes) is deprecated. If you meant to do this, you must specify 'dtype=object' when creating the ndarray.\n",
      "  values = np.array([convert(v) for v in values])\n",
      "  8%|█████▋                                                                  | 426/5337 [5:48:14<156:30:13, 114.72s/it]C:\\Users\\duPar\\Anaconda3\\envs\\oasis\\lib\\site-packages\\pandas\\core\\internals\\construction.py:576: VisibleDeprecationWarning: Creating an ndarray from ragged nested sequences (which is a list-or-tuple of lists-or-tuples-or ndarrays with different lengths or shapes) is deprecated. If you meant to do this, you must specify 'dtype=object' when creating the ndarray.\n",
      "  values = np.array([convert(v) for v in values])\n",
      "  8%|█████▊                                                                  | 427/5337 [5:50:13<158:14:06, 116.02s/it]C:\\Users\\duPar\\Anaconda3\\envs\\oasis\\lib\\site-packages\\pandas\\core\\internals\\construction.py:576: VisibleDeprecationWarning: Creating an ndarray from ragged nested sequences (which is a list-or-tuple of lists-or-tuples-or ndarrays with different lengths or shapes) is deprecated. If you meant to do this, you must specify 'dtype=object' when creating the ndarray.\n",
      "  values = np.array([convert(v) for v in values])\n",
      "  8%|█████▊                                                                  | 428/5337 [5:52:12<159:43:23, 117.13s/it]C:\\Users\\duPar\\Anaconda3\\envs\\oasis\\lib\\site-packages\\pandas\\core\\internals\\construction.py:576: VisibleDeprecationWarning: Creating an ndarray from ragged nested sequences (which is a list-or-tuple of lists-or-tuples-or ndarrays with different lengths or shapes) is deprecated. If you meant to do this, you must specify 'dtype=object' when creating the ndarray.\n",
      "  values = np.array([convert(v) for v in values])\n"
     ]
    },
    {
     "name": "stdout",
     "output_type": "stream",
     "text": [
      "1\n"
     ]
    },
    {
     "name": "stderr",
     "output_type": "stream",
     "text": [
      "  8%|█████▊                                                                  | 429/5337 [5:54:12<160:44:37, 117.91s/it]C:\\Users\\duPar\\Anaconda3\\envs\\oasis\\lib\\site-packages\\pandas\\core\\internals\\construction.py:576: VisibleDeprecationWarning: Creating an ndarray from ragged nested sequences (which is a list-or-tuple of lists-or-tuples-or ndarrays with different lengths or shapes) is deprecated. If you meant to do this, you must specify 'dtype=object' when creating the ndarray.\n",
      "  values = np.array([convert(v) for v in values])\n"
     ]
    },
    {
     "name": "stdout",
     "output_type": "stream",
     "text": [
      "123\n"
     ]
    },
    {
     "name": "stderr",
     "output_type": "stream",
     "text": [
      "  8%|█████▊                                                                  | 430/5337 [5:56:13<161:42:56, 118.64s/it]C:\\Users\\duPar\\Anaconda3\\envs\\oasis\\lib\\site-packages\\pandas\\core\\internals\\construction.py:576: VisibleDeprecationWarning: Creating an ndarray from ragged nested sequences (which is a list-or-tuple of lists-or-tuples-or ndarrays with different lengths or shapes) is deprecated. If you meant to do this, you must specify 'dtype=object' when creating the ndarray.\n",
      "  values = np.array([convert(v) for v in values])\n"
     ]
    },
    {
     "name": "stdout",
     "output_type": "stream",
     "text": [
      "345\n",
      "474\n",
      "475\n"
     ]
    },
    {
     "name": "stderr",
     "output_type": "stream",
     "text": [
      "  8%|█████▊                                                                  | 431/5337 [5:58:13<162:16:54, 119.08s/it]C:\\Users\\duPar\\Anaconda3\\envs\\oasis\\lib\\site-packages\\pandas\\core\\internals\\construction.py:576: VisibleDeprecationWarning: Creating an ndarray from ragged nested sequences (which is a list-or-tuple of lists-or-tuples-or ndarrays with different lengths or shapes) is deprecated. If you meant to do this, you must specify 'dtype=object' when creating the ndarray.\n",
      "  values = np.array([convert(v) for v in values])\n",
      "  8%|█████▊                                                                  | 432/5337 [6:00:13<162:50:38, 119.52s/it]"
     ]
    },
    {
     "name": "stdout",
     "output_type": "stream",
     "text": [
      "500\n"
     ]
    },
    {
     "name": "stderr",
     "output_type": "stream",
     "text": [
      "C:\\Users\\duPar\\Anaconda3\\envs\\oasis\\lib\\site-packages\\pandas\\core\\internals\\construction.py:576: VisibleDeprecationWarning: Creating an ndarray from ragged nested sequences (which is a list-or-tuple of lists-or-tuples-or ndarrays with different lengths or shapes) is deprecated. If you meant to do this, you must specify 'dtype=object' when creating the ndarray.\n",
      "  values = np.array([convert(v) for v in values])\n",
      "  8%|█████▊                                                                  | 433/5337 [6:02:11<162:06:31, 119.00s/it]C:\\Users\\duPar\\Anaconda3\\envs\\oasis\\lib\\site-packages\\pandas\\core\\internals\\construction.py:576: VisibleDeprecationWarning: Creating an ndarray from ragged nested sequences (which is a list-or-tuple of lists-or-tuples-or ndarrays with different lengths or shapes) is deprecated. If you meant to do this, you must specify 'dtype=object' when creating the ndarray.\n",
      "  values = np.array([convert(v) for v in values])\n"
     ]
    },
    {
     "name": "stdout",
     "output_type": "stream",
     "text": [
      "302\n",
      "315\n",
      "355\n",
      "405\n",
      "406\n"
     ]
    },
    {
     "name": "stderr",
     "output_type": "stream",
     "text": [
      "  8%|█████▊                                                                  | 434/5337 [6:04:12<162:58:24, 119.66s/it]C:\\Users\\duPar\\Anaconda3\\envs\\oasis\\lib\\site-packages\\pandas\\core\\internals\\construction.py:576: VisibleDeprecationWarning: Creating an ndarray from ragged nested sequences (which is a list-or-tuple of lists-or-tuples-or ndarrays with different lengths or shapes) is deprecated. If you meant to do this, you must specify 'dtype=object' when creating the ndarray.\n",
      "  values = np.array([convert(v) for v in values])\n"
     ]
    },
    {
     "name": "stdout",
     "output_type": "stream",
     "text": [
      "93\n",
      "283\n"
     ]
    },
    {
     "name": "stderr",
     "output_type": "stream",
     "text": [
      "  8%|█████▊                                                                  | 435/5337 [6:06:14<163:44:56, 120.26s/it]C:\\Users\\duPar\\Anaconda3\\envs\\oasis\\lib\\site-packages\\pandas\\core\\internals\\construction.py:576: VisibleDeprecationWarning: Creating an ndarray from ragged nested sequences (which is a list-or-tuple of lists-or-tuples-or ndarrays with different lengths or shapes) is deprecated. If you meant to do this, you must specify 'dtype=object' when creating the ndarray.\n",
      "  values = np.array([convert(v) for v in values])\n"
     ]
    },
    {
     "name": "stdout",
     "output_type": "stream",
     "text": [
      "48\n",
      "155\n",
      "220\n",
      "238\n",
      "288\n",
      "367\n",
      "432\n"
     ]
    },
    {
     "name": "stderr",
     "output_type": "stream",
     "text": [
      "  8%|██████                                                                    | 438/5337 [6:08:00<77:36:25, 57.03s/it]C:\\Users\\duPar\\Anaconda3\\envs\\oasis\\lib\\site-packages\\pandas\\core\\internals\\construction.py:576: VisibleDeprecationWarning: Creating an ndarray from ragged nested sequences (which is a list-or-tuple of lists-or-tuples-or ndarrays with different lengths or shapes) is deprecated. If you meant to do this, you must specify 'dtype=object' when creating the ndarray.\n",
      "  values = np.array([convert(v) for v in values])\n"
     ]
    },
    {
     "name": "stdout",
     "output_type": "stream",
     "text": [
      "48\n"
     ]
    },
    {
     "name": "stderr",
     "output_type": "stream",
     "text": [
      "  8%|██████                                                                    | 439/5337 [6:08:13<59:26:49, 43.69s/it]C:\\Users\\duPar\\Anaconda3\\envs\\oasis\\lib\\site-packages\\pandas\\core\\internals\\construction.py:576: VisibleDeprecationWarning: Creating an ndarray from ragged nested sequences (which is a list-or-tuple of lists-or-tuples-or ndarrays with different lengths or shapes) is deprecated. If you meant to do this, you must specify 'dtype=object' when creating the ndarray.\n",
      "  values = np.array([convert(v) for v in values])\n",
      "  8%|██████                                                                    | 440/5337 [6:08:23<45:51:59, 33.72s/it]"
     ]
    },
    {
     "name": "stdout",
     "output_type": "stream",
     "text": [
      "44\n"
     ]
    },
    {
     "name": "stderr",
     "output_type": "stream",
     "text": [
      "C:\\Users\\duPar\\Anaconda3\\envs\\oasis\\lib\\site-packages\\pandas\\core\\internals\\construction.py:576: VisibleDeprecationWarning: Creating an ndarray from ragged nested sequences (which is a list-or-tuple of lists-or-tuples-or ndarrays with different lengths or shapes) is deprecated. If you meant to do this, you must specify 'dtype=object' when creating the ndarray.\n",
      "  values = np.array([convert(v) for v in values])\n",
      "  8%|██████                                                                    | 441/5337 [6:08:44<40:40:20, 29.91s/it]"
     ]
    },
    {
     "name": "stdout",
     "output_type": "stream",
     "text": [
      "85\n"
     ]
    },
    {
     "name": "stderr",
     "output_type": "stream",
     "text": [
      "C:\\Users\\duPar\\Anaconda3\\envs\\oasis\\lib\\site-packages\\pandas\\core\\internals\\construction.py:576: VisibleDeprecationWarning: Creating an ndarray from ragged nested sequences (which is a list-or-tuple of lists-or-tuples-or ndarrays with different lengths or shapes) is deprecated. If you meant to do this, you must specify 'dtype=object' when creating the ndarray.\n",
      "  values = np.array([convert(v) for v in values])\n"
     ]
    },
    {
     "name": "stdout",
     "output_type": "stream",
     "text": [
      "88\n"
     ]
    },
    {
     "name": "stderr",
     "output_type": "stream",
     "text": [
      "  8%|██████▏                                                                   | 442/5337 [6:09:08<38:01:34, 27.97s/it]C:\\Users\\duPar\\Anaconda3\\envs\\oasis\\lib\\site-packages\\pandas\\core\\internals\\construction.py:576: VisibleDeprecationWarning: Creating an ndarray from ragged nested sequences (which is a list-or-tuple of lists-or-tuples-or ndarrays with different lengths or shapes) is deprecated. If you meant to do this, you must specify 'dtype=object' when creating the ndarray.\n",
      "  values = np.array([convert(v) for v in values])\n",
      "  8%|██████▏                                                                   | 443/5337 [6:09:17<30:15:45, 22.26s/it]"
     ]
    },
    {
     "name": "stdout",
     "output_type": "stream",
     "text": [
      "36\n"
     ]
    },
    {
     "name": "stderr",
     "output_type": "stream",
     "text": [
      "C:\\Users\\duPar\\Anaconda3\\envs\\oasis\\lib\\site-packages\\pandas\\core\\internals\\construction.py:576: VisibleDeprecationWarning: Creating an ndarray from ragged nested sequences (which is a list-or-tuple of lists-or-tuples-or ndarrays with different lengths or shapes) is deprecated. If you meant to do this, you must specify 'dtype=object' when creating the ndarray.\n",
      "  values = np.array([convert(v) for v in values])\n",
      "  8%|██████▏                                                                   | 444/5337 [6:09:29<26:20:33, 19.38s/it]"
     ]
    },
    {
     "name": "stdout",
     "output_type": "stream",
     "text": [
      "51\n"
     ]
    },
    {
     "name": "stderr",
     "output_type": "stream",
     "text": [
      "C:\\Users\\duPar\\Anaconda3\\envs\\oasis\\lib\\site-packages\\pandas\\core\\internals\\construction.py:576: VisibleDeprecationWarning: Creating an ndarray from ragged nested sequences (which is a list-or-tuple of lists-or-tuples-or ndarrays with different lengths or shapes) is deprecated. If you meant to do this, you must specify 'dtype=object' when creating the ndarray.\n",
      "  values = np.array([convert(v) for v in values])\n",
      "  8%|██████▏                                                                   | 445/5337 [6:09:33<19:58:31, 14.70s/it]"
     ]
    },
    {
     "name": "stdout",
     "output_type": "stream",
     "text": [
      "15\n"
     ]
    },
    {
     "name": "stderr",
     "output_type": "stream",
     "text": [
      "C:\\Users\\duPar\\Anaconda3\\envs\\oasis\\lib\\site-packages\\pandas\\core\\internals\\construction.py:576: VisibleDeprecationWarning: Creating an ndarray from ragged nested sequences (which is a list-or-tuple of lists-or-tuples-or ndarrays with different lengths or shapes) is deprecated. If you meant to do this, you must specify 'dtype=object' when creating the ndarray.\n",
      "  values = np.array([convert(v) for v in values])\n",
      "  8%|██████▏                                                                   | 446/5337 [6:09:36<15:06:29, 11.12s/it]"
     ]
    },
    {
     "name": "stdout",
     "output_type": "stream",
     "text": [
      "11\n"
     ]
    },
    {
     "name": "stderr",
     "output_type": "stream",
     "text": [
      "C:\\Users\\duPar\\Anaconda3\\envs\\oasis\\lib\\site-packages\\pandas\\core\\internals\\construction.py:576: VisibleDeprecationWarning: Creating an ndarray from ragged nested sequences (which is a list-or-tuple of lists-or-tuples-or ndarrays with different lengths or shapes) is deprecated. If you meant to do this, you must specify 'dtype=object' when creating the ndarray.\n",
      "  values = np.array([convert(v) for v in values])\n",
      "  8%|██████▏                                                                   | 447/5337 [6:09:54<17:51:11, 13.14s/it]"
     ]
    },
    {
     "name": "stdout",
     "output_type": "stream",
     "text": [
      "72\n"
     ]
    },
    {
     "name": "stderr",
     "output_type": "stream",
     "text": [
      "C:\\Users\\duPar\\Anaconda3\\envs\\oasis\\lib\\site-packages\\pandas\\core\\internals\\construction.py:576: VisibleDeprecationWarning: Creating an ndarray from ragged nested sequences (which is a list-or-tuple of lists-or-tuples-or ndarrays with different lengths or shapes) is deprecated. If you meant to do this, you must specify 'dtype=object' when creating the ndarray.\n",
      "  values = np.array([convert(v) for v in values])\n",
      "  8%|██████▏                                                                   | 448/5337 [6:10:10<18:57:14, 13.96s/it]"
     ]
    },
    {
     "name": "stdout",
     "output_type": "stream",
     "text": [
      "65\n"
     ]
    },
    {
     "name": "stderr",
     "output_type": "stream",
     "text": [
      "C:\\Users\\duPar\\Anaconda3\\envs\\oasis\\lib\\site-packages\\pandas\\core\\internals\\construction.py:576: VisibleDeprecationWarning: Creating an ndarray from ragged nested sequences (which is a list-or-tuple of lists-or-tuples-or ndarrays with different lengths or shapes) is deprecated. If you meant to do this, you must specify 'dtype=object' when creating the ndarray.\n",
      "  values = np.array([convert(v) for v in values])\n",
      "  8%|██████▏                                                                   | 449/5337 [6:10:26<19:53:19, 14.65s/it]"
     ]
    },
    {
     "name": "stdout",
     "output_type": "stream",
     "text": [
      "66\n"
     ]
    },
    {
     "name": "stderr",
     "output_type": "stream",
     "text": [
      "C:\\Users\\duPar\\Anaconda3\\envs\\oasis\\lib\\site-packages\\pandas\\core\\internals\\construction.py:576: VisibleDeprecationWarning: Creating an ndarray from ragged nested sequences (which is a list-or-tuple of lists-or-tuples-or ndarrays with different lengths or shapes) is deprecated. If you meant to do this, you must specify 'dtype=object' when creating the ndarray.\n",
      "  values = np.array([convert(v) for v in values])\n",
      "  8%|██████▏                                                                   | 450/5337 [6:10:53<24:47:43, 18.27s/it]C:\\Users\\duPar\\Anaconda3\\envs\\oasis\\lib\\site-packages\\pandas\\core\\internals\\construction.py:576: VisibleDeprecationWarning: Creating an ndarray from ragged nested sequences (which is a list-or-tuple of lists-or-tuples-or ndarrays with different lengths or shapes) is deprecated. If you meant to do this, you must specify 'dtype=object' when creating the ndarray.\n",
      "  values = np.array([convert(v) for v in values])\n",
      "  8%|██████▎                                                                   | 451/5337 [6:10:56<18:41:52, 13.78s/it]C:\\Users\\duPar\\Anaconda3\\envs\\oasis\\lib\\site-packages\\pandas\\core\\internals\\construction.py:576: VisibleDeprecationWarning: Creating an ndarray from ragged nested sequences (which is a list-or-tuple of lists-or-tuples-or ndarrays with different lengths or shapes) is deprecated. If you meant to do this, you must specify 'dtype=object' when creating the ndarray.\n",
      "  values = np.array([convert(v) for v in values])\n",
      "  8%|██████▎                                                                   | 452/5337 [6:11:00<14:56:12, 11.01s/it]C:\\Users\\duPar\\Anaconda3\\envs\\oasis\\lib\\site-packages\\pandas\\core\\internals\\construction.py:576: VisibleDeprecationWarning: Creating an ndarray from ragged nested sequences (which is a list-or-tuple of lists-or-tuples-or ndarrays with different lengths or shapes) is deprecated. If you meant to do this, you must specify 'dtype=object' when creating the ndarray.\n",
      "  values = np.array([convert(v) for v in values])\n"
     ]
    },
    {
     "name": "stdout",
     "output_type": "stream",
     "text": [
      "18\n"
     ]
    },
    {
     "name": "stderr",
     "output_type": "stream",
     "text": [
      "  8%|██████▎                                                                   | 453/5337 [6:11:06<12:36:00,  9.29s/it]C:\\Users\\duPar\\Anaconda3\\envs\\oasis\\lib\\site-packages\\pandas\\core\\internals\\construction.py:576: VisibleDeprecationWarning: Creating an ndarray from ragged nested sequences (which is a list-or-tuple of lists-or-tuples-or ndarrays with different lengths or shapes) is deprecated. If you meant to do this, you must specify 'dtype=object' when creating the ndarray.\n",
      "  values = np.array([convert(v) for v in values])\n",
      "  9%|██████▎                                                                   | 454/5337 [6:11:12<11:15:19,  8.30s/it]C:\\Users\\duPar\\Anaconda3\\envs\\oasis\\lib\\site-packages\\pandas\\core\\internals\\construction.py:576: VisibleDeprecationWarning: Creating an ndarray from ragged nested sequences (which is a list-or-tuple of lists-or-tuples-or ndarrays with different lengths or shapes) is deprecated. If you meant to do this, you must specify 'dtype=object' when creating the ndarray.\n",
      "  values = np.array([convert(v) for v in values])\n",
      "  9%|██████▍                                                                    | 455/5337 [6:11:14<8:48:40,  6.50s/it]C:\\Users\\duPar\\Anaconda3\\envs\\oasis\\lib\\site-packages\\pandas\\core\\internals\\construction.py:576: VisibleDeprecationWarning: Creating an ndarray from ragged nested sequences (which is a list-or-tuple of lists-or-tuples-or ndarrays with different lengths or shapes) is deprecated. If you meant to do this, you must specify 'dtype=object' when creating the ndarray.\n",
      "  values = np.array([convert(v) for v in values])\n"
     ]
    },
    {
     "name": "stdout",
     "output_type": "stream",
     "text": [
      "24\n",
      "284\n"
     ]
    },
    {
     "name": "stderr",
     "output_type": "stream",
     "text": [
      "  9%|██████▎                                                                   | 456/5337 [6:13:17<56:05:40, 41.37s/it]C:\\Users\\duPar\\Anaconda3\\envs\\oasis\\lib\\site-packages\\pandas\\core\\internals\\construction.py:576: VisibleDeprecationWarning: Creating an ndarray from ragged nested sequences (which is a list-or-tuple of lists-or-tuples-or ndarrays with different lengths or shapes) is deprecated. If you meant to do this, you must specify 'dtype=object' when creating the ndarray.\n",
      "  values = np.array([convert(v) for v in values])\n",
      "  9%|██████▎                                                                   | 457/5337 [6:13:28<43:37:24, 32.18s/it]"
     ]
    },
    {
     "name": "stdout",
     "output_type": "stream",
     "text": [
      "43\n"
     ]
    },
    {
     "name": "stderr",
     "output_type": "stream",
     "text": [
      "C:\\Users\\duPar\\Anaconda3\\envs\\oasis\\lib\\site-packages\\pandas\\core\\internals\\construction.py:576: VisibleDeprecationWarning: Creating an ndarray from ragged nested sequences (which is a list-or-tuple of lists-or-tuples-or ndarrays with different lengths or shapes) is deprecated. If you meant to do this, you must specify 'dtype=object' when creating the ndarray.\n",
      "  values = np.array([convert(v) for v in values])\n",
      "  9%|██████▎                                                                   | 458/5337 [6:13:52<40:37:32, 29.98s/it]"
     ]
    },
    {
     "name": "stdout",
     "output_type": "stream",
     "text": [
      "100\n"
     ]
    },
    {
     "name": "stderr",
     "output_type": "stream",
     "text": [
      "C:\\Users\\duPar\\Anaconda3\\envs\\oasis\\lib\\site-packages\\pandas\\core\\internals\\construction.py:576: VisibleDeprecationWarning: Creating an ndarray from ragged nested sequences (which is a list-or-tuple of lists-or-tuples-or ndarrays with different lengths or shapes) is deprecated. If you meant to do this, you must specify 'dtype=object' when creating the ndarray.\n",
      "  values = np.array([convert(v) for v in values])\n",
      "  9%|██████▎                                                                   | 459/5337 [6:14:32<44:34:45, 32.90s/it]"
     ]
    },
    {
     "name": "stdout",
     "output_type": "stream",
     "text": [
      "160\n"
     ]
    },
    {
     "name": "stderr",
     "output_type": "stream",
     "text": [
      "C:\\Users\\duPar\\Anaconda3\\envs\\oasis\\lib\\site-packages\\pandas\\core\\internals\\construction.py:576: VisibleDeprecationWarning: Creating an ndarray from ragged nested sequences (which is a list-or-tuple of lists-or-tuples-or ndarrays with different lengths or shapes) is deprecated. If you meant to do this, you must specify 'dtype=object' when creating the ndarray.\n",
      "  values = np.array([convert(v) for v in values])\n"
     ]
    },
    {
     "name": "stdout",
     "output_type": "stream",
     "text": [
      "196\n"
     ]
    },
    {
     "name": "stderr",
     "output_type": "stream",
     "text": [
      "  9%|██████▍                                                                   | 460/5337 [6:16:00<66:56:51, 49.42s/it]C:\\Users\\duPar\\Anaconda3\\envs\\oasis\\lib\\site-packages\\pandas\\core\\internals\\construction.py:576: VisibleDeprecationWarning: Creating an ndarray from ragged nested sequences (which is a list-or-tuple of lists-or-tuples-or ndarrays with different lengths or shapes) is deprecated. If you meant to do this, you must specify 'dtype=object' when creating the ndarray.\n",
      "  values = np.array([convert(v) for v in values])\n"
     ]
    },
    {
     "name": "stdout",
     "output_type": "stream",
     "text": [
      "153\n",
      "262\n"
     ]
    },
    {
     "name": "stderr",
     "output_type": "stream",
     "text": [
      "  9%|██████▍                                                                   | 461/5337 [6:17:06<73:34:46, 54.32s/it]C:\\Users\\duPar\\Anaconda3\\envs\\oasis\\lib\\site-packages\\pandas\\core\\internals\\construction.py:576: VisibleDeprecationWarning: Creating an ndarray from ragged nested sequences (which is a list-or-tuple of lists-or-tuples-or ndarrays with different lengths or shapes) is deprecated. If you meant to do this, you must specify 'dtype=object' when creating the ndarray.\n",
      "  values = np.array([convert(v) for v in values])\n"
     ]
    },
    {
     "name": "stdout",
     "output_type": "stream",
     "text": [
      "25\n",
      "139\n",
      "291\n",
      "426\n"
     ]
    },
    {
     "name": "stderr",
     "output_type": "stream",
     "text": [
      "  9%|██████▍                                                                   | 462/5337 [6:18:51<94:11:29, 69.56s/it]C:\\Users\\duPar\\Anaconda3\\envs\\oasis\\lib\\site-packages\\pandas\\core\\internals\\construction.py:576: VisibleDeprecationWarning: Creating an ndarray from ragged nested sequences (which is a list-or-tuple of lists-or-tuples-or ndarrays with different lengths or shapes) is deprecated. If you meant to do this, you must specify 'dtype=object' when creating the ndarray.\n",
      "  values = np.array([convert(v) for v in values])\n"
     ]
    },
    {
     "name": "stdout",
     "output_type": "stream",
     "text": [
      "178\n",
      "354\n",
      "358\n"
     ]
    },
    {
     "name": "stderr",
     "output_type": "stream",
     "text": [
      "  9%|██████▎                                                                  | 463/5337 [6:20:19<101:46:57, 75.18s/it]C:\\Users\\duPar\\Anaconda3\\envs\\oasis\\lib\\site-packages\\pandas\\core\\internals\\construction.py:576: VisibleDeprecationWarning: Creating an ndarray from ragged nested sequences (which is a list-or-tuple of lists-or-tuples-or ndarrays with different lengths or shapes) is deprecated. If you meant to do this, you must specify 'dtype=object' when creating the ndarray.\n",
      "  values = np.array([convert(v) for v in values])\n"
     ]
    },
    {
     "name": "stdout",
     "output_type": "stream",
     "text": [
      "80\n"
     ]
    },
    {
     "name": "stderr",
     "output_type": "stream",
     "text": [
      "  9%|██████▎                                                                  | 464/5337 [6:22:31<124:41:39, 92.12s/it]C:\\Users\\duPar\\Anaconda3\\envs\\oasis\\lib\\site-packages\\pandas\\core\\internals\\construction.py:576: VisibleDeprecationWarning: Creating an ndarray from ragged nested sequences (which is a list-or-tuple of lists-or-tuples-or ndarrays with different lengths or shapes) is deprecated. If you meant to do this, you must specify 'dtype=object' when creating the ndarray.\n",
      "  values = np.array([convert(v) for v in values])\n"
     ]
    },
    {
     "name": "stdout",
     "output_type": "stream",
     "text": [
      "90\n",
      "322\n"
     ]
    },
    {
     "name": "stderr",
     "output_type": "stream",
     "text": [
      "  9%|██████▎                                                                  | 465/5337 [6:24:19<131:05:46, 96.87s/it]C:\\Users\\duPar\\Anaconda3\\envs\\oasis\\lib\\site-packages\\pandas\\core\\internals\\construction.py:576: VisibleDeprecationWarning: Creating an ndarray from ragged nested sequences (which is a list-or-tuple of lists-or-tuples-or ndarrays with different lengths or shapes) is deprecated. If you meant to do this, you must specify 'dtype=object' when creating the ndarray.\n",
      "  values = np.array([convert(v) for v in values])\n"
     ]
    },
    {
     "name": "stdout",
     "output_type": "stream",
     "text": [
      "7\n",
      "17\n",
      "485\n"
     ]
    },
    {
     "name": "stderr",
     "output_type": "stream",
     "text": [
      "  9%|██████▎                                                                 | 466/5337 [6:26:24<142:32:29, 105.35s/it]C:\\Users\\duPar\\Anaconda3\\envs\\oasis\\lib\\site-packages\\pandas\\core\\internals\\construction.py:576: VisibleDeprecationWarning: Creating an ndarray from ragged nested sequences (which is a list-or-tuple of lists-or-tuples-or ndarrays with different lengths or shapes) is deprecated. If you meant to do this, you must specify 'dtype=object' when creating the ndarray.\n",
      "  values = np.array([convert(v) for v in values])\n"
     ]
    },
    {
     "name": "stdout",
     "output_type": "stream",
     "text": [
      "356\n",
      "414\n"
     ]
    },
    {
     "name": "stderr",
     "output_type": "stream",
     "text": [
      "  9%|██████▎                                                                 | 467/5337 [6:28:09<142:20:38, 105.22s/it]C:\\Users\\duPar\\Anaconda3\\envs\\oasis\\lib\\site-packages\\pandas\\core\\internals\\construction.py:576: VisibleDeprecationWarning: Creating an ndarray from ragged nested sequences (which is a list-or-tuple of lists-or-tuples-or ndarrays with different lengths or shapes) is deprecated. If you meant to do this, you must specify 'dtype=object' when creating the ndarray.\n",
      "  values = np.array([convert(v) for v in values])\n"
     ]
    },
    {
     "name": "stdout",
     "output_type": "stream",
     "text": [
      "24\n"
     ]
    },
    {
     "name": "stderr",
     "output_type": "stream",
     "text": [
      "  9%|██████▎                                                                 | 468/5337 [6:30:15<150:40:00, 111.40s/it]C:\\Users\\duPar\\Anaconda3\\envs\\oasis\\lib\\site-packages\\pandas\\core\\internals\\construction.py:576: VisibleDeprecationWarning: Creating an ndarray from ragged nested sequences (which is a list-or-tuple of lists-or-tuples-or ndarrays with different lengths or shapes) is deprecated. If you meant to do this, you must specify 'dtype=object' when creating the ndarray.\n",
      "  values = np.array([convert(v) for v in values])\n",
      "  9%|██████▎                                                                 | 469/5337 [6:32:21<156:44:39, 115.92s/it]C:\\Users\\duPar\\Anaconda3\\envs\\oasis\\lib\\site-packages\\pandas\\core\\internals\\construction.py:576: VisibleDeprecationWarning: Creating an ndarray from ragged nested sequences (which is a list-or-tuple of lists-or-tuples-or ndarrays with different lengths or shapes) is deprecated. If you meant to do this, you must specify 'dtype=object' when creating the ndarray.\n",
      "  values = np.array([convert(v) for v in values])\n"
     ]
    },
    {
     "name": "stdout",
     "output_type": "stream",
     "text": [
      "48\n",
      "282\n",
      "392\n",
      "499\n"
     ]
    },
    {
     "name": "stderr",
     "output_type": "stream",
     "text": [
      "  9%|██████▎                                                                 | 470/5337 [6:34:27<160:35:01, 118.78s/it]C:\\Users\\duPar\\Anaconda3\\envs\\oasis\\lib\\site-packages\\pandas\\core\\internals\\construction.py:576: VisibleDeprecationWarning: Creating an ndarray from ragged nested sequences (which is a list-or-tuple of lists-or-tuples-or ndarrays with different lengths or shapes) is deprecated. If you meant to do this, you must specify 'dtype=object' when creating the ndarray.\n",
      "  values = np.array([convert(v) for v in values])\n",
      "  9%|██████▎                                                                 | 471/5337 [6:36:34<164:00:51, 121.34s/it]C:\\Users\\duPar\\Anaconda3\\envs\\oasis\\lib\\site-packages\\pandas\\core\\internals\\construction.py:576: VisibleDeprecationWarning: Creating an ndarray from ragged nested sequences (which is a list-or-tuple of lists-or-tuples-or ndarrays with different lengths or shapes) is deprecated. If you meant to do this, you must specify 'dtype=object' when creating the ndarray.\n",
      "  values = np.array([convert(v) for v in values])\n",
      "  9%|██████▎                                                                 | 472/5337 [6:38:41<166:24:22, 123.14s/it]C:\\Users\\duPar\\Anaconda3\\envs\\oasis\\lib\\site-packages\\pandas\\core\\internals\\construction.py:576: VisibleDeprecationWarning: Creating an ndarray from ragged nested sequences (which is a list-or-tuple of lists-or-tuples-or ndarrays with different lengths or shapes) is deprecated. If you meant to do this, you must specify 'dtype=object' when creating the ndarray.\n",
      "  values = np.array([convert(v) for v in values])\n"
     ]
    },
    {
     "name": "stdout",
     "output_type": "stream",
     "text": [
      "340\n"
     ]
    },
    {
     "name": "stderr",
     "output_type": "stream",
     "text": [
      "  9%|██████▍                                                                 | 473/5337 [6:40:14<154:00:02, 113.98s/it]C:\\Users\\duPar\\Anaconda3\\envs\\oasis\\lib\\site-packages\\pandas\\core\\internals\\construction.py:576: VisibleDeprecationWarning: Creating an ndarray from ragged nested sequences (which is a list-or-tuple of lists-or-tuples-or ndarrays with different lengths or shapes) is deprecated. If you meant to do this, you must specify 'dtype=object' when creating the ndarray.\n",
      "  values = np.array([convert(v) for v in values])\n",
      "  9%|██████▍                                                                 | 474/5337 [6:42:22<159:40:52, 118.21s/it]C:\\Users\\duPar\\Anaconda3\\envs\\oasis\\lib\\site-packages\\pandas\\core\\internals\\construction.py:576: VisibleDeprecationWarning: Creating an ndarray from ragged nested sequences (which is a list-or-tuple of lists-or-tuples-or ndarrays with different lengths or shapes) is deprecated. If you meant to do this, you must specify 'dtype=object' when creating the ndarray.\n",
      "  values = np.array([convert(v) for v in values])\n",
      "  9%|██████▍                                                                 | 475/5337 [6:44:30<163:32:19, 121.09s/it]C:\\Users\\duPar\\Anaconda3\\envs\\oasis\\lib\\site-packages\\pandas\\core\\internals\\construction.py:576: VisibleDeprecationWarning: Creating an ndarray from ragged nested sequences (which is a list-or-tuple of lists-or-tuples-or ndarrays with different lengths or shapes) is deprecated. If you meant to do this, you must specify 'dtype=object' when creating the ndarray.\n",
      "  values = np.array([convert(v) for v in values])\n"
     ]
    },
    {
     "name": "stdout",
     "output_type": "stream",
     "text": [
      "137\n",
      "359\n",
      "435\n"
     ]
    },
    {
     "name": "stderr",
     "output_type": "stream",
     "text": [
      "  9%|██████▍                                                                 | 476/5337 [6:46:38<166:22:19, 123.21s/it]C:\\Users\\duPar\\Anaconda3\\envs\\oasis\\lib\\site-packages\\pandas\\core\\internals\\construction.py:576: VisibleDeprecationWarning: Creating an ndarray from ragged nested sequences (which is a list-or-tuple of lists-or-tuples-or ndarrays with different lengths or shapes) is deprecated. If you meant to do this, you must specify 'dtype=object' when creating the ndarray.\n",
      "  values = np.array([convert(v) for v in values])\n"
     ]
    },
    {
     "name": "stdout",
     "output_type": "stream",
     "text": [
      "165\n"
     ]
    },
    {
     "name": "stderr",
     "output_type": "stream",
     "text": [
      "  9%|██████▍                                                                 | 477/5337 [6:48:36<164:14:36, 121.66s/it]C:\\Users\\duPar\\Anaconda3\\envs\\oasis\\lib\\site-packages\\pandas\\core\\internals\\construction.py:576: VisibleDeprecationWarning: Creating an ndarray from ragged nested sequences (which is a list-or-tuple of lists-or-tuples-or ndarrays with different lengths or shapes) is deprecated. If you meant to do this, you must specify 'dtype=object' when creating the ndarray.\n",
      "  values = np.array([convert(v) for v in values])\n"
     ]
    },
    {
     "name": "stdout",
     "output_type": "stream",
     "text": [
      "9\n",
      "197\n"
     ]
    },
    {
     "name": "stderr",
     "output_type": "stream",
     "text": [
      "  9%|██████▍                                                                 | 478/5337 [6:49:27<135:26:02, 100.34s/it]C:\\Users\\duPar\\Anaconda3\\envs\\oasis\\lib\\site-packages\\pandas\\core\\internals\\construction.py:576: VisibleDeprecationWarning: Creating an ndarray from ragged nested sequences (which is a list-or-tuple of lists-or-tuples-or ndarrays with different lengths or shapes) is deprecated. If you meant to do this, you must specify 'dtype=object' when creating the ndarray.\n",
      "  values = np.array([convert(v) for v in values])\n"
     ]
    },
    {
     "name": "stdout",
     "output_type": "stream",
     "text": [
      "140\n"
     ]
    },
    {
     "name": "stderr",
     "output_type": "stream",
     "text": [
      "  9%|██████▌                                                                  | 479/5337 [6:50:06<110:52:17, 82.16s/it]C:\\Users\\duPar\\Anaconda3\\envs\\oasis\\lib\\site-packages\\pandas\\core\\internals\\construction.py:576: VisibleDeprecationWarning: Creating an ndarray from ragged nested sequences (which is a list-or-tuple of lists-or-tuples-or ndarrays with different lengths or shapes) is deprecated. If you meant to do this, you must specify 'dtype=object' when creating the ndarray.\n",
      "  values = np.array([convert(v) for v in values])\n"
     ]
    },
    {
     "name": "stdout",
     "output_type": "stream",
     "text": [
      "177\n",
      "295\n"
     ]
    },
    {
     "name": "stderr",
     "output_type": "stream",
     "text": [
      "  9%|██████▌                                                                  | 480/5337 [6:52:16<129:56:16, 96.31s/it]C:\\Users\\duPar\\Anaconda3\\envs\\oasis\\lib\\site-packages\\pandas\\core\\internals\\construction.py:576: VisibleDeprecationWarning: Creating an ndarray from ragged nested sequences (which is a list-or-tuple of lists-or-tuples-or ndarrays with different lengths or shapes) is deprecated. If you meant to do this, you must specify 'dtype=object' when creating the ndarray.\n",
      "  values = np.array([convert(v) for v in values])\n",
      "  9%|██████▌                                                                  | 481/5337 [6:52:45<102:52:41, 76.27s/it]C:\\Users\\duPar\\Anaconda3\\envs\\oasis\\lib\\site-packages\\pandas\\core\\internals\\construction.py:576: VisibleDeprecationWarning: Creating an ndarray from ragged nested sequences (which is a list-or-tuple of lists-or-tuples-or ndarrays with different lengths or shapes) is deprecated. If you meant to do this, you must specify 'dtype=object' when creating the ndarray.\n",
      "  values = np.array([convert(v) for v in values])\n",
      "  9%|██████▌                                                                  | 482/5337 [6:54:34<116:14:06, 86.19s/it]"
     ]
    },
    {
     "name": "stdout",
     "output_type": "stream",
     "text": [
      "422\n"
     ]
    },
    {
     "name": "stderr",
     "output_type": "stream",
     "text": [
      "C:\\Users\\duPar\\Anaconda3\\envs\\oasis\\lib\\site-packages\\pandas\\core\\internals\\construction.py:576: VisibleDeprecationWarning: Creating an ndarray from ragged nested sequences (which is a list-or-tuple of lists-or-tuples-or ndarrays with different lengths or shapes) is deprecated. If you meant to do this, you must specify 'dtype=object' when creating the ndarray.\n",
      "  values = np.array([convert(v) for v in values])\n",
      "  9%|██████▌                                                                  | 483/5337 [6:56:45<134:04:19, 99.44s/it]C:\\Users\\duPar\\Anaconda3\\envs\\oasis\\lib\\site-packages\\pandas\\core\\internals\\construction.py:576: VisibleDeprecationWarning: Creating an ndarray from ragged nested sequences (which is a list-or-tuple of lists-or-tuples-or ndarrays with different lengths or shapes) is deprecated. If you meant to do this, you must specify 'dtype=object' when creating the ndarray.\n",
      "  values = np.array([convert(v) for v in values])\n",
      "  9%|██████▌                                                                 | 484/5337 [6:58:56<147:05:27, 109.11s/it]C:\\Users\\duPar\\Anaconda3\\envs\\oasis\\lib\\site-packages\\pandas\\core\\internals\\construction.py:576: VisibleDeprecationWarning: Creating an ndarray from ragged nested sequences (which is a list-or-tuple of lists-or-tuples-or ndarrays with different lengths or shapes) is deprecated. If you meant to do this, you must specify 'dtype=object' when creating the ndarray.\n",
      "  values = np.array([convert(v) for v in values])\n",
      "  9%|██████▌                                                                 | 485/5337 [7:01:07<155:53:54, 115.67s/it]C:\\Users\\duPar\\Anaconda3\\envs\\oasis\\lib\\site-packages\\pandas\\core\\internals\\construction.py:576: VisibleDeprecationWarning: Creating an ndarray from ragged nested sequences (which is a list-or-tuple of lists-or-tuples-or ndarrays with different lengths or shapes) is deprecated. If you meant to do this, you must specify 'dtype=object' when creating the ndarray.\n",
      "  values = np.array([convert(v) for v in values])\n"
     ]
    },
    {
     "name": "stdout",
     "output_type": "stream",
     "text": [
      "291\n",
      "339\n"
     ]
    },
    {
     "name": "stderr",
     "output_type": "stream",
     "text": [
      "  9%|██████▌                                                                 | 486/5337 [7:03:18<161:53:47, 120.15s/it]C:\\Users\\duPar\\Anaconda3\\envs\\oasis\\lib\\site-packages\\pandas\\core\\internals\\construction.py:576: VisibleDeprecationWarning: Creating an ndarray from ragged nested sequences (which is a list-or-tuple of lists-or-tuples-or ndarrays with different lengths or shapes) is deprecated. If you meant to do this, you must specify 'dtype=object' when creating the ndarray.\n",
      "  values = np.array([convert(v) for v in values])\n"
     ]
    },
    {
     "name": "stdout",
     "output_type": "stream",
     "text": [
      "292\n",
      "384\n",
      "425\n"
     ]
    },
    {
     "name": "stderr",
     "output_type": "stream",
     "text": [
      "  9%|██████▌                                                                 | 487/5337 [7:05:29<166:07:44, 123.31s/it]C:\\Users\\duPar\\Anaconda3\\envs\\oasis\\lib\\site-packages\\pandas\\core\\internals\\construction.py:576: VisibleDeprecationWarning: Creating an ndarray from ragged nested sequences (which is a list-or-tuple of lists-or-tuples-or ndarrays with different lengths or shapes) is deprecated. If you meant to do this, you must specify 'dtype=object' when creating the ndarray.\n",
      "  values = np.array([convert(v) for v in values])\n",
      "  9%|██████▌                                                                 | 488/5337 [7:07:41<169:44:12, 126.02s/it]C:\\Users\\duPar\\Anaconda3\\envs\\oasis\\lib\\site-packages\\pandas\\core\\internals\\construction.py:576: VisibleDeprecationWarning: Creating an ndarray from ragged nested sequences (which is a list-or-tuple of lists-or-tuples-or ndarrays with different lengths or shapes) is deprecated. If you meant to do this, you must specify 'dtype=object' when creating the ndarray.\n",
      "  values = np.array([convert(v) for v in values])\n"
     ]
    },
    {
     "name": "stdout",
     "output_type": "stream",
     "text": [
      "318\n",
      "364\n"
     ]
    },
    {
     "name": "stderr",
     "output_type": "stream",
     "text": [
      "  9%|██████▌                                                                 | 489/5337 [7:09:53<172:07:11, 127.81s/it]C:\\Users\\duPar\\Anaconda3\\envs\\oasis\\lib\\site-packages\\pandas\\core\\internals\\construction.py:576: VisibleDeprecationWarning: Creating an ndarray from ragged nested sequences (which is a list-or-tuple of lists-or-tuples-or ndarrays with different lengths or shapes) is deprecated. If you meant to do this, you must specify 'dtype=object' when creating the ndarray.\n",
      "  values = np.array([convert(v) for v in values])\n"
     ]
    },
    {
     "name": "stdout",
     "output_type": "stream",
     "text": [
      "36\n",
      "42\n",
      "319\n",
      "351\n"
     ]
    },
    {
     "name": "stderr",
     "output_type": "stream",
     "text": [
      "  9%|██████▋                                                                  | 491/5337 [7:12:05<121:41:52, 90.41s/it]C:\\Users\\duPar\\Anaconda3\\envs\\oasis\\lib\\site-packages\\pandas\\core\\internals\\construction.py:576: VisibleDeprecationWarning: Creating an ndarray from ragged nested sequences (which is a list-or-tuple of lists-or-tuples-or ndarrays with different lengths or shapes) is deprecated. If you meant to do this, you must specify 'dtype=object' when creating the ndarray.\n",
      "  values = np.array([convert(v) for v in values])\n"
     ]
    },
    {
     "name": "stdout",
     "output_type": "stream",
     "text": [
      "452\n",
      "459\n"
     ]
    },
    {
     "name": "stderr",
     "output_type": "stream",
     "text": [
      "  9%|██████▋                                                                 | 492/5337 [7:14:18<138:49:57, 103.16s/it]C:\\Users\\duPar\\Anaconda3\\envs\\oasis\\lib\\site-packages\\pandas\\core\\internals\\construction.py:576: VisibleDeprecationWarning: Creating an ndarray from ragged nested sequences (which is a list-or-tuple of lists-or-tuples-or ndarrays with different lengths or shapes) is deprecated. If you meant to do this, you must specify 'dtype=object' when creating the ndarray.\n",
      "  values = np.array([convert(v) for v in values])\n"
     ]
    },
    {
     "name": "stdout",
     "output_type": "stream",
     "text": [
      "15\n",
      "32\n",
      "194\n",
      "384\n",
      "389\n"
     ]
    },
    {
     "name": "stderr",
     "output_type": "stream",
     "text": [
      "  9%|██████▋                                                                 | 493/5337 [7:16:31<150:51:13, 112.11s/it]C:\\Users\\duPar\\Anaconda3\\envs\\oasis\\lib\\site-packages\\pandas\\core\\internals\\construction.py:576: VisibleDeprecationWarning: Creating an ndarray from ragged nested sequences (which is a list-or-tuple of lists-or-tuples-or ndarrays with different lengths or shapes) is deprecated. If you meant to do this, you must specify 'dtype=object' when creating the ndarray.\n",
      "  values = np.array([convert(v) for v in values])\n"
     ]
    },
    {
     "name": "stdout",
     "output_type": "stream",
     "text": [
      "8\n",
      "15\n",
      "20\n"
     ]
    },
    {
     "name": "stderr",
     "output_type": "stream",
     "text": [
      "  9%|██████▋                                                                 | 494/5337 [7:18:44<159:16:53, 118.40s/it]C:\\Users\\duPar\\Anaconda3\\envs\\oasis\\lib\\site-packages\\pandas\\core\\internals\\construction.py:576: VisibleDeprecationWarning: Creating an ndarray from ragged nested sequences (which is a list-or-tuple of lists-or-tuples-or ndarrays with different lengths or shapes) is deprecated. If you meant to do this, you must specify 'dtype=object' when creating the ndarray.\n",
      "  values = np.array([convert(v) for v in values])\n"
     ]
    },
    {
     "name": "stdout",
     "output_type": "stream",
     "text": [
      "55\n"
     ]
    },
    {
     "name": "stderr",
     "output_type": "stream",
     "text": [
      "  9%|██████▋                                                                 | 495/5337 [7:20:58<165:32:00, 123.07s/it]C:\\Users\\duPar\\Anaconda3\\envs\\oasis\\lib\\site-packages\\pandas\\core\\internals\\construction.py:576: VisibleDeprecationWarning: Creating an ndarray from ragged nested sequences (which is a list-or-tuple of lists-or-tuples-or ndarrays with different lengths or shapes) is deprecated. If you meant to do this, you must specify 'dtype=object' when creating the ndarray.\n",
      "  values = np.array([convert(v) for v in values])\n"
     ]
    },
    {
     "name": "stdout",
     "output_type": "stream",
     "text": [
      "147\n",
      "181\n",
      "199\n",
      "202\n",
      "240\n",
      "363\n",
      "364\n",
      "365\n",
      "406\n",
      "445\n",
      "465\n"
     ]
    },
    {
     "name": "stderr",
     "output_type": "stream",
     "text": [
      "  9%|██████▋                                                                 | 496/5337 [7:23:10<168:54:46, 125.61s/it]C:\\Users\\duPar\\Anaconda3\\envs\\oasis\\lib\\site-packages\\pandas\\core\\internals\\construction.py:576: VisibleDeprecationWarning: Creating an ndarray from ragged nested sequences (which is a list-or-tuple of lists-or-tuples-or ndarrays with different lengths or shapes) is deprecated. If you meant to do this, you must specify 'dtype=object' when creating the ndarray.\n",
      "  values = np.array([convert(v) for v in values])\n"
     ]
    },
    {
     "name": "stdout",
     "output_type": "stream",
     "text": [
      "174\n"
     ]
    },
    {
     "name": "stderr",
     "output_type": "stream",
     "text": [
      "  9%|██████▋                                                                 | 497/5337 [7:25:24<172:28:03, 128.28s/it]C:\\Users\\duPar\\Anaconda3\\envs\\oasis\\lib\\site-packages\\pandas\\core\\internals\\construction.py:576: VisibleDeprecationWarning: Creating an ndarray from ragged nested sequences (which is a list-or-tuple of lists-or-tuples-or ndarrays with different lengths or shapes) is deprecated. If you meant to do this, you must specify 'dtype=object' when creating the ndarray.\n",
      "  values = np.array([convert(v) for v in values])\n"
     ]
    },
    {
     "name": "stdout",
     "output_type": "stream",
     "text": [
      "14\n",
      "16\n",
      "17\n",
      "41\n",
      "46\n",
      "50\n",
      "84\n",
      "119\n",
      "130\n",
      "156\n",
      "160\n",
      "168\n",
      "171\n",
      "180\n",
      "211\n",
      "222\n",
      "236\n",
      "305\n",
      "312\n",
      "322\n",
      "324\n",
      "351\n",
      "392\n",
      "422\n",
      "464\n",
      "488\n"
     ]
    },
    {
     "name": "stderr",
     "output_type": "stream",
     "text": [
      "  9%|██████▋                                                                 | 498/5337 [7:27:32<172:17:58, 128.18s/it]C:\\Users\\duPar\\Anaconda3\\envs\\oasis\\lib\\site-packages\\pandas\\core\\internals\\construction.py:576: VisibleDeprecationWarning: Creating an ndarray from ragged nested sequences (which is a list-or-tuple of lists-or-tuples-or ndarrays with different lengths or shapes) is deprecated. If you meant to do this, you must specify 'dtype=object' when creating the ndarray.\n",
      "  values = np.array([convert(v) for v in values])\n"
     ]
    },
    {
     "name": "stdout",
     "output_type": "stream",
     "text": [
      "250\n"
     ]
    },
    {
     "name": "stderr",
     "output_type": "stream",
     "text": [
      "  9%|██████▋                                                                 | 499/5337 [7:29:48<175:10:43, 130.35s/it]C:\\Users\\duPar\\Anaconda3\\envs\\oasis\\lib\\site-packages\\pandas\\core\\internals\\construction.py:576: VisibleDeprecationWarning: Creating an ndarray from ragged nested sequences (which is a list-or-tuple of lists-or-tuples-or ndarrays with different lengths or shapes) is deprecated. If you meant to do this, you must specify 'dtype=object' when creating the ndarray.\n",
      "  values = np.array([convert(v) for v in values])\n"
     ]
    },
    {
     "name": "stdout",
     "output_type": "stream",
     "text": [
      "80\n"
     ]
    },
    {
     "name": "stderr",
     "output_type": "stream",
     "text": [
      "  9%|██████▋                                                                 | 500/5337 [7:32:03<177:14:30, 131.91s/it]C:\\Users\\duPar\\Anaconda3\\envs\\oasis\\lib\\site-packages\\pandas\\core\\internals\\construction.py:576: VisibleDeprecationWarning: Creating an ndarray from ragged nested sequences (which is a list-or-tuple of lists-or-tuples-or ndarrays with different lengths or shapes) is deprecated. If you meant to do this, you must specify 'dtype=object' when creating the ndarray.\n",
      "  values = np.array([convert(v) for v in values])\n",
      "  9%|██████▊                                                                  | 502/5337 [7:34:20<125:21:53, 93.34s/it]C:\\Users\\duPar\\Anaconda3\\envs\\oasis\\lib\\site-packages\\pandas\\core\\internals\\construction.py:576: VisibleDeprecationWarning: Creating an ndarray from ragged nested sequences (which is a list-or-tuple of lists-or-tuples-or ndarrays with different lengths or shapes) is deprecated. If you meant to do this, you must specify 'dtype=object' when creating the ndarray.\n",
      "  values = np.array([convert(v) for v in values])\n"
     ]
    },
    {
     "name": "stdout",
     "output_type": "stream",
     "text": [
      "4\n",
      "6\n",
      "339\n"
     ]
    },
    {
     "name": "stderr",
     "output_type": "stream",
     "text": [
      "  9%|██████▊                                                                 | 503/5337 [7:36:35<142:24:08, 106.05s/it]C:\\Users\\duPar\\Anaconda3\\envs\\oasis\\lib\\site-packages\\pandas\\core\\internals\\construction.py:576: VisibleDeprecationWarning: Creating an ndarray from ragged nested sequences (which is a list-or-tuple of lists-or-tuples-or ndarrays with different lengths or shapes) is deprecated. If you meant to do this, you must specify 'dtype=object' when creating the ndarray.\n",
      "  values = np.array([convert(v) for v in values])\n"
     ]
    },
    {
     "name": "stdout",
     "output_type": "stream",
     "text": [
      "159\n",
      "345\n"
     ]
    },
    {
     "name": "stderr",
     "output_type": "stream",
     "text": [
      "  9%|██████▊                                                                 | 504/5337 [7:38:52<154:47:10, 115.30s/it]C:\\Users\\duPar\\Anaconda3\\envs\\oasis\\lib\\site-packages\\pandas\\core\\internals\\construction.py:576: VisibleDeprecationWarning: Creating an ndarray from ragged nested sequences (which is a list-or-tuple of lists-or-tuples-or ndarrays with different lengths or shapes) is deprecated. If you meant to do this, you must specify 'dtype=object' when creating the ndarray.\n",
      "  values = np.array([convert(v) for v in values])\n"
     ]
    },
    {
     "name": "stdout",
     "output_type": "stream",
     "text": [
      "291\n",
      "460\n"
     ]
    },
    {
     "name": "stderr",
     "output_type": "stream",
     "text": [
      "  9%|██████▊                                                                 | 505/5337 [7:41:10<163:44:30, 121.99s/it]C:\\Users\\duPar\\Anaconda3\\envs\\oasis\\lib\\site-packages\\pandas\\core\\internals\\construction.py:576: VisibleDeprecationWarning: Creating an ndarray from ragged nested sequences (which is a list-or-tuple of lists-or-tuples-or ndarrays with different lengths or shapes) is deprecated. If you meant to do this, you must specify 'dtype=object' when creating the ndarray.\n",
      "  values = np.array([convert(v) for v in values])\n"
     ]
    },
    {
     "name": "stdout",
     "output_type": "stream",
     "text": [
      "367\n",
      "489\n"
     ]
    },
    {
     "name": "stderr",
     "output_type": "stream",
     "text": [
      "  9%|██████▊                                                                 | 506/5337 [7:43:27<169:40:17, 126.44s/it]C:\\Users\\duPar\\Anaconda3\\envs\\oasis\\lib\\site-packages\\pandas\\core\\internals\\construction.py:576: VisibleDeprecationWarning: Creating an ndarray from ragged nested sequences (which is a list-or-tuple of lists-or-tuples-or ndarrays with different lengths or shapes) is deprecated. If you meant to do this, you must specify 'dtype=object' when creating the ndarray.\n",
      "  values = np.array([convert(v) for v in values])\n"
     ]
    },
    {
     "name": "stdout",
     "output_type": "stream",
     "text": [
      "62\n"
     ]
    },
    {
     "name": "stderr",
     "output_type": "stream",
     "text": [
      "  9%|██████▊                                                                 | 507/5337 [7:45:45<174:16:04, 129.89s/it]C:\\Users\\duPar\\Anaconda3\\envs\\oasis\\lib\\site-packages\\pandas\\core\\internals\\construction.py:576: VisibleDeprecationWarning: Creating an ndarray from ragged nested sequences (which is a list-or-tuple of lists-or-tuples-or ndarrays with different lengths or shapes) is deprecated. If you meant to do this, you must specify 'dtype=object' when creating the ndarray.\n",
      "  values = np.array([convert(v) for v in values])\n",
      " 10%|██████▊                                                                 | 508/5337 [7:48:13<181:35:09, 135.37s/it]C:\\Users\\duPar\\Anaconda3\\envs\\oasis\\lib\\site-packages\\pandas\\core\\internals\\construction.py:576: VisibleDeprecationWarning: Creating an ndarray from ragged nested sequences (which is a list-or-tuple of lists-or-tuples-or ndarrays with different lengths or shapes) is deprecated. If you meant to do this, you must specify 'dtype=object' when creating the ndarray.\n",
      "  values = np.array([convert(v) for v in values])\n"
     ]
    },
    {
     "name": "stdout",
     "output_type": "stream",
     "text": [
      "82\n"
     ]
    },
    {
     "name": "stderr",
     "output_type": "stream",
     "text": [
      " 10%|██████▉                                                                 | 510/5337 [7:50:47<134:18:50, 100.17s/it]C:\\Users\\duPar\\Anaconda3\\envs\\oasis\\lib\\site-packages\\pandas\\core\\internals\\construction.py:576: VisibleDeprecationWarning: Creating an ndarray from ragged nested sequences (which is a list-or-tuple of lists-or-tuples-or ndarrays with different lengths or shapes) is deprecated. If you meant to do this, you must specify 'dtype=object' when creating the ndarray.\n",
      "  values = np.array([convert(v) for v in values])\n",
      " 10%|██████▉                                                                 | 511/5337 [7:53:09<151:06:57, 112.73s/it]C:\\Users\\duPar\\Anaconda3\\envs\\oasis\\lib\\site-packages\\pandas\\core\\internals\\construction.py:576: VisibleDeprecationWarning: Creating an ndarray from ragged nested sequences (which is a list-or-tuple of lists-or-tuples-or ndarrays with different lengths or shapes) is deprecated. If you meant to do this, you must specify 'dtype=object' when creating the ndarray.\n",
      "  values = np.array([convert(v) for v in values])\n"
     ]
    },
    {
     "name": "stdout",
     "output_type": "stream",
     "text": [
      "329\n"
     ]
    },
    {
     "name": "stderr",
     "output_type": "stream",
     "text": [
      " 10%|██████▉                                                                 | 512/5337 [7:55:31<162:47:39, 121.46s/it]C:\\Users\\duPar\\Anaconda3\\envs\\oasis\\lib\\site-packages\\pandas\\core\\internals\\construction.py:576: VisibleDeprecationWarning: Creating an ndarray from ragged nested sequences (which is a list-or-tuple of lists-or-tuples-or ndarrays with different lengths or shapes) is deprecated. If you meant to do this, you must specify 'dtype=object' when creating the ndarray.\n",
      "  values = np.array([convert(v) for v in values])\n",
      " 10%|██████▉                                                                 | 513/5337 [7:57:51<170:10:16, 126.99s/it]C:\\Users\\duPar\\Anaconda3\\envs\\oasis\\lib\\site-packages\\pandas\\core\\internals\\construction.py:576: VisibleDeprecationWarning: Creating an ndarray from ragged nested sequences (which is a list-or-tuple of lists-or-tuples-or ndarrays with different lengths or shapes) is deprecated. If you meant to do this, you must specify 'dtype=object' when creating the ndarray.\n",
      "  values = np.array([convert(v) for v in values])\n"
     ]
    },
    {
     "name": "stdout",
     "output_type": "stream",
     "text": [
      "6\n",
      "216\n"
     ]
    },
    {
     "name": "stderr",
     "output_type": "stream",
     "text": [
      " 10%|██████▉                                                                 | 514/5337 [8:00:12<175:44:54, 131.18s/it]C:\\Users\\duPar\\Anaconda3\\envs\\oasis\\lib\\site-packages\\pandas\\core\\internals\\construction.py:576: VisibleDeprecationWarning: Creating an ndarray from ragged nested sequences (which is a list-or-tuple of lists-or-tuples-or ndarrays with different lengths or shapes) is deprecated. If you meant to do this, you must specify 'dtype=object' when creating the ndarray.\n",
      "  values = np.array([convert(v) for v in values])\n"
     ]
    },
    {
     "name": "stdout",
     "output_type": "stream",
     "text": [
      "86\n",
      "213\n"
     ]
    },
    {
     "name": "stderr",
     "output_type": "stream",
     "text": [
      " 10%|██████▉                                                                 | 515/5337 [8:02:32<179:12:42, 133.80s/it]C:\\Users\\duPar\\Anaconda3\\envs\\oasis\\lib\\site-packages\\pandas\\core\\internals\\construction.py:576: VisibleDeprecationWarning: Creating an ndarray from ragged nested sequences (which is a list-or-tuple of lists-or-tuples-or ndarrays with different lengths or shapes) is deprecated. If you meant to do this, you must specify 'dtype=object' when creating the ndarray.\n",
      "  values = np.array([convert(v) for v in values])\n",
      " 10%|███████                                                                  | 517/5337 [8:04:52<127:25:26, 95.17s/it]C:\\Users\\duPar\\Anaconda3\\envs\\oasis\\lib\\site-packages\\pandas\\core\\internals\\construction.py:576: VisibleDeprecationWarning: Creating an ndarray from ragged nested sequences (which is a list-or-tuple of lists-or-tuples-or ndarrays with different lengths or shapes) is deprecated. If you meant to do this, you must specify 'dtype=object' when creating the ndarray.\n",
      "  values = np.array([convert(v) for v in values])\n"
     ]
    },
    {
     "name": "stdout",
     "output_type": "stream",
     "text": [
      "203\n"
     ]
    },
    {
     "name": "stderr",
     "output_type": "stream",
     "text": [
      " 10%|██████▉                                                                 | 518/5337 [8:07:17<147:21:00, 110.08s/it]C:\\Users\\duPar\\Anaconda3\\envs\\oasis\\lib\\site-packages\\pandas\\core\\internals\\construction.py:576: VisibleDeprecationWarning: Creating an ndarray from ragged nested sequences (which is a list-or-tuple of lists-or-tuples-or ndarrays with different lengths or shapes) is deprecated. If you meant to do this, you must specify 'dtype=object' when creating the ndarray.\n",
      "  values = np.array([convert(v) for v in values])\n"
     ]
    },
    {
     "name": "stdout",
     "output_type": "stream",
     "text": [
      "99\n",
      "130\n"
     ]
    },
    {
     "name": "stderr",
     "output_type": "stream",
     "text": [
      " 10%|███████                                                                 | 519/5337 [8:09:42<161:17:56, 120.52s/it]C:\\Users\\duPar\\Anaconda3\\envs\\oasis\\lib\\site-packages\\pandas\\core\\internals\\construction.py:576: VisibleDeprecationWarning: Creating an ndarray from ragged nested sequences (which is a list-or-tuple of lists-or-tuples-or ndarrays with different lengths or shapes) is deprecated. If you meant to do this, you must specify 'dtype=object' when creating the ndarray.\n",
      "  values = np.array([convert(v) for v in values])\n"
     ]
    },
    {
     "name": "stdout",
     "output_type": "stream",
     "text": [
      "20\n",
      "414\n",
      "461\n"
     ]
    },
    {
     "name": "stderr",
     "output_type": "stream",
     "text": [
      " 10%|███████                                                                 | 520/5337 [8:12:06<170:29:17, 127.41s/it]C:\\Users\\duPar\\Anaconda3\\envs\\oasis\\lib\\site-packages\\pandas\\core\\internals\\construction.py:576: VisibleDeprecationWarning: Creating an ndarray from ragged nested sequences (which is a list-or-tuple of lists-or-tuples-or ndarrays with different lengths or shapes) is deprecated. If you meant to do this, you must specify 'dtype=object' when creating the ndarray.\n",
      "  values = np.array([convert(v) for v in values])\n"
     ]
    },
    {
     "name": "stdout",
     "output_type": "stream",
     "text": [
      "1\n",
      "17\n",
      "464\n"
     ]
    },
    {
     "name": "stderr",
     "output_type": "stream",
     "text": [
      " 10%|███████                                                                 | 521/5337 [8:14:29<177:01:07, 132.32s/it]C:\\Users\\duPar\\Anaconda3\\envs\\oasis\\lib\\site-packages\\pandas\\core\\internals\\construction.py:576: VisibleDeprecationWarning: Creating an ndarray from ragged nested sequences (which is a list-or-tuple of lists-or-tuples-or ndarrays with different lengths or shapes) is deprecated. If you meant to do this, you must specify 'dtype=object' when creating the ndarray.\n",
      "  values = np.array([convert(v) for v in values])\n",
      " 10%|███████                                                                 | 522/5337 [8:16:52<181:07:49, 135.42s/it]C:\\Users\\duPar\\Anaconda3\\envs\\oasis\\lib\\site-packages\\pandas\\core\\internals\\construction.py:576: VisibleDeprecationWarning: Creating an ndarray from ragged nested sequences (which is a list-or-tuple of lists-or-tuples-or ndarrays with different lengths or shapes) is deprecated. If you meant to do this, you must specify 'dtype=object' when creating the ndarray.\n",
      "  values = np.array([convert(v) for v in values])\n"
     ]
    },
    {
     "name": "stdout",
     "output_type": "stream",
     "text": [
      "228\n"
     ]
    },
    {
     "name": "stderr",
     "output_type": "stream",
     "text": [
      " 10%|███████                                                                 | 523/5337 [8:19:16<184:18:23, 137.83s/it]C:\\Users\\duPar\\Anaconda3\\envs\\oasis\\lib\\site-packages\\pandas\\core\\internals\\construction.py:576: VisibleDeprecationWarning: Creating an ndarray from ragged nested sequences (which is a list-or-tuple of lists-or-tuples-or ndarrays with different lengths or shapes) is deprecated. If you meant to do this, you must specify 'dtype=object' when creating the ndarray.\n",
      "  values = np.array([convert(v) for v in values])\n"
     ]
    },
    {
     "name": "stdout",
     "output_type": "stream",
     "text": [
      "415\n"
     ]
    },
    {
     "name": "stderr",
     "output_type": "stream",
     "text": [
      " 10%|███████                                                                 | 524/5337 [8:21:38<186:18:06, 139.35s/it]C:\\Users\\duPar\\Anaconda3\\envs\\oasis\\lib\\site-packages\\pandas\\core\\internals\\construction.py:576: VisibleDeprecationWarning: Creating an ndarray from ragged nested sequences (which is a list-or-tuple of lists-or-tuples-or ndarrays with different lengths or shapes) is deprecated. If you meant to do this, you must specify 'dtype=object' when creating the ndarray.\n",
      "  values = np.array([convert(v) for v in values])\n"
     ]
    },
    {
     "name": "stdout",
     "output_type": "stream",
     "text": [
      "171\n"
     ]
    },
    {
     "name": "stderr",
     "output_type": "stream",
     "text": [
      " 10%|███████                                                                 | 525/5337 [8:24:02<187:52:20, 140.55s/it]C:\\Users\\duPar\\Anaconda3\\envs\\oasis\\lib\\site-packages\\pandas\\core\\internals\\construction.py:576: VisibleDeprecationWarning: Creating an ndarray from ragged nested sequences (which is a list-or-tuple of lists-or-tuples-or ndarrays with different lengths or shapes) is deprecated. If you meant to do this, you must specify 'dtype=object' when creating the ndarray.\n",
      "  values = np.array([convert(v) for v in values])\n"
     ]
    },
    {
     "name": "stdout",
     "output_type": "stream",
     "text": [
      "267\n",
      "282\n"
     ]
    },
    {
     "name": "stderr",
     "output_type": "stream",
     "text": [
      " 10%|███████                                                                 | 526/5337 [8:26:27<189:33:29, 141.84s/it]C:\\Users\\duPar\\Anaconda3\\envs\\oasis\\lib\\site-packages\\pandas\\core\\internals\\construction.py:576: VisibleDeprecationWarning: Creating an ndarray from ragged nested sequences (which is a list-or-tuple of lists-or-tuples-or ndarrays with different lengths or shapes) is deprecated. If you meant to do this, you must specify 'dtype=object' when creating the ndarray.\n",
      "  values = np.array([convert(v) for v in values])\n",
      " 10%|███████                                                                 | 527/5337 [8:28:51<190:30:19, 142.58s/it]C:\\Users\\duPar\\Anaconda3\\envs\\oasis\\lib\\site-packages\\pandas\\core\\internals\\construction.py:576: VisibleDeprecationWarning: Creating an ndarray from ragged nested sequences (which is a list-or-tuple of lists-or-tuples-or ndarrays with different lengths or shapes) is deprecated. If you meant to do this, you must specify 'dtype=object' when creating the ndarray.\n",
      "  values = np.array([convert(v) for v in values])\n",
      " 10%|███████                                                                 | 528/5337 [8:31:16<191:30:32, 143.36s/it]C:\\Users\\duPar\\Anaconda3\\envs\\oasis\\lib\\site-packages\\pandas\\core\\internals\\construction.py:576: VisibleDeprecationWarning: Creating an ndarray from ragged nested sequences (which is a list-or-tuple of lists-or-tuples-or ndarrays with different lengths or shapes) is deprecated. If you meant to do this, you must specify 'dtype=object' when creating the ndarray.\n",
      "  values = np.array([convert(v) for v in values])\n"
     ]
    },
    {
     "name": "stdout",
     "output_type": "stream",
     "text": [
      "225\n",
      "421\n",
      "489\n"
     ]
    },
    {
     "name": "stderr",
     "output_type": "stream",
     "text": [
      " 10%|███████▏                                                                | 529/5337 [8:33:40<191:42:03, 143.54s/it]C:\\Users\\duPar\\Anaconda3\\envs\\oasis\\lib\\site-packages\\pandas\\core\\internals\\construction.py:576: VisibleDeprecationWarning: Creating an ndarray from ragged nested sequences (which is a list-or-tuple of lists-or-tuples-or ndarrays with different lengths or shapes) is deprecated. If you meant to do this, you must specify 'dtype=object' when creating the ndarray.\n",
      "  values = np.array([convert(v) for v in values])\n"
     ]
    },
    {
     "name": "stdout",
     "output_type": "stream",
     "text": [
      "66\n",
      "114\n",
      "236\n",
      "261\n",
      "290\n",
      "301\n",
      "310\n",
      "324\n",
      "341\n",
      "364\n",
      "439\n",
      "467\n",
      "480\n",
      "482\n"
     ]
    },
    {
     "name": "stderr",
     "output_type": "stream",
     "text": [
      " 10%|███████▏                                                                | 530/5337 [8:36:01<190:43:57, 142.84s/it]C:\\Users\\duPar\\Anaconda3\\envs\\oasis\\lib\\site-packages\\pandas\\core\\internals\\construction.py:576: VisibleDeprecationWarning: Creating an ndarray from ragged nested sequences (which is a list-or-tuple of lists-or-tuples-or ndarrays with different lengths or shapes) is deprecated. If you meant to do this, you must specify 'dtype=object' when creating the ndarray.\n",
      "  values = np.array([convert(v) for v in values])\n"
     ]
    },
    {
     "name": "stdout",
     "output_type": "stream",
     "text": [
      "325\n",
      "452\n"
     ]
    },
    {
     "name": "stderr",
     "output_type": "stream",
     "text": [
      " 10%|███████▏                                                                | 532/5337 [8:38:27<134:09:16, 100.51s/it]C:\\Users\\duPar\\Anaconda3\\envs\\oasis\\lib\\site-packages\\pandas\\core\\internals\\construction.py:576: VisibleDeprecationWarning: Creating an ndarray from ragged nested sequences (which is a list-or-tuple of lists-or-tuples-or ndarrays with different lengths or shapes) is deprecated. If you meant to do this, you must specify 'dtype=object' when creating the ndarray.\n",
      "  values = np.array([convert(v) for v in values])\n"
     ]
    },
    {
     "name": "stdout",
     "output_type": "stream",
     "text": [
      "53\n"
     ]
    },
    {
     "name": "stderr",
     "output_type": "stream",
     "text": [
      " 10%|███████▏                                                                | 533/5337 [8:40:52<152:08:51, 114.02s/it]C:\\Users\\duPar\\Anaconda3\\envs\\oasis\\lib\\site-packages\\pandas\\core\\internals\\construction.py:576: VisibleDeprecationWarning: Creating an ndarray from ragged nested sequences (which is a list-or-tuple of lists-or-tuples-or ndarrays with different lengths or shapes) is deprecated. If you meant to do this, you must specify 'dtype=object' when creating the ndarray.\n",
      "  values = np.array([convert(v) for v in values])\n",
      " 10%|███████▏                                                                | 534/5337 [8:43:19<165:15:12, 123.86s/it]C:\\Users\\duPar\\Anaconda3\\envs\\oasis\\lib\\site-packages\\pandas\\core\\internals\\construction.py:576: VisibleDeprecationWarning: Creating an ndarray from ragged nested sequences (which is a list-or-tuple of lists-or-tuples-or ndarrays with different lengths or shapes) is deprecated. If you meant to do this, you must specify 'dtype=object' when creating the ndarray.\n",
      "  values = np.array([convert(v) for v in values])\n"
     ]
    },
    {
     "name": "stdout",
     "output_type": "stream",
     "text": [
      "88\n"
     ]
    },
    {
     "name": "stderr",
     "output_type": "stream",
     "text": [
      " 10%|███████▏                                                                | 535/5337 [8:45:46<174:21:32, 130.71s/it]C:\\Users\\duPar\\Anaconda3\\envs\\oasis\\lib\\site-packages\\pandas\\core\\internals\\construction.py:576: VisibleDeprecationWarning: Creating an ndarray from ragged nested sequences (which is a list-or-tuple of lists-or-tuples-or ndarrays with different lengths or shapes) is deprecated. If you meant to do this, you must specify 'dtype=object' when creating the ndarray.\n",
      "  values = np.array([convert(v) for v in values])\n"
     ]
    },
    {
     "name": "stdout",
     "output_type": "stream",
     "text": [
      "202\n"
     ]
    },
    {
     "name": "stderr",
     "output_type": "stream",
     "text": [
      " 10%|███████▏                                                                | 536/5337 [8:48:12<180:45:50, 135.54s/it]C:\\Users\\duPar\\Anaconda3\\envs\\oasis\\lib\\site-packages\\pandas\\core\\internals\\construction.py:576: VisibleDeprecationWarning: Creating an ndarray from ragged nested sequences (which is a list-or-tuple of lists-or-tuples-or ndarrays with different lengths or shapes) is deprecated. If you meant to do this, you must specify 'dtype=object' when creating the ndarray.\n",
      "  values = np.array([convert(v) for v in values])\n"
     ]
    },
    {
     "name": "stdout",
     "output_type": "stream",
     "text": [
      "319\n"
     ]
    },
    {
     "name": "stderr",
     "output_type": "stream",
     "text": [
      " 10%|███████▏                                                                | 537/5337 [8:50:38<184:45:59, 138.57s/it]C:\\Users\\duPar\\Anaconda3\\envs\\oasis\\lib\\site-packages\\pandas\\core\\internals\\construction.py:576: VisibleDeprecationWarning: Creating an ndarray from ragged nested sequences (which is a list-or-tuple of lists-or-tuples-or ndarrays with different lengths or shapes) is deprecated. If you meant to do this, you must specify 'dtype=object' when creating the ndarray.\n",
      "  values = np.array([convert(v) for v in values])\n"
     ]
    },
    {
     "name": "stdout",
     "output_type": "stream",
     "text": [
      "319\n"
     ]
    },
    {
     "name": "stderr",
     "output_type": "stream",
     "text": [
      " 10%|███████▎                                                                | 538/5337 [8:53:04<187:34:08, 140.71s/it]C:\\Users\\duPar\\Anaconda3\\envs\\oasis\\lib\\site-packages\\pandas\\core\\internals\\construction.py:576: VisibleDeprecationWarning: Creating an ndarray from ragged nested sequences (which is a list-or-tuple of lists-or-tuples-or ndarrays with different lengths or shapes) is deprecated. If you meant to do this, you must specify 'dtype=object' when creating the ndarray.\n",
      "  values = np.array([convert(v) for v in values])\n"
     ]
    },
    {
     "name": "stdout",
     "output_type": "stream",
     "text": [
      "390\n"
     ]
    },
    {
     "name": "stderr",
     "output_type": "stream",
     "text": [
      " 10%|███████▎                                                                | 539/5337 [8:55:32<190:24:00, 142.86s/it]C:\\Users\\duPar\\Anaconda3\\envs\\oasis\\lib\\site-packages\\pandas\\core\\internals\\construction.py:576: VisibleDeprecationWarning: Creating an ndarray from ragged nested sequences (which is a list-or-tuple of lists-or-tuples-or ndarrays with different lengths or shapes) is deprecated. If you meant to do this, you must specify 'dtype=object' when creating the ndarray.\n",
      "  values = np.array([convert(v) for v in values])\n"
     ]
    },
    {
     "name": "stdout",
     "output_type": "stream",
     "text": [
      "45\n",
      "85\n",
      "121\n",
      "182\n"
     ]
    },
    {
     "name": "stderr",
     "output_type": "stream",
     "text": [
      " 10%|███████▎                                                                | 540/5337 [8:57:59<192:03:06, 144.13s/it]C:\\Users\\duPar\\Anaconda3\\envs\\oasis\\lib\\site-packages\\pandas\\core\\internals\\construction.py:576: VisibleDeprecationWarning: Creating an ndarray from ragged nested sequences (which is a list-or-tuple of lists-or-tuples-or ndarrays with different lengths or shapes) is deprecated. If you meant to do this, you must specify 'dtype=object' when creating the ndarray.\n",
      "  values = np.array([convert(v) for v in values])\n"
     ]
    },
    {
     "name": "stdout",
     "output_type": "stream",
     "text": [
      "12\n",
      "218\n",
      "219\n",
      "222\n",
      "224\n"
     ]
    },
    {
     "name": "stderr",
     "output_type": "stream",
     "text": [
      " 10%|███████▎                                                                | 542/5337 [9:00:24<134:36:24, 101.06s/it]C:\\Users\\duPar\\Anaconda3\\envs\\oasis\\lib\\site-packages\\pandas\\core\\internals\\construction.py:576: VisibleDeprecationWarning: Creating an ndarray from ragged nested sequences (which is a list-or-tuple of lists-or-tuples-or ndarrays with different lengths or shapes) is deprecated. If you meant to do this, you must specify 'dtype=object' when creating the ndarray.\n",
      "  values = np.array([convert(v) for v in values])\n"
     ]
    },
    {
     "name": "stdout",
     "output_type": "stream",
     "text": [
      "292\n"
     ]
    },
    {
     "name": "stderr",
     "output_type": "stream",
     "text": [
      " 10%|███████▎                                                                | 543/5337 [9:02:52<153:39:05, 115.38s/it]C:\\Users\\duPar\\Anaconda3\\envs\\oasis\\lib\\site-packages\\pandas\\core\\internals\\construction.py:576: VisibleDeprecationWarning: Creating an ndarray from ragged nested sequences (which is a list-or-tuple of lists-or-tuples-or ndarrays with different lengths or shapes) is deprecated. If you meant to do this, you must specify 'dtype=object' when creating the ndarray.\n",
      "  values = np.array([convert(v) for v in values])\n"
     ]
    },
    {
     "name": "stdout",
     "output_type": "stream",
     "text": [
      "37\n",
      "440\n"
     ]
    },
    {
     "name": "stderr",
     "output_type": "stream",
     "text": [
      " 10%|███████▎                                                                | 544/5337 [9:05:21<167:03:27, 125.48s/it]C:\\Users\\duPar\\Anaconda3\\envs\\oasis\\lib\\site-packages\\pandas\\core\\internals\\construction.py:576: VisibleDeprecationWarning: Creating an ndarray from ragged nested sequences (which is a list-or-tuple of lists-or-tuples-or ndarrays with different lengths or shapes) is deprecated. If you meant to do this, you must specify 'dtype=object' when creating the ndarray.\n",
      "  values = np.array([convert(v) for v in values])\n",
      " 10%|███████▎                                                                | 545/5337 [9:07:52<176:52:38, 132.88s/it]C:\\Users\\duPar\\Anaconda3\\envs\\oasis\\lib\\site-packages\\pandas\\core\\internals\\construction.py:576: VisibleDeprecationWarning: Creating an ndarray from ragged nested sequences (which is a list-or-tuple of lists-or-tuples-or ndarrays with different lengths or shapes) is deprecated. If you meant to do this, you must specify 'dtype=object' when creating the ndarray.\n",
      "  values = np.array([convert(v) for v in values])\n"
     ]
    },
    {
     "name": "stdout",
     "output_type": "stream",
     "text": [
      "114\n"
     ]
    },
    {
     "name": "stderr",
     "output_type": "stream",
     "text": [
      " 10%|███████▎                                                                | 546/5337 [9:10:22<183:44:36, 138.07s/it]C:\\Users\\duPar\\Anaconda3\\envs\\oasis\\lib\\site-packages\\pandas\\core\\internals\\construction.py:576: VisibleDeprecationWarning: Creating an ndarray from ragged nested sequences (which is a list-or-tuple of lists-or-tuples-or ndarrays with different lengths or shapes) is deprecated. If you meant to do this, you must specify 'dtype=object' when creating the ndarray.\n",
      "  values = np.array([convert(v) for v in values])\n",
      " 10%|███████▍                                                                | 547/5337 [9:12:52<188:42:47, 141.83s/it]C:\\Users\\duPar\\Anaconda3\\envs\\oasis\\lib\\site-packages\\pandas\\core\\internals\\construction.py:576: VisibleDeprecationWarning: Creating an ndarray from ragged nested sequences (which is a list-or-tuple of lists-or-tuples-or ndarrays with different lengths or shapes) is deprecated. If you meant to do this, you must specify 'dtype=object' when creating the ndarray.\n",
      "  values = np.array([convert(v) for v in values])\n"
     ]
    },
    {
     "name": "stdout",
     "output_type": "stream",
     "text": [
      "315\n"
     ]
    },
    {
     "name": "stderr",
     "output_type": "stream",
     "text": [
      " 10%|███████▍                                                                | 548/5337 [9:14:32<171:55:21, 129.24s/it]C:\\Users\\duPar\\Anaconda3\\envs\\oasis\\lib\\site-packages\\pandas\\core\\internals\\construction.py:576: VisibleDeprecationWarning: Creating an ndarray from ragged nested sequences (which is a list-or-tuple of lists-or-tuples-or ndarrays with different lengths or shapes) is deprecated. If you meant to do this, you must specify 'dtype=object' when creating the ndarray.\n",
      "  values = np.array([convert(v) for v in values])\n",
      " 10%|███████▍                                                                | 549/5337 [9:17:03<180:38:20, 135.82s/it]C:\\Users\\duPar\\Anaconda3\\envs\\oasis\\lib\\site-packages\\pandas\\core\\internals\\construction.py:576: VisibleDeprecationWarning: Creating an ndarray from ragged nested sequences (which is a list-or-tuple of lists-or-tuples-or ndarrays with different lengths or shapes) is deprecated. If you meant to do this, you must specify 'dtype=object' when creating the ndarray.\n",
      "  values = np.array([convert(v) for v in values])\n",
      " 10%|███████▍                                                                | 550/5337 [9:19:35<186:58:31, 140.61s/it]C:\\Users\\duPar\\Anaconda3\\envs\\oasis\\lib\\site-packages\\pandas\\core\\internals\\construction.py:576: VisibleDeprecationWarning: Creating an ndarray from ragged nested sequences (which is a list-or-tuple of lists-or-tuples-or ndarrays with different lengths or shapes) is deprecated. If you meant to do this, you must specify 'dtype=object' when creating the ndarray.\n",
      "  values = np.array([convert(v) for v in values])\n",
      " 10%|███████▍                                                                | 551/5337 [9:22:08<191:46:05, 144.25s/it]C:\\Users\\duPar\\Anaconda3\\envs\\oasis\\lib\\site-packages\\pandas\\core\\internals\\construction.py:576: VisibleDeprecationWarning: Creating an ndarray from ragged nested sequences (which is a list-or-tuple of lists-or-tuples-or ndarrays with different lengths or shapes) is deprecated. If you meant to do this, you must specify 'dtype=object' when creating the ndarray.\n",
      "  values = np.array([convert(v) for v in values])\n",
      " 10%|███████▍                                                                | 552/5337 [9:24:39<194:34:36, 146.39s/it]C:\\Users\\duPar\\Anaconda3\\envs\\oasis\\lib\\site-packages\\pandas\\core\\internals\\construction.py:576: VisibleDeprecationWarning: Creating an ndarray from ragged nested sequences (which is a list-or-tuple of lists-or-tuples-or ndarrays with different lengths or shapes) is deprecated. If you meant to do this, you must specify 'dtype=object' when creating the ndarray.\n",
      "  values = np.array([convert(v) for v in values])\n",
      " 10%|███████▍                                                                | 553/5337 [9:27:12<196:55:45, 148.19s/it]C:\\Users\\duPar\\Anaconda3\\envs\\oasis\\lib\\site-packages\\pandas\\core\\internals\\construction.py:576: VisibleDeprecationWarning: Creating an ndarray from ragged nested sequences (which is a list-or-tuple of lists-or-tuples-or ndarrays with different lengths or shapes) is deprecated. If you meant to do this, you must specify 'dtype=object' when creating the ndarray.\n",
      "  values = np.array([convert(v) for v in values])\n"
     ]
    },
    {
     "name": "stdout",
     "output_type": "stream",
     "text": [
      "59\n",
      "470\n"
     ]
    },
    {
     "name": "stderr",
     "output_type": "stream",
     "text": [
      " 10%|███████▍                                                                | 554/5337 [9:29:43<198:13:40, 149.20s/it]C:\\Users\\duPar\\Anaconda3\\envs\\oasis\\lib\\site-packages\\pandas\\core\\internals\\construction.py:576: VisibleDeprecationWarning: Creating an ndarray from ragged nested sequences (which is a list-or-tuple of lists-or-tuples-or ndarrays with different lengths or shapes) is deprecated. If you meant to do this, you must specify 'dtype=object' when creating the ndarray.\n",
      "  values = np.array([convert(v) for v in values])\n",
      " 10%|███████▍                                                                | 555/5337 [9:32:16<199:46:26, 150.39s/it]C:\\Users\\duPar\\Anaconda3\\envs\\oasis\\lib\\site-packages\\pandas\\core\\internals\\construction.py:576: VisibleDeprecationWarning: Creating an ndarray from ragged nested sequences (which is a list-or-tuple of lists-or-tuples-or ndarrays with different lengths or shapes) is deprecated. If you meant to do this, you must specify 'dtype=object' when creating the ndarray.\n",
      "  values = np.array([convert(v) for v in values])\n",
      " 10%|███████▌                                                                | 556/5337 [9:34:49<200:43:41, 151.14s/it]C:\\Users\\duPar\\Anaconda3\\envs\\oasis\\lib\\site-packages\\pandas\\core\\internals\\construction.py:576: VisibleDeprecationWarning: Creating an ndarray from ragged nested sequences (which is a list-or-tuple of lists-or-tuples-or ndarrays with different lengths or shapes) is deprecated. If you meant to do this, you must specify 'dtype=object' when creating the ndarray.\n",
      "  values = np.array([convert(v) for v in values])\n",
      " 10%|███████▌                                                                | 557/5337 [9:36:29<180:16:03, 135.77s/it]C:\\Users\\duPar\\Anaconda3\\envs\\oasis\\lib\\site-packages\\pandas\\core\\internals\\construction.py:576: VisibleDeprecationWarning: Creating an ndarray from ragged nested sequences (which is a list-or-tuple of lists-or-tuples-or ndarrays with different lengths or shapes) is deprecated. If you meant to do this, you must specify 'dtype=object' when creating the ndarray.\n",
      "  values = np.array([convert(v) for v in values])\n"
     ]
    },
    {
     "name": "stdout",
     "output_type": "stream",
     "text": [
      "392\n"
     ]
    },
    {
     "name": "stderr",
     "output_type": "stream",
     "text": [
      " 10%|███████▌                                                                | 558/5337 [9:39:03<187:22:10, 141.14s/it]C:\\Users\\duPar\\Anaconda3\\envs\\oasis\\lib\\site-packages\\pandas\\core\\internals\\construction.py:576: VisibleDeprecationWarning: Creating an ndarray from ragged nested sequences (which is a list-or-tuple of lists-or-tuples-or ndarrays with different lengths or shapes) is deprecated. If you meant to do this, you must specify 'dtype=object' when creating the ndarray.\n",
      "  values = np.array([convert(v) for v in values])\n"
     ]
    },
    {
     "name": "stdout",
     "output_type": "stream",
     "text": [
      "1\n",
      "8\n",
      "178\n",
      "283\n"
     ]
    },
    {
     "name": "stderr",
     "output_type": "stream",
     "text": [
      " 10%|███████▌                                                                | 559/5337 [9:41:32<190:21:43, 143.43s/it]C:\\Users\\duPar\\Anaconda3\\envs\\oasis\\lib\\site-packages\\pandas\\core\\internals\\construction.py:576: VisibleDeprecationWarning: Creating an ndarray from ragged nested sequences (which is a list-or-tuple of lists-or-tuples-or ndarrays with different lengths or shapes) is deprecated. If you meant to do this, you must specify 'dtype=object' when creating the ndarray.\n",
      "  values = np.array([convert(v) for v in values])\n"
     ]
    },
    {
     "name": "stdout",
     "output_type": "stream",
     "text": [
      "253\n"
     ]
    },
    {
     "name": "stderr",
     "output_type": "stream",
     "text": [
      " 10%|███████▌                                                                | 560/5337 [9:44:06<194:38:56, 146.69s/it]C:\\Users\\duPar\\Anaconda3\\envs\\oasis\\lib\\site-packages\\pandas\\core\\internals\\construction.py:576: VisibleDeprecationWarning: Creating an ndarray from ragged nested sequences (which is a list-or-tuple of lists-or-tuples-or ndarrays with different lengths or shapes) is deprecated. If you meant to do this, you must specify 'dtype=object' when creating the ndarray.\n",
      "  values = np.array([convert(v) for v in values])\n"
     ]
    },
    {
     "name": "stdout",
     "output_type": "stream",
     "text": [
      "244\n"
     ]
    },
    {
     "name": "stderr",
     "output_type": "stream",
     "text": [
      " 11%|███████▌                                                                | 561/5337 [9:46:40<197:39:13, 148.99s/it]C:\\Users\\duPar\\Anaconda3\\envs\\oasis\\lib\\site-packages\\pandas\\core\\internals\\construction.py:576: VisibleDeprecationWarning: Creating an ndarray from ragged nested sequences (which is a list-or-tuple of lists-or-tuples-or ndarrays with different lengths or shapes) is deprecated. If you meant to do this, you must specify 'dtype=object' when creating the ndarray.\n",
      "  values = np.array([convert(v) for v in values])\n"
     ]
    },
    {
     "name": "stdout",
     "output_type": "stream",
     "text": [
      "275\n"
     ]
    },
    {
     "name": "stderr",
     "output_type": "stream",
     "text": [
      " 11%|███████▌                                                                | 562/5337 [9:49:16<200:08:05, 150.89s/it]C:\\Users\\duPar\\Anaconda3\\envs\\oasis\\lib\\site-packages\\pandas\\core\\internals\\construction.py:576: VisibleDeprecationWarning: Creating an ndarray from ragged nested sequences (which is a list-or-tuple of lists-or-tuples-or ndarrays with different lengths or shapes) is deprecated. If you meant to do this, you must specify 'dtype=object' when creating the ndarray.\n",
      "  values = np.array([convert(v) for v in values])\n",
      " 11%|███████▌                                                                | 563/5337 [9:51:51<202:01:29, 152.34s/it]C:\\Users\\duPar\\Anaconda3\\envs\\oasis\\lib\\site-packages\\pandas\\core\\internals\\construction.py:576: VisibleDeprecationWarning: Creating an ndarray from ragged nested sequences (which is a list-or-tuple of lists-or-tuples-or ndarrays with different lengths or shapes) is deprecated. If you meant to do this, you must specify 'dtype=object' when creating the ndarray.\n",
      "  values = np.array([convert(v) for v in values])\n",
      " 11%|███████▌                                                                | 564/5337 [9:54:26<203:06:51, 153.20s/it]C:\\Users\\duPar\\Anaconda3\\envs\\oasis\\lib\\site-packages\\pandas\\core\\internals\\construction.py:576: VisibleDeprecationWarning: Creating an ndarray from ragged nested sequences (which is a list-or-tuple of lists-or-tuples-or ndarrays with different lengths or shapes) is deprecated. If you meant to do this, you must specify 'dtype=object' when creating the ndarray.\n",
      "  values = np.array([convert(v) for v in values])\n",
      " 11%|███████▋                                                                | 566/5337 [9:57:04<143:16:10, 108.11s/it]C:\\Users\\duPar\\Anaconda3\\envs\\oasis\\lib\\site-packages\\pandas\\core\\internals\\construction.py:576: VisibleDeprecationWarning: Creating an ndarray from ragged nested sequences (which is a list-or-tuple of lists-or-tuples-or ndarrays with different lengths or shapes) is deprecated. If you meant to do this, you must specify 'dtype=object' when creating the ndarray.\n",
      "  values = np.array([convert(v) for v in values])\n"
     ]
    },
    {
     "name": "stdout",
     "output_type": "stream",
     "text": [
      "171\n",
      "174\n",
      "330\n"
     ]
    },
    {
     "name": "stderr",
     "output_type": "stream",
     "text": [
      " 11%|███████▋                                                                | 567/5337 [9:59:40<162:19:27, 122.51s/it]C:\\Users\\duPar\\Anaconda3\\envs\\oasis\\lib\\site-packages\\pandas\\core\\internals\\construction.py:576: VisibleDeprecationWarning: Creating an ndarray from ragged nested sequences (which is a list-or-tuple of lists-or-tuples-or ndarrays with different lengths or shapes) is deprecated. If you meant to do this, you must specify 'dtype=object' when creating the ndarray.\n",
      "  values = np.array([convert(v) for v in values])\n",
      " 11%|███████▌                                                               | 568/5337 [10:02:17<175:57:12, 132.82s/it]C:\\Users\\duPar\\Anaconda3\\envs\\oasis\\lib\\site-packages\\pandas\\core\\internals\\construction.py:576: VisibleDeprecationWarning: Creating an ndarray from ragged nested sequences (which is a list-or-tuple of lists-or-tuples-or ndarrays with different lengths or shapes) is deprecated. If you meant to do this, you must specify 'dtype=object' when creating the ndarray.\n",
      "  values = np.array([convert(v) for v in values])\n",
      " 11%|███████▌                                                               | 569/5337 [10:04:54<185:42:10, 140.21s/it]C:\\Users\\duPar\\Anaconda3\\envs\\oasis\\lib\\site-packages\\pandas\\core\\internals\\construction.py:576: VisibleDeprecationWarning: Creating an ndarray from ragged nested sequences (which is a list-or-tuple of lists-or-tuples-or ndarrays with different lengths or shapes) is deprecated. If you meant to do this, you must specify 'dtype=object' when creating the ndarray.\n",
      "  values = np.array([convert(v) for v in values])\n"
     ]
    },
    {
     "name": "stdout",
     "output_type": "stream",
     "text": [
      "125\n"
     ]
    },
    {
     "name": "stderr",
     "output_type": "stream",
     "text": [
      " 11%|███████▌                                                               | 570/5337 [10:07:32<192:44:54, 145.56s/it]C:\\Users\\duPar\\Anaconda3\\envs\\oasis\\lib\\site-packages\\pandas\\core\\internals\\construction.py:576: VisibleDeprecationWarning: Creating an ndarray from ragged nested sequences (which is a list-or-tuple of lists-or-tuples-or ndarrays with different lengths or shapes) is deprecated. If you meant to do this, you must specify 'dtype=object' when creating the ndarray.\n",
      "  values = np.array([convert(v) for v in values])\n"
     ]
    },
    {
     "name": "stdout",
     "output_type": "stream",
     "text": [
      "22\n",
      "76\n",
      "164\n"
     ]
    },
    {
     "name": "stderr",
     "output_type": "stream",
     "text": [
      " 11%|███████▌                                                               | 571/5337 [10:10:09<197:08:31, 148.91s/it]C:\\Users\\duPar\\Anaconda3\\envs\\oasis\\lib\\site-packages\\pandas\\core\\internals\\construction.py:576: VisibleDeprecationWarning: Creating an ndarray from ragged nested sequences (which is a list-or-tuple of lists-or-tuples-or ndarrays with different lengths or shapes) is deprecated. If you meant to do this, you must specify 'dtype=object' when creating the ndarray.\n",
      "  values = np.array([convert(v) for v in values])\n"
     ]
    },
    {
     "name": "stdout",
     "output_type": "stream",
     "text": [
      "425\n"
     ]
    },
    {
     "name": "stderr",
     "output_type": "stream",
     "text": [
      " 11%|███████▌                                                               | 572/5337 [10:12:46<200:30:07, 151.48s/it]C:\\Users\\duPar\\Anaconda3\\envs\\oasis\\lib\\site-packages\\pandas\\core\\internals\\construction.py:576: VisibleDeprecationWarning: Creating an ndarray from ragged nested sequences (which is a list-or-tuple of lists-or-tuples-or ndarrays with different lengths or shapes) is deprecated. If you meant to do this, you must specify 'dtype=object' when creating the ndarray.\n",
      "  values = np.array([convert(v) for v in values])\n",
      " 11%|███████▌                                                               | 573/5337 [10:15:26<203:29:44, 153.78s/it]C:\\Users\\duPar\\Anaconda3\\envs\\oasis\\lib\\site-packages\\pandas\\core\\internals\\construction.py:576: VisibleDeprecationWarning: Creating an ndarray from ragged nested sequences (which is a list-or-tuple of lists-or-tuples-or ndarrays with different lengths or shapes) is deprecated. If you meant to do this, you must specify 'dtype=object' when creating the ndarray.\n",
      "  values = np.array([convert(v) for v in values])\n"
     ]
    },
    {
     "name": "stdout",
     "output_type": "stream",
     "text": [
      "69\n"
     ]
    },
    {
     "name": "stderr",
     "output_type": "stream",
     "text": [
      " 11%|███████▋                                                               | 574/5337 [10:18:04<205:24:35, 155.25s/it]C:\\Users\\duPar\\Anaconda3\\envs\\oasis\\lib\\site-packages\\pandas\\core\\internals\\construction.py:576: VisibleDeprecationWarning: Creating an ndarray from ragged nested sequences (which is a list-or-tuple of lists-or-tuples-or ndarrays with different lengths or shapes) is deprecated. If you meant to do this, you must specify 'dtype=object' when creating the ndarray.\n",
      "  values = np.array([convert(v) for v in values])\n",
      " 11%|███████▋                                                               | 575/5337 [10:20:45<207:30:06, 156.87s/it]C:\\Users\\duPar\\Anaconda3\\envs\\oasis\\lib\\site-packages\\pandas\\core\\internals\\construction.py:576: VisibleDeprecationWarning: Creating an ndarray from ragged nested sequences (which is a list-or-tuple of lists-or-tuples-or ndarrays with different lengths or shapes) is deprecated. If you meant to do this, you must specify 'dtype=object' when creating the ndarray.\n",
      "  values = np.array([convert(v) for v in values])\n"
     ]
    },
    {
     "name": "stdout",
     "output_type": "stream",
     "text": [
      "20\n",
      "57\n",
      "214\n"
     ]
    },
    {
     "name": "stderr",
     "output_type": "stream",
     "text": [
      " 11%|███████▋                                                               | 576/5337 [10:23:24<208:14:01, 157.45s/it]C:\\Users\\duPar\\Anaconda3\\envs\\oasis\\lib\\site-packages\\pandas\\core\\internals\\construction.py:576: VisibleDeprecationWarning: Creating an ndarray from ragged nested sequences (which is a list-or-tuple of lists-or-tuples-or ndarrays with different lengths or shapes) is deprecated. If you meant to do this, you must specify 'dtype=object' when creating the ndarray.\n",
      "  values = np.array([convert(v) for v in values])\n"
     ]
    },
    {
     "name": "stdout",
     "output_type": "stream",
     "text": [
      "462\n"
     ]
    },
    {
     "name": "stderr",
     "output_type": "stream",
     "text": [
      " 11%|███████▋                                                               | 577/5337 [10:26:04<209:13:13, 158.23s/it]C:\\Users\\duPar\\Anaconda3\\envs\\oasis\\lib\\site-packages\\pandas\\core\\internals\\construction.py:576: VisibleDeprecationWarning: Creating an ndarray from ragged nested sequences (which is a list-or-tuple of lists-or-tuples-or ndarrays with different lengths or shapes) is deprecated. If you meant to do this, you must specify 'dtype=object' when creating the ndarray.\n",
      "  values = np.array([convert(v) for v in values])\n"
     ]
    },
    {
     "name": "stdout",
     "output_type": "stream",
     "text": [
      "303\n",
      "497\n"
     ]
    },
    {
     "name": "stderr",
     "output_type": "stream",
     "text": [
      " 11%|███████▋                                                               | 578/5337 [10:28:44<209:58:32, 158.84s/it]C:\\Users\\duPar\\Anaconda3\\envs\\oasis\\lib\\site-packages\\pandas\\core\\internals\\construction.py:576: VisibleDeprecationWarning: Creating an ndarray from ragged nested sequences (which is a list-or-tuple of lists-or-tuples-or ndarrays with different lengths or shapes) is deprecated. If you meant to do this, you must specify 'dtype=object' when creating the ndarray.\n",
      "  values = np.array([convert(v) for v in values])\n"
     ]
    },
    {
     "name": "stdout",
     "output_type": "stream",
     "text": [
      "21\n",
      "297\n"
     ]
    },
    {
     "name": "stderr",
     "output_type": "stream",
     "text": [
      " 11%|███████▋                                                               | 579/5337 [10:31:25<210:40:39, 159.40s/it]C:\\Users\\duPar\\Anaconda3\\envs\\oasis\\lib\\site-packages\\pandas\\core\\internals\\construction.py:576: VisibleDeprecationWarning: Creating an ndarray from ragged nested sequences (which is a list-or-tuple of lists-or-tuples-or ndarrays with different lengths or shapes) is deprecated. If you meant to do this, you must specify 'dtype=object' when creating the ndarray.\n",
      "  values = np.array([convert(v) for v in values])\n"
     ]
    },
    {
     "name": "stdout",
     "output_type": "stream",
     "text": [
      "308\n"
     ]
    },
    {
     "name": "stderr",
     "output_type": "stream",
     "text": [
      " 11%|███████▋                                                               | 580/5337 [10:34:06<211:18:02, 159.91s/it]C:\\Users\\duPar\\Anaconda3\\envs\\oasis\\lib\\site-packages\\pandas\\core\\internals\\construction.py:576: VisibleDeprecationWarning: Creating an ndarray from ragged nested sequences (which is a list-or-tuple of lists-or-tuples-or ndarrays with different lengths or shapes) is deprecated. If you meant to do this, you must specify 'dtype=object' when creating the ndarray.\n",
      "  values = np.array([convert(v) for v in values])\n",
      " 11%|███████▋                                                               | 581/5337 [10:36:47<211:56:29, 160.43s/it]C:\\Users\\duPar\\Anaconda3\\envs\\oasis\\lib\\site-packages\\pandas\\core\\internals\\construction.py:576: VisibleDeprecationWarning: Creating an ndarray from ragged nested sequences (which is a list-or-tuple of lists-or-tuples-or ndarrays with different lengths or shapes) is deprecated. If you meant to do this, you must specify 'dtype=object' when creating the ndarray.\n",
      "  values = np.array([convert(v) for v in values])\n"
     ]
    },
    {
     "name": "stdout",
     "output_type": "stream",
     "text": [
      "144\n",
      "268\n"
     ]
    },
    {
     "name": "stderr",
     "output_type": "stream",
     "text": [
      " 11%|███████▋                                                               | 582/5337 [10:39:28<212:06:31, 160.59s/it]C:\\Users\\duPar\\Anaconda3\\envs\\oasis\\lib\\site-packages\\pandas\\core\\internals\\construction.py:576: VisibleDeprecationWarning: Creating an ndarray from ragged nested sequences (which is a list-or-tuple of lists-or-tuples-or ndarrays with different lengths or shapes) is deprecated. If you meant to do this, you must specify 'dtype=object' when creating the ndarray.\n",
      "  values = np.array([convert(v) for v in values])\n",
      " 11%|███████▊                                                               | 583/5337 [10:42:08<211:35:17, 160.23s/it]C:\\Users\\duPar\\Anaconda3\\envs\\oasis\\lib\\site-packages\\pandas\\core\\internals\\construction.py:576: VisibleDeprecationWarning: Creating an ndarray from ragged nested sequences (which is a list-or-tuple of lists-or-tuples-or ndarrays with different lengths or shapes) is deprecated. If you meant to do this, you must specify 'dtype=object' when creating the ndarray.\n",
      "  values = np.array([convert(v) for v in values])\n"
     ]
    },
    {
     "name": "stdout",
     "output_type": "stream",
     "text": [
      "37\n",
      "423\n"
     ]
    },
    {
     "name": "stderr",
     "output_type": "stream",
     "text": [
      " 11%|███████▊                                                               | 584/5337 [10:44:50<212:14:10, 160.75s/it]C:\\Users\\duPar\\Anaconda3\\envs\\oasis\\lib\\site-packages\\pandas\\core\\internals\\construction.py:576: VisibleDeprecationWarning: Creating an ndarray from ragged nested sequences (which is a list-or-tuple of lists-or-tuples-or ndarrays with different lengths or shapes) is deprecated. If you meant to do this, you must specify 'dtype=object' when creating the ndarray.\n",
      "  values = np.array([convert(v) for v in values])\n"
     ]
    },
    {
     "name": "stdout",
     "output_type": "stream",
     "text": [
      "22\n",
      "186\n",
      "372\n"
     ]
    },
    {
     "name": "stderr",
     "output_type": "stream",
     "text": [
      " 11%|███████▊                                                               | 585/5337 [10:47:34<213:23:17, 161.66s/it]C:\\Users\\duPar\\Anaconda3\\envs\\oasis\\lib\\site-packages\\pandas\\core\\internals\\construction.py:576: VisibleDeprecationWarning: Creating an ndarray from ragged nested sequences (which is a list-or-tuple of lists-or-tuples-or ndarrays with different lengths or shapes) is deprecated. If you meant to do this, you must specify 'dtype=object' when creating the ndarray.\n",
      "  values = np.array([convert(v) for v in values])\n"
     ]
    },
    {
     "name": "stdout",
     "output_type": "stream",
     "text": [
      "195\n",
      "322\n"
     ]
    },
    {
     "name": "stderr",
     "output_type": "stream",
     "text": [
      " 11%|███████▊                                                               | 586/5337 [10:50:31<219:44:49, 166.51s/it]C:\\Users\\duPar\\Anaconda3\\envs\\oasis\\lib\\site-packages\\pandas\\core\\internals\\construction.py:576: VisibleDeprecationWarning: Creating an ndarray from ragged nested sequences (which is a list-or-tuple of lists-or-tuples-or ndarrays with different lengths or shapes) is deprecated. If you meant to do this, you must specify 'dtype=object' when creating the ndarray.\n",
      "  values = np.array([convert(v) for v in values])\n"
     ]
    },
    {
     "name": "stdout",
     "output_type": "stream",
     "text": [
      "489\n"
     ]
    },
    {
     "name": "stderr",
     "output_type": "stream",
     "text": [
      " 11%|███████▊                                                               | 587/5337 [10:53:15<218:24:34, 165.53s/it]C:\\Users\\duPar\\Anaconda3\\envs\\oasis\\lib\\site-packages\\pandas\\core\\internals\\construction.py:576: VisibleDeprecationWarning: Creating an ndarray from ragged nested sequences (which is a list-or-tuple of lists-or-tuples-or ndarrays with different lengths or shapes) is deprecated. If you meant to do this, you must specify 'dtype=object' when creating the ndarray.\n",
      "  values = np.array([convert(v) for v in values])\n",
      " 11%|███████▊                                                               | 589/5337 [10:56:02<153:24:19, 116.31s/it]C:\\Users\\duPar\\Anaconda3\\envs\\oasis\\lib\\site-packages\\pandas\\core\\internals\\construction.py:576: VisibleDeprecationWarning: Creating an ndarray from ragged nested sequences (which is a list-or-tuple of lists-or-tuples-or ndarrays with different lengths or shapes) is deprecated. If you meant to do this, you must specify 'dtype=object' when creating the ndarray.\n",
      "  values = np.array([convert(v) for v in values])\n"
     ]
    },
    {
     "name": "stdout",
     "output_type": "stream",
     "text": [
      "366\n",
      "464\n",
      "465\n"
     ]
    },
    {
     "name": "stderr",
     "output_type": "stream",
     "text": [
      " 11%|███████▊                                                               | 590/5337 [10:58:45<171:54:00, 130.36s/it]C:\\Users\\duPar\\Anaconda3\\envs\\oasis\\lib\\site-packages\\pandas\\core\\internals\\construction.py:576: VisibleDeprecationWarning: Creating an ndarray from ragged nested sequences (which is a list-or-tuple of lists-or-tuples-or ndarrays with different lengths or shapes) is deprecated. If you meant to do this, you must specify 'dtype=object' when creating the ndarray.\n",
      "  values = np.array([convert(v) for v in values])\n",
      " 11%|███████▊                                                               | 591/5337 [11:01:29<185:06:45, 140.41s/it]C:\\Users\\duPar\\Anaconda3\\envs\\oasis\\lib\\site-packages\\pandas\\core\\internals\\construction.py:576: VisibleDeprecationWarning: Creating an ndarray from ragged nested sequences (which is a list-or-tuple of lists-or-tuples-or ndarrays with different lengths or shapes) is deprecated. If you meant to do this, you must specify 'dtype=object' when creating the ndarray.\n",
      "  values = np.array([convert(v) for v in values])\n"
     ]
    },
    {
     "name": "stdout",
     "output_type": "stream",
     "text": [
      "348\n"
     ]
    },
    {
     "name": "stderr",
     "output_type": "stream",
     "text": [
      " 11%|███████▉                                                               | 592/5337 [11:04:14<194:36:28, 147.65s/it]C:\\Users\\duPar\\Anaconda3\\envs\\oasis\\lib\\site-packages\\pandas\\core\\internals\\construction.py:576: VisibleDeprecationWarning: Creating an ndarray from ragged nested sequences (which is a list-or-tuple of lists-or-tuples-or ndarrays with different lengths or shapes) is deprecated. If you meant to do this, you must specify 'dtype=object' when creating the ndarray.\n",
      "  values = np.array([convert(v) for v in values])\n"
     ]
    },
    {
     "name": "stdout",
     "output_type": "stream",
     "text": [
      "87\n"
     ]
    },
    {
     "name": "stderr",
     "output_type": "stream",
     "text": [
      " 11%|███████▉                                                               | 593/5337 [11:07:05<204:01:03, 154.82s/it]C:\\Users\\duPar\\Anaconda3\\envs\\oasis\\lib\\site-packages\\pandas\\core\\internals\\construction.py:576: VisibleDeprecationWarning: Creating an ndarray from ragged nested sequences (which is a list-or-tuple of lists-or-tuples-or ndarrays with different lengths or shapes) is deprecated. If you meant to do this, you must specify 'dtype=object' when creating the ndarray.\n",
      "  values = np.array([convert(v) for v in values])\n"
     ]
    },
    {
     "name": "stdout",
     "output_type": "stream",
     "text": [
      "144\n",
      "154\n",
      "164\n"
     ]
    },
    {
     "name": "stderr",
     "output_type": "stream",
     "text": [
      " 11%|███████▉                                                               | 594/5337 [11:09:57<210:43:06, 159.94s/it]C:\\Users\\duPar\\Anaconda3\\envs\\oasis\\lib\\site-packages\\pandas\\core\\internals\\construction.py:576: VisibleDeprecationWarning: Creating an ndarray from ragged nested sequences (which is a list-or-tuple of lists-or-tuples-or ndarrays with different lengths or shapes) is deprecated. If you meant to do this, you must specify 'dtype=object' when creating the ndarray.\n",
      "  values = np.array([convert(v) for v in values])\n"
     ]
    },
    {
     "name": "stdout",
     "output_type": "stream",
     "text": [
      "221\n"
     ]
    },
    {
     "name": "stderr",
     "output_type": "stream",
     "text": [
      " 11%|███████▉                                                               | 595/5337 [11:12:48<215:07:32, 163.32s/it]C:\\Users\\duPar\\Anaconda3\\envs\\oasis\\lib\\site-packages\\pandas\\core\\internals\\construction.py:576: VisibleDeprecationWarning: Creating an ndarray from ragged nested sequences (which is a list-or-tuple of lists-or-tuples-or ndarrays with different lengths or shapes) is deprecated. If you meant to do this, you must specify 'dtype=object' when creating the ndarray.\n",
      "  values = np.array([convert(v) for v in values])\n"
     ]
    },
    {
     "name": "stdout",
     "output_type": "stream",
     "text": [
      "168\n",
      "298\n"
     ]
    },
    {
     "name": "stderr",
     "output_type": "stream",
     "text": [
      " 11%|███████▉                                                               | 596/5337 [11:16:15<232:08:33, 176.27s/it]C:\\Users\\duPar\\Anaconda3\\envs\\oasis\\lib\\site-packages\\pandas\\core\\internals\\construction.py:576: VisibleDeprecationWarning: Creating an ndarray from ragged nested sequences (which is a list-or-tuple of lists-or-tuples-or ndarrays with different lengths or shapes) is deprecated. If you meant to do this, you must specify 'dtype=object' when creating the ndarray.\n",
      "  values = np.array([convert(v) for v in values])\n"
     ]
    },
    {
     "name": "stdout",
     "output_type": "stream",
     "text": [
      "94\n",
      "294\n"
     ]
    },
    {
     "name": "stderr",
     "output_type": "stream",
     "text": [
      " 11%|███████▉                                                               | 597/5337 [11:19:18<234:47:44, 178.33s/it]C:\\Users\\duPar\\Anaconda3\\envs\\oasis\\lib\\site-packages\\pandas\\core\\internals\\construction.py:576: VisibleDeprecationWarning: Creating an ndarray from ragged nested sequences (which is a list-or-tuple of lists-or-tuples-or ndarrays with different lengths or shapes) is deprecated. If you meant to do this, you must specify 'dtype=object' when creating the ndarray.\n",
      "  values = np.array([convert(v) for v in values])\n"
     ]
    },
    {
     "name": "stdout",
     "output_type": "stream",
     "text": [
      "76\n",
      "128\n",
      "129\n",
      "301\n"
     ]
    },
    {
     "name": "stderr",
     "output_type": "stream",
     "text": [
      " 11%|███████▉                                                               | 598/5337 [11:22:15<234:14:24, 177.94s/it]C:\\Users\\duPar\\Anaconda3\\envs\\oasis\\lib\\site-packages\\pandas\\core\\internals\\construction.py:576: VisibleDeprecationWarning: Creating an ndarray from ragged nested sequences (which is a list-or-tuple of lists-or-tuples-or ndarrays with different lengths or shapes) is deprecated. If you meant to do this, you must specify 'dtype=object' when creating the ndarray.\n",
      "  values = np.array([convert(v) for v in values])\n",
      " 11%|███████▉                                                               | 599/5337 [11:25:03<230:21:23, 175.03s/it]C:\\Users\\duPar\\Anaconda3\\envs\\oasis\\lib\\site-packages\\pandas\\core\\internals\\construction.py:576: VisibleDeprecationWarning: Creating an ndarray from ragged nested sequences (which is a list-or-tuple of lists-or-tuples-or ndarrays with different lengths or shapes) is deprecated. If you meant to do this, you must specify 'dtype=object' when creating the ndarray.\n",
      "  values = np.array([convert(v) for v in values])\n",
      " 11%|███████▉                                                               | 600/5337 [11:27:52<227:44:05, 173.07s/it]C:\\Users\\duPar\\Anaconda3\\envs\\oasis\\lib\\site-packages\\pandas\\core\\internals\\construction.py:576: VisibleDeprecationWarning: Creating an ndarray from ragged nested sequences (which is a list-or-tuple of lists-or-tuples-or ndarrays with different lengths or shapes) is deprecated. If you meant to do this, you must specify 'dtype=object' when creating the ndarray.\n",
      "  values = np.array([convert(v) for v in values])\n",
      " 11%|███████▉                                                               | 601/5337 [11:30:40<225:41:03, 171.55s/it]C:\\Users\\duPar\\Anaconda3\\envs\\oasis\\lib\\site-packages\\pandas\\core\\internals\\construction.py:576: VisibleDeprecationWarning: Creating an ndarray from ragged nested sequences (which is a list-or-tuple of lists-or-tuples-or ndarrays with different lengths or shapes) is deprecated. If you meant to do this, you must specify 'dtype=object' when creating the ndarray.\n",
      "  values = np.array([convert(v) for v in values])\n"
     ]
    },
    {
     "name": "stdout",
     "output_type": "stream",
     "text": [
      "223\n",
      "336\n"
     ]
    },
    {
     "name": "stderr",
     "output_type": "stream",
     "text": [
      " 11%|████████                                                               | 603/5337 [11:33:29<157:28:26, 119.75s/it]C:\\Users\\duPar\\Anaconda3\\envs\\oasis\\lib\\site-packages\\pandas\\core\\internals\\construction.py:576: VisibleDeprecationWarning: Creating an ndarray from ragged nested sequences (which is a list-or-tuple of lists-or-tuples-or ndarrays with different lengths or shapes) is deprecated. If you meant to do this, you must specify 'dtype=object' when creating the ndarray.\n",
      "  values = np.array([convert(v) for v in values])\n"
     ]
    },
    {
     "name": "stdout",
     "output_type": "stream",
     "text": [
      "433\n",
      "436\n"
     ]
    },
    {
     "name": "stderr",
     "output_type": "stream",
     "text": [
      " 11%|████████                                                               | 604/5337 [11:36:18<176:44:58, 134.44s/it]C:\\Users\\duPar\\Anaconda3\\envs\\oasis\\lib\\site-packages\\pandas\\core\\internals\\construction.py:576: VisibleDeprecationWarning: Creating an ndarray from ragged nested sequences (which is a list-or-tuple of lists-or-tuples-or ndarrays with different lengths or shapes) is deprecated. If you meant to do this, you must specify 'dtype=object' when creating the ndarray.\n",
      "  values = np.array([convert(v) for v in values])\n",
      " 11%|████████                                                               | 605/5337 [11:39:08<190:39:29, 145.05s/it]C:\\Users\\duPar\\Anaconda3\\envs\\oasis\\lib\\site-packages\\pandas\\core\\internals\\construction.py:576: VisibleDeprecationWarning: Creating an ndarray from ragged nested sequences (which is a list-or-tuple of lists-or-tuples-or ndarrays with different lengths or shapes) is deprecated. If you meant to do this, you must specify 'dtype=object' when creating the ndarray.\n",
      "  values = np.array([convert(v) for v in values])\n",
      " 11%|████████                                                               | 606/5337 [11:41:58<200:28:52, 152.55s/it]C:\\Users\\duPar\\Anaconda3\\envs\\oasis\\lib\\site-packages\\pandas\\core\\internals\\construction.py:576: VisibleDeprecationWarning: Creating an ndarray from ragged nested sequences (which is a list-or-tuple of lists-or-tuples-or ndarrays with different lengths or shapes) is deprecated. If you meant to do this, you must specify 'dtype=object' when creating the ndarray.\n",
      "  values = np.array([convert(v) for v in values])\n"
     ]
    },
    {
     "name": "stdout",
     "output_type": "stream",
     "text": [
      "135\n",
      "486\n"
     ]
    },
    {
     "name": "stderr",
     "output_type": "stream",
     "text": [
      " 11%|████████                                                               | 607/5337 [11:44:47<207:13:04, 157.71s/it]C:\\Users\\duPar\\Anaconda3\\envs\\oasis\\lib\\site-packages\\pandas\\core\\internals\\construction.py:576: VisibleDeprecationWarning: Creating an ndarray from ragged nested sequences (which is a list-or-tuple of lists-or-tuples-or ndarrays with different lengths or shapes) is deprecated. If you meant to do this, you must specify 'dtype=object' when creating the ndarray.\n",
      "  values = np.array([convert(v) for v in values])\n"
     ]
    },
    {
     "name": "stdout",
     "output_type": "stream",
     "text": [
      "192\n",
      "211\n"
     ]
    },
    {
     "name": "stderr",
     "output_type": "stream",
     "text": [
      " 11%|████████                                                               | 608/5337 [11:47:38<212:04:01, 161.44s/it]C:\\Users\\duPar\\Anaconda3\\envs\\oasis\\lib\\site-packages\\pandas\\core\\internals\\construction.py:576: VisibleDeprecationWarning: Creating an ndarray from ragged nested sequences (which is a list-or-tuple of lists-or-tuples-or ndarrays with different lengths or shapes) is deprecated. If you meant to do this, you must specify 'dtype=object' when creating the ndarray.\n",
      "  values = np.array([convert(v) for v in values])\n"
     ]
    },
    {
     "name": "stdout",
     "output_type": "stream",
     "text": [
      "375\n",
      "453\n"
     ]
    },
    {
     "name": "stderr",
     "output_type": "stream",
     "text": [
      " 11%|████████                                                               | 609/5337 [11:50:28<215:30:34, 164.09s/it]C:\\Users\\duPar\\Anaconda3\\envs\\oasis\\lib\\site-packages\\pandas\\core\\internals\\construction.py:576: VisibleDeprecationWarning: Creating an ndarray from ragged nested sequences (which is a list-or-tuple of lists-or-tuples-or ndarrays with different lengths or shapes) is deprecated. If you meant to do this, you must specify 'dtype=object' when creating the ndarray.\n",
      "  values = np.array([convert(v) for v in values])\n"
     ]
    },
    {
     "name": "stdout",
     "output_type": "stream",
     "text": [
      "486\n"
     ]
    },
    {
     "name": "stderr",
     "output_type": "stream",
     "text": [
      " 11%|████████                                                               | 610/5337 [11:53:18<217:55:36, 165.97s/it]C:\\Users\\duPar\\Anaconda3\\envs\\oasis\\lib\\site-packages\\pandas\\core\\internals\\construction.py:576: VisibleDeprecationWarning: Creating an ndarray from ragged nested sequences (which is a list-or-tuple of lists-or-tuples-or ndarrays with different lengths or shapes) is deprecated. If you meant to do this, you must specify 'dtype=object' when creating the ndarray.\n",
      "  values = np.array([convert(v) for v in values])\n",
      " 11%|████████▎                                                               | 612/5337 [11:53:21<107:30:11, 81.91s/it]C:\\Users\\duPar\\Anaconda3\\envs\\oasis\\lib\\site-packages\\pandas\\core\\internals\\construction.py:576: VisibleDeprecationWarning: Creating an ndarray from ragged nested sequences (which is a list-or-tuple of lists-or-tuples-or ndarrays with different lengths or shapes) is deprecated. If you meant to do this, you must specify 'dtype=object' when creating the ndarray.\n",
      "  values = np.array([convert(v) for v in values])\n",
      " 11%|████████▏                                                              | 613/5337 [11:56:13<142:53:04, 108.89s/it]C:\\Users\\duPar\\Anaconda3\\envs\\oasis\\lib\\site-packages\\pandas\\core\\internals\\construction.py:576: VisibleDeprecationWarning: Creating an ndarray from ragged nested sequences (which is a list-or-tuple of lists-or-tuples-or ndarrays with different lengths or shapes) is deprecated. If you meant to do this, you must specify 'dtype=object' when creating the ndarray.\n",
      "  values = np.array([convert(v) for v in values])\n"
     ]
    },
    {
     "name": "stdout",
     "output_type": "stream",
     "text": [
      "24\n",
      "59\n",
      "344\n"
     ]
    },
    {
     "name": "stderr",
     "output_type": "stream",
     "text": [
      " 12%|████████▏                                                              | 614/5337 [11:58:33<155:03:26, 118.19s/it]C:\\Users\\duPar\\Anaconda3\\envs\\oasis\\lib\\site-packages\\pandas\\core\\internals\\construction.py:576: VisibleDeprecationWarning: Creating an ndarray from ragged nested sequences (which is a list-or-tuple of lists-or-tuples-or ndarrays with different lengths or shapes) is deprecated. If you meant to do this, you must specify 'dtype=object' when creating the ndarray.\n",
      "  values = np.array([convert(v) for v in values])\n",
      " 12%|████████▏                                                              | 615/5337 [12:00:42<159:16:40, 121.43s/it]C:\\Users\\duPar\\Anaconda3\\envs\\oasis\\lib\\site-packages\\pandas\\core\\internals\\construction.py:576: VisibleDeprecationWarning: Creating an ndarray from ragged nested sequences (which is a list-or-tuple of lists-or-tuples-or ndarrays with different lengths or shapes) is deprecated. If you meant to do this, you must specify 'dtype=object' when creating the ndarray.\n",
      "  values = np.array([convert(v) for v in values])\n",
      " 12%|████████▏                                                              | 616/5337 [12:02:22<150:54:06, 115.07s/it]C:\\Users\\duPar\\Anaconda3\\envs\\oasis\\lib\\site-packages\\pandas\\core\\internals\\construction.py:576: VisibleDeprecationWarning: Creating an ndarray from ragged nested sequences (which is a list-or-tuple of lists-or-tuples-or ndarrays with different lengths or shapes) is deprecated. If you meant to do this, you must specify 'dtype=object' when creating the ndarray.\n",
      "  values = np.array([convert(v) for v in values])\n",
      " 12%|████████▎                                                               | 617/5337 [12:03:00<120:40:39, 92.04s/it]C:\\Users\\duPar\\Anaconda3\\envs\\oasis\\lib\\site-packages\\pandas\\core\\internals\\construction.py:576: VisibleDeprecationWarning: Creating an ndarray from ragged nested sequences (which is a list-or-tuple of lists-or-tuples-or ndarrays with different lengths or shapes) is deprecated. If you meant to do this, you must specify 'dtype=object' when creating the ndarray.\n",
      "  values = np.array([convert(v) for v in values])\n"
     ]
    },
    {
     "name": "stdout",
     "output_type": "stream",
     "text": [
      "213\n"
     ]
    },
    {
     "name": "stderr",
     "output_type": "stream",
     "text": [
      " 12%|████████▎                                                               | 618/5337 [12:04:14<113:43:35, 86.76s/it]C:\\Users\\duPar\\Anaconda3\\envs\\oasis\\lib\\site-packages\\pandas\\core\\internals\\construction.py:576: VisibleDeprecationWarning: Creating an ndarray from ragged nested sequences (which is a list-or-tuple of lists-or-tuples-or ndarrays with different lengths or shapes) is deprecated. If you meant to do this, you must specify 'dtype=object' when creating the ndarray.\n",
      "  values = np.array([convert(v) for v in values])\n",
      " 12%|████████▏                                                              | 619/5337 [12:07:08<147:53:40, 112.85s/it]C:\\Users\\duPar\\Anaconda3\\envs\\oasis\\lib\\site-packages\\pandas\\core\\internals\\construction.py:576: VisibleDeprecationWarning: Creating an ndarray from ragged nested sequences (which is a list-or-tuple of lists-or-tuples-or ndarrays with different lengths or shapes) is deprecated. If you meant to do this, you must specify 'dtype=object' when creating the ndarray.\n",
      "  values = np.array([convert(v) for v in values])\n"
     ]
    },
    {
     "name": "stdout",
     "output_type": "stream",
     "text": [
      "389\n"
     ]
    },
    {
     "name": "stderr",
     "output_type": "stream",
     "text": [
      " 12%|████████▏                                                              | 620/5337 [12:10:01<171:28:51, 130.87s/it]C:\\Users\\duPar\\Anaconda3\\envs\\oasis\\lib\\site-packages\\pandas\\core\\internals\\construction.py:576: VisibleDeprecationWarning: Creating an ndarray from ragged nested sequences (which is a list-or-tuple of lists-or-tuples-or ndarrays with different lengths or shapes) is deprecated. If you meant to do this, you must specify 'dtype=object' when creating the ndarray.\n",
      "  values = np.array([convert(v) for v in values])\n"
     ]
    },
    {
     "name": "stdout",
     "output_type": "stream",
     "text": [
      "19\n"
     ]
    },
    {
     "name": "stderr",
     "output_type": "stream",
     "text": [
      " 12%|████████▎                                                              | 621/5337 [12:12:54<187:50:42, 143.39s/it]C:\\Users\\duPar\\Anaconda3\\envs\\oasis\\lib\\site-packages\\pandas\\core\\internals\\construction.py:576: VisibleDeprecationWarning: Creating an ndarray from ragged nested sequences (which is a list-or-tuple of lists-or-tuples-or ndarrays with different lengths or shapes) is deprecated. If you meant to do this, you must specify 'dtype=object' when creating the ndarray.\n",
      "  values = np.array([convert(v) for v in values])\n"
     ]
    },
    {
     "name": "stdout",
     "output_type": "stream",
     "text": [
      "436\n"
     ]
    },
    {
     "name": "stderr",
     "output_type": "stream",
     "text": [
      " 12%|████████▎                                                              | 622/5337 [12:15:48<200:02:29, 152.74s/it]C:\\Users\\duPar\\Anaconda3\\envs\\oasis\\lib\\site-packages\\pandas\\core\\internals\\construction.py:576: VisibleDeprecationWarning: Creating an ndarray from ragged nested sequences (which is a list-or-tuple of lists-or-tuples-or ndarrays with different lengths or shapes) is deprecated. If you meant to do this, you must specify 'dtype=object' when creating the ndarray.\n",
      "  values = np.array([convert(v) for v in values])\n"
     ]
    },
    {
     "name": "stdout",
     "output_type": "stream",
     "text": [
      "33\n",
      "138\n"
     ]
    },
    {
     "name": "stderr",
     "output_type": "stream",
     "text": [
      " 12%|████████▎                                                              | 623/5337 [12:18:42<208:05:21, 158.91s/it]C:\\Users\\duPar\\Anaconda3\\envs\\oasis\\lib\\site-packages\\pandas\\core\\internals\\construction.py:576: VisibleDeprecationWarning: Creating an ndarray from ragged nested sequences (which is a list-or-tuple of lists-or-tuples-or ndarrays with different lengths or shapes) is deprecated. If you meant to do this, you must specify 'dtype=object' when creating the ndarray.\n",
      "  values = np.array([convert(v) for v in values])\n",
      " 12%|████████▎                                                              | 624/5337 [12:20:52<196:51:47, 150.37s/it]C:\\Users\\duPar\\Anaconda3\\envs\\oasis\\lib\\site-packages\\pandas\\core\\internals\\construction.py:576: VisibleDeprecationWarning: Creating an ndarray from ragged nested sequences (which is a list-or-tuple of lists-or-tuples-or ndarrays with different lengths or shapes) is deprecated. If you meant to do this, you must specify 'dtype=object' when creating the ndarray.\n",
      "  values = np.array([convert(v) for v in values])\n"
     ]
    },
    {
     "name": "stdout",
     "output_type": "stream",
     "text": [
      "144\n",
      "151\n"
     ]
    },
    {
     "name": "stderr",
     "output_type": "stream",
     "text": [
      " 12%|████████▎                                                              | 625/5337 [12:21:49<160:02:49, 122.28s/it]C:\\Users\\duPar\\Anaconda3\\envs\\oasis\\lib\\site-packages\\pandas\\core\\internals\\construction.py:576: VisibleDeprecationWarning: Creating an ndarray from ragged nested sequences (which is a list-or-tuple of lists-or-tuples-or ndarrays with different lengths or shapes) is deprecated. If you meant to do this, you must specify 'dtype=object' when creating the ndarray.\n",
      "  values = np.array([convert(v) for v in values])\n"
     ]
    },
    {
     "name": "stdout",
     "output_type": "stream",
     "text": [
      "133\n"
     ]
    },
    {
     "name": "stderr",
     "output_type": "stream",
     "text": [
      " 12%|████████▎                                                              | 626/5337 [12:24:43<180:15:22, 137.75s/it]C:\\Users\\duPar\\Anaconda3\\envs\\oasis\\lib\\site-packages\\pandas\\core\\internals\\construction.py:576: VisibleDeprecationWarning: Creating an ndarray from ragged nested sequences (which is a list-or-tuple of lists-or-tuples-or ndarrays with different lengths or shapes) is deprecated. If you meant to do this, you must specify 'dtype=object' when creating the ndarray.\n",
      "  values = np.array([convert(v) for v in values])\n"
     ]
    },
    {
     "name": "stdout",
     "output_type": "stream",
     "text": [
      "44\n"
     ]
    },
    {
     "name": "stderr",
     "output_type": "stream",
     "text": [
      " 12%|████████▎                                                              | 627/5337 [12:26:01<156:51:00, 119.89s/it]C:\\Users\\duPar\\Anaconda3\\envs\\oasis\\lib\\site-packages\\pandas\\core\\internals\\construction.py:576: VisibleDeprecationWarning: Creating an ndarray from ragged nested sequences (which is a list-or-tuple of lists-or-tuples-or ndarrays with different lengths or shapes) is deprecated. If you meant to do this, you must specify 'dtype=object' when creating the ndarray.\n",
      "  values = np.array([convert(v) for v in values])\n"
     ]
    },
    {
     "name": "stdout",
     "output_type": "stream",
     "text": [
      "410\n"
     ]
    },
    {
     "name": "stderr",
     "output_type": "stream",
     "text": [
      " 12%|████████▎                                                              | 628/5337 [12:28:29<167:56:26, 128.39s/it]C:\\Users\\duPar\\Anaconda3\\envs\\oasis\\lib\\site-packages\\pandas\\core\\internals\\construction.py:576: VisibleDeprecationWarning: Creating an ndarray from ragged nested sequences (which is a list-or-tuple of lists-or-tuples-or ndarrays with different lengths or shapes) is deprecated. If you meant to do this, you must specify 'dtype=object' when creating the ndarray.\n",
      "  values = np.array([convert(v) for v in values])\n"
     ]
    },
    {
     "name": "stdout",
     "output_type": "stream",
     "text": [
      "245\n"
     ]
    },
    {
     "name": "stderr",
     "output_type": "stream",
     "text": [
      " 12%|████████▎                                                              | 629/5337 [12:29:56<151:36:43, 115.93s/it]C:\\Users\\duPar\\Anaconda3\\envs\\oasis\\lib\\site-packages\\pandas\\core\\internals\\construction.py:576: VisibleDeprecationWarning: Creating an ndarray from ragged nested sequences (which is a list-or-tuple of lists-or-tuples-or ndarrays with different lengths or shapes) is deprecated. If you meant to do this, you must specify 'dtype=object' when creating the ndarray.\n",
      "  values = np.array([convert(v) for v in values])\n",
      " 12%|████████▍                                                              | 630/5337 [12:32:52<175:18:02, 134.07s/it]C:\\Users\\duPar\\Anaconda3\\envs\\oasis\\lib\\site-packages\\pandas\\core\\internals\\construction.py:576: VisibleDeprecationWarning: Creating an ndarray from ragged nested sequences (which is a list-or-tuple of lists-or-tuples-or ndarrays with different lengths or shapes) is deprecated. If you meant to do this, you must specify 'dtype=object' when creating the ndarray.\n",
      "  values = np.array([convert(v) for v in values])\n",
      " 12%|████████▍                                                              | 631/5337 [12:35:49<192:07:32, 146.97s/it]C:\\Users\\duPar\\Anaconda3\\envs\\oasis\\lib\\site-packages\\pandas\\core\\internals\\construction.py:576: VisibleDeprecationWarning: Creating an ndarray from ragged nested sequences (which is a list-or-tuple of lists-or-tuples-or ndarrays with different lengths or shapes) is deprecated. If you meant to do this, you must specify 'dtype=object' when creating the ndarray.\n",
      "  values = np.array([convert(v) for v in values])\n",
      " 12%|████████▍                                                              | 632/5337 [12:38:46<203:32:01, 155.73s/it]C:\\Users\\duPar\\Anaconda3\\envs\\oasis\\lib\\site-packages\\pandas\\core\\internals\\construction.py:576: VisibleDeprecationWarning: Creating an ndarray from ragged nested sequences (which is a list-or-tuple of lists-or-tuples-or ndarrays with different lengths or shapes) is deprecated. If you meant to do this, you must specify 'dtype=object' when creating the ndarray.\n",
      "  values = np.array([convert(v) for v in values])\n"
     ]
    },
    {
     "name": "stdout",
     "output_type": "stream",
     "text": [
      "15\n",
      "224\n"
     ]
    },
    {
     "name": "stderr",
     "output_type": "stream",
     "text": [
      " 12%|████████▍                                                              | 633/5337 [12:41:43<212:10:51, 162.38s/it]C:\\Users\\duPar\\Anaconda3\\envs\\oasis\\lib\\site-packages\\pandas\\core\\internals\\construction.py:576: VisibleDeprecationWarning: Creating an ndarray from ragged nested sequences (which is a list-or-tuple of lists-or-tuples-or ndarrays with different lengths or shapes) is deprecated. If you meant to do this, you must specify 'dtype=object' when creating the ndarray.\n",
      "  values = np.array([convert(v) for v in values])\n"
     ]
    },
    {
     "name": "stdout",
     "output_type": "stream",
     "text": [
      "126\n",
      "311\n"
     ]
    },
    {
     "name": "stderr",
     "output_type": "stream",
     "text": [
      " 12%|████████▍                                                              | 634/5337 [12:44:40<217:34:02, 166.54s/it]C:\\Users\\duPar\\Anaconda3\\envs\\oasis\\lib\\site-packages\\pandas\\core\\internals\\construction.py:576: VisibleDeprecationWarning: Creating an ndarray from ragged nested sequences (which is a list-or-tuple of lists-or-tuples-or ndarrays with different lengths or shapes) is deprecated. If you meant to do this, you must specify 'dtype=object' when creating the ndarray.\n",
      "  values = np.array([convert(v) for v in values])\n"
     ]
    },
    {
     "name": "stdout",
     "output_type": "stream",
     "text": [
      "420\n"
     ]
    },
    {
     "name": "stderr",
     "output_type": "stream",
     "text": [
      " 12%|████████▍                                                              | 635/5337 [12:47:37<221:37:40, 169.69s/it]C:\\Users\\duPar\\Anaconda3\\envs\\oasis\\lib\\site-packages\\pandas\\core\\internals\\construction.py:576: VisibleDeprecationWarning: Creating an ndarray from ragged nested sequences (which is a list-or-tuple of lists-or-tuples-or ndarrays with different lengths or shapes) is deprecated. If you meant to do this, you must specify 'dtype=object' when creating the ndarray.\n",
      "  values = np.array([convert(v) for v in values])\n",
      " 12%|████████▍                                                              | 636/5337 [12:50:36<225:10:28, 172.44s/it]C:\\Users\\duPar\\Anaconda3\\envs\\oasis\\lib\\site-packages\\pandas\\core\\internals\\construction.py:576: VisibleDeprecationWarning: Creating an ndarray from ragged nested sequences (which is a list-or-tuple of lists-or-tuples-or ndarrays with different lengths or shapes) is deprecated. If you meant to do this, you must specify 'dtype=object' when creating the ndarray.\n",
      "  values = np.array([convert(v) for v in values])\n"
     ]
    },
    {
     "name": "stdout",
     "output_type": "stream",
     "text": [
      "54\n"
     ]
    },
    {
     "name": "stderr",
     "output_type": "stream",
     "text": [
      " 12%|████████▍                                                              | 637/5337 [12:53:33<227:08:33, 173.98s/it]C:\\Users\\duPar\\Anaconda3\\envs\\oasis\\lib\\site-packages\\pandas\\core\\internals\\construction.py:576: VisibleDeprecationWarning: Creating an ndarray from ragged nested sequences (which is a list-or-tuple of lists-or-tuples-or ndarrays with different lengths or shapes) is deprecated. If you meant to do this, you must specify 'dtype=object' when creating the ndarray.\n",
      "  values = np.array([convert(v) for v in values])\n"
     ]
    },
    {
     "name": "stdout",
     "output_type": "stream",
     "text": [
      "167\n",
      "198\n"
     ]
    },
    {
     "name": "stderr",
     "output_type": "stream",
     "text": [
      " 12%|████████▍                                                              | 638/5337 [12:56:32<228:50:52, 175.33s/it]C:\\Users\\duPar\\Anaconda3\\envs\\oasis\\lib\\site-packages\\pandas\\core\\internals\\construction.py:576: VisibleDeprecationWarning: Creating an ndarray from ragged nested sequences (which is a list-or-tuple of lists-or-tuples-or ndarrays with different lengths or shapes) is deprecated. If you meant to do this, you must specify 'dtype=object' when creating the ndarray.\n",
      "  values = np.array([convert(v) for v in values])\n"
     ]
    },
    {
     "name": "stdout",
     "output_type": "stream",
     "text": [
      "87\n"
     ]
    },
    {
     "name": "stderr",
     "output_type": "stream",
     "text": [
      " 12%|████████▌                                                              | 639/5337 [12:57:04<172:43:50, 132.36s/it]C:\\Users\\duPar\\Anaconda3\\envs\\oasis\\lib\\site-packages\\pandas\\core\\internals\\construction.py:576: VisibleDeprecationWarning: Creating an ndarray from ragged nested sequences (which is a list-or-tuple of lists-or-tuples-or ndarrays with different lengths or shapes) is deprecated. If you meant to do this, you must specify 'dtype=object' when creating the ndarray.\n",
      "  values = np.array([convert(v) for v in values])\n",
      " 12%|████████▋                                                               | 640/5337 [12:57:26<129:25:14, 99.19s/it]"
     ]
    },
    {
     "name": "stdout",
     "output_type": "stream",
     "text": [
      "60\n"
     ]
    },
    {
     "name": "stderr",
     "output_type": "stream",
     "text": [
      "C:\\Users\\duPar\\Anaconda3\\envs\\oasis\\lib\\site-packages\\pandas\\core\\internals\\construction.py:576: VisibleDeprecationWarning: Creating an ndarray from ragged nested sequences (which is a list-or-tuple of lists-or-tuples-or ndarrays with different lengths or shapes) is deprecated. If you meant to do this, you must specify 'dtype=object' when creating the ndarray.\n",
      "  values = np.array([convert(v) for v in values])\n",
      " 12%|████████▋                                                               | 641/5337 [12:58:10<107:52:59, 82.70s/it]"
     ]
    },
    {
     "name": "stdout",
     "output_type": "stream",
     "text": [
      "125\n"
     ]
    },
    {
     "name": "stderr",
     "output_type": "stream",
     "text": [
      "C:\\Users\\duPar\\Anaconda3\\envs\\oasis\\lib\\site-packages\\pandas\\core\\internals\\construction.py:576: VisibleDeprecationWarning: Creating an ndarray from ragged nested sequences (which is a list-or-tuple of lists-or-tuples-or ndarrays with different lengths or shapes) is deprecated. If you meant to do this, you must specify 'dtype=object' when creating the ndarray.\n",
      "  values = np.array([convert(v) for v in values])\n"
     ]
    },
    {
     "name": "stdout",
     "output_type": "stream",
     "text": [
      "156\n"
     ]
    },
    {
     "name": "stderr",
     "output_type": "stream",
     "text": [
      " 12%|████████▊                                                                | 642/5337 [12:59:11<99:34:54, 76.36s/it]C:\\Users\\duPar\\Anaconda3\\envs\\oasis\\lib\\site-packages\\pandas\\core\\internals\\construction.py:576: VisibleDeprecationWarning: Creating an ndarray from ragged nested sequences (which is a list-or-tuple of lists-or-tuples-or ndarrays with different lengths or shapes) is deprecated. If you meant to do this, you must specify 'dtype=object' when creating the ndarray.\n",
      "  values = np.array([convert(v) for v in values])\n"
     ]
    },
    {
     "name": "stdout",
     "output_type": "stream",
     "text": [
      "38\n"
     ]
    },
    {
     "name": "stderr",
     "output_type": "stream",
     "text": [
      " 12%|████████▊                                                                | 643/5337 [12:59:26<75:34:41, 57.96s/it]C:\\Users\\duPar\\Anaconda3\\envs\\oasis\\lib\\site-packages\\pandas\\core\\internals\\construction.py:576: VisibleDeprecationWarning: Creating an ndarray from ragged nested sequences (which is a list-or-tuple of lists-or-tuples-or ndarrays with different lengths or shapes) is deprecated. If you meant to do this, you must specify 'dtype=object' when creating the ndarray.\n",
      "  values = np.array([convert(v) for v in values])\n",
      " 12%|████████▊                                                                | 644/5337 [12:59:53<63:16:16, 48.54s/it]C:\\Users\\duPar\\Anaconda3\\envs\\oasis\\lib\\site-packages\\pandas\\core\\internals\\construction.py:576: VisibleDeprecationWarning: Creating an ndarray from ragged nested sequences (which is a list-or-tuple of lists-or-tuples-or ndarrays with different lengths or shapes) is deprecated. If you meant to do this, you must specify 'dtype=object' when creating the ndarray.\n",
      "  values = np.array([convert(v) for v in values])\n",
      " 12%|████████▊                                                                | 645/5337 [13:00:16<53:20:37, 40.93s/it]"
     ]
    },
    {
     "name": "stdout",
     "output_type": "stream",
     "text": [
      "63\n"
     ]
    },
    {
     "name": "stderr",
     "output_type": "stream",
     "text": [
      "C:\\Users\\duPar\\Anaconda3\\envs\\oasis\\lib\\site-packages\\pandas\\core\\internals\\construction.py:576: VisibleDeprecationWarning: Creating an ndarray from ragged nested sequences (which is a list-or-tuple of lists-or-tuples-or ndarrays with different lengths or shapes) is deprecated. If you meant to do this, you must specify 'dtype=object' when creating the ndarray.\n",
      "  values = np.array([convert(v) for v in values])\n",
      " 12%|████████▊                                                                | 647/5337 [13:00:59<37:47:57, 29.01s/it]C:\\Users\\duPar\\Anaconda3\\envs\\oasis\\lib\\site-packages\\pandas\\core\\internals\\construction.py:576: VisibleDeprecationWarning: Creating an ndarray from ragged nested sequences (which is a list-or-tuple of lists-or-tuples-or ndarrays with different lengths or shapes) is deprecated. If you meant to do this, you must specify 'dtype=object' when creating the ndarray.\n",
      "  values = np.array([convert(v) for v in values])\n"
     ]
    },
    {
     "name": "stdout",
     "output_type": "stream",
     "text": [
      "3\n",
      "35\n",
      "44\n",
      "45\n"
     ]
    },
    {
     "name": "stderr",
     "output_type": "stream",
     "text": [
      " 12%|████████▊                                                                | 648/5337 [13:03:57<96:11:07, 73.85s/it]C:\\Users\\duPar\\Anaconda3\\envs\\oasis\\lib\\site-packages\\pandas\\core\\internals\\construction.py:576: VisibleDeprecationWarning: Creating an ndarray from ragged nested sequences (which is a list-or-tuple of lists-or-tuples-or ndarrays with different lengths or shapes) is deprecated. If you meant to do this, you must specify 'dtype=object' when creating the ndarray.\n",
      "  values = np.array([convert(v) for v in values])\n",
      " 12%|████████▋                                                              | 649/5337 [13:06:57<137:39:45, 105.71s/it]C:\\Users\\duPar\\Anaconda3\\envs\\oasis\\lib\\site-packages\\pandas\\core\\internals\\construction.py:576: VisibleDeprecationWarning: Creating an ndarray from ragged nested sequences (which is a list-or-tuple of lists-or-tuples-or ndarrays with different lengths or shapes) is deprecated. If you meant to do this, you must specify 'dtype=object' when creating the ndarray.\n",
      "  values = np.array([convert(v) for v in values])\n",
      " 12%|████████▋                                                              | 650/5337 [13:09:58<166:53:25, 128.19s/it]C:\\Users\\duPar\\Anaconda3\\envs\\oasis\\lib\\site-packages\\pandas\\core\\internals\\construction.py:576: VisibleDeprecationWarning: Creating an ndarray from ragged nested sequences (which is a list-or-tuple of lists-or-tuples-or ndarrays with different lengths or shapes) is deprecated. If you meant to do this, you must specify 'dtype=object' when creating the ndarray.\n",
      "  values = np.array([convert(v) for v in values])\n"
     ]
    },
    {
     "name": "stdout",
     "output_type": "stream",
     "text": [
      "71\n",
      "269\n",
      "365\n",
      "386\n"
     ]
    },
    {
     "name": "stderr",
     "output_type": "stream",
     "text": [
      " 12%|████████▋                                                              | 651/5337 [13:12:57<186:57:57, 143.64s/it]C:\\Users\\duPar\\Anaconda3\\envs\\oasis\\lib\\site-packages\\pandas\\core\\internals\\construction.py:576: VisibleDeprecationWarning: Creating an ndarray from ragged nested sequences (which is a list-or-tuple of lists-or-tuples-or ndarrays with different lengths or shapes) is deprecated. If you meant to do this, you must specify 'dtype=object' when creating the ndarray.\n",
      "  values = np.array([convert(v) for v in values])\n",
      " 12%|████████▋                                                              | 652/5337 [13:15:59<201:35:08, 154.90s/it]C:\\Users\\duPar\\Anaconda3\\envs\\oasis\\lib\\site-packages\\pandas\\core\\internals\\construction.py:576: VisibleDeprecationWarning: Creating an ndarray from ragged nested sequences (which is a list-or-tuple of lists-or-tuples-or ndarrays with different lengths or shapes) is deprecated. If you meant to do this, you must specify 'dtype=object' when creating the ndarray.\n",
      "  values = np.array([convert(v) for v in values])\n",
      " 12%|████████▋                                                              | 653/5337 [13:19:00<211:50:55, 162.82s/it]C:\\Users\\duPar\\Anaconda3\\envs\\oasis\\lib\\site-packages\\pandas\\core\\internals\\construction.py:576: VisibleDeprecationWarning: Creating an ndarray from ragged nested sequences (which is a list-or-tuple of lists-or-tuples-or ndarrays with different lengths or shapes) is deprecated. If you meant to do this, you must specify 'dtype=object' when creating the ndarray.\n",
      "  values = np.array([convert(v) for v in values])\n"
     ]
    },
    {
     "name": "stdout",
     "output_type": "stream",
     "text": [
      "16\n"
     ]
    },
    {
     "name": "stderr",
     "output_type": "stream",
     "text": [
      " 12%|████████▋                                                              | 654/5337 [13:22:02<219:10:16, 168.49s/it]C:\\Users\\duPar\\Anaconda3\\envs\\oasis\\lib\\site-packages\\pandas\\core\\internals\\construction.py:576: VisibleDeprecationWarning: Creating an ndarray from ragged nested sequences (which is a list-or-tuple of lists-or-tuples-or ndarrays with different lengths or shapes) is deprecated. If you meant to do this, you must specify 'dtype=object' when creating the ndarray.\n",
      "  values = np.array([convert(v) for v in values])\n"
     ]
    },
    {
     "name": "stdout",
     "output_type": "stream",
     "text": [
      "355\n"
     ]
    },
    {
     "name": "stderr",
     "output_type": "stream",
     "text": [
      " 12%|████████▋                                                              | 655/5337 [13:25:03<224:11:12, 172.38s/it]C:\\Users\\duPar\\Anaconda3\\envs\\oasis\\lib\\site-packages\\pandas\\core\\internals\\construction.py:576: VisibleDeprecationWarning: Creating an ndarray from ragged nested sequences (which is a list-or-tuple of lists-or-tuples-or ndarrays with different lengths or shapes) is deprecated. If you meant to do this, you must specify 'dtype=object' when creating the ndarray.\n",
      "  values = np.array([convert(v) for v in values])\n"
     ]
    },
    {
     "name": "stdout",
     "output_type": "stream",
     "text": [
      "25\n",
      "43\n",
      "408\n",
      "431\n"
     ]
    },
    {
     "name": "stderr",
     "output_type": "stream",
     "text": [
      " 12%|████████▋                                                              | 656/5337 [13:28:03<227:01:24, 174.60s/it]C:\\Users\\duPar\\Anaconda3\\envs\\oasis\\lib\\site-packages\\pandas\\core\\internals\\construction.py:576: VisibleDeprecationWarning: Creating an ndarray from ragged nested sequences (which is a list-or-tuple of lists-or-tuples-or ndarrays with different lengths or shapes) is deprecated. If you meant to do this, you must specify 'dtype=object' when creating the ndarray.\n",
      "  values = np.array([convert(v) for v in values])\n",
      " 12%|████████▋                                                              | 657/5337 [13:31:06<230:19:49, 177.18s/it]C:\\Users\\duPar\\Anaconda3\\envs\\oasis\\lib\\site-packages\\pandas\\core\\internals\\construction.py:576: VisibleDeprecationWarning: Creating an ndarray from ragged nested sequences (which is a list-or-tuple of lists-or-tuples-or ndarrays with different lengths or shapes) is deprecated. If you meant to do this, you must specify 'dtype=object' when creating the ndarray.\n",
      "  values = np.array([convert(v) for v in values])\n",
      " 12%|████████▊                                                              | 658/5337 [13:34:10<232:51:20, 179.16s/it]C:\\Users\\duPar\\Anaconda3\\envs\\oasis\\lib\\site-packages\\pandas\\core\\internals\\construction.py:576: VisibleDeprecationWarning: Creating an ndarray from ragged nested sequences (which is a list-or-tuple of lists-or-tuples-or ndarrays with different lengths or shapes) is deprecated. If you meant to do this, you must specify 'dtype=object' when creating the ndarray.\n",
      "  values = np.array([convert(v) for v in values])\n",
      " 12%|████████▊                                                              | 659/5337 [13:37:13<234:26:01, 180.41s/it]C:\\Users\\duPar\\Anaconda3\\envs\\oasis\\lib\\site-packages\\pandas\\core\\internals\\construction.py:576: VisibleDeprecationWarning: Creating an ndarray from ragged nested sequences (which is a list-or-tuple of lists-or-tuples-or ndarrays with different lengths or shapes) is deprecated. If you meant to do this, you must specify 'dtype=object' when creating the ndarray.\n",
      "  values = np.array([convert(v) for v in values])\n"
     ]
    },
    {
     "name": "stdout",
     "output_type": "stream",
     "text": [
      "14\n",
      "220\n"
     ]
    },
    {
     "name": "stderr",
     "output_type": "stream",
     "text": [
      " 12%|████████▊                                                              | 660/5337 [13:40:16<235:30:02, 181.27s/it]C:\\Users\\duPar\\Anaconda3\\envs\\oasis\\lib\\site-packages\\pandas\\core\\internals\\construction.py:576: VisibleDeprecationWarning: Creating an ndarray from ragged nested sequences (which is a list-or-tuple of lists-or-tuples-or ndarrays with different lengths or shapes) is deprecated. If you meant to do this, you must specify 'dtype=object' when creating the ndarray.\n",
      "  values = np.array([convert(v) for v in values])\n"
     ]
    },
    {
     "name": "stdout",
     "output_type": "stream",
     "text": [
      "1\n",
      "336\n"
     ]
    },
    {
     "name": "stderr",
     "output_type": "stream",
     "text": [
      " 12%|████████▊                                                              | 661/5337 [13:43:34<241:57:56, 186.29s/it]C:\\Users\\duPar\\Anaconda3\\envs\\oasis\\lib\\site-packages\\pandas\\core\\internals\\construction.py:576: VisibleDeprecationWarning: Creating an ndarray from ragged nested sequences (which is a list-or-tuple of lists-or-tuples-or ndarrays with different lengths or shapes) is deprecated. If you meant to do this, you must specify 'dtype=object' when creating the ndarray.\n",
      "  values = np.array([convert(v) for v in values])\n"
     ]
    },
    {
     "name": "stdout",
     "output_type": "stream",
     "text": [
      "268\n",
      "269\n"
     ]
    },
    {
     "name": "stderr",
     "output_type": "stream",
     "text": [
      " 12%|████████▊                                                              | 662/5337 [13:46:38<241:02:19, 185.61s/it]C:\\Users\\duPar\\Anaconda3\\envs\\oasis\\lib\\site-packages\\pandas\\core\\internals\\construction.py:576: VisibleDeprecationWarning: Creating an ndarray from ragged nested sequences (which is a list-or-tuple of lists-or-tuples-or ndarrays with different lengths or shapes) is deprecated. If you meant to do this, you must specify 'dtype=object' when creating the ndarray.\n",
      "  values = np.array([convert(v) for v in values])\n"
     ]
    },
    {
     "name": "stdout",
     "output_type": "stream",
     "text": [
      "285\n"
     ]
    },
    {
     "name": "stderr",
     "output_type": "stream",
     "text": [
      " 12%|████████▊                                                              | 663/5337 [13:49:43<240:29:57, 185.24s/it]"
     ]
    },
    {
     "name": "stdout",
     "output_type": "stream",
     "text": [
      "500\n"
     ]
    },
    {
     "name": "stderr",
     "output_type": "stream",
     "text": [
      "C:\\Users\\duPar\\Anaconda3\\envs\\oasis\\lib\\site-packages\\pandas\\core\\internals\\construction.py:576: VisibleDeprecationWarning: Creating an ndarray from ragged nested sequences (which is a list-or-tuple of lists-or-tuples-or ndarrays with different lengths or shapes) is deprecated. If you meant to do this, you must specify 'dtype=object' when creating the ndarray.\n",
      "  values = np.array([convert(v) for v in values])\n",
      " 12%|████████▊                                                              | 664/5337 [13:52:48<240:36:13, 185.36s/it]C:\\Users\\duPar\\Anaconda3\\envs\\oasis\\lib\\site-packages\\pandas\\core\\internals\\construction.py:576: VisibleDeprecationWarning: Creating an ndarray from ragged nested sequences (which is a list-or-tuple of lists-or-tuples-or ndarrays with different lengths or shapes) is deprecated. If you meant to do this, you must specify 'dtype=object' when creating the ndarray.\n",
      "  values = np.array([convert(v) for v in values])\n"
     ]
    },
    {
     "name": "stdout",
     "output_type": "stream",
     "text": [
      "392\n"
     ]
    },
    {
     "name": "stderr",
     "output_type": "stream",
     "text": [
      " 12%|████████▊                                                              | 666/5337 [13:55:54<168:28:36, 129.85s/it]C:\\Users\\duPar\\Anaconda3\\envs\\oasis\\lib\\site-packages\\pandas\\core\\internals\\construction.py:576: VisibleDeprecationWarning: Creating an ndarray from ragged nested sequences (which is a list-or-tuple of lists-or-tuples-or ndarrays with different lengths or shapes) is deprecated. If you meant to do this, you must specify 'dtype=object' when creating the ndarray.\n",
      "  values = np.array([convert(v) for v in values])\n"
     ]
    },
    {
     "name": "stdout",
     "output_type": "stream",
     "text": [
      "491\n",
      "494\n"
     ]
    },
    {
     "name": "stderr",
     "output_type": "stream",
     "text": [
      " 12%|████████▊                                                              | 667/5337 [13:58:59<190:04:26, 146.52s/it]C:\\Users\\duPar\\Anaconda3\\envs\\oasis\\lib\\site-packages\\pandas\\core\\internals\\construction.py:576: VisibleDeprecationWarning: Creating an ndarray from ragged nested sequences (which is a list-or-tuple of lists-or-tuples-or ndarrays with different lengths or shapes) is deprecated. If you meant to do this, you must specify 'dtype=object' when creating the ndarray.\n",
      "  values = np.array([convert(v) for v in values])\n"
     ]
    },
    {
     "name": "stdout",
     "output_type": "stream",
     "text": [
      "1\n",
      "122\n"
     ]
    },
    {
     "name": "stderr",
     "output_type": "stream",
     "text": [
      " 13%|████████▉                                                              | 668/5337 [14:01:08<182:52:42, 141.01s/it]C:\\Users\\duPar\\Anaconda3\\envs\\oasis\\lib\\site-packages\\pandas\\core\\internals\\construction.py:576: VisibleDeprecationWarning: Creating an ndarray from ragged nested sequences (which is a list-or-tuple of lists-or-tuples-or ndarrays with different lengths or shapes) is deprecated. If you meant to do this, you must specify 'dtype=object' when creating the ndarray.\n",
      "  values = np.array([convert(v) for v in values])\n",
      " 13%|████████▉                                                              | 669/5337 [14:04:14<200:25:24, 154.57s/it]C:\\Users\\duPar\\Anaconda3\\envs\\oasis\\lib\\site-packages\\pandas\\core\\internals\\construction.py:576: VisibleDeprecationWarning: Creating an ndarray from ragged nested sequences (which is a list-or-tuple of lists-or-tuples-or ndarrays with different lengths or shapes) is deprecated. If you meant to do this, you must specify 'dtype=object' when creating the ndarray.\n",
      "  values = np.array([convert(v) for v in values])\n"
     ]
    },
    {
     "name": "stdout",
     "output_type": "stream",
     "text": [
      "296\n"
     ]
    },
    {
     "name": "stderr",
     "output_type": "stream",
     "text": [
      " 13%|████████▉                                                              | 670/5337 [14:07:21<212:58:49, 164.29s/it]C:\\Users\\duPar\\Anaconda3\\envs\\oasis\\lib\\site-packages\\pandas\\core\\internals\\construction.py:576: VisibleDeprecationWarning: Creating an ndarray from ragged nested sequences (which is a list-or-tuple of lists-or-tuples-or ndarrays with different lengths or shapes) is deprecated. If you meant to do this, you must specify 'dtype=object' when creating the ndarray.\n",
      "  values = np.array([convert(v) for v in values])\n"
     ]
    },
    {
     "name": "stdout",
     "output_type": "stream",
     "text": [
      "8\n"
     ]
    },
    {
     "name": "stderr",
     "output_type": "stream",
     "text": [
      " 13%|████████▉                                                              | 671/5337 [14:10:27<221:38:00, 171.00s/it]C:\\Users\\duPar\\Anaconda3\\envs\\oasis\\lib\\site-packages\\pandas\\core\\internals\\construction.py:576: VisibleDeprecationWarning: Creating an ndarray from ragged nested sequences (which is a list-or-tuple of lists-or-tuples-or ndarrays with different lengths or shapes) is deprecated. If you meant to do this, you must specify 'dtype=object' when creating the ndarray.\n",
      "  values = np.array([convert(v) for v in values])\n"
     ]
    },
    {
     "name": "stdout",
     "output_type": "stream",
     "text": [
      "400\n"
     ]
    },
    {
     "name": "stderr",
     "output_type": "stream",
     "text": [
      " 13%|████████▉                                                              | 672/5337 [14:13:35<227:53:01, 175.86s/it]C:\\Users\\duPar\\Anaconda3\\envs\\oasis\\lib\\site-packages\\pandas\\core\\internals\\construction.py:576: VisibleDeprecationWarning: Creating an ndarray from ragged nested sequences (which is a list-or-tuple of lists-or-tuples-or ndarrays with different lengths or shapes) is deprecated. If you meant to do this, you must specify 'dtype=object' when creating the ndarray.\n",
      "  values = np.array([convert(v) for v in values])\n"
     ]
    },
    {
     "name": "stdout",
     "output_type": "stream",
     "text": [
      "322\n"
     ]
    },
    {
     "name": "stderr",
     "output_type": "stream",
     "text": [
      " 13%|████████▉                                                              | 673/5337 [14:16:43<232:31:15, 179.48s/it]C:\\Users\\duPar\\Anaconda3\\envs\\oasis\\lib\\site-packages\\pandas\\core\\internals\\construction.py:576: VisibleDeprecationWarning: Creating an ndarray from ragged nested sequences (which is a list-or-tuple of lists-or-tuples-or ndarrays with different lengths or shapes) is deprecated. If you meant to do this, you must specify 'dtype=object' when creating the ndarray.\n",
      "  values = np.array([convert(v) for v in values])\n",
      " 13%|████████▉                                                              | 674/5337 [14:19:50<235:41:08, 181.96s/it]C:\\Users\\duPar\\Anaconda3\\envs\\oasis\\lib\\site-packages\\pandas\\core\\internals\\construction.py:576: VisibleDeprecationWarning: Creating an ndarray from ragged nested sequences (which is a list-or-tuple of lists-or-tuples-or ndarrays with different lengths or shapes) is deprecated. If you meant to do this, you must specify 'dtype=object' when creating the ndarray.\n",
      "  values = np.array([convert(v) for v in values])\n",
      " 13%|████████▉                                                              | 675/5337 [14:23:00<238:29:33, 184.16s/it]C:\\Users\\duPar\\Anaconda3\\envs\\oasis\\lib\\site-packages\\pandas\\core\\internals\\construction.py:576: VisibleDeprecationWarning: Creating an ndarray from ragged nested sequences (which is a list-or-tuple of lists-or-tuples-or ndarrays with different lengths or shapes) is deprecated. If you meant to do this, you must specify 'dtype=object' when creating the ndarray.\n",
      "  values = np.array([convert(v) for v in values])\n"
     ]
    },
    {
     "name": "stdout",
     "output_type": "stream",
     "text": [
      "310\n"
     ]
    },
    {
     "name": "stderr",
     "output_type": "stream",
     "text": [
      " 13%|████████▉                                                              | 676/5337 [14:26:08<240:07:07, 185.46s/it]C:\\Users\\duPar\\Anaconda3\\envs\\oasis\\lib\\site-packages\\pandas\\core\\internals\\construction.py:576: VisibleDeprecationWarning: Creating an ndarray from ragged nested sequences (which is a list-or-tuple of lists-or-tuples-or ndarrays with different lengths or shapes) is deprecated. If you meant to do this, you must specify 'dtype=object' when creating the ndarray.\n",
      "  values = np.array([convert(v) for v in values])\n"
     ]
    },
    {
     "name": "stdout",
     "output_type": "stream",
     "text": [
      "48\n",
      "138\n",
      "353\n",
      "393\n"
     ]
    },
    {
     "name": "stderr",
     "output_type": "stream",
     "text": [
      " 13%|█████████                                                              | 677/5337 [14:29:16<241:04:22, 186.24s/it]C:\\Users\\duPar\\Anaconda3\\envs\\oasis\\lib\\site-packages\\pandas\\core\\internals\\construction.py:576: VisibleDeprecationWarning: Creating an ndarray from ragged nested sequences (which is a list-or-tuple of lists-or-tuples-or ndarrays with different lengths or shapes) is deprecated. If you meant to do this, you must specify 'dtype=object' when creating the ndarray.\n",
      "  values = np.array([convert(v) for v in values])\n"
     ]
    },
    {
     "name": "stdout",
     "output_type": "stream",
     "text": [
      "310\n"
     ]
    },
    {
     "name": "stderr",
     "output_type": "stream",
     "text": [
      " 13%|█████████                                                              | 678/5337 [14:32:26<242:22:34, 187.28s/it]C:\\Users\\duPar\\Anaconda3\\envs\\oasis\\lib\\site-packages\\pandas\\core\\internals\\construction.py:576: VisibleDeprecationWarning: Creating an ndarray from ragged nested sequences (which is a list-or-tuple of lists-or-tuples-or ndarrays with different lengths or shapes) is deprecated. If you meant to do this, you must specify 'dtype=object' when creating the ndarray.\n",
      "  values = np.array([convert(v) for v in values])\n"
     ]
    },
    {
     "name": "stdout",
     "output_type": "stream",
     "text": [
      "135\n"
     ]
    },
    {
     "name": "stderr",
     "output_type": "stream",
     "text": [
      " 13%|█████████                                                              | 679/5337 [14:35:35<243:01:46, 187.83s/it]C:\\Users\\duPar\\Anaconda3\\envs\\oasis\\lib\\site-packages\\pandas\\core\\internals\\construction.py:576: VisibleDeprecationWarning: Creating an ndarray from ragged nested sequences (which is a list-or-tuple of lists-or-tuples-or ndarrays with different lengths or shapes) is deprecated. If you meant to do this, you must specify 'dtype=object' when creating the ndarray.\n",
      "  values = np.array([convert(v) for v in values])\n"
     ]
    },
    {
     "name": "stdout",
     "output_type": "stream",
     "text": [
      "456\n",
      "462\n"
     ]
    },
    {
     "name": "stderr",
     "output_type": "stream",
     "text": [
      " 13%|█████████                                                              | 680/5337 [14:38:45<243:43:40, 188.41s/it]C:\\Users\\duPar\\Anaconda3\\envs\\oasis\\lib\\site-packages\\pandas\\core\\internals\\construction.py:576: VisibleDeprecationWarning: Creating an ndarray from ragged nested sequences (which is a list-or-tuple of lists-or-tuples-or ndarrays with different lengths or shapes) is deprecated. If you meant to do this, you must specify 'dtype=object' when creating the ndarray.\n",
      "  values = np.array([convert(v) for v in values])\n"
     ]
    },
    {
     "name": "stdout",
     "output_type": "stream",
     "text": [
      "36\n",
      "320\n"
     ]
    },
    {
     "name": "stderr",
     "output_type": "stream",
     "text": [
      " 13%|█████████                                                              | 681/5337 [14:41:55<244:17:46, 188.89s/it]C:\\Users\\duPar\\Anaconda3\\envs\\oasis\\lib\\site-packages\\pandas\\core\\internals\\construction.py:576: VisibleDeprecationWarning: Creating an ndarray from ragged nested sequences (which is a list-or-tuple of lists-or-tuples-or ndarrays with different lengths or shapes) is deprecated. If you meant to do this, you must specify 'dtype=object' when creating the ndarray.\n",
      "  values = np.array([convert(v) for v in values])\n",
      " 13%|█████████                                                              | 682/5337 [14:45:06<245:06:27, 189.56s/it]C:\\Users\\duPar\\Anaconda3\\envs\\oasis\\lib\\site-packages\\pandas\\core\\internals\\construction.py:576: VisibleDeprecationWarning: Creating an ndarray from ragged nested sequences (which is a list-or-tuple of lists-or-tuples-or ndarrays with different lengths or shapes) is deprecated. If you meant to do this, you must specify 'dtype=object' when creating the ndarray.\n",
      "  values = np.array([convert(v) for v in values])\n",
      " 13%|█████████                                                              | 683/5337 [14:48:17<245:40:29, 190.04s/it]C:\\Users\\duPar\\Anaconda3\\envs\\oasis\\lib\\site-packages\\pandas\\core\\internals\\construction.py:576: VisibleDeprecationWarning: Creating an ndarray from ragged nested sequences (which is a list-or-tuple of lists-or-tuples-or ndarrays with different lengths or shapes) is deprecated. If you meant to do this, you must specify 'dtype=object' when creating the ndarray.\n",
      "  values = np.array([convert(v) for v in values])\n"
     ]
    },
    {
     "name": "stdout",
     "output_type": "stream",
     "text": [
      "132\n"
     ]
    },
    {
     "name": "stderr",
     "output_type": "stream",
     "text": [
      " 13%|█████████                                                              | 684/5337 [14:51:28<246:09:31, 190.45s/it]C:\\Users\\duPar\\Anaconda3\\envs\\oasis\\lib\\site-packages\\pandas\\core\\internals\\construction.py:576: VisibleDeprecationWarning: Creating an ndarray from ragged nested sequences (which is a list-or-tuple of lists-or-tuples-or ndarrays with different lengths or shapes) is deprecated. If you meant to do this, you must specify 'dtype=object' when creating the ndarray.\n",
      "  values = np.array([convert(v) for v in values])\n",
      " 13%|█████████                                                              | 685/5337 [14:54:40<246:42:08, 190.91s/it]C:\\Users\\duPar\\Anaconda3\\envs\\oasis\\lib\\site-packages\\pandas\\core\\internals\\construction.py:576: VisibleDeprecationWarning: Creating an ndarray from ragged nested sequences (which is a list-or-tuple of lists-or-tuples-or ndarrays with different lengths or shapes) is deprecated. If you meant to do this, you must specify 'dtype=object' when creating the ndarray.\n",
      "  values = np.array([convert(v) for v in values])\n"
     ]
    },
    {
     "name": "stdout",
     "output_type": "stream",
     "text": [
      "299\n"
     ]
    },
    {
     "name": "stderr",
     "output_type": "stream",
     "text": [
      " 13%|█████████▏                                                             | 686/5337 [14:57:53<247:08:36, 191.30s/it]C:\\Users\\duPar\\Anaconda3\\envs\\oasis\\lib\\site-packages\\pandas\\core\\internals\\construction.py:576: VisibleDeprecationWarning: Creating an ndarray from ragged nested sequences (which is a list-or-tuple of lists-or-tuples-or ndarrays with different lengths or shapes) is deprecated. If you meant to do this, you must specify 'dtype=object' when creating the ndarray.\n",
      "  values = np.array([convert(v) for v in values])\n",
      " 13%|█████████▏                                                             | 687/5337 [15:01:06<247:47:56, 191.84s/it]C:\\Users\\duPar\\Anaconda3\\envs\\oasis\\lib\\site-packages\\pandas\\core\\internals\\construction.py:576: VisibleDeprecationWarning: Creating an ndarray from ragged nested sequences (which is a list-or-tuple of lists-or-tuples-or ndarrays with different lengths or shapes) is deprecated. If you meant to do this, you must specify 'dtype=object' when creating the ndarray.\n",
      "  values = np.array([convert(v) for v in values])\n"
     ]
    },
    {
     "name": "stdout",
     "output_type": "stream",
     "text": [
      "245\n"
     ]
    },
    {
     "name": "stderr",
     "output_type": "stream",
     "text": [
      " 13%|█████████▏                                                             | 688/5337 [15:04:18<247:50:23, 191.92s/it]C:\\Users\\duPar\\Anaconda3\\envs\\oasis\\lib\\site-packages\\pandas\\core\\internals\\construction.py:576: VisibleDeprecationWarning: Creating an ndarray from ragged nested sequences (which is a list-or-tuple of lists-or-tuples-or ndarrays with different lengths or shapes) is deprecated. If you meant to do this, you must specify 'dtype=object' when creating the ndarray.\n",
      "  values = np.array([convert(v) for v in values])\n",
      " 13%|█████████▏                                                             | 689/5337 [15:07:32<248:32:42, 192.50s/it]C:\\Users\\duPar\\Anaconda3\\envs\\oasis\\lib\\site-packages\\pandas\\core\\internals\\construction.py:576: VisibleDeprecationWarning: Creating an ndarray from ragged nested sequences (which is a list-or-tuple of lists-or-tuples-or ndarrays with different lengths or shapes) is deprecated. If you meant to do this, you must specify 'dtype=object' when creating the ndarray.\n",
      "  values = np.array([convert(v) for v in values])\n",
      " 13%|█████████▏                                                             | 690/5337 [15:10:46<249:17:52, 193.13s/it]C:\\Users\\duPar\\Anaconda3\\envs\\oasis\\lib\\site-packages\\pandas\\core\\internals\\construction.py:576: VisibleDeprecationWarning: Creating an ndarray from ragged nested sequences (which is a list-or-tuple of lists-or-tuples-or ndarrays with different lengths or shapes) is deprecated. If you meant to do this, you must specify 'dtype=object' when creating the ndarray.\n",
      "  values = np.array([convert(v) for v in values])\n",
      " 13%|█████████▏                                                             | 691/5337 [15:14:00<249:34:20, 193.38s/it]C:\\Users\\duPar\\Anaconda3\\envs\\oasis\\lib\\site-packages\\pandas\\core\\internals\\construction.py:576: VisibleDeprecationWarning: Creating an ndarray from ragged nested sequences (which is a list-or-tuple of lists-or-tuples-or ndarrays with different lengths or shapes) is deprecated. If you meant to do this, you must specify 'dtype=object' when creating the ndarray.\n",
      "  values = np.array([convert(v) for v in values])\n"
     ]
    },
    {
     "name": "stdout",
     "output_type": "stream",
     "text": [
      "26\n",
      "28\n",
      "439\n"
     ]
    },
    {
     "name": "stderr",
     "output_type": "stream",
     "text": [
      " 13%|█████████▏                                                             | 692/5337 [15:17:14<249:30:35, 193.38s/it]C:\\Users\\duPar\\Anaconda3\\envs\\oasis\\lib\\site-packages\\pandas\\core\\internals\\construction.py:576: VisibleDeprecationWarning: Creating an ndarray from ragged nested sequences (which is a list-or-tuple of lists-or-tuples-or ndarrays with different lengths or shapes) is deprecated. If you meant to do this, you must specify 'dtype=object' when creating the ndarray.\n",
      "  values = np.array([convert(v) for v in values])\n"
     ]
    },
    {
     "name": "stdout",
     "output_type": "stream",
     "text": [
      "321\n"
     ]
    },
    {
     "name": "stderr",
     "output_type": "stream",
     "text": [
      " 13%|█████████▏                                                             | 693/5337 [15:20:28<249:54:55, 193.73s/it]C:\\Users\\duPar\\Anaconda3\\envs\\oasis\\lib\\site-packages\\pandas\\core\\internals\\construction.py:576: VisibleDeprecationWarning: Creating an ndarray from ragged nested sequences (which is a list-or-tuple of lists-or-tuples-or ndarrays with different lengths or shapes) is deprecated. If you meant to do this, you must specify 'dtype=object' when creating the ndarray.\n",
      "  values = np.array([convert(v) for v in values])\n",
      " 13%|█████████▏                                                             | 694/5337 [15:23:44<250:34:50, 194.29s/it]C:\\Users\\duPar\\Anaconda3\\envs\\oasis\\lib\\site-packages\\pandas\\core\\internals\\construction.py:576: VisibleDeprecationWarning: Creating an ndarray from ragged nested sequences (which is a list-or-tuple of lists-or-tuples-or ndarrays with different lengths or shapes) is deprecated. If you meant to do this, you must specify 'dtype=object' when creating the ndarray.\n",
      "  values = np.array([convert(v) for v in values])\n"
     ]
    },
    {
     "name": "stdout",
     "output_type": "stream",
     "text": [
      "54\n",
      "496\n",
      "497\n"
     ]
    },
    {
     "name": "stderr",
     "output_type": "stream",
     "text": [
      " 13%|█████████▏                                                             | 695/5337 [15:26:59<250:46:19, 194.48s/it]C:\\Users\\duPar\\Anaconda3\\envs\\oasis\\lib\\site-packages\\pandas\\core\\internals\\construction.py:576: VisibleDeprecationWarning: Creating an ndarray from ragged nested sequences (which is a list-or-tuple of lists-or-tuples-or ndarrays with different lengths or shapes) is deprecated. If you meant to do this, you must specify 'dtype=object' when creating the ndarray.\n",
      "  values = np.array([convert(v) for v in values])\n"
     ]
    },
    {
     "name": "stdout",
     "output_type": "stream",
     "text": [
      "55\n",
      "65\n"
     ]
    },
    {
     "name": "stderr",
     "output_type": "stream",
     "text": [
      " 13%|█████████▎                                                             | 697/5337 [15:30:14<175:50:40, 136.43s/it]C:\\Users\\duPar\\Anaconda3\\envs\\oasis\\lib\\site-packages\\pandas\\core\\internals\\construction.py:576: VisibleDeprecationWarning: Creating an ndarray from ragged nested sequences (which is a list-or-tuple of lists-or-tuples-or ndarrays with different lengths or shapes) is deprecated. If you meant to do this, you must specify 'dtype=object' when creating the ndarray.\n",
      "  values = np.array([convert(v) for v in values])\n"
     ]
    },
    {
     "name": "stdout",
     "output_type": "stream",
     "text": [
      "3\n",
      "106\n"
     ]
    },
    {
     "name": "stderr",
     "output_type": "stream",
     "text": [
      " 13%|█████████▎                                                             | 698/5337 [15:33:31<199:00:00, 154.43s/it]C:\\Users\\duPar\\Anaconda3\\envs\\oasis\\lib\\site-packages\\pandas\\core\\internals\\construction.py:576: VisibleDeprecationWarning: Creating an ndarray from ragged nested sequences (which is a list-or-tuple of lists-or-tuples-or ndarrays with different lengths or shapes) is deprecated. If you meant to do this, you must specify 'dtype=object' when creating the ndarray.\n",
      "  values = np.array([convert(v) for v in values])\n"
     ]
    },
    {
     "name": "stdout",
     "output_type": "stream",
     "text": [
      "187\n"
     ]
    },
    {
     "name": "stderr",
     "output_type": "stream",
     "text": [
      " 13%|█████████▎                                                             | 699/5337 [15:36:48<215:17:46, 167.11s/it]C:\\Users\\duPar\\Anaconda3\\envs\\oasis\\lib\\site-packages\\pandas\\core\\internals\\construction.py:576: VisibleDeprecationWarning: Creating an ndarray from ragged nested sequences (which is a list-or-tuple of lists-or-tuples-or ndarrays with different lengths or shapes) is deprecated. If you meant to do this, you must specify 'dtype=object' when creating the ndarray.\n",
      "  values = np.array([convert(v) for v in values])\n"
     ]
    },
    {
     "name": "stdout",
     "output_type": "stream",
     "text": [
      "25\n"
     ]
    },
    {
     "name": "stderr",
     "output_type": "stream",
     "text": [
      " 13%|█████████▎                                                             | 700/5337 [15:40:07<227:52:39, 176.92s/it]C:\\Users\\duPar\\Anaconda3\\envs\\oasis\\lib\\site-packages\\pandas\\core\\internals\\construction.py:576: VisibleDeprecationWarning: Creating an ndarray from ragged nested sequences (which is a list-or-tuple of lists-or-tuples-or ndarrays with different lengths or shapes) is deprecated. If you meant to do this, you must specify 'dtype=object' when creating the ndarray.\n",
      "  values = np.array([convert(v) for v in values])\n",
      " 13%|█████████▎                                                             | 701/5337 [15:43:25<235:39:49, 183.00s/it]C:\\Users\\duPar\\Anaconda3\\envs\\oasis\\lib\\site-packages\\pandas\\core\\internals\\construction.py:576: VisibleDeprecationWarning: Creating an ndarray from ragged nested sequences (which is a list-or-tuple of lists-or-tuples-or ndarrays with different lengths or shapes) is deprecated. If you meant to do this, you must specify 'dtype=object' when creating the ndarray.\n",
      "  values = np.array([convert(v) for v in values])\n"
     ]
    },
    {
     "name": "stdout",
     "output_type": "stream",
     "text": [
      "31\n",
      "255\n"
     ]
    },
    {
     "name": "stderr",
     "output_type": "stream",
     "text": [
      " 13%|█████████▎                                                             | 702/5337 [15:46:41<240:54:59, 187.12s/it]C:\\Users\\duPar\\Anaconda3\\envs\\oasis\\lib\\site-packages\\pandas\\core\\internals\\construction.py:576: VisibleDeprecationWarning: Creating an ndarray from ragged nested sequences (which is a list-or-tuple of lists-or-tuples-or ndarrays with different lengths or shapes) is deprecated. If you meant to do this, you must specify 'dtype=object' when creating the ndarray.\n",
      "  values = np.array([convert(v) for v in values])\n",
      " 13%|█████████▎                                                             | 703/5337 [15:49:59<245:05:28, 190.40s/it]C:\\Users\\duPar\\Anaconda3\\envs\\oasis\\lib\\site-packages\\pandas\\core\\internals\\construction.py:576: VisibleDeprecationWarning: Creating an ndarray from ragged nested sequences (which is a list-or-tuple of lists-or-tuples-or ndarrays with different lengths or shapes) is deprecated. If you meant to do this, you must specify 'dtype=object' when creating the ndarray.\n",
      "  values = np.array([convert(v) for v in values])\n"
     ]
    },
    {
     "name": "stdout",
     "output_type": "stream",
     "text": [
      "356\n"
     ]
    },
    {
     "name": "stderr",
     "output_type": "stream",
     "text": [
      " 13%|█████████▎                                                             | 704/5337 [15:53:18<248:02:42, 192.74s/it]C:\\Users\\duPar\\Anaconda3\\envs\\oasis\\lib\\site-packages\\pandas\\core\\internals\\construction.py:576: VisibleDeprecationWarning: Creating an ndarray from ragged nested sequences (which is a list-or-tuple of lists-or-tuples-or ndarrays with different lengths or shapes) is deprecated. If you meant to do this, you must specify 'dtype=object' when creating the ndarray.\n",
      "  values = np.array([convert(v) for v in values])\n"
     ]
    },
    {
     "name": "stdout",
     "output_type": "stream",
     "text": [
      "70\n",
      "130\n"
     ]
    },
    {
     "name": "stderr",
     "output_type": "stream",
     "text": [
      " 13%|█████████▍                                                             | 705/5337 [15:56:36<250:05:36, 194.37s/it]C:\\Users\\duPar\\Anaconda3\\envs\\oasis\\lib\\site-packages\\pandas\\core\\internals\\construction.py:576: VisibleDeprecationWarning: Creating an ndarray from ragged nested sequences (which is a list-or-tuple of lists-or-tuples-or ndarrays with different lengths or shapes) is deprecated. If you meant to do this, you must specify 'dtype=object' when creating the ndarray.\n",
      "  values = np.array([convert(v) for v in values])\n",
      " 13%|█████████▍                                                             | 706/5337 [15:59:55<252:00:42, 195.91s/it]C:\\Users\\duPar\\Anaconda3\\envs\\oasis\\lib\\site-packages\\pandas\\core\\internals\\construction.py:576: VisibleDeprecationWarning: Creating an ndarray from ragged nested sequences (which is a list-or-tuple of lists-or-tuples-or ndarrays with different lengths or shapes) is deprecated. If you meant to do this, you must specify 'dtype=object' when creating the ndarray.\n",
      "  values = np.array([convert(v) for v in values])\n"
     ]
    },
    {
     "name": "stdout",
     "output_type": "stream",
     "text": [
      "160\n"
     ]
    },
    {
     "name": "stderr",
     "output_type": "stream",
     "text": [
      " 13%|█████████▍                                                             | 707/5337 [16:03:08<250:53:53, 195.08s/it]C:\\Users\\duPar\\Anaconda3\\envs\\oasis\\lib\\site-packages\\pandas\\core\\internals\\construction.py:576: VisibleDeprecationWarning: Creating an ndarray from ragged nested sequences (which is a list-or-tuple of lists-or-tuples-or ndarrays with different lengths or shapes) is deprecated. If you meant to do this, you must specify 'dtype=object' when creating the ndarray.\n",
      "  values = np.array([convert(v) for v in values])\n",
      " 13%|█████████▍                                                             | 708/5337 [16:06:28<252:39:50, 196.50s/it]C:\\Users\\duPar\\Anaconda3\\envs\\oasis\\lib\\site-packages\\pandas\\core\\internals\\construction.py:576: VisibleDeprecationWarning: Creating an ndarray from ragged nested sequences (which is a list-or-tuple of lists-or-tuples-or ndarrays with different lengths or shapes) is deprecated. If you meant to do this, you must specify 'dtype=object' when creating the ndarray.\n",
      "  values = np.array([convert(v) for v in values])\n"
     ]
    },
    {
     "name": "stdout",
     "output_type": "stream",
     "text": [
      "147\n",
      "339\n"
     ]
    },
    {
     "name": "stderr",
     "output_type": "stream",
     "text": [
      " 13%|█████████▍                                                             | 709/5337 [16:09:48<253:55:47, 197.53s/it]C:\\Users\\duPar\\Anaconda3\\envs\\oasis\\lib\\site-packages\\pandas\\core\\internals\\construction.py:576: VisibleDeprecationWarning: Creating an ndarray from ragged nested sequences (which is a list-or-tuple of lists-or-tuples-or ndarrays with different lengths or shapes) is deprecated. If you meant to do this, you must specify 'dtype=object' when creating the ndarray.\n",
      "  values = np.array([convert(v) for v in values])\n"
     ]
    },
    {
     "name": "stdout",
     "output_type": "stream",
     "text": [
      "449\n",
      "452\n",
      "486\n"
     ]
    },
    {
     "name": "stderr",
     "output_type": "stream",
     "text": [
      " 13%|█████████▍                                                             | 710/5337 [16:13:07<254:34:01, 198.06s/it]C:\\Users\\duPar\\Anaconda3\\envs\\oasis\\lib\\site-packages\\pandas\\core\\internals\\construction.py:576: VisibleDeprecationWarning: Creating an ndarray from ragged nested sequences (which is a list-or-tuple of lists-or-tuples-or ndarrays with different lengths or shapes) is deprecated. If you meant to do this, you must specify 'dtype=object' when creating the ndarray.\n",
      "  values = np.array([convert(v) for v in values])\n",
      " 13%|█████████▍                                                             | 711/5337 [16:16:28<255:32:33, 198.87s/it]C:\\Users\\duPar\\Anaconda3\\envs\\oasis\\lib\\site-packages\\pandas\\core\\internals\\construction.py:576: VisibleDeprecationWarning: Creating an ndarray from ragged nested sequences (which is a list-or-tuple of lists-or-tuples-or ndarrays with different lengths or shapes) is deprecated. If you meant to do this, you must specify 'dtype=object' when creating the ndarray.\n",
      "  values = np.array([convert(v) for v in values])\n"
     ]
    },
    {
     "name": "stdout",
     "output_type": "stream",
     "text": [
      "165\n",
      "262\n"
     ]
    },
    {
     "name": "stderr",
     "output_type": "stream",
     "text": [
      " 13%|█████████▍                                                             | 712/5337 [16:19:49<256:04:27, 199.32s/it]C:\\Users\\duPar\\Anaconda3\\envs\\oasis\\lib\\site-packages\\pandas\\core\\internals\\construction.py:576: VisibleDeprecationWarning: Creating an ndarray from ragged nested sequences (which is a list-or-tuple of lists-or-tuples-or ndarrays with different lengths or shapes) is deprecated. If you meant to do this, you must specify 'dtype=object' when creating the ndarray.\n",
      "  values = np.array([convert(v) for v in values])\n"
     ]
    },
    {
     "name": "stdout",
     "output_type": "stream",
     "text": [
      "7\n",
      "9\n",
      "11\n",
      "18\n",
      "208\n"
     ]
    },
    {
     "name": "stderr",
     "output_type": "stream",
     "text": [
      " 13%|█████████▍                                                             | 713/5337 [16:23:09<256:34:00, 199.75s/it]C:\\Users\\duPar\\Anaconda3\\envs\\oasis\\lib\\site-packages\\pandas\\core\\internals\\construction.py:576: VisibleDeprecationWarning: Creating an ndarray from ragged nested sequences (which is a list-or-tuple of lists-or-tuples-or ndarrays with different lengths or shapes) is deprecated. If you meant to do this, you must specify 'dtype=object' when creating the ndarray.\n",
      "  values = np.array([convert(v) for v in values])\n"
     ]
    },
    {
     "name": "stdout",
     "output_type": "stream",
     "text": [
      "353\n",
      "490\n"
     ]
    },
    {
     "name": "stderr",
     "output_type": "stream",
     "text": [
      " 13%|█████████▍                                                             | 714/5337 [16:26:31<257:24:24, 200.45s/it]C:\\Users\\duPar\\Anaconda3\\envs\\oasis\\lib\\site-packages\\pandas\\core\\internals\\construction.py:576: VisibleDeprecationWarning: Creating an ndarray from ragged nested sequences (which is a list-or-tuple of lists-or-tuples-or ndarrays with different lengths or shapes) is deprecated. If you meant to do this, you must specify 'dtype=object' when creating the ndarray.\n",
      "  values = np.array([convert(v) for v in values])\n"
     ]
    },
    {
     "name": "stdout",
     "output_type": "stream",
     "text": [
      "41\n",
      "137\n"
     ]
    },
    {
     "name": "stderr",
     "output_type": "stream",
     "text": [
      " 13%|█████████▌                                                             | 715/5337 [16:29:53<257:45:39, 200.77s/it]C:\\Users\\duPar\\Anaconda3\\envs\\oasis\\lib\\site-packages\\pandas\\core\\internals\\construction.py:576: VisibleDeprecationWarning: Creating an ndarray from ragged nested sequences (which is a list-or-tuple of lists-or-tuples-or ndarrays with different lengths or shapes) is deprecated. If you meant to do this, you must specify 'dtype=object' when creating the ndarray.\n",
      "  values = np.array([convert(v) for v in values])\n"
     ]
    },
    {
     "name": "stdout",
     "output_type": "stream",
     "text": [
      "166\n"
     ]
    },
    {
     "name": "stderr",
     "output_type": "stream",
     "text": [
      " 13%|█████████▌                                                             | 716/5337 [16:33:16<258:29:16, 201.38s/it]C:\\Users\\duPar\\Anaconda3\\envs\\oasis\\lib\\site-packages\\pandas\\core\\internals\\construction.py:576: VisibleDeprecationWarning: Creating an ndarray from ragged nested sequences (which is a list-or-tuple of lists-or-tuples-or ndarrays with different lengths or shapes) is deprecated. If you meant to do this, you must specify 'dtype=object' when creating the ndarray.\n",
      "  values = np.array([convert(v) for v in values])\n",
      " 13%|█████████▌                                                             | 717/5337 [16:36:40<259:39:51, 202.34s/it]C:\\Users\\duPar\\Anaconda3\\envs\\oasis\\lib\\site-packages\\pandas\\core\\internals\\construction.py:576: VisibleDeprecationWarning: Creating an ndarray from ragged nested sequences (which is a list-or-tuple of lists-or-tuples-or ndarrays with different lengths or shapes) is deprecated. If you meant to do this, you must specify 'dtype=object' when creating the ndarray.\n",
      "  values = np.array([convert(v) for v in values])\n",
      " 13%|█████████▌                                                             | 718/5337 [16:40:04<260:15:47, 202.85s/it]C:\\Users\\duPar\\Anaconda3\\envs\\oasis\\lib\\site-packages\\pandas\\core\\internals\\construction.py:576: VisibleDeprecationWarning: Creating an ndarray from ragged nested sequences (which is a list-or-tuple of lists-or-tuples-or ndarrays with different lengths or shapes) is deprecated. If you meant to do this, you must specify 'dtype=object' when creating the ndarray.\n",
      "  values = np.array([convert(v) for v in values])\n"
     ]
    },
    {
     "name": "stdout",
     "output_type": "stream",
     "text": [
      "97\n"
     ]
    },
    {
     "name": "stderr",
     "output_type": "stream",
     "text": [
      " 13%|█████████▌                                                             | 719/5337 [16:43:29<260:48:02, 203.31s/it]C:\\Users\\duPar\\Anaconda3\\envs\\oasis\\lib\\site-packages\\pandas\\core\\internals\\construction.py:576: VisibleDeprecationWarning: Creating an ndarray from ragged nested sequences (which is a list-or-tuple of lists-or-tuples-or ndarrays with different lengths or shapes) is deprecated. If you meant to do this, you must specify 'dtype=object' when creating the ndarray.\n",
      "  values = np.array([convert(v) for v in values])\n"
     ]
    },
    {
     "name": "stdout",
     "output_type": "stream",
     "text": [
      "176\n",
      "394\n"
     ]
    },
    {
     "name": "stderr",
     "output_type": "stream",
     "text": [
      " 13%|█████████▌                                                             | 720/5337 [16:46:53<261:05:57, 203.59s/it]C:\\Users\\duPar\\Anaconda3\\envs\\oasis\\lib\\site-packages\\pandas\\core\\internals\\construction.py:576: VisibleDeprecationWarning: Creating an ndarray from ragged nested sequences (which is a list-or-tuple of lists-or-tuples-or ndarrays with different lengths or shapes) is deprecated. If you meant to do this, you must specify 'dtype=object' when creating the ndarray.\n",
      "  values = np.array([convert(v) for v in values])\n",
      " 14%|█████████▌                                                             | 721/5337 [16:50:21<262:53:46, 205.03s/it]C:\\Users\\duPar\\Anaconda3\\envs\\oasis\\lib\\site-packages\\pandas\\core\\internals\\construction.py:576: VisibleDeprecationWarning: Creating an ndarray from ragged nested sequences (which is a list-or-tuple of lists-or-tuples-or ndarrays with different lengths or shapes) is deprecated. If you meant to do this, you must specify 'dtype=object' when creating the ndarray.\n",
      "  values = np.array([convert(v) for v in values])\n"
     ]
    },
    {
     "name": "stdout",
     "output_type": "stream",
     "text": [
      "177\n"
     ]
    },
    {
     "name": "stderr",
     "output_type": "stream",
     "text": [
      " 14%|█████████▌                                                             | 722/5337 [16:53:48<263:23:44, 205.47s/it]C:\\Users\\duPar\\Anaconda3\\envs\\oasis\\lib\\site-packages\\pandas\\core\\internals\\construction.py:576: VisibleDeprecationWarning: Creating an ndarray from ragged nested sequences (which is a list-or-tuple of lists-or-tuples-or ndarrays with different lengths or shapes) is deprecated. If you meant to do this, you must specify 'dtype=object' when creating the ndarray.\n",
      "  values = np.array([convert(v) for v in values])\n"
     ]
    },
    {
     "name": "stdout",
     "output_type": "stream",
     "text": [
      "85\n",
      "126\n"
     ]
    },
    {
     "name": "stderr",
     "output_type": "stream",
     "text": [
      " 14%|█████████▌                                                             | 723/5337 [16:57:16<264:11:51, 206.14s/it]C:\\Users\\duPar\\Anaconda3\\envs\\oasis\\lib\\site-packages\\pandas\\core\\internals\\construction.py:576: VisibleDeprecationWarning: Creating an ndarray from ragged nested sequences (which is a list-or-tuple of lists-or-tuples-or ndarrays with different lengths or shapes) is deprecated. If you meant to do this, you must specify 'dtype=object' when creating the ndarray.\n",
      "  values = np.array([convert(v) for v in values])\n"
     ]
    },
    {
     "name": "stdout",
     "output_type": "stream",
     "text": [
      "4\n",
      "150\n",
      "271\n",
      "412\n"
     ]
    },
    {
     "name": "stderr",
     "output_type": "stream",
     "text": [
      " 14%|█████████▋                                                             | 724/5337 [17:00:45<265:20:40, 207.08s/it]C:\\Users\\duPar\\Anaconda3\\envs\\oasis\\lib\\site-packages\\pandas\\core\\internals\\construction.py:576: VisibleDeprecationWarning: Creating an ndarray from ragged nested sequences (which is a list-or-tuple of lists-or-tuples-or ndarrays with different lengths or shapes) is deprecated. If you meant to do this, you must specify 'dtype=object' when creating the ndarray.\n",
      "  values = np.array([convert(v) for v in values])\n"
     ]
    },
    {
     "name": "stdout",
     "output_type": "stream",
     "text": [
      "65\n",
      "277\n"
     ]
    },
    {
     "name": "stderr",
     "output_type": "stream",
     "text": [
      " 14%|█████████▋                                                             | 725/5337 [17:04:11<265:05:37, 206.92s/it]C:\\Users\\duPar\\Anaconda3\\envs\\oasis\\lib\\site-packages\\pandas\\core\\internals\\construction.py:576: VisibleDeprecationWarning: Creating an ndarray from ragged nested sequences (which is a list-or-tuple of lists-or-tuples-or ndarrays with different lengths or shapes) is deprecated. If you meant to do this, you must specify 'dtype=object' when creating the ndarray.\n",
      "  values = np.array([convert(v) for v in values])\n"
     ]
    },
    {
     "name": "stdout",
     "output_type": "stream",
     "text": [
      "429\n",
      "497\n"
     ]
    },
    {
     "name": "stderr",
     "output_type": "stream",
     "text": [
      " 14%|█████████▋                                                             | 726/5337 [17:07:40<265:31:36, 207.31s/it]C:\\Users\\duPar\\Anaconda3\\envs\\oasis\\lib\\site-packages\\pandas\\core\\internals\\construction.py:576: VisibleDeprecationWarning: Creating an ndarray from ragged nested sequences (which is a list-or-tuple of lists-or-tuples-or ndarrays with different lengths or shapes) is deprecated. If you meant to do this, you must specify 'dtype=object' when creating the ndarray.\n",
      "  values = np.array([convert(v) for v in values])\n"
     ]
    },
    {
     "name": "stdout",
     "output_type": "stream",
     "text": [
      "1\n",
      "381\n"
     ]
    },
    {
     "name": "stderr",
     "output_type": "stream",
     "text": [
      " 14%|█████████▋                                                             | 727/5337 [17:11:12<267:21:36, 208.78s/it]C:\\Users\\duPar\\Anaconda3\\envs\\oasis\\lib\\site-packages\\pandas\\core\\internals\\construction.py:576: VisibleDeprecationWarning: Creating an ndarray from ragged nested sequences (which is a list-or-tuple of lists-or-tuples-or ndarrays with different lengths or shapes) is deprecated. If you meant to do this, you must specify 'dtype=object' when creating the ndarray.\n",
      "  values = np.array([convert(v) for v in values])\n"
     ]
    },
    {
     "name": "stdout",
     "output_type": "stream",
     "text": [
      "326\n",
      "373\n"
     ]
    },
    {
     "name": "stderr",
     "output_type": "stream",
     "text": [
      " 14%|█████████▋                                                             | 728/5337 [17:14:45<269:03:39, 210.16s/it]C:\\Users\\duPar\\Anaconda3\\envs\\oasis\\lib\\site-packages\\pandas\\core\\internals\\construction.py:576: VisibleDeprecationWarning: Creating an ndarray from ragged nested sequences (which is a list-or-tuple of lists-or-tuples-or ndarrays with different lengths or shapes) is deprecated. If you meant to do this, you must specify 'dtype=object' when creating the ndarray.\n",
      "  values = np.array([convert(v) for v in values])\n"
     ]
    },
    {
     "name": "stdout",
     "output_type": "stream",
     "text": [
      "360\n",
      "376\n"
     ]
    },
    {
     "name": "stderr",
     "output_type": "stream",
     "text": [
      " 14%|█████████▋                                                             | 729/5337 [17:18:20<270:44:41, 211.52s/it]C:\\Users\\duPar\\Anaconda3\\envs\\oasis\\lib\\site-packages\\pandas\\core\\internals\\construction.py:576: VisibleDeprecationWarning: Creating an ndarray from ragged nested sequences (which is a list-or-tuple of lists-or-tuples-or ndarrays with different lengths or shapes) is deprecated. If you meant to do this, you must specify 'dtype=object' when creating the ndarray.\n",
      "  values = np.array([convert(v) for v in values])\n"
     ]
    },
    {
     "name": "stdout",
     "output_type": "stream",
     "text": [
      "309\n"
     ]
    },
    {
     "name": "stderr",
     "output_type": "stream",
     "text": [
      " 14%|█████████▋                                                             | 730/5337 [17:21:53<271:29:22, 212.15s/it]C:\\Users\\duPar\\Anaconda3\\envs\\oasis\\lib\\site-packages\\pandas\\core\\internals\\construction.py:576: VisibleDeprecationWarning: Creating an ndarray from ragged nested sequences (which is a list-or-tuple of lists-or-tuples-or ndarrays with different lengths or shapes) is deprecated. If you meant to do this, you must specify 'dtype=object' when creating the ndarray.\n",
      "  values = np.array([convert(v) for v in values])\n"
     ]
    },
    {
     "name": "stdout",
     "output_type": "stream",
     "text": [
      "164\n",
      "308\n"
     ]
    },
    {
     "name": "stderr",
     "output_type": "stream",
     "text": [
      " 14%|█████████▋                                                             | 731/5337 [17:25:28<272:20:03, 212.85s/it]C:\\Users\\duPar\\Anaconda3\\envs\\oasis\\lib\\site-packages\\pandas\\core\\internals\\construction.py:576: VisibleDeprecationWarning: Creating an ndarray from ragged nested sequences (which is a list-or-tuple of lists-or-tuples-or ndarrays with different lengths or shapes) is deprecated. If you meant to do this, you must specify 'dtype=object' when creating the ndarray.\n",
      "  values = np.array([convert(v) for v in values])\n"
     ]
    },
    {
     "name": "stdout",
     "output_type": "stream",
     "text": [
      "144\n"
     ]
    },
    {
     "name": "stderr",
     "output_type": "stream",
     "text": [
      " 14%|█████████▋                                                             | 732/5337 [17:28:56<270:36:01, 211.54s/it]C:\\Users\\duPar\\Anaconda3\\envs\\oasis\\lib\\site-packages\\pandas\\core\\internals\\construction.py:576: VisibleDeprecationWarning: Creating an ndarray from ragged nested sequences (which is a list-or-tuple of lists-or-tuples-or ndarrays with different lengths or shapes) is deprecated. If you meant to do this, you must specify 'dtype=object' when creating the ndarray.\n",
      "  values = np.array([convert(v) for v in values])\n",
      " 14%|█████████▊                                                             | 733/5337 [17:32:25<269:24:58, 210.66s/it]C:\\Users\\duPar\\Anaconda3\\envs\\oasis\\lib\\site-packages\\pandas\\core\\internals\\construction.py:576: VisibleDeprecationWarning: Creating an ndarray from ragged nested sequences (which is a list-or-tuple of lists-or-tuples-or ndarrays with different lengths or shapes) is deprecated. If you meant to do this, you must specify 'dtype=object' when creating the ndarray.\n",
      "  values = np.array([convert(v) for v in values])\n"
     ]
    },
    {
     "name": "stdout",
     "output_type": "stream",
     "text": [
      "375\n"
     ]
    },
    {
     "name": "stderr",
     "output_type": "stream",
     "text": [
      " 14%|█████████▊                                                             | 734/5337 [17:35:54<268:44:11, 210.18s/it]C:\\Users\\duPar\\Anaconda3\\envs\\oasis\\lib\\site-packages\\pandas\\core\\internals\\construction.py:576: VisibleDeprecationWarning: Creating an ndarray from ragged nested sequences (which is a list-or-tuple of lists-or-tuples-or ndarrays with different lengths or shapes) is deprecated. If you meant to do this, you must specify 'dtype=object' when creating the ndarray.\n",
      "  values = np.array([convert(v) for v in values])\n"
     ]
    },
    {
     "name": "stdout",
     "output_type": "stream",
     "text": [
      "33\n",
      "300\n",
      "311\n"
     ]
    },
    {
     "name": "stderr",
     "output_type": "stream",
     "text": [
      " 14%|█████████▊                                                             | 735/5337 [17:39:22<267:50:37, 209.53s/it]C:\\Users\\duPar\\Anaconda3\\envs\\oasis\\lib\\site-packages\\pandas\\core\\internals\\construction.py:576: VisibleDeprecationWarning: Creating an ndarray from ragged nested sequences (which is a list-or-tuple of lists-or-tuples-or ndarrays with different lengths or shapes) is deprecated. If you meant to do this, you must specify 'dtype=object' when creating the ndarray.\n",
      "  values = np.array([convert(v) for v in values])\n",
      " 14%|█████████▊                                                             | 736/5337 [17:42:58<270:13:36, 211.44s/it]C:\\Users\\duPar\\Anaconda3\\envs\\oasis\\lib\\site-packages\\pandas\\core\\internals\\construction.py:576: VisibleDeprecationWarning: Creating an ndarray from ragged nested sequences (which is a list-or-tuple of lists-or-tuples-or ndarrays with different lengths or shapes) is deprecated. If you meant to do this, you must specify 'dtype=object' when creating the ndarray.\n",
      "  values = np.array([convert(v) for v in values])\n"
     ]
    },
    {
     "name": "stdout",
     "output_type": "stream",
     "text": [
      "48\n",
      "474\n"
     ]
    },
    {
     "name": "stderr",
     "output_type": "stream",
     "text": [
      " 14%|█████████▊                                                             | 737/5337 [17:46:29<270:08:23, 211.41s/it]C:\\Users\\duPar\\Anaconda3\\envs\\oasis\\lib\\site-packages\\pandas\\core\\internals\\construction.py:576: VisibleDeprecationWarning: Creating an ndarray from ragged nested sequences (which is a list-or-tuple of lists-or-tuples-or ndarrays with different lengths or shapes) is deprecated. If you meant to do this, you must specify 'dtype=object' when creating the ndarray.\n",
      "  values = np.array([convert(v) for v in values])\n"
     ]
    },
    {
     "name": "stdout",
     "output_type": "stream",
     "text": [
      "144\n",
      "153\n",
      "165\n",
      "226\n"
     ]
    },
    {
     "name": "stderr",
     "output_type": "stream",
     "text": [
      " 14%|█████████▊                                                             | 739/5337 [17:48:50<170:02:36, 133.14s/it]C:\\Users\\duPar\\Anaconda3\\envs\\oasis\\lib\\site-packages\\pandas\\core\\internals\\construction.py:576: VisibleDeprecationWarning: Creating an ndarray from ragged nested sequences (which is a list-or-tuple of lists-or-tuples-or ndarrays with different lengths or shapes) is deprecated. If you meant to do this, you must specify 'dtype=object' when creating the ndarray.\n",
      "  values = np.array([convert(v) for v in values])\n"
     ]
    },
    {
     "name": "stdout",
     "output_type": "stream",
     "text": [
      "285\n"
     ]
    },
    {
     "name": "stderr",
     "output_type": "stream",
     "text": [
      " 14%|█████████▊                                                             | 740/5337 [17:52:21<200:05:03, 156.69s/it]C:\\Users\\duPar\\Anaconda3\\envs\\oasis\\lib\\site-packages\\pandas\\core\\internals\\construction.py:576: VisibleDeprecationWarning: Creating an ndarray from ragged nested sequences (which is a list-or-tuple of lists-or-tuples-or ndarrays with different lengths or shapes) is deprecated. If you meant to do this, you must specify 'dtype=object' when creating the ndarray.\n",
      "  values = np.array([convert(v) for v in values])\n"
     ]
    },
    {
     "name": "stdout",
     "output_type": "stream",
     "text": [
      "91\n"
     ]
    },
    {
     "name": "stderr",
     "output_type": "stream",
     "text": [
      " 14%|█████████▊                                                             | 741/5337 [17:55:54<221:17:20, 173.33s/it]C:\\Users\\duPar\\Anaconda3\\envs\\oasis\\lib\\site-packages\\pandas\\core\\internals\\construction.py:576: VisibleDeprecationWarning: Creating an ndarray from ragged nested sequences (which is a list-or-tuple of lists-or-tuples-or ndarrays with different lengths or shapes) is deprecated. If you meant to do this, you must specify 'dtype=object' when creating the ndarray.\n",
      "  values = np.array([convert(v) for v in values])\n"
     ]
    },
    {
     "name": "stdout",
     "output_type": "stream",
     "text": [
      "282\n",
      "351\n"
     ]
    },
    {
     "name": "stderr",
     "output_type": "stream",
     "text": [
      " 14%|█████████▊                                                             | 742/5337 [17:58:43<219:32:38, 172.00s/it]C:\\Users\\duPar\\Anaconda3\\envs\\oasis\\lib\\site-packages\\pandas\\core\\internals\\construction.py:576: VisibleDeprecationWarning: Creating an ndarray from ragged nested sequences (which is a list-or-tuple of lists-or-tuples-or ndarrays with different lengths or shapes) is deprecated. If you meant to do this, you must specify 'dtype=object' when creating the ndarray.\n",
      "  values = np.array([convert(v) for v in values])\n"
     ]
    },
    {
     "name": "stdout",
     "output_type": "stream",
     "text": [
      "263\n"
     ]
    },
    {
     "name": "stderr",
     "output_type": "stream",
     "text": [
      " 14%|█████████▉                                                             | 743/5337 [18:02:14<234:43:33, 183.94s/it]C:\\Users\\duPar\\Anaconda3\\envs\\oasis\\lib\\site-packages\\pandas\\core\\internals\\construction.py:576: VisibleDeprecationWarning: Creating an ndarray from ragged nested sequences (which is a list-or-tuple of lists-or-tuples-or ndarrays with different lengths or shapes) is deprecated. If you meant to do this, you must specify 'dtype=object' when creating the ndarray.\n",
      "  values = np.array([convert(v) for v in values])\n"
     ]
    },
    {
     "name": "stdout",
     "output_type": "stream",
     "text": [
      "202\n"
     ]
    },
    {
     "name": "stderr",
     "output_type": "stream",
     "text": [
      " 14%|█████████▉                                                             | 744/5337 [18:05:48<245:56:49, 192.77s/it]C:\\Users\\duPar\\Anaconda3\\envs\\oasis\\lib\\site-packages\\pandas\\core\\internals\\construction.py:576: VisibleDeprecationWarning: Creating an ndarray from ragged nested sequences (which is a list-or-tuple of lists-or-tuples-or ndarrays with different lengths or shapes) is deprecated. If you meant to do this, you must specify 'dtype=object' when creating the ndarray.\n",
      "  values = np.array([convert(v) for v in values])\n",
      " 14%|█████████▉                                                             | 745/5337 [18:09:26<255:49:14, 200.56s/it]C:\\Users\\duPar\\Anaconda3\\envs\\oasis\\lib\\site-packages\\pandas\\core\\internals\\construction.py:576: VisibleDeprecationWarning: Creating an ndarray from ragged nested sequences (which is a list-or-tuple of lists-or-tuples-or ndarrays with different lengths or shapes) is deprecated. If you meant to do this, you must specify 'dtype=object' when creating the ndarray.\n",
      "  values = np.array([convert(v) for v in values])\n",
      " 14%|█████████▉                                                             | 746/5337 [18:13:08<263:42:28, 206.78s/it]C:\\Users\\duPar\\Anaconda3\\envs\\oasis\\lib\\site-packages\\pandas\\core\\internals\\construction.py:576: VisibleDeprecationWarning: Creating an ndarray from ragged nested sequences (which is a list-or-tuple of lists-or-tuples-or ndarrays with different lengths or shapes) is deprecated. If you meant to do this, you must specify 'dtype=object' when creating the ndarray.\n",
      "  values = np.array([convert(v) for v in values])\n",
      " 14%|█████████▉                                                             | 747/5337 [18:16:53<270:43:51, 212.34s/it]C:\\Users\\duPar\\Anaconda3\\envs\\oasis\\lib\\site-packages\\pandas\\core\\internals\\construction.py:576: VisibleDeprecationWarning: Creating an ndarray from ragged nested sequences (which is a list-or-tuple of lists-or-tuples-or ndarrays with different lengths or shapes) is deprecated. If you meant to do this, you must specify 'dtype=object' when creating the ndarray.\n",
      "  values = np.array([convert(v) for v in values])\n"
     ]
    },
    {
     "name": "stdout",
     "output_type": "stream",
     "text": [
      "131\n"
     ]
    },
    {
     "name": "stderr",
     "output_type": "stream",
     "text": [
      " 14%|█████████▉                                                             | 748/5337 [18:20:30<272:32:54, 213.81s/it]C:\\Users\\duPar\\Anaconda3\\envs\\oasis\\lib\\site-packages\\pandas\\core\\internals\\construction.py:576: VisibleDeprecationWarning: Creating an ndarray from ragged nested sequences (which is a list-or-tuple of lists-or-tuples-or ndarrays with different lengths or shapes) is deprecated. If you meant to do this, you must specify 'dtype=object' when creating the ndarray.\n",
      "  values = np.array([convert(v) for v in values])\n",
      " 14%|█████████▉                                                             | 749/5337 [18:22:23<233:47:11, 183.44s/it]C:\\Users\\duPar\\Anaconda3\\envs\\oasis\\lib\\site-packages\\pandas\\core\\internals\\construction.py:576: VisibleDeprecationWarning: Creating an ndarray from ragged nested sequences (which is a list-or-tuple of lists-or-tuples-or ndarrays with different lengths or shapes) is deprecated. If you meant to do this, you must specify 'dtype=object' when creating the ndarray.\n",
      "  values = np.array([convert(v) for v in values])\n"
     ]
    },
    {
     "name": "stdout",
     "output_type": "stream",
     "text": [
      "307\n",
      "343\n"
     ]
    },
    {
     "name": "stderr",
     "output_type": "stream",
     "text": [
      " 14%|█████████▉                                                             | 750/5337 [18:26:01<246:55:07, 193.79s/it]C:\\Users\\duPar\\Anaconda3\\envs\\oasis\\lib\\site-packages\\pandas\\core\\internals\\construction.py:576: VisibleDeprecationWarning: Creating an ndarray from ragged nested sequences (which is a list-or-tuple of lists-or-tuples-or ndarrays with different lengths or shapes) is deprecated. If you meant to do this, you must specify 'dtype=object' when creating the ndarray.\n",
      "  values = np.array([convert(v) for v in values])\n",
      " 14%|█████████▉                                                             | 751/5337 [18:29:46<258:52:37, 203.22s/it]C:\\Users\\duPar\\Anaconda3\\envs\\oasis\\lib\\site-packages\\pandas\\core\\internals\\construction.py:576: VisibleDeprecationWarning: Creating an ndarray from ragged nested sequences (which is a list-or-tuple of lists-or-tuples-or ndarrays with different lengths or shapes) is deprecated. If you meant to do this, you must specify 'dtype=object' when creating the ndarray.\n",
      "  values = np.array([convert(v) for v in values])\n",
      " 14%|██████████                                                             | 752/5337 [18:33:25<264:41:14, 207.82s/it]C:\\Users\\duPar\\Anaconda3\\envs\\oasis\\lib\\site-packages\\pandas\\core\\internals\\construction.py:576: VisibleDeprecationWarning: Creating an ndarray from ragged nested sequences (which is a list-or-tuple of lists-or-tuples-or ndarrays with different lengths or shapes) is deprecated. If you meant to do this, you must specify 'dtype=object' when creating the ndarray.\n",
      "  values = np.array([convert(v) for v in values])\n"
     ]
    },
    {
     "name": "stdout",
     "output_type": "stream",
     "text": [
      "232\n",
      "243\n",
      "426\n"
     ]
    },
    {
     "name": "stderr",
     "output_type": "stream",
     "text": [
      " 14%|██████████                                                             | 753/5337 [18:37:07<270:02:59, 212.08s/it]C:\\Users\\duPar\\Anaconda3\\envs\\oasis\\lib\\site-packages\\pandas\\core\\internals\\construction.py:576: VisibleDeprecationWarning: Creating an ndarray from ragged nested sequences (which is a list-or-tuple of lists-or-tuples-or ndarrays with different lengths or shapes) is deprecated. If you meant to do this, you must specify 'dtype=object' when creating the ndarray.\n",
      "  values = np.array([convert(v) for v in values])\n",
      " 14%|██████████                                                             | 754/5337 [18:40:47<273:04:13, 214.50s/it]C:\\Users\\duPar\\Anaconda3\\envs\\oasis\\lib\\site-packages\\pandas\\core\\internals\\construction.py:576: VisibleDeprecationWarning: Creating an ndarray from ragged nested sequences (which is a list-or-tuple of lists-or-tuples-or ndarrays with different lengths or shapes) is deprecated. If you meant to do this, you must specify 'dtype=object' when creating the ndarray.\n",
      "  values = np.array([convert(v) for v in values])\n"
     ]
    },
    {
     "name": "stdout",
     "output_type": "stream",
     "text": [
      "281\n",
      "282\n",
      "332\n"
     ]
    },
    {
     "name": "stderr",
     "output_type": "stream",
     "text": [
      " 14%|██████████                                                             | 755/5337 [18:43:50<261:12:03, 205.22s/it]C:\\Users\\duPar\\Anaconda3\\envs\\oasis\\lib\\site-packages\\pandas\\core\\internals\\construction.py:576: VisibleDeprecationWarning: Creating an ndarray from ragged nested sequences (which is a list-or-tuple of lists-or-tuples-or ndarrays with different lengths or shapes) is deprecated. If you meant to do this, you must specify 'dtype=object' when creating the ndarray.\n",
      "  values = np.array([convert(v) for v in values])\n",
      " 14%|██████████                                                             | 756/5337 [18:47:37<269:19:53, 211.66s/it]C:\\Users\\duPar\\Anaconda3\\envs\\oasis\\lib\\site-packages\\pandas\\core\\internals\\construction.py:576: VisibleDeprecationWarning: Creating an ndarray from ragged nested sequences (which is a list-or-tuple of lists-or-tuples-or ndarrays with different lengths or shapes) is deprecated. If you meant to do this, you must specify 'dtype=object' when creating the ndarray.\n",
      "  values = np.array([convert(v) for v in values])\n"
     ]
    },
    {
     "name": "stdout",
     "output_type": "stream",
     "text": [
      "141\n",
      "301\n",
      "354\n",
      "361\n"
     ]
    },
    {
     "name": "stderr",
     "output_type": "stream",
     "text": [
      " 14%|██████████                                                             | 757/5337 [18:51:21<274:02:17, 215.40s/it]C:\\Users\\duPar\\Anaconda3\\envs\\oasis\\lib\\site-packages\\pandas\\core\\internals\\construction.py:576: VisibleDeprecationWarning: Creating an ndarray from ragged nested sequences (which is a list-or-tuple of lists-or-tuples-or ndarrays with different lengths or shapes) is deprecated. If you meant to do this, you must specify 'dtype=object' when creating the ndarray.\n",
      "  values = np.array([convert(v) for v in values])\n"
     ]
    },
    {
     "name": "stdout",
     "output_type": "stream",
     "text": [
      "27\n",
      "240\n",
      "242\n"
     ]
    },
    {
     "name": "stderr",
     "output_type": "stream",
     "text": [
      " 14%|██████████                                                             | 758/5337 [18:55:03<276:36:58, 217.48s/it]C:\\Users\\duPar\\Anaconda3\\envs\\oasis\\lib\\site-packages\\pandas\\core\\internals\\construction.py:576: VisibleDeprecationWarning: Creating an ndarray from ragged nested sequences (which is a list-or-tuple of lists-or-tuples-or ndarrays with different lengths or shapes) is deprecated. If you meant to do this, you must specify 'dtype=object' when creating the ndarray.\n",
      "  values = np.array([convert(v) for v in values])\n"
     ]
    },
    {
     "name": "stdout",
     "output_type": "stream",
     "text": [
      "52\n",
      "114\n"
     ]
    },
    {
     "name": "stderr",
     "output_type": "stream",
     "text": [
      " 14%|██████████                                                             | 759/5337 [18:58:20<268:28:26, 211.12s/it]C:\\Users\\duPar\\Anaconda3\\envs\\oasis\\lib\\site-packages\\pandas\\core\\internals\\construction.py:576: VisibleDeprecationWarning: Creating an ndarray from ragged nested sequences (which is a list-or-tuple of lists-or-tuples-or ndarrays with different lengths or shapes) is deprecated. If you meant to do this, you must specify 'dtype=object' when creating the ndarray.\n",
      "  values = np.array([convert(v) for v in values])\n",
      " 14%|██████████                                                             | 760/5337 [19:02:11<276:15:58, 217.29s/it]C:\\Users\\duPar\\Anaconda3\\envs\\oasis\\lib\\site-packages\\pandas\\core\\internals\\construction.py:576: VisibleDeprecationWarning: Creating an ndarray from ragged nested sequences (which is a list-or-tuple of lists-or-tuples-or ndarrays with different lengths or shapes) is deprecated. If you meant to do this, you must specify 'dtype=object' when creating the ndarray.\n",
      "  values = np.array([convert(v) for v in values])\n",
      " 14%|██████████                                                             | 761/5337 [19:05:51<277:05:05, 217.99s/it]C:\\Users\\duPar\\Anaconda3\\envs\\oasis\\lib\\site-packages\\pandas\\core\\internals\\construction.py:576: VisibleDeprecationWarning: Creating an ndarray from ragged nested sequences (which is a list-or-tuple of lists-or-tuples-or ndarrays with different lengths or shapes) is deprecated. If you meant to do this, you must specify 'dtype=object' when creating the ndarray.\n",
      "  values = np.array([convert(v) for v in values])\n"
     ]
    },
    {
     "name": "stdout",
     "output_type": "stream",
     "text": [
      "199\n"
     ]
    },
    {
     "name": "stderr",
     "output_type": "stream",
     "text": [
      " 14%|██████████▏                                                            | 762/5337 [19:08:56<264:31:31, 208.15s/it]C:\\Users\\duPar\\Anaconda3\\envs\\oasis\\lib\\site-packages\\pandas\\core\\internals\\construction.py:576: VisibleDeprecationWarning: Creating an ndarray from ragged nested sequences (which is a list-or-tuple of lists-or-tuples-or ndarrays with different lengths or shapes) is deprecated. If you meant to do this, you must specify 'dtype=object' when creating the ndarray.\n",
      "  values = np.array([convert(v) for v in values])\n",
      " 14%|██████████▏                                                            | 763/5337 [19:12:05<256:54:34, 202.20s/it]C:\\Users\\duPar\\Anaconda3\\envs\\oasis\\lib\\site-packages\\pandas\\core\\internals\\construction.py:576: VisibleDeprecationWarning: Creating an ndarray from ragged nested sequences (which is a list-or-tuple of lists-or-tuples-or ndarrays with different lengths or shapes) is deprecated. If you meant to do this, you must specify 'dtype=object' when creating the ndarray.\n",
      "  values = np.array([convert(v) for v in values])\n"
     ]
    },
    {
     "name": "stdout",
     "output_type": "stream",
     "text": [
      "433\n"
     ]
    },
    {
     "name": "stderr",
     "output_type": "stream",
     "text": [
      " 14%|██████████▏                                                            | 764/5337 [19:15:13<251:43:45, 198.17s/it]C:\\Users\\duPar\\Anaconda3\\envs\\oasis\\lib\\site-packages\\pandas\\core\\internals\\construction.py:576: VisibleDeprecationWarning: Creating an ndarray from ragged nested sequences (which is a list-or-tuple of lists-or-tuples-or ndarrays with different lengths or shapes) is deprecated. If you meant to do this, you must specify 'dtype=object' when creating the ndarray.\n",
      "  values = np.array([convert(v) for v in values])\n",
      " 14%|██████████▏                                                            | 765/5337 [19:18:27<250:00:07, 196.85s/it]C:\\Users\\duPar\\Anaconda3\\envs\\oasis\\lib\\site-packages\\pandas\\core\\internals\\construction.py:576: VisibleDeprecationWarning: Creating an ndarray from ragged nested sequences (which is a list-or-tuple of lists-or-tuples-or ndarrays with different lengths or shapes) is deprecated. If you meant to do this, you must specify 'dtype=object' when creating the ndarray.\n",
      "  values = np.array([convert(v) for v in values])\n",
      " 14%|██████████▏                                                            | 766/5337 [19:21:35<246:40:07, 194.27s/it]C:\\Users\\duPar\\Anaconda3\\envs\\oasis\\lib\\site-packages\\pandas\\core\\internals\\construction.py:576: VisibleDeprecationWarning: Creating an ndarray from ragged nested sequences (which is a list-or-tuple of lists-or-tuples-or ndarrays with different lengths or shapes) is deprecated. If you meant to do this, you must specify 'dtype=object' when creating the ndarray.\n",
      "  values = np.array([convert(v) for v in values])\n",
      " 14%|██████████▏                                                            | 767/5337 [19:24:43<244:08:48, 192.33s/it]C:\\Users\\duPar\\Anaconda3\\envs\\oasis\\lib\\site-packages\\pandas\\core\\internals\\construction.py:576: VisibleDeprecationWarning: Creating an ndarray from ragged nested sequences (which is a list-or-tuple of lists-or-tuples-or ndarrays with different lengths or shapes) is deprecated. If you meant to do this, you must specify 'dtype=object' when creating the ndarray.\n",
      "  values = np.array([convert(v) for v in values])\n"
     ]
    },
    {
     "name": "stdout",
     "output_type": "stream",
     "text": [
      "150\n",
      "262\n"
     ]
    },
    {
     "name": "stderr",
     "output_type": "stream",
     "text": [
      " 14%|██████████▏                                                            | 768/5337 [19:27:46<240:22:16, 189.39s/it]C:\\Users\\duPar\\Anaconda3\\envs\\oasis\\lib\\site-packages\\pandas\\core\\internals\\construction.py:576: VisibleDeprecationWarning: Creating an ndarray from ragged nested sequences (which is a list-or-tuple of lists-or-tuples-or ndarrays with different lengths or shapes) is deprecated. If you meant to do this, you must specify 'dtype=object' when creating the ndarray.\n",
      "  values = np.array([convert(v) for v in values])\n"
     ]
    },
    {
     "name": "stdout",
     "output_type": "stream",
     "text": [
      "264\n",
      "405\n"
     ]
    },
    {
     "name": "stderr",
     "output_type": "stream",
     "text": [
      " 14%|██████████▏                                                            | 769/5337 [19:30:50<238:15:57, 187.78s/it]C:\\Users\\duPar\\Anaconda3\\envs\\oasis\\lib\\site-packages\\pandas\\core\\internals\\construction.py:576: VisibleDeprecationWarning: Creating an ndarray from ragged nested sequences (which is a list-or-tuple of lists-or-tuples-or ndarrays with different lengths or shapes) is deprecated. If you meant to do this, you must specify 'dtype=object' when creating the ndarray.\n",
      "  values = np.array([convert(v) for v in values])\n"
     ]
    },
    {
     "name": "stdout",
     "output_type": "stream",
     "text": [
      "484\n",
      "486\n",
      "495\n",
      "497\n"
     ]
    },
    {
     "name": "stderr",
     "output_type": "stream",
     "text": [
      " 14%|██████████▍                                                             | 770/5337 [19:33:58<116:03:00, 91.48s/it]\n"
     ]
    },
    {
     "ename": "KeyboardInterrupt",
     "evalue": "",
     "output_type": "error",
     "traceback": [
      "\u001b[1;31m---------------------------------------------------------------------------\u001b[0m",
      "\u001b[1;31mKeyboardInterrupt\u001b[0m                         Traceback (most recent call last)",
      "Input \u001b[1;32mIn [90]\u001b[0m, in \u001b[0;36m<cell line: 11>\u001b[1;34m()\u001b[0m\n\u001b[0;32m     14\u001b[0m content  \u001b[38;5;241m=\u001b[39m response\u001b[38;5;241m.\u001b[39mtext\n\u001b[0;32m     16\u001b[0m \u001b[38;5;66;03m# item 태그 분리\u001b[39;00m\n\u001b[1;32m---> 17\u001b[0m xml_obj \u001b[38;5;241m=\u001b[39m \u001b[43mbs4\u001b[49m\u001b[38;5;241;43m.\u001b[39;49m\u001b[43mBeautifulSoup\u001b[49m\u001b[43m(\u001b[49m\u001b[43mcontent\u001b[49m\u001b[43m,\u001b[49m\u001b[38;5;124;43m'\u001b[39;49m\u001b[38;5;124;43mxml\u001b[39;49m\u001b[38;5;124;43m'\u001b[39;49m\u001b[43m)\u001b[49m\n\u001b[0;32m     18\u001b[0m DF \u001b[38;5;241m=\u001b[39m pd\u001b[38;5;241m.\u001b[39mDataFrame(xml_obj)\n\u001b[0;32m     19\u001b[0m DF \u001b[38;5;241m=\u001b[39m DF\u001b[38;5;241m.\u001b[39mtranspose()\u001b[38;5;241m.\u001b[39mdrop_duplicates()\n",
      "File \u001b[1;32m~\\Anaconda3\\envs\\oasis\\lib\\site-packages\\bs4\\__init__.py:333\u001b[0m, in \u001b[0;36mBeautifulSoup.__init__\u001b[1;34m(self, markup, features, builder, parse_only, from_encoding, exclude_encodings, element_classes, **kwargs)\u001b[0m\n\u001b[0;32m    331\u001b[0m \u001b[38;5;28mself\u001b[39m\u001b[38;5;241m.\u001b[39mbuilder\u001b[38;5;241m.\u001b[39minitialize_soup(\u001b[38;5;28mself\u001b[39m)\n\u001b[0;32m    332\u001b[0m \u001b[38;5;28;01mtry\u001b[39;00m:\n\u001b[1;32m--> 333\u001b[0m     \u001b[38;5;28;43mself\u001b[39;49m\u001b[38;5;241;43m.\u001b[39;49m\u001b[43m_feed\u001b[49m\u001b[43m(\u001b[49m\u001b[43m)\u001b[49m\n\u001b[0;32m    334\u001b[0m     success \u001b[38;5;241m=\u001b[39m \u001b[38;5;28;01mTrue\u001b[39;00m\n\u001b[0;32m    335\u001b[0m     \u001b[38;5;28;01mbreak\u001b[39;00m\n",
      "File \u001b[1;32m~\\Anaconda3\\envs\\oasis\\lib\\site-packages\\bs4\\__init__.py:451\u001b[0m, in \u001b[0;36mBeautifulSoup._feed\u001b[1;34m(self)\u001b[0m\n\u001b[0;32m    448\u001b[0m \u001b[38;5;66;03m# Convert the document to Unicode.\u001b[39;00m\n\u001b[0;32m    449\u001b[0m \u001b[38;5;28mself\u001b[39m\u001b[38;5;241m.\u001b[39mbuilder\u001b[38;5;241m.\u001b[39mreset()\n\u001b[1;32m--> 451\u001b[0m \u001b[38;5;28;43mself\u001b[39;49m\u001b[38;5;241;43m.\u001b[39;49m\u001b[43mbuilder\u001b[49m\u001b[38;5;241;43m.\u001b[39;49m\u001b[43mfeed\u001b[49m\u001b[43m(\u001b[49m\u001b[38;5;28;43mself\u001b[39;49m\u001b[38;5;241;43m.\u001b[39;49m\u001b[43mmarkup\u001b[49m\u001b[43m)\u001b[49m\n\u001b[0;32m    452\u001b[0m \u001b[38;5;66;03m# Close out any unfinished strings and close all the open tags.\u001b[39;00m\n\u001b[0;32m    453\u001b[0m \u001b[38;5;28mself\u001b[39m\u001b[38;5;241m.\u001b[39mendData()\n",
      "File \u001b[1;32m~\\Anaconda3\\envs\\oasis\\lib\\site-packages\\bs4\\builder\\_lxml.py:235\u001b[0m, in \u001b[0;36mLXMLTreeBuilderForXML.feed\u001b[1;34m(self, markup)\u001b[0m\n\u001b[0;32m    233\u001b[0m         data \u001b[38;5;241m=\u001b[39m markup\u001b[38;5;241m.\u001b[39mread(\u001b[38;5;28mself\u001b[39m\u001b[38;5;241m.\u001b[39mCHUNK_SIZE)\n\u001b[0;32m    234\u001b[0m         \u001b[38;5;28;01mif\u001b[39;00m \u001b[38;5;28mlen\u001b[39m(data) \u001b[38;5;241m!=\u001b[39m \u001b[38;5;241m0\u001b[39m:\n\u001b[1;32m--> 235\u001b[0m             \u001b[38;5;28;43mself\u001b[39;49m\u001b[38;5;241;43m.\u001b[39;49m\u001b[43mparser\u001b[49m\u001b[38;5;241;43m.\u001b[39;49m\u001b[43mfeed\u001b[49m\u001b[43m(\u001b[49m\u001b[43mdata\u001b[49m\u001b[43m)\u001b[49m\n\u001b[0;32m    236\u001b[0m     \u001b[38;5;28mself\u001b[39m\u001b[38;5;241m.\u001b[39mparser\u001b[38;5;241m.\u001b[39mclose()\n\u001b[0;32m    237\u001b[0m \u001b[38;5;28;01mexcept\u001b[39;00m (\u001b[38;5;167;01mUnicodeDecodeError\u001b[39;00m, \u001b[38;5;167;01mLookupError\u001b[39;00m, etree\u001b[38;5;241m.\u001b[39mParserError) \u001b[38;5;28;01mas\u001b[39;00m e:\n",
      "File \u001b[1;32msrc\\lxml\\parser.pxi:1256\u001b[0m, in \u001b[0;36mlxml.etree._FeedParser.feed\u001b[1;34m()\u001b[0m\n",
      "File \u001b[1;32msrc\\lxml\\parser.pxi:1376\u001b[0m, in \u001b[0;36mlxml.etree._FeedParser.feed\u001b[1;34m()\u001b[0m\n",
      "File \u001b[1;32msrc\\lxml\\parsertarget.pxi:168\u001b[0m, in \u001b[0;36mlxml.etree._TargetParserContext._handleParseResult\u001b[1;34m()\u001b[0m\n",
      "File \u001b[1;32msrc\\lxml\\parsertarget.pxi:156\u001b[0m, in \u001b[0;36mlxml.etree._TargetParserContext._handleParseResult\u001b[1;34m()\u001b[0m\n",
      "File \u001b[1;32msrc\\lxml\\etree.pyx:333\u001b[0m, in \u001b[0;36mlxml.etree._ExceptionContext._raise_if_stored\u001b[1;34m()\u001b[0m\n",
      "File \u001b[1;32msrc\\lxml\\saxparser.pxi:568\u001b[0m, in \u001b[0;36mlxml.etree._handleSaxData\u001b[1;34m()\u001b[0m\n",
      "File \u001b[1;32msrc\\lxml\\parsertarget.pxi:108\u001b[0m, in \u001b[0;36mlxml.etree._PythonSaxParserTarget._handleSaxData\u001b[1;34m()\u001b[0m\n",
      "File \u001b[1;32m~\\Anaconda3\\envs\\oasis\\lib\\site-packages\\bs4\\builder\\_lxml.py:343\u001b[0m, in \u001b[0;36mLXMLTreeBuilderForXML.data\u001b[1;34m(self, content)\u001b[0m\n\u001b[0;32m    340\u001b[0m     \u001b[38;5;28mself\u001b[39m\u001b[38;5;241m.\u001b[39msoup\u001b[38;5;241m.\u001b[39mhandle_data(data)\n\u001b[0;32m    341\u001b[0m     \u001b[38;5;28mself\u001b[39m\u001b[38;5;241m.\u001b[39msoup\u001b[38;5;241m.\u001b[39mendData(\u001b[38;5;28mself\u001b[39m\u001b[38;5;241m.\u001b[39mprocessing_instruction_class)\n\u001b[1;32m--> 343\u001b[0m \u001b[38;5;28;01mdef\u001b[39;00m \u001b[38;5;21mdata\u001b[39m(\u001b[38;5;28mself\u001b[39m, content):\n\u001b[0;32m    344\u001b[0m     \u001b[38;5;28mself\u001b[39m\u001b[38;5;241m.\u001b[39msoup\u001b[38;5;241m.\u001b[39mhandle_data(content)\n\u001b[0;32m    346\u001b[0m \u001b[38;5;28;01mdef\u001b[39;00m \u001b[38;5;21mdoctype\u001b[39m(\u001b[38;5;28mself\u001b[39m, name, pubid, system):\n",
      "\u001b[1;31mKeyboardInterrupt\u001b[0m: "
     ]
    }
   ],
   "source": [
    "# 리스트에 값 담기\n",
    "row_list   = [] # 행 값\n",
    "name_list  = [] # 열이름 값\n",
    "value_list = [] # 데이터 값\n",
    "df = pd.DataFrame() # 최종 값\n",
    "\n",
    "# API 호출\n",
    "srsName = 'EPSG:5179'\n",
    "serviceKey = 'sJuqUegKT1Q0R4IRDqoJklMK8xDxru%2BrNu%2BK5JXRh1mbeH4tFTWwQYWVK3xdbbJCCe14u5bQyl43S28%2F5TtfrA%3D%3D'\n",
    "\n",
    "for emd_cd in tqdm(lawd_cd_unique[726:]):\n",
    "    url = f'http://apis.data.go.kr/1611000/nsdi/IndvdLandPriceService/wfs/getIndvdLandPriceWFS?pnu={emd_cd}&serviceKey={serviceKey}'\n",
    "    response = requests.get(url)\n",
    "    content  = response.text\n",
    "\n",
    "    # item 태그 분리\n",
    "    xml_obj = bs4.BeautifulSoup(content,'xml')\n",
    "    DF = pd.DataFrame(xml_obj)\n",
    "    DF = DF.transpose().drop_duplicates()\n",
    "    DF = DF.drop([0],axis=0).reset_index(drop=True)\n",
    "\n",
    "    # 데이터 수집\n",
    "    for i in range(1,len(DF)):\n",
    "        columns = DF[0][i].find_all()\n",
    "        for j in range(0,len(columns)):\n",
    "            name_list.append(columns[j].name)\n",
    "            value_list.append(columns[j].text)\n",
    "\n",
    "        row_list = value_list\n",
    "        df_each  = pd.DataFrame([row_list], columns=name_list)\n",
    "        try:\n",
    "            df = pd.concat([df, df_each])\n",
    "            df = df.reset_index(drop=True)\n",
    "        except:\n",
    "            print(i)\n",
    "            pass\n",
    "\n",
    "        # 초기화\n",
    "        name_list  = []\n",
    "        value_list = []\n",
    "\n",
    "# nan처리\n",
    "df = df.replace(' ', np.nan)\n",
    "df = df.replace('', np.nan)\n",
    "df = df.drop(columns=['F166','MultiSurface','surfaceMember','LinearRing','Polygon','exterior','posList'])\n",
    "\n",
    "# xlsx로 저장\n",
    "df.to_excel('./ReferLandPriceWFS(726~).xlsx', index=False, encoding='utf-8')\n",
    "\n",
    "# execute\n",
    "table = 'm1.land_price_wfs'\n",
    "# execute_mogrify(conn, df, table, val)"
   ]
  },
  {
   "cell_type": "code",
   "execution_count": 91,
   "id": "d556b1cb-4b9b-4427-85b6-709385e5a8c3",
   "metadata": {},
   "outputs": [],
   "source": [
    "# xlsx로 저장\n",
    "df.to_excel('./ReferLandPriceWFS(~726).xlsx', index=False, encoding='utf-8')"
   ]
  },
  {
   "cell_type": "markdown",
   "id": "03c8ca68-8879-4b6a-9cf2-ba1c41ea949b",
   "metadata": {
    "tags": []
   },
   "source": [
    "###### 어디까지 받아왔는지 확인"
   ]
  },
  {
   "cell_type": "code",
   "execution_count": 11,
   "id": "684ff6d4-ff86-4bfb-a533-6b38f8603038",
   "metadata": {},
   "outputs": [],
   "source": [
    "# 43113310\n",
    "lawd_cd_unique_df = pd.DataFrame(lawd_cd_unique)"
   ]
  },
  {
   "cell_type": "code",
   "execution_count": 15,
   "id": "b5bdbc8d-7924-4b42-9906-2d868d9cf112",
   "metadata": {},
   "outputs": [
    {
     "data": {
      "text/html": [
       "<div>\n",
       "<style scoped>\n",
       "    .dataframe tbody tr th:only-of-type {\n",
       "        vertical-align: middle;\n",
       "    }\n",
       "\n",
       "    .dataframe tbody tr th {\n",
       "        vertical-align: top;\n",
       "    }\n",
       "\n",
       "    .dataframe thead th {\n",
       "        text-align: right;\n",
       "    }\n",
       "</style>\n",
       "<table border=\"1\" class=\"dataframe\">\n",
       "  <thead>\n",
       "    <tr style=\"text-align: right;\">\n",
       "      <th></th>\n",
       "      <th>0</th>\n",
       "    </tr>\n",
       "  </thead>\n",
       "  <tbody>\n",
       "    <tr>\n",
       "      <th>2276</th>\n",
       "      <td>43113310</td>\n",
       "    </tr>\n",
       "  </tbody>\n",
       "</table>\n",
       "</div>"
      ],
      "text/plain": [
       "             0\n",
       "2276  43113310"
      ]
     },
     "execution_count": 15,
     "metadata": {},
     "output_type": "execute_result"
    }
   ],
   "source": [
    "lawd_cd_unique_df[lawd_cd_unique_df[0]=='43113310']"
   ]
  },
  {
   "cell_type": "markdown",
   "id": "909f6bb7-2d40-4bf3-bde9-a86f1e1f533f",
   "metadata": {},
   "source": [
    "###### 병합"
   ]
  },
  {
   "cell_type": "code",
   "execution_count": 103,
   "id": "035860ac-d54f-4c4d-b3cd-61b59a3a16c8",
   "metadata": {},
   "outputs": [],
   "source": [
    "df1 = pd.read_excel('./LandUseWFS(~859).xlsx')\n",
    "df2 = pd.read_excel('./LandUseWFS(859~1153).xlsx')"
   ]
  },
  {
   "cell_type": "markdown",
   "id": "5aae67a6-8680-4de4-a46c-0bb35f4de35c",
   "metadata": {},
   "source": [
    "데이터 개수 확인"
   ]
  },
  {
   "cell_type": "code",
   "execution_count": 104,
   "id": "de6a0eb5-c002-46a0-a196-11af420f3e41",
   "metadata": {},
   "outputs": [
    {
     "data": {
      "text/html": [
       "<div>\n",
       "<style scoped>\n",
       "    .dataframe tbody tr th:only-of-type {\n",
       "        vertical-align: middle;\n",
       "    }\n",
       "\n",
       "    .dataframe tbody tr th {\n",
       "        vertical-align: top;\n",
       "    }\n",
       "\n",
       "    .dataframe thead th {\n",
       "        text-align: right;\n",
       "    }\n",
       "</style>\n",
       "<table border=\"1\" class=\"dataframe\">\n",
       "  <thead>\n",
       "    <tr style=\"text-align: right;\">\n",
       "      <th></th>\n",
       "      <th>F176</th>\n",
       "      <th>SHAPE</th>\n",
       "      <th>MultiSurface</th>\n",
       "      <th>surfaceMember</th>\n",
       "      <th>Polygon</th>\n",
       "      <th>exterior</th>\n",
       "      <th>LinearRing</th>\n",
       "      <th>posList</th>\n",
       "      <th>PNU</th>\n",
       "      <th>LD_CPSG_CODE</th>\n",
       "      <th>...</th>\n",
       "      <th>SLNO</th>\n",
       "      <th>LNM_LNDCGR_SMBOL</th>\n",
       "      <th>SRC_OBJECTID</th>\n",
       "      <th>SRC_LD_CPSG_CODE</th>\n",
       "      <th>ISSU_CONFM_CODE</th>\n",
       "      <th>CNFLC_AT_LIST</th>\n",
       "      <th>CNFLC_AT_NM_LIST</th>\n",
       "      <th>PRPOS_AREA_DSTRC_CODE_LIST</th>\n",
       "      <th>PRPOS_AREA_DSTRC_NM_LIST</th>\n",
       "      <th>FRST_REGIST_DT</th>\n",
       "    </tr>\n",
       "  </thead>\n",
       "  <tbody>\n",
       "    <tr>\n",
       "      <th>0</th>\n",
       "      <td>\\n342188.6926999996 266421.0840000007 342187.0...</td>\n",
       "      <td>342188.6926999996 266421.0840000007 342187.080...</td>\n",
       "      <td>342188.6926999996 266421.0840000007 342187.080...</td>\n",
       "      <td>342188.6926999996 266421.0840000007 342187.080...</td>\n",
       "      <td>342188.6926999996 266421.0840000007 342187.080...</td>\n",
       "      <td>342188.6926999996 266421.0840000007 342187.080...</td>\n",
       "      <td>342188.6926999996 266421.0840000007 342187.080...</td>\n",
       "      <td>342188.6926999996 266421.0840000007 342187.080...</td>\n",
       "      <td>2717010900109680003</td>\n",
       "      <td>27170</td>\n",
       "      <td>...</td>\n",
       "      <td>3</td>\n",
       "      <td>968-3도</td>\n",
       "      <td>145700</td>\n",
       "      <td>27170</td>\n",
       "      <td>1</td>\n",
       "      <td>1,1,1,2,1</td>\n",
       "      <td>포함,포함,포함,저촉,포함</td>\n",
       "      <td>UMZ100,UQA01X,UQA122,UQS520,UQT100</td>\n",
       "      <td>가축사육제한구역,도시지역,제2종일반주거지역,도시철도(3호선)(저촉),광장</td>\n",
       "      <td>2022-05-13T17:07:24</td>\n",
       "    </tr>\n",
       "    <tr>\n",
       "      <th>1</th>\n",
       "      <td>\\n342243.5922999997 266395.6919 342245.5823999...</td>\n",
       "      <td>342243.5922999997 266395.6919 342245.582399999...</td>\n",
       "      <td>342243.5922999997 266395.6919 342245.582399999...</td>\n",
       "      <td>342243.5922999997 266395.6919 342245.582399999...</td>\n",
       "      <td>342243.5922999997 266395.6919 342245.582399999...</td>\n",
       "      <td>342243.5922999997 266395.6919 342245.582399999...</td>\n",
       "      <td>342243.5922999997 266395.6919 342245.582399999...</td>\n",
       "      <td>342243.5922999997 266395.6919 342245.582399999...</td>\n",
       "      <td>2717010900109900004</td>\n",
       "      <td>27170</td>\n",
       "      <td>...</td>\n",
       "      <td>4</td>\n",
       "      <td>990-4도</td>\n",
       "      <td>145543</td>\n",
       "      <td>27170</td>\n",
       "      <td>1</td>\n",
       "      <td>1,1,1,2,2,2,3,2,2</td>\n",
       "      <td>포함,포함,포함,저촉,저촉,저촉,접함,저촉,저촉</td>\n",
       "      <td>UMZ100,UQA01X,UQA122,UQF131,UQS115,UQS115,UQS1...</td>\n",
       "      <td>가축사육제한구역,도시지역,제2종일반주거지역,시가지경관지구(중심),대로2류(폭 30m...</td>\n",
       "      <td>2022-05-13T17:07:24</td>\n",
       "    </tr>\n",
       "    <tr>\n",
       "      <th>2</th>\n",
       "      <td>\\n342323.5614999998 266352.2387000006 342317.6...</td>\n",
       "      <td>342323.5614999998 266352.2387000006 342317.631...</td>\n",
       "      <td>342323.5614999998 266352.2387000006 342317.631...</td>\n",
       "      <td>342323.5614999998 266352.2387000006 342317.631...</td>\n",
       "      <td>342323.5614999998 266352.2387000006 342317.631...</td>\n",
       "      <td>342323.5614999998 266352.2387000006 342317.631...</td>\n",
       "      <td>342323.5614999998 266352.2387000006 342317.631...</td>\n",
       "      <td>342323.5614999998 266352.2387000006 342317.631...</td>\n",
       "      <td>2717010900109900007</td>\n",
       "      <td>27170</td>\n",
       "      <td>...</td>\n",
       "      <td>7</td>\n",
       "      <td>990-7대</td>\n",
       "      <td>141173</td>\n",
       "      <td>27170</td>\n",
       "      <td>1</td>\n",
       "      <td>1,1,1,2,3,3</td>\n",
       "      <td>포함,포함,포함,저촉,접함,접함</td>\n",
       "      <td>UMZ100,UQA01X,UQA230,UQF131,UQS115,UQS115</td>\n",
       "      <td>가축사육제한구역,도시지역,근린상업지역,시가지경관지구(중심),대로2류(폭 30m~35...</td>\n",
       "      <td>2022-05-13T17:07:24</td>\n",
       "    </tr>\n",
       "    <tr>\n",
       "      <th>3</th>\n",
       "      <td>\\n342285.3786000004 266370.8638000004 342308.5...</td>\n",
       "      <td>342285.3786000004 266370.8638000004 342308.504...</td>\n",
       "      <td>342285.3786000004 266370.8638000004 342308.504...</td>\n",
       "      <td>342285.3786000004 266370.8638000004 342308.504...</td>\n",
       "      <td>342285.3786000004 266370.8638000004 342308.504...</td>\n",
       "      <td>342285.3786000004 266370.8638000004 342308.504...</td>\n",
       "      <td>342285.3786000004 266370.8638000004 342308.504...</td>\n",
       "      <td>342285.3786000004 266370.8638000004 342308.504...</td>\n",
       "      <td>2717010900109900010</td>\n",
       "      <td>27170</td>\n",
       "      <td>...</td>\n",
       "      <td>10</td>\n",
       "      <td>990-10대</td>\n",
       "      <td>144839</td>\n",
       "      <td>27170</td>\n",
       "      <td>1</td>\n",
       "      <td>1,1,1,2,3,3,3</td>\n",
       "      <td>포함,포함,포함,저촉,접함,접함,접함</td>\n",
       "      <td>UMZ100,UQA01X,UQA230,UQF131,UQS115,UQS115,UQS121</td>\n",
       "      <td>가축사육제한구역,도시지역,근린상업지역,시가지경관지구(중심),대로2류(폭 30m~35...</td>\n",
       "      <td>2022-05-13T17:07:24</td>\n",
       "    </tr>\n",
       "    <tr>\n",
       "      <th>4</th>\n",
       "      <td>\\n342248.0356999999 266381.4956 342258.7434999...</td>\n",
       "      <td>342248.0356999999 266381.4956 342258.743499999...</td>\n",
       "      <td>342248.0356999999 266381.4956 342258.743499999...</td>\n",
       "      <td>342248.0356999999 266381.4956 342258.743499999...</td>\n",
       "      <td>342248.0356999999 266381.4956 342258.743499999...</td>\n",
       "      <td>342248.0356999999 266381.4956 342258.743499999...</td>\n",
       "      <td>342248.0356999999 266381.4956 342258.743499999...</td>\n",
       "      <td>342248.0356999999 266381.4956 342258.743499999...</td>\n",
       "      <td>2717010900109900011</td>\n",
       "      <td>27170</td>\n",
       "      <td>...</td>\n",
       "      <td>11</td>\n",
       "      <td>990-11대</td>\n",
       "      <td>135156</td>\n",
       "      <td>27170</td>\n",
       "      <td>1</td>\n",
       "      <td>1,1,1,2,3,3,3</td>\n",
       "      <td>포함,포함,포함,저촉,접함,접함,접함</td>\n",
       "      <td>UMZ100,UQA01X,UQA230,UQF131,UQS115,UQS115,UQS121</td>\n",
       "      <td>가축사육제한구역,도시지역,근린상업지역,시가지경관지구(중심),대로2류(폭 30m~35...</td>\n",
       "      <td>2022-05-13T17:07:24</td>\n",
       "    </tr>\n",
       "    <tr>\n",
       "      <th>...</th>\n",
       "      <td>...</td>\n",
       "      <td>...</td>\n",
       "      <td>...</td>\n",
       "      <td>...</td>\n",
       "      <td>...</td>\n",
       "      <td>...</td>\n",
       "      <td>...</td>\n",
       "      <td>...</td>\n",
       "      <td>...</td>\n",
       "      <td>...</td>\n",
       "      <td>...</td>\n",
       "      <td>...</td>\n",
       "      <td>...</td>\n",
       "      <td>...</td>\n",
       "      <td>...</td>\n",
       "      <td>...</td>\n",
       "      <td>...</td>\n",
       "      <td>...</td>\n",
       "      <td>...</td>\n",
       "      <td>...</td>\n",
       "      <td>...</td>\n",
       "    </tr>\n",
       "    <tr>\n",
       "      <th>357760</th>\n",
       "      <td>\\n240491.398 306040.9900000002 240493.92100000...</td>\n",
       "      <td>240491.398 306040.9900000002 240493.9210000001...</td>\n",
       "      <td>240491.398 306040.9900000002 240493.9210000001...</td>\n",
       "      <td>240491.398 306040.9900000002 240493.9210000001...</td>\n",
       "      <td>240491.398 306040.9900000002 240493.9210000001...</td>\n",
       "      <td>240491.398 306040.9900000002 240493.9210000001...</td>\n",
       "      <td>240491.398 306040.9900000002 240493.9210000001...</td>\n",
       "      <td>240491.398 306040.9900000002 240493.9210000001...</td>\n",
       "      <td>3011014000101040000</td>\n",
       "      <td>30110</td>\n",
       "      <td>...</td>\n",
       "      <td>0</td>\n",
       "      <td>104답</td>\n",
       "      <td>222526</td>\n",
       "      <td>30110</td>\n",
       "      <td>1</td>\n",
       "      <td>1,1,1,1</td>\n",
       "      <td>포함,포함,포함,포함</td>\n",
       "      <td>UDV100,UMZ100,UQA01X,UQA430</td>\n",
       "      <td>개발제한구역,가축사육제한구역(2012-03-15)(일부제한지역),도시지역,자연녹지지역</td>\n",
       "      <td>2022-05-13T17:18:51</td>\n",
       "    </tr>\n",
       "    <tr>\n",
       "      <th>357761</th>\n",
       "      <td>\\n240381.6169999996 306090.9560000002 240394.4...</td>\n",
       "      <td>240381.6169999996 306090.9560000002 240394.430...</td>\n",
       "      <td>240381.6169999996 306090.9560000002 240394.430...</td>\n",
       "      <td>240381.6169999996 306090.9560000002 240394.430...</td>\n",
       "      <td>240381.6169999996 306090.9560000002 240394.430...</td>\n",
       "      <td>240381.6169999996 306090.9560000002 240394.430...</td>\n",
       "      <td>240381.6169999996 306090.9560000002 240394.430...</td>\n",
       "      <td>240381.6169999996 306090.9560000002 240394.430...</td>\n",
       "      <td>3011014000101050000</td>\n",
       "      <td>30110</td>\n",
       "      <td>...</td>\n",
       "      <td>0</td>\n",
       "      <td>105답</td>\n",
       "      <td>222513</td>\n",
       "      <td>30110</td>\n",
       "      <td>1</td>\n",
       "      <td>1,1,1,1,2</td>\n",
       "      <td>포함,포함,포함,포함,저촉</td>\n",
       "      <td>UDV100,UMZ100,UQA01X,UQA430,UQS122</td>\n",
       "      <td>개발제한구역,가축사육제한구역(2012-03-15)(일부제한지역),도시지역,자연녹지지...</td>\n",
       "      <td>2022-05-13T17:18:51</td>\n",
       "    </tr>\n",
       "    <tr>\n",
       "      <th>357762</th>\n",
       "      <td>\\n240507.9780000001 306101.0089999996 240524.3...</td>\n",
       "      <td>240507.9780000001 306101.0089999996 240524.343...</td>\n",
       "      <td>240507.9780000001 306101.0089999996 240524.343...</td>\n",
       "      <td>240507.9780000001 306101.0089999996 240524.343...</td>\n",
       "      <td>240507.9780000001 306101.0089999996 240524.343...</td>\n",
       "      <td>240507.9780000001 306101.0089999996 240524.343...</td>\n",
       "      <td>240507.9780000001 306101.0089999996 240524.343...</td>\n",
       "      <td>240507.9780000001 306101.0089999996 240524.343...</td>\n",
       "      <td>3011014000101060000</td>\n",
       "      <td>30110</td>\n",
       "      <td>...</td>\n",
       "      <td>0</td>\n",
       "      <td>106전</td>\n",
       "      <td>222519</td>\n",
       "      <td>30110</td>\n",
       "      <td>1</td>\n",
       "      <td>1,1,1,1,2</td>\n",
       "      <td>포함,포함,포함,포함,저촉</td>\n",
       "      <td>UDV100,UMZ100,UQA01X,UQA430,UQS122</td>\n",
       "      <td>개발제한구역,가축사육제한구역(2012-03-15)(일부제한지역),도시지역,자연녹지지...</td>\n",
       "      <td>2022-05-13T17:18:51</td>\n",
       "    </tr>\n",
       "    <tr>\n",
       "      <th>357763</th>\n",
       "      <td>\\n240436.0659999996 306096.2809999995 240432.3...</td>\n",
       "      <td>240436.0659999996 306096.2809999995 240432.398...</td>\n",
       "      <td>240436.0659999996 306096.2809999995 240432.398...</td>\n",
       "      <td>240436.0659999996 306096.2809999995 240432.398...</td>\n",
       "      <td>240436.0659999996 306096.2809999995 240432.398...</td>\n",
       "      <td>240436.0659999996 306096.2809999995 240432.398...</td>\n",
       "      <td>240436.0659999996 306096.2809999995 240432.398...</td>\n",
       "      <td>240436.0659999996 306096.2809999995 240432.398...</td>\n",
       "      <td>3011014000101070000</td>\n",
       "      <td>30110</td>\n",
       "      <td>...</td>\n",
       "      <td>0</td>\n",
       "      <td>107전</td>\n",
       "      <td>222442</td>\n",
       "      <td>30110</td>\n",
       "      <td>1</td>\n",
       "      <td>1,1,1,1,2</td>\n",
       "      <td>포함,포함,포함,포함,저촉</td>\n",
       "      <td>UDV100,UMZ100,UQA01X,UQA430,UQS122</td>\n",
       "      <td>개발제한구역,가축사육제한구역(2012-03-15)(일부제한지역),도시지역,자연녹지지...</td>\n",
       "      <td>2022-05-13T17:18:51</td>\n",
       "    </tr>\n",
       "    <tr>\n",
       "      <th>357764</th>\n",
       "      <td>\\n240388.0480000004 306202.0170000009 240377.2...</td>\n",
       "      <td>240388.0480000004 306202.0170000009 240377.260...</td>\n",
       "      <td>240388.0480000004 306202.0170000009 240377.260...</td>\n",
       "      <td>240388.0480000004 306202.0170000009 240377.260...</td>\n",
       "      <td>240388.0480000004 306202.0170000009 240377.260...</td>\n",
       "      <td>240388.0480000004 306202.0170000009 240377.260...</td>\n",
       "      <td>240388.0480000004 306202.0170000009 240377.260...</td>\n",
       "      <td>240388.0480000004 306202.0170000009 240377.260...</td>\n",
       "      <td>3011014000101080000</td>\n",
       "      <td>30110</td>\n",
       "      <td>...</td>\n",
       "      <td>0</td>\n",
       "      <td>108전</td>\n",
       "      <td>219913</td>\n",
       "      <td>30110</td>\n",
       "      <td>1</td>\n",
       "      <td>1,1,1,1</td>\n",
       "      <td>포함,포함,포함,포함</td>\n",
       "      <td>UDV100,UMZ100,UQA01X,UQA430</td>\n",
       "      <td>개발제한구역,가축사육제한구역(2012-03-15)(일부제한지역),도시지역,자연녹지지역</td>\n",
       "      <td>2022-05-13T17:18:51</td>\n",
       "    </tr>\n",
       "  </tbody>\n",
       "</table>\n",
       "<p>357765 rows × 23 columns</p>\n",
       "</div>"
      ],
      "text/plain": [
       "                                                     F176  \\\n",
       "0       \\n342188.6926999996 266421.0840000007 342187.0...   \n",
       "1       \\n342243.5922999997 266395.6919 342245.5823999...   \n",
       "2       \\n342323.5614999998 266352.2387000006 342317.6...   \n",
       "3       \\n342285.3786000004 266370.8638000004 342308.5...   \n",
       "4       \\n342248.0356999999 266381.4956 342258.7434999...   \n",
       "...                                                   ...   \n",
       "357760  \\n240491.398 306040.9900000002 240493.92100000...   \n",
       "357761  \\n240381.6169999996 306090.9560000002 240394.4...   \n",
       "357762  \\n240507.9780000001 306101.0089999996 240524.3...   \n",
       "357763  \\n240436.0659999996 306096.2809999995 240432.3...   \n",
       "357764  \\n240388.0480000004 306202.0170000009 240377.2...   \n",
       "\n",
       "                                                    SHAPE  \\\n",
       "0       342188.6926999996 266421.0840000007 342187.080...   \n",
       "1       342243.5922999997 266395.6919 342245.582399999...   \n",
       "2       342323.5614999998 266352.2387000006 342317.631...   \n",
       "3       342285.3786000004 266370.8638000004 342308.504...   \n",
       "4       342248.0356999999 266381.4956 342258.743499999...   \n",
       "...                                                   ...   \n",
       "357760  240491.398 306040.9900000002 240493.9210000001...   \n",
       "357761  240381.6169999996 306090.9560000002 240394.430...   \n",
       "357762  240507.9780000001 306101.0089999996 240524.343...   \n",
       "357763  240436.0659999996 306096.2809999995 240432.398...   \n",
       "357764  240388.0480000004 306202.0170000009 240377.260...   \n",
       "\n",
       "                                             MultiSurface  \\\n",
       "0       342188.6926999996 266421.0840000007 342187.080...   \n",
       "1       342243.5922999997 266395.6919 342245.582399999...   \n",
       "2       342323.5614999998 266352.2387000006 342317.631...   \n",
       "3       342285.3786000004 266370.8638000004 342308.504...   \n",
       "4       342248.0356999999 266381.4956 342258.743499999...   \n",
       "...                                                   ...   \n",
       "357760  240491.398 306040.9900000002 240493.9210000001...   \n",
       "357761  240381.6169999996 306090.9560000002 240394.430...   \n",
       "357762  240507.9780000001 306101.0089999996 240524.343...   \n",
       "357763  240436.0659999996 306096.2809999995 240432.398...   \n",
       "357764  240388.0480000004 306202.0170000009 240377.260...   \n",
       "\n",
       "                                            surfaceMember  \\\n",
       "0       342188.6926999996 266421.0840000007 342187.080...   \n",
       "1       342243.5922999997 266395.6919 342245.582399999...   \n",
       "2       342323.5614999998 266352.2387000006 342317.631...   \n",
       "3       342285.3786000004 266370.8638000004 342308.504...   \n",
       "4       342248.0356999999 266381.4956 342258.743499999...   \n",
       "...                                                   ...   \n",
       "357760  240491.398 306040.9900000002 240493.9210000001...   \n",
       "357761  240381.6169999996 306090.9560000002 240394.430...   \n",
       "357762  240507.9780000001 306101.0089999996 240524.343...   \n",
       "357763  240436.0659999996 306096.2809999995 240432.398...   \n",
       "357764  240388.0480000004 306202.0170000009 240377.260...   \n",
       "\n",
       "                                                  Polygon  \\\n",
       "0       342188.6926999996 266421.0840000007 342187.080...   \n",
       "1       342243.5922999997 266395.6919 342245.582399999...   \n",
       "2       342323.5614999998 266352.2387000006 342317.631...   \n",
       "3       342285.3786000004 266370.8638000004 342308.504...   \n",
       "4       342248.0356999999 266381.4956 342258.743499999...   \n",
       "...                                                   ...   \n",
       "357760  240491.398 306040.9900000002 240493.9210000001...   \n",
       "357761  240381.6169999996 306090.9560000002 240394.430...   \n",
       "357762  240507.9780000001 306101.0089999996 240524.343...   \n",
       "357763  240436.0659999996 306096.2809999995 240432.398...   \n",
       "357764  240388.0480000004 306202.0170000009 240377.260...   \n",
       "\n",
       "                                                 exterior  \\\n",
       "0       342188.6926999996 266421.0840000007 342187.080...   \n",
       "1       342243.5922999997 266395.6919 342245.582399999...   \n",
       "2       342323.5614999998 266352.2387000006 342317.631...   \n",
       "3       342285.3786000004 266370.8638000004 342308.504...   \n",
       "4       342248.0356999999 266381.4956 342258.743499999...   \n",
       "...                                                   ...   \n",
       "357760  240491.398 306040.9900000002 240493.9210000001...   \n",
       "357761  240381.6169999996 306090.9560000002 240394.430...   \n",
       "357762  240507.9780000001 306101.0089999996 240524.343...   \n",
       "357763  240436.0659999996 306096.2809999995 240432.398...   \n",
       "357764  240388.0480000004 306202.0170000009 240377.260...   \n",
       "\n",
       "                                               LinearRing  \\\n",
       "0       342188.6926999996 266421.0840000007 342187.080...   \n",
       "1       342243.5922999997 266395.6919 342245.582399999...   \n",
       "2       342323.5614999998 266352.2387000006 342317.631...   \n",
       "3       342285.3786000004 266370.8638000004 342308.504...   \n",
       "4       342248.0356999999 266381.4956 342258.743499999...   \n",
       "...                                                   ...   \n",
       "357760  240491.398 306040.9900000002 240493.9210000001...   \n",
       "357761  240381.6169999996 306090.9560000002 240394.430...   \n",
       "357762  240507.9780000001 306101.0089999996 240524.343...   \n",
       "357763  240436.0659999996 306096.2809999995 240432.398...   \n",
       "357764  240388.0480000004 306202.0170000009 240377.260...   \n",
       "\n",
       "                                                  posList  \\\n",
       "0       342188.6926999996 266421.0840000007 342187.080...   \n",
       "1       342243.5922999997 266395.6919 342245.582399999...   \n",
       "2       342323.5614999998 266352.2387000006 342317.631...   \n",
       "3       342285.3786000004 266370.8638000004 342308.504...   \n",
       "4       342248.0356999999 266381.4956 342258.743499999...   \n",
       "...                                                   ...   \n",
       "357760  240491.398 306040.9900000002 240493.9210000001...   \n",
       "357761  240381.6169999996 306090.9560000002 240394.430...   \n",
       "357762  240507.9780000001 306101.0089999996 240524.343...   \n",
       "357763  240436.0659999996 306096.2809999995 240432.398...   \n",
       "357764  240388.0480000004 306202.0170000009 240377.260...   \n",
       "\n",
       "                        PNU  LD_CPSG_CODE  ...  SLNO  LNM_LNDCGR_SMBOL  \\\n",
       "0       2717010900109680003         27170  ...     3            968-3도   \n",
       "1       2717010900109900004         27170  ...     4            990-4도   \n",
       "2       2717010900109900007         27170  ...     7            990-7대   \n",
       "3       2717010900109900010         27170  ...    10           990-10대   \n",
       "4       2717010900109900011         27170  ...    11           990-11대   \n",
       "...                     ...           ...  ...   ...               ...   \n",
       "357760  3011014000101040000         30110  ...     0              104답   \n",
       "357761  3011014000101050000         30110  ...     0              105답   \n",
       "357762  3011014000101060000         30110  ...     0              106전   \n",
       "357763  3011014000101070000         30110  ...     0              107전   \n",
       "357764  3011014000101080000         30110  ...     0              108전   \n",
       "\n",
       "        SRC_OBJECTID  SRC_LD_CPSG_CODE ISSU_CONFM_CODE      CNFLC_AT_LIST  \\\n",
       "0             145700             27170               1          1,1,1,2,1   \n",
       "1             145543             27170               1  1,1,1,2,2,2,3,2,2   \n",
       "2             141173             27170               1        1,1,1,2,3,3   \n",
       "3             144839             27170               1      1,1,1,2,3,3,3   \n",
       "4             135156             27170               1      1,1,1,2,3,3,3   \n",
       "...              ...               ...             ...                ...   \n",
       "357760        222526             30110               1            1,1,1,1   \n",
       "357761        222513             30110               1          1,1,1,1,2   \n",
       "357762        222519             30110               1          1,1,1,1,2   \n",
       "357763        222442             30110               1          1,1,1,1,2   \n",
       "357764        219913             30110               1            1,1,1,1   \n",
       "\n",
       "                  CNFLC_AT_NM_LIST  \\\n",
       "0                   포함,포함,포함,저촉,포함   \n",
       "1       포함,포함,포함,저촉,저촉,저촉,접함,저촉,저촉   \n",
       "2                포함,포함,포함,저촉,접함,접함   \n",
       "3             포함,포함,포함,저촉,접함,접함,접함   \n",
       "4             포함,포함,포함,저촉,접함,접함,접함   \n",
       "...                            ...   \n",
       "357760                 포함,포함,포함,포함   \n",
       "357761              포함,포함,포함,포함,저촉   \n",
       "357762              포함,포함,포함,포함,저촉   \n",
       "357763              포함,포함,포함,포함,저촉   \n",
       "357764                 포함,포함,포함,포함   \n",
       "\n",
       "                               PRPOS_AREA_DSTRC_CODE_LIST  \\\n",
       "0                      UMZ100,UQA01X,UQA122,UQS520,UQT100   \n",
       "1       UMZ100,UQA01X,UQA122,UQF131,UQS115,UQS115,UQS1...   \n",
       "2               UMZ100,UQA01X,UQA230,UQF131,UQS115,UQS115   \n",
       "3        UMZ100,UQA01X,UQA230,UQF131,UQS115,UQS115,UQS121   \n",
       "4        UMZ100,UQA01X,UQA230,UQF131,UQS115,UQS115,UQS121   \n",
       "...                                                   ...   \n",
       "357760                        UDV100,UMZ100,UQA01X,UQA430   \n",
       "357761                 UDV100,UMZ100,UQA01X,UQA430,UQS122   \n",
       "357762                 UDV100,UMZ100,UQA01X,UQA430,UQS122   \n",
       "357763                 UDV100,UMZ100,UQA01X,UQA430,UQS122   \n",
       "357764                        UDV100,UMZ100,UQA01X,UQA430   \n",
       "\n",
       "                                 PRPOS_AREA_DSTRC_NM_LIST       FRST_REGIST_DT  \n",
       "0                가축사육제한구역,도시지역,제2종일반주거지역,도시철도(3호선)(저촉),광장  2022-05-13T17:07:24  \n",
       "1       가축사육제한구역,도시지역,제2종일반주거지역,시가지경관지구(중심),대로2류(폭 30m...  2022-05-13T17:07:24  \n",
       "2       가축사육제한구역,도시지역,근린상업지역,시가지경관지구(중심),대로2류(폭 30m~35...  2022-05-13T17:07:24  \n",
       "3       가축사육제한구역,도시지역,근린상업지역,시가지경관지구(중심),대로2류(폭 30m~35...  2022-05-13T17:07:24  \n",
       "4       가축사육제한구역,도시지역,근린상업지역,시가지경관지구(중심),대로2류(폭 30m~35...  2022-05-13T17:07:24  \n",
       "...                                                   ...                  ...  \n",
       "357760    개발제한구역,가축사육제한구역(2012-03-15)(일부제한지역),도시지역,자연녹지지역  2022-05-13T17:18:51  \n",
       "357761  개발제한구역,가축사육제한구역(2012-03-15)(일부제한지역),도시지역,자연녹지지...  2022-05-13T17:18:51  \n",
       "357762  개발제한구역,가축사육제한구역(2012-03-15)(일부제한지역),도시지역,자연녹지지...  2022-05-13T17:18:51  \n",
       "357763  개발제한구역,가축사육제한구역(2012-03-15)(일부제한지역),도시지역,자연녹지지...  2022-05-13T17:18:51  \n",
       "357764    개발제한구역,가축사육제한구역(2012-03-15)(일부제한지역),도시지역,자연녹지지역  2022-05-13T17:18:51  \n",
       "\n",
       "[357765 rows x 23 columns]"
      ]
     },
     "execution_count": 104,
     "metadata": {},
     "output_type": "execute_result"
    }
   ],
   "source": [
    "df1"
   ]
  },
  {
   "cell_type": "code",
   "execution_count": 105,
   "id": "85fe1a1a-c18c-4ac6-baf9-97a99e904693",
   "metadata": {
    "tags": []
   },
   "outputs": [
    {
     "data": {
      "text/html": [
       "<div>\n",
       "<style scoped>\n",
       "    .dataframe tbody tr th:only-of-type {\n",
       "        vertical-align: middle;\n",
       "    }\n",
       "\n",
       "    .dataframe tbody tr th {\n",
       "        vertical-align: top;\n",
       "    }\n",
       "\n",
       "    .dataframe thead th {\n",
       "        text-align: right;\n",
       "    }\n",
       "</style>\n",
       "<table border=\"1\" class=\"dataframe\">\n",
       "  <thead>\n",
       "    <tr style=\"text-align: right;\">\n",
       "      <th></th>\n",
       "      <th>F176</th>\n",
       "      <th>SHAPE</th>\n",
       "      <th>MultiSurface</th>\n",
       "      <th>surfaceMember</th>\n",
       "      <th>Polygon</th>\n",
       "      <th>exterior</th>\n",
       "      <th>LinearRing</th>\n",
       "      <th>posList</th>\n",
       "      <th>PNU</th>\n",
       "      <th>LD_CPSG_CODE</th>\n",
       "      <th>...</th>\n",
       "      <th>SLNO</th>\n",
       "      <th>LNM_LNDCGR_SMBOL</th>\n",
       "      <th>SRC_OBJECTID</th>\n",
       "      <th>SRC_LD_CPSG_CODE</th>\n",
       "      <th>ISSU_CONFM_CODE</th>\n",
       "      <th>CNFLC_AT_LIST</th>\n",
       "      <th>CNFLC_AT_NM_LIST</th>\n",
       "      <th>PRPOS_AREA_DSTRC_CODE_LIST</th>\n",
       "      <th>PRPOS_AREA_DSTRC_NM_LIST</th>\n",
       "      <th>FRST_REGIST_DT</th>\n",
       "    </tr>\n",
       "  </thead>\n",
       "  <tbody>\n",
       "    <tr>\n",
       "      <th>0</th>\n",
       "      <td>\\n240757.9100000002 306097.5639999993 240751.6...</td>\n",
       "      <td>240757.9100000002 306097.5639999993 240751.650...</td>\n",
       "      <td>240757.9100000002 306097.5639999993 240751.650...</td>\n",
       "      <td>240757.9100000002 306097.5639999993 240751.650...</td>\n",
       "      <td>240757.9100000002 306097.5639999993 240751.650...</td>\n",
       "      <td>240757.9100000002 306097.5639999993 240751.650...</td>\n",
       "      <td>240757.9100000002 306097.5639999993 240751.650...</td>\n",
       "      <td>240757.9100000002 306097.5639999993 240751.650...</td>\n",
       "      <td>3011014000100010000</td>\n",
       "      <td>30110</td>\n",
       "      <td>...</td>\n",
       "      <td>0</td>\n",
       "      <td>1전</td>\n",
       "      <td>222450</td>\n",
       "      <td>30110</td>\n",
       "      <td>1</td>\n",
       "      <td>1,1,1,1,2</td>\n",
       "      <td>포함,포함,포함,포함,저촉</td>\n",
       "      <td>UDV100,UMZ100,UQA01X,UQA430,UQS122</td>\n",
       "      <td>개발제한구역,가축사육제한구역(2012-03-15)(일부제한지역),도시지역,자연녹지지...</td>\n",
       "      <td>2022-05-13T17:18:51</td>\n",
       "    </tr>\n",
       "    <tr>\n",
       "      <th>1</th>\n",
       "      <td>\\n240808.9040000001 306094.7640000004 240820.6...</td>\n",
       "      <td>240808.9040000001 306094.7640000004 240820.650...</td>\n",
       "      <td>240808.9040000001 306094.7640000004 240820.650...</td>\n",
       "      <td>240808.9040000001 306094.7640000004 240820.650...</td>\n",
       "      <td>240808.9040000001 306094.7640000004 240820.650...</td>\n",
       "      <td>240808.9040000001 306094.7640000004 240820.650...</td>\n",
       "      <td>240808.9040000001 306094.7640000004 240820.650...</td>\n",
       "      <td>240808.9040000001 306094.7640000004 240820.650...</td>\n",
       "      <td>3011014000100020000</td>\n",
       "      <td>30110</td>\n",
       "      <td>...</td>\n",
       "      <td>0</td>\n",
       "      <td>2답</td>\n",
       "      <td>265657</td>\n",
       "      <td>30110</td>\n",
       "      <td>1</td>\n",
       "      <td>1,1,1,1</td>\n",
       "      <td>포함,포함,포함,포함</td>\n",
       "      <td>UDV100,UMZ100,UQA01X,UQA430</td>\n",
       "      <td>개발제한구역,가축사육제한구역(2012-03-15)(일부제한지역),도시지역,자연녹지지역</td>\n",
       "      <td>2022-05-13T17:18:51</td>\n",
       "    </tr>\n",
       "    <tr>\n",
       "      <th>2</th>\n",
       "      <td>\\n240725.6689999998 306054.4309999999 240728.9...</td>\n",
       "      <td>240725.6689999998 306054.4309999999 240728.909...</td>\n",
       "      <td>240725.6689999998 306054.4309999999 240728.909...</td>\n",
       "      <td>240725.6689999998 306054.4309999999 240728.909...</td>\n",
       "      <td>240725.6689999998 306054.4309999999 240728.909...</td>\n",
       "      <td>240725.6689999998 306054.4309999999 240728.909...</td>\n",
       "      <td>240725.6689999998 306054.4309999999 240728.909...</td>\n",
       "      <td>240725.6689999998 306054.4309999999 240728.909...</td>\n",
       "      <td>3011014000100040001</td>\n",
       "      <td>30110</td>\n",
       "      <td>...</td>\n",
       "      <td>1</td>\n",
       "      <td>4-1답</td>\n",
       "      <td>222509</td>\n",
       "      <td>30110</td>\n",
       "      <td>1</td>\n",
       "      <td>1,1,1,1</td>\n",
       "      <td>포함,포함,포함,포함</td>\n",
       "      <td>UDV100,UMZ100,UQA01X,UQA430</td>\n",
       "      <td>개발제한구역,가축사육제한구역(2012-03-15)(일부제한지역),도시지역,자연녹지지역</td>\n",
       "      <td>2022-05-13T17:18:51</td>\n",
       "    </tr>\n",
       "    <tr>\n",
       "      <th>3</th>\n",
       "      <td>\\n240705.4579999996 306062.8430000003 240688.1...</td>\n",
       "      <td>240705.4579999996 306062.8430000003 240688.157...</td>\n",
       "      <td>240705.4579999996 306062.8430000003 240688.157...</td>\n",
       "      <td>240705.4579999996 306062.8430000003 240688.157...</td>\n",
       "      <td>240705.4579999996 306062.8430000003 240688.157...</td>\n",
       "      <td>240705.4579999996 306062.8430000003 240688.157...</td>\n",
       "      <td>240705.4579999996 306062.8430000003 240688.157...</td>\n",
       "      <td>240705.4579999996 306062.8430000003 240688.157...</td>\n",
       "      <td>3011014000100040002</td>\n",
       "      <td>30110</td>\n",
       "      <td>...</td>\n",
       "      <td>2</td>\n",
       "      <td>4-2천</td>\n",
       "      <td>222488</td>\n",
       "      <td>30110</td>\n",
       "      <td>1</td>\n",
       "      <td>1,1,1,1</td>\n",
       "      <td>포함,포함,포함,포함</td>\n",
       "      <td>UDV100,UMZ100,UQA01X,UQA430</td>\n",
       "      <td>개발제한구역,가축사육제한구역(2012-03-15)(일부제한지역),도시지역,자연녹지지역</td>\n",
       "      <td>2022-05-13T17:18:51</td>\n",
       "    </tr>\n",
       "    <tr>\n",
       "      <th>4</th>\n",
       "      <td>\\n240704.2410000004 306055.3920000009 240696.9...</td>\n",
       "      <td>240704.2410000004 306055.3920000009 240696.905...</td>\n",
       "      <td>240704.2410000004 306055.3920000009 240696.905...</td>\n",
       "      <td>240704.2410000004 306055.3920000009 240696.905...</td>\n",
       "      <td>240704.2410000004 306055.3920000009 240696.905...</td>\n",
       "      <td>240704.2410000004 306055.3920000009 240696.905...</td>\n",
       "      <td>240704.2410000004 306055.3920000009 240696.905...</td>\n",
       "      <td>240704.2410000004 306055.3920000009 240696.905...</td>\n",
       "      <td>3011014000100040003</td>\n",
       "      <td>30110</td>\n",
       "      <td>...</td>\n",
       "      <td>3</td>\n",
       "      <td>4-3천</td>\n",
       "      <td>222485</td>\n",
       "      <td>30110</td>\n",
       "      <td>1</td>\n",
       "      <td>1,1,1,1</td>\n",
       "      <td>포함,포함,포함,포함</td>\n",
       "      <td>UDV100,UMZ100,UQA01X,UQA430</td>\n",
       "      <td>개발제한구역,가축사육제한구역(2012-03-15)(일부제한지역),도시지역,자연녹지지역</td>\n",
       "      <td>2022-05-13T17:18:51</td>\n",
       "    </tr>\n",
       "    <tr>\n",
       "      <th>...</th>\n",
       "      <td>...</td>\n",
       "      <td>...</td>\n",
       "      <td>...</td>\n",
       "      <td>...</td>\n",
       "      <td>...</td>\n",
       "      <td>...</td>\n",
       "      <td>...</td>\n",
       "      <td>...</td>\n",
       "      <td>...</td>\n",
       "      <td>...</td>\n",
       "      <td>...</td>\n",
       "      <td>...</td>\n",
       "      <td>...</td>\n",
       "      <td>...</td>\n",
       "      <td>...</td>\n",
       "      <td>...</td>\n",
       "      <td>...</td>\n",
       "      <td>...</td>\n",
       "      <td>...</td>\n",
       "      <td>...</td>\n",
       "      <td>...</td>\n",
       "    </tr>\n",
       "    <tr>\n",
       "      <th>133244</th>\n",
       "      <td>\\n201465.9699999997 418840.8379999995 201464.5...</td>\n",
       "      <td>201465.9699999997 418840.8379999995 201464.519...</td>\n",
       "      <td>201465.9699999997 418840.8379999995 201464.519...</td>\n",
       "      <td>201465.9699999997 418840.8379999995 201464.519...</td>\n",
       "      <td>201465.9699999997 418840.8379999995 201464.519...</td>\n",
       "      <td>201465.9699999997 418840.8379999995 201464.519...</td>\n",
       "      <td>201465.9699999997 418840.8379999995 201464.519...</td>\n",
       "      <td>201465.9699999997 418840.8379999995 201464.519...</td>\n",
       "      <td>4111512600101040002</td>\n",
       "      <td>41115</td>\n",
       "      <td>...</td>\n",
       "      <td>2</td>\n",
       "      <td>104-2철</td>\n",
       "      <td>828392</td>\n",
       "      <td>41110</td>\n",
       "      <td>1</td>\n",
       "      <td>1,1,1,1,1,1,1,1,3,1,1</td>\n",
       "      <td>포함,포함,포함,포함,포함,포함,포함,포함,접함,포함,포함</td>\n",
       "      <td>UBA100,UMZ100,UNE416,UOF300,UQA001,UQA220,UQI1...</td>\n",
       "      <td>과밀억제권역,가축사육제한구역,비행안전제6구역(전술),관광특구,도시지역,일반상업지역,...</td>\n",
       "      <td>2022-05-13T17:25:56</td>\n",
       "    </tr>\n",
       "    <tr>\n",
       "      <th>133245</th>\n",
       "      <td>\\n201466.7759999996 418847.6870000009 201468.4...</td>\n",
       "      <td>201466.7759999996 418847.6870000009 201468.423...</td>\n",
       "      <td>201466.7759999996 418847.6870000009 201468.423...</td>\n",
       "      <td>201466.7759999996 418847.6870000009 201468.423...</td>\n",
       "      <td>201466.7759999996 418847.6870000009 201468.423...</td>\n",
       "      <td>201466.7759999996 418847.6870000009 201468.423...</td>\n",
       "      <td>201466.7759999996 418847.6870000009 201468.423...</td>\n",
       "      <td>201466.7759999996 418847.6870000009 201468.423...</td>\n",
       "      <td>4111512600101040003</td>\n",
       "      <td>41115</td>\n",
       "      <td>...</td>\n",
       "      <td>3</td>\n",
       "      <td>104-3철</td>\n",
       "      <td>828393</td>\n",
       "      <td>41110</td>\n",
       "      <td>1</td>\n",
       "      <td>1,1,1,1,1,1,1,1,1,3,1,1</td>\n",
       "      <td>포함,포함,포함,포함,포함,포함,포함,포함,포함,접함,포함,포함</td>\n",
       "      <td>UBA100,UMZ100,UNE416,UOF300,UQA001,UQA220,UQF1...</td>\n",
       "      <td>과밀억제권역,가축사육제한구역,비행안전제6구역(전술),관광특구,도시지역,일반상업지역,...</td>\n",
       "      <td>2022-05-13T17:25:56</td>\n",
       "    </tr>\n",
       "    <tr>\n",
       "      <th>133246</th>\n",
       "      <td>\\n201474.6550000003 418842.6950000003 201470.8...</td>\n",
       "      <td>201474.6550000003 418842.6950000003 201470.855...</td>\n",
       "      <td>201474.6550000003 418842.6950000003 201470.855...</td>\n",
       "      <td>201474.6550000003 418842.6950000003 201470.855...</td>\n",
       "      <td>201474.6550000003 418842.6950000003 201470.855...</td>\n",
       "      <td>201474.6550000003 418842.6950000003 201470.855...</td>\n",
       "      <td>201474.6550000003 418842.6950000003 201470.855...</td>\n",
       "      <td>201474.6550000003 418842.6950000003 201470.855...</td>\n",
       "      <td>4111512600101050001</td>\n",
       "      <td>41115</td>\n",
       "      <td>...</td>\n",
       "      <td>1</td>\n",
       "      <td>105-1대</td>\n",
       "      <td>828581</td>\n",
       "      <td>41110</td>\n",
       "      <td>1</td>\n",
       "      <td>1,2,1,1,2,1,1,2,2,2,1,1,2,1,1</td>\n",
       "      <td>포함,저촉,포함,포함,저촉,포함,포함,저촉,저촉,저촉,포함,포함,저촉,포함,포함</td>\n",
       "      <td>UBA100,UJB100,UMZ100,UNE416,UOA120,UOF300,UQA0...</td>\n",
       "      <td>과밀억제권역,하천구역(수원천),가축사육제한구역,비행안전제6구역(전술),상대보호구역(...</td>\n",
       "      <td>2022-05-13T17:25:56</td>\n",
       "    </tr>\n",
       "    <tr>\n",
       "      <th>133247</th>\n",
       "      <td>\\n201468.8779999996 418833.4110000003 201466.7...</td>\n",
       "      <td>201468.8779999996 418833.4110000003 201466.785...</td>\n",
       "      <td>201468.8779999996 418833.4110000003 201466.785...</td>\n",
       "      <td>201468.8779999996 418833.4110000003 201466.785...</td>\n",
       "      <td>201468.8779999996 418833.4110000003 201466.785...</td>\n",
       "      <td>201468.8779999996 418833.4110000003 201466.785...</td>\n",
       "      <td>201468.8779999996 418833.4110000003 201466.785...</td>\n",
       "      <td>201468.8779999996 418833.4110000003 201466.785...</td>\n",
       "      <td>4111512600101050002</td>\n",
       "      <td>41115</td>\n",
       "      <td>...</td>\n",
       "      <td>2</td>\n",
       "      <td>105-2도</td>\n",
       "      <td>828546</td>\n",
       "      <td>41110</td>\n",
       "      <td>1</td>\n",
       "      <td>1,2,1,1,2,1,1,2,2,1,1,2,1,1</td>\n",
       "      <td>포함,저촉,포함,포함,저촉,포함,포함,저촉,저촉,포함,포함,저촉,포함,포함</td>\n",
       "      <td>UBA100,UJB100,UMZ100,UNE416,UOA120,UOF300,UQA0...</td>\n",
       "      <td>과밀억제권역,하천구역(수원천),가축사육제한구역,비행안전제6구역(전술),상대보호구역(...</td>\n",
       "      <td>2022-05-13T17:25:56</td>\n",
       "    </tr>\n",
       "    <tr>\n",
       "      <th>133248</th>\n",
       "      <td>\\n201461.1239999998 418841.7709999997 201464.5...</td>\n",
       "      <td>201461.1239999998 418841.7709999997 201464.519...</td>\n",
       "      <td>201461.1239999998 418841.7709999997 201464.519...</td>\n",
       "      <td>201461.1239999998 418841.7709999997 201464.519...</td>\n",
       "      <td>201461.1239999998 418841.7709999997 201464.519...</td>\n",
       "      <td>201461.1239999998 418841.7709999997 201464.519...</td>\n",
       "      <td>201461.1239999998 418841.7709999997 201464.519...</td>\n",
       "      <td>201461.1239999998 418841.7709999997 201464.519...</td>\n",
       "      <td>4111512600101050003</td>\n",
       "      <td>41115</td>\n",
       "      <td>...</td>\n",
       "      <td>3</td>\n",
       "      <td>105-3도</td>\n",
       "      <td>828582</td>\n",
       "      <td>41110</td>\n",
       "      <td>1</td>\n",
       "      <td>1,2,1,1,2,1,1,2,2,1,1,2,1,1</td>\n",
       "      <td>포함,저촉,포함,포함,저촉,포함,포함,저촉,저촉,포함,포함,저촉,포함,포함</td>\n",
       "      <td>UBA100,UJB100,UMZ100,UNE416,UOA120,UOF300,UQA0...</td>\n",
       "      <td>과밀억제권역,하천구역(수원천),가축사육제한구역,비행안전제6구역(전술),상대보호구역(...</td>\n",
       "      <td>2022-05-13T17:25:56</td>\n",
       "    </tr>\n",
       "  </tbody>\n",
       "</table>\n",
       "<p>133249 rows × 23 columns</p>\n",
       "</div>"
      ],
      "text/plain": [
       "                                                     F176  \\\n",
       "0       \\n240757.9100000002 306097.5639999993 240751.6...   \n",
       "1       \\n240808.9040000001 306094.7640000004 240820.6...   \n",
       "2       \\n240725.6689999998 306054.4309999999 240728.9...   \n",
       "3       \\n240705.4579999996 306062.8430000003 240688.1...   \n",
       "4       \\n240704.2410000004 306055.3920000009 240696.9...   \n",
       "...                                                   ...   \n",
       "133244  \\n201465.9699999997 418840.8379999995 201464.5...   \n",
       "133245  \\n201466.7759999996 418847.6870000009 201468.4...   \n",
       "133246  \\n201474.6550000003 418842.6950000003 201470.8...   \n",
       "133247  \\n201468.8779999996 418833.4110000003 201466.7...   \n",
       "133248  \\n201461.1239999998 418841.7709999997 201464.5...   \n",
       "\n",
       "                                                    SHAPE  \\\n",
       "0       240757.9100000002 306097.5639999993 240751.650...   \n",
       "1       240808.9040000001 306094.7640000004 240820.650...   \n",
       "2       240725.6689999998 306054.4309999999 240728.909...   \n",
       "3       240705.4579999996 306062.8430000003 240688.157...   \n",
       "4       240704.2410000004 306055.3920000009 240696.905...   \n",
       "...                                                   ...   \n",
       "133244  201465.9699999997 418840.8379999995 201464.519...   \n",
       "133245  201466.7759999996 418847.6870000009 201468.423...   \n",
       "133246  201474.6550000003 418842.6950000003 201470.855...   \n",
       "133247  201468.8779999996 418833.4110000003 201466.785...   \n",
       "133248  201461.1239999998 418841.7709999997 201464.519...   \n",
       "\n",
       "                                             MultiSurface  \\\n",
       "0       240757.9100000002 306097.5639999993 240751.650...   \n",
       "1       240808.9040000001 306094.7640000004 240820.650...   \n",
       "2       240725.6689999998 306054.4309999999 240728.909...   \n",
       "3       240705.4579999996 306062.8430000003 240688.157...   \n",
       "4       240704.2410000004 306055.3920000009 240696.905...   \n",
       "...                                                   ...   \n",
       "133244  201465.9699999997 418840.8379999995 201464.519...   \n",
       "133245  201466.7759999996 418847.6870000009 201468.423...   \n",
       "133246  201474.6550000003 418842.6950000003 201470.855...   \n",
       "133247  201468.8779999996 418833.4110000003 201466.785...   \n",
       "133248  201461.1239999998 418841.7709999997 201464.519...   \n",
       "\n",
       "                                            surfaceMember  \\\n",
       "0       240757.9100000002 306097.5639999993 240751.650...   \n",
       "1       240808.9040000001 306094.7640000004 240820.650...   \n",
       "2       240725.6689999998 306054.4309999999 240728.909...   \n",
       "3       240705.4579999996 306062.8430000003 240688.157...   \n",
       "4       240704.2410000004 306055.3920000009 240696.905...   \n",
       "...                                                   ...   \n",
       "133244  201465.9699999997 418840.8379999995 201464.519...   \n",
       "133245  201466.7759999996 418847.6870000009 201468.423...   \n",
       "133246  201474.6550000003 418842.6950000003 201470.855...   \n",
       "133247  201468.8779999996 418833.4110000003 201466.785...   \n",
       "133248  201461.1239999998 418841.7709999997 201464.519...   \n",
       "\n",
       "                                                  Polygon  \\\n",
       "0       240757.9100000002 306097.5639999993 240751.650...   \n",
       "1       240808.9040000001 306094.7640000004 240820.650...   \n",
       "2       240725.6689999998 306054.4309999999 240728.909...   \n",
       "3       240705.4579999996 306062.8430000003 240688.157...   \n",
       "4       240704.2410000004 306055.3920000009 240696.905...   \n",
       "...                                                   ...   \n",
       "133244  201465.9699999997 418840.8379999995 201464.519...   \n",
       "133245  201466.7759999996 418847.6870000009 201468.423...   \n",
       "133246  201474.6550000003 418842.6950000003 201470.855...   \n",
       "133247  201468.8779999996 418833.4110000003 201466.785...   \n",
       "133248  201461.1239999998 418841.7709999997 201464.519...   \n",
       "\n",
       "                                                 exterior  \\\n",
       "0       240757.9100000002 306097.5639999993 240751.650...   \n",
       "1       240808.9040000001 306094.7640000004 240820.650...   \n",
       "2       240725.6689999998 306054.4309999999 240728.909...   \n",
       "3       240705.4579999996 306062.8430000003 240688.157...   \n",
       "4       240704.2410000004 306055.3920000009 240696.905...   \n",
       "...                                                   ...   \n",
       "133244  201465.9699999997 418840.8379999995 201464.519...   \n",
       "133245  201466.7759999996 418847.6870000009 201468.423...   \n",
       "133246  201474.6550000003 418842.6950000003 201470.855...   \n",
       "133247  201468.8779999996 418833.4110000003 201466.785...   \n",
       "133248  201461.1239999998 418841.7709999997 201464.519...   \n",
       "\n",
       "                                               LinearRing  \\\n",
       "0       240757.9100000002 306097.5639999993 240751.650...   \n",
       "1       240808.9040000001 306094.7640000004 240820.650...   \n",
       "2       240725.6689999998 306054.4309999999 240728.909...   \n",
       "3       240705.4579999996 306062.8430000003 240688.157...   \n",
       "4       240704.2410000004 306055.3920000009 240696.905...   \n",
       "...                                                   ...   \n",
       "133244  201465.9699999997 418840.8379999995 201464.519...   \n",
       "133245  201466.7759999996 418847.6870000009 201468.423...   \n",
       "133246  201474.6550000003 418842.6950000003 201470.855...   \n",
       "133247  201468.8779999996 418833.4110000003 201466.785...   \n",
       "133248  201461.1239999998 418841.7709999997 201464.519...   \n",
       "\n",
       "                                                  posList  \\\n",
       "0       240757.9100000002 306097.5639999993 240751.650...   \n",
       "1       240808.9040000001 306094.7640000004 240820.650...   \n",
       "2       240725.6689999998 306054.4309999999 240728.909...   \n",
       "3       240705.4579999996 306062.8430000003 240688.157...   \n",
       "4       240704.2410000004 306055.3920000009 240696.905...   \n",
       "...                                                   ...   \n",
       "133244  201465.9699999997 418840.8379999995 201464.519...   \n",
       "133245  201466.7759999996 418847.6870000009 201468.423...   \n",
       "133246  201474.6550000003 418842.6950000003 201470.855...   \n",
       "133247  201468.8779999996 418833.4110000003 201466.785...   \n",
       "133248  201461.1239999998 418841.7709999997 201464.519...   \n",
       "\n",
       "                        PNU  LD_CPSG_CODE  ...  SLNO  LNM_LNDCGR_SMBOL  \\\n",
       "0       3011014000100010000         30110  ...     0                1전   \n",
       "1       3011014000100020000         30110  ...     0                2답   \n",
       "2       3011014000100040001         30110  ...     1              4-1답   \n",
       "3       3011014000100040002         30110  ...     2              4-2천   \n",
       "4       3011014000100040003         30110  ...     3              4-3천   \n",
       "...                     ...           ...  ...   ...               ...   \n",
       "133244  4111512600101040002         41115  ...     2            104-2철   \n",
       "133245  4111512600101040003         41115  ...     3            104-3철   \n",
       "133246  4111512600101050001         41115  ...     1            105-1대   \n",
       "133247  4111512600101050002         41115  ...     2            105-2도   \n",
       "133248  4111512600101050003         41115  ...     3            105-3도   \n",
       "\n",
       "        SRC_OBJECTID  SRC_LD_CPSG_CODE ISSU_CONFM_CODE  \\\n",
       "0             222450             30110               1   \n",
       "1             265657             30110               1   \n",
       "2             222509             30110               1   \n",
       "3             222488             30110               1   \n",
       "4             222485             30110               1   \n",
       "...              ...               ...             ...   \n",
       "133244        828392             41110               1   \n",
       "133245        828393             41110               1   \n",
       "133246        828581             41110               1   \n",
       "133247        828546             41110               1   \n",
       "133248        828582             41110               1   \n",
       "\n",
       "                        CNFLC_AT_LIST  \\\n",
       "0                           1,1,1,1,2   \n",
       "1                             1,1,1,1   \n",
       "2                             1,1,1,1   \n",
       "3                             1,1,1,1   \n",
       "4                             1,1,1,1   \n",
       "...                               ...   \n",
       "133244          1,1,1,1,1,1,1,1,3,1,1   \n",
       "133245        1,1,1,1,1,1,1,1,1,3,1,1   \n",
       "133246  1,2,1,1,2,1,1,2,2,2,1,1,2,1,1   \n",
       "133247    1,2,1,1,2,1,1,2,2,1,1,2,1,1   \n",
       "133248    1,2,1,1,2,1,1,2,2,1,1,2,1,1   \n",
       "\n",
       "                                    CNFLC_AT_NM_LIST  \\\n",
       "0                                     포함,포함,포함,포함,저촉   \n",
       "1                                        포함,포함,포함,포함   \n",
       "2                                        포함,포함,포함,포함   \n",
       "3                                        포함,포함,포함,포함   \n",
       "4                                        포함,포함,포함,포함   \n",
       "...                                              ...   \n",
       "133244              포함,포함,포함,포함,포함,포함,포함,포함,접함,포함,포함   \n",
       "133245           포함,포함,포함,포함,포함,포함,포함,포함,포함,접함,포함,포함   \n",
       "133246  포함,저촉,포함,포함,저촉,포함,포함,저촉,저촉,저촉,포함,포함,저촉,포함,포함   \n",
       "133247     포함,저촉,포함,포함,저촉,포함,포함,저촉,저촉,포함,포함,저촉,포함,포함   \n",
       "133248     포함,저촉,포함,포함,저촉,포함,포함,저촉,저촉,포함,포함,저촉,포함,포함   \n",
       "\n",
       "                               PRPOS_AREA_DSTRC_CODE_LIST  \\\n",
       "0                      UDV100,UMZ100,UQA01X,UQA430,UQS122   \n",
       "1                             UDV100,UMZ100,UQA01X,UQA430   \n",
       "2                             UDV100,UMZ100,UQA01X,UQA430   \n",
       "3                             UDV100,UMZ100,UQA01X,UQA430   \n",
       "4                             UDV100,UMZ100,UQA01X,UQA430   \n",
       "...                                                   ...   \n",
       "133244  UBA100,UMZ100,UNE416,UOF300,UQA001,UQA220,UQI1...   \n",
       "133245  UBA100,UMZ100,UNE416,UOF300,UQA001,UQA220,UQF1...   \n",
       "133246  UBA100,UJB100,UMZ100,UNE416,UOA120,UOF300,UQA0...   \n",
       "133247  UBA100,UJB100,UMZ100,UNE416,UOA120,UOF300,UQA0...   \n",
       "133248  UBA100,UJB100,UMZ100,UNE416,UOA120,UOF300,UQA0...   \n",
       "\n",
       "                                 PRPOS_AREA_DSTRC_NM_LIST       FRST_REGIST_DT  \n",
       "0       개발제한구역,가축사육제한구역(2012-03-15)(일부제한지역),도시지역,자연녹지지...  2022-05-13T17:18:51  \n",
       "1         개발제한구역,가축사육제한구역(2012-03-15)(일부제한지역),도시지역,자연녹지지역  2022-05-13T17:18:51  \n",
       "2         개발제한구역,가축사육제한구역(2012-03-15)(일부제한지역),도시지역,자연녹지지역  2022-05-13T17:18:51  \n",
       "3         개발제한구역,가축사육제한구역(2012-03-15)(일부제한지역),도시지역,자연녹지지역  2022-05-13T17:18:51  \n",
       "4         개발제한구역,가축사육제한구역(2012-03-15)(일부제한지역),도시지역,자연녹지지역  2022-05-13T17:18:51  \n",
       "...                                                   ...                  ...  \n",
       "133244  과밀억제권역,가축사육제한구역,비행안전제6구역(전술),관광특구,도시지역,일반상업지역,...  2022-05-13T17:25:56  \n",
       "133245  과밀억제권역,가축사육제한구역,비행안전제6구역(전술),관광특구,도시지역,일반상업지역,...  2022-05-13T17:25:56  \n",
       "133246  과밀억제권역,하천구역(수원천),가축사육제한구역,비행안전제6구역(전술),상대보호구역(...  2022-05-13T17:25:56  \n",
       "133247  과밀억제권역,하천구역(수원천),가축사육제한구역,비행안전제6구역(전술),상대보호구역(...  2022-05-13T17:25:56  \n",
       "133248  과밀억제권역,하천구역(수원천),가축사육제한구역,비행안전제6구역(전술),상대보호구역(...  2022-05-13T17:25:56  \n",
       "\n",
       "[133249 rows x 23 columns]"
      ]
     },
     "execution_count": 105,
     "metadata": {},
     "output_type": "execute_result"
    }
   ],
   "source": [
    "df2"
   ]
  },
  {
   "cell_type": "code",
   "execution_count": 106,
   "id": "766b8a9e-c740-4c84-8685-9ed6ef7de0b1",
   "metadata": {},
   "outputs": [],
   "source": [
    "df3 = pd.concat([df1,df2])"
   ]
  },
  {
   "cell_type": "code",
   "execution_count": 107,
   "id": "0230868d-7b18-4314-8ad0-52175070b718",
   "metadata": {},
   "outputs": [
    {
     "data": {
      "text/html": [
       "<div>\n",
       "<style scoped>\n",
       "    .dataframe tbody tr th:only-of-type {\n",
       "        vertical-align: middle;\n",
       "    }\n",
       "\n",
       "    .dataframe tbody tr th {\n",
       "        vertical-align: top;\n",
       "    }\n",
       "\n",
       "    .dataframe thead th {\n",
       "        text-align: right;\n",
       "    }\n",
       "</style>\n",
       "<table border=\"1\" class=\"dataframe\">\n",
       "  <thead>\n",
       "    <tr style=\"text-align: right;\">\n",
       "      <th></th>\n",
       "      <th>F176</th>\n",
       "      <th>SHAPE</th>\n",
       "      <th>MultiSurface</th>\n",
       "      <th>surfaceMember</th>\n",
       "      <th>Polygon</th>\n",
       "      <th>exterior</th>\n",
       "      <th>LinearRing</th>\n",
       "      <th>posList</th>\n",
       "      <th>PNU</th>\n",
       "      <th>LD_CPSG_CODE</th>\n",
       "      <th>...</th>\n",
       "      <th>SLNO</th>\n",
       "      <th>LNM_LNDCGR_SMBOL</th>\n",
       "      <th>SRC_OBJECTID</th>\n",
       "      <th>SRC_LD_CPSG_CODE</th>\n",
       "      <th>ISSU_CONFM_CODE</th>\n",
       "      <th>CNFLC_AT_LIST</th>\n",
       "      <th>CNFLC_AT_NM_LIST</th>\n",
       "      <th>PRPOS_AREA_DSTRC_CODE_LIST</th>\n",
       "      <th>PRPOS_AREA_DSTRC_NM_LIST</th>\n",
       "      <th>FRST_REGIST_DT</th>\n",
       "    </tr>\n",
       "  </thead>\n",
       "  <tbody>\n",
       "    <tr>\n",
       "      <th>0</th>\n",
       "      <td>\\n342188.6926999996 266421.0840000007 342187.0...</td>\n",
       "      <td>342188.6926999996 266421.0840000007 342187.080...</td>\n",
       "      <td>342188.6926999996 266421.0840000007 342187.080...</td>\n",
       "      <td>342188.6926999996 266421.0840000007 342187.080...</td>\n",
       "      <td>342188.6926999996 266421.0840000007 342187.080...</td>\n",
       "      <td>342188.6926999996 266421.0840000007 342187.080...</td>\n",
       "      <td>342188.6926999996 266421.0840000007 342187.080...</td>\n",
       "      <td>342188.6926999996 266421.0840000007 342187.080...</td>\n",
       "      <td>2717010900109680003</td>\n",
       "      <td>27170</td>\n",
       "      <td>...</td>\n",
       "      <td>3</td>\n",
       "      <td>968-3도</td>\n",
       "      <td>145700</td>\n",
       "      <td>27170</td>\n",
       "      <td>1</td>\n",
       "      <td>1,1,1,2,1</td>\n",
       "      <td>포함,포함,포함,저촉,포함</td>\n",
       "      <td>UMZ100,UQA01X,UQA122,UQS520,UQT100</td>\n",
       "      <td>가축사육제한구역,도시지역,제2종일반주거지역,도시철도(3호선)(저촉),광장</td>\n",
       "      <td>2022-05-13T17:07:24</td>\n",
       "    </tr>\n",
       "    <tr>\n",
       "      <th>1</th>\n",
       "      <td>\\n342243.5922999997 266395.6919 342245.5823999...</td>\n",
       "      <td>342243.5922999997 266395.6919 342245.582399999...</td>\n",
       "      <td>342243.5922999997 266395.6919 342245.582399999...</td>\n",
       "      <td>342243.5922999997 266395.6919 342245.582399999...</td>\n",
       "      <td>342243.5922999997 266395.6919 342245.582399999...</td>\n",
       "      <td>342243.5922999997 266395.6919 342245.582399999...</td>\n",
       "      <td>342243.5922999997 266395.6919 342245.582399999...</td>\n",
       "      <td>342243.5922999997 266395.6919 342245.582399999...</td>\n",
       "      <td>2717010900109900004</td>\n",
       "      <td>27170</td>\n",
       "      <td>...</td>\n",
       "      <td>4</td>\n",
       "      <td>990-4도</td>\n",
       "      <td>145543</td>\n",
       "      <td>27170</td>\n",
       "      <td>1</td>\n",
       "      <td>1,1,1,2,2,2,3,2,2</td>\n",
       "      <td>포함,포함,포함,저촉,저촉,저촉,접함,저촉,저촉</td>\n",
       "      <td>UMZ100,UQA01X,UQA122,UQF131,UQS115,UQS115,UQS1...</td>\n",
       "      <td>가축사육제한구역,도시지역,제2종일반주거지역,시가지경관지구(중심),대로2류(폭 30m...</td>\n",
       "      <td>2022-05-13T17:07:24</td>\n",
       "    </tr>\n",
       "    <tr>\n",
       "      <th>2</th>\n",
       "      <td>\\n342323.5614999998 266352.2387000006 342317.6...</td>\n",
       "      <td>342323.5614999998 266352.2387000006 342317.631...</td>\n",
       "      <td>342323.5614999998 266352.2387000006 342317.631...</td>\n",
       "      <td>342323.5614999998 266352.2387000006 342317.631...</td>\n",
       "      <td>342323.5614999998 266352.2387000006 342317.631...</td>\n",
       "      <td>342323.5614999998 266352.2387000006 342317.631...</td>\n",
       "      <td>342323.5614999998 266352.2387000006 342317.631...</td>\n",
       "      <td>342323.5614999998 266352.2387000006 342317.631...</td>\n",
       "      <td>2717010900109900007</td>\n",
       "      <td>27170</td>\n",
       "      <td>...</td>\n",
       "      <td>7</td>\n",
       "      <td>990-7대</td>\n",
       "      <td>141173</td>\n",
       "      <td>27170</td>\n",
       "      <td>1</td>\n",
       "      <td>1,1,1,2,3,3</td>\n",
       "      <td>포함,포함,포함,저촉,접함,접함</td>\n",
       "      <td>UMZ100,UQA01X,UQA230,UQF131,UQS115,UQS115</td>\n",
       "      <td>가축사육제한구역,도시지역,근린상업지역,시가지경관지구(중심),대로2류(폭 30m~35...</td>\n",
       "      <td>2022-05-13T17:07:24</td>\n",
       "    </tr>\n",
       "    <tr>\n",
       "      <th>3</th>\n",
       "      <td>\\n342285.3786000004 266370.8638000004 342308.5...</td>\n",
       "      <td>342285.3786000004 266370.8638000004 342308.504...</td>\n",
       "      <td>342285.3786000004 266370.8638000004 342308.504...</td>\n",
       "      <td>342285.3786000004 266370.8638000004 342308.504...</td>\n",
       "      <td>342285.3786000004 266370.8638000004 342308.504...</td>\n",
       "      <td>342285.3786000004 266370.8638000004 342308.504...</td>\n",
       "      <td>342285.3786000004 266370.8638000004 342308.504...</td>\n",
       "      <td>342285.3786000004 266370.8638000004 342308.504...</td>\n",
       "      <td>2717010900109900010</td>\n",
       "      <td>27170</td>\n",
       "      <td>...</td>\n",
       "      <td>10</td>\n",
       "      <td>990-10대</td>\n",
       "      <td>144839</td>\n",
       "      <td>27170</td>\n",
       "      <td>1</td>\n",
       "      <td>1,1,1,2,3,3,3</td>\n",
       "      <td>포함,포함,포함,저촉,접함,접함,접함</td>\n",
       "      <td>UMZ100,UQA01X,UQA230,UQF131,UQS115,UQS115,UQS121</td>\n",
       "      <td>가축사육제한구역,도시지역,근린상업지역,시가지경관지구(중심),대로2류(폭 30m~35...</td>\n",
       "      <td>2022-05-13T17:07:24</td>\n",
       "    </tr>\n",
       "    <tr>\n",
       "      <th>4</th>\n",
       "      <td>\\n342248.0356999999 266381.4956 342258.7434999...</td>\n",
       "      <td>342248.0356999999 266381.4956 342258.743499999...</td>\n",
       "      <td>342248.0356999999 266381.4956 342258.743499999...</td>\n",
       "      <td>342248.0356999999 266381.4956 342258.743499999...</td>\n",
       "      <td>342248.0356999999 266381.4956 342258.743499999...</td>\n",
       "      <td>342248.0356999999 266381.4956 342258.743499999...</td>\n",
       "      <td>342248.0356999999 266381.4956 342258.743499999...</td>\n",
       "      <td>342248.0356999999 266381.4956 342258.743499999...</td>\n",
       "      <td>2717010900109900011</td>\n",
       "      <td>27170</td>\n",
       "      <td>...</td>\n",
       "      <td>11</td>\n",
       "      <td>990-11대</td>\n",
       "      <td>135156</td>\n",
       "      <td>27170</td>\n",
       "      <td>1</td>\n",
       "      <td>1,1,1,2,3,3,3</td>\n",
       "      <td>포함,포함,포함,저촉,접함,접함,접함</td>\n",
       "      <td>UMZ100,UQA01X,UQA230,UQF131,UQS115,UQS115,UQS121</td>\n",
       "      <td>가축사육제한구역,도시지역,근린상업지역,시가지경관지구(중심),대로2류(폭 30m~35...</td>\n",
       "      <td>2022-05-13T17:07:24</td>\n",
       "    </tr>\n",
       "    <tr>\n",
       "      <th>...</th>\n",
       "      <td>...</td>\n",
       "      <td>...</td>\n",
       "      <td>...</td>\n",
       "      <td>...</td>\n",
       "      <td>...</td>\n",
       "      <td>...</td>\n",
       "      <td>...</td>\n",
       "      <td>...</td>\n",
       "      <td>...</td>\n",
       "      <td>...</td>\n",
       "      <td>...</td>\n",
       "      <td>...</td>\n",
       "      <td>...</td>\n",
       "      <td>...</td>\n",
       "      <td>...</td>\n",
       "      <td>...</td>\n",
       "      <td>...</td>\n",
       "      <td>...</td>\n",
       "      <td>...</td>\n",
       "      <td>...</td>\n",
       "      <td>...</td>\n",
       "    </tr>\n",
       "    <tr>\n",
       "      <th>133244</th>\n",
       "      <td>\\n201465.9699999997 418840.8379999995 201464.5...</td>\n",
       "      <td>201465.9699999997 418840.8379999995 201464.519...</td>\n",
       "      <td>201465.9699999997 418840.8379999995 201464.519...</td>\n",
       "      <td>201465.9699999997 418840.8379999995 201464.519...</td>\n",
       "      <td>201465.9699999997 418840.8379999995 201464.519...</td>\n",
       "      <td>201465.9699999997 418840.8379999995 201464.519...</td>\n",
       "      <td>201465.9699999997 418840.8379999995 201464.519...</td>\n",
       "      <td>201465.9699999997 418840.8379999995 201464.519...</td>\n",
       "      <td>4111512600101040002</td>\n",
       "      <td>41115</td>\n",
       "      <td>...</td>\n",
       "      <td>2</td>\n",
       "      <td>104-2철</td>\n",
       "      <td>828392</td>\n",
       "      <td>41110</td>\n",
       "      <td>1</td>\n",
       "      <td>1,1,1,1,1,1,1,1,3,1,1</td>\n",
       "      <td>포함,포함,포함,포함,포함,포함,포함,포함,접함,포함,포함</td>\n",
       "      <td>UBA100,UMZ100,UNE416,UOF300,UQA001,UQA220,UQI1...</td>\n",
       "      <td>과밀억제권역,가축사육제한구역,비행안전제6구역(전술),관광특구,도시지역,일반상업지역,...</td>\n",
       "      <td>2022-05-13T17:25:56</td>\n",
       "    </tr>\n",
       "    <tr>\n",
       "      <th>133245</th>\n",
       "      <td>\\n201466.7759999996 418847.6870000009 201468.4...</td>\n",
       "      <td>201466.7759999996 418847.6870000009 201468.423...</td>\n",
       "      <td>201466.7759999996 418847.6870000009 201468.423...</td>\n",
       "      <td>201466.7759999996 418847.6870000009 201468.423...</td>\n",
       "      <td>201466.7759999996 418847.6870000009 201468.423...</td>\n",
       "      <td>201466.7759999996 418847.6870000009 201468.423...</td>\n",
       "      <td>201466.7759999996 418847.6870000009 201468.423...</td>\n",
       "      <td>201466.7759999996 418847.6870000009 201468.423...</td>\n",
       "      <td>4111512600101040003</td>\n",
       "      <td>41115</td>\n",
       "      <td>...</td>\n",
       "      <td>3</td>\n",
       "      <td>104-3철</td>\n",
       "      <td>828393</td>\n",
       "      <td>41110</td>\n",
       "      <td>1</td>\n",
       "      <td>1,1,1,1,1,1,1,1,1,3,1,1</td>\n",
       "      <td>포함,포함,포함,포함,포함,포함,포함,포함,포함,접함,포함,포함</td>\n",
       "      <td>UBA100,UMZ100,UNE416,UOF300,UQA001,UQA220,UQF1...</td>\n",
       "      <td>과밀억제권역,가축사육제한구역,비행안전제6구역(전술),관광특구,도시지역,일반상업지역,...</td>\n",
       "      <td>2022-05-13T17:25:56</td>\n",
       "    </tr>\n",
       "    <tr>\n",
       "      <th>133246</th>\n",
       "      <td>\\n201474.6550000003 418842.6950000003 201470.8...</td>\n",
       "      <td>201474.6550000003 418842.6950000003 201470.855...</td>\n",
       "      <td>201474.6550000003 418842.6950000003 201470.855...</td>\n",
       "      <td>201474.6550000003 418842.6950000003 201470.855...</td>\n",
       "      <td>201474.6550000003 418842.6950000003 201470.855...</td>\n",
       "      <td>201474.6550000003 418842.6950000003 201470.855...</td>\n",
       "      <td>201474.6550000003 418842.6950000003 201470.855...</td>\n",
       "      <td>201474.6550000003 418842.6950000003 201470.855...</td>\n",
       "      <td>4111512600101050001</td>\n",
       "      <td>41115</td>\n",
       "      <td>...</td>\n",
       "      <td>1</td>\n",
       "      <td>105-1대</td>\n",
       "      <td>828581</td>\n",
       "      <td>41110</td>\n",
       "      <td>1</td>\n",
       "      <td>1,2,1,1,2,1,1,2,2,2,1,1,2,1,1</td>\n",
       "      <td>포함,저촉,포함,포함,저촉,포함,포함,저촉,저촉,저촉,포함,포함,저촉,포함,포함</td>\n",
       "      <td>UBA100,UJB100,UMZ100,UNE416,UOA120,UOF300,UQA0...</td>\n",
       "      <td>과밀억제권역,하천구역(수원천),가축사육제한구역,비행안전제6구역(전술),상대보호구역(...</td>\n",
       "      <td>2022-05-13T17:25:56</td>\n",
       "    </tr>\n",
       "    <tr>\n",
       "      <th>133247</th>\n",
       "      <td>\\n201468.8779999996 418833.4110000003 201466.7...</td>\n",
       "      <td>201468.8779999996 418833.4110000003 201466.785...</td>\n",
       "      <td>201468.8779999996 418833.4110000003 201466.785...</td>\n",
       "      <td>201468.8779999996 418833.4110000003 201466.785...</td>\n",
       "      <td>201468.8779999996 418833.4110000003 201466.785...</td>\n",
       "      <td>201468.8779999996 418833.4110000003 201466.785...</td>\n",
       "      <td>201468.8779999996 418833.4110000003 201466.785...</td>\n",
       "      <td>201468.8779999996 418833.4110000003 201466.785...</td>\n",
       "      <td>4111512600101050002</td>\n",
       "      <td>41115</td>\n",
       "      <td>...</td>\n",
       "      <td>2</td>\n",
       "      <td>105-2도</td>\n",
       "      <td>828546</td>\n",
       "      <td>41110</td>\n",
       "      <td>1</td>\n",
       "      <td>1,2,1,1,2,1,1,2,2,1,1,2,1,1</td>\n",
       "      <td>포함,저촉,포함,포함,저촉,포함,포함,저촉,저촉,포함,포함,저촉,포함,포함</td>\n",
       "      <td>UBA100,UJB100,UMZ100,UNE416,UOA120,UOF300,UQA0...</td>\n",
       "      <td>과밀억제권역,하천구역(수원천),가축사육제한구역,비행안전제6구역(전술),상대보호구역(...</td>\n",
       "      <td>2022-05-13T17:25:56</td>\n",
       "    </tr>\n",
       "    <tr>\n",
       "      <th>133248</th>\n",
       "      <td>\\n201461.1239999998 418841.7709999997 201464.5...</td>\n",
       "      <td>201461.1239999998 418841.7709999997 201464.519...</td>\n",
       "      <td>201461.1239999998 418841.7709999997 201464.519...</td>\n",
       "      <td>201461.1239999998 418841.7709999997 201464.519...</td>\n",
       "      <td>201461.1239999998 418841.7709999997 201464.519...</td>\n",
       "      <td>201461.1239999998 418841.7709999997 201464.519...</td>\n",
       "      <td>201461.1239999998 418841.7709999997 201464.519...</td>\n",
       "      <td>201461.1239999998 418841.7709999997 201464.519...</td>\n",
       "      <td>4111512600101050003</td>\n",
       "      <td>41115</td>\n",
       "      <td>...</td>\n",
       "      <td>3</td>\n",
       "      <td>105-3도</td>\n",
       "      <td>828582</td>\n",
       "      <td>41110</td>\n",
       "      <td>1</td>\n",
       "      <td>1,2,1,1,2,1,1,2,2,1,1,2,1,1</td>\n",
       "      <td>포함,저촉,포함,포함,저촉,포함,포함,저촉,저촉,포함,포함,저촉,포함,포함</td>\n",
       "      <td>UBA100,UJB100,UMZ100,UNE416,UOA120,UOF300,UQA0...</td>\n",
       "      <td>과밀억제권역,하천구역(수원천),가축사육제한구역,비행안전제6구역(전술),상대보호구역(...</td>\n",
       "      <td>2022-05-13T17:25:56</td>\n",
       "    </tr>\n",
       "  </tbody>\n",
       "</table>\n",
       "<p>491014 rows × 23 columns</p>\n",
       "</div>"
      ],
      "text/plain": [
       "                                                     F176  \\\n",
       "0       \\n342188.6926999996 266421.0840000007 342187.0...   \n",
       "1       \\n342243.5922999997 266395.6919 342245.5823999...   \n",
       "2       \\n342323.5614999998 266352.2387000006 342317.6...   \n",
       "3       \\n342285.3786000004 266370.8638000004 342308.5...   \n",
       "4       \\n342248.0356999999 266381.4956 342258.7434999...   \n",
       "...                                                   ...   \n",
       "133244  \\n201465.9699999997 418840.8379999995 201464.5...   \n",
       "133245  \\n201466.7759999996 418847.6870000009 201468.4...   \n",
       "133246  \\n201474.6550000003 418842.6950000003 201470.8...   \n",
       "133247  \\n201468.8779999996 418833.4110000003 201466.7...   \n",
       "133248  \\n201461.1239999998 418841.7709999997 201464.5...   \n",
       "\n",
       "                                                    SHAPE  \\\n",
       "0       342188.6926999996 266421.0840000007 342187.080...   \n",
       "1       342243.5922999997 266395.6919 342245.582399999...   \n",
       "2       342323.5614999998 266352.2387000006 342317.631...   \n",
       "3       342285.3786000004 266370.8638000004 342308.504...   \n",
       "4       342248.0356999999 266381.4956 342258.743499999...   \n",
       "...                                                   ...   \n",
       "133244  201465.9699999997 418840.8379999995 201464.519...   \n",
       "133245  201466.7759999996 418847.6870000009 201468.423...   \n",
       "133246  201474.6550000003 418842.6950000003 201470.855...   \n",
       "133247  201468.8779999996 418833.4110000003 201466.785...   \n",
       "133248  201461.1239999998 418841.7709999997 201464.519...   \n",
       "\n",
       "                                             MultiSurface  \\\n",
       "0       342188.6926999996 266421.0840000007 342187.080...   \n",
       "1       342243.5922999997 266395.6919 342245.582399999...   \n",
       "2       342323.5614999998 266352.2387000006 342317.631...   \n",
       "3       342285.3786000004 266370.8638000004 342308.504...   \n",
       "4       342248.0356999999 266381.4956 342258.743499999...   \n",
       "...                                                   ...   \n",
       "133244  201465.9699999997 418840.8379999995 201464.519...   \n",
       "133245  201466.7759999996 418847.6870000009 201468.423...   \n",
       "133246  201474.6550000003 418842.6950000003 201470.855...   \n",
       "133247  201468.8779999996 418833.4110000003 201466.785...   \n",
       "133248  201461.1239999998 418841.7709999997 201464.519...   \n",
       "\n",
       "                                            surfaceMember  \\\n",
       "0       342188.6926999996 266421.0840000007 342187.080...   \n",
       "1       342243.5922999997 266395.6919 342245.582399999...   \n",
       "2       342323.5614999998 266352.2387000006 342317.631...   \n",
       "3       342285.3786000004 266370.8638000004 342308.504...   \n",
       "4       342248.0356999999 266381.4956 342258.743499999...   \n",
       "...                                                   ...   \n",
       "133244  201465.9699999997 418840.8379999995 201464.519...   \n",
       "133245  201466.7759999996 418847.6870000009 201468.423...   \n",
       "133246  201474.6550000003 418842.6950000003 201470.855...   \n",
       "133247  201468.8779999996 418833.4110000003 201466.785...   \n",
       "133248  201461.1239999998 418841.7709999997 201464.519...   \n",
       "\n",
       "                                                  Polygon  \\\n",
       "0       342188.6926999996 266421.0840000007 342187.080...   \n",
       "1       342243.5922999997 266395.6919 342245.582399999...   \n",
       "2       342323.5614999998 266352.2387000006 342317.631...   \n",
       "3       342285.3786000004 266370.8638000004 342308.504...   \n",
       "4       342248.0356999999 266381.4956 342258.743499999...   \n",
       "...                                                   ...   \n",
       "133244  201465.9699999997 418840.8379999995 201464.519...   \n",
       "133245  201466.7759999996 418847.6870000009 201468.423...   \n",
       "133246  201474.6550000003 418842.6950000003 201470.855...   \n",
       "133247  201468.8779999996 418833.4110000003 201466.785...   \n",
       "133248  201461.1239999998 418841.7709999997 201464.519...   \n",
       "\n",
       "                                                 exterior  \\\n",
       "0       342188.6926999996 266421.0840000007 342187.080...   \n",
       "1       342243.5922999997 266395.6919 342245.582399999...   \n",
       "2       342323.5614999998 266352.2387000006 342317.631...   \n",
       "3       342285.3786000004 266370.8638000004 342308.504...   \n",
       "4       342248.0356999999 266381.4956 342258.743499999...   \n",
       "...                                                   ...   \n",
       "133244  201465.9699999997 418840.8379999995 201464.519...   \n",
       "133245  201466.7759999996 418847.6870000009 201468.423...   \n",
       "133246  201474.6550000003 418842.6950000003 201470.855...   \n",
       "133247  201468.8779999996 418833.4110000003 201466.785...   \n",
       "133248  201461.1239999998 418841.7709999997 201464.519...   \n",
       "\n",
       "                                               LinearRing  \\\n",
       "0       342188.6926999996 266421.0840000007 342187.080...   \n",
       "1       342243.5922999997 266395.6919 342245.582399999...   \n",
       "2       342323.5614999998 266352.2387000006 342317.631...   \n",
       "3       342285.3786000004 266370.8638000004 342308.504...   \n",
       "4       342248.0356999999 266381.4956 342258.743499999...   \n",
       "...                                                   ...   \n",
       "133244  201465.9699999997 418840.8379999995 201464.519...   \n",
       "133245  201466.7759999996 418847.6870000009 201468.423...   \n",
       "133246  201474.6550000003 418842.6950000003 201470.855...   \n",
       "133247  201468.8779999996 418833.4110000003 201466.785...   \n",
       "133248  201461.1239999998 418841.7709999997 201464.519...   \n",
       "\n",
       "                                                  posList  \\\n",
       "0       342188.6926999996 266421.0840000007 342187.080...   \n",
       "1       342243.5922999997 266395.6919 342245.582399999...   \n",
       "2       342323.5614999998 266352.2387000006 342317.631...   \n",
       "3       342285.3786000004 266370.8638000004 342308.504...   \n",
       "4       342248.0356999999 266381.4956 342258.743499999...   \n",
       "...                                                   ...   \n",
       "133244  201465.9699999997 418840.8379999995 201464.519...   \n",
       "133245  201466.7759999996 418847.6870000009 201468.423...   \n",
       "133246  201474.6550000003 418842.6950000003 201470.855...   \n",
       "133247  201468.8779999996 418833.4110000003 201466.785...   \n",
       "133248  201461.1239999998 418841.7709999997 201464.519...   \n",
       "\n",
       "                        PNU  LD_CPSG_CODE  ...  SLNO  LNM_LNDCGR_SMBOL  \\\n",
       "0       2717010900109680003         27170  ...     3            968-3도   \n",
       "1       2717010900109900004         27170  ...     4            990-4도   \n",
       "2       2717010900109900007         27170  ...     7            990-7대   \n",
       "3       2717010900109900010         27170  ...    10           990-10대   \n",
       "4       2717010900109900011         27170  ...    11           990-11대   \n",
       "...                     ...           ...  ...   ...               ...   \n",
       "133244  4111512600101040002         41115  ...     2            104-2철   \n",
       "133245  4111512600101040003         41115  ...     3            104-3철   \n",
       "133246  4111512600101050001         41115  ...     1            105-1대   \n",
       "133247  4111512600101050002         41115  ...     2            105-2도   \n",
       "133248  4111512600101050003         41115  ...     3            105-3도   \n",
       "\n",
       "        SRC_OBJECTID  SRC_LD_CPSG_CODE ISSU_CONFM_CODE  \\\n",
       "0             145700             27170               1   \n",
       "1             145543             27170               1   \n",
       "2             141173             27170               1   \n",
       "3             144839             27170               1   \n",
       "4             135156             27170               1   \n",
       "...              ...               ...             ...   \n",
       "133244        828392             41110               1   \n",
       "133245        828393             41110               1   \n",
       "133246        828581             41110               1   \n",
       "133247        828546             41110               1   \n",
       "133248        828582             41110               1   \n",
       "\n",
       "                        CNFLC_AT_LIST  \\\n",
       "0                           1,1,1,2,1   \n",
       "1                   1,1,1,2,2,2,3,2,2   \n",
       "2                         1,1,1,2,3,3   \n",
       "3                       1,1,1,2,3,3,3   \n",
       "4                       1,1,1,2,3,3,3   \n",
       "...                               ...   \n",
       "133244          1,1,1,1,1,1,1,1,3,1,1   \n",
       "133245        1,1,1,1,1,1,1,1,1,3,1,1   \n",
       "133246  1,2,1,1,2,1,1,2,2,2,1,1,2,1,1   \n",
       "133247    1,2,1,1,2,1,1,2,2,1,1,2,1,1   \n",
       "133248    1,2,1,1,2,1,1,2,2,1,1,2,1,1   \n",
       "\n",
       "                                    CNFLC_AT_NM_LIST  \\\n",
       "0                                     포함,포함,포함,저촉,포함   \n",
       "1                         포함,포함,포함,저촉,저촉,저촉,접함,저촉,저촉   \n",
       "2                                  포함,포함,포함,저촉,접함,접함   \n",
       "3                               포함,포함,포함,저촉,접함,접함,접함   \n",
       "4                               포함,포함,포함,저촉,접함,접함,접함   \n",
       "...                                              ...   \n",
       "133244              포함,포함,포함,포함,포함,포함,포함,포함,접함,포함,포함   \n",
       "133245           포함,포함,포함,포함,포함,포함,포함,포함,포함,접함,포함,포함   \n",
       "133246  포함,저촉,포함,포함,저촉,포함,포함,저촉,저촉,저촉,포함,포함,저촉,포함,포함   \n",
       "133247     포함,저촉,포함,포함,저촉,포함,포함,저촉,저촉,포함,포함,저촉,포함,포함   \n",
       "133248     포함,저촉,포함,포함,저촉,포함,포함,저촉,저촉,포함,포함,저촉,포함,포함   \n",
       "\n",
       "                               PRPOS_AREA_DSTRC_CODE_LIST  \\\n",
       "0                      UMZ100,UQA01X,UQA122,UQS520,UQT100   \n",
       "1       UMZ100,UQA01X,UQA122,UQF131,UQS115,UQS115,UQS1...   \n",
       "2               UMZ100,UQA01X,UQA230,UQF131,UQS115,UQS115   \n",
       "3        UMZ100,UQA01X,UQA230,UQF131,UQS115,UQS115,UQS121   \n",
       "4        UMZ100,UQA01X,UQA230,UQF131,UQS115,UQS115,UQS121   \n",
       "...                                                   ...   \n",
       "133244  UBA100,UMZ100,UNE416,UOF300,UQA001,UQA220,UQI1...   \n",
       "133245  UBA100,UMZ100,UNE416,UOF300,UQA001,UQA220,UQF1...   \n",
       "133246  UBA100,UJB100,UMZ100,UNE416,UOA120,UOF300,UQA0...   \n",
       "133247  UBA100,UJB100,UMZ100,UNE416,UOA120,UOF300,UQA0...   \n",
       "133248  UBA100,UJB100,UMZ100,UNE416,UOA120,UOF300,UQA0...   \n",
       "\n",
       "                                 PRPOS_AREA_DSTRC_NM_LIST       FRST_REGIST_DT  \n",
       "0                가축사육제한구역,도시지역,제2종일반주거지역,도시철도(3호선)(저촉),광장  2022-05-13T17:07:24  \n",
       "1       가축사육제한구역,도시지역,제2종일반주거지역,시가지경관지구(중심),대로2류(폭 30m...  2022-05-13T17:07:24  \n",
       "2       가축사육제한구역,도시지역,근린상업지역,시가지경관지구(중심),대로2류(폭 30m~35...  2022-05-13T17:07:24  \n",
       "3       가축사육제한구역,도시지역,근린상업지역,시가지경관지구(중심),대로2류(폭 30m~35...  2022-05-13T17:07:24  \n",
       "4       가축사육제한구역,도시지역,근린상업지역,시가지경관지구(중심),대로2류(폭 30m~35...  2022-05-13T17:07:24  \n",
       "...                                                   ...                  ...  \n",
       "133244  과밀억제권역,가축사육제한구역,비행안전제6구역(전술),관광특구,도시지역,일반상업지역,...  2022-05-13T17:25:56  \n",
       "133245  과밀억제권역,가축사육제한구역,비행안전제6구역(전술),관광특구,도시지역,일반상업지역,...  2022-05-13T17:25:56  \n",
       "133246  과밀억제권역,하천구역(수원천),가축사육제한구역,비행안전제6구역(전술),상대보호구역(...  2022-05-13T17:25:56  \n",
       "133247  과밀억제권역,하천구역(수원천),가축사육제한구역,비행안전제6구역(전술),상대보호구역(...  2022-05-13T17:25:56  \n",
       "133248  과밀억제권역,하천구역(수원천),가축사육제한구역,비행안전제6구역(전술),상대보호구역(...  2022-05-13T17:25:56  \n",
       "\n",
       "[491014 rows x 23 columns]"
      ]
     },
     "execution_count": 107,
     "metadata": {},
     "output_type": "execute_result"
    }
   ],
   "source": [
    "df3"
   ]
  },
  {
   "cell_type": "markdown",
   "id": "5b61c577-056e-438c-986a-419bf675420f",
   "metadata": {},
   "source": [
    "중복제거 후 개수 확인"
   ]
  },
  {
   "cell_type": "code",
   "execution_count": 110,
   "id": "c2e24612-4135-4c96-889b-6cf7568602ac",
   "metadata": {},
   "outputs": [],
   "source": [
    "df3 = df3.drop_duplicates('PNU')"
   ]
  },
  {
   "cell_type": "code",
   "execution_count": 111,
   "id": "8892dbd1-10c0-4ca8-9c66-68a3430aba42",
   "metadata": {},
   "outputs": [],
   "source": [
    "df3.to_csv('./0.LandUseWFS(~1153_220824).csv')"
   ]
  },
  {
   "cell_type": "code",
   "execution_count": 112,
   "id": "06c11d17-d17f-4072-a239-4783c303b65a",
   "metadata": {},
   "outputs": [
    {
     "name": "stderr",
     "output_type": "stream",
     "text": [
      "C:\\Users\\duPar\\AppData\\Local\\Temp\\ipykernel_11500\\967898638.py:1: DtypeWarning: Columns (18) have mixed types. Specify dtype option on import or set low_memory=False.\n",
      "  DF = pd.read_csv('./0.LandUseWFS(~1153_220824).csv')\n"
     ]
    },
    {
     "data": {
      "text/html": [
       "<div>\n",
       "<style scoped>\n",
       "    .dataframe tbody tr th:only-of-type {\n",
       "        vertical-align: middle;\n",
       "    }\n",
       "\n",
       "    .dataframe tbody tr th {\n",
       "        vertical-align: top;\n",
       "    }\n",
       "\n",
       "    .dataframe thead th {\n",
       "        text-align: right;\n",
       "    }\n",
       "</style>\n",
       "<table border=\"1\" class=\"dataframe\">\n",
       "  <thead>\n",
       "    <tr style=\"text-align: right;\">\n",
       "      <th></th>\n",
       "      <th>Unnamed: 0</th>\n",
       "      <th>F176</th>\n",
       "      <th>SHAPE</th>\n",
       "      <th>MultiSurface</th>\n",
       "      <th>surfaceMember</th>\n",
       "      <th>Polygon</th>\n",
       "      <th>exterior</th>\n",
       "      <th>LinearRing</th>\n",
       "      <th>posList</th>\n",
       "      <th>PNU</th>\n",
       "      <th>...</th>\n",
       "      <th>SLNO</th>\n",
       "      <th>LNM_LNDCGR_SMBOL</th>\n",
       "      <th>SRC_OBJECTID</th>\n",
       "      <th>SRC_LD_CPSG_CODE</th>\n",
       "      <th>ISSU_CONFM_CODE</th>\n",
       "      <th>CNFLC_AT_LIST</th>\n",
       "      <th>CNFLC_AT_NM_LIST</th>\n",
       "      <th>PRPOS_AREA_DSTRC_CODE_LIST</th>\n",
       "      <th>PRPOS_AREA_DSTRC_NM_LIST</th>\n",
       "      <th>FRST_REGIST_DT</th>\n",
       "    </tr>\n",
       "  </thead>\n",
       "  <tbody>\n",
       "    <tr>\n",
       "      <th>0</th>\n",
       "      <td>0</td>\n",
       "      <td>\\n342188.6926999996 266421.0840000007 342187.0...</td>\n",
       "      <td>342188.6926999996 266421.0840000007 342187.080...</td>\n",
       "      <td>342188.6926999996 266421.0840000007 342187.080...</td>\n",
       "      <td>342188.6926999996 266421.0840000007 342187.080...</td>\n",
       "      <td>342188.6926999996 266421.0840000007 342187.080...</td>\n",
       "      <td>342188.6926999996 266421.0840000007 342187.080...</td>\n",
       "      <td>342188.6926999996 266421.0840000007 342187.080...</td>\n",
       "      <td>342188.6926999996 266421.0840000007 342187.080...</td>\n",
       "      <td>2717010900109680003</td>\n",
       "      <td>...</td>\n",
       "      <td>3</td>\n",
       "      <td>968-3도</td>\n",
       "      <td>145700</td>\n",
       "      <td>27170</td>\n",
       "      <td>1</td>\n",
       "      <td>1,1,1,2,1</td>\n",
       "      <td>포함,포함,포함,저촉,포함</td>\n",
       "      <td>UMZ100,UQA01X,UQA122,UQS520,UQT100</td>\n",
       "      <td>가축사육제한구역,도시지역,제2종일반주거지역,도시철도(3호선)(저촉),광장</td>\n",
       "      <td>2022-05-13T17:07:24</td>\n",
       "    </tr>\n",
       "    <tr>\n",
       "      <th>1</th>\n",
       "      <td>1</td>\n",
       "      <td>\\n342243.5922999997 266395.6919 342245.5823999...</td>\n",
       "      <td>342243.5922999997 266395.6919 342245.582399999...</td>\n",
       "      <td>342243.5922999997 266395.6919 342245.582399999...</td>\n",
       "      <td>342243.5922999997 266395.6919 342245.582399999...</td>\n",
       "      <td>342243.5922999997 266395.6919 342245.582399999...</td>\n",
       "      <td>342243.5922999997 266395.6919 342245.582399999...</td>\n",
       "      <td>342243.5922999997 266395.6919 342245.582399999...</td>\n",
       "      <td>342243.5922999997 266395.6919 342245.582399999...</td>\n",
       "      <td>2717010900109900004</td>\n",
       "      <td>...</td>\n",
       "      <td>4</td>\n",
       "      <td>990-4도</td>\n",
       "      <td>145543</td>\n",
       "      <td>27170</td>\n",
       "      <td>1</td>\n",
       "      <td>1,1,1,2,2,2,3,2,2</td>\n",
       "      <td>포함,포함,포함,저촉,저촉,저촉,접함,저촉,저촉</td>\n",
       "      <td>UMZ100,UQA01X,UQA122,UQF131,UQS115,UQS115,UQS1...</td>\n",
       "      <td>가축사육제한구역,도시지역,제2종일반주거지역,시가지경관지구(중심),대로2류(폭 30m...</td>\n",
       "      <td>2022-05-13T17:07:24</td>\n",
       "    </tr>\n",
       "    <tr>\n",
       "      <th>2</th>\n",
       "      <td>2</td>\n",
       "      <td>\\n342323.5614999998 266352.2387000006 342317.6...</td>\n",
       "      <td>342323.5614999998 266352.2387000006 342317.631...</td>\n",
       "      <td>342323.5614999998 266352.2387000006 342317.631...</td>\n",
       "      <td>342323.5614999998 266352.2387000006 342317.631...</td>\n",
       "      <td>342323.5614999998 266352.2387000006 342317.631...</td>\n",
       "      <td>342323.5614999998 266352.2387000006 342317.631...</td>\n",
       "      <td>342323.5614999998 266352.2387000006 342317.631...</td>\n",
       "      <td>342323.5614999998 266352.2387000006 342317.631...</td>\n",
       "      <td>2717010900109900007</td>\n",
       "      <td>...</td>\n",
       "      <td>7</td>\n",
       "      <td>990-7대</td>\n",
       "      <td>141173</td>\n",
       "      <td>27170</td>\n",
       "      <td>1</td>\n",
       "      <td>1,1,1,2,3,3</td>\n",
       "      <td>포함,포함,포함,저촉,접함,접함</td>\n",
       "      <td>UMZ100,UQA01X,UQA230,UQF131,UQS115,UQS115</td>\n",
       "      <td>가축사육제한구역,도시지역,근린상업지역,시가지경관지구(중심),대로2류(폭 30m~35...</td>\n",
       "      <td>2022-05-13T17:07:24</td>\n",
       "    </tr>\n",
       "    <tr>\n",
       "      <th>3</th>\n",
       "      <td>3</td>\n",
       "      <td>\\n342285.3786000004 266370.8638000004 342308.5...</td>\n",
       "      <td>342285.3786000004 266370.8638000004 342308.504...</td>\n",
       "      <td>342285.3786000004 266370.8638000004 342308.504...</td>\n",
       "      <td>342285.3786000004 266370.8638000004 342308.504...</td>\n",
       "      <td>342285.3786000004 266370.8638000004 342308.504...</td>\n",
       "      <td>342285.3786000004 266370.8638000004 342308.504...</td>\n",
       "      <td>342285.3786000004 266370.8638000004 342308.504...</td>\n",
       "      <td>342285.3786000004 266370.8638000004 342308.504...</td>\n",
       "      <td>2717010900109900010</td>\n",
       "      <td>...</td>\n",
       "      <td>10</td>\n",
       "      <td>990-10대</td>\n",
       "      <td>144839</td>\n",
       "      <td>27170</td>\n",
       "      <td>1</td>\n",
       "      <td>1,1,1,2,3,3,3</td>\n",
       "      <td>포함,포함,포함,저촉,접함,접함,접함</td>\n",
       "      <td>UMZ100,UQA01X,UQA230,UQF131,UQS115,UQS115,UQS121</td>\n",
       "      <td>가축사육제한구역,도시지역,근린상업지역,시가지경관지구(중심),대로2류(폭 30m~35...</td>\n",
       "      <td>2022-05-13T17:07:24</td>\n",
       "    </tr>\n",
       "    <tr>\n",
       "      <th>4</th>\n",
       "      <td>4</td>\n",
       "      <td>\\n342248.0356999999 266381.4956 342258.7434999...</td>\n",
       "      <td>342248.0356999999 266381.4956 342258.743499999...</td>\n",
       "      <td>342248.0356999999 266381.4956 342258.743499999...</td>\n",
       "      <td>342248.0356999999 266381.4956 342258.743499999...</td>\n",
       "      <td>342248.0356999999 266381.4956 342258.743499999...</td>\n",
       "      <td>342248.0356999999 266381.4956 342258.743499999...</td>\n",
       "      <td>342248.0356999999 266381.4956 342258.743499999...</td>\n",
       "      <td>342248.0356999999 266381.4956 342258.743499999...</td>\n",
       "      <td>2717010900109900011</td>\n",
       "      <td>...</td>\n",
       "      <td>11</td>\n",
       "      <td>990-11대</td>\n",
       "      <td>135156</td>\n",
       "      <td>27170</td>\n",
       "      <td>1</td>\n",
       "      <td>1,1,1,2,3,3,3</td>\n",
       "      <td>포함,포함,포함,저촉,접함,접함,접함</td>\n",
       "      <td>UMZ100,UQA01X,UQA230,UQF131,UQS115,UQS115,UQS121</td>\n",
       "      <td>가축사육제한구역,도시지역,근린상업지역,시가지경관지구(중심),대로2류(폭 30m~35...</td>\n",
       "      <td>2022-05-13T17:07:24</td>\n",
       "    </tr>\n",
       "    <tr>\n",
       "      <th>...</th>\n",
       "      <td>...</td>\n",
       "      <td>...</td>\n",
       "      <td>...</td>\n",
       "      <td>...</td>\n",
       "      <td>...</td>\n",
       "      <td>...</td>\n",
       "      <td>...</td>\n",
       "      <td>...</td>\n",
       "      <td>...</td>\n",
       "      <td>...</td>\n",
       "      <td>...</td>\n",
       "      <td>...</td>\n",
       "      <td>...</td>\n",
       "      <td>...</td>\n",
       "      <td>...</td>\n",
       "      <td>...</td>\n",
       "      <td>...</td>\n",
       "      <td>...</td>\n",
       "      <td>...</td>\n",
       "      <td>...</td>\n",
       "      <td>...</td>\n",
       "    </tr>\n",
       "    <tr>\n",
       "      <th>490885</th>\n",
       "      <td>133244</td>\n",
       "      <td>\\n201465.9699999997 418840.8379999995 201464.5...</td>\n",
       "      <td>201465.9699999997 418840.8379999995 201464.519...</td>\n",
       "      <td>201465.9699999997 418840.8379999995 201464.519...</td>\n",
       "      <td>201465.9699999997 418840.8379999995 201464.519...</td>\n",
       "      <td>201465.9699999997 418840.8379999995 201464.519...</td>\n",
       "      <td>201465.9699999997 418840.8379999995 201464.519...</td>\n",
       "      <td>201465.9699999997 418840.8379999995 201464.519...</td>\n",
       "      <td>201465.9699999997 418840.8379999995 201464.519...</td>\n",
       "      <td>4111512600101040002</td>\n",
       "      <td>...</td>\n",
       "      <td>2</td>\n",
       "      <td>104-2철</td>\n",
       "      <td>828392</td>\n",
       "      <td>41110</td>\n",
       "      <td>1</td>\n",
       "      <td>1,1,1,1,1,1,1,1,3,1,1</td>\n",
       "      <td>포함,포함,포함,포함,포함,포함,포함,포함,접함,포함,포함</td>\n",
       "      <td>UBA100,UMZ100,UNE416,UOF300,UQA001,UQA220,UQI1...</td>\n",
       "      <td>과밀억제권역,가축사육제한구역,비행안전제6구역(전술),관광특구,도시지역,일반상업지역,...</td>\n",
       "      <td>2022-05-13T17:25:56</td>\n",
       "    </tr>\n",
       "    <tr>\n",
       "      <th>490886</th>\n",
       "      <td>133245</td>\n",
       "      <td>\\n201466.7759999996 418847.6870000009 201468.4...</td>\n",
       "      <td>201466.7759999996 418847.6870000009 201468.423...</td>\n",
       "      <td>201466.7759999996 418847.6870000009 201468.423...</td>\n",
       "      <td>201466.7759999996 418847.6870000009 201468.423...</td>\n",
       "      <td>201466.7759999996 418847.6870000009 201468.423...</td>\n",
       "      <td>201466.7759999996 418847.6870000009 201468.423...</td>\n",
       "      <td>201466.7759999996 418847.6870000009 201468.423...</td>\n",
       "      <td>201466.7759999996 418847.6870000009 201468.423...</td>\n",
       "      <td>4111512600101040003</td>\n",
       "      <td>...</td>\n",
       "      <td>3</td>\n",
       "      <td>104-3철</td>\n",
       "      <td>828393</td>\n",
       "      <td>41110</td>\n",
       "      <td>1</td>\n",
       "      <td>1,1,1,1,1,1,1,1,1,3,1,1</td>\n",
       "      <td>포함,포함,포함,포함,포함,포함,포함,포함,포함,접함,포함,포함</td>\n",
       "      <td>UBA100,UMZ100,UNE416,UOF300,UQA001,UQA220,UQF1...</td>\n",
       "      <td>과밀억제권역,가축사육제한구역,비행안전제6구역(전술),관광특구,도시지역,일반상업지역,...</td>\n",
       "      <td>2022-05-13T17:25:56</td>\n",
       "    </tr>\n",
       "    <tr>\n",
       "      <th>490887</th>\n",
       "      <td>133246</td>\n",
       "      <td>\\n201474.6550000003 418842.6950000003 201470.8...</td>\n",
       "      <td>201474.6550000003 418842.6950000003 201470.855...</td>\n",
       "      <td>201474.6550000003 418842.6950000003 201470.855...</td>\n",
       "      <td>201474.6550000003 418842.6950000003 201470.855...</td>\n",
       "      <td>201474.6550000003 418842.6950000003 201470.855...</td>\n",
       "      <td>201474.6550000003 418842.6950000003 201470.855...</td>\n",
       "      <td>201474.6550000003 418842.6950000003 201470.855...</td>\n",
       "      <td>201474.6550000003 418842.6950000003 201470.855...</td>\n",
       "      <td>4111512600101050001</td>\n",
       "      <td>...</td>\n",
       "      <td>1</td>\n",
       "      <td>105-1대</td>\n",
       "      <td>828581</td>\n",
       "      <td>41110</td>\n",
       "      <td>1</td>\n",
       "      <td>1,2,1,1,2,1,1,2,2,2,1,1,2,1,1</td>\n",
       "      <td>포함,저촉,포함,포함,저촉,포함,포함,저촉,저촉,저촉,포함,포함,저촉,포함,포함</td>\n",
       "      <td>UBA100,UJB100,UMZ100,UNE416,UOA120,UOF300,UQA0...</td>\n",
       "      <td>과밀억제권역,하천구역(수원천),가축사육제한구역,비행안전제6구역(전술),상대보호구역(...</td>\n",
       "      <td>2022-05-13T17:25:56</td>\n",
       "    </tr>\n",
       "    <tr>\n",
       "      <th>490888</th>\n",
       "      <td>133247</td>\n",
       "      <td>\\n201468.8779999996 418833.4110000003 201466.7...</td>\n",
       "      <td>201468.8779999996 418833.4110000003 201466.785...</td>\n",
       "      <td>201468.8779999996 418833.4110000003 201466.785...</td>\n",
       "      <td>201468.8779999996 418833.4110000003 201466.785...</td>\n",
       "      <td>201468.8779999996 418833.4110000003 201466.785...</td>\n",
       "      <td>201468.8779999996 418833.4110000003 201466.785...</td>\n",
       "      <td>201468.8779999996 418833.4110000003 201466.785...</td>\n",
       "      <td>201468.8779999996 418833.4110000003 201466.785...</td>\n",
       "      <td>4111512600101050002</td>\n",
       "      <td>...</td>\n",
       "      <td>2</td>\n",
       "      <td>105-2도</td>\n",
       "      <td>828546</td>\n",
       "      <td>41110</td>\n",
       "      <td>1</td>\n",
       "      <td>1,2,1,1,2,1,1,2,2,1,1,2,1,1</td>\n",
       "      <td>포함,저촉,포함,포함,저촉,포함,포함,저촉,저촉,포함,포함,저촉,포함,포함</td>\n",
       "      <td>UBA100,UJB100,UMZ100,UNE416,UOA120,UOF300,UQA0...</td>\n",
       "      <td>과밀억제권역,하천구역(수원천),가축사육제한구역,비행안전제6구역(전술),상대보호구역(...</td>\n",
       "      <td>2022-05-13T17:25:56</td>\n",
       "    </tr>\n",
       "    <tr>\n",
       "      <th>490889</th>\n",
       "      <td>133248</td>\n",
       "      <td>\\n201461.1239999998 418841.7709999997 201464.5...</td>\n",
       "      <td>201461.1239999998 418841.7709999997 201464.519...</td>\n",
       "      <td>201461.1239999998 418841.7709999997 201464.519...</td>\n",
       "      <td>201461.1239999998 418841.7709999997 201464.519...</td>\n",
       "      <td>201461.1239999998 418841.7709999997 201464.519...</td>\n",
       "      <td>201461.1239999998 418841.7709999997 201464.519...</td>\n",
       "      <td>201461.1239999998 418841.7709999997 201464.519...</td>\n",
       "      <td>201461.1239999998 418841.7709999997 201464.519...</td>\n",
       "      <td>4111512600101050003</td>\n",
       "      <td>...</td>\n",
       "      <td>3</td>\n",
       "      <td>105-3도</td>\n",
       "      <td>828582</td>\n",
       "      <td>41110</td>\n",
       "      <td>1</td>\n",
       "      <td>1,2,1,1,2,1,1,2,2,1,1,2,1,1</td>\n",
       "      <td>포함,저촉,포함,포함,저촉,포함,포함,저촉,저촉,포함,포함,저촉,포함,포함</td>\n",
       "      <td>UBA100,UJB100,UMZ100,UNE416,UOA120,UOF300,UQA0...</td>\n",
       "      <td>과밀억제권역,하천구역(수원천),가축사육제한구역,비행안전제6구역(전술),상대보호구역(...</td>\n",
       "      <td>2022-05-13T17:25:56</td>\n",
       "    </tr>\n",
       "  </tbody>\n",
       "</table>\n",
       "<p>490890 rows × 24 columns</p>\n",
       "</div>"
      ],
      "text/plain": [
       "        Unnamed: 0                                               F176  \\\n",
       "0                0  \\n342188.6926999996 266421.0840000007 342187.0...   \n",
       "1                1  \\n342243.5922999997 266395.6919 342245.5823999...   \n",
       "2                2  \\n342323.5614999998 266352.2387000006 342317.6...   \n",
       "3                3  \\n342285.3786000004 266370.8638000004 342308.5...   \n",
       "4                4  \\n342248.0356999999 266381.4956 342258.7434999...   \n",
       "...            ...                                                ...   \n",
       "490885      133244  \\n201465.9699999997 418840.8379999995 201464.5...   \n",
       "490886      133245  \\n201466.7759999996 418847.6870000009 201468.4...   \n",
       "490887      133246  \\n201474.6550000003 418842.6950000003 201470.8...   \n",
       "490888      133247  \\n201468.8779999996 418833.4110000003 201466.7...   \n",
       "490889      133248  \\n201461.1239999998 418841.7709999997 201464.5...   \n",
       "\n",
       "                                                    SHAPE  \\\n",
       "0       342188.6926999996 266421.0840000007 342187.080...   \n",
       "1       342243.5922999997 266395.6919 342245.582399999...   \n",
       "2       342323.5614999998 266352.2387000006 342317.631...   \n",
       "3       342285.3786000004 266370.8638000004 342308.504...   \n",
       "4       342248.0356999999 266381.4956 342258.743499999...   \n",
       "...                                                   ...   \n",
       "490885  201465.9699999997 418840.8379999995 201464.519...   \n",
       "490886  201466.7759999996 418847.6870000009 201468.423...   \n",
       "490887  201474.6550000003 418842.6950000003 201470.855...   \n",
       "490888  201468.8779999996 418833.4110000003 201466.785...   \n",
       "490889  201461.1239999998 418841.7709999997 201464.519...   \n",
       "\n",
       "                                             MultiSurface  \\\n",
       "0       342188.6926999996 266421.0840000007 342187.080...   \n",
       "1       342243.5922999997 266395.6919 342245.582399999...   \n",
       "2       342323.5614999998 266352.2387000006 342317.631...   \n",
       "3       342285.3786000004 266370.8638000004 342308.504...   \n",
       "4       342248.0356999999 266381.4956 342258.743499999...   \n",
       "...                                                   ...   \n",
       "490885  201465.9699999997 418840.8379999995 201464.519...   \n",
       "490886  201466.7759999996 418847.6870000009 201468.423...   \n",
       "490887  201474.6550000003 418842.6950000003 201470.855...   \n",
       "490888  201468.8779999996 418833.4110000003 201466.785...   \n",
       "490889  201461.1239999998 418841.7709999997 201464.519...   \n",
       "\n",
       "                                            surfaceMember  \\\n",
       "0       342188.6926999996 266421.0840000007 342187.080...   \n",
       "1       342243.5922999997 266395.6919 342245.582399999...   \n",
       "2       342323.5614999998 266352.2387000006 342317.631...   \n",
       "3       342285.3786000004 266370.8638000004 342308.504...   \n",
       "4       342248.0356999999 266381.4956 342258.743499999...   \n",
       "...                                                   ...   \n",
       "490885  201465.9699999997 418840.8379999995 201464.519...   \n",
       "490886  201466.7759999996 418847.6870000009 201468.423...   \n",
       "490887  201474.6550000003 418842.6950000003 201470.855...   \n",
       "490888  201468.8779999996 418833.4110000003 201466.785...   \n",
       "490889  201461.1239999998 418841.7709999997 201464.519...   \n",
       "\n",
       "                                                  Polygon  \\\n",
       "0       342188.6926999996 266421.0840000007 342187.080...   \n",
       "1       342243.5922999997 266395.6919 342245.582399999...   \n",
       "2       342323.5614999998 266352.2387000006 342317.631...   \n",
       "3       342285.3786000004 266370.8638000004 342308.504...   \n",
       "4       342248.0356999999 266381.4956 342258.743499999...   \n",
       "...                                                   ...   \n",
       "490885  201465.9699999997 418840.8379999995 201464.519...   \n",
       "490886  201466.7759999996 418847.6870000009 201468.423...   \n",
       "490887  201474.6550000003 418842.6950000003 201470.855...   \n",
       "490888  201468.8779999996 418833.4110000003 201466.785...   \n",
       "490889  201461.1239999998 418841.7709999997 201464.519...   \n",
       "\n",
       "                                                 exterior  \\\n",
       "0       342188.6926999996 266421.0840000007 342187.080...   \n",
       "1       342243.5922999997 266395.6919 342245.582399999...   \n",
       "2       342323.5614999998 266352.2387000006 342317.631...   \n",
       "3       342285.3786000004 266370.8638000004 342308.504...   \n",
       "4       342248.0356999999 266381.4956 342258.743499999...   \n",
       "...                                                   ...   \n",
       "490885  201465.9699999997 418840.8379999995 201464.519...   \n",
       "490886  201466.7759999996 418847.6870000009 201468.423...   \n",
       "490887  201474.6550000003 418842.6950000003 201470.855...   \n",
       "490888  201468.8779999996 418833.4110000003 201466.785...   \n",
       "490889  201461.1239999998 418841.7709999997 201464.519...   \n",
       "\n",
       "                                               LinearRing  \\\n",
       "0       342188.6926999996 266421.0840000007 342187.080...   \n",
       "1       342243.5922999997 266395.6919 342245.582399999...   \n",
       "2       342323.5614999998 266352.2387000006 342317.631...   \n",
       "3       342285.3786000004 266370.8638000004 342308.504...   \n",
       "4       342248.0356999999 266381.4956 342258.743499999...   \n",
       "...                                                   ...   \n",
       "490885  201465.9699999997 418840.8379999995 201464.519...   \n",
       "490886  201466.7759999996 418847.6870000009 201468.423...   \n",
       "490887  201474.6550000003 418842.6950000003 201470.855...   \n",
       "490888  201468.8779999996 418833.4110000003 201466.785...   \n",
       "490889  201461.1239999998 418841.7709999997 201464.519...   \n",
       "\n",
       "                                                  posList  \\\n",
       "0       342188.6926999996 266421.0840000007 342187.080...   \n",
       "1       342243.5922999997 266395.6919 342245.582399999...   \n",
       "2       342323.5614999998 266352.2387000006 342317.631...   \n",
       "3       342285.3786000004 266370.8638000004 342308.504...   \n",
       "4       342248.0356999999 266381.4956 342258.743499999...   \n",
       "...                                                   ...   \n",
       "490885  201465.9699999997 418840.8379999995 201464.519...   \n",
       "490886  201466.7759999996 418847.6870000009 201468.423...   \n",
       "490887  201474.6550000003 418842.6950000003 201470.855...   \n",
       "490888  201468.8779999996 418833.4110000003 201466.785...   \n",
       "490889  201461.1239999998 418841.7709999997 201464.519...   \n",
       "\n",
       "                        PNU  ...  SLNO  LNM_LNDCGR_SMBOL  SRC_OBJECTID  \\\n",
       "0       2717010900109680003  ...     3            968-3도        145700   \n",
       "1       2717010900109900004  ...     4            990-4도        145543   \n",
       "2       2717010900109900007  ...     7            990-7대        141173   \n",
       "3       2717010900109900010  ...    10           990-10대        144839   \n",
       "4       2717010900109900011  ...    11           990-11대        135156   \n",
       "...                     ...  ...   ...               ...           ...   \n",
       "490885  4111512600101040002  ...     2            104-2철        828392   \n",
       "490886  4111512600101040003  ...     3            104-3철        828393   \n",
       "490887  4111512600101050001  ...     1            105-1대        828581   \n",
       "490888  4111512600101050002  ...     2            105-2도        828546   \n",
       "490889  4111512600101050003  ...     3            105-3도        828582   \n",
       "\n",
       "        SRC_LD_CPSG_CODE  ISSU_CONFM_CODE                  CNFLC_AT_LIST  \\\n",
       "0                  27170                1                      1,1,1,2,1   \n",
       "1                  27170                1              1,1,1,2,2,2,3,2,2   \n",
       "2                  27170                1                    1,1,1,2,3,3   \n",
       "3                  27170                1                  1,1,1,2,3,3,3   \n",
       "4                  27170                1                  1,1,1,2,3,3,3   \n",
       "...                  ...              ...                            ...   \n",
       "490885             41110                1          1,1,1,1,1,1,1,1,3,1,1   \n",
       "490886             41110                1        1,1,1,1,1,1,1,1,1,3,1,1   \n",
       "490887             41110                1  1,2,1,1,2,1,1,2,2,2,1,1,2,1,1   \n",
       "490888             41110                1    1,2,1,1,2,1,1,2,2,1,1,2,1,1   \n",
       "490889             41110                1    1,2,1,1,2,1,1,2,2,1,1,2,1,1   \n",
       "\n",
       "                                    CNFLC_AT_NM_LIST  \\\n",
       "0                                     포함,포함,포함,저촉,포함   \n",
       "1                         포함,포함,포함,저촉,저촉,저촉,접함,저촉,저촉   \n",
       "2                                  포함,포함,포함,저촉,접함,접함   \n",
       "3                               포함,포함,포함,저촉,접함,접함,접함   \n",
       "4                               포함,포함,포함,저촉,접함,접함,접함   \n",
       "...                                              ...   \n",
       "490885              포함,포함,포함,포함,포함,포함,포함,포함,접함,포함,포함   \n",
       "490886           포함,포함,포함,포함,포함,포함,포함,포함,포함,접함,포함,포함   \n",
       "490887  포함,저촉,포함,포함,저촉,포함,포함,저촉,저촉,저촉,포함,포함,저촉,포함,포함   \n",
       "490888     포함,저촉,포함,포함,저촉,포함,포함,저촉,저촉,포함,포함,저촉,포함,포함   \n",
       "490889     포함,저촉,포함,포함,저촉,포함,포함,저촉,저촉,포함,포함,저촉,포함,포함   \n",
       "\n",
       "                               PRPOS_AREA_DSTRC_CODE_LIST  \\\n",
       "0                      UMZ100,UQA01X,UQA122,UQS520,UQT100   \n",
       "1       UMZ100,UQA01X,UQA122,UQF131,UQS115,UQS115,UQS1...   \n",
       "2               UMZ100,UQA01X,UQA230,UQF131,UQS115,UQS115   \n",
       "3        UMZ100,UQA01X,UQA230,UQF131,UQS115,UQS115,UQS121   \n",
       "4        UMZ100,UQA01X,UQA230,UQF131,UQS115,UQS115,UQS121   \n",
       "...                                                   ...   \n",
       "490885  UBA100,UMZ100,UNE416,UOF300,UQA001,UQA220,UQI1...   \n",
       "490886  UBA100,UMZ100,UNE416,UOF300,UQA001,UQA220,UQF1...   \n",
       "490887  UBA100,UJB100,UMZ100,UNE416,UOA120,UOF300,UQA0...   \n",
       "490888  UBA100,UJB100,UMZ100,UNE416,UOA120,UOF300,UQA0...   \n",
       "490889  UBA100,UJB100,UMZ100,UNE416,UOA120,UOF300,UQA0...   \n",
       "\n",
       "                                 PRPOS_AREA_DSTRC_NM_LIST       FRST_REGIST_DT  \n",
       "0                가축사육제한구역,도시지역,제2종일반주거지역,도시철도(3호선)(저촉),광장  2022-05-13T17:07:24  \n",
       "1       가축사육제한구역,도시지역,제2종일반주거지역,시가지경관지구(중심),대로2류(폭 30m...  2022-05-13T17:07:24  \n",
       "2       가축사육제한구역,도시지역,근린상업지역,시가지경관지구(중심),대로2류(폭 30m~35...  2022-05-13T17:07:24  \n",
       "3       가축사육제한구역,도시지역,근린상업지역,시가지경관지구(중심),대로2류(폭 30m~35...  2022-05-13T17:07:24  \n",
       "4       가축사육제한구역,도시지역,근린상업지역,시가지경관지구(중심),대로2류(폭 30m~35...  2022-05-13T17:07:24  \n",
       "...                                                   ...                  ...  \n",
       "490885  과밀억제권역,가축사육제한구역,비행안전제6구역(전술),관광특구,도시지역,일반상업지역,...  2022-05-13T17:25:56  \n",
       "490886  과밀억제권역,가축사육제한구역,비행안전제6구역(전술),관광특구,도시지역,일반상업지역,...  2022-05-13T17:25:56  \n",
       "490887  과밀억제권역,하천구역(수원천),가축사육제한구역,비행안전제6구역(전술),상대보호구역(...  2022-05-13T17:25:56  \n",
       "490888  과밀억제권역,하천구역(수원천),가축사육제한구역,비행안전제6구역(전술),상대보호구역(...  2022-05-13T17:25:56  \n",
       "490889  과밀억제권역,하천구역(수원천),가축사육제한구역,비행안전제6구역(전술),상대보호구역(...  2022-05-13T17:25:56  \n",
       "\n",
       "[490890 rows x 24 columns]"
      ]
     },
     "execution_count": 112,
     "metadata": {},
     "output_type": "execute_result"
    }
   ],
   "source": [
    "DF = pd.read_csv('./0.LandUseWFS(~1153_220824).csv')\n",
    "DF"
   ]
  },
  {
   "cell_type": "code",
   "execution_count": 119,
   "id": "c34567f9-b343-43fe-8860-9ec0dd22a28f",
   "metadata": {},
   "outputs": [
    {
     "data": {
      "text/plain": [
       "30110113    500\n",
       "26710250    500\n",
       "27230116    500\n",
       "27230115    500\n",
       "27230114    500\n",
       "           ... \n",
       "28110107     14\n",
       "28110113     12\n",
       "28110108     10\n",
       "28110117      8\n",
       "29000000      4\n",
       "Name: PNU, Length: 1091, dtype: int64"
      ]
     },
     "execution_count": 119,
     "metadata": {},
     "output_type": "execute_result"
    }
   ],
   "source": [
    "DF['PNU'].astype(str).str[:8].value_counts()"
   ]
  }
 ],
 "metadata": {
  "kernelspec": {
   "display_name": "oasis",
   "language": "python",
   "name": "oasis"
  },
  "language_info": {
   "codemirror_mode": {
    "name": "ipython",
    "version": 3
   },
   "file_extension": ".py",
   "mimetype": "text/x-python",
   "name": "python",
   "nbconvert_exporter": "python",
   "pygments_lexer": "ipython3",
   "version": "3.8.13"
  }
 },
 "nbformat": 4,
 "nbformat_minor": 5
}
