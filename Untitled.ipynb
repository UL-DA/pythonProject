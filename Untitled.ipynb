{
 "cells": [
  {
   "cell_type": "code",
   "execution_count": 1,
   "id": "05694981-68e7-42f5-a55c-482c04b31e9d",
   "metadata": {},
   "outputs": [],
   "source": [
    "import pandas as pd"
   ]
  },
  {
   "cell_type": "code",
   "execution_count": null,
   "id": "5e774274-fe4b-4c43-abf9-f0b012e0af41",
   "metadata": {},
   "outputs": [],
   "source": [
    "# MemoryError: Unable to allocate 33.5 GiB for an array with shape (2, 2245309875) and data type object"
   ]
  },
  {
   "cell_type": "code",
   "execution_count": 54,
   "id": "b2c539fe-f6d5-45e1-b478-f24857500d18",
   "metadata": {},
   "outputs": [],
   "source": [
    "df = pd.read_csv('./KT_data/dp_bldg_basexy_ftc_m_txn_202206.csv', sep='|', chunksize=100)"
   ]
  },
  {
   "cell_type": "code",
   "execution_count": 55,
   "id": "828a3c2d-3587-4f4a-8e7a-0ca5589a51fc",
   "metadata": {
    "collapsed": true,
    "jupyter": {
     "outputs_hidden": true
    },
    "tags": []
   },
   "outputs": [
    {
     "name": "stderr",
     "output_type": "stream",
     "text": [
      "\n",
      "KeyboardInterrupt\n",
      "\n"
     ]
    }
   ],
   "source": [
    "chunk = list(df)"
   ]
  },
  {
   "cell_type": "code",
   "execution_count": null,
   "id": "3bf7e15d-78cd-4506-99f2-dfda731bd1d4",
   "metadata": {},
   "outputs": [],
   "source": [
    "for df in chunk :\n",
    "    display(df.head(3))"
   ]
  },
  {
   "cell_type": "code",
   "execution_count": null,
   "id": "72315fdb-6554-4346-99f1-9774e03c3f52",
   "metadata": {},
   "outputs": [],
   "source": [
    "df = pd.concat(chunk)"
   ]
  },
  {
   "cell_type": "code",
   "execution_count": null,
   "id": "d1bc6a75-943e-4c8a-90af-614e7ce50bda",
   "metadata": {},
   "outputs": [],
   "source": [
    "def get_from_action_data(fname, chunk_size=100000):\n",
    "    reader = pd.read_csv(fname, header=0, iterator=True)\n",
    "    chunks = []\n",
    "    loop = True\n",
    "    while loop:\n",
    "        try:\n",
    "            chunk = reader.get_chunk(chunk_size)[[\"user_id\", \"type\"]]\n",
    "            chunks.append(chunk)\n",
    "        except StopIteration:\n",
    "            loop = False\n",
    "            print(\"Iteration is stopped\")\n",
    "\n",
    "    df_ac = pd.concat(chunks, ignore_index=True)"
   ]
  }
 ],
 "metadata": {
  "kernelspec": {
   "display_name": "oasis",
   "language": "python",
   "name": "oasis"
  },
  "language_info": {
   "codemirror_mode": {
    "name": "ipython",
    "version": 3
   },
   "file_extension": ".py",
   "mimetype": "text/x-python",
   "name": "python",
   "nbconvert_exporter": "python",
   "pygments_lexer": "ipython3",
   "version": "3.8.13"
  }
 },
 "nbformat": 4,
 "nbformat_minor": 5
}
