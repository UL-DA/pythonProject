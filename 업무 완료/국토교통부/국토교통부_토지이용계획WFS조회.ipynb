{
 "cells": [
  {
   "cell_type": "code",
   "execution_count": 1,
   "id": "69a44c91-ce72-4824-933f-1bcc31efca5a",
   "metadata": {},
   "outputs": [],
   "source": [
    "# 데이터 프레임 관련\n",
    "import numpy  as np\n",
    "import pandas as pd\n",
    "\n",
    "# XML 관련\n",
    "import bs4\n",
    "from os import name\n",
    "\n",
    "# API 호출 관련\n",
    "import json\n",
    "import requests\n",
    "\n",
    "# 기타\n",
    "import time\n",
    "from tqdm import tqdm\n",
    "\n",
    "# db connect\n",
    "import psycopg2"
   ]
  },
  {
   "cell_type": "code",
   "execution_count": 2,
   "id": "75c755a0-e0c9-4661-a7bc-951dca673d93",
   "metadata": {},
   "outputs": [],
   "source": [
    "lawd_cd_unique = []\n",
    "for i in range(1, 22):\n",
    "    \n",
    "    url = 'http://apis.data.go.kr/1741000/StanReginCd/getStanReginCdList'\n",
    "    serviceKey = 'C94PKnigawlH2iISVWz1Itw9tVzyuOCbOvKgzCrGOUZWvs3XqrkhH+/ntypJ7kK2P2g16vLYCJif3TNfO1i1KA=='\n",
    "    params = {\n",
    "        'serviceKey' : serviceKey,\n",
    "        'pageNo' : str(i),\n",
    "        'numOfRows' : '1000',\n",
    "        'type' : 'json'\n",
    "    }\n",
    "    response = requests.get(url, params=params)\n",
    "    content = response.text\n",
    "    \n",
    "    # Json List 변환\n",
    "    lawd_cd_df = pd.DataFrame(pd.json_normalize(data = json.loads(content), record_path = 'StanReginCd')['row'][1])\n",
    "    lawd_cd_list = list(lawd_cd_df['locatjumin_cd'].str[:8])\n",
    "    \n",
    "    # 시군구코드 unique하게 남기기\n",
    "    for x in lawd_cd_list:\n",
    "        if x not in lawd_cd_unique:\n",
    "            lawd_cd_unique.append(x)\n"
   ]
  },
  {
   "cell_type": "code",
   "execution_count": 28,
   "id": "49419662-8899-4334-b579-4ca00bc5015d",
   "metadata": {
    "collapsed": true,
    "jupyter": {
     "outputs_hidden": true
    },
    "tags": []
   },
   "outputs": [
    {
     "name": "stderr",
     "output_type": "stream",
     "text": [
      "  0%|                                                                                         | 0/4478 [00:00<?, ?it/s]C:\\Users\\duPar\\Anaconda3\\envs\\oasis\\lib\\site-packages\\pandas\\core\\internals\\construction.py:576: VisibleDeprecationWarning: Creating an ndarray from ragged nested sequences (which is a list-or-tuple of lists-or-tuples-or ndarrays with different lengths or shapes) is deprecated. If you meant to do this, you must specify 'dtype=object' when creating the ndarray.\n",
      "  values = np.array([convert(v) for v in values])\n"
     ]
    },
    {
     "name": "stdout",
     "output_type": "stream",
     "text": [
      "84\n"
     ]
    },
    {
     "name": "stderr",
     "output_type": "stream",
     "text": [
      "  0%|                                                                               | 1/4478 [00:02<2:36:18,  2.09s/it]C:\\Users\\duPar\\Anaconda3\\envs\\oasis\\lib\\site-packages\\pandas\\core\\internals\\construction.py:576: VisibleDeprecationWarning: Creating an ndarray from ragged nested sequences (which is a list-or-tuple of lists-or-tuples-or ndarrays with different lengths or shapes) is deprecated. If you meant to do this, you must specify 'dtype=object' when creating the ndarray.\n",
      "  values = np.array([convert(v) for v in values])\n",
      "  0%|                                                                               | 2/4478 [00:04<2:53:02,  2.32s/it]C:\\Users\\duPar\\Anaconda3\\envs\\oasis\\lib\\site-packages\\pandas\\core\\internals\\construction.py:576: VisibleDeprecationWarning: Creating an ndarray from ragged nested sequences (which is a list-or-tuple of lists-or-tuples-or ndarrays with different lengths or shapes) is deprecated. If you meant to do this, you must specify 'dtype=object' when creating the ndarray.\n",
      "  values = np.array([convert(v) for v in values])\n"
     ]
    },
    {
     "name": "stdout",
     "output_type": "stream",
     "text": [
      "144\n",
      "150\n",
      "164\n"
     ]
    },
    {
     "name": "stderr",
     "output_type": "stream",
     "text": [
      "  0%|                                                                               | 3/4478 [00:07<2:58:09,  2.39s/it]C:\\Users\\duPar\\Anaconda3\\envs\\oasis\\lib\\site-packages\\pandas\\core\\internals\\construction.py:576: VisibleDeprecationWarning: Creating an ndarray from ragged nested sequences (which is a list-or-tuple of lists-or-tuples-or ndarrays with different lengths or shapes) is deprecated. If you meant to do this, you must specify 'dtype=object' when creating the ndarray.\n",
      "  values = np.array([convert(v) for v in values])\n",
      "  0%|                                                                               | 4/4478 [00:09<3:11:30,  2.57s/it]C:\\Users\\duPar\\Anaconda3\\envs\\oasis\\lib\\site-packages\\pandas\\core\\internals\\construction.py:576: VisibleDeprecationWarning: Creating an ndarray from ragged nested sequences (which is a list-or-tuple of lists-or-tuples-or ndarrays with different lengths or shapes) is deprecated. If you meant to do this, you must specify 'dtype=object' when creating the ndarray.\n",
      "  values = np.array([convert(v) for v in values])\n",
      "  0%|                                                                               | 5/4478 [00:12<3:21:36,  2.70s/it]C:\\Users\\duPar\\Anaconda3\\envs\\oasis\\lib\\site-packages\\pandas\\core\\internals\\construction.py:576: VisibleDeprecationWarning: Creating an ndarray from ragged nested sequences (which is a list-or-tuple of lists-or-tuples-or ndarrays with different lengths or shapes) is deprecated. If you meant to do this, you must specify 'dtype=object' when creating the ndarray.\n",
      "  values = np.array([convert(v) for v in values])\n",
      "  0%|                                                                               | 6/4478 [00:15<3:28:03,  2.79s/it]"
     ]
    },
    {
     "name": "stdout",
     "output_type": "stream",
     "text": [
      "443\n"
     ]
    },
    {
     "name": "stderr",
     "output_type": "stream",
     "text": [
      "  0%|                                                                               | 7/4478 [00:16<2:33:53,  2.07s/it]C:\\Users\\duPar\\Anaconda3\\envs\\oasis\\lib\\site-packages\\pandas\\core\\internals\\construction.py:576: VisibleDeprecationWarning: Creating an ndarray from ragged nested sequences (which is a list-or-tuple of lists-or-tuples-or ndarrays with different lengths or shapes) is deprecated. If you meant to do this, you must specify 'dtype=object' when creating the ndarray.\n",
      "  values = np.array([convert(v) for v in values])\n"
     ]
    },
    {
     "name": "stdout",
     "output_type": "stream",
     "text": [
      "68\n"
     ]
    },
    {
     "name": "stderr",
     "output_type": "stream",
     "text": [
      "  0%|▏                                                                              | 8/4478 [00:19<3:00:03,  2.42s/it]C:\\Users\\duPar\\Anaconda3\\envs\\oasis\\lib\\site-packages\\pandas\\core\\internals\\construction.py:576: VisibleDeprecationWarning: Creating an ndarray from ragged nested sequences (which is a list-or-tuple of lists-or-tuples-or ndarrays with different lengths or shapes) is deprecated. If you meant to do this, you must specify 'dtype=object' when creating the ndarray.\n",
      "  values = np.array([convert(v) for v in values])\n",
      "  0%|▏                                                                              | 9/4478 [00:23<3:24:39,  2.75s/it]C:\\Users\\duPar\\Anaconda3\\envs\\oasis\\lib\\site-packages\\pandas\\core\\internals\\construction.py:576: VisibleDeprecationWarning: Creating an ndarray from ragged nested sequences (which is a list-or-tuple of lists-or-tuples-or ndarrays with different lengths or shapes) is deprecated. If you meant to do this, you must specify 'dtype=object' when creating the ndarray.\n",
      "  values = np.array([convert(v) for v in values])\n"
     ]
    },
    {
     "name": "stdout",
     "output_type": "stream",
     "text": [
      "301\n"
     ]
    },
    {
     "name": "stderr",
     "output_type": "stream",
     "text": [
      "  0%|▏                                                                             | 10/4478 [00:26<3:42:31,  2.99s/it]C:\\Users\\duPar\\Anaconda3\\envs\\oasis\\lib\\site-packages\\pandas\\core\\internals\\construction.py:576: VisibleDeprecationWarning: Creating an ndarray from ragged nested sequences (which is a list-or-tuple of lists-or-tuples-or ndarrays with different lengths or shapes) is deprecated. If you meant to do this, you must specify 'dtype=object' when creating the ndarray.\n",
      "  values = np.array([convert(v) for v in values])\n"
     ]
    },
    {
     "name": "stdout",
     "output_type": "stream",
     "text": [
      "34\n"
     ]
    },
    {
     "name": "stderr",
     "output_type": "stream",
     "text": [
      "  0%|▏                                                                             | 11/4478 [00:30<3:56:50,  3.18s/it]C:\\Users\\duPar\\Anaconda3\\envs\\oasis\\lib\\site-packages\\pandas\\core\\internals\\construction.py:576: VisibleDeprecationWarning: Creating an ndarray from ragged nested sequences (which is a list-or-tuple of lists-or-tuples-or ndarrays with different lengths or shapes) is deprecated. If you meant to do this, you must specify 'dtype=object' when creating the ndarray.\n",
      "  values = np.array([convert(v) for v in values])\n",
      "  0%|▏                                                                             | 12/4478 [00:34<4:18:06,  3.47s/it]C:\\Users\\duPar\\Anaconda3\\envs\\oasis\\lib\\site-packages\\pandas\\core\\internals\\construction.py:576: VisibleDeprecationWarning: Creating an ndarray from ragged nested sequences (which is a list-or-tuple of lists-or-tuples-or ndarrays with different lengths or shapes) is deprecated. If you meant to do this, you must specify 'dtype=object' when creating the ndarray.\n",
      "  values = np.array([convert(v) for v in values])\n",
      "  0%|▏                                                                             | 13/4478 [00:38<4:29:17,  3.62s/it]C:\\Users\\duPar\\Anaconda3\\envs\\oasis\\lib\\site-packages\\pandas\\core\\internals\\construction.py:576: VisibleDeprecationWarning: Creating an ndarray from ragged nested sequences (which is a list-or-tuple of lists-or-tuples-or ndarrays with different lengths or shapes) is deprecated. If you meant to do this, you must specify 'dtype=object' when creating the ndarray.\n",
      "  values = np.array([convert(v) for v in values])\n",
      "  0%|▏                                                                             | 14/4478 [00:42<4:39:22,  3.75s/it]C:\\Users\\duPar\\Anaconda3\\envs\\oasis\\lib\\site-packages\\pandas\\core\\internals\\construction.py:576: VisibleDeprecationWarning: Creating an ndarray from ragged nested sequences (which is a list-or-tuple of lists-or-tuples-or ndarrays with different lengths or shapes) is deprecated. If you meant to do this, you must specify 'dtype=object' when creating the ndarray.\n",
      "  values = np.array([convert(v) for v in values])\n"
     ]
    },
    {
     "name": "stdout",
     "output_type": "stream",
     "text": [
      "373\n"
     ]
    },
    {
     "name": "stderr",
     "output_type": "stream",
     "text": [
      "  0%|▎                                                                             | 15/4478 [00:46<4:47:18,  3.86s/it]C:\\Users\\duPar\\Anaconda3\\envs\\oasis\\lib\\site-packages\\pandas\\core\\internals\\construction.py:576: VisibleDeprecationWarning: Creating an ndarray from ragged nested sequences (which is a list-or-tuple of lists-or-tuples-or ndarrays with different lengths or shapes) is deprecated. If you meant to do this, you must specify 'dtype=object' when creating the ndarray.\n",
      "  values = np.array([convert(v) for v in values])\n",
      "  0%|▎                                                                             | 16/4478 [00:50<4:59:16,  4.02s/it]C:\\Users\\duPar\\Anaconda3\\envs\\oasis\\lib\\site-packages\\pandas\\core\\internals\\construction.py:576: VisibleDeprecationWarning: Creating an ndarray from ragged nested sequences (which is a list-or-tuple of lists-or-tuples-or ndarrays with different lengths or shapes) is deprecated. If you meant to do this, you must specify 'dtype=object' when creating the ndarray.\n",
      "  values = np.array([convert(v) for v in values])\n"
     ]
    },
    {
     "name": "stdout",
     "output_type": "stream",
     "text": [
      "13\n"
     ]
    },
    {
     "name": "stderr",
     "output_type": "stream",
     "text": [
      "  0%|▎                                                                             | 17/4478 [00:55<5:10:52,  4.18s/it]C:\\Users\\duPar\\Anaconda3\\envs\\oasis\\lib\\site-packages\\pandas\\core\\internals\\construction.py:576: VisibleDeprecationWarning: Creating an ndarray from ragged nested sequences (which is a list-or-tuple of lists-or-tuples-or ndarrays with different lengths or shapes) is deprecated. If you meant to do this, you must specify 'dtype=object' when creating the ndarray.\n",
      "  values = np.array([convert(v) for v in values])\n",
      "  0%|▎                                                                             | 18/4478 [01:00<5:25:01,  4.37s/it]C:\\Users\\duPar\\Anaconda3\\envs\\oasis\\lib\\site-packages\\pandas\\core\\internals\\construction.py:576: VisibleDeprecationWarning: Creating an ndarray from ragged nested sequences (which is a list-or-tuple of lists-or-tuples-or ndarrays with different lengths or shapes) is deprecated. If you meant to do this, you must specify 'dtype=object' when creating the ndarray.\n",
      "  values = np.array([convert(v) for v in values])\n",
      "  0%|▎                                                                             | 19/4478 [01:05<5:35:57,  4.52s/it]C:\\Users\\duPar\\Anaconda3\\envs\\oasis\\lib\\site-packages\\pandas\\core\\internals\\construction.py:576: VisibleDeprecationWarning: Creating an ndarray from ragged nested sequences (which is a list-or-tuple of lists-or-tuples-or ndarrays with different lengths or shapes) is deprecated. If you meant to do this, you must specify 'dtype=object' when creating the ndarray.\n",
      "  values = np.array([convert(v) for v in values])\n",
      "  0%|▎                                                                             | 20/4478 [01:10<5:45:54,  4.66s/it]C:\\Users\\duPar\\Anaconda3\\envs\\oasis\\lib\\site-packages\\pandas\\core\\internals\\construction.py:576: VisibleDeprecationWarning: Creating an ndarray from ragged nested sequences (which is a list-or-tuple of lists-or-tuples-or ndarrays with different lengths or shapes) is deprecated. If you meant to do this, you must specify 'dtype=object' when creating the ndarray.\n",
      "  values = np.array([convert(v) for v in values])\n",
      "  0%|▎                                                                             | 21/4478 [01:15<5:54:14,  4.77s/it]C:\\Users\\duPar\\Anaconda3\\envs\\oasis\\lib\\site-packages\\pandas\\core\\internals\\construction.py:576: VisibleDeprecationWarning: Creating an ndarray from ragged nested sequences (which is a list-or-tuple of lists-or-tuples-or ndarrays with different lengths or shapes) is deprecated. If you meant to do this, you must specify 'dtype=object' when creating the ndarray.\n",
      "  values = np.array([convert(v) for v in values])\n",
      "  0%|▍                                                                             | 22/4478 [01:20<6:15:23,  5.05s/it]C:\\Users\\duPar\\Anaconda3\\envs\\oasis\\lib\\site-packages\\pandas\\core\\internals\\construction.py:576: VisibleDeprecationWarning: Creating an ndarray from ragged nested sequences (which is a list-or-tuple of lists-or-tuples-or ndarrays with different lengths or shapes) is deprecated. If you meant to do this, you must specify 'dtype=object' when creating the ndarray.\n",
      "  values = np.array([convert(v) for v in values])\n"
     ]
    },
    {
     "name": "stdout",
     "output_type": "stream",
     "text": [
      "33\n"
     ]
    },
    {
     "name": "stderr",
     "output_type": "stream",
     "text": [
      "  1%|▍                                                                             | 23/4478 [01:26<6:26:20,  5.20s/it]C:\\Users\\duPar\\Anaconda3\\envs\\oasis\\lib\\site-packages\\pandas\\core\\internals\\construction.py:576: VisibleDeprecationWarning: Creating an ndarray from ragged nested sequences (which is a list-or-tuple of lists-or-tuples-or ndarrays with different lengths or shapes) is deprecated. If you meant to do this, you must specify 'dtype=object' when creating the ndarray.\n",
      "  values = np.array([convert(v) for v in values])\n"
     ]
    },
    {
     "name": "stdout",
     "output_type": "stream",
     "text": [
      "175\n"
     ]
    },
    {
     "name": "stderr",
     "output_type": "stream",
     "text": [
      "  1%|▍                                                                             | 24/4478 [01:31<6:36:39,  5.34s/it]C:\\Users\\duPar\\Anaconda3\\envs\\oasis\\lib\\site-packages\\pandas\\core\\internals\\construction.py:576: VisibleDeprecationWarning: Creating an ndarray from ragged nested sequences (which is a list-or-tuple of lists-or-tuples-or ndarrays with different lengths or shapes) is deprecated. If you meant to do this, you must specify 'dtype=object' when creating the ndarray.\n",
      "  values = np.array([convert(v) for v in values])\n",
      "  1%|▍                                                                             | 25/4478 [01:37<6:47:05,  5.49s/it]C:\\Users\\duPar\\Anaconda3\\envs\\oasis\\lib\\site-packages\\pandas\\core\\internals\\construction.py:576: VisibleDeprecationWarning: Creating an ndarray from ragged nested sequences (which is a list-or-tuple of lists-or-tuples-or ndarrays with different lengths or shapes) is deprecated. If you meant to do this, you must specify 'dtype=object' when creating the ndarray.\n",
      "  values = np.array([convert(v) for v in values])\n"
     ]
    },
    {
     "name": "stdout",
     "output_type": "stream",
     "text": [
      "32\n",
      "129\n",
      "320\n"
     ]
    },
    {
     "name": "stderr",
     "output_type": "stream",
     "text": [
      "  1%|▍                                                                             | 26/4478 [01:48<8:39:07,  7.00s/it]C:\\Users\\duPar\\Anaconda3\\envs\\oasis\\lib\\site-packages\\pandas\\core\\internals\\construction.py:576: VisibleDeprecationWarning: Creating an ndarray from ragged nested sequences (which is a list-or-tuple of lists-or-tuples-or ndarrays with different lengths or shapes) is deprecated. If you meant to do this, you must specify 'dtype=object' when creating the ndarray.\n",
      "  values = np.array([convert(v) for v in values])\n"
     ]
    },
    {
     "name": "stdout",
     "output_type": "stream",
     "text": [
      "20\n"
     ]
    },
    {
     "name": "stderr",
     "output_type": "stream",
     "text": [
      "  1%|▍                                                                             | 27/4478 [01:54<8:18:23,  6.72s/it]C:\\Users\\duPar\\Anaconda3\\envs\\oasis\\lib\\site-packages\\pandas\\core\\internals\\construction.py:576: VisibleDeprecationWarning: Creating an ndarray from ragged nested sequences (which is a list-or-tuple of lists-or-tuples-or ndarrays with different lengths or shapes) is deprecated. If you meant to do this, you must specify 'dtype=object' when creating the ndarray.\n",
      "  values = np.array([convert(v) for v in values])\n"
     ]
    },
    {
     "name": "stdout",
     "output_type": "stream",
     "text": [
      "23\n",
      "118\n",
      "119\n",
      "460\n",
      "461\n",
      "477\n",
      "479\n",
      "489\n"
     ]
    },
    {
     "name": "stderr",
     "output_type": "stream",
     "text": [
      "  1%|▍                                                                             | 28/4478 [02:00<8:09:25,  6.60s/it]C:\\Users\\duPar\\Anaconda3\\envs\\oasis\\lib\\site-packages\\pandas\\core\\internals\\construction.py:576: VisibleDeprecationWarning: Creating an ndarray from ragged nested sequences (which is a list-or-tuple of lists-or-tuples-or ndarrays with different lengths or shapes) is deprecated. If you meant to do this, you must specify 'dtype=object' when creating the ndarray.\n",
      "  values = np.array([convert(v) for v in values])\n",
      "  1%|▌                                                                             | 29/4478 [02:08<8:26:58,  6.84s/it]C:\\Users\\duPar\\Anaconda3\\envs\\oasis\\lib\\site-packages\\pandas\\core\\internals\\construction.py:576: VisibleDeprecationWarning: Creating an ndarray from ragged nested sequences (which is a list-or-tuple of lists-or-tuples-or ndarrays with different lengths or shapes) is deprecated. If you meant to do this, you must specify 'dtype=object' when creating the ndarray.\n",
      "  values = np.array([convert(v) for v in values])\n",
      "  1%|▌                                                                             | 30/4478 [02:14<8:21:50,  6.77s/it]C:\\Users\\duPar\\Anaconda3\\envs\\oasis\\lib\\site-packages\\pandas\\core\\internals\\construction.py:576: VisibleDeprecationWarning: Creating an ndarray from ragged nested sequences (which is a list-or-tuple of lists-or-tuples-or ndarrays with different lengths or shapes) is deprecated. If you meant to do this, you must specify 'dtype=object' when creating the ndarray.\n",
      "  values = np.array([convert(v) for v in values])\n",
      "  1%|▌                                                                             | 31/4478 [02:21<8:25:30,  6.82s/it]C:\\Users\\duPar\\Anaconda3\\envs\\oasis\\lib\\site-packages\\pandas\\core\\internals\\construction.py:576: VisibleDeprecationWarning: Creating an ndarray from ragged nested sequences (which is a list-or-tuple of lists-or-tuples-or ndarrays with different lengths or shapes) is deprecated. If you meant to do this, you must specify 'dtype=object' when creating the ndarray.\n",
      "  values = np.array([convert(v) for v in values])\n"
     ]
    },
    {
     "name": "stdout",
     "output_type": "stream",
     "text": [
      "187\n",
      "222\n",
      "235\n",
      "261\n"
     ]
    },
    {
     "name": "stderr",
     "output_type": "stream",
     "text": [
      "  1%|▌                                                                             | 32/4478 [02:28<8:34:22,  6.94s/it]C:\\Users\\duPar\\Anaconda3\\envs\\oasis\\lib\\site-packages\\pandas\\core\\internals\\construction.py:576: VisibleDeprecationWarning: Creating an ndarray from ragged nested sequences (which is a list-or-tuple of lists-or-tuples-or ndarrays with different lengths or shapes) is deprecated. If you meant to do this, you must specify 'dtype=object' when creating the ndarray.\n",
      "  values = np.array([convert(v) for v in values])\n",
      "  1%|▌                                                                             | 34/4478 [02:39<7:18:16,  5.92s/it]C:\\Users\\duPar\\Anaconda3\\envs\\oasis\\lib\\site-packages\\pandas\\core\\internals\\construction.py:576: VisibleDeprecationWarning: Creating an ndarray from ragged nested sequences (which is a list-or-tuple of lists-or-tuples-or ndarrays with different lengths or shapes) is deprecated. If you meant to do this, you must specify 'dtype=object' when creating the ndarray.\n",
      "  values = np.array([convert(v) for v in values])\n"
     ]
    },
    {
     "name": "stdout",
     "output_type": "stream",
     "text": [
      "150\n"
     ]
    },
    {
     "name": "stderr",
     "output_type": "stream",
     "text": [
      "  1%|▌                                                                             | 35/4478 [02:47<8:08:02,  6.59s/it]C:\\Users\\duPar\\Anaconda3\\envs\\oasis\\lib\\site-packages\\pandas\\core\\internals\\construction.py:576: VisibleDeprecationWarning: Creating an ndarray from ragged nested sequences (which is a list-or-tuple of lists-or-tuples-or ndarrays with different lengths or shapes) is deprecated. If you meant to do this, you must specify 'dtype=object' when creating the ndarray.\n",
      "  values = np.array([convert(v) for v in values])\n",
      "  1%|▋                                                                             | 36/4478 [02:56<8:56:30,  7.25s/it]C:\\Users\\duPar\\Anaconda3\\envs\\oasis\\lib\\site-packages\\pandas\\core\\internals\\construction.py:576: VisibleDeprecationWarning: Creating an ndarray from ragged nested sequences (which is a list-or-tuple of lists-or-tuples-or ndarrays with different lengths or shapes) is deprecated. If you meant to do this, you must specify 'dtype=object' when creating the ndarray.\n",
      "  values = np.array([convert(v) for v in values])\n",
      "  1%|▋                                                                             | 37/4478 [03:04<9:16:03,  7.51s/it]C:\\Users\\duPar\\Anaconda3\\envs\\oasis\\lib\\site-packages\\pandas\\core\\internals\\construction.py:576: VisibleDeprecationWarning: Creating an ndarray from ragged nested sequences (which is a list-or-tuple of lists-or-tuples-or ndarrays with different lengths or shapes) is deprecated. If you meant to do this, you must specify 'dtype=object' when creating the ndarray.\n",
      "  values = np.array([convert(v) for v in values])\n"
     ]
    },
    {
     "name": "stdout",
     "output_type": "stream",
     "text": [
      "149\n",
      "438\n"
     ]
    },
    {
     "name": "stderr",
     "output_type": "stream",
     "text": [
      "  1%|▋                                                                             | 38/4478 [03:12<9:29:59,  7.70s/it]C:\\Users\\duPar\\Anaconda3\\envs\\oasis\\lib\\site-packages\\pandas\\core\\internals\\construction.py:576: VisibleDeprecationWarning: Creating an ndarray from ragged nested sequences (which is a list-or-tuple of lists-or-tuples-or ndarrays with different lengths or shapes) is deprecated. If you meant to do this, you must specify 'dtype=object' when creating the ndarray.\n",
      "  values = np.array([convert(v) for v in values])\n",
      "  1%|▋                                                                             | 39/4478 [03:21<9:48:50,  7.96s/it]C:\\Users\\duPar\\Anaconda3\\envs\\oasis\\lib\\site-packages\\pandas\\core\\internals\\construction.py:576: VisibleDeprecationWarning: Creating an ndarray from ragged nested sequences (which is a list-or-tuple of lists-or-tuples-or ndarrays with different lengths or shapes) is deprecated. If you meant to do this, you must specify 'dtype=object' when creating the ndarray.\n",
      "  values = np.array([convert(v) for v in values])\n",
      "  1%|▋                                                                            | 40/4478 [03:30<10:10:12,  8.25s/it]C:\\Users\\duPar\\Anaconda3\\envs\\oasis\\lib\\site-packages\\pandas\\core\\internals\\construction.py:576: VisibleDeprecationWarning: Creating an ndarray from ragged nested sequences (which is a list-or-tuple of lists-or-tuples-or ndarrays with different lengths or shapes) is deprecated. If you meant to do this, you must specify 'dtype=object' when creating the ndarray.\n",
      "  values = np.array([convert(v) for v in values])\n",
      "  1%|▋                                                                            | 41/4478 [03:39<10:27:05,  8.48s/it]C:\\Users\\duPar\\Anaconda3\\envs\\oasis\\lib\\site-packages\\pandas\\core\\internals\\construction.py:576: VisibleDeprecationWarning: Creating an ndarray from ragged nested sequences (which is a list-or-tuple of lists-or-tuples-or ndarrays with different lengths or shapes) is deprecated. If you meant to do this, you must specify 'dtype=object' when creating the ndarray.\n",
      "  values = np.array([convert(v) for v in values])\n",
      "  1%|▋                                                                            | 42/4478 [03:48<10:44:12,  8.71s/it]C:\\Users\\duPar\\Anaconda3\\envs\\oasis\\lib\\site-packages\\pandas\\core\\internals\\construction.py:576: VisibleDeprecationWarning: Creating an ndarray from ragged nested sequences (which is a list-or-tuple of lists-or-tuples-or ndarrays with different lengths or shapes) is deprecated. If you meant to do this, you must specify 'dtype=object' when creating the ndarray.\n",
      "  values = np.array([convert(v) for v in values])\n"
     ]
    },
    {
     "name": "stdout",
     "output_type": "stream",
     "text": [
      "51\n"
     ]
    },
    {
     "name": "stderr",
     "output_type": "stream",
     "text": [
      "  1%|▋                                                                            | 43/4478 [03:57<10:47:04,  8.75s/it]C:\\Users\\duPar\\Anaconda3\\envs\\oasis\\lib\\site-packages\\pandas\\core\\internals\\construction.py:576: VisibleDeprecationWarning: Creating an ndarray from ragged nested sequences (which is a list-or-tuple of lists-or-tuples-or ndarrays with different lengths or shapes) is deprecated. If you meant to do this, you must specify 'dtype=object' when creating the ndarray.\n",
      "  values = np.array([convert(v) for v in values])\n"
     ]
    },
    {
     "name": "stdout",
     "output_type": "stream",
     "text": [
      "2\n"
     ]
    },
    {
     "name": "stderr",
     "output_type": "stream",
     "text": [
      "  1%|▊                                                                            | 44/4478 [04:07<11:14:22,  9.13s/it]C:\\Users\\duPar\\Anaconda3\\envs\\oasis\\lib\\site-packages\\pandas\\core\\internals\\construction.py:576: VisibleDeprecationWarning: Creating an ndarray from ragged nested sequences (which is a list-or-tuple of lists-or-tuples-or ndarrays with different lengths or shapes) is deprecated. If you meant to do this, you must specify 'dtype=object' when creating the ndarray.\n",
      "  values = np.array([convert(v) for v in values])\n",
      "  1%|▊                                                                            | 45/4478 [04:17<11:25:34,  9.28s/it]C:\\Users\\duPar\\Anaconda3\\envs\\oasis\\lib\\site-packages\\pandas\\core\\internals\\construction.py:576: VisibleDeprecationWarning: Creating an ndarray from ragged nested sequences (which is a list-or-tuple of lists-or-tuples-or ndarrays with different lengths or shapes) is deprecated. If you meant to do this, you must specify 'dtype=object' when creating the ndarray.\n",
      "  values = np.array([convert(v) for v in values])\n"
     ]
    },
    {
     "name": "stdout",
     "output_type": "stream",
     "text": [
      "174\n",
      "186\n"
     ]
    },
    {
     "name": "stderr",
     "output_type": "stream",
     "text": [
      "  1%|▊                                                                            | 46/4478 [04:26<11:31:05,  9.36s/it]C:\\Users\\duPar\\Anaconda3\\envs\\oasis\\lib\\site-packages\\pandas\\core\\internals\\construction.py:576: VisibleDeprecationWarning: Creating an ndarray from ragged nested sequences (which is a list-or-tuple of lists-or-tuples-or ndarrays with different lengths or shapes) is deprecated. If you meant to do this, you must specify 'dtype=object' when creating the ndarray.\n",
      "  values = np.array([convert(v) for v in values])\n"
     ]
    },
    {
     "name": "stdout",
     "output_type": "stream",
     "text": [
      "12\n",
      "173\n"
     ]
    },
    {
     "name": "stderr",
     "output_type": "stream",
     "text": [
      "  1%|▊                                                                            | 47/4478 [04:36<11:52:17,  9.65s/it]C:\\Users\\duPar\\Anaconda3\\envs\\oasis\\lib\\site-packages\\pandas\\core\\internals\\construction.py:576: VisibleDeprecationWarning: Creating an ndarray from ragged nested sequences (which is a list-or-tuple of lists-or-tuples-or ndarrays with different lengths or shapes) is deprecated. If you meant to do this, you must specify 'dtype=object' when creating the ndarray.\n",
      "  values = np.array([convert(v) for v in values])\n",
      "  1%|▊                                                                            | 48/4478 [04:47<12:19:42, 10.02s/it]C:\\Users\\duPar\\Anaconda3\\envs\\oasis\\lib\\site-packages\\pandas\\core\\internals\\construction.py:576: VisibleDeprecationWarning: Creating an ndarray from ragged nested sequences (which is a list-or-tuple of lists-or-tuples-or ndarrays with different lengths or shapes) is deprecated. If you meant to do this, you must specify 'dtype=object' when creating the ndarray.\n",
      "  values = np.array([convert(v) for v in values])\n"
     ]
    },
    {
     "name": "stdout",
     "output_type": "stream",
     "text": [
      "2\n"
     ]
    },
    {
     "name": "stderr",
     "output_type": "stream",
     "text": [
      "  1%|▊                                                                            | 49/4478 [04:58<12:28:02, 10.13s/it]C:\\Users\\duPar\\Anaconda3\\envs\\oasis\\lib\\site-packages\\pandas\\core\\internals\\construction.py:576: VisibleDeprecationWarning: Creating an ndarray from ragged nested sequences (which is a list-or-tuple of lists-or-tuples-or ndarrays with different lengths or shapes) is deprecated. If you meant to do this, you must specify 'dtype=object' when creating the ndarray.\n",
      "  values = np.array([convert(v) for v in values])\n",
      "  1%|▊                                                                            | 50/4478 [05:11<13:35:41, 11.05s/it]C:\\Users\\duPar\\Anaconda3\\envs\\oasis\\lib\\site-packages\\pandas\\core\\internals\\construction.py:576: VisibleDeprecationWarning: Creating an ndarray from ragged nested sequences (which is a list-or-tuple of lists-or-tuples-or ndarrays with different lengths or shapes) is deprecated. If you meant to do this, you must specify 'dtype=object' when creating the ndarray.\n",
      "  values = np.array([convert(v) for v in values])\n",
      "  1%|▉                                                                            | 51/4478 [05:22<13:26:41, 10.93s/it]C:\\Users\\duPar\\Anaconda3\\envs\\oasis\\lib\\site-packages\\pandas\\core\\internals\\construction.py:576: VisibleDeprecationWarning: Creating an ndarray from ragged nested sequences (which is a list-or-tuple of lists-or-tuples-or ndarrays with different lengths or shapes) is deprecated. If you meant to do this, you must specify 'dtype=object' when creating the ndarray.\n",
      "  values = np.array([convert(v) for v in values])\n"
     ]
    },
    {
     "name": "stdout",
     "output_type": "stream",
     "text": [
      "440\n"
     ]
    },
    {
     "name": "stderr",
     "output_type": "stream",
     "text": [
      "  1%|▉                                                                            | 52/4478 [05:32<13:24:54, 10.91s/it]C:\\Users\\duPar\\Anaconda3\\envs\\oasis\\lib\\site-packages\\pandas\\core\\internals\\construction.py:576: VisibleDeprecationWarning: Creating an ndarray from ragged nested sequences (which is a list-or-tuple of lists-or-tuples-or ndarrays with different lengths or shapes) is deprecated. If you meant to do this, you must specify 'dtype=object' when creating the ndarray.\n",
      "  values = np.array([convert(v) for v in values])\n",
      "  1%|▉                                                                            | 53/4478 [05:44<13:38:39, 11.10s/it]C:\\Users\\duPar\\Anaconda3\\envs\\oasis\\lib\\site-packages\\pandas\\core\\internals\\construction.py:576: VisibleDeprecationWarning: Creating an ndarray from ragged nested sequences (which is a list-or-tuple of lists-or-tuples-or ndarrays with different lengths or shapes) is deprecated. If you meant to do this, you must specify 'dtype=object' when creating the ndarray.\n",
      "  values = np.array([convert(v) for v in values])\n"
     ]
    },
    {
     "name": "stdout",
     "output_type": "stream",
     "text": [
      "232\n",
      "410\n"
     ]
    },
    {
     "name": "stderr",
     "output_type": "stream",
     "text": [
      "  1%|▉                                                                            | 54/4478 [05:56<13:49:12, 11.25s/it]C:\\Users\\duPar\\Anaconda3\\envs\\oasis\\lib\\site-packages\\pandas\\core\\internals\\construction.py:576: VisibleDeprecationWarning: Creating an ndarray from ragged nested sequences (which is a list-or-tuple of lists-or-tuples-or ndarrays with different lengths or shapes) is deprecated. If you meant to do this, you must specify 'dtype=object' when creating the ndarray.\n",
      "  values = np.array([convert(v) for v in values])\n",
      "  1%|▉                                                                            | 55/4478 [06:12<15:48:23, 12.87s/it]C:\\Users\\duPar\\Anaconda3\\envs\\oasis\\lib\\site-packages\\pandas\\core\\internals\\construction.py:576: VisibleDeprecationWarning: Creating an ndarray from ragged nested sequences (which is a list-or-tuple of lists-or-tuples-or ndarrays with different lengths or shapes) is deprecated. If you meant to do this, you must specify 'dtype=object' when creating the ndarray.\n",
      "  values = np.array([convert(v) for v in values])\n"
     ]
    },
    {
     "name": "stdout",
     "output_type": "stream",
     "text": [
      "343\n"
     ]
    },
    {
     "name": "stderr",
     "output_type": "stream",
     "text": [
      "  1%|▉                                                                            | 56/4478 [06:25<15:41:29, 12.77s/it]C:\\Users\\duPar\\Anaconda3\\envs\\oasis\\lib\\site-packages\\pandas\\core\\internals\\construction.py:576: VisibleDeprecationWarning: Creating an ndarray from ragged nested sequences (which is a list-or-tuple of lists-or-tuples-or ndarrays with different lengths or shapes) is deprecated. If you meant to do this, you must specify 'dtype=object' when creating the ndarray.\n",
      "  values = np.array([convert(v) for v in values])\n",
      "  1%|▉                                                                            | 57/4478 [06:37<15:35:00, 12.69s/it]C:\\Users\\duPar\\Anaconda3\\envs\\oasis\\lib\\site-packages\\pandas\\core\\internals\\construction.py:576: VisibleDeprecationWarning: Creating an ndarray from ragged nested sequences (which is a list-or-tuple of lists-or-tuples-or ndarrays with different lengths or shapes) is deprecated. If you meant to do this, you must specify 'dtype=object' when creating the ndarray.\n",
      "  values = np.array([convert(v) for v in values])\n",
      "  1%|▉                                                                            | 58/4478 [06:50<15:36:38, 12.71s/it]C:\\Users\\duPar\\Anaconda3\\envs\\oasis\\lib\\site-packages\\pandas\\core\\internals\\construction.py:576: VisibleDeprecationWarning: Creating an ndarray from ragged nested sequences (which is a list-or-tuple of lists-or-tuples-or ndarrays with different lengths or shapes) is deprecated. If you meant to do this, you must specify 'dtype=object' when creating the ndarray.\n",
      "  values = np.array([convert(v) for v in values])\n"
     ]
    },
    {
     "name": "stdout",
     "output_type": "stream",
     "text": [
      "86\n"
     ]
    },
    {
     "name": "stderr",
     "output_type": "stream",
     "text": [
      "  1%|█                                                                            | 59/4478 [07:03<15:45:43, 12.84s/it]C:\\Users\\duPar\\Anaconda3\\envs\\oasis\\lib\\site-packages\\pandas\\core\\internals\\construction.py:576: VisibleDeprecationWarning: Creating an ndarray from ragged nested sequences (which is a list-or-tuple of lists-or-tuples-or ndarrays with different lengths or shapes) is deprecated. If you meant to do this, you must specify 'dtype=object' when creating the ndarray.\n",
      "  values = np.array([convert(v) for v in values])\n"
     ]
    },
    {
     "name": "stdout",
     "output_type": "stream",
     "text": [
      "25\n"
     ]
    },
    {
     "name": "stderr",
     "output_type": "stream",
     "text": [
      "  1%|█                                                                            | 60/4478 [07:16<15:41:41, 12.79s/it]C:\\Users\\duPar\\Anaconda3\\envs\\oasis\\lib\\site-packages\\pandas\\core\\internals\\construction.py:576: VisibleDeprecationWarning: Creating an ndarray from ragged nested sequences (which is a list-or-tuple of lists-or-tuples-or ndarrays with different lengths or shapes) is deprecated. If you meant to do this, you must specify 'dtype=object' when creating the ndarray.\n",
      "  values = np.array([convert(v) for v in values])\n"
     ]
    },
    {
     "name": "stdout",
     "output_type": "stream",
     "text": [
      "276\n",
      "277\n",
      "410\n",
      "438\n"
     ]
    },
    {
     "name": "stderr",
     "output_type": "stream",
     "text": [
      "  1%|█                                                                            | 62/4478 [07:29<11:16:39,  9.19s/it]C:\\Users\\duPar\\Anaconda3\\envs\\oasis\\lib\\site-packages\\pandas\\core\\internals\\construction.py:576: VisibleDeprecationWarning: Creating an ndarray from ragged nested sequences (which is a list-or-tuple of lists-or-tuples-or ndarrays with different lengths or shapes) is deprecated. If you meant to do this, you must specify 'dtype=object' when creating the ndarray.\n",
      "  values = np.array([convert(v) for v in values])\n"
     ]
    },
    {
     "name": "stdout",
     "output_type": "stream",
     "text": [
      "1\n"
     ]
    },
    {
     "name": "stderr",
     "output_type": "stream",
     "text": [
      "  1%|█                                                                            | 63/4478 [07:43<12:52:55, 10.50s/it]C:\\Users\\duPar\\Anaconda3\\envs\\oasis\\lib\\site-packages\\pandas\\core\\internals\\construction.py:576: VisibleDeprecationWarning: Creating an ndarray from ragged nested sequences (which is a list-or-tuple of lists-or-tuples-or ndarrays with different lengths or shapes) is deprecated. If you meant to do this, you must specify 'dtype=object' when creating the ndarray.\n",
      "  values = np.array([convert(v) for v in values])\n"
     ]
    },
    {
     "name": "stdout",
     "output_type": "stream",
     "text": [
      "481\n"
     ]
    },
    {
     "name": "stderr",
     "output_type": "stream",
     "text": [
      "  1%|█                                                                            | 64/4478 [07:57<14:08:55, 11.54s/it]C:\\Users\\duPar\\Anaconda3\\envs\\oasis\\lib\\site-packages\\pandas\\core\\internals\\construction.py:576: VisibleDeprecationWarning: Creating an ndarray from ragged nested sequences (which is a list-or-tuple of lists-or-tuples-or ndarrays with different lengths or shapes) is deprecated. If you meant to do this, you must specify 'dtype=object' when creating the ndarray.\n",
      "  values = np.array([convert(v) for v in values])\n",
      "  1%|█                                                                            | 65/4478 [08:11<15:12:15, 12.40s/it]C:\\Users\\duPar\\Anaconda3\\envs\\oasis\\lib\\site-packages\\pandas\\core\\internals\\construction.py:576: VisibleDeprecationWarning: Creating an ndarray from ragged nested sequences (which is a list-or-tuple of lists-or-tuples-or ndarrays with different lengths or shapes) is deprecated. If you meant to do this, you must specify 'dtype=object' when creating the ndarray.\n",
      "  values = np.array([convert(v) for v in values])\n"
     ]
    },
    {
     "name": "stdout",
     "output_type": "stream",
     "text": [
      "198\n"
     ]
    },
    {
     "name": "stderr",
     "output_type": "stream",
     "text": [
      "  1%|█▏                                                                           | 66/4478 [08:25<15:48:14, 12.90s/it]C:\\Users\\duPar\\Anaconda3\\envs\\oasis\\lib\\site-packages\\pandas\\core\\internals\\construction.py:576: VisibleDeprecationWarning: Creating an ndarray from ragged nested sequences (which is a list-or-tuple of lists-or-tuples-or ndarrays with different lengths or shapes) is deprecated. If you meant to do this, you must specify 'dtype=object' when creating the ndarray.\n",
      "  values = np.array([convert(v) for v in values])\n",
      "  1%|█▏                                                                           | 67/4478 [08:40<16:21:19, 13.35s/it]C:\\Users\\duPar\\Anaconda3\\envs\\oasis\\lib\\site-packages\\pandas\\core\\internals\\construction.py:576: VisibleDeprecationWarning: Creating an ndarray from ragged nested sequences (which is a list-or-tuple of lists-or-tuples-or ndarrays with different lengths or shapes) is deprecated. If you meant to do this, you must specify 'dtype=object' when creating the ndarray.\n",
      "  values = np.array([convert(v) for v in values])\n"
     ]
    },
    {
     "name": "stdout",
     "output_type": "stream",
     "text": [
      "49\n",
      "353\n",
      "453\n"
     ]
    },
    {
     "name": "stderr",
     "output_type": "stream",
     "text": [
      "  2%|█▏                                                                           | 68/4478 [08:55<16:53:29, 13.79s/it]C:\\Users\\duPar\\Anaconda3\\envs\\oasis\\lib\\site-packages\\pandas\\core\\internals\\construction.py:576: VisibleDeprecationWarning: Creating an ndarray from ragged nested sequences (which is a list-or-tuple of lists-or-tuples-or ndarrays with different lengths or shapes) is deprecated. If you meant to do this, you must specify 'dtype=object' when creating the ndarray.\n",
      "  values = np.array([convert(v) for v in values])\n",
      "  2%|█▏                                                                           | 69/4478 [09:10<17:20:25, 14.16s/it]C:\\Users\\duPar\\Anaconda3\\envs\\oasis\\lib\\site-packages\\pandas\\core\\internals\\construction.py:576: VisibleDeprecationWarning: Creating an ndarray from ragged nested sequences (which is a list-or-tuple of lists-or-tuples-or ndarrays with different lengths or shapes) is deprecated. If you meant to do this, you must specify 'dtype=object' when creating the ndarray.\n",
      "  values = np.array([convert(v) for v in values])\n",
      "  2%|█▏                                                                           | 70/4478 [09:24<17:34:04, 14.35s/it]C:\\Users\\duPar\\Anaconda3\\envs\\oasis\\lib\\site-packages\\pandas\\core\\internals\\construction.py:576: VisibleDeprecationWarning: Creating an ndarray from ragged nested sequences (which is a list-or-tuple of lists-or-tuples-or ndarrays with different lengths or shapes) is deprecated. If you meant to do this, you must specify 'dtype=object' when creating the ndarray.\n",
      "  values = np.array([convert(v) for v in values])\n"
     ]
    },
    {
     "name": "stdout",
     "output_type": "stream",
     "text": [
      "352\n",
      "454\n"
     ]
    },
    {
     "name": "stderr",
     "output_type": "stream",
     "text": [
      "  2%|█▏                                                                           | 71/4478 [09:40<17:55:29, 14.64s/it]C:\\Users\\duPar\\Anaconda3\\envs\\oasis\\lib\\site-packages\\pandas\\core\\internals\\construction.py:576: VisibleDeprecationWarning: Creating an ndarray from ragged nested sequences (which is a list-or-tuple of lists-or-tuples-or ndarrays with different lengths or shapes) is deprecated. If you meant to do this, you must specify 'dtype=object' when creating the ndarray.\n",
      "  values = np.array([convert(v) for v in values])\n",
      "  2%|█▏                                                                           | 72/4478 [09:55<17:59:58, 14.71s/it]C:\\Users\\duPar\\Anaconda3\\envs\\oasis\\lib\\site-packages\\pandas\\core\\internals\\construction.py:576: VisibleDeprecationWarning: Creating an ndarray from ragged nested sequences (which is a list-or-tuple of lists-or-tuples-or ndarrays with different lengths or shapes) is deprecated. If you meant to do this, you must specify 'dtype=object' when creating the ndarray.\n",
      "  values = np.array([convert(v) for v in values])\n"
     ]
    },
    {
     "name": "stdout",
     "output_type": "stream",
     "text": [
      "88\n",
      "137\n",
      "435\n",
      "476\n"
     ]
    },
    {
     "name": "stderr",
     "output_type": "stream",
     "text": [
      "  2%|█▎                                                                           | 73/4478 [10:10<18:05:21, 14.78s/it]"
     ]
    },
    {
     "name": "stdout",
     "output_type": "stream",
     "text": [
      "495\n"
     ]
    },
    {
     "name": "stderr",
     "output_type": "stream",
     "text": [
      "C:\\Users\\duPar\\Anaconda3\\envs\\oasis\\lib\\site-packages\\pandas\\core\\internals\\construction.py:576: VisibleDeprecationWarning: Creating an ndarray from ragged nested sequences (which is a list-or-tuple of lists-or-tuples-or ndarrays with different lengths or shapes) is deprecated. If you meant to do this, you must specify 'dtype=object' when creating the ndarray.\n",
      "  values = np.array([convert(v) for v in values])\n",
      "  2%|█▎                                                                           | 74/4478 [10:26<18:30:36, 15.13s/it]C:\\Users\\duPar\\Anaconda3\\envs\\oasis\\lib\\site-packages\\pandas\\core\\internals\\construction.py:576: VisibleDeprecationWarning: Creating an ndarray from ragged nested sequences (which is a list-or-tuple of lists-or-tuples-or ndarrays with different lengths or shapes) is deprecated. If you meant to do this, you must specify 'dtype=object' when creating the ndarray.\n",
      "  values = np.array([convert(v) for v in values])\n"
     ]
    },
    {
     "name": "stdout",
     "output_type": "stream",
     "text": [
      "47\n",
      "86\n"
     ]
    },
    {
     "name": "stderr",
     "output_type": "stream",
     "text": [
      "  2%|█▎                                                                           | 75/4478 [10:41<18:45:08, 15.33s/it]C:\\Users\\duPar\\Anaconda3\\envs\\oasis\\lib\\site-packages\\pandas\\core\\internals\\construction.py:576: VisibleDeprecationWarning: Creating an ndarray from ragged nested sequences (which is a list-or-tuple of lists-or-tuples-or ndarrays with different lengths or shapes) is deprecated. If you meant to do this, you must specify 'dtype=object' when creating the ndarray.\n",
      "  values = np.array([convert(v) for v in values])\n"
     ]
    },
    {
     "name": "stdout",
     "output_type": "stream",
     "text": [
      "436\n"
     ]
    },
    {
     "name": "stderr",
     "output_type": "stream",
     "text": [
      "  2%|█▎                                                                           | 76/4478 [10:57<18:58:31, 15.52s/it]C:\\Users\\duPar\\Anaconda3\\envs\\oasis\\lib\\site-packages\\pandas\\core\\internals\\construction.py:576: VisibleDeprecationWarning: Creating an ndarray from ragged nested sequences (which is a list-or-tuple of lists-or-tuples-or ndarrays with different lengths or shapes) is deprecated. If you meant to do this, you must specify 'dtype=object' when creating the ndarray.\n",
      "  values = np.array([convert(v) for v in values])\n"
     ]
    },
    {
     "name": "stdout",
     "output_type": "stream",
     "text": [
      "17\n",
      "20\n",
      "42\n",
      "318\n",
      "415\n",
      "493\n"
     ]
    },
    {
     "name": "stderr",
     "output_type": "stream",
     "text": [
      "  2%|█▎                                                                           | 77/4478 [11:13<19:11:11, 15.69s/it]C:\\Users\\duPar\\Anaconda3\\envs\\oasis\\lib\\site-packages\\pandas\\core\\internals\\construction.py:576: VisibleDeprecationWarning: Creating an ndarray from ragged nested sequences (which is a list-or-tuple of lists-or-tuples-or ndarrays with different lengths or shapes) is deprecated. If you meant to do this, you must specify 'dtype=object' when creating the ndarray.\n",
      "  values = np.array([convert(v) for v in values])\n"
     ]
    },
    {
     "name": "stdout",
     "output_type": "stream",
     "text": [
      "219\n"
     ]
    },
    {
     "name": "stderr",
     "output_type": "stream",
     "text": [
      "  2%|█▎                                                                           | 78/4478 [11:30<19:19:54, 15.82s/it]C:\\Users\\duPar\\Anaconda3\\envs\\oasis\\lib\\site-packages\\pandas\\core\\internals\\construction.py:576: VisibleDeprecationWarning: Creating an ndarray from ragged nested sequences (which is a list-or-tuple of lists-or-tuples-or ndarrays with different lengths or shapes) is deprecated. If you meant to do this, you must specify 'dtype=object' when creating the ndarray.\n",
      "  values = np.array([convert(v) for v in values])\n",
      "  2%|█▎                                                                           | 79/4478 [11:46<19:37:55, 16.07s/it]C:\\Users\\duPar\\Anaconda3\\envs\\oasis\\lib\\site-packages\\pandas\\core\\internals\\construction.py:576: VisibleDeprecationWarning: Creating an ndarray from ragged nested sequences (which is a list-or-tuple of lists-or-tuples-or ndarrays with different lengths or shapes) is deprecated. If you meant to do this, you must specify 'dtype=object' when creating the ndarray.\n",
      "  values = np.array([convert(v) for v in values])\n"
     ]
    },
    {
     "name": "stdout",
     "output_type": "stream",
     "text": [
      "8\n",
      "11\n",
      "20\n",
      "31\n",
      "32\n",
      "37\n",
      "83\n",
      "89\n",
      "161\n",
      "210\n"
     ]
    },
    {
     "name": "stderr",
     "output_type": "stream",
     "text": [
      "  2%|█▍                                                                           | 80/4478 [12:03<19:43:23, 16.14s/it]C:\\Users\\duPar\\Anaconda3\\envs\\oasis\\lib\\site-packages\\pandas\\core\\internals\\construction.py:576: VisibleDeprecationWarning: Creating an ndarray from ragged nested sequences (which is a list-or-tuple of lists-or-tuples-or ndarrays with different lengths or shapes) is deprecated. If you meant to do this, you must specify 'dtype=object' when creating the ndarray.\n",
      "  values = np.array([convert(v) for v in values])\n"
     ]
    },
    {
     "name": "stdout",
     "output_type": "stream",
     "text": [
      "168\n",
      "407\n",
      "459\n"
     ]
    },
    {
     "name": "stderr",
     "output_type": "stream",
     "text": [
      "  2%|█▍                                                                           | 81/4478 [12:19<19:50:56, 16.25s/it]C:\\Users\\duPar\\Anaconda3\\envs\\oasis\\lib\\site-packages\\pandas\\core\\internals\\construction.py:576: VisibleDeprecationWarning: Creating an ndarray from ragged nested sequences (which is a list-or-tuple of lists-or-tuples-or ndarrays with different lengths or shapes) is deprecated. If you meant to do this, you must specify 'dtype=object' when creating the ndarray.\n",
      "  values = np.array([convert(v) for v in values])\n"
     ]
    },
    {
     "name": "stdout",
     "output_type": "stream",
     "text": [
      "33\n"
     ]
    },
    {
     "name": "stderr",
     "output_type": "stream",
     "text": [
      "  2%|█▍                                                                           | 82/4478 [12:36<20:11:39, 16.54s/it]C:\\Users\\duPar\\Anaconda3\\envs\\oasis\\lib\\site-packages\\pandas\\core\\internals\\construction.py:576: VisibleDeprecationWarning: Creating an ndarray from ragged nested sequences (which is a list-or-tuple of lists-or-tuples-or ndarrays with different lengths or shapes) is deprecated. If you meant to do this, you must specify 'dtype=object' when creating the ndarray.\n",
      "  values = np.array([convert(v) for v in values])\n"
     ]
    },
    {
     "name": "stdout",
     "output_type": "stream",
     "text": [
      "450\n"
     ]
    },
    {
     "name": "stderr",
     "output_type": "stream",
     "text": [
      "  2%|█▍                                                                           | 83/4478 [12:59<22:32:47, 18.47s/it]C:\\Users\\duPar\\Anaconda3\\envs\\oasis\\lib\\site-packages\\pandas\\core\\internals\\construction.py:576: VisibleDeprecationWarning: Creating an ndarray from ragged nested sequences (which is a list-or-tuple of lists-or-tuples-or ndarrays with different lengths or shapes) is deprecated. If you meant to do this, you must specify 'dtype=object' when creating the ndarray.\n",
      "  values = np.array([convert(v) for v in values])\n"
     ]
    },
    {
     "name": "stdout",
     "output_type": "stream",
     "text": [
      "148\n",
      "161\n",
      "279\n"
     ]
    },
    {
     "name": "stderr",
     "output_type": "stream",
     "text": [
      "  2%|█▍                                                                           | 84/4478 [13:17<22:09:43, 18.16s/it]C:\\Users\\duPar\\Anaconda3\\envs\\oasis\\lib\\site-packages\\pandas\\core\\internals\\construction.py:576: VisibleDeprecationWarning: Creating an ndarray from ragged nested sequences (which is a list-or-tuple of lists-or-tuples-or ndarrays with different lengths or shapes) is deprecated. If you meant to do this, you must specify 'dtype=object' when creating the ndarray.\n",
      "  values = np.array([convert(v) for v in values])\n"
     ]
    },
    {
     "name": "stdout",
     "output_type": "stream",
     "text": [
      "288\n"
     ]
    },
    {
     "name": "stderr",
     "output_type": "stream",
     "text": [
      "  2%|█▍                                                                           | 85/4478 [13:28<19:43:22, 16.16s/it]C:\\Users\\duPar\\Anaconda3\\envs\\oasis\\lib\\site-packages\\pandas\\core\\internals\\construction.py:576: VisibleDeprecationWarning: Creating an ndarray from ragged nested sequences (which is a list-or-tuple of lists-or-tuples-or ndarrays with different lengths or shapes) is deprecated. If you meant to do this, you must specify 'dtype=object' when creating the ndarray.\n",
      "  values = np.array([convert(v) for v in values])\n"
     ]
    },
    {
     "name": "stdout",
     "output_type": "stream",
     "text": [
      "104\n"
     ]
    },
    {
     "name": "stderr",
     "output_type": "stream",
     "text": [
      "  2%|█▍                                                                           | 86/4478 [13:34<16:01:37, 13.14s/it]C:\\Users\\duPar\\Anaconda3\\envs\\oasis\\lib\\site-packages\\pandas\\core\\internals\\construction.py:576: VisibleDeprecationWarning: Creating an ndarray from ragged nested sequences (which is a list-or-tuple of lists-or-tuples-or ndarrays with different lengths or shapes) is deprecated. If you meant to do this, you must specify 'dtype=object' when creating the ndarray.\n",
      "  values = np.array([convert(v) for v in values])\n"
     ]
    },
    {
     "name": "stdout",
     "output_type": "stream",
     "text": [
      "42\n",
      "76\n"
     ]
    },
    {
     "name": "stderr",
     "output_type": "stream",
     "text": [
      "  2%|█▍                                                                           | 87/4478 [13:52<17:43:11, 14.53s/it]C:\\Users\\duPar\\Anaconda3\\envs\\oasis\\lib\\site-packages\\pandas\\core\\internals\\construction.py:576: VisibleDeprecationWarning: Creating an ndarray from ragged nested sequences (which is a list-or-tuple of lists-or-tuples-or ndarrays with different lengths or shapes) is deprecated. If you meant to do this, you must specify 'dtype=object' when creating the ndarray.\n",
      "  values = np.array([convert(v) for v in values])\n"
     ]
    },
    {
     "name": "stdout",
     "output_type": "stream",
     "text": [
      "72\n",
      "147\n",
      "166\n",
      "171\n"
     ]
    },
    {
     "name": "stderr",
     "output_type": "stream",
     "text": [
      "  2%|█▌                                                                           | 88/4478 [13:59<14:59:55, 12.30s/it]C:\\Users\\duPar\\Anaconda3\\envs\\oasis\\lib\\site-packages\\pandas\\core\\internals\\construction.py:576: VisibleDeprecationWarning: Creating an ndarray from ragged nested sequences (which is a list-or-tuple of lists-or-tuples-or ndarrays with different lengths or shapes) is deprecated. If you meant to do this, you must specify 'dtype=object' when creating the ndarray.\n",
      "  values = np.array([convert(v) for v in values])\n",
      "  2%|█▌                                                                           | 90/4478 [14:21<13:00:28, 10.67s/it]C:\\Users\\duPar\\Anaconda3\\envs\\oasis\\lib\\site-packages\\pandas\\core\\internals\\construction.py:576: VisibleDeprecationWarning: Creating an ndarray from ragged nested sequences (which is a list-or-tuple of lists-or-tuples-or ndarrays with different lengths or shapes) is deprecated. If you meant to do this, you must specify 'dtype=object' when creating the ndarray.\n",
      "  values = np.array([convert(v) for v in values])\n",
      "  2%|█▌                                                                           | 91/4478 [14:39<15:50:11, 13.00s/it]C:\\Users\\duPar\\Anaconda3\\envs\\oasis\\lib\\site-packages\\pandas\\core\\internals\\construction.py:576: VisibleDeprecationWarning: Creating an ndarray from ragged nested sequences (which is a list-or-tuple of lists-or-tuples-or ndarrays with different lengths or shapes) is deprecated. If you meant to do this, you must specify 'dtype=object' when creating the ndarray.\n",
      "  values = np.array([convert(v) for v in values])\n"
     ]
    },
    {
     "name": "stdout",
     "output_type": "stream",
     "text": [
      "23\n",
      "149\n",
      "415\n",
      "459\n"
     ]
    },
    {
     "name": "stderr",
     "output_type": "stream",
     "text": [
      "  2%|█▌                                                                           | 92/4478 [14:58<17:59:49, 14.77s/it]C:\\Users\\duPar\\Anaconda3\\envs\\oasis\\lib\\site-packages\\pandas\\core\\internals\\construction.py:576: VisibleDeprecationWarning: Creating an ndarray from ragged nested sequences (which is a list-or-tuple of lists-or-tuples-or ndarrays with different lengths or shapes) is deprecated. If you meant to do this, you must specify 'dtype=object' when creating the ndarray.\n",
      "  values = np.array([convert(v) for v in values])\n"
     ]
    },
    {
     "name": "stdout",
     "output_type": "stream",
     "text": [
      "387\n"
     ]
    },
    {
     "name": "stderr",
     "output_type": "stream",
     "text": [
      "  2%|█▌                                                                           | 93/4478 [15:18<19:47:11, 16.24s/it]C:\\Users\\duPar\\Anaconda3\\envs\\oasis\\lib\\site-packages\\pandas\\core\\internals\\construction.py:576: VisibleDeprecationWarning: Creating an ndarray from ragged nested sequences (which is a list-or-tuple of lists-or-tuples-or ndarrays with different lengths or shapes) is deprecated. If you meant to do this, you must specify 'dtype=object' when creating the ndarray.\n",
      "  values = np.array([convert(v) for v in values])\n"
     ]
    },
    {
     "name": "stdout",
     "output_type": "stream",
     "text": [
      "103\n",
      "428\n"
     ]
    },
    {
     "name": "stderr",
     "output_type": "stream",
     "text": [
      "  2%|█▌                                                                           | 94/4478 [15:37<20:47:19, 17.07s/it]C:\\Users\\duPar\\Anaconda3\\envs\\oasis\\lib\\site-packages\\pandas\\core\\internals\\construction.py:576: VisibleDeprecationWarning: Creating an ndarray from ragged nested sequences (which is a list-or-tuple of lists-or-tuples-or ndarrays with different lengths or shapes) is deprecated. If you meant to do this, you must specify 'dtype=object' when creating the ndarray.\n",
      "  values = np.array([convert(v) for v in values])\n"
     ]
    },
    {
     "name": "stdout",
     "output_type": "stream",
     "text": [
      "354\n",
      "381\n",
      "390\n",
      "440\n"
     ]
    },
    {
     "name": "stderr",
     "output_type": "stream",
     "text": [
      "  2%|█▋                                                                           | 95/4478 [15:56<21:34:13, 17.72s/it]C:\\Users\\duPar\\Anaconda3\\envs\\oasis\\lib\\site-packages\\pandas\\core\\internals\\construction.py:576: VisibleDeprecationWarning: Creating an ndarray from ragged nested sequences (which is a list-or-tuple of lists-or-tuples-or ndarrays with different lengths or shapes) is deprecated. If you meant to do this, you must specify 'dtype=object' when creating the ndarray.\n",
      "  values = np.array([convert(v) for v in values])\n"
     ]
    },
    {
     "name": "stdout",
     "output_type": "stream",
     "text": [
      "75\n",
      "328\n"
     ]
    },
    {
     "name": "stderr",
     "output_type": "stream",
     "text": [
      "  2%|█▋                                                                           | 96/4478 [16:16<22:22:24, 18.38s/it]C:\\Users\\duPar\\Anaconda3\\envs\\oasis\\lib\\site-packages\\pandas\\core\\internals\\construction.py:576: VisibleDeprecationWarning: Creating an ndarray from ragged nested sequences (which is a list-or-tuple of lists-or-tuples-or ndarrays with different lengths or shapes) is deprecated. If you meant to do this, you must specify 'dtype=object' when creating the ndarray.\n",
      "  values = np.array([convert(v) for v in values])\n"
     ]
    },
    {
     "name": "stdout",
     "output_type": "stream",
     "text": [
      "4\n"
     ]
    },
    {
     "name": "stderr",
     "output_type": "stream",
     "text": [
      "  2%|█▋                                                                           | 97/4478 [16:36<23:03:06, 18.94s/it]C:\\Users\\duPar\\Anaconda3\\envs\\oasis\\lib\\site-packages\\pandas\\core\\internals\\construction.py:576: VisibleDeprecationWarning: Creating an ndarray from ragged nested sequences (which is a list-or-tuple of lists-or-tuples-or ndarrays with different lengths or shapes) is deprecated. If you meant to do this, you must specify 'dtype=object' when creating the ndarray.\n",
      "  values = np.array([convert(v) for v in values])\n",
      "  2%|█▋                                                                           | 98/4478 [16:56<23:24:15, 19.24s/it]C:\\Users\\duPar\\Anaconda3\\envs\\oasis\\lib\\site-packages\\pandas\\core\\internals\\construction.py:576: VisibleDeprecationWarning: Creating an ndarray from ragged nested sequences (which is a list-or-tuple of lists-or-tuples-or ndarrays with different lengths or shapes) is deprecated. If you meant to do this, you must specify 'dtype=object' when creating the ndarray.\n",
      "  values = np.array([convert(v) for v in values])\n"
     ]
    },
    {
     "name": "stdout",
     "output_type": "stream",
     "text": [
      "51\n"
     ]
    },
    {
     "name": "stderr",
     "output_type": "stream",
     "text": [
      "  2%|█▋                                                                           | 99/4478 [17:16<23:41:59, 19.48s/it]C:\\Users\\duPar\\Anaconda3\\envs\\oasis\\lib\\site-packages\\pandas\\core\\internals\\construction.py:576: VisibleDeprecationWarning: Creating an ndarray from ragged nested sequences (which is a list-or-tuple of lists-or-tuples-or ndarrays with different lengths or shapes) is deprecated. If you meant to do this, you must specify 'dtype=object' when creating the ndarray.\n",
      "  values = np.array([convert(v) for v in values])\n",
      "  2%|█▋                                                                          | 100/4478 [17:36<23:54:46, 19.66s/it]C:\\Users\\duPar\\Anaconda3\\envs\\oasis\\lib\\site-packages\\pandas\\core\\internals\\construction.py:576: VisibleDeprecationWarning: Creating an ndarray from ragged nested sequences (which is a list-or-tuple of lists-or-tuples-or ndarrays with different lengths or shapes) is deprecated. If you meant to do this, you must specify 'dtype=object' when creating the ndarray.\n",
      "  values = np.array([convert(v) for v in values])\n",
      "  2%|█▋                                                                          | 101/4478 [17:57<24:16:50, 19.97s/it]C:\\Users\\duPar\\Anaconda3\\envs\\oasis\\lib\\site-packages\\pandas\\core\\internals\\construction.py:576: VisibleDeprecationWarning: Creating an ndarray from ragged nested sequences (which is a list-or-tuple of lists-or-tuples-or ndarrays with different lengths or shapes) is deprecated. If you meant to do this, you must specify 'dtype=object' when creating the ndarray.\n",
      "  values = np.array([convert(v) for v in values])\n",
      "  2%|█▋                                                                          | 102/4478 [18:18<24:45:08, 20.36s/it]C:\\Users\\duPar\\Anaconda3\\envs\\oasis\\lib\\site-packages\\pandas\\core\\internals\\construction.py:576: VisibleDeprecationWarning: Creating an ndarray from ragged nested sequences (which is a list-or-tuple of lists-or-tuples-or ndarrays with different lengths or shapes) is deprecated. If you meant to do this, you must specify 'dtype=object' when creating the ndarray.\n",
      "  values = np.array([convert(v) for v in values])\n",
      "  2%|█▋                                                                          | 103/4478 [18:40<25:05:02, 20.64s/it]C:\\Users\\duPar\\Anaconda3\\envs\\oasis\\lib\\site-packages\\pandas\\core\\internals\\construction.py:576: VisibleDeprecationWarning: Creating an ndarray from ragged nested sequences (which is a list-or-tuple of lists-or-tuples-or ndarrays with different lengths or shapes) is deprecated. If you meant to do this, you must specify 'dtype=object' when creating the ndarray.\n",
      "  values = np.array([convert(v) for v in values])\n",
      "  2%|█▊                                                                          | 104/4478 [19:01<25:22:12, 20.88s/it]C:\\Users\\duPar\\Anaconda3\\envs\\oasis\\lib\\site-packages\\pandas\\core\\internals\\construction.py:576: VisibleDeprecationWarning: Creating an ndarray from ragged nested sequences (which is a list-or-tuple of lists-or-tuples-or ndarrays with different lengths or shapes) is deprecated. If you meant to do this, you must specify 'dtype=object' when creating the ndarray.\n",
      "  values = np.array([convert(v) for v in values])\n",
      "  2%|█▊                                                                          | 105/4478 [19:24<25:58:54, 21.39s/it]C:\\Users\\duPar\\Anaconda3\\envs\\oasis\\lib\\site-packages\\pandas\\core\\internals\\construction.py:576: VisibleDeprecationWarning: Creating an ndarray from ragged nested sequences (which is a list-or-tuple of lists-or-tuples-or ndarrays with different lengths or shapes) is deprecated. If you meant to do this, you must specify 'dtype=object' when creating the ndarray.\n",
      "  values = np.array([convert(v) for v in values])\n"
     ]
    },
    {
     "name": "stdout",
     "output_type": "stream",
     "text": [
      "20\n",
      "24\n"
     ]
    },
    {
     "name": "stderr",
     "output_type": "stream",
     "text": [
      "  2%|█▊                                                                          | 106/4478 [19:45<26:01:11, 21.43s/it]C:\\Users\\duPar\\Anaconda3\\envs\\oasis\\lib\\site-packages\\pandas\\core\\internals\\construction.py:576: VisibleDeprecationWarning: Creating an ndarray from ragged nested sequences (which is a list-or-tuple of lists-or-tuples-or ndarrays with different lengths or shapes) is deprecated. If you meant to do this, you must specify 'dtype=object' when creating the ndarray.\n",
      "  values = np.array([convert(v) for v in values])\n"
     ]
    },
    {
     "name": "stdout",
     "output_type": "stream",
     "text": [
      "47\n",
      "463\n"
     ]
    },
    {
     "name": "stderr",
     "output_type": "stream",
     "text": [
      "  2%|█▊                                                                          | 107/4478 [20:07<26:08:48, 21.53s/it]C:\\Users\\duPar\\Anaconda3\\envs\\oasis\\lib\\site-packages\\pandas\\core\\internals\\construction.py:576: VisibleDeprecationWarning: Creating an ndarray from ragged nested sequences (which is a list-or-tuple of lists-or-tuples-or ndarrays with different lengths or shapes) is deprecated. If you meant to do this, you must specify 'dtype=object' when creating the ndarray.\n",
      "  values = np.array([convert(v) for v in values])\n"
     ]
    },
    {
     "name": "stdout",
     "output_type": "stream",
     "text": [
      "22\n"
     ]
    },
    {
     "name": "stderr",
     "output_type": "stream",
     "text": [
      "  2%|█▊                                                                          | 108/4478 [20:30<26:38:35, 21.95s/it]C:\\Users\\duPar\\Anaconda3\\envs\\oasis\\lib\\site-packages\\pandas\\core\\internals\\construction.py:576: VisibleDeprecationWarning: Creating an ndarray from ragged nested sequences (which is a list-or-tuple of lists-or-tuples-or ndarrays with different lengths or shapes) is deprecated. If you meant to do this, you must specify 'dtype=object' when creating the ndarray.\n",
      "  values = np.array([convert(v) for v in values])\n"
     ]
    },
    {
     "name": "stdout",
     "output_type": "stream",
     "text": [
      "211\n",
      "341\n",
      "350\n"
     ]
    },
    {
     "name": "stderr",
     "output_type": "stream",
     "text": [
      "  2%|█▊                                                                          | 109/4478 [20:52<26:43:40, 22.02s/it]C:\\Users\\duPar\\Anaconda3\\envs\\oasis\\lib\\site-packages\\pandas\\core\\internals\\construction.py:576: VisibleDeprecationWarning: Creating an ndarray from ragged nested sequences (which is a list-or-tuple of lists-or-tuples-or ndarrays with different lengths or shapes) is deprecated. If you meant to do this, you must specify 'dtype=object' when creating the ndarray.\n",
      "  values = np.array([convert(v) for v in values])\n"
     ]
    },
    {
     "name": "stdout",
     "output_type": "stream",
     "text": [
      "2\n"
     ]
    },
    {
     "name": "stderr",
     "output_type": "stream",
     "text": [
      "  2%|█▊                                                                          | 110/4478 [21:15<27:08:19, 22.37s/it]C:\\Users\\duPar\\Anaconda3\\envs\\oasis\\lib\\site-packages\\pandas\\core\\internals\\construction.py:576: VisibleDeprecationWarning: Creating an ndarray from ragged nested sequences (which is a list-or-tuple of lists-or-tuples-or ndarrays with different lengths or shapes) is deprecated. If you meant to do this, you must specify 'dtype=object' when creating the ndarray.\n",
      "  values = np.array([convert(v) for v in values])\n"
     ]
    },
    {
     "name": "stdout",
     "output_type": "stream",
     "text": [
      "16\n",
      "390\n",
      "397\n",
      "429\n",
      "443\n"
     ]
    },
    {
     "name": "stderr",
     "output_type": "stream",
     "text": [
      "  2%|█▉                                                                          | 111/4478 [21:37<27:03:05, 22.30s/it]"
     ]
    },
    {
     "name": "stdout",
     "output_type": "stream",
     "text": [
      "495\n",
      "500\n"
     ]
    },
    {
     "name": "stderr",
     "output_type": "stream",
     "text": [
      "C:\\Users\\duPar\\Anaconda3\\envs\\oasis\\lib\\site-packages\\pandas\\core\\internals\\construction.py:576: VisibleDeprecationWarning: Creating an ndarray from ragged nested sequences (which is a list-or-tuple of lists-or-tuples-or ndarrays with different lengths or shapes) is deprecated. If you meant to do this, you must specify 'dtype=object' when creating the ndarray.\n",
      "  values = np.array([convert(v) for v in values])\n"
     ]
    },
    {
     "name": "stdout",
     "output_type": "stream",
     "text": [
      "2\n",
      "113\n",
      "121\n",
      "132\n",
      "136\n"
     ]
    },
    {
     "name": "stderr",
     "output_type": "stream",
     "text": [
      "  3%|█▉                                                                          | 112/4478 [21:44<21:28:52, 17.71s/it]C:\\Users\\duPar\\Anaconda3\\envs\\oasis\\lib\\site-packages\\pandas\\core\\internals\\construction.py:576: VisibleDeprecationWarning: Creating an ndarray from ragged nested sequences (which is a list-or-tuple of lists-or-tuples-or ndarrays with different lengths or shapes) is deprecated. If you meant to do this, you must specify 'dtype=object' when creating the ndarray.\n",
      "  values = np.array([convert(v) for v in values])\n"
     ]
    },
    {
     "name": "stdout",
     "output_type": "stream",
     "text": [
      "2\n",
      "135\n",
      "140\n",
      "141\n",
      "142\n",
      "147\n",
      "156\n",
      "161\n",
      "172\n",
      "179\n",
      "189\n"
     ]
    },
    {
     "name": "stderr",
     "output_type": "stream",
     "text": [
      "  3%|█▉                                                                          | 113/4478 [21:53<18:10:58, 15.00s/it]C:\\Users\\duPar\\Anaconda3\\envs\\oasis\\lib\\site-packages\\pandas\\core\\internals\\construction.py:576: VisibleDeprecationWarning: Creating an ndarray from ragged nested sequences (which is a list-or-tuple of lists-or-tuples-or ndarrays with different lengths or shapes) is deprecated. If you meant to do this, you must specify 'dtype=object' when creating the ndarray.\n",
      "  values = np.array([convert(v) for v in values])\n"
     ]
    },
    {
     "name": "stdout",
     "output_type": "stream",
     "text": [
      "3\n",
      "49\n",
      "79\n",
      "129\n",
      "275\n",
      "378\n"
     ]
    },
    {
     "name": "stderr",
     "output_type": "stream",
     "text": [
      "  3%|█▉                                                                          | 114/4478 [22:16<21:01:56, 17.35s/it]C:\\Users\\duPar\\Anaconda3\\envs\\oasis\\lib\\site-packages\\pandas\\core\\internals\\construction.py:576: VisibleDeprecationWarning: Creating an ndarray from ragged nested sequences (which is a list-or-tuple of lists-or-tuples-or ndarrays with different lengths or shapes) is deprecated. If you meant to do this, you must specify 'dtype=object' when creating the ndarray.\n",
      "  values = np.array([convert(v) for v in values])\n",
      "  3%|█▉                                                                          | 115/4478 [22:39<23:08:37, 19.10s/it]C:\\Users\\duPar\\Anaconda3\\envs\\oasis\\lib\\site-packages\\pandas\\core\\internals\\construction.py:576: VisibleDeprecationWarning: Creating an ndarray from ragged nested sequences (which is a list-or-tuple of lists-or-tuples-or ndarrays with different lengths or shapes) is deprecated. If you meant to do this, you must specify 'dtype=object' when creating the ndarray.\n",
      "  values = np.array([convert(v) for v in values])\n",
      "  3%|█▉                                                                          | 116/4478 [23:02<24:35:18, 20.29s/it]C:\\Users\\duPar\\Anaconda3\\envs\\oasis\\lib\\site-packages\\pandas\\core\\internals\\construction.py:576: VisibleDeprecationWarning: Creating an ndarray from ragged nested sequences (which is a list-or-tuple of lists-or-tuples-or ndarrays with different lengths or shapes) is deprecated. If you meant to do this, you must specify 'dtype=object' when creating the ndarray.\n",
      "  values = np.array([convert(v) for v in values])\n"
     ]
    },
    {
     "name": "stdout",
     "output_type": "stream",
     "text": [
      "27\n",
      "138\n"
     ]
    },
    {
     "name": "stderr",
     "output_type": "stream",
     "text": [
      "  3%|██                                                                          | 119/4478 [23:27<12:52:48, 10.64s/it]C:\\Users\\duPar\\Anaconda3\\envs\\oasis\\lib\\site-packages\\pandas\\core\\internals\\construction.py:576: VisibleDeprecationWarning: Creating an ndarray from ragged nested sequences (which is a list-or-tuple of lists-or-tuples-or ndarrays with different lengths or shapes) is deprecated. If you meant to do this, you must specify 'dtype=object' when creating the ndarray.\n",
      "  values = np.array([convert(v) for v in values])\n"
     ]
    },
    {
     "name": "stdout",
     "output_type": "stream",
     "text": [
      "315\n"
     ]
    },
    {
     "name": "stderr",
     "output_type": "stream",
     "text": [
      "  3%|██                                                                          | 120/4478 [23:50<17:27:06, 14.42s/it]C:\\Users\\duPar\\Anaconda3\\envs\\oasis\\lib\\site-packages\\pandas\\core\\internals\\construction.py:576: VisibleDeprecationWarning: Creating an ndarray from ragged nested sequences (which is a list-or-tuple of lists-or-tuples-or ndarrays with different lengths or shapes) is deprecated. If you meant to do this, you must specify 'dtype=object' when creating the ndarray.\n",
      "  values = np.array([convert(v) for v in values])\n",
      "  3%|██                                                                          | 121/4478 [24:13<20:47:21, 17.18s/it]C:\\Users\\duPar\\Anaconda3\\envs\\oasis\\lib\\site-packages\\pandas\\core\\internals\\construction.py:576: VisibleDeprecationWarning: Creating an ndarray from ragged nested sequences (which is a list-or-tuple of lists-or-tuples-or ndarrays with different lengths or shapes) is deprecated. If you meant to do this, you must specify 'dtype=object' when creating the ndarray.\n",
      "  values = np.array([convert(v) for v in values])\n"
     ]
    },
    {
     "name": "stdout",
     "output_type": "stream",
     "text": [
      "329\n"
     ]
    },
    {
     "name": "stderr",
     "output_type": "stream",
     "text": [
      "  3%|██                                                                          | 122/4478 [24:37<23:11:37, 19.17s/it]C:\\Users\\duPar\\Anaconda3\\envs\\oasis\\lib\\site-packages\\pandas\\core\\internals\\construction.py:576: VisibleDeprecationWarning: Creating an ndarray from ragged nested sequences (which is a list-or-tuple of lists-or-tuples-or ndarrays with different lengths or shapes) is deprecated. If you meant to do this, you must specify 'dtype=object' when creating the ndarray.\n",
      "  values = np.array([convert(v) for v in values])\n",
      "  3%|██                                                                          | 123/4478 [25:02<25:03:36, 20.72s/it]C:\\Users\\duPar\\Anaconda3\\envs\\oasis\\lib\\site-packages\\pandas\\core\\internals\\construction.py:576: VisibleDeprecationWarning: Creating an ndarray from ragged nested sequences (which is a list-or-tuple of lists-or-tuples-or ndarrays with different lengths or shapes) is deprecated. If you meant to do this, you must specify 'dtype=object' when creating the ndarray.\n",
      "  values = np.array([convert(v) for v in values])\n"
     ]
    },
    {
     "name": "stdout",
     "output_type": "stream",
     "text": [
      "25\n",
      "283\n"
     ]
    },
    {
     "name": "stderr",
     "output_type": "stream",
     "text": [
      "  3%|██                                                                          | 124/4478 [25:26<26:15:16, 21.71s/it]C:\\Users\\duPar\\Anaconda3\\envs\\oasis\\lib\\site-packages\\pandas\\core\\internals\\construction.py:576: VisibleDeprecationWarning: Creating an ndarray from ragged nested sequences (which is a list-or-tuple of lists-or-tuples-or ndarrays with different lengths or shapes) is deprecated. If you meant to do this, you must specify 'dtype=object' when creating the ndarray.\n",
      "  values = np.array([convert(v) for v in values])\n",
      "  3%|██                                                                          | 125/4478 [25:50<27:19:13, 22.59s/it]C:\\Users\\duPar\\Anaconda3\\envs\\oasis\\lib\\site-packages\\pandas\\core\\internals\\construction.py:576: VisibleDeprecationWarning: Creating an ndarray from ragged nested sequences (which is a list-or-tuple of lists-or-tuples-or ndarrays with different lengths or shapes) is deprecated. If you meant to do this, you must specify 'dtype=object' when creating the ndarray.\n",
      "  values = np.array([convert(v) for v in values])\n"
     ]
    },
    {
     "name": "stdout",
     "output_type": "stream",
     "text": [
      "1\n"
     ]
    },
    {
     "name": "stderr",
     "output_type": "stream",
     "text": [
      "  3%|██▏                                                                         | 126/4478 [26:15<28:10:52, 23.31s/it]C:\\Users\\duPar\\Anaconda3\\envs\\oasis\\lib\\site-packages\\pandas\\core\\internals\\construction.py:576: VisibleDeprecationWarning: Creating an ndarray from ragged nested sequences (which is a list-or-tuple of lists-or-tuples-or ndarrays with different lengths or shapes) is deprecated. If you meant to do this, you must specify 'dtype=object' when creating the ndarray.\n",
      "  values = np.array([convert(v) for v in values])\n",
      "  3%|██▏                                                                         | 127/4478 [26:40<28:51:48, 23.88s/it]C:\\Users\\duPar\\Anaconda3\\envs\\oasis\\lib\\site-packages\\pandas\\core\\internals\\construction.py:576: VisibleDeprecationWarning: Creating an ndarray from ragged nested sequences (which is a list-or-tuple of lists-or-tuples-or ndarrays with different lengths or shapes) is deprecated. If you meant to do this, you must specify 'dtype=object' when creating the ndarray.\n",
      "  values = np.array([convert(v) for v in values])\n"
     ]
    },
    {
     "name": "stdout",
     "output_type": "stream",
     "text": [
      "48\n",
      "73\n",
      "285\n",
      "333\n"
     ]
    },
    {
     "name": "stderr",
     "output_type": "stream",
     "text": [
      "  3%|██▏                                                                         | 128/4478 [27:08<30:12:36, 25.00s/it]C:\\Users\\duPar\\Anaconda3\\envs\\oasis\\lib\\site-packages\\pandas\\core\\internals\\construction.py:576: VisibleDeprecationWarning: Creating an ndarray from ragged nested sequences (which is a list-or-tuple of lists-or-tuples-or ndarrays with different lengths or shapes) is deprecated. If you meant to do this, you must specify 'dtype=object' when creating the ndarray.\n",
      "  values = np.array([convert(v) for v in values])\n"
     ]
    },
    {
     "name": "stdout",
     "output_type": "stream",
     "text": [
      "232\n"
     ]
    },
    {
     "name": "stderr",
     "output_type": "stream",
     "text": [
      "  3%|██▏                                                                         | 129/4478 [27:34<30:27:37, 25.21s/it]C:\\Users\\duPar\\Anaconda3\\envs\\oasis\\lib\\site-packages\\pandas\\core\\internals\\construction.py:576: VisibleDeprecationWarning: Creating an ndarray from ragged nested sequences (which is a list-or-tuple of lists-or-tuples-or ndarrays with different lengths or shapes) is deprecated. If you meant to do this, you must specify 'dtype=object' when creating the ndarray.\n",
      "  values = np.array([convert(v) for v in values])\n"
     ]
    },
    {
     "name": "stdout",
     "output_type": "stream",
     "text": [
      "467\n"
     ]
    },
    {
     "name": "stderr",
     "output_type": "stream",
     "text": [
      "  3%|██▏                                                                         | 130/4478 [28:03<31:50:50, 26.37s/it]C:\\Users\\duPar\\Anaconda3\\envs\\oasis\\lib\\site-packages\\pandas\\core\\internals\\construction.py:576: VisibleDeprecationWarning: Creating an ndarray from ragged nested sequences (which is a list-or-tuple of lists-or-tuples-or ndarrays with different lengths or shapes) is deprecated. If you meant to do this, you must specify 'dtype=object' when creating the ndarray.\n",
      "  values = np.array([convert(v) for v in values])\n",
      "  3%|██▏                                                                         | 131/4478 [28:29<31:50:01, 26.36s/it]C:\\Users\\duPar\\Anaconda3\\envs\\oasis\\lib\\site-packages\\pandas\\core\\internals\\construction.py:576: VisibleDeprecationWarning: Creating an ndarray from ragged nested sequences (which is a list-or-tuple of lists-or-tuples-or ndarrays with different lengths or shapes) is deprecated. If you meant to do this, you must specify 'dtype=object' when creating the ndarray.\n",
      "  values = np.array([convert(v) for v in values])\n"
     ]
    },
    {
     "name": "stdout",
     "output_type": "stream",
     "text": [
      "43\n"
     ]
    },
    {
     "name": "stderr",
     "output_type": "stream",
     "text": [
      "  3%|██▏                                                                         | 132/4478 [28:55<31:35:55, 26.17s/it]C:\\Users\\duPar\\Anaconda3\\envs\\oasis\\lib\\site-packages\\pandas\\core\\internals\\construction.py:576: VisibleDeprecationWarning: Creating an ndarray from ragged nested sequences (which is a list-or-tuple of lists-or-tuples-or ndarrays with different lengths or shapes) is deprecated. If you meant to do this, you must specify 'dtype=object' when creating the ndarray.\n",
      "  values = np.array([convert(v) for v in values])\n",
      "  3%|██▎                                                                         | 133/4478 [29:21<31:42:43, 26.27s/it]C:\\Users\\duPar\\Anaconda3\\envs\\oasis\\lib\\site-packages\\pandas\\core\\internals\\construction.py:576: VisibleDeprecationWarning: Creating an ndarray from ragged nested sequences (which is a list-or-tuple of lists-or-tuples-or ndarrays with different lengths or shapes) is deprecated. If you meant to do this, you must specify 'dtype=object' when creating the ndarray.\n",
      "  values = np.array([convert(v) for v in values])\n",
      "  3%|██▎                                                                         | 134/4478 [29:48<31:38:15, 26.22s/it]C:\\Users\\duPar\\Anaconda3\\envs\\oasis\\lib\\site-packages\\pandas\\core\\internals\\construction.py:576: VisibleDeprecationWarning: Creating an ndarray from ragged nested sequences (which is a list-or-tuple of lists-or-tuples-or ndarrays with different lengths or shapes) is deprecated. If you meant to do this, you must specify 'dtype=object' when creating the ndarray.\n",
      "  values = np.array([convert(v) for v in values])\n"
     ]
    },
    {
     "name": "stdout",
     "output_type": "stream",
     "text": [
      "68\n",
      "435\n"
     ]
    },
    {
     "name": "stderr",
     "output_type": "stream",
     "text": [
      "  3%|██▎                                                                         | 135/4478 [30:14<31:40:36, 26.26s/it]C:\\Users\\duPar\\Anaconda3\\envs\\oasis\\lib\\site-packages\\pandas\\core\\internals\\construction.py:576: VisibleDeprecationWarning: Creating an ndarray from ragged nested sequences (which is a list-or-tuple of lists-or-tuples-or ndarrays with different lengths or shapes) is deprecated. If you meant to do this, you must specify 'dtype=object' when creating the ndarray.\n",
      "  values = np.array([convert(v) for v in values])\n"
     ]
    },
    {
     "name": "stdout",
     "output_type": "stream",
     "text": [
      "101\n"
     ]
    },
    {
     "name": "stderr",
     "output_type": "stream",
     "text": [
      "  3%|██▎                                                                         | 136/4478 [30:42<32:19:11, 26.80s/it]C:\\Users\\duPar\\Anaconda3\\envs\\oasis\\lib\\site-packages\\pandas\\core\\internals\\construction.py:576: VisibleDeprecationWarning: Creating an ndarray from ragged nested sequences (which is a list-or-tuple of lists-or-tuples-or ndarrays with different lengths or shapes) is deprecated. If you meant to do this, you must specify 'dtype=object' when creating the ndarray.\n",
      "  values = np.array([convert(v) for v in values])\n",
      "  3%|██▎                                                                         | 138/4478 [31:09<22:50:26, 18.95s/it]C:\\Users\\duPar\\Anaconda3\\envs\\oasis\\lib\\site-packages\\pandas\\core\\internals\\construction.py:576: VisibleDeprecationWarning: Creating an ndarray from ragged nested sequences (which is a list-or-tuple of lists-or-tuples-or ndarrays with different lengths or shapes) is deprecated. If you meant to do this, you must specify 'dtype=object' when creating the ndarray.\n",
      "  values = np.array([convert(v) for v in values])\n"
     ]
    },
    {
     "name": "stdout",
     "output_type": "stream",
     "text": [
      "1\n",
      "4\n",
      "11\n"
     ]
    },
    {
     "name": "stderr",
     "output_type": "stream",
     "text": [
      "  3%|██▎                                                                         | 139/4478 [31:37<26:06:51, 21.67s/it]C:\\Users\\duPar\\Anaconda3\\envs\\oasis\\lib\\site-packages\\pandas\\core\\internals\\construction.py:576: VisibleDeprecationWarning: Creating an ndarray from ragged nested sequences (which is a list-or-tuple of lists-or-tuples-or ndarrays with different lengths or shapes) is deprecated. If you meant to do this, you must specify 'dtype=object' when creating the ndarray.\n",
      "  values = np.array([convert(v) for v in values])\n"
     ]
    },
    {
     "name": "stdout",
     "output_type": "stream",
     "text": [
      "479\n"
     ]
    },
    {
     "name": "stderr",
     "output_type": "stream",
     "text": [
      "  3%|██▍                                                                         | 140/4478 [32:05<28:24:34, 23.58s/it]C:\\Users\\duPar\\Anaconda3\\envs\\oasis\\lib\\site-packages\\pandas\\core\\internals\\construction.py:576: VisibleDeprecationWarning: Creating an ndarray from ragged nested sequences (which is a list-or-tuple of lists-or-tuples-or ndarrays with different lengths or shapes) is deprecated. If you meant to do this, you must specify 'dtype=object' when creating the ndarray.\n",
      "  values = np.array([convert(v) for v in values])\n"
     ]
    },
    {
     "name": "stdout",
     "output_type": "stream",
     "text": [
      "27\n",
      "438\n"
     ]
    },
    {
     "name": "stderr",
     "output_type": "stream",
     "text": [
      "  3%|██▍                                                                         | 141/4478 [32:34<30:03:27, 24.95s/it]C:\\Users\\duPar\\Anaconda3\\envs\\oasis\\lib\\site-packages\\pandas\\core\\internals\\construction.py:576: VisibleDeprecationWarning: Creating an ndarray from ragged nested sequences (which is a list-or-tuple of lists-or-tuples-or ndarrays with different lengths or shapes) is deprecated. If you meant to do this, you must specify 'dtype=object' when creating the ndarray.\n",
      "  values = np.array([convert(v) for v in values])\n"
     ]
    },
    {
     "name": "stdout",
     "output_type": "stream",
     "text": [
      "25\n",
      "307\n"
     ]
    },
    {
     "name": "stderr",
     "output_type": "stream",
     "text": [
      "  3%|██▍                                                                         | 142/4478 [33:02<31:20:01, 26.02s/it]C:\\Users\\duPar\\Anaconda3\\envs\\oasis\\lib\\site-packages\\pandas\\core\\internals\\construction.py:576: VisibleDeprecationWarning: Creating an ndarray from ragged nested sequences (which is a list-or-tuple of lists-or-tuples-or ndarrays with different lengths or shapes) is deprecated. If you meant to do this, you must specify 'dtype=object' when creating the ndarray.\n",
      "  values = np.array([convert(v) for v in values])\n"
     ]
    },
    {
     "name": "stdout",
     "output_type": "stream",
     "text": [
      "120\n"
     ]
    },
    {
     "name": "stderr",
     "output_type": "stream",
     "text": [
      "  3%|██▍                                                                         | 143/4478 [33:31<32:21:50, 26.88s/it]C:\\Users\\duPar\\Anaconda3\\envs\\oasis\\lib\\site-packages\\pandas\\core\\internals\\construction.py:576: VisibleDeprecationWarning: Creating an ndarray from ragged nested sequences (which is a list-or-tuple of lists-or-tuples-or ndarrays with different lengths or shapes) is deprecated. If you meant to do this, you must specify 'dtype=object' when creating the ndarray.\n",
      "  values = np.array([convert(v) for v in values])\n",
      "  3%|██▍                                                                         | 144/4478 [33:59<32:50:37, 27.28s/it]C:\\Users\\duPar\\Anaconda3\\envs\\oasis\\lib\\site-packages\\pandas\\core\\internals\\construction.py:576: VisibleDeprecationWarning: Creating an ndarray from ragged nested sequences (which is a list-or-tuple of lists-or-tuples-or ndarrays with different lengths or shapes) is deprecated. If you meant to do this, you must specify 'dtype=object' when creating the ndarray.\n",
      "  values = np.array([convert(v) for v in values])\n"
     ]
    },
    {
     "name": "stdout",
     "output_type": "stream",
     "text": [
      "33\n",
      "41\n",
      "79\n",
      "122\n",
      "187\n",
      "190\n"
     ]
    },
    {
     "name": "stderr",
     "output_type": "stream",
     "text": [
      "  3%|██▍                                                                         | 145/4478 [34:28<33:27:24, 27.80s/it]C:\\Users\\duPar\\Anaconda3\\envs\\oasis\\lib\\site-packages\\pandas\\core\\internals\\construction.py:576: VisibleDeprecationWarning: Creating an ndarray from ragged nested sequences (which is a list-or-tuple of lists-or-tuples-or ndarrays with different lengths or shapes) is deprecated. If you meant to do this, you must specify 'dtype=object' when creating the ndarray.\n",
      "  values = np.array([convert(v) for v in values])\n"
     ]
    },
    {
     "name": "stdout",
     "output_type": "stream",
     "text": [
      "254\n"
     ]
    },
    {
     "name": "stderr",
     "output_type": "stream",
     "text": [
      "  3%|██▍                                                                         | 146/4478 [34:57<33:56:41, 28.21s/it]C:\\Users\\duPar\\Anaconda3\\envs\\oasis\\lib\\site-packages\\pandas\\core\\internals\\construction.py:576: VisibleDeprecationWarning: Creating an ndarray from ragged nested sequences (which is a list-or-tuple of lists-or-tuples-or ndarrays with different lengths or shapes) is deprecated. If you meant to do this, you must specify 'dtype=object' when creating the ndarray.\n",
      "  values = np.array([convert(v) for v in values])\n"
     ]
    },
    {
     "name": "stdout",
     "output_type": "stream",
     "text": [
      "291\n"
     ]
    },
    {
     "name": "stderr",
     "output_type": "stream",
     "text": [
      "  3%|██▍                                                                         | 147/4478 [35:28<34:38:25, 28.79s/it]C:\\Users\\duPar\\Anaconda3\\envs\\oasis\\lib\\site-packages\\pandas\\core\\internals\\construction.py:576: VisibleDeprecationWarning: Creating an ndarray from ragged nested sequences (which is a list-or-tuple of lists-or-tuples-or ndarrays with different lengths or shapes) is deprecated. If you meant to do this, you must specify 'dtype=object' when creating the ndarray.\n",
      "  values = np.array([convert(v) for v in values])\n"
     ]
    },
    {
     "name": "stdout",
     "output_type": "stream",
     "text": [
      "42\n",
      "148\n",
      "301\n",
      "414\n",
      "485\n"
     ]
    },
    {
     "name": "stderr",
     "output_type": "stream",
     "text": [
      "  3%|██▌                                                                         | 148/4478 [35:57<34:46:11, 28.91s/it]C:\\Users\\duPar\\Anaconda3\\envs\\oasis\\lib\\site-packages\\pandas\\core\\internals\\construction.py:576: VisibleDeprecationWarning: Creating an ndarray from ragged nested sequences (which is a list-or-tuple of lists-or-tuples-or ndarrays with different lengths or shapes) is deprecated. If you meant to do this, you must specify 'dtype=object' when creating the ndarray.\n",
      "  values = np.array([convert(v) for v in values])\n"
     ]
    },
    {
     "name": "stdout",
     "output_type": "stream",
     "text": [
      "2\n",
      "36\n",
      "45\n",
      "57\n",
      "66\n",
      "123\n",
      "282\n",
      "488\n"
     ]
    },
    {
     "name": "stderr",
     "output_type": "stream",
     "text": [
      "  3%|██▌                                                                         | 149/4478 [36:26<34:52:18, 29.00s/it]C:\\Users\\duPar\\Anaconda3\\envs\\oasis\\lib\\site-packages\\pandas\\core\\internals\\construction.py:576: VisibleDeprecationWarning: Creating an ndarray from ragged nested sequences (which is a list-or-tuple of lists-or-tuples-or ndarrays with different lengths or shapes) is deprecated. If you meant to do this, you must specify 'dtype=object' when creating the ndarray.\n",
      "  values = np.array([convert(v) for v in values])\n"
     ]
    },
    {
     "name": "stdout",
     "output_type": "stream",
     "text": [
      "10\n",
      "59\n",
      "60\n",
      "72\n",
      "295\n",
      "298\n"
     ]
    },
    {
     "name": "stderr",
     "output_type": "stream",
     "text": [
      "  3%|██▌                                                                         | 150/4478 [36:44<31:00:58, 25.80s/it]C:\\Users\\duPar\\Anaconda3\\envs\\oasis\\lib\\site-packages\\pandas\\core\\internals\\construction.py:576: VisibleDeprecationWarning: Creating an ndarray from ragged nested sequences (which is a list-or-tuple of lists-or-tuples-or ndarrays with different lengths or shapes) is deprecated. If you meant to do this, you must specify 'dtype=object' when creating the ndarray.\n",
      "  values = np.array([convert(v) for v in values])\n"
     ]
    },
    {
     "name": "stdout",
     "output_type": "stream",
     "text": [
      "258\n",
      "420\n"
     ]
    },
    {
     "name": "stderr",
     "output_type": "stream",
     "text": [
      "  3%|██▌                                                                         | 151/4478 [37:14<32:35:41, 27.12s/it]C:\\Users\\duPar\\Anaconda3\\envs\\oasis\\lib\\site-packages\\pandas\\core\\internals\\construction.py:576: VisibleDeprecationWarning: Creating an ndarray from ragged nested sequences (which is a list-or-tuple of lists-or-tuples-or ndarrays with different lengths or shapes) is deprecated. If you meant to do this, you must specify 'dtype=object' when creating the ndarray.\n",
      "  values = np.array([convert(v) for v in values])\n"
     ]
    },
    {
     "name": "stdout",
     "output_type": "stream",
     "text": [
      "79\n",
      "305\n",
      "311\n",
      "371\n"
     ]
    },
    {
     "name": "stderr",
     "output_type": "stream",
     "text": [
      "  3%|██▌                                                                         | 152/4478 [37:45<33:54:10, 28.21s/it]C:\\Users\\duPar\\Anaconda3\\envs\\oasis\\lib\\site-packages\\pandas\\core\\internals\\construction.py:576: VisibleDeprecationWarning: Creating an ndarray from ragged nested sequences (which is a list-or-tuple of lists-or-tuples-or ndarrays with different lengths or shapes) is deprecated. If you meant to do this, you must specify 'dtype=object' when creating the ndarray.\n",
      "  values = np.array([convert(v) for v in values])\n"
     ]
    },
    {
     "name": "stdout",
     "output_type": "stream",
     "text": [
      "140\n",
      "450\n",
      "471\n",
      "494\n"
     ]
    },
    {
     "name": "stderr",
     "output_type": "stream",
     "text": [
      "  3%|██▌                                                                         | 153/4478 [38:14<34:14:34, 28.50s/it]C:\\Users\\duPar\\Anaconda3\\envs\\oasis\\lib\\site-packages\\pandas\\core\\internals\\construction.py:576: VisibleDeprecationWarning: Creating an ndarray from ragged nested sequences (which is a list-or-tuple of lists-or-tuples-or ndarrays with different lengths or shapes) is deprecated. If you meant to do this, you must specify 'dtype=object' when creating the ndarray.\n",
      "  values = np.array([convert(v) for v in values])\n"
     ]
    },
    {
     "name": "stdout",
     "output_type": "stream",
     "text": [
      "1\n",
      "18\n",
      "70\n",
      "139\n"
     ]
    },
    {
     "name": "stderr",
     "output_type": "stream",
     "text": [
      "  3%|██▌                                                                         | 154/4478 [38:24<27:24:32, 22.82s/it]"
     ]
    },
    {
     "name": "stdout",
     "output_type": "stream",
     "text": [
      "157\n"
     ]
    },
    {
     "name": "stderr",
     "output_type": "stream",
     "text": [
      "C:\\Users\\duPar\\Anaconda3\\envs\\oasis\\lib\\site-packages\\pandas\\core\\internals\\construction.py:576: VisibleDeprecationWarning: Creating an ndarray from ragged nested sequences (which is a list-or-tuple of lists-or-tuples-or ndarrays with different lengths or shapes) is deprecated. If you meant to do this, you must specify 'dtype=object' when creating the ndarray.\n",
      "  values = np.array([convert(v) for v in values])\n"
     ]
    },
    {
     "name": "stdout",
     "output_type": "stream",
     "text": [
      "28\n",
      "288\n",
      "289\n",
      "326\n",
      "395\n",
      "453\n"
     ]
    },
    {
     "name": "stderr",
     "output_type": "stream",
     "text": [
      "  3%|██▋                                                                         | 155/4478 [38:53<29:43:47, 24.76s/it]C:\\Users\\duPar\\Anaconda3\\envs\\oasis\\lib\\site-packages\\pandas\\core\\internals\\construction.py:576: VisibleDeprecationWarning: Creating an ndarray from ragged nested sequences (which is a list-or-tuple of lists-or-tuples-or ndarrays with different lengths or shapes) is deprecated. If you meant to do this, you must specify 'dtype=object' when creating the ndarray.\n",
      "  values = np.array([convert(v) for v in values])\n",
      "  3%|██▋                                                                         | 156/4478 [39:24<31:48:14, 26.49s/it]C:\\Users\\duPar\\Anaconda3\\envs\\oasis\\lib\\site-packages\\pandas\\core\\internals\\construction.py:576: VisibleDeprecationWarning: Creating an ndarray from ragged nested sequences (which is a list-or-tuple of lists-or-tuples-or ndarrays with different lengths or shapes) is deprecated. If you meant to do this, you must specify 'dtype=object' when creating the ndarray.\n",
      "  values = np.array([convert(v) for v in values])\n"
     ]
    },
    {
     "name": "stdout",
     "output_type": "stream",
     "text": [
      "93\n",
      "484\n"
     ]
    },
    {
     "name": "stderr",
     "output_type": "stream",
     "text": [
      "  4%|██▋                                                                         | 158/4478 [39:54<23:14:11, 19.36s/it]C:\\Users\\duPar\\Anaconda3\\envs\\oasis\\lib\\site-packages\\pandas\\core\\internals\\construction.py:576: VisibleDeprecationWarning: Creating an ndarray from ragged nested sequences (which is a list-or-tuple of lists-or-tuples-or ndarrays with different lengths or shapes) is deprecated. If you meant to do this, you must specify 'dtype=object' when creating the ndarray.\n",
      "  values = np.array([convert(v) for v in values])\n"
     ]
    },
    {
     "name": "stdout",
     "output_type": "stream",
     "text": [
      "98\n",
      "178\n",
      "186\n",
      "267\n"
     ]
    },
    {
     "name": "stderr",
     "output_type": "stream",
     "text": [
      "  4%|██▋                                                                         | 159/4478 [40:24<27:06:34, 22.60s/it]C:\\Users\\duPar\\Anaconda3\\envs\\oasis\\lib\\site-packages\\pandas\\core\\internals\\construction.py:576: VisibleDeprecationWarning: Creating an ndarray from ragged nested sequences (which is a list-or-tuple of lists-or-tuples-or ndarrays with different lengths or shapes) is deprecated. If you meant to do this, you must specify 'dtype=object' when creating the ndarray.\n",
      "  values = np.array([convert(v) for v in values])\n"
     ]
    },
    {
     "name": "stdout",
     "output_type": "stream",
     "text": [
      "80\n"
     ]
    },
    {
     "name": "stderr",
     "output_type": "stream",
     "text": [
      "  4%|██▋                                                                         | 160/4478 [40:54<29:50:50, 24.88s/it]C:\\Users\\duPar\\Anaconda3\\envs\\oasis\\lib\\site-packages\\pandas\\core\\internals\\construction.py:576: VisibleDeprecationWarning: Creating an ndarray from ragged nested sequences (which is a list-or-tuple of lists-or-tuples-or ndarrays with different lengths or shapes) is deprecated. If you meant to do this, you must specify 'dtype=object' when creating the ndarray.\n",
      "  values = np.array([convert(v) for v in values])\n",
      "  4%|██▋                                                                         | 161/4478 [41:25<31:59:36, 26.68s/it]C:\\Users\\duPar\\Anaconda3\\envs\\oasis\\lib\\site-packages\\pandas\\core\\internals\\construction.py:576: VisibleDeprecationWarning: Creating an ndarray from ragged nested sequences (which is a list-or-tuple of lists-or-tuples-or ndarrays with different lengths or shapes) is deprecated. If you meant to do this, you must specify 'dtype=object' when creating the ndarray.\n",
      "  values = np.array([convert(v) for v in values])\n"
     ]
    },
    {
     "name": "stdout",
     "output_type": "stream",
     "text": [
      "1\n",
      "76\n",
      "329\n",
      "490\n"
     ]
    },
    {
     "name": "stderr",
     "output_type": "stream",
     "text": [
      "  4%|██▋                                                                         | 162/4478 [41:56<33:23:27, 27.85s/it]C:\\Users\\duPar\\Anaconda3\\envs\\oasis\\lib\\site-packages\\pandas\\core\\internals\\construction.py:576: VisibleDeprecationWarning: Creating an ndarray from ragged nested sequences (which is a list-or-tuple of lists-or-tuples-or ndarrays with different lengths or shapes) is deprecated. If you meant to do this, you must specify 'dtype=object' when creating the ndarray.\n",
      "  values = np.array([convert(v) for v in values])\n"
     ]
    },
    {
     "name": "stdout",
     "output_type": "stream",
     "text": [
      "42\n",
      "79\n",
      "104\n",
      "188\n",
      "226\n",
      "255\n"
     ]
    },
    {
     "name": "stderr",
     "output_type": "stream",
     "text": [
      "  4%|██▊                                                                         | 163/4478 [42:12<29:22:45, 24.51s/it]C:\\Users\\duPar\\Anaconda3\\envs\\oasis\\lib\\site-packages\\pandas\\core\\internals\\construction.py:576: VisibleDeprecationWarning: Creating an ndarray from ragged nested sequences (which is a list-or-tuple of lists-or-tuples-or ndarrays with different lengths or shapes) is deprecated. If you meant to do this, you must specify 'dtype=object' when creating the ndarray.\n",
      "  values = np.array([convert(v) for v in values])\n",
      "  4%|██▊                                                                         | 164/4478 [42:44<31:44:04, 26.48s/it]C:\\Users\\duPar\\Anaconda3\\envs\\oasis\\lib\\site-packages\\pandas\\core\\internals\\construction.py:576: VisibleDeprecationWarning: Creating an ndarray from ragged nested sequences (which is a list-or-tuple of lists-or-tuples-or ndarrays with different lengths or shapes) is deprecated. If you meant to do this, you must specify 'dtype=object' when creating the ndarray.\n",
      "  values = np.array([convert(v) for v in values])\n"
     ]
    },
    {
     "name": "stdout",
     "output_type": "stream",
     "text": [
      "327\n"
     ]
    },
    {
     "name": "stderr",
     "output_type": "stream",
     "text": [
      "  4%|██▊                                                                         | 165/4478 [43:15<33:27:54, 27.93s/it]C:\\Users\\duPar\\Anaconda3\\envs\\oasis\\lib\\site-packages\\pandas\\core\\internals\\construction.py:576: VisibleDeprecationWarning: Creating an ndarray from ragged nested sequences (which is a list-or-tuple of lists-or-tuples-or ndarrays with different lengths or shapes) is deprecated. If you meant to do this, you must specify 'dtype=object' when creating the ndarray.\n",
      "  values = np.array([convert(v) for v in values])\n"
     ]
    },
    {
     "name": "stdout",
     "output_type": "stream",
     "text": [
      "1\n",
      "7\n",
      "51\n",
      "338\n",
      "369\n"
     ]
    },
    {
     "name": "stderr",
     "output_type": "stream",
     "text": [
      "  4%|██▊                                                                         | 167/4478 [43:46<24:17:15, 20.28s/it]C:\\Users\\duPar\\Anaconda3\\envs\\oasis\\lib\\site-packages\\pandas\\core\\internals\\construction.py:576: VisibleDeprecationWarning: Creating an ndarray from ragged nested sequences (which is a list-or-tuple of lists-or-tuples-or ndarrays with different lengths or shapes) is deprecated. If you meant to do this, you must specify 'dtype=object' when creating the ndarray.\n",
      "  values = np.array([convert(v) for v in values])\n"
     ]
    },
    {
     "name": "stdout",
     "output_type": "stream",
     "text": [
      "79\n"
     ]
    },
    {
     "name": "stderr",
     "output_type": "stream",
     "text": [
      "  4%|██▊                                                                         | 168/4478 [44:18<28:20:27, 23.67s/it]C:\\Users\\duPar\\Anaconda3\\envs\\oasis\\lib\\site-packages\\pandas\\core\\internals\\construction.py:576: VisibleDeprecationWarning: Creating an ndarray from ragged nested sequences (which is a list-or-tuple of lists-or-tuples-or ndarrays with different lengths or shapes) is deprecated. If you meant to do this, you must specify 'dtype=object' when creating the ndarray.\n",
      "  values = np.array([convert(v) for v in values])\n",
      "  4%|██▊                                                                         | 169/4478 [44:50<31:22:09, 26.21s/it]C:\\Users\\duPar\\Anaconda3\\envs\\oasis\\lib\\site-packages\\pandas\\core\\internals\\construction.py:576: VisibleDeprecationWarning: Creating an ndarray from ragged nested sequences (which is a list-or-tuple of lists-or-tuples-or ndarrays with different lengths or shapes) is deprecated. If you meant to do this, you must specify 'dtype=object' when creating the ndarray.\n",
      "  values = np.array([convert(v) for v in values])\n"
     ]
    },
    {
     "name": "stdout",
     "output_type": "stream",
     "text": [
      "159\n"
     ]
    },
    {
     "name": "stderr",
     "output_type": "stream",
     "text": [
      "  4%|██▉                                                                         | 170/4478 [45:22<33:27:21, 27.96s/it]C:\\Users\\duPar\\Anaconda3\\envs\\oasis\\lib\\site-packages\\pandas\\core\\internals\\construction.py:576: VisibleDeprecationWarning: Creating an ndarray from ragged nested sequences (which is a list-or-tuple of lists-or-tuples-or ndarrays with different lengths or shapes) is deprecated. If you meant to do this, you must specify 'dtype=object' when creating the ndarray.\n",
      "  values = np.array([convert(v) for v in values])\n"
     ]
    },
    {
     "name": "stdout",
     "output_type": "stream",
     "text": [
      "297\n"
     ]
    },
    {
     "name": "stderr",
     "output_type": "stream",
     "text": [
      "  4%|██▉                                                                         | 171/4478 [45:54<34:56:49, 29.21s/it]C:\\Users\\duPar\\Anaconda3\\envs\\oasis\\lib\\site-packages\\pandas\\core\\internals\\construction.py:576: VisibleDeprecationWarning: Creating an ndarray from ragged nested sequences (which is a list-or-tuple of lists-or-tuples-or ndarrays with different lengths or shapes) is deprecated. If you meant to do this, you must specify 'dtype=object' when creating the ndarray.\n",
      "  values = np.array([convert(v) for v in values])\n",
      "  4%|██▉                                                                         | 172/4478 [46:27<36:09:59, 30.24s/it]C:\\Users\\duPar\\Anaconda3\\envs\\oasis\\lib\\site-packages\\pandas\\core\\internals\\construction.py:576: VisibleDeprecationWarning: Creating an ndarray from ragged nested sequences (which is a list-or-tuple of lists-or-tuples-or ndarrays with different lengths or shapes) is deprecated. If you meant to do this, you must specify 'dtype=object' when creating the ndarray.\n",
      "  values = np.array([convert(v) for v in values])\n"
     ]
    },
    {
     "name": "stdout",
     "output_type": "stream",
     "text": [
      "3\n"
     ]
    },
    {
     "name": "stderr",
     "output_type": "stream",
     "text": [
      "  4%|██▉                                                                         | 173/4478 [46:59<37:03:10, 30.99s/it]C:\\Users\\duPar\\Anaconda3\\envs\\oasis\\lib\\site-packages\\pandas\\core\\internals\\construction.py:576: VisibleDeprecationWarning: Creating an ndarray from ragged nested sequences (which is a list-or-tuple of lists-or-tuples-or ndarrays with different lengths or shapes) is deprecated. If you meant to do this, you must specify 'dtype=object' when creating the ndarray.\n",
      "  values = np.array([convert(v) for v in values])\n"
     ]
    },
    {
     "name": "stdout",
     "output_type": "stream",
     "text": [
      "227\n"
     ]
    },
    {
     "name": "stderr",
     "output_type": "stream",
     "text": [
      "  4%|██▉                                                                         | 174/4478 [47:33<37:56:50, 31.74s/it]C:\\Users\\duPar\\Anaconda3\\envs\\oasis\\lib\\site-packages\\pandas\\core\\internals\\construction.py:576: VisibleDeprecationWarning: Creating an ndarray from ragged nested sequences (which is a list-or-tuple of lists-or-tuples-or ndarrays with different lengths or shapes) is deprecated. If you meant to do this, you must specify 'dtype=object' when creating the ndarray.\n",
      "  values = np.array([convert(v) for v in values])\n",
      "  4%|██▉                                                                         | 175/4478 [48:06<38:26:28, 32.16s/it]C:\\Users\\duPar\\Anaconda3\\envs\\oasis\\lib\\site-packages\\pandas\\core\\internals\\construction.py:576: VisibleDeprecationWarning: Creating an ndarray from ragged nested sequences (which is a list-or-tuple of lists-or-tuples-or ndarrays with different lengths or shapes) is deprecated. If you meant to do this, you must specify 'dtype=object' when creating the ndarray.\n",
      "  values = np.array([convert(v) for v in values])\n",
      "  4%|██▉                                                                         | 176/4478 [48:39<38:48:49, 32.48s/it]C:\\Users\\duPar\\Anaconda3\\envs\\oasis\\lib\\site-packages\\pandas\\core\\internals\\construction.py:576: VisibleDeprecationWarning: Creating an ndarray from ragged nested sequences (which is a list-or-tuple of lists-or-tuples-or ndarrays with different lengths or shapes) is deprecated. If you meant to do this, you must specify 'dtype=object' when creating the ndarray.\n",
      "  values = np.array([convert(v) for v in values])\n"
     ]
    },
    {
     "name": "stdout",
     "output_type": "stream",
     "text": [
      "378\n"
     ]
    },
    {
     "name": "stderr",
     "output_type": "stream",
     "text": [
      "  4%|███                                                                         | 177/4478 [49:12<39:03:33, 32.69s/it]C:\\Users\\duPar\\Anaconda3\\envs\\oasis\\lib\\site-packages\\pandas\\core\\internals\\construction.py:576: VisibleDeprecationWarning: Creating an ndarray from ragged nested sequences (which is a list-or-tuple of lists-or-tuples-or ndarrays with different lengths or shapes) is deprecated. If you meant to do this, you must specify 'dtype=object' when creating the ndarray.\n",
      "  values = np.array([convert(v) for v in values])\n",
      "  4%|███                                                                         | 178/4478 [49:46<39:31:44, 33.09s/it]C:\\Users\\duPar\\Anaconda3\\envs\\oasis\\lib\\site-packages\\pandas\\core\\internals\\construction.py:576: VisibleDeprecationWarning: Creating an ndarray from ragged nested sequences (which is a list-or-tuple of lists-or-tuples-or ndarrays with different lengths or shapes) is deprecated. If you meant to do this, you must specify 'dtype=object' when creating the ndarray.\n",
      "  values = np.array([convert(v) for v in values])\n",
      "  4%|███                                                                         | 179/4478 [50:21<40:00:46, 33.51s/it]C:\\Users\\duPar\\Anaconda3\\envs\\oasis\\lib\\site-packages\\pandas\\core\\internals\\construction.py:576: VisibleDeprecationWarning: Creating an ndarray from ragged nested sequences (which is a list-or-tuple of lists-or-tuples-or ndarrays with different lengths or shapes) is deprecated. If you meant to do this, you must specify 'dtype=object' when creating the ndarray.\n",
      "  values = np.array([convert(v) for v in values])\n"
     ]
    },
    {
     "name": "stdout",
     "output_type": "stream",
     "text": [
      "316\n"
     ]
    },
    {
     "name": "stderr",
     "output_type": "stream",
     "text": [
      "  4%|███                                                                         | 180/4478 [50:57<40:45:53, 34.14s/it]C:\\Users\\duPar\\Anaconda3\\envs\\oasis\\lib\\site-packages\\pandas\\core\\internals\\construction.py:576: VisibleDeprecationWarning: Creating an ndarray from ragged nested sequences (which is a list-or-tuple of lists-or-tuples-or ndarrays with different lengths or shapes) is deprecated. If you meant to do this, you must specify 'dtype=object' when creating the ndarray.\n",
      "  values = np.array([convert(v) for v in values])\n",
      "  4%|███                                                                         | 181/4478 [51:31<40:53:21, 34.26s/it]C:\\Users\\duPar\\Anaconda3\\envs\\oasis\\lib\\site-packages\\pandas\\core\\internals\\construction.py:576: VisibleDeprecationWarning: Creating an ndarray from ragged nested sequences (which is a list-or-tuple of lists-or-tuples-or ndarrays with different lengths or shapes) is deprecated. If you meant to do this, you must specify 'dtype=object' when creating the ndarray.\n",
      "  values = np.array([convert(v) for v in values])\n"
     ]
    },
    {
     "name": "stdout",
     "output_type": "stream",
     "text": [
      "41\n"
     ]
    },
    {
     "name": "stderr",
     "output_type": "stream",
     "text": [
      "  4%|███                                                                         | 182/4478 [52:07<41:22:45, 34.68s/it]C:\\Users\\duPar\\Anaconda3\\envs\\oasis\\lib\\site-packages\\pandas\\core\\internals\\construction.py:576: VisibleDeprecationWarning: Creating an ndarray from ragged nested sequences (which is a list-or-tuple of lists-or-tuples-or ndarrays with different lengths or shapes) is deprecated. If you meant to do this, you must specify 'dtype=object' when creating the ndarray.\n",
      "  values = np.array([convert(v) for v in values])\n"
     ]
    },
    {
     "name": "stdout",
     "output_type": "stream",
     "text": [
      "224\n",
      "474\n"
     ]
    },
    {
     "name": "stderr",
     "output_type": "stream",
     "text": [
      "  4%|███                                                                         | 183/4478 [52:43<41:53:09, 35.11s/it]C:\\Users\\duPar\\Anaconda3\\envs\\oasis\\lib\\site-packages\\pandas\\core\\internals\\construction.py:576: VisibleDeprecationWarning: Creating an ndarray from ragged nested sequences (which is a list-or-tuple of lists-or-tuples-or ndarrays with different lengths or shapes) is deprecated. If you meant to do this, you must specify 'dtype=object' when creating the ndarray.\n",
      "  values = np.array([convert(v) for v in values])\n"
     ]
    },
    {
     "name": "stdout",
     "output_type": "stream",
     "text": [
      "86\n"
     ]
    },
    {
     "name": "stderr",
     "output_type": "stream",
     "text": [
      "  4%|███                                                                         | 184/4478 [53:18<41:57:48, 35.18s/it]C:\\Users\\duPar\\Anaconda3\\envs\\oasis\\lib\\site-packages\\pandas\\core\\internals\\construction.py:576: VisibleDeprecationWarning: Creating an ndarray from ragged nested sequences (which is a list-or-tuple of lists-or-tuples-or ndarrays with different lengths or shapes) is deprecated. If you meant to do this, you must specify 'dtype=object' when creating the ndarray.\n",
      "  values = np.array([convert(v) for v in values])\n",
      "  4%|███▏                                                                        | 185/4478 [53:54<42:16:49, 35.46s/it]C:\\Users\\duPar\\Anaconda3\\envs\\oasis\\lib\\site-packages\\pandas\\core\\internals\\construction.py:576: VisibleDeprecationWarning: Creating an ndarray from ragged nested sequences (which is a list-or-tuple of lists-or-tuples-or ndarrays with different lengths or shapes) is deprecated. If you meant to do this, you must specify 'dtype=object' when creating the ndarray.\n",
      "  values = np.array([convert(v) for v in values])\n"
     ]
    },
    {
     "name": "stdout",
     "output_type": "stream",
     "text": [
      "76\n",
      "264\n"
     ]
    },
    {
     "name": "stderr",
     "output_type": "stream",
     "text": [
      "  4%|███▏                                                                        | 186/4478 [54:35<44:08:07, 37.02s/it]C:\\Users\\duPar\\Anaconda3\\envs\\oasis\\lib\\site-packages\\pandas\\core\\internals\\construction.py:576: VisibleDeprecationWarning: Creating an ndarray from ragged nested sequences (which is a list-or-tuple of lists-or-tuples-or ndarrays with different lengths or shapes) is deprecated. If you meant to do this, you must specify 'dtype=object' when creating the ndarray.\n",
      "  values = np.array([convert(v) for v in values])\n"
     ]
    },
    {
     "name": "stdout",
     "output_type": "stream",
     "text": [
      "205\n"
     ]
    },
    {
     "name": "stderr",
     "output_type": "stream",
     "text": [
      "  4%|███▏                                                                        | 187/4478 [55:11<43:43:38, 36.69s/it]C:\\Users\\duPar\\Anaconda3\\envs\\oasis\\lib\\site-packages\\pandas\\core\\internals\\construction.py:576: VisibleDeprecationWarning: Creating an ndarray from ragged nested sequences (which is a list-or-tuple of lists-or-tuples-or ndarrays with different lengths or shapes) is deprecated. If you meant to do this, you must specify 'dtype=object' when creating the ndarray.\n",
      "  values = np.array([convert(v) for v in values])\n"
     ]
    },
    {
     "name": "stdout",
     "output_type": "stream",
     "text": [
      "1\n",
      "4\n",
      "60\n",
      "98\n",
      "101\n",
      "121\n",
      "230\n",
      "252\n",
      "253\n",
      "266\n"
     ]
    },
    {
     "name": "stderr",
     "output_type": "stream",
     "text": [
      "  4%|███▏                                                                        | 188/4478 [55:47<43:27:00, 36.46s/it]C:\\Users\\duPar\\Anaconda3\\envs\\oasis\\lib\\site-packages\\pandas\\core\\internals\\construction.py:576: VisibleDeprecationWarning: Creating an ndarray from ragged nested sequences (which is a list-or-tuple of lists-or-tuples-or ndarrays with different lengths or shapes) is deprecated. If you meant to do this, you must specify 'dtype=object' when creating the ndarray.\n",
      "  values = np.array([convert(v) for v in values])\n"
     ]
    },
    {
     "name": "stdout",
     "output_type": "stream",
     "text": [
      "68\n",
      "376\n"
     ]
    },
    {
     "name": "stderr",
     "output_type": "stream",
     "text": [
      "  4%|███▏                                                                        | 189/4478 [56:24<43:50:07, 36.79s/it]C:\\Users\\duPar\\Anaconda3\\envs\\oasis\\lib\\site-packages\\pandas\\core\\internals\\construction.py:576: VisibleDeprecationWarning: Creating an ndarray from ragged nested sequences (which is a list-or-tuple of lists-or-tuples-or ndarrays with different lengths or shapes) is deprecated. If you meant to do this, you must specify 'dtype=object' when creating the ndarray.\n",
      "  values = np.array([convert(v) for v in values])\n",
      "  4%|███▏                                                                        | 190/4478 [57:02<43:59:19, 36.93s/it]C:\\Users\\duPar\\Anaconda3\\envs\\oasis\\lib\\site-packages\\pandas\\core\\internals\\construction.py:576: VisibleDeprecationWarning: Creating an ndarray from ragged nested sequences (which is a list-or-tuple of lists-or-tuples-or ndarrays with different lengths or shapes) is deprecated. If you meant to do this, you must specify 'dtype=object' when creating the ndarray.\n",
      "  values = np.array([convert(v) for v in values])\n"
     ]
    },
    {
     "name": "stdout",
     "output_type": "stream",
     "text": [
      "113\n"
     ]
    },
    {
     "name": "stderr",
     "output_type": "stream",
     "text": [
      "  4%|███▏                                                                        | 191/4478 [57:39<44:07:57, 37.06s/it]C:\\Users\\duPar\\Anaconda3\\envs\\oasis\\lib\\site-packages\\pandas\\core\\internals\\construction.py:576: VisibleDeprecationWarning: Creating an ndarray from ragged nested sequences (which is a list-or-tuple of lists-or-tuples-or ndarrays with different lengths or shapes) is deprecated. If you meant to do this, you must specify 'dtype=object' when creating the ndarray.\n",
      "  values = np.array([convert(v) for v in values])\n"
     ]
    },
    {
     "name": "stdout",
     "output_type": "stream",
     "text": [
      "121\n",
      "167\n",
      "216\n",
      "424\n",
      "442\n"
     ]
    },
    {
     "name": "stderr",
     "output_type": "stream",
     "text": [
      "  4%|███▎                                                                        | 192/4478 [58:15<43:48:41, 36.80s/it]C:\\Users\\duPar\\Anaconda3\\envs\\oasis\\lib\\site-packages\\pandas\\core\\internals\\construction.py:576: VisibleDeprecationWarning: Creating an ndarray from ragged nested sequences (which is a list-or-tuple of lists-or-tuples-or ndarrays with different lengths or shapes) is deprecated. If you meant to do this, you must specify 'dtype=object' when creating the ndarray.\n",
      "  values = np.array([convert(v) for v in values])\n",
      "  4%|███▎                                                                        | 193/4478 [58:52<43:42:14, 36.72s/it]C:\\Users\\duPar\\Anaconda3\\envs\\oasis\\lib\\site-packages\\pandas\\core\\internals\\construction.py:576: VisibleDeprecationWarning: Creating an ndarray from ragged nested sequences (which is a list-or-tuple of lists-or-tuples-or ndarrays with different lengths or shapes) is deprecated. If you meant to do this, you must specify 'dtype=object' when creating the ndarray.\n",
      "  values = np.array([convert(v) for v in values])\n"
     ]
    },
    {
     "name": "stdout",
     "output_type": "stream",
     "text": [
      "198\n"
     ]
    },
    {
     "name": "stderr",
     "output_type": "stream",
     "text": [
      "  4%|███▎                                                                        | 194/4478 [59:30<44:14:31, 37.18s/it]C:\\Users\\duPar\\Anaconda3\\envs\\oasis\\lib\\site-packages\\pandas\\core\\internals\\construction.py:576: VisibleDeprecationWarning: Creating an ndarray from ragged nested sequences (which is a list-or-tuple of lists-or-tuples-or ndarrays with different lengths or shapes) is deprecated. If you meant to do this, you must specify 'dtype=object' when creating the ndarray.\n",
      "  values = np.array([convert(v) for v in values])\n",
      "  4%|███▏                                                                      | 196/4478 [1:00:08<31:14:59, 26.27s/it]C:\\Users\\duPar\\Anaconda3\\envs\\oasis\\lib\\site-packages\\pandas\\core\\internals\\construction.py:576: VisibleDeprecationWarning: Creating an ndarray from ragged nested sequences (which is a list-or-tuple of lists-or-tuples-or ndarrays with different lengths or shapes) is deprecated. If you meant to do this, you must specify 'dtype=object' when creating the ndarray.\n",
      "  values = np.array([convert(v) for v in values])\n"
     ]
    },
    {
     "name": "stdout",
     "output_type": "stream",
     "text": [
      "245\n",
      "275\n"
     ]
    },
    {
     "name": "stderr",
     "output_type": "stream",
     "text": [
      "  4%|███▎                                                                      | 197/4478 [1:00:46<35:16:40, 29.67s/it]C:\\Users\\duPar\\Anaconda3\\envs\\oasis\\lib\\site-packages\\pandas\\core\\internals\\construction.py:576: VisibleDeprecationWarning: Creating an ndarray from ragged nested sequences (which is a list-or-tuple of lists-or-tuples-or ndarrays with different lengths or shapes) is deprecated. If you meant to do this, you must specify 'dtype=object' when creating the ndarray.\n",
      "  values = np.array([convert(v) for v in values])\n"
     ]
    },
    {
     "name": "stdout",
     "output_type": "stream",
     "text": [
      "32\n",
      "39\n",
      "173\n"
     ]
    },
    {
     "name": "stderr",
     "output_type": "stream",
     "text": [
      "  4%|███▎                                                                      | 198/4478 [1:01:23<38:12:01, 32.13s/it]C:\\Users\\duPar\\Anaconda3\\envs\\oasis\\lib\\site-packages\\pandas\\core\\internals\\construction.py:576: VisibleDeprecationWarning: Creating an ndarray from ragged nested sequences (which is a list-or-tuple of lists-or-tuples-or ndarrays with different lengths or shapes) is deprecated. If you meant to do this, you must specify 'dtype=object' when creating the ndarray.\n",
      "  values = np.array([convert(v) for v in values])\n"
     ]
    },
    {
     "name": "stdout",
     "output_type": "stream",
     "text": [
      "61\n",
      "403\n"
     ]
    },
    {
     "name": "stderr",
     "output_type": "stream",
     "text": [
      "  4%|███▎                                                                      | 199/4478 [1:02:01<40:05:37, 33.73s/it]C:\\Users\\duPar\\Anaconda3\\envs\\oasis\\lib\\site-packages\\pandas\\core\\internals\\construction.py:576: VisibleDeprecationWarning: Creating an ndarray from ragged nested sequences (which is a list-or-tuple of lists-or-tuples-or ndarrays with different lengths or shapes) is deprecated. If you meant to do this, you must specify 'dtype=object' when creating the ndarray.\n",
      "  values = np.array([convert(v) for v in values])\n",
      "  4%|███▎                                                                      | 200/4478 [1:02:39<41:44:33, 35.13s/it]C:\\Users\\duPar\\Anaconda3\\envs\\oasis\\lib\\site-packages\\pandas\\core\\internals\\construction.py:576: VisibleDeprecationWarning: Creating an ndarray from ragged nested sequences (which is a list-or-tuple of lists-or-tuples-or ndarrays with different lengths or shapes) is deprecated. If you meant to do this, you must specify 'dtype=object' when creating the ndarray.\n",
      "  values = np.array([convert(v) for v in values])\n"
     ]
    },
    {
     "name": "stdout",
     "output_type": "stream",
     "text": [
      "94\n",
      "311\n",
      "333\n"
     ]
    },
    {
     "name": "stderr",
     "output_type": "stream",
     "text": [
      "  4%|███▎                                                                      | 201/4478 [1:03:18<42:55:46, 36.13s/it]C:\\Users\\duPar\\Anaconda3\\envs\\oasis\\lib\\site-packages\\pandas\\core\\internals\\construction.py:576: VisibleDeprecationWarning: Creating an ndarray from ragged nested sequences (which is a list-or-tuple of lists-or-tuples-or ndarrays with different lengths or shapes) is deprecated. If you meant to do this, you must specify 'dtype=object' when creating the ndarray.\n",
      "  values = np.array([convert(v) for v in values])\n"
     ]
    },
    {
     "name": "stdout",
     "output_type": "stream",
     "text": [
      "53\n",
      "375\n"
     ]
    },
    {
     "name": "stderr",
     "output_type": "stream",
     "text": [
      "  5%|███▎                                                                      | 202/4478 [1:03:56<43:49:49, 36.90s/it]C:\\Users\\duPar\\Anaconda3\\envs\\oasis\\lib\\site-packages\\pandas\\core\\internals\\construction.py:576: VisibleDeprecationWarning: Creating an ndarray from ragged nested sequences (which is a list-or-tuple of lists-or-tuples-or ndarrays with different lengths or shapes) is deprecated. If you meant to do this, you must specify 'dtype=object' when creating the ndarray.\n",
      "  values = np.array([convert(v) for v in values])\n"
     ]
    },
    {
     "name": "stdout",
     "output_type": "stream",
     "text": [
      "11\n",
      "466\n",
      "475\n"
     ]
    },
    {
     "name": "stderr",
     "output_type": "stream",
     "text": [
      "  5%|███▎                                                                      | 203/4478 [1:04:35<44:28:35, 37.45s/it]C:\\Users\\duPar\\Anaconda3\\envs\\oasis\\lib\\site-packages\\pandas\\core\\internals\\construction.py:576: VisibleDeprecationWarning: Creating an ndarray from ragged nested sequences (which is a list-or-tuple of lists-or-tuples-or ndarrays with different lengths or shapes) is deprecated. If you meant to do this, you must specify 'dtype=object' when creating the ndarray.\n",
      "  values = np.array([convert(v) for v in values])\n"
     ]
    },
    {
     "name": "stdout",
     "output_type": "stream",
     "text": [
      "21\n"
     ]
    },
    {
     "name": "stderr",
     "output_type": "stream",
     "text": [
      "  5%|███▎                                                                      | 204/4478 [1:05:14<45:05:19, 37.98s/it]C:\\Users\\duPar\\Anaconda3\\envs\\oasis\\lib\\site-packages\\pandas\\core\\internals\\construction.py:576: VisibleDeprecationWarning: Creating an ndarray from ragged nested sequences (which is a list-or-tuple of lists-or-tuples-or ndarrays with different lengths or shapes) is deprecated. If you meant to do this, you must specify 'dtype=object' when creating the ndarray.\n",
      "  values = np.array([convert(v) for v in values])\n"
     ]
    },
    {
     "name": "stdout",
     "output_type": "stream",
     "text": [
      "276\n",
      "393\n"
     ]
    },
    {
     "name": "stderr",
     "output_type": "stream",
     "text": [
      "  5%|███▍                                                                      | 205/4478 [1:05:54<45:35:34, 38.41s/it]C:\\Users\\duPar\\Anaconda3\\envs\\oasis\\lib\\site-packages\\pandas\\core\\internals\\construction.py:576: VisibleDeprecationWarning: Creating an ndarray from ragged nested sequences (which is a list-or-tuple of lists-or-tuples-or ndarrays with different lengths or shapes) is deprecated. If you meant to do this, you must specify 'dtype=object' when creating the ndarray.\n",
      "  values = np.array([convert(v) for v in values])\n",
      "  5%|███▍                                                                      | 206/4478 [1:06:34<46:03:49, 38.82s/it]C:\\Users\\duPar\\Anaconda3\\envs\\oasis\\lib\\site-packages\\pandas\\core\\internals\\construction.py:576: VisibleDeprecationWarning: Creating an ndarray from ragged nested sequences (which is a list-or-tuple of lists-or-tuples-or ndarrays with different lengths or shapes) is deprecated. If you meant to do this, you must specify 'dtype=object' when creating the ndarray.\n",
      "  values = np.array([convert(v) for v in values])\n",
      "  5%|███▍                                                                      | 207/4478 [1:07:13<46:22:20, 39.09s/it]C:\\Users\\duPar\\Anaconda3\\envs\\oasis\\lib\\site-packages\\pandas\\core\\internals\\construction.py:576: VisibleDeprecationWarning: Creating an ndarray from ragged nested sequences (which is a list-or-tuple of lists-or-tuples-or ndarrays with different lengths or shapes) is deprecated. If you meant to do this, you must specify 'dtype=object' when creating the ndarray.\n",
      "  values = np.array([convert(v) for v in values])\n",
      "  5%|███▍                                                                      | 209/4478 [1:07:54<32:48:07, 27.66s/it]C:\\Users\\duPar\\Anaconda3\\envs\\oasis\\lib\\site-packages\\pandas\\core\\internals\\construction.py:576: VisibleDeprecationWarning: Creating an ndarray from ragged nested sequences (which is a list-or-tuple of lists-or-tuples-or ndarrays with different lengths or shapes) is deprecated. If you meant to do this, you must specify 'dtype=object' when creating the ndarray.\n",
      "  values = np.array([convert(v) for v in values])\n",
      "  5%|███▍                                                                      | 210/4478 [1:08:35<37:35:08, 31.70s/it]C:\\Users\\duPar\\Anaconda3\\envs\\oasis\\lib\\site-packages\\pandas\\core\\internals\\construction.py:576: VisibleDeprecationWarning: Creating an ndarray from ragged nested sequences (which is a list-or-tuple of lists-or-tuples-or ndarrays with different lengths or shapes) is deprecated. If you meant to do this, you must specify 'dtype=object' when creating the ndarray.\n",
      "  values = np.array([convert(v) for v in values])\n"
     ]
    },
    {
     "name": "stdout",
     "output_type": "stream",
     "text": [
      "358\n",
      "424\n"
     ]
    },
    {
     "name": "stderr",
     "output_type": "stream",
     "text": [
      "  5%|███▍                                                                      | 211/4478 [1:09:18<41:40:50, 35.17s/it]C:\\Users\\duPar\\Anaconda3\\envs\\oasis\\lib\\site-packages\\pandas\\core\\internals\\construction.py:576: VisibleDeprecationWarning: Creating an ndarray from ragged nested sequences (which is a list-or-tuple of lists-or-tuples-or ndarrays with different lengths or shapes) is deprecated. If you meant to do this, you must specify 'dtype=object' when creating the ndarray.\n",
      "  values = np.array([convert(v) for v in values])\n"
     ]
    },
    {
     "name": "stdout",
     "output_type": "stream",
     "text": [
      "390\n"
     ]
    },
    {
     "name": "stderr",
     "output_type": "stream",
     "text": [
      "  5%|███▌                                                                      | 212/4478 [1:09:59<43:42:51, 36.89s/it]C:\\Users\\duPar\\Anaconda3\\envs\\oasis\\lib\\site-packages\\pandas\\core\\internals\\construction.py:576: VisibleDeprecationWarning: Creating an ndarray from ragged nested sequences (which is a list-or-tuple of lists-or-tuples-or ndarrays with different lengths or shapes) is deprecated. If you meant to do this, you must specify 'dtype=object' when creating the ndarray.\n",
      "  values = np.array([convert(v) for v in values])\n",
      "  5%|███▌                                                                      | 213/4478 [1:10:41<45:30:26, 38.41s/it]C:\\Users\\duPar\\Anaconda3\\envs\\oasis\\lib\\site-packages\\pandas\\core\\internals\\construction.py:576: VisibleDeprecationWarning: Creating an ndarray from ragged nested sequences (which is a list-or-tuple of lists-or-tuples-or ndarrays with different lengths or shapes) is deprecated. If you meant to do this, you must specify 'dtype=object' when creating the ndarray.\n",
      "  values = np.array([convert(v) for v in values])\n"
     ]
    },
    {
     "name": "stdout",
     "output_type": "stream",
     "text": [
      "2\n"
     ]
    },
    {
     "name": "stderr",
     "output_type": "stream",
     "text": [
      "  5%|███▌                                                                      | 214/4478 [1:11:23<46:52:55, 39.58s/it]C:\\Users\\duPar\\Anaconda3\\envs\\oasis\\lib\\site-packages\\pandas\\core\\internals\\construction.py:576: VisibleDeprecationWarning: Creating an ndarray from ragged nested sequences (which is a list-or-tuple of lists-or-tuples-or ndarrays with different lengths or shapes) is deprecated. If you meant to do this, you must specify 'dtype=object' when creating the ndarray.\n",
      "  values = np.array([convert(v) for v in values])\n"
     ]
    },
    {
     "name": "stdout",
     "output_type": "stream",
     "text": [
      "63\n",
      "363\n"
     ]
    },
    {
     "name": "stderr",
     "output_type": "stream",
     "text": [
      "  5%|███▌                                                                      | 215/4478 [1:11:56<44:37:56, 37.69s/it]C:\\Users\\duPar\\Anaconda3\\envs\\oasis\\lib\\site-packages\\pandas\\core\\internals\\construction.py:576: VisibleDeprecationWarning: Creating an ndarray from ragged nested sequences (which is a list-or-tuple of lists-or-tuples-or ndarrays with different lengths or shapes) is deprecated. If you meant to do this, you must specify 'dtype=object' when creating the ndarray.\n",
      "  values = np.array([convert(v) for v in values])\n"
     ]
    },
    {
     "name": "stdout",
     "output_type": "stream",
     "text": [
      "54\n"
     ]
    },
    {
     "name": "stderr",
     "output_type": "stream",
     "text": [
      "  5%|███▌                                                                      | 216/4478 [1:12:39<46:13:52, 39.05s/it]C:\\Users\\duPar\\Anaconda3\\envs\\oasis\\lib\\site-packages\\pandas\\core\\internals\\construction.py:576: VisibleDeprecationWarning: Creating an ndarray from ragged nested sequences (which is a list-or-tuple of lists-or-tuples-or ndarrays with different lengths or shapes) is deprecated. If you meant to do this, you must specify 'dtype=object' when creating the ndarray.\n",
      "  values = np.array([convert(v) for v in values])\n",
      "  5%|███▌                                                                      | 217/4478 [1:12:50<36:17:46, 30.67s/it]C:\\Users\\duPar\\Anaconda3\\envs\\oasis\\lib\\site-packages\\pandas\\core\\internals\\construction.py:576: VisibleDeprecationWarning: Creating an ndarray from ragged nested sequences (which is a list-or-tuple of lists-or-tuples-or ndarrays with different lengths or shapes) is deprecated. If you meant to do this, you must specify 'dtype=object' when creating the ndarray.\n",
      "  values = np.array([convert(v) for v in values])\n"
     ]
    },
    {
     "name": "stdout",
     "output_type": "stream",
     "text": [
      "486\n",
      "490\n"
     ]
    },
    {
     "name": "stderr",
     "output_type": "stream",
     "text": [
      "  5%|███▌                                                                      | 218/4478 [1:13:32<40:26:01, 34.17s/it]C:\\Users\\duPar\\Anaconda3\\envs\\oasis\\lib\\site-packages\\pandas\\core\\internals\\construction.py:576: VisibleDeprecationWarning: Creating an ndarray from ragged nested sequences (which is a list-or-tuple of lists-or-tuples-or ndarrays with different lengths or shapes) is deprecated. If you meant to do this, you must specify 'dtype=object' when creating the ndarray.\n",
      "  values = np.array([convert(v) for v in values])\n"
     ]
    },
    {
     "name": "stdout",
     "output_type": "stream",
     "text": [
      "214\n",
      "436\n",
      "487\n"
     ]
    },
    {
     "name": "stderr",
     "output_type": "stream",
     "text": [
      "  5%|███▌                                                                      | 219/4478 [1:14:14<43:16:21, 36.58s/it]C:\\Users\\duPar\\Anaconda3\\envs\\oasis\\lib\\site-packages\\pandas\\core\\internals\\construction.py:576: VisibleDeprecationWarning: Creating an ndarray from ragged nested sequences (which is a list-or-tuple of lists-or-tuples-or ndarrays with different lengths or shapes) is deprecated. If you meant to do this, you must specify 'dtype=object' when creating the ndarray.\n",
      "  values = np.array([convert(v) for v in values])\n",
      "  5%|███▋                                                                      | 220/4478 [1:14:30<35:52:50, 30.34s/it]C:\\Users\\duPar\\Anaconda3\\envs\\oasis\\lib\\site-packages\\pandas\\core\\internals\\construction.py:576: VisibleDeprecationWarning: Creating an ndarray from ragged nested sequences (which is a list-or-tuple of lists-or-tuples-or ndarrays with different lengths or shapes) is deprecated. If you meant to do this, you must specify 'dtype=object' when creating the ndarray.\n",
      "  values = np.array([convert(v) for v in values])\n"
     ]
    },
    {
     "name": "stdout",
     "output_type": "stream",
     "text": [
      "183\n"
     ]
    },
    {
     "name": "stderr",
     "output_type": "stream",
     "text": [
      "  5%|███▋                                                                      | 221/4478 [1:15:14<40:32:02, 34.28s/it]C:\\Users\\duPar\\Anaconda3\\envs\\oasis\\lib\\site-packages\\pandas\\core\\internals\\construction.py:576: VisibleDeprecationWarning: Creating an ndarray from ragged nested sequences (which is a list-or-tuple of lists-or-tuples-or ndarrays with different lengths or shapes) is deprecated. If you meant to do this, you must specify 'dtype=object' when creating the ndarray.\n",
      "  values = np.array([convert(v) for v in values])\n",
      "  5%|███▋                                                                      | 222/4478 [1:15:57<43:45:17, 37.01s/it]C:\\Users\\duPar\\Anaconda3\\envs\\oasis\\lib\\site-packages\\pandas\\core\\internals\\construction.py:576: VisibleDeprecationWarning: Creating an ndarray from ragged nested sequences (which is a list-or-tuple of lists-or-tuples-or ndarrays with different lengths or shapes) is deprecated. If you meant to do this, you must specify 'dtype=object' when creating the ndarray.\n",
      "  values = np.array([convert(v) for v in values])\n"
     ]
    },
    {
     "name": "stdout",
     "output_type": "stream",
     "text": [
      "346\n"
     ]
    },
    {
     "name": "stderr",
     "output_type": "stream",
     "text": [
      "  5%|███▋                                                                      | 223/4478 [1:16:41<46:16:30, 39.15s/it]C:\\Users\\duPar\\Anaconda3\\envs\\oasis\\lib\\site-packages\\pandas\\core\\internals\\construction.py:576: VisibleDeprecationWarning: Creating an ndarray from ragged nested sequences (which is a list-or-tuple of lists-or-tuples-or ndarrays with different lengths or shapes) is deprecated. If you meant to do this, you must specify 'dtype=object' when creating the ndarray.\n",
      "  values = np.array([convert(v) for v in values])\n"
     ]
    },
    {
     "name": "stdout",
     "output_type": "stream",
     "text": [
      "213\n",
      "283\n",
      "399\n"
     ]
    },
    {
     "name": "stderr",
     "output_type": "stream",
     "text": [
      "  5%|███▋                                                                      | 224/4478 [1:17:25<47:51:10, 40.50s/it]C:\\Users\\duPar\\Anaconda3\\envs\\oasis\\lib\\site-packages\\pandas\\core\\internals\\construction.py:576: VisibleDeprecationWarning: Creating an ndarray from ragged nested sequences (which is a list-or-tuple of lists-or-tuples-or ndarrays with different lengths or shapes) is deprecated. If you meant to do this, you must specify 'dtype=object' when creating the ndarray.\n",
      "  values = np.array([convert(v) for v in values])\n"
     ]
    },
    {
     "name": "stdout",
     "output_type": "stream",
     "text": [
      "472\n"
     ]
    },
    {
     "name": "stderr",
     "output_type": "stream",
     "text": [
      "  5%|███▋                                                                      | 225/4478 [1:18:08<48:48:07, 41.31s/it]C:\\Users\\duPar\\Anaconda3\\envs\\oasis\\lib\\site-packages\\pandas\\core\\internals\\construction.py:576: VisibleDeprecationWarning: Creating an ndarray from ragged nested sequences (which is a list-or-tuple of lists-or-tuples-or ndarrays with different lengths or shapes) is deprecated. If you meant to do this, you must specify 'dtype=object' when creating the ndarray.\n",
      "  values = np.array([convert(v) for v in values])\n"
     ]
    },
    {
     "name": "stdout",
     "output_type": "stream",
     "text": [
      "172\n",
      "261\n"
     ]
    },
    {
     "name": "stderr",
     "output_type": "stream",
     "text": [
      "  5%|███▋                                                                      | 226/4478 [1:18:54<50:27:40, 42.72s/it]C:\\Users\\duPar\\Anaconda3\\envs\\oasis\\lib\\site-packages\\pandas\\core\\internals\\construction.py:576: VisibleDeprecationWarning: Creating an ndarray from ragged nested sequences (which is a list-or-tuple of lists-or-tuples-or ndarrays with different lengths or shapes) is deprecated. If you meant to do this, you must specify 'dtype=object' when creating the ndarray.\n",
      "  values = np.array([convert(v) for v in values])\n"
     ]
    },
    {
     "name": "stdout",
     "output_type": "stream",
     "text": [
      "89\n",
      "240\n",
      "293\n",
      "475\n",
      "492\n"
     ]
    },
    {
     "name": "stderr",
     "output_type": "stream",
     "text": [
      "  5%|███▊                                                                      | 227/4478 [1:19:39<51:10:15, 43.33s/it]C:\\Users\\duPar\\Anaconda3\\envs\\oasis\\lib\\site-packages\\pandas\\core\\internals\\construction.py:576: VisibleDeprecationWarning: Creating an ndarray from ragged nested sequences (which is a list-or-tuple of lists-or-tuples-or ndarrays with different lengths or shapes) is deprecated. If you meant to do this, you must specify 'dtype=object' when creating the ndarray.\n",
      "  values = np.array([convert(v) for v in values])\n",
      "  5%|███▊                                                                      | 228/4478 [1:20:36<56:08:10, 47.55s/it]C:\\Users\\duPar\\Anaconda3\\envs\\oasis\\lib\\site-packages\\pandas\\core\\internals\\construction.py:576: VisibleDeprecationWarning: Creating an ndarray from ragged nested sequences (which is a list-or-tuple of lists-or-tuples-or ndarrays with different lengths or shapes) is deprecated. If you meant to do this, you must specify 'dtype=object' when creating the ndarray.\n",
      "  values = np.array([convert(v) for v in values])\n"
     ]
    },
    {
     "name": "stdout",
     "output_type": "stream",
     "text": [
      "226\n",
      "227\n"
     ]
    },
    {
     "name": "stderr",
     "output_type": "stream",
     "text": [
      "  5%|███▊                                                                      | 229/4478 [1:21:21<55:09:43, 46.74s/it]C:\\Users\\duPar\\Anaconda3\\envs\\oasis\\lib\\site-packages\\pandas\\core\\internals\\construction.py:576: VisibleDeprecationWarning: Creating an ndarray from ragged nested sequences (which is a list-or-tuple of lists-or-tuples-or ndarrays with different lengths or shapes) is deprecated. If you meant to do this, you must specify 'dtype=object' when creating the ndarray.\n",
      "  values = np.array([convert(v) for v in values])\n",
      "  5%|███▊                                                                      | 230/4478 [1:22:05<54:04:28, 45.83s/it]C:\\Users\\duPar\\Anaconda3\\envs\\oasis\\lib\\site-packages\\pandas\\core\\internals\\construction.py:576: VisibleDeprecationWarning: Creating an ndarray from ragged nested sequences (which is a list-or-tuple of lists-or-tuples-or ndarrays with different lengths or shapes) is deprecated. If you meant to do this, you must specify 'dtype=object' when creating the ndarray.\n",
      "  values = np.array([convert(v) for v in values])\n"
     ]
    },
    {
     "name": "stdout",
     "output_type": "stream",
     "text": [
      "209\n",
      "426\n"
     ]
    },
    {
     "name": "stderr",
     "output_type": "stream",
     "text": [
      "  5%|███▊                                                                      | 231/4478 [1:22:49<53:30:05, 45.35s/it]C:\\Users\\duPar\\Anaconda3\\envs\\oasis\\lib\\site-packages\\pandas\\core\\internals\\construction.py:576: VisibleDeprecationWarning: Creating an ndarray from ragged nested sequences (which is a list-or-tuple of lists-or-tuples-or ndarrays with different lengths or shapes) is deprecated. If you meant to do this, you must specify 'dtype=object' when creating the ndarray.\n",
      "  values = np.array([convert(v) for v in values])\n"
     ]
    },
    {
     "name": "stdout",
     "output_type": "stream",
     "text": [
      "5\n"
     ]
    },
    {
     "name": "stderr",
     "output_type": "stream",
     "text": [
      "  5%|███▊                                                                      | 232/4478 [1:23:34<53:17:31, 45.18s/it]C:\\Users\\duPar\\Anaconda3\\envs\\oasis\\lib\\site-packages\\pandas\\core\\internals\\construction.py:576: VisibleDeprecationWarning: Creating an ndarray from ragged nested sequences (which is a list-or-tuple of lists-or-tuples-or ndarrays with different lengths or shapes) is deprecated. If you meant to do this, you must specify 'dtype=object' when creating the ndarray.\n",
      "  values = np.array([convert(v) for v in values])\n",
      "  5%|███▊                                                                      | 233/4478 [1:24:19<53:15:45, 45.17s/it]C:\\Users\\duPar\\Anaconda3\\envs\\oasis\\lib\\site-packages\\pandas\\core\\internals\\construction.py:576: VisibleDeprecationWarning: Creating an ndarray from ragged nested sequences (which is a list-or-tuple of lists-or-tuples-or ndarrays with different lengths or shapes) is deprecated. If you meant to do this, you must specify 'dtype=object' when creating the ndarray.\n",
      "  values = np.array([convert(v) for v in values])\n"
     ]
    },
    {
     "name": "stdout",
     "output_type": "stream",
     "text": [
      "181\n"
     ]
    },
    {
     "name": "stderr",
     "output_type": "stream",
     "text": [
      "  5%|███▊                                                                      | 234/4478 [1:25:06<53:52:23, 45.70s/it]C:\\Users\\duPar\\Anaconda3\\envs\\oasis\\lib\\site-packages\\pandas\\core\\internals\\construction.py:576: VisibleDeprecationWarning: Creating an ndarray from ragged nested sequences (which is a list-or-tuple of lists-or-tuples-or ndarrays with different lengths or shapes) is deprecated. If you meant to do this, you must specify 'dtype=object' when creating the ndarray.\n",
      "  values = np.array([convert(v) for v in values])\n"
     ]
    },
    {
     "name": "stdout",
     "output_type": "stream",
     "text": [
      "228\n",
      "379\n",
      "383\n"
     ]
    },
    {
     "name": "stderr",
     "output_type": "stream",
     "text": [
      "  5%|███▉                                                                      | 235/4478 [1:25:51<53:47:01, 45.63s/it]C:\\Users\\duPar\\Anaconda3\\envs\\oasis\\lib\\site-packages\\pandas\\core\\internals\\construction.py:576: VisibleDeprecationWarning: Creating an ndarray from ragged nested sequences (which is a list-or-tuple of lists-or-tuples-or ndarrays with different lengths or shapes) is deprecated. If you meant to do this, you must specify 'dtype=object' when creating the ndarray.\n",
      "  values = np.array([convert(v) for v in values])\n"
     ]
    },
    {
     "name": "stdout",
     "output_type": "stream",
     "text": [
      "145\n",
      "202\n",
      "449\n"
     ]
    },
    {
     "name": "stderr",
     "output_type": "stream",
     "text": [
      "  5%|███▉                                                                      | 236/4478 [1:26:37<53:43:13, 45.59s/it]C:\\Users\\duPar\\Anaconda3\\envs\\oasis\\lib\\site-packages\\pandas\\core\\internals\\construction.py:576: VisibleDeprecationWarning: Creating an ndarray from ragged nested sequences (which is a list-or-tuple of lists-or-tuples-or ndarrays with different lengths or shapes) is deprecated. If you meant to do this, you must specify 'dtype=object' when creating the ndarray.\n",
      "  values = np.array([convert(v) for v in values])\n"
     ]
    },
    {
     "name": "stdout",
     "output_type": "stream",
     "text": [
      "185\n"
     ]
    },
    {
     "name": "stderr",
     "output_type": "stream",
     "text": [
      "  5%|███▉                                                                      | 237/4478 [1:27:22<53:35:18, 45.49s/it]C:\\Users\\duPar\\Anaconda3\\envs\\oasis\\lib\\site-packages\\pandas\\core\\internals\\construction.py:576: VisibleDeprecationWarning: Creating an ndarray from ragged nested sequences (which is a list-or-tuple of lists-or-tuples-or ndarrays with different lengths or shapes) is deprecated. If you meant to do this, you must specify 'dtype=object' when creating the ndarray.\n",
      "  values = np.array([convert(v) for v in values])\n"
     ]
    },
    {
     "name": "stdout",
     "output_type": "stream",
     "text": [
      "6\n",
      "206\n"
     ]
    },
    {
     "name": "stderr",
     "output_type": "stream",
     "text": [
      "  5%|███▉                                                                      | 239/4478 [1:28:08<37:41:29, 32.01s/it]C:\\Users\\duPar\\Anaconda3\\envs\\oasis\\lib\\site-packages\\pandas\\core\\internals\\construction.py:576: VisibleDeprecationWarning: Creating an ndarray from ragged nested sequences (which is a list-or-tuple of lists-or-tuples-or ndarrays with different lengths or shapes) is deprecated. If you meant to do this, you must specify 'dtype=object' when creating the ndarray.\n",
      "  values = np.array([convert(v) for v in values])\n"
     ]
    },
    {
     "name": "stdout",
     "output_type": "stream",
     "text": [
      "323\n",
      "443\n"
     ]
    },
    {
     "name": "stderr",
     "output_type": "stream",
     "text": [
      "  5%|███▉                                                                      | 240/4478 [1:28:53<42:18:58, 35.95s/it]C:\\Users\\duPar\\Anaconda3\\envs\\oasis\\lib\\site-packages\\pandas\\core\\internals\\construction.py:576: VisibleDeprecationWarning: Creating an ndarray from ragged nested sequences (which is a list-or-tuple of lists-or-tuples-or ndarrays with different lengths or shapes) is deprecated. If you meant to do this, you must specify 'dtype=object' when creating the ndarray.\n",
      "  values = np.array([convert(v) for v in values])\n",
      "  5%|███▉                                                                      | 242/4478 [1:29:41<32:30:56, 27.63s/it]C:\\Users\\duPar\\Anaconda3\\envs\\oasis\\lib\\site-packages\\pandas\\core\\internals\\construction.py:576: VisibleDeprecationWarning: Creating an ndarray from ragged nested sequences (which is a list-or-tuple of lists-or-tuples-or ndarrays with different lengths or shapes) is deprecated. If you meant to do this, you must specify 'dtype=object' when creating the ndarray.\n",
      "  values = np.array([convert(v) for v in values])\n"
     ]
    },
    {
     "name": "stdout",
     "output_type": "stream",
     "text": [
      "90\n",
      "123\n"
     ]
    },
    {
     "name": "stderr",
     "output_type": "stream",
     "text": [
      "  5%|████                                                                      | 243/4478 [1:30:27<38:59:10, 33.14s/it]C:\\Users\\duPar\\Anaconda3\\envs\\oasis\\lib\\site-packages\\pandas\\core\\internals\\construction.py:576: VisibleDeprecationWarning: Creating an ndarray from ragged nested sequences (which is a list-or-tuple of lists-or-tuples-or ndarrays with different lengths or shapes) is deprecated. If you meant to do this, you must specify 'dtype=object' when creating the ndarray.\n",
      "  values = np.array([convert(v) for v in values])\n"
     ]
    },
    {
     "name": "stdout",
     "output_type": "stream",
     "text": [
      "257\n"
     ]
    },
    {
     "name": "stderr",
     "output_type": "stream",
     "text": [
      "  5%|████                                                                      | 244/4478 [1:31:12<43:24:59, 36.92s/it]C:\\Users\\duPar\\Anaconda3\\envs\\oasis\\lib\\site-packages\\pandas\\core\\internals\\construction.py:576: VisibleDeprecationWarning: Creating an ndarray from ragged nested sequences (which is a list-or-tuple of lists-or-tuples-or ndarrays with different lengths or shapes) is deprecated. If you meant to do this, you must specify 'dtype=object' when creating the ndarray.\n",
      "  values = np.array([convert(v) for v in values])\n"
     ]
    },
    {
     "name": "stdout",
     "output_type": "stream",
     "text": [
      "1\n",
      "323\n",
      "324\n"
     ]
    },
    {
     "name": "stderr",
     "output_type": "stream",
     "text": [
      "  5%|████                                                                      | 245/4478 [1:31:58<46:30:53, 39.56s/it]C:\\Users\\duPar\\Anaconda3\\envs\\oasis\\lib\\site-packages\\pandas\\core\\internals\\construction.py:576: VisibleDeprecationWarning: Creating an ndarray from ragged nested sequences (which is a list-or-tuple of lists-or-tuples-or ndarrays with different lengths or shapes) is deprecated. If you meant to do this, you must specify 'dtype=object' when creating the ndarray.\n",
      "  values = np.array([convert(v) for v in values])\n"
     ]
    },
    {
     "name": "stdout",
     "output_type": "stream",
     "text": [
      "443\n"
     ]
    },
    {
     "name": "stderr",
     "output_type": "stream",
     "text": [
      "  6%|████                                                                      | 247/4478 [1:32:55<36:58:36, 31.46s/it]C:\\Users\\duPar\\Anaconda3\\envs\\oasis\\lib\\site-packages\\pandas\\core\\internals\\construction.py:576: VisibleDeprecationWarning: Creating an ndarray from ragged nested sequences (which is a list-or-tuple of lists-or-tuples-or ndarrays with different lengths or shapes) is deprecated. If you meant to do this, you must specify 'dtype=object' when creating the ndarray.\n",
      "  values = np.array([convert(v) for v in values])\n"
     ]
    },
    {
     "name": "stdout",
     "output_type": "stream",
     "text": [
      "153\n"
     ]
    },
    {
     "name": "stderr",
     "output_type": "stream",
     "text": [
      "  6%|████                                                                      | 248/4478 [1:33:42<42:17:15, 35.99s/it]C:\\Users\\duPar\\Anaconda3\\envs\\oasis\\lib\\site-packages\\pandas\\core\\internals\\construction.py:576: VisibleDeprecationWarning: Creating an ndarray from ragged nested sequences (which is a list-or-tuple of lists-or-tuples-or ndarrays with different lengths or shapes) is deprecated. If you meant to do this, you must specify 'dtype=object' when creating the ndarray.\n",
      "  values = np.array([convert(v) for v in values])\n",
      "  6%|████▏                                                                     | 250/4478 [1:34:29<32:29:11, 27.66s/it]C:\\Users\\duPar\\Anaconda3\\envs\\oasis\\lib\\site-packages\\pandas\\core\\internals\\construction.py:576: VisibleDeprecationWarning: Creating an ndarray from ragged nested sequences (which is a list-or-tuple of lists-or-tuples-or ndarrays with different lengths or shapes) is deprecated. If you meant to do this, you must specify 'dtype=object' when creating the ndarray.\n",
      "  values = np.array([convert(v) for v in values])\n"
     ]
    },
    {
     "name": "stdout",
     "output_type": "stream",
     "text": [
      "78\n"
     ]
    },
    {
     "name": "stderr",
     "output_type": "stream",
     "text": [
      "  6%|████▏                                                                     | 251/4478 [1:35:16<39:07:42, 33.32s/it]C:\\Users\\duPar\\Anaconda3\\envs\\oasis\\lib\\site-packages\\pandas\\core\\internals\\construction.py:576: VisibleDeprecationWarning: Creating an ndarray from ragged nested sequences (which is a list-or-tuple of lists-or-tuples-or ndarrays with different lengths or shapes) is deprecated. If you meant to do this, you must specify 'dtype=object' when creating the ndarray.\n",
      "  values = np.array([convert(v) for v in values])\n",
      "  6%|████▏                                                                     | 252/4478 [1:36:03<43:50:27, 37.35s/it]C:\\Users\\duPar\\Anaconda3\\envs\\oasis\\lib\\site-packages\\pandas\\core\\internals\\construction.py:576: VisibleDeprecationWarning: Creating an ndarray from ragged nested sequences (which is a list-or-tuple of lists-or-tuples-or ndarrays with different lengths or shapes) is deprecated. If you meant to do this, you must specify 'dtype=object' when creating the ndarray.\n",
      "  values = np.array([convert(v) for v in values])\n"
     ]
    },
    {
     "name": "stdout",
     "output_type": "stream",
     "text": [
      "277\n",
      "279\n",
      "392\n",
      "412\n",
      "428\n",
      "432\n",
      "446\n",
      "448\n",
      "449\n",
      "451\n",
      "454\n",
      "455\n",
      "470\n",
      "479\n",
      "481\n",
      "492\n",
      "497\n"
     ]
    },
    {
     "name": "stderr",
     "output_type": "stream",
     "text": [
      "  6%|████▏                                                                     | 254/4478 [1:36:49<33:01:43, 28.15s/it]C:\\Users\\duPar\\Anaconda3\\envs\\oasis\\lib\\site-packages\\pandas\\core\\internals\\construction.py:576: VisibleDeprecationWarning: Creating an ndarray from ragged nested sequences (which is a list-or-tuple of lists-or-tuples-or ndarrays with different lengths or shapes) is deprecated. If you meant to do this, you must specify 'dtype=object' when creating the ndarray.\n",
      "  values = np.array([convert(v) for v in values])\n"
     ]
    },
    {
     "name": "stdout",
     "output_type": "stream",
     "text": [
      "12\n"
     ]
    },
    {
     "name": "stderr",
     "output_type": "stream",
     "text": [
      "  6%|████▏                                                                     | 255/4478 [1:37:37<39:49:29, 33.95s/it]C:\\Users\\duPar\\Anaconda3\\envs\\oasis\\lib\\site-packages\\pandas\\core\\internals\\construction.py:576: VisibleDeprecationWarning: Creating an ndarray from ragged nested sequences (which is a list-or-tuple of lists-or-tuples-or ndarrays with different lengths or shapes) is deprecated. If you meant to do this, you must specify 'dtype=object' when creating the ndarray.\n",
      "  values = np.array([convert(v) for v in values])\n",
      "  6%|████▏                                                                     | 256/4478 [1:38:25<44:44:32, 38.15s/it]C:\\Users\\duPar\\Anaconda3\\envs\\oasis\\lib\\site-packages\\pandas\\core\\internals\\construction.py:576: VisibleDeprecationWarning: Creating an ndarray from ragged nested sequences (which is a list-or-tuple of lists-or-tuples-or ndarrays with different lengths or shapes) is deprecated. If you meant to do this, you must specify 'dtype=object' when creating the ndarray.\n",
      "  values = np.array([convert(v) for v in values])\n",
      "  6%|████▏                                                                     | 257/4478 [1:39:13<48:08:12, 41.05s/it]C:\\Users\\duPar\\Anaconda3\\envs\\oasis\\lib\\site-packages\\pandas\\core\\internals\\construction.py:576: VisibleDeprecationWarning: Creating an ndarray from ragged nested sequences (which is a list-or-tuple of lists-or-tuples-or ndarrays with different lengths or shapes) is deprecated. If you meant to do this, you must specify 'dtype=object' when creating the ndarray.\n",
      "  values = np.array([convert(v) for v in values])\n",
      "  6%|████▎                                                                     | 258/4478 [1:40:00<50:28:46, 43.06s/it]C:\\Users\\duPar\\Anaconda3\\envs\\oasis\\lib\\site-packages\\pandas\\core\\internals\\construction.py:576: VisibleDeprecationWarning: Creating an ndarray from ragged nested sequences (which is a list-or-tuple of lists-or-tuples-or ndarrays with different lengths or shapes) is deprecated. If you meant to do this, you must specify 'dtype=object' when creating the ndarray.\n",
      "  values = np.array([convert(v) for v in values])\n"
     ]
    },
    {
     "name": "stdout",
     "output_type": "stream",
     "text": [
      "408\n"
     ]
    },
    {
     "name": "stderr",
     "output_type": "stream",
     "text": [
      "  6%|████▎                                                                     | 259/4478 [1:40:48<52:11:30, 44.53s/it]C:\\Users\\duPar\\Anaconda3\\envs\\oasis\\lib\\site-packages\\pandas\\core\\internals\\construction.py:576: VisibleDeprecationWarning: Creating an ndarray from ragged nested sequences (which is a list-or-tuple of lists-or-tuples-or ndarrays with different lengths or shapes) is deprecated. If you meant to do this, you must specify 'dtype=object' when creating the ndarray.\n",
      "  values = np.array([convert(v) for v in values])\n"
     ]
    },
    {
     "name": "stdout",
     "output_type": "stream",
     "text": [
      "422\n"
     ]
    },
    {
     "name": "stderr",
     "output_type": "stream",
     "text": [
      "  6%|████▎                                                                     | 260/4478 [1:41:37<53:28:55, 45.65s/it]C:\\Users\\duPar\\Anaconda3\\envs\\oasis\\lib\\site-packages\\pandas\\core\\internals\\construction.py:576: VisibleDeprecationWarning: Creating an ndarray from ragged nested sequences (which is a list-or-tuple of lists-or-tuples-or ndarrays with different lengths or shapes) is deprecated. If you meant to do this, you must specify 'dtype=object' when creating the ndarray.\n",
      "  values = np.array([convert(v) for v in values])\n"
     ]
    },
    {
     "name": "stdout",
     "output_type": "stream",
     "text": [
      "278\n"
     ]
    },
    {
     "name": "stderr",
     "output_type": "stream",
     "text": [
      "  6%|████▎                                                                     | 261/4478 [1:42:25<54:23:55, 46.44s/it]C:\\Users\\duPar\\Anaconda3\\envs\\oasis\\lib\\site-packages\\pandas\\core\\internals\\construction.py:576: VisibleDeprecationWarning: Creating an ndarray from ragged nested sequences (which is a list-or-tuple of lists-or-tuples-or ndarrays with different lengths or shapes) is deprecated. If you meant to do this, you must specify 'dtype=object' when creating the ndarray.\n",
      "  values = np.array([convert(v) for v in values])\n",
      "  6%|████▎                                                                     | 262/4478 [1:43:14<55:20:30, 47.26s/it]C:\\Users\\duPar\\Anaconda3\\envs\\oasis\\lib\\site-packages\\pandas\\core\\internals\\construction.py:576: VisibleDeprecationWarning: Creating an ndarray from ragged nested sequences (which is a list-or-tuple of lists-or-tuples-or ndarrays with different lengths or shapes) is deprecated. If you meant to do this, you must specify 'dtype=object' when creating the ndarray.\n",
      "  values = np.array([convert(v) for v in values])\n",
      "  6%|████▎                                                                     | 263/4478 [1:44:03<56:01:48, 47.86s/it]C:\\Users\\duPar\\Anaconda3\\envs\\oasis\\lib\\site-packages\\pandas\\core\\internals\\construction.py:576: VisibleDeprecationWarning: Creating an ndarray from ragged nested sequences (which is a list-or-tuple of lists-or-tuples-or ndarrays with different lengths or shapes) is deprecated. If you meant to do this, you must specify 'dtype=object' when creating the ndarray.\n",
      "  values = np.array([convert(v) for v in values])\n",
      "  6%|████▎                                                                     | 264/4478 [1:44:53<56:28:11, 48.24s/it]C:\\Users\\duPar\\Anaconda3\\envs\\oasis\\lib\\site-packages\\pandas\\core\\internals\\construction.py:576: VisibleDeprecationWarning: Creating an ndarray from ragged nested sequences (which is a list-or-tuple of lists-or-tuples-or ndarrays with different lengths or shapes) is deprecated. If you meant to do this, you must specify 'dtype=object' when creating the ndarray.\n",
      "  values = np.array([convert(v) for v in values])\n",
      "  6%|████▍                                                                     | 265/4478 [1:45:42<56:57:18, 48.67s/it]C:\\Users\\duPar\\Anaconda3\\envs\\oasis\\lib\\site-packages\\pandas\\core\\internals\\construction.py:576: VisibleDeprecationWarning: Creating an ndarray from ragged nested sequences (which is a list-or-tuple of lists-or-tuples-or ndarrays with different lengths or shapes) is deprecated. If you meant to do this, you must specify 'dtype=object' when creating the ndarray.\n",
      "  values = np.array([convert(v) for v in values])\n",
      "  6%|████▍                                                                     | 266/4478 [1:46:32<57:15:48, 48.94s/it]C:\\Users\\duPar\\Anaconda3\\envs\\oasis\\lib\\site-packages\\pandas\\core\\internals\\construction.py:576: VisibleDeprecationWarning: Creating an ndarray from ragged nested sequences (which is a list-or-tuple of lists-or-tuples-or ndarrays with different lengths or shapes) is deprecated. If you meant to do this, you must specify 'dtype=object' when creating the ndarray.\n",
      "  values = np.array([convert(v) for v in values])\n",
      "  6%|████▍                                                                     | 268/4478 [1:47:37<45:50:07, 39.19s/it]C:\\Users\\duPar\\Anaconda3\\envs\\oasis\\lib\\site-packages\\pandas\\core\\internals\\construction.py:576: VisibleDeprecationWarning: Creating an ndarray from ragged nested sequences (which is a list-or-tuple of lists-or-tuples-or ndarrays with different lengths or shapes) is deprecated. If you meant to do this, you must specify 'dtype=object' when creating the ndarray.\n",
      "  values = np.array([convert(v) for v in values])\n"
     ]
    },
    {
     "name": "stdout",
     "output_type": "stream",
     "text": [
      "158\n"
     ]
    },
    {
     "name": "stderr",
     "output_type": "stream",
     "text": [
      "  6%|████▍                                                                     | 269/4478 [1:48:27<49:33:11, 42.38s/it]C:\\Users\\duPar\\Anaconda3\\envs\\oasis\\lib\\site-packages\\pandas\\core\\internals\\construction.py:576: VisibleDeprecationWarning: Creating an ndarray from ragged nested sequences (which is a list-or-tuple of lists-or-tuples-or ndarrays with different lengths or shapes) is deprecated. If you meant to do this, you must specify 'dtype=object' when creating the ndarray.\n",
      "  values = np.array([convert(v) for v in values])\n",
      "  6%|████▍                                                                     | 270/4478 [1:49:17<52:08:19, 44.61s/it]C:\\Users\\duPar\\Anaconda3\\envs\\oasis\\lib\\site-packages\\pandas\\core\\internals\\construction.py:576: VisibleDeprecationWarning: Creating an ndarray from ragged nested sequences (which is a list-or-tuple of lists-or-tuples-or ndarrays with different lengths or shapes) is deprecated. If you meant to do this, you must specify 'dtype=object' when creating the ndarray.\n",
      "  values = np.array([convert(v) for v in values])\n",
      "  6%|████▍                                                                     | 271/4478 [1:50:07<54:02:44, 46.25s/it]C:\\Users\\duPar\\Anaconda3\\envs\\oasis\\lib\\site-packages\\pandas\\core\\internals\\construction.py:576: VisibleDeprecationWarning: Creating an ndarray from ragged nested sequences (which is a list-or-tuple of lists-or-tuples-or ndarrays with different lengths or shapes) is deprecated. If you meant to do this, you must specify 'dtype=object' when creating the ndarray.\n",
      "  values = np.array([convert(v) for v in values])\n"
     ]
    },
    {
     "name": "stdout",
     "output_type": "stream",
     "text": [
      "274\n"
     ]
    },
    {
     "name": "stderr",
     "output_type": "stream",
     "text": [
      "  6%|████▍                                                                     | 272/4478 [1:50:57<55:27:55, 47.47s/it]C:\\Users\\duPar\\Anaconda3\\envs\\oasis\\lib\\site-packages\\pandas\\core\\internals\\construction.py:576: VisibleDeprecationWarning: Creating an ndarray from ragged nested sequences (which is a list-or-tuple of lists-or-tuples-or ndarrays with different lengths or shapes) is deprecated. If you meant to do this, you must specify 'dtype=object' when creating the ndarray.\n",
      "  values = np.array([convert(v) for v in values])\n"
     ]
    },
    {
     "name": "stdout",
     "output_type": "stream",
     "text": [
      "2\n"
     ]
    },
    {
     "name": "stderr",
     "output_type": "stream",
     "text": [
      "  6%|████▌                                                                     | 273/4478 [1:51:31<50:29:43, 43.23s/it]C:\\Users\\duPar\\Anaconda3\\envs\\oasis\\lib\\site-packages\\pandas\\core\\internals\\construction.py:576: VisibleDeprecationWarning: Creating an ndarray from ragged nested sequences (which is a list-or-tuple of lists-or-tuples-or ndarrays with different lengths or shapes) is deprecated. If you meant to do this, you must specify 'dtype=object' when creating the ndarray.\n",
      "  values = np.array([convert(v) for v in values])\n"
     ]
    },
    {
     "name": "stdout",
     "output_type": "stream",
     "text": [
      "20\n"
     ]
    },
    {
     "name": "stderr",
     "output_type": "stream",
     "text": [
      "  6%|████▌                                                                     | 274/4478 [1:52:21<52:59:42, 45.38s/it]C:\\Users\\duPar\\Anaconda3\\envs\\oasis\\lib\\site-packages\\pandas\\core\\internals\\construction.py:576: VisibleDeprecationWarning: Creating an ndarray from ragged nested sequences (which is a list-or-tuple of lists-or-tuples-or ndarrays with different lengths or shapes) is deprecated. If you meant to do this, you must specify 'dtype=object' when creating the ndarray.\n",
      "  values = np.array([convert(v) for v in values])\n"
     ]
    },
    {
     "name": "stdout",
     "output_type": "stream",
     "text": [
      "17\n"
     ]
    },
    {
     "name": "stderr",
     "output_type": "stream",
     "text": [
      "  6%|████▌                                                                     | 275/4478 [1:53:12<54:57:17, 47.07s/it]C:\\Users\\duPar\\Anaconda3\\envs\\oasis\\lib\\site-packages\\pandas\\core\\internals\\construction.py:576: VisibleDeprecationWarning: Creating an ndarray from ragged nested sequences (which is a list-or-tuple of lists-or-tuples-or ndarrays with different lengths or shapes) is deprecated. If you meant to do this, you must specify 'dtype=object' when creating the ndarray.\n",
      "  values = np.array([convert(v) for v in values])\n",
      "  6%|████▌                                                                     | 276/4478 [1:54:04<56:40:30, 48.56s/it]C:\\Users\\duPar\\Anaconda3\\envs\\oasis\\lib\\site-packages\\pandas\\core\\internals\\construction.py:576: VisibleDeprecationWarning: Creating an ndarray from ragged nested sequences (which is a list-or-tuple of lists-or-tuples-or ndarrays with different lengths or shapes) is deprecated. If you meant to do this, you must specify 'dtype=object' when creating the ndarray.\n",
      "  values = np.array([convert(v) for v in values])\n",
      "  6%|████▌                                                                     | 277/4478 [1:54:59<58:47:44, 50.38s/it]C:\\Users\\duPar\\Anaconda3\\envs\\oasis\\lib\\site-packages\\pandas\\core\\internals\\construction.py:576: VisibleDeprecationWarning: Creating an ndarray from ragged nested sequences (which is a list-or-tuple of lists-or-tuples-or ndarrays with different lengths or shapes) is deprecated. If you meant to do this, you must specify 'dtype=object' when creating the ndarray.\n",
      "  values = np.array([convert(v) for v in values])\n",
      "  6%|████▌                                                                     | 278/4478 [1:55:51<59:20:27, 50.86s/it]C:\\Users\\duPar\\Anaconda3\\envs\\oasis\\lib\\site-packages\\pandas\\core\\internals\\construction.py:576: VisibleDeprecationWarning: Creating an ndarray from ragged nested sequences (which is a list-or-tuple of lists-or-tuples-or ndarrays with different lengths or shapes) is deprecated. If you meant to do this, you must specify 'dtype=object' when creating the ndarray.\n",
      "  values = np.array([convert(v) for v in values])\n"
     ]
    },
    {
     "name": "stdout",
     "output_type": "stream",
     "text": [
      "78\n"
     ]
    },
    {
     "name": "stderr",
     "output_type": "stream",
     "text": [
      "  6%|████▌                                                                     | 279/4478 [1:56:45<60:20:25, 51.73s/it]C:\\Users\\duPar\\Anaconda3\\envs\\oasis\\lib\\site-packages\\pandas\\core\\internals\\construction.py:576: VisibleDeprecationWarning: Creating an ndarray from ragged nested sequences (which is a list-or-tuple of lists-or-tuples-or ndarrays with different lengths or shapes) is deprecated. If you meant to do this, you must specify 'dtype=object' when creating the ndarray.\n",
      "  values = np.array([convert(v) for v in values])\n",
      "  6%|████▋                                                                     | 280/4478 [1:57:38<60:50:50, 52.18s/it]C:\\Users\\duPar\\Anaconda3\\envs\\oasis\\lib\\site-packages\\pandas\\core\\internals\\construction.py:576: VisibleDeprecationWarning: Creating an ndarray from ragged nested sequences (which is a list-or-tuple of lists-or-tuples-or ndarrays with different lengths or shapes) is deprecated. If you meant to do this, you must specify 'dtype=object' when creating the ndarray.\n",
      "  values = np.array([convert(v) for v in values])\n"
     ]
    },
    {
     "name": "stdout",
     "output_type": "stream",
     "text": [
      "46\n"
     ]
    },
    {
     "name": "stderr",
     "output_type": "stream",
     "text": [
      "  6%|████▋                                                                     | 281/4478 [1:58:31<61:22:51, 52.65s/it]C:\\Users\\duPar\\Anaconda3\\envs\\oasis\\lib\\site-packages\\pandas\\core\\internals\\construction.py:576: VisibleDeprecationWarning: Creating an ndarray from ragged nested sequences (which is a list-or-tuple of lists-or-tuples-or ndarrays with different lengths or shapes) is deprecated. If you meant to do this, you must specify 'dtype=object' when creating the ndarray.\n",
      "  values = np.array([convert(v) for v in values])\n",
      "  6%|████▋                                                                     | 282/4478 [1:59:26<61:58:56, 53.18s/it]C:\\Users\\duPar\\Anaconda3\\envs\\oasis\\lib\\site-packages\\pandas\\core\\internals\\construction.py:576: VisibleDeprecationWarning: Creating an ndarray from ragged nested sequences (which is a list-or-tuple of lists-or-tuples-or ndarrays with different lengths or shapes) is deprecated. If you meant to do this, you must specify 'dtype=object' when creating the ndarray.\n",
      "  values = np.array([convert(v) for v in values])\n"
     ]
    },
    {
     "name": "stdout",
     "output_type": "stream",
     "text": [
      "116\n",
      "164\n"
     ]
    },
    {
     "name": "stderr",
     "output_type": "stream",
     "text": [
      "  6%|████▋                                                                     | 283/4478 [2:00:27<64:53:11, 55.68s/it]C:\\Users\\duPar\\Anaconda3\\envs\\oasis\\lib\\site-packages\\pandas\\core\\internals\\construction.py:576: VisibleDeprecationWarning: Creating an ndarray from ragged nested sequences (which is a list-or-tuple of lists-or-tuples-or ndarrays with different lengths or shapes) is deprecated. If you meant to do this, you must specify 'dtype=object' when creating the ndarray.\n",
      "  values = np.array([convert(v) for v in values])\n"
     ]
    },
    {
     "name": "stdout",
     "output_type": "stream",
     "text": [
      "1\n",
      "121\n",
      "377\n"
     ]
    },
    {
     "name": "stderr",
     "output_type": "stream",
     "text": [
      "  6%|████▋                                                                     | 284/4478 [2:01:09<60:03:32, 51.55s/it]C:\\Users\\duPar\\Anaconda3\\envs\\oasis\\lib\\site-packages\\pandas\\core\\internals\\construction.py:576: VisibleDeprecationWarning: Creating an ndarray from ragged nested sequences (which is a list-or-tuple of lists-or-tuples-or ndarrays with different lengths or shapes) is deprecated. If you meant to do this, you must specify 'dtype=object' when creating the ndarray.\n",
      "  values = np.array([convert(v) for v in values])\n"
     ]
    },
    {
     "name": "stdout",
     "output_type": "stream",
     "text": [
      "215\n",
      "222\n"
     ]
    },
    {
     "name": "stderr",
     "output_type": "stream",
     "text": [
      "  6%|████▋                                                                     | 285/4478 [2:02:04<61:16:19, 52.61s/it]C:\\Users\\duPar\\Anaconda3\\envs\\oasis\\lib\\site-packages\\pandas\\core\\internals\\construction.py:576: VisibleDeprecationWarning: Creating an ndarray from ragged nested sequences (which is a list-or-tuple of lists-or-tuples-or ndarrays with different lengths or shapes) is deprecated. If you meant to do this, you must specify 'dtype=object' when creating the ndarray.\n",
      "  values = np.array([convert(v) for v in values])\n",
      "  6%|████▋                                                                     | 286/4478 [2:02:59<62:02:31, 53.28s/it]C:\\Users\\duPar\\Anaconda3\\envs\\oasis\\lib\\site-packages\\pandas\\core\\internals\\construction.py:576: VisibleDeprecationWarning: Creating an ndarray from ragged nested sequences (which is a list-or-tuple of lists-or-tuples-or ndarrays with different lengths or shapes) is deprecated. If you meant to do this, you must specify 'dtype=object' when creating the ndarray.\n",
      "  values = np.array([convert(v) for v in values])\n",
      "  6%|████▊                                                                     | 288/4478 [2:03:54<43:49:35, 37.66s/it]C:\\Users\\duPar\\Anaconda3\\envs\\oasis\\lib\\site-packages\\pandas\\core\\internals\\construction.py:576: VisibleDeprecationWarning: Creating an ndarray from ragged nested sequences (which is a list-or-tuple of lists-or-tuples-or ndarrays with different lengths or shapes) is deprecated. If you meant to do this, you must specify 'dtype=object' when creating the ndarray.\n",
      "  values = np.array([convert(v) for v in values])\n"
     ]
    },
    {
     "name": "stdout",
     "output_type": "stream",
     "text": [
      "60\n",
      "196\n"
     ]
    },
    {
     "name": "stderr",
     "output_type": "stream",
     "text": [
      "  6%|████▊                                                                     | 289/4478 [2:04:16<38:09:02, 32.79s/it]C:\\Users\\duPar\\Anaconda3\\envs\\oasis\\lib\\site-packages\\pandas\\core\\internals\\construction.py:576: VisibleDeprecationWarning: Creating an ndarray from ragged nested sequences (which is a list-or-tuple of lists-or-tuples-or ndarrays with different lengths or shapes) is deprecated. If you meant to do this, you must specify 'dtype=object' when creating the ndarray.\n",
      "  values = np.array([convert(v) for v in values])\n"
     ]
    },
    {
     "name": "stdout",
     "output_type": "stream",
     "text": [
      "259\n"
     ]
    },
    {
     "name": "stderr",
     "output_type": "stream",
     "text": [
      "  6%|████▊                                                                     | 290/4478 [2:05:02<42:52:27, 36.85s/it]C:\\Users\\duPar\\Anaconda3\\envs\\oasis\\lib\\site-packages\\pandas\\core\\internals\\construction.py:576: VisibleDeprecationWarning: Creating an ndarray from ragged nested sequences (which is a list-or-tuple of lists-or-tuples-or ndarrays with different lengths or shapes) is deprecated. If you meant to do this, you must specify 'dtype=object' when creating the ndarray.\n",
      "  values = np.array([convert(v) for v in values])\n"
     ]
    },
    {
     "name": "stdout",
     "output_type": "stream",
     "text": [
      "86\n",
      "361\n"
     ]
    },
    {
     "name": "stderr",
     "output_type": "stream",
     "text": [
      "  6%|████▊                                                                     | 291/4478 [2:05:43<44:14:11, 38.03s/it]C:\\Users\\duPar\\Anaconda3\\envs\\oasis\\lib\\site-packages\\pandas\\core\\internals\\construction.py:576: VisibleDeprecationWarning: Creating an ndarray from ragged nested sequences (which is a list-or-tuple of lists-or-tuples-or ndarrays with different lengths or shapes) is deprecated. If you meant to do this, you must specify 'dtype=object' when creating the ndarray.\n",
      "  values = np.array([convert(v) for v in values])\n",
      "  7%|████▊                                                                     | 292/4478 [2:06:38<50:11:37, 43.17s/it]C:\\Users\\duPar\\Anaconda3\\envs\\oasis\\lib\\site-packages\\pandas\\core\\internals\\construction.py:576: VisibleDeprecationWarning: Creating an ndarray from ragged nested sequences (which is a list-or-tuple of lists-or-tuples-or ndarrays with different lengths or shapes) is deprecated. If you meant to do this, you must specify 'dtype=object' when creating the ndarray.\n",
      "  values = np.array([convert(v) for v in values])\n"
     ]
    },
    {
     "name": "stdout",
     "output_type": "stream",
     "text": [
      "149\n"
     ]
    },
    {
     "name": "stderr",
     "output_type": "stream",
     "text": [
      "  7%|████▊                                                                     | 293/4478 [2:06:55<41:00:52, 35.28s/it]C:\\Users\\duPar\\Anaconda3\\envs\\oasis\\lib\\site-packages\\pandas\\core\\internals\\construction.py:576: VisibleDeprecationWarning: Creating an ndarray from ragged nested sequences (which is a list-or-tuple of lists-or-tuples-or ndarrays with different lengths or shapes) is deprecated. If you meant to do this, you must specify 'dtype=object' when creating the ndarray.\n",
      "  values = np.array([convert(v) for v in values])\n"
     ]
    },
    {
     "name": "stdout",
     "output_type": "stream",
     "text": [
      "64\n",
      "84\n",
      "111\n",
      "129\n",
      "256\n"
     ]
    },
    {
     "name": "stderr",
     "output_type": "stream",
     "text": [
      "  7%|████▊                                                                     | 294/4478 [2:07:35<42:52:46, 36.89s/it]C:\\Users\\duPar\\Anaconda3\\envs\\oasis\\lib\\site-packages\\pandas\\core\\internals\\construction.py:576: VisibleDeprecationWarning: Creating an ndarray from ragged nested sequences (which is a list-or-tuple of lists-or-tuples-or ndarrays with different lengths or shapes) is deprecated. If you meant to do this, you must specify 'dtype=object' when creating the ndarray.\n",
      "  values = np.array([convert(v) for v in values])\n",
      "  7%|████▊                                                                     | 294/4478 [2:08:10<30:24:00, 26.16s/it]\n"
     ]
    },
    {
     "ename": "KeyboardInterrupt",
     "evalue": "",
     "output_type": "error",
     "traceback": [
      "\u001b[1;31m---------------------------------------------------------------------------\u001b[0m",
      "\u001b[1;31mKeyboardInterrupt\u001b[0m                         Traceback (most recent call last)",
      "Input \u001b[1;32mIn [28]\u001b[0m, in \u001b[0;36m<cell line: 11>\u001b[1;34m()\u001b[0m\n\u001b[0;32m     31\u001b[0m \u001b[38;5;28;01mtry\u001b[39;00m:\n\u001b[0;32m     32\u001b[0m     df \u001b[38;5;241m=\u001b[39m pd\u001b[38;5;241m.\u001b[39mconcat([df, df_each])\n\u001b[1;32m---> 33\u001b[0m     df \u001b[38;5;241m=\u001b[39m df\u001b[38;5;241m.\u001b[39mreset_index(drop\u001b[38;5;241m=\u001b[39m\u001b[38;5;28;01mTrue\u001b[39;00m)\n\u001b[0;32m     34\u001b[0m \u001b[38;5;28;01mexcept\u001b[39;00m:\n\u001b[0;32m     35\u001b[0m     \u001b[38;5;28mprint\u001b[39m(i)\n",
      "\u001b[1;31mKeyboardInterrupt\u001b[0m: "
     ]
    }
   ],
   "source": [
    "# 리스트에 값 담기\n",
    "row_list   = [] # 행 값\n",
    "name_list  = [] # 열이름 값\n",
    "value_list = [] # 데이터 값\n",
    "df = pd.DataFrame() # 최종 값\n",
    "\n",
    "# API 호출\n",
    "srsName = 'EPSG:5179'\n",
    "serviceKey = 'sJuqUegKT1Q0R4IRDqoJklMK8xDxru%2BrNu%2BK5JXRh1mbeH4tFTWwQYWVK3xdbbJCCe14u5bQyl43S28%2F5TtfrA%3D%3D'\n",
    "\n",
    "for emd_cd in tqdm(lawd_cd_unique[859:]):\n",
    "    url = f'http://apis.data.go.kr/1611000/nsdi/LandUseService/wfs/getLandUseWFS?pnu={emd_cd}&serviceKey={serviceKey}'\n",
    "    response = requests.get(url)\n",
    "    content  = response.text\n",
    "\n",
    "    # item 태그 분리\n",
    "    xml_obj = bs4.BeautifulSoup(content,'xml')\n",
    "    DF = pd.DataFrame(xml_obj)\n",
    "    DF = DF.transpose().drop_duplicates()\n",
    "    DF = DF.drop([0],axis=0).reset_index(drop=True)\n",
    "\n",
    "    # 데이터 수집\n",
    "    for i in range(1,len(DF)):\n",
    "        columns = DF[0][i].find_all()\n",
    "        for j in range(0,len(columns)):\n",
    "            name_list.append(columns[j].name)\n",
    "            value_list.append(columns[j].text)\n",
    "\n",
    "        row_list = value_list\n",
    "        df_each  = pd.DataFrame([row_list], columns=name_list)\n",
    "        try:\n",
    "            df = pd.concat([df, df_each])\n",
    "            df = df.reset_index(drop=True)\n",
    "        except:\n",
    "            print(i)\n",
    "            pass\n",
    "\n",
    "        # 초기화\n",
    "        name_list  = []\n",
    "        value_list = []\n",
    "\n",
    "# nan처리\n",
    "df = df.replace(' ', np.nan)\n",
    "df = df.replace('', np.nan)\n",
    "\n",
    "# xlsx로 저장\n",
    "df.to_excel('./LandUseWFS(1144~).xlsx', index=False, encoding='utf-8')\n",
    "\n",
    "# execute\n",
    "table = 'm1.land_usd_wfs'\n",
    "# execute_mogrify(conn, df, table, val)"
   ]
  },
  {
   "cell_type": "code",
   "execution_count": 29,
   "id": "377c2891-cd77-4ab2-819a-e0c2ce5015fb",
   "metadata": {},
   "outputs": [],
   "source": [
    "# xlsx로 저장\n",
    "df.to_excel('./LandUseWFS(859~1144).xlsx', index=False, encoding='utf-8')"
   ]
  },
  {
   "cell_type": "code",
   "execution_count": 24,
   "id": "6f9276b9-e97c-43ee-9561-b2a9b34d445e",
   "metadata": {},
   "outputs": [
    {
     "data": {
      "text/plain": [
       "2717010900109680003    1\n",
       "2871038021100210002    1\n",
       "2871038021100230002    1\n",
       "2871038021100230001    1\n",
       "2871038021100220006    1\n",
       "                      ..\n",
       "2714012100101650002    1\n",
       "2714012100101650001    1\n",
       "2714012100101640000    1\n",
       "2714012100101630014    1\n",
       "3011014000101080000    1\n",
       "Name: PNU, Length: 357765, dtype: int64"
      ]
     },
     "execution_count": 24,
     "metadata": {},
     "output_type": "execute_result"
    }
   ],
   "source": [
    "df['PNU'].value_counts()"
   ]
  },
  {
   "cell_type": "code",
   "execution_count": 26,
   "id": "c865914c-0b99-466f-b6de-bd2bdd62e4c4",
   "metadata": {
    "collapsed": true,
    "jupyter": {
     "outputs_hidden": true
    },
    "tags": []
   },
   "outputs": [
    {
     "data": {
      "text/html": [
       "<div>\n",
       "<style scoped>\n",
       "    .dataframe tbody tr th:only-of-type {\n",
       "        vertical-align: middle;\n",
       "    }\n",
       "\n",
       "    .dataframe tbody tr th {\n",
       "        vertical-align: top;\n",
       "    }\n",
       "\n",
       "    .dataframe thead th {\n",
       "        text-align: right;\n",
       "    }\n",
       "</style>\n",
       "<table border=\"1\" class=\"dataframe\">\n",
       "  <thead>\n",
       "    <tr style=\"text-align: right;\">\n",
       "      <th></th>\n",
       "      <th>F176</th>\n",
       "      <th>SHAPE</th>\n",
       "      <th>MultiSurface</th>\n",
       "      <th>surfaceMember</th>\n",
       "      <th>Polygon</th>\n",
       "      <th>exterior</th>\n",
       "      <th>LinearRing</th>\n",
       "      <th>posList</th>\n",
       "      <th>PNU</th>\n",
       "      <th>LD_CPSG_CODE</th>\n",
       "      <th>...</th>\n",
       "      <th>SLNO</th>\n",
       "      <th>LNM_LNDCGR_SMBOL</th>\n",
       "      <th>SRC_OBJECTID</th>\n",
       "      <th>SRC_LD_CPSG_CODE</th>\n",
       "      <th>ISSU_CONFM_CODE</th>\n",
       "      <th>CNFLC_AT_LIST</th>\n",
       "      <th>CNFLC_AT_NM_LIST</th>\n",
       "      <th>PRPOS_AREA_DSTRC_CODE_LIST</th>\n",
       "      <th>PRPOS_AREA_DSTRC_NM_LIST</th>\n",
       "      <th>FRST_REGIST_DT</th>\n",
       "    </tr>\n",
       "  </thead>\n",
       "  <tbody>\n",
       "    <tr>\n",
       "      <th>0</th>\n",
       "      <td>\\n342188.6926999996 266421.0840000007 342187.0...</td>\n",
       "      <td>342188.6926999996 266421.0840000007 342187.080...</td>\n",
       "      <td>342188.6926999996 266421.0840000007 342187.080...</td>\n",
       "      <td>342188.6926999996 266421.0840000007 342187.080...</td>\n",
       "      <td>342188.6926999996 266421.0840000007 342187.080...</td>\n",
       "      <td>342188.6926999996 266421.0840000007 342187.080...</td>\n",
       "      <td>342188.6926999996 266421.0840000007 342187.080...</td>\n",
       "      <td>342188.6926999996 266421.0840000007 342187.080...</td>\n",
       "      <td>2717010900109680003</td>\n",
       "      <td>27170</td>\n",
       "      <td>...</td>\n",
       "      <td>0003</td>\n",
       "      <td>968-3도</td>\n",
       "      <td>145700</td>\n",
       "      <td>27170</td>\n",
       "      <td>1</td>\n",
       "      <td>1,1,1,2,1</td>\n",
       "      <td>포함,포함,포함,저촉,포함</td>\n",
       "      <td>UMZ100,UQA01X,UQA122,UQS520,UQT100</td>\n",
       "      <td>가축사육제한구역,도시지역,제2종일반주거지역,도시철도(3호선)(저촉),광장</td>\n",
       "      <td>2022-05-13T17:07:24</td>\n",
       "    </tr>\n",
       "    <tr>\n",
       "      <th>1</th>\n",
       "      <td>\\n342243.5922999997 266395.6919 342245.5823999...</td>\n",
       "      <td>342243.5922999997 266395.6919 342245.582399999...</td>\n",
       "      <td>342243.5922999997 266395.6919 342245.582399999...</td>\n",
       "      <td>342243.5922999997 266395.6919 342245.582399999...</td>\n",
       "      <td>342243.5922999997 266395.6919 342245.582399999...</td>\n",
       "      <td>342243.5922999997 266395.6919 342245.582399999...</td>\n",
       "      <td>342243.5922999997 266395.6919 342245.582399999...</td>\n",
       "      <td>342243.5922999997 266395.6919 342245.582399999...</td>\n",
       "      <td>2717010900109900004</td>\n",
       "      <td>27170</td>\n",
       "      <td>...</td>\n",
       "      <td>0004</td>\n",
       "      <td>990-4도</td>\n",
       "      <td>145543</td>\n",
       "      <td>27170</td>\n",
       "      <td>1</td>\n",
       "      <td>1,1,1,2,2,2,3,2,2</td>\n",
       "      <td>포함,포함,포함,저촉,저촉,저촉,접함,저촉,저촉</td>\n",
       "      <td>UMZ100,UQA01X,UQA122,UQF131,UQS115,UQS115,UQS1...</td>\n",
       "      <td>가축사육제한구역,도시지역,제2종일반주거지역,시가지경관지구(중심),대로2류(폭 30m...</td>\n",
       "      <td>2022-05-13T17:07:24</td>\n",
       "    </tr>\n",
       "    <tr>\n",
       "      <th>2</th>\n",
       "      <td>\\n342323.5614999998 266352.2387000006 342317.6...</td>\n",
       "      <td>342323.5614999998 266352.2387000006 342317.631...</td>\n",
       "      <td>342323.5614999998 266352.2387000006 342317.631...</td>\n",
       "      <td>342323.5614999998 266352.2387000006 342317.631...</td>\n",
       "      <td>342323.5614999998 266352.2387000006 342317.631...</td>\n",
       "      <td>342323.5614999998 266352.2387000006 342317.631...</td>\n",
       "      <td>342323.5614999998 266352.2387000006 342317.631...</td>\n",
       "      <td>342323.5614999998 266352.2387000006 342317.631...</td>\n",
       "      <td>2717010900109900007</td>\n",
       "      <td>27170</td>\n",
       "      <td>...</td>\n",
       "      <td>0007</td>\n",
       "      <td>990-7대</td>\n",
       "      <td>141173</td>\n",
       "      <td>27170</td>\n",
       "      <td>1</td>\n",
       "      <td>1,1,1,2,3,3</td>\n",
       "      <td>포함,포함,포함,저촉,접함,접함</td>\n",
       "      <td>UMZ100,UQA01X,UQA230,UQF131,UQS115,UQS115</td>\n",
       "      <td>가축사육제한구역,도시지역,근린상업지역,시가지경관지구(중심),대로2류(폭 30m~35...</td>\n",
       "      <td>2022-05-13T17:07:24</td>\n",
       "    </tr>\n",
       "    <tr>\n",
       "      <th>3</th>\n",
       "      <td>\\n342285.3786000004 266370.8638000004 342308.5...</td>\n",
       "      <td>342285.3786000004 266370.8638000004 342308.504...</td>\n",
       "      <td>342285.3786000004 266370.8638000004 342308.504...</td>\n",
       "      <td>342285.3786000004 266370.8638000004 342308.504...</td>\n",
       "      <td>342285.3786000004 266370.8638000004 342308.504...</td>\n",
       "      <td>342285.3786000004 266370.8638000004 342308.504...</td>\n",
       "      <td>342285.3786000004 266370.8638000004 342308.504...</td>\n",
       "      <td>342285.3786000004 266370.8638000004 342308.504...</td>\n",
       "      <td>2717010900109900010</td>\n",
       "      <td>27170</td>\n",
       "      <td>...</td>\n",
       "      <td>0010</td>\n",
       "      <td>990-10대</td>\n",
       "      <td>144839</td>\n",
       "      <td>27170</td>\n",
       "      <td>1</td>\n",
       "      <td>1,1,1,2,3,3,3</td>\n",
       "      <td>포함,포함,포함,저촉,접함,접함,접함</td>\n",
       "      <td>UMZ100,UQA01X,UQA230,UQF131,UQS115,UQS115,UQS121</td>\n",
       "      <td>가축사육제한구역,도시지역,근린상업지역,시가지경관지구(중심),대로2류(폭 30m~35...</td>\n",
       "      <td>2022-05-13T17:07:24</td>\n",
       "    </tr>\n",
       "    <tr>\n",
       "      <th>4</th>\n",
       "      <td>\\n342248.0356999999 266381.4956 342258.7434999...</td>\n",
       "      <td>342248.0356999999 266381.4956 342258.743499999...</td>\n",
       "      <td>342248.0356999999 266381.4956 342258.743499999...</td>\n",
       "      <td>342248.0356999999 266381.4956 342258.743499999...</td>\n",
       "      <td>342248.0356999999 266381.4956 342258.743499999...</td>\n",
       "      <td>342248.0356999999 266381.4956 342258.743499999...</td>\n",
       "      <td>342248.0356999999 266381.4956 342258.743499999...</td>\n",
       "      <td>342248.0356999999 266381.4956 342258.743499999...</td>\n",
       "      <td>2717010900109900011</td>\n",
       "      <td>27170</td>\n",
       "      <td>...</td>\n",
       "      <td>0011</td>\n",
       "      <td>990-11대</td>\n",
       "      <td>135156</td>\n",
       "      <td>27170</td>\n",
       "      <td>1</td>\n",
       "      <td>1,1,1,2,3,3,3</td>\n",
       "      <td>포함,포함,포함,저촉,접함,접함,접함</td>\n",
       "      <td>UMZ100,UQA01X,UQA230,UQF131,UQS115,UQS115,UQS121</td>\n",
       "      <td>가축사육제한구역,도시지역,근린상업지역,시가지경관지구(중심),대로2류(폭 30m~35...</td>\n",
       "      <td>2022-05-13T17:07:24</td>\n",
       "    </tr>\n",
       "    <tr>\n",
       "      <th>...</th>\n",
       "      <td>...</td>\n",
       "      <td>...</td>\n",
       "      <td>...</td>\n",
       "      <td>...</td>\n",
       "      <td>...</td>\n",
       "      <td>...</td>\n",
       "      <td>...</td>\n",
       "      <td>...</td>\n",
       "      <td>...</td>\n",
       "      <td>...</td>\n",
       "      <td>...</td>\n",
       "      <td>...</td>\n",
       "      <td>...</td>\n",
       "      <td>...</td>\n",
       "      <td>...</td>\n",
       "      <td>...</td>\n",
       "      <td>...</td>\n",
       "      <td>...</td>\n",
       "      <td>...</td>\n",
       "      <td>...</td>\n",
       "      <td>...</td>\n",
       "    </tr>\n",
       "    <tr>\n",
       "      <th>357760</th>\n",
       "      <td>\\n240491.398 306040.9900000002 240493.92100000...</td>\n",
       "      <td>240491.398 306040.9900000002 240493.9210000001...</td>\n",
       "      <td>240491.398 306040.9900000002 240493.9210000001...</td>\n",
       "      <td>240491.398 306040.9900000002 240493.9210000001...</td>\n",
       "      <td>240491.398 306040.9900000002 240493.9210000001...</td>\n",
       "      <td>240491.398 306040.9900000002 240493.9210000001...</td>\n",
       "      <td>240491.398 306040.9900000002 240493.9210000001...</td>\n",
       "      <td>240491.398 306040.9900000002 240493.9210000001...</td>\n",
       "      <td>3011014000101040000</td>\n",
       "      <td>30110</td>\n",
       "      <td>...</td>\n",
       "      <td>0000</td>\n",
       "      <td>104답</td>\n",
       "      <td>222526</td>\n",
       "      <td>30110</td>\n",
       "      <td>1</td>\n",
       "      <td>1,1,1,1</td>\n",
       "      <td>포함,포함,포함,포함</td>\n",
       "      <td>UDV100,UMZ100,UQA01X,UQA430</td>\n",
       "      <td>개발제한구역,가축사육제한구역(2012-03-15)(일부제한지역),도시지역,자연녹지지역</td>\n",
       "      <td>2022-05-13T17:18:51</td>\n",
       "    </tr>\n",
       "    <tr>\n",
       "      <th>357761</th>\n",
       "      <td>\\n240381.6169999996 306090.9560000002 240394.4...</td>\n",
       "      <td>240381.6169999996 306090.9560000002 240394.430...</td>\n",
       "      <td>240381.6169999996 306090.9560000002 240394.430...</td>\n",
       "      <td>240381.6169999996 306090.9560000002 240394.430...</td>\n",
       "      <td>240381.6169999996 306090.9560000002 240394.430...</td>\n",
       "      <td>240381.6169999996 306090.9560000002 240394.430...</td>\n",
       "      <td>240381.6169999996 306090.9560000002 240394.430...</td>\n",
       "      <td>240381.6169999996 306090.9560000002 240394.430...</td>\n",
       "      <td>3011014000101050000</td>\n",
       "      <td>30110</td>\n",
       "      <td>...</td>\n",
       "      <td>0000</td>\n",
       "      <td>105답</td>\n",
       "      <td>222513</td>\n",
       "      <td>30110</td>\n",
       "      <td>1</td>\n",
       "      <td>1,1,1,1,2</td>\n",
       "      <td>포함,포함,포함,포함,저촉</td>\n",
       "      <td>UDV100,UMZ100,UQA01X,UQA430,UQS122</td>\n",
       "      <td>개발제한구역,가축사육제한구역(2012-03-15)(일부제한지역),도시지역,자연녹지지...</td>\n",
       "      <td>2022-05-13T17:18:51</td>\n",
       "    </tr>\n",
       "    <tr>\n",
       "      <th>357762</th>\n",
       "      <td>\\n240507.9780000001 306101.0089999996 240524.3...</td>\n",
       "      <td>240507.9780000001 306101.0089999996 240524.343...</td>\n",
       "      <td>240507.9780000001 306101.0089999996 240524.343...</td>\n",
       "      <td>240507.9780000001 306101.0089999996 240524.343...</td>\n",
       "      <td>240507.9780000001 306101.0089999996 240524.343...</td>\n",
       "      <td>240507.9780000001 306101.0089999996 240524.343...</td>\n",
       "      <td>240507.9780000001 306101.0089999996 240524.343...</td>\n",
       "      <td>240507.9780000001 306101.0089999996 240524.343...</td>\n",
       "      <td>3011014000101060000</td>\n",
       "      <td>30110</td>\n",
       "      <td>...</td>\n",
       "      <td>0000</td>\n",
       "      <td>106전</td>\n",
       "      <td>222519</td>\n",
       "      <td>30110</td>\n",
       "      <td>1</td>\n",
       "      <td>1,1,1,1,2</td>\n",
       "      <td>포함,포함,포함,포함,저촉</td>\n",
       "      <td>UDV100,UMZ100,UQA01X,UQA430,UQS122</td>\n",
       "      <td>개발제한구역,가축사육제한구역(2012-03-15)(일부제한지역),도시지역,자연녹지지...</td>\n",
       "      <td>2022-05-13T17:18:51</td>\n",
       "    </tr>\n",
       "    <tr>\n",
       "      <th>357763</th>\n",
       "      <td>\\n240436.0659999996 306096.2809999995 240432.3...</td>\n",
       "      <td>240436.0659999996 306096.2809999995 240432.398...</td>\n",
       "      <td>240436.0659999996 306096.2809999995 240432.398...</td>\n",
       "      <td>240436.0659999996 306096.2809999995 240432.398...</td>\n",
       "      <td>240436.0659999996 306096.2809999995 240432.398...</td>\n",
       "      <td>240436.0659999996 306096.2809999995 240432.398...</td>\n",
       "      <td>240436.0659999996 306096.2809999995 240432.398...</td>\n",
       "      <td>240436.0659999996 306096.2809999995 240432.398...</td>\n",
       "      <td>3011014000101070000</td>\n",
       "      <td>30110</td>\n",
       "      <td>...</td>\n",
       "      <td>0000</td>\n",
       "      <td>107전</td>\n",
       "      <td>222442</td>\n",
       "      <td>30110</td>\n",
       "      <td>1</td>\n",
       "      <td>1,1,1,1,2</td>\n",
       "      <td>포함,포함,포함,포함,저촉</td>\n",
       "      <td>UDV100,UMZ100,UQA01X,UQA430,UQS122</td>\n",
       "      <td>개발제한구역,가축사육제한구역(2012-03-15)(일부제한지역),도시지역,자연녹지지...</td>\n",
       "      <td>2022-05-13T17:18:51</td>\n",
       "    </tr>\n",
       "    <tr>\n",
       "      <th>357764</th>\n",
       "      <td>\\n240388.0480000004 306202.0170000009 240377.2...</td>\n",
       "      <td>240388.0480000004 306202.0170000009 240377.260...</td>\n",
       "      <td>240388.0480000004 306202.0170000009 240377.260...</td>\n",
       "      <td>240388.0480000004 306202.0170000009 240377.260...</td>\n",
       "      <td>240388.0480000004 306202.0170000009 240377.260...</td>\n",
       "      <td>240388.0480000004 306202.0170000009 240377.260...</td>\n",
       "      <td>240388.0480000004 306202.0170000009 240377.260...</td>\n",
       "      <td>240388.0480000004 306202.0170000009 240377.260...</td>\n",
       "      <td>3011014000101080000</td>\n",
       "      <td>30110</td>\n",
       "      <td>...</td>\n",
       "      <td>0000</td>\n",
       "      <td>108전</td>\n",
       "      <td>219913</td>\n",
       "      <td>30110</td>\n",
       "      <td>1</td>\n",
       "      <td>1,1,1,1</td>\n",
       "      <td>포함,포함,포함,포함</td>\n",
       "      <td>UDV100,UMZ100,UQA01X,UQA430</td>\n",
       "      <td>개발제한구역,가축사육제한구역(2012-03-15)(일부제한지역),도시지역,자연녹지지역</td>\n",
       "      <td>2022-05-13T17:18:51</td>\n",
       "    </tr>\n",
       "  </tbody>\n",
       "</table>\n",
       "<p>357765 rows × 23 columns</p>\n",
       "</div>"
      ],
      "text/plain": [
       "                                                     F176  \\\n",
       "0       \\n342188.6926999996 266421.0840000007 342187.0...   \n",
       "1       \\n342243.5922999997 266395.6919 342245.5823999...   \n",
       "2       \\n342323.5614999998 266352.2387000006 342317.6...   \n",
       "3       \\n342285.3786000004 266370.8638000004 342308.5...   \n",
       "4       \\n342248.0356999999 266381.4956 342258.7434999...   \n",
       "...                                                   ...   \n",
       "357760  \\n240491.398 306040.9900000002 240493.92100000...   \n",
       "357761  \\n240381.6169999996 306090.9560000002 240394.4...   \n",
       "357762  \\n240507.9780000001 306101.0089999996 240524.3...   \n",
       "357763  \\n240436.0659999996 306096.2809999995 240432.3...   \n",
       "357764  \\n240388.0480000004 306202.0170000009 240377.2...   \n",
       "\n",
       "                                                    SHAPE  \\\n",
       "0       342188.6926999996 266421.0840000007 342187.080...   \n",
       "1       342243.5922999997 266395.6919 342245.582399999...   \n",
       "2       342323.5614999998 266352.2387000006 342317.631...   \n",
       "3       342285.3786000004 266370.8638000004 342308.504...   \n",
       "4       342248.0356999999 266381.4956 342258.743499999...   \n",
       "...                                                   ...   \n",
       "357760  240491.398 306040.9900000002 240493.9210000001...   \n",
       "357761  240381.6169999996 306090.9560000002 240394.430...   \n",
       "357762  240507.9780000001 306101.0089999996 240524.343...   \n",
       "357763  240436.0659999996 306096.2809999995 240432.398...   \n",
       "357764  240388.0480000004 306202.0170000009 240377.260...   \n",
       "\n",
       "                                             MultiSurface  \\\n",
       "0       342188.6926999996 266421.0840000007 342187.080...   \n",
       "1       342243.5922999997 266395.6919 342245.582399999...   \n",
       "2       342323.5614999998 266352.2387000006 342317.631...   \n",
       "3       342285.3786000004 266370.8638000004 342308.504...   \n",
       "4       342248.0356999999 266381.4956 342258.743499999...   \n",
       "...                                                   ...   \n",
       "357760  240491.398 306040.9900000002 240493.9210000001...   \n",
       "357761  240381.6169999996 306090.9560000002 240394.430...   \n",
       "357762  240507.9780000001 306101.0089999996 240524.343...   \n",
       "357763  240436.0659999996 306096.2809999995 240432.398...   \n",
       "357764  240388.0480000004 306202.0170000009 240377.260...   \n",
       "\n",
       "                                            surfaceMember  \\\n",
       "0       342188.6926999996 266421.0840000007 342187.080...   \n",
       "1       342243.5922999997 266395.6919 342245.582399999...   \n",
       "2       342323.5614999998 266352.2387000006 342317.631...   \n",
       "3       342285.3786000004 266370.8638000004 342308.504...   \n",
       "4       342248.0356999999 266381.4956 342258.743499999...   \n",
       "...                                                   ...   \n",
       "357760  240491.398 306040.9900000002 240493.9210000001...   \n",
       "357761  240381.6169999996 306090.9560000002 240394.430...   \n",
       "357762  240507.9780000001 306101.0089999996 240524.343...   \n",
       "357763  240436.0659999996 306096.2809999995 240432.398...   \n",
       "357764  240388.0480000004 306202.0170000009 240377.260...   \n",
       "\n",
       "                                                  Polygon  \\\n",
       "0       342188.6926999996 266421.0840000007 342187.080...   \n",
       "1       342243.5922999997 266395.6919 342245.582399999...   \n",
       "2       342323.5614999998 266352.2387000006 342317.631...   \n",
       "3       342285.3786000004 266370.8638000004 342308.504...   \n",
       "4       342248.0356999999 266381.4956 342258.743499999...   \n",
       "...                                                   ...   \n",
       "357760  240491.398 306040.9900000002 240493.9210000001...   \n",
       "357761  240381.6169999996 306090.9560000002 240394.430...   \n",
       "357762  240507.9780000001 306101.0089999996 240524.343...   \n",
       "357763  240436.0659999996 306096.2809999995 240432.398...   \n",
       "357764  240388.0480000004 306202.0170000009 240377.260...   \n",
       "\n",
       "                                                 exterior  \\\n",
       "0       342188.6926999996 266421.0840000007 342187.080...   \n",
       "1       342243.5922999997 266395.6919 342245.582399999...   \n",
       "2       342323.5614999998 266352.2387000006 342317.631...   \n",
       "3       342285.3786000004 266370.8638000004 342308.504...   \n",
       "4       342248.0356999999 266381.4956 342258.743499999...   \n",
       "...                                                   ...   \n",
       "357760  240491.398 306040.9900000002 240493.9210000001...   \n",
       "357761  240381.6169999996 306090.9560000002 240394.430...   \n",
       "357762  240507.9780000001 306101.0089999996 240524.343...   \n",
       "357763  240436.0659999996 306096.2809999995 240432.398...   \n",
       "357764  240388.0480000004 306202.0170000009 240377.260...   \n",
       "\n",
       "                                               LinearRing  \\\n",
       "0       342188.6926999996 266421.0840000007 342187.080...   \n",
       "1       342243.5922999997 266395.6919 342245.582399999...   \n",
       "2       342323.5614999998 266352.2387000006 342317.631...   \n",
       "3       342285.3786000004 266370.8638000004 342308.504...   \n",
       "4       342248.0356999999 266381.4956 342258.743499999...   \n",
       "...                                                   ...   \n",
       "357760  240491.398 306040.9900000002 240493.9210000001...   \n",
       "357761  240381.6169999996 306090.9560000002 240394.430...   \n",
       "357762  240507.9780000001 306101.0089999996 240524.343...   \n",
       "357763  240436.0659999996 306096.2809999995 240432.398...   \n",
       "357764  240388.0480000004 306202.0170000009 240377.260...   \n",
       "\n",
       "                                                  posList  \\\n",
       "0       342188.6926999996 266421.0840000007 342187.080...   \n",
       "1       342243.5922999997 266395.6919 342245.582399999...   \n",
       "2       342323.5614999998 266352.2387000006 342317.631...   \n",
       "3       342285.3786000004 266370.8638000004 342308.504...   \n",
       "4       342248.0356999999 266381.4956 342258.743499999...   \n",
       "...                                                   ...   \n",
       "357760  240491.398 306040.9900000002 240493.9210000001...   \n",
       "357761  240381.6169999996 306090.9560000002 240394.430...   \n",
       "357762  240507.9780000001 306101.0089999996 240524.343...   \n",
       "357763  240436.0659999996 306096.2809999995 240432.398...   \n",
       "357764  240388.0480000004 306202.0170000009 240377.260...   \n",
       "\n",
       "                        PNU LD_CPSG_CODE  ...  SLNO LNM_LNDCGR_SMBOL  \\\n",
       "0       2717010900109680003        27170  ...  0003           968-3도   \n",
       "1       2717010900109900004        27170  ...  0004           990-4도   \n",
       "2       2717010900109900007        27170  ...  0007           990-7대   \n",
       "3       2717010900109900010        27170  ...  0010          990-10대   \n",
       "4       2717010900109900011        27170  ...  0011          990-11대   \n",
       "...                     ...          ...  ...   ...              ...   \n",
       "357760  3011014000101040000        30110  ...  0000             104답   \n",
       "357761  3011014000101050000        30110  ...  0000             105답   \n",
       "357762  3011014000101060000        30110  ...  0000             106전   \n",
       "357763  3011014000101070000        30110  ...  0000             107전   \n",
       "357764  3011014000101080000        30110  ...  0000             108전   \n",
       "\n",
       "       SRC_OBJECTID SRC_LD_CPSG_CODE ISSU_CONFM_CODE      CNFLC_AT_LIST  \\\n",
       "0            145700            27170               1          1,1,1,2,1   \n",
       "1            145543            27170               1  1,1,1,2,2,2,3,2,2   \n",
       "2            141173            27170               1        1,1,1,2,3,3   \n",
       "3            144839            27170               1      1,1,1,2,3,3,3   \n",
       "4            135156            27170               1      1,1,1,2,3,3,3   \n",
       "...             ...              ...             ...                ...   \n",
       "357760       222526            30110               1            1,1,1,1   \n",
       "357761       222513            30110               1          1,1,1,1,2   \n",
       "357762       222519            30110               1          1,1,1,1,2   \n",
       "357763       222442            30110               1          1,1,1,1,2   \n",
       "357764       219913            30110               1            1,1,1,1   \n",
       "\n",
       "                  CNFLC_AT_NM_LIST  \\\n",
       "0                   포함,포함,포함,저촉,포함   \n",
       "1       포함,포함,포함,저촉,저촉,저촉,접함,저촉,저촉   \n",
       "2                포함,포함,포함,저촉,접함,접함   \n",
       "3             포함,포함,포함,저촉,접함,접함,접함   \n",
       "4             포함,포함,포함,저촉,접함,접함,접함   \n",
       "...                            ...   \n",
       "357760                 포함,포함,포함,포함   \n",
       "357761              포함,포함,포함,포함,저촉   \n",
       "357762              포함,포함,포함,포함,저촉   \n",
       "357763              포함,포함,포함,포함,저촉   \n",
       "357764                 포함,포함,포함,포함   \n",
       "\n",
       "                               PRPOS_AREA_DSTRC_CODE_LIST  \\\n",
       "0                      UMZ100,UQA01X,UQA122,UQS520,UQT100   \n",
       "1       UMZ100,UQA01X,UQA122,UQF131,UQS115,UQS115,UQS1...   \n",
       "2               UMZ100,UQA01X,UQA230,UQF131,UQS115,UQS115   \n",
       "3        UMZ100,UQA01X,UQA230,UQF131,UQS115,UQS115,UQS121   \n",
       "4        UMZ100,UQA01X,UQA230,UQF131,UQS115,UQS115,UQS121   \n",
       "...                                                   ...   \n",
       "357760                        UDV100,UMZ100,UQA01X,UQA430   \n",
       "357761                 UDV100,UMZ100,UQA01X,UQA430,UQS122   \n",
       "357762                 UDV100,UMZ100,UQA01X,UQA430,UQS122   \n",
       "357763                 UDV100,UMZ100,UQA01X,UQA430,UQS122   \n",
       "357764                        UDV100,UMZ100,UQA01X,UQA430   \n",
       "\n",
       "                                 PRPOS_AREA_DSTRC_NM_LIST       FRST_REGIST_DT  \n",
       "0                가축사육제한구역,도시지역,제2종일반주거지역,도시철도(3호선)(저촉),광장  2022-05-13T17:07:24  \n",
       "1       가축사육제한구역,도시지역,제2종일반주거지역,시가지경관지구(중심),대로2류(폭 30m...  2022-05-13T17:07:24  \n",
       "2       가축사육제한구역,도시지역,근린상업지역,시가지경관지구(중심),대로2류(폭 30m~35...  2022-05-13T17:07:24  \n",
       "3       가축사육제한구역,도시지역,근린상업지역,시가지경관지구(중심),대로2류(폭 30m~35...  2022-05-13T17:07:24  \n",
       "4       가축사육제한구역,도시지역,근린상업지역,시가지경관지구(중심),대로2류(폭 30m~35...  2022-05-13T17:07:24  \n",
       "...                                                   ...                  ...  \n",
       "357760    개발제한구역,가축사육제한구역(2012-03-15)(일부제한지역),도시지역,자연녹지지역  2022-05-13T17:18:51  \n",
       "357761  개발제한구역,가축사육제한구역(2012-03-15)(일부제한지역),도시지역,자연녹지지...  2022-05-13T17:18:51  \n",
       "357762  개발제한구역,가축사육제한구역(2012-03-15)(일부제한지역),도시지역,자연녹지지...  2022-05-13T17:18:51  \n",
       "357763  개발제한구역,가축사육제한구역(2012-03-15)(일부제한지역),도시지역,자연녹지지...  2022-05-13T17:18:51  \n",
       "357764    개발제한구역,가축사육제한구역(2012-03-15)(일부제한지역),도시지역,자연녹지지역  2022-05-13T17:18:51  \n",
       "\n",
       "[357765 rows x 23 columns]"
      ]
     },
     "execution_count": 26,
     "metadata": {},
     "output_type": "execute_result"
    }
   ],
   "source": [
    "df"
   ]
  },
  {
   "cell_type": "markdown",
   "id": "ba203d10-d4fe-4c53-bca3-a7f155f9bcc5",
   "metadata": {},
   "source": [
    "###### 어디까지 받아왔는지 확인"
   ]
  },
  {
   "cell_type": "code",
   "execution_count": 16,
   "id": "a67aed46-26bb-4c5b-8527-7aa68a31f366",
   "metadata": {},
   "outputs": [],
   "source": [
    "# 43113310\n",
    "lawd_cd_unique_df = pd.DataFrame(lawd_cd_unique)"
   ]
  },
  {
   "cell_type": "code",
   "execution_count": 30,
   "id": "8662f609-4e46-493b-9eb2-c6d4a1a66a23",
   "metadata": {},
   "outputs": [
    {
     "data": {
      "text/html": [
       "<div>\n",
       "<style scoped>\n",
       "    .dataframe tbody tr th:only-of-type {\n",
       "        vertical-align: middle;\n",
       "    }\n",
       "\n",
       "    .dataframe tbody tr th {\n",
       "        vertical-align: top;\n",
       "    }\n",
       "\n",
       "    .dataframe thead th {\n",
       "        text-align: right;\n",
       "    }\n",
       "</style>\n",
       "<table border=\"1\" class=\"dataframe\">\n",
       "  <thead>\n",
       "    <tr style=\"text-align: right;\">\n",
       "      <th></th>\n",
       "      <th>0</th>\n",
       "    </tr>\n",
       "  </thead>\n",
       "  <tbody>\n",
       "    <tr>\n",
       "      <th>1153</th>\n",
       "      <td>41115126</td>\n",
       "    </tr>\n",
       "  </tbody>\n",
       "</table>\n",
       "</div>"
      ],
      "text/plain": [
       "             0\n",
       "1153  41115126"
      ]
     },
     "execution_count": 30,
     "metadata": {},
     "output_type": "execute_result"
    }
   ],
   "source": [
    "lawd_cd_unique_df[lawd_cd_unique_df[0]=='41115126']"
   ]
  }
 ],
 "metadata": {
  "kernelspec": {
   "display_name": "oasis",
   "language": "python",
   "name": "oasis"
  },
  "language_info": {
   "codemirror_mode": {
    "name": "ipython",
    "version": 3
   },
   "file_extension": ".py",
   "mimetype": "text/x-python",
   "name": "python",
   "nbconvert_exporter": "python",
   "pygments_lexer": "ipython3",
   "version": "3.8.13"
  }
 },
 "nbformat": 4,
 "nbformat_minor": 5
}
