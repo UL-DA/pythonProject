{
 "cells": [
  {
   "cell_type": "markdown",
   "id": "c59e9b23-8f6d-4a76-bc95-89b56de630e6",
   "metadata": {},
   "source": [
    "### 최종"
   ]
  },
  {
   "cell_type": "code",
   "execution_count": 1,
   "id": "0bfada26-97ee-4c80-9e77-9b4d47372d07",
   "metadata": {},
   "outputs": [],
   "source": [
    "# 임포트\n",
    "import numpy  as np\n",
    "import pandas as pd\n",
    "import psycopg2\n",
    "import datetime\n",
    "\n",
    "# 파일 불러오기\n",
    "df = pd.read_csv(\"C:\\oasis\\git\\data\\subway_xy_202210141852.csv\")\n",
    "\n",
    "# 경위도 str으로 타입 변경\n",
    "df['lat'] = df['lat'].astype(str)\n",
    "df['lon'] = df['lon'].astype(str)\n",
    "\n",
    "# 경위도 포인트로 묶기\n",
    "df['point'] = np.nan\n",
    "for i in df.index:\n",
    "    df['point'][i] = 'POINT (' + df['lat'][i] + ' ' + df['lon'][i] + ')'\n",
    "    \n",
    "# polygon str 변환\n",
    "df['point'] = df['point'].astype(str)"
   ]
  },
  {
   "cell_type": "code",
   "execution_count": 44,
   "id": "b4105dcc-98fc-404c-987e-3dc0c6c30b64",
   "metadata": {},
   "outputs": [
    {
     "name": "stdout",
     "output_type": "stream",
     "text": [
      "2022-10-14 18:56:55.810560  :  0\n",
      "1176\n"
     ]
    }
   ],
   "source": [
    "### 2. DB 연동\n",
    "table = 'm1.subway_xy' # 테이블 지정\n",
    "\n",
    "# execute_mogrify\n",
    "def execute_mogrify(conn, df, table, val):\n",
    "    # Create a list of tuples from the dataframe values\n",
    "    tuples = [tuple(x) for x in df.to_numpy()]\n",
    "    # Comma-separated dataframe columns\n",
    "    cols = ','.join(list(df.columns))\n",
    "    # SQL query to execute\n",
    "    cursor = conn.cursor()\n",
    "    # drop & create\n",
    "    cursor.execute(\n",
    "    \"\"\"\n",
    "    drop table if exists m1.subway_xy;\n",
    "    create table m1.subway_xy(\n",
    "    station_cd        varchar(4)\n",
    "    ,station_nm        varchar(50)\n",
    "    ,line_nm        varchar(50)\n",
    "    ,lat        double precision\n",
    "    ,lon        double precision\n",
    "    ,base_ym        varchar(6)\n",
    "    ,point        geography\n",
    "    )\n",
    "    distkey(line_nm)\n",
    "    compound sortkey(base_ym, line_nm);\n",
    "    commit;\n",
    "    \"\"\"\n",
    "    )\n",
    "    values = [cursor.mogrify(val, tup).decode('utf8') for tup in\n",
    "              tuples]\n",
    "    query = \"INSERT INTO %s(%s) VALUES \" % (table, cols) + \",\".join(values)\n",
    "\n",
    "    try:\n",
    "        cursor.execute(query, tuples)\n",
    "        conn.commit()\n",
    "    except (Exception, psycopg2.DatabaseError) as error:\n",
    "        print(\"Error: %s\" % error)\n",
    "        conn.rollback()\n",
    "        cursor.close()\n",
    "        return 1\n",
    "    cursor.close()\n",
    "\n",
    "# values 설정\n",
    "val = '(%s,%s,%s,%s,%s,%s,ST_GeomFromText(%s, 4326))'\n",
    "\n",
    "# insert\n",
    "for j in range(0, len(df), 10000):\n",
    "\n",
    "    # DB Connect\n",
    "    conn = psycopg2.connect(\n",
    "        host='redshift-cluster-1.ctvbwnnvbdkl.ap-northeast-2.redshift.amazonaws.com',\n",
    "        port=5439,\n",
    "        dbname='dev',\n",
    "        user='awsuser',\n",
    "        password='cremaoAdmin1234qwer!!'\n",
    "    )\n",
    "\n",
    "    # 10000개 단위로 나누기\n",
    "    tmp = df[j:j + 10000]\n",
    "\n",
    "    # insert\n",
    "    execute_mogrify(conn, tmp, table, val)\n",
    "    print(datetime.datetime.now(), ' : ', j)\n",
    "    tmp = pd.DataFrame()\n",
    "\n",
    "# row count\n",
    "print(len(df))"
   ]
  }
 ],
 "metadata": {
  "kernelspec": {
   "display_name": "oasis",
   "language": "python",
   "name": "oasis"
  },
  "language_info": {
   "codemirror_mode": {
    "name": "ipython",
    "version": 3
   },
   "file_extension": ".py",
   "mimetype": "text/x-python",
   "name": "python",
   "nbconvert_exporter": "python",
   "pygments_lexer": "ipython3",
   "version": "3.8.13"
  }
 },
 "nbformat": 4,
 "nbformat_minor": 5
}
