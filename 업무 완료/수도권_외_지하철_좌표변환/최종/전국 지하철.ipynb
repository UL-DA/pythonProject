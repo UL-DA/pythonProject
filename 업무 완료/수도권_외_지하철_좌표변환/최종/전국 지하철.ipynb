{
 "cells": [
  {
   "cell_type": "code",
   "execution_count": 215,
   "id": "59f8d5a0-1600-4904-94a3-560c314c04cf",
   "metadata": {},
   "outputs": [],
   "source": [
    "import pandas as pd\n",
    "import numpy as np\n",
    "import numba as nb\n",
    "\n",
    "import time\n",
    "from tqdm import tqdm"
   ]
  },
  {
   "cell_type": "markdown",
   "id": "febf2017-60e7-4226-8662-3157325895cb",
   "metadata": {
    "tags": []
   },
   "source": [
    "### 지역"
   ]
  },
  {
   "cell_type": "markdown",
   "id": "aa29202b-4da0-4c79-8c42-4fe0d157c844",
   "metadata": {},
   "source": [
    "데이터 가져오기"
   ]
  },
  {
   "cell_type": "code",
   "execution_count": 436,
   "id": "334c5d8b-e400-4011-9563-9f80068028ad",
   "metadata": {
    "tags": []
   },
   "outputs": [],
   "source": [
    "df_gj = pd.read_excel('./2. 부산.xlsx')"
   ]
  },
  {
   "cell_type": "code",
   "execution_count": 437,
   "id": "b6cb6938-f5bf-4c68-b330-0f61ed75a65c",
   "metadata": {
    "tags": []
   },
   "outputs": [
    {
     "data": {
      "text/html": [
       "<div>\n",
       "<style scoped>\n",
       "    .dataframe tbody tr th:only-of-type {\n",
       "        vertical-align: middle;\n",
       "    }\n",
       "\n",
       "    .dataframe tbody tr th {\n",
       "        vertical-align: top;\n",
       "    }\n",
       "\n",
       "    .dataframe thead th {\n",
       "        text-align: right;\n",
       "    }\n",
       "</style>\n",
       "<table border=\"1\" class=\"dataframe\">\n",
       "  <thead>\n",
       "    <tr style=\"text-align: right;\">\n",
       "      <th></th>\n",
       "      <th>station_name</th>\n",
       "      <th>use_date</th>\n",
       "      <th>boarding_type</th>\n",
       "      <th>users_amount</th>\n",
       "    </tr>\n",
       "  </thead>\n",
       "  <tbody>\n",
       "    <tr>\n",
       "      <th>0</th>\n",
       "      <td>다대포해수욕장</td>\n",
       "      <td>2022-01-01</td>\n",
       "      <td>B</td>\n",
       "      <td>5142</td>\n",
       "    </tr>\n",
       "    <tr>\n",
       "      <th>1</th>\n",
       "      <td>다대포해수욕장</td>\n",
       "      <td>2022-01-01</td>\n",
       "      <td>A</td>\n",
       "      <td>4430</td>\n",
       "    </tr>\n",
       "    <tr>\n",
       "      <th>2</th>\n",
       "      <td>다대포해수욕장</td>\n",
       "      <td>2022-01-02</td>\n",
       "      <td>B</td>\n",
       "      <td>3429</td>\n",
       "    </tr>\n",
       "    <tr>\n",
       "      <th>3</th>\n",
       "      <td>다대포해수욕장</td>\n",
       "      <td>2022-01-02</td>\n",
       "      <td>A</td>\n",
       "      <td>2992</td>\n",
       "    </tr>\n",
       "    <tr>\n",
       "      <th>4</th>\n",
       "      <td>다대포해수욕장</td>\n",
       "      <td>2022-01-03</td>\n",
       "      <td>B</td>\n",
       "      <td>4323</td>\n",
       "    </tr>\n",
       "    <tr>\n",
       "      <th>...</th>\n",
       "      <td>...</td>\n",
       "      <td>...</td>\n",
       "      <td>...</td>\n",
       "      <td>...</td>\n",
       "    </tr>\n",
       "    <tr>\n",
       "      <th>40539</th>\n",
       "      <td>안  평</td>\n",
       "      <td>2022-06-28</td>\n",
       "      <td>A</td>\n",
       "      <td>1903</td>\n",
       "    </tr>\n",
       "    <tr>\n",
       "      <th>40540</th>\n",
       "      <td>안  평</td>\n",
       "      <td>2022-06-29</td>\n",
       "      <td>B</td>\n",
       "      <td>2016</td>\n",
       "    </tr>\n",
       "    <tr>\n",
       "      <th>40541</th>\n",
       "      <td>안  평</td>\n",
       "      <td>2022-06-29</td>\n",
       "      <td>A</td>\n",
       "      <td>1942</td>\n",
       "    </tr>\n",
       "    <tr>\n",
       "      <th>40542</th>\n",
       "      <td>안  평</td>\n",
       "      <td>2022-06-30</td>\n",
       "      <td>B</td>\n",
       "      <td>2258</td>\n",
       "    </tr>\n",
       "    <tr>\n",
       "      <th>40543</th>\n",
       "      <td>안  평</td>\n",
       "      <td>2022-06-30</td>\n",
       "      <td>A</td>\n",
       "      <td>2158</td>\n",
       "    </tr>\n",
       "  </tbody>\n",
       "</table>\n",
       "<p>40544 rows × 4 columns</p>\n",
       "</div>"
      ],
      "text/plain": [
       "      station_name    use_date boarding_type  users_amount\n",
       "0          다대포해수욕장  2022-01-01             B          5142\n",
       "1          다대포해수욕장  2022-01-01             A          4430\n",
       "2          다대포해수욕장  2022-01-02             B          3429\n",
       "3          다대포해수욕장  2022-01-02             A          2992\n",
       "4          다대포해수욕장  2022-01-03             B          4323\n",
       "...            ...         ...           ...           ...\n",
       "40539         안  평  2022-06-28             A          1903\n",
       "40540         안  평  2022-06-29             B          2016\n",
       "40541         안  평  2022-06-29             A          1942\n",
       "40542         안  평  2022-06-30             B          2258\n",
       "40543         안  평  2022-06-30             A          2158\n",
       "\n",
       "[40544 rows x 4 columns]"
      ]
     },
     "execution_count": 437,
     "metadata": {},
     "output_type": "execute_result"
    }
   ],
   "source": [
    "df_gj"
   ]
  },
  {
   "cell_type": "markdown",
   "id": "72ed24ea-fb58-4800-a68c-fb72b41104c9",
   "metadata": {},
   "source": [
    "역이름 공백제거"
   ]
  },
  {
   "cell_type": "code",
   "execution_count": 410,
   "id": "d3e69734-f61f-4edc-9490-70731ad83e0b",
   "metadata": {},
   "outputs": [],
   "source": [
    "df_gj['station_name'] = df_gj['station_name'].str.strip()"
   ]
  },
  {
   "cell_type": "markdown",
   "id": "93373ece-cac7-4a7e-9f1e-9b502ce14cf3",
   "metadata": {},
   "source": [
    "승하차 수 계산"
   ]
  },
  {
   "cell_type": "code",
   "execution_count": 322,
   "id": "f5385607-47fb-45c5-8675-45857474cc9b",
   "metadata": {},
   "outputs": [],
   "source": [
    "# 승하차 이름 변경\n",
    "idx_B = df_gj[df_gj['boarding_type'].str.contains('승차')].index\n",
    "df_gj.iloc[idx_B,2] = 'B'"
   ]
  },
  {
   "cell_type": "code",
   "execution_count": 323,
   "id": "0f0eaa13-fc62-46b1-97fd-c02a7c3c5fa5",
   "metadata": {},
   "outputs": [],
   "source": [
    "idx_A = df_gj[df_gj['boarding_type'].str.contains('하차')].index\n",
    "df_gj.iloc[idx_A,2] = 'A'"
   ]
  },
  {
   "cell_type": "markdown",
   "id": "fbff1e91-e0a2-4de5-aaf9-884880c27cbf",
   "metadata": {},
   "source": [
    "인덱스 별로 sum"
   ]
  },
  {
   "cell_type": "code",
   "execution_count": 284,
   "id": "d1b2b6b3-ae67-45c6-aa66-c38884a947ac",
   "metadata": {},
   "outputs": [],
   "source": [
    "# 인덱스 기준, 로우 합계 = 그 날 이용객 수 총 합\n",
    "df_gj['users_amount'] = df_gj.groupby(df_gj.index).sum().sum(axis=1)"
   ]
  },
  {
   "cell_type": "code",
   "execution_count": 326,
   "id": "e9a3258b-433c-4abf-8ef1-fbb273189ff7",
   "metadata": {},
   "outputs": [
    {
     "data": {
      "text/html": [
       "<div>\n",
       "<style scoped>\n",
       "    .dataframe tbody tr th:only-of-type {\n",
       "        vertical-align: middle;\n",
       "    }\n",
       "\n",
       "    .dataframe tbody tr th {\n",
       "        vertical-align: top;\n",
       "    }\n",
       "\n",
       "    .dataframe thead th {\n",
       "        text-align: right;\n",
       "    }\n",
       "</style>\n",
       "<table border=\"1\" class=\"dataframe\">\n",
       "  <thead>\n",
       "    <tr style=\"text-align: right;\">\n",
       "      <th></th>\n",
       "      <th>station_name</th>\n",
       "      <th>use_date</th>\n",
       "      <th>boarding_type</th>\n",
       "      <th>users_amount</th>\n",
       "    </tr>\n",
       "  </thead>\n",
       "  <tbody>\n",
       "  </tbody>\n",
       "</table>\n",
       "</div>"
      ],
      "text/plain": [
       "Empty DataFrame\n",
       "Columns: [station_name, use_date, boarding_type, users_amount]\n",
       "Index: []"
      ]
     },
     "execution_count": 326,
     "metadata": {},
     "output_type": "execute_result"
    }
   ],
   "source": [
    "# 안 들어간 값 있는지 확인\n",
    "df_gj[df_gj['users_amount'].isnull()]"
   ]
  },
  {
   "cell_type": "markdown",
   "id": "fa002590-5550-42b6-b3bf-f544c4764eda",
   "metadata": {},
   "source": [
    "저장"
   ]
  },
  {
   "cell_type": "code",
   "execution_count": 440,
   "id": "19c84b54-698e-4918-9e14-51383c8fae9d",
   "metadata": {},
   "outputs": [],
   "source": [
    "df_gj.to_excel('./2. 부산.xlsx', index=False)"
   ]
  },
  {
   "cell_type": "markdown",
   "id": "2b544c54-e65a-48c3-8d23-fbf76c660599",
   "metadata": {},
   "source": [
    "대구-날짜 변경"
   ]
  },
  {
   "cell_type": "code",
   "execution_count": 411,
   "id": "a8a4b2cc-4207-44cc-9f18-c6050599f845",
   "metadata": {},
   "outputs": [],
   "source": [
    "# str으로 타입 변경, 앞에 0 붙이기\n",
    "df_gj['월'] = '0' + df_gj['월'].astype(str)\n",
    "df_gj['일'] = '0' + df_gj['일'].astype(str)"
   ]
  },
  {
   "cell_type": "code",
   "execution_count": 415,
   "id": "cf7df438-f5d0-4a19-9e4b-085afae62d5a",
   "metadata": {},
   "outputs": [],
   "source": [
    "df_gj['월'] = df_gj['월'].str.split('-').str[1]"
   ]
  },
  {
   "cell_type": "code",
   "execution_count": 418,
   "id": "d6f54ea1-a6e7-438a-bd7a-b5eaa24f1565",
   "metadata": {},
   "outputs": [],
   "source": [
    "df_gj['일'] = df_gj['일'].str.split('-').str[-1]"
   ]
  },
  {
   "cell_type": "code",
   "execution_count": 422,
   "id": "b5945c4a-e1d3-42c5-9702-789ca7819df1",
   "metadata": {},
   "outputs": [],
   "source": [
    "df_gj['use_date'] = '2022' + df_gj['월'] + df_gj['일']"
   ]
  },
  {
   "cell_type": "code",
   "execution_count": 221,
   "id": "4f1b5c8e-bfa2-4f0e-864a-3b9df4e2951b",
   "metadata": {
    "tags": []
   },
   "outputs": [],
   "source": [
    "# 안됨\n",
    "for i in df_gj.index:\n",
    "    df_gj.loc[:,'일'][i] = df_gj['일'][i][-2:]"
   ]
  },
  {
   "cell_type": "markdown",
   "id": "30a86499-4261-4c15-9216-f017252543df",
   "metadata": {},
   "source": [
    "날짜 포맷 변경"
   ]
  },
  {
   "cell_type": "code",
   "execution_count": 438,
   "id": "aa51c89a-3aa9-4024-865f-4c5d5e585ef8",
   "metadata": {},
   "outputs": [],
   "source": [
    "df_gj['use_date'] = df_gj['use_date'].str.split('-').str[0] + df_gj['use_date'].str.split('-').str[1] + df_gj['use_date'].str.split('-').str[2]"
   ]
  },
  {
   "cell_type": "markdown",
   "id": "d16fb23a-4e3a-4bb9-931c-c15db7304e38",
   "metadata": {
    "jp-MarkdownHeadingCollapsed": true,
    "tags": []
   },
   "source": [
    "###### 테스트"
   ]
  },
  {
   "cell_type": "code",
   "execution_count": 191,
   "id": "c53b4f47-aff6-4bd6-bcfd-28a8fa127bf4",
   "metadata": {},
   "outputs": [],
   "source": [
    "# 역이름 뽑기\n",
    "station_nm = []\n",
    "for i in df_gj['station_name']:\n",
    "    if i not in station_nm:\n",
    "        station_nm.append(i)"
   ]
  },
  {
   "cell_type": "code",
   "execution_count": 197,
   "id": "adb2dbf2-8698-4879-b054-9cee3500721c",
   "metadata": {
    "collapsed": true,
    "jupyter": {
     "outputs_hidden": true
    },
    "tags": []
   },
   "outputs": [
    {
     "data": {
      "text/plain": [
       "['녹동',\n",
       " '소태',\n",
       " '학동증심사',\n",
       " '남광주',\n",
       " '문화전당',\n",
       " '금남로4가',\n",
       " '금남로5가',\n",
       " '양동시장',\n",
       " '돌고개',\n",
       " '농성',\n",
       " '화정',\n",
       " '쌍촌',\n",
       " '운천',\n",
       " '상무',\n",
       " '김대중컨벤션',\n",
       " '공항',\n",
       " '송정공원',\n",
       " '광주송정',\n",
       " '도산',\n",
       " '평동',\n",
       " '김대중컨벤션센터']"
      ]
     },
     "execution_count": 197,
     "metadata": {},
     "output_type": "execute_result"
    }
   ],
   "source": [
    "station_nm"
   ]
  },
  {
   "cell_type": "code",
   "execution_count": 141,
   "id": "cae233e5-41e1-42c4-8b89-ab860abab3ba",
   "metadata": {},
   "outputs": [],
   "source": [
    "DF = df_gj.groupby(['station_name', '구분']).sum()"
   ]
  },
  {
   "cell_type": "code",
   "execution_count": 161,
   "id": "4ba20ae6-0b58-42db-b97f-fbf55c686e69",
   "metadata": {},
   "outputs": [
    {
     "data": {
      "text/html": [
       "<div>\n",
       "<style scoped>\n",
       "    .dataframe tbody tr th:only-of-type {\n",
       "        vertical-align: middle;\n",
       "    }\n",
       "\n",
       "    .dataframe tbody tr th {\n",
       "        vertical-align: top;\n",
       "    }\n",
       "\n",
       "    .dataframe thead th {\n",
       "        text-align: right;\n",
       "    }\n",
       "</style>\n",
       "<table border=\"1\" class=\"dataframe\">\n",
       "  <thead>\n",
       "    <tr style=\"text-align: right;\">\n",
       "      <th></th>\n",
       "      <th>05_06</th>\n",
       "      <th>06_07</th>\n",
       "      <th>07_08</th>\n",
       "      <th>08_09</th>\n",
       "      <th>09_10</th>\n",
       "      <th>10_11</th>\n",
       "      <th>11_12</th>\n",
       "      <th>12_13</th>\n",
       "      <th>13_14</th>\n",
       "      <th>14_15</th>\n",
       "      <th>15_16</th>\n",
       "      <th>16_17</th>\n",
       "      <th>17_18</th>\n",
       "      <th>18_19</th>\n",
       "      <th>19_20</th>\n",
       "      <th>20_21</th>\n",
       "      <th>21_22</th>\n",
       "      <th>22_23</th>\n",
       "      <th>23_24</th>\n",
       "    </tr>\n",
       "    <tr>\n",
       "      <th>구분</th>\n",
       "      <th></th>\n",
       "      <th></th>\n",
       "      <th></th>\n",
       "      <th></th>\n",
       "      <th></th>\n",
       "      <th></th>\n",
       "      <th></th>\n",
       "      <th></th>\n",
       "      <th></th>\n",
       "      <th></th>\n",
       "      <th></th>\n",
       "      <th></th>\n",
       "      <th></th>\n",
       "      <th></th>\n",
       "      <th></th>\n",
       "      <th></th>\n",
       "      <th></th>\n",
       "      <th></th>\n",
       "      <th></th>\n",
       "    </tr>\n",
       "  </thead>\n",
       "  <tbody>\n",
       "    <tr>\n",
       "      <th>A</th>\n",
       "      <td>509</td>\n",
       "      <td>1599</td>\n",
       "      <td>3619</td>\n",
       "      <td>9362</td>\n",
       "      <td>6361</td>\n",
       "      <td>5891</td>\n",
       "      <td>6486</td>\n",
       "      <td>6285</td>\n",
       "      <td>6990</td>\n",
       "      <td>7194</td>\n",
       "      <td>8939</td>\n",
       "      <td>9530</td>\n",
       "      <td>13849</td>\n",
       "      <td>18332</td>\n",
       "      <td>8882</td>\n",
       "      <td>6699</td>\n",
       "      <td>8156</td>\n",
       "      <td>5209</td>\n",
       "      <td>2673</td>\n",
       "    </tr>\n",
       "    <tr>\n",
       "      <th>B</th>\n",
       "      <td>2469</td>\n",
       "      <td>6215</td>\n",
       "      <td>15072</td>\n",
       "      <td>23270</td>\n",
       "      <td>12742</td>\n",
       "      <td>9403</td>\n",
       "      <td>8383</td>\n",
       "      <td>8991</td>\n",
       "      <td>9864</td>\n",
       "      <td>9510</td>\n",
       "      <td>9275</td>\n",
       "      <td>8482</td>\n",
       "      <td>9809</td>\n",
       "      <td>8881</td>\n",
       "      <td>4331</td>\n",
       "      <td>3006</td>\n",
       "      <td>2849</td>\n",
       "      <td>2119</td>\n",
       "      <td>901</td>\n",
       "    </tr>\n",
       "  </tbody>\n",
       "</table>\n",
       "</div>"
      ],
      "text/plain": [
       "    05_06  06_07  07_08  08_09  09_10  10_11  11_12  12_13  13_14  14_15  \\\n",
       "구분                                                                         \n",
       "A     509   1599   3619   9362   6361   5891   6486   6285   6990   7194   \n",
       "B    2469   6215  15072  23270  12742   9403   8383   8991   9864   9510   \n",
       "\n",
       "    15_16  16_17  17_18  18_19  19_20  20_21  21_22  22_23  23_24  \n",
       "구분                                                                 \n",
       "A    8939   9530  13849  18332   8882   6699   8156   5209   2673  \n",
       "B    9275   8482   9809   8881   4331   3006   2849   2119    901  "
      ]
     },
     "execution_count": 161,
     "metadata": {},
     "output_type": "execute_result"
    }
   ],
   "source": [
    "DF.loc['화정',:]"
   ]
  },
  {
   "cell_type": "code",
   "execution_count": 162,
   "id": "f159c61b-dcb0-4e08-97a2-315bd9cd1252",
   "metadata": {},
   "outputs": [
    {
     "data": {
      "text/plain": [
       "구분\n",
       "A    136565\n",
       "B    155572\n",
       "dtype: int64"
      ]
     },
     "execution_count": 162,
     "metadata": {},
     "output_type": "execute_result"
    }
   ],
   "source": [
    "DF.loc['화정',:].sum(axis=1)"
   ]
  },
  {
   "cell_type": "markdown",
   "id": "c0af69bd-1209-48bc-bb0f-8f37c7e0c3e4",
   "metadata": {},
   "source": [
    "계산식"
   ]
  },
  {
   "cell_type": "code",
   "execution_count": 66,
   "id": "3c47b360-31d1-4d37-96a6-08ba25e07a0d",
   "metadata": {},
   "outputs": [],
   "source": [
    "# 하차 A sum\n",
    "df_A = df_gj[df_gj['구분'] == 'A']\n",
    "df_A = df_A.set_index(['station_name','구분'])\n",
    "df_A['sum'] = df_A.sum(axis=1)"
   ]
  },
  {
   "cell_type": "code",
   "execution_count": 102,
   "id": "ad10b6ec-21ad-4024-a5cc-45ea9f93de58",
   "metadata": {
    "tags": []
   },
   "outputs": [],
   "source": [
    "df_A_sum = df_A.loc[:,:]\n",
    "df_A_sum = df_A_sum.reset_index()\n",
    "df_A_sum = df_A_sum[['station_name','구분','sum']]"
   ]
  },
  {
   "cell_type": "code",
   "execution_count": 68,
   "id": "b2f368d0-e7c3-4781-b00c-c2ec5af8911d",
   "metadata": {},
   "outputs": [],
   "source": [
    "# 승차 B sum\n",
    "df_B = df_gj[df_gj['구분'] == 'B']\n",
    "df_B = df_B.set_index(['station_name','구분'])\n",
    "df_B['sum'] = df_B.sum(axis=1)"
   ]
  },
  {
   "cell_type": "code",
   "execution_count": 95,
   "id": "c33798e3-f7c9-44d4-bd29-1f8408e6269e",
   "metadata": {},
   "outputs": [],
   "source": [
    "df_B_sum = df_B.loc[:,:]"
   ]
  },
  {
   "cell_type": "code",
   "execution_count": 98,
   "id": "a2bd0a5f-f38e-409e-9a1e-e5f7d21b093a",
   "metadata": {},
   "outputs": [],
   "source": [
    "df_B_sum = df_B_sum.reset_index()"
   ]
  },
  {
   "cell_type": "code",
   "execution_count": 101,
   "id": "016599b3-2746-4b4c-b92c-628212f7bff0",
   "metadata": {},
   "outputs": [],
   "source": [
    "df_B_sum = df_B_sum[['station_name','구분','sum']]"
   ]
  },
  {
   "cell_type": "code",
   "execution_count": 124,
   "id": "38b43d8c-a53a-4f59-9b93-f43549dfe5ea",
   "metadata": {},
   "outputs": [
    {
     "data": {
      "text/html": [
       "<div>\n",
       "<style scoped>\n",
       "    .dataframe tbody tr th:only-of-type {\n",
       "        vertical-align: middle;\n",
       "    }\n",
       "\n",
       "    .dataframe tbody tr th {\n",
       "        vertical-align: top;\n",
       "    }\n",
       "\n",
       "    .dataframe thead th {\n",
       "        text-align: right;\n",
       "    }\n",
       "</style>\n",
       "<table border=\"1\" class=\"dataframe\">\n",
       "  <thead>\n",
       "    <tr style=\"text-align: right;\">\n",
       "      <th></th>\n",
       "      <th>station_name</th>\n",
       "      <th>구분</th>\n",
       "      <th>sum</th>\n",
       "    </tr>\n",
       "  </thead>\n",
       "  <tbody>\n",
       "    <tr>\n",
       "      <th>0</th>\n",
       "      <td>녹동</td>\n",
       "      <td>B</td>\n",
       "      <td>84</td>\n",
       "    </tr>\n",
       "    <tr>\n",
       "      <th>20</th>\n",
       "      <td>녹동</td>\n",
       "      <td>B</td>\n",
       "      <td>52</td>\n",
       "    </tr>\n",
       "    <tr>\n",
       "      <th>40</th>\n",
       "      <td>녹동</td>\n",
       "      <td>B</td>\n",
       "      <td>182</td>\n",
       "    </tr>\n",
       "    <tr>\n",
       "      <th>60</th>\n",
       "      <td>녹동</td>\n",
       "      <td>B</td>\n",
       "      <td>178</td>\n",
       "    </tr>\n",
       "    <tr>\n",
       "      <th>80</th>\n",
       "      <td>녹동</td>\n",
       "      <td>B</td>\n",
       "      <td>138</td>\n",
       "    </tr>\n",
       "    <tr>\n",
       "      <th>...</th>\n",
       "      <td>...</td>\n",
       "      <td>...</td>\n",
       "      <td>...</td>\n",
       "    </tr>\n",
       "    <tr>\n",
       "      <th>2920</th>\n",
       "      <td>녹동</td>\n",
       "      <td>B</td>\n",
       "      <td>205</td>\n",
       "    </tr>\n",
       "    <tr>\n",
       "      <th>2940</th>\n",
       "      <td>녹동</td>\n",
       "      <td>B</td>\n",
       "      <td>116</td>\n",
       "    </tr>\n",
       "    <tr>\n",
       "      <th>2960</th>\n",
       "      <td>녹동</td>\n",
       "      <td>B</td>\n",
       "      <td>91</td>\n",
       "    </tr>\n",
       "    <tr>\n",
       "      <th>2980</th>\n",
       "      <td>녹동</td>\n",
       "      <td>B</td>\n",
       "      <td>197</td>\n",
       "    </tr>\n",
       "    <tr>\n",
       "      <th>3000</th>\n",
       "      <td>녹동</td>\n",
       "      <td>B</td>\n",
       "      <td>205</td>\n",
       "    </tr>\n",
       "  </tbody>\n",
       "</table>\n",
       "<p>90 rows × 3 columns</p>\n",
       "</div>"
      ],
      "text/plain": [
       "     station_name 구분  sum\n",
       "0              녹동  B   84\n",
       "20             녹동  B   52\n",
       "40             녹동  B  182\n",
       "60             녹동  B  178\n",
       "80             녹동  B  138\n",
       "...           ... ..  ...\n",
       "2920           녹동  B  205\n",
       "2940           녹동  B  116\n",
       "2960           녹동  B   91\n",
       "2980           녹동  B  197\n",
       "3000           녹동  B  205\n",
       "\n",
       "[90 rows x 3 columns]"
      ]
     },
     "execution_count": 124,
     "metadata": {},
     "output_type": "execute_result"
    }
   ],
   "source": [
    "df_B_sum[df_B_sum['station_name']=='녹동']"
   ]
  },
  {
   "cell_type": "code",
   "execution_count": null,
   "id": "1fec3842-e6e5-4937-a672-bff140fcbcbd",
   "metadata": {},
   "outputs": [],
   "source": [
    "df_1 = pd.read_csv('./1. 대구도시철도공사_역별일별시간별승하차인원현황_20220531(작업중).csv', encoding='cp949')"
   ]
  },
  {
   "cell_type": "code",
   "execution_count": null,
   "id": "1111a406-b8c9-4375-abd1-21bed19da1c7",
   "metadata": {},
   "outputs": [],
   "source": [
    "df_1 = df_1[['월','일']]"
   ]
  },
  {
   "cell_type": "code",
   "execution_count": 241,
   "id": "734e169b-f15f-49fa-8b76-64f0c8e93b36",
   "metadata": {},
   "outputs": [
    {
     "name": "stderr",
     "output_type": "stream",
     "text": [
      "C:\\Users\\USER\\AppData\\Local\\Temp\\ipykernel_4532\\572136169.py:1: SettingWithCopyWarning: \n",
      "A value is trying to be set on a copy of a slice from a DataFrame.\n",
      "Try using .loc[row_indexer,col_indexer] = value instead\n",
      "\n",
      "See the caveats in the documentation: https://pandas.pydata.org/pandas-docs/stable/user_guide/indexing.html#returning-a-view-versus-a-copy\n",
      "  df_1[['월','일']] = '0' + df_1[['월','일']].astype(str)\n"
     ]
    }
   ],
   "source": [
    "df_1[['월','일']] = '0' + df_1[['월','일']].astype(str)"
   ]
  },
  {
   "cell_type": "code",
   "execution_count": 246,
   "id": "82808594-54a9-4c5e-aaf0-e2bfa43b2239",
   "metadata": {},
   "outputs": [
    {
     "name": "stderr",
     "output_type": "stream",
     "text": [
      "C:\\Users\\USER\\AppData\\Local\\Temp\\ipykernel_4532\\3253469041.py:1: SettingWithCopyWarning: \n",
      "A value is trying to be set on a copy of a slice from a DataFrame\n",
      "\n",
      "See the caveats in the documentation: https://pandas.pydata.org/pandas-docs/stable/user_guide/indexing.html#returning-a-view-versus-a-copy\n",
      "  df_1.__getitem__('월').__setitem__('일', '0')\n"
     ]
    }
   ],
   "source": [
    "df_1.__getitem__('월').__setitem__('일', '0')"
   ]
  },
  {
   "cell_type": "code",
   "execution_count": 251,
   "id": "b985dcf4-fc07-478a-a6b4-aa5390bbc8b1",
   "metadata": {},
   "outputs": [
    {
     "data": {
      "text/plain": [
       "\u001b[1;31mSignature:\u001b[0m \u001b[0mdf_1\u001b[0m\u001b[1;33m.\u001b[0m\u001b[0m__getitem__\u001b[0m\u001b[1;33m(\u001b[0m\u001b[0mkey\u001b[0m\u001b[1;33m)\u001b[0m\u001b[1;33m\u001b[0m\u001b[1;33m\u001b[0m\u001b[0m\n",
       "\u001b[1;31mDocstring:\u001b[0m <no docstring>\n",
       "\u001b[1;31mFile:\u001b[0m      c:\\users\\user\\anaconda3\\envs\\oasis\\lib\\site-packages\\pandas\\core\\frame.py\n",
       "\u001b[1;31mType:\u001b[0m      method\n"
      ]
     },
     "metadata": {},
     "output_type": "display_data"
    }
   ],
   "source": [
    "df_1.__getitem__?"
   ]
  },
  {
   "cell_type": "code",
   "execution_count": 247,
   "id": "447b8677-7fcb-4d0f-86aa-fba643dea46d",
   "metadata": {},
   "outputs": [
    {
     "name": "stderr",
     "output_type": "stream",
     "text": [
      "C:\\Users\\USER\\AppData\\Local\\Temp\\ipykernel_4532\\3085084109.py:1: SettingWithCopyWarning: \n",
      "A value is trying to be set on a copy of a slice from a DataFrame.\n",
      "Try using .loc[row_indexer,col_indexer] = value instead\n",
      "\n",
      "See the caveats in the documentation: https://pandas.pydata.org/pandas-docs/stable/user_guide/indexing.html#returning-a-view-versus-a-copy\n",
      "  df_1.loc.__setitem__((slice(None), ('월', '일')), '0')\n"
     ]
    }
   ],
   "source": [
    "df_1.loc.__setitem__((slice(None), ('월', '일')), '0')"
   ]
  },
  {
   "cell_type": "markdown",
   "id": "012a2988-4956-4289-a886-4c47335f1283",
   "metadata": {
    "tags": []
   },
   "source": [
    "### 법정동"
   ]
  },
  {
   "cell_type": "markdown",
   "id": "d011645a-b567-407f-89e4-7aba08c72a3e",
   "metadata": {},
   "source": [
    "데이터 불러오기"
   ]
  },
  {
   "cell_type": "code",
   "execution_count": 516,
   "id": "d52f4ff0-3403-4da0-9f71-69323aab1f4f",
   "metadata": {},
   "outputs": [],
   "source": [
    "df = pd.read_excel('./0. 부산지하철_좌표(작업중).xlsx')"
   ]
  },
  {
   "cell_type": "code",
   "execution_count": 488,
   "id": "231cdde9-95e2-4447-914b-6cb346edc6d7",
   "metadata": {},
   "outputs": [],
   "source": [
    "code = pd.read_csv('./data/법정동코드.csv')"
   ]
  },
  {
   "cell_type": "markdown",
   "id": "8c1028b3-070c-432e-a585-fdcc3be77fdf",
   "metadata": {},
   "source": [
    "법정동"
   ]
  },
  {
   "cell_type": "code",
   "execution_count": 517,
   "id": "81537e33-5a00-4c73-a6c0-65b12697c4fa",
   "metadata": {},
   "outputs": [
    {
     "data": {
      "text/html": [
       "<div>\n",
       "<style scoped>\n",
       "    .dataframe tbody tr th:only-of-type {\n",
       "        vertical-align: middle;\n",
       "    }\n",
       "\n",
       "    .dataframe tbody tr th {\n",
       "        vertical-align: top;\n",
       "    }\n",
       "\n",
       "    .dataframe thead th {\n",
       "        text-align: right;\n",
       "    }\n",
       "</style>\n",
       "<table border=\"1\" class=\"dataframe\">\n",
       "  <thead>\n",
       "    <tr style=\"text-align: right;\">\n",
       "      <th></th>\n",
       "      <th>line_name</th>\n",
       "      <th>station_name</th>\n",
       "      <th>emd</th>\n",
       "      <th>latitude</th>\n",
       "      <th>longitude</th>\n",
       "    </tr>\n",
       "  </thead>\n",
       "  <tbody>\n",
       "    <tr>\n",
       "      <th>0</th>\n",
       "      <td>1호선</td>\n",
       "      <td>다대포해수욕장</td>\n",
       "      <td>부산광역시 사하구 다대동 1552-2</td>\n",
       "      <td>35.048254</td>\n",
       "      <td>128.965792</td>\n",
       "    </tr>\n",
       "    <tr>\n",
       "      <th>1</th>\n",
       "      <td>1호선</td>\n",
       "      <td>다대포항</td>\n",
       "      <td>부산광역시 사하구 다대동 902</td>\n",
       "      <td>35.057667</td>\n",
       "      <td>128.971268</td>\n",
       "    </tr>\n",
       "    <tr>\n",
       "      <th>2</th>\n",
       "      <td>1호선</td>\n",
       "      <td>낫개</td>\n",
       "      <td>부산광역시 사하구 다대동 63-13</td>\n",
       "      <td>35.055636</td>\n",
       "      <td>128.967499</td>\n",
       "    </tr>\n",
       "    <tr>\n",
       "      <th>3</th>\n",
       "      <td>1호선</td>\n",
       "      <td>신장림</td>\n",
       "      <td>부산광역시 사하구 장림동 380</td>\n",
       "      <td>35.074363</td>\n",
       "      <td>128.977040</td>\n",
       "    </tr>\n",
       "    <tr>\n",
       "      <th>4</th>\n",
       "      <td>1호선</td>\n",
       "      <td>장림</td>\n",
       "      <td>부산광역시 사하구 장림동 185-9</td>\n",
       "      <td>35.081578</td>\n",
       "      <td>128.977733</td>\n",
       "    </tr>\n",
       "    <tr>\n",
       "      <th>...</th>\n",
       "      <td>...</td>\n",
       "      <td>...</td>\n",
       "      <td>...</td>\n",
       "      <td>...</td>\n",
       "      <td>...</td>\n",
       "    </tr>\n",
       "    <tr>\n",
       "      <th>107</th>\n",
       "      <td>4호선</td>\n",
       "      <td>석대</td>\n",
       "      <td>부산광역시 해운대구 석대동 574-14</td>\n",
       "      <td>35.218123</td>\n",
       "      <td>129.136919</td>\n",
       "    </tr>\n",
       "    <tr>\n",
       "      <th>108</th>\n",
       "      <td>4호선</td>\n",
       "      <td>영산대</td>\n",
       "      <td>부산광역시 해운대구 반송동 698-12</td>\n",
       "      <td>35.225749</td>\n",
       "      <td>129.146240</td>\n",
       "    </tr>\n",
       "    <tr>\n",
       "      <th>109</th>\n",
       "      <td>4호선</td>\n",
       "      <td>윗반송</td>\n",
       "      <td>부산광역시 해운대구 반송동 385-56</td>\n",
       "      <td>35.232459</td>\n",
       "      <td>129.153831</td>\n",
       "    </tr>\n",
       "    <tr>\n",
       "      <th>110</th>\n",
       "      <td>4호선</td>\n",
       "      <td>고촌</td>\n",
       "      <td>부산광역시 기장군 철마면 고촌리 518-2</td>\n",
       "      <td>35.236034</td>\n",
       "      <td>129.160516</td>\n",
       "    </tr>\n",
       "    <tr>\n",
       "      <th>111</th>\n",
       "      <td>4호선</td>\n",
       "      <td>안평</td>\n",
       "      <td>부산광역시 기장군 철마면 안평리 543-23</td>\n",
       "      <td>35.237552</td>\n",
       "      <td>129.172106</td>\n",
       "    </tr>\n",
       "  </tbody>\n",
       "</table>\n",
       "<p>112 rows × 5 columns</p>\n",
       "</div>"
      ],
      "text/plain": [
       "    line_name station_name                       emd   latitude   longitude\n",
       "0         1호선      다대포해수욕장      부산광역시 사하구 다대동 1552-2  35.048254  128.965792\n",
       "1         1호선         다대포항         부산광역시 사하구 다대동 902  35.057667  128.971268\n",
       "2         1호선           낫개       부산광역시 사하구 다대동 63-13  35.055636  128.967499\n",
       "3         1호선          신장림         부산광역시 사하구 장림동 380  35.074363  128.977040\n",
       "4         1호선           장림       부산광역시 사하구 장림동 185-9  35.081578  128.977733\n",
       "..        ...          ...                       ...        ...         ...\n",
       "107       4호선           석대     부산광역시 해운대구 석대동 574-14  35.218123  129.136919\n",
       "108       4호선          영산대     부산광역시 해운대구 반송동 698-12  35.225749  129.146240\n",
       "109       4호선          윗반송     부산광역시 해운대구 반송동 385-56  35.232459  129.153831\n",
       "110       4호선           고촌   부산광역시 기장군 철마면 고촌리 518-2  35.236034  129.160516\n",
       "111       4호선           안평  부산광역시 기장군 철마면 안평리 543-23  35.237552  129.172106\n",
       "\n",
       "[112 rows x 5 columns]"
      ]
     },
     "execution_count": 517,
     "metadata": {},
     "output_type": "execute_result"
    }
   ],
   "source": [
    "df"
   ]
  },
  {
   "cell_type": "code",
   "execution_count": 518,
   "id": "2353d836-95e8-4fac-a397-9cdf5408d45c",
   "metadata": {},
   "outputs": [],
   "source": [
    "# 법정동 형식으로 값 변경\n",
    "df['emd'] = df['emd'].str.split(' ').str[0] + ' ' + df['emd'].str.split(' ').str[1] + ' ' + df['emd'].str.split(' ').str[2]"
   ]
  },
  {
   "cell_type": "code",
   "execution_count": 519,
   "id": "406f6da7-336b-44d6-90d7-7cad16bed1d3",
   "metadata": {},
   "outputs": [],
   "source": [
    "df['emd_cd'] = 0"
   ]
  },
  {
   "cell_type": "code",
   "execution_count": 520,
   "id": "a9f0fa8e-af1d-4fc3-b4cc-e1d874e68c20",
   "metadata": {},
   "outputs": [
    {
     "name": "stderr",
     "output_type": "stream",
     "text": [
      "C:\\Users\\USER\\AppData\\Local\\Temp\\ipykernel_13868\\1504947290.py:9: SettingWithCopyWarning: \n",
      "A value is trying to be set on a copy of a slice from a DataFrame\n",
      "\n",
      "See the caveats in the documentation: https://pandas.pydata.org/pandas-docs/stable/user_guide/indexing.html#returning-a-view-versus-a-copy\n",
      "  df['emd_cd'][i] = code['법정동코드'][index]\n"
     ]
    }
   ],
   "source": [
    "# 일치하는 주소의 법정동 코드 입력\n",
    "for j in range(len(df['emd'])):\n",
    "    name_ = df['emd'][j]\n",
    "\n",
    "    index = code[code['법정동명'] == name_].index\n",
    "    index_list = df[df['emd'].str.contains(name_)].index\n",
    "\n",
    "    for i in index_list:\n",
    "        df['emd_cd'][i] = code['법정동코드'][index]\n"
   ]
  },
  {
   "cell_type": "code",
   "execution_count": 521,
   "id": "31519803-dbf7-414b-b42b-b1723f09a9b9",
   "metadata": {
    "tags": []
   },
   "outputs": [
    {
     "data": {
      "text/html": [
       "<div>\n",
       "<style scoped>\n",
       "    .dataframe tbody tr th:only-of-type {\n",
       "        vertical-align: middle;\n",
       "    }\n",
       "\n",
       "    .dataframe tbody tr th {\n",
       "        vertical-align: top;\n",
       "    }\n",
       "\n",
       "    .dataframe thead th {\n",
       "        text-align: right;\n",
       "    }\n",
       "</style>\n",
       "<table border=\"1\" class=\"dataframe\">\n",
       "  <thead>\n",
       "    <tr style=\"text-align: right;\">\n",
       "      <th></th>\n",
       "      <th>line_name</th>\n",
       "      <th>station_name</th>\n",
       "      <th>emd</th>\n",
       "      <th>latitude</th>\n",
       "      <th>longitude</th>\n",
       "      <th>emd_cd</th>\n",
       "    </tr>\n",
       "  </thead>\n",
       "  <tbody>\n",
       "    <tr>\n",
       "      <th>0</th>\n",
       "      <td>1호선</td>\n",
       "      <td>다대포해수욕장</td>\n",
       "      <td>부산광역시 사하구 다대동</td>\n",
       "      <td>35.048254</td>\n",
       "      <td>128.965792</td>\n",
       "      <td>2638010600</td>\n",
       "    </tr>\n",
       "    <tr>\n",
       "      <th>1</th>\n",
       "      <td>1호선</td>\n",
       "      <td>다대포항</td>\n",
       "      <td>부산광역시 사하구 다대동</td>\n",
       "      <td>35.057667</td>\n",
       "      <td>128.971268</td>\n",
       "      <td>2638010600</td>\n",
       "    </tr>\n",
       "    <tr>\n",
       "      <th>2</th>\n",
       "      <td>1호선</td>\n",
       "      <td>낫개</td>\n",
       "      <td>부산광역시 사하구 다대동</td>\n",
       "      <td>35.055636</td>\n",
       "      <td>128.967499</td>\n",
       "      <td>2638010600</td>\n",
       "    </tr>\n",
       "    <tr>\n",
       "      <th>3</th>\n",
       "      <td>1호선</td>\n",
       "      <td>신장림</td>\n",
       "      <td>부산광역시 사하구 장림동</td>\n",
       "      <td>35.074363</td>\n",
       "      <td>128.977040</td>\n",
       "      <td>2638010500</td>\n",
       "    </tr>\n",
       "    <tr>\n",
       "      <th>4</th>\n",
       "      <td>1호선</td>\n",
       "      <td>장림</td>\n",
       "      <td>부산광역시 사하구 장림동</td>\n",
       "      <td>35.081578</td>\n",
       "      <td>128.977733</td>\n",
       "      <td>2638010500</td>\n",
       "    </tr>\n",
       "    <tr>\n",
       "      <th>...</th>\n",
       "      <td>...</td>\n",
       "      <td>...</td>\n",
       "      <td>...</td>\n",
       "      <td>...</td>\n",
       "      <td>...</td>\n",
       "      <td>...</td>\n",
       "    </tr>\n",
       "    <tr>\n",
       "      <th>107</th>\n",
       "      <td>4호선</td>\n",
       "      <td>석대</td>\n",
       "      <td>부산광역시 해운대구 석대동</td>\n",
       "      <td>35.218123</td>\n",
       "      <td>129.136919</td>\n",
       "      <td>2635010200</td>\n",
       "    </tr>\n",
       "    <tr>\n",
       "      <th>108</th>\n",
       "      <td>4호선</td>\n",
       "      <td>영산대</td>\n",
       "      <td>부산광역시 해운대구 반송동</td>\n",
       "      <td>35.225749</td>\n",
       "      <td>129.146240</td>\n",
       "      <td>2635010100</td>\n",
       "    </tr>\n",
       "    <tr>\n",
       "      <th>109</th>\n",
       "      <td>4호선</td>\n",
       "      <td>윗반송</td>\n",
       "      <td>부산광역시 해운대구 반송동</td>\n",
       "      <td>35.232459</td>\n",
       "      <td>129.153831</td>\n",
       "      <td>2635010100</td>\n",
       "    </tr>\n",
       "    <tr>\n",
       "      <th>110</th>\n",
       "      <td>4호선</td>\n",
       "      <td>고촌</td>\n",
       "      <td>부산광역시 기장군 철마면</td>\n",
       "      <td>35.236034</td>\n",
       "      <td>129.160516</td>\n",
       "      <td>2671033000</td>\n",
       "    </tr>\n",
       "    <tr>\n",
       "      <th>111</th>\n",
       "      <td>4호선</td>\n",
       "      <td>안평</td>\n",
       "      <td>부산광역시 기장군 철마면</td>\n",
       "      <td>35.237552</td>\n",
       "      <td>129.172106</td>\n",
       "      <td>2671033000</td>\n",
       "    </tr>\n",
       "  </tbody>\n",
       "</table>\n",
       "<p>112 rows × 6 columns</p>\n",
       "</div>"
      ],
      "text/plain": [
       "    line_name station_name             emd   latitude   longitude      emd_cd\n",
       "0         1호선      다대포해수욕장   부산광역시 사하구 다대동  35.048254  128.965792  2638010600\n",
       "1         1호선         다대포항   부산광역시 사하구 다대동  35.057667  128.971268  2638010600\n",
       "2         1호선           낫개   부산광역시 사하구 다대동  35.055636  128.967499  2638010600\n",
       "3         1호선          신장림   부산광역시 사하구 장림동  35.074363  128.977040  2638010500\n",
       "4         1호선           장림   부산광역시 사하구 장림동  35.081578  128.977733  2638010500\n",
       "..        ...          ...             ...        ...         ...         ...\n",
       "107       4호선           석대  부산광역시 해운대구 석대동  35.218123  129.136919  2635010200\n",
       "108       4호선          영산대  부산광역시 해운대구 반송동  35.225749  129.146240  2635010100\n",
       "109       4호선          윗반송  부산광역시 해운대구 반송동  35.232459  129.153831  2635010100\n",
       "110       4호선           고촌   부산광역시 기장군 철마면  35.236034  129.160516  2671033000\n",
       "111       4호선           안평   부산광역시 기장군 철마면  35.237552  129.172106  2671033000\n",
       "\n",
       "[112 rows x 6 columns]"
      ]
     },
     "execution_count": 521,
     "metadata": {},
     "output_type": "execute_result"
    }
   ],
   "source": [
    "df"
   ]
  },
  {
   "cell_type": "markdown",
   "id": "18058a1a-4db6-48a6-ab9d-6beba3199477",
   "metadata": {},
   "source": [
    "저장"
   ]
  },
  {
   "cell_type": "code",
   "execution_count": 522,
   "id": "eeac0f27-b3c3-4f7c-83f5-393b773f08df",
   "metadata": {},
   "outputs": [],
   "source": [
    "df.to_excel('./3. 부산.xlsx', index=False)"
   ]
  },
  {
   "cell_type": "markdown",
   "id": "08d69254-b8df-43bf-bf0b-bda932443351",
   "metadata": {
    "tags": []
   },
   "source": [
    "### 지역별 병합, 포맷 맞추기"
   ]
  },
  {
   "cell_type": "code",
   "execution_count": 103,
   "id": "27ba35d4-bdf9-446a-bf49-577726c0dd02",
   "metadata": {},
   "outputs": [],
   "source": [
    "# 데이터 가져오기\n",
    "df2 = pd.read_excel('./2. 부산.xlsx')\n",
    "df3 = pd.read_excel('./3. 부산.xlsx')"
   ]
  },
  {
   "cell_type": "code",
   "execution_count": 104,
   "id": "fd238322-6b61-4329-8a91-59b5923230f7",
   "metadata": {},
   "outputs": [],
   "source": [
    "# 역이름 공백제거\n",
    "df2['station_name'] = df2['station_name'].str.strip()\n",
    "df3['station_name'] = df3['station_name'].str.strip()"
   ]
  },
  {
   "cell_type": "code",
   "execution_count": 105,
   "id": "222cdcb1-7e22-463f-b6d0-ff5dd5206095",
   "metadata": {},
   "outputs": [],
   "source": [
    "# 임시 병합 -> 이름 수정용\n",
    "DF_ = pd.merge(df2, df3, on='station_name', how='outer')"
   ]
  },
  {
   "cell_type": "code",
   "execution_count": 122,
   "id": "0346ba10-cda6-458b-8e6b-bba59c3d8fd9",
   "metadata": {
    "collapsed": true,
    "jupyter": {
     "outputs_hidden": true
    },
    "tags": []
   },
   "outputs": [
    {
     "name": "stderr",
     "output_type": "stream",
     "text": [
      "C:\\Users\\USER\\AppData\\Local\\Temp\\ipykernel_4532\\2978067060.py:5: SettingWithCopyWarning: \n",
      "A value is trying to be set on a copy of a slice from a DataFrame\n",
      "\n",
      "See the caveats in the documentation: https://pandas.pydata.org/pandas-docs/stable/user_guide/indexing.html#returning-a-view-versus-a-copy\n",
      "  df3['station_name'][station_idx] = df3['station_name'][station_idx].str[0] + '  ' + df3['station_name'][station_idx].str[-1]\n",
      "C:\\Users\\USER\\AppData\\Local\\Temp\\ipykernel_4532\\2978067060.py:5: SettingWithCopyWarning: \n",
      "A value is trying to be set on a copy of a slice from a DataFrame\n",
      "\n",
      "See the caveats in the documentation: https://pandas.pydata.org/pandas-docs/stable/user_guide/indexing.html#returning-a-view-versus-a-copy\n",
      "  df3['station_name'][station_idx] = df3['station_name'][station_idx].str[0] + '  ' + df3['station_name'][station_idx].str[-1]\n",
      "C:\\Users\\USER\\AppData\\Local\\Temp\\ipykernel_4532\\2978067060.py:5: SettingWithCopyWarning: \n",
      "A value is trying to be set on a copy of a slice from a DataFrame\n",
      "\n",
      "See the caveats in the documentation: https://pandas.pydata.org/pandas-docs/stable/user_guide/indexing.html#returning-a-view-versus-a-copy\n",
      "  df3['station_name'][station_idx] = df3['station_name'][station_idx].str[0] + '  ' + df3['station_name'][station_idx].str[-1]\n",
      "C:\\Users\\USER\\AppData\\Local\\Temp\\ipykernel_4532\\2978067060.py:5: SettingWithCopyWarning: \n",
      "A value is trying to be set on a copy of a slice from a DataFrame\n",
      "\n",
      "See the caveats in the documentation: https://pandas.pydata.org/pandas-docs/stable/user_guide/indexing.html#returning-a-view-versus-a-copy\n",
      "  df3['station_name'][station_idx] = df3['station_name'][station_idx].str[0] + '  ' + df3['station_name'][station_idx].str[-1]\n",
      "C:\\Users\\USER\\AppData\\Local\\Temp\\ipykernel_4532\\2978067060.py:5: SettingWithCopyWarning: \n",
      "A value is trying to be set on a copy of a slice from a DataFrame\n",
      "\n",
      "See the caveats in the documentation: https://pandas.pydata.org/pandas-docs/stable/user_guide/indexing.html#returning-a-view-versus-a-copy\n",
      "  df3['station_name'][station_idx] = df3['station_name'][station_idx].str[0] + '  ' + df3['station_name'][station_idx].str[-1]\n",
      "C:\\Users\\USER\\AppData\\Local\\Temp\\ipykernel_4532\\2978067060.py:5: SettingWithCopyWarning: \n",
      "A value is trying to be set on a copy of a slice from a DataFrame\n",
      "\n",
      "See the caveats in the documentation: https://pandas.pydata.org/pandas-docs/stable/user_guide/indexing.html#returning-a-view-versus-a-copy\n",
      "  df3['station_name'][station_idx] = df3['station_name'][station_idx].str[0] + '  ' + df3['station_name'][station_idx].str[-1]\n",
      "C:\\Users\\USER\\AppData\\Local\\Temp\\ipykernel_4532\\2978067060.py:5: SettingWithCopyWarning: \n",
      "A value is trying to be set on a copy of a slice from a DataFrame\n",
      "\n",
      "See the caveats in the documentation: https://pandas.pydata.org/pandas-docs/stable/user_guide/indexing.html#returning-a-view-versus-a-copy\n",
      "  df3['station_name'][station_idx] = df3['station_name'][station_idx].str[0] + '  ' + df3['station_name'][station_idx].str[-1]\n",
      "C:\\Users\\USER\\AppData\\Local\\Temp\\ipykernel_4532\\2978067060.py:5: SettingWithCopyWarning: \n",
      "A value is trying to be set on a copy of a slice from a DataFrame\n",
      "\n",
      "See the caveats in the documentation: https://pandas.pydata.org/pandas-docs/stable/user_guide/indexing.html#returning-a-view-versus-a-copy\n",
      "  df3['station_name'][station_idx] = df3['station_name'][station_idx].str[0] + '  ' + df3['station_name'][station_idx].str[-1]\n",
      "C:\\Users\\USER\\AppData\\Local\\Temp\\ipykernel_4532\\2978067060.py:5: SettingWithCopyWarning: \n",
      "A value is trying to be set on a copy of a slice from a DataFrame\n",
      "\n",
      "See the caveats in the documentation: https://pandas.pydata.org/pandas-docs/stable/user_guide/indexing.html#returning-a-view-versus-a-copy\n",
      "  df3['station_name'][station_idx] = df3['station_name'][station_idx].str[0] + '  ' + df3['station_name'][station_idx].str[-1]\n",
      "C:\\Users\\USER\\AppData\\Local\\Temp\\ipykernel_4532\\2978067060.py:5: SettingWithCopyWarning: \n",
      "A value is trying to be set on a copy of a slice from a DataFrame\n",
      "\n",
      "See the caveats in the documentation: https://pandas.pydata.org/pandas-docs/stable/user_guide/indexing.html#returning-a-view-versus-a-copy\n",
      "  df3['station_name'][station_idx] = df3['station_name'][station_idx].str[0] + '  ' + df3['station_name'][station_idx].str[-1]\n",
      "C:\\Users\\USER\\AppData\\Local\\Temp\\ipykernel_4532\\2978067060.py:5: SettingWithCopyWarning: \n",
      "A value is trying to be set on a copy of a slice from a DataFrame\n",
      "\n",
      "See the caveats in the documentation: https://pandas.pydata.org/pandas-docs/stable/user_guide/indexing.html#returning-a-view-versus-a-copy\n",
      "  df3['station_name'][station_idx] = df3['station_name'][station_idx].str[0] + '  ' + df3['station_name'][station_idx].str[-1]\n",
      "C:\\Users\\USER\\AppData\\Local\\Temp\\ipykernel_4532\\2978067060.py:5: SettingWithCopyWarning: \n",
      "A value is trying to be set on a copy of a slice from a DataFrame\n",
      "\n",
      "See the caveats in the documentation: https://pandas.pydata.org/pandas-docs/stable/user_guide/indexing.html#returning-a-view-versus-a-copy\n",
      "  df3['station_name'][station_idx] = df3['station_name'][station_idx].str[0] + '  ' + df3['station_name'][station_idx].str[-1]\n",
      "C:\\Users\\USER\\AppData\\Local\\Temp\\ipykernel_4532\\2978067060.py:5: SettingWithCopyWarning: \n",
      "A value is trying to be set on a copy of a slice from a DataFrame\n",
      "\n",
      "See the caveats in the documentation: https://pandas.pydata.org/pandas-docs/stable/user_guide/indexing.html#returning-a-view-versus-a-copy\n",
      "  df3['station_name'][station_idx] = df3['station_name'][station_idx].str[0] + '  ' + df3['station_name'][station_idx].str[-1]\n",
      "C:\\Users\\USER\\AppData\\Local\\Temp\\ipykernel_4532\\2978067060.py:5: SettingWithCopyWarning: \n",
      "A value is trying to be set on a copy of a slice from a DataFrame\n",
      "\n",
      "See the caveats in the documentation: https://pandas.pydata.org/pandas-docs/stable/user_guide/indexing.html#returning-a-view-versus-a-copy\n",
      "  df3['station_name'][station_idx] = df3['station_name'][station_idx].str[0] + '  ' + df3['station_name'][station_idx].str[-1]\n",
      "C:\\Users\\USER\\AppData\\Local\\Temp\\ipykernel_4532\\2978067060.py:5: SettingWithCopyWarning: \n",
      "A value is trying to be set on a copy of a slice from a DataFrame\n",
      "\n",
      "See the caveats in the documentation: https://pandas.pydata.org/pandas-docs/stable/user_guide/indexing.html#returning-a-view-versus-a-copy\n",
      "  df3['station_name'][station_idx] = df3['station_name'][station_idx].str[0] + '  ' + df3['station_name'][station_idx].str[-1]\n",
      "C:\\Users\\USER\\AppData\\Local\\Temp\\ipykernel_4532\\2978067060.py:5: SettingWithCopyWarning: \n",
      "A value is trying to be set on a copy of a slice from a DataFrame\n",
      "\n",
      "See the caveats in the documentation: https://pandas.pydata.org/pandas-docs/stable/user_guide/indexing.html#returning-a-view-versus-a-copy\n",
      "  df3['station_name'][station_idx] = df3['station_name'][station_idx].str[0] + '  ' + df3['station_name'][station_idx].str[-1]\n",
      "C:\\Users\\USER\\AppData\\Local\\Temp\\ipykernel_4532\\2978067060.py:5: SettingWithCopyWarning: \n",
      "A value is trying to be set on a copy of a slice from a DataFrame\n",
      "\n",
      "See the caveats in the documentation: https://pandas.pydata.org/pandas-docs/stable/user_guide/indexing.html#returning-a-view-versus-a-copy\n",
      "  df3['station_name'][station_idx] = df3['station_name'][station_idx].str[0] + '  ' + df3['station_name'][station_idx].str[-1]\n",
      "C:\\Users\\USER\\AppData\\Local\\Temp\\ipykernel_4532\\2978067060.py:5: SettingWithCopyWarning: \n",
      "A value is trying to be set on a copy of a slice from a DataFrame\n",
      "\n",
      "See the caveats in the documentation: https://pandas.pydata.org/pandas-docs/stable/user_guide/indexing.html#returning-a-view-versus-a-copy\n",
      "  df3['station_name'][station_idx] = df3['station_name'][station_idx].str[0] + '  ' + df3['station_name'][station_idx].str[-1]\n",
      "C:\\Users\\USER\\AppData\\Local\\Temp\\ipykernel_4532\\2978067060.py:5: SettingWithCopyWarning: \n",
      "A value is trying to be set on a copy of a slice from a DataFrame\n",
      "\n",
      "See the caveats in the documentation: https://pandas.pydata.org/pandas-docs/stable/user_guide/indexing.html#returning-a-view-versus-a-copy\n",
      "  df3['station_name'][station_idx] = df3['station_name'][station_idx].str[0] + '  ' + df3['station_name'][station_idx].str[-1]\n",
      "C:\\Users\\USER\\AppData\\Local\\Temp\\ipykernel_4532\\2978067060.py:5: SettingWithCopyWarning: \n",
      "A value is trying to be set on a copy of a slice from a DataFrame\n",
      "\n",
      "See the caveats in the documentation: https://pandas.pydata.org/pandas-docs/stable/user_guide/indexing.html#returning-a-view-versus-a-copy\n",
      "  df3['station_name'][station_idx] = df3['station_name'][station_idx].str[0] + '  ' + df3['station_name'][station_idx].str[-1]\n",
      "C:\\Users\\USER\\AppData\\Local\\Temp\\ipykernel_4532\\2978067060.py:5: SettingWithCopyWarning: \n",
      "A value is trying to be set on a copy of a slice from a DataFrame\n",
      "\n",
      "See the caveats in the documentation: https://pandas.pydata.org/pandas-docs/stable/user_guide/indexing.html#returning-a-view-versus-a-copy\n",
      "  df3['station_name'][station_idx] = df3['station_name'][station_idx].str[0] + '  ' + df3['station_name'][station_idx].str[-1]\n",
      "C:\\Users\\USER\\AppData\\Local\\Temp\\ipykernel_4532\\2978067060.py:5: SettingWithCopyWarning: \n",
      "A value is trying to be set on a copy of a slice from a DataFrame\n",
      "\n",
      "See the caveats in the documentation: https://pandas.pydata.org/pandas-docs/stable/user_guide/indexing.html#returning-a-view-versus-a-copy\n",
      "  df3['station_name'][station_idx] = df3['station_name'][station_idx].str[0] + '  ' + df3['station_name'][station_idx].str[-1]\n",
      "C:\\Users\\USER\\AppData\\Local\\Temp\\ipykernel_4532\\2978067060.py:5: SettingWithCopyWarning: \n",
      "A value is trying to be set on a copy of a slice from a DataFrame\n",
      "\n",
      "See the caveats in the documentation: https://pandas.pydata.org/pandas-docs/stable/user_guide/indexing.html#returning-a-view-versus-a-copy\n",
      "  df3['station_name'][station_idx] = df3['station_name'][station_idx].str[0] + '  ' + df3['station_name'][station_idx].str[-1]\n",
      "C:\\Users\\USER\\AppData\\Local\\Temp\\ipykernel_4532\\2978067060.py:5: SettingWithCopyWarning: \n",
      "A value is trying to be set on a copy of a slice from a DataFrame\n",
      "\n",
      "See the caveats in the documentation: https://pandas.pydata.org/pandas-docs/stable/user_guide/indexing.html#returning-a-view-versus-a-copy\n",
      "  df3['station_name'][station_idx] = df3['station_name'][station_idx].str[0] + '  ' + df3['station_name'][station_idx].str[-1]\n",
      "C:\\Users\\USER\\AppData\\Local\\Temp\\ipykernel_4532\\2978067060.py:5: SettingWithCopyWarning: \n",
      "A value is trying to be set on a copy of a slice from a DataFrame\n",
      "\n",
      "See the caveats in the documentation: https://pandas.pydata.org/pandas-docs/stable/user_guide/indexing.html#returning-a-view-versus-a-copy\n",
      "  df3['station_name'][station_idx] = df3['station_name'][station_idx].str[0] + '  ' + df3['station_name'][station_idx].str[-1]\n",
      "C:\\Users\\USER\\AppData\\Local\\Temp\\ipykernel_4532\\2978067060.py:5: SettingWithCopyWarning: \n",
      "A value is trying to be set on a copy of a slice from a DataFrame\n",
      "\n",
      "See the caveats in the documentation: https://pandas.pydata.org/pandas-docs/stable/user_guide/indexing.html#returning-a-view-versus-a-copy\n",
      "  df3['station_name'][station_idx] = df3['station_name'][station_idx].str[0] + '  ' + df3['station_name'][station_idx].str[-1]\n",
      "C:\\Users\\USER\\AppData\\Local\\Temp\\ipykernel_4532\\2978067060.py:5: SettingWithCopyWarning: \n",
      "A value is trying to be set on a copy of a slice from a DataFrame\n",
      "\n",
      "See the caveats in the documentation: https://pandas.pydata.org/pandas-docs/stable/user_guide/indexing.html#returning-a-view-versus-a-copy\n",
      "  df3['station_name'][station_idx] = df3['station_name'][station_idx].str[0] + '  ' + df3['station_name'][station_idx].str[-1]\n",
      "C:\\Users\\USER\\AppData\\Local\\Temp\\ipykernel_4532\\2978067060.py:5: SettingWithCopyWarning: \n",
      "A value is trying to be set on a copy of a slice from a DataFrame\n",
      "\n",
      "See the caveats in the documentation: https://pandas.pydata.org/pandas-docs/stable/user_guide/indexing.html#returning-a-view-versus-a-copy\n",
      "  df3['station_name'][station_idx] = df3['station_name'][station_idx].str[0] + '  ' + df3['station_name'][station_idx].str[-1]\n",
      "C:\\Users\\USER\\AppData\\Local\\Temp\\ipykernel_4532\\2978067060.py:5: SettingWithCopyWarning: \n",
      "A value is trying to be set on a copy of a slice from a DataFrame\n",
      "\n",
      "See the caveats in the documentation: https://pandas.pydata.org/pandas-docs/stable/user_guide/indexing.html#returning-a-view-versus-a-copy\n",
      "  df3['station_name'][station_idx] = df3['station_name'][station_idx].str[0] + '  ' + df3['station_name'][station_idx].str[-1]\n",
      "C:\\Users\\USER\\AppData\\Local\\Temp\\ipykernel_4532\\2978067060.py:5: SettingWithCopyWarning: \n",
      "A value is trying to be set on a copy of a slice from a DataFrame\n",
      "\n",
      "See the caveats in the documentation: https://pandas.pydata.org/pandas-docs/stable/user_guide/indexing.html#returning-a-view-versus-a-copy\n",
      "  df3['station_name'][station_idx] = df3['station_name'][station_idx].str[0] + '  ' + df3['station_name'][station_idx].str[-1]\n",
      "C:\\Users\\USER\\AppData\\Local\\Temp\\ipykernel_4532\\2978067060.py:5: SettingWithCopyWarning: \n",
      "A value is trying to be set on a copy of a slice from a DataFrame\n",
      "\n",
      "See the caveats in the documentation: https://pandas.pydata.org/pandas-docs/stable/user_guide/indexing.html#returning-a-view-versus-a-copy\n",
      "  df3['station_name'][station_idx] = df3['station_name'][station_idx].str[0] + '  ' + df3['station_name'][station_idx].str[-1]\n",
      "C:\\Users\\USER\\AppData\\Local\\Temp\\ipykernel_4532\\2978067060.py:5: SettingWithCopyWarning: \n",
      "A value is trying to be set on a copy of a slice from a DataFrame\n",
      "\n",
      "See the caveats in the documentation: https://pandas.pydata.org/pandas-docs/stable/user_guide/indexing.html#returning-a-view-versus-a-copy\n",
      "  df3['station_name'][station_idx] = df3['station_name'][station_idx].str[0] + '  ' + df3['station_name'][station_idx].str[-1]\n",
      "C:\\Users\\USER\\AppData\\Local\\Temp\\ipykernel_4532\\2978067060.py:5: SettingWithCopyWarning: \n",
      "A value is trying to be set on a copy of a slice from a DataFrame\n",
      "\n",
      "See the caveats in the documentation: https://pandas.pydata.org/pandas-docs/stable/user_guide/indexing.html#returning-a-view-versus-a-copy\n",
      "  df3['station_name'][station_idx] = df3['station_name'][station_idx].str[0] + '  ' + df3['station_name'][station_idx].str[-1]\n",
      "C:\\Users\\USER\\AppData\\Local\\Temp\\ipykernel_4532\\2978067060.py:5: SettingWithCopyWarning: \n",
      "A value is trying to be set on a copy of a slice from a DataFrame\n",
      "\n",
      "See the caveats in the documentation: https://pandas.pydata.org/pandas-docs/stable/user_guide/indexing.html#returning-a-view-versus-a-copy\n",
      "  df3['station_name'][station_idx] = df3['station_name'][station_idx].str[0] + '  ' + df3['station_name'][station_idx].str[-1]\n",
      "C:\\Users\\USER\\AppData\\Local\\Temp\\ipykernel_4532\\2978067060.py:5: SettingWithCopyWarning: \n",
      "A value is trying to be set on a copy of a slice from a DataFrame\n",
      "\n",
      "See the caveats in the documentation: https://pandas.pydata.org/pandas-docs/stable/user_guide/indexing.html#returning-a-view-versus-a-copy\n",
      "  df3['station_name'][station_idx] = df3['station_name'][station_idx].str[0] + '  ' + df3['station_name'][station_idx].str[-1]\n",
      "C:\\Users\\USER\\AppData\\Local\\Temp\\ipykernel_4532\\2978067060.py:5: SettingWithCopyWarning: \n",
      "A value is trying to be set on a copy of a slice from a DataFrame\n",
      "\n",
      "See the caveats in the documentation: https://pandas.pydata.org/pandas-docs/stable/user_guide/indexing.html#returning-a-view-versus-a-copy\n",
      "  df3['station_name'][station_idx] = df3['station_name'][station_idx].str[0] + '  ' + df3['station_name'][station_idx].str[-1]\n",
      "C:\\Users\\USER\\AppData\\Local\\Temp\\ipykernel_4532\\2978067060.py:5: SettingWithCopyWarning: \n",
      "A value is trying to be set on a copy of a slice from a DataFrame\n",
      "\n",
      "See the caveats in the documentation: https://pandas.pydata.org/pandas-docs/stable/user_guide/indexing.html#returning-a-view-versus-a-copy\n",
      "  df3['station_name'][station_idx] = df3['station_name'][station_idx].str[0] + '  ' + df3['station_name'][station_idx].str[-1]\n",
      "C:\\Users\\USER\\AppData\\Local\\Temp\\ipykernel_4532\\2978067060.py:5: SettingWithCopyWarning: \n",
      "A value is trying to be set on a copy of a slice from a DataFrame\n",
      "\n",
      "See the caveats in the documentation: https://pandas.pydata.org/pandas-docs/stable/user_guide/indexing.html#returning-a-view-versus-a-copy\n",
      "  df3['station_name'][station_idx] = df3['station_name'][station_idx].str[0] + '  ' + df3['station_name'][station_idx].str[-1]\n",
      "C:\\Users\\USER\\AppData\\Local\\Temp\\ipykernel_4532\\2978067060.py:5: SettingWithCopyWarning: \n",
      "A value is trying to be set on a copy of a slice from a DataFrame\n",
      "\n",
      "See the caveats in the documentation: https://pandas.pydata.org/pandas-docs/stable/user_guide/indexing.html#returning-a-view-versus-a-copy\n",
      "  df3['station_name'][station_idx] = df3['station_name'][station_idx].str[0] + '  ' + df3['station_name'][station_idx].str[-1]\n",
      "C:\\Users\\USER\\AppData\\Local\\Temp\\ipykernel_4532\\2978067060.py:5: SettingWithCopyWarning: \n",
      "A value is trying to be set on a copy of a slice from a DataFrame\n",
      "\n",
      "See the caveats in the documentation: https://pandas.pydata.org/pandas-docs/stable/user_guide/indexing.html#returning-a-view-versus-a-copy\n",
      "  df3['station_name'][station_idx] = df3['station_name'][station_idx].str[0] + '  ' + df3['station_name'][station_idx].str[-1]\n",
      "C:\\Users\\USER\\AppData\\Local\\Temp\\ipykernel_4532\\2978067060.py:5: SettingWithCopyWarning: \n",
      "A value is trying to be set on a copy of a slice from a DataFrame\n",
      "\n",
      "See the caveats in the documentation: https://pandas.pydata.org/pandas-docs/stable/user_guide/indexing.html#returning-a-view-versus-a-copy\n",
      "  df3['station_name'][station_idx] = df3['station_name'][station_idx].str[0] + '  ' + df3['station_name'][station_idx].str[-1]\n",
      "C:\\Users\\USER\\AppData\\Local\\Temp\\ipykernel_4532\\2978067060.py:5: SettingWithCopyWarning: \n",
      "A value is trying to be set on a copy of a slice from a DataFrame\n",
      "\n",
      "See the caveats in the documentation: https://pandas.pydata.org/pandas-docs/stable/user_guide/indexing.html#returning-a-view-versus-a-copy\n",
      "  df3['station_name'][station_idx] = df3['station_name'][station_idx].str[0] + '  ' + df3['station_name'][station_idx].str[-1]\n",
      "C:\\Users\\USER\\AppData\\Local\\Temp\\ipykernel_4532\\2978067060.py:5: SettingWithCopyWarning: \n",
      "A value is trying to be set on a copy of a slice from a DataFrame\n",
      "\n",
      "See the caveats in the documentation: https://pandas.pydata.org/pandas-docs/stable/user_guide/indexing.html#returning-a-view-versus-a-copy\n",
      "  df3['station_name'][station_idx] = df3['station_name'][station_idx].str[0] + '  ' + df3['station_name'][station_idx].str[-1]\n",
      "C:\\Users\\USER\\AppData\\Local\\Temp\\ipykernel_4532\\2978067060.py:5: SettingWithCopyWarning: \n",
      "A value is trying to be set on a copy of a slice from a DataFrame\n",
      "\n",
      "See the caveats in the documentation: https://pandas.pydata.org/pandas-docs/stable/user_guide/indexing.html#returning-a-view-versus-a-copy\n",
      "  df3['station_name'][station_idx] = df3['station_name'][station_idx].str[0] + '  ' + df3['station_name'][station_idx].str[-1]\n",
      "C:\\Users\\USER\\AppData\\Local\\Temp\\ipykernel_4532\\2978067060.py:5: SettingWithCopyWarning: \n",
      "A value is trying to be set on a copy of a slice from a DataFrame\n",
      "\n",
      "See the caveats in the documentation: https://pandas.pydata.org/pandas-docs/stable/user_guide/indexing.html#returning-a-view-versus-a-copy\n",
      "  df3['station_name'][station_idx] = df3['station_name'][station_idx].str[0] + '  ' + df3['station_name'][station_idx].str[-1]\n",
      "C:\\Users\\USER\\AppData\\Local\\Temp\\ipykernel_4532\\2978067060.py:5: SettingWithCopyWarning: \n",
      "A value is trying to be set on a copy of a slice from a DataFrame\n",
      "\n",
      "See the caveats in the documentation: https://pandas.pydata.org/pandas-docs/stable/user_guide/indexing.html#returning-a-view-versus-a-copy\n",
      "  df3['station_name'][station_idx] = df3['station_name'][station_idx].str[0] + '  ' + df3['station_name'][station_idx].str[-1]\n",
      "C:\\Users\\USER\\AppData\\Local\\Temp\\ipykernel_4532\\2978067060.py:5: SettingWithCopyWarning: \n",
      "A value is trying to be set on a copy of a slice from a DataFrame\n",
      "\n",
      "See the caveats in the documentation: https://pandas.pydata.org/pandas-docs/stable/user_guide/indexing.html#returning-a-view-versus-a-copy\n",
      "  df3['station_name'][station_idx] = df3['station_name'][station_idx].str[0] + '  ' + df3['station_name'][station_idx].str[-1]\n",
      "C:\\Users\\USER\\AppData\\Local\\Temp\\ipykernel_4532\\2978067060.py:5: SettingWithCopyWarning: \n",
      "A value is trying to be set on a copy of a slice from a DataFrame\n",
      "\n",
      "See the caveats in the documentation: https://pandas.pydata.org/pandas-docs/stable/user_guide/indexing.html#returning-a-view-versus-a-copy\n",
      "  df3['station_name'][station_idx] = df3['station_name'][station_idx].str[0] + '  ' + df3['station_name'][station_idx].str[-1]\n",
      "C:\\Users\\USER\\AppData\\Local\\Temp\\ipykernel_4532\\2978067060.py:5: SettingWithCopyWarning: \n",
      "A value is trying to be set on a copy of a slice from a DataFrame\n",
      "\n",
      "See the caveats in the documentation: https://pandas.pydata.org/pandas-docs/stable/user_guide/indexing.html#returning-a-view-versus-a-copy\n",
      "  df3['station_name'][station_idx] = df3['station_name'][station_idx].str[0] + '  ' + df3['station_name'][station_idx].str[-1]\n",
      "C:\\Users\\USER\\AppData\\Local\\Temp\\ipykernel_4532\\2978067060.py:5: SettingWithCopyWarning: \n",
      "A value is trying to be set on a copy of a slice from a DataFrame\n",
      "\n",
      "See the caveats in the documentation: https://pandas.pydata.org/pandas-docs/stable/user_guide/indexing.html#returning-a-view-versus-a-copy\n",
      "  df3['station_name'][station_idx] = df3['station_name'][station_idx].str[0] + '  ' + df3['station_name'][station_idx].str[-1]\n",
      "C:\\Users\\USER\\AppData\\Local\\Temp\\ipykernel_4532\\2978067060.py:5: SettingWithCopyWarning: \n",
      "A value is trying to be set on a copy of a slice from a DataFrame\n",
      "\n",
      "See the caveats in the documentation: https://pandas.pydata.org/pandas-docs/stable/user_guide/indexing.html#returning-a-view-versus-a-copy\n",
      "  df3['station_name'][station_idx] = df3['station_name'][station_idx].str[0] + '  ' + df3['station_name'][station_idx].str[-1]\n",
      "C:\\Users\\USER\\AppData\\Local\\Temp\\ipykernel_4532\\2978067060.py:5: SettingWithCopyWarning: \n",
      "A value is trying to be set on a copy of a slice from a DataFrame\n",
      "\n",
      "See the caveats in the documentation: https://pandas.pydata.org/pandas-docs/stable/user_guide/indexing.html#returning-a-view-versus-a-copy\n",
      "  df3['station_name'][station_idx] = df3['station_name'][station_idx].str[0] + '  ' + df3['station_name'][station_idx].str[-1]\n",
      "C:\\Users\\USER\\AppData\\Local\\Temp\\ipykernel_4532\\2978067060.py:5: SettingWithCopyWarning: \n",
      "A value is trying to be set on a copy of a slice from a DataFrame\n",
      "\n",
      "See the caveats in the documentation: https://pandas.pydata.org/pandas-docs/stable/user_guide/indexing.html#returning-a-view-versus-a-copy\n",
      "  df3['station_name'][station_idx] = df3['station_name'][station_idx].str[0] + '  ' + df3['station_name'][station_idx].str[-1]\n",
      "C:\\Users\\USER\\AppData\\Local\\Temp\\ipykernel_4532\\2978067060.py:5: SettingWithCopyWarning: \n",
      "A value is trying to be set on a copy of a slice from a DataFrame\n",
      "\n",
      "See the caveats in the documentation: https://pandas.pydata.org/pandas-docs/stable/user_guide/indexing.html#returning-a-view-versus-a-copy\n",
      "  df3['station_name'][station_idx] = df3['station_name'][station_idx].str[0] + '  ' + df3['station_name'][station_idx].str[-1]\n",
      "C:\\Users\\USER\\AppData\\Local\\Temp\\ipykernel_4532\\2978067060.py:5: SettingWithCopyWarning: \n",
      "A value is trying to be set on a copy of a slice from a DataFrame\n",
      "\n",
      "See the caveats in the documentation: https://pandas.pydata.org/pandas-docs/stable/user_guide/indexing.html#returning-a-view-versus-a-copy\n",
      "  df3['station_name'][station_idx] = df3['station_name'][station_idx].str[0] + '  ' + df3['station_name'][station_idx].str[-1]\n",
      "C:\\Users\\USER\\AppData\\Local\\Temp\\ipykernel_4532\\2978067060.py:5: SettingWithCopyWarning: \n",
      "A value is trying to be set on a copy of a slice from a DataFrame\n",
      "\n",
      "See the caveats in the documentation: https://pandas.pydata.org/pandas-docs/stable/user_guide/indexing.html#returning-a-view-versus-a-copy\n",
      "  df3['station_name'][station_idx] = df3['station_name'][station_idx].str[0] + '  ' + df3['station_name'][station_idx].str[-1]\n",
      "C:\\Users\\USER\\AppData\\Local\\Temp\\ipykernel_4532\\2978067060.py:5: SettingWithCopyWarning: \n",
      "A value is trying to be set on a copy of a slice from a DataFrame\n",
      "\n",
      "See the caveats in the documentation: https://pandas.pydata.org/pandas-docs/stable/user_guide/indexing.html#returning-a-view-versus-a-copy\n",
      "  df3['station_name'][station_idx] = df3['station_name'][station_idx].str[0] + '  ' + df3['station_name'][station_idx].str[-1]\n",
      "C:\\Users\\USER\\AppData\\Local\\Temp\\ipykernel_4532\\2978067060.py:5: SettingWithCopyWarning: \n",
      "A value is trying to be set on a copy of a slice from a DataFrame\n",
      "\n",
      "See the caveats in the documentation: https://pandas.pydata.org/pandas-docs/stable/user_guide/indexing.html#returning-a-view-versus-a-copy\n",
      "  df3['station_name'][station_idx] = df3['station_name'][station_idx].str[0] + '  ' + df3['station_name'][station_idx].str[-1]\n",
      "C:\\Users\\USER\\AppData\\Local\\Temp\\ipykernel_4532\\2978067060.py:5: SettingWithCopyWarning: \n",
      "A value is trying to be set on a copy of a slice from a DataFrame\n",
      "\n",
      "See the caveats in the documentation: https://pandas.pydata.org/pandas-docs/stable/user_guide/indexing.html#returning-a-view-versus-a-copy\n",
      "  df3['station_name'][station_idx] = df3['station_name'][station_idx].str[0] + '  ' + df3['station_name'][station_idx].str[-1]\n",
      "C:\\Users\\USER\\AppData\\Local\\Temp\\ipykernel_4532\\2978067060.py:5: SettingWithCopyWarning: \n",
      "A value is trying to be set on a copy of a slice from a DataFrame\n",
      "\n",
      "See the caveats in the documentation: https://pandas.pydata.org/pandas-docs/stable/user_guide/indexing.html#returning-a-view-versus-a-copy\n",
      "  df3['station_name'][station_idx] = df3['station_name'][station_idx].str[0] + '  ' + df3['station_name'][station_idx].str[-1]\n",
      "C:\\Users\\USER\\AppData\\Local\\Temp\\ipykernel_4532\\2978067060.py:5: SettingWithCopyWarning: \n",
      "A value is trying to be set on a copy of a slice from a DataFrame\n",
      "\n",
      "See the caveats in the documentation: https://pandas.pydata.org/pandas-docs/stable/user_guide/indexing.html#returning-a-view-versus-a-copy\n",
      "  df3['station_name'][station_idx] = df3['station_name'][station_idx].str[0] + '  ' + df3['station_name'][station_idx].str[-1]\n",
      "C:\\Users\\USER\\AppData\\Local\\Temp\\ipykernel_4532\\2978067060.py:5: SettingWithCopyWarning: \n",
      "A value is trying to be set on a copy of a slice from a DataFrame\n",
      "\n",
      "See the caveats in the documentation: https://pandas.pydata.org/pandas-docs/stable/user_guide/indexing.html#returning-a-view-versus-a-copy\n",
      "  df3['station_name'][station_idx] = df3['station_name'][station_idx].str[0] + '  ' + df3['station_name'][station_idx].str[-1]\n",
      "C:\\Users\\USER\\AppData\\Local\\Temp\\ipykernel_4532\\2978067060.py:5: SettingWithCopyWarning: \n",
      "A value is trying to be set on a copy of a slice from a DataFrame\n",
      "\n",
      "See the caveats in the documentation: https://pandas.pydata.org/pandas-docs/stable/user_guide/indexing.html#returning-a-view-versus-a-copy\n",
      "  df3['station_name'][station_idx] = df3['station_name'][station_idx].str[0] + '  ' + df3['station_name'][station_idx].str[-1]\n",
      "C:\\Users\\USER\\AppData\\Local\\Temp\\ipykernel_4532\\2978067060.py:5: SettingWithCopyWarning: \n",
      "A value is trying to be set on a copy of a slice from a DataFrame\n",
      "\n",
      "See the caveats in the documentation: https://pandas.pydata.org/pandas-docs/stable/user_guide/indexing.html#returning-a-view-versus-a-copy\n",
      "  df3['station_name'][station_idx] = df3['station_name'][station_idx].str[0] + '  ' + df3['station_name'][station_idx].str[-1]\n",
      "C:\\Users\\USER\\AppData\\Local\\Temp\\ipykernel_4532\\2978067060.py:5: SettingWithCopyWarning: \n",
      "A value is trying to be set on a copy of a slice from a DataFrame\n",
      "\n",
      "See the caveats in the documentation: https://pandas.pydata.org/pandas-docs/stable/user_guide/indexing.html#returning-a-view-versus-a-copy\n",
      "  df3['station_name'][station_idx] = df3['station_name'][station_idx].str[0] + '  ' + df3['station_name'][station_idx].str[-1]\n",
      "C:\\Users\\USER\\AppData\\Local\\Temp\\ipykernel_4532\\2978067060.py:5: SettingWithCopyWarning: \n",
      "A value is trying to be set on a copy of a slice from a DataFrame\n",
      "\n",
      "See the caveats in the documentation: https://pandas.pydata.org/pandas-docs/stable/user_guide/indexing.html#returning-a-view-versus-a-copy\n",
      "  df3['station_name'][station_idx] = df3['station_name'][station_idx].str[0] + '  ' + df3['station_name'][station_idx].str[-1]\n",
      "C:\\Users\\USER\\AppData\\Local\\Temp\\ipykernel_4532\\2978067060.py:5: SettingWithCopyWarning: \n",
      "A value is trying to be set on a copy of a slice from a DataFrame\n",
      "\n",
      "See the caveats in the documentation: https://pandas.pydata.org/pandas-docs/stable/user_guide/indexing.html#returning-a-view-versus-a-copy\n",
      "  df3['station_name'][station_idx] = df3['station_name'][station_idx].str[0] + '  ' + df3['station_name'][station_idx].str[-1]\n",
      "C:\\Users\\USER\\AppData\\Local\\Temp\\ipykernel_4532\\2978067060.py:5: SettingWithCopyWarning: \n",
      "A value is trying to be set on a copy of a slice from a DataFrame\n",
      "\n",
      "See the caveats in the documentation: https://pandas.pydata.org/pandas-docs/stable/user_guide/indexing.html#returning-a-view-versus-a-copy\n",
      "  df3['station_name'][station_idx] = df3['station_name'][station_idx].str[0] + '  ' + df3['station_name'][station_idx].str[-1]\n",
      "C:\\Users\\USER\\AppData\\Local\\Temp\\ipykernel_4532\\2978067060.py:5: SettingWithCopyWarning: \n",
      "A value is trying to be set on a copy of a slice from a DataFrame\n",
      "\n",
      "See the caveats in the documentation: https://pandas.pydata.org/pandas-docs/stable/user_guide/indexing.html#returning-a-view-versus-a-copy\n",
      "  df3['station_name'][station_idx] = df3['station_name'][station_idx].str[0] + '  ' + df3['station_name'][station_idx].str[-1]\n",
      "C:\\Users\\USER\\AppData\\Local\\Temp\\ipykernel_4532\\2978067060.py:5: SettingWithCopyWarning: \n",
      "A value is trying to be set on a copy of a slice from a DataFrame\n",
      "\n",
      "See the caveats in the documentation: https://pandas.pydata.org/pandas-docs/stable/user_guide/indexing.html#returning-a-view-versus-a-copy\n",
      "  df3['station_name'][station_idx] = df3['station_name'][station_idx].str[0] + '  ' + df3['station_name'][station_idx].str[-1]\n",
      "C:\\Users\\USER\\AppData\\Local\\Temp\\ipykernel_4532\\2978067060.py:5: SettingWithCopyWarning: \n",
      "A value is trying to be set on a copy of a slice from a DataFrame\n",
      "\n",
      "See the caveats in the documentation: https://pandas.pydata.org/pandas-docs/stable/user_guide/indexing.html#returning-a-view-versus-a-copy\n",
      "  df3['station_name'][station_idx] = df3['station_name'][station_idx].str[0] + '  ' + df3['station_name'][station_idx].str[-1]\n",
      "C:\\Users\\USER\\AppData\\Local\\Temp\\ipykernel_4532\\2978067060.py:5: SettingWithCopyWarning: \n",
      "A value is trying to be set on a copy of a slice from a DataFrame\n",
      "\n",
      "See the caveats in the documentation: https://pandas.pydata.org/pandas-docs/stable/user_guide/indexing.html#returning-a-view-versus-a-copy\n",
      "  df3['station_name'][station_idx] = df3['station_name'][station_idx].str[0] + '  ' + df3['station_name'][station_idx].str[-1]\n",
      "C:\\Users\\USER\\AppData\\Local\\Temp\\ipykernel_4532\\2978067060.py:5: SettingWithCopyWarning: \n",
      "A value is trying to be set on a copy of a slice from a DataFrame\n",
      "\n",
      "See the caveats in the documentation: https://pandas.pydata.org/pandas-docs/stable/user_guide/indexing.html#returning-a-view-versus-a-copy\n",
      "  df3['station_name'][station_idx] = df3['station_name'][station_idx].str[0] + '  ' + df3['station_name'][station_idx].str[-1]\n"
     ]
    }
   ],
   "source": [
    "# 문제있는 역명 추출 -> 역명 수정\n",
    "idx = DF_[DF_['users_amount'].isnull()].index\n",
    "for i in idx:\n",
    "    station_idx = df3[df3['station_name'] == DF_.iloc[i,0]].index\n",
    "    df3['station_name'][station_idx] = df3['station_name'][station_idx].str[0] + '  ' + df3['station_name'][station_idx].str[-1]\n"
   ]
  },
  {
   "cell_type": "code",
   "execution_count": null,
   "id": "c1cfe331-f9f5-48e7-b9d1-54393f160a13",
   "metadata": {},
   "outputs": [],
   "source": [
    "# 다 바뀌었는지 확인\n",
    "DF[DF['emd_cd'].isnull()]"
   ]
  },
  {
   "cell_type": "code",
   "execution_count": null,
   "id": "447e938c-05d5-45dd-8519-60ac4b63cab7",
   "metadata": {},
   "outputs": [],
   "source": [
    "# 역이름으로 초종 병합\n",
    "DF = pd.merge(df2, df3, on='station_name', how='left')"
   ]
  },
  {
   "cell_type": "code",
   "execution_count": 127,
   "id": "06bbb0dc-c50c-43bb-8a49-f15c25f00c74",
   "metadata": {},
   "outputs": [],
   "source": [
    "# 저장\n",
    "DF.to_excel('./4.부산.xlsx', index=False)"
   ]
  },
  {
   "cell_type": "markdown",
   "id": "977d4aa6-9706-4216-a21f-75820082dd4a",
   "metadata": {
    "tags": []
   },
   "source": [
    "### 전 지역 병합"
   ]
  },
  {
   "cell_type": "code",
   "execution_count": 153,
   "id": "28197a0c-7b2e-426e-8d77-c1af7bb4839c",
   "metadata": {},
   "outputs": [],
   "source": [
    "# 수도권 외 지역 파일 가져오기\n",
    "df_gj = pd.read_excel('./4.광주.xlsx')\n",
    "df_dg = pd.read_excel('./4.대구.xlsx')\n",
    "df_dj = pd.read_excel('./4.대전.xlsx')\n",
    "df_bs = pd.read_excel('./4.부산.xlsx')"
   ]
  },
  {
   "cell_type": "code",
   "execution_count": 154,
   "id": "e4f2414d-e209-42d2-8446-1ff483b853f7",
   "metadata": {},
   "outputs": [],
   "source": [
    "# 베이스 파일 가져오기\n",
    "df = pd.read_csv('./data/local_subway_user_station_202207191126.csv')"
   ]
  },
  {
   "cell_type": "code",
   "execution_count": 155,
   "id": "6f368bc7-fc53-4a60-9bf4-490c7668311a",
   "metadata": {},
   "outputs": [],
   "source": [
    "# 컬럼 순서 변경\n",
    "df_gj = df_gj[['boarding_type', 'emd_cd', 'latitude', 'line_name','longitude', 'station_name', 'use_date', 'users_amount']]\n",
    "df_dg = df_dg[['boarding_type', 'emd_cd', 'latitude', 'line_name','longitude', 'station_name', 'use_date', 'users_amount']]\n",
    "df_dj = df_dj[['boarding_type', 'emd_cd', 'latitude', 'line_name','longitude', 'station_name', 'use_date', 'users_amount']]\n",
    "df_bs = df_bs[['boarding_type', 'emd_cd', 'latitude', 'line_name','longitude', 'station_name', 'use_date', 'users_amount']]"
   ]
  },
  {
   "cell_type": "code",
   "execution_count": 156,
   "id": "df2256c9-a0ca-4268-ac07-5c21f43352df",
   "metadata": {},
   "outputs": [],
   "source": [
    "# 전체 데이터 병합\n",
    "df_sub = pd.concat([df_gj,df_dg,df_dj,df_bs, df], axis=0)"
   ]
  },
  {
   "cell_type": "code",
   "execution_count": 160,
   "id": "c701fdab-4459-484a-8748-0d410bf1ae3b",
   "metadata": {},
   "outputs": [],
   "source": [
    "# 컬럼 순서 정렬\n",
    "df_sub = df_sub[['id', 'created_at', 'updated_at', 'boarding_type', 'emd_cd', 'latitude', 'line_name', 'longitude', 'station_name', 'use_date', 'users_amount']]"
   ]
  },
  {
   "cell_type": "code",
   "execution_count": 205,
   "id": "76ba92d4-556b-456c-8a50-de101c43fa33",
   "metadata": {},
   "outputs": [],
   "source": [
    "# id 설정\n",
    "df_sub = df_sub.reset_index(drop=False)\n",
    "df_sub = df_sub.drop(columns=['id'])\n",
    "df_sub = df_sub.rename(columns={'index':'id'})"
   ]
  },
  {
   "cell_type": "code",
   "execution_count": 211,
   "id": "700d8e02-8813-4545-bb04-f3b4cad14184",
   "metadata": {},
   "outputs": [],
   "source": [
    "from datetime import datetime"
   ]
  },
  {
   "cell_type": "code",
   "execution_count": 179,
   "id": "3021db13-6703-47b0-a2f3-8b84d08bd110",
   "metadata": {},
   "outputs": [],
   "source": [
    "# 생성, 수정 날짜 입력\n",
    "datetime.today().strftime(\"%Y-%m-%d %H:%M:%S\")\n",
    "df_sub[['created_at','updated_at']] = datetime.today().strftime(\"%Y-%m-%d %H:%M:%S\")"
   ]
  },
  {
   "cell_type": "code",
   "execution_count": 207,
   "id": "24f8896a-22e7-41cf-86d7-23a1123e4a53",
   "metadata": {},
   "outputs": [],
   "source": [
    "# csv로 저장\n",
    "df_sub.to_csv('./local_subway_user_station_20220720.csv', index=False)"
   ]
  },
  {
   "cell_type": "markdown",
   "id": "b0149d73-25a5-46fd-9fbf-08eafe9ffeaa",
   "metadata": {
    "tags": []
   },
   "source": [
    "### 확인"
   ]
  },
  {
   "cell_type": "code",
   "execution_count": 208,
   "id": "f1c441b9-23b2-4d8b-8790-7b44e9bba8be",
   "metadata": {},
   "outputs": [],
   "source": [
    "DF = pd.read_csv('./local_subway_user_station_20220720.csv')"
   ]
  },
  {
   "cell_type": "code",
   "execution_count": 210,
   "id": "497a11fb-2520-4d32-a4d1-401557654030",
   "metadata": {},
   "outputs": [
    {
     "name": "stdout",
     "output_type": "stream",
     "text": [
      "<class 'pandas.core.frame.DataFrame'>\n",
      "RangeIndex: 116124 entries, 0 to 116123\n",
      "Data columns (total 11 columns):\n",
      " #   Column         Non-Null Count   Dtype  \n",
      "---  ------         --------------   -----  \n",
      " 0   id             116124 non-null  int64  \n",
      " 1   created_at     116124 non-null  object \n",
      " 2   updated_at     116124 non-null  object \n",
      " 3   boarding_type  116124 non-null  object \n",
      " 4   emd_cd         116124 non-null  int64  \n",
      " 5   latitude       116124 non-null  float64\n",
      " 6   line_name      116124 non-null  object \n",
      " 7   longitude      116124 non-null  float64\n",
      " 8   station_name   116124 non-null  object \n",
      " 9   use_date       116124 non-null  int64  \n",
      " 10  users_amount   116124 non-null  int64  \n",
      "dtypes: float64(2), int64(4), object(5)\n",
      "memory usage: 9.7+ MB\n"
     ]
    }
   ],
   "source": [
    "DF.info()"
   ]
  }
 ],
 "metadata": {
  "kernelspec": {
   "display_name": "oasis",
   "language": "python",
   "name": "oasis"
  },
  "language_info": {
   "codemirror_mode": {
    "name": "ipython",
    "version": 3
   },
   "file_extension": ".py",
   "mimetype": "text/x-python",
   "name": "python",
   "nbconvert_exporter": "python",
   "pygments_lexer": "ipython3",
   "version": "3.8.13"
  }
 },
 "nbformat": 4,
 "nbformat_minor": 5
}
