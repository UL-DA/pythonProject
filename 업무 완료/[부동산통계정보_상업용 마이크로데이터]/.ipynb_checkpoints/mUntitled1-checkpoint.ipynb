{
 "cells": [
  {
   "cell_type": "code",
   "execution_count": 4,
   "id": "e25189e2-cab6-4c5d-bb84-d558dc96af5e",
   "metadata": {},
   "outputs": [
    {
     "name": "stderr",
     "output_type": "stream",
     "text": [
      "C:\\Users\\duPar\\Anaconda3\\envs\\oasis\\lib\\site-packages\\IPython\\core\\interactiveshell.py:3135: DtypeWarning: Columns (0,17) have mixed types.Specify dtype option on import or set low_memory=False.\n",
      "  has_raised = await self.run_ast_nodes(code_ast.body, cell_name,\n"
     ]
    }
   ],
   "source": [
    "import datetime\n",
    "import psycopg2\n",
    "import numpy as np\n",
    "import pandas as pd\n",
    "\n",
    "df = pd.read_csv(\"./집합2019.csv\")\n",
    "\n",
    "df = df.replace(' ', None)\n",
    "df = df.replace(np.nan, None)\n",
    "df = df.replace('%', None)\n",
    "df = df.replace({'NaN', None}, regex=True)\n",
    "df = df.astype('str')"
   ]
  },
  {
   "cell_type": "code",
   "execution_count": 5,
   "id": "96727822-9353-4a99-b8ce-36e7119b3127",
   "metadata": {},
   "outputs": [
    {
     "name": "stdout",
     "output_type": "stream",
     "text": [
      "Error: list index out of range\n",
      "Done,  0\n",
      "Error: list index out of range\n",
      "Done,  0\n",
      "Error: list index out of range\n",
      "Done,  0\n"
     ]
    }
   ],
   "source": [
    "# DW INSERT\n",
    "import psycopg2\n",
    "\n",
    "table = 'm1.aggregate_bld1'\n",
    "\n",
    "# execute_mogrify\n",
    "def execute_mogrify(conn, df, table, val):\n",
    "    # Create a list of tuples from the dataframe values\n",
    "    tuples = [tuple(x) for x in df.to_numpy()]\n",
    "    # Comma-separated dataframe columns\n",
    "    cols = ','.join(list(df.columns))    \n",
    "    # SQL query to execute\n",
    "    cursor = conn.cursor()\n",
    "    values = [cursor.mogrify(val, tup).decode('utf8') for tup in\n",
    "              tuples]\n",
    "    query = \"INSERT INTO %s(%s) VALUES \" % (table, cols) + \",\".join(values)\n",
    "    try:\n",
    "        cursor.execute(query, tuples)\n",
    "        conn.commit()\n",
    "    except (Exception, psycopg2.DatabaseError) as error:\n",
    "        print(\"Error: %s\" % error)\n",
    "        # conn.rollback()\n",
    "        conn.commit()\n",
    "        cursor.close()\n",
    "        return 1\n",
    "    cursor.close()\n",
    "\n",
    "# values 설정\n",
    "val = '(' + ('%s,' * len(df.columns))[:-1] + ')'\n",
    "\n",
    "# insert\n",
    "for j in range(0, len(df), 10000):\n",
    "    \n",
    "    # DB Connect\n",
    "    while True:\n",
    "        try:\n",
    "            conn = psycopg2.connect(\n",
    "                host='redshift-cluster-1.ctvbwnnvbdkl.ap-northeast-2.redshift.amazonaws.com',\n",
    "                port=5439,\n",
    "                dbname='dev',\n",
    "                user='awsuser',\n",
    "                password='cremaoAdmin1234qwer!!'\n",
    "            )\n",
    "            break\n",
    "        except Exception as err:\n",
    "            pass\n",
    "\n",
    "    # 10000개 단위로 나누기\n",
    "    tmp = df[j:j + 10000]\n",
    "\n",
    "    # insert\n",
    "    execute_mogrify(conn, tmp, table, val)\n",
    "    tmp = pd.DataFrame()\n",
    "\n",
    "    print('Done, ', len(tmp))"
   ]
  },
  {
   "cell_type": "code",
   "execution_count": null,
   "id": "5f7b6ae6-7649-421e-aa68-84ec0c560d75",
   "metadata": {},
   "outputs": [],
   "source": []
  },
  {
   "cell_type": "code",
   "execution_count": null,
   "id": "ec43d48c-ff0c-46c7-838e-c2e2fbb19f7d",
   "metadata": {},
   "outputs": [],
   "source": []
  },
  {
   "cell_type": "code",
   "execution_count": null,
   "id": "4ba69eb4-09c0-4ae3-ac67-15807a681fb3",
   "metadata": {},
   "outputs": [],
   "source": []
  },
  {
   "cell_type": "code",
   "execution_count": null,
   "id": "1327541a-033f-4b19-94cc-56213b19af1f",
   "metadata": {},
   "outputs": [],
   "source": []
  },
  {
   "cell_type": "code",
   "execution_count": 1,
   "id": "d242af8c",
   "metadata": {},
   "outputs": [
    {
     "name": "stderr",
     "output_type": "stream",
     "text": [
      "C:\\Users\\duPar\\Anaconda3\\envs\\oasis\\lib\\site-packages\\IPython\\core\\interactiveshell.py:3135: DtypeWarning: Columns (0,17) have mixed types.Specify dtype option on import or set low_memory=False.\n",
      "  has_raised = await self.run_ast_nodes(code_ast.body, cell_name,\n"
     ]
    }
   ],
   "source": [
    "import datetime\n",
    "import psycopg2\n",
    "import numpy as np\n",
    "import pandas as pd\n",
    "\n",
    "df = pd.read_csv(\"./집합2019.csv\")\n",
    "\n",
    "df = df.replace(' ', None)\n",
    "df = df.replace(np.nan, None)\n",
    "df = df.replace({'NaN', None}, regex=True)\n",
    "df = df.astype('str')"
   ]
  },
  {
   "cell_type": "code",
   "execution_count": 32,
   "id": "c2d04b29-d940-4077-8a4f-75733e5ffd45",
   "metadata": {},
   "outputs": [],
   "source": [
    "# ㎡\n",
    "df = df.replace({'㎡', ''}, regex=True)\n",
    "df = df.replace('%', '', regex=True)\n",
    "df = df.replace('-', '', regex=True)"
   ]
  },
  {
   "cell_type": "code",
   "execution_count": 2,
   "id": "4c31ebd7-5231-4e40-9f0e-61e3d465610a",
   "metadata": {
    "tags": []
   },
   "outputs": [
    {
     "data": {
      "text/html": [
       "<div>\n",
       "<style scoped>\n",
       "    .dataframe tbody tr th:only-of-type {\n",
       "        vertical-align: middle;\n",
       "    }\n",
       "\n",
       "    .dataframe tbody tr th {\n",
       "        vertical-align: top;\n",
       "    }\n",
       "\n",
       "    .dataframe thead th {\n",
       "        text-align: right;\n",
       "    }\n",
       "</style>\n",
       "<table border=\"1\" class=\"dataframe\">\n",
       "  <thead>\n",
       "    <tr style=\"text-align: right;\">\n",
       "      <th></th>\n",
       "      <th>commercial_wide_area</th>\n",
       "      <th>cname</th>\n",
       "      <th>sido</th>\n",
       "      <th>plat_area</th>\n",
       "      <th>arch_area</th>\n",
       "      <th>tot_area</th>\n",
       "      <th>vl_rat</th>\n",
       "      <th>bc_rat</th>\n",
       "      <th>building_structure</th>\n",
       "      <th>main_purps_nm</th>\n",
       "      <th>...</th>\n",
       "      <th>selling_monthly_rent_sum_3rd</th>\n",
       "      <th>selling_monthly_rent_3rd</th>\n",
       "      <th>admin_cost_3rd</th>\n",
       "      <th>admin_actual_cost_3rd</th>\n",
       "      <th>vacant_3</th>\n",
       "      <th>current_contract_date</th>\n",
       "      <th>current_contract_term</th>\n",
       "      <th>first_current_contract_date</th>\n",
       "      <th>invest_calculation_amt</th>\n",
       "      <th>base_ym</th>\n",
       "    </tr>\n",
       "  </thead>\n",
       "  <tbody>\n",
       "    <tr>\n",
       "      <th>0</th>\n",
       "      <td>nan</td>\n",
       "      <td>0.비상권</td>\n",
       "      <td>강원도 원주시</td>\n",
       "      <td>1000㎡ 초과 10000㎡ 이하</td>\n",
       "      <td>330㎡ 초과 1000㎡ 이하</td>\n",
       "      <td>1000㎡ 초과 10000㎡ 이하</td>\n",
       "      <td>60% 초과 70% 이하</td>\n",
       "      <td>200% 초과 300% 이하</td>\n",
       "      <td>철근콘크리트구조</td>\n",
       "      <td>판매시설</td>\n",
       "      <td>...</td>\n",
       "      <td>1십만원 초과 5십만원 이하</td>\n",
       "      <td>3000</td>\n",
       "      <td>1십만원 이하</td>\n",
       "      <td>1십만원 초과 5십만원 이하</td>\n",
       "      <td>0</td>\n",
       "      <td>2018</td>\n",
       "      <td>13~24개월</td>\n",
       "      <td>2016년 1월 이후</td>\n",
       "      <td>480000</td>\n",
       "      <td>202212</td>\n",
       "    </tr>\n",
       "    <tr>\n",
       "      <th>1</th>\n",
       "      <td>nan</td>\n",
       "      <td>0.비상권</td>\n",
       "      <td>강원도 원주시</td>\n",
       "      <td>1000㎡ 초과 10000㎡ 이하</td>\n",
       "      <td>330㎡ 초과 1000㎡ 이하</td>\n",
       "      <td>1000㎡ 초과 10000㎡ 이하</td>\n",
       "      <td>60% 초과 70% 이하</td>\n",
       "      <td>200% 초과 300% 이하</td>\n",
       "      <td>철근콘크리트구조</td>\n",
       "      <td>판매시설</td>\n",
       "      <td>...</td>\n",
       "      <td>1백만원 초과 5백만원 이하</td>\n",
       "      <td>16200</td>\n",
       "      <td>1십만원 이하</td>\n",
       "      <td>1십만원 이하</td>\n",
       "      <td>1</td>\n",
       "      <td>0</td>\n",
       "      <td>0</td>\n",
       "      <td>0</td>\n",
       "      <td>2510000</td>\n",
       "      <td>202212</td>\n",
       "    </tr>\n",
       "    <tr>\n",
       "      <th>2</th>\n",
       "      <td>nan</td>\n",
       "      <td>0.비상권</td>\n",
       "      <td>강원도 원주시</td>\n",
       "      <td>1000㎡ 초과 10000㎡ 이하</td>\n",
       "      <td>330㎡ 초과 1000㎡ 이하</td>\n",
       "      <td>1000㎡ 초과 10000㎡ 이하</td>\n",
       "      <td>60% 초과 70% 이하</td>\n",
       "      <td>200% 초과 300% 이하</td>\n",
       "      <td>철근콘크리트구조</td>\n",
       "      <td>판매시설</td>\n",
       "      <td>...</td>\n",
       "      <td>5십만원 초과 1백만원 이하</td>\n",
       "      <td>6300</td>\n",
       "      <td>1십만원 이하</td>\n",
       "      <td>1십만원 이하</td>\n",
       "      <td>1</td>\n",
       "      <td>0</td>\n",
       "      <td>0</td>\n",
       "      <td>0</td>\n",
       "      <td>890000</td>\n",
       "      <td>202212</td>\n",
       "    </tr>\n",
       "  </tbody>\n",
       "</table>\n",
       "<p>3 rows × 63 columns</p>\n",
       "</div>"
      ],
      "text/plain": [
       "  commercial_wide_area  cname     sido           plat_area         arch_area  \\\n",
       "0                  nan  0.비상권  강원도 원주시  1000㎡ 초과 10000㎡ 이하  330㎡ 초과 1000㎡ 이하   \n",
       "1                  nan  0.비상권  강원도 원주시  1000㎡ 초과 10000㎡ 이하  330㎡ 초과 1000㎡ 이하   \n",
       "2                  nan  0.비상권  강원도 원주시  1000㎡ 초과 10000㎡ 이하  330㎡ 초과 1000㎡ 이하   \n",
       "\n",
       "             tot_area         vl_rat           bc_rat building_structure  \\\n",
       "0  1000㎡ 초과 10000㎡ 이하  60% 초과 70% 이하  200% 초과 300% 이하           철근콘크리트구조   \n",
       "1  1000㎡ 초과 10000㎡ 이하  60% 초과 70% 이하  200% 초과 300% 이하           철근콘크리트구조   \n",
       "2  1000㎡ 초과 10000㎡ 이하  60% 초과 70% 이하  200% 초과 300% 이하           철근콘크리트구조   \n",
       "\n",
       "  main_purps_nm  ... selling_monthly_rent_sum_3rd selling_monthly_rent_3rd  \\\n",
       "0          판매시설  ...              1십만원 초과 5십만원 이하                     3000   \n",
       "1          판매시설  ...              1백만원 초과 5백만원 이하                    16200   \n",
       "2          판매시설  ...              5십만원 초과 1백만원 이하                     6300   \n",
       "\n",
       "  admin_cost_3rd admin_actual_cost_3rd vacant_3 current_contract_date  \\\n",
       "0        1십만원 이하       1십만원 초과 5십만원 이하        0                  2018   \n",
       "1        1십만원 이하               1십만원 이하        1                     0   \n",
       "2        1십만원 이하               1십만원 이하        1                     0   \n",
       "\n",
       "  current_contract_term first_current_contract_date invest_calculation_amt  \\\n",
       "0               13~24개월                 2016년 1월 이후                 480000   \n",
       "1                     0                           0                2510000   \n",
       "2                     0                           0                 890000   \n",
       "\n",
       "  base_ym  \n",
       "0  202212  \n",
       "1  202212  \n",
       "2  202212  \n",
       "\n",
       "[3 rows x 63 columns]"
      ]
     },
     "execution_count": 2,
     "metadata": {},
     "output_type": "execute_result"
    }
   ],
   "source": [
    "df.head(3)"
   ]
  },
  {
   "cell_type": "code",
   "execution_count": 3,
   "id": "4e4f6ac5",
   "metadata": {},
   "outputs": [],
   "source": [
    "### 3. DB INSERT\n",
    "table = 'm1.aggregate_bld10'\n",
    "\n",
    "# DB Connect\n",
    "conn = psycopg2.connect(\n",
    "    host='redshift-cluster-1.ctvbwnnvbdkl.ap-northeast-2.redshift.amazonaws.com',\n",
    "    port=5439,\n",
    "    dbname='dev',\n",
    "    user='awsuser',\n",
    "    password='cremaoAdmin1234qwer!!'\n",
    ")"
   ]
  },
  {
   "cell_type": "code",
   "execution_count": 4,
   "id": "1f758138-6244-4333-a107-da43eecbc18c",
   "metadata": {},
   "outputs": [],
   "source": [
    "# values 설정\n",
    "val = '(' + ('%s,' * len(df.columns))[:-1] + ')'\n",
    "# print(val)"
   ]
  },
  {
   "cell_type": "code",
   "execution_count": 5,
   "id": "edd5c974-4bd0-4519-b850-a972ab58b496",
   "metadata": {},
   "outputs": [],
   "source": [
    "# Create a list of tuples from the dataframe values\n",
    "tuples = [tuple(x) for x in df.to_numpy()]\n",
    "# print(tuples)"
   ]
  },
  {
   "cell_type": "code",
   "execution_count": 6,
   "id": "bccf4ddc-c57c-4a1f-8c5d-090f3eab1826",
   "metadata": {},
   "outputs": [],
   "source": [
    "# Comma-separated dataframe columns\n",
    "cols = ','.join(list(df.columns))\n",
    "# print(cols)"
   ]
  },
  {
   "cell_type": "code",
   "execution_count": 7,
   "id": "cef1b11d-beb0-47bc-8a6e-1ee6a1ac758b",
   "metadata": {},
   "outputs": [],
   "source": [
    "# SQL query to execute\n",
    "cursor = conn.cursor()\n",
    "values = [cursor.mogrify(val, tup).decode('utf8') for tup in\n",
    "          tuples]"
   ]
  },
  {
   "cell_type": "code",
   "execution_count": 8,
   "id": "a08452e6-5893-4618-8bba-8109eb846b45",
   "metadata": {},
   "outputs": [],
   "source": [
    "query = \"INSERT INTO %s(%s) VALUES \" % (table, cols) + \",\".join(values)\n",
    "# print(query)"
   ]
  },
  {
   "cell_type": "code",
   "execution_count": 9,
   "id": "5b333987-933d-4d74-8131-cd0d501285f7",
   "metadata": {},
   "outputs": [
    {
     "ename": "IndexError",
     "evalue": "list index out of range",
     "output_type": "error",
     "traceback": [
      "\u001b[1;31m---------------------------------------------------------------------------\u001b[0m",
      "\u001b[1;31mIndexError\u001b[0m                                Traceback (most recent call last)",
      "Input \u001b[1;32mIn [9]\u001b[0m, in \u001b[0;36m<cell line: 1>\u001b[1;34m()\u001b[0m\n\u001b[1;32m----> 1\u001b[0m \u001b[43mcursor\u001b[49m\u001b[38;5;241;43m.\u001b[39;49m\u001b[43mexecute\u001b[49m\u001b[43m(\u001b[49m\u001b[43mquery\u001b[49m\u001b[43m,\u001b[49m\u001b[43m \u001b[49m\u001b[43mtuples\u001b[49m\u001b[43m)\u001b[49m\n",
      "\u001b[1;31mIndexError\u001b[0m: list index out of range"
     ]
    }
   ],
   "source": [
    "cursor.execute(query, tuples)"
   ]
  },
  {
   "cell_type": "code",
   "execution_count": 10,
   "id": "68af9bc0-5fc9-446c-9deb-65b67cc71c57",
   "metadata": {},
   "outputs": [],
   "source": [
    "conn.commit()"
   ]
  }
 ],
 "metadata": {
  "kernelspec": {
   "display_name": "oasis",
   "language": "python",
   "name": "oasis"
  },
  "language_info": {
   "codemirror_mode": {
    "name": "ipython",
    "version": 3
   },
   "file_extension": ".py",
   "mimetype": "text/x-python",
   "name": "python",
   "nbconvert_exporter": "python",
   "pygments_lexer": "ipython3",
   "version": "3.8.13"
  }
 },
 "nbformat": 4,
 "nbformat_minor": 5
}
