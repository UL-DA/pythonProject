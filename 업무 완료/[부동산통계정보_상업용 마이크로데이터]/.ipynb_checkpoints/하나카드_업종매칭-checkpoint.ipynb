{
 "cells": [
  {
   "cell_type": "code",
   "execution_count": 1,
   "id": "b6a80295-49da-433b-9668-3ce16b77d617",
   "metadata": {},
   "outputs": [],
   "source": [
    "import pandas as pd"
   ]
  },
  {
   "cell_type": "code",
   "execution_count": null,
   "id": "cd85eee3-6632-40cf-a170-5f01d383fcb6",
   "metadata": {},
   "outputs": [],
   "source": [
    "dir_ = 'C:\\oasis\\git\\data\\[부동산통계정보_상업용 마이크로데이터]'"
   ]
  },
  {
   "cell_type": "code",
   "execution_count": 5,
   "id": "b1558cef-d629-44ff-abc0-86ca4f6bec69",
   "metadata": {},
   "outputs": [],
   "source": [
    "df = pd.read_excel('C://oasis/git/pythonProject/표준산업분류코드/표준산업분류코드_KB업종코드_매칭.xlsx')"
   ]
  },
  {
   "cell_type": "code",
   "execution_count": 7,
   "id": "ef032a01-3a3d-4996-8ebf-911fc688fc36",
   "metadata": {},
   "outputs": [],
   "source": [
    "df.columns = ['대분류_코드','대분류_항목명','중분류_코드','중분류_항목명','소분류_코드','소분류_항목명','세분류_코드','세분류_항목명','세세분류_코드','세세분류_항목명','업종명','업종코드']\n",
    "df = df.drop([0,1]).reset_index(drop=True)"
   ]
  },
  {
   "cell_type": "code",
   "execution_count": 10,
   "id": "ef1c1ea0-e863-4655-9dbe-7d0c61f06773",
   "metadata": {},
   "outputs": [],
   "source": [
    "# 하나카드 업종 불러오기\n",
    "hn = pd.read_excel('./표준산업분류(하나카드제공).xlsx')"
   ]
  },
  {
   "cell_type": "code",
   "execution_count": 37,
   "id": "c6534e3e-10e1-4d0b-bbde-1d0114d15f45",
   "metadata": {},
   "outputs": [],
   "source": [
    "hn['표준산업분류'] = hn['표준산업분류'].astype(str)"
   ]
  },
  {
   "cell_type": "code",
   "execution_count": 29,
   "id": "2ab88126-80ff-4c6c-911f-a9eba8b5bbb0",
   "metadata": {},
   "outputs": [],
   "source": [
    "hn['업종코드'] = '0'\n",
    "hn['업종명'] = '0'"
   ]
  },
  {
   "cell_type": "code",
   "execution_count": 46,
   "id": "e619ec6f-d547-4440-a156-d1cfec5c9a5d",
   "metadata": {},
   "outputs": [
    {
     "name": "stderr",
     "output_type": "stream",
     "text": [
      "C:\\Users\\duPar\\AppData\\Local\\Temp\\ipykernel_1348\\3072768836.py:6: SettingWithCopyWarning: \n",
      "A value is trying to be set on a copy of a slice from a DataFrame\n",
      "\n",
      "See the caveats in the documentation: https://pandas.pydata.org/pandas-docs/stable/user_guide/indexing.html#returning-a-view-versus-a-copy\n",
      "  hn['업종명'][idx] = df['업종명'][i]\n",
      "C:\\Users\\duPar\\AppData\\Local\\Temp\\ipykernel_1348\\3072768836.py:7: SettingWithCopyWarning: \n",
      "A value is trying to be set on a copy of a slice from a DataFrame\n",
      "\n",
      "See the caveats in the documentation: https://pandas.pydata.org/pandas-docs/stable/user_guide/indexing.html#returning-a-view-versus-a-copy\n",
      "  hn['업종코드'][idx] = df['업종코드'][i]\n"
     ]
    }
   ],
   "source": [
    "# 업종코드 맵핑\n",
    "for i in df.index:\n",
    "    if (len(hn[hn['표준산업분류']==(df['세세분류_코드'][i])]) > 0):\n",
    "        \n",
    "        idx = hn[hn['표준산업분류']==(df['세세분류_코드'][i])].index\n",
    "        hn['업종명'][idx] = df['업종명'][i]\n",
    "        hn['업종코드'][idx] = df['업종코드'][i]"
   ]
  },
  {
   "cell_type": "code",
   "execution_count": 52,
   "id": "ef35980a-7bea-4dcc-9f69-4ad76f979c6d",
   "metadata": {},
   "outputs": [],
   "source": [
    "hn.to_excel('./하나카드_업종맵핑_노가다.xlsx', encoding='utf-8-sig', index=False)"
   ]
  },
  {
   "cell_type": "code",
   "execution_count": 50,
   "id": "021ba7df-ba0e-435f-b7b6-e3f7718bb243",
   "metadata": {},
   "outputs": [
    {
     "data": {
      "text/plain": [
       "42"
      ]
     },
     "execution_count": 50,
     "metadata": {},
     "output_type": "execute_result"
    }
   ],
   "source": [
    "len(hn[hn['업종코드']=='0'])"
   ]
  }
 ],
 "metadata": {
  "kernelspec": {
   "display_name": "oasis",
   "language": "python",
   "name": "oasis"
  },
  "language_info": {
   "codemirror_mode": {
    "name": "ipython",
    "version": 3
   },
   "file_extension": ".py",
   "mimetype": "text/x-python",
   "name": "python",
   "nbconvert_exporter": "python",
   "pygments_lexer": "ipython3",
   "version": "3.8.13"
  }
 },
 "nbformat": 4,
 "nbformat_minor": 5
}
