{
 "cells": [
  {
   "cell_type": "code",
   "execution_count": 1,
   "id": "090440dd-1e16-4bca-a38c-cfe9c44394e1",
   "metadata": {},
   "outputs": [],
   "source": [
    "import pandas as pd\n",
    "import numpy as np\n",
    "\n",
    "import time\n",
    "from tqdm import tqdm"
   ]
  },
  {
   "cell_type": "code",
   "execution_count": 2,
   "id": "776e43f0-05c5-44e1-9cbd-5bf25ab38dcd",
   "metadata": {},
   "outputs": [],
   "source": [
    "df_kt = pd.read_csv('./KT_data/dp_frc_bldg_ftc_pred_slng_m_sum_202205.csv',sep='|')"
   ]
  },
  {
   "cell_type": "code",
   "execution_count": 4,
   "id": "66beddfd-df3b-4cd4-bb35-71ad459740b2",
   "metadata": {
    "tags": []
   },
   "outputs": [
    {
     "data": {
      "text/plain": [
       "1366887.0"
      ]
     },
     "execution_count": 4,
     "metadata": {},
     "output_type": "execute_result"
    }
   ],
   "source": [
    "len(df_kt)/43"
   ]
  },
  {
   "cell_type": "markdown",
   "id": "9c9f63f5-94ed-4af9-9c4a-a9b8fd638c82",
   "metadata": {
    "tags": []
   },
   "source": [
    "### kt data"
   ]
  },
  {
   "cell_type": "code",
   "execution_count": 44,
   "id": "9120f57b-55f6-4b65-aab9-0b69c5618f87",
   "metadata": {},
   "outputs": [],
   "source": [
    "# 필요한 컬럼 선택\n",
    "df_kt = df_kt[['bd_mgt_sn','ftc_cate2_cd','pred_slng_amt']]\n",
    "\n",
    "# 전체 컬럼명 변경\n",
    "df_kt.columns = ['건물관리번호','업종코드','예상매출액']\n",
    "\n",
    "# bd_mgt_sn : 건물관리번호\n",
    "# ftc_cate2_cd : 업종코드\n",
    "# pred_slng_amt : 예상매출액"
   ]
  },
  {
   "cell_type": "code",
   "execution_count": 43,
   "id": "4f4ace83-c251-474d-8007-d272cacb24aa",
   "metadata": {},
   "outputs": [],
   "source": [
    "df_kt = df_kt[:1000]"
   ]
  },
  {
   "cell_type": "code",
   "execution_count": 45,
   "id": "b545a77e-d5ac-4da5-807d-d398fafff9de",
   "metadata": {},
   "outputs": [],
   "source": [
    "df_kt_ = df_kt"
   ]
  },
  {
   "cell_type": "code",
   "execution_count": 35,
   "id": "dc04c50b-e84b-49e7-9173-42e10b33d3b8",
   "metadata": {},
   "outputs": [],
   "source": [
    "import time"
   ]
  },
  {
   "cell_type": "code",
   "execution_count": 36,
   "id": "3283927a-7f9d-489b-9698-ed3ebd6ca537",
   "metadata": {
    "tags": []
   },
   "outputs": [
    {
     "name": "stdout",
     "output_type": "stream",
     "text": [
      "elapsed_time : 0.009577274322509766\n"
     ]
    }
   ],
   "source": [
    "# 금액 > 한글-숫자로 타입 변경\n",
    "# 방법1. 레이블로 찾기 -> 더 빠름\n",
    "start = time.time()\n",
    "\n",
    "df_kt.loc[df_kt['예상매출액'].str.contains('억'), '예상매출액'] = '100000000'\n",
    "df_kt.loc[df_kt['예상매출액'].str.contains('만'), '예상매출액'] = '1000000'\n",
    "df_kt['예상매출액'] = df_kt['예상매출액'].astype(float)\n",
    "\n",
    "elapsed_time = time.time() - start\n",
    "print(f'elapsed_time : {elapsed_time}')"
   ]
  },
  {
   "cell_type": "code",
   "execution_count": 46,
   "id": "04f1bad2-fb85-4ea0-9b7a-9c230ae1cdbd",
   "metadata": {},
   "outputs": [
    {
     "name": "stdout",
     "output_type": "stream",
     "text": [
      "elapsed_time : 0.010125875473022461\n"
     ]
    }
   ],
   "source": [
    "# 방법2. 인덱스로 찾기\n",
    "start = time.time()\n",
    "\n",
    "idx = df_kt[df_kt['예상매출액'].str.contains('억')].index\n",
    "df_kt.iloc[idx,2] = '100000000'\n",
    "\n",
    "elapsed_time = time.time() - start\n",
    "print(f'elapsed_time : {elapsed_time}')"
   ]
  },
  {
   "cell_type": "code",
   "execution_count": 48,
   "id": "7eb4ecbe-8e6b-457b-9e1e-a928471191fe",
   "metadata": {},
   "outputs": [],
   "source": [
    "# 제외 업종 삭제\n",
    "list_ = ['A03', 'A10', 'B01', 'B03', 'B12', 'B13', 'B17', 'B20', 'B21', 'C01']"
   ]
  },
  {
   "cell_type": "code",
   "execution_count": 49,
   "id": "e6c6beec-3dfd-4b48-a8b8-e9234105ed7e",
   "metadata": {
    "tags": []
   },
   "outputs": [
    {
     "name": "stdout",
     "output_type": "stream",
     "text": [
      "elapsed_time : 0.006770133972167969\n"
     ]
    }
   ],
   "source": [
    "df_kt = df_kt[~df_kt['업종코드'].isin(list_)]"
   ]
  },
  {
   "cell_type": "code",
   "execution_count": 91,
   "id": "3dae0d18-d4b4-4f2f-b300-9af601cc9288",
   "metadata": {},
   "outputs": [
    {
     "data": {
      "text/plain": [
       "1366887.0"
      ]
     },
     "execution_count": 91,
     "metadata": {},
     "output_type": "execute_result"
    }
   ],
   "source": [
    "# 삭제 확인\n",
    "len(df_kt['업종코드'])/33"
   ]
  },
  {
   "cell_type": "code",
   "execution_count": 92,
   "id": "480626f4-9fb8-491c-8617-da0b729ce181",
   "metadata": {},
   "outputs": [],
   "source": [
    "df_kt.to_csv('./df_kt_예상매출액_수정본.csv')"
   ]
  },
  {
   "cell_type": "markdown",
   "id": "522ed57f-8563-417a-a287-836b4f8c236f",
   "metadata": {
    "tags": []
   },
   "source": [
    "### 값 추출"
   ]
  },
  {
   "cell_type": "code",
   "execution_count": 93,
   "id": "bf211dc3-f509-450c-ae2d-9a6d3a44dd1f",
   "metadata": {},
   "outputs": [
    {
     "data": {
      "text/html": [
       "<div>\n",
       "<style scoped>\n",
       "    .dataframe tbody tr th:only-of-type {\n",
       "        vertical-align: middle;\n",
       "    }\n",
       "\n",
       "    .dataframe tbody tr th {\n",
       "        vertical-align: top;\n",
       "    }\n",
       "\n",
       "    .dataframe thead th {\n",
       "        text-align: right;\n",
       "    }\n",
       "</style>\n",
       "<table border=\"1\" class=\"dataframe\">\n",
       "  <thead>\n",
       "    <tr style=\"text-align: right;\">\n",
       "      <th></th>\n",
       "      <th>건물관리번호</th>\n",
       "      <th>업종코드</th>\n",
       "      <th>예상매출액</th>\n",
       "    </tr>\n",
       "  </thead>\n",
       "  <tbody>\n",
       "    <tr>\n",
       "      <th>47362773</th>\n",
       "      <td>5013032026119420001000001</td>\n",
       "      <td>A04</td>\n",
       "      <td>34862315.19</td>\n",
       "    </tr>\n",
       "    <tr>\n",
       "      <th>47362780</th>\n",
       "      <td>5013032026119420001000001</td>\n",
       "      <td>B19</td>\n",
       "      <td>33172325.17</td>\n",
       "    </tr>\n",
       "    <tr>\n",
       "      <th>47362768</th>\n",
       "      <td>5013032026119420001000001</td>\n",
       "      <td>C04</td>\n",
       "      <td>26536268.50</td>\n",
       "    </tr>\n",
       "    <tr>\n",
       "      <th>47362766</th>\n",
       "      <td>5013032026119420001000001</td>\n",
       "      <td>A11</td>\n",
       "      <td>19667134.53</td>\n",
       "    </tr>\n",
       "    <tr>\n",
       "      <th>47338316</th>\n",
       "      <td>5013032026119420001000001</td>\n",
       "      <td>A02</td>\n",
       "      <td>19616291.27</td>\n",
       "    </tr>\n",
       "    <tr>\n",
       "      <th>...</th>\n",
       "      <td>...</td>\n",
       "      <td>...</td>\n",
       "      <td>...</td>\n",
       "    </tr>\n",
       "    <tr>\n",
       "      <th>32616844</th>\n",
       "      <td>1111010100100010000030844</td>\n",
       "      <td>C03</td>\n",
       "      <td>5680882.66</td>\n",
       "    </tr>\n",
       "    <tr>\n",
       "      <th>32616849</th>\n",
       "      <td>1111010100100010000030844</td>\n",
       "      <td>B14</td>\n",
       "      <td>3712487.19</td>\n",
       "    </tr>\n",
       "    <tr>\n",
       "      <th>32618355</th>\n",
       "      <td>1111010100100010000030844</td>\n",
       "      <td>B02</td>\n",
       "      <td>1471112.23</td>\n",
       "    </tr>\n",
       "    <tr>\n",
       "      <th>32616830</th>\n",
       "      <td>1111010100100010000030844</td>\n",
       "      <td>B08</td>\n",
       "      <td>1000000.00</td>\n",
       "    </tr>\n",
       "    <tr>\n",
       "      <th>32616833</th>\n",
       "      <td>1111010100100010000030844</td>\n",
       "      <td>C07</td>\n",
       "      <td>1000000.00</td>\n",
       "    </tr>\n",
       "  </tbody>\n",
       "</table>\n",
       "<p>45107271 rows × 3 columns</p>\n",
       "</div>"
      ],
      "text/plain": [
       "                             건물관리번호 업종코드        예상매출액\n",
       "47362773  5013032026119420001000001  A04  34862315.19\n",
       "47362780  5013032026119420001000001  B19  33172325.17\n",
       "47362768  5013032026119420001000001  C04  26536268.50\n",
       "47362766  5013032026119420001000001  A11  19667134.53\n",
       "47338316  5013032026119420001000001  A02  19616291.27\n",
       "...                             ...  ...          ...\n",
       "32616844  1111010100100010000030844  C03   5680882.66\n",
       "32616849  1111010100100010000030844  B14   3712487.19\n",
       "32618355  1111010100100010000030844  B02   1471112.23\n",
       "32616830  1111010100100010000030844  B08   1000000.00\n",
       "32616833  1111010100100010000030844  C07   1000000.00\n",
       "\n",
       "[45107271 rows x 3 columns]"
      ]
     },
     "execution_count": 93,
     "metadata": {},
     "output_type": "execute_result"
    }
   ],
   "source": [
    "# 0. sort_values > groupby > head\n",
    "df_kt_ = df_kt.sort_values(by=['건물관리번호','예상매출액'], ascending=False)\n",
    "df_kt_"
   ]
  },
  {
   "cell_type": "code",
   "execution_count": 94,
   "id": "ab59e514-ac71-497c-9f64-669cd186a6b1",
   "metadata": {},
   "outputs": [],
   "source": [
    "df_kt_ = df_kt_.groupby(['건물관리번호']).head(3)"
   ]
  },
  {
   "cell_type": "code",
   "execution_count": 95,
   "id": "8f2554d9-635e-4109-9d5c-296a2e440ba9",
   "metadata": {},
   "outputs": [
    {
     "data": {
      "text/html": [
       "<div>\n",
       "<style scoped>\n",
       "    .dataframe tbody tr th:only-of-type {\n",
       "        vertical-align: middle;\n",
       "    }\n",
       "\n",
       "    .dataframe tbody tr th {\n",
       "        vertical-align: top;\n",
       "    }\n",
       "\n",
       "    .dataframe thead th {\n",
       "        text-align: right;\n",
       "    }\n",
       "</style>\n",
       "<table border=\"1\" class=\"dataframe\">\n",
       "  <thead>\n",
       "    <tr style=\"text-align: right;\">\n",
       "      <th></th>\n",
       "      <th>건물관리번호</th>\n",
       "      <th>업종코드</th>\n",
       "      <th>예상매출액</th>\n",
       "    </tr>\n",
       "  </thead>\n",
       "  <tbody>\n",
       "    <tr>\n",
       "      <th>47362773</th>\n",
       "      <td>5013032026119420001000001</td>\n",
       "      <td>A04</td>\n",
       "      <td>34862315.19</td>\n",
       "    </tr>\n",
       "    <tr>\n",
       "      <th>47362780</th>\n",
       "      <td>5013032026119420001000001</td>\n",
       "      <td>B19</td>\n",
       "      <td>33172325.17</td>\n",
       "    </tr>\n",
       "    <tr>\n",
       "      <th>47362768</th>\n",
       "      <td>5013032026119420001000001</td>\n",
       "      <td>C04</td>\n",
       "      <td>26536268.50</td>\n",
       "    </tr>\n",
       "    <tr>\n",
       "      <th>12108610</th>\n",
       "      <td>5013032026117900000000003</td>\n",
       "      <td>B08</td>\n",
       "      <td>45081262.26</td>\n",
       "    </tr>\n",
       "    <tr>\n",
       "      <th>12107081</th>\n",
       "      <td>5013032026117900000000003</td>\n",
       "      <td>A04</td>\n",
       "      <td>44926938.52</td>\n",
       "    </tr>\n",
       "    <tr>\n",
       "      <th>...</th>\n",
       "      <td>...</td>\n",
       "      <td>...</td>\n",
       "      <td>...</td>\n",
       "    </tr>\n",
       "    <tr>\n",
       "      <th>27063647</th>\n",
       "      <td>1111010100100030065030970</td>\n",
       "      <td>C06</td>\n",
       "      <td>63355986.00</td>\n",
       "    </tr>\n",
       "    <tr>\n",
       "      <th>27063631</th>\n",
       "      <td>1111010100100030065030970</td>\n",
       "      <td>A01</td>\n",
       "      <td>36687660.44</td>\n",
       "    </tr>\n",
       "    <tr>\n",
       "      <th>32616841</th>\n",
       "      <td>1111010100100010000030844</td>\n",
       "      <td>C06</td>\n",
       "      <td>70822503.46</td>\n",
       "    </tr>\n",
       "    <tr>\n",
       "      <th>32616831</th>\n",
       "      <td>1111010100100010000030844</td>\n",
       "      <td>B19</td>\n",
       "      <td>56420288.45</td>\n",
       "    </tr>\n",
       "    <tr>\n",
       "      <th>32616847</th>\n",
       "      <td>1111010100100010000030844</td>\n",
       "      <td>A11</td>\n",
       "      <td>49473366.48</td>\n",
       "    </tr>\n",
       "  </tbody>\n",
       "</table>\n",
       "<p>4100661 rows × 3 columns</p>\n",
       "</div>"
      ],
      "text/plain": [
       "                             건물관리번호 업종코드        예상매출액\n",
       "47362773  5013032026119420001000001  A04  34862315.19\n",
       "47362780  5013032026119420001000001  B19  33172325.17\n",
       "47362768  5013032026119420001000001  C04  26536268.50\n",
       "12108610  5013032026117900000000003  B08  45081262.26\n",
       "12107081  5013032026117900000000003  A04  44926938.52\n",
       "...                             ...  ...          ...\n",
       "27063647  1111010100100030065030970  C06  63355986.00\n",
       "27063631  1111010100100030065030970  A01  36687660.44\n",
       "32616841  1111010100100010000030844  C06  70822503.46\n",
       "32616831  1111010100100010000030844  B19  56420288.45\n",
       "32616847  1111010100100010000030844  A11  49473366.48\n",
       "\n",
       "[4100661 rows x 3 columns]"
      ]
     },
     "execution_count": 95,
     "metadata": {},
     "output_type": "execute_result"
    }
   ],
   "source": [
    "df_kt_"
   ]
  },
  {
   "cell_type": "code",
   "execution_count": 100,
   "id": "f8836103-099a-4e42-88ec-ea04364abaf2",
   "metadata": {},
   "outputs": [],
   "source": [
    "df_kt_.to_csv('./df_kt_Top3.csv', index=False, encoding='utf-8-sig')"
   ]
  },
  {
   "cell_type": "code",
   "execution_count": 101,
   "id": "64d9686b-4eb5-4362-a0d4-1eac109672ca",
   "metadata": {},
   "outputs": [],
   "source": [
    "df = pd.read_csv('./df_kt_Top3.csv')"
   ]
  },
  {
   "cell_type": "code",
   "execution_count": 102,
   "id": "51556206-5f0e-43d0-9b92-7da907fb1b9b",
   "metadata": {},
   "outputs": [
    {
     "data": {
      "text/html": [
       "<div>\n",
       "<style scoped>\n",
       "    .dataframe tbody tr th:only-of-type {\n",
       "        vertical-align: middle;\n",
       "    }\n",
       "\n",
       "    .dataframe tbody tr th {\n",
       "        vertical-align: top;\n",
       "    }\n",
       "\n",
       "    .dataframe thead th {\n",
       "        text-align: right;\n",
       "    }\n",
       "</style>\n",
       "<table border=\"1\" class=\"dataframe\">\n",
       "  <thead>\n",
       "    <tr style=\"text-align: right;\">\n",
       "      <th></th>\n",
       "      <th>건물관리번호</th>\n",
       "      <th>업종코드</th>\n",
       "      <th>예상매출액</th>\n",
       "    </tr>\n",
       "  </thead>\n",
       "  <tbody>\n",
       "    <tr>\n",
       "      <th>0</th>\n",
       "      <td>5013032026119420001000001</td>\n",
       "      <td>A04</td>\n",
       "      <td>34862315.19</td>\n",
       "    </tr>\n",
       "    <tr>\n",
       "      <th>1</th>\n",
       "      <td>5013032026119420001000001</td>\n",
       "      <td>B19</td>\n",
       "      <td>33172325.17</td>\n",
       "    </tr>\n",
       "    <tr>\n",
       "      <th>2</th>\n",
       "      <td>5013032026119420001000001</td>\n",
       "      <td>C04</td>\n",
       "      <td>26536268.50</td>\n",
       "    </tr>\n",
       "    <tr>\n",
       "      <th>3</th>\n",
       "      <td>5013032026117900000000003</td>\n",
       "      <td>B08</td>\n",
       "      <td>45081262.26</td>\n",
       "    </tr>\n",
       "    <tr>\n",
       "      <th>4</th>\n",
       "      <td>5013032026117900000000003</td>\n",
       "      <td>A04</td>\n",
       "      <td>44926938.52</td>\n",
       "    </tr>\n",
       "    <tr>\n",
       "      <th>...</th>\n",
       "      <td>...</td>\n",
       "      <td>...</td>\n",
       "      <td>...</td>\n",
       "    </tr>\n",
       "    <tr>\n",
       "      <th>4100656</th>\n",
       "      <td>1111010100100030065030970</td>\n",
       "      <td>C06</td>\n",
       "      <td>63355986.00</td>\n",
       "    </tr>\n",
       "    <tr>\n",
       "      <th>4100657</th>\n",
       "      <td>1111010100100030065030970</td>\n",
       "      <td>A01</td>\n",
       "      <td>36687660.44</td>\n",
       "    </tr>\n",
       "    <tr>\n",
       "      <th>4100658</th>\n",
       "      <td>1111010100100010000030844</td>\n",
       "      <td>C06</td>\n",
       "      <td>70822503.46</td>\n",
       "    </tr>\n",
       "    <tr>\n",
       "      <th>4100659</th>\n",
       "      <td>1111010100100010000030844</td>\n",
       "      <td>B19</td>\n",
       "      <td>56420288.45</td>\n",
       "    </tr>\n",
       "    <tr>\n",
       "      <th>4100660</th>\n",
       "      <td>1111010100100010000030844</td>\n",
       "      <td>A11</td>\n",
       "      <td>49473366.48</td>\n",
       "    </tr>\n",
       "  </tbody>\n",
       "</table>\n",
       "<p>4100661 rows × 3 columns</p>\n",
       "</div>"
      ],
      "text/plain": [
       "                            건물관리번호 업종코드        예상매출액\n",
       "0        5013032026119420001000001  A04  34862315.19\n",
       "1        5013032026119420001000001  B19  33172325.17\n",
       "2        5013032026119420001000001  C04  26536268.50\n",
       "3        5013032026117900000000003  B08  45081262.26\n",
       "4        5013032026117900000000003  A04  44926938.52\n",
       "...                            ...  ...          ...\n",
       "4100656  1111010100100030065030970  C06  63355986.00\n",
       "4100657  1111010100100030065030970  A01  36687660.44\n",
       "4100658  1111010100100010000030844  C06  70822503.46\n",
       "4100659  1111010100100010000030844  B19  56420288.45\n",
       "4100660  1111010100100010000030844  A11  49473366.48\n",
       "\n",
       "[4100661 rows x 3 columns]"
      ]
     },
     "execution_count": 102,
     "metadata": {},
     "output_type": "execute_result"
    }
   ],
   "source": [
    "df"
   ]
  },
  {
   "cell_type": "code",
   "execution_count": 35,
   "id": "837c4ac7-5cac-405a-8e28-9746d78a64dd",
   "metadata": {},
   "outputs": [],
   "source": [
    "# 1. groupby 조건 두 개 주기 -> 그룹바이하면 인덱스 순서로 묶이기 때문에, 그 전에 정렬한 대로 묶이지 않음\n",
    "df_kt_group = df_kt.groupby(['건물관리번호', '업종코드']).sum('예상매출액')"
   ]
  },
  {
   "cell_type": "code",
   "execution_count": 103,
   "id": "44e36709-05b7-4fe6-ba1b-312819bdce26",
   "metadata": {},
   "outputs": [
    {
     "data": {
      "text/html": [
       "<div>\n",
       "<style scoped>\n",
       "    .dataframe tbody tr th:only-of-type {\n",
       "        vertical-align: middle;\n",
       "    }\n",
       "\n",
       "    .dataframe tbody tr th {\n",
       "        vertical-align: top;\n",
       "    }\n",
       "\n",
       "    .dataframe thead th {\n",
       "        text-align: right;\n",
       "    }\n",
       "</style>\n",
       "<table border=\"1\" class=\"dataframe\">\n",
       "  <thead>\n",
       "    <tr style=\"text-align: right;\">\n",
       "      <th></th>\n",
       "      <th>건물관리번호</th>\n",
       "      <th>업종코드</th>\n",
       "      <th>예상매출액</th>\n",
       "    </tr>\n",
       "  </thead>\n",
       "  <tbody>\n",
       "    <tr>\n",
       "      <th>0</th>\n",
       "      <td>1111010100100010000030844</td>\n",
       "      <td>A01</td>\n",
       "      <td>28838829.92</td>\n",
       "    </tr>\n",
       "    <tr>\n",
       "      <th>1</th>\n",
       "      <td>1111010100100010000030844</td>\n",
       "      <td>A02</td>\n",
       "      <td>32194237.70</td>\n",
       "    </tr>\n",
       "    <tr>\n",
       "      <th>2</th>\n",
       "      <td>1111010100100010000030844</td>\n",
       "      <td>A04</td>\n",
       "      <td>11940900.28</td>\n",
       "    </tr>\n",
       "    <tr>\n",
       "      <th>3</th>\n",
       "      <td>1111010100100010000030844</td>\n",
       "      <td>A05</td>\n",
       "      <td>43223687.05</td>\n",
       "    </tr>\n",
       "    <tr>\n",
       "      <th>4</th>\n",
       "      <td>1111010100100010000030844</td>\n",
       "      <td>A06</td>\n",
       "      <td>26287068.16</td>\n",
       "    </tr>\n",
       "    <tr>\n",
       "      <th>...</th>\n",
       "      <td>...</td>\n",
       "      <td>...</td>\n",
       "      <td>...</td>\n",
       "    </tr>\n",
       "    <tr>\n",
       "      <th>45107266</th>\n",
       "      <td>5013032026119420001000001</td>\n",
       "      <td>C03</td>\n",
       "      <td>3961296.20</td>\n",
       "    </tr>\n",
       "    <tr>\n",
       "      <th>45107267</th>\n",
       "      <td>5013032026119420001000001</td>\n",
       "      <td>C04</td>\n",
       "      <td>26536268.50</td>\n",
       "    </tr>\n",
       "    <tr>\n",
       "      <th>45107268</th>\n",
       "      <td>5013032026119420001000001</td>\n",
       "      <td>C05</td>\n",
       "      <td>6052737.21</td>\n",
       "    </tr>\n",
       "    <tr>\n",
       "      <th>45107269</th>\n",
       "      <td>5013032026119420001000001</td>\n",
       "      <td>C06</td>\n",
       "      <td>11137264.96</td>\n",
       "    </tr>\n",
       "    <tr>\n",
       "      <th>45107270</th>\n",
       "      <td>5013032026119420001000001</td>\n",
       "      <td>C07</td>\n",
       "      <td>17710573.65</td>\n",
       "    </tr>\n",
       "  </tbody>\n",
       "</table>\n",
       "<p>45107271 rows × 3 columns</p>\n",
       "</div>"
      ],
      "text/plain": [
       "                             건물관리번호 업종코드        예상매출액\n",
       "0         1111010100100010000030844  A01  28838829.92\n",
       "1         1111010100100010000030844  A02  32194237.70\n",
       "2         1111010100100010000030844  A04  11940900.28\n",
       "3         1111010100100010000030844  A05  43223687.05\n",
       "4         1111010100100010000030844  A06  26287068.16\n",
       "...                             ...  ...          ...\n",
       "45107266  5013032026119420001000001  C03   3961296.20\n",
       "45107267  5013032026119420001000001  C04  26536268.50\n",
       "45107268  5013032026119420001000001  C05   6052737.21\n",
       "45107269  5013032026119420001000001  C06  11137264.96\n",
       "45107270  5013032026119420001000001  C07  17710573.65\n",
       "\n",
       "[45107271 rows x 3 columns]"
      ]
     },
     "execution_count": 103,
     "metadata": {},
     "output_type": "execute_result"
    }
   ],
   "source": [
    "df_kt_group.reset_index()"
   ]
  },
  {
   "cell_type": "code",
   "execution_count": 49,
   "id": "f6fc6127-0262-4c83-9e82-6ce6d67314c8",
   "metadata": {},
   "outputs": [],
   "source": [
    "# 2. 매출 상위 정렬\n",
    "df_kt_sort = df_kt_group.sort_values(by='예상매출액', ascending=False)"
   ]
  },
  {
   "cell_type": "code",
   "execution_count": 50,
   "id": "fdc82815-169b-4eee-8fb0-90721acada63",
   "metadata": {},
   "outputs": [
    {
     "data": {
      "text/html": [
       "<div>\n",
       "<style scoped>\n",
       "    .dataframe tbody tr th:only-of-type {\n",
       "        vertical-align: middle;\n",
       "    }\n",
       "\n",
       "    .dataframe tbody tr th {\n",
       "        vertical-align: top;\n",
       "    }\n",
       "\n",
       "    .dataframe thead th {\n",
       "        text-align: right;\n",
       "    }\n",
       "</style>\n",
       "<table border=\"1\" class=\"dataframe\">\n",
       "  <thead>\n",
       "    <tr style=\"text-align: right;\">\n",
       "      <th></th>\n",
       "      <th></th>\n",
       "      <th>예상매출액</th>\n",
       "    </tr>\n",
       "    <tr>\n",
       "      <th>건물관리번호</th>\n",
       "      <th>업종코드</th>\n",
       "      <th></th>\n",
       "    </tr>\n",
       "  </thead>\n",
       "  <tbody>\n",
       "    <tr>\n",
       "      <th>1174010100100470012018747</th>\n",
       "      <th>B09</th>\n",
       "      <td>100000000.0</td>\n",
       "    </tr>\n",
       "    <tr>\n",
       "      <th>1138010400103940018034166</th>\n",
       "      <th>C07</th>\n",
       "      <td>100000000.0</td>\n",
       "    </tr>\n",
       "    <tr>\n",
       "      <th>4513013500105030011026758</th>\n",
       "      <th>A05</th>\n",
       "      <td>100000000.0</td>\n",
       "    </tr>\n",
       "    <tr>\n",
       "      <th>1165010800116570006023466</th>\n",
       "      <th>A13</th>\n",
       "      <td>100000000.0</td>\n",
       "    </tr>\n",
       "    <tr>\n",
       "      <th>2671031030101000002013067</th>\n",
       "      <th>C02</th>\n",
       "      <td>100000000.0</td>\n",
       "    </tr>\n",
       "    <tr>\n",
       "      <th>...</th>\n",
       "      <th>...</th>\n",
       "      <td>...</td>\n",
       "    </tr>\n",
       "    <tr>\n",
       "      <th>4790025021100740005043191</th>\n",
       "      <th>B07</th>\n",
       "      <td>1000000.0</td>\n",
       "    </tr>\n",
       "    <tr>\n",
       "      <th>2717010300115420011020711</th>\n",
       "      <th>B02</th>\n",
       "      <td>1000000.0</td>\n",
       "    </tr>\n",
       "    <tr>\n",
       "      <th>1153010200100290011019374</th>\n",
       "      <th>B06</th>\n",
       "      <td>1000000.0</td>\n",
       "    </tr>\n",
       "    <tr>\n",
       "      <th>4148025021100400006015910</th>\n",
       "      <th>B10</th>\n",
       "      <td>1000000.0</td>\n",
       "    </tr>\n",
       "    <tr>\n",
       "      <th>4729011100101300009008038</th>\n",
       "      <th>A13</th>\n",
       "      <td>1000000.0</td>\n",
       "    </tr>\n",
       "  </tbody>\n",
       "</table>\n",
       "<p>45107271 rows × 1 columns</p>\n",
       "</div>"
      ],
      "text/plain": [
       "                                      예상매출액\n",
       "건물관리번호                    업종코드             \n",
       "1174010100100470012018747 B09   100000000.0\n",
       "1138010400103940018034166 C07   100000000.0\n",
       "4513013500105030011026758 A05   100000000.0\n",
       "1165010800116570006023466 A13   100000000.0\n",
       "2671031030101000002013067 C02   100000000.0\n",
       "...                                     ...\n",
       "4790025021100740005043191 B07     1000000.0\n",
       "2717010300115420011020711 B02     1000000.0\n",
       "1153010200100290011019374 B06     1000000.0\n",
       "4148025021100400006015910 B10     1000000.0\n",
       "4729011100101300009008038 A13     1000000.0\n",
       "\n",
       "[45107271 rows x 1 columns]"
      ]
     },
     "execution_count": 50,
     "metadata": {},
     "output_type": "execute_result"
    }
   ],
   "source": [
    "df_kt_sort"
   ]
  },
  {
   "cell_type": "code",
   "execution_count": 51,
   "id": "35a2a662-526a-4dee-8156-1f7b9d0e686a",
   "metadata": {},
   "outputs": [],
   "source": [
    "df_kt_head = df_kt_sort.groupby(['건물관리번호','업종코드']).head(3)"
   ]
  },
  {
   "cell_type": "code",
   "execution_count": 52,
   "id": "c584ff5d-8e01-4344-a0cb-cbd11ee7501d",
   "metadata": {},
   "outputs": [
    {
     "data": {
      "text/html": [
       "<div>\n",
       "<style scoped>\n",
       "    .dataframe tbody tr th:only-of-type {\n",
       "        vertical-align: middle;\n",
       "    }\n",
       "\n",
       "    .dataframe tbody tr th {\n",
       "        vertical-align: top;\n",
       "    }\n",
       "\n",
       "    .dataframe thead th {\n",
       "        text-align: right;\n",
       "    }\n",
       "</style>\n",
       "<table border=\"1\" class=\"dataframe\">\n",
       "  <thead>\n",
       "    <tr style=\"text-align: right;\">\n",
       "      <th></th>\n",
       "      <th></th>\n",
       "      <th>예상매출액</th>\n",
       "    </tr>\n",
       "    <tr>\n",
       "      <th>건물관리번호</th>\n",
       "      <th>업종코드</th>\n",
       "      <th></th>\n",
       "    </tr>\n",
       "  </thead>\n",
       "  <tbody>\n",
       "    <tr>\n",
       "      <th>1174010100100470012018747</th>\n",
       "      <th>B09</th>\n",
       "      <td>100000000.0</td>\n",
       "    </tr>\n",
       "    <tr>\n",
       "      <th>1138010400103940018034166</th>\n",
       "      <th>C07</th>\n",
       "      <td>100000000.0</td>\n",
       "    </tr>\n",
       "    <tr>\n",
       "      <th>4513013500105030011026758</th>\n",
       "      <th>A05</th>\n",
       "      <td>100000000.0</td>\n",
       "    </tr>\n",
       "    <tr>\n",
       "      <th>1165010800116570006023466</th>\n",
       "      <th>A13</th>\n",
       "      <td>100000000.0</td>\n",
       "    </tr>\n",
       "    <tr>\n",
       "      <th>2671031030101000002013067</th>\n",
       "      <th>C02</th>\n",
       "      <td>100000000.0</td>\n",
       "    </tr>\n",
       "    <tr>\n",
       "      <th>...</th>\n",
       "      <th>...</th>\n",
       "      <td>...</td>\n",
       "    </tr>\n",
       "    <tr>\n",
       "      <th>4790025021100740005043191</th>\n",
       "      <th>B07</th>\n",
       "      <td>1000000.0</td>\n",
       "    </tr>\n",
       "    <tr>\n",
       "      <th>2717010300115420011020711</th>\n",
       "      <th>B02</th>\n",
       "      <td>1000000.0</td>\n",
       "    </tr>\n",
       "    <tr>\n",
       "      <th>1153010200100290011019374</th>\n",
       "      <th>B06</th>\n",
       "      <td>1000000.0</td>\n",
       "    </tr>\n",
       "    <tr>\n",
       "      <th>4148025021100400006015910</th>\n",
       "      <th>B10</th>\n",
       "      <td>1000000.0</td>\n",
       "    </tr>\n",
       "    <tr>\n",
       "      <th>4729011100101300009008038</th>\n",
       "      <th>A13</th>\n",
       "      <td>1000000.0</td>\n",
       "    </tr>\n",
       "  </tbody>\n",
       "</table>\n",
       "<p>45107271 rows × 1 columns</p>\n",
       "</div>"
      ],
      "text/plain": [
       "                                      예상매출액\n",
       "건물관리번호                    업종코드             \n",
       "1174010100100470012018747 B09   100000000.0\n",
       "1138010400103940018034166 C07   100000000.0\n",
       "4513013500105030011026758 A05   100000000.0\n",
       "1165010800116570006023466 A13   100000000.0\n",
       "2671031030101000002013067 C02   100000000.0\n",
       "...                                     ...\n",
       "4790025021100740005043191 B07     1000000.0\n",
       "2717010300115420011020711 B02     1000000.0\n",
       "1153010200100290011019374 B06     1000000.0\n",
       "4148025021100400006015910 B10     1000000.0\n",
       "4729011100101300009008038 A13     1000000.0\n",
       "\n",
       "[45107271 rows x 1 columns]"
      ]
     },
     "execution_count": 52,
     "metadata": {},
     "output_type": "execute_result"
    }
   ],
   "source": [
    "df_kt_head"
   ]
  },
  {
   "cell_type": "code",
   "execution_count": 53,
   "id": "e19dc454-c5ab-4a84-8e74-9c84c1fda07f",
   "metadata": {},
   "outputs": [
    {
     "data": {
      "text/html": [
       "<div>\n",
       "<style scoped>\n",
       "    .dataframe tbody tr th:only-of-type {\n",
       "        vertical-align: middle;\n",
       "    }\n",
       "\n",
       "    .dataframe tbody tr th {\n",
       "        vertical-align: top;\n",
       "    }\n",
       "\n",
       "    .dataframe thead th {\n",
       "        text-align: right;\n",
       "    }\n",
       "</style>\n",
       "<table border=\"1\" class=\"dataframe\">\n",
       "  <thead>\n",
       "    <tr style=\"text-align: right;\">\n",
       "      <th></th>\n",
       "      <th></th>\n",
       "      <th>예상매출액</th>\n",
       "    </tr>\n",
       "    <tr>\n",
       "      <th>건물관리번호</th>\n",
       "      <th>업종코드</th>\n",
       "      <th></th>\n",
       "    </tr>\n",
       "  </thead>\n",
       "  <tbody>\n",
       "    <tr>\n",
       "      <th rowspan=\"5\" valign=\"top\">1111010100100010000030844</th>\n",
       "      <th>A01</th>\n",
       "      <td>28838829.92</td>\n",
       "    </tr>\n",
       "    <tr>\n",
       "      <th>A02</th>\n",
       "      <td>32194237.70</td>\n",
       "    </tr>\n",
       "    <tr>\n",
       "      <th>A04</th>\n",
       "      <td>11940900.28</td>\n",
       "    </tr>\n",
       "    <tr>\n",
       "      <th>A05</th>\n",
       "      <td>43223687.05</td>\n",
       "    </tr>\n",
       "    <tr>\n",
       "      <th>A06</th>\n",
       "      <td>26287068.16</td>\n",
       "    </tr>\n",
       "    <tr>\n",
       "      <th>...</th>\n",
       "      <th>...</th>\n",
       "      <td>...</td>\n",
       "    </tr>\n",
       "    <tr>\n",
       "      <th rowspan=\"5\" valign=\"top\">5013032026119420001000001</th>\n",
       "      <th>C03</th>\n",
       "      <td>3961296.20</td>\n",
       "    </tr>\n",
       "    <tr>\n",
       "      <th>C04</th>\n",
       "      <td>26536268.50</td>\n",
       "    </tr>\n",
       "    <tr>\n",
       "      <th>C05</th>\n",
       "      <td>6052737.21</td>\n",
       "    </tr>\n",
       "    <tr>\n",
       "      <th>C06</th>\n",
       "      <td>11137264.96</td>\n",
       "    </tr>\n",
       "    <tr>\n",
       "      <th>C07</th>\n",
       "      <td>17710573.65</td>\n",
       "    </tr>\n",
       "  </tbody>\n",
       "</table>\n",
       "<p>45107271 rows × 1 columns</p>\n",
       "</div>"
      ],
      "text/plain": [
       "                                      예상매출액\n",
       "건물관리번호                    업종코드             \n",
       "1111010100100010000030844 A01   28838829.92\n",
       "                          A02   32194237.70\n",
       "                          A04   11940900.28\n",
       "                          A05   43223687.05\n",
       "                          A06   26287068.16\n",
       "...                                     ...\n",
       "5013032026119420001000001 C03    3961296.20\n",
       "                          C04   26536268.50\n",
       "                          C05    6052737.21\n",
       "                          C06   11137264.96\n",
       "                          C07   17710573.65\n",
       "\n",
       "[45107271 rows x 1 columns]"
      ]
     },
     "execution_count": 53,
     "metadata": {},
     "output_type": "execute_result"
    }
   ],
   "source": [
    "df_kt_head.groupby(['건물관리번호','업종코드']).sum('예상매출액')"
   ]
  },
  {
   "cell_type": "code",
   "execution_count": 37,
   "id": "7e1ce630-022b-47a7-80d5-d5201df7db8e",
   "metadata": {},
   "outputs": [
    {
     "data": {
      "text/html": [
       "<div>\n",
       "<style scoped>\n",
       "    .dataframe tbody tr th:only-of-type {\n",
       "        vertical-align: middle;\n",
       "    }\n",
       "\n",
       "    .dataframe tbody tr th {\n",
       "        vertical-align: top;\n",
       "    }\n",
       "\n",
       "    .dataframe thead th {\n",
       "        text-align: right;\n",
       "    }\n",
       "</style>\n",
       "<table border=\"1\" class=\"dataframe\">\n",
       "  <thead>\n",
       "    <tr style=\"text-align: right;\">\n",
       "      <th></th>\n",
       "      <th>예상매출액</th>\n",
       "    </tr>\n",
       "    <tr>\n",
       "      <th>업종코드</th>\n",
       "      <th></th>\n",
       "    </tr>\n",
       "  </thead>\n",
       "  <tbody>\n",
       "    <tr>\n",
       "      <th>C06</th>\n",
       "      <td>89613368.94</td>\n",
       "    </tr>\n",
       "    <tr>\n",
       "      <th>B08</th>\n",
       "      <td>89302638.86</td>\n",
       "    </tr>\n",
       "    <tr>\n",
       "      <th>B11</th>\n",
       "      <td>77869598.19</td>\n",
       "    </tr>\n",
       "  </tbody>\n",
       "</table>\n",
       "</div>"
      ],
      "text/plain": [
       "            예상매출액\n",
       "업종코드             \n",
       "C06   89613368.94\n",
       "B08   89302638.86\n",
       "B11   77869598.19"
      ]
     },
     "execution_count": 37,
     "metadata": {},
     "output_type": "execute_result"
    }
   ],
   "source": [
    "# 한 건물의 매출 상위 업종 3순위\n",
    "df_kt_sort.loc['4159012700102710000000003'].astype(float).sort_values('예상매출액', ascending=False)[:3]"
   ]
  },
  {
   "cell_type": "code",
   "execution_count": null,
   "id": "87ca9a85-85e9-4c0f-b380-d53c56a2bec4",
   "metadata": {},
   "outputs": [],
   "source": [
    "# 뽑은 값 담기 -> 너무 오래걸림 -> 값 정리 후 다시 시도 -> 시간 확인\n",
    "index_ = []\n",
    "list_  = []\n",
    "code   = []\n",
    "\n",
    "for i in tqdm(range(len(df_kt_sort.index))):\n",
    "    index_.append(df_kt_sort.index[i][0])\n",
    "    list_.append(df_kt_sort.loc[df_kt_sort.index[i][0]].astype(float).sort_values('예상매출액', ascending=False)[:3])\n",
    "    code.append(df_kt_sort.loc[df_kt_sort.index[0][0]].astype(float).sort_values('예상매출액', ascending=False)[:3].index)"
   ]
  },
  {
   "cell_type": "code",
   "execution_count": null,
   "id": "b689a866-e6be-4acb-9ff4-941f79b8d2d2",
   "metadata": {},
   "outputs": [],
   "source": [
    "# 결과만 한 데이터 프레임에 담기\n",
    "a = pd.DataFrame({\n",
    "    '건물번호':index_\n",
    "    ,'3순위':list_\n",
    "    ,'업종':code\n",
    "})"
   ]
  },
  {
   "cell_type": "code",
   "execution_count": 120,
   "id": "c3c205b4-e79a-44cd-9041-c4f4478c322e",
   "metadata": {},
   "outputs": [],
   "source": [
    "df_groupby = df_kt.groupby(by=['건물관리번호','업종코드']).sum('예상매출액')"
   ]
  },
  {
   "cell_type": "code",
   "execution_count": 119,
   "id": "e66e76e4-c17a-4e64-a8ca-5432f94efc9b",
   "metadata": {},
   "outputs": [
    {
     "data": {
      "text/plain": [
       "100만원 미만       9894526\n",
       "1억원 초과          884833\n",
       "5384990.10       69271\n",
       "9369407.39       61588\n",
       "3728854.73        6714\n",
       "                ...   \n",
       "5266400.70           1\n",
       "15659430.94          1\n",
       "33652422.69          1\n",
       "12960113.77          1\n",
       "17710573.65          1\n",
       "Name: 예상매출액, Length: 42379321, dtype: int64"
      ]
     },
     "execution_count": 119,
     "metadata": {},
     "output_type": "execute_result"
    }
   ],
   "source": [
    "df_groupby['예상매출액'].value_counts()"
   ]
  },
  {
   "cell_type": "markdown",
   "id": "e5a7722e-6ece-4f32-b09d-5ea7b5b8da16",
   "metadata": {
    "jp-MarkdownHeadingCollapsed": true,
    "tags": []
   },
   "source": [
    "### 시각화"
   ]
  },
  {
   "cell_type": "code",
   "execution_count": 115,
   "id": "58729f01-cb2a-434a-ad70-8efe9e62a080",
   "metadata": {},
   "outputs": [],
   "source": [
    "import matplotlib.pyplot as plt"
   ]
  },
  {
   "cell_type": "code",
   "execution_count": 116,
   "id": "4f7f9837-8b89-475c-8b06-10225fbaa913",
   "metadata": {
    "collapsed": true,
    "jupyter": {
     "outputs_hidden": true
    },
    "tags": []
   },
   "outputs": [
    {
     "ename": "TypeError",
     "evalue": "no numeric data to plot",
     "output_type": "error",
     "traceback": [
      "\u001b[1;31m---------------------------------------------------------------------------\u001b[0m",
      "\u001b[1;31mTypeError\u001b[0m                                 Traceback (most recent call last)",
      "Input \u001b[1;32mIn [116]\u001b[0m, in \u001b[0;36m<cell line: 1>\u001b[1;34m()\u001b[0m\n\u001b[1;32m----> 1\u001b[0m \u001b[43mdf_groupby\u001b[49m\u001b[38;5;241;43m.\u001b[39;49m\u001b[43mplot\u001b[49m\u001b[43m(\u001b[49m\u001b[43mkind\u001b[49m\u001b[38;5;241;43m=\u001b[39;49m\u001b[38;5;124;43m'\u001b[39;49m\u001b[38;5;124;43mbar\u001b[39;49m\u001b[38;5;124;43m'\u001b[39;49m\u001b[43m)\u001b[49m\n\u001b[0;32m      2\u001b[0m plt\u001b[38;5;241m.\u001b[39mshow()\n",
      "File \u001b[1;32m~\\anaconda3\\envs\\oasis\\lib\\site-packages\\pandas\\plotting\\_core.py:972\u001b[0m, in \u001b[0;36mPlotAccessor.__call__\u001b[1;34m(self, *args, **kwargs)\u001b[0m\n\u001b[0;32m    969\u001b[0m             label_name \u001b[38;5;241m=\u001b[39m label_kw \u001b[38;5;129;01mor\u001b[39;00m data\u001b[38;5;241m.\u001b[39mcolumns\n\u001b[0;32m    970\u001b[0m             data\u001b[38;5;241m.\u001b[39mcolumns \u001b[38;5;241m=\u001b[39m label_name\n\u001b[1;32m--> 972\u001b[0m \u001b[38;5;28;01mreturn\u001b[39;00m \u001b[43mplot_backend\u001b[49m\u001b[38;5;241;43m.\u001b[39;49m\u001b[43mplot\u001b[49m\u001b[43m(\u001b[49m\u001b[43mdata\u001b[49m\u001b[43m,\u001b[49m\u001b[43m \u001b[49m\u001b[43mkind\u001b[49m\u001b[38;5;241;43m=\u001b[39;49m\u001b[43mkind\u001b[49m\u001b[43m,\u001b[49m\u001b[43m \u001b[49m\u001b[38;5;241;43m*\u001b[39;49m\u001b[38;5;241;43m*\u001b[39;49m\u001b[43mkwargs\u001b[49m\u001b[43m)\u001b[49m\n",
      "File \u001b[1;32m~\\anaconda3\\envs\\oasis\\lib\\site-packages\\pandas\\plotting\\_matplotlib\\__init__.py:71\u001b[0m, in \u001b[0;36mplot\u001b[1;34m(data, kind, **kwargs)\u001b[0m\n\u001b[0;32m     69\u001b[0m         kwargs[\u001b[38;5;124m\"\u001b[39m\u001b[38;5;124max\u001b[39m\u001b[38;5;124m\"\u001b[39m] \u001b[38;5;241m=\u001b[39m \u001b[38;5;28mgetattr\u001b[39m(ax, \u001b[38;5;124m\"\u001b[39m\u001b[38;5;124mleft_ax\u001b[39m\u001b[38;5;124m\"\u001b[39m, ax)\n\u001b[0;32m     70\u001b[0m plot_obj \u001b[38;5;241m=\u001b[39m PLOT_CLASSES[kind](data, \u001b[38;5;241m*\u001b[39m\u001b[38;5;241m*\u001b[39mkwargs)\n\u001b[1;32m---> 71\u001b[0m \u001b[43mplot_obj\u001b[49m\u001b[38;5;241;43m.\u001b[39;49m\u001b[43mgenerate\u001b[49m\u001b[43m(\u001b[49m\u001b[43m)\u001b[49m\n\u001b[0;32m     72\u001b[0m plot_obj\u001b[38;5;241m.\u001b[39mdraw()\n\u001b[0;32m     73\u001b[0m \u001b[38;5;28;01mreturn\u001b[39;00m plot_obj\u001b[38;5;241m.\u001b[39mresult\n",
      "File \u001b[1;32m~\\anaconda3\\envs\\oasis\\lib\\site-packages\\pandas\\plotting\\_matplotlib\\core.py:327\u001b[0m, in \u001b[0;36mMPLPlot.generate\u001b[1;34m(self)\u001b[0m\n\u001b[0;32m    325\u001b[0m \u001b[38;5;28;01mdef\u001b[39;00m \u001b[38;5;21mgenerate\u001b[39m(\u001b[38;5;28mself\u001b[39m):\n\u001b[0;32m    326\u001b[0m     \u001b[38;5;28mself\u001b[39m\u001b[38;5;241m.\u001b[39m_args_adjust()\n\u001b[1;32m--> 327\u001b[0m     \u001b[38;5;28;43mself\u001b[39;49m\u001b[38;5;241;43m.\u001b[39;49m\u001b[43m_compute_plot_data\u001b[49m\u001b[43m(\u001b[49m\u001b[43m)\u001b[49m\n\u001b[0;32m    328\u001b[0m     \u001b[38;5;28mself\u001b[39m\u001b[38;5;241m.\u001b[39m_setup_subplots()\n\u001b[0;32m    329\u001b[0m     \u001b[38;5;28mself\u001b[39m\u001b[38;5;241m.\u001b[39m_make_plot()\n",
      "File \u001b[1;32m~\\anaconda3\\envs\\oasis\\lib\\site-packages\\pandas\\plotting\\_matplotlib\\core.py:506\u001b[0m, in \u001b[0;36mMPLPlot._compute_plot_data\u001b[1;34m(self)\u001b[0m\n\u001b[0;32m    504\u001b[0m \u001b[38;5;66;03m# no non-numeric frames or series allowed\u001b[39;00m\n\u001b[0;32m    505\u001b[0m \u001b[38;5;28;01mif\u001b[39;00m is_empty:\n\u001b[1;32m--> 506\u001b[0m     \u001b[38;5;28;01mraise\u001b[39;00m \u001b[38;5;167;01mTypeError\u001b[39;00m(\u001b[38;5;124m\"\u001b[39m\u001b[38;5;124mno numeric data to plot\u001b[39m\u001b[38;5;124m\"\u001b[39m)\n\u001b[0;32m    508\u001b[0m \u001b[38;5;28mself\u001b[39m\u001b[38;5;241m.\u001b[39mdata \u001b[38;5;241m=\u001b[39m numeric_data\u001b[38;5;241m.\u001b[39mapply(\u001b[38;5;28mself\u001b[39m\u001b[38;5;241m.\u001b[39m_convert_to_ndarray)\n",
      "\u001b[1;31mTypeError\u001b[0m: no numeric data to plot"
     ]
    }
   ],
   "source": [
    "# 시각화는 숫자 데이터만 가능\n",
    "df_groupby.plot(kind='bar')\n",
    "plt.show()"
   ]
  },
  {
   "cell_type": "markdown",
   "id": "59322ac7-16a3-486d-9044-70d3d1155438",
   "metadata": {
    "jp-MarkdownHeadingCollapsed": true,
    "tags": []
   },
   "source": [
    "### 멀티인덱스 값 조회"
   ]
  },
  {
   "cell_type": "code",
   "execution_count": 83,
   "id": "5743e2a0-e44a-42d2-8e6a-2abd3b24be50",
   "metadata": {},
   "outputs": [
    {
     "data": {
      "text/plain": [
       "col1  col2\n",
       "a     A       1\n",
       "      B       2\n",
       "b     C       3\n",
       "      D       4\n",
       "Name: col3, dtype: object"
      ]
     },
     "execution_count": 83,
     "metadata": {},
     "output_type": "execute_result"
    }
   ],
   "source": [
    "# 컬럼별 값 조회\n",
    "DF.loc[DF.index,'col3']"
   ]
  },
  {
   "cell_type": "code",
   "execution_count": 85,
   "id": "b289c4d2-5d7a-4a2a-b745-15d418c6d6eb",
   "metadata": {},
   "outputs": [
    {
     "data": {
      "text/plain": [
       "'1'"
      ]
     },
     "execution_count": 85,
     "metadata": {},
     "output_type": "execute_result"
    }
   ],
   "source": [
    "# 특정 값 조회\n",
    "DF.loc[DF.index[0],'col3']"
   ]
  },
  {
   "cell_type": "code",
   "execution_count": 91,
   "id": "d7b3fa03-0dff-470d-96d3-e7dab64d7a1d",
   "metadata": {},
   "outputs": [
    {
     "data": {
      "text/plain": [
       "'1'"
      ]
     },
     "execution_count": 91,
     "metadata": {},
     "output_type": "execute_result"
    }
   ],
   "source": [
    "DF.loc[DF.index[0],:]['col3']"
   ]
  },
  {
   "cell_type": "code",
   "execution_count": 144,
   "id": "b37705a6-55f0-400e-af95-e3c22af838a5",
   "metadata": {},
   "outputs": [
    {
     "data": {
      "text/html": [
       "<div>\n",
       "<style scoped>\n",
       "    .dataframe tbody tr th:only-of-type {\n",
       "        vertical-align: middle;\n",
       "    }\n",
       "\n",
       "    .dataframe tbody tr th {\n",
       "        vertical-align: top;\n",
       "    }\n",
       "\n",
       "    .dataframe thead th {\n",
       "        text-align: right;\n",
       "    }\n",
       "</style>\n",
       "<table border=\"1\" class=\"dataframe\">\n",
       "  <thead>\n",
       "    <tr style=\"text-align: right;\">\n",
       "      <th></th>\n",
       "      <th></th>\n",
       "      <th>col3</th>\n",
       "    </tr>\n",
       "    <tr>\n",
       "      <th>col1</th>\n",
       "      <th>col2</th>\n",
       "      <th></th>\n",
       "    </tr>\n",
       "  </thead>\n",
       "  <tbody>\n",
       "    <tr>\n",
       "      <th rowspan=\"2\" valign=\"top\">a</th>\n",
       "      <th>A</th>\n",
       "      <td>1</td>\n",
       "    </tr>\n",
       "    <tr>\n",
       "      <th>B</th>\n",
       "      <td>2</td>\n",
       "    </tr>\n",
       "    <tr>\n",
       "      <th rowspan=\"2\" valign=\"top\">b</th>\n",
       "      <th>C</th>\n",
       "      <td>3</td>\n",
       "    </tr>\n",
       "    <tr>\n",
       "      <th>D</th>\n",
       "      <td>4</td>\n",
       "    </tr>\n",
       "  </tbody>\n",
       "</table>\n",
       "</div>"
      ],
      "text/plain": [
       "          col3\n",
       "col1 col2     \n",
       "a    A       1\n",
       "     B       2\n",
       "b    C       3\n",
       "     D       4"
      ]
     },
     "execution_count": 144,
     "metadata": {},
     "output_type": "execute_result"
    }
   ],
   "source": [
    "DF"
   ]
  },
  {
   "cell_type": "code",
   "execution_count": null,
   "id": "6f5c86a0-0a90-4c02-8d4b-c1400112da1d",
   "metadata": {},
   "outputs": [],
   "source": [
    "DF.loc[('a'),:].head(2)"
   ]
  },
  {
   "cell_type": "code",
   "execution_count": 142,
   "id": "fb2d4aa9-8b95-429a-ae5d-2d5939f4d846",
   "metadata": {},
   "outputs": [],
   "source": [
    "df = pd.DataFrame()"
   ]
  },
  {
   "cell_type": "code",
   "execution_count": 143,
   "id": "322a027f-92c3-4005-b491-428ba2a21e7e",
   "metadata": {},
   "outputs": [
    {
     "name": "stderr",
     "output_type": "stream",
     "text": [
      "C:\\Users\\USER\\AppData\\Local\\Temp\\ipykernel_13616\\2383382394.py:2: FutureWarning: The frame.append method is deprecated and will be removed from pandas in a future version. Use pandas.concat instead.\n",
      "  df.append(DF.loc[('a'),:].head(2))\n"
     ]
    },
    {
     "data": {
      "text/html": [
       "<div>\n",
       "<style scoped>\n",
       "    .dataframe tbody tr th:only-of-type {\n",
       "        vertical-align: middle;\n",
       "    }\n",
       "\n",
       "    .dataframe tbody tr th {\n",
       "        vertical-align: top;\n",
       "    }\n",
       "\n",
       "    .dataframe thead th {\n",
       "        text-align: right;\n",
       "    }\n",
       "</style>\n",
       "<table border=\"1\" class=\"dataframe\">\n",
       "  <thead>\n",
       "    <tr style=\"text-align: right;\">\n",
       "      <th></th>\n",
       "      <th>col3</th>\n",
       "    </tr>\n",
       "    <tr>\n",
       "      <th>col2</th>\n",
       "      <th></th>\n",
       "    </tr>\n",
       "  </thead>\n",
       "  <tbody>\n",
       "    <tr>\n",
       "      <th>A</th>\n",
       "      <td>1</td>\n",
       "    </tr>\n",
       "    <tr>\n",
       "      <th>B</th>\n",
       "      <td>2</td>\n",
       "    </tr>\n",
       "  </tbody>\n",
       "</table>\n",
       "</div>"
      ],
      "text/plain": [
       "     col3\n",
       "col2     \n",
       "A       1\n",
       "B       2"
      ]
     },
     "execution_count": 143,
     "metadata": {},
     "output_type": "execute_result"
    }
   ],
   "source": [
    "# 결과 -> 새 데이터 프레임에 추가하기\n",
    "df.append(DF.loc[('a'),:].head(2))"
   ]
  },
  {
   "cell_type": "markdown",
   "id": "521c98ff-a8f7-443d-8d1c-062f7547e2d7",
   "metadata": {
    "jp-MarkdownHeadingCollapsed": true,
    "tags": []
   },
   "source": [
    "### pivot_table"
   ]
  },
  {
   "cell_type": "code",
   "execution_count": 98,
   "id": "fc844a91-617c-43d3-9753-9a3da9633d39",
   "metadata": {},
   "outputs": [
    {
     "data": {
      "text/html": [
       "<div>\n",
       "<style scoped>\n",
       "    .dataframe tbody tr th:only-of-type {\n",
       "        vertical-align: middle;\n",
       "    }\n",
       "\n",
       "    .dataframe tbody tr th {\n",
       "        vertical-align: top;\n",
       "    }\n",
       "\n",
       "    .dataframe thead th {\n",
       "        text-align: right;\n",
       "    }\n",
       "</style>\n",
       "<table border=\"1\" class=\"dataframe\">\n",
       "  <thead>\n",
       "    <tr style=\"text-align: right;\">\n",
       "      <th></th>\n",
       "      <th></th>\n",
       "      <th>col3</th>\n",
       "    </tr>\n",
       "    <tr>\n",
       "      <th>col1</th>\n",
       "      <th>col2</th>\n",
       "      <th></th>\n",
       "    </tr>\n",
       "  </thead>\n",
       "  <tbody>\n",
       "    <tr>\n",
       "      <th rowspan=\"2\" valign=\"top\">a</th>\n",
       "      <th>A</th>\n",
       "      <td>1</td>\n",
       "    </tr>\n",
       "    <tr>\n",
       "      <th>B</th>\n",
       "      <td>2</td>\n",
       "    </tr>\n",
       "    <tr>\n",
       "      <th rowspan=\"2\" valign=\"top\">b</th>\n",
       "      <th>C</th>\n",
       "      <td>3</td>\n",
       "    </tr>\n",
       "    <tr>\n",
       "      <th>D</th>\n",
       "      <td>4</td>\n",
       "    </tr>\n",
       "  </tbody>\n",
       "</table>\n",
       "</div>"
      ],
      "text/plain": [
       "          col3\n",
       "col1 col2     \n",
       "a    A       1\n",
       "     B       2\n",
       "b    C       3\n",
       "     D       4"
      ]
     },
     "execution_count": 98,
     "metadata": {},
     "output_type": "execute_result"
    }
   ],
   "source": [
    "DF"
   ]
  },
  {
   "cell_type": "code",
   "execution_count": 96,
   "id": "3ba18532-ccb5-4d80-86c2-8ffa5d5dffeb",
   "metadata": {
    "tags": []
   },
   "outputs": [
    {
     "data": {
      "text/html": [
       "<div>\n",
       "<style scoped>\n",
       "    .dataframe tbody tr th:only-of-type {\n",
       "        vertical-align: middle;\n",
       "    }\n",
       "\n",
       "    .dataframe tbody tr th {\n",
       "        vertical-align: top;\n",
       "    }\n",
       "\n",
       "    .dataframe thead th {\n",
       "        text-align: right;\n",
       "    }\n",
       "</style>\n",
       "<table border=\"1\" class=\"dataframe\">\n",
       "  <thead>\n",
       "    <tr style=\"text-align: right;\">\n",
       "      <th>col2</th>\n",
       "      <th>A</th>\n",
       "      <th>B</th>\n",
       "      <th>C</th>\n",
       "      <th>D</th>\n",
       "    </tr>\n",
       "    <tr>\n",
       "      <th>col1</th>\n",
       "      <th></th>\n",
       "      <th></th>\n",
       "      <th></th>\n",
       "      <th></th>\n",
       "    </tr>\n",
       "  </thead>\n",
       "  <tbody>\n",
       "    <tr>\n",
       "      <th>a</th>\n",
       "      <td>1.0</td>\n",
       "      <td>2.0</td>\n",
       "      <td>NaN</td>\n",
       "      <td>NaN</td>\n",
       "    </tr>\n",
       "    <tr>\n",
       "      <th>b</th>\n",
       "      <td>NaN</td>\n",
       "      <td>NaN</td>\n",
       "      <td>3.0</td>\n",
       "      <td>4.0</td>\n",
       "    </tr>\n",
       "  </tbody>\n",
       "</table>\n",
       "</div>"
      ],
      "text/plain": [
       "col2    A    B    C    D\n",
       "col1                    \n",
       "a     1.0  2.0  NaN  NaN\n",
       "b     NaN  NaN  3.0  4.0"
      ]
     },
     "execution_count": 96,
     "metadata": {},
     "output_type": "execute_result"
    }
   ],
   "source": [
    "pd.pivot_table(DF,values='col3',index='col1',columns='col2')"
   ]
  }
 ],
 "metadata": {
  "kernelspec": {
   "display_name": "oasis",
   "language": "python",
   "name": "oasis"
  },
  "language_info": {
   "codemirror_mode": {
    "name": "ipython",
    "version": 3
   },
   "file_extension": ".py",
   "mimetype": "text/x-python",
   "name": "python",
   "nbconvert_exporter": "python",
   "pygments_lexer": "ipython3",
   "version": "3.8.13"
  }
 },
 "nbformat": 4,
 "nbformat_minor": 5
}
