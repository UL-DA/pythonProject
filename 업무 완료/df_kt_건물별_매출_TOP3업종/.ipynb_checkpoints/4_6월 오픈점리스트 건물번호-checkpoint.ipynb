{
 "cells": [
  {
   "cell_type": "code",
   "execution_count": 1,
   "id": "d298a600-6a5c-4ead-9981-b24a1eb8eb87",
   "metadata": {},
   "outputs": [],
   "source": [
    "import pandas as pd\n",
    "import numpy as np\n",
    "\n",
    "import time\n",
    "from tqdm import tqdm\n",
    "\n",
    "import warnings\n",
    "warnings.filterwarnings('ignore')"
   ]
  },
  {
   "cell_type": "code",
   "execution_count": 2,
   "id": "7792cba6-adc8-401b-9062-7d6e4a6a0a27",
   "metadata": {},
   "outputs": [],
   "source": [
    "df_kt = pd.read_csv('./data/dp_frc_bldg_ftc_pred_slng_m_sum_202205.csv',sep='|')"
   ]
  },
  {
   "cell_type": "code",
   "execution_count": 3,
   "id": "0173d39f-fb01-4190-a42c-3d68684482a3",
   "metadata": {},
   "outputs": [],
   "source": [
    "df_open = pd.read_excel('./data/4_6월 오픈점리스트.xlsx')"
   ]
  },
  {
   "cell_type": "markdown",
   "id": "1c17a7d1-f34d-469a-bdd0-915d4a8e574e",
   "metadata": {
    "jp-MarkdownHeadingCollapsed": true,
    "tags": []
   },
   "source": [
    "### 도로명 주소 추출"
   ]
  },
  {
   "cell_type": "code",
   "execution_count": 146,
   "id": "ec1c6dd5-453d-4919-8f01-0a5a9bbea16b",
   "metadata": {},
   "outputs": [],
   "source": [
    "# 도로명 주소 추출\n",
    "df_open['도로명주소'] = 0\n",
    "\n",
    "for i in df_open.index:\n",
    "    df_open['도로명주소'][i] = df_open['주소전체'][i].split('(')[-1][:-1]"
   ]
  },
  {
   "cell_type": "markdown",
   "id": "da19acfc-8efd-47fc-910b-8d34ac14ad94",
   "metadata": {
    "jp-MarkdownHeadingCollapsed": true,
    "tags": []
   },
   "source": [
    "### 시군구 포맷 변경"
   ]
  },
  {
   "cell_type": "code",
   "execution_count": 147,
   "id": "15ae8ec4-52f8-4b64-9897-bea6b1e33157",
   "metadata": {},
   "outputs": [],
   "source": [
    "# 시군구 풀네임 추출\n",
    "sido = df_kt.drop_duplicates('sido_nm')[['sido_nm']]\n",
    "sido = sido.reset_index()\n",
    "sido = sido.drop(columns=['index'])"
   ]
  },
  {
   "cell_type": "code",
   "execution_count": 148,
   "id": "da5b6e83-66ce-405e-8d97-57e7b6353dc6",
   "metadata": {
    "tags": []
   },
   "outputs": [],
   "source": [
    "# 세종시 주소가 충남으로 되어있음 -> 주소 수정 후 sido 담기\n",
    "df_open['sido'] = 0\n",
    "idx_sj = df_open[df_open['주소전체'].str.contains('세종시')].index\n",
    "df_open['sido'][idx_sj] = df_open['주소전체'][idx_sj].str.split(' ').str[1]"
   ]
  },
  {
   "cell_type": "code",
   "execution_count": 149,
   "id": "8ae0e7e9-b2af-4708-85b0-67f26d24beb9",
   "metadata": {
    "tags": []
   },
   "outputs": [],
   "source": [
    "# 나머지 지역 sido 담기\n",
    "idx = df_open[~df_open['주소전체'].str.contains('세종시')].index\n",
    "df_open['sido'][idx] = df_open['주소전체'][idx].str.split(' ').str[0]"
   ]
  },
  {
   "cell_type": "code",
   "execution_count": 150,
   "id": "220a27d9-6914-4482-b713-2f04761367ff",
   "metadata": {
    "tags": []
   },
   "outputs": [],
   "source": [
    "# 시도 이름 포맷 변경 (앞자리만 딴 지역)\n",
    "for sido_idx in sido['sido_nm'][:10].index:\n",
    "    idx = df_open[df_open['sido'].str.contains(sido['sido_nm'][sido_idx][:2], na=False)].index\n",
    "    df_open['sido'][idx] = sido['sido_nm'][sido_idx]\n",
    "    \n",
    "# 시도 이름 포맷 변경 (세종)\n",
    "for sido_idx in sido['sido_nm'][-1:].index:\n",
    "    idx = df_open[df_open['sido'].str.contains(sido['sido_nm'][sido_idx][:2], na=False)].index\n",
    "    df_open['sido'][idx] = sido['sido_nm'][sido_idx]\n",
    "    \n",
    "# 시도 이름 포맷 변경 (나머지 지역)\n",
    "for sido_idx in sido['sido_nm'][10:16].index:\n",
    "    idx = df_open[df_open['sido'].str.contains(sido['sido_nm'][sido_idx][0] + sido['sido_nm'][sido_idx][2], na=False)].index\n",
    "    df_open['sido'][idx] = sido['sido_nm'][sido_idx]"
   ]
  },
  {
   "cell_type": "markdown",
   "id": "bed83bc5-4d54-4531-944b-e33af86ddfaf",
   "metadata": {
    "jp-MarkdownHeadingCollapsed": true,
    "tags": []
   },
   "source": [
    "###### 테스트 -> 오류남"
   ]
  },
  {
   "cell_type": "code",
   "execution_count": 151,
   "id": "109ffc3c-7c64-4d82-b278-1220a51622a3",
   "metadata": {
    "tags": []
   },
   "outputs": [
    {
     "ename": "ValueError",
     "evalue": "The truth value of an array with more than one element is ambiguous. Use a.any() or a.all()",
     "output_type": "error",
     "traceback": [
      "\u001b[1;31m---------------------------------------------------------------------------\u001b[0m",
      "\u001b[1;31mValueError\u001b[0m                                Traceback (most recent call last)",
      "Input \u001b[1;32mIn [151]\u001b[0m, in \u001b[0;36m<cell line: 2>\u001b[1;34m()\u001b[0m\n\u001b[0;32m      1\u001b[0m \u001b[38;5;66;03m# 시도 이름 포맷 변경 (한 번에 변경)\u001b[39;00m\n\u001b[0;32m      2\u001b[0m \u001b[38;5;28;01mfor\u001b[39;00m sido_idx \u001b[38;5;129;01min\u001b[39;00m sido[\u001b[38;5;124m'\u001b[39m\u001b[38;5;124msido_nm\u001b[39m\u001b[38;5;124m'\u001b[39m]\u001b[38;5;241m.\u001b[39mindex:\n\u001b[1;32m----> 3\u001b[0m     \u001b[38;5;28;01mif\u001b[39;00m \u001b[43msido_idx\u001b[49m\u001b[43m \u001b[49m\u001b[38;5;241;43m==\u001b[39;49m\u001b[43m \u001b[49m\u001b[43msido\u001b[49m\u001b[43m[\u001b[49m\u001b[38;5;124;43m'\u001b[39;49m\u001b[38;5;124;43msido_nm\u001b[39;49m\u001b[38;5;124;43m'\u001b[39;49m\u001b[43m]\u001b[49m\u001b[43m[\u001b[49m\u001b[43m:\u001b[49m\u001b[38;5;241;43m10\u001b[39;49m\u001b[43m]\u001b[49m\u001b[38;5;241;43m.\u001b[39;49m\u001b[43mindex\u001b[49m \u001b[38;5;129;01mor\u001b[39;00m sido_idx \u001b[38;5;241m==\u001b[39m sido[\u001b[38;5;124m'\u001b[39m\u001b[38;5;124msido_nm\u001b[39m\u001b[38;5;124m'\u001b[39m][\u001b[38;5;241m-\u001b[39m\u001b[38;5;241m1\u001b[39m:]\u001b[38;5;241m.\u001b[39mindex:\n\u001b[0;32m      4\u001b[0m         idx \u001b[38;5;241m=\u001b[39m df_open[df_open[\u001b[38;5;124m'\u001b[39m\u001b[38;5;124msido\u001b[39m\u001b[38;5;124m'\u001b[39m]\u001b[38;5;241m.\u001b[39mstr\u001b[38;5;241m.\u001b[39mcontains(sido[\u001b[38;5;124m'\u001b[39m\u001b[38;5;124msido_nm\u001b[39m\u001b[38;5;124m'\u001b[39m][sido_idx][:\u001b[38;5;241m2\u001b[39m], na\u001b[38;5;241m=\u001b[39m\u001b[38;5;28;01mFalse\u001b[39;00m)]\u001b[38;5;241m.\u001b[39mindex\n\u001b[0;32m      5\u001b[0m         df_open[\u001b[38;5;124m'\u001b[39m\u001b[38;5;124msido\u001b[39m\u001b[38;5;124m'\u001b[39m][idx] \u001b[38;5;241m=\u001b[39m sido[\u001b[38;5;124m'\u001b[39m\u001b[38;5;124msido_nm\u001b[39m\u001b[38;5;124m'\u001b[39m][sido_idx]\n",
      "\u001b[1;31mValueError\u001b[0m: The truth value of an array with more than one element is ambiguous. Use a.any() or a.all()"
     ]
    }
   ],
   "source": [
    "# 시도 이름 포맷 변경 (한 번에 변경)\n",
    "for sido_idx in sido['sido_nm'].index:\n",
    "    if sido_idx == sido['sido_nm'][:10].index or sido_idx == sido['sido_nm'][-1:].index:\n",
    "        idx = df_open[df_open['sido'].str.contains(sido['sido_nm'][sido_idx][:2], na=False)].index\n",
    "        df_open['sido'][idx] = sido['sido_nm'][sido_idx]\n",
    "    else :\n",
    "        idx = df_open[df_open['sido'].str.contains(sido['sido_nm'][sido_idx][0] + sido['sido_nm'][sido_idx][2], na=False)].index\n",
    "        df_open['sido'][idx] = sido['sido_nm'][sido_idx]\n"
   ]
  },
  {
   "cell_type": "code",
   "execution_count": null,
   "id": "548fa491-c3af-4c6d-a363-61c26cfddd0d",
   "metadata": {},
   "outputs": [],
   "source": [
    "# 시도 이름 포맷 변경\n",
    "def sido_f(a,*b):\n",
    "    for sido_idx in sido['sido_nm'][a:b].index:\n",
    "        idx = df_open[df_open['sido'].str.contains(sido['sido_nm'][sido_idx][:2], na=False)].index\n",
    "        df_open['sido'][idx] = sido['sido_nm'][sido_idx]\n",
    "    \n",
    "# sido(0,10)"
   ]
  },
  {
   "cell_type": "markdown",
   "id": "4d450d2e-5a47-4aa3-94cd-389200a2d699",
   "metadata": {
    "jp-MarkdownHeadingCollapsed": true,
    "tags": []
   },
   "source": [
    "### 전체 주소 병합"
   ]
  },
  {
   "cell_type": "code",
   "execution_count": 152,
   "id": "e3efc669-86c8-4bc1-bf46-ead0d962f2a3",
   "metadata": {},
   "outputs": [],
   "source": [
    "# 전체 주소 병합\n",
    "idx    = df_open[~df_open['주소전체'].str.contains('제주시')].index\n",
    "idx_jj = df_open[df_open['주소전체'].str.contains('제주시')].index\n",
    "df_open['도로명주소'][idx]    = df_open['sido'][idx] + ' ' + df_open['주소전체'][idx].str.split(' ').str[1] + ' ' + df_open['도로명주소'][idx]\n",
    "df_open['도로명주소'][idx_jj] = df_open['sido'][idx_jj] + ' ' + df_open['주소전체'][idx_jj].str.split(' ').str[1]+ ' ' + df_open['주소전체'][idx_jj].str.split(' ').str[2] + ' ' + df_open['도로명주소'][idx_jj]"
   ]
  },
  {
   "cell_type": "code",
   "execution_count": 471,
   "id": "fdfb07b8-2111-4138-9989-be73e8829e88",
   "metadata": {},
   "outputs": [
    {
     "data": {
      "text/html": [
       "<div>\n",
       "<style scoped>\n",
       "    .dataframe tbody tr th:only-of-type {\n",
       "        vertical-align: middle;\n",
       "    }\n",
       "\n",
       "    .dataframe tbody tr th {\n",
       "        vertical-align: top;\n",
       "    }\n",
       "\n",
       "    .dataframe thead th {\n",
       "        text-align: right;\n",
       "    }\n",
       "</style>\n",
       "<table border=\"1\" class=\"dataframe\">\n",
       "  <thead>\n",
       "    <tr style=\"text-align: right;\">\n",
       "      <th></th>\n",
       "      <th>NO.</th>\n",
       "      <th>점포명</th>\n",
       "      <th>주소전체</th>\n",
       "      <th>도로명주소</th>\n",
       "      <th>sido</th>\n",
       "      <th>bd_mgt_sn</th>\n",
       "    </tr>\n",
       "  </thead>\n",
       "  <tbody>\n",
       "    <tr>\n",
       "      <th>0</th>\n",
       "      <td>1</td>\n",
       "      <td>오산원동대림점</td>\n",
       "      <td>경기 오산시 원동 900(오산로132번길 8)</td>\n",
       "      <td>경기도 오산시 오산로132번길 8</td>\n",
       "      <td>경기도</td>\n",
       "      <td>148535    4137010300109000000000003\n",
       "Name: bd_m...</td>\n",
       "    </tr>\n",
       "    <tr>\n",
       "      <th>1</th>\n",
       "      <td>2</td>\n",
       "      <td>병점스테이점</td>\n",
       "      <td>경기 화성시 병점동 374-5, 101호(떡전골로 72-6)</td>\n",
       "      <td>경기도 화성시 떡전골로 72-6</td>\n",
       "      <td>경기도</td>\n",
       "      <td>4420025325115710000000001</td>\n",
       "    </tr>\n",
       "    <tr>\n",
       "      <th>2</th>\n",
       "      <td>3</td>\n",
       "      <td>정남만년로점</td>\n",
       "      <td>경기 화성시 정남면 괘랑리 305-11(괘랑리 305-11)</td>\n",
       "      <td>경기도 화성시 괘랑리 305-11</td>\n",
       "      <td>경기도</td>\n",
       "      <td>Series([], Name: bd_mgt_sn, dtype: object)</td>\n",
       "    </tr>\n",
       "    <tr>\n",
       "      <th>3</th>\n",
       "      <td>4</td>\n",
       "      <td>화성남양양우점</td>\n",
       "      <td>경기 화성 남양읍 남양리 2294-9 103,104호(시청로 66)</td>\n",
       "      <td>경기도 화성 시청로 66</td>\n",
       "      <td>경기도</td>\n",
       "      <td>762891     4715010800103940004003428\n",
       "887818   ...</td>\n",
       "    </tr>\n",
       "    <tr>\n",
       "      <th>4</th>\n",
       "      <td>5</td>\n",
       "      <td>안양미도점</td>\n",
       "      <td>경기 안양시 만안구 안양동 371-6(안양로 29)</td>\n",
       "      <td>경기도 안양시 안양로 29</td>\n",
       "      <td>경기도</td>\n",
       "      <td>21155      4117110100106760215007997\n",
       "221988   ...</td>\n",
       "    </tr>\n",
       "    <tr>\n",
       "      <th>...</th>\n",
       "      <td>...</td>\n",
       "      <td>...</td>\n",
       "      <td>...</td>\n",
       "      <td>...</td>\n",
       "      <td>...</td>\n",
       "      <td>...</td>\n",
       "    </tr>\n",
       "    <tr>\n",
       "      <th>424</th>\n",
       "      <td>425</td>\n",
       "      <td>부안하이스트점</td>\n",
       "      <td>전북 부안군 부안읍 서외리 446-3, 상가동 114호, 115호(번영로 63-10)</td>\n",
       "      <td>전라북도 부안군 번영로 63-10</td>\n",
       "      <td>전라북도</td>\n",
       "      <td>Series([], Name: bd_mgt_sn, dtype: object)</td>\n",
       "    </tr>\n",
       "    <tr>\n",
       "      <th>425</th>\n",
       "      <td>426</td>\n",
       "      <td>제주외도부영점</td>\n",
       "      <td>제주 제주시 외도일동 550-10(우정로11길 12)</td>\n",
       "      <td>제주특별자치도 제주시 외도일동 우정로11길 12</td>\n",
       "      <td>제주특별자치도</td>\n",
       "      <td>603022    5011012300105500010000001\n",
       "Name: bd_m...</td>\n",
       "    </tr>\n",
       "    <tr>\n",
       "      <th>426</th>\n",
       "      <td>427</td>\n",
       "      <td>서귀포신천리점</td>\n",
       "      <td>제주 서귀포시  성산읍 신천리 220-10(신천로49번길 32)</td>\n",
       "      <td>제주특별자치도 서귀포시 신천로49번길 32</td>\n",
       "      <td>제주특별자치도</td>\n",
       "      <td>Series([], Name: bd_mgt_sn, dtype: object)</td>\n",
       "    </tr>\n",
       "    <tr>\n",
       "      <th>427</th>\n",
       "      <td>428</td>\n",
       "      <td>서귀포신산리점</td>\n",
       "      <td>제주 서귀포시  성산읍 신산리 607-2(일주동로 5065)</td>\n",
       "      <td>제주특별자치도 서귀포시 일주동로 5065</td>\n",
       "      <td>제주특별자치도</td>\n",
       "      <td>945236    5013025927106070002000003\n",
       "Name: bd_m...</td>\n",
       "    </tr>\n",
       "    <tr>\n",
       "      <th>428</th>\n",
       "      <td>429</td>\n",
       "      <td>제주시민회관점</td>\n",
       "      <td>제주 제주시 이도일동 1527-3(중앙로19길 2)</td>\n",
       "      <td>제주특별자치도 제주시 이도일동 중앙로19길 2</td>\n",
       "      <td>제주특별자치도</td>\n",
       "      <td>217842     4719010100102200004016924\n",
       "244345   ...</td>\n",
       "    </tr>\n",
       "  </tbody>\n",
       "</table>\n",
       "<p>429 rows × 6 columns</p>\n",
       "</div>"
      ],
      "text/plain": [
       "     NO.      점포명                                             주소전체  \\\n",
       "0      1  오산원동대림점                        경기 오산시 원동 900(오산로132번길 8)   \n",
       "1      2   병점스테이점                경기 화성시 병점동 374-5, 101호(떡전골로 72-6)   \n",
       "2      3   정남만년로점                경기 화성시 정남면 괘랑리 305-11(괘랑리 305-11)   \n",
       "3      4  화성남양양우점            경기 화성 남양읍 남양리 2294-9 103,104호(시청로 66)   \n",
       "4      5    안양미도점                     경기 안양시 만안구 안양동 371-6(안양로 29)   \n",
       "..   ...      ...                                              ...   \n",
       "424  425  부안하이스트점  전북 부안군 부안읍 서외리 446-3, 상가동 114호, 115호(번영로 63-10)   \n",
       "425  426  제주외도부영점                    제주 제주시 외도일동 550-10(우정로11길 12)   \n",
       "426  427  서귀포신천리점              제주 서귀포시  성산읍 신천리 220-10(신천로49번길 32)   \n",
       "427  428  서귀포신산리점                제주 서귀포시  성산읍 신산리 607-2(일주동로 5065)   \n",
       "428  429  제주시민회관점                     제주 제주시 이도일동 1527-3(중앙로19길 2)   \n",
       "\n",
       "                          도로명주소     sido  \\\n",
       "0            경기도 오산시 오산로132번길 8      경기도   \n",
       "1             경기도 화성시 떡전골로 72-6      경기도   \n",
       "2            경기도 화성시 괘랑리 305-11      경기도   \n",
       "3                 경기도 화성 시청로 66      경기도   \n",
       "4                경기도 안양시 안양로 29      경기도   \n",
       "..                          ...      ...   \n",
       "424          전라북도 부안군 번영로 63-10     전라북도   \n",
       "425  제주특별자치도 제주시 외도일동 우정로11길 12  제주특별자치도   \n",
       "426     제주특별자치도 서귀포시 신천로49번길 32  제주특별자치도   \n",
       "427      제주특별자치도 서귀포시 일주동로 5065  제주특별자치도   \n",
       "428   제주특별자치도 제주시 이도일동 중앙로19길 2  제주특별자치도   \n",
       "\n",
       "                                             bd_mgt_sn  \n",
       "0    148535    4137010300109000000000003\n",
       "Name: bd_m...  \n",
       "1                            4420025325115710000000001  \n",
       "2           Series([], Name: bd_mgt_sn, dtype: object)  \n",
       "3    762891     4715010800103940004003428\n",
       "887818   ...  \n",
       "4    21155      4117110100106760215007997\n",
       "221988   ...  \n",
       "..                                                 ...  \n",
       "424         Series([], Name: bd_mgt_sn, dtype: object)  \n",
       "425  603022    5011012300105500010000001\n",
       "Name: bd_m...  \n",
       "426         Series([], Name: bd_mgt_sn, dtype: object)  \n",
       "427  945236    5013025927106070002000003\n",
       "Name: bd_m...  \n",
       "428  217842     4719010100102200004016924\n",
       "244345   ...  \n",
       "\n",
       "[429 rows x 6 columns]"
      ]
     },
     "execution_count": 471,
     "metadata": {},
     "output_type": "execute_result"
    }
   ],
   "source": [
    "df_open"
   ]
  },
  {
   "cell_type": "markdown",
   "id": "ad82a4cb-6ae9-43c5-9ffe-eb146f93595c",
   "metadata": {
    "jp-MarkdownHeadingCollapsed": true,
    "tags": []
   },
   "source": [
    "### KT 병합"
   ]
  },
  {
   "cell_type": "code",
   "execution_count": 153,
   "id": "649e5a8c-e602-4dc5-bca2-cab5f16ac1ed",
   "metadata": {},
   "outputs": [],
   "source": [
    "# 건물 기준 중복 제거\n",
    "df_kt = df_kt.drop_duplicates('bd_mgt_sn')\n",
    "df_kt = df_kt.reset_index(drop=True)"
   ]
  },
  {
   "cell_type": "code",
   "execution_count": 466,
   "id": "7d96a4fd-9cab-4750-9e61-2efee9a566b5",
   "metadata": {},
   "outputs": [],
   "source": [
    "# 도로명 주소 포맷 맞추기\n",
    "df_kt[['buld_mnnm','buld_slno']] = df_kt[['buld_mnnm','buld_slno']].astype(str)\n",
    "df_kt['도로명주소'] = df_kt['sido_nm'] + ' ' + df_kt['sig_nm'] + ' ' + df_kt['rn'] + ' ' + df_kt['buld_mnnm'] + '-' + df_kt['buld_slno']"
   ]
  },
  {
   "cell_type": "code",
   "execution_count": 362,
   "id": "60046994-2d01-4542-aeb2-f20a90b06b8b",
   "metadata": {
    "tags": []
   },
   "outputs": [],
   "source": [
    "# 주소 매칭\n",
    "df_open['bd_mgt_sn'] = 0\n",
    "idx_co = df_open[df_open['도로명주소'].isin(df_kt['도로명주소'])].index\n",
    "idx_in = df_open[~df_open['도로명주소'].isin(df_kt['도로명주소'])].index # df_kt에 없는 주소 인덱스 담음"
   ]
  },
  {
   "cell_type": "code",
   "execution_count": 376,
   "id": "8ba9136a-e55b-4968-9c47-ee9a03c1039b",
   "metadata": {
    "tags": []
   },
   "outputs": [],
   "source": [
    "# 주소 일치하는 경우\n",
    "idx = df_kt[df_kt['도로명주소'].isin(df_open['도로명주소'][idx_co])].index\n",
    "df_open['bd_mgt_sn'][idx_co] = df_kt['bd_mgt_sn'][idx].astype(str)"
   ]
  },
  {
   "cell_type": "code",
   "execution_count": 491,
   "id": "5fa36166-2e24-4525-8072-8f9f5c86a0c3",
   "metadata": {},
   "outputs": [],
   "source": [
    "a = []"
   ]
  },
  {
   "cell_type": "code",
   "execution_count": 493,
   "id": "76342589-9f3d-492b-85e1-5d94553595c0",
   "metadata": {},
   "outputs": [],
   "source": [
    "# 주소가 일치하지 않는 경우\n",
    "for i in idx_in:\n",
    "    name_ = df_open.loc[i,'도로명주소'].split(' ')[-2] + ' ' + df_open.loc[i,'도로명주소'].split(' ')[-1] # 도로명 주소(00번길 0-0)만 추출\n",
    "    try:\n",
    "        idx = df_kt[df_kt['도로명주소'].str.contains(name_, na=False)].index # df_kt에 일치하는 주소가 있는 지 확인\n",
    "        df_open['bd_mgt_sn'][i] = list(df_kt['bd_mgt_sn'])[idx[0]] # 해당 인덱스에 건물번호값 대입\n",
    "    except:\n",
    "        a.append(i)\n",
    "        pass"
   ]
  },
  {
   "cell_type": "code",
   "execution_count": 472,
   "id": "724b10a8-a0ff-4677-b983-34c279c7f9b0",
   "metadata": {},
   "outputs": [
    {
     "data": {
      "text/plain": [
       "'1156013200102040006011908'"
      ]
     },
     "execution_count": 472,
     "metadata": {},
     "output_type": "execute_result"
    }
   ],
   "source": [
    "df_kt['bd_mgt_sn'][2]"
   ]
  },
  {
   "cell_type": "code",
   "execution_count": 487,
   "id": "e49026fb-2518-41de-93c8-c426f78b4d52",
   "metadata": {},
   "outputs": [
    {
     "data": {
      "text/plain": [
       "'4137010300109000000000003'"
      ]
     },
     "execution_count": 487,
     "metadata": {},
     "output_type": "execute_result"
    }
   ],
   "source": [
    "list(df_kt['bd_mgt_sn'])[148535]"
   ]
  },
  {
   "cell_type": "code",
   "execution_count": 481,
   "id": "aed0e743-56b8-47ab-b653-66e309237408",
   "metadata": {},
   "outputs": [],
   "source": [
    "idx = df_kt[df_kt['도로명주소'].str.contains('경기도 오산시 오산로132번길 8', na=False)].index"
   ]
  },
  {
   "cell_type": "code",
   "execution_count": 500,
   "id": "9d84e1c2-0191-4b73-ba8d-a8ae108362aa",
   "metadata": {},
   "outputs": [
    {
     "data": {
      "text/html": [
       "<div>\n",
       "<style scoped>\n",
       "    .dataframe tbody tr th:only-of-type {\n",
       "        vertical-align: middle;\n",
       "    }\n",
       "\n",
       "    .dataframe tbody tr th {\n",
       "        vertical-align: top;\n",
       "    }\n",
       "\n",
       "    .dataframe thead th {\n",
       "        text-align: right;\n",
       "    }\n",
       "</style>\n",
       "<table border=\"1\" class=\"dataframe\">\n",
       "  <thead>\n",
       "    <tr style=\"text-align: right;\">\n",
       "      <th></th>\n",
       "      <th>NO.</th>\n",
       "      <th>점포명</th>\n",
       "      <th>주소전체</th>\n",
       "      <th>도로명주소</th>\n",
       "      <th>sido</th>\n",
       "      <th>bd_mgt_sn</th>\n",
       "    </tr>\n",
       "  </thead>\n",
       "  <tbody>\n",
       "  </tbody>\n",
       "</table>\n",
       "</div>"
      ],
      "text/plain": [
       "Empty DataFrame\n",
       "Columns: [NO., 점포명, 주소전체, 도로명주소, sido, bd_mgt_sn]\n",
       "Index: []"
      ]
     },
     "execution_count": 500,
     "metadata": {},
     "output_type": "execute_result"
    }
   ],
   "source": [
    "df_open[df_open['bd_mgt_sn'].str.contains('Series', na=False)]"
   ]
  },
  {
   "cell_type": "code",
   "execution_count": 513,
   "id": "dcac3c39-f2d9-452f-b54b-d58cfbf6b409",
   "metadata": {},
   "outputs": [
    {
     "data": {
      "text/html": [
       "<div>\n",
       "<style scoped>\n",
       "    .dataframe tbody tr th:only-of-type {\n",
       "        vertical-align: middle;\n",
       "    }\n",
       "\n",
       "    .dataframe tbody tr th {\n",
       "        vertical-align: top;\n",
       "    }\n",
       "\n",
       "    .dataframe thead th {\n",
       "        text-align: right;\n",
       "    }\n",
       "</style>\n",
       "<table border=\"1\" class=\"dataframe\">\n",
       "  <thead>\n",
       "    <tr style=\"text-align: right;\">\n",
       "      <th></th>\n",
       "      <th>NO.</th>\n",
       "      <th>점포명</th>\n",
       "      <th>주소전체</th>\n",
       "      <th>도로명주소</th>\n",
       "      <th>sido</th>\n",
       "      <th>bd_mgt_sn</th>\n",
       "    </tr>\n",
       "  </thead>\n",
       "  <tbody>\n",
       "    <tr>\n",
       "      <th>2</th>\n",
       "      <td>3</td>\n",
       "      <td>정남만년로점</td>\n",
       "      <td>경기 화성시 정남면 괘랑리 305-11(괘랑리 305-11)</td>\n",
       "      <td>경기도 화성시 괘랑리 305-11</td>\n",
       "      <td>경기도</td>\n",
       "      <td>Series([], Name: bd_mgt_sn, dtype: object)</td>\n",
       "    </tr>\n",
       "    <tr>\n",
       "      <th>6</th>\n",
       "      <td>7</td>\n",
       "      <td>봉천샛별점</td>\n",
       "      <td>서울 관악구 봉천동 968-3(봉천로 295-1)</td>\n",
       "      <td>서울특별시 관악구 봉천로 295-1</td>\n",
       "      <td>서울특별시</td>\n",
       "      <td>Series([], Name: bd_mgt_sn, dtype: object)</td>\n",
       "    </tr>\n",
       "    <tr>\n",
       "      <th>8</th>\n",
       "      <td>9</td>\n",
       "      <td>상도아람점</td>\n",
       "      <td>서울 동작구 상도동 301-40(국사봉8길77)</td>\n",
       "      <td>서울특별시 동작구 국사봉8길77</td>\n",
       "      <td>서울특별시</td>\n",
       "      <td>Series([], Name: bd_mgt_sn, dtype: object)</td>\n",
       "    </tr>\n",
       "    <tr>\n",
       "      <th>9</th>\n",
       "      <td>10</td>\n",
       "      <td>경기드림타워점</td>\n",
       "      <td>경기 수원시 이의동 934-11 경기드림타워1층(광교산로 154-42)</td>\n",
       "      <td>경기도 수원시 광교산로 154-42</td>\n",
       "      <td>경기도</td>\n",
       "      <td>Series([], Name: bd_mgt_sn, dtype: object)</td>\n",
       "    </tr>\n",
       "    <tr>\n",
       "      <th>10</th>\n",
       "      <td>11</td>\n",
       "      <td>산본한라2차점</td>\n",
       "      <td>경기 군포시 산본동 1156-25(번영로330)</td>\n",
       "      <td>경기도 군포시 번영로330</td>\n",
       "      <td>경기도</td>\n",
       "      <td>Series([], Name: bd_mgt_sn, dtype: object)</td>\n",
       "    </tr>\n",
       "    <tr>\n",
       "      <th>...</th>\n",
       "      <td>...</td>\n",
       "      <td>...</td>\n",
       "      <td>...</td>\n",
       "      <td>...</td>\n",
       "      <td>...</td>\n",
       "      <td>...</td>\n",
       "    </tr>\n",
       "    <tr>\n",
       "      <th>411</th>\n",
       "      <td>412</td>\n",
       "      <td>창녕남지유채점</td>\n",
       "      <td>경남 창녕군 남지읍 남지리 979-1(남지중앙1긹 56)</td>\n",
       "      <td>경상남도 창녕군 남지중앙1긹 56</td>\n",
       "      <td>경상남도</td>\n",
       "      <td>Series([], Name: bd_mgt_sn, dtype: object)</td>\n",
       "    </tr>\n",
       "    <tr>\n",
       "      <th>412</th>\n",
       "      <td>413</td>\n",
       "      <td>진도조도점</td>\n",
       "      <td>전남 진도군 조도면 창유리 2876(어류포길1-4)</td>\n",
       "      <td>전라남도 진도군 어류포길1-4</td>\n",
       "      <td>전라남도</td>\n",
       "      <td>Series([], Name: bd_mgt_sn, dtype: object)</td>\n",
       "    </tr>\n",
       "    <tr>\n",
       "      <th>421</th>\n",
       "      <td>422</td>\n",
       "      <td>전주빌리언점</td>\n",
       "      <td>전북 전주시 완산구 서서학동 서서학동117-2(공수내로19)</td>\n",
       "      <td>전라북도 전주시 공수내로19</td>\n",
       "      <td>전라북도</td>\n",
       "      <td>Series([], Name: bd_mgt_sn, dtype: object)</td>\n",
       "    </tr>\n",
       "    <tr>\n",
       "      <th>424</th>\n",
       "      <td>425</td>\n",
       "      <td>부안하이스트점</td>\n",
       "      <td>전북 부안군 부안읍 서외리 446-3, 상가동 114호, 115호(번영로 63-10)</td>\n",
       "      <td>전라북도 부안군 번영로 63-10</td>\n",
       "      <td>전라북도</td>\n",
       "      <td>Series([], Name: bd_mgt_sn, dtype: object)</td>\n",
       "    </tr>\n",
       "    <tr>\n",
       "      <th>426</th>\n",
       "      <td>427</td>\n",
       "      <td>서귀포신천리점</td>\n",
       "      <td>제주 서귀포시  성산읍 신천리 220-10(신천로49번길 32)</td>\n",
       "      <td>제주특별자치도 서귀포시 신천로49번길 32</td>\n",
       "      <td>제주특별자치도</td>\n",
       "      <td>Series([], Name: bd_mgt_sn, dtype: object)</td>\n",
       "    </tr>\n",
       "  </tbody>\n",
       "</table>\n",
       "<p>120 rows × 6 columns</p>\n",
       "</div>"
      ],
      "text/plain": [
       "     NO.      점포명                                             주소전체  \\\n",
       "2      3   정남만년로점                경기 화성시 정남면 괘랑리 305-11(괘랑리 305-11)   \n",
       "6      7    봉천샛별점                      서울 관악구 봉천동 968-3(봉천로 295-1)   \n",
       "8      9    상도아람점                       서울 동작구 상도동 301-40(국사봉8길77)   \n",
       "9     10  경기드림타워점          경기 수원시 이의동 934-11 경기드림타워1층(광교산로 154-42)   \n",
       "10    11  산본한라2차점                       경기 군포시 산본동 1156-25(번영로330)   \n",
       "..   ...      ...                                              ...   \n",
       "411  412  창녕남지유채점                  경남 창녕군 남지읍 남지리 979-1(남지중앙1긹 56)   \n",
       "412  413    진도조도점                     전남 진도군 조도면 창유리 2876(어류포길1-4)   \n",
       "421  422   전주빌리언점                전북 전주시 완산구 서서학동 서서학동117-2(공수내로19)   \n",
       "424  425  부안하이스트점  전북 부안군 부안읍 서외리 446-3, 상가동 114호, 115호(번영로 63-10)   \n",
       "426  427  서귀포신천리점              제주 서귀포시  성산읍 신천리 220-10(신천로49번길 32)   \n",
       "\n",
       "                       도로명주소     sido  \\\n",
       "2         경기도 화성시 괘랑리 305-11      경기도   \n",
       "6        서울특별시 관악구 봉천로 295-1    서울특별시   \n",
       "8          서울특별시 동작구 국사봉8길77    서울특별시   \n",
       "9        경기도 수원시 광교산로 154-42      경기도   \n",
       "10            경기도 군포시 번영로330      경기도   \n",
       "..                       ...      ...   \n",
       "411       경상남도 창녕군 남지중앙1긹 56     경상남도   \n",
       "412         전라남도 진도군 어류포길1-4     전라남도   \n",
       "421          전라북도 전주시 공수내로19     전라북도   \n",
       "424       전라북도 부안군 번영로 63-10     전라북도   \n",
       "426  제주특별자치도 서귀포시 신천로49번길 32  제주특별자치도   \n",
       "\n",
       "                                      bd_mgt_sn  \n",
       "2    Series([], Name: bd_mgt_sn, dtype: object)  \n",
       "6    Series([], Name: bd_mgt_sn, dtype: object)  \n",
       "8    Series([], Name: bd_mgt_sn, dtype: object)  \n",
       "9    Series([], Name: bd_mgt_sn, dtype: object)  \n",
       "10   Series([], Name: bd_mgt_sn, dtype: object)  \n",
       "..                                          ...  \n",
       "411  Series([], Name: bd_mgt_sn, dtype: object)  \n",
       "412  Series([], Name: bd_mgt_sn, dtype: object)  \n",
       "421  Series([], Name: bd_mgt_sn, dtype: object)  \n",
       "424  Series([], Name: bd_mgt_sn, dtype: object)  \n",
       "426  Series([], Name: bd_mgt_sn, dtype: object)  \n",
       "\n",
       "[120 rows x 6 columns]"
      ]
     },
     "execution_count": 513,
     "metadata": {},
     "output_type": "execute_result"
    }
   ],
   "source": [
    "df_open[df_open['bd_mgt_sn'].astype(str).str.contains('Series')]"
   ]
  },
  {
   "cell_type": "code",
   "execution_count": 514,
   "id": "d2dfdde8-86bc-4858-a34f-ccd8c086948a",
   "metadata": {},
   "outputs": [],
   "source": [
    "df_open.to_excel('./4_6월 오픈점리스트_건물번호(120개 남음).xlsx', index=False)"
   ]
  },
  {
   "cell_type": "code",
   "execution_count": 515,
   "id": "58ceb99a-b45e-4240-8bb7-287e932b0cb8",
   "metadata": {},
   "outputs": [],
   "source": [
    "DF = pd.read_excel('./4_6월 오픈점리스트_건물번호(120개 남음).xlsx')"
   ]
  },
  {
   "cell_type": "markdown",
   "id": "2e3c5ab7-f3a7-4056-bee1-95c88f019cec",
   "metadata": {},
   "source": [
    "###### test"
   ]
  },
  {
   "cell_type": "code",
   "execution_count": 516,
   "id": "fe52ea1b-c27d-4421-847f-a01921847ed5",
   "metadata": {},
   "outputs": [],
   "source": [
    "# 부번이 -0으로 들어간 경우\n",
    "df_sub = df_open[~df_open['도로명주소'].isin(df_kt['도로명주소'])]\n",
    "df_sub = df_sub.reset_index(drop=True)\n",
    "idx_0  = []\n",
    "nm_list= []"
   ]
  },
  {
   "cell_type": "code",
   "execution_count": 338,
   "id": "ec9f96cb-88ef-4ea8-a170-dcd4dc7f8e9e",
   "metadata": {},
   "outputs": [],
   "source": [
    "for i in df_sub.index:\n",
    "    idx_0.append(df_kt[[df_kt['도로명주소'].str.contains(df_sub['도로명주소'][i], na=False)]].index)\n",
    "    nm_list.append(i)"
   ]
  },
  {
   "cell_type": "code",
   "execution_count": 342,
   "id": "ce62dd08-907d-448e-94a2-51a4074eee7f",
   "metadata": {
    "collapsed": true,
    "jupyter": {
     "outputs_hidden": true
    },
    "tags": []
   },
   "outputs": [
    {
     "ename": "TypeError",
     "evalue": "unhashable type: 'Int64Index'",
     "output_type": "error",
     "traceback": [
      "\u001b[1;31m---------------------------------------------------------------------------\u001b[0m",
      "\u001b[1;31mTypeError\u001b[0m                                 Traceback (most recent call last)",
      "Input \u001b[1;32mIn [342]\u001b[0m, in \u001b[0;36m<cell line: 2>\u001b[1;34m()\u001b[0m\n\u001b[0;32m      1\u001b[0m df_sub[\u001b[38;5;124m'\u001b[39m\u001b[38;5;124mbd_mgt_sn\u001b[39m\u001b[38;5;124m'\u001b[39m] \u001b[38;5;241m=\u001b[39m \u001b[38;5;241m0\u001b[39m\n\u001b[1;32m----> 2\u001b[0m df_sub[\u001b[38;5;124m'\u001b[39m\u001b[38;5;124mbd_mgt_sn\u001b[39m\u001b[38;5;124m'\u001b[39m][i] \u001b[38;5;241m=\u001b[39m \u001b[43mdf_kt\u001b[49m\u001b[38;5;241;43m.\u001b[39;49m\u001b[43mloc\u001b[49m\u001b[43m[\u001b[49m\u001b[43midx_0\u001b[49m\u001b[43m,\u001b[49m\u001b[38;5;124;43m'\u001b[39;49m\u001b[38;5;124;43mbd_mgt_sn\u001b[39;49m\u001b[38;5;124;43m'\u001b[39;49m\u001b[43m]\u001b[49m\n",
      "File \u001b[1;32m~\\anaconda3\\envs\\oasis\\lib\\site-packages\\pandas\\core\\indexing.py:961\u001b[0m, in \u001b[0;36m_LocationIndexer.__getitem__\u001b[1;34m(self, key)\u001b[0m\n\u001b[0;32m    959\u001b[0m     \u001b[38;5;28;01mif\u001b[39;00m \u001b[38;5;28mself\u001b[39m\u001b[38;5;241m.\u001b[39m_is_scalar_access(key):\n\u001b[0;32m    960\u001b[0m         \u001b[38;5;28;01mreturn\u001b[39;00m \u001b[38;5;28mself\u001b[39m\u001b[38;5;241m.\u001b[39mobj\u001b[38;5;241m.\u001b[39m_get_value(\u001b[38;5;241m*\u001b[39mkey, takeable\u001b[38;5;241m=\u001b[39m\u001b[38;5;28mself\u001b[39m\u001b[38;5;241m.\u001b[39m_takeable)\n\u001b[1;32m--> 961\u001b[0m     \u001b[38;5;28;01mreturn\u001b[39;00m \u001b[38;5;28;43mself\u001b[39;49m\u001b[38;5;241;43m.\u001b[39;49m\u001b[43m_getitem_tuple\u001b[49m\u001b[43m(\u001b[49m\u001b[43mkey\u001b[49m\u001b[43m)\u001b[49m\n\u001b[0;32m    962\u001b[0m \u001b[38;5;28;01melse\u001b[39;00m:\n\u001b[0;32m    963\u001b[0m     \u001b[38;5;66;03m# we by definition only have the 0th axis\u001b[39;00m\n\u001b[0;32m    964\u001b[0m     axis \u001b[38;5;241m=\u001b[39m \u001b[38;5;28mself\u001b[39m\u001b[38;5;241m.\u001b[39maxis \u001b[38;5;129;01mor\u001b[39;00m \u001b[38;5;241m0\u001b[39m\n",
      "File \u001b[1;32m~\\anaconda3\\envs\\oasis\\lib\\site-packages\\pandas\\core\\indexing.py:1140\u001b[0m, in \u001b[0;36m_LocIndexer._getitem_tuple\u001b[1;34m(self, tup)\u001b[0m\n\u001b[0;32m   1138\u001b[0m \u001b[38;5;28;01mwith\u001b[39;00m suppress(IndexingError):\n\u001b[0;32m   1139\u001b[0m     tup \u001b[38;5;241m=\u001b[39m \u001b[38;5;28mself\u001b[39m\u001b[38;5;241m.\u001b[39m_expand_ellipsis(tup)\n\u001b[1;32m-> 1140\u001b[0m     \u001b[38;5;28;01mreturn\u001b[39;00m \u001b[38;5;28;43mself\u001b[39;49m\u001b[38;5;241;43m.\u001b[39;49m\u001b[43m_getitem_lowerdim\u001b[49m\u001b[43m(\u001b[49m\u001b[43mtup\u001b[49m\u001b[43m)\u001b[49m\n\u001b[0;32m   1142\u001b[0m \u001b[38;5;66;03m# no multi-index, so validate all of the indexers\u001b[39;00m\n\u001b[0;32m   1143\u001b[0m tup \u001b[38;5;241m=\u001b[39m \u001b[38;5;28mself\u001b[39m\u001b[38;5;241m.\u001b[39m_validate_tuple_indexer(tup)\n",
      "File \u001b[1;32m~\\anaconda3\\envs\\oasis\\lib\\site-packages\\pandas\\core\\indexing.py:891\u001b[0m, in \u001b[0;36m_LocationIndexer._getitem_lowerdim\u001b[1;34m(self, tup)\u001b[0m\n\u001b[0;32m    889\u001b[0m             \u001b[38;5;28;01mreturn\u001b[39;00m section\n\u001b[0;32m    890\u001b[0m         \u001b[38;5;66;03m# This is an elided recursive call to iloc/loc\u001b[39;00m\n\u001b[1;32m--> 891\u001b[0m         \u001b[38;5;28;01mreturn\u001b[39;00m \u001b[38;5;28;43mgetattr\u001b[39;49m\u001b[43m(\u001b[49m\u001b[43msection\u001b[49m\u001b[43m,\u001b[49m\u001b[43m \u001b[49m\u001b[38;5;28;43mself\u001b[39;49m\u001b[38;5;241;43m.\u001b[39;49m\u001b[43mname\u001b[49m\u001b[43m)\u001b[49m\u001b[43m[\u001b[49m\u001b[43mnew_key\u001b[49m\u001b[43m]\u001b[49m\n\u001b[0;32m    893\u001b[0m \u001b[38;5;28;01mraise\u001b[39;00m IndexingError(\u001b[38;5;124m\"\u001b[39m\u001b[38;5;124mnot applicable\u001b[39m\u001b[38;5;124m\"\u001b[39m)\n",
      "File \u001b[1;32m~\\anaconda3\\envs\\oasis\\lib\\site-packages\\pandas\\core\\indexing.py:967\u001b[0m, in \u001b[0;36m_LocationIndexer.__getitem__\u001b[1;34m(self, key)\u001b[0m\n\u001b[0;32m    964\u001b[0m axis \u001b[38;5;241m=\u001b[39m \u001b[38;5;28mself\u001b[39m\u001b[38;5;241m.\u001b[39maxis \u001b[38;5;129;01mor\u001b[39;00m \u001b[38;5;241m0\u001b[39m\n\u001b[0;32m    966\u001b[0m maybe_callable \u001b[38;5;241m=\u001b[39m com\u001b[38;5;241m.\u001b[39mapply_if_callable(key, \u001b[38;5;28mself\u001b[39m\u001b[38;5;241m.\u001b[39mobj)\n\u001b[1;32m--> 967\u001b[0m \u001b[38;5;28;01mreturn\u001b[39;00m \u001b[38;5;28;43mself\u001b[39;49m\u001b[38;5;241;43m.\u001b[39;49m\u001b[43m_getitem_axis\u001b[49m\u001b[43m(\u001b[49m\u001b[43mmaybe_callable\u001b[49m\u001b[43m,\u001b[49m\u001b[43m \u001b[49m\u001b[43maxis\u001b[49m\u001b[38;5;241;43m=\u001b[39;49m\u001b[43maxis\u001b[49m\u001b[43m)\u001b[49m\n",
      "File \u001b[1;32m~\\anaconda3\\envs\\oasis\\lib\\site-packages\\pandas\\core\\indexing.py:1191\u001b[0m, in \u001b[0;36m_LocIndexer._getitem_axis\u001b[1;34m(self, key, axis)\u001b[0m\n\u001b[0;32m   1188\u001b[0m     \u001b[38;5;28;01mif\u001b[39;00m \u001b[38;5;28mhasattr\u001b[39m(key, \u001b[38;5;124m\"\u001b[39m\u001b[38;5;124mndim\u001b[39m\u001b[38;5;124m\"\u001b[39m) \u001b[38;5;129;01mand\u001b[39;00m key\u001b[38;5;241m.\u001b[39mndim \u001b[38;5;241m>\u001b[39m \u001b[38;5;241m1\u001b[39m:\n\u001b[0;32m   1189\u001b[0m         \u001b[38;5;28;01mraise\u001b[39;00m \u001b[38;5;167;01mValueError\u001b[39;00m(\u001b[38;5;124m\"\u001b[39m\u001b[38;5;124mCannot index with multidimensional key\u001b[39m\u001b[38;5;124m\"\u001b[39m)\n\u001b[1;32m-> 1191\u001b[0m     \u001b[38;5;28;01mreturn\u001b[39;00m \u001b[38;5;28;43mself\u001b[39;49m\u001b[38;5;241;43m.\u001b[39;49m\u001b[43m_getitem_iterable\u001b[49m\u001b[43m(\u001b[49m\u001b[43mkey\u001b[49m\u001b[43m,\u001b[49m\u001b[43m \u001b[49m\u001b[43maxis\u001b[49m\u001b[38;5;241;43m=\u001b[39;49m\u001b[43maxis\u001b[49m\u001b[43m)\u001b[49m\n\u001b[0;32m   1193\u001b[0m \u001b[38;5;66;03m# nested tuple slicing\u001b[39;00m\n\u001b[0;32m   1194\u001b[0m \u001b[38;5;28;01mif\u001b[39;00m is_nested_tuple(key, labels):\n",
      "File \u001b[1;32m~\\anaconda3\\envs\\oasis\\lib\\site-packages\\pandas\\core\\indexing.py:1132\u001b[0m, in \u001b[0;36m_LocIndexer._getitem_iterable\u001b[1;34m(self, key, axis)\u001b[0m\n\u001b[0;32m   1129\u001b[0m \u001b[38;5;28mself\u001b[39m\u001b[38;5;241m.\u001b[39m_validate_key(key, axis)\n\u001b[0;32m   1131\u001b[0m \u001b[38;5;66;03m# A collection of keys\u001b[39;00m\n\u001b[1;32m-> 1132\u001b[0m keyarr, indexer \u001b[38;5;241m=\u001b[39m \u001b[38;5;28;43mself\u001b[39;49m\u001b[38;5;241;43m.\u001b[39;49m\u001b[43m_get_listlike_indexer\u001b[49m\u001b[43m(\u001b[49m\u001b[43mkey\u001b[49m\u001b[43m,\u001b[49m\u001b[43m \u001b[49m\u001b[43maxis\u001b[49m\u001b[43m)\u001b[49m\n\u001b[0;32m   1133\u001b[0m \u001b[38;5;28;01mreturn\u001b[39;00m \u001b[38;5;28mself\u001b[39m\u001b[38;5;241m.\u001b[39mobj\u001b[38;5;241m.\u001b[39m_reindex_with_indexers(\n\u001b[0;32m   1134\u001b[0m     {axis: [keyarr, indexer]}, copy\u001b[38;5;241m=\u001b[39m\u001b[38;5;28;01mTrue\u001b[39;00m, allow_dups\u001b[38;5;241m=\u001b[39m\u001b[38;5;28;01mTrue\u001b[39;00m\n\u001b[0;32m   1135\u001b[0m )\n",
      "File \u001b[1;32m~\\anaconda3\\envs\\oasis\\lib\\site-packages\\pandas\\core\\indexing.py:1327\u001b[0m, in \u001b[0;36m_LocIndexer._get_listlike_indexer\u001b[1;34m(self, key, axis)\u001b[0m\n\u001b[0;32m   1324\u001b[0m ax \u001b[38;5;241m=\u001b[39m \u001b[38;5;28mself\u001b[39m\u001b[38;5;241m.\u001b[39mobj\u001b[38;5;241m.\u001b[39m_get_axis(axis)\n\u001b[0;32m   1325\u001b[0m axis_name \u001b[38;5;241m=\u001b[39m \u001b[38;5;28mself\u001b[39m\u001b[38;5;241m.\u001b[39mobj\u001b[38;5;241m.\u001b[39m_get_axis_name(axis)\n\u001b[1;32m-> 1327\u001b[0m keyarr, indexer \u001b[38;5;241m=\u001b[39m \u001b[43max\u001b[49m\u001b[38;5;241;43m.\u001b[39;49m\u001b[43m_get_indexer_strict\u001b[49m\u001b[43m(\u001b[49m\u001b[43mkey\u001b[49m\u001b[43m,\u001b[49m\u001b[43m \u001b[49m\u001b[43maxis_name\u001b[49m\u001b[43m)\u001b[49m\n\u001b[0;32m   1329\u001b[0m \u001b[38;5;28;01mreturn\u001b[39;00m keyarr, indexer\n",
      "File \u001b[1;32m~\\anaconda3\\envs\\oasis\\lib\\site-packages\\pandas\\core\\indexes\\base.py:5777\u001b[0m, in \u001b[0;36mIndex._get_indexer_strict\u001b[1;34m(self, key, axis_name)\u001b[0m\n\u001b[0;32m   5774\u001b[0m     keyarr \u001b[38;5;241m=\u001b[39m com\u001b[38;5;241m.\u001b[39masarray_tuplesafe(keyarr)\n\u001b[0;32m   5776\u001b[0m \u001b[38;5;28;01mif\u001b[39;00m \u001b[38;5;28mself\u001b[39m\u001b[38;5;241m.\u001b[39m_index_as_unique:\n\u001b[1;32m-> 5777\u001b[0m     indexer \u001b[38;5;241m=\u001b[39m \u001b[38;5;28;43mself\u001b[39;49m\u001b[38;5;241;43m.\u001b[39;49m\u001b[43mget_indexer_for\u001b[49m\u001b[43m(\u001b[49m\u001b[43mkeyarr\u001b[49m\u001b[43m)\u001b[49m\n\u001b[0;32m   5778\u001b[0m     keyarr \u001b[38;5;241m=\u001b[39m \u001b[38;5;28mself\u001b[39m\u001b[38;5;241m.\u001b[39mreindex(keyarr)[\u001b[38;5;241m0\u001b[39m]\n\u001b[0;32m   5779\u001b[0m \u001b[38;5;28;01melse\u001b[39;00m:\n",
      "File \u001b[1;32m~\\anaconda3\\envs\\oasis\\lib\\site-packages\\pandas\\core\\indexes\\base.py:5764\u001b[0m, in \u001b[0;36mIndex.get_indexer_for\u001b[1;34m(self, target)\u001b[0m\n\u001b[0;32m   5746\u001b[0m \u001b[38;5;124;03m\"\"\"\u001b[39;00m\n\u001b[0;32m   5747\u001b[0m \u001b[38;5;124;03mGuaranteed return of an indexer even when non-unique.\u001b[39;00m\n\u001b[0;32m   5748\u001b[0m \n\u001b[1;32m   (...)\u001b[0m\n\u001b[0;32m   5761\u001b[0m \u001b[38;5;124;03marray([0, 2])\u001b[39;00m\n\u001b[0;32m   5762\u001b[0m \u001b[38;5;124;03m\"\"\"\u001b[39;00m\n\u001b[0;32m   5763\u001b[0m \u001b[38;5;28;01mif\u001b[39;00m \u001b[38;5;28mself\u001b[39m\u001b[38;5;241m.\u001b[39m_index_as_unique:\n\u001b[1;32m-> 5764\u001b[0m     \u001b[38;5;28;01mreturn\u001b[39;00m \u001b[38;5;28;43mself\u001b[39;49m\u001b[38;5;241;43m.\u001b[39;49m\u001b[43mget_indexer\u001b[49m\u001b[43m(\u001b[49m\u001b[43mtarget\u001b[49m\u001b[43m)\u001b[49m\n\u001b[0;32m   5765\u001b[0m indexer, _ \u001b[38;5;241m=\u001b[39m \u001b[38;5;28mself\u001b[39m\u001b[38;5;241m.\u001b[39mget_indexer_non_unique(target)\n\u001b[0;32m   5766\u001b[0m \u001b[38;5;28;01mreturn\u001b[39;00m indexer\n",
      "File \u001b[1;32m~\\anaconda3\\envs\\oasis\\lib\\site-packages\\pandas\\core\\indexes\\base.py:3780\u001b[0m, in \u001b[0;36mIndex.get_indexer\u001b[1;34m(self, target, method, limit, tolerance)\u001b[0m\n\u001b[0;32m   3778\u001b[0m     this \u001b[38;5;241m=\u001b[39m \u001b[38;5;28mself\u001b[39m\u001b[38;5;241m.\u001b[39mastype(dtype, copy\u001b[38;5;241m=\u001b[39m\u001b[38;5;28;01mFalse\u001b[39;00m)\n\u001b[0;32m   3779\u001b[0m     target \u001b[38;5;241m=\u001b[39m target\u001b[38;5;241m.\u001b[39mastype(dtype, copy\u001b[38;5;241m=\u001b[39m\u001b[38;5;28;01mFalse\u001b[39;00m)\n\u001b[1;32m-> 3780\u001b[0m     \u001b[38;5;28;01mreturn\u001b[39;00m \u001b[43mthis\u001b[49m\u001b[38;5;241;43m.\u001b[39;49m\u001b[43m_get_indexer\u001b[49m\u001b[43m(\u001b[49m\n\u001b[0;32m   3781\u001b[0m \u001b[43m        \u001b[49m\u001b[43mtarget\u001b[49m\u001b[43m,\u001b[49m\u001b[43m \u001b[49m\u001b[43mmethod\u001b[49m\u001b[38;5;241;43m=\u001b[39;49m\u001b[43mmethod\u001b[49m\u001b[43m,\u001b[49m\u001b[43m \u001b[49m\u001b[43mlimit\u001b[49m\u001b[38;5;241;43m=\u001b[39;49m\u001b[43mlimit\u001b[49m\u001b[43m,\u001b[49m\u001b[43m \u001b[49m\u001b[43mtolerance\u001b[49m\u001b[38;5;241;43m=\u001b[39;49m\u001b[43mtolerance\u001b[49m\n\u001b[0;32m   3782\u001b[0m \u001b[43m    \u001b[49m\u001b[43m)\u001b[49m\n\u001b[0;32m   3784\u001b[0m \u001b[38;5;28;01mreturn\u001b[39;00m \u001b[38;5;28mself\u001b[39m\u001b[38;5;241m.\u001b[39m_get_indexer(target, method, limit, tolerance)\n",
      "File \u001b[1;32m~\\anaconda3\\envs\\oasis\\lib\\site-packages\\pandas\\core\\indexes\\base.py:3809\u001b[0m, in \u001b[0;36mIndex._get_indexer\u001b[1;34m(self, target, method, limit, tolerance)\u001b[0m\n\u001b[0;32m   3804\u001b[0m         \u001b[38;5;66;03m# error: \"IndexEngine\" has no attribute \"_extract_level_codes\"\u001b[39;00m\n\u001b[0;32m   3805\u001b[0m         tgt_values \u001b[38;5;241m=\u001b[39m engine\u001b[38;5;241m.\u001b[39m_extract_level_codes(  \u001b[38;5;66;03m# type: ignore[attr-defined]\u001b[39;00m\n\u001b[0;32m   3806\u001b[0m             target\n\u001b[0;32m   3807\u001b[0m         )\n\u001b[1;32m-> 3809\u001b[0m     indexer \u001b[38;5;241m=\u001b[39m \u001b[38;5;28;43mself\u001b[39;49m\u001b[38;5;241;43m.\u001b[39;49m\u001b[43m_engine\u001b[49m\u001b[38;5;241;43m.\u001b[39;49m\u001b[43mget_indexer\u001b[49m\u001b[43m(\u001b[49m\u001b[43mtgt_values\u001b[49m\u001b[43m)\u001b[49m\n\u001b[0;32m   3811\u001b[0m \u001b[38;5;28;01mreturn\u001b[39;00m ensure_platform_int(indexer)\n",
      "File \u001b[1;32m~\\anaconda3\\envs\\oasis\\lib\\site-packages\\pandas\\_libs\\index.pyx:305\u001b[0m, in \u001b[0;36mpandas._libs.index.IndexEngine.get_indexer\u001b[1;34m()\u001b[0m\n",
      "File \u001b[1;32mpandas\\_libs\\hashtable_class_helper.pxi:5247\u001b[0m, in \u001b[0;36mpandas._libs.hashtable.PyObjectHashTable.lookup\u001b[1;34m()\u001b[0m\n",
      "\u001b[1;31mTypeError\u001b[0m: unhashable type: 'Int64Index'"
     ]
    }
   ],
   "source": [
    "df_sub['bd_mgt_sn'] = 0\n",
    "df_sub['bd_mgt_sn'][i] = df_kt.loc[idx_0,'bd_mgt_sn']"
   ]
  },
  {
   "cell_type": "code",
   "execution_count": 517,
   "id": "cef54efd-3ac5-4bf5-90ff-beef3317494b",
   "metadata": {
    "tags": []
   },
   "outputs": [],
   "source": [
    "# 주소 수정 후 다시 돌림\n",
    "df_open['도로명주소'][i] = df_open['도로명주소'][idx_sub].str.split(')').str[0]"
   ]
  },
  {
   "cell_type": "markdown",
   "id": "b9eaaa8a-fcc2-4950-8321-8522fd473e7f",
   "metadata": {
    "tags": []
   },
   "source": [
    "###### test"
   ]
  },
  {
   "cell_type": "markdown",
   "id": "b446ef38-9175-46d5-9728-1968ce4736ef",
   "metadata": {
    "jp-MarkdownHeadingCollapsed": true,
    "tags": []
   },
   "source": [
    "### 세부주소 포맷\n",
    "(([가-힣]+(d|)+(읍|면|동|가|리)) # 읍면동 찾기\n",
    "( |)((d(~|-)d|d)(가|리|)|)) # 리\n",
    "([ ](산(d(~|-)d|d))|)|(([가-R]|(d(~|-)d)|d)+(로|길)) #로길\n",
    "+[ ,]+\n",
    "(((d)|(d번지)|(d(~|-)d)|(d(~|-)d번지))|(((지하)d)|((지하)d번지)|((지하)d(~|-)d)|((지하)d(~|-)d번지)))"
   ]
  },
  {
   "cell_type": "code",
   "execution_count": null,
   "id": "902da357-5998-490a-a0f3-f1113ff86ce1",
   "metadata": {},
   "outputs": [],
   "source": [
    "import re"
   ]
  },
  {
   "cell_type": "code",
   "execution_count": 10,
   "id": "949da3e7-e848-43aa-85b3-97a1a5ddf77a",
   "metadata": {},
   "outputs": [
    {
     "data": {
      "text/html": [
       "<div>\n",
       "<style scoped>\n",
       "    .dataframe tbody tr th:only-of-type {\n",
       "        vertical-align: middle;\n",
       "    }\n",
       "\n",
       "    .dataframe tbody tr th {\n",
       "        vertical-align: top;\n",
       "    }\n",
       "\n",
       "    .dataframe thead th {\n",
       "        text-align: right;\n",
       "    }\n",
       "</style>\n",
       "<table border=\"1\" class=\"dataframe\">\n",
       "  <thead>\n",
       "    <tr style=\"text-align: right;\">\n",
       "      <th></th>\n",
       "      <th>NO.</th>\n",
       "      <th>점포명</th>\n",
       "      <th>주소전체</th>\n",
       "    </tr>\n",
       "  </thead>\n",
       "  <tbody>\n",
       "    <tr>\n",
       "      <th>0</th>\n",
       "      <td>1</td>\n",
       "      <td>오산원동대림점</td>\n",
       "      <td>경기 오산시 원동 900(오산로132번길 8)</td>\n",
       "    </tr>\n",
       "    <tr>\n",
       "      <th>1</th>\n",
       "      <td>2</td>\n",
       "      <td>병점스테이점</td>\n",
       "      <td>경기 화성시 병점동 374-5, 101호(떡전골로 72-6)</td>\n",
       "    </tr>\n",
       "    <tr>\n",
       "      <th>2</th>\n",
       "      <td>3</td>\n",
       "      <td>정남만년로점</td>\n",
       "      <td>경기 화성시 정남면 괘랑리 305-11(괘랑리 305-11)</td>\n",
       "    </tr>\n",
       "    <tr>\n",
       "      <th>3</th>\n",
       "      <td>4</td>\n",
       "      <td>화성남양양우점</td>\n",
       "      <td>경기 화성 남양읍 남양리 2294-9 103,104호(시청로 66)</td>\n",
       "    </tr>\n",
       "    <tr>\n",
       "      <th>4</th>\n",
       "      <td>5</td>\n",
       "      <td>안양미도점</td>\n",
       "      <td>경기 안양시 만안구 안양동 371-6(안양로 29)</td>\n",
       "    </tr>\n",
       "    <tr>\n",
       "      <th>...</th>\n",
       "      <td>...</td>\n",
       "      <td>...</td>\n",
       "      <td>...</td>\n",
       "    </tr>\n",
       "    <tr>\n",
       "      <th>424</th>\n",
       "      <td>425</td>\n",
       "      <td>부안하이스트점</td>\n",
       "      <td>전북 부안군 부안읍 서외리 446-3, 상가동 114호, 115호(번영로 63-10)</td>\n",
       "    </tr>\n",
       "    <tr>\n",
       "      <th>425</th>\n",
       "      <td>426</td>\n",
       "      <td>제주외도부영점</td>\n",
       "      <td>제주 제주시 외도일동 550-10(우정로11길 12)</td>\n",
       "    </tr>\n",
       "    <tr>\n",
       "      <th>426</th>\n",
       "      <td>427</td>\n",
       "      <td>서귀포신천리점</td>\n",
       "      <td>제주 서귀포시  성산읍 신천리 220-10(신천로49번길 32)</td>\n",
       "    </tr>\n",
       "    <tr>\n",
       "      <th>427</th>\n",
       "      <td>428</td>\n",
       "      <td>서귀포신산리점</td>\n",
       "      <td>제주 서귀포시  성산읍 신산리 607-2(일주동로 5065)</td>\n",
       "    </tr>\n",
       "    <tr>\n",
       "      <th>428</th>\n",
       "      <td>429</td>\n",
       "      <td>제주시민회관점</td>\n",
       "      <td>제주 제주시 이도일동 1527-3(중앙로19길 2)</td>\n",
       "    </tr>\n",
       "  </tbody>\n",
       "</table>\n",
       "<p>429 rows × 3 columns</p>\n",
       "</div>"
      ],
      "text/plain": [
       "     NO.      점포명                                             주소전체\n",
       "0      1  오산원동대림점                        경기 오산시 원동 900(오산로132번길 8)\n",
       "1      2   병점스테이점                경기 화성시 병점동 374-5, 101호(떡전골로 72-6)\n",
       "2      3   정남만년로점                경기 화성시 정남면 괘랑리 305-11(괘랑리 305-11)\n",
       "3      4  화성남양양우점            경기 화성 남양읍 남양리 2294-9 103,104호(시청로 66)\n",
       "4      5    안양미도점                     경기 안양시 만안구 안양동 371-6(안양로 29)\n",
       "..   ...      ...                                              ...\n",
       "424  425  부안하이스트점  전북 부안군 부안읍 서외리 446-3, 상가동 114호, 115호(번영로 63-10)\n",
       "425  426  제주외도부영점                    제주 제주시 외도일동 550-10(우정로11길 12)\n",
       "426  427  서귀포신천리점              제주 서귀포시  성산읍 신천리 220-10(신천로49번길 32)\n",
       "427  428  서귀포신산리점                제주 서귀포시  성산읍 신산리 607-2(일주동로 5065)\n",
       "428  429  제주시민회관점                     제주 제주시 이도일동 1527-3(중앙로19길 2)\n",
       "\n",
       "[429 rows x 3 columns]"
      ]
     },
     "execution_count": 10,
     "metadata": {},
     "output_type": "execute_result"
    }
   ],
   "source": [
    "df_open"
   ]
  },
  {
   "cell_type": "code",
   "execution_count": 551,
   "id": "3bc02237-ca57-4b05-826f-f46b6e4955bd",
   "metadata": {},
   "outputs": [
    {
     "data": {
      "text/plain": [
       "'제주특별자치도 서귀포시'"
      ]
     },
     "execution_count": 551,
     "metadata": {},
     "output_type": "execute_result"
    }
   ],
   "source": [
    "# 시도 검색\n",
    "regex = r'(([가-힣]+(시|도))( |)[가-힣]+(시|군|구))'\n",
    "test  = '제주특별자치도 서귀포시 일주동로 5065'\n",
    "x = re.search(regex, test)\n",
    "x.group()"
   ]
  },
  {
   "cell_type": "code",
   "execution_count": 558,
   "id": "02f6c733-4cb4-4209-a855-940ba9c9d831",
   "metadata": {},
   "outputs": [
    {
     "data": {
      "text/plain": [
       "'제주특별자치도 서귀포시'"
      ]
     },
     "execution_count": 558,
     "metadata": {},
     "output_type": "execute_result"
    }
   ],
   "source": [
    "# 시도 검색 ver2\n",
    "regex = r'(([가-힣]+(시|도)|[서울]|[인천]|[대구]|[광주]|[부산]|[울산])( |)[가-힣]+(시|군|구))|'\n",
    "test  = '제주특별자치도 서귀포시 일주동로 5065'\n",
    "x = re.search(regex, test)\n",
    "x.group()"
   ]
  },
  {
   "cell_type": "code",
   "execution_count": 560,
   "id": "6604f1a8-f49e-4d14-a6b0-a901b66f37d4",
   "metadata": {},
   "outputs": [
    {
     "data": {
      "text/plain": [
       "'일주동'"
      ]
     },
     "execution_count": 560,
     "metadata": {},
     "output_type": "execute_result"
    }
   ],
   "source": [
    "# 읍면동 검색\n",
    "regex = r'([가-힣]+(d|d(,|.)d|)+(읍|면|동|가|리))(^구|)'\n",
    "test  = '제주특별자치도 서귀포시 일주동로 5065'\n",
    "x = re.search(regex, test)\n",
    "x.group()"
   ]
  },
  {
   "cell_type": "code",
   "execution_count": 566,
   "id": "7424c5d1-d929-4e7e-955d-5234fa35862f",
   "metadata": {},
   "outputs": [
    {
     "data": {
      "text/plain": [
       "''"
      ]
     },
     "execution_count": 566,
     "metadata": {},
     "output_type": "execute_result"
    }
   ],
   "source": [
    "# 읍면동 검색\n",
    "regex = r'((d(~|-)d|d)(가|리|)|)|(([가-힣]|(d(~|-)d)|d)+(로|길))'\n",
    "test  = '제주특별자치도 서귀포시 일주리 일주동로 5065'\n",
    "x = re.search(regex, test)\n",
    "x.group()"
   ]
  },
  {
   "cell_type": "code",
   "execution_count": 528,
   "id": "c3ed8a9a-cb2d-4b1d-bf7b-88e3fc663488",
   "metadata": {},
   "outputs": [
    {
     "data": {
      "text/plain": [
       "''"
      ]
     },
     "execution_count": 528,
     "metadata": {},
     "output_type": "execute_result"
    }
   ],
   "source": [
    "# regex = r'(\\w+[시,도]\\s*)?(\\w+[구,시,군]\\s*)?(\\w+[구,시,로]\\s*)?(\\w+[면,읍]\\s*)?(\\w+\\d*\\w*[동,리,로,길]\\s*)?(\\w*\\d+-?\\d*)?' # 법정동 포맷\n",
    "# regex = r'(\\w+[시,도]\\s*)?(\\w+[구,시,군]\\s*)?(\\w+[구,시,로]\\s*)?(\\w+\\d*\\w*[리,로,길]\\s*)?(\\w+\\d*\\w*[길]\\s*)?(\\w*\\d+-?\\d*)?' # 도로명 포맷\n",
    "regex = r'(\\w+\\d*\\w*[길]\\s*)?(\\w*\\d+-?\\d*)?' # 도로명(00길 0-0) 포맷\n",
    "test  = '제주특별자치도 서귀포시 일주동로 5065'\n",
    "x = re.search(regex, test)\n",
    "x.group()"
   ]
  },
  {
   "cell_type": "code",
   "execution_count": 99,
   "id": "c901f581-dd3a-4326-8690-82841a863b94",
   "metadata": {},
   "outputs": [],
   "source": [
    "# regex = r'(\\w+\\d*\\w*[로]\\s*)?(\\w*\\d+-?\\d*)?'"
   ]
  },
  {
   "cell_type": "code",
   "execution_count": 104,
   "id": "3a39d253-aa94-46e3-85fb-bfe6d10712f1",
   "metadata": {},
   "outputs": [],
   "source": [
    "all_ = []"
   ]
  },
  {
   "cell_type": "code",
   "execution_count": 105,
   "id": "e0bc6c64-15c4-4875-b842-114bdfde7f67",
   "metadata": {
    "tags": []
   },
   "outputs": [],
   "source": [
    "all_values = df_open[~df_open['도로명주소'].isin(df_kt['도로명주소'])]['도로명주소']\n",
    "for s in all_values:\n",
    "    x = re.search(regex, s)\n",
    "    all_.append(x.group())"
   ]
  },
  {
   "cell_type": "code",
   "execution_count": 107,
   "id": "2836e594-4e5e-476d-8448-7bd2f5b47557",
   "metadata": {},
   "outputs": [
    {
     "data": {
      "text/plain": [
       "0              경기도 오산시 오산로132번길 8\n",
       "2              경기도 화성시 괘랑리 305-11\n",
       "3                   경기도 화성 시청로 66\n",
       "4                  경기도 안양시 안양로 29\n",
       "5                경기도 수원시 서수원로 607\n",
       "                  ...            \n",
       "424            전라북도 부안군 번영로 63-10\n",
       "425    제주특별자치도 제주시 외도일동 우정로11길 12\n",
       "426       제주특별자치도 서귀포시 신천로49번길 32\n",
       "427        제주특별자치도 서귀포시 일주동로 5065\n",
       "428     제주특별자치도 제주시 이도일동 중앙로19길 2\n",
       "Name: 도로명주소, Length: 410, dtype: object"
      ]
     },
     "execution_count": 107,
     "metadata": {},
     "output_type": "execute_result"
    }
   ],
   "source": [
    "df_open[~df_open['도로명주소'].isin(df_kt['도로명주소'])]['도로명주소']"
   ]
  },
  {
   "cell_type": "code",
   "execution_count": 106,
   "id": "b7cfcaf4-a4d6-46c2-a7f6-910bdefcfc18",
   "metadata": {
    "collapsed": true,
    "jupyter": {
     "outputs_hidden": true
    },
    "tags": []
   },
   "outputs": [
    {
     "data": {
      "text/plain": [
       "['경기도 오산시 오산로132번길 8',\n",
       " '경기도 화성시 괘랑리 305-11',\n",
       " '경기도 ',\n",
       " '경기도 안양시 안양로 29',\n",
       " '경기도 수원시 서수원로 607',\n",
       " '서울특별시 관악구 봉천로 295-1',\n",
       " '서울특별시 관악구 ',\n",
       " '서울특별시 동작구 국사봉8길77',\n",
       " '경기도 수원시 광교산로 154-42',\n",
       " '경기도 군포시 번영로330',\n",
       " '경기도 군포시 용호1로5번길11',\n",
       " '경기도 군포시 당동로 32번길 25',\n",
       " '인천광역시 부평구 새갈로 10',\n",
       " '인천광역시 부평구 주부토로 236',\n",
       " '인천광역시 부평구 주부토로 236',\n",
       " '인천광역시 중구 운중로175',\n",
       " '인천광역시 남동구 문화서로17번길6',\n",
       " '인천광역시 중구 하늘달빛로 95',\n",
       " '인천광역시 부평구 주부토로 69',\n",
       " '인천광역시 계양구 경명대로 ',\n",
       " '인천광역시 계양구 계양대로 ',\n",
       " '인천광역시 서구 ',\n",
       " '인천광역시 서구 대곡로123번길 4',\n",
       " '인천광역시 미추홀구 경원대로864번길12',\n",
       " '인천광역시 동구 연송로 4',\n",
       " '경기도 남양주시 남가로 1817',\n",
       " '경기도 포천시 금강로 3137',\n",
       " '경기도 남양주시 진건오남로884번길23',\n",
       " '경기도 의정부시 세석로20',\n",
       " '경기도 남양주시 수레로 587',\n",
       " '경기도 가평군 비룡로 1972',\n",
       " '서울특별시 도봉구 시루봉로 205',\n",
       " '서울특별시 성북구 장위로 38',\n",
       " '서울특별시 강북구 노해로 56',\n",
       " '서울특별시 서대문구 응암로 126',\n",
       " '서울특별시 중구 무교로13',\n",
       " '서울특별시 성북구 서경로28',\n",
       " '경기도 동두천시 동두천로175',\n",
       " '경기도 파주시 자유로 2210',\n",
       " '경기도 양주시 그루고개로210',\n",
       " '경기도 양주시 부흥로 2162',\n",
       " '경기도 고양시 통일로 1282',\n",
       " '경기도 양주시 평화로 1261번길 82',\n",
       " '경기도 고양시 호수로 856번길 56-1',\n",
       " '경기도 김포시 봉화로182번길 33',\n",
       " '경기도 광주시 봉골길 86-1',\n",
       " '서울특별시 송파구 백제고분로 24길 3',\n",
       " '경기도 광주시 담안길 24',\n",
       " '경기도 이천시 향교로49',\n",
       " '경기도 광주시 광여로489',\n",
       " '경기도 이천시 진상미로2158',\n",
       " '경기도 용인시 고기로45번길 40',\n",
       " '경기도 용인시 동백죽전대로527번길 100-20',\n",
       " '경기도 성남시 순환로198번길 12',\n",
       " '경기도 용인시 용구대로 2771번길 66',\n",
       " '경기도 성남시 공원로 360',\n",
       " '강원도 삼척시 ',\n",
       " '강원도 원주시 남원로 252',\n",
       " '강원도 화천군 봉오새싹길2',\n",
       " '강원도 춘천시 ',\n",
       " '강원도 춘천시 김유정로 1864',\n",
       " '대전광역시 중구 ',\n",
       " '대전광역시 중구 1',\n",
       " '대전광역시 중구 3',\n",
       " '대전광역시 유성구 성대로1689번길 28',\n",
       " '대전광역시 유성구 안북로 62',\n",
       " '대전광역시 유성구 전민로70번길 13',\n",
       " '경기도 안성시 안성맞춤대로 792',\n",
       " '경기도 안성시 비룡1길 31',\n",
       " '경기도 안성시 미륵로 307',\n",
       " '충청북도 옥천군 지전리 75-13',\n",
       " '충청북도 청주시 무농정로 116-6',\n",
       " '충청남도 논산시 관촉로 289',\n",
       " '충청북도 청주시 관정길 185-41',\n",
       " '충청남도 천안시 천흥4길 88',\n",
       " '충청남도 천안시 중앙로 225',\n",
       " '경기도 평택시 경기대로 1188',\n",
       " '경기도 평택시 이충로35번길 51',\n",
       " '충청남도 아산시 스마트산단1로 23',\n",
       " '경기도 평택시 평택4로 56',\n",
       " '충청남도 홍성군 내포로 239',\n",
       " '충청남도 서산시 한티로 297',\n",
       " '대구광역시 달서구 월배로75길 27',\n",
       " '대구광역시 서구 채보상로43길 15',\n",
       " '대구광역시 달성군 테크노대로5길 57',\n",
       " '대구광역시 달서구 조암남로 43',\n",
       " '대구광역시 서구 염색공단천로 2',\n",
       " '대구광역시 달성군 세천로7길 15',\n",
       " '경상북도 구미시 봉곡로 6길 24',\n",
       " '경상북도 봉화군 봉화로 1090',\n",
       " '대구광역시 북구 대구 ',\n",
       " '대구광역시 수성구 동대구로 336',\n",
       " '경상북도 안동시 퇴계로 2125',\n",
       " '경상북도 경산시 경안길43길26',\n",
       " '경상북도 포항시 문덕로53번길 11',\n",
       " '경상북도 ',\n",
       " '경상북도 경산시 공단로 505',\n",
       " '부산광역시 남구 유엔평화로 8',\n",
       " '부산광역시 수영구 연수로357번길 8',\n",
       " '부산광역시 부산진구 성지로 123',\n",
       " '부산광역시 사하구 사리로106',\n",
       " '부산광역시 사하구 낙동대로372번길 10',\n",
       " '경상남도 양산시 양주2길 48',\n",
       " '울산광역시 남구 문수로483번길 5',\n",
       " '울산광역시 북구 신천로 103',\n",
       " '경상남도 거제시 아주2로 137',\n",
       " '경상남도 남해군 남해대로 3623',\n",
       " '광주광역시 동구 ',\n",
       " '광주광역시 북구 설죽로 620',\n",
       " '전라남도 영암군 ',\n",
       " '전라남도 무안군 공원길34',\n",
       " '전라남도 광양시 가야로 345',\n",
       " '광주광역시 광산구 왕버들로 265',\n",
       " '전라북도 임실군 춘향로 2036',\n",
       " '전라북도 장수군 장수로 476',\n",
       " '전라북도 군산시 동메3길 31',\n",
       " '전라북도 군산시 미장남로 100',\n",
       " '전라북도 남원시 왕정동122-1',\n",
       " '전라북도 전주시 봉곡2길23',\n",
       " '전라북도 전주시 송천로 24',\n",
       " '전라북도 김제시 원평9길7',\n",
       " '제주특별자치도 제주시 조천읍 신북로 66',\n",
       " '제주특별자치도 제주시 애월읍 일주서로 6288',\n",
       " '서울특별시 금천구 독산로 364',\n",
       " '경기도 의왕시 내손공원길 65',\n",
       " '서울특별시 강남구 테헤란로7길22',\n",
       " '경기도 화성시 궁평항로 104',\n",
       " '경기도 화성시 수촌큰말길 1',\n",
       " '경기도 화성시 장안로 894',\n",
       " '경기도 화성시 만년로 471',\n",
       " '경기도 화성시 버들로 1063',\n",
       " '경기도 화성시 조암동로 10',\n",
       " '경기도 화성시 경기동로 489',\n",
       " '경기도 수원시 서둔로200번길 23',\n",
       " '경기도 수원시 월드컵로453번길 32',\n",
       " '경기도 화성시 동탄문화센터로 39',\n",
       " '경기도 안양시 비산로 17',\n",
       " '경기도 부천시 소사로 300번길 62',\n",
       " '경기도 안양시 덕천로 152번길 25',\n",
       " '경기도 안양시 덕천로 152번길 25',\n",
       " '경기도 부천시 신흥로 61',\n",
       " '경기도 안산시 성포로30',\n",
       " '경기도 시흥시 수인로3312번길 16',\n",
       " '경기도 시흥시 은계번영길 1',\n",
       " '인천광역시 연수구 ',\n",
       " '인천광역시 연수구 컨벤시아대로230번길 54',\n",
       " '인천광역시 부평구 광장로 지하15',\n",
       " '인천광역시 미추홀구 수봉로 33번길 28-26',\n",
       " '인천광역시 남동구 용천로153번길11',\n",
       " '인천광역시 연수구 새말로107번길 6',\n",
       " '인천광역시 미추홀구 주안동로 12번길 2',\n",
       " '인천광역시 부평구 부평문화로16번길 19',\n",
       " '인천광역시 부평구 경인로 1103',\n",
       " '인천광역시 동구 솔빛로 17',\n",
       " '경기도 구리시 동구릉로136번길 90',\n",
       " '경기도 포천시 봉솔로 20-1',\n",
       " '경기도 남양주시 소래비로 450',\n",
       " '경기도 구리시 안골로63번길 14',\n",
       " '경기도 포천시 청군로 3133',\n",
       " '경기도 남양주시 별내3로 26',\n",
       " '서울특별시 광진구 아차산로70길 75',\n",
       " '서울특별시 용산구 원효로97길 15',\n",
       " '서울특별시 종로구 종로6',\n",
       " '서울특별시 강북구 오현로 156',\n",
       " '서울특별시 노원구 중계로8길 40',\n",
       " '서울특별시 마포구 월드컵북로20안길 1',\n",
       " '서울특별시 도봉구 방학로3길 108',\n",
       " '경기도 파주시 운정4길 190',\n",
       " '경기도 파주시 산남로 97',\n",
       " '경기도 고양시 킨텍스로 255-3',\n",
       " '경기도 파주시 안능안길 6',\n",
       " '경기도 파주시 부흥로 30',\n",
       " '경기도 파주시 엘지로 220',\n",
       " '경기도 고양시 ',\n",
       " '서울특별시 양천구 중앙로48길 34',\n",
       " '서울특별시 양천구 곰달래로5길 59',\n",
       " '서울특별시 구로구 동로11길 26',\n",
       " '경기도 김포시 담터로 2',\n",
       " '경기도 광주시 도곡길 26',\n",
       " '서울특별시 송파구 백제고분로 50길 19-28',\n",
       " '경기도 하남시 천현로 73',\n",
       " '서울특별시 강동구 천호대로 1172',\n",
       " '경기도 용인시 백옥대로 737',\n",
       " '경기도 성남시 판교대장로3길 30',\n",
       " '경기도 성남시 복정로 158길 5',\n",
       " '경기도 성남시 태평로 74번길 21-1',\n",
       " '경기도 성남시 서현로210번길 2',\n",
       " '충청북도 충주시 동수11길 27',\n",
       " '충청북도 충주시 지곡10길 16',\n",
       " '강원도 원주시 반산1로 22',\n",
       " '강원도 춘천시 방송길 77',\n",
       " '강원도 원주시 ',\n",
       " '강원도 강릉시 범일로 597',\n",
       " '강원도 원주시 양지로 80',\n",
       " '강원도 원주시 북원로2485번길 26',\n",
       " '강원도 속초시 청초호반로 54',\n",
       " '강원도 고성군 백도해변길78',\n",
       " '대전광역시 동구 계족로512번길 88',\n",
       " '대전광역시 서구 저동로90번길 47',\n",
       " '대전광역시 동구 동대전로 131번길 40-2',\n",
       " '충청북도 음성군 북부로 547',\n",
       " '충청북도 음성군 음성로 383',\n",
       " '충청북도 음성군 덕금로 15',\n",
       " '충청북도 청주시 호미로201번길 37',\n",
       " '충청북도 청주시 산성로55번길 15',\n",
       " '충청남도 논산시 안심로 9',\n",
       " '충청북도 영동군  영산로 42',\n",
       " '충청남도 계룡시 금암로 135',\n",
       " '충청북도 청주시 오송생명11로 121',\n",
       " '충청북도 청주시 오산가좌로 388',\n",
       " '충청남도 천안시 성환9길 3-2',\n",
       " '세종특별자치시 세종시 국세청로 46',\n",
       " '세종특별자치시 세종시 나성북로 47',\n",
       " '충청남도 아산시 서부북로 582',\n",
       " '충청남도 아산시 월천4길 89',\n",
       " '경기도 평택시 지산1로 67',\n",
       " '경기도 평택시 포승공단로 239',\n",
       " '경기도 평택시 청북로 413',\n",
       " '충청남도 서산시 안견로 294',\n",
       " '충청남도 공주시 웅진로 131',\n",
       " '충청남도 서산시 예천4로 21',\n",
       " '대구광역시 달서구 월배로23길 13',\n",
       " '대구광역시 달성군 달구벌대로 844',\n",
       " '대구광역시 달서구 달구벌대로 1834',\n",
       " '대구광역시 달성군 서재로 56',\n",
       " '경상북도 칠곡군 구상길 157',\n",
       " '경상북도 구미시 공원로 370',\n",
       " '경상북도 안동시 경서로 4191',\n",
       " '경상북도 구미시 구미중앙로 72',\n",
       " '경상북도 구미시 봉곡북로15길 11',\n",
       " '대구광역시 수성구 대구 ',\n",
       " '대구광역시 중구 명덕로 33',\n",
       " '대구광역시 중구 달구벌대로 ',\n",
       " '대구광역시 동구 대구 ',\n",
       " '대구광역시 수성구 청수로24길 90',\n",
       " '경상북도 청도군 연지로 240',\n",
       " '경상북도 포항시 중앙로 419번길 22',\n",
       " '경상북도 경주시 대안길35번길10-1',\n",
       " '경상북도 포항시 청하로243번길 3',\n",
       " '부산광역시 북구 낙동대로 1684',\n",
       " '부산광역시 금정구 금강로279번길 67',\n",
       " '부산광역시 동구 수정공원로 113',\n",
       " '부산광역시 사하구 다대로 328',\n",
       " '부산광역시 부산진구 새싹로 127',\n",
       " '경상남도 양산시 계석로 14',\n",
       " '울산광역시 울주군 울산역로 373',\n",
       " '울산광역시 남구 월평로 70',\n",
       " '부산광역시 기장군 반송로 1407',\n",
       " '경상남도 양산시 삼호로 142',\n",
       " '경상남도 김해시 구산로 42번길 16',\n",
       " '경상남도 창원시 3',\n",
       " '경상남도 창원시 월영동13길 9',\n",
       " '경상남도 창원시 석동로 73번길 9',\n",
       " '경상남도 진주시 충의로282-5',\n",
       " '광주광역시 남구 화정로260번길 35',\n",
       " '전라남도 영암군 마한로 1261',\n",
       " '전라남도 영암군 예향로 1796',\n",
       " '광주광역시 광산구 소촌로 149번길 36-1',\n",
       " '전라남도 여수시 웅천로 371',\n",
       " '전라남도 여수시 돌산로 881',\n",
       " '전라북도 전주시 문학로8',\n",
       " '전라북도 남원시 244-1',\n",
       " '전라북도 익산시 동천로1길 9',\n",
       " '전라북도 군산시 가도로207',\n",
       " '전라북도 전주시 떡전3길 15-1',\n",
       " '전라북도 전주시 만성중앙로17-59',\n",
       " '제주특별자치도 서귀포시 평화로 618',\n",
       " '제주특별자치도 제주시 건입동 산지로23-2',\n",
       " '제주특별자치도 제주시 화북일동 진남로33',\n",
       " '제주특별자치도 제주시 연동 ',\n",
       " '경기도 군포시 오금로 71',\n",
       " '서울특별시 관악구 남부순환로161가길 6',\n",
       " '경기도 군포시 273번길 3-11',\n",
       " '서울특별시 동작구 대림로2',\n",
       " '서울특별시 관악구 조원로 15-2',\n",
       " '서울특별시 금천구 가산디지털2로 35',\n",
       " '경기도 화성시 송산산단3길 32',\n",
       " '경기도 화성시 삼천병마로 894-4',\n",
       " '경기도 화성시 서해로 434',\n",
       " '경기도 화성시 병점중앙로 83',\n",
       " '경기도 ',\n",
       " '경기도 수원시 덕영대로803번길 11',\n",
       " '경기도 화성시 동탄순환대로 14길 10',\n",
       " '경기도 수원시 정조로482번길 20',\n",
       " '경기도 부천시 경인로134번길 89',\n",
       " '경기도 부천시 경인로 463번가길 1',\n",
       " '경기도 시흥시 함송로 24',\n",
       " '경기도 안산시 화정로1길 23',\n",
       " '인천광역시 남동구 만수서로 53',\n",
       " '경기도 안산시 시화호수로 835',\n",
       " '인천광역시 남동구 석산로 166',\n",
       " '인천광역시 계양구 효서로363번길 4',\n",
       " '인천광역시 중구 백운로4',\n",
       " '인천광역시 미추홀구 석정로 10번길 25',\n",
       " '인천광역시 동구 방축로 191',\n",
       " '인천광역시 미추홀구 참외전로260',\n",
       " '인천광역시 미추홀구 참외전로 268',\n",
       " '인천광역시 서구 청라한내로 132',\n",
       " '인천광역시 서구 검암로 40번길 5-1',\n",
       " '경기도 의정부시 동일로711번길 11',\n",
       " '경기도 남양주시 ',\n",
       " '경기도 포천시 영일로989',\n",
       " '경기도 구리시 동구릉로460번길 9',\n",
       " '경기도 양평군 ',\n",
       " '경기도 포천시 호국로3586',\n",
       " '경기도 남양주시 경춘로 1718',\n",
       " '경기도 남양주시 비룡로 318',\n",
       " '서울특별시 성북구 화랑로48길 16',\n",
       " '서울특별시 동대문구 한빛로39',\n",
       " '서울특별시 마포구 성암로 179',\n",
       " '서울특별시 강북구 삼양로77가길 9',\n",
       " '서울특별시 노원구 동일로231길 86',\n",
       " '서울특별시 성북구 장월로 136',\n",
       " '경기도 양주시 칠봉산로 224',\n",
       " '경기도 양주시 고읍남로191번길 79',\n",
       " '경기도 양주시 ',\n",
       " '경기도 고양시 탄중로 233번길 2',\n",
       " '경기도 양주시 고암2나길 35',\n",
       " '경기도 김포시 김포한강11로 38',\n",
       " '인천광역시 강화군 강화남로 498',\n",
       " '서울특별시 강서구 우장산로15길 53',\n",
       " '서울특별시 강서구 ',\n",
       " '서울특별시 영등포구 도림로 144',\n",
       " '경기도 이천시 충대로2936번길 55',\n",
       " '경기도 광주시 모개미길 28',\n",
       " '서울특별시 강동구 천중로 17길 30',\n",
       " '서울특별시 송파구 석촌호수로 82',\n",
       " '서울특별시 강동구 구천면로 361',\n",
       " '경기도 광주시 양촌안길 35-62',\n",
       " '서울특별시 송파구 올림픽로 35길 112',\n",
       " '경기도 용인시 원양로475',\n",
       " '경기도 성님시 구미로100',\n",
       " '경기도 성남시 산성대로 468-1',\n",
       " '경기도 용인시 서그내로53번길 27-4',\n",
       " '경기도 여주시 이여로 1221',\n",
       " '강원도 영월군 단종로 179',\n",
       " '강원도 원주시 치악로 1615',\n",
       " '강원도 강릉시  해안로 904-4',\n",
       " '강원도 원주시 림황둔로 187',\n",
       " '강원도 고성군 천학정길 21',\n",
       " '강원도 양양군 동해대로 3347',\n",
       " '강원도 속초시 영랑행안8길 11',\n",
       " '대전광역시 중구 보문로67번길 20',\n",
       " '대전광역시 중구 동서대로1321번길 95',\n",
       " '대전광역시 서구 갈마로 181',\n",
       " '대전광역시 유성구 월드컵대로253번길 37',\n",
       " '대전광역시 서구 신갈마로181번길 20',\n",
       " '대전광역시 동구 동서대로 1679',\n",
       " '충청북도 음성군 덕정로 51',\n",
       " '충청북도 음성군 교연로 880',\n",
       " '충청북도 청주시 중흥로 175',\n",
       " '충청북도 청주시 단재로 1629',\n",
       " '충청북도 청주시 두릉유리로 339',\n",
       " '충청남도 천안시 삼방로 221',\n",
       " '충청남도 동남구 신계5길 47',\n",
       " '충청남도 천안시 향교1길 120',\n",
       " '충청남도 천안시 대흥1길 173-57',\n",
       " '경기도 평택시 서동대로 1239',\n",
       " '충청남도 아산시 월천2길 8-26',\n",
       " '경기도 평택시 고덕로 270',\n",
       " '충청남도 아산시 북수로 31',\n",
       " '충청남도 부여군 북토로 36',\n",
       " '충청남도 서산시 벌말1길 40',\n",
       " '경상북도 성주군 선노로 109',\n",
       " '경상북도 고령군 상곡길28',\n",
       " '대구광역시 달성군 대실역북로2길185',\n",
       " '대구광역시 달성군 비슬로539길 17',\n",
       " '경상북도 구미시 남문로21',\n",
       " '경상북도 구미시 인동중앙로5길 18',\n",
       " '경상북도 청도군 송서11길 4',\n",
       " '경상북도 구미시 산호대로27길 46',\n",
       " '대구광역시 동구 동부로 30길 69',\n",
       " '대구광역시 수성구 들안로78길 45',\n",
       " '대구광역시 동구 혁신대로 82',\n",
       " '경상북도 경산시 경산로 280',\n",
       " '경상북도 경산시 봉황길 70',\n",
       " '경상북도 영천시 칠백로 841-1',\n",
       " '경상북도 포항시 연일중앙로67',\n",
       " '부산광역시 수영구 수영로652번길 26',\n",
       " '부산광역시 동구 초량상로79번길 24',\n",
       " '울산광역시 북구 매산로 92',\n",
       " '울산광역시 울주군 방천5길 23',\n",
       " '부산광역시 기장군 ',\n",
       " '울산광역시 북구 무룡로 68',\n",
       " '부산광역시 동래구 사직로14번길 15',\n",
       " '경상남도 양산시 양산역6길 17',\n",
       " '경상남도 김해시 장유로171',\n",
       " '경상남도 양산시 청운로 343',\n",
       " '경상남도 밀양시 산외로 14',\n",
       " '경상남도 창원시 이동로28번길 3',\n",
       " '경상남도 밀양시 미리벌중앙로 83',\n",
       " '경상남도 남해군 남서대로1179번길 59',\n",
       " '경상남도 진주시 큰들로66',\n",
       " '경상남도 창원시 도계로 66',\n",
       " '경상남도 창녕군 남지중앙1',\n",
       " '전라남도 진도군 어류포길1-4',\n",
       " '전라남도 목포시 통일대로 11',\n",
       " '전라남도 목포시 해안로 148번길 14',\n",
       " '전라남도 여수시 오동도로 66',\n",
       " '전라남도 영광군 신남로 270',\n",
       " '전라남도 여수시 신월로 801',\n",
       " '전라남도 여수시 서부로 1891',\n",
       " '전라북도 전주시 공수내로19',\n",
       " '전라북도 전주시 태평4길 11',\n",
       " '전라북도 익산시 궁동로 109',\n",
       " '전라북도 부안군 번영로 63-10',\n",
       " '제주특별자치도 제주시 외도일동 우정로11길 12',\n",
       " '제주특별자치도 서귀포시 신천로49번길 32',\n",
       " '제주특별자치도 서귀포시 일주동로 5065',\n",
       " '제주특별자치도 제주시 이도일동 중앙로19길 2']"
      ]
     },
     "execution_count": 106,
     "metadata": {},
     "output_type": "execute_result"
    }
   ],
   "source": [
    "all_"
   ]
  },
  {
   "cell_type": "code",
   "execution_count": 21,
   "id": "6539244c-f989-4ec1-9810-db33ceac35ed",
   "metadata": {},
   "outputs": [
    {
     "data": {
      "text/html": [
       "<div>\n",
       "<style scoped>\n",
       "    .dataframe tbody tr th:only-of-type {\n",
       "        vertical-align: middle;\n",
       "    }\n",
       "\n",
       "    .dataframe tbody tr th {\n",
       "        vertical-align: top;\n",
       "    }\n",
       "\n",
       "    .dataframe thead th {\n",
       "        text-align: right;\n",
       "    }\n",
       "</style>\n",
       "<table border=\"1\" class=\"dataframe\">\n",
       "  <thead>\n",
       "    <tr style=\"text-align: right;\">\n",
       "      <th></th>\n",
       "      <th>base_ym</th>\n",
       "      <th>bd_mgt_sn</th>\n",
       "      <th>sido_cd</th>\n",
       "      <th>sido_nm</th>\n",
       "      <th>sig_cd</th>\n",
       "      <th>sig_nm</th>\n",
       "      <th>emd_cd</th>\n",
       "      <th>emd_nm</th>\n",
       "      <th>rn_cd</th>\n",
       "      <th>rn</th>\n",
       "      <th>buld_mnnm</th>\n",
       "      <th>buld_slno</th>\n",
       "      <th>ftc_cate2_cd</th>\n",
       "      <th>pred_slng_amt</th>\n",
       "      <th>도로명주소</th>\n",
       "    </tr>\n",
       "  </thead>\n",
       "  <tbody>\n",
       "  </tbody>\n",
       "</table>\n",
       "</div>"
      ],
      "text/plain": [
       "Empty DataFrame\n",
       "Columns: [base_ym, bd_mgt_sn, sido_cd, sido_nm, sig_cd, sig_nm, emd_cd, emd_nm, rn_cd, rn, buld_mnnm, buld_slno, ftc_cate2_cd, pred_slng_amt, 도로명주소]\n",
       "Index: []"
      ]
     },
     "execution_count": 21,
     "metadata": {},
     "output_type": "execute_result"
    }
   ],
   "source": [
    "df_kt[df_kt['도로명주소'].str.contains(test, na=False)]"
   ]
  },
  {
   "cell_type": "code",
   "execution_count": null,
   "id": "0e991a22-46fb-4a45-960c-ddbc08291af2",
   "metadata": {},
   "outputs": [],
   "source": [
    "# 주소 쪼개서 검색\n",
    "idx = df_kt[df_kt['도로명주소'].str.contains('서울특별시 영등포구', na=False) & df_kt['도로명주소'].str.contains('도신로48길', na=False) & df_kt['도로명주소'].str.contains('11-2', na=False)].index"
   ]
  },
  {
   "cell_type": "markdown",
   "id": "b640d43e-5405-4fa2-a732-15702ea27bf0",
   "metadata": {},
   "source": [
    "인덱스 추출 -> 값 추출"
   ]
  },
  {
   "cell_type": "code",
   "execution_count": null,
   "id": "ddbed0a8-c48f-4d0a-b5da-37f7295ae285",
   "metadata": {},
   "outputs": [],
   "source": [
    "# 부번이 -0으로 들어간 경우 -> 값으로 들어가지 않고 \n",
    "idx_sub = []\n",
    "for i in idx_in:\n",
    "    try:\n",
    "        idx_0 = df_kt[df_kt['도로명주소'].str.contains(df_open['도로명주소'][i], na=False)].index\n",
    "        df_open['bd_mgt_sn'][i] = df_kt.loc[idx_0,'bd_mgt_sn'].values[0]\n",
    "    except:\n",
    "        print(i)\n",
    "        idx_sub.append(i)\n",
    "        pass\n",
    "\n",
    "# 주소 수정 후 다시 돌림\n",
    "df_open['도로명주소'][idx_sub] = df_open['도로명주소'][idx_sub].str.split(')').str[0]\n",
    "for i in idx_sub:\n",
    "    try:\n",
    "        idx_0 = df_kt[df_kt['도로명주소'].str.contains(df_open['도로명주소'][i], na=False)].index\n",
    "        df_open['bd_mgt_sn'][i] = df_kt.loc[idx_0,'bd_mgt_sn'].values[0]\n",
    "    except:\n",
    "        print(i)\n",
    "        idx_sub.append(i)\n",
    "        pass"
   ]
  },
  {
   "cell_type": "markdown",
   "id": "a8bdb371-efa8-4704-8657-16ed1da558b7",
   "metadata": {
    "jp-MarkdownHeadingCollapsed": true,
    "tags": []
   },
   "source": [
    "### 법정동 변환/수집 (크레마오에서 크롤링)"
   ]
  },
  {
   "cell_type": "code",
   "execution_count": 15,
   "id": "e5436a89-a207-4a00-9686-1d430abbbe51",
   "metadata": {},
   "outputs": [],
   "source": [
    "import time\n",
    "from tqdm import tqdm\n",
    "\n",
    "import requests\n",
    "import urllib\n",
    "from urllib.request import urlopen\n",
    "from html_table_parser import parser_functions\n",
    "\n",
    "from bs4 import BeautifulSoup\n",
    "from selenium import webdriver\n",
    "from selenium.webdriver.support.select import Select"
   ]
  },
  {
   "cell_type": "markdown",
   "id": "6c759d41-83a5-43a4-9288-adb79e4e22d0",
   "metadata": {},
   "source": [
    "DF명, XPath 수정 후 사용"
   ]
  },
  {
   "cell_type": "code",
   "execution_count": 184,
   "id": "85c5b8ce-e232-4934-948c-2b64c77d8d4c",
   "metadata": {},
   "outputs": [],
   "source": [
    "# 법정동명, 법정동 코드 가져오기\n",
    "def get_text():\n",
    "    bcode.append(driver.find_element_by_xpath('/html/body/div[1]/div/div[2]/ul/li').get_attribute('data-bcode'))\n",
    "    sido    = driver.find_element_by_xpath('/html/body/div[1]/div/div[2]/ul/li').get_attribute('data-sido')    # 시도\n",
    "    sigungu = driver.find_element_by_xpath('/html/body/div[1]/div/div[2]/ul/li').get_attribute('data-sigungu') # 군구\n",
    "    bname   = driver.find_element_by_xpath('/html/body/div[1]/div/div[2]/ul/li').get_attribute('data-bname2')  # 법정동\n",
    "    lgdng_nm_list.append(sido + ' ' + sigungu + ' ' + bname)\n",
    "    lgdng_full_nm_list.append(driver.find_element_by_xpath('/html/body/div[1]/div/div[2]/ul/li/dl/dd[1]/span/button/span[1]').text)\n"
   ]
  },
  {
   "cell_type": "code",
   "execution_count": 185,
   "id": "dc139779-608e-452e-b351-fbde4de7332e",
   "metadata": {},
   "outputs": [],
   "source": [
    "# 주소 검색\n",
    "def search():\n",
    "    miss_index = []\n",
    "    for i in tqdm(df_open.index):\n",
    "        searchByName = driver.find_element_by_xpath('//*[@id=\"region_name\"]')                        # 검색창 선택\n",
    "        searchByName.clear()                                                                         # 기존 입력 삭제\n",
    "        \n",
    "        time.sleep(1)\n",
    "        \n",
    "        searchByName.send_keys(df_open['주소전체'][i])                                               # 검색어 입력\n",
    "        click = driver.find_element_by_xpath('//*[@id=\"searchForm\"]/fieldset/div/button[2]').click() # 검색 버튼 클릭\n",
    "        \n",
    "        time.sleep(1)\n",
    "        \n",
    "        try:\n",
    "            get_text()                                                                                # 주소 가져오기\n",
    "            corp_nm.append(df_open['점포명'][i])\n",
    "        except:\n",
    "            miss_index.append(i)\n",
    "            pass\n"
   ]
  },
  {
   "cell_type": "code",
   "execution_count": 186,
   "id": "584d90c4-0356-4fe6-9ecc-38000fefadcc",
   "metadata": {
    "tags": []
   },
   "outputs": [
    {
     "name": "stderr",
     "output_type": "stream",
     "text": [
      "100%|████████████████████████████████████████████████████████████████████████████████| 429/429 [15:56<00:00,  2.23s/it]\n"
     ]
    }
   ],
   "source": [
    "# 기본 틀\n",
    "driver = webdriver.Chrome('./driver/chromedriver.exe')\n",
    "driver.get('https://postcode.map.daum.net/search?origin=https%3A%2F%2Fdev.cremao.co.kr&indaum=off&banner=on&ubl=on&mode=transmit&vt=layer&amr=on&amj=on&ani=off&sd=off&fi=on&fc=on&plrg=&plrgt=1.5&hmb=off&heb=off&asea=off&smh=off&zo=on&us=on&msi=10&ahs=off&whas=500&sm=on&a51=off&theme=BODY.bg_FFFFFF-SEARCH.bg_FFFFFF.placeHolder_bbbbbb.bottomLine_858585-LOGO.text_888888.logoTextDividingLine_cccccc&bit=0&sit=0&sgit=0&sbit=0&pit=0&mit=0&lcit=0&zn=Y&fullpath=%2Fmain')\n",
    "\n",
    "# 주소 수집\n",
    "bcode = []              # 법정동 코드\n",
    "corp_nm = []            # 매장명\n",
    "lgdng_nm_list = []      # 법정동 명\n",
    "lgdng_full_nm_list = [] # 법정동 전체 주소\n",
    "search()\n",
    "\n",
    "driver.close()\n",
    "\n",
    "# 저장\n",
    "df = pd.DataFrame({'corp_nm':corp_nm, 'lgdng_nm_list':lgdng_nm_list,'lgdng_full_nm_list':lgdng_full_nm_list,'bcode':bcode})\n",
    "df.to_excel('./법정동주소.xlsx', index=False)"
   ]
  },
  {
   "cell_type": "markdown",
   "id": "e1616be7-b9d3-4088-a687-fe2221f5e8ea",
   "metadata": {
    "jp-MarkdownHeadingCollapsed": true,
    "tags": []
   },
   "source": [
    "###### 제대로 안 담겼을 때"
   ]
  },
  {
   "cell_type": "code",
   "execution_count": 151,
   "id": "c70920af-5452-495c-b577-9100d5e9ec69",
   "metadata": {},
   "outputs": [],
   "source": [
    "df = pd.DataFrame({'lgdng_nm_list':lgdng_nm_list,'lgdng_full_nm_list':lgdng_full_nm_list})"
   ]
  },
  {
   "cell_type": "code",
   "execution_count": 153,
   "id": "2d80f624-9194-4d85-9622-748a2f7d85d3",
   "metadata": {},
   "outputs": [],
   "source": [
    "corp_nm = pd.DataFrame({'bcode':bcode})"
   ]
  },
  {
   "cell_type": "code",
   "execution_count": 132,
   "id": "dabccd0a-4147-43b9-b803-2af012b51375",
   "metadata": {
    "tags": []
   },
   "outputs": [],
   "source": [
    "corp_nm = pd.DataFrame({'corp_nm':corp_nm})"
   ]
  },
  {
   "cell_type": "code",
   "execution_count": 101,
   "id": "a24bc65a-0910-405b-a2c8-739f1df48cc7",
   "metadata": {},
   "outputs": [],
   "source": [
    "lgdng_nm.to_excel('./test.xlsx', index= False)"
   ]
  },
  {
   "cell_type": "markdown",
   "id": "725d6453-8518-414e-8dbb-3a5e169c3679",
   "metadata": {
    "jp-MarkdownHeadingCollapsed": true,
    "tags": []
   },
   "source": [
    "###### test"
   ]
  },
  {
   "cell_type": "code",
   "execution_count": 134,
   "id": "3bde857d-d65e-4d0f-8a63-d28ba18d2b43",
   "metadata": {},
   "outputs": [],
   "source": [
    "driver = webdriver.Chrome('./driver/chromedriver.exe')\n",
    "driver.get('https://postcode.map.daum.net/search?origin=https%3A%2F%2Fdev.cremao.co.kr&indaum=off&banner=on&ubl=on&mode=transmit&vt=layer&amr=on&amj=on&ani=off&sd=off&fi=on&fc=on&plrg=&plrgt=1.5&hmb=off&heb=off&asea=off&smh=off&zo=on&us=on&msi=10&ahs=off&whas=500&sm=on&a51=off&theme=BODY.bg_FFFFFF-SEARCH.bg_FFFFFF.placeHolder_bbbbbb.bottomLine_858585-LOGO.text_888888.logoTextDividingLine_cccccc&bit=0&sit=0&sgit=0&sbit=0&pit=0&mit=0&lcit=0&zn=Y&fullpath=%2Fmain')"
   ]
  }
 ],
 "metadata": {
  "kernelspec": {
   "display_name": "oasis",
   "language": "python",
   "name": "oasis"
  },
  "language_info": {
   "codemirror_mode": {
    "name": "ipython",
    "version": 3
   },
   "file_extension": ".py",
   "mimetype": "text/x-python",
   "name": "python",
   "nbconvert_exporter": "python",
   "pygments_lexer": "ipython3",
   "version": "3.8.13"
  }
 },
 "nbformat": 4,
 "nbformat_minor": 5
}
