{
 "cells": [
  {
   "cell_type": "code",
   "execution_count": 1,
   "id": "a6a491d1-1e79-4be8-961d-f93e20f06b05",
   "metadata": {},
   "outputs": [],
   "source": [
    "import pandas as pd\n",
    "import numpy as np"
   ]
  },
  {
   "cell_type": "markdown",
   "id": "d92d0c17-1e3b-479a-8a02-f814b57998a3",
   "metadata": {
    "tags": []
   },
   "source": [
    "### 시도 변경"
   ]
  },
  {
   "cell_type": "code",
   "execution_count": 7,
   "id": "7000216b-3aa8-4e6c-bfd3-3232b5141d53",
   "metadata": {},
   "outputs": [],
   "source": [
    "DF = pd.read_excel('../1. CU편의점(점포명).xlsx')"
   ]
  },
  {
   "cell_type": "code",
   "execution_count": 89,
   "id": "9f34b249-2753-411b-b203-3ef4cbbc5a1a",
   "metadata": {},
   "outputs": [
    {
     "data": {
      "text/html": [
       "<div>\n",
       "<style scoped>\n",
       "    .dataframe tbody tr th:only-of-type {\n",
       "        vertical-align: middle;\n",
       "    }\n",
       "\n",
       "    .dataframe tbody tr th {\n",
       "        vertical-align: top;\n",
       "    }\n",
       "\n",
       "    .dataframe thead th {\n",
       "        text-align: right;\n",
       "    }\n",
       "</style>\n",
       "<table border=\"1\" class=\"dataframe\">\n",
       "  <thead>\n",
       "    <tr style=\"text-align: right;\">\n",
       "      <th></th>\n",
       "      <th>법정동코드</th>\n",
       "      <th>법정동명</th>\n",
       "      <th>점포명</th>\n",
       "      <th>상세주소</th>\n",
       "    </tr>\n",
       "  </thead>\n",
       "  <tbody>\n",
       "    <tr>\n",
       "      <th>0</th>\n",
       "      <td>4111513400</td>\n",
       "      <td>경기도 수원시 팔달구 매산로1가</td>\n",
       "      <td>AK수원점</td>\n",
       "      <td>경기도 수원시 팔달구 매산로1가 18번지 외 11필지 수원민자역사 제1호</td>\n",
       "    </tr>\n",
       "    <tr>\n",
       "      <th>1</th>\n",
       "      <td>4161025900</td>\n",
       "      <td>경기도 광주시 곤지암읍</td>\n",
       "      <td>BGF곤지암포켓점</td>\n",
       "      <td>경기도 광주시 곤지암읍 건업리 148번지</td>\n",
       "    </tr>\n",
       "    <tr>\n",
       "      <th>2</th>\n",
       "      <td>4146311800</td>\n",
       "      <td>경기도 용인시 기흥구 보정동</td>\n",
       "      <td>BGF로지스용인점</td>\n",
       "      <td>경기도 용인시 기흥구 보정동 319번지 1층</td>\n",
       "    </tr>\n",
       "    <tr>\n",
       "      <th>3</th>\n",
       "      <td>1168010500</td>\n",
       "      <td>서울특별시 강남구 삼성동</td>\n",
       "      <td>BGF사옥점</td>\n",
       "      <td>서울특별시 강남구 삼성동 141-10번지</td>\n",
       "    </tr>\n",
       "    <tr>\n",
       "      <th>4</th>\n",
       "      <td>4163025000</td>\n",
       "      <td>경기도 양주시 백석읍</td>\n",
       "      <td>BGF양주포켓점</td>\n",
       "      <td>경기도 양주시 백석읍 복지리 153번지 2층</td>\n",
       "    </tr>\n",
       "    <tr>\n",
       "      <th>...</th>\n",
       "      <td>...</td>\n",
       "      <td>...</td>\n",
       "      <td>...</td>\n",
       "      <td>...</td>\n",
       "    </tr>\n",
       "    <tr>\n",
       "      <th>16097</th>\n",
       "      <td>1130510400</td>\n",
       "      <td>서울특별시 강북구 우이동</td>\n",
       "      <td>419사거리점</td>\n",
       "      <td>서울특별시 강북구 우이동 72-144번지</td>\n",
       "    </tr>\n",
       "    <tr>\n",
       "      <th>16098</th>\n",
       "      <td>1156011000</td>\n",
       "      <td>서울특별시 영등포구 여의도동</td>\n",
       "      <td>63빌딩점</td>\n",
       "      <td>서울특별시 영등포구 여의도동 60번지 하</td>\n",
       "    </tr>\n",
       "    <tr>\n",
       "      <th>16099</th>\n",
       "      <td>2817710400</td>\n",
       "      <td>인천광역시 미추홀구 도화동</td>\n",
       "      <td>6공단1호점</td>\n",
       "      <td>인천광역시 미추홀구 도화동 84-5번지</td>\n",
       "    </tr>\n",
       "    <tr>\n",
       "      <th>16100</th>\n",
       "      <td>2817700000</td>\n",
       "      <td>인천광역시 남구 도화동</td>\n",
       "      <td>6공단2호점</td>\n",
       "      <td>인천광역시 남구 도화동 53-77번지</td>\n",
       "    </tr>\n",
       "    <tr>\n",
       "      <th>16101</th>\n",
       "      <td>4793038000</td>\n",
       "      <td>경상북도 울진군 후포면</td>\n",
       "      <td>7번국도점</td>\n",
       "      <td>경상북도 울진군 후포면 후포리 917-18번지</td>\n",
       "    </tr>\n",
       "  </tbody>\n",
       "</table>\n",
       "<p>16102 rows × 4 columns</p>\n",
       "</div>"
      ],
      "text/plain": [
       "            법정동코드               법정동명        점포명  \\\n",
       "0      4111513400  경기도 수원시 팔달구 매산로1가      AK수원점   \n",
       "1      4161025900       경기도 광주시 곤지암읍  BGF곤지암포켓점   \n",
       "2      4146311800    경기도 용인시 기흥구 보정동  BGF로지스용인점   \n",
       "3      1168010500      서울특별시 강남구 삼성동     BGF사옥점   \n",
       "4      4163025000        경기도 양주시 백석읍   BGF양주포켓점   \n",
       "...           ...                ...        ...   \n",
       "16097  1130510400      서울특별시 강북구 우이동    419사거리점   \n",
       "16098  1156011000    서울특별시 영등포구 여의도동      63빌딩점   \n",
       "16099  2817710400     인천광역시 미추홀구 도화동     6공단1호점   \n",
       "16100  2817700000       인천광역시 남구 도화동     6공단2호점   \n",
       "16101  4793038000       경상북도 울진군 후포면      7번국도점   \n",
       "\n",
       "                                           상세주소  \n",
       "0      경기도 수원시 팔달구 매산로1가 18번지 외 11필지 수원민자역사 제1호  \n",
       "1                        경기도 광주시 곤지암읍 건업리 148번지  \n",
       "2                      경기도 용인시 기흥구 보정동 319번지 1층  \n",
       "3                        서울특별시 강남구 삼성동 141-10번지  \n",
       "4                      경기도 양주시 백석읍 복지리 153번지 2층  \n",
       "...                                         ...  \n",
       "16097                    서울특별시 강북구 우이동 72-144번지  \n",
       "16098                    서울특별시 영등포구 여의도동 60번지 하  \n",
       "16099                     인천광역시 미추홀구 도화동 84-5번지  \n",
       "16100                      인천광역시 남구 도화동 53-77번지  \n",
       "16101                 경상북도 울진군 후포면 후포리 917-18번지  \n",
       "\n",
       "[16102 rows x 4 columns]"
      ]
     },
     "execution_count": 89,
     "metadata": {},
     "output_type": "execute_result"
    }
   ],
   "source": [
    "DF"
   ]
  },
  {
   "cell_type": "code",
   "execution_count": 46,
   "id": "7fc4bc19-07f9-4d24-925b-16f88399644d",
   "metadata": {},
   "outputs": [],
   "source": [
    "# 시 도로 나눔 -> 충북같은 글자들 추려서 작업하기 용이함\n",
    "df_do = DF[DF['상세주소'].str.split(' ').str[0].str.contains('도')]\n",
    "df_si = DF[DF['상세주소'].str.split(' ').str[0].str.contains('시')]"
   ]
  },
  {
   "cell_type": "code",
   "execution_count": null,
   "id": "c65fd436-4142-4d5a-ac71-b443642145fd",
   "metadata": {},
   "outputs": [],
   "source": []
  },
  {
   "cell_type": "code",
   "execution_count": 52,
   "id": "06d41564-ea74-4cf8-b705-0dc707b7815c",
   "metadata": {},
   "outputs": [
    {
     "data": {
      "text/plain": [
       "4"
      ]
     },
     "execution_count": 52,
     "metadata": {},
     "output_type": "execute_result"
    }
   ],
   "source": [
    "search = \n",
    "dong = \n",
    "\n",
    "# 이름 한 번에 바꾸기\n",
    "index_list = df_cu[df_cu['법정동명'].str.contains(search, na=False)].index\n",
    "for i in index_list:\n",
    "    df_cu['법정동명'][i] = dong\n",
    "\n",
    "    # 포함하는 주소 수정\n",
    "    index = df_code[df_code['법정동명'] == dong].index\n",
    "    index_list = df_cu[df_cu['법정동명'].str.contains(dong)].index\n",
    "\n",
    "    for o in index_list:\n",
    "        df_cu['법정동코드'][o] = df_code['법정동코드'][index]\n"
   ]
  },
  {
   "cell_type": "code",
   "execution_count": null,
   "id": "663ac4ec-ba0b-405c-a1db-af1e8edadf31",
   "metadata": {},
   "outputs": [],
   "source": []
  },
  {
   "cell_type": "markdown",
   "id": "331b0a2e-b09e-4ab6-98c6-18e5db1d659a",
   "metadata": {
    "jp-MarkdownHeadingCollapsed": true,
    "tags": []
   },
   "source": [
    "### 정규표현식"
   ]
  },
  {
   "cell_type": "code",
   "execution_count": null,
   "id": "c8c18f68-fa37-4b35-b47a-20401c63f02c",
   "metadata": {},
   "outputs": [],
   "source": [
    "import re"
   ]
  },
  {
   "cell_type": "code",
   "execution_count": 123,
   "id": "2dbe8c7c-ae86-4569-bdaa-839c9c9566d5",
   "metadata": {},
   "outputs": [],
   "source": [
    "df = DF['상세주소'][:100]"
   ]
  },
  {
   "cell_type": "code",
   "execution_count": 54,
   "id": "85da463f-07e3-488e-a3bb-9b9982960e02",
   "metadata": {},
   "outputs": [],
   "source": [
    "import re"
   ]
  },
  {
   "cell_type": "code",
   "execution_count": 78,
   "id": "f4b9f1b7-b53f-479e-a3f6-29fbd07a2e17",
   "metadata": {
    "collapsed": true,
    "jupyter": {
     "outputs_hidden": true
    },
    "tags": []
   },
   "outputs": [
    {
     "ename": "AttributeError",
     "evalue": "'NoneType' object has no attribute 'group'",
     "output_type": "error",
     "traceback": [
      "\u001b[1;31m---------------------------------------------------------------------------\u001b[0m",
      "\u001b[1;31mAttributeError\u001b[0m                            Traceback (most recent call last)",
      "Input \u001b[1;32mIn [78]\u001b[0m, in \u001b[0;36m<cell line: 8>\u001b[1;34m()\u001b[0m\n\u001b[0;32m      6\u001b[0m test  \u001b[38;5;241m=\u001b[39m \u001b[38;5;124m'\u001b[39m\u001b[38;5;124m제주특별자치도 서귀포시 일주동로 5065\u001b[39m\u001b[38;5;124m'\u001b[39m\n\u001b[0;32m      7\u001b[0m x \u001b[38;5;241m=\u001b[39m re\u001b[38;5;241m.\u001b[39msearch(regex, test)\n\u001b[1;32m----> 8\u001b[0m \u001b[43mx\u001b[49m\u001b[38;5;241;43m.\u001b[39;49m\u001b[43mgroup\u001b[49m()\n",
      "\u001b[1;31mAttributeError\u001b[0m: 'NoneType' object has no attribute 'group'"
     ]
    }
   ],
   "source": [
    "# 시도 검색\n",
    "regex = r'''\n",
    "    (([가-힣]+(읍|면|동|가|리))( |)((d(~|-)d|d)(가|리|)|))([ ](산(d(~|-)d|d))|)|(([가-]|(d(~|-)d)|d)+(로|길))\n",
    "    ((d)|(d번지)|(d(~|-)d)|(d(~|-)d번지))|(((지하)d)|((지하)d번지)|((지하)d(~|-)d)|((지하)d(~|-)d번지))\n",
    "    '''\n",
    "test  = '제주특별자치도 서귀포시 일주동로 5065'\n",
    "x = re.search(regex, test)\n",
    "x.group()"
   ]
  },
  {
   "cell_type": "code",
   "execution_count": 108,
   "id": "bd1b0b6f-249c-464f-8487-16638394a6a3",
   "metadata": {},
   "outputs": [
    {
     "data": {
      "text/plain": [
       "'제주특별자치도 서귀포시'"
      ]
     },
     "execution_count": 108,
     "metadata": {},
     "output_type": "execute_result"
    }
   ],
   "source": [
    "# 1. 시도명\n",
    "regex = r'(([가-힣]+(시|도))( |)[가-힣]+(시|군|구))'\n",
    "test  = '제주특별자치도 서귀포시 일주동로 5065'\n",
    "x = re.search(regex, test)\n",
    "x.group()"
   ]
  },
  {
   "cell_type": "code",
   "execution_count": 109,
   "id": "74404dc6-b603-4bde-bbe1-2112815598cc",
   "metadata": {},
   "outputs": [
    {
     "data": {
      "text/plain": [
       "'일주동'"
      ]
     },
     "execution_count": 109,
     "metadata": {},
     "output_type": "execute_result"
    }
   ],
   "source": [
    "# 3-1. 법정동 동명\n",
    "regex = r'([가-힣]+(d|d(,|.)d|)+(읍|면|동|가|리))(^구|)'\n",
    "test  = '제주특별자치도 서귀포시 일주동로 5065'\n",
    "x = re.search(regex, test)\n",
    "x.group()"
   ]
  },
  {
   "cell_type": "code",
   "execution_count": 95,
   "id": "63d81278-3d2b-4e51-9691-32f8f05275f6",
   "metadata": {},
   "outputs": [
    {
     "data": {
      "text/plain": [
       "'일주동로'"
      ]
     },
     "execution_count": 95,
     "metadata": {},
     "output_type": "execute_result"
    }
   ],
   "source": [
    "# 3-2. 도로명 로명\n",
    "regex = r'([가-힣]+(읍|면|동|가|리))( |)((가|리|로|)|)'\n",
    "test  = '제주특별자치도 서귀포시 일주동로 5065'\n",
    "x = re.search(regex, test)\n",
    "x.group()"
   ]
  },
  {
   "cell_type": "code",
   "execution_count": 127,
   "id": "ba355ef3-85fd-4baf-a4c9-8603d7c28a2a",
   "metadata": {
    "tags": []
   },
   "outputs": [],
   "source": [
    "#  시도군구\n",
    "all_ = []\n",
    "for s in df:\n",
    "    x = re.search(regex, s)\n",
    "    all_.append(x.group())"
   ]
  },
  {
   "cell_type": "code",
   "execution_count": 128,
   "id": "fa0255f6-ba85-42a2-95ac-ad0a58b201f7",
   "metadata": {
    "collapsed": true,
    "jupyter": {
     "outputs_hidden": true
    },
    "tags": []
   },
   "outputs": [
    {
     "data": {
      "text/plain": [
       "['경기도 수원시',\n",
       " '경기도 광주시',\n",
       " '경기도 용인시',\n",
       " '서울특별시 강남구',\n",
       " '경기도 양주시',\n",
       " '전라북도 완주군',\n",
       " '경기도 부천시',\n",
       " '경기도 파주시',\n",
       " '서울특별시 영등포구',\n",
       " '전라남도 나주시',\n",
       " '전라남도 나주시',\n",
       " '전라남도 나주시',\n",
       " '경기도 광주시',\n",
       " '경기도 광주시',\n",
       " '전라남도 강진군',\n",
       " '강원도 평창군',\n",
       " '강원도 평창군',\n",
       " '강원도 평창군',\n",
       " '강원도 평창군',\n",
       " '강원도 평창군',\n",
       " '제주특별자치도 서귀포시',\n",
       " '충청북도 청주시',\n",
       " '울산광역시 남구',\n",
       " '제주특별자치도 제주시',\n",
       " '충청북도 청주시',\n",
       " '대전광역시 동구',\n",
       " '대전광역시 동구',\n",
       " '경기도 광주시',\n",
       " '경기도 남양주시',\n",
       " '서울특별시 은평구',\n",
       " '대구광역시 달서구',\n",
       " '충청북도 제천시',\n",
       " '경기도 고양시',\n",
       " '충청북도 제천시',\n",
       " '경기도 가평군',\n",
       " '경기도 가평군',\n",
       " '충청북도 괴산군',\n",
       " '경기도 구리시',\n",
       " '경기도 시흥시',\n",
       " '경상북도 김천시',\n",
       " '경상북도 김천시',\n",
       " '경기도 김포시',\n",
       " '강원도 원주시',\n",
       " '경기도 남양주시',\n",
       " '서울특별시 서초구',\n",
       " '경기도 하남시',\n",
       " '경기도 안산시',\n",
       " '경기도 안산시',\n",
       " '경기도 양평군',\n",
       " '경기도 양평군',\n",
       " '경기도 여주시',\n",
       " '경상남도 창녕군',\n",
       " '전라북도 임실군',\n",
       " '전라북도 임실군',\n",
       " '충청북도 옥천군',\n",
       " '경상북도 경주시',\n",
       " '경기도 용인시',\n",
       " '경기도 용인시',\n",
       " '울산광역시 울주군',\n",
       " '경기도 의왕시',\n",
       " '경기도 의왕시',\n",
       " '경기도 의정부시',\n",
       " '전라북도 완주군',\n",
       " '전라북도 완주군',\n",
       " '경상남도 김해시',\n",
       " '경상남도 김해시',\n",
       " '경상남도 진주시',\n",
       " '경상북도 청도군',\n",
       " '경상북도 청도군',\n",
       " '경기도 평택시',\n",
       " '경상남도 함안군',\n",
       " '경상남도 함안군',\n",
       " '대구광역시 달성군',\n",
       " '대구광역시 달성군',\n",
       " '전라남도 순천시',\n",
       " '전라남도 순천시',\n",
       " '강원도 횡성군',\n",
       " '경기도 용인시',\n",
       " '대구광역시 동구',\n",
       " '경기도 평택시',\n",
       " '경상남도 통영시',\n",
       " '강원도 속초시',\n",
       " '서울특별시 용산구',\n",
       " '서울특별시 송파구',\n",
       " '서울특별시 송파구',\n",
       " '경기도 고양시',\n",
       " '서울특별시 서초구',\n",
       " '전라북도 전주시',\n",
       " '서울특별시 금천구',\n",
       " '서울특별시 강서구',\n",
       " '경기도 고양시',\n",
       " '경기도 남양주시',\n",
       " '경기도 시흥시',\n",
       " '경기도 시흥시',\n",
       " '경기도 연천군',\n",
       " '서울특별시 강서구',\n",
       " '강원도 양양군',\n",
       " '대전광역시 대덕구',\n",
       " '강원도 강릉시',\n",
       " '경기도 광명시']"
      ]
     },
     "execution_count": 128,
     "metadata": {},
     "output_type": "execute_result"
    }
   ],
   "source": [
    "all_"
   ]
  },
  {
   "cell_type": "code",
   "execution_count": null,
   "id": "ff1a5a8e-d0d4-4870-a235-ef3ba1f09a26",
   "metadata": {},
   "outputs": [],
   "source": [
    "# 부번이 -0으로 들어간 경우 -> 값으로 들어가지 않고 이상하게 들어감\n",
    "idx_sub = []\n",
    "for i in idx_in:\n",
    "    try:\n",
    "        idx_0 = df_kt[df_kt['도로명주소'].str.contains(df_open['도로명주소'][i], na=False)].index\n",
    "        df_open['bd_mgt_sn'][i] = df_kt.loc[idx_0,'bd_mgt_sn'].values[0]\n",
    "    except:\n",
    "        print(i)\n",
    "        idx_sub.append(i)\n",
    "        pass\n",
    "\n",
    "# 주소 수정 후 다시 돌림\n",
    "df_open['도로명주소'][idx_sub] = df_open['도로명주소'][idx_sub].str.split(')').str[0]\n",
    "for i in idx_sub:\n",
    "    try:\n",
    "        idx_0 = df_kt[df_kt['도로명주소'].str.contains(df_open['도로명주소'][i], na=False)].index\n",
    "        df_open['bd_mgt_sn'][i] = df_kt.loc[idx_0,'bd_mgt_sn'].values[0]\n",
    "    except:\n",
    "        print(i)\n",
    "        idx_sub.append(i)\n",
    "        pass"
   ]
  }
 ],
 "metadata": {
  "kernelspec": {
   "display_name": "oasis",
   "language": "python",
   "name": "oasis"
  },
  "language_info": {
   "codemirror_mode": {
    "name": "ipython",
    "version": 3
   },
   "file_extension": ".py",
   "mimetype": "text/x-python",
   "name": "python",
   "nbconvert_exporter": "python",
   "pygments_lexer": "ipython3",
   "version": "3.8.13"
  }
 },
 "nbformat": 4,
 "nbformat_minor": 5
}
