{
 "cells": [
  {
   "cell_type": "code",
   "execution_count": null,
   "id": "3c6025de-e027-4a12-b23e-324d9f36554f",
   "metadata": {},
   "outputs": [],
   "source": [
    "import psycopg2\n",
    "import numpy as np\n",
    "import pandas as pd\n",
    "\n",
    "# DB Connect\n",
    "conn = psycopg2.connect(\n",
    "    host='redshift-cluster-1.ctvbwnnvbdkl.ap-northeast-2.redshift.amazonaws.com',\n",
    "    port=5439,\n",
    "    dbname='dev',\n",
    "    user='awsuser',\n",
    "    password='cremaoAdmin1234qwer!!'\n",
    ")\n",
    "\n",
    "# get data from DB\n",
    "cursor = conn.cursor()\n",
    "query = 'select pop,pop_00,pop_10,pop_20,pop_30,pop_40,pop_50,pop_60,pop_70,pop_80,pop_90,pop_m,pop_m_10_under,pop_m_10,pop_m_20,pop_m_30,pop_m_40,pop_m_50,pop_m_60,pop_m_70,pop_m_80,pop_m_90_over,pop_w,pop_w_10_under,pop_w_10,pop_w_20,pop_w_30,pop_w_40,pop_w_50,pop_w_60,pop_w_70,pop_w_80,pop_w_90_over from m1.kt_bldg_xy_info'\n",
    "cursor.execute(query)\n",
    "df_pop = cursor.fetchall()\n",
    "\n",
    "# data to dataframe\n",
    "DF = pd.DataFrame(list(df_pop))\n",
    "\n",
    "# set column name\n",
    "DF.columns = ['pop','pop_00','pop_10','pop_20','pop_30','pop_40','pop_50','pop_60','pop_70','pop_80','pop_90','pop_m','pop_m_10_under','pop_m_10','pop_m_20'\n",
    "              ,'pop_m_30','pop_m_40','pop_m_50','pop_m_60','pop_m_70','pop_m_80','pop_m_90_over','pop_w','pop_w_10_under','pop_w_10','pop_w_20','pop_w_30'\n",
    "              ,'pop_w_40','pop_w_50','pop_w_60','pop_w_70','pop_w_80','pop_w_90_over']\n",
    "\n",
    "# save to csv \n",
    "DF.to_csv('C:\\oasis\\git\\data\\IBK 요약항목\\m1.kt_bldg_xy_info (pop).csv', index=False, encoding='utf-8-sig')"
   ]
  },
  {
   "cell_type": "code",
   "execution_count": null,
   "id": "cfcd66b7-1ce9-4225-aa58-d9cd91ee7a77",
   "metadata": {},
   "outputs": [],
   "source": [
    "DF"
   ]
  }
 ],
 "metadata": {
  "kernelspec": {
   "display_name": "oasis",
   "language": "python",
   "name": "oasis"
  },
  "language_info": {
   "codemirror_mode": {
    "name": "ipython",
    "version": 3
   },
   "file_extension": ".py",
   "mimetype": "text/x-python",
   "name": "python",
   "nbconvert_exporter": "python",
   "pygments_lexer": "ipython3",
   "version": "3.8.13"
  }
 },
 "nbformat": 4,
 "nbformat_minor": 5
}
