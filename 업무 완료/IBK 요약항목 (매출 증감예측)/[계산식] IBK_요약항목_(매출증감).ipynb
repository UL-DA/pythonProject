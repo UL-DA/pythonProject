{
 "cells": [
  {
   "cell_type": "code",
   "execution_count": 1,
   "id": "0e859d06-5087-49dc-8d3b-89f60c9d1a69",
   "metadata": {
    "tags": []
   },
   "outputs": [],
   "source": [
    "import numpy as np\n",
    "import pandas as pd"
   ]
  },
  {
   "cell_type": "code",
   "execution_count": 2,
   "id": "b89fce46-fde8-46ac-b59d-147402737452",
   "metadata": {},
   "outputs": [],
   "source": [
    "df_2021 = pd.read_csv('C://oasis/kt_bldg_sales_202101~202112.csv')"
   ]
  },
  {
   "cell_type": "code",
   "execution_count": 16,
   "id": "de2e6697-5507-41d7-b297-114b456c1263",
   "metadata": {},
   "outputs": [
    {
     "data": {
      "text/plain": [
       "195449943531"
      ]
     },
     "execution_count": 16,
     "metadata": {},
     "output_type": "execute_result"
    }
   ],
   "source": [
    "# 연간 예상매출액 합 (sum)\n",
    "sum_2020 = df[df[df['base_ym']>=202001]['base_ym']<=202012]['pred_slng_amt'].sum()\n",
    "sum_2021 = df[df[df['base_ym']>=202101]['base_ym']<=202112]['pred_slng_amt'].sum()\n",
    "sum_2022 = df[df[df['base_ym']>=202201]['base_ym']<=202212]['pred_slng_amt'].sum()"
   ]
  },
  {
   "cell_type": "code",
   "execution_count": null,
   "id": "c03ea36d-37cf-4fa9-a7ca-ed7faf8dd906",
   "metadata": {},
   "outputs": [],
   "source": [
    "# 연간 데이터프레임 분리\n",
    "df_2020 = df[df[df['base_ym']>=202001]['base_ym']<=202012]['pred_slng_amt']\n",
    "df_2021 = df[df[df['base_ym']>=202101]['base_ym']<=202112]['pred_slng_amt']\n",
    "df_2022 = df[df[df['base_ym']>=202201]['base_ym']<=202212]['pred_slng_amt']"
   ]
  },
  {
   "cell_type": "code",
   "execution_count": 38,
   "id": "2833c306-1885-4cc9-b459-2cf036ec261b",
   "metadata": {},
   "outputs": [],
   "source": [
    "# 전년 대비 증감율 \n",
    "def perYearIncrease(df_prior, df_current, df): # df_prior=전기, df_current=당기, df=전기 데이터프레임\n",
    "    if (df_prior/df_current)*100 >= 120: # 120% 이상: 1\n",
    "        df['year_increase'] = 1\n",
    "    elif (df_prior/df_current)*100 < 120: # 120% 미만: 0\n",
    "        df['year_increase'] = 0"
   ]
  },
  {
   "cell_type": "code",
   "execution_count": 39,
   "id": "bfb48a6d-bccc-4f80-9194-2c605d1e9c21",
   "metadata": {
    "tags": []
   },
   "outputs": [],
   "source": [
    "# 실행\n",
    "perYearIncrease(sum_2021,sum_2022, df_2021) # 2021년도 증감율\n",
    "perYearIncrease(sum_2021,sum_2022, df_2021) # 2022년도 증감율"
   ]
  },
  {
   "cell_type": "code",
   "execution_count": 40,
   "id": "de63058f-1368-452f-9d60-512a01aa673e",
   "metadata": {},
   "outputs": [
    {
     "data": {
      "text/html": [
       "<div>\n",
       "<style scoped>\n",
       "    .dataframe tbody tr th:only-of-type {\n",
       "        vertical-align: middle;\n",
       "    }\n",
       "\n",
       "    .dataframe tbody tr th {\n",
       "        vertical-align: top;\n",
       "    }\n",
       "\n",
       "    .dataframe thead th {\n",
       "        text-align: right;\n",
       "    }\n",
       "</style>\n",
       "<table border=\"1\" class=\"dataframe\">\n",
       "  <thead>\n",
       "    <tr style=\"text-align: right;\">\n",
       "      <th></th>\n",
       "      <th>base_ym</th>\n",
       "      <th>bd_mgt_sn</th>\n",
       "      <th>emd_cd</th>\n",
       "      <th>rn_cd</th>\n",
       "      <th>buld_mnnm</th>\n",
       "      <th>buld_slno</th>\n",
       "      <th>ftc_cate2_cd</th>\n",
       "      <th>pred_slng_amt</th>\n",
       "      <th>year_increase</th>\n",
       "    </tr>\n",
       "  </thead>\n",
       "  <tbody>\n",
       "    <tr>\n",
       "      <th>0</th>\n",
       "      <td>202101</td>\n",
       "      <td>1111010100100010000030843</td>\n",
       "      <td>11110101</td>\n",
       "      <td>4100289</td>\n",
       "      <td>16</td>\n",
       "      <td>14</td>\n",
       "      <td>B03</td>\n",
       "      <td>7360502</td>\n",
       "      <td>0</td>\n",
       "    </tr>\n",
       "    <tr>\n",
       "      <th>1</th>\n",
       "      <td>202101</td>\n",
       "      <td>1111010100100010000030843</td>\n",
       "      <td>11110101</td>\n",
       "      <td>4100289</td>\n",
       "      <td>16</td>\n",
       "      <td>14</td>\n",
       "      <td>C07</td>\n",
       "      <td>1000000</td>\n",
       "      <td>0</td>\n",
       "    </tr>\n",
       "    <tr>\n",
       "      <th>2</th>\n",
       "      <td>202101</td>\n",
       "      <td>1111010100100010000030843</td>\n",
       "      <td>11110101</td>\n",
       "      <td>4100289</td>\n",
       "      <td>16</td>\n",
       "      <td>14</td>\n",
       "      <td>B20</td>\n",
       "      <td>2136817</td>\n",
       "      <td>0</td>\n",
       "    </tr>\n",
       "    <tr>\n",
       "      <th>3</th>\n",
       "      <td>202101</td>\n",
       "      <td>1111010100100010000030843</td>\n",
       "      <td>11110101</td>\n",
       "      <td>4100289</td>\n",
       "      <td>16</td>\n",
       "      <td>14</td>\n",
       "      <td>B16</td>\n",
       "      <td>9613632</td>\n",
       "      <td>0</td>\n",
       "    </tr>\n",
       "    <tr>\n",
       "      <th>4</th>\n",
       "      <td>202101</td>\n",
       "      <td>1111010100100010000030843</td>\n",
       "      <td>11110101</td>\n",
       "      <td>4100289</td>\n",
       "      <td>16</td>\n",
       "      <td>14</td>\n",
       "      <td>B12</td>\n",
       "      <td>4318080</td>\n",
       "      <td>0</td>\n",
       "    </tr>\n",
       "    <tr>\n",
       "      <th>...</th>\n",
       "      <td>...</td>\n",
       "      <td>...</td>\n",
       "      <td>...</td>\n",
       "      <td>...</td>\n",
       "      <td>...</td>\n",
       "      <td>...</td>\n",
       "      <td>...</td>\n",
       "      <td>...</td>\n",
       "      <td>...</td>\n",
       "    </tr>\n",
       "    <tr>\n",
       "      <th>9995</th>\n",
       "      <td>202101</td>\n",
       "      <td>2826010800105160030002687</td>\n",
       "      <td>28260108</td>\n",
       "      <td>3156005</td>\n",
       "      <td>360</td>\n",
       "      <td>1</td>\n",
       "      <td>B20</td>\n",
       "      <td>2037095</td>\n",
       "      <td>0</td>\n",
       "    </tr>\n",
       "    <tr>\n",
       "      <th>9996</th>\n",
       "      <td>202101</td>\n",
       "      <td>2826010800105160030002687</td>\n",
       "      <td>28260108</td>\n",
       "      <td>3156005</td>\n",
       "      <td>360</td>\n",
       "      <td>1</td>\n",
       "      <td>A10</td>\n",
       "      <td>15414893</td>\n",
       "      <td>0</td>\n",
       "    </tr>\n",
       "    <tr>\n",
       "      <th>9997</th>\n",
       "      <td>202101</td>\n",
       "      <td>2826010800105160030002687</td>\n",
       "      <td>28260108</td>\n",
       "      <td>3156005</td>\n",
       "      <td>360</td>\n",
       "      <td>1</td>\n",
       "      <td>A07</td>\n",
       "      <td>7882895</td>\n",
       "      <td>0</td>\n",
       "    </tr>\n",
       "    <tr>\n",
       "      <th>9998</th>\n",
       "      <td>202101</td>\n",
       "      <td>2826010800105160030002687</td>\n",
       "      <td>28260108</td>\n",
       "      <td>3156005</td>\n",
       "      <td>360</td>\n",
       "      <td>1</td>\n",
       "      <td>A15</td>\n",
       "      <td>8480840</td>\n",
       "      <td>0</td>\n",
       "    </tr>\n",
       "    <tr>\n",
       "      <th>9999</th>\n",
       "      <td>202101</td>\n",
       "      <td>2826010800105160030002687</td>\n",
       "      <td>28260108</td>\n",
       "      <td>3156005</td>\n",
       "      <td>360</td>\n",
       "      <td>1</td>\n",
       "      <td>A13</td>\n",
       "      <td>100000000</td>\n",
       "      <td>0</td>\n",
       "    </tr>\n",
       "  </tbody>\n",
       "</table>\n",
       "<p>10000 rows × 9 columns</p>\n",
       "</div>"
      ],
      "text/plain": [
       "      base_ym                  bd_mgt_sn    emd_cd    rn_cd  buld_mnnm  \\\n",
       "0      202101  1111010100100010000030843  11110101  4100289         16   \n",
       "1      202101  1111010100100010000030843  11110101  4100289         16   \n",
       "2      202101  1111010100100010000030843  11110101  4100289         16   \n",
       "3      202101  1111010100100010000030843  11110101  4100289         16   \n",
       "4      202101  1111010100100010000030843  11110101  4100289         16   \n",
       "...       ...                        ...       ...      ...        ...   \n",
       "9995   202101  2826010800105160030002687  28260108  3156005        360   \n",
       "9996   202101  2826010800105160030002687  28260108  3156005        360   \n",
       "9997   202101  2826010800105160030002687  28260108  3156005        360   \n",
       "9998   202101  2826010800105160030002687  28260108  3156005        360   \n",
       "9999   202101  2826010800105160030002687  28260108  3156005        360   \n",
       "\n",
       "      buld_slno ftc_cate2_cd  pred_slng_amt  year_increase  \n",
       "0            14          B03        7360502              0  \n",
       "1            14          C07        1000000              0  \n",
       "2            14          B20        2136817              0  \n",
       "3            14          B16        9613632              0  \n",
       "4            14          B12        4318080              0  \n",
       "...         ...          ...            ...            ...  \n",
       "9995          1          B20        2037095              0  \n",
       "9996          1          A10       15414893              0  \n",
       "9997          1          A07        7882895              0  \n",
       "9998          1          A15        8480840              0  \n",
       "9999          1          A13      100000000              0  \n",
       "\n",
       "[10000 rows x 9 columns]"
      ]
     },
     "execution_count": 40,
     "metadata": {},
     "output_type": "execute_result"
    }
   ],
   "source": [
    "df_2021"
   ]
  },
  {
   "cell_type": "markdown",
   "id": "8c0242a9-730e-4ab0-9176-321382229383",
   "metadata": {},
   "source": [
    "test"
   ]
  },
  {
   "cell_type": "code",
   "execution_count": 21,
   "id": "7f484fe5-5a1e-46bb-98b7-c67c54d4b72b",
   "metadata": {},
   "outputs": [],
   "source": [
    "sum_2021 = df_2021[df_2021[df_2021['base_ym']>=202101]['base_ym']<=202112]['pred_slng_amt'].sum()\n",
    "sum_2022 = df_2022[df_2022[df_2022['base_ym']>=202201]['base_ym']<=202212]['pred_slng_amt'].sum()"
   ]
  }
 ],
 "metadata": {
  "kernelspec": {
   "display_name": "oasis",
   "language": "python",
   "name": "oasis"
  },
  "language_info": {
   "codemirror_mode": {
    "name": "ipython",
    "version": 3
   },
   "file_extension": ".py",
   "mimetype": "text/x-python",
   "name": "python",
   "nbconvert_exporter": "python",
   "pygments_lexer": "ipython3",
   "version": "3.8.13"
  }
 },
 "nbformat": 4,
 "nbformat_minor": 5
}
