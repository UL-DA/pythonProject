{
 "cells": [
  {
   "cell_type": "code",
   "execution_count": null,
   "id": "fa0d893a-3e25-4e00-bf80-8725962c3025",
   "metadata": {},
   "outputs": [],
   "source": [
    "import psycopg2\n",
    "import numpy as np\n",
    "import pandas as pd\n",
    "\n",
    "# DB Connect\n",
    "conn = psycopg2.connect(\n",
    "    host='redshift-cluster-1.ctvbwnnvbdkl.ap-northeast-2.redshift.amazonaws.com',\n",
    "    port=5439,\n",
    "    dbname='dev',\n",
    "    user='awsuser',\n",
    "    password='cremaoAdmin1234qwer!!'\n",
    ")\n",
    "\n",
    "# get data from DB\n",
    "cursor = conn.cursor()\n",
    "query = 'select wpop,w_male,w_female,w_pop_10,w_pop_20,w_pop_30,w_pop_40,w_pop_50,w_pop_60o,w_pop_10_m,w_pop_20_m,w_pop_30_m,w_pop_40_m,w_pop_50_m,w_pop_60o_m,w_pop_10_f,w_pop_20_f,w_pop_30_f,w_pop_40_f,w_pop_50_f,w_pop_60o_f from m1.kt_bldg_xy_info'\n",
    "cursor.execute(query)\n",
    "df_wpop = cursor.fetchall()\n",
    "\n",
    "# data to dataframe\n",
    "DF = pd.DataFrame(list(df_wpop))\n",
    "\n",
    "# set column name\n",
    "DF.columns = ['wpop','w_male','w_female','w_pop_10','w_pop_20','w_pop_30','w_pop_40','w_pop_50','w_pop_60o','w_pop_10_m','w_pop_20_m'\n",
    "              ,'w_pop_30_m','w_pop_40_m','w_pop_50_m','w_pop_60o_m','w_pop_10_f','w_pop_20_f','w_pop_30_f','w_pop_40_f','w_pop_50_f','w_pop_60o_f']\n",
    "\n",
    "# save to csv \n",
    "DF.to_csv('./m1.kt_bldg_xy_info (wpop).csv', index=False, encoding='utf-8-sig')"
   ]
  },
  {
   "cell_type": "code",
   "execution_count": null,
   "id": "04d07f67-cb64-45d2-a914-f1eb439ff60d",
   "metadata": {},
   "outputs": [],
   "source": [
    "DF"
   ]
  }
 ],
 "metadata": {
  "kernelspec": {
   "display_name": "oasis",
   "language": "python",
   "name": "oasis"
  },
  "language_info": {
   "codemirror_mode": {
    "name": "ipython",
    "version": 3
   },
   "file_extension": ".py",
   "mimetype": "text/x-python",
   "name": "python",
   "nbconvert_exporter": "python",
   "pygments_lexer": "ipython3",
   "version": "3.8.13"
  }
 },
 "nbformat": 4,
 "nbformat_minor": 5
}
