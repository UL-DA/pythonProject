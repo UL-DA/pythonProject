{
 "cells": [
  {
   "cell_type": "code",
   "execution_count": 1,
   "metadata": {},
   "outputs": [],
   "source": [
    "import fiona\n",
    "from shapely.geometry import Point, Polygon\n",
    "import numpy as np\n",
    "from pyproj import Proj, transform"
   ]
  },
  {
   "cell_type": "code",
   "execution_count": 2,
   "metadata": {},
   "outputs": [
    {
     "name": "stderr",
     "output_type": "stream",
     "text": [
      "/home/taehyun/anaconda3/envs/TH/lib/python3.6/site-packages/pyproj/crs/crs.py:53: FutureWarning: '+init=<authority>:<code>' syntax is deprecated. '<authority>:<code>' is the preferred initialization method. When making the change, be mindful of axis order changes: https://pyproj4.github.io/pyproj/stable/gotchas.html#axis-order-changes-in-proj-6\n",
      "  return _prepare_from_string(\" \".join(pjargs))\n",
      "/home/taehyun/anaconda3/envs/TH/lib/python3.6/site-packages/pyproj/crs/crs.py:294: FutureWarning: '+init=<authority>:<code>' syntax is deprecated. '<authority>:<code>' is the preferred initialization method. When making the change, be mindful of axis order changes: https://pyproj4.github.io/pyproj/stable/gotchas.html#axis-order-changes-in-proj-6\n",
      "  projstring = _prepare_from_string(\" \".join((projstring, projkwargs)))\n",
      "/home/taehyun/anaconda3/envs/TH/lib/python3.6/site-packages/pyproj/crs/crs.py:53: FutureWarning: '+init=<authority>:<code>' syntax is deprecated. '<authority>:<code>' is the preferred initialization method. When making the change, be mindful of axis order changes: https://pyproj4.github.io/pyproj/stable/gotchas.html#axis-order-changes-in-proj-6\n",
      "  return _prepare_from_string(\" \".join(pjargs))\n",
      "/home/taehyun/anaconda3/envs/TH/lib/python3.6/site-packages/pyproj/crs/crs.py:294: FutureWarning: '+init=<authority>:<code>' syntax is deprecated. '<authority>:<code>' is the preferred initialization method. When making the change, be mindful of axis order changes: https://pyproj4.github.io/pyproj/stable/gotchas.html#axis-order-changes-in-proj-6\n",
      "  projstring = _prepare_from_string(\" \".join((projstring, projkwargs)))\n",
      "/home/taehyun/anaconda3/envs/TH/lib/python3.6/site-packages/pyproj/crs/crs.py:53: FutureWarning: '+init=<authority>:<code>' syntax is deprecated. '<authority>:<code>' is the preferred initialization method. When making the change, be mindful of axis order changes: https://pyproj4.github.io/pyproj/stable/gotchas.html#axis-order-changes-in-proj-6\n",
      "  return _prepare_from_string(\" \".join(pjargs))\n",
      "/home/taehyun/anaconda3/envs/TH/lib/python3.6/site-packages/pyproj/crs/crs.py:294: FutureWarning: '+init=<authority>:<code>' syntax is deprecated. '<authority>:<code>' is the preferred initialization method. When making the change, be mindful of axis order changes: https://pyproj4.github.io/pyproj/stable/gotchas.html#axis-order-changes-in-proj-6\n",
      "  projstring = _prepare_from_string(\" \".join((projstring, projkwargs)))\n"
     ]
    }
   ],
   "source": [
    "proj_UTMK = Proj(init = 'epsg:5179')\n",
    "proj_WGS84 = Proj(init = 'epsg:4326')\n",
    "proj_GRS80 = Proj(init = 'epsg:5181')"
   ]
  },
  {
   "cell_type": "code",
   "execution_count": 3,
   "metadata": {},
   "outputs": [],
   "source": [
    "shape = fiona.open(\"./최종_상권328.shp\")"
   ]
  },
  {
   "cell_type": "code",
   "execution_count": 13,
   "metadata": {},
   "outputs": [
    {
     "name": "stderr",
     "output_type": "stream",
     "text": [
      "/home/taehyun/anaconda3/envs/TH/lib/python3.6/site-packages/ipykernel_launcher.py:5: DeprecationWarning: This function is deprecated. See: https://pyproj4.github.io/pyproj/stable/gotchas.html#upgrading-to-pyproj-2-from-pyproj-1\n",
      "  \"\"\"\n",
      "/home/taehyun/anaconda3/envs/TH/lib/python3.6/site-packages/ipykernel_launcher.py:8: DeprecationWarning: This function is deprecated. See: https://pyproj4.github.io/pyproj/stable/gotchas.html#upgrading-to-pyproj-2-from-pyproj-1\n",
      "  \n",
      "/home/taehyun/anaconda3/envs/TH/lib/python3.6/site-packages/ipykernel_launcher.py:19: DeprecationWarning: This function is deprecated. See: https://pyproj4.github.io/pyproj/stable/gotchas.html#upgrading-to-pyproj-2-from-pyproj-1\n",
      "/home/taehyun/anaconda3/envs/TH/lib/python3.6/site-packages/ipykernel_launcher.py:22: DeprecationWarning: This function is deprecated. See: https://pyproj4.github.io/pyproj/stable/gotchas.html#upgrading-to-pyproj-2-from-pyproj-1\n"
     ]
    }
   ],
   "source": [
    "ID = []\n",
    "poly = []\n",
    "for j in range(len(shape)):    \n",
    "    if shape[j]['geometry']['type'] == 'Polygon':\n",
    "        new = transform(proj_UTMK, proj_WGS84, shape[j]['geometry']['coordinates'][0][0][0],shape[j]['geometry']['coordinates'][0][0][1])\n",
    "        a = str(new[1]) + ' ' + str(new[0])\n",
    "        for i in range(1,len(shape[j]['geometry']['coordinates'][0])): \n",
    "            new = transform(proj_UTMK, proj_WGS84, shape[j]['geometry']['coordinates'][0][i][0],shape[j]['geometry']['coordinates'][0][i][1])\n",
    "            b = str(new[1]) + ' ' + str(new[0])\n",
    "            a = a + ',' + b\n",
    "        X = 'MultiPolygon(((' + a + ')))'\n",
    "        ID.append(j)\n",
    "        poly.append(X)\n",
    "    else:\n",
    "        X = ''    \n",
    "        for k in range(len(shape[j]['geometry']['coordinates'])):\n",
    "            if len(X) > 0:\n",
    "                X = X + ','\n",
    "            new = transform(proj_UTMK, proj_WGS84, shape[j]['geometry']['coordinates'][k][0][0][0],shape[j]['geometry']['coordinates'][0][0][0][1])\n",
    "            a = str(new[1]) + ' ' + str(new[0])\n",
    "            for l in range(1,len(shape[j]['geometry']['coordinates'][k][0])):\n",
    "                new = transform(proj_UTMK, proj_WGS84, shape[j]['geometry']['coordinates'][k][0][l][0],shape[j]['geometry']['coordinates'][k][0][l][1])\n",
    "                b = str(new[1]) + ' ' + str(new[0])\n",
    "                a = a + ',' + b\n",
    "            Y = '(' + a +')'\n",
    "            X = X + Y\n",
    "        Z = 'MultiPolygon((' + X + '))'\n",
    "        ID.append(j)\n",
    "        poly.append(Z)"
   ]
  },
  {
   "cell_type": "code",
   "execution_count": 15,
   "metadata": {},
   "outputs": [],
   "source": [
    "X = ''    \n",
    "for k in range(len(shape[15]['geometry']['coordinates'])):\n",
    "    if len(X) > 0:\n",
    "        X = X + ','\n",
    "    a = str(shape[15]['geometry']['coordinates'][k][0][0][0]) + ' ' + str(shape[15]['geometry']['coordinates'][0][0][0][1]) \n",
    "    for l in range(1,len(shape[15]['geometry']['coordinates'][k][0])):\n",
    "        b = str(shape[15]['geometry']['coordinates'][k][0][l][0]) + ' ' + str(shape[15]['geometry']['coordinates'][k][0][l][1])\n",
    "        a = a + ',' + b\n",
    "    Y = '(' + a +')'\n",
    "    X = X + Y\n",
    "Z = 'MultiPolygon((' + X + '))'"
   ]
  },
  {
   "cell_type": "code",
   "execution_count": 18,
   "metadata": {},
   "outputs": [],
   "source": [
    "import pandas as pd"
   ]
  },
  {
   "cell_type": "code",
   "execution_count": 19,
   "metadata": {},
   "outputs": [],
   "source": [
    "df = pd.DataFrame(data = zip(ID,poly),columns = ['id','polygon'])"
   ]
  },
  {
   "cell_type": "code",
   "execution_count": 20,
   "metadata": {},
   "outputs": [
    {
     "data": {
      "text/html": [
       "<div>\n",
       "<style scoped>\n",
       "    .dataframe tbody tr th:only-of-type {\n",
       "        vertical-align: middle;\n",
       "    }\n",
       "\n",
       "    .dataframe tbody tr th {\n",
       "        vertical-align: top;\n",
       "    }\n",
       "\n",
       "    .dataframe thead th {\n",
       "        text-align: right;\n",
       "    }\n",
       "</style>\n",
       "<table border=\"1\" class=\"dataframe\">\n",
       "  <thead>\n",
       "    <tr style=\"text-align: right;\">\n",
       "      <th></th>\n",
       "      <th>id</th>\n",
       "      <th>polygon</th>\n",
       "    </tr>\n",
       "  </thead>\n",
       "  <tbody>\n",
       "    <tr>\n",
       "      <th>0</th>\n",
       "      <td>0</td>\n",
       "      <td>MultiPolygon(((37.51951963967793 127.041373249...</td>\n",
       "    </tr>\n",
       "    <tr>\n",
       "      <th>1</th>\n",
       "      <td>1</td>\n",
       "      <td>MultiPolygon(((37.595764764924674 127.08036053...</td>\n",
       "    </tr>\n",
       "    <tr>\n",
       "      <th>2</th>\n",
       "      <td>2</td>\n",
       "      <td>MultiPolygon(((37.48092145437983 126.995597406...</td>\n",
       "    </tr>\n",
       "    <tr>\n",
       "      <th>3</th>\n",
       "      <td>3</td>\n",
       "      <td>MultiPolygon(((37.44494736898046 127.156801690...</td>\n",
       "    </tr>\n",
       "    <tr>\n",
       "      <th>4</th>\n",
       "      <td>4</td>\n",
       "      <td>MultiPolygon(((37.27219753554295 127.044843398...</td>\n",
       "    </tr>\n",
       "    <tr>\n",
       "      <th>...</th>\n",
       "      <td>...</td>\n",
       "      <td>...</td>\n",
       "    </tr>\n",
       "    <tr>\n",
       "      <th>323</th>\n",
       "      <td>323</td>\n",
       "      <td>MultiPolygon(((37.3982279796576 126.9622082987...</td>\n",
       "    </tr>\n",
       "    <tr>\n",
       "      <th>324</th>\n",
       "      <td>324</td>\n",
       "      <td>MultiPolygon(((37.533314678060165 126.91165561...</td>\n",
       "    </tr>\n",
       "    <tr>\n",
       "      <th>325</th>\n",
       "      <td>325</td>\n",
       "      <td>MultiPolygon(((36.161749339006505 127.02111547...</td>\n",
       "    </tr>\n",
       "    <tr>\n",
       "      <th>326</th>\n",
       "      <td>326</td>\n",
       "      <td>MultiPolygon(((35.18882634149508 129.203397307...</td>\n",
       "    </tr>\n",
       "    <tr>\n",
       "      <th>327</th>\n",
       "      <td>327</td>\n",
       "      <td>MultiPolygon(((35.54071033189976 129.252928801...</td>\n",
       "    </tr>\n",
       "  </tbody>\n",
       "</table>\n",
       "<p>328 rows × 2 columns</p>\n",
       "</div>"
      ],
      "text/plain": [
       "      id                                            polygon\n",
       "0      0  MultiPolygon(((37.51951963967793 127.041373249...\n",
       "1      1  MultiPolygon(((37.595764764924674 127.08036053...\n",
       "2      2  MultiPolygon(((37.48092145437983 126.995597406...\n",
       "3      3  MultiPolygon(((37.44494736898046 127.156801690...\n",
       "4      4  MultiPolygon(((37.27219753554295 127.044843398...\n",
       "..   ...                                                ...\n",
       "323  323  MultiPolygon(((37.3982279796576 126.9622082987...\n",
       "324  324  MultiPolygon(((37.533314678060165 126.91165561...\n",
       "325  325  MultiPolygon(((36.161749339006505 127.02111547...\n",
       "326  326  MultiPolygon(((35.18882634149508 129.203397307...\n",
       "327  327  MultiPolygon(((35.54071033189976 129.252928801...\n",
       "\n",
       "[328 rows x 2 columns]"
      ]
     },
     "execution_count": 20,
     "metadata": {},
     "output_type": "execute_result"
    }
   ],
   "source": [
    "df"
   ]
  },
  {
   "cell_type": "code",
   "execution_count": null,
   "metadata": {},
   "outputs": [],
   "source": []
  },
  {
   "cell_type": "code",
   "execution_count": 21,
   "metadata": {},
   "outputs": [],
   "source": [
    "df.to_csv('./polygonfile.csv',index=False,encoding='utf-8-sig')"
   ]
  },
  {
   "cell_type": "code",
   "execution_count": null,
   "metadata": {},
   "outputs": [],
   "source": []
  }
 ],
 "metadata": {
  "kernelspec": {
   "display_name": "oasis",
   "language": "python",
   "name": "oasis"
  },
  "language_info": {
   "codemirror_mode": {
    "name": "ipython",
    "version": 3
   },
   "file_extension": ".py",
   "mimetype": "text/x-python",
   "name": "python",
   "nbconvert_exporter": "python",
   "pygments_lexer": "ipython3",
   "version": "3.8.13"
  }
 },
 "nbformat": 4,
 "nbformat_minor": 4
}
