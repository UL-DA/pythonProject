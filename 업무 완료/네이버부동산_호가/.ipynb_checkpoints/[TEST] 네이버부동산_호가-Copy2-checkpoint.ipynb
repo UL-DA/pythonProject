{
 "cells": [
  {
   "cell_type": "code",
   "execution_count": null,
   "id": "92eb9b6f-0827-4e55-8917-13942ac11287",
   "metadata": {
    "collapsed": true,
    "jupyter": {
     "outputs_hidden": true
    },
    "tags": []
   },
   "outputs": [
    {
     "name": "stdout",
     "output_type": "stream",
     "text": [
      "<Response [200]> 5ms 1/3\n",
      "<Response [200]> 5ms 2/3\n",
      "<Response [200]> 6ms 3/3\n",
      "<Response [200]> 4ms 1/3\n",
      "<Response [200]> 3ms 2/3\n",
      "<Response [307]> 4ms 3/3\n",
      "<Response [307]> 4ms 1/3\n",
      "<Response [307]> 6ms 2/3\n",
      "<Response [307]> 4ms 3/3\n",
      "<Response [307]> 6ms 1/3\n",
      "<Response [307]> 3ms 2/3\n",
      "<Response [307]> 4ms 3/3\n",
      "<Response [307]> 5ms 1/3\n",
      "<Response [307]> 6ms 2/3\n",
      "<Response [307]> 3ms 3/3\n",
      "<Response [307]> 5ms 1/3\n",
      "<Response [307]> 6ms 2/3\n",
      "<Response [307]> 5ms 3/3\n",
      "<Response [307]> 5ms 1/3\n",
      "<Response [307]> 5ms 2/3\n",
      "<Response [307]> 6ms 3/3\n"
     ]
    }
   ],
   "source": [
    "# 임포트\n",
    "import json\n",
    "import time\n",
    "import random\n",
    "import requests\n",
    "import pandas as pd\n",
    "from tqdm import tqdm\n",
    "from fake_useragent import UserAgent\n",
    "\n",
    "ua = UserAgent()\n",
    "\n",
    "### 1. 법정동 API\n",
    "lawd_cd_df = pd.DataFrame()\n",
    "lawd_cd_list = []\n",
    "lawd_cd_unique = []\n",
    "\n",
    "for i in range(1, 22):\n",
    "    \n",
    "    url = 'http://apis.data.go.kr/1741000/StanReginCd/getStanReginCdList'\n",
    "    serviceKey = 'C94PKnigawlH2iISVWz1Itw9tVzyuOCbOvKgzCrGOUZWvs3XqrkhH+/ntypJ7kK2P2g16vLYCJif3TNfO1i1KA=='\n",
    "    params = {\n",
    "        'serviceKey' : serviceKey,\n",
    "        'pageNo' : str(i),\n",
    "        'numOfRows' : '1000',\n",
    "        'type' : 'json'\n",
    "    }\n",
    "    response = requests.get(url, params=params)\n",
    "    content = response.text\n",
    "    \n",
    "    # Json List 변환\n",
    "    lawd_cd_df = pd.DataFrame(pd.json_normalize(data = json.loads(content), record_path = 'StanReginCd')['row'][1])\n",
    "    lawd_cd_list = list(lawd_cd_df['locatjumin_cd'].str[:10])\n",
    "    \n",
    "    # 시군구코드 unique하게 남기기\n",
    "    for x in lawd_cd_list:\n",
    "        if x not in lawd_cd_unique:\n",
    "            lawd_cd_unique.append(x)\n",
    "            \n",
    "            \n",
    "fails = []\n",
    "info_df = pd.DataFrame()\n",
    "\n",
    "for i in range(10001,11000):\n",
    "    cortar_url = 'https://m.land.naver.com/cluster/ajax/articleList?itemId=&mapKey=&lgeo=&showR0=&rletTpCd=SG&tradTpCd=A1%3AB1%3AB2&z=14&totCnt=402&cortarNo={}&sort=rank'.format(lawd_cd_unique[i])\n",
    "    count = 0\n",
    "    \n",
    "    for num in range(1,4):\n",
    "        \n",
    "        try:\n",
    "            count += 1\n",
    "            start = time.time() \n",
    "            url = cortar_url + str(num)\n",
    "            headers = {'user-agent' : ua.ie,'referer' : 'https://m.land.naver.com/'}\n",
    "            time.sleep(random.randrange(3,7))\n",
    "            response = requests.get(url, headers = headers)\n",
    "            print(response,str(int(time.time()-start)) + 'ms', str(count) +'/3')\n",
    "            items = response.json()['body']\n",
    "            df = pd.DataFrame(items)\n",
    "            info_df = info_df.append(df)\n",
    "        except:\n",
    "            fails.append([i,num])\n",
    "            \n",
    "    if i % 100 == 0:\n",
    "        info_df.to_csv('./네이버부동산_'+str(i+2)+'.csv',index=False,encoding='utf-8-sig')\n",
    "\n",
    "info_df.to_csv('./네이버부동산_'+str(i+1)+'.csv',index=False,encoding='utf-8-sig')        "
   ]
  }
 ],
 "metadata": {
  "kernelspec": {
   "display_name": "oasis",
   "language": "python",
   "name": "oasis"
  },
  "language_info": {
   "codemirror_mode": {
    "name": "ipython",
    "version": 3
   },
   "file_extension": ".py",
   "mimetype": "text/x-python",
   "name": "python",
   "nbconvert_exporter": "python",
   "pygments_lexer": "ipython3",
   "version": "3.8.13"
  }
 },
 "nbformat": 4,
 "nbformat_minor": 5
}
