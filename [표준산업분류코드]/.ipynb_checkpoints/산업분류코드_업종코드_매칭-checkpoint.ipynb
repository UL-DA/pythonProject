{
 "cells": [
  {
   "cell_type": "code",
   "execution_count": 1,
   "id": "06a83955-c9f6-4e4d-9c57-3970d5c4db2a",
   "metadata": {},
   "outputs": [],
   "source": [
    "import numpy as np \n",
    "import pandas as pd"
   ]
  },
  {
   "cell_type": "code",
   "execution_count": 70,
   "id": "8dd4d150-ce95-43c0-aad3-a20a19820631",
   "metadata": {},
   "outputs": [],
   "source": [
    "# 표준산업분류코드 불러오기 \n",
    "df = pd.read_excel('./표준산업분류코드/한국표준산업분류10차_표.xlsx')"
   ]
  },
  {
   "cell_type": "code",
   "execution_count": 71,
   "id": "64311675-0f83-49f5-9bd0-d7a124f7d090",
   "metadata": {},
   "outputs": [],
   "source": [
    "df.columns = ['대분류_코드','대분류_항목명','중분류_코드','중분류_항목명','소분류_코드','소분류_항목명','세분류_코드','세분류_항목명','세세분류_코드','세세분류_항목명','업종명','업종코드']"
   ]
  },
  {
   "cell_type": "code",
   "execution_count": 72,
   "id": "9a35541d-5461-4e5b-ad6b-3c6b4a449744",
   "metadata": {},
   "outputs": [],
   "source": [
    "df = df.drop([0,1]).reset_index(drop=True)"
   ]
  },
  {
   "cell_type": "code",
   "execution_count": 73,
   "id": "32dd2968-5560-4f28-b942-a73548892fdc",
   "metadata": {},
   "outputs": [],
   "source": [
    "# 국민카드 업종 불러오기\n",
    "kb = pd.read_excel('./표준산업분류코드/KB카드요청_업종_건물_220916 (1).xlsx')"
   ]
  },
  {
   "cell_type": "code",
   "execution_count": 74,
   "id": "deca6733-9130-463c-af4e-15a47f713142",
   "metadata": {},
   "outputs": [],
   "source": [
    "kb.columns = ['업종명','업종코드','정의','예시']"
   ]
  },
  {
   "cell_type": "code",
   "execution_count": 75,
   "id": "e4624378-b15e-40a5-90c3-64a990875bae",
   "metadata": {},
   "outputs": [],
   "source": [
    "# kb 업종명과 매칭\n",
    "def matching(col):\n",
    "    for name in kb['업종명']:\n",
    "        idx = df[col.str.contains(name, na=False)].index\n",
    "        df['업종명'][idx] = name"
   ]
  },
  {
   "cell_type": "code",
   "execution_count": null,
   "id": "5b1380df-48d9-4f30-8121-eba81630ab98",
   "metadata": {},
   "outputs": [],
   "source": [
    "name_list = ['대분류_항목명','중분류_항목명','소분류_항목명','세분류_항목명','세세분류_항목명']\n",
    "\n",
    "for name in name_list:\n",
    "    matching(df[name])"
   ]
  },
  {
   "cell_type": "code",
   "execution_count": 76,
   "id": "a0394c1e-0c10-4c47-9133-0a960ba73603",
   "metadata": {},
   "outputs": [
    {
     "name": "stderr",
     "output_type": "stream",
     "text": [
      "C:\\Users\\duPar\\Anaconda3\\envs\\oasis\\lib\\site-packages\\pandas\\core\\strings\\accessor.py:101: UserWarning: This pattern has match groups. To actually get the groups, use str.extract.\n",
      "  return func(self, *args, **kwargs)\n"
     ]
    }
   ],
   "source": [
    "matching(df['대분류_항목명'])"
   ]
  },
  {
   "cell_type": "code",
   "execution_count": 77,
   "id": "8949c63e-6bb1-422c-8f03-6f78c837311d",
   "metadata": {},
   "outputs": [],
   "source": [
    "matching(df['중분류_항목명'])"
   ]
  },
  {
   "cell_type": "code",
   "execution_count": 78,
   "id": "164f48f8-01b2-4d04-842d-d169fdfb6097",
   "metadata": {},
   "outputs": [],
   "source": [
    "matching(df['소분류_항목명'])"
   ]
  },
  {
   "cell_type": "code",
   "execution_count": 79,
   "id": "b4ca1471-f947-4e51-9b94-51961100a64d",
   "metadata": {},
   "outputs": [],
   "source": [
    "matching(df['세분류_항목명'])"
   ]
  },
  {
   "cell_type": "code",
   "execution_count": 80,
   "id": "62e2e72b-0ffb-4aa9-b05d-8ccb227d46e3",
   "metadata": {},
   "outputs": [],
   "source": [
    "matching(df['세세분류_항목명'])"
   ]
  },
  {
   "cell_type": "code",
   "execution_count": 250,
   "id": "ce41f7fb-aceb-4c15-84aa-d34f70d70697",
   "metadata": {},
   "outputs": [],
   "source": [
    "name = '학원'"
   ]
  },
  {
   "cell_type": "code",
   "execution_count": 227,
   "id": "5edbd25f-5e59-4e99-abb9-a6a41403bba3",
   "metadata": {},
   "outputs": [],
   "source": [
    "# 업종명 포함되는 것 일괄 변경\n",
    "idx = df[df['세세분류_항목명'].str.contains(name, na=False)].index\n",
    "df['업종명'][idx] = '교육 (교과)'"
   ]
  },
  {
   "cell_type": "code",
   "execution_count": 182,
   "id": "e3e634e4-e7b2-468b-a8bf-ad07f86c353d",
   "metadata": {},
   "outputs": [
    {
     "name": "stderr",
     "output_type": "stream",
     "text": [
      "C:\\Users\\duPar\\AppData\\Local\\Temp\\ipykernel_2464\\1641701541.py:2: UserWarning: Boolean Series key will be reindexed to match DataFrame index.\n",
      "  idx = df[~df['세세분류_항목명'].str.contains('창고업',na=False)][df['세세분류_항목명'].str.contains(name, na=False)].index\n"
     ]
    }
   ],
   "source": [
    "# 창고업 아닌 것 중에서 농수산물인 것\n",
    "idx = df[~df['세세분류_항목명'].str.contains('창고업',na=False)][df['세세분류_항목명'].str.contains(name, na=False)].index\n",
    "df['업종명'][idx] = '농수산물'"
   ]
  },
  {
   "cell_type": "code",
   "execution_count": 251,
   "id": "f6900450-fa1d-4140-997b-7946b81bc5c5",
   "metadata": {},
   "outputs": [
    {
     "name": "stderr",
     "output_type": "stream",
     "text": [
      "C:\\Users\\duPar\\AppData\\Local\\Temp\\ipykernel_2464\\1295711002.py:2: UserWarning: Boolean Series key will be reindexed to match DataFrame index.\n",
      "  idx = df[~df['세세분류_항목명'].str.contains('대학원',na=False)][df['세세분류_항목명'].str.contains(name, na=False)].index\n"
     ]
    }
   ],
   "source": [
    "# 대학원 아닌 것 중에서 농수산물인 것\n",
    "idx = df[~df['세세분류_항목명'].str.contains('대학원',na=False)][df['세세분류_항목명'].str.contains(name, na=False)].index\n",
    "df['업종명'][idx] = '교육 (교과)'"
   ]
  },
  {
   "cell_type": "code",
   "execution_count": 196,
   "id": "b371f01b-cb09-43ca-9bb4-b1e2269ec963",
   "metadata": {},
   "outputs": [
    {
     "name": "stderr",
     "output_type": "stream",
     "text": [
      "C:\\Users\\duPar\\AppData\\Local\\Temp\\ipykernel_2464\\1631316312.py:2: UserWarning: Boolean Series key will be reindexed to match DataFrame index.\n",
      "  idx = df[df['세세분류_코드'] > '55'][df['업종명'].isnull()].index\n"
     ]
    }
   ],
   "source": [
    "# 기타 서비스\n",
    "idx = df[df['세세분류_코드'] > '55'][df['업종명'].isnull()].index\n",
    "df['업종명'][idx] = '기타 서비스'"
   ]
  },
  {
   "cell_type": "code",
   "execution_count": 232,
   "id": "15c0a9c3-d4a6-41e4-a823-055d901179a3",
   "metadata": {},
   "outputs": [],
   "source": [
    "# 업종코드 붙이기 \n",
    "for i in kb.index:\n",
    "    if len(df[df['업종명'] == kb['업종명'][i]]) > 0:\n",
    "        idx = df[df['업종명'] == kb['업종명'][i]].index\n",
    "        df['업종코드'][idx] = kb['업종코드'][i]"
   ]
  },
  {
   "cell_type": "code",
   "execution_count": 262,
   "id": "d5bcf62c-8a1c-4069-be32-444c1ce1bc88",
   "metadata": {},
   "outputs": [
    {
     "name": "stderr",
     "output_type": "stream",
     "text": [
      "C:\\Users\\duPar\\AppData\\Local\\Temp\\ipykernel_2464\\4200000022.py:2: UserWarning: Boolean Series key will be reindexed to match DataFrame index.\n",
      "  len(df[df['업종명'].isnull()][df['대분류_항목명'] > 'F'])\n"
     ]
    },
    {
     "data": {
      "text/plain": [
       "6"
      ]
     },
     "execution_count": 262,
     "metadata": {},
     "output_type": "execute_result"
    }
   ],
   "source": [
    "# 노가다 개수 확인\n",
    "len(df[df['업종명'].isnull()][df['대분류_항목명'] > 'F'])"
   ]
  },
  {
   "cell_type": "code",
   "execution_count": 263,
   "id": "61d0c4ae-ba88-49f3-8d4d-cc88fd2b0498",
   "metadata": {},
   "outputs": [
    {
     "name": "stderr",
     "output_type": "stream",
     "text": [
      "C:\\Users\\duPar\\AppData\\Local\\Temp\\ipykernel_2464\\3848038986.py:1: UserWarning: Boolean Series key will be reindexed to match DataFrame index.\n",
      "  df[df['업종명'].isnull()][df['대분류_항목명'] <= 'F']\n"
     ]
    },
    {
     "data": {
      "text/html": [
       "<div>\n",
       "<style scoped>\n",
       "    .dataframe tbody tr th:only-of-type {\n",
       "        vertical-align: middle;\n",
       "    }\n",
       "\n",
       "    .dataframe tbody tr th {\n",
       "        vertical-align: top;\n",
       "    }\n",
       "\n",
       "    .dataframe thead th {\n",
       "        text-align: right;\n",
       "    }\n",
       "</style>\n",
       "<table border=\"1\" class=\"dataframe\">\n",
       "  <thead>\n",
       "    <tr style=\"text-align: right;\">\n",
       "      <th></th>\n",
       "      <th>대분류_코드</th>\n",
       "      <th>대분류_항목명</th>\n",
       "      <th>중분류_코드</th>\n",
       "      <th>중분류_항목명</th>\n",
       "      <th>소분류_코드</th>\n",
       "      <th>소분류_항목명</th>\n",
       "      <th>세분류_코드</th>\n",
       "      <th>세분류_항목명</th>\n",
       "      <th>세세분류_코드</th>\n",
       "      <th>세세분류_항목명</th>\n",
       "      <th>업종명</th>\n",
       "      <th>업종코드</th>\n",
       "    </tr>\n",
       "  </thead>\n",
       "  <tbody>\n",
       "  </tbody>\n",
       "</table>\n",
       "</div>"
      ],
      "text/plain": [
       "Empty DataFrame\n",
       "Columns: [대분류_코드, 대분류_항목명, 중분류_코드, 중분류_항목명, 소분류_코드, 소분류_항목명, 세분류_코드, 세분류_항목명, 세세분류_코드, 세세분류_항목명, 업종명, 업종코드]\n",
       "Index: []"
      ]
     },
     "execution_count": 263,
     "metadata": {},
     "output_type": "execute_result"
    }
   ],
   "source": [
    "df[df['업종명'].isnull()][df['대분류_항목명'] <= 'F']"
   ]
  },
  {
   "cell_type": "code",
   "execution_count": 255,
   "id": "0a8f9941-2c58-408f-b6d4-27884454b286",
   "metadata": {},
   "outputs": [],
   "source": [
    "df.to_excel('./업종분류코드_노가다.xlsx', index=False, encoding='utf-8-sig')"
   ]
  }
 ],
 "metadata": {
  "kernelspec": {
   "display_name": "oasis",
   "language": "python",
   "name": "oasis"
  },
  "language_info": {
   "codemirror_mode": {
    "name": "ipython",
    "version": 3
   },
   "file_extension": ".py",
   "mimetype": "text/x-python",
   "name": "python",
   "nbconvert_exporter": "python",
   "pygments_lexer": "ipython3",
   "version": "3.8.13"
  }
 },
 "nbformat": 4,
 "nbformat_minor": 5
}
