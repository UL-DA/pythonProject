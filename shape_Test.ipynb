{
 "cells": [
  {
   "cell_type": "markdown",
   "id": "68981d96-bb36-4960-9637-4fb8fe8c1f42",
   "metadata": {},
   "source": [
    "### 임포트"
   ]
  },
  {
   "cell_type": "code",
   "execution_count": 3,
   "id": "b71bd4b3-53a2-4ca4-a69c-76622f0327db",
   "metadata": {},
   "outputs": [],
   "source": [
    "# 벡터 API\n",
    "import fiona"
   ]
  },
  {
   "cell_type": "code",
   "execution_count": 4,
   "id": "46db29c5-d316-47a3-9c54-eaffb91fdf93",
   "metadata": {
    "scrolled": true
   },
   "outputs": [],
   "source": [
    "# 시각화\n",
    "from shapely.geometry import Point, Polygon"
   ]
  },
  {
   "cell_type": "code",
   "execution_count": 5,
   "id": "5ae63595-d80d-4295-8af3-56dd22c7ebf7",
   "metadata": {
    "scrolled": true
   },
   "outputs": [],
   "source": [
    "# 데이터 프레임\n",
    "import numpy as np\n",
    "import pandas as pd"
   ]
  },
  {
   "cell_type": "code",
   "execution_count": 6,
   "id": "a1ced548-352d-4a8a-9cbe-f78bd17f7873",
   "metadata": {
    "scrolled": true
   },
   "outputs": [],
   "source": [
    "# 좌표 변환\n",
    "from pyproj import Proj, transform"
   ]
  },
  {
   "cell_type": "code",
   "execution_count": 7,
   "id": "448e8a52-a1b6-43c6-bc6b-1ced6380446e",
   "metadata": {},
   "outputs": [],
   "source": [
    "# dict 정렬해서 담는 모듈\n",
    "from collections import OrderedDict"
   ]
  },
  {
   "cell_type": "markdown",
   "id": "026b4478-3e74-470a-abeb-c13b575067d8",
   "metadata": {
    "jp-MarkdownHeadingCollapsed": true,
    "tags": []
   },
   "source": [
    "### 포맷 맞추기"
   ]
  },
  {
   "cell_type": "code",
   "execution_count": 8,
   "id": "71f3c10e-f47d-4d9a-8d1a-762c8c460114",
   "metadata": {},
   "outputs": [],
   "source": [
    "# epsg:5178 # 도로명 주소"
   ]
  },
  {
   "cell_type": "code",
   "execution_count": 9,
   "id": "20ee4fbc-6b55-4489-ba47-a0cf2100ac0f",
   "metadata": {},
   "outputs": [
    {
     "name": "stderr",
     "output_type": "stream",
     "text": [
      "C:\\Users\\USER\\anaconda3\\envs\\oasis\\lib\\site-packages\\pyproj\\crs\\crs.py:130: FutureWarning: '+init=<authority>:<code>' syntax is deprecated. '<authority>:<code>' is the preferred initialization method. When making the change, be mindful of axis order changes: https://pyproj4.github.io/pyproj/stable/gotchas.html#axis-order-changes-in-proj-6\n",
      "  in_crs_string = _prepare_from_proj_string(in_crs_string)\n",
      "C:\\Users\\USER\\anaconda3\\envs\\oasis\\lib\\site-packages\\pyproj\\crs\\crs.py:130: FutureWarning: '+init=<authority>:<code>' syntax is deprecated. '<authority>:<code>' is the preferred initialization method. When making the change, be mindful of axis order changes: https://pyproj4.github.io/pyproj/stable/gotchas.html#axis-order-changes-in-proj-6\n",
      "  in_crs_string = _prepare_from_proj_string(in_crs_string)\n",
      "C:\\Users\\USER\\anaconda3\\envs\\oasis\\lib\\site-packages\\pyproj\\crs\\crs.py:130: FutureWarning: '+init=<authority>:<code>' syntax is deprecated. '<authority>:<code>' is the preferred initialization method. When making the change, be mindful of axis order changes: https://pyproj4.github.io/pyproj/stable/gotchas.html#axis-order-changes-in-proj-6\n",
      "  in_crs_string = _prepare_from_proj_string(in_crs_string)\n"
     ]
    }
   ],
   "source": [
    "# 출력 포맷은 float\n",
    "proj_UTMK  = Proj(init = 'epsg:5179') # 네이버 지도 (UTM-K 좌표)\n",
    "proj_WGS84 = Proj(init = 'epsg:4326') # GPS 등의 기본 좌표계 (세계 지구 좌표 시스템(World Geodetic System, WGS))\n",
    "proj_GRS80 = Proj(init = 'epsg:5181') # 카카오맵 (GRS80 타원체)"
   ]
  },
  {
   "cell_type": "markdown",
   "id": "185fc4e8-9210-4baa-b261-fd38ac5f0d9e",
   "metadata": {
    "jp-MarkdownHeadingCollapsed": true,
    "tags": []
   },
   "source": [
    "### 데이터 가져오기"
   ]
  },
  {
   "cell_type": "code",
   "execution_count": 10,
   "id": "18bba2af-6821-4bdf-8c40-9539db8f2241",
   "metadata": {},
   "outputs": [],
   "source": [
    "shape = fiona.open(\"./data/최종_상권328.shp\")"
   ]
  },
  {
   "cell_type": "markdown",
   "id": "a52c96b5-e767-469f-b6b3-b544d741819e",
   "metadata": {
    "jp-MarkdownHeadingCollapsed": true,
    "tags": []
   },
   "source": [
    "### 데이터 파악"
   ]
  },
  {
   "cell_type": "markdown",
   "id": "40f2fb76-f884-4ad8-8f6a-2ab47515656b",
   "metadata": {
    "tags": []
   },
   "source": [
    "###### 타입 확인"
   ]
  },
  {
   "cell_type": "code",
   "execution_count": 11,
   "id": "6f542cae-d8a1-46f4-9059-4b661a05f972",
   "metadata": {},
   "outputs": [
    {
     "data": {
      "text/plain": [
       "{'type': 'Feature',\n",
       " 'id': '0',\n",
       " 'properties': OrderedDict([('SIDOCODE', '11'),\n",
       "              ('SIDONAME', '서울'),\n",
       "              ('CNAME', '학동/강남구청역'),\n",
       "              ('변경사항', '신규'),\n",
       "              ('시군명', None),\n",
       "              ('AREA', 569029),\n",
       "              ('소규모', None),\n",
       "              ('중대형', 'O'),\n",
       "              ('오피스', None),\n",
       "              ('집합상권', None)]),\n",
       " 'geometry': {'type': 'Polygon',\n",
       "  'coordinates': [[(959472.3895900374, 1946790.6735272186),\n",
       "    (959617.5799845849, 1946758.8573177552),\n",
       "    (959590.1955548136, 1946646.1445923299),\n",
       "    (959443.6104697607, 1946608.768027665),\n",
       "    (959529.3574326257, 1946302.6091143438),\n",
       "    (959271.9805433864, 1946220.5879078824),\n",
       "    (958607.3458807801, 1945974.436721132),\n",
       "    (958375.6881005906, 1946610.9026359913),\n",
       "    (958702.5960712824, 1946738.3564781412),\n",
       "    (958730.7081066753, 1946668.9032142353),\n",
       "    (958734.015404951, 1946484.3559701403),\n",
       "    (958754.5206542965, 1946489.316917565),\n",
       "    (958798.1769916082, 1946502.5461106922),\n",
       "    (958936.0913299411, 1946522.0591705479),\n",
       "    (958935.2556447036, 1946645.7211288977),\n",
       "    (959011.1593121003, 1946662.6995808147),\n",
       "    (959394.8136015515, 1946768.1221626715),\n",
       "    (959472.3895900374, 1946790.6735272186)]]}}"
      ]
     },
     "execution_count": 11,
     "metadata": {},
     "output_type": "execute_result"
    }
   ],
   "source": [
    "shape[0]"
   ]
  },
  {
   "cell_type": "code",
   "execution_count": 12,
   "id": "a7b340da-11a3-4c4e-935b-437bc775098b",
   "metadata": {},
   "outputs": [
    {
     "data": {
      "text/plain": [
       "fiona.collection.Collection"
      ]
     },
     "execution_count": 12,
     "metadata": {},
     "output_type": "execute_result"
    }
   ],
   "source": [
    "# 전체 데이터\n",
    "type(shape)"
   ]
  },
  {
   "cell_type": "code",
   "execution_count": 13,
   "id": "e1406afb-e272-443a-9148-927a708e5a2a",
   "metadata": {},
   "outputs": [
    {
     "data": {
      "text/plain": [
       "dict"
      ]
     },
     "execution_count": 13,
     "metadata": {},
     "output_type": "execute_result"
    }
   ],
   "source": [
    "# 각 인덱스별 데이터\n",
    "# 각 값이 {key : value}로 들어 있음\n",
    "type(shape[0])"
   ]
  },
  {
   "cell_type": "code",
   "execution_count": 14,
   "id": "972f10d6-69eb-4f2f-af7e-b07b138346a5",
   "metadata": {},
   "outputs": [
    {
     "data": {
      "text/plain": [
       "True"
      ]
     },
     "execution_count": 14,
     "metadata": {},
     "output_type": "execute_result"
    }
   ],
   "source": [
    "# 각 내용끼리 bool 비교 가능\n",
    "shape[0]['type'] == shape[1]['type']"
   ]
  },
  {
   "cell_type": "markdown",
   "id": "f711807c-5b67-480d-941c-90ea52b52c6f",
   "metadata": {
    "tags": []
   },
   "source": [
    "###### 각 값 확인"
   ]
  },
  {
   "cell_type": "code",
   "execution_count": 15,
   "id": "9fb530df-167e-47c3-a7d2-48cfca862d73",
   "metadata": {},
   "outputs": [
    {
     "data": {
      "text/plain": [
       "'Feature'"
      ]
     },
     "execution_count": 15,
     "metadata": {},
     "output_type": "execute_result"
    }
   ],
   "source": [
    "# str으로 들어 있음\n",
    "# 'type': 'Feature'\n",
    "shape[0]['type']"
   ]
  },
  {
   "cell_type": "code",
   "execution_count": 16,
   "id": "2c0b6741-90ae-4c5c-a582-ed838078e9da",
   "metadata": {},
   "outputs": [
    {
     "data": {
      "text/plain": [
       "str"
      ]
     },
     "execution_count": 16,
     "metadata": {},
     "output_type": "execute_result"
    }
   ],
   "source": [
    "# id값 str으로 들어 있음\n",
    "# 'id': '0'\n",
    "type(shape[0]['id'])"
   ]
  },
  {
   "cell_type": "code",
   "execution_count": 46,
   "id": "c6cecdc5-d903-49d4-a69e-322af501e4b6",
   "metadata": {},
   "outputs": [
    {
     "data": {
      "text/plain": [
       "OrderedDict([('SIDOCODE', '11'),\n",
       "             ('SIDONAME', '서울'),\n",
       "             ('CNAME', '학동/강남구청역'),\n",
       "             ('변경사항', '신규'),\n",
       "             ('시군명', None),\n",
       "             ('AREA', 569029),\n",
       "             ('소규모', None),\n",
       "             ('중대형', 'O'),\n",
       "             ('오피스', None),\n",
       "             ('집합상권', None)])"
      ]
     },
     "execution_count": 46,
     "metadata": {},
     "output_type": "execute_result"
    }
   ],
   "source": [
    "# OrderedDict()로 들어 있음\n",
    "# 'properties': OrderedDict()\n",
    "shape[0]['properties']"
   ]
  },
  {
   "cell_type": "code",
   "execution_count": 47,
   "id": "f76938b3-79c8-405c-9104-e76c6044de33",
   "metadata": {},
   "outputs": [
    {
     "data": {
      "text/plain": [
       "odict_keys(['SIDOCODE', 'SIDONAME', 'CNAME', '변경사항', '시군명', 'AREA', '소규모', '중대형', '오피스', '집합상권'])"
      ]
     },
     "execution_count": 47,
     "metadata": {},
     "output_type": "execute_result"
    }
   ],
   "source": [
    "# key 조회\n",
    "shape[0]['properties'].keys()"
   ]
  },
  {
   "cell_type": "code",
   "execution_count": 48,
   "id": "933fbcf0-738d-4f3f-9587-d8f4724a7165",
   "metadata": {},
   "outputs": [
    {
     "data": {
      "text/plain": [
       "odict_values(['11', '서울', '학동/강남구청역', '신규', None, 569029, None, 'O', None, None])"
      ]
     },
     "execution_count": 48,
     "metadata": {},
     "output_type": "execute_result"
    }
   ],
   "source": [
    "# values 조회\n",
    "shape[0]['properties'].values()"
   ]
  },
  {
   "cell_type": "code",
   "execution_count": 49,
   "id": "10d35b37-d81a-4fee-9fa6-315c2bc23f57",
   "metadata": {},
   "outputs": [
    {
     "data": {
      "text/plain": [
       "odict_items([('SIDOCODE', '11'), ('SIDONAME', '서울'), ('CNAME', '학동/강남구청역'), ('변경사항', '신규'), ('시군명', None), ('AREA', 569029), ('소규모', None), ('중대형', 'O'), ('오피스', None), ('집합상권', None)])"
      ]
     },
     "execution_count": 49,
     "metadata": {},
     "output_type": "execute_result"
    }
   ],
   "source": [
    "# key : values 전체 조회\n",
    "shape[0]['properties'].items()"
   ]
  },
  {
   "cell_type": "code",
   "execution_count": 50,
   "id": "51896aca-a58b-42e8-87e4-fc707afa7a7f",
   "metadata": {},
   "outputs": [
    {
     "data": {
      "text/plain": [
       "'학동/강남구청역'"
      ]
     },
     "execution_count": 50,
     "metadata": {},
     "output_type": "execute_result"
    }
   ],
   "source": [
    "# 특정 값 조회\n",
    "shape[0]['properties']['CNAME']"
   ]
  },
  {
   "cell_type": "code",
   "execution_count": 20,
   "id": "4ed2b483-3d6f-4f5f-b982-1e9802f5622c",
   "metadata": {},
   "outputs": [
    {
     "data": {
      "text/plain": [
       "{'type': 'Polygon',\n",
       " 'coordinates': [[(959472.3895900374, 1946790.6735272186),\n",
       "   (959617.5799845849, 1946758.8573177552),\n",
       "   (959590.1955548136, 1946646.1445923299),\n",
       "   (959443.6104697607, 1946608.768027665),\n",
       "   (959529.3574326257, 1946302.6091143438),\n",
       "   (959271.9805433864, 1946220.5879078824),\n",
       "   (958607.3458807801, 1945974.436721132),\n",
       "   (958375.6881005906, 1946610.9026359913),\n",
       "   (958702.5960712824, 1946738.3564781412),\n",
       "   (958730.7081066753, 1946668.9032142353),\n",
       "   (958734.015404951, 1946484.3559701403),\n",
       "   (958754.5206542965, 1946489.316917565),\n",
       "   (958798.1769916082, 1946502.5461106922),\n",
       "   (958936.0913299411, 1946522.0591705479),\n",
       "   (958935.2556447036, 1946645.7211288977),\n",
       "   (959011.1593121003, 1946662.6995808147),\n",
       "   (959394.8136015515, 1946768.1221626715),\n",
       "   (959472.3895900374, 1946790.6735272186)]]}"
      ]
     },
     "execution_count": 20,
     "metadata": {},
     "output_type": "execute_result"
    }
   ],
   "source": [
    "# dict로 들어 있음\n",
    "# geometry 안에 type, coordinates 있음\n",
    "# 'geometry': {'type': 'Polygon', 'coordinates': [[(959472.3895900374, 1946790.6735272186),...]] }\n",
    "shape[0]['geometry']"
   ]
  },
  {
   "cell_type": "code",
   "execution_count": 21,
   "id": "fba4d510-a344-437b-aca9-301b5ad2db64",
   "metadata": {},
   "outputs": [
    {
     "data": {
      "text/plain": [
       "dict"
      ]
     },
     "execution_count": 21,
     "metadata": {},
     "output_type": "execute_result"
    }
   ],
   "source": [
    "type(shape[0]['geometry'])"
   ]
  },
  {
   "cell_type": "code",
   "execution_count": 22,
   "id": "3ed74928-238f-4ce0-b427-00223102af51",
   "metadata": {},
   "outputs": [
    {
     "data": {
      "text/plain": [
       "'Polygon'"
      ]
     },
     "execution_count": 22,
     "metadata": {},
     "output_type": "execute_result"
    }
   ],
   "source": [
    "# type은 str으로 들어 있음\n",
    "shape[0]['geometry']['type']"
   ]
  },
  {
   "cell_type": "code",
   "execution_count": 23,
   "id": "e025e806-a07f-4a3e-8843-9dafebec86a8",
   "metadata": {},
   "outputs": [
    {
     "data": {
      "text/plain": [
       "str"
      ]
     },
     "execution_count": 23,
     "metadata": {},
     "output_type": "execute_result"
    }
   ],
   "source": [
    "type(shape[0]['geometry']['type'])"
   ]
  },
  {
   "cell_type": "code",
   "execution_count": 24,
   "id": "9e226aff-c5b8-4899-a4a4-6dc0c49f59da",
   "metadata": {},
   "outputs": [
    {
     "data": {
      "text/plain": [
       "[[(959472.3895900374, 1946790.6735272186),\n",
       "  (959617.5799845849, 1946758.8573177552),\n",
       "  (959590.1955548136, 1946646.1445923299),\n",
       "  (959443.6104697607, 1946608.768027665),\n",
       "  (959529.3574326257, 1946302.6091143438),\n",
       "  (959271.9805433864, 1946220.5879078824),\n",
       "  (958607.3458807801, 1945974.436721132),\n",
       "  (958375.6881005906, 1946610.9026359913),\n",
       "  (958702.5960712824, 1946738.3564781412),\n",
       "  (958730.7081066753, 1946668.9032142353),\n",
       "  (958734.015404951, 1946484.3559701403),\n",
       "  (958754.5206542965, 1946489.316917565),\n",
       "  (958798.1769916082, 1946502.5461106922),\n",
       "  (958936.0913299411, 1946522.0591705479),\n",
       "  (958935.2556447036, 1946645.7211288977),\n",
       "  (959011.1593121003, 1946662.6995808147),\n",
       "  (959394.8136015515, 1946768.1221626715),\n",
       "  (959472.3895900374, 1946790.6735272186)]]"
      ]
     },
     "execution_count": 24,
     "metadata": {},
     "output_type": "execute_result"
    }
   ],
   "source": [
    "# coordinates은 list로 들어 있음\n",
    "shape[0]['geometry']['coordinates']"
   ]
  },
  {
   "cell_type": "code",
   "execution_count": 25,
   "id": "511bf4a6-109f-410d-890c-a65535073202",
   "metadata": {},
   "outputs": [
    {
     "data": {
      "text/plain": [
       "[(959472.3895900374, 1946790.6735272186),\n",
       " (959617.5799845849, 1946758.8573177552),\n",
       " (959590.1955548136, 1946646.1445923299),\n",
       " (959443.6104697607, 1946608.768027665),\n",
       " (959529.3574326257, 1946302.6091143438),\n",
       " (959271.9805433864, 1946220.5879078824),\n",
       " (958607.3458807801, 1945974.436721132),\n",
       " (958375.6881005906, 1946610.9026359913),\n",
       " (958702.5960712824, 1946738.3564781412),\n",
       " (958730.7081066753, 1946668.9032142353),\n",
       " (958734.015404951, 1946484.3559701403),\n",
       " (958754.5206542965, 1946489.316917565),\n",
       " (958798.1769916082, 1946502.5461106922),\n",
       " (958936.0913299411, 1946522.0591705479),\n",
       " (958935.2556447036, 1946645.7211288977),\n",
       " (959011.1593121003, 1946662.6995808147),\n",
       " (959394.8136015515, 1946768.1221626715),\n",
       " (959472.3895900374, 1946790.6735272186)]"
      ]
     },
     "execution_count": 25,
     "metadata": {},
     "output_type": "execute_result"
    }
   ],
   "source": [
    "shape[0]['geometry']['coordinates'][0]"
   ]
  },
  {
   "cell_type": "code",
   "execution_count": 26,
   "id": "3d037c9d-cf8e-4038-896a-b3264bb2c56d",
   "metadata": {},
   "outputs": [
    {
     "data": {
      "text/plain": [
       "(959472.3895900374, 1946790.6735272186)"
      ]
     },
     "execution_count": 26,
     "metadata": {},
     "output_type": "execute_result"
    }
   ],
   "source": [
    "shape[0]['geometry']['coordinates'][0][0]"
   ]
  },
  {
   "cell_type": "code",
   "execution_count": 27,
   "id": "06edb7bd-c65a-4936-88a8-914d9f0e98af",
   "metadata": {},
   "outputs": [
    {
     "data": {
      "text/plain": [
       "959472.3895900374"
      ]
     },
     "execution_count": 27,
     "metadata": {},
     "output_type": "execute_result"
    }
   ],
   "source": [
    "# 위도 특정 값 추출\n",
    "shape[0]['geometry']['coordinates'][0][0][0]"
   ]
  },
  {
   "cell_type": "code",
   "execution_count": 28,
   "id": "ddd09f61-21a8-43a2-84b9-26a2b3404f27",
   "metadata": {},
   "outputs": [
    {
     "data": {
      "text/plain": [
       "1946790.6735272186"
      ]
     },
     "execution_count": 28,
     "metadata": {},
     "output_type": "execute_result"
    }
   ],
   "source": [
    "# 경도 특정 값 추출\n",
    "shape[0]['geometry']['coordinates'][0][0][1]"
   ]
  },
  {
   "cell_type": "code",
   "execution_count": 29,
   "id": "c72d0f8b-8e82-434a-96e4-536b623f21dd",
   "metadata": {},
   "outputs": [
    {
     "data": {
      "text/plain": [
       "list"
      ]
     },
     "execution_count": 29,
     "metadata": {},
     "output_type": "execute_result"
    }
   ],
   "source": [
    "type(shape[0]['geometry']['coordinates'])"
   ]
  },
  {
   "cell_type": "markdown",
   "id": "effe488c-de81-4c26-84c2-dc3d14335b96",
   "metadata": {
    "jp-MarkdownHeadingCollapsed": true,
    "tags": []
   },
   "source": [
    "### 좌표 변환"
   ]
  },
  {
   "cell_type": "code",
   "execution_count": 30,
   "id": "acc8ee97-7446-4571-9b3e-9fced78b65cd",
   "metadata": {},
   "outputs": [],
   "source": [
    "# 담을 좌표1, 담을 좌표2 = transform(기존 포맷의 좌표1, 원하는 포맷의 좌표2, 기존 좌표1, 기존 좌표2)\n",
    "# tuple로 담음\n",
    "# 기존 타입은 proj_UTMK 임 = epsg:5179 = 네이버 지도"
   ]
  },
  {
   "cell_type": "code",
   "execution_count": 31,
   "id": "cd54b37c-5620-4cbb-8d63-67aab5da1507",
   "metadata": {},
   "outputs": [
    {
     "data": {
      "text/plain": [
       "tuple"
      ]
     },
     "execution_count": 31,
     "metadata": {},
     "output_type": "execute_result"
    }
   ],
   "source": [
    "type(shape[0]['geometry']['coordinates'][0][0])"
   ]
  },
  {
   "cell_type": "code",
   "execution_count": 32,
   "id": "0ca7af6a-bafd-4b3e-bf6e-485c24ae54ed",
   "metadata": {},
   "outputs": [
    {
     "data": {
      "text/plain": [
       "(959472.3895900374, 1946790.6735272186)"
      ]
     },
     "execution_count": 32,
     "metadata": {},
     "output_type": "execute_result"
    }
   ],
   "source": [
    "# 기존 좌표 확인\n",
    "shape[0]['geometry']['coordinates'][0][0]"
   ]
  },
  {
   "cell_type": "code",
   "execution_count": 33,
   "id": "c59183f7-ebb1-4133-ab9b-66a6ddeddb51",
   "metadata": {},
   "outputs": [
    {
     "name": "stderr",
     "output_type": "stream",
     "text": [
      "C:\\Users\\USER\\AppData\\Local\\Temp\\ipykernel_15664\\2231959895.py:3: DeprecationWarning: This function is deprecated. See: https://pyproj4.github.io/pyproj/stable/gotchas.html#upgrading-to-pyproj-2-from-pyproj-1\n",
      "  transform(proj_UTMK, proj_WGS84, shape[0]['geometry']['coordinates'][0][0][0], shape[0]['geometry']['coordinates'][0][0][1])\n"
     ]
    }
   ],
   "source": [
    "# proj_UTMK -> proj_WGS84 포맷 변경\n",
    "shape[0]['geometry']['coordinates'][0][0] = \\\n",
    "transform(proj_UTMK, proj_WGS84, shape[0]['geometry']['coordinates'][0][0][0], shape[0]['geometry']['coordinates'][0][0][1])"
   ]
  },
  {
   "cell_type": "code",
   "execution_count": 34,
   "id": "a74b5fa2-c0c4-42a2-b213-c3d97d6161d3",
   "metadata": {},
   "outputs": [
    {
     "data": {
      "text/plain": [
       "(959472.3895900374, 1946790.6735272186)"
      ]
     },
     "execution_count": 34,
     "metadata": {},
     "output_type": "execute_result"
    }
   ],
   "source": [
    "# 변환된 좌표 확인\n",
    "shape[0]['geometry']['coordinates'][0][0]"
   ]
  },
  {
   "cell_type": "code",
   "execution_count": 35,
   "id": "32aef305-4e7d-494e-88a8-c285956f0eac",
   "metadata": {},
   "outputs": [
    {
     "name": "stderr",
     "output_type": "stream",
     "text": [
      "C:\\Users\\USER\\AppData\\Local\\Temp\\ipykernel_15664\\3220665163.py:2: DeprecationWarning: This function is deprecated. See: https://pyproj4.github.io/pyproj/stable/gotchas.html#upgrading-to-pyproj-2-from-pyproj-1\n",
      "  transform(proj_UTMK, proj_WGS84, shape[0]['geometry']['coordinates'][0][0][0], shape[0]['geometry']['coordinates'][0][0][1])\n"
     ]
    },
    {
     "data": {
      "text/plain": [
       "(127.04137324993172, 37.51951963967793)"
      ]
     },
     "execution_count": 35,
     "metadata": {},
     "output_type": "execute_result"
    }
   ],
   "source": [
    "# 변수에 담았을 때 값이 안 바뀔 수 있음 -> 변수에 담지 말고 값을 직접 변경해서 사용함\n",
    "transform(proj_UTMK, proj_WGS84, shape[0]['geometry']['coordinates'][0][0][0], shape[0]['geometry']['coordinates'][0][0][1])"
   ]
  },
  {
   "cell_type": "markdown",
   "id": "b7f737b6-ffc0-4644-a93d-a55cfa161cb9",
   "metadata": {
    "jp-MarkdownHeadingCollapsed": true,
    "tags": []
   },
   "source": [
    "### 정리본 가져오기"
   ]
  },
  {
   "cell_type": "code",
   "execution_count": 36,
   "id": "dddb7ab8-f02d-4679-a003-8634efb0828a",
   "metadata": {},
   "outputs": [],
   "source": [
    "df = pd.read_csv('./data/polygonfile.csv')"
   ]
  },
  {
   "cell_type": "code",
   "execution_count": 37,
   "id": "962cbc50-18df-418b-987c-ce007318ef1e",
   "metadata": {},
   "outputs": [
    {
     "data": {
      "text/html": [
       "<div>\n",
       "<style scoped>\n",
       "    .dataframe tbody tr th:only-of-type {\n",
       "        vertical-align: middle;\n",
       "    }\n",
       "\n",
       "    .dataframe tbody tr th {\n",
       "        vertical-align: top;\n",
       "    }\n",
       "\n",
       "    .dataframe thead th {\n",
       "        text-align: right;\n",
       "    }\n",
       "</style>\n",
       "<table border=\"1\" class=\"dataframe\">\n",
       "  <thead>\n",
       "    <tr style=\"text-align: right;\">\n",
       "      <th></th>\n",
       "      <th>id</th>\n",
       "      <th>polygon</th>\n",
       "    </tr>\n",
       "  </thead>\n",
       "  <tbody>\n",
       "    <tr>\n",
       "      <th>0</th>\n",
       "      <td>0</td>\n",
       "      <td>MultiPolygon(((37.51951963967793 127.041373249...</td>\n",
       "    </tr>\n",
       "    <tr>\n",
       "      <th>1</th>\n",
       "      <td>1</td>\n",
       "      <td>MultiPolygon(((37.595764764924674 127.08036053...</td>\n",
       "    </tr>\n",
       "    <tr>\n",
       "      <th>2</th>\n",
       "      <td>2</td>\n",
       "      <td>MultiPolygon(((37.48092145437983 126.995597406...</td>\n",
       "    </tr>\n",
       "    <tr>\n",
       "      <th>3</th>\n",
       "      <td>3</td>\n",
       "      <td>MultiPolygon(((37.44494736898046 127.156801690...</td>\n",
       "    </tr>\n",
       "    <tr>\n",
       "      <th>4</th>\n",
       "      <td>4</td>\n",
       "      <td>MultiPolygon(((37.27219753554295 127.044843398...</td>\n",
       "    </tr>\n",
       "    <tr>\n",
       "      <th>...</th>\n",
       "      <td>...</td>\n",
       "      <td>...</td>\n",
       "    </tr>\n",
       "    <tr>\n",
       "      <th>323</th>\n",
       "      <td>323</td>\n",
       "      <td>MultiPolygon(((37.3982279796576 126.9622082987...</td>\n",
       "    </tr>\n",
       "    <tr>\n",
       "      <th>324</th>\n",
       "      <td>324</td>\n",
       "      <td>MultiPolygon(((37.533314678060165 126.91165561...</td>\n",
       "    </tr>\n",
       "    <tr>\n",
       "      <th>325</th>\n",
       "      <td>325</td>\n",
       "      <td>MultiPolygon(((36.161749339006505 127.02111547...</td>\n",
       "    </tr>\n",
       "    <tr>\n",
       "      <th>326</th>\n",
       "      <td>326</td>\n",
       "      <td>MultiPolygon(((35.18882634149508 129.203397307...</td>\n",
       "    </tr>\n",
       "    <tr>\n",
       "      <th>327</th>\n",
       "      <td>327</td>\n",
       "      <td>MultiPolygon(((35.54071033189976 129.252928801...</td>\n",
       "    </tr>\n",
       "  </tbody>\n",
       "</table>\n",
       "<p>328 rows × 2 columns</p>\n",
       "</div>"
      ],
      "text/plain": [
       "      id                                            polygon\n",
       "0      0  MultiPolygon(((37.51951963967793 127.041373249...\n",
       "1      1  MultiPolygon(((37.595764764924674 127.08036053...\n",
       "2      2  MultiPolygon(((37.48092145437983 126.995597406...\n",
       "3      3  MultiPolygon(((37.44494736898046 127.156801690...\n",
       "4      4  MultiPolygon(((37.27219753554295 127.044843398...\n",
       "..   ...                                                ...\n",
       "323  323  MultiPolygon(((37.3982279796576 126.9622082987...\n",
       "324  324  MultiPolygon(((37.533314678060165 126.91165561...\n",
       "325  325  MultiPolygon(((36.161749339006505 127.02111547...\n",
       "326  326  MultiPolygon(((35.18882634149508 129.203397307...\n",
       "327  327  MultiPolygon(((35.54071033189976 129.252928801...\n",
       "\n",
       "[328 rows x 2 columns]"
      ]
     },
     "execution_count": 37,
     "metadata": {},
     "output_type": "execute_result"
    }
   ],
   "source": [
    "df"
   ]
  },
  {
   "cell_type": "code",
   "execution_count": 38,
   "id": "9ca22ada-173c-456e-b27e-6df3da6bd615",
   "metadata": {},
   "outputs": [
    {
     "data": {
      "text/plain": [
       "str"
      ]
     },
     "execution_count": 38,
     "metadata": {},
     "output_type": "execute_result"
    }
   ],
   "source": [
    "# str으로 들어가 있음\n",
    "type(df['polygon'][:3][0])"
   ]
  }
 ],
 "metadata": {
  "kernelspec": {
   "display_name": "oasis",
   "language": "python",
   "name": "oasis"
  },
  "language_info": {
   "codemirror_mode": {
    "name": "ipython",
    "version": 3
   },
   "file_extension": ".py",
   "mimetype": "text/x-python",
   "name": "python",
   "nbconvert_exporter": "python",
   "pygments_lexer": "ipython3",
   "version": "3.8.13"
  }
 },
 "nbformat": 4,
 "nbformat_minor": 5
}
