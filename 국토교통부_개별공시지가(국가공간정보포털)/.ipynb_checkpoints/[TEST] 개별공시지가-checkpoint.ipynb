{
 "cells": [
  {
   "cell_type": "code",
   "execution_count": 2,
   "id": "24c8cd6e-92d2-48aa-87fb-3a9112e24d0b",
   "metadata": {},
   "outputs": [],
   "source": [
    "### 0. 임포트\n",
    "# 데이터 프레임 관련 임포트\n",
    "import numpy  as np\n",
    "import pandas as pd\n",
    "\n",
    "# 웹 관련 임포트\n",
    "import urllib\n",
    "import requests\n",
    "from selenium import webdriver # version_3.14.1\n",
    "from selenium.webdriver.common.keys import Keys\n",
    "from selenium.webdriver.support.select import Select\n",
    "\n",
    "# 기타\n",
    "import time\n",
    "import glob\n",
    "import zipfile\n",
    "import psycopg2\n",
    "import datetime\n",
    "from tqdm import tqdm\n",
    "from glob import glob\n",
    "from datetime import datetime\n",
    "\n",
    "# 경고 처리\n",
    "import warnings\n",
    "warnings.filterwarnings('ignore')"
   ]
  },
  {
   "cell_type": "markdown",
   "id": "ebe15240-019e-4857-b745-18a757f46d1f",
   "metadata": {},
   "source": [
    "### 최종"
   ]
  },
  {
   "cell_type": "code",
   "execution_count": 13,
   "id": "48c631f3-99cf-468e-b006-aa401d4d4d42",
   "metadata": {},
   "outputs": [],
   "source": [
    "### 0. 임포트\n",
    "# 데이터 프레임 관련 임포트\n",
    "import numpy  as np\n",
    "import pandas as pd\n",
    "\n",
    "# 웹 관련 임포트\n",
    "import urllib\n",
    "import requests\n",
    "from selenium import webdriver # version_3.14.1\n",
    "from selenium.webdriver.common.keys import Keys\n",
    "from selenium.webdriver.support.select import Select\n",
    "\n",
    "# 기타\n",
    "import time\n",
    "import glob\n",
    "import zipfile\n",
    "import psycopg2\n",
    "import datetime\n",
    "from tqdm import tqdm\n",
    "from glob import glob\n",
    "from datetime import datetime\n",
    "\n",
    "# 경고 처리\n",
    "import warnings\n",
    "warnings.filterwarnings('ignore')\n",
    "\n",
    "\n",
    "### 1. 파일 다운로드\n",
    "# 페이지 열기\n",
    "driver = webdriver.Chrome('./driver/chromedriver.exe')\n",
    "driver.get('http://openapi.nsdi.go.kr/nsdi/eios/ServiceDetail.do?svcSe=F&svcId=F012&provOrg=NIDO')\n",
    "driver.get('http://openapi.nsdi.go.kr/nsdi/eios/ServiceDetail.do?svcSe=F&svcId=F012&provOrg=NIDO') # 페이지 로딩 안 돼서 한 번 더 호출함\n",
    "driver.maximize_window()\n",
    "\n",
    "# 변수 생성\n",
    "fileCnt = 0\n",
    "\n",
    "for fileCnt in range(18):\n",
    "    # 다운로드 5개씩만 진행 (다운로드가 한 번에 5개 밖에 안 됨) \n",
    "    import glob\n",
    "    download5 = len(glob.glob1('C:\\\\Users\\duPar\\Downloads','AL*.zip'))\n",
    "    if download5 <= 5:\n",
    "        \n",
    "        # 파일 확장자 (SHP 여부) 확인\n",
    "        button = driver.find_element_by_xpath('//*[@id=\"fileListForm\"]/table/tbody/tr[1]/td[6]/button')\n",
    "        className = button.get_attribute('class')\n",
    "        buttonClick = button.click()\n",
    "        time.sleep(1)\n",
    "    \n",
    "        # 파일 다운로드\n",
    "        if 'shp' in className:\n",
    "            buttonClick\n",
    "            fileCnt = fileCnt + 1\n",
    "\n",
    "        # 다운로드 완료될 때까지 웹 페이지 대기\n",
    "        downloadCnt = len(glob.glob1('C:\\\\Users\\duPar\\Downloads','AL*.zip'))\n",
    "        if downloadCnt == 17:\n",
    "            driver.close()"
   ]
  },
  {
   "cell_type": "markdown",
   "id": "7ed0040a-a3a4-4fc9-848f-48723c5f4b75",
   "metadata": {
    "tags": []
   },
   "source": [
    "### 크롤링 test"
   ]
  },
  {
   "cell_type": "markdown",
   "id": "be4c7b18-8b0d-4125-962a-22515cef629d",
   "metadata": {
    "jp-MarkdownHeadingCollapsed": true,
    "tags": []
   },
   "source": [
    "###### ver1"
   ]
  },
  {
   "cell_type": "code",
   "execution_count": null,
   "id": "a460fffa-ca58-4090-9652-76c9c5ef00a0",
   "metadata": {},
   "outputs": [],
   "source": [
    "# 페이지 열기\n",
    "driver = webdriver.Chrome('./driver/chromedriver.exe')\n",
    "driver.get('http://openapi.nsdi.go.kr/nsdi/eios/ServiceDetail.do?svcSe=F&svcId=F012&provOrg=NIDO')\n",
    "driver.get('http://openapi.nsdi.go.kr/nsdi/eios/ServiceDetail.do?svcSe=F&svcId=F012&provOrg=NIDO') # 페이지 로딩 안 돼서 한 번 더 호출함\n",
    "driver.maximize_window()"
   ]
  },
  {
   "cell_type": "code",
   "execution_count": null,
   "id": "b379172a-ad07-4c09-91c2-9cf71bb197c8",
   "metadata": {},
   "outputs": [],
   "source": [
    "# 파일 확장자가 SHP 여부 확인\n",
    "fileCnt = 0\n",
    "button = driver.find_element_by_xpath('//*[@id=\"fileListForm\"]/table/tbody/tr[1]/td[6]/button')\n",
    "className = button.get_attribute('class')\n",
    "buttonClick = button.click()"
   ]
  },
  {
   "cell_type": "code",
   "execution_count": null,
   "id": "e8b8a55a-a56c-4c1d-bb41-ad4879f854c4",
   "metadata": {},
   "outputs": [
    {
     "name": "stdout",
     "output_type": "stream",
     "text": [
      "ok\n"
     ]
    }
   ],
   "source": [
    "a = button.get_attribute('onclick').split(' ')[-2].split(',')[0]\n",
    "a = a[1:-1]\n",
    "\n",
    "list_ = glob.glob1('C:\\\\Users\\duPar\\Downloads','AL*.zip')\n",
    "if a in list_:\n",
    "    print('ok')"
   ]
  },
  {
   "cell_type": "code",
   "execution_count": null,
   "id": "b275f7de-957e-488d-b905-b820e69383b5",
   "metadata": {},
   "outputs": [
    {
     "name": "stdout",
     "output_type": "stream",
     "text": [
      "ok\n"
     ]
    }
   ],
   "source": [
    "# 파일 다운로드\n",
    "if 'shp' in className:\n",
    "    buttonClick\n",
    "    fileCnt = fileCnt + 1"
   ]
  },
  {
   "cell_type": "code",
   "execution_count": null,
   "id": "8b047050-cb98-45a0-a757-520c65eabfe1",
   "metadata": {},
   "outputs": [],
   "source": [
    "# 파일 다운로드\n",
    "for fileCnt in range(18):\n",
    "    fileCnt = fileCnt + 1"
   ]
  },
  {
   "cell_type": "code",
   "execution_count": null,
   "id": "83dafb4e-279b-4727-b154-b96d9446c269",
   "metadata": {},
   "outputs": [],
   "source": [
    "# 파일 다운로드 될 때까지 웹 페이지 대기\n",
    "downloadCnt = len(glob.glob1('C:\\\\Users\\duPar\\Downloads','AL*.zip'))\n",
    "if downloadCnt == 17:\n",
    "    driver.close()"
   ]
  },
  {
   "cell_type": "code",
   "execution_count": null,
   "id": "4ad805af-c110-40a0-b599-4175e90dfa83",
   "metadata": {},
   "outputs": [],
   "source": [
    "import glob"
   ]
  },
  {
   "cell_type": "code",
   "execution_count": null,
   "id": "82a20275-9914-41b6-9e62-86d9e8cc6439",
   "metadata": {},
   "outputs": [
    {
     "name": "stdout",
     "output_type": "stream",
     "text": [
      "ok\n"
     ]
    }
   ],
   "source": [
    "# 다운로드 5개씩만 진행 (다운로드가 한 번에 5개 밖에 안 됨) \n",
    "download5 = len(glob.glob1('C:\\\\Users\\duPar\\Downloads','AL*.zip'))\n",
    "if download5 <= 5:\n",
    "    # driver.close()\n",
    "    print('ok')"
   ]
  },
  {
   "cell_type": "markdown",
   "id": "a13d2ced-94be-44aa-910f-c44a1b063859",
   "metadata": {
    "tags": []
   },
   "source": [
    "###### ver2"
   ]
  },
  {
   "cell_type": "code",
   "execution_count": 3,
   "id": "4917a61d-aed9-4671-ae18-b5d9252a1ed9",
   "metadata": {},
   "outputs": [],
   "source": [
    "### 1. 파일 다운로드\n",
    "# 페이지 열기\n",
    "driver = webdriver.Chrome('./driver/chromedriver.exe')\n",
    "driver.get('http://openapi.nsdi.go.kr/nsdi/eios/ServiceDetail.do?svcSe=F&svcId=F012&provOrg=NIDO')\n",
    "driver.get('http://openapi.nsdi.go.kr/nsdi/eios/ServiceDetail.do?svcSe=F&svcId=F012&provOrg=NIDO') # 페이지 로딩 안 돼서 한 번 더 호출함\n",
    "driver.maximize_window()"
   ]
  },
  {
   "cell_type": "code",
   "execution_count": null,
   "id": "a7d4aba2-bf90-4200-a551-5e1249d2ec92",
   "metadata": {},
   "outputs": [],
   "source": [
    "# 변수 생성\n",
    "fileCnt = 0"
   ]
  },
  {
   "cell_type": "code",
   "execution_count": null,
   "id": "e22dbd34-5c3c-45c3-b3c5-53821c8d84e1",
   "metadata": {},
   "outputs": [],
   "source": [
    "for fileCnt in range(18):\n",
    "    # 다운로드 5개씩만 진행 (다운로드가 한 번에 5개 밖에 안 됨) \n",
    "    import glob\n",
    "    download5 = len(glob.glob1('C:\\\\Users\\duPar\\Downloads','AL*.zip'))\n",
    "    if download5 <= 5:\n",
    "        \n",
    "        # 파일 확장자 (SHP 여부) 확인\n",
    "        button = driver.find_element_by_xpath('//*[@id=\"fileListForm\"]/table/tbody/tr[1]/td[6]/button')\n",
    "        className = button.get_attribute('class')\n",
    "        buttonClick = button.click()\n",
    "        time.sleep(1)\n",
    "    \n",
    "        # 파일 다운로드\n",
    "        if 'shp' in className:\n",
    "            buttonClick\n",
    "            fileCnt = fileCnt + 1\n",
    "\n",
    "        # 다운로드 완료될 때까지 웹 페이지 대기\n",
    "        downloadCnt = len(glob.glob1('C:\\\\Users\\duPar\\Downloads','AL*.zip'))\n",
    "        if downloadCnt == 17:\n",
    "            driver.close()"
   ]
  },
  {
   "cell_type": "markdown",
   "id": "fbf42183-5b30-4f5d-b172-df0c12f4e618",
   "metadata": {
    "tags": []
   },
   "source": [
    "### 파일 열기 TEST"
   ]
  },
  {
   "cell_type": "code",
   "execution_count": 14,
   "id": "a006f631-a238-4369-bd93-255257b29f56",
   "metadata": {},
   "outputs": [
    {
     "data": {
      "text/plain": [
       "['AL_11_D150_20220805 (1).zip',\n",
       " 'AL_11_D150_20220805 (2).zip',\n",
       " 'AL_11_D150_20220805.zip']"
      ]
     },
     "execution_count": 14,
     "metadata": {},
     "output_type": "execute_result"
    }
   ],
   "source": [
    "glob.glob1('C:\\\\Users\\duPar\\Downloads','AL*.zip')"
   ]
  },
  {
   "cell_type": "code",
   "execution_count": null,
   "id": "dabe40d5-447d-4154-8196-d8835470d570",
   "metadata": {},
   "outputs": [],
   "source": [
    "# 파일 가져오기\n",
    "for file in glob.glob1('C:\\\\Users\\duPar\\Downloads','AL*.zip'): # AL이 포함된 .zip파일 모두 불러오기\n",
    "    # 압축풀기\n",
    "    zipfile.ZipFile(file).extractall('C:/Users/duPar/Downloads/')"
   ]
  },
  {
   "cell_type": "markdown",
   "id": "a47c0d85-c6ef-4dca-9ef1-5b83cb3ae3cd",
   "metadata": {
    "jp-MarkdownHeadingCollapsed": true,
    "tags": []
   },
   "source": [
    "### DB 연동"
   ]
  },
  {
   "cell_type": "code",
   "execution_count": null,
   "id": "792b843e-fd08-4b88-b200-70e30e632024",
   "metadata": {},
   "outputs": [],
   "source": [
    "###################################################################################\n",
    "import psycopg2\n",
    "\n",
    "# DB Connect\n",
    "conn = psycopg2.connect(\n",
    "    host = 'redshift-cluster-1.ctvbwnnvbdkl.ap-northeast-2.redshift.amazonaws.com',\n",
    "    port = 5439,\n",
    "    dbname = 'dev',\n",
    "    user = 'awsuser',\n",
    "    password = 'cremaoAdmin1234qwer!!'\n",
    ")\n",
    "\n",
    "# values 설정\n",
    "val = '(' + ('%s,' * len(df.columns))[:-1] + ')'\n",
    "\n",
    "# execute_mogrify\n",
    "def execute_mogrify(conn, df, table, val):\n",
    "    # Create a list of tuples from the dataframe values\n",
    "    tuples = [tuple(x) for x in df.to_numpy()]\n",
    "    # Comma-separated dataframe columns\n",
    "    cols = ','.join(list(df.columns))\n",
    "    # SQL query to execute\n",
    "    cursor = conn.cursor()\n",
    "    values = [cursor.mogrify(val, tup).decode('utf8') for tup in\n",
    "              tuples]\n",
    "    query = \"INSERT INTO %s(%s) VALUES \" % (table, cols) + \",\".join(values)\n",
    "\n",
    "    try:\n",
    "        cursor.execute(query, tuples)\n",
    "        conn.commit()\n",
    "    except (Exception, psycopg2.DatabaseError) as error:\n",
    "        print(\"Error: %s\" % error)\n",
    "        conn.rollback()\n",
    "        cursor.close()\n",
    "        return 1\n",
    "    cursor.close()\n",
    "\n",
    "###################################################################################"
   ]
  }
 ],
 "metadata": {
  "kernelspec": {
   "display_name": "project",
   "language": "python",
   "name": "project"
  },
  "language_info": {
   "codemirror_mode": {
    "name": "ipython",
    "version": 3
   },
   "file_extension": ".py",
   "mimetype": "text/x-python",
   "name": "python",
   "nbconvert_exporter": "python",
   "pygments_lexer": "ipython3",
   "version": "3.8.13"
  }
 },
 "nbformat": 4,
 "nbformat_minor": 5
}
