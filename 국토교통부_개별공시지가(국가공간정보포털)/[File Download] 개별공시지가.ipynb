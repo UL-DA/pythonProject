{
 "cells": [
  {
   "cell_type": "code",
   "execution_count": 1,
   "id": "24c8cd6e-92d2-48aa-87fb-3a9112e24d0b",
   "metadata": {},
   "outputs": [],
   "source": [
    "### 0. 임포트\n",
    "# 데이터 프레임 관련 임포트\n",
    "import numpy  as np\n",
    "import pandas as pd\n",
    "\n",
    "# 웹 관련 임포트\n",
    "import urllib\n",
    "import requests\n",
    "from selenium import webdriver # version_3.14.1\n",
    "from selenium.webdriver.common.keys import Keys\n",
    "from selenium.webdriver.support.select import Select\n",
    "\n",
    "# 기타\n",
    "import time\n",
    "import glob\n",
    "import zipfile\n",
    "import psycopg2\n",
    "import datetime\n",
    "from tqdm import tqdm\n",
    "from glob import glob\n",
    "from datetime import datetime\n",
    "import matplotlib.pyplot as plt\n",
    "plt.rc('font', family='Malgun Gothic')\n",
    "\n",
    "# 경고 처리\n",
    "import warnings\n",
    "warnings.filterwarnings('ignore')"
   ]
  },
  {
   "cell_type": "code",
   "execution_count": null,
   "id": "48c631f3-99cf-468e-b006-aa401d4d4d42",
   "metadata": {},
   "outputs": [],
   "source": []
  }
 ],
 "metadata": {
  "kernelspec": {
   "display_name": "oasis",
   "language": "python",
   "name": "oasis"
  },
  "language_info": {
   "codemirror_mode": {
    "name": "ipython",
    "version": 3
   },
   "file_extension": ".py",
   "mimetype": "text/x-python",
   "name": "python",
   "nbconvert_exporter": "python",
   "pygments_lexer": "ipython3",
   "version": "3.8.13"
  }
 },
 "nbformat": 4,
 "nbformat_minor": 5
}
