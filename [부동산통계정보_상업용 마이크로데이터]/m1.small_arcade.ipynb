{
 "cells": [
  {
   "cell_type": "code",
   "execution_count": 9,
   "id": "2e2b6a89-39d5-4878-a02e-2aaa73cc4043",
   "metadata": {},
   "outputs": [],
   "source": [
    "# import\n",
    "import os\n",
    "import glob\n",
    "import psycopg2\n",
    "import datetime\n",
    "import numpy as np\n",
    "import pandas as pd\n",
    "\n",
    "# 파일 불러오기\n",
    "dir = 'C:\\\\oasis\\\\git\\\\data\\\\microdata\\\\'\n",
    "glob.glob(dir + \"*소규모상가.xlsx\")\n",
    "\n",
    "# set table name\n",
    "table = 'm1.small_arcade'\n",
    "\n",
    "# execute_mogrify\n",
    "def execute_mogrify(conn, df, table, val):\n",
    "    # Create a list of tuples from the dataframe values\n",
    "    tuples = [tuple(x) for x in df.to_numpy()]\n",
    "    # Comma-separated dataframe columns\n",
    "    cols = ','.join(list(df.columns))\n",
    "    # SQL query to execute\n",
    "    cursor = conn.cursor()\n",
    "    values = [cursor.mogrify(val, tup).decode('utf8') for tup in\n",
    "              tuples]\n",
    "    query = \"INSERT INTO %s(%s) VALUES \" % (table, cols) + \",\".join(values)\n",
    "    try:\n",
    "        cursor.execute(query, tuples)\n",
    "        conn.commit()\n",
    "    except (Exception, psycopg2.DatabaseError) as error:\n",
    "        print(\"Error: %s\" % error)\n",
    "        conn.rollback()\n",
    "        cursor.close()\n",
    "        return 1\n",
    "    cursor.close()"
   ]
  },
  {
   "cell_type": "code",
   "execution_count": 13,
   "id": "a64d8b53-f7e2-47f8-bb76-556fdd7fe32a",
   "metadata": {},
   "outputs": [
    {
     "data": {
      "text/plain": [
       "'C:\\\\oasis\\\\git\\\\data\\\\microdata\\\\2020_소규모상가.xlsx'"
      ]
     },
     "execution_count": 13,
     "metadata": {},
     "output_type": "execute_result"
    }
   ],
   "source": [
    "glob.glob(dir + \"*소규모상가.xlsx\")[0]"
   ]
  },
  {
   "cell_type": "code",
   "execution_count": 16,
   "id": "1369c978-f3c5-4c36-9b78-076ebf1ff0e1",
   "metadata": {},
   "outputs": [
    {
     "name": "stdout",
     "output_type": "stream",
     "text": [
      "2022-12-15 18:07:23.565119  :  0\n",
      "Done : C:\\oasis\\git\\data\\microdata\\2020_소규모상가.xlsx\n"
     ]
    },
    {
     "ename": "ValueError",
     "evalue": "Length mismatch: Expected axis has 83 elements, new values have 82 elements",
     "output_type": "error",
     "traceback": [
      "\u001b[1;31m---------------------------------------------------------------------------\u001b[0m",
      "\u001b[1;31mValueError\u001b[0m                                Traceback (most recent call last)",
      "Input \u001b[1;32mIn [16]\u001b[0m, in \u001b[0;36m<cell line: 2>\u001b[1;34m()\u001b[0m\n\u001b[0;32m      4\u001b[0m df \u001b[38;5;241m=\u001b[39m pd\u001b[38;5;241m.\u001b[39mread_excel(file)\n\u001b[0;32m      6\u001b[0m \u001b[38;5;66;03m# 컬럼명 변경\u001b[39;00m\n\u001b[1;32m----> 7\u001b[0m \u001b[43mdf\u001b[49m\u001b[38;5;241;43m.\u001b[39;49m\u001b[43mcolumns\u001b[49m \u001b[38;5;241m=\u001b[39m [\u001b[38;5;124m'\u001b[39m\u001b[38;5;124msample_gb\u001b[39m\u001b[38;5;124m'\u001b[39m, \u001b[38;5;124m'\u001b[39m\u001b[38;5;124mcommercial_wide_area\u001b[39m\u001b[38;5;124m'\u001b[39m, \u001b[38;5;124m'\u001b[39m\u001b[38;5;124mcname\u001b[39m\u001b[38;5;124m'\u001b[39m, \u001b[38;5;124m'\u001b[39m\u001b[38;5;124msido\u001b[39m\u001b[38;5;124m'\u001b[39m, \u001b[38;5;124m'\u001b[39m\u001b[38;5;124mown_type\u001b[39m\u001b[38;5;124m'\u001b[39m, \u001b[38;5;124m'\u001b[39m\u001b[38;5;124mown_cnt\u001b[39m\u001b[38;5;124m'\u001b[39m, \u001b[38;5;124m'\u001b[39m\u001b[38;5;124mland_use_nm1\u001b[39m\u001b[38;5;124m'\u001b[39m, \u001b[38;5;124m'\u001b[39m\u001b[38;5;124mland_use_nm2\u001b[39m\u001b[38;5;124m'\u001b[39m,\n\u001b[0;32m      8\u001b[0m        \u001b[38;5;124m'\u001b[39m\u001b[38;5;124muse_district_nm1\u001b[39m\u001b[38;5;124m'\u001b[39m, \u001b[38;5;124m'\u001b[39m\u001b[38;5;124muse_district_nm2\u001b[39m\u001b[38;5;124m'\u001b[39m, \u001b[38;5;124m'\u001b[39m\u001b[38;5;124mground_floor\u001b[39m\u001b[38;5;124m'\u001b[39m, \u001b[38;5;124m'\u001b[39m\u001b[38;5;124munder_ground_floor\u001b[39m\u001b[38;5;124m'\u001b[39m, \u001b[38;5;124m'\u001b[39m\u001b[38;5;124museapr_day\u001b[39m\u001b[38;5;124m'\u001b[39m, \u001b[38;5;124m'\u001b[39m\u001b[38;5;124mbuilding_structure\u001b[39m\u001b[38;5;124m'\u001b[39m,\n\u001b[0;32m      9\u001b[0m        \u001b[38;5;124m'\u001b[39m\u001b[38;5;124mmain_purps_nm\u001b[39m\u001b[38;5;124m'\u001b[39m, \u001b[38;5;124m'\u001b[39m\u001b[38;5;124mbc_rat\u001b[39m\u001b[38;5;124m'\u001b[39m, \u001b[38;5;124m'\u001b[39m\u001b[38;5;124mvl_rat\u001b[39m\u001b[38;5;124m'\u001b[39m, \u001b[38;5;124m'\u001b[39m\u001b[38;5;124msubway_distance\u001b[39m\u001b[38;5;124m'\u001b[39m, \u001b[38;5;124m'\u001b[39m\u001b[38;5;124mbus_distance\u001b[39m\u001b[38;5;124m'\u001b[39m, \u001b[38;5;124m'\u001b[39m\u001b[38;5;124mmain_crossroad\u001b[39m\u001b[38;5;124m'\u001b[39m, \u001b[38;5;124m'\u001b[39m\u001b[38;5;124mroad_interface_nm\u001b[39m\u001b[38;5;124m'\u001b[39m, \u001b[38;5;124m'\u001b[39m\u001b[38;5;124mindoor_parking_gb\u001b[39m\u001b[38;5;124m'\u001b[39m,\n\u001b[0;32m     10\u001b[0m        \u001b[38;5;124m'\u001b[39m\u001b[38;5;124moutdoor_parking_gb\u001b[39m\u001b[38;5;124m'\u001b[39m, \u001b[38;5;124m'\u001b[39m\u001b[38;5;124mpassenger_elevator_gb \u001b[39m\u001b[38;5;124m'\u001b[39m, \u001b[38;5;124m'\u001b[39m\u001b[38;5;124mfreight_elevator_gb\u001b[39m\u001b[38;5;124m'\u001b[39m, \u001b[38;5;124m'\u001b[39m\u001b[38;5;124mplat_area\u001b[39m\u001b[38;5;124m'\u001b[39m, \u001b[38;5;124m'\u001b[39m\u001b[38;5;124march_area\u001b[39m\u001b[38;5;124m'\u001b[39m, \u001b[38;5;124m'\u001b[39m\u001b[38;5;124mnet_leasable_area\u001b[39m\u001b[38;5;124m'\u001b[39m, \u001b[38;5;124m'\u001b[39m\u001b[38;5;124mcommon_area\u001b[39m\u001b[38;5;124m'\u001b[39m,\n\u001b[0;32m     11\u001b[0m        \u001b[38;5;124m'\u001b[39m\u001b[38;5;124mnet_leasable_ratio\u001b[39m\u001b[38;5;124m'\u001b[39m, \u001b[38;5;124m'\u001b[39m\u001b[38;5;124mlease_contract_area\u001b[39m\u001b[38;5;124m'\u001b[39m, \u001b[38;5;124m'\u001b[39m\u001b[38;5;124mvacant_area\u001b[39m\u001b[38;5;124m'\u001b[39m, \u001b[38;5;124m'\u001b[39m\u001b[38;5;124mnon_lease_area\u001b[39m\u001b[38;5;124m'\u001b[39m, \u001b[38;5;124m'\u001b[39m\u001b[38;5;124mspecial_area\u001b[39m\u001b[38;5;124m'\u001b[39m, \u001b[38;5;124m'\u001b[39m\u001b[38;5;124metc_area\u001b[39m\u001b[38;5;124m'\u001b[39m, \u001b[38;5;124m'\u001b[39m\u001b[38;5;124mtotal_parking_area\u001b[39m\u001b[38;5;124m'\u001b[39m,\n\u001b[0;32m     12\u001b[0m        \u001b[38;5;124m'\u001b[39m\u001b[38;5;124mground_parking_area\u001b[39m\u001b[38;5;124m'\u001b[39m, \u001b[38;5;124m'\u001b[39m\u001b[38;5;124munder_ground_parking_area\u001b[39m\u001b[38;5;124m'\u001b[39m, \u001b[38;5;124m'\u001b[39m\u001b[38;5;124mpiriti_parking_area\u001b[39m\u001b[38;5;124m'\u001b[39m, \u001b[38;5;124m'\u001b[39m\u001b[38;5;124moutdoor_parking_area\u001b[39m\u001b[38;5;124m'\u001b[39m, \u001b[38;5;124m'\u001b[39m\u001b[38;5;124mjimok_nm\u001b[39m\u001b[38;5;124m'\u001b[39m, \u001b[38;5;124m'\u001b[39m\u001b[38;5;124mland_area\u001b[39m\u001b[38;5;124m'\u001b[39m, \u001b[38;5;124m'\u001b[39m\u001b[38;5;124mconversion_rate\u001b[39m\u001b[38;5;124m'\u001b[39m,\n\u001b[0;32m     13\u001b[0m        \u001b[38;5;124m'\u001b[39m\u001b[38;5;124minvest_floor\u001b[39m\u001b[38;5;124m'\u001b[39m, \u001b[38;5;124m'\u001b[39m\u001b[38;5;124mtenant_usage_status\u001b[39m\u001b[38;5;124m'\u001b[39m, \u001b[38;5;124m'\u001b[39m\u001b[38;5;124mbusiness_type_large\u001b[39m\u001b[38;5;124m'\u001b[39m, \u001b[38;5;124m'\u001b[39m\u001b[38;5;124mbusiness_type_small\u001b[39m\u001b[38;5;124m'\u001b[39m, \u001b[38;5;124m'\u001b[39m\u001b[38;5;124mnet_leasable_ho_area\u001b[39m\u001b[38;5;124m'\u001b[39m, \u001b[38;5;124m'\u001b[39m\u001b[38;5;124mcommon_ho_area\u001b[39m\u001b[38;5;124m'\u001b[39m,\n\u001b[0;32m     14\u001b[0m        \u001b[38;5;124m'\u001b[39m\u001b[38;5;124msum_area\u001b[39m\u001b[38;5;124m'\u001b[39m, \u001b[38;5;124m'\u001b[39m\u001b[38;5;124mcontract_deposit_1st\u001b[39m\u001b[38;5;124m'\u001b[39m, \u001b[38;5;124m'\u001b[39m\u001b[38;5;124mcontract_monthly_rent_sum_1st\u001b[39m\u001b[38;5;124m'\u001b[39m, \u001b[38;5;124m'\u001b[39m\u001b[38;5;124mcontract_monthly_rent_1st\u001b[39m\u001b[38;5;124m'\u001b[39m,\n\u001b[0;32m     15\u001b[0m        \u001b[38;5;124m'\u001b[39m\u001b[38;5;124mselling_deposit_1st\u001b[39m\u001b[38;5;124m'\u001b[39m, \u001b[38;5;124m'\u001b[39m\u001b[38;5;124mselling_monthly_rent_sum_1st\u001b[39m\u001b[38;5;124m'\u001b[39m, \u001b[38;5;124m'\u001b[39m\u001b[38;5;124mselling_monthly_rent_1st\u001b[39m\u001b[38;5;124m'\u001b[39m, \u001b[38;5;124m'\u001b[39m\u001b[38;5;124madmin_cost_1st\u001b[39m\u001b[38;5;124m'\u001b[39m,\n\u001b[0;32m     16\u001b[0m        \u001b[38;5;124m'\u001b[39m\u001b[38;5;124madmin_actual_cost_1st\u001b[39m\u001b[38;5;124m'\u001b[39m, \u001b[38;5;124m'\u001b[39m\u001b[38;5;124mvacant_1\u001b[39m\u001b[38;5;124m'\u001b[39m, \u001b[38;5;124m'\u001b[39m\u001b[38;5;124mcontract_deposit_2nd\u001b[39m\u001b[38;5;124m'\u001b[39m, \u001b[38;5;124m'\u001b[39m\u001b[38;5;124mcontract_monthly_rent_sum_2nd\u001b[39m\u001b[38;5;124m'\u001b[39m,\n\u001b[0;32m     17\u001b[0m        \u001b[38;5;124m'\u001b[39m\u001b[38;5;124mcontract_monthly_rent_2nd\u001b[39m\u001b[38;5;124m'\u001b[39m, \u001b[38;5;124m'\u001b[39m\u001b[38;5;124mselling_deposit_2nd\u001b[39m\u001b[38;5;124m'\u001b[39m, \u001b[38;5;124m'\u001b[39m\u001b[38;5;124mselling_monthly_rent_sum_2nd\u001b[39m\u001b[38;5;124m'\u001b[39m,\n\u001b[0;32m     18\u001b[0m        \u001b[38;5;124m'\u001b[39m\u001b[38;5;124mselling_monthly_rent_2nd\u001b[39m\u001b[38;5;124m'\u001b[39m, \u001b[38;5;124m'\u001b[39m\u001b[38;5;124madmin_cost_2nd\u001b[39m\u001b[38;5;124m'\u001b[39m, \u001b[38;5;124m'\u001b[39m\u001b[38;5;124madmin_actual_cost_2nd\u001b[39m\u001b[38;5;124m'\u001b[39m, \u001b[38;5;124m'\u001b[39m\u001b[38;5;124mvacant_2\u001b[39m\u001b[38;5;124m'\u001b[39m,\n\u001b[0;32m     19\u001b[0m        \u001b[38;5;124m'\u001b[39m\u001b[38;5;124mcontract_deposit_3rd\u001b[39m\u001b[38;5;124m'\u001b[39m, \u001b[38;5;124m'\u001b[39m\u001b[38;5;124mcontract_monthly_rent_sum_3rd\u001b[39m\u001b[38;5;124m'\u001b[39m, \u001b[38;5;124m'\u001b[39m\u001b[38;5;124mcontract_monthly_rent_3rd\u001b[39m\u001b[38;5;124m'\u001b[39m,\n\u001b[0;32m     20\u001b[0m        \u001b[38;5;124m'\u001b[39m\u001b[38;5;124mselling_deposit_3rd\u001b[39m\u001b[38;5;124m'\u001b[39m, \u001b[38;5;124m'\u001b[39m\u001b[38;5;124mselling_monthly_rent_sum_3rd\u001b[39m\u001b[38;5;124m'\u001b[39m, \u001b[38;5;124m'\u001b[39m\u001b[38;5;124mselling_monthly_rent_3rd\u001b[39m\u001b[38;5;124m'\u001b[39m, \u001b[38;5;124m'\u001b[39m\u001b[38;5;124madmin_cost_3rd\u001b[39m\u001b[38;5;124m'\u001b[39m,\n\u001b[0;32m     21\u001b[0m        \u001b[38;5;124m'\u001b[39m\u001b[38;5;124madmin_actual_cost_3rd\u001b[39m\u001b[38;5;124m'\u001b[39m, \u001b[38;5;124m'\u001b[39m\u001b[38;5;124mvacant_3\u001b[39m\u001b[38;5;124m'\u001b[39m, \u001b[38;5;124m'\u001b[39m\u001b[38;5;124mcurrent_contract_date\u001b[39m\u001b[38;5;124m'\u001b[39m, \u001b[38;5;124m'\u001b[39m\u001b[38;5;124mcurrent_contract_term\u001b[39m\u001b[38;5;124m'\u001b[39m, \u001b[38;5;124m'\u001b[39m\u001b[38;5;124mfirst_current_contract_date\u001b[39m\u001b[38;5;124m'\u001b[39m, \u001b[38;5;124m'\u001b[39m\u001b[38;5;124mfinal_land_area_amt\u001b[39m\u001b[38;5;124m'\u001b[39m,\n\u001b[0;32m     22\u001b[0m        \u001b[38;5;124m'\u001b[39m\u001b[38;5;124mfinal_tot_area_amt\u001b[39m\u001b[38;5;124m'\u001b[39m]\n\u001b[0;32m     24\u001b[0m \u001b[38;5;66;03m# base_ym 추가 \u001b[39;00m\n\u001b[0;32m     25\u001b[0m df[\u001b[38;5;124m'\u001b[39m\u001b[38;5;124mbase_ym\u001b[39m\u001b[38;5;124m'\u001b[39m] \u001b[38;5;241m=\u001b[39m datetime\u001b[38;5;241m.\u001b[39mdatetime\u001b[38;5;241m.\u001b[39mnow()\u001b[38;5;241m.\u001b[39mstrftime(\u001b[38;5;124m\"\u001b[39m\u001b[38;5;124m%\u001b[39m\u001b[38;5;124mY\u001b[39m\u001b[38;5;124m%\u001b[39m\u001b[38;5;124mm\u001b[39m\u001b[38;5;124m\"\u001b[39m)\n",
      "File \u001b[1;32m~\\Anaconda3\\envs\\oasis\\lib\\site-packages\\pandas\\core\\generic.py:5478\u001b[0m, in \u001b[0;36mNDFrame.__setattr__\u001b[1;34m(self, name, value)\u001b[0m\n\u001b[0;32m   5476\u001b[0m \u001b[38;5;28;01mtry\u001b[39;00m:\n\u001b[0;32m   5477\u001b[0m     \u001b[38;5;28mobject\u001b[39m\u001b[38;5;241m.\u001b[39m\u001b[38;5;21m__getattribute__\u001b[39m(\u001b[38;5;28mself\u001b[39m, name)\n\u001b[1;32m-> 5478\u001b[0m     \u001b[38;5;28;01mreturn\u001b[39;00m \u001b[38;5;28;43mobject\u001b[39;49m\u001b[38;5;241;43m.\u001b[39;49m\u001b[38;5;21;43m__setattr__\u001b[39;49m\u001b[43m(\u001b[49m\u001b[38;5;28;43mself\u001b[39;49m\u001b[43m,\u001b[49m\u001b[43m \u001b[49m\u001b[43mname\u001b[49m\u001b[43m,\u001b[49m\u001b[43m \u001b[49m\u001b[43mvalue\u001b[49m\u001b[43m)\u001b[49m\n\u001b[0;32m   5479\u001b[0m \u001b[38;5;28;01mexcept\u001b[39;00m \u001b[38;5;167;01mAttributeError\u001b[39;00m:\n\u001b[0;32m   5480\u001b[0m     \u001b[38;5;28;01mpass\u001b[39;00m\n",
      "File \u001b[1;32mpandas\\_libs\\properties.pyx:66\u001b[0m, in \u001b[0;36mpandas._libs.properties.AxisProperty.__set__\u001b[1;34m()\u001b[0m\n",
      "File \u001b[1;32m~\\Anaconda3\\envs\\oasis\\lib\\site-packages\\pandas\\core\\generic.py:670\u001b[0m, in \u001b[0;36mNDFrame._set_axis\u001b[1;34m(self, axis, labels)\u001b[0m\n\u001b[0;32m    668\u001b[0m \u001b[38;5;28;01mdef\u001b[39;00m \u001b[38;5;21m_set_axis\u001b[39m(\u001b[38;5;28mself\u001b[39m, axis: \u001b[38;5;28mint\u001b[39m, labels: Index) \u001b[38;5;241m-\u001b[39m\u001b[38;5;241m>\u001b[39m \u001b[38;5;28;01mNone\u001b[39;00m:\n\u001b[0;32m    669\u001b[0m     labels \u001b[38;5;241m=\u001b[39m ensure_index(labels)\n\u001b[1;32m--> 670\u001b[0m     \u001b[38;5;28;43mself\u001b[39;49m\u001b[38;5;241;43m.\u001b[39;49m\u001b[43m_mgr\u001b[49m\u001b[38;5;241;43m.\u001b[39;49m\u001b[43mset_axis\u001b[49m\u001b[43m(\u001b[49m\u001b[43maxis\u001b[49m\u001b[43m,\u001b[49m\u001b[43m \u001b[49m\u001b[43mlabels\u001b[49m\u001b[43m)\u001b[49m\n\u001b[0;32m    671\u001b[0m     \u001b[38;5;28mself\u001b[39m\u001b[38;5;241m.\u001b[39m_clear_item_cache()\n",
      "File \u001b[1;32m~\\Anaconda3\\envs\\oasis\\lib\\site-packages\\pandas\\core\\internals\\managers.py:220\u001b[0m, in \u001b[0;36mBlockManager.set_axis\u001b[1;34m(self, axis, new_labels)\u001b[0m\n\u001b[0;32m    217\u001b[0m new_len \u001b[38;5;241m=\u001b[39m \u001b[38;5;28mlen\u001b[39m(new_labels)\n\u001b[0;32m    219\u001b[0m \u001b[38;5;28;01mif\u001b[39;00m new_len \u001b[38;5;241m!=\u001b[39m old_len:\n\u001b[1;32m--> 220\u001b[0m     \u001b[38;5;28;01mraise\u001b[39;00m \u001b[38;5;167;01mValueError\u001b[39;00m(\n\u001b[0;32m    221\u001b[0m         \u001b[38;5;124mf\u001b[39m\u001b[38;5;124m\"\u001b[39m\u001b[38;5;124mLength mismatch: Expected axis has \u001b[39m\u001b[38;5;132;01m{\u001b[39;00mold_len\u001b[38;5;132;01m}\u001b[39;00m\u001b[38;5;124m elements, new \u001b[39m\u001b[38;5;124m\"\u001b[39m\n\u001b[0;32m    222\u001b[0m         \u001b[38;5;124mf\u001b[39m\u001b[38;5;124m\"\u001b[39m\u001b[38;5;124mvalues have \u001b[39m\u001b[38;5;132;01m{\u001b[39;00mnew_len\u001b[38;5;132;01m}\u001b[39;00m\u001b[38;5;124m elements\u001b[39m\u001b[38;5;124m\"\u001b[39m\n\u001b[0;32m    223\u001b[0m     )\n\u001b[0;32m    225\u001b[0m \u001b[38;5;28mself\u001b[39m\u001b[38;5;241m.\u001b[39maxes[axis] \u001b[38;5;241m=\u001b[39m new_labels\n",
      "\u001b[1;31mValueError\u001b[0m: Length mismatch: Expected axis has 83 elements, new values have 82 elements"
     ]
    }
   ],
   "source": [
    "# 파일 불러와서 \n",
    "for file in glob.glob(dir + \"*소규모상가.xlsx\"):\n",
    "    \n",
    "    df = pd.read_excel(file)\n",
    "    \n",
    "    # 컬럼명 변경\n",
    "    df.columns = ['sample_gb', 'commercial_wide_area', 'cname', 'sido', 'own_type', 'own_cnt', 'land_use_nm1', 'land_use_nm2',\n",
    "           'use_district_nm1', 'use_district_nm2', 'ground_floor', 'under_ground_floor', 'useapr_day', 'building_structure',\n",
    "           'main_purps_nm', 'bc_rat', 'vl_rat', 'subway_distance', 'bus_distance', 'main_crossroad', 'road_interface_nm', 'indoor_parking_gb',\n",
    "           'outdoor_parking_gb', 'passenger_elevator_gb ', 'freight_elevator_gb', 'plat_area', 'arch_area', 'net_leasable_area', 'common_area',\n",
    "           'net_leasable_ratio', 'lease_contract_area', 'vacant_area', 'non_lease_area', 'special_area', 'etc_area', 'total_parking_area',\n",
    "           'ground_parking_area', 'under_ground_parking_area', 'piriti_parking_area', 'outdoor_parking_area', 'jimok_nm', 'land_area', 'conversion_rate',\n",
    "           'invest_floor', 'tenant_usage_status', 'business_type_large', 'business_type_small', 'net_leasable_ho_area', 'common_ho_area',\n",
    "           'sum_area', 'contract_deposit_1st', 'contract_monthly_rent_sum_1st', 'contract_monthly_rent_1st',\n",
    "           'selling_deposit_1st', 'selling_monthly_rent_sum_1st', 'selling_monthly_rent_1st', 'admin_cost_1st',\n",
    "           'admin_actual_cost_1st', 'vacant_1', 'contract_deposit_2nd', 'contract_monthly_rent_sum_2nd',\n",
    "           'contract_monthly_rent_2nd', 'selling_deposit_2nd', 'selling_monthly_rent_sum_2nd',\n",
    "           'selling_monthly_rent_2nd', 'admin_cost_2nd', 'admin_actual_cost_2nd', 'vacant_2',\n",
    "           'contract_deposit_3rd', 'contract_monthly_rent_sum_3rd', 'contract_monthly_rent_3rd',\n",
    "           'selling_deposit_3rd', 'selling_monthly_rent_sum_3rd', 'selling_monthly_rent_3rd', 'admin_cost_3rd',\n",
    "           'admin_actual_cost_3rd', 'vacant_3', 'current_contract_date', 'current_contract_term', 'first_current_contract_date', 'final_land_area_amt',\n",
    "           'final_tot_area_amt']\n",
    "\n",
    "    # base_ym 추가 \n",
    "    df['base_ym'] = datetime.datetime.now().strftime(\"%Y%m\")\n",
    "    \n",
    "    # 특수문자, nan 처리\n",
    "    df = df.replace(\"%\",\"\", regex=True)\n",
    "    df = df.replace({np.nan: None})\n",
    "\n",
    "    # values 설정\n",
    "    val = '(' + ('%s,' * len(df.columns))[:-1] + ')'\n",
    "\n",
    "    # insert\n",
    "    for j in range(0, len(df), 10000):\n",
    "        # DB Connect\n",
    "        conn = psycopg2.connect(\n",
    "            host='redshift-cluster-1.ctvbwnnvbdkl.ap-northeast-2.redshift.amazonaws.com',\n",
    "            port=5439,\n",
    "            dbname='dev',\n",
    "            user='awsuser',\n",
    "            password='cremaoAdmin1234qwer!!'\n",
    "        )\n",
    "        # 10000개 단위로 나누기\n",
    "        tmp = df[j:j + 10000]\n",
    "\n",
    "        # insert\n",
    "        execute_mogrify(conn, tmp, table, val)\n",
    "        print(datetime.datetime.now(), ' : ', j)\n",
    "        tmp = pd.DataFrame()\n",
    "\n",
    "    # row count\n",
    "    print(f'Done : {file}')"
   ]
  },
  {
   "cell_type": "markdown",
   "id": "eaefc087-4097-4aae-a639-ff64e27bbc5f",
   "metadata": {},
   "source": [
    "### test"
   ]
  },
  {
   "cell_type": "code",
   "execution_count": 51,
   "id": "726d601e-0975-425d-8112-713a009bb95b",
   "metadata": {},
   "outputs": [],
   "source": [
    "df = df[['base_ym','sample_gb', 'commercial_wide_area', 'cname', 'sido', 'own_type', 'own_cnt', 'land_use_nm1', 'land_use_nm2',\n",
    "       'use_district_nm1', 'use_district_nm2', 'ground_floor', 'under_ground_floor', 'useapr_day', 'building_structure',\n",
    "       'main_purps_nm', 'bc_rat', 'vl_rat', 'subway_distance', 'bus_distance', 'main_crossroad', 'road_interface_nm', 'indoor_parking_gb',\n",
    "       'outdoor_parking_gb', 'passenger_elevator_gb ', 'freight_elevator_gb', 'plat_area', 'arch_area', 'net_leasable_area', 'common_area',\n",
    "       'net_leasable_ratio', 'lease_contract_area', 'vacant_area', 'non_lease_area', 'special_area', 'etc_area', 'total_parking_area',\n",
    "       'ground_parking_area', 'under_ground_parking_area', 'piriti_parking_area', 'outdoor_parking_area', 'jimok_nm', 'land_area', 'conversion_rate',\n",
    "       'invest_floor', 'tenant_usage_status', 'business_type_large', 'business_type_small', 'net_leasable_ho_area', 'common_ho_area',\n",
    "       'sum_area', 'contract_deposit_1st', 'contract_monthly_rent_sum_1st', 'contract_monthly_rent_1st',\n",
    "       'selling_deposit_1st', 'selling_monthly_rent_sum_1st', 'selling_monthly_rent_1st', 'admin_cost_1st',\n",
    "       'admin_actual_cost_1st', 'vacant_1', 'contract_deposit_2nd', 'contract_monthly_rent_sum_2nd',\n",
    "       'contract_monthly_rent_2nd', 'selling_deposit_2nd', 'selling_monthly_rent_sum_2nd',\n",
    "       'selling_monthly_rent_2nd', 'admin_cost_2nd', 'admin_actual_cost_2nd', 'vacant_2',\n",
    "       'contract_deposit_3rd', 'contract_monthly_rent_sum_3rd', 'contract_monthly_rent_3rd',\n",
    "       'selling_deposit_3rd', 'selling_monthly_rent_sum_3rd', 'selling_monthly_rent_3rd', 'admin_cost_3rd',\n",
    "       'admin_actual_cost_3rd', 'vacant_3', 'current_contract_date', 'current_contract_term', 'first_current_contract_date', 'final_land_area_amt',\n",
    "       'final_tot_area_amt']]"
   ]
  }
 ],
 "metadata": {
  "kernelspec": {
   "display_name": "oasis",
   "language": "python",
   "name": "oasis"
  },
  "language_info": {
   "codemirror_mode": {
    "name": "ipython",
    "version": 3
   },
   "file_extension": ".py",
   "mimetype": "text/x-python",
   "name": "python",
   "nbconvert_exporter": "python",
   "pygments_lexer": "ipython3",
   "version": "3.8.13"
  }
 },
 "nbformat": 4,
 "nbformat_minor": 5
}
