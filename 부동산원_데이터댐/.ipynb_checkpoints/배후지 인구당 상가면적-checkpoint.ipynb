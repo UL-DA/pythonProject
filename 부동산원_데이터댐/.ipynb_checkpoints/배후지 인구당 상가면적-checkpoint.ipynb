{
 "cells": [
  {
   "cell_type": "markdown",
   "id": "0092128e-9acf-4a85-bd27-ff785f59ff3f",
   "metadata": {},
   "source": [
    "### 최종"
   ]
  },
  {
   "cell_type": "code",
   "execution_count": null,
   "id": "3e58d7ae-9f0e-4651-b367-d1b12a0d3f0c",
   "metadata": {},
   "outputs": [],
   "source": [
    "### 0. import\n",
    "import psycopg2\n",
    "import numpy  as np\n",
    "import pandas as pd\n",
    "from datetime import datetime\n",
    "\n",
    "# display option (float 자리수)\n",
    "pd.options.display.float_format = lambda x: f'{x:.3f}'\n",
    "\n",
    "\n",
    "### 1. 데이터 가져오기\n",
    "# AWS DW Connect\n",
    "aws_conn = psycopg2.connect(\n",
    "    host = 'redshift-cluster-1.ctvbwnnvbdkl.ap-northeast-2.redshift.amazonaws.com',\n",
    "    port = 5439,\n",
    "    dbname = 'dev',\n",
    "    user = 'awsuser',\n",
    "    password = 'cremaoAdmin1234qwer!!'\n",
    ")\n",
    "aws_cursor = aws_conn.cursor()\n",
    "\n",
    "# 상가 면적 (pnu단위_19자리)\n",
    "sql = '''\n",
    "select sigungu_cd||bjdong_cd as pnu, sum(tot_area)\n",
    "  from m1.bld_rgst\n",
    " where main_purps_cd_nm not in \n",
    "    (\n",
    "    select distinct main_purps_cd_nm\n",
    "    from m1.bld_rgst\n",
    "    where main_purps_cd_nm like '%주택%'\n",
    "    )\n",
    "group by sigungu_cd||bjdong_cd\n",
    "'''\n",
    "aws_cursor.execute(sql)\n",
    "aws_conn.commit()\n",
    "rows = aws_cursor.fetchall()\n",
    "\n",
    "df_bld_rgst = pd.DataFrame(rows)\n",
    "df_bld_rgst.columns = ['emd_cd','tot_sum']\n",
    "\n",
    "# 거주 인구 (법정동 단위)\n",
    "sql = 'select emd_cd, l_tot, base_ym from m2.cremao_local_population'\n",
    "aws_cursor.execute(sql)\n",
    "aws_conn.commit()\n",
    "rows = aws_cursor.fetchall()\n",
    "\n",
    "df_cremao_local_population = pd.DataFrame(rows)\n",
    "df_cremao_local_population.columns = ['emd_cd','l_tot','base_ym']\n",
    "df_cremao_local_population['emd_cd'] = df_cremao_local_population['emd_cd'] + '00'\n",
    "df_cremao_local_population['l_tot']  = df_cremao_local_population['l_tot'].astype(float)\n",
    "\n",
    "# 계산식\n",
    "df = pd.merge(df_cremao_local_population, df_bld_rgst, on='emd_cd', how='left') # emd_cd 기준 병합\n",
    "DF = df[~df['tot_sum'].isnull()] # 널값 제외\n",
    "DF['f_tot'] = DF['f_tot'].astype(float) # 데이터 타입 맞추기\n",
    "DF['per'] = (DF['tot_sum']/(DF['f_tot'])*100) # 인구 대비 연면적\n",
    "\n",
    "\n",
    "### 2. DB INSERT\n",
    "import datetime\n",
    "\n",
    "table = 'm2.datadam_area_per_population'\n",
    "\n",
    "# execute_mogrify\n",
    "def execute_mogrify(conn, df, table, val):\n",
    "    # Create a list of tuples from the dataframe values\n",
    "    tuples = [tuple(x) for x in df.to_numpy()]\n",
    "    # Comma-separated dataframe columns\n",
    "    cols = ','.join(list(df.columns))\n",
    "    # SQL query to execute\n",
    "    cursor = conn.cursor()\n",
    "    values = [cursor.mogrify(val, tup).decode('utf8') for tup in\n",
    "              tuples]\n",
    "    query = \"INSERT INTO %s(%s) VALUES \" % (table, cols) + \",\".join(values)\n",
    "\n",
    "    try:\n",
    "        cursor.execute(query, tuples)\n",
    "        conn.commit()\n",
    "    except (Exception, psycopg2.DatabaseError) as error:\n",
    "        print(\"Error: %s\" % error)\n",
    "        conn.rollback()\n",
    "        cursor.close()\n",
    "        return 1\n",
    "    cursor.close()\n",
    "\n",
    "# values 설정\n",
    "val = '(' + ('%s,' * len(df.columns))[:-1] + ')'\n",
    "\n",
    "# insert\n",
    "for j in range(0, len(df), 10000):\n",
    "\n",
    "    # DB Connect\n",
    "    conn = psycopg2.connect(\n",
    "        host='redshift-cluster-1.ctvbwnnvbdkl.ap-northeast-2.redshift.amazonaws.com',\n",
    "        port=5439,\n",
    "        dbname='dev',\n",
    "        user='awsuser',\n",
    "        password='cremaoAdmin1234qwer!!'\n",
    "    )\n",
    "\n",
    "    # 10000개 단위로 나누기\n",
    "    tmp = df[j:j + 10000]\n",
    "\n",
    "    # insert\n",
    "    execute_mogrify(conn, tmp, table, val)\n",
    "    print(datetime.datetime.now(), ' : ', j)\n",
    "    tmp = pd.DataFrame()\n",
    "\n",
    "# row count\n",
    "print(len(df))"
   ]
  },
  {
   "cell_type": "markdown",
   "id": "63d029c9-970a-4b18-a751-74805862f973",
   "metadata": {},
   "source": [
    "### test"
   ]
  },
  {
   "cell_type": "code",
   "execution_count": 14,
   "id": "059b53d1-90d1-4c7c-b6b1-b7ae71bb4d6a",
   "metadata": {},
   "outputs": [],
   "source": [
    "### 0. import\n",
    "import psycopg2\n",
    "import numpy  as np\n",
    "import pandas as pd\n",
    "from datetime import datetime\n",
    "\n",
    "# display option (float 자리수)\n",
    "pd.options.display.float_format = lambda x: f'{x:.3f}'\n",
    "\n",
    "\n",
    "### 1. 데이터 가져오기\n",
    "# AWS DW Connect\n",
    "aws_conn = psycopg2.connect(\n",
    "    host = 'redshift-cluster-1.ctvbwnnvbdkl.ap-northeast-2.redshift.amazonaws.com',\n",
    "    port = 5439,\n",
    "    dbname = 'dev',\n",
    "    user = 'awsuser',\n",
    "    password = 'cremaoAdmin1234qwer!!'\n",
    ")\n",
    "aws_cursor = aws_conn.cursor()"
   ]
  },
  {
   "cell_type": "code",
   "execution_count": 15,
   "id": "db901354-f443-4e60-8ed1-d15c60e5aceb",
   "metadata": {},
   "outputs": [],
   "source": [
    "# 상가 면적 (pnu단위_19자리)\n",
    "sql = '''\n",
    "select sigungu_cd||bjdong_cd as pnu, sum(tot_area)\n",
    "  from m1.bld_rgst\n",
    " where main_purps_cd_nm not in \n",
    "    (\n",
    "    select distinct main_purps_cd_nm\n",
    "    from m1.bld_rgst\n",
    "    where main_purps_cd_nm like '%주택%'\n",
    "    )\n",
    "group by sigungu_cd||bjdong_cd\n",
    "'''\n",
    "aws_cursor.execute(sql)\n",
    "aws_conn.commit()\n",
    "rows = aws_cursor.fetchall()\n",
    "\n",
    "df_bld_rgst = pd.DataFrame(rows)\n",
    "df_bld_rgst.columns = ['emd_cd','tot_sum']"
   ]
  },
  {
   "cell_type": "code",
   "execution_count": 17,
   "id": "52bbf2eb-a8e1-4203-90d0-8520712edf4a",
   "metadata": {
    "collapsed": true,
    "jupyter": {
     "outputs_hidden": true
    },
    "tags": []
   },
   "outputs": [
    {
     "data": {
      "text/html": [
       "<div>\n",
       "<style scoped>\n",
       "    .dataframe tbody tr th:only-of-type {\n",
       "        vertical-align: middle;\n",
       "    }\n",
       "\n",
       "    .dataframe tbody tr th {\n",
       "        vertical-align: top;\n",
       "    }\n",
       "\n",
       "    .dataframe thead th {\n",
       "        text-align: right;\n",
       "    }\n",
       "</style>\n",
       "<table border=\"1\" class=\"dataframe\">\n",
       "  <thead>\n",
       "    <tr style=\"text-align: right;\">\n",
       "      <th></th>\n",
       "      <th>emd_cd</th>\n",
       "      <th>tot_sum</th>\n",
       "    </tr>\n",
       "  </thead>\n",
       "  <tbody>\n",
       "    <tr>\n",
       "      <th>0</th>\n",
       "      <td>1111010300</td>\n",
       "      <td>15378.010</td>\n",
       "    </tr>\n",
       "    <tr>\n",
       "      <th>1</th>\n",
       "      <td>1111014200</td>\n",
       "      <td>73552.570</td>\n",
       "    </tr>\n",
       "    <tr>\n",
       "      <th>2</th>\n",
       "      <td>1114016200</td>\n",
       "      <td>1689422.943</td>\n",
       "    </tr>\n",
       "    <tr>\n",
       "      <th>3</th>\n",
       "      <td>1114016300</td>\n",
       "      <td>432636.710</td>\n",
       "    </tr>\n",
       "    <tr>\n",
       "      <th>4</th>\n",
       "      <td>1117012900</td>\n",
       "      <td>354553.694</td>\n",
       "    </tr>\n",
       "    <tr>\n",
       "      <th>...</th>\n",
       "      <td>...</td>\n",
       "      <td>...</td>\n",
       "    </tr>\n",
       "    <tr>\n",
       "      <th>18858</th>\n",
       "      <td>4723034033</td>\n",
       "      <td>329.400</td>\n",
       "    </tr>\n",
       "    <tr>\n",
       "      <th>18859</th>\n",
       "      <td>2771032028</td>\n",
       "      <td>146.740</td>\n",
       "    </tr>\n",
       "    <tr>\n",
       "      <th>18860</th>\n",
       "      <td>4415031000</td>\n",
       "      <td>520.600</td>\n",
       "    </tr>\n",
       "    <tr>\n",
       "      <th>18861</th>\n",
       "      <td>4689033000</td>\n",
       "      <td>429.700</td>\n",
       "    </tr>\n",
       "    <tr>\n",
       "      <th>18862</th>\n",
       "      <td>4873038000</td>\n",
       "      <td>42.970</td>\n",
       "    </tr>\n",
       "  </tbody>\n",
       "</table>\n",
       "<p>18863 rows × 2 columns</p>\n",
       "</div>"
      ],
      "text/plain": [
       "           emd_cd     tot_sum\n",
       "0      1111010300   15378.010\n",
       "1      1111014200   73552.570\n",
       "2      1114016200 1689422.943\n",
       "3      1114016300  432636.710\n",
       "4      1117012900  354553.694\n",
       "...           ...         ...\n",
       "18858  4723034033     329.400\n",
       "18859  2771032028     146.740\n",
       "18860  4415031000     520.600\n",
       "18861  4689033000     429.700\n",
       "18862  4873038000      42.970\n",
       "\n",
       "[18863 rows x 2 columns]"
      ]
     },
     "execution_count": 17,
     "metadata": {},
     "output_type": "execute_result"
    }
   ],
   "source": [
    "df_bld_rgst"
   ]
  },
  {
   "cell_type": "code",
   "execution_count": 20,
   "id": "bb8738bb-26e3-474f-ab4f-e3dc0b534de0",
   "metadata": {},
   "outputs": [],
   "source": [
    "# 거주 인구 (법정동 단위)\n",
    "sql = 'select emd_cd, l_tot, base_ym from m2.cremao_local_population'\n",
    "aws_cursor.execute(sql)\n",
    "aws_conn.commit()\n",
    "rows = aws_cursor.fetchall()\n",
    "\n",
    "df_cremao_local_population = pd.DataFrame(rows)\n",
    "df_cremao_local_population.columns = ['emd_cd','l_tot','base_ym']\n",
    "df_cremao_local_population['emd_cd'] = df_cremao_local_population['emd_cd'] + '00'\n",
    "df_cremao_local_population['l_tot'] = df_cremao_local_population['l_tot'].astype(float)"
   ]
  },
  {
   "cell_type": "code",
   "execution_count": 21,
   "id": "4ffe6b9b-338c-4559-9335-a2672550e3f2",
   "metadata": {
    "collapsed": true,
    "jupyter": {
     "outputs_hidden": true
    },
    "tags": []
   },
   "outputs": [
    {
     "data": {
      "text/html": [
       "<div>\n",
       "<style scoped>\n",
       "    .dataframe tbody tr th:only-of-type {\n",
       "        vertical-align: middle;\n",
       "    }\n",
       "\n",
       "    .dataframe tbody tr th {\n",
       "        vertical-align: top;\n",
       "    }\n",
       "\n",
       "    .dataframe thead th {\n",
       "        text-align: right;\n",
       "    }\n",
       "</style>\n",
       "<table border=\"1\" class=\"dataframe\">\n",
       "  <thead>\n",
       "    <tr style=\"text-align: right;\">\n",
       "      <th></th>\n",
       "      <th>emd_cd</th>\n",
       "      <th>l_tot</th>\n",
       "      <th>base_ym</th>\n",
       "    </tr>\n",
       "  </thead>\n",
       "  <tbody>\n",
       "    <tr>\n",
       "      <th>0</th>\n",
       "      <td>4148035000</td>\n",
       "      <td>210.000</td>\n",
       "      <td>202208</td>\n",
       "    </tr>\n",
       "    <tr>\n",
       "      <th>1</th>\n",
       "      <td>4148036000</td>\n",
       "      <td>87.000</td>\n",
       "      <td>202208</td>\n",
       "    </tr>\n",
       "    <tr>\n",
       "      <th>2</th>\n",
       "      <td>4148037000</td>\n",
       "      <td>70.000</td>\n",
       "      <td>202208</td>\n",
       "    </tr>\n",
       "    <tr>\n",
       "      <th>3</th>\n",
       "      <td>4148038000</td>\n",
       "      <td>8.000</td>\n",
       "      <td>202208</td>\n",
       "    </tr>\n",
       "    <tr>\n",
       "      <th>4</th>\n",
       "      <td>4148039000</td>\n",
       "      <td>0.000</td>\n",
       "      <td>202208</td>\n",
       "    </tr>\n",
       "    <tr>\n",
       "      <th>...</th>\n",
       "      <td>...</td>\n",
       "      <td>...</td>\n",
       "      <td>...</td>\n",
       "    </tr>\n",
       "    <tr>\n",
       "      <th>5049</th>\n",
       "      <td>4713014000</td>\n",
       "      <td>72.000</td>\n",
       "      <td>202208</td>\n",
       "    </tr>\n",
       "    <tr>\n",
       "      <th>5050</th>\n",
       "      <td>4713014100</td>\n",
       "      <td>28.000</td>\n",
       "      <td>202208</td>\n",
       "    </tr>\n",
       "    <tr>\n",
       "      <th>5051</th>\n",
       "      <td>4713014200</td>\n",
       "      <td>88.000</td>\n",
       "      <td>202208</td>\n",
       "    </tr>\n",
       "    <tr>\n",
       "      <th>5052</th>\n",
       "      <td>4713014300</td>\n",
       "      <td>60.000</td>\n",
       "      <td>202208</td>\n",
       "    </tr>\n",
       "    <tr>\n",
       "      <th>5053</th>\n",
       "      <td>4713014400</td>\n",
       "      <td>417.000</td>\n",
       "      <td>202208</td>\n",
       "    </tr>\n",
       "  </tbody>\n",
       "</table>\n",
       "<p>5054 rows × 3 columns</p>\n",
       "</div>"
      ],
      "text/plain": [
       "          emd_cd   l_tot base_ym\n",
       "0     4148035000 210.000  202208\n",
       "1     4148036000  87.000  202208\n",
       "2     4148037000  70.000  202208\n",
       "3     4148038000   8.000  202208\n",
       "4     4148039000   0.000  202208\n",
       "...          ...     ...     ...\n",
       "5049  4713014000  72.000  202208\n",
       "5050  4713014100  28.000  202208\n",
       "5051  4713014200  88.000  202208\n",
       "5052  4713014300  60.000  202208\n",
       "5053  4713014400 417.000  202208\n",
       "\n",
       "[5054 rows x 3 columns]"
      ]
     },
     "execution_count": 21,
     "metadata": {},
     "output_type": "execute_result"
    }
   ],
   "source": [
    "df_cremao_local_population"
   ]
  },
  {
   "cell_type": "code",
   "execution_count": 22,
   "id": "0658eb86-c500-46bd-b3d9-cc9bba50cc9e",
   "metadata": {},
   "outputs": [],
   "source": [
    "# emd_cd 기준 병합\n",
    "df = pd.merge(df_cremao_local_population, df_bld_rgst, on='emd_cd', how='left')"
   ]
  },
  {
   "cell_type": "code",
   "execution_count": 23,
   "id": "8b072fa8-17ec-4c90-9cec-1b211a9558b0",
   "metadata": {},
   "outputs": [],
   "source": [
    "# 널값 제외\n",
    "DF = df[~df['tot_sum'].isnull()]"
   ]
  },
  {
   "cell_type": "code",
   "execution_count": 31,
   "id": "375d6a51-421c-4dc2-bf1a-e667b7cab4b0",
   "metadata": {},
   "outputs": [
    {
     "data": {
      "text/html": [
       "<div>\n",
       "<style scoped>\n",
       "    .dataframe tbody tr th:only-of-type {\n",
       "        vertical-align: middle;\n",
       "    }\n",
       "\n",
       "    .dataframe tbody tr th {\n",
       "        vertical-align: top;\n",
       "    }\n",
       "\n",
       "    .dataframe thead th {\n",
       "        text-align: right;\n",
       "    }\n",
       "</style>\n",
       "<table border=\"1\" class=\"dataframe\">\n",
       "  <thead>\n",
       "    <tr style=\"text-align: right;\">\n",
       "      <th></th>\n",
       "      <th>emd_cd</th>\n",
       "      <th>l_tot</th>\n",
       "      <th>base_ym</th>\n",
       "      <th>tot_sum</th>\n",
       "    </tr>\n",
       "  </thead>\n",
       "  <tbody>\n",
       "    <tr>\n",
       "      <th>0</th>\n",
       "      <td>4148035000</td>\n",
       "      <td>210.000</td>\n",
       "      <td>202208</td>\n",
       "      <td>405.200</td>\n",
       "    </tr>\n",
       "    <tr>\n",
       "      <th>7</th>\n",
       "      <td>4150010100</td>\n",
       "      <td>18590.000</td>\n",
       "      <td>202208</td>\n",
       "      <td>584149.685</td>\n",
       "    </tr>\n",
       "    <tr>\n",
       "      <th>8</th>\n",
       "      <td>4150010200</td>\n",
       "      <td>1698.000</td>\n",
       "      <td>202208</td>\n",
       "      <td>209308.271</td>\n",
       "    </tr>\n",
       "    <tr>\n",
       "      <th>9</th>\n",
       "      <td>4150010300</td>\n",
       "      <td>5416.000</td>\n",
       "      <td>202208</td>\n",
       "      <td>436990.832</td>\n",
       "    </tr>\n",
       "    <tr>\n",
       "      <th>10</th>\n",
       "      <td>4150010400</td>\n",
       "      <td>433.000</td>\n",
       "      <td>202208</td>\n",
       "      <td>21562.707</td>\n",
       "    </tr>\n",
       "    <tr>\n",
       "      <th>...</th>\n",
       "      <td>...</td>\n",
       "      <td>...</td>\n",
       "      <td>...</td>\n",
       "      <td>...</td>\n",
       "    </tr>\n",
       "    <tr>\n",
       "      <th>5049</th>\n",
       "      <td>4713014000</td>\n",
       "      <td>72.000</td>\n",
       "      <td>202208</td>\n",
       "      <td>200829.300</td>\n",
       "    </tr>\n",
       "    <tr>\n",
       "      <th>5050</th>\n",
       "      <td>4713014100</td>\n",
       "      <td>28.000</td>\n",
       "      <td>202208</td>\n",
       "      <td>17134.315</td>\n",
       "    </tr>\n",
       "    <tr>\n",
       "      <th>5051</th>\n",
       "      <td>4713014200</td>\n",
       "      <td>88.000</td>\n",
       "      <td>202208</td>\n",
       "      <td>28363.510</td>\n",
       "    </tr>\n",
       "    <tr>\n",
       "      <th>5052</th>\n",
       "      <td>4713014300</td>\n",
       "      <td>60.000</td>\n",
       "      <td>202208</td>\n",
       "      <td>11061.320</td>\n",
       "    </tr>\n",
       "    <tr>\n",
       "      <th>5053</th>\n",
       "      <td>4713014400</td>\n",
       "      <td>417.000</td>\n",
       "      <td>202208</td>\n",
       "      <td>264721.536</td>\n",
       "    </tr>\n",
       "  </tbody>\n",
       "</table>\n",
       "<p>3748 rows × 4 columns</p>\n",
       "</div>"
      ],
      "text/plain": [
       "          emd_cd     l_tot base_ym    tot_sum\n",
       "0     4148035000   210.000  202208    405.200\n",
       "7     4150010100 18590.000  202208 584149.685\n",
       "8     4150010200  1698.000  202208 209308.271\n",
       "9     4150010300  5416.000  202208 436990.832\n",
       "10    4150010400   433.000  202208  21562.707\n",
       "...          ...       ...     ...        ...\n",
       "5049  4713014000    72.000  202208 200829.300\n",
       "5050  4713014100    28.000  202208  17134.315\n",
       "5051  4713014200    88.000  202208  28363.510\n",
       "5052  4713014300    60.000  202208  11061.320\n",
       "5053  4713014400   417.000  202208 264721.536\n",
       "\n",
       "[3748 rows x 4 columns]"
      ]
     },
     "execution_count": 31,
     "metadata": {},
     "output_type": "execute_result"
    }
   ],
   "source": [
    "DF"
   ]
  },
  {
   "cell_type": "code",
   "execution_count": 99,
   "id": "88277ae4-cc5d-487b-8ac3-86d8ec903938",
   "metadata": {},
   "outputs": [
    {
     "name": "stderr",
     "output_type": "stream",
     "text": [
      "C:\\Users\\duPar\\AppData\\Local\\Temp\\ipykernel_9324\\932527755.py:2: SettingWithCopyWarning: \n",
      "A value is trying to be set on a copy of a slice from a DataFrame.\n",
      "Try using .loc[row_indexer,col_indexer] = value instead\n",
      "\n",
      "See the caveats in the documentation: https://pandas.pydata.org/pandas-docs/stable/user_guide/indexing.html#returning-a-view-versus-a-copy\n",
      "  DF['per'] = (DF['tot_sum']/(DF['f_tot'])*100)\n"
     ]
    }
   ],
   "source": [
    "# 인구 대비 연면적\n",
    "DF['per'] = (DF['tot_sum']/(DF['f_tot'])*100)"
   ]
  },
  {
   "cell_type": "code",
   "execution_count": 100,
   "id": "54f702d5-f609-4328-8f72-1883e193e67e",
   "metadata": {},
   "outputs": [
    {
     "data": {
      "text/plain": [
       "count    17296.000\n",
       "mean      1462.817\n",
       "std      10775.937\n",
       "min          0.018\n",
       "25%          9.170\n",
       "50%         89.669\n",
       "75%        544.229\n",
       "max     766631.203\n",
       "Name: per, dtype: float64"
      ]
     },
     "execution_count": 100,
     "metadata": {},
     "output_type": "execute_result"
    }
   ],
   "source": [
    "DF['per'].describe()"
   ]
  },
  {
   "cell_type": "code",
   "execution_count": 101,
   "id": "92f0d2aa-ea15-406a-900a-6d6a9064bb6b",
   "metadata": {},
   "outputs": [
    {
     "data": {
      "text/plain": [
       "<AxesSubplot:>"
      ]
     },
     "execution_count": 101,
     "metadata": {},
     "output_type": "execute_result"
    },
    {
     "data": {
      "image/png": "[encoded data removed]",
      "text/plain": [
       "<Figure size 432x288 with 1 Axes>"
      ]
     },
     "metadata": {
      "needs_background": "light"
     },
     "output_type": "display_data"
    }
   ],
   "source": [
    "DF['per'].plot()"
   ]
  },
  {
   "cell_type": "code",
   "execution_count": 84,
   "id": "49a9881b-0693-4912-ac7e-23b63fcbaffb",
   "metadata": {},
   "outputs": [
    {
     "data": {
      "text/plain": [
       "1365         0.018\n",
       "373          0.021\n",
       "9688         0.021\n",
       "201          0.023\n",
       "86           0.026\n",
       "           ...    \n",
       "14942   281013.625\n",
       "16990   293658.462\n",
       "14312   360803.831\n",
       "17796   635432.800\n",
       "2950    766631.203\n",
       "Name: per, Length: 17296, dtype: float64"
      ]
     },
     "execution_count": 84,
     "metadata": {},
     "output_type": "execute_result"
    }
   ],
   "source": [
    "DF['per'].sort_values(ascending=True)"
   ]
  },
  {
   "cell_type": "code",
   "execution_count": 85,
   "id": "aa7130dc-ee75-4015-8e48-9fe2bee4c245",
   "metadata": {},
   "outputs": [
    {
     "data": {
      "text/plain": [
       "emd_cd      4313040024\n",
       "f_tot         3073.000\n",
       "tot_sum   23558576.861\n",
       "per         766631.203\n",
       "Name: 2950, dtype: object"
      ]
     },
     "execution_count": 85,
     "metadata": {},
     "output_type": "execute_result"
    }
   ],
   "source": [
    "DF.loc[2950]"
   ]
  },
  {
   "cell_type": "code",
   "execution_count": null,
   "id": "5f2dc2fb-f932-4ec3-a216-cc108e36fd37",
   "metadata": {},
   "outputs": [],
   "source": [
    "### 3. DB INSERT\n",
    "import datetime\n",
    "\n",
    "table = 'm1.'\n",
    "\n",
    "# execute_mogrify\n",
    "def execute_mogrify(conn, df, table, val):\n",
    "    # Create a list of tuples from the dataframe values\n",
    "    tuples = [tuple(x) for x in df.to_numpy()]\n",
    "    # Comma-separated dataframe columns\n",
    "    cols = ','.join(list(df.columns))\n",
    "    # SQL query to execute\n",
    "    cursor = conn.cursor()\n",
    "    values = [cursor.mogrify(val, tup).decode('utf8') for tup in\n",
    "              tuples]\n",
    "    query = \"INSERT INTO %s(%s) VALUES \" % (table, cols) + \",\".join(values)\n",
    "\n",
    "    try:\n",
    "        cursor.execute(query, tuples)\n",
    "        conn.commit()\n",
    "    except (Exception, psycopg2.DatabaseError) as error:\n",
    "        print(\"Error: %s\" % error)\n",
    "        conn.rollback()\n",
    "        cursor.close()\n",
    "        return 1\n",
    "    cursor.close()\n",
    "\n",
    "# values 설정\n",
    "val = '(' + ('%s,' * len(df.columns))[:-1] + ')'\n",
    "\n",
    "# insert\n",
    "for j in range(0, len(df), 10000):\n",
    "\n",
    "    # DB Connect\n",
    "    conn = psycopg2.connect(\n",
    "        host='redshift-cluster-1.ctvbwnnvbdkl.ap-northeast-2.redshift.amazonaws.com',\n",
    "        port=5439,\n",
    "        dbname='dev',\n",
    "        user='awsuser',\n",
    "        password='cremaoAdmin1234qwer!!'\n",
    "    )\n",
    "\n",
    "    # 10000개 단위로 나누기\n",
    "    tmp = df[j:j + 10000]\n",
    "\n",
    "    # insert\n",
    "    execute_mogrify(conn, tmp, table, val)\n",
    "    print(datetime.datetime.now(), ' : ', j)\n",
    "    tmp = pd.DataFrame()\n",
    "\n",
    "# row count\n",
    "print(len(df))"
   ]
  },
  {
   "cell_type": "markdown",
   "id": "9f6fd1f3-07b3-48fe-9ac0-ee288721a347",
   "metadata": {},
   "source": [
    "### test"
   ]
  },
  {
   "cell_type": "markdown",
   "id": "3e9d101c-709d-435f-a9d3-0f6e30fc7970",
   "metadata": {},
   "source": [
    "병합 대신 머지함"
   ]
  },
  {
   "cell_type": "code",
   "execution_count": 44,
   "id": "9c01c670-8bb4-4809-b2fe-f299ab028336",
   "metadata": {},
   "outputs": [
    {
     "data": {
      "text/html": [
       "<div>\n",
       "<style scoped>\n",
       "    .dataframe tbody tr th:only-of-type {\n",
       "        vertical-align: middle;\n",
       "    }\n",
       "\n",
       "    .dataframe tbody tr th {\n",
       "        vertical-align: top;\n",
       "    }\n",
       "\n",
       "    .dataframe thead th {\n",
       "        text-align: right;\n",
       "    }\n",
       "</style>\n",
       "<table border=\"1\" class=\"dataframe\">\n",
       "  <thead>\n",
       "    <tr style=\"text-align: right;\">\n",
       "      <th></th>\n",
       "      <th>emd_cd</th>\n",
       "      <th>f_tot</th>\n",
       "    </tr>\n",
       "  </thead>\n",
       "  <tbody>\n",
       "    <tr>\n",
       "      <th>0</th>\n",
       "      <td>1111010100</td>\n",
       "      <td>5717165</td>\n",
       "    </tr>\n",
       "  </tbody>\n",
       "</table>\n",
       "</div>"
      ],
      "text/plain": [
       "       emd_cd    f_tot\n",
       "0  1111010100  5717165"
      ]
     },
     "execution_count": 44,
     "metadata": {},
     "output_type": "execute_result"
    }
   ],
   "source": [
    "# 유동인구 테이블 기준 병합\n",
    "df_f_tot[df_f_tot['emd_cd'] == (df_bld_rgst['emd_cd'][0])]"
   ]
  },
  {
   "cell_type": "code",
   "execution_count": 39,
   "id": "192ff1ad-95fa-43b9-ab02-5c8810aa3d97",
   "metadata": {},
   "outputs": [],
   "source": [
    "# 법정동별 유동인구 \n",
    "sql = '''\n",
    "    select substring (pnu, 0, 11), sum(f_tot)\n",
    "      from m2.cremao_land_floating_population\n",
    "     group by substring (pnu, 0, 11)\n",
    "'''\n",
    "aws_cursor.execute(sql)\n",
    "aws_conn.commit()\n",
    "rows = aws_cursor.fetchall()\n",
    "\n",
    "df_f_tot = pd.DataFrame(rows)\n",
    "df_f_tot.columns = ['emd_cd','f_tot']"
   ]
  },
  {
   "cell_type": "code",
   "execution_count": 104,
   "id": "a0646158-99f0-48ad-b986-9dd304d04a9e",
   "metadata": {},
   "outputs": [
    {
     "name": "stderr",
     "output_type": "stream",
     "text": [
      "C:\\Users\\duPar\\AppData\\Local\\Temp\\ipykernel_9324\\4263914036.py:2: SettingWithCopyWarning: \n",
      "A value is trying to be set on a copy of a slice from a DataFrame.\n",
      "Try using .loc[row_indexer,col_indexer] = value instead\n",
      "\n",
      "See the caveats in the documentation: https://pandas.pydata.org/pandas-docs/stable/user_guide/indexing.html#returning-a-view-versus-a-copy\n",
      "  DF['per'] = (DF['tot_sum']/(df_cremao_local_population['l_tot'])*100)\n"
     ]
    }
   ],
   "source": [
    "# 인구 대비 연면적\n",
    "DF['per'] = (DF['tot_sum']/(df_cremao_local_population['l_tot'])*100)"
   ]
  },
  {
   "cell_type": "code",
   "execution_count": 108,
   "id": "468f0c88-866f-4b84-85bc-0c6014851f15",
   "metadata": {},
   "outputs": [
    {
     "data": {
      "text/plain": [
       "2992    0.741\n",
       "619     1.449\n",
       "653     2.480\n",
       "2718    4.266\n",
       "4182    5.553\n",
       "         ... \n",
       "18597     NaN\n",
       "18598     NaN\n",
       "18599     NaN\n",
       "18600     NaN\n",
       "18601     NaN\n",
       "Name: per, Length: 17296, dtype: float64"
      ]
     },
     "execution_count": 108,
     "metadata": {},
     "output_type": "execute_result"
    }
   ],
   "source": [
    "DF['per'].sort_values(ascending=True)"
   ]
  },
  {
   "cell_type": "code",
   "execution_count": 103,
   "id": "c8e00641-a2b7-4f38-9fac-8b3a24085cad",
   "metadata": {},
   "outputs": [
    {
     "data": {
      "text/plain": [
       "0       210\n",
       "1        87\n",
       "2        70\n",
       "3         8\n",
       "4         0\n",
       "       ... \n",
       "5049     72\n",
       "5050     28\n",
       "5051     88\n",
       "5052     60\n",
       "5053    417\n",
       "Name: l_tot, Length: 5054, dtype: int64"
      ]
     },
     "execution_count": 103,
     "metadata": {},
     "output_type": "execute_result"
    }
   ],
   "source": [
    "df_cremao_local_population['l_tot']"
   ]
  }
 ],
 "metadata": {
  "kernelspec": {
   "display_name": "oasis",
   "language": "python",
   "name": "oasis"
  },
  "language_info": {
   "codemirror_mode": {
    "name": "ipython",
    "version": 3
   },
   "file_extension": ".py",
   "mimetype": "text/x-python",
   "name": "python",
   "nbconvert_exporter": "python",
   "pygments_lexer": "ipython3",
   "version": "3.8.13"
  }
 },
 "nbformat": 4,
 "nbformat_minor": 5
}
