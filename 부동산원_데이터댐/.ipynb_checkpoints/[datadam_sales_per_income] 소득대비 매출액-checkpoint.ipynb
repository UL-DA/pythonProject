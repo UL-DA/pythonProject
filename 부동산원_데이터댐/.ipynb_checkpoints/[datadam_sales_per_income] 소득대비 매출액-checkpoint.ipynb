{
 "cells": [
  {
   "cell_type": "markdown",
   "id": "9756b025-1e1b-4ac0-9837-29b5f33a0006",
   "metadata": {},
   "source": [
    "### 최종"
   ]
  },
  {
   "cell_type": "markdown",
   "id": "014ee35f-6d05-471e-bea8-85ee51e22d4b",
   "metadata": {},
   "source": [
    "쿼리 수정중"
   ]
  },
  {
   "cell_type": "code",
   "execution_count": null,
   "id": "501d8ce9-067d-46f7-84a8-ca2b27310aa9",
   "metadata": {
    "tags": []
   },
   "outputs": [],
   "source": [
    "### 0. import\n",
    "import psycopg2\n",
    "import numpy  as np\n",
    "import pandas as pd\n",
    "from datetime import datetime\n",
    "\n",
    "# display option (float 자리수)\n",
    "pd.options.display.float_format = lambda x: f'{x:.4f}'\n",
    "\n",
    "# 기준월\n",
    "base_ym = '202209'\n",
    "\n",
    "### 1. 데이터 가져오기\n",
    "# AWS DW Connect\n",
    "aws_conn = psycopg2.connect(\n",
    "    host = 'redshift-cluster-1.ctvbwnnvbdkl.ap-northeast-2.redshift.amazonaws.com',\n",
    "    port = 5439,\n",
    "    dbname = 'dev',\n",
    "    user = 'awsuser',\n",
    "    password = 'cremaoAdmin1234qwer!!'\n",
    ")\n",
    "aws_cursor = aws_conn.cursor()\n",
    "\n",
    "# 배후지 인구 소득대비 상업용 부동산 업종별 추정 매출액\n",
    "sql = f'''\n",
    "with date as (\n",
    "\tselect {base_ym}::text as base_ym\n",
    ")\n",
    "select T1.base_ym\n",
    "\t , T1.pnu\n",
    "\t , substring(T1.pnu, 1, 8) as emd_cd\n",
    "\t , ftc_cate2_cd\n",
    "\t , round(1.0 * pred_slng_amt / (income * 1000), 2) as sales_per_income\n",
    "from (\n",
    "\tselect A.base_ym\n",
    "\t\t , A.pnu\n",
    "\t\t , sum(nvl(E.pnu_pop_cnt, 0) * nvl(E.emd_mon_income, 0) + nvl(F.pnu_pop_cnt, 0) * nvl(F.emd_mon_income, 0)) / sum(nvl(E.pnu_pop_cnt, 0) + nvl(F.pnu_pop_cnt, 0)) as income\n",
    "\tfrom (\n",
    "\t\tselect distinct base_ym, substring(bd_mgt_sn, 1, 19) as pnu \n",
    "\t\tfrom m1.kt_bldg_sales\n",
    "\t\twhere 1=1\n",
    "\t\t\tand base_ym = (select base_ym from date) -- 기준월 조건\n",
    "\t) A -- KT PNU 유니크하게 추출\n",
    "\tjoin m2.cremao_land B -- 유효 PNU 가져오기\n",
    "\t\ton A.pnu = B.pnu\n",
    "\tjoin (\n",
    "\t\tselect distinct sigungu_cd||bjdong_cd||case when plat_gb_cd = '0' then '1' else plat_gb_cd end||bun||ji as pnu\n",
    "\t\tfrom m1.bld_rgst\n",
    "\t\twhere base_ym = (select base_ym from date)\n",
    "\t) C -- 건물이 있는 PNU 가져오기\n",
    "\t\ton A.pnu = C.pnu\n",
    "\tleft join (\n",
    "\t\tselect pnu, poly\n",
    "\t\tfrom m2.cremao_land\n",
    "\t) D -- 모집단 PNU 기준 반경 100m 내 PNU 모두 가져오기\n",
    "\t\ton ST_DistanceSphere(ST_Centroid(B.poly::geometry), ST_Centroid(D.poly::geometry)) < 100\n",
    "\tleft join m2.live_pop E -- 반경 100m 거주인구 -> D의 PNU랑 조인해서 가져오기\n",
    "\t\ton D.pnu = E.pnu\n",
    "\tleft join m2.work_pop F -- 반경 100m 직장인구 -> D의 PNU랑 조인해서 가져오기\n",
    "\t\ton D.pnu = F.pnu\n",
    "\tgroup by 1, 2\n",
    ") T1 -- PNU 반경 100m 소득 계산\n",
    "left join (\n",
    "\tselect *\n",
    "\tfrom m1.kt_bldg_sales\n",
    "\twhere base_ym = (select base_ym from date)\n",
    ") T2 -- PNU 업종별 매출액\n",
    "\ton T1.pnu = substring(T2.bd_mgt_sn, 1, 19) \n",
    "'''\n",
    "aws_cursor.execute(sql)\n",
    "aws_conn.commit()\n",
    "rows = aws_cursor.fetchall()\n",
    "\n",
    "df = pd.DataFrame(rows)\n",
    "df.columns = ['base_ym','pnu','emd_cd','industry_cd','sales_per_income']\n",
    "\n",
    "# 작업일(업데이트일) 및 작업자 추가\n",
    "df['create_at'] = datetime.today().strftime(\"%Y-%m-%d\")\n",
    "df['update_at'] = datetime.today().strftime(\"%Y-%m-%d\")\n",
    "df['work_user'] = 'du.Park'"
   ]
  },
  {
   "cell_type": "code",
   "execution_count": null,
   "id": "018cb886-ef53-4f47-a102-ed326e69ab54",
   "metadata": {},
   "outputs": [],
   "source": [
    "df"
   ]
  },
  {
   "cell_type": "code",
   "execution_count": null,
   "id": "68549f66-20a8-45c8-8682-c340aee040b7",
   "metadata": {},
   "outputs": [],
   "source": [
    "df = df.drop(columns=['base_ym'])"
   ]
  },
  {
   "cell_type": "code",
   "execution_count": null,
   "id": "9d086e1c-d0dc-4759-97aa-067066716201",
   "metadata": {
    "tags": []
   },
   "outputs": [],
   "source": [
    "### 2. DB INSERT\n",
    "import datetime\n",
    "\n",
    "table = 'm2.datadam_sales_per_income'\n",
    "\n",
    "# execute_mogrify\n",
    "def execute_mogrify(conn, df, table, val):\n",
    "    # Create a list of tuples from the dataframe values\n",
    "    tuples = [tuple(x) for x in df.to_numpy()]\n",
    "    # Comma-separated dataframe columns\n",
    "    cols = ','.join(list(df.columns))\n",
    "    # SQL query to execute\n",
    "    cursor = conn.cursor()\n",
    "    values = [cursor.mogrify(val, tup).decode('utf8') for tup in\n",
    "              tuples]\n",
    "    query = \"INSERT INTO %s(%s) VALUES \" % (table, cols) + \",\".join(values)\n",
    "\n",
    "    try:\n",
    "        cursor.execute(query, tuples)\n",
    "        conn.commit()\n",
    "    except (Exception, psycopg2.DatabaseError) as error:\n",
    "        print(\"Error: %s\" % error)\n",
    "        conn.rollback()\n",
    "        cursor.close()\n",
    "        return 1\n",
    "    cursor.close()\n",
    "\n",
    "# values 설정\n",
    "val = '(' + ('%s,' * len(df.columns))[:-1] + ')'\n",
    "\n",
    "# insert\n",
    "for j in range(0, len(df), 10000):\n",
    "\n",
    "    # DB Connect\n",
    "    conn = psycopg2.connect(\n",
    "        host='redshift-cluster-1.ctvbwnnvbdkl.ap-northeast-2.redshift.amazonaws.com',\n",
    "        port=5439,\n",
    "        dbname='dev',\n",
    "        user='awsuser',\n",
    "        password='cremaoAdmin1234qwer!!'\n",
    "    )\n",
    "\n",
    "    # 10000개 단위로 나누기\n",
    "    tmp = df[j:j + 10000]\n",
    "\n",
    "    # insert\n",
    "    execute_mogrify(conn, tmp, table, val)\n",
    "    print(datetime.datetime.now(), ' : ', j)\n",
    "    tmp = pd.DataFrame()\n",
    "\n",
    "# row count\n",
    "print(len(df))"
   ]
  },
  {
   "cell_type": "code",
   "execution_count": null,
   "id": "0aa57e9a-967f-4a55-b0e3-57ba17b6c444",
   "metadata": {},
   "outputs": [],
   "source": [
    "df"
   ]
  }
 ],
 "metadata": {
  "kernelspec": {
   "display_name": "project",
   "language": "python",
   "name": "project"
  },
  "language_info": {
   "codemirror_mode": {
    "name": "ipython",
    "version": 3
   },
   "file_extension": ".py",
   "mimetype": "text/x-python",
   "name": "python",
   "nbconvert_exporter": "python",
   "pygments_lexer": "ipython3",
   "version": "3.8.13"
  }
 },
 "nbformat": 4,
 "nbformat_minor": 5
}
