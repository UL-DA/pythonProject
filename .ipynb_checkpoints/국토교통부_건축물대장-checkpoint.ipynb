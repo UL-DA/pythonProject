{
 "cells": [
  {
   "cell_type": "code",
   "execution_count": 103,
   "id": "9a41f541-6e96-40c8-b75b-48ba4c936cd9",
   "metadata": {},
   "outputs": [],
   "source": [
    "import os\n",
    "import numpy  as np\n",
    "import pandas as pd\n",
    "from tqdm import tqdm\n",
    "from datetime import datetime\n",
    "\n",
    "# 경고 처리\n",
    "import warnings\n",
    "warnings.filterwarnings('ignore')"
   ]
  },
  {
   "cell_type": "code",
   "execution_count": 41,
   "id": "1cb665be-cf95-4aca-b92d-4a9981e79f88",
   "metadata": {},
   "outputs": [],
   "source": [
    "file_name = \"C:\\\\Users\\duPar\\Downloads\\국토교통부_건축물대장_표제부+(2022년+08월)\\mart_djy_03.txt\""
   ]
  },
  {
   "cell_type": "code",
   "execution_count": null,
   "id": "9ead951f-b90b-4f8d-9e6d-dcecaadc3c40",
   "metadata": {},
   "outputs": [
    {
     "name": "stderr",
     "output_type": "stream",
     "text": [
      "  2%|█▊                                                                                                 | 95460/5153974 [32:59<68:58:02, 20.37it/s]"
     ]
    }
   ],
   "source": [
    "file_name = \"C:\\\\Users\\duPar\\Downloads\\국토교통부_건축물대장_부속지번+(2022년+08월)\\mart_djy_05.txt\"\n",
    "DF = pd.DataFrame()\n",
    "\n",
    "with open(file_name, encoding='CP949') as f:\n",
    "    # 파일 열기\n",
    "    lines = f.readlines()\n",
    "    df = pd.DataFrame(lines, columns=['부속지번'])\n",
    "    \n",
    "    # 데이터프레임화\n",
    "    for i in tqdm(df.index):\n",
    "        df_sub = pd.DataFrame(df.loc[i]['부속지번'].split('|')).T\n",
    "        DF = DF.append(df_sub)"
   ]
  },
  {
   "cell_type": "code",
   "execution_count": null,
   "id": "fe3cc02d-000f-43bb-a7c1-2826640901ab",
   "metadata": {},
   "outputs": [],
   "source": [
    "DF"
   ]
  },
  {
   "cell_type": "code",
   "execution_count": 76,
   "id": "94dc40e9-247b-4448-8534-048f4386bee7",
   "metadata": {},
   "outputs": [
    {
     "data": {
      "text/html": [
       "<div>\n",
       "<style scoped>\n",
       "    .dataframe tbody tr th:only-of-type {\n",
       "        vertical-align: middle;\n",
       "    }\n",
       "\n",
       "    .dataframe tbody tr th {\n",
       "        vertical-align: top;\n",
       "    }\n",
       "\n",
       "    .dataframe thead th {\n",
       "        text-align: right;\n",
       "    }\n",
       "</style>\n",
       "<table border=\"1\" class=\"dataframe\">\n",
       "  <thead>\n",
       "    <tr style=\"text-align: right;\">\n",
       "      <th></th>\n",
       "      <th>부속지번</th>\n",
       "    </tr>\n",
       "  </thead>\n",
       "  <tbody>\n",
       "    <tr>\n",
       "      <th>3459273</th>\n",
       "      <td>11140-5109|2|집합|3|표제부|서울특별시 중구 명동1가 59-5번지| 서울...</td>\n",
       "    </tr>\n",
       "    <tr>\n",
       "      <th>3459274</th>\n",
       "      <td>11140-5109|2|집합|3|표제부|서울특별시 중구 명동1가 59-5번지| 서울...</td>\n",
       "    </tr>\n",
       "    <tr>\n",
       "      <th>3459275</th>\n",
       "      <td>11140-5109|2|집합|3|표제부|서울특별시 중구 명동1가 59-5번지| 서울...</td>\n",
       "    </tr>\n",
       "    <tr>\n",
       "      <th>3459276</th>\n",
       "      <td>11140-5109|2|집합|3|표제부|서울특별시 중구 명동1가 59-5번지| 서울...</td>\n",
       "    </tr>\n",
       "    <tr>\n",
       "      <th>3459277</th>\n",
       "      <td>11140-5109|2|집합|3|표제부|서울특별시 중구 명동1가 59-5번지| 서울...</td>\n",
       "    </tr>\n",
       "    <tr>\n",
       "      <th>3459278</th>\n",
       "      <td>11140-5109|2|집합|3|표제부|서울특별시 중구 명동1가 59-5번지| 서울...</td>\n",
       "    </tr>\n",
       "    <tr>\n",
       "      <th>3459279</th>\n",
       "      <td>11140-5109|2|집합|3|표제부|서울특별시 중구 명동1가 59-5번지| 서울...</td>\n",
       "    </tr>\n",
       "    <tr>\n",
       "      <th>3459280</th>\n",
       "      <td>11140-5109|2|집합|3|표제부|서울특별시 중구 명동1가 59-5번지| 서울...</td>\n",
       "    </tr>\n",
       "  </tbody>\n",
       "</table>\n",
       "</div>"
      ],
      "text/plain": [
       "                                                      부속지번\n",
       "3459273  11140-5109|2|집합|3|표제부|서울특별시 중구 명동1가 59-5번지| 서울...\n",
       "3459274  11140-5109|2|집합|3|표제부|서울특별시 중구 명동1가 59-5번지| 서울...\n",
       "3459275  11140-5109|2|집합|3|표제부|서울특별시 중구 명동1가 59-5번지| 서울...\n",
       "3459276  11140-5109|2|집합|3|표제부|서울특별시 중구 명동1가 59-5번지| 서울...\n",
       "3459277  11140-5109|2|집합|3|표제부|서울특별시 중구 명동1가 59-5번지| 서울...\n",
       "3459278  11140-5109|2|집합|3|표제부|서울특별시 중구 명동1가 59-5번지| 서울...\n",
       "3459279  11140-5109|2|집합|3|표제부|서울특별시 중구 명동1가 59-5번지| 서울...\n",
       "3459280  11140-5109|2|집합|3|표제부|서울특별시 중구 명동1가 59-5번지| 서울..."
      ]
     },
     "execution_count": 76,
     "metadata": {},
     "output_type": "execute_result"
    }
   ],
   "source": [
    "# 0, 337415, 3084786\n",
    "df[df['부속지번'].str.contains('남대문로 78')]"
   ]
  }
 ],
 "metadata": {
  "kernelspec": {
   "display_name": "oasis",
   "language": "python",
   "name": "oasis"
  },
  "language_info": {
   "codemirror_mode": {
    "name": "ipython",
    "version": 3
   },
   "file_extension": ".py",
   "mimetype": "text/x-python",
   "name": "python",
   "nbconvert_exporter": "python",
   "pygments_lexer": "ipython3",
   "version": "3.8.13"
  }
 },
 "nbformat": 4,
 "nbformat_minor": 5
}
