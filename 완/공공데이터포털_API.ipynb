{
 "cells": [
  {
   "cell_type": "code",
   "execution_count": 1,
   "id": "445be1ce-63eb-4de2-8264-66a974b0ac1b",
   "metadata": {},
   "outputs": [],
   "source": [
    "# 데이터 프레임 관련\n",
    "import pandas as pd\n",
    "\n",
    "# API 호출 관련\n",
    "import requests\n",
    "import pprint\n",
    "import json\n",
    "\n",
    "# 기타\n",
    "pd.set_option('display.width',1000)"
   ]
  },
  {
   "cell_type": "code",
   "execution_count": 109,
   "id": "2d80da65-f22d-4f6e-87cc-bc490d9728e9",
   "metadata": {
    "tags": []
   },
   "outputs": [],
   "source": [
    "DF = pd.read_csv('./oasis1.csv')"
   ]
  },
  {
   "cell_type": "code",
   "execution_count": 110,
   "id": "08ff590c-ffbb-4b2e-bfb4-b6a1225d3091",
   "metadata": {},
   "outputs": [
    {
     "name": "stdout",
     "output_type": "stream",
     "text": [
      "<class 'pandas.core.frame.DataFrame'>\n",
      "RangeIndex: 1000 entries, 0 to 999\n",
      "Data columns (total 5 columns):\n",
      " #   Column        Non-Null Count  Dtype \n",
      "---  ------        --------------  ----- \n",
      " 0   Unnamed: 0    1000 non-null   int64 \n",
      " 1   bd_mgt_sn     1000 non-null   object\n",
      " 2   ref_bnm       1000 non-null   object\n",
      " 3   is_franchise  1000 non-null   int64 \n",
      " 4   first_date    1000 non-null   object\n",
      "dtypes: int64(2), object(3)\n",
      "memory usage: 39.2+ KB\n"
     ]
    }
   ],
   "source": [
    "DF.info()"
   ]
  },
  {
   "cell_type": "markdown",
   "id": "27ecc34b-d78c-4ea8-b21d-0f42167de1c4",
   "metadata": {
    "tags": []
   },
   "source": [
    "### 국토교통부_상업업무용 부동산 매매 신고 자료"
   ]
  },
  {
   "cell_type": "markdown",
   "id": "9da7922d-a519-41c1-93ae-bde9986d3f8e",
   "metadata": {
    "tags": []
   },
   "source": [
    "과거 데이터 수집"
   ]
  },
  {
   "cell_type": "code",
   "execution_count": null,
   "id": "a556aead-2028-4be4-9f62-566edc25ba27",
   "metadata": {},
   "outputs": [],
   "source": []
  },
  {
   "cell_type": "markdown",
   "id": "ff9f4804-c8c7-495c-86db-3c93c35a997f",
   "metadata": {},
   "source": [
    "현재 데이터 수집"
   ]
  },
  {
   "cell_type": "code",
   "execution_count": null,
   "id": "34dfe779-da31-4950-ae6d-a2ccba394152",
   "metadata": {},
   "outputs": [],
   "source": []
  },
  {
   "cell_type": "markdown",
   "id": "19eac26d-56c6-4659-bb71-405d25eaf745",
   "metadata": {
    "tags": []
   },
   "source": [
    "### 상업용부동산 임대동향 조사 통계 조회 서비스"
   ]
  },
  {
   "cell_type": "markdown",
   "id": "ef0ff6ba-4691-4a54-8034-d98d908e9349",
   "metadata": {},
   "source": [
    "1. 지역별 전환율"
   ]
  },
  {
   "cell_type": "code",
   "execution_count": null,
   "id": "df62b991-c8ac-433d-8248-07b13bf09d2b",
   "metadata": {},
   "outputs": [],
   "source": []
  },
  {
   "cell_type": "markdown",
   "id": "0829008f-9619-4743-a4e7-20a56ff2e211",
   "metadata": {},
   "source": [
    "2. 지역별 임대가격지수"
   ]
  },
  {
   "cell_type": "code",
   "execution_count": null,
   "id": "7aadb200-c2fa-4d29-8d81-7bbe11ce1bad",
   "metadata": {},
   "outputs": [],
   "source": []
  },
  {
   "cell_type": "markdown",
   "id": "5d389249-e4ad-41d6-83e5-69dcf0cef7c9",
   "metadata": {},
   "source": [
    "3. 지역별 분기 소득수익률"
   ]
  },
  {
   "cell_type": "code",
   "execution_count": null,
   "id": "5f266808-b322-4eee-8628-5d5ddb2ef6d6",
   "metadata": {},
   "outputs": [],
   "source": []
  },
  {
   "cell_type": "markdown",
   "id": "2c5e559c-c9c0-4f93-be64-30543ac14cea",
   "metadata": {},
   "source": [
    "4. 지역별 분기 자본수익률"
   ]
  },
  {
   "cell_type": "code",
   "execution_count": null,
   "id": "e2b6d2e8-3c8c-47e3-994e-86e9f48d7580",
   "metadata": {},
   "outputs": [],
   "source": []
  },
  {
   "cell_type": "markdown",
   "id": "1de3ed8b-ba15-4f42-8163-a6abab2a8650",
   "metadata": {},
   "source": [
    "5. 지역별 분기 투자수익률"
   ]
  },
  {
   "cell_type": "code",
   "execution_count": null,
   "id": "a9955e2d-5b0b-4418-ad7e-c1c4c10d9ced",
   "metadata": {},
   "outputs": [],
   "source": []
  },
  {
   "cell_type": "markdown",
   "id": "9b01bc4a-a5fc-4721-9f05-8cbbbf4b5fc6",
   "metadata": {},
   "source": [
    "6. 지역별 유효조소득 중 기타수입 구성비"
   ]
  },
  {
   "cell_type": "code",
   "execution_count": null,
   "id": "3be9fe19-5973-4f27-af1d-a9bcda2b9b36",
   "metadata": {},
   "outputs": [],
   "source": []
  },
  {
   "cell_type": "markdown",
   "id": "6c251781-6254-4889-9898-096f1b2630ba",
   "metadata": {},
   "source": [
    "7. 순영업 소득"
   ]
  },
  {
   "cell_type": "code",
   "execution_count": null,
   "id": "08981ccb-6197-43e5-9781-5cb18f3e3872",
   "metadata": {},
   "outputs": [],
   "source": []
  },
  {
   "cell_type": "markdown",
   "id": "48ec421e-a381-4943-a451-882a3d869f89",
   "metadata": {},
   "source": [
    "8. 지역별 영업경비 구성비"
   ]
  },
  {
   "cell_type": "code",
   "execution_count": null,
   "id": "f96f6e58-ccc2-4774-82d5-036ce3cc059c",
   "metadata": {},
   "outputs": [],
   "source": []
  },
  {
   "cell_type": "markdown",
   "id": "a07c818d-4cbc-4600-a5e9-024f462919d4",
   "metadata": {},
   "source": [
    "9. 지역별 유효조소득 중 임대수입 구성비"
   ]
  },
  {
   "cell_type": "code",
   "execution_count": null,
   "id": "0581c906-aa8d-408d-a545-ba6990d992a7",
   "metadata": {},
   "outputs": [],
   "source": []
  },
  {
   "cell_type": "markdown",
   "id": "28edf6b3-66d6-4002-bb2a-90231b82f08b",
   "metadata": {},
   "source": [
    "10. 지역별 임대료"
   ]
  },
  {
   "cell_type": "code",
   "execution_count": null,
   "id": "ec16a84d-9d6e-43bf-a482-b421f009a5d7",
   "metadata": {},
   "outputs": [],
   "source": []
  },
  {
   "cell_type": "markdown",
   "id": "b8185cf6-5bf3-4aa4-bfa0-b87676bb4894",
   "metadata": {},
   "source": [
    "11. 층별 임대료"
   ]
  },
  {
   "cell_type": "code",
   "execution_count": null,
   "id": "acd13ee7-460b-4387-ac51-2935abd71434",
   "metadata": {},
   "outputs": [],
   "source": []
  },
  {
   "cell_type": "markdown",
   "id": "be16a3fc-cfbb-41f1-ad58-54894c9974c7",
   "metadata": {},
   "source": [
    "12. 층별 효용비용"
   ]
  },
  {
   "cell_type": "code",
   "execution_count": null,
   "id": "be4d6093-ff64-4b07-ad39-f9fd0f1626d6",
   "metadata": {},
   "outputs": [],
   "source": []
  },
  {
   "cell_type": "markdown",
   "id": "c05927d5-08f3-462d-94fb-5532aa2bf1f5",
   "metadata": {},
   "source": [
    "13. 지역별 공실률"
   ]
  },
  {
   "cell_type": "code",
   "execution_count": null,
   "id": "fb982d2f-230e-42d9-a21c-84561737e4b6",
   "metadata": {},
   "outputs": [],
   "source": []
  },
  {
   "cell_type": "markdown",
   "id": "99a00562-db5f-4a83-b284-8e71393959eb",
   "metadata": {},
   "source": [
    "14. 지역별 연간 소득수익률"
   ]
  },
  {
   "cell_type": "code",
   "execution_count": null,
   "id": "a7dd94d5-4cb6-48ea-9776-37a587169af1",
   "metadata": {},
   "outputs": [],
   "source": []
  },
  {
   "cell_type": "markdown",
   "id": "f76e6d13-1e2d-4908-b7f9-86a5d077578c",
   "metadata": {},
   "source": [
    "15. 지역별 연간 자본수익률"
   ]
  },
  {
   "cell_type": "code",
   "execution_count": null,
   "id": "b2b6925a-e1c1-4cc9-ae47-288707670fe1",
   "metadata": {},
   "outputs": [],
   "source": []
  },
  {
   "cell_type": "markdown",
   "id": "8a686bbe-bf79-4335-af25-f06a31891ead",
   "metadata": {},
   "source": [
    "16. 지역별 연간 투자수익률"
   ]
  },
  {
   "cell_type": "code",
   "execution_count": null,
   "id": "aba7add5-3016-4fa4-add2-868da771d6fb",
   "metadata": {},
   "outputs": [],
   "source": []
  }
 ],
 "metadata": {
  "kernelspec": {
   "display_name": "oasis",
   "language": "python",
   "name": "oasis"
  },
  "language_info": {
   "codemirror_mode": {
    "name": "ipython",
    "version": 3
   },
   "file_extension": ".py",
   "mimetype": "text/x-python",
   "name": "python",
   "nbconvert_exporter": "python",
   "pygments_lexer": "ipython3",
   "version": "3.8.13"
  }
 },
 "nbformat": 4,
 "nbformat_minor": 5
}
