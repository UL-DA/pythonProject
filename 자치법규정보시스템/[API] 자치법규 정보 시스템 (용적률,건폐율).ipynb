{
 "cells": [
  {
   "cell_type": "code",
   "execution_count": 1,
   "id": "6080318b-b5b8-4fa0-8e01-692e886739c4",
   "metadata": {},
   "outputs": [],
   "source": [
    "# 데이터 프레임 관련 임포트\n",
    "import numpy  as np\n",
    "import pandas as pd\n",
    "\n",
    "# 웹 관련 임포트\n",
    "import urllib\n",
    "import requests\n",
    "from selenium import webdriver # version_3.14.1\n",
    "from selenium.webdriver.common.keys import Keys\n",
    "from selenium.webdriver.support.select import Select\n",
    "\n",
    "# 기타\n",
    "import time\n",
    "from tqdm import tqdm\n",
    "import matplotlib.pyplot as plt\n",
    "plt.rc('font', family='Malgun Gothic')"
   ]
  },
  {
   "cell_type": "markdown",
   "id": "bd5575a7-f31b-4427-8a1e-8430cdb57d07",
   "metadata": {},
   "source": [
    "### 최종"
   ]
  },
  {
   "cell_type": "code",
   "execution_count": 3,
   "id": "0e538069-2ecc-4200-b3b6-93f1f8e2bc78",
   "metadata": {},
   "outputs": [],
   "source": [
    "driver = webdriver.Chrome('./driver_m1/chromedriver')\n",
    "driver.get('https://www.elis.go.kr/allalr/allAlrList')\n",
    "driver.maximize_window()"
   ]
  },
  {
   "cell_type": "code",
   "execution_count": 38,
   "id": "f05ea96a-ac84-4040-aa84-46e8585b90aa",
   "metadata": {},
   "outputs": [],
   "source": [
    "driver.close()"
   ]
  },
  {
   "cell_type": "code",
   "execution_count": 4,
   "id": "00e77e10-f62a-4ada-bf51-91a227285dba",
   "metadata": {},
   "outputs": [],
   "source": [
    "# 시도 선택\n",
    "element = driver.find_element_by_id('ctpvCd')\n",
    "element.send_keys('서울')\n",
    "time.sleep(1)\n",
    "\n",
    "# 시군구 > 본청 선택\n",
    "element = driver.find_element_by_id('sggCd')\n",
    "element.send_keys('본청')\n",
    "time.sleep(1)\n",
    "\n",
    "# 법규구분 > 조례 선택\n",
    "button = driver.find_element_by_id('chk02')\n",
    "driver.execute_script('arguments[0].click();', button)\n",
    "time.sleep(1)\n",
    "\n",
    "# 검색어 입력\n",
    "searchByName = driver.find_element_by_xpath('//*[@id=\"edtSrchKwd\"]')\n",
    "searchByName.clear()\n",
    "searchByName.send_keys('도시계획 조례')\n",
    "search_click = driver.find_element_by_xpath('//*[@id=\"btnSrch\"]').click()\n",
    "\n",
    "# 도시계획 조례 클릭\n",
    "driver.find_element_by_xpath('//*[@id=\"srchForm\"]/div[2]/div/div[4]/table/tbody/tr[1]/td[2]/a').click()"
   ]
  },
  {
   "cell_type": "code",
   "execution_count": 23,
   "id": "3672dbb7-e4f7-4156-8769-13ae45d203be",
   "metadata": {
    "tags": []
   },
   "outputs": [],
   "source": [
    "### 0. 임포트\n",
    "# 데이터 프레임 관련 임포트\n",
    "import numpy  as np\n",
    "import pandas as pd\n",
    "\n",
    "# 웹 관련 임포트\n",
    "import urllib\n",
    "import requests\n",
    "from selenium import webdriver # version_3.14.1\n",
    "from selenium.webdriver.common.keys import Keys\n",
    "from selenium.webdriver.support.select import Select\n",
    "\n",
    "# 기타\n",
    "import time\n",
    "from tqdm import tqdm\n",
    "import matplotlib.pyplot as plt\n",
    "plt.rc('font', family='Malgun Gothic')\n",
    "\n",
    "### 1. 필요한 정보 추출\n",
    "# 1-1. 시도 정보 추출\n",
    "def getSido():\n",
    "    global sido_names\n",
    "    sido_list_selectbox = driver.find_element_by_xpath('//*[@id=\"ctpvCd\"]') # 셀렉트 박스 선택\n",
    "    sido_list = sido_list_selectbox.find_elements_by_tag_name('option') # 셀렉트 박스 안에 있는 옵션 선택\n",
    "    sido_names = [sido.text for sido in sido_list] # 시도명 리스트에 담기\n",
    "    sido_names = sido_names[1:-1]\n",
    "\n",
    "# 1-2. 선택 지역의 시군구 정보 추출\n",
    "def getSigungu(sido):\n",
    "    global sigungu_names\n",
    "    sigungu_names = []\n",
    "\n",
    "    # 시도 선택\n",
    "    element = driver.find_element_by_id('ctpvCd')\n",
    "    element.send_keys(sido)\n",
    "    time.sleep(1)\n",
    "\n",
    "    # 각 시도의 시군구 정보 추출\n",
    "    sigungu_list_selectbox = driver.find_element_by_xpath('//*[@id=\"sggCd\"]') # 셀렉트 박스 선택\n",
    "    sigungu_list = sigungu_list_selectbox.find_elements_by_tag_name('option') # 셀렉트 박스 안에 있는 옵션 선택\n",
    "    time.sleep(1)\n",
    "    sigungu_name = [sigungu.text for sigungu in sigungu_list] # 시군구명 리스트에 담기\n",
    "    sigungu_names.extend(sigungu_name)\n",
    "    sigungu_names = sigungu_names[2:]\n",
    "\n",
    "# 1-3. id값 으로 버튼 클릭\n",
    "def clickChecktBox():\n",
    "    global checked\n",
    "    checked = []\n",
    "    num = 0\n",
    "    driver.switch_to_window(driver.window_handles[1])\n",
    "    time.sleep(1)\n",
    "    \n",
    "    while True:\n",
    "        try:\n",
    "            # 조 목록 가져오기\n",
    "            num += 1\n",
    "            jo = driver.find_element_by_xpath(f'/html/body/div/div/div/div[2]/div[2]/div[2]/div/span[{num}]').text\n",
    "            time.sleep(1)\n",
    "\n",
    "            # 조 목록에 용적률, 건폐율이 포함된 조항만 체크박스 선택\n",
    "            if '용도지역' in jo and '용적률' in jo:\n",
    "                joid = driver.find_element_by_xpath(f'/html/body/div/div/div/div[2]/div[2]/div[2]/div/span[{num}]/label').get_attribute('for') # 해당 조항의 id값 가져오기\n",
    "                button = driver.find_element_by_id(joid) # id값 선택\n",
    "                driver.execute_script('arguments[0].click();', button) # 체크박스 클릭\n",
    "                checked.append(joid)\n",
    "                time.sleep(1)\n",
    "            elif '용도지역' in jo and '건폐율' in jo:\n",
    "                joid = driver.find_element_by_xpath(f'/html/body/div/div/div/div[2]/div[2]/div[2]/div/span[{num}]/label').get_attribute('for') # 해당 조항의 id값 가져오기\n",
    "                button = driver.find_element_by_id(joid) # id값 선택\n",
    "                driver.execute_script('arguments[0].click();', button) # 체크박스 클릭\n",
    "                checked.append(joid)\n",
    "                time.sleep(1)\n",
    "            else:\n",
    "                pass\n",
    "        except:\n",
    "            break\n",
    "\n",
    "# 1-4. 용적률, 건폐율 파일 다운로드\n",
    "def downloadFile():\n",
    "    if len(checked) > 0:\n",
    "        # txt 저장\n",
    "        driver.find_element_by_xpath('/html/body/div/div/div/div[1]/a[1]').click()\n",
    "        time.sleep(4)\n",
    "\n",
    "        # 창 닫기, 검색 창으로 전환\n",
    "        driver.close()\n",
    "        driver.switch_to_window(driver.window_handles[0])\n",
    "        driver.back()\n",
    "    else:\n",
    "        # 창 닫기, 검색 창으로 전환\n",
    "        driver.close()\n",
    "        driver.switch_to_window(driver.window_handles[0])\n",
    "        driver.back()\n",
    "\n",
    "### 2. txt 다운로드\n",
    "# 2-1. 도시계획 조례 txt 다운로드 (전지역)\n",
    "def getTxt(sido):\n",
    "    sido = sido\n",
    "    # 시도 선택\n",
    "    element = driver.find_element_by_id('ctpvCd')\n",
    "    element.send_keys(sido)\n",
    "    time.sleep(1)\n",
    "    \n",
    "    # 시군구 > 본청 선택\n",
    "    element = driver.find_element_by_id('sggCd')\n",
    "    element.send_keys('본청')\n",
    "\n",
    "    # 법규구분 > 조례 선택\n",
    "    button = driver.find_element_by_id('chk02') # 조례 선택\n",
    "    driver.execute_script('arguments[0].click();', button) # 클릭\n",
    "    time.sleep(1)\n",
    "\n",
    "    # 검색어 입력\n",
    "    searchByName = driver.find_element_by_xpath('//*[@id=\"edtSrchKwd\"]')\n",
    "    time.sleep(1)\n",
    "    searchByName.clear()\n",
    "    searchByName.send_keys('도시계획 조례')\n",
    "    search_click = driver.find_element_by_xpath('//*[@id=\"btnSrch\"]').click()\n",
    "    \n",
    "    # 도시계획 조례 클릭\n",
    "    driver.find_element_by_xpath('//*[@id=\"srchForm\"]/div[2]/div/div[4]/table/tbody/tr[1]/td[2]/a').click()\n",
    "    time.sleep(1)\n",
    "\n",
    "    # txt 저장 버튼 클릭\n",
    "    driver.find_element_by_xpath('//*[@id=\"btnSave\"]').click()\n",
    "    time.sleep(2)\n",
    "    driver.switch_to_window(driver.window_handles[1]) # 새창 전환\n",
    "    driver.find_element_by_xpath('/html/body/div/div/div/div[2]/div[1]/div/span/label').click() # 전체선택 해제\n",
    "    driver.find_element_by_xpath('/html/body/div/div/div/div[2]/div[2]/div[1]/span/label').click() # 전체선택 해제\n",
    "    driver.find_element_by_xpath('/html/body/div/div/div/div[2]/div[3]/div/span/label').click() # 부칙선택 해제\n",
    "\n",
    "    # 목록 이름에 용적률, 건폐율이 포함된 조항만 선택\n",
    "    clickChecktBox()\n",
    "    \n",
    "    # 파일 다운로드\n",
    "    downloadFile()\n",
    "    \n",
    "    # 각 시군구 파일 다운로드\n",
    "    if len(checked) == 0:\n",
    "        getTxtSep(sido)\n",
    "    else:\n",
    "        pass\n",
    "\n",
    "# 2-2. 도시계획 조례 txt 다운로드 (각 시군구 별)\n",
    "def getTxtSep(sido):\n",
    "    getSigungu(sido)\n",
    "    for i in sigungu_names:\n",
    "        # 시군구 > 시군구 선택\n",
    "        element = driver.find_element_by_id('sggCd')\n",
    "        element.send_keys(i)\n",
    "        time.sleep(1)\n",
    "\n",
    "        # 법규구분 > 조례 선택\n",
    "        button = driver.find_element_by_id('chk02')\n",
    "        driver.execute_script('arguments[0].click();', button)\n",
    "        time.sleep(1)\n",
    "\n",
    "        # 검색어 입력\n",
    "        searchByName = driver.find_element_by_xpath('//*[@id=\"edtSrchKwd\"]')\n",
    "        time.sleep(1)\n",
    "        searchByName.clear()\n",
    "        searchByName.send_keys('도시계획 조례')\n",
    "        search_click = driver.find_element_by_xpath('//*[@id=\"btnSrch\"]').click()\n",
    "\n",
    "        # 도시계획 조례 클릭\n",
    "        try:\n",
    "            driver.find_element_by_xpath('//*[@id=\"srchForm\"]/div[2]/div/div[4]/table/tbody/tr[1]/td[2]/a').click()\n",
    "            time.sleep(1)\n",
    "\n",
    "            # txt 저장 버튼 클릭\n",
    "            driver.find_element_by_xpath('//*[@id=\"btnSave\"]').click()\n",
    "            time.sleep(2)\n",
    "            driver.switch_to_window(driver.window_handles[1]) # 새창 전환\n",
    "            driver.find_element_by_xpath('/html/body/div/div/div/div[2]/div[1]/div/span/label').click() # 전체선택 해제\n",
    "            driver.find_element_by_xpath('/html/body/div/div/div/div[2]/div[2]/div[1]/span/label').click() # 전체선택 해제\n",
    "            driver.find_element_by_xpath('/html/body/div/div/div/div[2]/div[3]/div/span/label').click() # 부칙선택 해제\n",
    "\n",
    "            # 목록 이름에 용적률, 건폐율이 포함된 조항만 선택\n",
    "            clickChecktBox()\n",
    "\n",
    "            # 파일 다운로드\n",
    "            downloadFile()\n",
    "        except:\n",
    "            pass"
   ]
  },
  {
   "cell_type": "code",
   "execution_count": 30,
   "id": "678ad17e-0b87-4345-a3d4-29de067a330c",
   "metadata": {
    "collapsed": true,
    "jupyter": {
     "outputs_hidden": true
    },
    "tags": []
   },
   "outputs": [
    {
     "name": "stderr",
     "output_type": "stream",
     "text": [
      "  0%|                                                     | 0/2 [00:04<?, ?it/s]\n"
     ]
    },
    {
     "ename": "ElementNotInteractableException",
     "evalue": "Message: element not interactable\n  (Session info: chrome=105.0.5195.102)\n",
     "output_type": "error",
     "traceback": [
      "\u001b[0;31m---------------------------------------------------------------------------\u001b[0m",
      "\u001b[0;31mElementNotInteractableException\u001b[0m           Traceback (most recent call last)",
      "Input \u001b[0;32mIn [31]\u001b[0m, in \u001b[0;36m<cell line: 6>\u001b[0;34m()\u001b[0m\n\u001b[1;32m      4\u001b[0m getSido()\n\u001b[1;32m      6\u001b[0m \u001b[38;5;28;01mfor\u001b[39;00m sido \u001b[38;5;129;01min\u001b[39;00m tqdm(sido_names[:\u001b[38;5;241m2\u001b[39m]):\n\u001b[0;32m----> 7\u001b[0m     \u001b[43mgetTxtAll\u001b[49m\u001b[43m(\u001b[49m\u001b[43msido\u001b[49m\u001b[43m)\u001b[49m\n\u001b[1;32m      9\u001b[0m driver\u001b[38;5;241m.\u001b[39mclose()\n",
      "Input \u001b[0;32mIn [28]\u001b[0m, in \u001b[0;36mgetTxtAll\u001b[0;34m(sido)\u001b[0m\n\u001b[1;32m    113\u001b[0m searchByName \u001b[38;5;241m=\u001b[39m driver\u001b[38;5;241m.\u001b[39mfind_element_by_xpath(\u001b[38;5;124m'\u001b[39m\u001b[38;5;124m//*[@id=\u001b[39m\u001b[38;5;124m\"\u001b[39m\u001b[38;5;124medtSrchKwd\u001b[39m\u001b[38;5;124m\"\u001b[39m\u001b[38;5;124m]\u001b[39m\u001b[38;5;124m'\u001b[39m)\n\u001b[1;32m    114\u001b[0m time\u001b[38;5;241m.\u001b[39msleep(\u001b[38;5;241m1\u001b[39m)\n\u001b[0;32m--> 115\u001b[0m \u001b[43msearchByName\u001b[49m\u001b[38;5;241;43m.\u001b[39;49m\u001b[43mclear\u001b[49m\u001b[43m(\u001b[49m\u001b[43m)\u001b[49m\n\u001b[1;32m    116\u001b[0m searchByName\u001b[38;5;241m.\u001b[39msend_keys(\u001b[38;5;124m'\u001b[39m\u001b[38;5;124m도시계획 조례\u001b[39m\u001b[38;5;124m'\u001b[39m)\n\u001b[1;32m    117\u001b[0m search_click \u001b[38;5;241m=\u001b[39m driver\u001b[38;5;241m.\u001b[39mfind_element_by_xpath(\u001b[38;5;124m'\u001b[39m\u001b[38;5;124m//*[@id=\u001b[39m\u001b[38;5;124m\"\u001b[39m\u001b[38;5;124mbtnSrch\u001b[39m\u001b[38;5;124m\"\u001b[39m\u001b[38;5;124m]\u001b[39m\u001b[38;5;124m'\u001b[39m)\u001b[38;5;241m.\u001b[39mclick()\n",
      "File \u001b[0;32m~/miniforge3/envs/project/lib/python3.8/site-packages/selenium/webdriver/remote/webelement.py:95\u001b[0m, in \u001b[0;36mWebElement.clear\u001b[0;34m(self)\u001b[0m\n\u001b[1;32m     93\u001b[0m \u001b[38;5;28;01mdef\u001b[39;00m \u001b[38;5;21mclear\u001b[39m(\u001b[38;5;28mself\u001b[39m):\n\u001b[1;32m     94\u001b[0m     \u001b[38;5;124;03m\"\"\"Clears the text if it's a text entry element.\"\"\"\u001b[39;00m\n\u001b[0;32m---> 95\u001b[0m     \u001b[38;5;28;43mself\u001b[39;49m\u001b[38;5;241;43m.\u001b[39;49m\u001b[43m_execute\u001b[49m\u001b[43m(\u001b[49m\u001b[43mCommand\u001b[49m\u001b[38;5;241;43m.\u001b[39;49m\u001b[43mCLEAR_ELEMENT\u001b[49m\u001b[43m)\u001b[49m\n",
      "File \u001b[0;32m~/miniforge3/envs/project/lib/python3.8/site-packages/selenium/webdriver/remote/webelement.py:633\u001b[0m, in \u001b[0;36mWebElement._execute\u001b[0;34m(self, command, params)\u001b[0m\n\u001b[1;32m    631\u001b[0m     params \u001b[38;5;241m=\u001b[39m {}\n\u001b[1;32m    632\u001b[0m params[\u001b[38;5;124m'\u001b[39m\u001b[38;5;124mid\u001b[39m\u001b[38;5;124m'\u001b[39m] \u001b[38;5;241m=\u001b[39m \u001b[38;5;28mself\u001b[39m\u001b[38;5;241m.\u001b[39m_id\n\u001b[0;32m--> 633\u001b[0m \u001b[38;5;28;01mreturn\u001b[39;00m \u001b[38;5;28;43mself\u001b[39;49m\u001b[38;5;241;43m.\u001b[39;49m\u001b[43m_parent\u001b[49m\u001b[38;5;241;43m.\u001b[39;49m\u001b[43mexecute\u001b[49m\u001b[43m(\u001b[49m\u001b[43mcommand\u001b[49m\u001b[43m,\u001b[49m\u001b[43m \u001b[49m\u001b[43mparams\u001b[49m\u001b[43m)\u001b[49m\n",
      "File \u001b[0;32m~/miniforge3/envs/project/lib/python3.8/site-packages/selenium/webdriver/remote/webdriver.py:321\u001b[0m, in \u001b[0;36mWebDriver.execute\u001b[0;34m(self, driver_command, params)\u001b[0m\n\u001b[1;32m    319\u001b[0m response \u001b[38;5;241m=\u001b[39m \u001b[38;5;28mself\u001b[39m\u001b[38;5;241m.\u001b[39mcommand_executor\u001b[38;5;241m.\u001b[39mexecute(driver_command, params)\n\u001b[1;32m    320\u001b[0m \u001b[38;5;28;01mif\u001b[39;00m response:\n\u001b[0;32m--> 321\u001b[0m     \u001b[38;5;28;43mself\u001b[39;49m\u001b[38;5;241;43m.\u001b[39;49m\u001b[43merror_handler\u001b[49m\u001b[38;5;241;43m.\u001b[39;49m\u001b[43mcheck_response\u001b[49m\u001b[43m(\u001b[49m\u001b[43mresponse\u001b[49m\u001b[43m)\u001b[49m\n\u001b[1;32m    322\u001b[0m     response[\u001b[38;5;124m'\u001b[39m\u001b[38;5;124mvalue\u001b[39m\u001b[38;5;124m'\u001b[39m] \u001b[38;5;241m=\u001b[39m \u001b[38;5;28mself\u001b[39m\u001b[38;5;241m.\u001b[39m_unwrap_value(\n\u001b[1;32m    323\u001b[0m         response\u001b[38;5;241m.\u001b[39mget(\u001b[38;5;124m'\u001b[39m\u001b[38;5;124mvalue\u001b[39m\u001b[38;5;124m'\u001b[39m, \u001b[38;5;28;01mNone\u001b[39;00m))\n\u001b[1;32m    324\u001b[0m     \u001b[38;5;28;01mreturn\u001b[39;00m response\n",
      "File \u001b[0;32m~/miniforge3/envs/project/lib/python3.8/site-packages/selenium/webdriver/remote/errorhandler.py:242\u001b[0m, in \u001b[0;36mErrorHandler.check_response\u001b[0;34m(self, response)\u001b[0m\n\u001b[1;32m    240\u001b[0m         alert_text \u001b[38;5;241m=\u001b[39m value[\u001b[38;5;124m'\u001b[39m\u001b[38;5;124malert\u001b[39m\u001b[38;5;124m'\u001b[39m]\u001b[38;5;241m.\u001b[39mget(\u001b[38;5;124m'\u001b[39m\u001b[38;5;124mtext\u001b[39m\u001b[38;5;124m'\u001b[39m)\n\u001b[1;32m    241\u001b[0m     \u001b[38;5;28;01mraise\u001b[39;00m exception_class(message, screen, stacktrace, alert_text)\n\u001b[0;32m--> 242\u001b[0m \u001b[38;5;28;01mraise\u001b[39;00m exception_class(message, screen, stacktrace)\n",
      "\u001b[0;31mElementNotInteractableException\u001b[0m: Message: element not interactable\n  (Session info: chrome=105.0.5195.102)\n"
     ]
    }
   ],
   "source": [
    "### 4. 전 지역 도시계획 조례 txt 다운로드 실행\n",
    "driver = webdriver.Chrome('./driver/chromedriver.exe')\n",
    "driver.get('https://www.elis.go.kr/allalr/allAlrList')\n",
    "driver.maximize_window()\n",
    "getSido()\n",
    "\n",
    "for sido in tqdm(sido_names):\n",
    "    getTxt(sido)\n",
    "\n",
    "driver.close()"
   ]
  },
  {
   "cell_type": "code",
   "execution_count": 24,
   "id": "470cddae-17f1-48b0-b544-85ab6670f196",
   "metadata": {},
   "outputs": [],
   "source": [
    "getSido()"
   ]
  },
  {
   "cell_type": "code",
   "execution_count": 27,
   "id": "6a03e2db-bbe9-44f8-8566-c575b4fb5d84",
   "metadata": {},
   "outputs": [
    {
     "data": {
      "text/plain": [
       "'경기'"
      ]
     },
     "execution_count": 27,
     "metadata": {},
     "output_type": "execute_result"
    }
   ],
   "source": [
    "sido_names[8]"
   ]
  },
  {
   "cell_type": "code",
   "execution_count": null,
   "id": "daff21a7-3903-4433-beda-6b54a03cb098",
   "metadata": {},
   "outputs": [
    {
     "name": "stderr",
     "output_type": "stream",
     "text": [
      "/var/folders/r8/5fffyvfd0713h07trp3wxj700000gn/T/ipykernel_1019/40413154.py:128: DeprecationWarning: use driver.switch_to.window instead\n",
      "  driver.switch_to_window(driver.window_handles[1]) # 새창 전환\n",
      "/var/folders/r8/5fffyvfd0713h07trp3wxj700000gn/T/ipykernel_1019/40413154.py:51: DeprecationWarning: use driver.switch_to.window instead\n",
      "  driver.switch_to_window(driver.window_handles[1])\n",
      "/var/folders/r8/5fffyvfd0713h07trp3wxj700000gn/T/ipykernel_1019/40413154.py:93: DeprecationWarning: use driver.switch_to.window instead\n",
      "  driver.switch_to_window(driver.window_handles[0])\n",
      "/var/folders/r8/5fffyvfd0713h07trp3wxj700000gn/T/ipykernel_1019/40413154.py:174: DeprecationWarning: use driver.switch_to.window instead\n",
      "  driver.switch_to_window(driver.window_handles[1]) # 새창 전환\n",
      "/var/folders/r8/5fffyvfd0713h07trp3wxj700000gn/T/ipykernel_1019/40413154.py:88: DeprecationWarning: use driver.switch_to.window instead\n",
      "  driver.switch_to_window(driver.window_handles[0])\n"
     ]
    }
   ],
   "source": [
    "getTxt(sido_names[8])"
   ]
  },
  {
   "cell_type": "code",
   "execution_count": 122,
   "id": "5d3b3955-8fcd-41f6-bc5b-9ef541ffbc8b",
   "metadata": {
    "tags": []
   },
   "outputs": [
    {
     "name": "stderr",
     "output_type": "stream",
     "text": [
      "  0%|                                                    | 0/17 [00:00<?, ?it/s]/var/folders/r8/5fffyvfd0713h07trp3wxj700000gn/T/ipykernel_2432/2647038236.py:126: DeprecationWarning: use driver.switch_to.window instead\n",
      "  driver.switch_to_window(driver.window_handles[1]) # 새창 전환\n",
      "/var/folders/r8/5fffyvfd0713h07trp3wxj700000gn/T/ipykernel_2432/2647038236.py:50: DeprecationWarning: use driver.switch_to.window instead\n",
      "  driver.switch_to_window(driver.window_handles[1])\n",
      "/var/folders/r8/5fffyvfd0713h07trp3wxj700000gn/T/ipykernel_2432/2647038236.py:87: DeprecationWarning: use driver.switch_to.window instead\n",
      "  driver.switch_to_window(driver.window_handles[0])\n",
      " 47%|████████████████████▏                      | 8/17 [17:24<19:04, 127.13s/it]/var/folders/r8/5fffyvfd0713h07trp3wxj700000gn/T/ipykernel_2432/2647038236.py:92: DeprecationWarning: use driver.switch_to.window instead\n",
      "  driver.switch_to_window(driver.window_handles[0])\n",
      " 47%|████████████████████▏                      | 8/17 [18:16<20:33, 137.05s/it]\n"
     ]
    },
    {
     "ename": "StaleElementReferenceException",
     "evalue": "Message: stale element reference: element is not attached to the page document\n  (Session info: chrome=105.0.5195.102)\n",
     "output_type": "error",
     "traceback": [
      "\u001b[0;31m---------------------------------------------------------------------------\u001b[0m",
      "\u001b[0;31mStaleElementReferenceException\u001b[0m            Traceback (most recent call last)",
      "Input \u001b[0;32mIn [122]\u001b[0m, in \u001b[0;36m<cell line: 7>\u001b[0;34m()\u001b[0m\n\u001b[1;32m      8\u001b[0m     \u001b[38;5;28;01mglobal\u001b[39;00m SIDO\n\u001b[1;32m      9\u001b[0m     SIDO \u001b[38;5;241m=\u001b[39m sido\n\u001b[0;32m---> 10\u001b[0m     \u001b[43mgetTxt\u001b[49m\u001b[43m(\u001b[49m\u001b[43mSIDO\u001b[49m\u001b[43m)\u001b[49m\n\u001b[1;32m     12\u001b[0m driver\u001b[38;5;241m.\u001b[39mclose()\n",
      "Input \u001b[0;32mIn [121]\u001b[0m, in \u001b[0;36mgetTxt\u001b[0;34m(sido)\u001b[0m\n\u001b[1;32m    137\u001b[0m \u001b[38;5;66;03m# 각 시군구 파일 다운로드\u001b[39;00m\n\u001b[1;32m    138\u001b[0m \u001b[38;5;28;01mif\u001b[39;00m \u001b[38;5;28mlen\u001b[39m(checked) \u001b[38;5;241m==\u001b[39m \u001b[38;5;241m0\u001b[39m:\n\u001b[0;32m--> 139\u001b[0m     \u001b[43mgetTxtSep\u001b[49m\u001b[43m(\u001b[49m\u001b[43msido\u001b[49m\u001b[43m)\u001b[49m\n\u001b[1;32m    140\u001b[0m \u001b[38;5;28;01melse\u001b[39;00m:\n\u001b[1;32m    141\u001b[0m     \u001b[38;5;28;01mpass\u001b[39;00m\n",
      "Input \u001b[0;32mIn [121]\u001b[0m, in \u001b[0;36mgetTxtSep\u001b[0;34m(sido)\u001b[0m\n\u001b[1;32m    144\u001b[0m \u001b[38;5;28;01mdef\u001b[39;00m \u001b[38;5;21mgetTxtSep\u001b[39m(sido):\n\u001b[0;32m--> 145\u001b[0m     \u001b[43mgetSigungu\u001b[49m\u001b[43m(\u001b[49m\u001b[43msido\u001b[49m\u001b[43m)\u001b[49m\n\u001b[1;32m    146\u001b[0m     \u001b[38;5;28;01mfor\u001b[39;00m i \u001b[38;5;129;01min\u001b[39;00m sigungu_names:\n\u001b[1;32m    147\u001b[0m         \u001b[38;5;66;03m# 시군구 > 시군구 선택\u001b[39;00m\n\u001b[1;32m    148\u001b[0m         element \u001b[38;5;241m=\u001b[39m driver\u001b[38;5;241m.\u001b[39mfind_element_by_id(\u001b[38;5;124m'\u001b[39m\u001b[38;5;124msggCd\u001b[39m\u001b[38;5;124m'\u001b[39m)\n",
      "Input \u001b[0;32mIn [121]\u001b[0m, in \u001b[0;36mgetSigungu\u001b[0;34m(sido)\u001b[0m\n\u001b[1;32m     39\u001b[0m sigungu_list \u001b[38;5;241m=\u001b[39m sigungu_list_selectbox\u001b[38;5;241m.\u001b[39mfind_elements_by_tag_name(\u001b[38;5;124m'\u001b[39m\u001b[38;5;124moption\u001b[39m\u001b[38;5;124m'\u001b[39m) \u001b[38;5;66;03m# 셀렉트 박스 안에 있는 옵션 선택\u001b[39;00m\n\u001b[1;32m     40\u001b[0m time\u001b[38;5;241m.\u001b[39msleep(\u001b[38;5;241m2\u001b[39m)\n\u001b[0;32m---> 41\u001b[0m sigungu_name \u001b[38;5;241m=\u001b[39m [sigungu\u001b[38;5;241m.\u001b[39mtext \u001b[38;5;28;01mfor\u001b[39;00m sigungu \u001b[38;5;129;01min\u001b[39;00m sigungu_list] \u001b[38;5;66;03m# 시군구명 리스트에 담기\u001b[39;00m\n\u001b[1;32m     42\u001b[0m sigungu_names\u001b[38;5;241m.\u001b[39mextend(sigungu_name)\n\u001b[1;32m     43\u001b[0m sigungu_names \u001b[38;5;241m=\u001b[39m sigungu_names[\u001b[38;5;241m2\u001b[39m:]\n",
      "Input \u001b[0;32mIn [121]\u001b[0m, in \u001b[0;36m<listcomp>\u001b[0;34m(.0)\u001b[0m\n\u001b[1;32m     39\u001b[0m sigungu_list \u001b[38;5;241m=\u001b[39m sigungu_list_selectbox\u001b[38;5;241m.\u001b[39mfind_elements_by_tag_name(\u001b[38;5;124m'\u001b[39m\u001b[38;5;124moption\u001b[39m\u001b[38;5;124m'\u001b[39m) \u001b[38;5;66;03m# 셀렉트 박스 안에 있는 옵션 선택\u001b[39;00m\n\u001b[1;32m     40\u001b[0m time\u001b[38;5;241m.\u001b[39msleep(\u001b[38;5;241m2\u001b[39m)\n\u001b[0;32m---> 41\u001b[0m sigungu_name \u001b[38;5;241m=\u001b[39m [\u001b[43msigungu\u001b[49m\u001b[38;5;241;43m.\u001b[39;49m\u001b[43mtext\u001b[49m \u001b[38;5;28;01mfor\u001b[39;00m sigungu \u001b[38;5;129;01min\u001b[39;00m sigungu_list] \u001b[38;5;66;03m# 시군구명 리스트에 담기\u001b[39;00m\n\u001b[1;32m     42\u001b[0m sigungu_names\u001b[38;5;241m.\u001b[39mextend(sigungu_name)\n\u001b[1;32m     43\u001b[0m sigungu_names \u001b[38;5;241m=\u001b[39m sigungu_names[\u001b[38;5;241m2\u001b[39m:]\n",
      "File \u001b[0;32m~/miniforge3/envs/project/lib/python3.8/site-packages/selenium/webdriver/remote/webelement.py:76\u001b[0m, in \u001b[0;36mWebElement.text\u001b[0;34m(self)\u001b[0m\n\u001b[1;32m     73\u001b[0m \u001b[38;5;129m@property\u001b[39m\n\u001b[1;32m     74\u001b[0m \u001b[38;5;28;01mdef\u001b[39;00m \u001b[38;5;21mtext\u001b[39m(\u001b[38;5;28mself\u001b[39m):\n\u001b[1;32m     75\u001b[0m     \u001b[38;5;124;03m\"\"\"The text of the element.\"\"\"\u001b[39;00m\n\u001b[0;32m---> 76\u001b[0m     \u001b[38;5;28;01mreturn\u001b[39;00m \u001b[38;5;28;43mself\u001b[39;49m\u001b[38;5;241;43m.\u001b[39;49m\u001b[43m_execute\u001b[49m\u001b[43m(\u001b[49m\u001b[43mCommand\u001b[49m\u001b[38;5;241;43m.\u001b[39;49m\u001b[43mGET_ELEMENT_TEXT\u001b[49m\u001b[43m)\u001b[49m[\u001b[38;5;124m'\u001b[39m\u001b[38;5;124mvalue\u001b[39m\u001b[38;5;124m'\u001b[39m]\n",
      "File \u001b[0;32m~/miniforge3/envs/project/lib/python3.8/site-packages/selenium/webdriver/remote/webelement.py:633\u001b[0m, in \u001b[0;36mWebElement._execute\u001b[0;34m(self, command, params)\u001b[0m\n\u001b[1;32m    631\u001b[0m     params \u001b[38;5;241m=\u001b[39m {}\n\u001b[1;32m    632\u001b[0m params[\u001b[38;5;124m'\u001b[39m\u001b[38;5;124mid\u001b[39m\u001b[38;5;124m'\u001b[39m] \u001b[38;5;241m=\u001b[39m \u001b[38;5;28mself\u001b[39m\u001b[38;5;241m.\u001b[39m_id\n\u001b[0;32m--> 633\u001b[0m \u001b[38;5;28;01mreturn\u001b[39;00m \u001b[38;5;28;43mself\u001b[39;49m\u001b[38;5;241;43m.\u001b[39;49m\u001b[43m_parent\u001b[49m\u001b[38;5;241;43m.\u001b[39;49m\u001b[43mexecute\u001b[49m\u001b[43m(\u001b[49m\u001b[43mcommand\u001b[49m\u001b[43m,\u001b[49m\u001b[43m \u001b[49m\u001b[43mparams\u001b[49m\u001b[43m)\u001b[49m\n",
      "File \u001b[0;32m~/miniforge3/envs/project/lib/python3.8/site-packages/selenium/webdriver/remote/webdriver.py:321\u001b[0m, in \u001b[0;36mWebDriver.execute\u001b[0;34m(self, driver_command, params)\u001b[0m\n\u001b[1;32m    319\u001b[0m response \u001b[38;5;241m=\u001b[39m \u001b[38;5;28mself\u001b[39m\u001b[38;5;241m.\u001b[39mcommand_executor\u001b[38;5;241m.\u001b[39mexecute(driver_command, params)\n\u001b[1;32m    320\u001b[0m \u001b[38;5;28;01mif\u001b[39;00m response:\n\u001b[0;32m--> 321\u001b[0m     \u001b[38;5;28;43mself\u001b[39;49m\u001b[38;5;241;43m.\u001b[39;49m\u001b[43merror_handler\u001b[49m\u001b[38;5;241;43m.\u001b[39;49m\u001b[43mcheck_response\u001b[49m\u001b[43m(\u001b[49m\u001b[43mresponse\u001b[49m\u001b[43m)\u001b[49m\n\u001b[1;32m    322\u001b[0m     response[\u001b[38;5;124m'\u001b[39m\u001b[38;5;124mvalue\u001b[39m\u001b[38;5;124m'\u001b[39m] \u001b[38;5;241m=\u001b[39m \u001b[38;5;28mself\u001b[39m\u001b[38;5;241m.\u001b[39m_unwrap_value(\n\u001b[1;32m    323\u001b[0m         response\u001b[38;5;241m.\u001b[39mget(\u001b[38;5;124m'\u001b[39m\u001b[38;5;124mvalue\u001b[39m\u001b[38;5;124m'\u001b[39m, \u001b[38;5;28;01mNone\u001b[39;00m))\n\u001b[1;32m    324\u001b[0m     \u001b[38;5;28;01mreturn\u001b[39;00m response\n",
      "File \u001b[0;32m~/miniforge3/envs/project/lib/python3.8/site-packages/selenium/webdriver/remote/errorhandler.py:242\u001b[0m, in \u001b[0;36mErrorHandler.check_response\u001b[0;34m(self, response)\u001b[0m\n\u001b[1;32m    240\u001b[0m         alert_text \u001b[38;5;241m=\u001b[39m value[\u001b[38;5;124m'\u001b[39m\u001b[38;5;124malert\u001b[39m\u001b[38;5;124m'\u001b[39m]\u001b[38;5;241m.\u001b[39mget(\u001b[38;5;124m'\u001b[39m\u001b[38;5;124mtext\u001b[39m\u001b[38;5;124m'\u001b[39m)\n\u001b[1;32m    241\u001b[0m     \u001b[38;5;28;01mraise\u001b[39;00m exception_class(message, screen, stacktrace, alert_text)\n\u001b[0;32m--> 242\u001b[0m \u001b[38;5;28;01mraise\u001b[39;00m exception_class(message, screen, stacktrace)\n",
      "\u001b[0;31mStaleElementReferenceException\u001b[0m: Message: stale element reference: element is not attached to the page document\n  (Session info: chrome=105.0.5195.102)\n"
     ]
    }
   ],
   "source": [
    "### 4. 전 지역 도시계획 조례 txt 다운로드 실행\n",
    "driver = webdriver.Chrome('./driver_m1/chromedriver')\n",
    "driver.get('https://www.elis.go.kr/allalr/allAlrList')\n",
    "driver.maximize_window()\n",
    "getSido()\n",
    "\n",
    "for sido in tqdm(sido_names):\n",
    "    getTxt(sido)\n",
    "\n",
    "driver.close()"
   ]
  },
  {
   "cell_type": "markdown",
   "id": "325971e3-da32-46e6-81f1-678d96911fc4",
   "metadata": {
    "tags": []
   },
   "source": [
    "### 파일 한 번에 불러오기"
   ]
  },
  {
   "cell_type": "markdown",
   "id": "69820de5-5f13-4944-af60-a7bf1cc16927",
   "metadata": {},
   "source": [
    "###### test"
   ]
  },
  {
   "cell_type": "markdown",
   "id": "a151a87e-885a-401f-be8c-b2cb04652bc1",
   "metadata": {},
   "source": [
    "ver1 (try-except)"
   ]
  },
  {
   "cell_type": "code",
   "execution_count": 28,
   "id": "050ead98-84eb-4d7a-a1af-ed9e75679e60",
   "metadata": {
    "collapsed": true,
    "jupyter": {
     "outputs_hidden": true
    },
    "tags": []
   },
   "outputs": [
    {
     "ename": "StaleElementReferenceException",
     "evalue": "Message: stale element reference: element is not attached to the page document\n  (Session info: chrome=104.0.5112.102)\n",
     "output_type": "error",
     "traceback": [
      "\u001b[1;31m---------------------------------------------------------------------------\u001b[0m",
      "\u001b[1;31mStaleElementReferenceException\u001b[0m            Traceback (most recent call last)",
      "Input \u001b[1;32mIn [28]\u001b[0m, in \u001b[0;36m<cell line: 35>\u001b[1;34m()\u001b[0m\n\u001b[0;32m     33\u001b[0m driver \u001b[38;5;241m=\u001b[39m webdriver\u001b[38;5;241m.\u001b[39mChrome(\u001b[38;5;124m'\u001b[39m\u001b[38;5;124m./driver/chromedriver.exe\u001b[39m\u001b[38;5;124m'\u001b[39m)\n\u001b[0;32m     34\u001b[0m driver\u001b[38;5;241m.\u001b[39mget(\u001b[38;5;124m'\u001b[39m\u001b[38;5;124mhttps://www.elis.go.kr/allalr/allAlrList\u001b[39m\u001b[38;5;124m'\u001b[39m)\n\u001b[1;32m---> 35\u001b[0m \u001b[43mgetTxtSep\u001b[49m\u001b[43m(\u001b[49m\u001b[43mre_list\u001b[49m\u001b[43m)\u001b[49m\n\u001b[0;32m     36\u001b[0m driver\u001b[38;5;241m.\u001b[39mclose()\n",
      "Input \u001b[1;32mIn [6]\u001b[0m, in \u001b[0;36mgetTxtSep\u001b[1;34m(re_list)\u001b[0m\n\u001b[0;32m    110\u001b[0m \u001b[38;5;28;01mdef\u001b[39;00m \u001b[38;5;21mgetTxtSep\u001b[39m(re_list):\n\u001b[0;32m    111\u001b[0m     \u001b[38;5;66;03m# 해당 시도 선택\u001b[39;00m\n\u001b[0;32m    112\u001b[0m     \u001b[38;5;28;01mfor\u001b[39;00m sido \u001b[38;5;129;01min\u001b[39;00m re_list:\n\u001b[1;32m--> 113\u001b[0m         \u001b[43mgetSigungu\u001b[49m\u001b[43m(\u001b[49m\u001b[43msido\u001b[49m\u001b[43m)\u001b[49m\n\u001b[0;32m    114\u001b[0m         \u001b[38;5;28;01mfor\u001b[39;00m i \u001b[38;5;129;01min\u001b[39;00m sigungu_names:\n\u001b[0;32m    115\u001b[0m             \u001b[38;5;66;03m# 시군구 > 시군구 선택\u001b[39;00m\n\u001b[0;32m    116\u001b[0m             element \u001b[38;5;241m=\u001b[39m driver\u001b[38;5;241m.\u001b[39mfind_element_by_id(\u001b[38;5;124m'\u001b[39m\u001b[38;5;124msggCd\u001b[39m\u001b[38;5;124m'\u001b[39m)\n",
      "Input \u001b[1;32mIn [6]\u001b[0m, in \u001b[0;36mgetSigungu\u001b[1;34m(sido)\u001b[0m\n\u001b[0;32m     38\u001b[0m sigungu_list \u001b[38;5;241m=\u001b[39m sigungu_list_selectbox\u001b[38;5;241m.\u001b[39mfind_elements_by_tag_name(\u001b[38;5;124m'\u001b[39m\u001b[38;5;124moption\u001b[39m\u001b[38;5;124m'\u001b[39m) \u001b[38;5;66;03m# 셀렉트 박스 안에 있는 옵션 선택\u001b[39;00m\n\u001b[0;32m     39\u001b[0m time\u001b[38;5;241m.\u001b[39msleep(\u001b[38;5;241m2\u001b[39m)\n\u001b[1;32m---> 40\u001b[0m sigungu_name \u001b[38;5;241m=\u001b[39m [sigungu\u001b[38;5;241m.\u001b[39mtext \u001b[38;5;28;01mfor\u001b[39;00m sigungu \u001b[38;5;129;01min\u001b[39;00m sigungu_list] \u001b[38;5;66;03m# 시군구명 리스트에 담기\u001b[39;00m\n\u001b[0;32m     41\u001b[0m sigungu_names\u001b[38;5;241m.\u001b[39mextend(sigungu_name)\n\u001b[0;32m     42\u001b[0m sigungu_names \u001b[38;5;241m=\u001b[39m sigungu_names[\u001b[38;5;241m2\u001b[39m:]\n",
      "Input \u001b[1;32mIn [6]\u001b[0m, in \u001b[0;36m<listcomp>\u001b[1;34m(.0)\u001b[0m\n\u001b[0;32m     38\u001b[0m sigungu_list \u001b[38;5;241m=\u001b[39m sigungu_list_selectbox\u001b[38;5;241m.\u001b[39mfind_elements_by_tag_name(\u001b[38;5;124m'\u001b[39m\u001b[38;5;124moption\u001b[39m\u001b[38;5;124m'\u001b[39m) \u001b[38;5;66;03m# 셀렉트 박스 안에 있는 옵션 선택\u001b[39;00m\n\u001b[0;32m     39\u001b[0m time\u001b[38;5;241m.\u001b[39msleep(\u001b[38;5;241m2\u001b[39m)\n\u001b[1;32m---> 40\u001b[0m sigungu_name \u001b[38;5;241m=\u001b[39m [\u001b[43msigungu\u001b[49m\u001b[38;5;241;43m.\u001b[39;49m\u001b[43mtext\u001b[49m \u001b[38;5;28;01mfor\u001b[39;00m sigungu \u001b[38;5;129;01min\u001b[39;00m sigungu_list] \u001b[38;5;66;03m# 시군구명 리스트에 담기\u001b[39;00m\n\u001b[0;32m     41\u001b[0m sigungu_names\u001b[38;5;241m.\u001b[39mextend(sigungu_name)\n\u001b[0;32m     42\u001b[0m sigungu_names \u001b[38;5;241m=\u001b[39m sigungu_names[\u001b[38;5;241m2\u001b[39m:]\n",
      "File \u001b[1;32m~\\Anaconda3\\envs\\oasis\\lib\\site-packages\\selenium\\webdriver\\remote\\webelement.py:76\u001b[0m, in \u001b[0;36mWebElement.text\u001b[1;34m(self)\u001b[0m\n\u001b[0;32m     73\u001b[0m \u001b[38;5;129m@property\u001b[39m\n\u001b[0;32m     74\u001b[0m \u001b[38;5;28;01mdef\u001b[39;00m \u001b[38;5;21mtext\u001b[39m(\u001b[38;5;28mself\u001b[39m):\n\u001b[0;32m     75\u001b[0m     \u001b[38;5;124;03m\"\"\"The text of the element.\"\"\"\u001b[39;00m\n\u001b[1;32m---> 76\u001b[0m     \u001b[38;5;28;01mreturn\u001b[39;00m \u001b[38;5;28;43mself\u001b[39;49m\u001b[38;5;241;43m.\u001b[39;49m\u001b[43m_execute\u001b[49m\u001b[43m(\u001b[49m\u001b[43mCommand\u001b[49m\u001b[38;5;241;43m.\u001b[39;49m\u001b[43mGET_ELEMENT_TEXT\u001b[49m\u001b[43m)\u001b[49m[\u001b[38;5;124m'\u001b[39m\u001b[38;5;124mvalue\u001b[39m\u001b[38;5;124m'\u001b[39m]\n",
      "File \u001b[1;32m~\\Anaconda3\\envs\\oasis\\lib\\site-packages\\selenium\\webdriver\\remote\\webelement.py:633\u001b[0m, in \u001b[0;36mWebElement._execute\u001b[1;34m(self, command, params)\u001b[0m\n\u001b[0;32m    631\u001b[0m     params \u001b[38;5;241m=\u001b[39m {}\n\u001b[0;32m    632\u001b[0m params[\u001b[38;5;124m'\u001b[39m\u001b[38;5;124mid\u001b[39m\u001b[38;5;124m'\u001b[39m] \u001b[38;5;241m=\u001b[39m \u001b[38;5;28mself\u001b[39m\u001b[38;5;241m.\u001b[39m_id\n\u001b[1;32m--> 633\u001b[0m \u001b[38;5;28;01mreturn\u001b[39;00m \u001b[38;5;28;43mself\u001b[39;49m\u001b[38;5;241;43m.\u001b[39;49m\u001b[43m_parent\u001b[49m\u001b[38;5;241;43m.\u001b[39;49m\u001b[43mexecute\u001b[49m\u001b[43m(\u001b[49m\u001b[43mcommand\u001b[49m\u001b[43m,\u001b[49m\u001b[43m \u001b[49m\u001b[43mparams\u001b[49m\u001b[43m)\u001b[49m\n",
      "File \u001b[1;32m~\\Anaconda3\\envs\\oasis\\lib\\site-packages\\selenium\\webdriver\\remote\\webdriver.py:321\u001b[0m, in \u001b[0;36mWebDriver.execute\u001b[1;34m(self, driver_command, params)\u001b[0m\n\u001b[0;32m    319\u001b[0m response \u001b[38;5;241m=\u001b[39m \u001b[38;5;28mself\u001b[39m\u001b[38;5;241m.\u001b[39mcommand_executor\u001b[38;5;241m.\u001b[39mexecute(driver_command, params)\n\u001b[0;32m    320\u001b[0m \u001b[38;5;28;01mif\u001b[39;00m response:\n\u001b[1;32m--> 321\u001b[0m     \u001b[38;5;28;43mself\u001b[39;49m\u001b[38;5;241;43m.\u001b[39;49m\u001b[43merror_handler\u001b[49m\u001b[38;5;241;43m.\u001b[39;49m\u001b[43mcheck_response\u001b[49m\u001b[43m(\u001b[49m\u001b[43mresponse\u001b[49m\u001b[43m)\u001b[49m\n\u001b[0;32m    322\u001b[0m     response[\u001b[38;5;124m'\u001b[39m\u001b[38;5;124mvalue\u001b[39m\u001b[38;5;124m'\u001b[39m] \u001b[38;5;241m=\u001b[39m \u001b[38;5;28mself\u001b[39m\u001b[38;5;241m.\u001b[39m_unwrap_value(\n\u001b[0;32m    323\u001b[0m         response\u001b[38;5;241m.\u001b[39mget(\u001b[38;5;124m'\u001b[39m\u001b[38;5;124mvalue\u001b[39m\u001b[38;5;124m'\u001b[39m, \u001b[38;5;28;01mNone\u001b[39;00m))\n\u001b[0;32m    324\u001b[0m     \u001b[38;5;28;01mreturn\u001b[39;00m response\n",
      "File \u001b[1;32m~\\Anaconda3\\envs\\oasis\\lib\\site-packages\\selenium\\webdriver\\remote\\errorhandler.py:242\u001b[0m, in \u001b[0;36mErrorHandler.check_response\u001b[1;34m(self, response)\u001b[0m\n\u001b[0;32m    240\u001b[0m         alert_text \u001b[38;5;241m=\u001b[39m value[\u001b[38;5;124m'\u001b[39m\u001b[38;5;124malert\u001b[39m\u001b[38;5;124m'\u001b[39m]\u001b[38;5;241m.\u001b[39mget(\u001b[38;5;124m'\u001b[39m\u001b[38;5;124mtext\u001b[39m\u001b[38;5;124m'\u001b[39m)\n\u001b[0;32m    241\u001b[0m     \u001b[38;5;28;01mraise\u001b[39;00m exception_class(message, screen, stacktrace, alert_text)\n\u001b[1;32m--> 242\u001b[0m \u001b[38;5;28;01mraise\u001b[39;00m exception_class(message, screen, stacktrace)\n",
      "\u001b[1;31mStaleElementReferenceException\u001b[0m: Message: stale element reference: element is not attached to the page document\n  (Session info: chrome=104.0.5112.102)\n"
     ]
    }
   ],
   "source": [
    "from glob import glob\n",
    "\n",
    "# 변수 생성\n",
    "tmp_raw = []\n",
    "re_list = []\n",
    "df_buildingCoverage = pd.DataFrame()\n",
    "df_floorAreaRatio = pd.DataFrame()\n",
    "\n",
    "# txt to dataframe\n",
    "for file_name in glob('C:\\Users\\duPar\\Downloads\\*도시계획*.txt'):\n",
    "    with open(file_name, encoding='utf-8') as f:\n",
    "        lines = f.readlines()\n",
    "        df = pd.DataFrame(lines, columns=[file_name.split(' ')[0][2:]]).drop_duplicates(keep=False).reset_index(drop=True)\n",
    "        df[file_name.split(' ')[0][2:]] = df[file_name.split(' ')[0][2:]].str.replace('\\n','')\n",
    "        \n",
    "        try:\n",
    "            # 해당 인덱스부터 15개 가져오기 -> 건폐율, 용적률 순서\n",
    "            idx = df[df[file_name.split(' ')[0][2:]].str.contains('제1종전용주거지역')].index            \n",
    "            \n",
    "            # 건폐율, 용적률 데이터프레임 나누기\n",
    "            df_bc = df.loc[idx[0]:][0:16].reset_index(drop=True) # 건폐율\n",
    "            df_far = df.loc[idx[1]:][0:16].reset_index(drop=True) # 용적률\n",
    "\n",
    "            # 데이터프레임 합치기\n",
    "            df_buildingCoverage = pd.concat([df_buildingCoverage, df_bc], axis=1).reset_index(drop=True)\n",
    "            df_floorAreaRatio = pd.concat([df_floorAreaRatio, df_far], axis=1).reset_index(drop=True)\n",
    "            \n",
    "        except:\n",
    "            re_list.append(file_name.split(' ')[0][2:])\n",
    "            pass\n",
    "\n",
    "# 각 시군구 txt 파일 수집\n",
    "driver = webdriver.Chrome('./driver/chromedriver.exe')\n",
    "driver.get('https://www.elis.go.kr/allalr/allAlrList')\n",
    "downloadSep(re_list)\n",
    "driver.close()"
   ]
  },
  {
   "cell_type": "code",
   "execution_count": 39,
   "id": "41fafcdb-a5b1-46d9-b4c2-7a5adb6ccf4f",
   "metadata": {},
   "outputs": [],
   "source": [
    "from glob import glob\n",
    "\n",
    "# 변수 생성\n",
    "tmp_raw = []\n",
    "re_list = []\n",
    "df_buildingCoverage = pd.DataFrame()\n",
    "df_floorAreaRatio = pd.DataFrame()"
   ]
  },
  {
   "cell_type": "code",
   "execution_count": 41,
   "id": "5871d991-7e9d-4008-a96c-ba6a25cb655c",
   "metadata": {},
   "outputs": [
    {
     "data": {
      "text/plain": [
       "['C:\\\\Users\\\\duPar\\\\Downloads\\\\강원도 도시계획 조례 (19).txt',\n",
       " 'C:\\\\Users\\\\duPar\\\\Downloads\\\\경기도 도시계획 조례 (4).txt',\n",
       " 'C:\\\\Users\\\\duPar\\\\Downloads\\\\경상남도 도시계획 조례 (4).txt',\n",
       " 'C:\\\\Users\\\\duPar\\\\Downloads\\\\경상북도 도시계획 조례 (4).txt',\n",
       " 'C:\\\\Users\\\\duPar\\\\Downloads\\\\광주광역시 도시계획 조례 (4).txt',\n",
       " 'C:\\\\Users\\\\duPar\\\\Downloads\\\\대구광역시 도시계획 조례 (4).txt',\n",
       " 'C:\\\\Users\\\\duPar\\\\Downloads\\\\대전광역시 도시계획 조례 (4).txt',\n",
       " 'C:\\\\Users\\\\duPar\\\\Downloads\\\\부산광역시 도시계획 조례 (4).txt',\n",
       " 'C:\\\\Users\\\\duPar\\\\Downloads\\\\서울특별시 도시계획 조례 (7).txt',\n",
       " 'C:\\\\Users\\\\duPar\\\\Downloads\\\\세종특별자치시 도시계획 조례 (4).txt',\n",
       " 'C:\\\\Users\\\\duPar\\\\Downloads\\\\울산광역시 도시계획 조례 (4).txt',\n",
       " 'C:\\\\Users\\\\duPar\\\\Downloads\\\\인천광역시 도시계획 조례 (4).txt',\n",
       " 'C:\\\\Users\\\\duPar\\\\Downloads\\\\전라남도 도시계획 조례 (4).txt',\n",
       " 'C:\\\\Users\\\\duPar\\\\Downloads\\\\전라북도 도시계획 조례 (4).txt',\n",
       " 'C:\\\\Users\\\\duPar\\\\Downloads\\\\제주특별자치도 도시계획 조례 (12).txt',\n",
       " 'C:\\\\Users\\\\duPar\\\\Downloads\\\\충청남도 도시계획 조례 (4).txt',\n",
       " 'C:\\\\Users\\\\duPar\\\\Downloads\\\\충청북도 도시계획 조례 (4).txt']"
      ]
     },
     "execution_count": 41,
     "metadata": {},
     "output_type": "execute_result"
    }
   ],
   "source": [
    "glob('C:\\\\Users\\duPar\\Downloads\\*도시계획*.txt')"
   ]
  },
  {
   "cell_type": "code",
   "execution_count": 42,
   "id": "ff9632f0-d814-4cb4-8f69-299b40842cb5",
   "metadata": {},
   "outputs": [],
   "source": [
    "file_name = 'C:\\\\Users\\\\duPar\\\\Downloads\\\\강원도 도시계획 조례 (19).txt'"
   ]
  },
  {
   "cell_type": "code",
   "execution_count": 57,
   "id": "faeb59cd-af4f-4587-a3f1-2fdb43befb02",
   "metadata": {},
   "outputs": [],
   "source": [
    "# txt to dataframe\n",
    "with open(file_name, encoding='utf-8') as f:\n",
    "    lines = f.readlines()\n",
    "    df = pd.DataFrame(lines, columns=[file_name.split(' ')[0].split('\\\\')[-1]]).drop_duplicates(keep=False).reset_index(drop=True)\n",
    "    df[file_name.split(' ')[0].split('\\\\')[-1]] = df[file_name.split(' ')[0].split('\\\\')[-1]].str.replace('\\n','')"
   ]
  },
  {
   "cell_type": "code",
   "execution_count": 58,
   "id": "72567470-d71b-4fc7-ba3b-760a5151fcd0",
   "metadata": {},
   "outputs": [
    {
     "data": {
      "text/html": [
       "<div>\n",
       "<style scoped>\n",
       "    .dataframe tbody tr th:only-of-type {\n",
       "        vertical-align: middle;\n",
       "    }\n",
       "\n",
       "    .dataframe tbody tr th {\n",
       "        vertical-align: top;\n",
       "    }\n",
       "\n",
       "    .dataframe thead th {\n",
       "        text-align: right;\n",
       "    }\n",
       "</style>\n",
       "<table border=\"1\" class=\"dataframe\">\n",
       "  <thead>\n",
       "    <tr style=\"text-align: right;\">\n",
       "      <th></th>\n",
       "      <th>강원도</th>\n",
       "    </tr>\n",
       "  </thead>\n",
       "  <tbody>\n",
       "    <tr>\n",
       "      <th>0</th>\n",
       "      <td>제6조의3(도시지역 내 지구단위계획구역에서의 건폐율 등의 완화적용) ① 삭제&lt;202...</td>\n",
       "    </tr>\n",
       "    <tr>\n",
       "      <th>1</th>\n",
       "      <td>② 영 제46조제1항제2호에 따른 공공시설등의 설치비용과 부지가액의 산정방법은 ...</td>\n",
       "    </tr>\n",
       "    <tr>\n",
       "      <th>2</th>\n",
       "      <td>1. 공공시설등의 설치비용은 「지방자치단체를 당사자로 하는 계약에 관한 법률 시...</td>\n",
       "    </tr>\n",
       "    <tr>\n",
       "      <th>3</th>\n",
       "      <td>2. 부지가액은 국토교통부장관이 정하는 요건을 갖춘 「감정평가 및 감정평가사에 ...</td>\n",
       "    </tr>\n",
       "    <tr>\n",
       "      <th>4</th>\n",
       "      <td>3. 공공시설 등의 설치비용 및 부지가액의 산정은 건축허가 신청일을 기준으로 한...</td>\n",
       "    </tr>\n",
       "    <tr>\n",
       "      <th>5</th>\n",
       "      <td>4. 공공시설등의 설치이행을 담보하기 위하여 이행보증금을 예치하게 할 수 있으며...</td>\n",
       "    </tr>\n",
       "    <tr>\n",
       "      <th>6</th>\n",
       "      <td>5. 제1호 및 제2호에 소요되는 비용은 공공시설등을 설치·제공하는 자가 부담하...</td>\n",
       "    </tr>\n",
       "    <tr>\n",
       "      <th>7</th>\n",
       "      <td>③ 영 제46조제11항에 따라 공공시설등의 부지를 제공하거나 공공시설등을 설치하...</td>\n",
       "    </tr>\n",
       "    <tr>\n",
       "      <th>8</th>\n",
       "      <td>1. 토지이용계획 및 기반시설 설치계획</td>\n",
       "    </tr>\n",
       "    <tr>\n",
       "      <th>9</th>\n",
       "      <td>2. 건축 및 주택건설 계획</td>\n",
       "    </tr>\n",
       "    <tr>\n",
       "      <th>10</th>\n",
       "      <td>3. 임대주택 수요분석 및 공급계획</td>\n",
       "    </tr>\n",
       "    <tr>\n",
       "      <th>11</th>\n",
       "      <td>④ 영 제46조의2제2항에 따라 도시계획조례로 정하는 금액이란 감정평가법인 등이...</td>\n",
       "    </tr>\n",
       "    <tr>\n",
       "      <th>12</th>\n",
       "      <td>⑤ 영 제46조의2제3항에 따라 도시계획조례로 정하는 사항은 다음 각 호와 같다...</td>\n",
       "    </tr>\n",
       "    <tr>\n",
       "      <th>13</th>\n",
       "      <td>1. 지구단위계획구역안에서 건축물을 건축하려는 자는 건축허가 시 현금납부액, 납...</td>\n",
       "    </tr>\n",
       "    <tr>\n",
       "      <th>14</th>\n",
       "      <td>2. 시장ㆍ군수는 공공시설등의 설치비용을 착공일부터 사용승인 또는 준공검사 신청...</td>\n",
       "    </tr>\n",
       "    <tr>\n",
       "      <th>15</th>\n",
       "      <td></td>\n",
       "    </tr>\n",
       "  </tbody>\n",
       "</table>\n",
       "</div>"
      ],
      "text/plain": [
       "                                                  강원도\n",
       "0   제6조의3(도시지역 내 지구단위계획구역에서의 건폐율 등의 완화적용) ① 삭제<202...\n",
       "1     ② 영 제46조제1항제2호에 따른 공공시설등의 설치비용과 부지가액의 산정방법은 ...\n",
       "2     1. 공공시설등의 설치비용은 「지방자치단체를 당사자로 하는 계약에 관한 법률 시...\n",
       "3     2. 부지가액은 국토교통부장관이 정하는 요건을 갖춘 「감정평가 및 감정평가사에 ...\n",
       "4     3. 공공시설 등의 설치비용 및 부지가액의 산정은 건축허가 신청일을 기준으로 한...\n",
       "5     4. 공공시설등의 설치이행을 담보하기 위하여 이행보증금을 예치하게 할 수 있으며...\n",
       "6     5. 제1호 및 제2호에 소요되는 비용은 공공시설등을 설치·제공하는 자가 부담하...\n",
       "7     ③ 영 제46조제11항에 따라 공공시설등의 부지를 제공하거나 공공시설등을 설치하...\n",
       "8                               1. 토지이용계획 및 기반시설 설치계획\n",
       "9                                     2. 건축 및 주택건설 계획\n",
       "10                                3. 임대주택 수요분석 및 공급계획\n",
       "11    ④ 영 제46조의2제2항에 따라 도시계획조례로 정하는 금액이란 감정평가법인 등이...\n",
       "12    ⑤ 영 제46조의2제3항에 따라 도시계획조례로 정하는 사항은 다음 각 호와 같다...\n",
       "13    1. 지구단위계획구역안에서 건축물을 건축하려는 자는 건축허가 시 현금납부액, 납...\n",
       "14    2. 시장ㆍ군수는 공공시설등의 설치비용을 착공일부터 사용승인 또는 준공검사 신청...\n",
       "15                                                   "
      ]
     },
     "execution_count": 58,
     "metadata": {},
     "output_type": "execute_result"
    }
   ],
   "source": [
    "df"
   ]
  },
  {
   "cell_type": "code",
   "execution_count": 60,
   "id": "874e1989-eb0a-4e32-88f2-6a79088b19d6",
   "metadata": {},
   "outputs": [],
   "source": [
    "# 해당 인덱스부터 15개 가져오기 -> 건폐율, 용적률 순서\n",
    "idx = df[df[file_name.split(' ')[0].split('\\\\')[-1]].str.contains('제1종전용주거지역')].index"
   ]
  },
  {
   "cell_type": "code",
   "execution_count": 95,
   "id": "afb6492a-88e4-49bb-a8da-c5bcd7729950",
   "metadata": {},
   "outputs": [
    {
     "data": {
      "text/plain": [
       "builtin_function_or_method"
      ]
     },
     "execution_count": 95,
     "metadata": {},
     "output_type": "execute_result"
    }
   ],
   "source": [
    "type(idx)"
   ]
  },
  {
   "cell_type": "code",
   "execution_count": 93,
   "id": "132c2e48-cfbc-4c43-9311-515d67e4dc0f",
   "metadata": {},
   "outputs": [],
   "source": [
    "idx = df['강원도'][0].index"
   ]
  },
  {
   "cell_type": "code",
   "execution_count": 88,
   "id": "11f148b6-3a4b-41e9-822e-33327cbb03da",
   "metadata": {},
   "outputs": [],
   "source": [
    "idx = 1"
   ]
  },
  {
   "cell_type": "code",
   "execution_count": 94,
   "id": "8457a4ad-3a3d-4217-b3a5-0bb08c171a8e",
   "metadata": {},
   "outputs": [
    {
     "ename": "AttributeError",
     "evalue": "'builtin_function_or_method' object has no attribute 'size'",
     "output_type": "error",
     "traceback": [
      "\u001b[1;31m---------------------------------------------------------------------------\u001b[0m",
      "\u001b[1;31mAttributeError\u001b[0m                            Traceback (most recent call last)",
      "Input \u001b[1;32mIn [94]\u001b[0m, in \u001b[0;36m<cell line: 1>\u001b[1;34m()\u001b[0m\n\u001b[1;32m----> 1\u001b[0m \u001b[38;5;28;01mif\u001b[39;00m \u001b[38;5;28mbool\u001b[39m(\u001b[43midx\u001b[49m\u001b[38;5;241;43m.\u001b[39;49m\u001b[43msize\u001b[49m \u001b[38;5;241m>\u001b[39m \u001b[38;5;241m0\u001b[39m) \u001b[38;5;241m==\u001b[39m \u001b[38;5;28;01mFalse\u001b[39;00m:\n\u001b[0;32m      2\u001b[0m     \u001b[38;5;28;01mpass\u001b[39;00m\n\u001b[0;32m      3\u001b[0m \u001b[38;5;28;01melse\u001b[39;00m:\n\u001b[0;32m      4\u001b[0m     \u001b[38;5;66;03m# 건폐율, 용적률 데이터프레임 나누기\u001b[39;00m\n",
      "\u001b[1;31mAttributeError\u001b[0m: 'builtin_function_or_method' object has no attribute 'size'"
     ]
    }
   ],
   "source": [
    "if bool(idx.size > 0) == False:\n",
    "    pass\n",
    "else:\n",
    "    # 건폐율, 용적률 데이터프레임 나누기\n",
    "    df_bc = df.loc[idx[0]:][0:16].reset_index(drop=True) # 건폐율\n",
    "    df_far = df.loc[idx[1]:][0:16].reset_index(drop=True) # 용적률\n",
    "    \n",
    "    # 데이터프레임 합치기\n",
    "    df_buildingCoverage = pd.concat([df_buildingCoverage, df_bc], axis=1).reset_index(drop=True)\n",
    "    df_floorAreaRatio = pd.concat([df_floorAreaRatio, df_far], axis=1).reset_index(drop=True)\n",
    "    re_list.append(file_name.split(' ')[0][2:])"
   ]
  },
  {
   "cell_type": "code",
   "execution_count": 85,
   "id": "32167648-2291-44ae-a2cd-0f00eb3ca0a4",
   "metadata": {},
   "outputs": [
    {
     "data": {
      "text/plain": [
       "[]"
      ]
     },
     "execution_count": 85,
     "metadata": {},
     "output_type": "execute_result"
    }
   ],
   "source": [
    "re_list = "
   ]
  },
  {
   "cell_type": "code",
   "execution_count": null,
   "id": "04e36e2a-e893-434d-82b7-e059fb42b349",
   "metadata": {},
   "outputs": [],
   "source": [
    "# 각 시군구 txt 파일 수집\n",
    "downloadSep(re_list)"
   ]
  },
  {
   "cell_type": "markdown",
   "id": "28864ce5-3191-4458-a593-6170a0fa0984",
   "metadata": {},
   "source": [
    "ver2 (if)"
   ]
  },
  {
   "cell_type": "code",
   "execution_count": 139,
   "id": "9cc64712-e3de-4d52-8233-ea81528f7e90",
   "metadata": {
    "collapsed": true,
    "jupyter": {
     "outputs_hidden": true
    },
    "tags": []
   },
   "outputs": [
    {
     "name": "stderr",
     "output_type": "stream",
     "text": [
      "  6%|████▉                                                                              | 1/17 [00:50<13:34, 50.89s/it]\n"
     ]
    },
    {
     "ename": "KeyboardInterrupt",
     "evalue": "",
     "output_type": "error",
     "traceback": [
      "\u001b[1;31m---------------------------------------------------------------------------\u001b[0m",
      "\u001b[1;31mKeyboardInterrupt\u001b[0m                         Traceback (most recent call last)",
      "Input \u001b[1;32mIn [139]\u001b[0m, in \u001b[0;36m<cell line: 9>\u001b[1;34m()\u001b[0m\n\u001b[0;32m     30\u001b[0m \u001b[38;5;66;03m# txt file 수집\u001b[39;00m\n\u001b[0;32m     31\u001b[0m \u001b[38;5;28;01mfor\u001b[39;00m sido \u001b[38;5;129;01min\u001b[39;00m tqdm(sido_names[\u001b[38;5;241m1\u001b[39m:\u001b[38;5;241m-\u001b[39m\u001b[38;5;241m1\u001b[39m]):\n\u001b[1;32m---> 32\u001b[0m     \u001b[43mgetTxtSep\u001b[49m\u001b[43m(\u001b[49m\u001b[43msido_names\u001b[49m\u001b[43m[\u001b[49m\u001b[38;5;241;43m1\u001b[39;49m\u001b[43m:\u001b[49m\u001b[38;5;241;43m-\u001b[39;49m\u001b[38;5;241;43m1\u001b[39;49m\u001b[43m]\u001b[49m\u001b[43m)\u001b[49m\n\u001b[0;32m     34\u001b[0m driver\u001b[38;5;241m.\u001b[39mclose()\n\u001b[0;32m     35\u001b[0m \u001b[38;5;28;01mpass\u001b[39;00m\n",
      "Input \u001b[1;32mIn [138]\u001b[0m, in \u001b[0;36mgetTxtSep\u001b[1;34m(sido)\u001b[0m\n\u001b[0;32m     45\u001b[0m \u001b[38;5;66;03m# txt 저장\u001b[39;00m\n\u001b[0;32m     46\u001b[0m driver\u001b[38;5;241m.\u001b[39mfind_element_by_xpath(\u001b[38;5;124m'\u001b[39m\u001b[38;5;124m/html/body/div/div/div/div[1]/a[1]\u001b[39m\u001b[38;5;124m'\u001b[39m)\u001b[38;5;241m.\u001b[39mclick()\n\u001b[1;32m---> 48\u001b[0m \u001b[43mtime\u001b[49m\u001b[38;5;241;43m.\u001b[39;49m\u001b[43msleep\u001b[49m\u001b[43m(\u001b[49m\u001b[38;5;241;43m5\u001b[39;49m\u001b[43m)\u001b[49m\n\u001b[0;32m     50\u001b[0m \u001b[38;5;66;03m# 창 닫기, 검색 창으로 전환\u001b[39;00m\n\u001b[0;32m     51\u001b[0m driver\u001b[38;5;241m.\u001b[39mclose()\n",
      "\u001b[1;31mKeyboardInterrupt\u001b[0m: "
     ]
    }
   ],
   "source": [
    "from glob import glob\n",
    "\n",
    "# txt to dataframe\n",
    "tmp_raw = []\n",
    "df_buildingCoverage = pd.DataFrame()\n",
    "df_floorAreaRatio = pd.DataFrame()\n",
    "re_list = []\n",
    "\n",
    "for file_name in glob('./*도시계획*.txt'):\n",
    "    with open(file_name, encoding='utf-8') as f:\n",
    "        lines = f.readlines()\n",
    "        df = pd.DataFrame(lines, columns=[file_name.split(' ')[0][2:]]).drop_duplicates(keep=False).reset_index(drop=True)\n",
    "        df[file_name.split(' ')[0][2:]] = df[file_name.split(' ')[0][2:]].str.replace('\\n','')\n",
    "        \n",
    "        # try:\n",
    "        # 해당 인덱스부터 15개 가져오기 -> 건폐율, 용적률 순서\n",
    "        idx = df[df[file_name.split(' ')[0][2:]].str.contains('제1종전용주거지역')].index\n",
    "\n",
    "        if idx.size == 0:\n",
    "            re_list.append(file_name.split(' ')[0][2:])\n",
    "\n",
    "            # 페이지 오픈\n",
    "            driver = webdriver.Chrome('./driver/chromedriver.exe')\n",
    "            driver.get('https://www.elis.go.kr/allalr/allAlrList')\n",
    "\n",
    "            # 시도, 시군구 추출\n",
    "            getSigungu()\n",
    "\n",
    "            # txt file 수집\n",
    "            for sigungu in tqdm(sigungu_names[1:-1]):\n",
    "                getTxtSep(sido_names[1:-1])\n",
    "\n",
    "            driver.close()\n",
    "            pass\n",
    "        else:\n",
    "            # 건폐율, 용적률 데이터프레임 나누기\n",
    "            df_bc = df.loc[idx[0]:][0:16].reset_index(drop=True) # 건폐율\n",
    "            df_far = df.loc[idx[1]:][0:16].reset_index(drop=True) # 용적률\n",
    "\n",
    "            # 데이터프레임 합치기\n",
    "            df_buildingCoverage = pd.concat([df_buildingCoverage, df_bc], axis=1).reset_index(drop=True)\n",
    "            df_floorAreaRatio = pd.concat([df_floorAreaRatio, df_far], axis=1).reset_index(drop=True)\n",
    "#         except:\n",
    "#             re_list.append(file_name.split(' ')[0][2:])\n",
    "            \n",
    "#             # 전 지역 txt 파일 다운로드\n",
    "#             getTxtSep(sido)\n",
    "            \n",
    "#             pass"
   ]
  },
  {
   "cell_type": "code",
   "execution_count": 150,
   "id": "a51c5e1c-c78a-45a0-9396-59fc0b0110da",
   "metadata": {},
   "outputs": [
    {
     "data": {
      "text/plain": [
       "'.\\\\강원도 도시계획 조례.txt'"
      ]
     },
     "execution_count": 150,
     "metadata": {},
     "output_type": "execute_result"
    }
   ],
   "source": [
    "file_name"
   ]
  },
  {
   "cell_type": "code",
   "execution_count": 147,
   "id": "070acef2-18e7-4a54-b212-4c9d60ddfcea",
   "metadata": {},
   "outputs": [],
   "source": [
    "with open(file_name, encoding='utf-8') as f:\n",
    "    lines = f.readlines()\n",
    "    df = pd.DataFrame(lines, columns=[file_name.split(' ')[0][2:]]).drop_duplicates(keep=False).reset_index(drop=True)\n",
    "    df[file_name.split(' ')[0][2:]] = df[file_name.split(' ')[0][2:]].str.replace('\\n','')"
   ]
  },
  {
   "cell_type": "code",
   "execution_count": 148,
   "id": "db58665b-ab05-41b6-b3eb-37c556ce6f1e",
   "metadata": {},
   "outputs": [
    {
     "data": {
      "text/html": [
       "<div>\n",
       "<style scoped>\n",
       "    .dataframe tbody tr th:only-of-type {\n",
       "        vertical-align: middle;\n",
       "    }\n",
       "\n",
       "    .dataframe tbody tr th {\n",
       "        vertical-align: top;\n",
       "    }\n",
       "\n",
       "    .dataframe thead th {\n",
       "        text-align: right;\n",
       "    }\n",
       "</style>\n",
       "<table border=\"1\" class=\"dataframe\">\n",
       "  <thead>\n",
       "    <tr style=\"text-align: right;\">\n",
       "      <th></th>\n",
       "      <th>강원도</th>\n",
       "    </tr>\n",
       "  </thead>\n",
       "  <tbody>\n",
       "    <tr>\n",
       "      <th>0</th>\n",
       "      <td>제6조의3(도시지역 내 지구단위계획구역에서의 건폐율 등의 완화적용) ① 삭제&lt;202...</td>\n",
       "    </tr>\n",
       "    <tr>\n",
       "      <th>1</th>\n",
       "      <td>② 영 제46조제1항제2호에 따른 공공시설등의 설치비용과 부지가액의 산정방법은 ...</td>\n",
       "    </tr>\n",
       "    <tr>\n",
       "      <th>2</th>\n",
       "      <td>1. 공공시설등의 설치비용은 「지방자치단체를 당사자로 하는 계약에 관한 법률 시...</td>\n",
       "    </tr>\n",
       "    <tr>\n",
       "      <th>3</th>\n",
       "      <td>2. 부지가액은 국토교통부장관이 정하는 요건을 갖춘 「감정평가 및 감정평가사에 ...</td>\n",
       "    </tr>\n",
       "    <tr>\n",
       "      <th>4</th>\n",
       "      <td>3. 공공시설 등의 설치비용 및 부지가액의 산정은 건축허가 신청일을 기준으로 한...</td>\n",
       "    </tr>\n",
       "    <tr>\n",
       "      <th>5</th>\n",
       "      <td>4. 공공시설등의 설치이행을 담보하기 위하여 이행보증금을 예치하게 할 수 있으며...</td>\n",
       "    </tr>\n",
       "    <tr>\n",
       "      <th>6</th>\n",
       "      <td>5. 제1호 및 제2호에 소요되는 비용은 공공시설등을 설치·제공하는 자가 부담하...</td>\n",
       "    </tr>\n",
       "    <tr>\n",
       "      <th>7</th>\n",
       "      <td>③ 영 제46조제11항에 따라 공공시설등의 부지를 제공하거나 공공시설등을 설치하...</td>\n",
       "    </tr>\n",
       "    <tr>\n",
       "      <th>8</th>\n",
       "      <td>1. 토지이용계획 및 기반시설 설치계획</td>\n",
       "    </tr>\n",
       "    <tr>\n",
       "      <th>9</th>\n",
       "      <td>2. 건축 및 주택건설 계획</td>\n",
       "    </tr>\n",
       "    <tr>\n",
       "      <th>10</th>\n",
       "      <td>3. 임대주택 수요분석 및 공급계획</td>\n",
       "    </tr>\n",
       "    <tr>\n",
       "      <th>11</th>\n",
       "      <td>④ 영 제46조의2제2항에 따라 도시계획조례로 정하는 금액이란 감정평가법인 등이...</td>\n",
       "    </tr>\n",
       "    <tr>\n",
       "      <th>12</th>\n",
       "      <td>⑤ 영 제46조의2제3항에 따라 도시계획조례로 정하는 사항은 다음 각 호와 같다...</td>\n",
       "    </tr>\n",
       "    <tr>\n",
       "      <th>13</th>\n",
       "      <td>1. 지구단위계획구역안에서 건축물을 건축하려는 자는 건축허가 시 현금납부액, 납...</td>\n",
       "    </tr>\n",
       "    <tr>\n",
       "      <th>14</th>\n",
       "      <td>2. 시장ㆍ군수는 공공시설등의 설치비용을 착공일부터 사용승인 또는 준공검사 신청...</td>\n",
       "    </tr>\n",
       "    <tr>\n",
       "      <th>15</th>\n",
       "      <td></td>\n",
       "    </tr>\n",
       "  </tbody>\n",
       "</table>\n",
       "</div>"
      ],
      "text/plain": [
       "                                                  강원도\n",
       "0   제6조의3(도시지역 내 지구단위계획구역에서의 건폐율 등의 완화적용) ① 삭제<202...\n",
       "1     ② 영 제46조제1항제2호에 따른 공공시설등의 설치비용과 부지가액의 산정방법은 ...\n",
       "2     1. 공공시설등의 설치비용은 「지방자치단체를 당사자로 하는 계약에 관한 법률 시...\n",
       "3     2. 부지가액은 국토교통부장관이 정하는 요건을 갖춘 「감정평가 및 감정평가사에 ...\n",
       "4     3. 공공시설 등의 설치비용 및 부지가액의 산정은 건축허가 신청일을 기준으로 한...\n",
       "5     4. 공공시설등의 설치이행을 담보하기 위하여 이행보증금을 예치하게 할 수 있으며...\n",
       "6     5. 제1호 및 제2호에 소요되는 비용은 공공시설등을 설치·제공하는 자가 부담하...\n",
       "7     ③ 영 제46조제11항에 따라 공공시설등의 부지를 제공하거나 공공시설등을 설치하...\n",
       "8                               1. 토지이용계획 및 기반시설 설치계획\n",
       "9                                     2. 건축 및 주택건설 계획\n",
       "10                                3. 임대주택 수요분석 및 공급계획\n",
       "11    ④ 영 제46조의2제2항에 따라 도시계획조례로 정하는 금액이란 감정평가법인 등이...\n",
       "12    ⑤ 영 제46조의2제3항에 따라 도시계획조례로 정하는 사항은 다음 각 호와 같다...\n",
       "13    1. 지구단위계획구역안에서 건축물을 건축하려는 자는 건축허가 시 현금납부액, 납...\n",
       "14    2. 시장ㆍ군수는 공공시설등의 설치비용을 착공일부터 사용승인 또는 준공검사 신청...\n",
       "15                                                   "
      ]
     },
     "execution_count": 148,
     "metadata": {},
     "output_type": "execute_result"
    }
   ],
   "source": [
    "df"
   ]
  },
  {
   "cell_type": "code",
   "execution_count": 154,
   "id": "d0a5cb4d-99aa-480b-bc7c-a1180e52ea3b",
   "metadata": {},
   "outputs": [
    {
     "data": {
      "text/html": [
       "<div>\n",
       "<style scoped>\n",
       "    .dataframe tbody tr th:only-of-type {\n",
       "        vertical-align: middle;\n",
       "    }\n",
       "\n",
       "    .dataframe tbody tr th {\n",
       "        vertical-align: top;\n",
       "    }\n",
       "\n",
       "    .dataframe thead th {\n",
       "        text-align: right;\n",
       "    }\n",
       "</style>\n",
       "<table border=\"1\" class=\"dataframe\">\n",
       "  <thead>\n",
       "    <tr style=\"text-align: right;\">\n",
       "      <th></th>\n",
       "      <th>강원도</th>\n",
       "    </tr>\n",
       "  </thead>\n",
       "  <tbody>\n",
       "  </tbody>\n",
       "</table>\n",
       "</div>"
      ],
      "text/plain": [
       "Empty DataFrame\n",
       "Columns: [강원도]\n",
       "Index: []"
      ]
     },
     "execution_count": 154,
     "metadata": {},
     "output_type": "execute_result"
    }
   ],
   "source": [
    "df[df[file_name.split(' ')[0][2:]].str.contains('제1종전용주거지역')]"
   ]
  },
  {
   "cell_type": "code",
   "execution_count": 152,
   "id": "d1f6d0f3-d927-439e-a11f-62644703d753",
   "metadata": {},
   "outputs": [
    {
     "data": {
      "text/plain": [
       "Int64Index([], dtype='int64')"
      ]
     },
     "execution_count": 152,
     "metadata": {},
     "output_type": "execute_result"
    }
   ],
   "source": [
    "idx"
   ]
  },
  {
   "cell_type": "code",
   "execution_count": null,
   "id": "b28a41e2-b7ce-4693-94ea-72536933c216",
   "metadata": {},
   "outputs": [],
   "source": []
  },
  {
   "cell_type": "code",
   "execution_count": null,
   "id": "1c54de77-eaac-4447-acad-e303563543df",
   "metadata": {},
   "outputs": [],
   "source": []
  },
  {
   "cell_type": "code",
   "execution_count": null,
   "id": "089e93d5-f1ea-47e1-8702-d50512717e51",
   "metadata": {},
   "outputs": [],
   "source": []
  },
  {
   "cell_type": "markdown",
   "id": "1e7c921b-9a89-4c8b-858c-40a70c9e617e",
   "metadata": {
    "jp-MarkdownHeadingCollapsed": true,
    "tags": []
   },
   "source": [
    "### txt to Dataframe"
   ]
  },
  {
   "cell_type": "markdown",
   "id": "4b342ba2-4c18-41b0-a0bd-d85b42fcfc56",
   "metadata": {
    "jp-MarkdownHeadingCollapsed": true,
    "tags": []
   },
   "source": [
    "###### 방법1 (text read)"
   ]
  },
  {
   "cell_type": "code",
   "execution_count": 6,
   "id": "1531cc70-f1d4-4e51-9176-9f1bea70a996",
   "metadata": {
    "tags": []
   },
   "outputs": [],
   "source": [
    "# read txt file\n",
    "f = open('./서울특별시 도시계획 조례.txt', 'rt', encoding='utf-8')\n",
    "data = f.read()"
   ]
  },
  {
   "cell_type": "code",
   "execution_count": 19,
   "id": "4c88fee7-1c8e-413e-b9ae-5f13560aff4b",
   "metadata": {
    "collapsed": true,
    "jupyter": {
     "outputs_hidden": true
    },
    "tags": []
   },
   "outputs": [
    {
     "data": {
      "text/plain": [
       "'\\n제1장 총칙\\n\\n제2장 광역도시계획 및 도시기본계획\\n\\n제3장 도시관리계획의 입안\\n\\n제4장 용도지구의 지정\\n\\n제5장 도시계획시설의 관리\\n\\n제6장 지구단위계획\\n\\n제7장 개발행위의 허가\\n\\n제8장 용도지역ㆍ용지지구 및 용도구역안에서의 행위제한 <개정 2011. 7. 28.>\\n\\n제1절 용도지역안에서의 행위제한\\n\\n제2절 경관지구안에서의 건축제한\\n\\n제3절 보호지구안에서의 건축제한 <신설 2018. 10. 4.>\\n\\n제4절 그 밖의 용도지구안에서의 건축제한 <신설 2018. 10. 4.>\\n\\n제5절 건폐율 및 용적률 <신설 2018. 10. 4.>\\n제54조(용도지역안에서의 건폐율) ① 법 제77조 및 영 제84조제1항에 따라 용도지역별 건폐율은 다음 각 호의 비율 이하로 한다. <개정 2008. 7. 30.>\\n  1. 제1종전용주거지역：50퍼센트\\n  2. 제2종전용주거지역：40퍼센트\\n  3. 제1종일반주거지역：60퍼센트\\n  4. 제2종일반주거지역：60퍼센트\\n  5. 제3종일반주거지역：50퍼센트\\n  6. 준주거지역：60퍼센트\\n  7. 중심상업지역：60퍼센트\\n  8. 일반상업지역：60퍼센트\\n  9. 근린상업지역：60퍼센트\\n  10. 유통상업지역：60퍼센트\\n  11. 전용공업지역：60퍼센트\\n  12. 일반공업지역：60퍼센트\\n  13. 준공업지역：60퍼센트\\n  14. 보전녹지지역：20퍼센트\\n  15. 생산녹지지역：20퍼센트\\n  16. 자연녹지지역：20퍼센트\\n  ② 법 제77조제3항 및 영 제84조제4항에 따라 다음 각 호의 지역 안에서의 건폐율은 제1항에도 불구하고 다음 각 호의 비율 이하로 한다. <개정 2008. 7. 30., 2011. 7. 28., 2012. 11. 1., 2016. 9. 29., 2019. 7. 18., 2020. 7. 16.>\\n  1. 취락지구 : 60퍼센트(집단취락지구에 대해서는 「개발제한구역의 지정 및 관리에 관한 특별조치법령」 이 정하는 바에 따른다)\\n  2. 「자연공원법」에 따른 자연공원\\n    가. 공원시설： 20퍼센트\\n    나. 공원시설이 아닌 시설： 60퍼센트\\n  3. 공업지역안에 있는 「산업입지 및 개발에 관한 법률」 제2조제8호가목 및 나목에 따른 국가산업단지 및 일반산업단지 : 60퍼센트\\n  ③ 도시계획시설인 학교(유치원은 제외한다) 또는 도시계획시설이 아닌 학교(유치원은 제외한다)로서 학교 전체가 이전한 부지(이하 \"학교이적지\"라 한다)는 제1항에도 불구하고 30퍼센트 이하로 한다. 다만, 다음 각 호의 어느 하나에 해당하는 경우에는 제1항을 적용한다. <개정 2008. 7. 30., 2014. 1. 9., 2016. 9. 29., 2021.9.30>\\n  1. 이전 후 10년이 경과된 학교이적지\\n  2. 국가, 지방자치단체, 교육청, 한국토지주택공사, 서울주택도시공사가 소유하는 학교이적지가 영 제2조제1항제4호에 따른 공공ㆍ문화체육시설로 개발되는 경우\\n  3. 개발이 완료된 학교이적지에 「건축법 시행령」 제34조에 따른 직통계단, 같은 법 시행령 제35조에 따른 피난계단 및 같은 법 시행령 제90조의 비상용승강기를 추가 설치하는 경우(다만, 추가 설치된 부분의 면적에 한한다)\\n  ④ 삭제 <2006. 10. 4.>\\n  ⑤ 제1항의 규정에도 불구하고 한양도성과 그 일부지역을 포함하는 지역으로서 규칙으로 정하는 한양도성 역사도심(이하 \"역사도심\"이라 한다) 등 도시정비형 재개발구역 중 소단위 및 보전 정비형의 건폐율은 시도시계획위원회의 심의를 거쳐 영 제84조제1항의 범위안에서 도시ㆍ주거환경정비기본계획으로 정할 수 있다. <개정 2003. 12. 30., 2008. 7. 30., 2016. 7. 14., 2018. 7. 19., 2019. 7. 18., 2021.12.30>\\n  ⑥ 시장은 영 제84조제5항에 따라 토지이용의 과밀화를 방지하기 위하여 건폐율을 낮추어야 할 필요가 있는 경우에는 제1항 및 제2항의 규정에도 불구하고 시도시계획위원회의 심의를 거쳐 구역을 정하고, 그 구역에 적용할 건폐율의 최대한도의 10분의 5까지 낮출 수 있다. <개정 2008. 7. 30., 2020. 7. 16., 2021.12.30>\\n  ⑦ 제1항의 규정에도 불구하고 산업ㆍ유통개발진흥지구 및 외국인투자기업에 대한 용도지역 안에서의 건폐율은 영 제84조제1항의 건폐율 범위 안에서 시도시계획위원회의 심의를 거쳐 완화할 수 있다. 다만, 제55조제12항에 따라 시도시계획위원회의 심의를 거쳐 용적률 완화를 받은 경우는 제외한다. <신설 2005. 1. 5., 2008. 7. 30., 2012. 11. 1., 2020. 7. 16., 2021.12.30>\\n  ⑧ 제1항의 규정에도 불구하고 영 제84조제6항제1호에 따른 건축물 중 지구단위계획을 수립하는 지역의 건축물의 경우에는 건폐율을 80퍼센트 이상 90퍼센트 이하의 범위 안에서 지구단위계획으로 따로 정할 수 있다. <신설 2006. 10. 4., 2008. 7. 30., 2010. 1. 7., 2016. 1. 7., 2020. 7. 16., 2021.12.30>\\n  ⑨ 제1항에도 불구하고 시장정비사업 추진계획 승인대상 전통시장의 경우 구청장이 주변의 교통ㆍ경관ㆍ미관ㆍ일조ㆍ채광 및 통풍 등에 미칠 영향이 없다고 인정하는 경우 건폐율을 제1종일반주거지역, 제2종일반주거지역, 준주거지역 및 준공업지역은 70퍼센트 이하, 제3종일반주거지역은 60퍼센트 이하, 상업지역은 80퍼센트 이하의 범위안에서 적용할 수 있다.다만, 상업지역의 경우 시장정비사업심의위원회의 심의를 거쳐 90퍼센트 이하의 범위안에서 건폐율을 완화할 수 있다. <신설 2006. 10. 4., 2007. 10. 1., 2011. 7. 28.>\\n  ⑩ 제1항의 규정에도 불구하고 자연녹지지역에 설치되는 도시계획시설 중 유원지의 건폐율은 30퍼센트를, 공원의 건폐율은 20퍼센트를 초과할 수 없다. <신설 2010. 1. 7.>\\n  ⑪ 법 제77조제4항제2호 및 영 제84조제6항제5호에 따라 녹지지역의 건축물로서 다음 각 호의 어느 하나에 해당하는 건축물의 건폐율은 30퍼센트 이하로 한다. <신설 2011. 10. 27., 2014. 10. 20., 2018. 3. 22., 2020. 7. 16.>\\n  1. 「전통사찰의 보존 및 지원에 관한 법률」 제2조제1호에 따른 전통사찰\\n  2. 「문화재보호법」 제2조제3항에 따른 지정문화재 또는 같은 조 제4항에 따른 등록문화재\\n  3. 「건축법 시행령」 제2조제16호에 따른 한옥\\n  ⑫ 제1항제15호에도 불구하고 영 제84조제8항에 따라 생산녹지지역에서 다음 각 호의 어느 하나에 해당하는 건축물의 건폐율은 30퍼센트 이하로 한다. <신설 2012. 1. 5., 2020. 7. 16.>\\n  1. 「농지법」 제32조제1항제1호에 따른 농수산물의 가공ㆍ처리시설 및 농수산업 관련 시험ㆍ연구시설\\n  2. 「농지법 시행령」 제29조제5항제1호에 따른 농산물 건조ㆍ보관시설\\n  ⑬ 제1항에도 불구하고 영 제84조제6항제2호에 따라 완화하는 비율은 해당 용도지역별 건폐율의 120퍼센트 이하로 한다. <신설 2014. 10. 20., 2016. 9. 29., 2019. 1. 3.>\\n  ⑭ 제1항제16호에도 불구하고 영 제84조제6항제7호에 따른 자연녹지지역에서 학교의 건폐율은 30퍼센트 이하로 한다. <신설 2017. 3. 23.>\\n  ⑮ 영 제84조제6항제8호에서 조례로 정하는 비율이란 30퍼센트를 말한다. <신설 2022.3.10>\\n제55조(용도지역안에서의 용적률) ① 법 제78조제1항ㆍ제2항 및 영 제85조제1항에 따라 용도지역별 용적률은 다음 각 호의 비율 이하로 한다. <개정 2008. 7. 30., 2016. 7. 14.>\\n  1. 제1종전용주거지역：100퍼센트\\n  2. 제2종전용주거지역：120퍼센트\\n  3. 제1종일반주거지역：150퍼센트\\n  4. 제2종일반주거지역：200퍼센트\\n  5. 제3종일반주거지역：250퍼센트\\n  6. 준주거지역：400퍼센트\\n  7. 중심상업지역：1천퍼센트(단, 역사도심：800퍼센트]\\n  8. 일반상업지역：800퍼센트(단, 역사도심：600퍼센트)\\n  9. 근린상업지역：600퍼센트(단, 역사도심：500퍼센트)\\n  10. 유통상업지역：600퍼센트(단, 역사도심：500퍼센트)\\n  11. 전용공업지역：200퍼센트\\n  12. 일반공업지역：200퍼센트\\n  13. 준공업지역： 400퍼센트\\n  14. 보전녹지지역：50퍼센트\\n  15. 생산녹지지역：50퍼센트\\n  16. 자연녹지지역：50퍼센트\\n  ② 제1항에도 불구하고 학교이적지에 대한 용도지역별 용적률은 다음 각 호의 비율 이하로 한다. 다만, 이전 후 10년이 경과된 학교이적지는 제1항을 적용한다 <개정 2014. 1. 9., 2016. 9. 29.>\\n  1. 상업지역: 500퍼센트\\n  2. 준주거지역: 320퍼센트\\n  3. 전용주거지역: 100퍼센트\\n  4. 제1종일반주거지역: 120퍼센트\\n  5. 제2종일반주거지역: 160퍼센트\\n  6. 제3종일반주거지역: 200퍼센트\\n  ③ 제1항제7호부터 제9호까지의 규정에도 불구하고 상업지역안에서 제31조제1항제1호, 제32조제1항제2호 및 제33조제1항제1호에 따른 주거복합건물(공동주택과 주거외의 용도가 복합된 건축물)을 건축하는 때에는 별표 3의 용적률을 적용한다. <개정 2017. 7. 13., 2017. 9. 21., 2021.12.30>\\n  ④ 제1항제13호에도 불구하고 준공업지역안에서 공동주택 등의 용적률은 다음 각 호 이하로 한다. <개정 2010. 1. 7., 2011. 7. 28., 2016. 3. 24., 2017. 5. 18., 2019. 3. 28., 2020. 3. 26., 2021.1.7, 2021.12.30>\\n  1. 공동주택ㆍ노인복지주택ㆍ오피스텔ㆍ다중생활시설(그 밖의 용도와 함께 건축하는 경우도 포함한다)의 용적률은 250퍼센트로 한다. 다만, 전략적인 산업재생이 필요하다고 인정되고 임대산업시설(시장이 영세제조시설, 산업시설 등을 지원하기 위하여 임대로 공급하는 시설물 또는 그 시설물을 설치하기 위한 부지를 말한다. 이하 같다)이 포함된 경우에는 400퍼센트로 한다.\\n  1의2. 제1호 본문에도 불구하고「산업집적활성화 및 공장설립에 관한 법률 시행령」제36조의4제2항 또는 [별표 2]에 따른 산업지원시설인 기숙사 및 오피스텔의 경우에 용적률은 400%로 한다.\\n  2. 제1호 본문에도 불구하고 「공공주택 특별법」 제2조제1호가목의 공공임대주택 및 같은 법 제2조의2의 공공준주택, 「민간임대주택에 관한 특별법」 제2조제4호의 공공지원민간임대주택 및 제5호의 장기일반민간임대주택은 임대분과 임대분의 3분의1에 해당하는 용적률을 추가 허용할 수 있으며, 이 경우 용적률은 300퍼센트로 한다.\\n  3. 제1호 본문에도 불구하고 「공공주택 특별법 시행령」 제2조제1항제2호의 국민임대주택, 제3호의 행복주택이나 제4호의 장기전세주택 또는 임대산업시설을 확보하는 「민간임대주택에 관한 특별법」 제2조제4호의 공공지원민간임대주택 및 제5호의 장기일반민간임대주택이 포함된 공동주택노인복지주택오피스텔(그 밖의 용도와 함께 건축하는 경우도 포함한다)의 용적률은 300퍼센트로 한다.\\n  4. 삭제 <2019. 7. 18.>\\n  5. 제1호 본문에도 불구하고 「산업입지 및 개발에 관한 법률」 제2조제8호의 각 목에 해당하는 산업단지인 경우, 「산업입지 및 개발에 관한 법률」 및 「산업집적 활성화 및 공장 설립에 관한 법률」의 각종 계획에 의하여 기숙사를 건축할 경우의 용적률은 400퍼센트로 한다.(공동주택, 노인복지주택, 오피스텔, 다중생활시설 이외의 용도와 함께 건축하는 경우도 포함한다)\\n  6. 제1호 본문에도 불구하고 준공업지역안에서 제35조제1호다목에 따른 산업복합건물(별표 2 제3호에 따른 산업시설과 공동주택 등의 용도가 복합된 건축물)을 건축하는 경우에는 별표 2의2의 용적률을 적용한다.\\n  ⑤ 제1항제15호 및 제16호의 규정에도 불구하고 생산녹지지역 또는 자연녹지역안에서 법 제2조제6호의 기반시설중 도시관리계획으로 설치하는 시설의 용적률은 지구단위계획으로 고시하거나 시도시계획위원회의 심의를 거쳐 100퍼센트 이하로 할 수 있다. <개정 2020. 7. 16., 2021.12.30>\\n  ⑥ 법 제78조제3항 및 영 제85조제6항에 따라 「자연공원법」에 따른 자연공원 안에서의 용적률은 100퍼센트 이하로 한다. <개정 2006. 10. 4., 2008. 7. 30., 2011. 7. 28., 2012. 11. 1., 2015. 1. 2.>\\n  ⑦ 법 제51조ㆍ영 제43조 및 이 조례 제16조에 따라 지정된 지구단위계획구역안에서의 용적률은 이 조의 규정과 법 제52조 및 영 제46조의 규정의 범위안에서 규칙으로 정한다. <개정 2008. 7. 30., 2019. 3. 28.>\\n  ⑧ 제1항제3호부터 제6호까지와 제4항의 규정에도 불구하고 시장정비사업 추진계획 승인대상 전통시장의 용적률은 일반주거지역안은 400퍼센트 이하로, 준주거지역은 450퍼센트 이하로, 준공업지역은 400퍼센트 이하로 한다. <개정 2006. 3. 16., 2006. 10. 4., 2007. 10. 1., 2008. 7. 30., 2011. 7. 28.>\\n  ⑨ 제8항에도 불구하고 구청장이 「전통시장 및 상점가 육성을 위한 특별법 시행령」제16조에 따른 사업추진계획을 검토하여 주변의 교통ㆍ경관ㆍ미관ㆍ일조ㆍ채광 및 통풍 등에 미칠 영향이 없다고 인정하여 이를 시장정비사업심의위원회에서 심의ㆍ가결한 경우에는 준주거지역에 위치한 전통시장의 용적률은 500퍼센트 이하로 할 수 있다. <개정 2006. 3. 16., 2006. 10. 4., 2007. 10. 1., 2008. 7. 30., 2011. 7. 28.>\\n  ⑩ 영 제85조제8항 각 호의 지역ㆍ지구 또는 구역안에서 건축물을 건축하려는 자가 그 대지의 일부를 공공시설부지로 제공하는 경우에는 해당 건축물에 대한 용적률은 제1항부터 제4항까지의 규정에 따른 해당 용적률의 200퍼센트 이하의 범위안에서 다음의 기준에 따라 산출되는 비율 이하로 한다.(1+1.3α)×제1항부터 제4항까지의 규정에 따른 용적률(다만, 주택재개발사업의 경우 제1항제3호는 180퍼센트 이하, 제1항제4호는 220퍼센트 이하로 한다), 여기서 α란 공공시설부지로 제공한 후의 대지면적 대 공공시설부지로 제공하는 면적의 비율을 말한다. <개정 2005. 1. 5., 2006. 10. 4., 2008. 7. 30., 2010. 1. 7., 2015. 1. 2.>\\n  ⑪ 제1항제2호의 규정에도 불구하고 「서울특별시 지역균형발전지원 조례」에 따라 뉴타운사업을 시행하는 지구안의 제2종전용주거지역의 용적률은 시장이 필요하다고 인정하는 경우 시도시계획위원회의 심의를 거쳐 150퍼센트 이하로 할 수 있다. <신설 2004. 09. 24., 2008. 7. 30., 2019. 3. 28., 2021.12.30>\\n  ⑫ 제1항의 규정에도 불구하고 산업ㆍ유통개발진흥지구, 외국인투자기업 또는 특정관리대상 아파트의 용적률은 해당 용도지역안에서의 용적률을 초과하여 100퍼센트 이하(해당 용도지역의 용적률과 초과 용적률 100퍼센트 이하의 용적률을 합한 전체 용적률이 영 제85조제1항의 용적률 범위를 초과하는 경우에는 영 제85조제1항의 용적률 이하)범위안에서 지구단위계획으로 고시하거나 시도시계획위원회의 심의를 거쳐 완화할 수 있다. <신설 2005. 1. 5., 2008. 7. 30., 2012. 11. 1., 2020. 7. 16., 2021.12.30>\\n  ⑬ 제1항제8호의 규정에도 불구하고 역사도심내 도시정비형 재개발사업으로 시행하는 경우의 용적률은 800퍼센트 범위내에서 도시ㆍ주거환경정비기본계획(도시정비형 재개발사업)에서 정하는 용적률을 적용한다. <신설 2005. 1. 5., 2016. 7. 14., 2018. 7. 19., 2021.12.30>\\n  ⑭ 제1항에도 불구하고 영 제85조제3항에 따라 제1항제1호부터 제6호까지의 지역에서는 「공공주택 특별법」 제2조제1호가목, 「민간임대주택에 관한 특별법」 제2조제4호 및 제5호에 따른 임대주택의 임대기간에 따라 임대주택의 추가 건설을 허용할 수 있는 용적률은 다음 각 호와 같다. 다만, 임대주택건설 사업자가 다음 각 호의 기준 이하로 용적률을 신청하는 경우 그에 따른다. <개정 2015. 5. 14., 2016. 3. 24., 2021.12.30>\\n  1. 임대의무기간이 20년 이상인 경우 : 제1항에 따른 용적률의 20퍼센트\\n  2. 임대의무기간이 10년 이상인 경우 : 제1항에 따른 용적률의 15퍼센트\\n  ⑮ 제1항제3호부터 제10호까지의 규정에도 불구하고 국ㆍ공유지에 「문화예술 진흥법 시행령」 제2조에 따른 문화시설 중 박물관, 도서관, 미술관, 공연장을 건축하여 기부채납하는 경우에는 영 제85조제1항의 해당 용도지역의 용적률의 범위 안에서 지구단위계획으로 고시하거나 시도시계획위원회의 심의를 거쳐 완화 할 수 있다. <신설 2007. 10. 1., 2008. 7. 30., 2016. 7. 14., 2020. 7. 16., 2021.12.30>\\n  ⑯ 제1항제5호와 제6호에도 불구하고 규칙으로 정하는 지역 안에서 「공공주택 특별법 시행령」제2조제1항제2호의 국민임대주택, 제3호의 행복주택이나 제4호의 장기전세주택이 포함된 공동주택 또는 주거복합건물을 건립하는 경우 제3종일반주거지역은 300퍼센트 이하로 하고, 준주거지역은 500퍼센트 이하로 한다. <신설 2008. 7. 30., 2011. 7. 28., 2016. 7. 14., 2017. 5. 18.>\\n  ⑰ 제1항에도 불구하고 제1항제6호부터 제10호까지의 지역(역사도심 지역을 포함한다)에서 「관광진흥법 시행령」 제2조제1항제2호 가목 및 다목의 관광호텔업, 한국전통호텔업을 위한 관광숙박시설을 건축할 경우에는 지구단위계획으로 고시하거나 시도시계획위원회의 심의를 거쳐 제1항에 따른 용적률의 20퍼센트 이하의 범위안에서 완화할 수 있다. <신설 2009. 09. 29., 2011. 7. 28., 2016. 7. 14., 2020. 7. 16.>\\n  ⑱ 제1항의 규정에도 불구하고 공공보도의 보행환경 개선과 도시미관향상을 위하여 지하철출입구ㆍ환기구ㆍ배전함 등(이하 \"지하철출입구등\"이라 한다)을 건물 또는 대지내 설치하여 기부채납하거나 구분지상권을 설정하는 경우에는 영 제85조제1항의 해당 용도지역의 용적률의 범위 안에서 다음 산식에 따라 지구단위계획으로 고시하거나 시도시계획위원회의 심의를 거쳐 완화 할 수 있다. <신설 2010. 4. 22., 2015. 1. 2., 2020. 7. 16., 2021.12.30>\\n  1. 대지에 설치할 경우 : 용적률 × (지하철출입구등의 건폐면적 / 대지면적) 이내\\n  2. 건물에 설치할 경우 : 용적률 × (지하철출입구등의 연면적 / 건물 연면적) 이내\\n  ⑲ 제1항의 규정에도 불구하고 영 제85조제5항에 따라 완화하는 비율은 해당 용도지역별 용적률의 120퍼센트이하로 한다. <신설 2014. 10. 20.>\\n  ⑳ 법 제78조제6항 및 영 제85조제11항에 따라 건축물을 건축하려는 자가 그 대지의 일부에 영 제85조제10항에 따른 사회복지시설을 설치하여 기부하는 경우에는 기부하는 시설의 연면적의 2배 이하 범위에서 영 제42조의3제2항 및 제46조제1항에 따라 용적률을 완화하여 추가 건축할 수 있다. 다만, 해당 용적율은 다음 각 호의 기준을 초과할 수 없다. <신설 2016. 1. 7., 2020. 7. 16.>\\n  1. 제1항에 따른 용적률의 120퍼센트\\n  2. 영 제85조제1항의 해당 용도지역의 용적률의 범위\\n  ㉑ 영 제85조제10항제3호에 따라 도시계획 조례가 정하는 사회복지시설이란「도시ㆍ군계획시설의 결정ㆍ구조 및 설치기준에 관한 규칙」제107조에 따른 사회복지시설을 말한다. <신설 2016. 1. 7.>\\n  ㉒ 제1항제6호 규정에도 불구하고 준주거지역에서는 「공공주택 특별법」 제2조제1호가목에 따른 임대주택 추가 확보시(증가하는 용적률의 2분의1에 해당하는 용적률) 500퍼센트 이하로 한다. <신설 2019. 3. 28.>\\n  ㉓ 제1항제2호부터 제6호까지에 따른 지역에서 「고등교육법」 제2조에 따른 학교의 학생이 이용하는 다음 각 호의 기숙사를 건설하는 경우에는 지구단위계획으로 고시하거나 시도시계획위원회의 심의를 거쳐 제1항에 따른 해당 용도지역 용적률의 20퍼센트 이하의 범위에서 용적률을 완화할 수 있다. <신설 2019. 7. 18., 2020. 7. 16.>\\n  1. 다음 각 목의 어느 하나에 해당하는 자가 도시계획시설인 학교 부지 외에 건설하는 기숙사\\n    가. 국가 또는 지방자치단체\\n    나. 「사립학교법」에 따른 학교법인\\n    다. 「한국사학진흥재단법」에 따른 한국사학진흥재단\\n    라. 「한국장학재단 설립 등에 관한 법률」에 따른 한국장학재단\\n    마. 가목부터 라목까지의 어느 하나에 해당하는 자가 단독 또는 공동으로 출자하여 설립한 법인\\n  2. 도시계획시설인 학교 부지 내의 기숙사\\n  ㉔ 제1항에도 불구하고 감염병 대응 등을 위하여 필요한 경우에는 다음 각 호의 범위까지 용적률을 완화할 수 있다. <신설 2022.7.11>\\n  1. 영 제85조제3항제6호에 의한 경우에는 영 제85조제1항 각 호에 따른 용도지역별 용적률 최대한도의 120퍼센트 이하의 범위에서 완화할 수 있다.\\n  2. 도시계획시설인 종합의료시설 부지(도시계획시설 대학 내 의료시설 포함)에 지구단위계획으로 고시하는 경우(대학은 세부시설에 대한 조성계획으로 고시) 제1항 각 호에 따른 용도지역별 용적률의 120퍼센트 이하의 범위에서 완화할 수 있고, 이 경우 완화 받는 용적률의 1/2이상은 지구단위계획으로 정하는 공공이 필요한 의료시설을 설치하여야 한다. \\n\\n제6절 기존 건축물의 특례 <신설 2018. 10. 4.>\\n\\n제7절 개발제한구역의 관리 <신설 2018. 10. 4.>\\n\\n제9장 서울특별시 도시계획위원회\\n\\n제1절 서울특별시 도시계획위원회의 운영 등\\n\\n제2절 도시계획상임기획단\\n\\n제10장 보칙 <개정 2011. 7. 28.>\\n\\n'"
      ]
     },
     "execution_count": 19,
     "metadata": {},
     "output_type": "execute_result"
    }
   ],
   "source": [
    "data"
   ]
  },
  {
   "cell_type": "markdown",
   "id": "46f8e739-3ed7-4158-8353-18aad798b981",
   "metadata": {
    "jp-MarkdownHeadingCollapsed": true,
    "tags": []
   },
   "source": [
    "###### 방법2 (txt to dataframe)"
   ]
  },
  {
   "cell_type": "code",
   "execution_count": 35,
   "id": "93d698da-e6f3-4401-81c5-3fced1a9f541",
   "metadata": {
    "tags": []
   },
   "outputs": [],
   "source": [
    "# txt to dataframe\n",
    "df = pd.read_csv('./서울특별시 도시계획 조례.txt', sep='\\t', header=None)"
   ]
  },
  {
   "cell_type": "code",
   "execution_count": 36,
   "id": "9dbd4306-0b6d-431d-a7c4-dd807c5de1b9",
   "metadata": {
    "tags": []
   },
   "outputs": [
    {
     "data": {
      "text/html": [
       "<div>\n",
       "<style scoped>\n",
       "    .dataframe tbody tr th:only-of-type {\n",
       "        vertical-align: middle;\n",
       "    }\n",
       "\n",
       "    .dataframe tbody tr th {\n",
       "        vertical-align: top;\n",
       "    }\n",
       "\n",
       "    .dataframe thead th {\n",
       "        text-align: right;\n",
       "    }\n",
       "</style>\n",
       "<table border=\"1\" class=\"dataframe\">\n",
       "  <thead>\n",
       "    <tr style=\"text-align: right;\">\n",
       "      <th></th>\n",
       "      <th>0</th>\n",
       "    </tr>\n",
       "  </thead>\n",
       "  <tbody>\n",
       "    <tr>\n",
       "      <th>0</th>\n",
       "      <td>제1장 총칙</td>\n",
       "    </tr>\n",
       "    <tr>\n",
       "      <th>1</th>\n",
       "      <td>제2장 광역도시계획 및 도시기본계획</td>\n",
       "    </tr>\n",
       "    <tr>\n",
       "      <th>2</th>\n",
       "      <td>제3장 도시관리계획의 입안</td>\n",
       "    </tr>\n",
       "    <tr>\n",
       "      <th>3</th>\n",
       "      <td>제4장 용도지구의 지정</td>\n",
       "    </tr>\n",
       "    <tr>\n",
       "      <th>4</th>\n",
       "      <td>제5장 도시계획시설의 관리</td>\n",
       "    </tr>\n",
       "    <tr>\n",
       "      <th>5</th>\n",
       "      <td>제6장 지구단위계획</td>\n",
       "    </tr>\n",
       "    <tr>\n",
       "      <th>6</th>\n",
       "      <td>제7장 개발행위의 허가</td>\n",
       "    </tr>\n",
       "    <tr>\n",
       "      <th>7</th>\n",
       "      <td>제8장 용도지역ㆍ용지지구 및 용도구역안에서의 행위제한 &lt;개정 2011. 7. 28.&gt;</td>\n",
       "    </tr>\n",
       "    <tr>\n",
       "      <th>8</th>\n",
       "      <td>제1절 용도지역안에서의 행위제한</td>\n",
       "    </tr>\n",
       "    <tr>\n",
       "      <th>9</th>\n",
       "      <td>제2절 경관지구안에서의 건축제한</td>\n",
       "    </tr>\n",
       "    <tr>\n",
       "      <th>10</th>\n",
       "      <td>제3절 보호지구안에서의 건축제한 &lt;신설 2018. 10. 4.&gt;</td>\n",
       "    </tr>\n",
       "    <tr>\n",
       "      <th>11</th>\n",
       "      <td>제4절 그 밖의 용도지구안에서의 건축제한 &lt;신설 2018. 10. 4.&gt;</td>\n",
       "    </tr>\n",
       "    <tr>\n",
       "      <th>12</th>\n",
       "      <td>제5절 건폐율 및 용적률 &lt;신설 2018. 10. 4.&gt;</td>\n",
       "    </tr>\n",
       "    <tr>\n",
       "      <th>13</th>\n",
       "      <td>제54조(용도지역안에서의 건폐율) ① 법 제77조 및 영 제84조제1항에 따라 용도...</td>\n",
       "    </tr>\n",
       "    <tr>\n",
       "      <th>14</th>\n",
       "      <td>1. 제1종전용주거지역：50퍼센트</td>\n",
       "    </tr>\n",
       "    <tr>\n",
       "      <th>15</th>\n",
       "      <td>2. 제2종전용주거지역：40퍼센트</td>\n",
       "    </tr>\n",
       "    <tr>\n",
       "      <th>16</th>\n",
       "      <td>3. 제1종일반주거지역：60퍼센트</td>\n",
       "    </tr>\n",
       "    <tr>\n",
       "      <th>17</th>\n",
       "      <td>4. 제2종일반주거지역：60퍼센트</td>\n",
       "    </tr>\n",
       "    <tr>\n",
       "      <th>18</th>\n",
       "      <td>5. 제3종일반주거지역：50퍼센트</td>\n",
       "    </tr>\n",
       "    <tr>\n",
       "      <th>19</th>\n",
       "      <td>6. 준주거지역：60퍼센트</td>\n",
       "    </tr>\n",
       "  </tbody>\n",
       "</table>\n",
       "</div>"
      ],
      "text/plain": [
       "                                                    0\n",
       "0                                              제1장 총칙\n",
       "1                                 제2장 광역도시계획 및 도시기본계획\n",
       "2                                      제3장 도시관리계획의 입안\n",
       "3                                        제4장 용도지구의 지정\n",
       "4                                      제5장 도시계획시설의 관리\n",
       "5                                          제6장 지구단위계획\n",
       "6                                        제7장 개발행위의 허가\n",
       "7     제8장 용도지역ㆍ용지지구 및 용도구역안에서의 행위제한 <개정 2011. 7. 28.>\n",
       "8                                   제1절 용도지역안에서의 행위제한\n",
       "9                                   제2절 경관지구안에서의 건축제한\n",
       "10                제3절 보호지구안에서의 건축제한 <신설 2018. 10. 4.>\n",
       "11           제4절 그 밖의 용도지구안에서의 건축제한 <신설 2018. 10. 4.>\n",
       "12                    제5절 건폐율 및 용적률 <신설 2018. 10. 4.>\n",
       "13  제54조(용도지역안에서의 건폐율) ① 법 제77조 및 영 제84조제1항에 따라 용도...\n",
       "14                                 1. 제1종전용주거지역：50퍼센트\n",
       "15                                 2. 제2종전용주거지역：40퍼센트\n",
       "16                                 3. 제1종일반주거지역：60퍼센트\n",
       "17                                 4. 제2종일반주거지역：60퍼센트\n",
       "18                                 5. 제3종일반주거지역：50퍼센트\n",
       "19                                     6. 준주거지역：60퍼센트"
      ]
     },
     "execution_count": 36,
     "metadata": {},
     "output_type": "execute_result"
    }
   ],
   "source": [
    "df.head(20)"
   ]
  },
  {
   "cell_type": "code",
   "execution_count": 336,
   "id": "cb3ac301-c881-4409-b6d1-9109eb6d549a",
   "metadata": {},
   "outputs": [
    {
     "data": {
      "text/html": [
       "<div>\n",
       "<style scoped>\n",
       "    .dataframe tbody tr th:only-of-type {\n",
       "        vertical-align: middle;\n",
       "    }\n",
       "\n",
       "    .dataframe tbody tr th {\n",
       "        vertical-align: top;\n",
       "    }\n",
       "\n",
       "    .dataframe thead th {\n",
       "        text-align: right;\n",
       "    }\n",
       "</style>\n",
       "<table border=\"1\" class=\"dataframe\">\n",
       "  <thead>\n",
       "    <tr style=\"text-align: right;\">\n",
       "      <th></th>\n",
       "      <th>0</th>\n",
       "    </tr>\n",
       "  </thead>\n",
       "  <tbody>\n",
       "    <tr>\n",
       "      <th>14</th>\n",
       "      <td>1. 제1종전용주거지역：50퍼센트</td>\n",
       "    </tr>\n",
       "    <tr>\n",
       "      <th>15</th>\n",
       "      <td>2. 제2종전용주거지역：40퍼센트</td>\n",
       "    </tr>\n",
       "    <tr>\n",
       "      <th>16</th>\n",
       "      <td>3. 제1종일반주거지역：60퍼센트</td>\n",
       "    </tr>\n",
       "    <tr>\n",
       "      <th>17</th>\n",
       "      <td>4. 제2종일반주거지역：60퍼센트</td>\n",
       "    </tr>\n",
       "    <tr>\n",
       "      <th>18</th>\n",
       "      <td>5. 제3종일반주거지역：50퍼센트</td>\n",
       "    </tr>\n",
       "    <tr>\n",
       "      <th>19</th>\n",
       "      <td>6. 준주거지역：60퍼센트</td>\n",
       "    </tr>\n",
       "    <tr>\n",
       "      <th>20</th>\n",
       "      <td>7. 중심상업지역：60퍼센트</td>\n",
       "    </tr>\n",
       "    <tr>\n",
       "      <th>21</th>\n",
       "      <td>8. 일반상업지역：60퍼센트</td>\n",
       "    </tr>\n",
       "    <tr>\n",
       "      <th>22</th>\n",
       "      <td>9. 근린상업지역：60퍼센트</td>\n",
       "    </tr>\n",
       "    <tr>\n",
       "      <th>23</th>\n",
       "      <td>10. 유통상업지역：60퍼센트</td>\n",
       "    </tr>\n",
       "    <tr>\n",
       "      <th>24</th>\n",
       "      <td>11. 전용공업지역：60퍼센트</td>\n",
       "    </tr>\n",
       "    <tr>\n",
       "      <th>25</th>\n",
       "      <td>12. 일반공업지역：60퍼센트</td>\n",
       "    </tr>\n",
       "    <tr>\n",
       "      <th>26</th>\n",
       "      <td>13. 준공업지역：60퍼센트</td>\n",
       "    </tr>\n",
       "    <tr>\n",
       "      <th>27</th>\n",
       "      <td>14. 보전녹지지역：20퍼센트</td>\n",
       "    </tr>\n",
       "    <tr>\n",
       "      <th>28</th>\n",
       "      <td>15. 생산녹지지역：20퍼센트</td>\n",
       "    </tr>\n",
       "    <tr>\n",
       "      <th>29</th>\n",
       "      <td>16. 자연녹지지역：20퍼센트</td>\n",
       "    </tr>\n",
       "    <tr>\n",
       "      <th>31</th>\n",
       "      <td>1. 취락지구 : 60퍼센트(집단취락지구에 대해서는 「개발제한구역의 지정 및 관...</td>\n",
       "    </tr>\n",
       "    <tr>\n",
       "      <th>33</th>\n",
       "      <td>가. 공원시설： 20퍼센트</td>\n",
       "    </tr>\n",
       "    <tr>\n",
       "      <th>34</th>\n",
       "      <td>나. 공원시설이 아닌 시설： 60퍼센트</td>\n",
       "    </tr>\n",
       "    <tr>\n",
       "      <th>35</th>\n",
       "      <td>3. 공업지역안에 있는 「산업입지 및 개발에 관한 법률」 제2조제8호가목 및 나...</td>\n",
       "    </tr>\n",
       "  </tbody>\n",
       "</table>\n",
       "</div>"
      ],
      "text/plain": [
       "                                                    0\n",
       "14                                 1. 제1종전용주거지역：50퍼센트\n",
       "15                                 2. 제2종전용주거지역：40퍼센트\n",
       "16                                 3. 제1종일반주거지역：60퍼센트\n",
       "17                                 4. 제2종일반주거지역：60퍼센트\n",
       "18                                 5. 제3종일반주거지역：50퍼센트\n",
       "19                                     6. 준주거지역：60퍼센트\n",
       "20                                    7. 중심상업지역：60퍼센트\n",
       "21                                    8. 일반상업지역：60퍼센트\n",
       "22                                    9. 근린상업지역：60퍼센트\n",
       "23                                   10. 유통상업지역：60퍼센트\n",
       "24                                   11. 전용공업지역：60퍼센트\n",
       "25                                   12. 일반공업지역：60퍼센트\n",
       "26                                    13. 준공업지역：60퍼센트\n",
       "27                                   14. 보전녹지지역：20퍼센트\n",
       "28                                   15. 생산녹지지역：20퍼센트\n",
       "29                                   16. 자연녹지지역：20퍼센트\n",
       "31    1. 취락지구 : 60퍼센트(집단취락지구에 대해서는 「개발제한구역의 지정 및 관...\n",
       "33                                     가. 공원시설： 20퍼센트\n",
       "34                              나. 공원시설이 아닌 시설： 60퍼센트\n",
       "35    3. 공업지역안에 있는 「산업입지 및 개발에 관한 법률」 제2조제8호가목 및 나..."
      ]
     },
     "execution_count": 336,
     "metadata": {},
     "output_type": "execute_result"
    }
   ],
   "source": [
    "# 55조(용적률) 찾기\n",
    "df[df[0].str.contains('퍼센트')].head(20)"
   ]
  },
  {
   "cell_type": "markdown",
   "id": "cb4a0cbf-5070-4fa0-bdb7-cf999c6f8a3c",
   "metadata": {
    "jp-MarkdownHeadingCollapsed": true,
    "tags": []
   },
   "source": [
    "###### 방법3 (doc document)"
   ]
  },
  {
   "cell_type": "code",
   "execution_count": 45,
   "id": "acd56a68-1daf-4a63-9584-43bb29bfa615",
   "metadata": {
    "collapsed": true,
    "jupyter": {
     "outputs_hidden": true
    },
    "tags": []
   },
   "outputs": [
    {
     "name": "stdout",
     "output_type": "stream",
     "text": [
      "Collecting python-docx\n",
      "  Downloading python-docx-0.8.11.tar.gz (5.6 MB)\n",
      "     ---------------------------------------- 5.6/5.6 MB 3.6 MB/s eta 0:00:00\n",
      "  Preparing metadata (setup.py): started\n",
      "  Preparing metadata (setup.py): finished with status 'done'\n",
      "Requirement already satisfied: lxml>=2.3.2 in c:\\users\\dupar\\anaconda3\\envs\\oasis\\lib\\site-packages (from python-docx) (4.9.1)\n",
      "Building wheels for collected packages: python-docx\n",
      "  Building wheel for python-docx (setup.py): started\n",
      "  Building wheel for python-docx (setup.py): finished with status 'done'\n",
      "  Created wheel for python-docx: filename=python_docx-0.8.11-py3-none-any.whl size=184507 sha256=024d0d997fff1fca25290e949cf49b65e4d90431a5d772d6f58dd216a98494f4\n",
      "  Stored in directory: c:\\users\\dupar\\appdata\\local\\pip\\cache\\wheels\\32\\b8\\b2\\c4c2b95765e615fe139b0b17b5ea7c0e1b6519b0a9ec8fb34d\n",
      "Successfully built python-docx\n",
      "Installing collected packages: python-docx\n",
      "Successfully installed python-docx-0.8.11\n"
     ]
    }
   ],
   "source": [
    "# !pip install python-docx"
   ]
  },
  {
   "cell_type": "code",
   "execution_count": 50,
   "id": "72de8913-108d-4ffa-bc9c-df5b44c975cc",
   "metadata": {},
   "outputs": [],
   "source": [
    "# import docx NOT python-docx\n",
    "from docx import Document\n",
    "# create an instance of a word document\n",
    "doc = docx.Document()"
   ]
  },
  {
   "cell_type": "code",
   "execution_count": 55,
   "id": "6b08d568-b956-42e4-8237-ea70d30869a9",
   "metadata": {
    "collapsed": true,
    "jupyter": {
     "outputs_hidden": true
    },
    "tags": []
   },
   "outputs": [
    {
     "ename": "PackageNotFoundError",
     "evalue": "Package not found at 'C:\\oasis\\서울특별시 도시계획 조례(서울특별시조례)(제8435호)(20220711).doc'",
     "output_type": "error",
     "traceback": [
      "\u001b[1;31m---------------------------------------------------------------------------\u001b[0m",
      "\u001b[1;31mPackageNotFoundError\u001b[0m                      Traceback (most recent call last)",
      "Input \u001b[1;32mIn [55]\u001b[0m, in \u001b[0;36m<cell line: 3>\u001b[1;34m()\u001b[0m\n\u001b[0;32m      1\u001b[0m \u001b[38;5;66;03m# doc 파일 불러오기\u001b[39;00m\n\u001b[0;32m      2\u001b[0m \u001b[38;5;66;03m# doc = Document('./서울특별시 도시계획 조례(서울특별시조례)(제8435호)(20220711).doc')\u001b[39;00m\n\u001b[1;32m----> 3\u001b[0m doc \u001b[38;5;241m=\u001b[39m \u001b[43mDocument\u001b[49m\u001b[43m(\u001b[49m\u001b[38;5;124;43mr\u001b[39;49m\u001b[38;5;124;43m'\u001b[39;49m\u001b[38;5;124;43mC:\u001b[39;49m\u001b[38;5;124;43m\\\u001b[39;49m\u001b[38;5;124;43moasis\u001b[39;49m\u001b[38;5;124;43m\\\u001b[39;49m\u001b[38;5;124;43m서울특별시 도시계획 조례(서울특별시조례)(제8435호)(20220711).doc\u001b[39;49m\u001b[38;5;124;43m'\u001b[39;49m\u001b[43m)\u001b[49m\n",
      "File \u001b[1;32m~\\Anaconda3\\envs\\oasis\\lib\\site-packages\\docx\\api.py:25\u001b[0m, in \u001b[0;36mDocument\u001b[1;34m(docx)\u001b[0m\n\u001b[0;32m     18\u001b[0m \u001b[38;5;124;03m\"\"\"\u001b[39;00m\n\u001b[0;32m     19\u001b[0m \u001b[38;5;124;03mReturn a |Document| object loaded from *docx*, where *docx* can be\u001b[39;00m\n\u001b[0;32m     20\u001b[0m \u001b[38;5;124;03meither a path to a ``.docx`` file (a string) or a file-like object. If\u001b[39;00m\n\u001b[0;32m     21\u001b[0m \u001b[38;5;124;03m*docx* is missing or ``None``, the built-in default document \"template\"\u001b[39;00m\n\u001b[0;32m     22\u001b[0m \u001b[38;5;124;03mis loaded.\u001b[39;00m\n\u001b[0;32m     23\u001b[0m \u001b[38;5;124;03m\"\"\"\u001b[39;00m\n\u001b[0;32m     24\u001b[0m docx \u001b[38;5;241m=\u001b[39m _default_docx_path() \u001b[38;5;28;01mif\u001b[39;00m docx \u001b[38;5;129;01mis\u001b[39;00m \u001b[38;5;28;01mNone\u001b[39;00m \u001b[38;5;28;01melse\u001b[39;00m docx\n\u001b[1;32m---> 25\u001b[0m document_part \u001b[38;5;241m=\u001b[39m \u001b[43mPackage\u001b[49m\u001b[38;5;241;43m.\u001b[39;49m\u001b[43mopen\u001b[49m\u001b[43m(\u001b[49m\u001b[43mdocx\u001b[49m\u001b[43m)\u001b[49m\u001b[38;5;241m.\u001b[39mmain_document_part\n\u001b[0;32m     26\u001b[0m \u001b[38;5;28;01mif\u001b[39;00m document_part\u001b[38;5;241m.\u001b[39mcontent_type \u001b[38;5;241m!=\u001b[39m CT\u001b[38;5;241m.\u001b[39mWML_DOCUMENT_MAIN:\n\u001b[0;32m     27\u001b[0m     tmpl \u001b[38;5;241m=\u001b[39m \u001b[38;5;124m\"\u001b[39m\u001b[38;5;124mfile \u001b[39m\u001b[38;5;124m'\u001b[39m\u001b[38;5;132;01m%s\u001b[39;00m\u001b[38;5;124m'\u001b[39m\u001b[38;5;124m is not a Word file, content type is \u001b[39m\u001b[38;5;124m'\u001b[39m\u001b[38;5;132;01m%s\u001b[39;00m\u001b[38;5;124m'\u001b[39m\u001b[38;5;124m\"\u001b[39m\n",
      "File \u001b[1;32m~\\Anaconda3\\envs\\oasis\\lib\\site-packages\\docx\\opc\\package.py:128\u001b[0m, in \u001b[0;36mOpcPackage.open\u001b[1;34m(cls, pkg_file)\u001b[0m\n\u001b[0;32m    122\u001b[0m \u001b[38;5;129m@classmethod\u001b[39m\n\u001b[0;32m    123\u001b[0m \u001b[38;5;28;01mdef\u001b[39;00m \u001b[38;5;21mopen\u001b[39m(\u001b[38;5;28mcls\u001b[39m, pkg_file):\n\u001b[0;32m    124\u001b[0m     \u001b[38;5;124;03m\"\"\"\u001b[39;00m\n\u001b[0;32m    125\u001b[0m \u001b[38;5;124;03m    Return an |OpcPackage| instance loaded with the contents of\u001b[39;00m\n\u001b[0;32m    126\u001b[0m \u001b[38;5;124;03m    *pkg_file*.\u001b[39;00m\n\u001b[0;32m    127\u001b[0m \u001b[38;5;124;03m    \"\"\"\u001b[39;00m\n\u001b[1;32m--> 128\u001b[0m     pkg_reader \u001b[38;5;241m=\u001b[39m \u001b[43mPackageReader\u001b[49m\u001b[38;5;241;43m.\u001b[39;49m\u001b[43mfrom_file\u001b[49m\u001b[43m(\u001b[49m\u001b[43mpkg_file\u001b[49m\u001b[43m)\u001b[49m\n\u001b[0;32m    129\u001b[0m     package \u001b[38;5;241m=\u001b[39m \u001b[38;5;28mcls\u001b[39m()\n\u001b[0;32m    130\u001b[0m     Unmarshaller\u001b[38;5;241m.\u001b[39munmarshal(pkg_reader, package, PartFactory)\n",
      "File \u001b[1;32m~\\Anaconda3\\envs\\oasis\\lib\\site-packages\\docx\\opc\\pkgreader.py:32\u001b[0m, in \u001b[0;36mPackageReader.from_file\u001b[1;34m(pkg_file)\u001b[0m\n\u001b[0;32m     27\u001b[0m \u001b[38;5;129m@staticmethod\u001b[39m\n\u001b[0;32m     28\u001b[0m \u001b[38;5;28;01mdef\u001b[39;00m \u001b[38;5;21mfrom_file\u001b[39m(pkg_file):\n\u001b[0;32m     29\u001b[0m     \u001b[38;5;124;03m\"\"\"\u001b[39;00m\n\u001b[0;32m     30\u001b[0m \u001b[38;5;124;03m    Return a |PackageReader| instance loaded with contents of *pkg_file*.\u001b[39;00m\n\u001b[0;32m     31\u001b[0m \u001b[38;5;124;03m    \"\"\"\u001b[39;00m\n\u001b[1;32m---> 32\u001b[0m     phys_reader \u001b[38;5;241m=\u001b[39m \u001b[43mPhysPkgReader\u001b[49m\u001b[43m(\u001b[49m\u001b[43mpkg_file\u001b[49m\u001b[43m)\u001b[49m\n\u001b[0;32m     33\u001b[0m     content_types \u001b[38;5;241m=\u001b[39m _ContentTypeMap\u001b[38;5;241m.\u001b[39mfrom_xml(phys_reader\u001b[38;5;241m.\u001b[39mcontent_types_xml)\n\u001b[0;32m     34\u001b[0m     pkg_srels \u001b[38;5;241m=\u001b[39m PackageReader\u001b[38;5;241m.\u001b[39m_srels_for(phys_reader, PACKAGE_URI)\n",
      "File \u001b[1;32m~\\Anaconda3\\envs\\oasis\\lib\\site-packages\\docx\\opc\\phys_pkg.py:30\u001b[0m, in \u001b[0;36mPhysPkgReader.__new__\u001b[1;34m(cls, pkg_file)\u001b[0m\n\u001b[0;32m     28\u001b[0m         reader_cls \u001b[38;5;241m=\u001b[39m _ZipPkgReader\n\u001b[0;32m     29\u001b[0m     \u001b[38;5;28;01melse\u001b[39;00m:\n\u001b[1;32m---> 30\u001b[0m         \u001b[38;5;28;01mraise\u001b[39;00m PackageNotFoundError(\n\u001b[0;32m     31\u001b[0m             \u001b[38;5;124m\"\u001b[39m\u001b[38;5;124mPackage not found at \u001b[39m\u001b[38;5;124m'\u001b[39m\u001b[38;5;132;01m%s\u001b[39;00m\u001b[38;5;124m'\u001b[39m\u001b[38;5;124m\"\u001b[39m \u001b[38;5;241m%\u001b[39m pkg_file\n\u001b[0;32m     32\u001b[0m         )\n\u001b[0;32m     33\u001b[0m \u001b[38;5;28;01melse\u001b[39;00m:  \u001b[38;5;66;03m# assume it's a stream and pass it to Zip reader to sort out\u001b[39;00m\n\u001b[0;32m     34\u001b[0m     reader_cls \u001b[38;5;241m=\u001b[39m _ZipPkgReader\n",
      "\u001b[1;31mPackageNotFoundError\u001b[0m: Package not found at 'C:\\oasis\\서울특별시 도시계획 조례(서울특별시조례)(제8435호)(20220711).doc'"
     ]
    }
   ],
   "source": [
    "# doc 파일 불러오기\n",
    "# doc = Document('./서울특별시 도시계획 조례(서울특별시조례)(제8435호)(20220711).doc')\n",
    "doc = Document(r'C:\\oasis\\서울특별시 도시계획 조례(서울특별시조례)(제8435호)(20220711).doc')"
   ]
  }
 ],
 "metadata": {
  "kernelspec": {
   "display_name": "project",
   "language": "python",
   "name": "project"
  },
  "language_info": {
   "codemirror_mode": {
    "name": "ipython",
    "version": 3
   },
   "file_extension": ".py",
   "mimetype": "text/x-python",
   "name": "python",
   "nbconvert_exporter": "python",
   "pygments_lexer": "ipython3",
   "version": "3.8.13"
  }
 },
 "nbformat": 4,
 "nbformat_minor": 5
}
