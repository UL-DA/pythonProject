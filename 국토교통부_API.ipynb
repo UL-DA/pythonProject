{
 "cells": [
  {
   "cell_type": "code",
   "execution_count": 1,
   "id": "8d2debfd-875c-4338-9eb0-17d8cb963908",
   "metadata": {},
   "outputs": [],
   "source": [
    "# 데이터 프레임 관련\n",
    "import pandas as pd\n",
    "\n",
    "# XML 관련\n",
    "import bs4\n",
    "from os import name\n",
    "from lxml import html\n",
    "import xml.etree.ElementTree as et\n",
    "from urllib.parse import urlencode, quote_plus, unquote\n",
    "\n",
    "# API 호출 관련\n",
    "import json\n",
    "import requests\n",
    "\n",
    "# 기타\n",
    "from tqdm import tqdm\n",
    "pd.set_option('display.width',1000)"
   ]
  },
  {
   "cell_type": "code",
   "execution_count": null,
   "id": "e3f70558-0e9f-47eb-9d7c-0c207b2c7d73",
   "metadata": {},
   "outputs": [],
   "source": [
    "## 각 컬럼 값 (참고 : https://www.data.go.kr/tcs/dss/selectApiDataDetailView.do?publicDataPk=15057267)\n",
    "\"\"\"\n",
    "resultCode : 결과코드\n",
    "resultMsg : 결과메시지\n",
    "Deal Amount : 거래금액\n",
    "Building Area : 건물 전용/연면적\n",
    "Building Use : 건물주용도\n",
    "Build Year : 건축년도\n",
    "Classification of Share Dealing : 지분거래 구분\n",
    "Deal Year : 계약년도\n",
    "Plottage : 대지권면적\n",
    "Dong : 물건 소재 법정동\n",
    "Sigungu : 물건 소재 시군구\n",
    "Land Use : 물건 소재 토지 용도지역\n",
    "Deal Month : 계약월\n",
    "Building Type : 일반/집합 건물 구분\n",
    "Deal Day : 계약일\n",
    "Regional Code : 지역코드\n",
    "Floor : 거래물건 층(집합건물)\n",
    "\"\"\" "
   ]
  },
  {
   "cell_type": "markdown",
   "id": "6cbf9634-f420-47db-9a42-b5f241e6175e",
   "metadata": {},
   "source": [
    "1. 현재 데이터 수집"
   ]
  },
  {
   "cell_type": "code",
   "execution_count": 3,
   "id": "bd41d78d-d7e4-4f05-9a3f-e84347f6fd13",
   "metadata": {},
   "outputs": [
    {
     "name": "stderr",
     "output_type": "stream",
     "text": [
      "100%|████████████████████████████████████████████████████████████████████████████████| 33/33 [00:00<00:00, 1231.24it/s]\n"
     ]
    }
   ],
   "source": [
    "# API 호출\n",
    "url        = 'http://openapi.molit.go.kr/OpenAPI_ToolInstallPackage/service/rest/RTMSOBJSvc/getRTMSDataSvcNrgTrade'\n",
    "serviceKey = 'C94PKnigawlH2iISVWz1Itw9tVzyuOCbOvKgzCrGOUZWvs3XqrkhH+/ntypJ7kK2P2g16vLYCJif3TNfO1i1KA=='\n",
    "params = {\n",
    "      'serviceKey' : serviceKey\n",
    "    , 'LAWD_CD'  : '11110'  # 구 단위\n",
    "    , 'DEAL_YMD' : '202207' # 날짜\n",
    "}\n",
    "response = requests.get(url, params=params)\n",
    "content  = response.text\n",
    "\n",
    "# item 태그 분리\n",
    "xml_obj = bs4.BeautifulSoup(content,'lxml-xml')\n",
    "rows    = xml_obj.findAll('item')\n",
    "\n",
    "# ver 4 (한 줄씩 데이터 프레임으로 만들어서 concat)\n",
    "# 리스트에 값 담기\n",
    "row_list   = [] # 행 값\n",
    "name_list  = [] # 열이름 값\n",
    "value_list = [] # 데이터 값\n",
    "DF = pd.DataFrame() # 최종 값\n",
    "\n",
    "# 데이터 수집\n",
    "for i in tqdm(range(0, len(rows))):\n",
    "    columns = rows[i].find_all()\n",
    "    \n",
    "    for j in range(0,len(columns)):\n",
    "        name_list.append(columns[j].name)\n",
    "        value_list.append(columns[j].text)\n",
    "    \n",
    "    row_list = value_list\n",
    "    df_each  = pd.DataFrame([row_list], columns=name_list)\n",
    "    DF = pd.concat([DF, df_each])\n",
    "    \n",
    "    # 초기화\n",
    "    name_list  = []\n",
    "    value_list = []\n",
    "\n",
    "# CSV 파일로 저장 (추후 DB 연동 예정)\n",
    "DF.to_excel('국토교통부_상업업무용 부동산 매매 신고 자료(202207).xlsx', encoding='utf-8')"
   ]
  },
  {
   "cell_type": "markdown",
   "id": "cbfe1892-3fa7-4c55-9b74-7330050aae56",
   "metadata": {},
   "source": [
    "과거 데이터 수집"
   ]
  },
  {
   "cell_type": "code",
   "execution_count": null,
   "id": "14cc0f1b-a3c6-4ea7-a26a-9b53518ab9d4",
   "metadata": {},
   "outputs": [],
   "source": [
    "# 진행중"
   ]
  }
 ],
 "metadata": {
  "kernelspec": {
   "display_name": "oasis",
   "language": "python",
   "name": "oasis"
  },
  "language_info": {
   "codemirror_mode": {
    "name": "ipython",
    "version": 3
   },
   "file_extension": ".py",
   "mimetype": "text/x-python",
   "name": "python",
   "nbconvert_exporter": "python",
   "pygments_lexer": "ipython3",
   "version": "3.8.13"
  }
 },
 "nbformat": 4,
 "nbformat_minor": 5
}
