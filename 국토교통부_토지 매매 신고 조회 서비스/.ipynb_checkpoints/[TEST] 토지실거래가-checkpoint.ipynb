{
 "cells": [
  {
   "cell_type": "code",
   "execution_count": 2,
   "id": "8d2debfd-875c-4338-9eb0-17d8cb963908",
   "metadata": {},
   "outputs": [],
   "source": [
    "import bs4\n",
    "import json\n",
    "import requests\n",
    "import psycopg2\n",
    "import datetime\n",
    "from os import name\n",
    "import numpy  as np\n",
    "import pandas as pd\n",
    "from tqdm import tqdm\n",
    "from datetime import date\n",
    "from dateutil.relativedelta import relativedelta"
   ]
  },
  {
   "cell_type": "markdown",
   "id": "ce31866c-6785-4201-a993-ef4f4ef33993",
   "metadata": {
    "jp-MarkdownHeadingCollapsed": true,
    "tags": []
   },
   "source": [
    "### 최종"
   ]
  },
  {
   "cell_type": "code",
   "execution_count": 2,
   "id": "094490f0-a8a6-4c18-96f2-74ab91736eab",
   "metadata": {},
   "outputs": [
    {
     "name": "stderr",
     "output_type": "stream",
     "text": [
      "100%|██████████| 277/277 [01:07<00:00,  4.12it/s]\n"
     ]
    },
    {
     "name": "stdout",
     "output_type": "stream",
     "text": [
      "2022-09-07 10:02:08.178215  :  0\n",
      "6587\n"
     ]
    },
    {
     "name": "stderr",
     "output_type": "stream",
     "text": [
      "100%|██████████| 277/277 [00:58<00:00,  4.71it/s]\n"
     ]
    },
    {
     "name": "stdout",
     "output_type": "stream",
     "text": [
      "2022-09-07 10:03:08.976180  :  0\n",
      "5776\n"
     ]
    },
    {
     "name": "stderr",
     "output_type": "stream",
     "text": [
      "100%|██████████| 277/277 [01:14<00:00,  3.72it/s]\n"
     ]
    },
    {
     "name": "stdout",
     "output_type": "stream",
     "text": [
      "2022-09-07 10:04:25.631613  :  0\n",
      "7575\n"
     ]
    },
    {
     "name": "stderr",
     "output_type": "stream",
     "text": [
      "100%|██████████| 277/277 [01:09<00:00,  4.01it/s]\n"
     ]
    },
    {
     "name": "stdout",
     "output_type": "stream",
     "text": [
      "2022-09-07 10:05:37.667568  :  0\n",
      "6767\n"
     ]
    },
    {
     "name": "stderr",
     "output_type": "stream",
     "text": [
      "100%|██████████| 277/277 [01:04<00:00,  4.30it/s]\n"
     ]
    },
    {
     "name": "stdout",
     "output_type": "stream",
     "text": [
      "2022-09-07 10:06:44.313040  :  0\n",
      "6413\n"
     ]
    },
    {
     "name": "stderr",
     "output_type": "stream",
     "text": [
      "100%|██████████| 277/277 [01:09<00:00,  3.97it/s]\n"
     ]
    },
    {
     "name": "stdout",
     "output_type": "stream",
     "text": [
      "2022-09-07 10:07:56.398564  :  0\n",
      "6594\n"
     ]
    },
    {
     "name": "stderr",
     "output_type": "stream",
     "text": [
      "100%|██████████| 277/277 [01:00<00:00,  4.61it/s]\n"
     ]
    },
    {
     "name": "stdout",
     "output_type": "stream",
     "text": [
      "2022-09-07 10:08:58.489207  :  0\n",
      "6331\n"
     ]
    },
    {
     "name": "stderr",
     "output_type": "stream",
     "text": [
      "100%|██████████| 277/277 [00:54<00:00,  5.12it/s]\n"
     ]
    },
    {
     "name": "stdout",
     "output_type": "stream",
     "text": [
      "2022-09-07 10:09:57.164027  :  0\n",
      "5853\n"
     ]
    },
    {
     "name": "stderr",
     "output_type": "stream",
     "text": [
      "100%|██████████| 277/277 [00:59<00:00,  4.67it/s]\n"
     ]
    },
    {
     "name": "stdout",
     "output_type": "stream",
     "text": [
      "2022-09-07 10:11:03.849597  :  0\n",
      "5875\n"
     ]
    },
    {
     "name": "stderr",
     "output_type": "stream",
     "text": [
      "100%|██████████| 277/277 [01:06<00:00,  4.18it/s]\n"
     ]
    },
    {
     "name": "stdout",
     "output_type": "stream",
     "text": [
      "2022-09-07 10:12:17.200536  :  0\n",
      "6683\n"
     ]
    },
    {
     "name": "stderr",
     "output_type": "stream",
     "text": [
      "100%|██████████| 277/277 [00:56<00:00,  4.86it/s]\n"
     ]
    },
    {
     "name": "stdout",
     "output_type": "stream",
     "text": [
      "2022-09-07 10:13:16.938229  :  0\n",
      "5426\n"
     ]
    },
    {
     "name": "stderr",
     "output_type": "stream",
     "text": [
      "100%|██████████| 277/277 [01:03<00:00,  4.33it/s]\n"
     ]
    },
    {
     "name": "stdout",
     "output_type": "stream",
     "text": [
      "2022-09-07 10:14:25.404174  :  0\n",
      "6732\n"
     ]
    }
   ],
   "source": [
    "# 기준월\n",
    "month_list = pd.date_range(start='2019.01', end='2022.08', freq='MS').strftime('%Y%m') # 과거\n",
    "# month_list = [(date.today() - relativedelta(months = 1)).strftime('%Y%m')] # 전월\n",
    "\n",
    "# Table\n",
    "# table = 'm1.rtms_trade'\n",
    "\n",
    "# 시군구코드 API\n",
    "lawd_cd_df = pd.DataFrame()\n",
    "lawd_cd_list = []\n",
    "lawd_cd_unique = []\n",
    "\n",
    "for i in range(1, 22):\n",
    "    \n",
    "    url = 'http://apis.data.go.kr/1741000/StanReginCd/getStanReginCdList'\n",
    "    serviceKey = 'C94PKnigawlH2iISVWz1Itw9tVzyuOCbOvKgzCrGOUZWvs3XqrkhH+/ntypJ7kK2P2g16vLYCJif3TNfO1i1KA=='\n",
    "    params = {\n",
    "        'serviceKey' : serviceKey,\n",
    "        'pageNo' : str(i),\n",
    "        'numOfRows' : '1000',\n",
    "        'type' : 'json'\n",
    "    }\n",
    "    response = requests.get(url, params=params)\n",
    "    content = response.text\n",
    "    \n",
    "    # Json List 변환\n",
    "    lawd_cd_df = pd.DataFrame(pd.json_normalize(data = json.loads(content), record_path = 'StanReginCd')['row'][1])\n",
    "    lawd_cd_list = list(lawd_cd_df['locatjumin_cd'].str[:5]) # 법정동 단위\n",
    "    \n",
    "    # 시군구코드 unique하게 남기기\n",
    "    for x in lawd_cd_list:\n",
    "        if x not in lawd_cd_unique:\n",
    "            lawd_cd_unique.append(x)\n",
    "\n",
    "# 토지실거래가 API\n",
    "url = 'http://openapi.molit.go.kr/OpenAPI_ToolInstallPackage/service/rest/RTMSOBJSvc/getRTMSDataSvcLandTrade'\n",
    "serviceKey = 'sJuqUegKT1Q0R4IRDqoJklMK8xDxru+rNu+K5JXRh1mbeH4tFTWwQYWVK3xdbbJCCe14u5bQyl43S28/5TtfrA=='\n",
    "\n",
    "for month in month_list:\n",
    "    \n",
    "    row_list   = [] # 행 값\n",
    "    name_list  = [] # 열이름 값\n",
    "    value_list = [] # 데이터 값\n",
    "    DF = pd.DataFrame() # 최종 값\n",
    "    \n",
    "    # API 요청\n",
    "    for code in tqdm(lawd_cd_unique):\n",
    "        params = {\n",
    "              'serviceKey' : serviceKey\n",
    "            , 'LAWD_CD'  : code  # 법정동 단위\n",
    "            , 'DEAL_YMD' : month # 월 단위\n",
    "        }\n",
    "        response = requests.get(url, params=params)\n",
    "        content  = response.text\n",
    "\n",
    "        # item 태그 분리\n",
    "        xml_obj = bs4.BeautifulSoup(content,'lxml-xml')\n",
    "        rows    = xml_obj.findAll('item')\n",
    "\n",
    "        # 데이터 수집\n",
    "        for i in range(0, len(rows)):\n",
    "            columns = rows[i].find_all()\n",
    "\n",
    "            for j in range(0,len(columns)):\n",
    "                name_list.append(columns[j].name)\n",
    "                value_list.append(columns[j].text)\n",
    "\n",
    "            row_list = value_list\n",
    "            df_each  = pd.DataFrame([row_list], columns=name_list)\n",
    "            DF = pd.concat([DF, df_each]).reset_index(drop = True)\n",
    "\n",
    "            # 초기화\n",
    "            name_list  = []\n",
    "            value_list = []\n",
    "        \n",
    "    # 전처리\n",
    "    DF = DF.replace(' ', None)\n",
    "    DF = DF.replace(np.nan, None)\n",
    "    if '구분' in DF.columns:\n",
    "        DF = DF.drop(['구분'], axis = 1)\n",
    "    \n",
    "    # rename\n",
    "    DF = DF.rename(columns = {\"거래금액\":\"deal_amount\",\n",
    "                              \"거래유형\":\"trade_type\",\n",
    "                              \"건물면적\":\"building_area\",\n",
    "                              \"건물주용도\":\"building_use\",\n",
    "                              \"건축년도\":\"build_year\",\n",
    "                              \"년\":\"deal_year\",\n",
    "                              \"대지면적\":\"plottage\",\n",
    "                              \"법정동\":\"dong\",\n",
    "                              \"시군구\":\"sigungu\",\n",
    "                              \"용도지역\":\"land_use\",\n",
    "                              \"월\":\"deal_month\",\n",
    "                              \"유형\":\"building_type\",\n",
    "                              \"일\":\"deal_day\",\n",
    "                              \"중개사소재지\":\"broker_location\",\n",
    "                              \"지역코드\":\"regional_code\",\n",
    "                              \"층\":\"floor_\",\n",
    "                              \"해제사유발생일\":\"unregister_day\",\n",
    "                              \"해제여부\":\"unregister_status\"})\n",
    "    \n",
    "    # dtype 변경\n",
    "    DF['deal_amount'] = DF['deal_amount'].apply(lambda x: x.replace(',', '')).astype('int64')\n",
    "    \n",
    "    # execute_mogrify\n",
    "    def execute_mogrify(conn, df, table, val):\n",
    "        # Create a list of tuples from the dataframe values\n",
    "        tuples = [tuple(x) for x in df.to_numpy()]\n",
    "        # Comma-separated dataframe columns\n",
    "        cols = ','.join(list(df.columns))\n",
    "        # SQL query to execute\n",
    "        cursor = conn.cursor()\n",
    "        values = [cursor.mogrify(val, tup).decode('utf8') for tup in\n",
    "                  tuples]\n",
    "        query = \"INSERT INTO %s(%s) VALUES \" % (table, cols) + \",\".join(values)\n",
    "\n",
    "        try:\n",
    "            cursor.execute(query, tuples)\n",
    "            conn.commit()\n",
    "        except (Exception, psycopg2.DatabaseError) as error:\n",
    "            print(\"Error: %s\" % error)\n",
    "            conn.rollback()\n",
    "            cursor.close()\n",
    "            return 1\n",
    "        cursor.close()\n",
    "    \n",
    "    # values 설정\n",
    "    val = '(' + ('%s,' * len(DF.columns))[:-1] + ')'\n",
    "\n",
    "    # insert\n",
    "    for j in range(0, len(DF), 10000):\n",
    "\n",
    "        # DB Connect\n",
    "        conn = psycopg2.connect(\n",
    "            host='redshift-cluster-1.ctvbwnnvbdkl.ap-northeast-2.redshift.amazonaws.com',\n",
    "            port=5439,\n",
    "            dbname='dev',\n",
    "            user='awsuser',\n",
    "            password='cremaoAdmin1234qwer!!'\n",
    "        )\n",
    "\n",
    "        # 10000개 단위로 나누기\n",
    "        tmp = DF[j:j + 10000]\n",
    "\n",
    "        # insert\n",
    "        execute_mogrify(conn, tmp, table, val)\n",
    "        print(datetime.datetime.now(), ' : ', j)\n",
    "        tmp = pd.DataFrame()\n",
    "\n",
    "    # row count\n",
    "    print(len(DF))"
   ]
  },
  {
   "cell_type": "markdown",
   "id": "6cbf9634-f420-47db-9a42-b5f241e6175e",
   "metadata": {},
   "source": [
    "### TEST"
   ]
  },
  {
   "cell_type": "code",
   "execution_count": 3,
   "id": "30eea8b5-a13e-4a6c-be78-78e0e15d6180",
   "metadata": {},
   "outputs": [],
   "source": [
    "# 기준월\n",
    "month_list = pd.date_range(start='2019.01', end='2022.08', freq='MS').strftime('%Y%m') # 과거\n",
    "# month_list = [(date.today() - relativedelta(months = 1)).strftime('%Y%m')] # 전월\n",
    "\n",
    "# Table\n",
    "# table = 'm1.rtms_trade'\n",
    "\n",
    "# 시군구코드 API\n",
    "lawd_cd_df = pd.DataFrame()\n",
    "lawd_cd_list = []\n",
    "lawd_cd_unique = []\n",
    "\n",
    "for i in range(1, 22):\n",
    "    \n",
    "    url = 'http://apis.data.go.kr/1741000/StanReginCd/getStanReginCdList'\n",
    "    serviceKey = 'C94PKnigawlH2iISVWz1Itw9tVzyuOCbOvKgzCrGOUZWvs3XqrkhH+/ntypJ7kK2P2g16vLYCJif3TNfO1i1KA=='\n",
    "    params = {\n",
    "        'serviceKey' : serviceKey,\n",
    "        'pageNo' : str(i),\n",
    "        'numOfRows' : '1000',\n",
    "        'type' : 'json'\n",
    "    }\n",
    "    response = requests.get(url, params=params)\n",
    "    content = response.text\n",
    "    \n",
    "    # Json List 변환\n",
    "    lawd_cd_df = pd.DataFrame(pd.json_normalize(data = json.loads(content), record_path = 'StanReginCd')['row'][1])\n",
    "    lawd_cd_list = list(lawd_cd_df['locatjumin_cd'].str[:5]) # 법정동 단위\n",
    "    \n",
    "    # 시군구코드 unique하게 남기기\n",
    "    for x in lawd_cd_list:\n",
    "        if x not in lawd_cd_unique:\n",
    "            lawd_cd_unique.append(x)"
   ]
  },
  {
   "cell_type": "code",
   "execution_count": 25,
   "id": "451becb7-43b5-4eca-82a8-ab5f040d797c",
   "metadata": {},
   "outputs": [],
   "source": [
    "spare = lawd_cd_unique"
   ]
  },
  {
   "cell_type": "code",
   "execution_count": 26,
   "id": "5fa94d68-d891-4cf5-9888-65ddf2d877c8",
   "metadata": {
    "collapsed": true,
    "jupyter": {
     "outputs_hidden": true
    },
    "tags": []
   },
   "outputs": [
    {
     "name": "stderr",
     "output_type": "stream",
     "text": [
      "100%|████████████████████████████████████████████████████████████████████████████████████████████████████████████| 277/277 [19:15<00:00,  4.17s/it]\n",
      "100%|████████████████████████████████████████████████████████████████████████████████████████████████████████████| 277/277 [14:36<00:00,  3.17s/it]\n",
      "100%|████████████████████████████████████████████████████████████████████████████████████████████████████████████| 277/277 [24:11<00:00,  5.24s/it]\n",
      "100%|████████████████████████████████████████████████████████████████████████████████████████████████████████████| 277/277 [23:25<00:00,  5.07s/it]\n",
      "100%|████████████████████████████████████████████████████████████████████████████████████████████████████████████| 277/277 [19:46<00:00,  4.28s/it]\n",
      "100%|████████████████████████████████████████████████████████████████████████████████████████████████████████████| 277/277 [14:26<00:00,  3.13s/it]\n",
      "100%|████████████████████████████████████████████████████████████████████████████████████████████████████████████| 277/277 [16:12<00:00,  3.51s/it]\n",
      "100%|████████████████████████████████████████████████████████████████████████████████████████████████████████████| 277/277 [13:10<00:00,  2.85s/it]\n",
      "100%|████████████████████████████████████████████████████████████████████████████████████████████████████████████| 277/277 [11:30<00:00,  2.49s/it]\n",
      "100%|████████████████████████████████████████████████████████████████████████████████████████████████████████████| 277/277 [16:37<00:00,  3.60s/it]\n",
      "100%|████████████████████████████████████████████████████████████████████████████████████████████████████████████| 277/277 [18:58<00:00,  4.11s/it]\n",
      "100%|████████████████████████████████████████████████████████████████████████████████████████████████████████████| 277/277 [20:50<00:00,  4.51s/it]\n",
      "100%|████████████████████████████████████████████████████████████████████████████████████████████████████████████| 277/277 [14:09<00:00,  3.07s/it]\n",
      "100%|████████████████████████████████████████████████████████████████████████████████████████████████████████████| 277/277 [19:19<00:00,  4.19s/it]\n",
      "100%|████████████████████████████████████████████████████████████████████████████████████████████████████████████| 277/277 [22:00<00:00,  4.77s/it]\n",
      "100%|████████████████████████████████████████████████████████████████████████████████████████████████████████████| 277/277 [21:19<00:00,  4.62s/it]\n",
      "100%|████████████████████████████████████████████████████████████████████████████████████████████████████████████| 277/277 [22:53<00:00,  4.96s/it]\n",
      "100%|████████████████████████████████████████████████████████████████████████████████████████████████████████████| 277/277 [29:38<00:00,  6.42s/it]\n",
      "100%|████████████████████████████████████████████████████████████████████████████████████████████████████████████| 277/277 [26:11<00:00,  5.67s/it]\n",
      "100%|████████████████████████████████████████████████████████████████████████████████████████████████████████████| 277/277 [18:40<00:00,  4.05s/it]\n",
      "100%|████████████████████████████████████████████████████████████████████████████████████████████████████████████| 277/277 [19:56<00:00,  4.32s/it]\n",
      "100%|████████████████████████████████████████████████████████████████████████████████████████████████████████████| 277/277 [22:43<00:00,  4.92s/it]\n",
      "100%|████████████████████████████████████████████████████████████████████████████████████████████████████████████| 277/277 [28:24<00:00,  6.16s/it]\n",
      "100%|████████████████████████████████████████████████████████████████████████████████████████████████████████████| 277/277 [38:45<00:00,  8.40s/it]\n",
      "100%|████████████████████████████████████████████████████████████████████████████████████████████████████████████| 277/277 [28:02<00:00,  6.07s/it]\n",
      "100%|████████████████████████████████████████████████████████████████████████████████████████████████████████████| 277/277 [26:13<00:00,  5.68s/it]\n",
      " 60%|█████████████████████████████████████████████████████████████████                                           | 167/277 [23:05<15:12,  8.30s/it]\n"
     ]
    },
    {
     "ename": "KeyboardInterrupt",
     "evalue": "",
     "output_type": "error",
     "traceback": [
      "\u001b[1;31m---------------------------------------------------------------------------\u001b[0m",
      "\u001b[1;31mKeyboardInterrupt\u001b[0m                         Traceback (most recent call last)",
      "Input \u001b[1;32mIn [26]\u001b[0m, in \u001b[0;36m<cell line: 5>\u001b[1;34m()\u001b[0m\n\u001b[0;32m     34\u001b[0m row_list \u001b[38;5;241m=\u001b[39m value_list\n\u001b[0;32m     35\u001b[0m df_each  \u001b[38;5;241m=\u001b[39m pd\u001b[38;5;241m.\u001b[39mDataFrame([row_list], columns\u001b[38;5;241m=\u001b[39mname_list)\n\u001b[1;32m---> 36\u001b[0m DF \u001b[38;5;241m=\u001b[39m \u001b[43mpd\u001b[49m\u001b[38;5;241;43m.\u001b[39;49m\u001b[43mconcat\u001b[49m\u001b[43m(\u001b[49m\u001b[43m[\u001b[49m\u001b[43mDF\u001b[49m\u001b[43m,\u001b[49m\u001b[43m \u001b[49m\u001b[43mdf_each\u001b[49m\u001b[43m]\u001b[49m\u001b[43m)\u001b[49m\u001b[38;5;241;43m.\u001b[39;49m\u001b[43mreset_index\u001b[49m\u001b[43m(\u001b[49m\u001b[43mdrop\u001b[49m\u001b[43m \u001b[49m\u001b[38;5;241;43m=\u001b[39;49m\u001b[43m \u001b[49m\u001b[38;5;28;43;01mTrue\u001b[39;49;00m\u001b[43m)\u001b[49m\n\u001b[0;32m     38\u001b[0m \u001b[38;5;66;03m# 초기화\u001b[39;00m\n\u001b[0;32m     39\u001b[0m name_list  \u001b[38;5;241m=\u001b[39m []\n",
      "File \u001b[1;32m~\\Anaconda3\\envs\\oasis\\lib\\site-packages\\pandas\\core\\frame.py:4971\u001b[0m, in \u001b[0;36mDataFrame.reset_index\u001b[1;34m(self, level, drop, inplace, col_level, col_fill)\u001b[0m\n\u001b[0;32m   4969\u001b[0m     new_obj \u001b[38;5;241m=\u001b[39m \u001b[38;5;28mself\u001b[39m\n\u001b[0;32m   4970\u001b[0m \u001b[38;5;28;01melse\u001b[39;00m:\n\u001b[1;32m-> 4971\u001b[0m     new_obj \u001b[38;5;241m=\u001b[39m \u001b[38;5;28;43mself\u001b[39;49m\u001b[38;5;241;43m.\u001b[39;49m\u001b[43mcopy\u001b[49m\u001b[43m(\u001b[49m\u001b[43m)\u001b[49m\n\u001b[0;32m   4973\u001b[0m new_index \u001b[38;5;241m=\u001b[39m ibase\u001b[38;5;241m.\u001b[39mdefault_index(\u001b[38;5;28mlen\u001b[39m(new_obj))\n\u001b[0;32m   4974\u001b[0m \u001b[38;5;28;01mif\u001b[39;00m level \u001b[38;5;129;01mis\u001b[39;00m \u001b[38;5;129;01mnot\u001b[39;00m \u001b[38;5;28;01mNone\u001b[39;00m:\n",
      "File \u001b[1;32m~\\Anaconda3\\envs\\oasis\\lib\\site-packages\\pandas\\core\\generic.py:5995\u001b[0m, in \u001b[0;36mNDFrame.copy\u001b[1;34m(self, deep)\u001b[0m\n\u001b[0;32m   5889\u001b[0m \u001b[38;5;129m@final\u001b[39m\n\u001b[0;32m   5890\u001b[0m \u001b[38;5;28;01mdef\u001b[39;00m \u001b[38;5;21mcopy\u001b[39m(\u001b[38;5;28mself\u001b[39m: FrameOrSeries, deep: bool_t \u001b[38;5;241m=\u001b[39m \u001b[38;5;28;01mTrue\u001b[39;00m) \u001b[38;5;241m-\u001b[39m\u001b[38;5;241m>\u001b[39m FrameOrSeries:\n\u001b[0;32m   5891\u001b[0m     \u001b[38;5;124;03m\"\"\"\u001b[39;00m\n\u001b[0;32m   5892\u001b[0m \u001b[38;5;124;03m    Make a copy of this object's indices and data.\u001b[39;00m\n\u001b[0;32m   5893\u001b[0m \n\u001b[1;32m   (...)\u001b[0m\n\u001b[0;32m   5993\u001b[0m \u001b[38;5;124;03m    dtype: object\u001b[39;00m\n\u001b[0;32m   5994\u001b[0m \u001b[38;5;124;03m    \"\"\"\u001b[39;00m\n\u001b[1;32m-> 5995\u001b[0m     data \u001b[38;5;241m=\u001b[39m \u001b[38;5;28;43mself\u001b[39;49m\u001b[38;5;241;43m.\u001b[39;49m\u001b[43m_mgr\u001b[49m\u001b[38;5;241;43m.\u001b[39;49m\u001b[43mcopy\u001b[49m\u001b[43m(\u001b[49m\u001b[43mdeep\u001b[49m\u001b[38;5;241;43m=\u001b[39;49m\u001b[43mdeep\u001b[49m\u001b[43m)\u001b[49m\n\u001b[0;32m   5996\u001b[0m     \u001b[38;5;28mself\u001b[39m\u001b[38;5;241m.\u001b[39m_clear_item_cache()\n\u001b[0;32m   5997\u001b[0m     \u001b[38;5;28;01mreturn\u001b[39;00m \u001b[38;5;28mself\u001b[39m\u001b[38;5;241m.\u001b[39m_constructor(data)\u001b[38;5;241m.\u001b[39m__finalize__(\u001b[38;5;28mself\u001b[39m, method\u001b[38;5;241m=\u001b[39m\u001b[38;5;124m\"\u001b[39m\u001b[38;5;124mcopy\u001b[39m\u001b[38;5;124m\"\u001b[39m)\n",
      "File \u001b[1;32m~\\Anaconda3\\envs\\oasis\\lib\\site-packages\\pandas\\core\\internals\\managers.py:821\u001b[0m, in \u001b[0;36mBlockManager.copy\u001b[1;34m(self, deep)\u001b[0m\n\u001b[0;32m    818\u001b[0m \u001b[38;5;28;01melse\u001b[39;00m:\n\u001b[0;32m    819\u001b[0m     new_axes \u001b[38;5;241m=\u001b[39m \u001b[38;5;28mlist\u001b[39m(\u001b[38;5;28mself\u001b[39m\u001b[38;5;241m.\u001b[39maxes)\n\u001b[1;32m--> 821\u001b[0m res \u001b[38;5;241m=\u001b[39m \u001b[38;5;28;43mself\u001b[39;49m\u001b[38;5;241;43m.\u001b[39;49m\u001b[43mapply\u001b[49m\u001b[43m(\u001b[49m\u001b[38;5;124;43m\"\u001b[39;49m\u001b[38;5;124;43mcopy\u001b[39;49m\u001b[38;5;124;43m\"\u001b[39;49m\u001b[43m,\u001b[49m\u001b[43m \u001b[49m\u001b[43mdeep\u001b[49m\u001b[38;5;241;43m=\u001b[39;49m\u001b[43mdeep\u001b[49m\u001b[43m)\u001b[49m\n\u001b[0;32m    822\u001b[0m res\u001b[38;5;241m.\u001b[39maxes \u001b[38;5;241m=\u001b[39m new_axes\n\u001b[0;32m    823\u001b[0m \u001b[38;5;28;01mreturn\u001b[39;00m res\n",
      "File \u001b[1;32m~\\Anaconda3\\envs\\oasis\\lib\\site-packages\\pandas\\core\\internals\\managers.py:427\u001b[0m, in \u001b[0;36mBlockManager.apply\u001b[1;34m(self, f, align_keys, ignore_failures, **kwargs)\u001b[0m\n\u001b[0;32m    425\u001b[0m         applied \u001b[38;5;241m=\u001b[39m b\u001b[38;5;241m.\u001b[39mapply(f, \u001b[38;5;241m*\u001b[39m\u001b[38;5;241m*\u001b[39mkwargs)\n\u001b[0;32m    426\u001b[0m     \u001b[38;5;28;01melse\u001b[39;00m:\n\u001b[1;32m--> 427\u001b[0m         applied \u001b[38;5;241m=\u001b[39m \u001b[38;5;28;43mgetattr\u001b[39;49m\u001b[43m(\u001b[49m\u001b[43mb\u001b[49m\u001b[43m,\u001b[49m\u001b[43m \u001b[49m\u001b[43mf\u001b[49m\u001b[43m)\u001b[49m\u001b[43m(\u001b[49m\u001b[38;5;241;43m*\u001b[39;49m\u001b[38;5;241;43m*\u001b[39;49m\u001b[43mkwargs\u001b[49m\u001b[43m)\u001b[49m\n\u001b[0;32m    428\u001b[0m \u001b[38;5;28;01mexcept\u001b[39;00m (\u001b[38;5;167;01mTypeError\u001b[39;00m, \u001b[38;5;167;01mNotImplementedError\u001b[39;00m):\n\u001b[0;32m    429\u001b[0m     \u001b[38;5;28;01mif\u001b[39;00m \u001b[38;5;129;01mnot\u001b[39;00m ignore_failures:\n",
      "File \u001b[1;32m~\\Anaconda3\\envs\\oasis\\lib\\site-packages\\pandas\\core\\internals\\blocks.py:756\u001b[0m, in \u001b[0;36mBlock.copy\u001b[1;34m(self, deep)\u001b[0m\n\u001b[0;32m    754\u001b[0m values \u001b[38;5;241m=\u001b[39m \u001b[38;5;28mself\u001b[39m\u001b[38;5;241m.\u001b[39mvalues\n\u001b[0;32m    755\u001b[0m \u001b[38;5;28;01mif\u001b[39;00m deep:\n\u001b[1;32m--> 756\u001b[0m     values \u001b[38;5;241m=\u001b[39m \u001b[43mvalues\u001b[49m\u001b[38;5;241;43m.\u001b[39;49m\u001b[43mcopy\u001b[49m\u001b[43m(\u001b[49m\u001b[43m)\u001b[49m\n\u001b[0;32m    757\u001b[0m \u001b[38;5;28;01mreturn\u001b[39;00m \u001b[38;5;28mself\u001b[39m\u001b[38;5;241m.\u001b[39mmake_block_same_class(values, ndim\u001b[38;5;241m=\u001b[39m\u001b[38;5;28mself\u001b[39m\u001b[38;5;241m.\u001b[39mndim)\n",
      "\u001b[1;31mKeyboardInterrupt\u001b[0m: "
     ]
    }
   ],
   "source": [
    "# 토지실거래가 API\n",
    "url = 'http://openapi.molit.go.kr/OpenAPI_ToolInstallPackage/service/rest/RTMSOBJSvc/getRTMSDataSvcLandTrade'\n",
    "serviceKey = 'sJuqUegKT1Q0R4IRDqoJklMK8xDxru+rNu+K5JXRh1mbeH4tFTWwQYWVK3xdbbJCCe14u5bQyl43S28/5TtfrA=='\n",
    "\n",
    "for month in month_list:\n",
    "    \n",
    "    row_list   = [] # 행 값\n",
    "    name_list  = [] # 열이름 값\n",
    "    value_list = [] # 데이터 값\n",
    "    DF = pd.DataFrame() # 최종 값\n",
    "    \n",
    "    # API 요청\n",
    "    for code in tqdm(lawd_cd_unique):\n",
    "        params = {\n",
    "              'serviceKey' : serviceKey\n",
    "            , 'LAWD_CD'  : code  # 법정동 단위\n",
    "            , 'DEAL_YMD' : month # 월 단위\n",
    "        }\n",
    "        response = requests.get(url, params=params)\n",
    "        content  = response.text\n",
    "\n",
    "        # item 태그 분리\n",
    "        xml_obj = bs4.BeautifulSoup(content,'lxml-xml')\n",
    "        rows    = xml_obj.findAll('item')\n",
    "\n",
    "        # 데이터 수집\n",
    "        for i in range(0, len(rows)):\n",
    "            columns = rows[i].find_all()\n",
    "\n",
    "            for j in range(0,len(columns)):\n",
    "                name_list.append(columns[j].name)\n",
    "                value_list.append(columns[j].text)\n",
    "\n",
    "            row_list = value_list\n",
    "            df_each  = pd.DataFrame([row_list], columns=name_list)\n",
    "            DF = pd.concat([DF, df_each]).reset_index(drop = True)\n",
    "\n",
    "            # 초기화\n",
    "            name_list  = []\n",
    "            value_list = []"
   ]
  },
  {
   "cell_type": "code",
   "execution_count": null,
   "id": "537ee90e-41a4-4dd7-8983-2071cb232a1b",
   "metadata": {},
   "outputs": [],
   "source": [
    "DF_spare = DF"
   ]
  },
  {
   "cell_type": "code",
   "execution_count": null,
   "id": "9dd17cdd-d548-4a8f-8e05-5dafbad952fd",
   "metadata": {},
   "outputs": [],
   "source": [
    "DF"
   ]
  },
  {
   "cell_type": "code",
   "execution_count": null,
   "id": "c775e661-875a-4f9e-99c2-3d69e5f71ec6",
   "metadata": {},
   "outputs": [],
   "source": [
    "# 전처리\n",
    "DF = DF.replace(' ', None)\n",
    "DF = DF.replace(np.nan, None)\n",
    "if '구분' in DF.columns:\n",
    "    DF = DF.drop(['구분'], axis = 1)\n",
    "\n",
    "# rename\n",
    "DF = DF.rename(columns = {\"거래금액\":\"deal_amount\",\n",
    "                          \"거래유형\":\"trade_type\",\n",
    "                          \"건물면적\":\"building_area\",\n",
    "                          \"건물주용도\":\"building_use\",\n",
    "                          \"건축년도\":\"build_year\",\n",
    "                          \"년\":\"deal_year\",\n",
    "                          \"대지면적\":\"plottage\",\n",
    "                          \"법정동\":\"dong\",\n",
    "                          \"시군구\":\"sigungu\",\n",
    "                          \"용도지역\":\"land_use\",\n",
    "                          \"월\":\"deal_month\",\n",
    "                          \"유형\":\"building_type\",\n",
    "                          \"일\":\"deal_day\",\n",
    "                          \"중개사소재지\":\"broker_location\",\n",
    "                          \"지역코드\":\"regional_code\",\n",
    "                          \"층\":\"floor_\",\n",
    "                          \"해제사유발생일\":\"unregister_day\",\n",
    "                          \"해제여부\":\"unregister_status\"})\n",
    "\n",
    "# dtype 변경\n",
    "DF['deal_amount'] = DF['deal_amount'].apply(lambda x: x.replace(',', '')).astype('int64')"
   ]
  },
  {
   "cell_type": "code",
   "execution_count": null,
   "id": "ad92a0c6-8c32-4c7b-981a-981044d80c1a",
   "metadata": {},
   "outputs": [],
   "source": [
    "# execute_mogrify\n",
    "def execute_mogrify(conn, df, table, val):\n",
    "    # Create a list of tuples from the dataframe values\n",
    "    tuples = [tuple(x) for x in df.to_numpy()]\n",
    "    # Comma-separated dataframe columns\n",
    "    cols = ','.join(list(df.columns))\n",
    "    # SQL query to execute\n",
    "    cursor = conn.cursor()\n",
    "    values = [cursor.mogrify(val, tup).decode('utf8') for tup in\n",
    "              tuples]\n",
    "    query = \"INSERT INTO %s(%s) VALUES \" % (table, cols) + \",\".join(values)\n",
    "\n",
    "    try:\n",
    "        cursor.execute(query, tuples)\n",
    "        conn.commit()\n",
    "    except (Exception, psycopg2.DatabaseError) as error:\n",
    "        print(\"Error: %s\" % error)\n",
    "        conn.rollback()\n",
    "        cursor.close()\n",
    "        return 1\n",
    "    cursor.close()\n",
    "\n",
    "# values 설정\n",
    "val = '(' + ('%s,' * len(DF.columns))[:-1] + ')'\n",
    "\n",
    "# insert\n",
    "for j in range(0, len(DF), 10000):\n",
    "\n",
    "    # DB Connect\n",
    "    conn = psycopg2.connect(\n",
    "        host='redshift-cluster-1.ctvbwnnvbdkl.ap-northeast-2.redshift.amazonaws.com',\n",
    "        port=5439,\n",
    "        dbname='dev',\n",
    "        user='awsuser',\n",
    "        password='cremaoAdmin1234qwer!!'\n",
    "    )\n",
    "\n",
    "    # 10000개 단위로 나누기\n",
    "    tmp = DF[j:j + 10000]\n",
    "\n",
    "    # insert\n",
    "    execute_mogrify(conn, tmp, table, val)\n",
    "    print(datetime.datetime.now(), ' : ', j)\n",
    "    tmp = pd.DataFrame()\n",
    "\n",
    "# row count\n",
    "print(len(DF))"
   ]
  }
 ],
 "metadata": {
  "kernelspec": {
   "display_name": "oasis",
   "language": "python",
   "name": "oasis"
  },
  "language_info": {
   "codemirror_mode": {
    "name": "ipython",
    "version": 3
   },
   "file_extension": ".py",
   "mimetype": "text/x-python",
   "name": "python",
   "nbconvert_exporter": "python",
   "pygments_lexer": "ipython3",
   "version": "3.8.13"
  }
 },
 "nbformat": 4,
 "nbformat_minor": 5
}
