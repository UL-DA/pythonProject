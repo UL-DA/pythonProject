{
 "cells": [
  {
   "cell_type": "markdown",
   "id": "1999b76a-490a-4736-946c-8cc38eefa71f",
   "metadata": {},
   "source": [
    "### row < 10,000 일 경우"
   ]
  },
  {
   "cell_type": "code",
   "execution_count": null,
   "id": "d191ba01-5fda-4d88-b3ba-5c932d7f88a2",
   "metadata": {},
   "outputs": [],
   "source": [
    "# 데이터 프레임 관련\n",
    "import numpy  as np\n",
    "import pandas as pd\n",
    "\n",
    "# API 호출 관련\n",
    "import json\n",
    "import requests\n",
    "\n",
    "# module\n",
    "import psycopg2 # db connect"
   ]
  },
  {
   "cell_type": "code",
   "execution_count": null,
   "id": "1312a385-6e5c-438b-b268-b6dffaf49361",
   "metadata": {},
   "outputs": [],
   "source": [
    "# values 설정\n",
    "val = '(' + ('%s,' * len(df.columns))[:-1] + ')'\n",
    "\n",
    "# execute_mogrify\n",
    "def execute_mogrify(conn, df, table, val):\n",
    "    # Create a list of tuples from the dataframe values\n",
    "    tuples = [tuple(x) for x in df.to_numpy()]\n",
    "    # Comma-separated dataframe columns\n",
    "    cols = ','.join(list(df.columns))\n",
    "    # SQL query to execute\n",
    "    cursor = conn.cursor()\n",
    "    values = [cursor.mogrify(val, tup).decode('utf8') for tup in\n",
    "              tuples]\n",
    "    query = \"INSERT INTO %s(%s) VALUES \" % (table, cols) + \",\".join(values)\n",
    "\n",
    "    try:\n",
    "        cursor.execute(query, tuples)\n",
    "        conn.commit()\n",
    "    except (Exception, psycopg2.DatabaseError) as error:\n",
    "        print(\"Error: %s\" % error)\n",
    "        conn.rollback()\n",
    "        cursor.close()\n",
    "        return 1\n",
    "    cursor.close()"
   ]
  },
  {
   "cell_type": "code",
   "execution_count": null,
   "id": "ba906945-688b-4245-9578-080dedaabd51",
   "metadata": {},
   "outputs": [],
   "source": [
    "# DB Connect\n",
    "conn = psycopg2.connect(\n",
    "    host = 'redshift-cluster-1.ctvbwnnvbdkl.ap-northeast-2.redshift.amazonaws.com',\n",
    "    port = 5439,\n",
    "    dbname = 'dev',\n",
    "    user = 'awsuser',\n",
    "    password = 'cremaoAdmin1234qwer!!'\n",
    ")"
   ]
  },
  {
   "cell_type": "code",
   "execution_count": null,
   "id": "8de6e798-e745-4104-af3b-29a2f7caa021",
   "metadata": {},
   "outputs": [],
   "source": [
    "# execute\n",
    "execute_mogrify(conn, DF_final, table_nm, val)"
   ]
  },
  {
   "cell_type": "markdown",
   "id": "11cfb713-58d9-422b-af1f-cc967691b156",
   "metadata": {
    "tags": []
   },
   "source": [
    "### row >= 10,000 일 경우"
   ]
  },
  {
   "cell_type": "code",
   "execution_count": null,
   "id": "3e50b0c7-bc5e-4fec-b158-fba23139b8ad",
   "metadata": {},
   "outputs": [],
   "source": [
    "# 데이터 프레임 관련\n",
    "import numpy  as np\n",
    "import pandas as pd\n",
    "\n",
    "# API 호출 관련\n",
    "import json\n",
    "import requests\n",
    "\n",
    "# db connect\n",
    "import psycopg2 "
   ]
  },
  {
   "cell_type": "code",
   "execution_count": null,
   "id": "7a4f97a0-4436-475a-b556-4baf1c5750b0",
   "metadata": {},
   "outputs": [],
   "source": [
    "# df 명, table 명 입력"
   ]
  },
  {
   "cell_type": "code",
   "execution_count": null,
   "id": "1fcc82a1-94df-4b5b-9f67-a584f1c5bbb5",
   "metadata": {},
   "outputs": [],
   "source": [
    "# values 설정\n",
    "val = '(' + ('%s,' * len(df.columns))[:-1] + ')'\n",
    "\n",
    "# execute_mogrify\n",
    "def execute_mogrify(conn, df, table, val):\n",
    "    # Create a list of tuples from the dataframe values\n",
    "    tuples = [tuple(x) for x in df.to_numpy()]\n",
    "    # Comma-separated dataframe columns\n",
    "    cols = ','.join(list(df.columns))\n",
    "    # SQL query to execute\n",
    "    cursor = conn.cursor()\n",
    "    values = [cursor.mogrify(val, tup).decode('utf8') for tup in\n",
    "              tuples]\n",
    "    query = \"INSERT INTO %s(%s) VALUES \" % (table, cols) + \",\".join(values)\n",
    "    try:\n",
    "        cursor.execute(query, tuples)\n",
    "        conn.commit()\n",
    "    except (Exception, psycopg2.DatabaseError) as error:\n",
    "        print(\"Error: %s\" % error)\n",
    "        conn.rollback()\n",
    "        cursor.close()\n",
    "        return 1\n",
    "    cursor.close()\n",
    "\n",
    "# insert\n",
    "for j in range(0, len(df), 10000):\n",
    "\n",
    "    # DB Connect\n",
    "    conn = psycopg2.connect(\n",
    "        host='redshift-cluster-1.ctvbwnnvbdkl.ap-northeast-2.redshift.amazonaws.com',\n",
    "        port=5439,\n",
    "        dbname='dev',\n",
    "        user='awsuser',\n",
    "        password='cremaoAdmin1234qwer!!'\n",
    "    )\n",
    "\n",
    "    # 10000개 단위로 나누기\n",
    "    tmp = df[j:j + 10000]\n",
    "\n",
    "    # insert\n",
    "    execute_mogrify(conn, tmp, table, val)\n",
    "    print(datetime.datetime.now(), ' : ', j)\n",
    "    tmp = pd.DataFrame()\n",
    "\n",
    "# row count\n",
    "print(len(df))"
   ]
  },
  {
   "cell_type": "markdown",
   "id": "e348e5a6-a481-42d6-9803-bab209e50e49",
   "metadata": {
    "tags": []
   },
   "source": [
    "### INSERT 간략"
   ]
  },
  {
   "cell_type": "code",
   "execution_count": null,
   "id": "0462d142-575d-4590-8c8b-a56f3e1c6d6a",
   "metadata": {},
   "outputs": [],
   "source": [
    "# module\n",
    "import psycopg2 # db connect"
   ]
  },
  {
   "cell_type": "code",
   "execution_count": null,
   "id": "7629cfcd-2d44-4ce0-9c28-e35b452ba68a",
   "metadata": {},
   "outputs": [],
   "source": [
    "# DB Connect\n",
    "conn = psycopg2.connect(\n",
    "    host = 'redshift-cluster-1.ctvbwnnvbdkl.ap-northeast-2.redshift.amazonaws.com',\n",
    "    port = 5439,\n",
    "    dbname = 'dev',\n",
    "    user = 'awsuser',\n",
    "    password = 'cremaoAdmin1234qwer!!'\n",
    ")"
   ]
  },
  {
   "cell_type": "code",
   "execution_count": null,
   "id": "6bfa52ba-f4ce-41d6-8a00-4bac85eb35c2",
   "metadata": {},
   "outputs": [],
   "source": [
    "# 변수 선언\n",
    "start = '2022-07'\n",
    "end = '2022-07'\n",
    "table = 'm1.rtms_trade'\n",
    "filename = 'getRTMSDataSvcNrgTrade(202207)'\n",
    "dir = 'C:/oasis/'"
   ]
  },
  {
   "cell_type": "code",
   "execution_count": 52,
   "id": "a59e7426-1305-43ed-aef7-6e592c8aa0e5",
   "metadata": {},
   "outputs": [],
   "source": [
    "# read & null 처리\n",
    "df = pd.read_csv(dir + filename + '.csv', sep='|', low_memory=False)\n",
    "df = df.replace({np.nan: None})"
   ]
  },
  {
   "cell_type": "code",
   "execution_count": 53,
   "id": "3edbf387-578f-40ee-a9e0-d80cdb6caedf",
   "metadata": {},
   "outputs": [],
   "source": [
    "# values 설정\n",
    "val = '(' + ('%s,' * len(df.columns))[:-1] + ')'"
   ]
  },
  {
   "cell_type": "code",
   "execution_count": 54,
   "id": "b1c24557-a24c-4dce-9b1f-1a5aacb8d42c",
   "metadata": {},
   "outputs": [],
   "source": [
    "# execute_mogrify\n",
    "def execute_mogrify(conn, df, table, val):\n",
    "    # Create a list of tuples from the dataframe values\n",
    "    tuples = [tuple(x) for x in df.to_numpy()]\n",
    "    # Comma-separated dataframe columns\n",
    "    cols = ','.join(list(df.columns))\n",
    "    # SQL query to execute\n",
    "    cursor = conn.cursor()\n",
    "    values = [cursor.mogrify(val, tup).decode('utf8') for tup in\n",
    "              tuples]\n",
    "    query = \"INSERT INTO %s(%s) VALUES \" % (table, cols) + \",\".join(values)\n",
    "\n",
    "    try:\n",
    "        cursor.execute(query, tuples)\n",
    "        conn.commit()\n",
    "    except (Exception, psycopg2.DatabaseError) as error:\n",
    "        print(\"Error: %s\" % error)\n",
    "        conn.rollback()\n",
    "        cursor.close()\n",
    "        return 1\n",
    "    cursor.close()"
   ]
  },
  {
   "cell_type": "code",
   "execution_count": 55,
   "id": "50ea5e20-3802-4b39-8bd8-3ea256bb60ee",
   "metadata": {},
   "outputs": [
    {
     "name": "stdout",
     "output_type": "stream",
     "text": [
      "Error: syntax error at or near \")\"\n",
      "LINE 1: INSERT INTO m1.rtms_trade() VALUES \n",
      "                                  ^\n",
      "\n"
     ]
    }
   ],
   "source": [
    "# execute\n",
    "execute_mogrify(conn, tmp, table, val)\n",
    "tmp = pd.DataFrame()"
   ]
  },
  {
   "cell_type": "markdown",
   "id": "d5f13008-e0aa-4ee6-ac17-2af7948f2191",
   "metadata": {
    "tags": []
   },
   "source": [
    "### KT INSERT"
   ]
  },
  {
   "cell_type": "code",
   "execution_count": null,
   "id": "20b76f9d-9394-40a6-b4b0-586ebc06a08a",
   "metadata": {},
   "outputs": [],
   "source": [
    "# module\n",
    "import pysftp # 압축 풀기\n",
    "import psycopg2 # db connect\n",
    "import pandas as pd\n",
    "import numpy  as np\n",
    "import zipfile  # 압축 풀기 \n",
    "import datetime # 시간 출력"
   ]
  },
  {
   "cell_type": "code",
   "execution_count": 37,
   "id": "02e5fe25-9331-447e-9e2a-590a1ca8da7e",
   "metadata": {
    "collapsed": true,
    "jupyter": {
     "outputs_hidden": true
    },
    "tags": []
   },
   "outputs": [
    {
     "ename": "FileNotFoundError",
     "evalue": "[Errno 2] No such file",
     "output_type": "error",
     "traceback": [
      "\u001b[1;31m---------------------------------------------------------------------------\u001b[0m",
      "\u001b[1;31mFileNotFoundError\u001b[0m                         Traceback (most recent call last)",
      "Input \u001b[1;32mIn [37]\u001b[0m, in \u001b[0;36m<cell line: 2>\u001b[1;34m()\u001b[0m\n\u001b[0;32m      6\u001b[0m cnopts\u001b[38;5;241m.\u001b[39mhostkeys \u001b[38;5;241m=\u001b[39m \u001b[38;5;28;01mNone\u001b[39;00m\n\u001b[0;32m      8\u001b[0m \u001b[38;5;28;01mwith\u001b[39;00m pysftp\u001b[38;5;241m.\u001b[39mConnection(\n\u001b[0;32m      9\u001b[0m         \u001b[38;5;124m'\u001b[39m\u001b[38;5;124m14.63.143.72\u001b[39m\u001b[38;5;124m'\u001b[39m,\n\u001b[0;32m     10\u001b[0m         port\u001b[38;5;241m=\u001b[39m\u001b[38;5;241m2222\u001b[39m,\n\u001b[1;32m   (...)\u001b[0m\n\u001b[0;32m     14\u001b[0m \n\u001b[0;32m     15\u001b[0m     \u001b[38;5;66;03m# file 내려 받기\u001b[39;00m\n\u001b[1;32m---> 16\u001b[0m     \u001b[43msftp\u001b[49m\u001b[38;5;241;43m.\u001b[39;49m\u001b[43mget\u001b[49m\u001b[43m(\u001b[49m\u001b[43mfilename\u001b[49m\u001b[43m \u001b[49m\u001b[38;5;241;43m+\u001b[39;49m\u001b[43m \u001b[49m\u001b[43mi\u001b[49m\u001b[38;5;241;43m.\u001b[39;49m\u001b[43mstrftime\u001b[49m\u001b[43m(\u001b[49m\u001b[38;5;124;43m\"\u001b[39;49m\u001b[38;5;124;43m%\u001b[39;49m\u001b[38;5;124;43mY\u001b[39;49m\u001b[38;5;124;43m%\u001b[39;49m\u001b[38;5;124;43mm\u001b[39;49m\u001b[38;5;124;43m\"\u001b[39;49m\u001b[43m)\u001b[49m\u001b[43m \u001b[49m\u001b[38;5;241;43m+\u001b[39;49m\u001b[43m \u001b[49m\u001b[38;5;124;43m'\u001b[39;49m\u001b[38;5;124;43m.zip\u001b[39;49m\u001b[38;5;124;43m'\u001b[39;49m\u001b[43m,\u001b[49m\u001b[43m \u001b[49m\u001b[38;5;28;43mdir\u001b[39;49m\u001b[43m \u001b[49m\u001b[38;5;241;43m+\u001b[39;49m\u001b[43m \u001b[49m\u001b[43mfilename\u001b[49m\u001b[43m \u001b[49m\u001b[38;5;241;43m+\u001b[39;49m\u001b[43m \u001b[49m\u001b[43mi\u001b[49m\u001b[38;5;241;43m.\u001b[39;49m\u001b[43mstrftime\u001b[49m\u001b[43m(\u001b[49m\u001b[38;5;124;43m\"\u001b[39;49m\u001b[38;5;124;43m%\u001b[39;49m\u001b[38;5;124;43mY\u001b[39;49m\u001b[38;5;124;43m%\u001b[39;49m\u001b[38;5;124;43mm\u001b[39;49m\u001b[38;5;124;43m\"\u001b[39;49m\u001b[43m)\u001b[49m\u001b[43m \u001b[49m\u001b[38;5;241;43m+\u001b[39;49m\u001b[43m \u001b[49m\u001b[38;5;124;43m'\u001b[39;49m\u001b[38;5;124;43m.zip\u001b[39;49m\u001b[38;5;124;43m'\u001b[39;49m\u001b[43m)\u001b[49m\n\u001b[0;32m     18\u001b[0m \u001b[38;5;66;03m# 압축 풀기\u001b[39;00m\n\u001b[0;32m     19\u001b[0m zipfile\u001b[38;5;241m.\u001b[39mZipFile(\u001b[38;5;28mdir\u001b[39m \u001b[38;5;241m+\u001b[39m filename \u001b[38;5;241m+\u001b[39m i\u001b[38;5;241m.\u001b[39mstrftime(\u001b[38;5;124m\"\u001b[39m\u001b[38;5;124m%\u001b[39m\u001b[38;5;124mY\u001b[39m\u001b[38;5;124m%\u001b[39m\u001b[38;5;124mm\u001b[39m\u001b[38;5;124m\"\u001b[39m) \u001b[38;5;241m+\u001b[39m \u001b[38;5;124m'\u001b[39m\u001b[38;5;124m.zip\u001b[39m\u001b[38;5;124m'\u001b[39m)\u001b[38;5;241m.\u001b[39mextractall(\u001b[38;5;28mdir\u001b[39m)\n",
      "File \u001b[1;32m~\\Anaconda3\\envs\\oasis\\lib\\site-packages\\pysftp\\__init__.py:249\u001b[0m, in \u001b[0;36mConnection.get\u001b[1;34m(self, remotepath, localpath, callback, preserve_mtime)\u001b[0m\n\u001b[0;32m    246\u001b[0m \u001b[38;5;28;01mif\u001b[39;00m preserve_mtime:\n\u001b[0;32m    247\u001b[0m     sftpattrs \u001b[38;5;241m=\u001b[39m \u001b[38;5;28mself\u001b[39m\u001b[38;5;241m.\u001b[39m_sftp\u001b[38;5;241m.\u001b[39mstat(remotepath)\n\u001b[1;32m--> 249\u001b[0m \u001b[38;5;28;43mself\u001b[39;49m\u001b[38;5;241;43m.\u001b[39;49m\u001b[43m_sftp\u001b[49m\u001b[38;5;241;43m.\u001b[39;49m\u001b[43mget\u001b[49m\u001b[43m(\u001b[49m\u001b[43mremotepath\u001b[49m\u001b[43m,\u001b[49m\u001b[43m \u001b[49m\u001b[43mlocalpath\u001b[49m\u001b[43m,\u001b[49m\u001b[43m \u001b[49m\u001b[43mcallback\u001b[49m\u001b[38;5;241;43m=\u001b[39;49m\u001b[43mcallback\u001b[49m\u001b[43m)\u001b[49m\n\u001b[0;32m    250\u001b[0m \u001b[38;5;28;01mif\u001b[39;00m preserve_mtime:\n\u001b[0;32m    251\u001b[0m     os\u001b[38;5;241m.\u001b[39mutime(localpath, (sftpattrs\u001b[38;5;241m.\u001b[39mst_atime, sftpattrs\u001b[38;5;241m.\u001b[39mst_mtime))\n",
      "File \u001b[1;32m~\\Anaconda3\\envs\\oasis\\lib\\site-packages\\paramiko\\sftp_client.py:811\u001b[0m, in \u001b[0;36mSFTPClient.get\u001b[1;34m(self, remotepath, localpath, callback, prefetch)\u001b[0m\n\u001b[0;32m    791\u001b[0m \u001b[38;5;124;03m\"\"\"\u001b[39;00m\n\u001b[0;32m    792\u001b[0m \u001b[38;5;124;03mCopy a remote file (``remotepath``) from the SFTP server to the local\u001b[39;00m\n\u001b[0;32m    793\u001b[0m \u001b[38;5;124;03mhost as ``localpath``.  Any exception raised by operations will be\u001b[39;00m\n\u001b[1;32m   (...)\u001b[0m\n\u001b[0;32m    808\u001b[0m \u001b[38;5;124;03m    Added the ``prefetch`` keyword argument.\u001b[39;00m\n\u001b[0;32m    809\u001b[0m \u001b[38;5;124;03m\"\"\"\u001b[39;00m\n\u001b[0;32m    810\u001b[0m \u001b[38;5;28;01mwith\u001b[39;00m \u001b[38;5;28mopen\u001b[39m(localpath, \u001b[38;5;124m\"\u001b[39m\u001b[38;5;124mwb\u001b[39m\u001b[38;5;124m\"\u001b[39m) \u001b[38;5;28;01mas\u001b[39;00m fl:\n\u001b[1;32m--> 811\u001b[0m     size \u001b[38;5;241m=\u001b[39m \u001b[38;5;28;43mself\u001b[39;49m\u001b[38;5;241;43m.\u001b[39;49m\u001b[43mgetfo\u001b[49m\u001b[43m(\u001b[49m\u001b[43mremotepath\u001b[49m\u001b[43m,\u001b[49m\u001b[43m \u001b[49m\u001b[43mfl\u001b[49m\u001b[43m,\u001b[49m\u001b[43m \u001b[49m\u001b[43mcallback\u001b[49m\u001b[43m,\u001b[49m\u001b[43m \u001b[49m\u001b[43mprefetch\u001b[49m\u001b[43m)\u001b[49m\n\u001b[0;32m    812\u001b[0m s \u001b[38;5;241m=\u001b[39m os\u001b[38;5;241m.\u001b[39mstat(localpath)\n\u001b[0;32m    813\u001b[0m \u001b[38;5;28;01mif\u001b[39;00m s\u001b[38;5;241m.\u001b[39mst_size \u001b[38;5;241m!=\u001b[39m size:\n",
      "File \u001b[1;32m~\\Anaconda3\\envs\\oasis\\lib\\site-packages\\paramiko\\sftp_client.py:782\u001b[0m, in \u001b[0;36mSFTPClient.getfo\u001b[1;34m(self, remotepath, fl, callback, prefetch)\u001b[0m\n\u001b[0;32m    761\u001b[0m \u001b[38;5;28;01mdef\u001b[39;00m \u001b[38;5;21mgetfo\u001b[39m(\u001b[38;5;28mself\u001b[39m, remotepath, fl, callback\u001b[38;5;241m=\u001b[39m\u001b[38;5;28;01mNone\u001b[39;00m, prefetch\u001b[38;5;241m=\u001b[39m\u001b[38;5;28;01mTrue\u001b[39;00m):\n\u001b[0;32m    762\u001b[0m     \u001b[38;5;124;03m\"\"\"\u001b[39;00m\n\u001b[0;32m    763\u001b[0m \u001b[38;5;124;03m    Copy a remote file (``remotepath``) from the SFTP server and write to\u001b[39;00m\n\u001b[0;32m    764\u001b[0m \u001b[38;5;124;03m    an open file or file-like object, ``fl``.  Any exception raised by\u001b[39;00m\n\u001b[1;32m   (...)\u001b[0m\n\u001b[0;32m    780\u001b[0m \u001b[38;5;124;03m        Added the ``prefetch`` keyword argument.\u001b[39;00m\n\u001b[0;32m    781\u001b[0m \u001b[38;5;124;03m    \"\"\"\u001b[39;00m\n\u001b[1;32m--> 782\u001b[0m     file_size \u001b[38;5;241m=\u001b[39m \u001b[38;5;28;43mself\u001b[39;49m\u001b[38;5;241;43m.\u001b[39;49m\u001b[43mstat\u001b[49m\u001b[43m(\u001b[49m\u001b[43mremotepath\u001b[49m\u001b[43m)\u001b[49m\u001b[38;5;241m.\u001b[39mst_size\n\u001b[0;32m    783\u001b[0m     \u001b[38;5;28;01mwith\u001b[39;00m \u001b[38;5;28mself\u001b[39m\u001b[38;5;241m.\u001b[39mopen(remotepath, \u001b[38;5;124m\"\u001b[39m\u001b[38;5;124mrb\u001b[39m\u001b[38;5;124m\"\u001b[39m) \u001b[38;5;28;01mas\u001b[39;00m fr:\n\u001b[0;32m    784\u001b[0m         \u001b[38;5;28;01mif\u001b[39;00m prefetch:\n",
      "File \u001b[1;32m~\\Anaconda3\\envs\\oasis\\lib\\site-packages\\paramiko\\sftp_client.py:493\u001b[0m, in \u001b[0;36mSFTPClient.stat\u001b[1;34m(self, path)\u001b[0m\n\u001b[0;32m    491\u001b[0m path \u001b[38;5;241m=\u001b[39m \u001b[38;5;28mself\u001b[39m\u001b[38;5;241m.\u001b[39m_adjust_cwd(path)\n\u001b[0;32m    492\u001b[0m \u001b[38;5;28mself\u001b[39m\u001b[38;5;241m.\u001b[39m_log(DEBUG, \u001b[38;5;124m\"\u001b[39m\u001b[38;5;124mstat(\u001b[39m\u001b[38;5;132;01m{!r}\u001b[39;00m\u001b[38;5;124m)\u001b[39m\u001b[38;5;124m\"\u001b[39m\u001b[38;5;241m.\u001b[39mformat(path))\n\u001b[1;32m--> 493\u001b[0m t, msg \u001b[38;5;241m=\u001b[39m \u001b[38;5;28;43mself\u001b[39;49m\u001b[38;5;241;43m.\u001b[39;49m\u001b[43m_request\u001b[49m\u001b[43m(\u001b[49m\u001b[43mCMD_STAT\u001b[49m\u001b[43m,\u001b[49m\u001b[43m \u001b[49m\u001b[43mpath\u001b[49m\u001b[43m)\u001b[49m\n\u001b[0;32m    494\u001b[0m \u001b[38;5;28;01mif\u001b[39;00m t \u001b[38;5;241m!=\u001b[39m CMD_ATTRS:\n\u001b[0;32m    495\u001b[0m     \u001b[38;5;28;01mraise\u001b[39;00m SFTPError(\u001b[38;5;124m\"\u001b[39m\u001b[38;5;124mExpected attributes\u001b[39m\u001b[38;5;124m\"\u001b[39m)\n",
      "File \u001b[1;32m~\\Anaconda3\\envs\\oasis\\lib\\site-packages\\paramiko\\sftp_client.py:822\u001b[0m, in \u001b[0;36mSFTPClient._request\u001b[1;34m(self, t, *arg)\u001b[0m\n\u001b[0;32m    820\u001b[0m \u001b[38;5;28;01mdef\u001b[39;00m \u001b[38;5;21m_request\u001b[39m(\u001b[38;5;28mself\u001b[39m, t, \u001b[38;5;241m*\u001b[39marg):\n\u001b[0;32m    821\u001b[0m     num \u001b[38;5;241m=\u001b[39m \u001b[38;5;28mself\u001b[39m\u001b[38;5;241m.\u001b[39m_async_request(\u001b[38;5;28mtype\u001b[39m(\u001b[38;5;28;01mNone\u001b[39;00m), t, \u001b[38;5;241m*\u001b[39marg)\n\u001b[1;32m--> 822\u001b[0m     \u001b[38;5;28;01mreturn\u001b[39;00m \u001b[38;5;28;43mself\u001b[39;49m\u001b[38;5;241;43m.\u001b[39;49m\u001b[43m_read_response\u001b[49m\u001b[43m(\u001b[49m\u001b[43mnum\u001b[49m\u001b[43m)\u001b[49m\n",
      "File \u001b[1;32m~\\Anaconda3\\envs\\oasis\\lib\\site-packages\\paramiko\\sftp_client.py:874\u001b[0m, in \u001b[0;36mSFTPClient._read_response\u001b[1;34m(self, waitfor)\u001b[0m\n\u001b[0;32m    871\u001b[0m \u001b[38;5;28;01mif\u001b[39;00m num \u001b[38;5;241m==\u001b[39m waitfor:\n\u001b[0;32m    872\u001b[0m     \u001b[38;5;66;03m# synchronous\u001b[39;00m\n\u001b[0;32m    873\u001b[0m     \u001b[38;5;28;01mif\u001b[39;00m t \u001b[38;5;241m==\u001b[39m CMD_STATUS:\n\u001b[1;32m--> 874\u001b[0m         \u001b[38;5;28;43mself\u001b[39;49m\u001b[38;5;241;43m.\u001b[39;49m\u001b[43m_convert_status\u001b[49m\u001b[43m(\u001b[49m\u001b[43mmsg\u001b[49m\u001b[43m)\u001b[49m\n\u001b[0;32m    875\u001b[0m     \u001b[38;5;28;01mreturn\u001b[39;00m t, msg\n\u001b[0;32m    877\u001b[0m \u001b[38;5;66;03m# can not rewrite this to deal with E721, either as a None check\u001b[39;00m\n\u001b[0;32m    878\u001b[0m \u001b[38;5;66;03m# nor as not an instance of None or NoneType\u001b[39;00m\n",
      "File \u001b[1;32m~\\Anaconda3\\envs\\oasis\\lib\\site-packages\\paramiko\\sftp_client.py:903\u001b[0m, in \u001b[0;36mSFTPClient._convert_status\u001b[1;34m(self, msg)\u001b[0m\n\u001b[0;32m    900\u001b[0m     \u001b[38;5;28;01mraise\u001b[39;00m \u001b[38;5;167;01mEOFError\u001b[39;00m(text)\n\u001b[0;32m    901\u001b[0m \u001b[38;5;28;01melif\u001b[39;00m code \u001b[38;5;241m==\u001b[39m SFTP_NO_SUCH_FILE:\n\u001b[0;32m    902\u001b[0m     \u001b[38;5;66;03m# clever idea from john a. meinel: map the error codes to errno\u001b[39;00m\n\u001b[1;32m--> 903\u001b[0m     \u001b[38;5;28;01mraise\u001b[39;00m \u001b[38;5;167;01mIOError\u001b[39;00m(errno\u001b[38;5;241m.\u001b[39mENOENT, text)\n\u001b[0;32m    904\u001b[0m \u001b[38;5;28;01melif\u001b[39;00m code \u001b[38;5;241m==\u001b[39m SFTP_PERMISSION_DENIED:\n\u001b[0;32m    905\u001b[0m     \u001b[38;5;28;01mraise\u001b[39;00m \u001b[38;5;167;01mIOError\u001b[39;00m(errno\u001b[38;5;241m.\u001b[39mEACCES, text)\n",
      "\u001b[1;31mFileNotFoundError\u001b[0m: [Errno 2] No such file"
     ]
    }
   ],
   "source": [
    "# Bulk Insert\n",
    "for i in pd.date_range(start, end, freq = 'MS'):\n",
    "\n",
    "    # SFTP Connect\n",
    "    cnopts = pysftp.CnOpts()\n",
    "    cnopts.hostkeys = None\n",
    "\n",
    "    with pysftp.Connection(\n",
    "            '14.63.143.72',\n",
    "            port=2222,\n",
    "            username='oasisuser',\n",
    "            password='4FTPuser1!',\n",
    "            cnopts=cnopts) as sftp:\n",
    "\n",
    "        # file 내려 받기\n",
    "        sftp.get(filename + i.strftime(\"%Y%m\") + '.zip', dir + filename + i.strftime(\"%Y%m\") + '.zip')\n",
    "\n",
    "    # 압축 풀기\n",
    "    zipfile.ZipFile(dir + filename + i.strftime(\"%Y%m\") + '.zip').extractall(dir)\n",
    "\n",
    "    # read & null 처리\n",
    "    df = pd.read_csv(dir + filename + i.strftime(\"%Y%m\") + '.csv', sep='|', low_memory=False)\n",
    "    df = df.replace({np.nan: None})\n",
    "\n",
    "    # values 설정\n",
    "    val = '(' + ('%s,' * len(df.columns))[:-1] + ')'\n",
    "\n",
    "    # execute_mogrify\n",
    "    def execute_mogrify(conn, df, table, val):\n",
    "        # Create a list of tuples from the dataframe values\n",
    "        tuples = [tuple(x) for x in df.to_numpy()]\n",
    "        # Comma-separated dataframe columns\n",
    "        cols = ','.join(list(df.columns))\n",
    "        # SQL query to execute\n",
    "        cursor = conn.cursor()\n",
    "        values = [cursor.mogrify(val, tup).decode('utf8') for tup in\n",
    "                  tuples]\n",
    "        query = \"INSERT INTO %s(%s) VALUES \" % (table, cols) + \",\".join(values)\n",
    "\n",
    "        try:\n",
    "            cursor.execute(query, tuples)\n",
    "            conn.commit()\n",
    "        except (Exception, psycopg2.DatabaseError) as error:\n",
    "            print(\"Error: %s\" % error)\n",
    "            conn.rollback()\n",
    "            cursor.close()\n",
    "            return 1\n",
    "        cursor.close()\n",
    "\n",
    "    # insert\n",
    "    for j in range(0, len(df), 10000):\n",
    "        tmp = df[j:j + 10000]\n",
    "        print(datetime.datetime.now(), ' : ', j)\n",
    "        execute_mogrify(conn, tmp, table, val)\n",
    "        tmp = pd.DataFrame()\n",
    "\n",
    "\n",
    "    # row count\n",
    "    print(len(df))"
   ]
  }
 ],
 "metadata": {
  "kernelspec": {
   "display_name": "oasis",
   "language": "python",
   "name": "oasis"
  },
  "language_info": {
   "codemirror_mode": {
    "name": "ipython",
    "version": 3
   },
   "file_extension": ".py",
   "mimetype": "text/x-python",
   "name": "python",
   "nbconvert_exporter": "python",
   "pygments_lexer": "ipython3",
   "version": "3.8.13"
  }
 },
 "nbformat": 4,
 "nbformat_minor": 5
}
