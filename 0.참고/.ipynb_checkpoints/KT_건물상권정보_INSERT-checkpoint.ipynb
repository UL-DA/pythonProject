{
 "cells": [
  {
   "cell_type": "code",
   "execution_count": 5,
   "id": "579cf0b1-3378-4505-8143-c70f13811788",
   "metadata": {},
   "outputs": [],
   "source": [
    "# module\n",
    "import pysftp\n",
    "import psycopg2\n",
    "import pandas as pd\n",
    "import numpy as np\n",
    "import zipfile\n",
    "import datetime"
   ]
  },
  {
   "cell_type": "code",
   "execution_count": 7,
   "id": "2d039c47-4d9d-474b-8998-6a8272d45b89",
   "metadata": {},
   "outputs": [],
   "source": [
    "# 변수 선언\n",
    "start = '2021-12'\n",
    "end = '2022-06'\n",
    "table = 'm1.kt_bldg_trading_area'\n",
    "filename = 'dp_frc_basexy_ftc_m_sum_'\n",
    "dir = 'C:\\oasis\\KT_data'"
   ]
  },
  {
   "cell_type": "code",
   "execution_count": null,
   "id": "f57adaeb-140e-4f3f-80ed-b2301e129037",
   "metadata": {},
   "outputs": [],
   "source": [
    "# DB Connect\n",
    "conn = psycopg2.connect(\n",
    "    host = 'redshift-cluster-1.ctvbwnnvbdkl.ap-northeast-2.redshift.amazonaws.com',\n",
    "    port = 5439,\n",
    "    dbname = 'dev',\n",
    "    user = 'awsuser',\n",
    "    password = 'cremaoAdmin1234qwer!!'\n",
    ")"
   ]
  },
  {
   "cell_type": "code",
   "execution_count": null,
   "id": "4b0ec7ab-4aaa-407d-aeba-2f5af37f08df",
   "metadata": {},
   "outputs": [],
   "source": [
    "# Bulk Insert\n",
    "def execute_mogrify(conn, df, table):\n",
    "    # Create a list of tuples from the dataframe values\n",
    "    tuples = [tuple(x) for x in df.to_numpy()]\n",
    "    # Comma-separated dataframe columns\n",
    "    cols = ','.join(list(df.columns))\n",
    "    # SQL query to execute\n",
    "    cursor = conn.cursor()\n",
    "    values = [cursor.mogrify(\"(%s,%s,%s,%s,%s,%s,%s,%s,%s,%s,%s,%s,%s,%s,%s,%s,%s,%s,%s,%s,%s)\", tup).decode('utf8') for tup in tuples]\n",
    "    query = \"INSERT INTO %s(%s) VALUES \" % (table, cols) + \",\".join(values)\n",
    "\n",
    "    try:\n",
    "        cursor.execute(query, tuples)\n",
    "        conn.commit()\n",
    "    except (Exception, psycopg2.DatabaseError) as error:\n",
    "        print(\"Error: %s\" % error)\n",
    "        conn.rollback()\n",
    "        cursor.close()\n",
    "        return 1\n",
    "    cursor.close()"
   ]
  },
  {
   "cell_type": "code",
   "execution_count": null,
   "id": "51148c50-d63c-40f6-88fc-891394577236",
   "metadata": {},
   "outputs": [],
   "source": [
    "# SFTP Connect\n",
    "cnopts = pysftp.CnOpts()\n",
    "cnopts.hostkeys = None\n",
    "\n",
    "with pysftp.Connection(\n",
    "        '14.63.143.72',\n",
    "        port = 2222,\n",
    "        username = 'oasisuser',\n",
    "        password = '4FTPuser1!',\n",
    "        cnopts = cnopts) as sftp:\n",
    "\n",
    "    for i in pd.date_range(start, end, freq = 'MS'):\n",
    "        # file 내려 받기\n",
    "        sftp.get(filename + i.strftime(\"%Y%m\") + '.zip', dir + filename + i.strftime(\"%Y%m\") + '.zip')\n",
    "        # 압축 풀기\n",
    "        zipfile.ZipFile(dir + filename + i.strftime(\"%Y%m\") + '.zip').extractall(dir)\n",
    "        # read\n",
    "        df = pd.read_csv(dir + filename + i.strftime(\"%Y%m\") + '.csv', sep='|', low_memory=False)\n",
    "        df.replace({np.nan: None})\n",
    "        # insert\n",
    "        for j in range(0, len(df), 100000):\n",
    "            tmp = df[j:j + 100000]\n",
    "            print(datetime.datetime.now(), ' : ', j)\n",
    "            execute_mogrify(conn, tmp, table)\n",
    "            tmp = pd.DataFrame()"
   ]
  }
 ],
 "metadata": {
  "kernelspec": {
   "display_name": "oasis",
   "language": "python",
   "name": "oasis"
  },
  "language_info": {
   "codemirror_mode": {
    "name": "ipython",
    "version": 3
   },
   "file_extension": ".py",
   "mimetype": "text/x-python",
   "name": "python",
   "nbconvert_exporter": "python",
   "pygments_lexer": "ipython3",
   "version": "3.8.13"
  }
 },
 "nbformat": 4,
 "nbformat_minor": 5
}
