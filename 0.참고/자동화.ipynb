{
 "cells": [
  {
   "cell_type": "markdown",
   "id": "d5fd64db-f2cf-4249-88e3-f286426bb4f8",
   "metadata": {},
   "source": [
    "### 컴퓨터 자동화"
   ]
  },
  {
   "cell_type": "code",
   "execution_count": 1,
   "id": "0a40b6b9-38e7-498c-aeed-eaaf08cfb761",
   "metadata": {
    "collapsed": true,
    "jupyter": {
     "outputs_hidden": true
    },
    "tags": []
   },
   "outputs": [
    {
     "name": "stdout",
     "output_type": "stream",
     "text": [
      "Collecting pyautogui\n",
      "  Downloading PyAutoGUI-0.9.53.tar.gz (59 kB)\n",
      "Collecting pymsgbox\n",
      "  Downloading PyMsgBox-1.0.9.tar.gz (18 kB)\n",
      "  Installing build dependencies: started\n",
      "  Installing build dependencies: finished with status 'done'\n",
      "  Getting requirements to build wheel: started\n",
      "  Getting requirements to build wheel: finished with status 'done'\n",
      "    Preparing wheel metadata: started\n",
      "    Preparing wheel metadata: finished with status 'done'\n",
      "Collecting PyTweening>=1.0.1\n",
      "  Downloading pytweening-1.0.4.tar.gz (14 kB)\n",
      "Collecting pyscreeze>=0.1.21\n",
      "  Downloading PyScreeze-0.1.28.tar.gz (25 kB)\n",
      "  Installing build dependencies: started\n",
      "  Installing build dependencies: finished with status 'done'\n",
      "  Getting requirements to build wheel: started\n",
      "  Getting requirements to build wheel: finished with status 'done'\n",
      "    Preparing wheel metadata: started\n",
      "    Preparing wheel metadata: finished with status 'done'\n",
      "Collecting pygetwindow>=0.0.5\n",
      "  Downloading PyGetWindow-0.0.9.tar.gz (9.7 kB)\n",
      "Collecting mouseinfo\n",
      "  Downloading MouseInfo-0.1.3.tar.gz (10 kB)\n",
      "Collecting pyrect\n",
      "  Downloading PyRect-0.2.0.tar.gz (17 kB)\n",
      "Requirement already satisfied: Pillow>=6.2.1 in c:\\users\\user\\anaconda3\\envs\\oasis\\lib\\site-packages (from pyscreeze>=0.1.21->pyautogui) (9.0.1)\n",
      "Collecting pyperclip\n",
      "  Downloading pyperclip-1.8.2.tar.gz (20 kB)\n",
      "Building wheels for collected packages: pyautogui, pygetwindow, pyscreeze, PyTweening, mouseinfo, pymsgbox, pyperclip, pyrect\n",
      "  Building wheel for pyautogui (setup.py): started\n",
      "  Building wheel for pyautogui (setup.py): finished with status 'done'\n",
      "  Created wheel for pyautogui: filename=PyAutoGUI-0.9.53-py3-none-any.whl size=36614 sha256=3c26465b898fb39302bcb17527505dff6c6f8f18b48a032baa6e42f4c041402c\n",
      "  Stored in directory: c:\\users\\user\\appdata\\local\\pip\\cache\\wheels\\54\\04\\f7\\55704a9d374ed923785a4fdc0ef00151fa25306b3b93345532\n",
      "  Building wheel for pygetwindow (setup.py): started\n",
      "  Building wheel for pygetwindow (setup.py): finished with status 'done'\n",
      "  Created wheel for pygetwindow: filename=PyGetWindow-0.0.9-py3-none-any.whl size=11081 sha256=007e66b669b403e4d407293649d5fd6515da9bc7e748afa080d4b419322682da\n",
      "  Stored in directory: c:\\users\\user\\appdata\\local\\pip\\cache\\wheels\\91\\e3\\04\\184bda98ec7f7d5f0ba1f372bcf7b3ba86325151ae1dd690fe\n",
      "  Building wheel for pyscreeze (PEP 517): started\n",
      "  Building wheel for pyscreeze (PEP 517): finished with status 'done'\n",
      "  Created wheel for pyscreeze: filename=PyScreeze-0.1.28-py3-none-any.whl size=13009 sha256=ade842f638504b1b50c97dee4ce74910423376966ad45aed0cbe446bea4bb5f2\n",
      "  Stored in directory: c:\\users\\user\\appdata\\local\\pip\\cache\\wheels\\b1\\b0\\5c\\9fb5beb2d6c708479a670e92f4ab3b54523a15c9cd4a46e24e\n",
      "  Building wheel for PyTweening (setup.py): started\n",
      "  Building wheel for PyTweening (setup.py): finished with status 'done'\n",
      "  Created wheel for PyTweening: filename=pytweening-1.0.4-py3-none-any.whl size=5854 sha256=f6467f0e8046960d0c48a5e40f6a597b3b2f5bf8ff5da506fd1918193dc2a936\n",
      "  Stored in directory: c:\\users\\user\\appdata\\local\\pip\\cache\\wheels\\a2\\1b\\69\\dc477653ccc19228bf53af76c623e4e82e5dc1b6f78d5c4d35\n",
      "  Building wheel for mouseinfo (setup.py): started\n",
      "  Building wheel for mouseinfo (setup.py): finished with status 'done'\n",
      "  Created wheel for mouseinfo: filename=MouseInfo-0.1.3-py3-none-any.whl size=10906 sha256=53bab62b8b7b0cca052c30ca3d0ea695893b583a1045e5a5d3134f118a554769\n",
      "  Stored in directory: c:\\users\\user\\appdata\\local\\pip\\cache\\wheels\\d1\\72\\fb\\35f403de66285df8ecca7049bcc61bfb57aba0f76d1f08f7eb\n",
      "  Building wheel for pymsgbox (PEP 517): started\n",
      "  Building wheel for pymsgbox (PEP 517): finished with status 'done'\n",
      "  Created wheel for pymsgbox: filename=PyMsgBox-1.0.9-py3-none-any.whl size=7406 sha256=94916065f9fcfee45922cab665486ca08e59eb4f4b2b64af9b468c930e673ec2\n",
      "  Stored in directory: c:\\users\\user\\appdata\\local\\pip\\cache\\wheels\\91\\28\\0d\\f4eb606d38276836237d6dc2abf094241e6db5682a126e0389\n",
      "  Building wheel for pyperclip (setup.py): started\n",
      "  Building wheel for pyperclip (setup.py): finished with status 'done'\n",
      "  Created wheel for pyperclip: filename=pyperclip-1.8.2-py3-none-any.whl size=11137 sha256=4b9ea3ba4716214f98201aa7541949a12cb3a36dada00708832174df3b8fc038\n",
      "  Stored in directory: c:\\users\\user\\appdata\\local\\pip\\cache\\wheels\\7f\\1a\\65\\84ff8c386bec21fca6d220ea1f5498a0367883a78dd5ba6122\n",
      "  Building wheel for pyrect (setup.py): started\n",
      "  Building wheel for pyrect (setup.py): finished with status 'done'\n",
      "  Created wheel for pyrect: filename=PyRect-0.2.0-py2.py3-none-any.whl size=11196 sha256=7781ce9d8fe43882558851cc54a2bd44214549d71c98ea5ad58a49765a0b26c0\n",
      "  Stored in directory: c:\\users\\user\\appdata\\local\\pip\\cache\\wheels\\1b\\c1\\cc\\3d6515746ab138a303b6b5d38181399703488f8109b734e768\n",
      "Successfully built pyautogui pygetwindow pyscreeze PyTweening mouseinfo pymsgbox pyperclip pyrect\n",
      "Installing collected packages: pyrect, pyperclip, PyTweening, pyscreeze, pymsgbox, pygetwindow, mouseinfo, pyautogui\n",
      "Successfully installed PyTweening-1.0.4 mouseinfo-0.1.3 pyautogui-0.9.53 pygetwindow-0.0.9 pymsgbox-1.0.9 pyperclip-1.8.2 pyrect-0.2.0 pyscreeze-0.1.28\n"
     ]
    }
   ],
   "source": [
    "# !pip install pyautogui"
   ]
  },
  {
   "cell_type": "code",
   "execution_count": 3,
   "id": "4ea237db-137e-43d9-9c3e-d0f51e570331",
   "metadata": {},
   "outputs": [],
   "source": [
    "import pyautogui"
   ]
  },
  {
   "cell_type": "code",
   "execution_count": 9,
   "id": "9a9f0831-bb51-447e-a67c-ae3eac3b5234",
   "metadata": {},
   "outputs": [
    {
     "data": {
      "text/plain": [
       "Size(width=1920, height=1080)"
      ]
     },
     "execution_count": 9,
     "metadata": {},
     "output_type": "execute_result"
    }
   ],
   "source": [
    "# 화면 크기 출력\n",
    "pyautogui.size()"
   ]
  },
  {
   "cell_type": "code",
   "execution_count": 10,
   "id": "d7ad36d1-34d1-43e3-b567-fb9ad1d3479c",
   "metadata": {},
   "outputs": [
    {
     "data": {
      "text/plain": [
       "Point(x=2561, y=440)"
      ]
     },
     "execution_count": 10,
     "metadata": {},
     "output_type": "execute_result"
    }
   ],
   "source": [
    "# 마우스 위치\n",
    "pyautogui.position()"
   ]
  },
  {
   "cell_type": "code",
   "execution_count": 12,
   "id": "c5924f59-b4f6-4c59-a269-431a6ad4821e",
   "metadata": {},
   "outputs": [],
   "source": [
    "# 마우스 이동\n",
    "pyautogui.moveTo(100, 200, 2) # x 100, y 200 위치로 2초동안 이동"
   ]
  },
  {
   "cell_type": "code",
   "execution_count": 14,
   "id": "9f46bf22-dd8f-4cfc-a9f3-0306fcf6087e",
   "metadata": {},
   "outputs": [],
   "source": [
    "# 마우스 클릭\n",
    "pyautogui.doubleClick()\n",
    "pyautogui.click(clicks=3, interval=1) # 3번 클릭할건데 1초마다"
   ]
  },
  {
   "cell_type": "code",
   "execution_count": 15,
   "id": "72259e10-51d7-419e-b246-5e77aec2cf57",
   "metadata": {},
   "outputs": [],
   "source": [
    "# 드래그\n",
    "# 816,81 -> 539,80\n",
    "pyautogui.moveTo(816,81, 2) # 시작 위치 지정\n",
    "pyautogui.dragTo(539,80, 2) # 드래그"
   ]
  },
  {
   "cell_type": "markdown",
   "id": "9877c3df-7e1d-445c-9fce-588453bbf9de",
   "metadata": {},
   "source": [
    "### 이메일 자동화"
   ]
  },
  {
   "cell_type": "code",
   "execution_count": 17,
   "id": "052262ed-e3ba-4f05-ba3c-d1e2b79d7ca5",
   "metadata": {
    "collapsed": true,
    "jupyter": {
     "outputs_hidden": true
    },
    "tags": []
   },
   "outputs": [
    {
     "name": "stdout",
     "output_type": "stream",
     "text": [
      "Collecting imap_tools\n",
      "  Downloading imap_tools-0.56.0-py3-none-any.whl (31 kB)\n",
      "Installing collected packages: imap-tools\n",
      "Successfully installed imap-tools-0.56.0\n"
     ]
    }
   ],
   "source": [
    "# !pip install imap_tools"
   ]
  },
  {
   "cell_type": "code",
   "execution_count": null,
   "id": "a3fb5156-93d4-460a-8932-33a3182848e7",
   "metadata": {},
   "outputs": [],
   "source": []
  }
 ],
 "metadata": {
  "kernelspec": {
   "display_name": "oasis",
   "language": "python",
   "name": "oasis"
  },
  "language_info": {
   "codemirror_mode": {
    "name": "ipython",
    "version": 3
   },
   "file_extension": ".py",
   "mimetype": "text/x-python",
   "name": "python",
   "nbconvert_exporter": "python",
   "pygments_lexer": "ipython3",
   "version": "3.8.13"
  }
 },
 "nbformat": 4,
 "nbformat_minor": 5
}
